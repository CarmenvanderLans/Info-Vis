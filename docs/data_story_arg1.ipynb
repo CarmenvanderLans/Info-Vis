{
 "cells": [
  {
   "attachments": {},
   "cell_type": "markdown",
   "id": "860fd4ef",
   "metadata": {},
   "source": [
    "# Perspectief 1: Verschillen in milieubeleid verklaren verschillen in landbouwuitstoot\n",
    "\n",
    "De uitstoot van de landbouwsector verschilt sterk tussen landen. In dit perspectief onderzoeken we hoe beleidskeuzes zoals milieuregels en landbouwsubsidies bijdragen aan die verschillen. We gebruiken internationale data om te analyseren welke landen efficiënt produceren en welke landen vervuilende landbouw blijven stimuleren.\n"
   ]
  },
  {
   "attachments": {},
   "cell_type": "markdown",
   "id": "1547d891",
   "metadata": {},
   "source": [
    "### Argument 1: Strenger milieubeleid leidt tot lagere uitstoot per ton voedsel\n",
    "\n",
    "Landen verschillen sterk in hoe streng hun milieubeleid is. In sommige landen gelden duidelijke regels voor het gebruik van kunstmest, mestverwerking of methaanuitstoot. Andere landen leggen nauwelijks beperkingen op aan de landbouwsector. De aanname is dat streng milieubeleid boeren aanzet tot efficiëntere en schonere productie.\n",
    "\n",
    "We gebruiken de Environmental Performance Index (EPI) als indicator voor hoe actief landen hun milieubeleid invullen. Deze score wordt jaarlijks gepubliceerd en kijkt onder andere naar klimaatmaatregelen, landbouwimpact en duurzaamheid van het landgebruik. Door deze scores te koppelen aan uitstootcijfers uit de landbouwsector (in verhouding tot de hoeveelheid geproduceerd voedsel), kunnen we zien of beleid echt effect heeft.\n",
    "\n",
    "In onderstaande kaart combineren we beide datasets: de kleur laat zien hoe goed een land scoort op milieubeleid, terwijl de grootte van de cirkel aangeeft hoeveel CO₂-uitstoot er vrijkomt per ton voedsel dat wordt geproduceerd."
   ]
  },
  {
   "cell_type": "code",
   "execution_count": 1,
   "id": "c4b08c14",
   "metadata": {},
   "outputs": [],
   "source": [
    "import pandas as pd\n",
    "\n",
    "#bestanden inladen\n",
    "emissies = pd.read_csv(\"FAOSTAT_emissions.csv\")\n",
    "productie = pd.read_csv(\"FAOSTAT_production.csv\")\n",
    "epi = pd.read_csv(\"epi2022results05302022.csv\")"
   ]
  },
  {
   "cell_type": "code",
   "execution_count": 3,
   "id": "526024fe",
   "metadata": {},
   "outputs": [],
   "source": [
    "# Bereken totale uitstoot per land\n",
    "emissie_per_land = emissies.groupby(\"Area\")[\"Value\"].sum().reset_index()\n",
    "emissie_per_land.columns = [\"Country\", \"Emissions_kt\"]\n",
    "\n",
    "# Bereken totale productie per land\n",
    "productie_per_land = productie.groupby(\"Area\")[\"Value\"].sum().reset_index()\n",
    "productie_per_land.columns = [\"Country\", \"Production_kt\"]\n",
    "\n",
    "# Combineer uitstoot en productie\n",
    "combined = pd.merge(emissie_per_land, productie_per_land, on=\"Country\")\n",
    "combined[\"Emissions_per_ton\"] = combined[\"Emissions_kt\"] / combined[\"Production_kt\"]"
   ]
  },
  {
   "cell_type": "code",
   "execution_count": 4,
   "id": "988a1a53",
   "metadata": {},
   "outputs": [],
   "source": [
    "# Voeg EPI-score toe\n",
    "epi = epi.rename(columns={\"country\": \"Country\", \"EPI.new\": \"EPI_Score\"})\n",
    "final = pd.merge(combined, epi[[\"Country\", \"EPI_Score\"]], on=\"Country\")"
   ]
  },
  {
   "cell_type": "code",
   "execution_count": 5,
   "id": "4429afa0",
   "metadata": {},
   "outputs": [
    {
     "data": {
      "application/vnd.plotly.v1+json": {
       "config": {
        "plotlyServerURL": "https://plot.ly"
       },
       "data": [
        {
         "coloraxis": "coloraxis",
         "geo": "geo",
         "hovertemplate": "Country=%{location}<br>EPI_Score=%{z}<extra></extra>",
         "locationmode": "country names",
         "locations": [
          "Afghanistan",
          "Albania",
          "Algeria",
          "Angola",
          "Antigua and Barbuda",
          "Argentina",
          "Armenia",
          "Australia",
          "Austria",
          "Azerbaijan",
          "Bahamas",
          "Bahrain",
          "Bangladesh",
          "Barbados",
          "Belarus",
          "Belgium",
          "Belize",
          "Benin",
          "Bhutan",
          "Bosnia and Herzegovina",
          "Botswana",
          "Brazil",
          "Brunei Darussalam",
          "Bulgaria",
          "Burkina Faso",
          "Burundi",
          "Cabo Verde",
          "Cambodia",
          "Cameroon",
          "Canada",
          "Central African Republic",
          "Chad",
          "Chile",
          "China",
          "Colombia",
          "Comoros",
          "Costa Rica",
          "Croatia",
          "Cuba",
          "Cyprus",
          "Denmark",
          "Djibouti",
          "Dominica",
          "Dominican Republic",
          "Ecuador",
          "Egypt",
          "El Salvador",
          "Equatorial Guinea",
          "Eritrea",
          "Estonia",
          "Eswatini",
          "Ethiopia",
          "Fiji",
          "Finland",
          "France",
          "Gabon",
          "Gambia",
          "Georgia",
          "Germany",
          "Ghana",
          "Greece",
          "Grenada",
          "Guatemala",
          "Guinea",
          "Guinea-Bissau",
          "Guyana",
          "Haiti",
          "Honduras",
          "Hungary",
          "Iceland",
          "India",
          "Indonesia",
          "Iraq",
          "Ireland",
          "Israel",
          "Italy",
          "Jamaica",
          "Japan",
          "Jordan",
          "Kazakhstan",
          "Kenya",
          "Kiribati",
          "Kuwait",
          "Kyrgyzstan",
          "Latvia",
          "Lebanon",
          "Lesotho",
          "Liberia",
          "Lithuania",
          "Luxembourg",
          "Madagascar",
          "Malawi",
          "Malaysia",
          "Maldives",
          "Mali",
          "Malta",
          "Marshall Islands",
          "Mauritania",
          "Mauritius",
          "Mexico",
          "Mongolia",
          "Montenegro",
          "Morocco",
          "Mozambique",
          "Myanmar",
          "Namibia",
          "Nepal",
          "New Zealand",
          "Nicaragua",
          "Niger",
          "Nigeria",
          "North Macedonia",
          "Norway",
          "Oman",
          "Pakistan",
          "Panama",
          "Papua New Guinea",
          "Paraguay",
          "Peru",
          "Philippines",
          "Poland",
          "Portugal",
          "Qatar",
          "Romania",
          "Rwanda",
          "Saint Lucia",
          "Saint Vincent and the Grenadines",
          "Samoa",
          "Sao Tome and Principe",
          "Saudi Arabia",
          "Senegal",
          "Serbia",
          "Seychelles",
          "Sierra Leone",
          "Singapore",
          "Slovakia",
          "Slovenia",
          "Solomon Islands",
          "South Africa",
          "Spain",
          "Sri Lanka",
          "Sudan",
          "Suriname",
          "Sweden",
          "Switzerland",
          "Tajikistan",
          "Thailand",
          "Timor-Leste",
          "Togo",
          "Tonga",
          "Trinidad and Tobago",
          "Tunisia",
          "Turkmenistan",
          "Uganda",
          "Ukraine",
          "United Arab Emirates",
          "United States of America",
          "Uruguay",
          "Uzbekistan",
          "Vanuatu",
          "Viet Nam",
          "Zambia",
          "Zimbabwe"
         ],
         "name": "",
         "type": "choropleth",
         "z": [
          43.6,
          47.1,
          29.6,
          30.5,
          52.4,
          41.1,
          48.3,
          60.1,
          66.5,
          38.6,
          56.2,
          42,
          23.1,
          53.2,
          48.5,
          58.2,
          50,
          29.6,
          42.5,
          39.4,
          54,
          43.6,
          45.7,
          51.9,
          35.5,
          30.5,
          41.9,
          30.1,
          30.2,
          50,
          44.9,
          28.1,
          46.7,
          28.4,
          42.4,
          42.5,
          46.3,
          60.2,
          47.5,
          58,
          77.9,
          47.5,
          51.2,
          42.2,
          46.5,
          35.5,
          40.8,
          44.8,
          31.7,
          61.4,
          44.9,
          31.8,
          31.3,
          76.5,
          62.5,
          49.7,
          36.4,
          39.1,
          62.4,
          27.7,
          56.2,
          47.9,
          28,
          31.6,
          40.2,
          38.5,
          26.1,
          36.5,
          55.1,
          62.8,
          18.9,
          28.2,
          27.8,
          57.4,
          48.2,
          57.7,
          45.6,
          57.2,
          43.6,
          40.9,
          30.8,
          49,
          42.4,
          35.7,
          61.1,
          32.2,
          32.3,
          24.9,
          55.9,
          72.3,
          28,
          40.6,
          35,
          37.4,
          28.5,
          75.2,
          36.2,
          28.1,
          44.8,
          45.5,
          29.6,
          46.9,
          28.4,
          31.7,
          19.4,
          50.9,
          28.3,
          56.7,
          37.7,
          37.7,
          28.3,
          54.3,
          59.3,
          30.7,
          24.6,
          50.5,
          24.8,
          40.9,
          39.8,
          28.9,
          50.6,
          50.4,
          33,
          56,
          32.8,
          49.4,
          53.2,
          36.4,
          52.9,
          37.9,
          33.9,
          43.9,
          55.6,
          32.7,
          50.9,
          60,
          67.3,
          35,
          37.2,
          56.6,
          34.7,
          27.6,
          45.9,
          72.7,
          65.9,
          37.1,
          38.1,
          35.1,
          34,
          43.8,
          47.8,
          40.7,
          37,
          35.8,
          49.6,
          52.4,
          51.1,
          37.4,
          38.2,
          36.9,
          20.1,
          38.4,
          46.2
         ]
        },
        {
         "geo": "geo",
         "hovertemplate": "<b>%{hovertext}</b><br><br>Emissions_per_ton=%{marker.size}<br>Country=%{location}<extra></extra>",
         "hovertext": [
          "Afghanistan",
          "Albania",
          "Algeria",
          "Angola",
          "Antigua and Barbuda",
          "Argentina",
          "Armenia",
          "Australia",
          "Austria",
          "Azerbaijan",
          "Bahamas",
          "Bahrain",
          "Bangladesh",
          "Barbados",
          "Belarus",
          "Belgium",
          "Belize",
          "Benin",
          "Bhutan",
          "Bosnia and Herzegovina",
          "Botswana",
          "Brazil",
          "Brunei Darussalam",
          "Bulgaria",
          "Burkina Faso",
          "Burundi",
          "Cabo Verde",
          "Cambodia",
          "Cameroon",
          "Canada",
          "Central African Republic",
          "Chad",
          "Chile",
          "China",
          "Colombia",
          "Comoros",
          "Costa Rica",
          "Croatia",
          "Cuba",
          "Cyprus",
          "Denmark",
          "Djibouti",
          "Dominica",
          "Dominican Republic",
          "Ecuador",
          "Egypt",
          "El Salvador",
          "Equatorial Guinea",
          "Eritrea",
          "Estonia",
          "Eswatini",
          "Ethiopia",
          "Fiji",
          "Finland",
          "France",
          "Gabon",
          "Gambia",
          "Georgia",
          "Germany",
          "Ghana",
          "Greece",
          "Grenada",
          "Guatemala",
          "Guinea",
          "Guinea-Bissau",
          "Guyana",
          "Haiti",
          "Honduras",
          "Hungary",
          "Iceland",
          "India",
          "Indonesia",
          "Iraq",
          "Ireland",
          "Israel",
          "Italy",
          "Jamaica",
          "Japan",
          "Jordan",
          "Kazakhstan",
          "Kenya",
          "Kiribati",
          "Kuwait",
          "Kyrgyzstan",
          "Latvia",
          "Lebanon",
          "Lesotho",
          "Liberia",
          "Lithuania",
          "Luxembourg",
          "Madagascar",
          "Malawi",
          "Malaysia",
          "Maldives",
          "Mali",
          "Malta",
          "Marshall Islands",
          "Mauritania",
          "Mauritius",
          "Mexico",
          "Mongolia",
          "Montenegro",
          "Morocco",
          "Mozambique",
          "Myanmar",
          "Namibia",
          "Nepal",
          "New Zealand",
          "Nicaragua",
          "Niger",
          "Nigeria",
          "North Macedonia",
          "Norway",
          "Oman",
          "Pakistan",
          "Panama",
          "Papua New Guinea",
          "Paraguay",
          "Peru",
          "Philippines",
          "Poland",
          "Portugal",
          "Qatar",
          "Romania",
          "Rwanda",
          "Saint Lucia",
          "Saint Vincent and the Grenadines",
          "Samoa",
          "Sao Tome and Principe",
          "Saudi Arabia",
          "Senegal",
          "Serbia",
          "Seychelles",
          "Sierra Leone",
          "Singapore",
          "Slovakia",
          "Slovenia",
          "Solomon Islands",
          "South Africa",
          "Spain",
          "Sri Lanka",
          "Sudan",
          "Suriname",
          "Sweden",
          "Switzerland",
          "Tajikistan",
          "Thailand",
          "Timor-Leste",
          "Togo",
          "Tonga",
          "Trinidad and Tobago",
          "Tunisia",
          "Turkmenistan",
          "Uganda",
          "Ukraine",
          "United Arab Emirates",
          "United States of America",
          "Uruguay",
          "Uzbekistan",
          "Vanuatu",
          "Viet Nam",
          "Zambia",
          "Zimbabwe"
         ],
         "legendgroup": "",
         "locationmode": "country names",
         "locations": [
          "Afghanistan",
          "Albania",
          "Algeria",
          "Angola",
          "Antigua and Barbuda",
          "Argentina",
          "Armenia",
          "Australia",
          "Austria",
          "Azerbaijan",
          "Bahamas",
          "Bahrain",
          "Bangladesh",
          "Barbados",
          "Belarus",
          "Belgium",
          "Belize",
          "Benin",
          "Bhutan",
          "Bosnia and Herzegovina",
          "Botswana",
          "Brazil",
          "Brunei Darussalam",
          "Bulgaria",
          "Burkina Faso",
          "Burundi",
          "Cabo Verde",
          "Cambodia",
          "Cameroon",
          "Canada",
          "Central African Republic",
          "Chad",
          "Chile",
          "China",
          "Colombia",
          "Comoros",
          "Costa Rica",
          "Croatia",
          "Cuba",
          "Cyprus",
          "Denmark",
          "Djibouti",
          "Dominica",
          "Dominican Republic",
          "Ecuador",
          "Egypt",
          "El Salvador",
          "Equatorial Guinea",
          "Eritrea",
          "Estonia",
          "Eswatini",
          "Ethiopia",
          "Fiji",
          "Finland",
          "France",
          "Gabon",
          "Gambia",
          "Georgia",
          "Germany",
          "Ghana",
          "Greece",
          "Grenada",
          "Guatemala",
          "Guinea",
          "Guinea-Bissau",
          "Guyana",
          "Haiti",
          "Honduras",
          "Hungary",
          "Iceland",
          "India",
          "Indonesia",
          "Iraq",
          "Ireland",
          "Israel",
          "Italy",
          "Jamaica",
          "Japan",
          "Jordan",
          "Kazakhstan",
          "Kenya",
          "Kiribati",
          "Kuwait",
          "Kyrgyzstan",
          "Latvia",
          "Lebanon",
          "Lesotho",
          "Liberia",
          "Lithuania",
          "Luxembourg",
          "Madagascar",
          "Malawi",
          "Malaysia",
          "Maldives",
          "Mali",
          "Malta",
          "Marshall Islands",
          "Mauritania",
          "Mauritius",
          "Mexico",
          "Mongolia",
          "Montenegro",
          "Morocco",
          "Mozambique",
          "Myanmar",
          "Namibia",
          "Nepal",
          "New Zealand",
          "Nicaragua",
          "Niger",
          "Nigeria",
          "North Macedonia",
          "Norway",
          "Oman",
          "Pakistan",
          "Panama",
          "Papua New Guinea",
          "Paraguay",
          "Peru",
          "Philippines",
          "Poland",
          "Portugal",
          "Qatar",
          "Romania",
          "Rwanda",
          "Saint Lucia",
          "Saint Vincent and the Grenadines",
          "Samoa",
          "Sao Tome and Principe",
          "Saudi Arabia",
          "Senegal",
          "Serbia",
          "Seychelles",
          "Sierra Leone",
          "Singapore",
          "Slovakia",
          "Slovenia",
          "Solomon Islands",
          "South Africa",
          "Spain",
          "Sri Lanka",
          "Sudan",
          "Suriname",
          "Sweden",
          "Switzerland",
          "Tajikistan",
          "Thailand",
          "Timor-Leste",
          "Togo",
          "Tonga",
          "Trinidad and Tobago",
          "Tunisia",
          "Turkmenistan",
          "Uganda",
          "Ukraine",
          "United Arab Emirates",
          "United States of America",
          "Uruguay",
          "Uzbekistan",
          "Vanuatu",
          "Viet Nam",
          "Zambia",
          "Zimbabwe"
         ],
         "marker": {
          "color": "lightblue",
          "size": [
           0.002898862962610612,
           0.002120062605600051,
           0.009446176906859971,
           0.004879722126956905,
           0.023722081426822403,
           0.0022515467166070342,
           0.0030104371142605393,
           0.004651092775570363,
           0.003597058897587404,
           0.0053167996250166275,
           0.01853000856035883,
           0.3533192912453102,
           0.0025315181274931757,
           0.008097109411098117,
           0.004563602403684624,
           0.004652859261132565,
           0.0029132886303075505,
           0.0021576384820052768,
           0.00531600993961268,
           0.006710126089559631,
           0.06730683462960632,
           0.0014584191607515133,
           0.0737482703009345,
           0.0019747264886464627,
           0.004431895851236095,
           0.0016802979255188246,
           0.008133862570089948,
           0.0026648779618013985,
           0.0025560591360563913,
           0.0066026459109679485,
           0.018982687318802673,
           0.015607574857180548,
           0.0036944938563031214,
           0.005621039308819657,
           0.0034060188657672845,
           0.0026559456375607714,
           0.0008140773299086506,
           0.0033108553540217908,
           0.0025169578439201644,
           0.011923156152275552,
           0.0017456894132878065,
           0.02677022051926641,
           0.0017113217047609907,
           0.0023625663627681926,
           0.0035581432382557703,
           0.0037265587370027948,
           0.0014152899668649819,
           0.046760751721564846,
           0.009738354572365417,
           0.008959085612545136,
           0.0005789063783043981,
           0.004494964749877954,
           0.000026325431407133066,
           0.008701259185095542,
           0.0023250521810328066,
           0.010604791326163245,
           0.010322170281293381,
           0.006525557981669952,
           0.004701715310957151,
           0.0005965608288603952,
           0.00570879227993024,
           0.005458351005547115,
           0.0009963404726098576,
           0.0031129614670252857,
           0.004642172071699976,
           0.007482659151707518,
           0.004626474827593182,
           0.0023706386757743614,
           0.004084718322415637,
           0.021109903673700577,
           0.0027101006163370947,
           0.003453301802543469,
           0.03801600629388566,
           0.004186125531479347,
           0.010554257193548662,
           0.005934021191673866,
           0.004920816087862177,
           0.012702783939458987,
           0.009337429760093741,
           0.0069413703558306025,
           0.002719255918294925,
           0.0005936851530381235,
           0.09248657544618398,
           0.0022379631186489357,
           0.0030326330873524,
           0.008026127279654852,
           0.008577420249045965,
           0.008697857136655478,
           0.004065870529786089,
           0.011425924576238136,
           0.003604928608338985,
           0.0008879180409352974,
           0.0035815251167546688,
           0.2860740809527412,
           0.0024771859684645826,
           0.025351827692785267,
           0.00391622783556216,
           0.012437145541619109,
           0.00264421613450581,
           0.0038256528344032645,
           0.042019080076055766,
           0.007505617916528913,
           0.0043405899610159575,
           0.006620849592058855,
           0.003956049192346246,
           0.021446193289644915,
           0.0020662620635440118,
           0.00213370792605079,
           0.003003083899494798,
           0.0028089190777909165,
           0.0022737169762736763,
           0.0044242538248777455,
           0.011178867838862282,
           0.04624674295261607,
           0.0021840258223799073,
           0.00431682423460376,
           0.006076233866274302,
           0.003567780791998664,
           0.00382616324943693,
           0.0025528748463979336,
           0.003986805664413284,
           0.005635017565789904,
           0.4792207390393009,
           0.002379105188310008,
           0.0014804372837427886,
           0.008553945545191247,
           0.004037507848431491,
           0.0038482305182950434,
           0.004454821495323621,
           0.05002894664057633,
           0.0030376986340260935,
           0.0038491847871917023,
           0.014207436932865612,
           0.00221663670237774,
           0.07434978624312936,
           0.00514170842213575,
           0.0072970843470772555,
           0.05511022613943834,
           0.007978036272788668,
           0.003462679514986399,
           0.0026502242897452877,
           0.00459850449649627,
           0.03153572366499172,
           0.003497200382919034,
           0.004594739259049076,
           0.0020464140860116525,
           0.00225182590282893,
           0.009129619092024161,
           0.002641627096847405,
           0.002537635198650625,
           0.24716410136034667,
           0.00411804529309797,
           0.012369714710153504,
           0.0023144412692786345,
           0.0018243122894408866,
           0.12436970559777036,
           0.006169908294967385,
           0.003054548211748956,
           0.003809640259430899,
           0.0010807316000986896,
           0.004122950291148147,
           0.008002287226069259,
           0.008100300405872032
          ],
          "sizemode": "area",
          "sizeref": 0.0005324674878214455,
          "symbol": "circle"
         },
         "mode": "markers",
         "name": "",
         "showlegend": false,
         "type": "scattergeo"
        }
       ],
       "layout": {
        "coloraxis": {
         "colorbar": {
          "title": {
           "text": "EPI_Score"
          }
         },
         "colorscale": [
          [
           0,
           "rgb(255,255,229)"
          ],
          [
           0.125,
           "rgb(247,252,185)"
          ],
          [
           0.25,
           "rgb(217,240,163)"
          ],
          [
           0.375,
           "rgb(173,221,142)"
          ],
          [
           0.5,
           "rgb(120,198,121)"
          ],
          [
           0.625,
           "rgb(65,171,93)"
          ],
          [
           0.75,
           "rgb(35,132,67)"
          ],
          [
           0.875,
           "rgb(0,104,55)"
          ],
          [
           1,
           "rgb(0,69,41)"
          ]
         ]
        },
        "geo": {
         "center": {},
         "domain": {
          "x": [
           0,
           1
          ],
          "y": [
           0,
           1
          ]
         }
        },
        "height": 600,
        "legend": {
         "tracegroupgap": 0
        },
        "template": {
         "data": {
          "bar": [
           {
            "error_x": {
             "color": "#2a3f5f"
            },
            "error_y": {
             "color": "#2a3f5f"
            },
            "marker": {
             "line": {
              "color": "#E5ECF6",
              "width": 0.5
             },
             "pattern": {
              "fillmode": "overlay",
              "size": 10,
              "solidity": 0.2
             }
            },
            "type": "bar"
           }
          ],
          "barpolar": [
           {
            "marker": {
             "line": {
              "color": "#E5ECF6",
              "width": 0.5
             },
             "pattern": {
              "fillmode": "overlay",
              "size": 10,
              "solidity": 0.2
             }
            },
            "type": "barpolar"
           }
          ],
          "carpet": [
           {
            "aaxis": {
             "endlinecolor": "#2a3f5f",
             "gridcolor": "white",
             "linecolor": "white",
             "minorgridcolor": "white",
             "startlinecolor": "#2a3f5f"
            },
            "baxis": {
             "endlinecolor": "#2a3f5f",
             "gridcolor": "white",
             "linecolor": "white",
             "minorgridcolor": "white",
             "startlinecolor": "#2a3f5f"
            },
            "type": "carpet"
           }
          ],
          "choropleth": [
           {
            "colorbar": {
             "outlinewidth": 0,
             "ticks": ""
            },
            "type": "choropleth"
           }
          ],
          "contour": [
           {
            "colorbar": {
             "outlinewidth": 0,
             "ticks": ""
            },
            "colorscale": [
             [
              0,
              "#0d0887"
             ],
             [
              0.1111111111111111,
              "#46039f"
             ],
             [
              0.2222222222222222,
              "#7201a8"
             ],
             [
              0.3333333333333333,
              "#9c179e"
             ],
             [
              0.4444444444444444,
              "#bd3786"
             ],
             [
              0.5555555555555556,
              "#d8576b"
             ],
             [
              0.6666666666666666,
              "#ed7953"
             ],
             [
              0.7777777777777778,
              "#fb9f3a"
             ],
             [
              0.8888888888888888,
              "#fdca26"
             ],
             [
              1,
              "#f0f921"
             ]
            ],
            "type": "contour"
           }
          ],
          "contourcarpet": [
           {
            "colorbar": {
             "outlinewidth": 0,
             "ticks": ""
            },
            "type": "contourcarpet"
           }
          ],
          "heatmap": [
           {
            "colorbar": {
             "outlinewidth": 0,
             "ticks": ""
            },
            "colorscale": [
             [
              0,
              "#0d0887"
             ],
             [
              0.1111111111111111,
              "#46039f"
             ],
             [
              0.2222222222222222,
              "#7201a8"
             ],
             [
              0.3333333333333333,
              "#9c179e"
             ],
             [
              0.4444444444444444,
              "#bd3786"
             ],
             [
              0.5555555555555556,
              "#d8576b"
             ],
             [
              0.6666666666666666,
              "#ed7953"
             ],
             [
              0.7777777777777778,
              "#fb9f3a"
             ],
             [
              0.8888888888888888,
              "#fdca26"
             ],
             [
              1,
              "#f0f921"
             ]
            ],
            "type": "heatmap"
           }
          ],
          "heatmapgl": [
           {
            "colorbar": {
             "outlinewidth": 0,
             "ticks": ""
            },
            "colorscale": [
             [
              0,
              "#0d0887"
             ],
             [
              0.1111111111111111,
              "#46039f"
             ],
             [
              0.2222222222222222,
              "#7201a8"
             ],
             [
              0.3333333333333333,
              "#9c179e"
             ],
             [
              0.4444444444444444,
              "#bd3786"
             ],
             [
              0.5555555555555556,
              "#d8576b"
             ],
             [
              0.6666666666666666,
              "#ed7953"
             ],
             [
              0.7777777777777778,
              "#fb9f3a"
             ],
             [
              0.8888888888888888,
              "#fdca26"
             ],
             [
              1,
              "#f0f921"
             ]
            ],
            "type": "heatmapgl"
           }
          ],
          "histogram": [
           {
            "marker": {
             "pattern": {
              "fillmode": "overlay",
              "size": 10,
              "solidity": 0.2
             }
            },
            "type": "histogram"
           }
          ],
          "histogram2d": [
           {
            "colorbar": {
             "outlinewidth": 0,
             "ticks": ""
            },
            "colorscale": [
             [
              0,
              "#0d0887"
             ],
             [
              0.1111111111111111,
              "#46039f"
             ],
             [
              0.2222222222222222,
              "#7201a8"
             ],
             [
              0.3333333333333333,
              "#9c179e"
             ],
             [
              0.4444444444444444,
              "#bd3786"
             ],
             [
              0.5555555555555556,
              "#d8576b"
             ],
             [
              0.6666666666666666,
              "#ed7953"
             ],
             [
              0.7777777777777778,
              "#fb9f3a"
             ],
             [
              0.8888888888888888,
              "#fdca26"
             ],
             [
              1,
              "#f0f921"
             ]
            ],
            "type": "histogram2d"
           }
          ],
          "histogram2dcontour": [
           {
            "colorbar": {
             "outlinewidth": 0,
             "ticks": ""
            },
            "colorscale": [
             [
              0,
              "#0d0887"
             ],
             [
              0.1111111111111111,
              "#46039f"
             ],
             [
              0.2222222222222222,
              "#7201a8"
             ],
             [
              0.3333333333333333,
              "#9c179e"
             ],
             [
              0.4444444444444444,
              "#bd3786"
             ],
             [
              0.5555555555555556,
              "#d8576b"
             ],
             [
              0.6666666666666666,
              "#ed7953"
             ],
             [
              0.7777777777777778,
              "#fb9f3a"
             ],
             [
              0.8888888888888888,
              "#fdca26"
             ],
             [
              1,
              "#f0f921"
             ]
            ],
            "type": "histogram2dcontour"
           }
          ],
          "mesh3d": [
           {
            "colorbar": {
             "outlinewidth": 0,
             "ticks": ""
            },
            "type": "mesh3d"
           }
          ],
          "parcoords": [
           {
            "line": {
             "colorbar": {
              "outlinewidth": 0,
              "ticks": ""
             }
            },
            "type": "parcoords"
           }
          ],
          "pie": [
           {
            "automargin": true,
            "type": "pie"
           }
          ],
          "scatter": [
           {
            "fillpattern": {
             "fillmode": "overlay",
             "size": 10,
             "solidity": 0.2
            },
            "type": "scatter"
           }
          ],
          "scatter3d": [
           {
            "line": {
             "colorbar": {
              "outlinewidth": 0,
              "ticks": ""
             }
            },
            "marker": {
             "colorbar": {
              "outlinewidth": 0,
              "ticks": ""
             }
            },
            "type": "scatter3d"
           }
          ],
          "scattercarpet": [
           {
            "marker": {
             "colorbar": {
              "outlinewidth": 0,
              "ticks": ""
             }
            },
            "type": "scattercarpet"
           }
          ],
          "scattergeo": [
           {
            "marker": {
             "colorbar": {
              "outlinewidth": 0,
              "ticks": ""
             }
            },
            "type": "scattergeo"
           }
          ],
          "scattergl": [
           {
            "marker": {
             "colorbar": {
              "outlinewidth": 0,
              "ticks": ""
             }
            },
            "type": "scattergl"
           }
          ],
          "scattermapbox": [
           {
            "marker": {
             "colorbar": {
              "outlinewidth": 0,
              "ticks": ""
             }
            },
            "type": "scattermapbox"
           }
          ],
          "scatterpolar": [
           {
            "marker": {
             "colorbar": {
              "outlinewidth": 0,
              "ticks": ""
             }
            },
            "type": "scatterpolar"
           }
          ],
          "scatterpolargl": [
           {
            "marker": {
             "colorbar": {
              "outlinewidth": 0,
              "ticks": ""
             }
            },
            "type": "scatterpolargl"
           }
          ],
          "scatterternary": [
           {
            "marker": {
             "colorbar": {
              "outlinewidth": 0,
              "ticks": ""
             }
            },
            "type": "scatterternary"
           }
          ],
          "surface": [
           {
            "colorbar": {
             "outlinewidth": 0,
             "ticks": ""
            },
            "colorscale": [
             [
              0,
              "#0d0887"
             ],
             [
              0.1111111111111111,
              "#46039f"
             ],
             [
              0.2222222222222222,
              "#7201a8"
             ],
             [
              0.3333333333333333,
              "#9c179e"
             ],
             [
              0.4444444444444444,
              "#bd3786"
             ],
             [
              0.5555555555555556,
              "#d8576b"
             ],
             [
              0.6666666666666666,
              "#ed7953"
             ],
             [
              0.7777777777777778,
              "#fb9f3a"
             ],
             [
              0.8888888888888888,
              "#fdca26"
             ],
             [
              1,
              "#f0f921"
             ]
            ],
            "type": "surface"
           }
          ],
          "table": [
           {
            "cells": {
             "fill": {
              "color": "#EBF0F8"
             },
             "line": {
              "color": "white"
             }
            },
            "header": {
             "fill": {
              "color": "#C8D4E3"
             },
             "line": {
              "color": "white"
             }
            },
            "type": "table"
           }
          ]
         },
         "layout": {
          "annotationdefaults": {
           "arrowcolor": "#2a3f5f",
           "arrowhead": 0,
           "arrowwidth": 1
          },
          "autotypenumbers": "strict",
          "coloraxis": {
           "colorbar": {
            "outlinewidth": 0,
            "ticks": ""
           }
          },
          "colorscale": {
           "diverging": [
            [
             0,
             "#8e0152"
            ],
            [
             0.1,
             "#c51b7d"
            ],
            [
             0.2,
             "#de77ae"
            ],
            [
             0.3,
             "#f1b6da"
            ],
            [
             0.4,
             "#fde0ef"
            ],
            [
             0.5,
             "#f7f7f7"
            ],
            [
             0.6,
             "#e6f5d0"
            ],
            [
             0.7,
             "#b8e186"
            ],
            [
             0.8,
             "#7fbc41"
            ],
            [
             0.9,
             "#4d9221"
            ],
            [
             1,
             "#276419"
            ]
           ],
           "sequential": [
            [
             0,
             "#0d0887"
            ],
            [
             0.1111111111111111,
             "#46039f"
            ],
            [
             0.2222222222222222,
             "#7201a8"
            ],
            [
             0.3333333333333333,
             "#9c179e"
            ],
            [
             0.4444444444444444,
             "#bd3786"
            ],
            [
             0.5555555555555556,
             "#d8576b"
            ],
            [
             0.6666666666666666,
             "#ed7953"
            ],
            [
             0.7777777777777778,
             "#fb9f3a"
            ],
            [
             0.8888888888888888,
             "#fdca26"
            ],
            [
             1,
             "#f0f921"
            ]
           ],
           "sequentialminus": [
            [
             0,
             "#0d0887"
            ],
            [
             0.1111111111111111,
             "#46039f"
            ],
            [
             0.2222222222222222,
             "#7201a8"
            ],
            [
             0.3333333333333333,
             "#9c179e"
            ],
            [
             0.4444444444444444,
             "#bd3786"
            ],
            [
             0.5555555555555556,
             "#d8576b"
            ],
            [
             0.6666666666666666,
             "#ed7953"
            ],
            [
             0.7777777777777778,
             "#fb9f3a"
            ],
            [
             0.8888888888888888,
             "#fdca26"
            ],
            [
             1,
             "#f0f921"
            ]
           ]
          },
          "colorway": [
           "#636efa",
           "#EF553B",
           "#00cc96",
           "#ab63fa",
           "#FFA15A",
           "#19d3f3",
           "#FF6692",
           "#B6E880",
           "#FF97FF",
           "#FECB52"
          ],
          "font": {
           "color": "#2a3f5f"
          },
          "geo": {
           "bgcolor": "white",
           "lakecolor": "white",
           "landcolor": "#E5ECF6",
           "showlakes": true,
           "showland": true,
           "subunitcolor": "white"
          },
          "hoverlabel": {
           "align": "left"
          },
          "hovermode": "closest",
          "mapbox": {
           "style": "light"
          },
          "paper_bgcolor": "white",
          "plot_bgcolor": "#E5ECF6",
          "polar": {
           "angularaxis": {
            "gridcolor": "white",
            "linecolor": "white",
            "ticks": ""
           },
           "bgcolor": "#E5ECF6",
           "radialaxis": {
            "gridcolor": "white",
            "linecolor": "white",
            "ticks": ""
           }
          },
          "scene": {
           "xaxis": {
            "backgroundcolor": "#E5ECF6",
            "gridcolor": "white",
            "gridwidth": 2,
            "linecolor": "white",
            "showbackground": true,
            "ticks": "",
            "zerolinecolor": "white"
           },
           "yaxis": {
            "backgroundcolor": "#E5ECF6",
            "gridcolor": "white",
            "gridwidth": 2,
            "linecolor": "white",
            "showbackground": true,
            "ticks": "",
            "zerolinecolor": "white"
           },
           "zaxis": {
            "backgroundcolor": "#E5ECF6",
            "gridcolor": "white",
            "gridwidth": 2,
            "linecolor": "white",
            "showbackground": true,
            "ticks": "",
            "zerolinecolor": "white"
           }
          },
          "shapedefaults": {
           "line": {
            "color": "#2a3f5f"
           }
          },
          "ternary": {
           "aaxis": {
            "gridcolor": "white",
            "linecolor": "white",
            "ticks": ""
           },
           "baxis": {
            "gridcolor": "white",
            "linecolor": "white",
            "ticks": ""
           },
           "bgcolor": "#E5ECF6",
           "caxis": {
            "gridcolor": "white",
            "linecolor": "white",
            "ticks": ""
           }
          },
          "title": {
           "x": 0.05
          },
          "xaxis": {
           "automargin": true,
           "gridcolor": "white",
           "linecolor": "white",
           "ticks": "",
           "title": {
            "standoff": 15
           },
           "zerolinecolor": "white",
           "zerolinewidth": 2
          },
          "yaxis": {
           "automargin": true,
           "gridcolor": "white",
           "linecolor": "white",
           "ticks": "",
           "title": {
            "standoff": 15
           },
           "zerolinecolor": "white",
           "zerolinewidth": 2
          }
         }
        },
        "title": {
         "text": "CO₂-uitstoot per ton voedsel en milieubeleid (EPI-score) per land (2022)"
        }
       }
      }
     },
     "metadata": {},
     "output_type": "display_data"
    }
   ],
   "source": [
    "import plotly.express as px\n",
    "\n",
    "# Visualisatie: choropleth + bubbels\n",
    "fig = px.choropleth(\n",
    "    final,\n",
    "    locations=\"Country\",\n",
    "    locationmode=\"country names\",\n",
    "    color=\"EPI_Score\",\n",
    "    color_continuous_scale=\"YlGn\",\n",
    "    title=\"CO₂-uitstoot per ton voedsel en milieubeleid (EPI-score) per land (2022)\",\n",
    ")\n",
    "\n",
    "bubble = px.scatter_geo(\n",
    "    final,\n",
    "    locations=\"Country\",\n",
    "    locationmode=\"country names\",\n",
    "    size=\"Emissions_per_ton\",\n",
    "    hover_name=\"Country\",\n",
    "    size_max=30,\n",
    "    color_discrete_sequence=[\"lightblue\"]  # bubbels in lichtblauw\n",
    ")\n",
    "\n",
    "fig.add_trace(bubble.data[0])\n",
    "fig.update_layout(height=600)\n",
    "fig.show()"
   ]
  },
  {
   "cell_type": "code",
   "execution_count": 15,
   "id": "d5b9b73f",
   "metadata": {},
   "outputs": [
    {
     "data": {
      "application/vnd.plotly.v1+json": {
       "config": {
        "plotlyServerURL": "https://plot.ly"
       },
       "data": [
        {
         "coloraxis": "coloraxis",
         "geo": "geo",
         "hovertemplate": "Country=%{location}<br>EPI_Score=%{z}<extra></extra>",
         "locationmode": "country names",
         "locations": [
          "Afghanistan",
          "Albania",
          "Algeria",
          "Angola",
          "Antigua and Barbuda",
          "Argentina",
          "Armenia",
          "Australia",
          "Austria",
          "Azerbaijan",
          "Bahamas",
          "Bahrain",
          "Bangladesh",
          "Barbados",
          "Belarus",
          "Belgium",
          "Belize",
          "Benin",
          "Bhutan",
          "Bosnia and Herzegovina",
          "Botswana",
          "Brazil",
          "Brunei Darussalam",
          "Bulgaria",
          "Burkina Faso",
          "Burundi",
          "Cabo Verde",
          "Cambodia",
          "Cameroon",
          "Canada",
          "Central African Republic",
          "Chad",
          "Chile",
          "China",
          "Colombia",
          "Comoros",
          "Costa Rica",
          "Croatia",
          "Cuba",
          "Cyprus",
          "Denmark",
          "Djibouti",
          "Dominica",
          "Dominican Republic",
          "Ecuador",
          "Egypt",
          "El Salvador",
          "Equatorial Guinea",
          "Eritrea",
          "Estonia",
          "Eswatini",
          "Ethiopia",
          "Fiji",
          "Finland",
          "France",
          "Gabon",
          "Gambia",
          "Georgia",
          "Germany",
          "Ghana",
          "Greece",
          "Grenada",
          "Guatemala",
          "Guinea",
          "Guinea-Bissau",
          "Guyana",
          "Haiti",
          "Honduras",
          "Hungary",
          "Iceland",
          "India",
          "Indonesia",
          "Iraq",
          "Ireland",
          "Israel",
          "Italy",
          "Jamaica",
          "Japan",
          "Jordan",
          "Kazakhstan",
          "Kenya",
          "Kiribati",
          "Kuwait",
          "Kyrgyzstan",
          "Latvia",
          "Lebanon",
          "Lesotho",
          "Liberia",
          "Lithuania",
          "Luxembourg",
          "Madagascar",
          "Malawi",
          "Malaysia",
          "Maldives",
          "Mali",
          "Malta",
          "Marshall Islands",
          "Mauritania",
          "Mauritius",
          "Mexico",
          "Mongolia",
          "Montenegro",
          "Morocco",
          "Mozambique",
          "Myanmar",
          "Namibia",
          "Nepal",
          "New Zealand",
          "Nicaragua",
          "Niger",
          "Nigeria",
          "North Macedonia",
          "Norway",
          "Oman",
          "Pakistan",
          "Panama",
          "Papua New Guinea",
          "Paraguay",
          "Peru",
          "Philippines",
          "Poland",
          "Portugal",
          "Qatar",
          "Romania",
          "Rwanda",
          "Saint Lucia",
          "Saint Vincent and the Grenadines",
          "Samoa",
          "Sao Tome and Principe",
          "Saudi Arabia",
          "Senegal",
          "Serbia",
          "Seychelles",
          "Sierra Leone",
          "Singapore",
          "Slovakia",
          "Slovenia",
          "Solomon Islands",
          "South Africa",
          "Spain",
          "Sri Lanka",
          "Sudan",
          "Suriname",
          "Sweden",
          "Switzerland",
          "Tajikistan",
          "Thailand",
          "Timor-Leste",
          "Togo",
          "Tonga",
          "Trinidad and Tobago",
          "Tunisia",
          "Turkmenistan",
          "Uganda",
          "Ukraine",
          "United Arab Emirates",
          "United States of America",
          "Uruguay",
          "Uzbekistan",
          "Vanuatu",
          "Viet Nam",
          "Zambia",
          "Zimbabwe"
         ],
         "name": "",
         "type": "choropleth",
         "z": [
          43.6,
          47.1,
          29.6,
          30.5,
          52.4,
          41.1,
          48.3,
          60.1,
          66.5,
          38.6,
          56.2,
          42,
          23.1,
          53.2,
          48.5,
          58.2,
          50,
          29.6,
          42.5,
          39.4,
          54,
          43.6,
          45.7,
          51.9,
          35.5,
          30.5,
          41.9,
          30.1,
          30.2,
          50,
          44.9,
          28.1,
          46.7,
          28.4,
          42.4,
          42.5,
          46.3,
          60.2,
          47.5,
          58,
          77.9,
          47.5,
          51.2,
          42.2,
          46.5,
          35.5,
          40.8,
          44.8,
          31.7,
          61.4,
          44.9,
          31.8,
          31.3,
          76.5,
          62.5,
          49.7,
          36.4,
          39.1,
          62.4,
          27.7,
          56.2,
          47.9,
          28,
          31.6,
          40.2,
          38.5,
          26.1,
          36.5,
          55.1,
          62.8,
          18.9,
          28.2,
          27.8,
          57.4,
          48.2,
          57.7,
          45.6,
          57.2,
          43.6,
          40.9,
          30.8,
          49,
          42.4,
          35.7,
          61.1,
          32.2,
          32.3,
          24.9,
          55.9,
          72.3,
          28,
          40.6,
          35,
          37.4,
          28.5,
          75.2,
          36.2,
          28.1,
          44.8,
          45.5,
          29.6,
          46.9,
          28.4,
          31.7,
          19.4,
          50.9,
          28.3,
          56.7,
          37.7,
          37.7,
          28.3,
          54.3,
          59.3,
          30.7,
          24.6,
          50.5,
          24.8,
          40.9,
          39.8,
          28.9,
          50.6,
          50.4,
          33,
          56,
          32.8,
          49.4,
          53.2,
          36.4,
          52.9,
          37.9,
          33.9,
          43.9,
          55.6,
          32.7,
          50.9,
          60,
          67.3,
          35,
          37.2,
          56.6,
          34.7,
          27.6,
          45.9,
          72.7,
          65.9,
          37.1,
          38.1,
          35.1,
          34,
          43.8,
          47.8,
          40.7,
          37,
          35.8,
          49.6,
          52.4,
          51.1,
          37.4,
          38.2,
          36.9,
          20.1,
          38.4,
          46.2
         ]
        },
        {
         "geo": "geo",
         "hovertemplate": "<b>%{hovertext}</b><br><br>Emissions_per_ton=%{marker.size}<br>Country=%{location}<extra></extra>",
         "hovertext": [
          "Afghanistan",
          "Albania",
          "Algeria",
          "Angola",
          "Antigua and Barbuda",
          "Argentina",
          "Armenia",
          "Australia",
          "Austria",
          "Azerbaijan",
          "Bahamas",
          "Bahrain",
          "Bangladesh",
          "Barbados",
          "Belarus",
          "Belgium",
          "Belize",
          "Benin",
          "Bhutan",
          "Bosnia and Herzegovina",
          "Botswana",
          "Brazil",
          "Brunei Darussalam",
          "Bulgaria",
          "Burkina Faso",
          "Burundi",
          "Cabo Verde",
          "Cambodia",
          "Cameroon",
          "Canada",
          "Central African Republic",
          "Chad",
          "Chile",
          "China",
          "Colombia",
          "Comoros",
          "Costa Rica",
          "Croatia",
          "Cuba",
          "Cyprus",
          "Denmark",
          "Djibouti",
          "Dominica",
          "Dominican Republic",
          "Ecuador",
          "Egypt",
          "El Salvador",
          "Equatorial Guinea",
          "Eritrea",
          "Estonia",
          "Eswatini",
          "Ethiopia",
          "Fiji",
          "Finland",
          "France",
          "Gabon",
          "Gambia",
          "Georgia",
          "Germany",
          "Ghana",
          "Greece",
          "Grenada",
          "Guatemala",
          "Guinea",
          "Guinea-Bissau",
          "Guyana",
          "Haiti",
          "Honduras",
          "Hungary",
          "Iceland",
          "India",
          "Indonesia",
          "Iraq",
          "Ireland",
          "Israel",
          "Italy",
          "Jamaica",
          "Japan",
          "Jordan",
          "Kazakhstan",
          "Kenya",
          "Kiribati",
          "Kuwait",
          "Kyrgyzstan",
          "Latvia",
          "Lebanon",
          "Lesotho",
          "Liberia",
          "Lithuania",
          "Luxembourg",
          "Madagascar",
          "Malawi",
          "Malaysia",
          "Maldives",
          "Mali",
          "Malta",
          "Marshall Islands",
          "Mauritania",
          "Mauritius",
          "Mexico",
          "Mongolia",
          "Montenegro",
          "Morocco",
          "Mozambique",
          "Myanmar",
          "Namibia",
          "Nepal",
          "New Zealand",
          "Nicaragua",
          "Niger",
          "Nigeria",
          "North Macedonia",
          "Norway",
          "Oman",
          "Pakistan",
          "Panama",
          "Papua New Guinea",
          "Paraguay",
          "Peru",
          "Philippines",
          "Poland",
          "Portugal",
          "Qatar",
          "Romania",
          "Rwanda",
          "Saint Lucia",
          "Saint Vincent and the Grenadines",
          "Samoa",
          "Sao Tome and Principe",
          "Saudi Arabia",
          "Senegal",
          "Serbia",
          "Seychelles",
          "Sierra Leone",
          "Singapore",
          "Slovakia",
          "Slovenia",
          "Solomon Islands",
          "South Africa",
          "Spain",
          "Sri Lanka",
          "Sudan",
          "Suriname",
          "Sweden",
          "Switzerland",
          "Tajikistan",
          "Thailand",
          "Timor-Leste",
          "Togo",
          "Tonga",
          "Trinidad and Tobago",
          "Tunisia",
          "Turkmenistan",
          "Uganda",
          "Ukraine",
          "United Arab Emirates",
          "United States of America",
          "Uruguay",
          "Uzbekistan",
          "Vanuatu",
          "Viet Nam",
          "Zambia",
          "Zimbabwe"
         ],
         "legendgroup": "",
         "locationmode": "country names",
         "locations": [
          "Afghanistan",
          "Albania",
          "Algeria",
          "Angola",
          "Antigua and Barbuda",
          "Argentina",
          "Armenia",
          "Australia",
          "Austria",
          "Azerbaijan",
          "Bahamas",
          "Bahrain",
          "Bangladesh",
          "Barbados",
          "Belarus",
          "Belgium",
          "Belize",
          "Benin",
          "Bhutan",
          "Bosnia and Herzegovina",
          "Botswana",
          "Brazil",
          "Brunei Darussalam",
          "Bulgaria",
          "Burkina Faso",
          "Burundi",
          "Cabo Verde",
          "Cambodia",
          "Cameroon",
          "Canada",
          "Central African Republic",
          "Chad",
          "Chile",
          "China",
          "Colombia",
          "Comoros",
          "Costa Rica",
          "Croatia",
          "Cuba",
          "Cyprus",
          "Denmark",
          "Djibouti",
          "Dominica",
          "Dominican Republic",
          "Ecuador",
          "Egypt",
          "El Salvador",
          "Equatorial Guinea",
          "Eritrea",
          "Estonia",
          "Eswatini",
          "Ethiopia",
          "Fiji",
          "Finland",
          "France",
          "Gabon",
          "Gambia",
          "Georgia",
          "Germany",
          "Ghana",
          "Greece",
          "Grenada",
          "Guatemala",
          "Guinea",
          "Guinea-Bissau",
          "Guyana",
          "Haiti",
          "Honduras",
          "Hungary",
          "Iceland",
          "India",
          "Indonesia",
          "Iraq",
          "Ireland",
          "Israel",
          "Italy",
          "Jamaica",
          "Japan",
          "Jordan",
          "Kazakhstan",
          "Kenya",
          "Kiribati",
          "Kuwait",
          "Kyrgyzstan",
          "Latvia",
          "Lebanon",
          "Lesotho",
          "Liberia",
          "Lithuania",
          "Luxembourg",
          "Madagascar",
          "Malawi",
          "Malaysia",
          "Maldives",
          "Mali",
          "Malta",
          "Marshall Islands",
          "Mauritania",
          "Mauritius",
          "Mexico",
          "Mongolia",
          "Montenegro",
          "Morocco",
          "Mozambique",
          "Myanmar",
          "Namibia",
          "Nepal",
          "New Zealand",
          "Nicaragua",
          "Niger",
          "Nigeria",
          "North Macedonia",
          "Norway",
          "Oman",
          "Pakistan",
          "Panama",
          "Papua New Guinea",
          "Paraguay",
          "Peru",
          "Philippines",
          "Poland",
          "Portugal",
          "Qatar",
          "Romania",
          "Rwanda",
          "Saint Lucia",
          "Saint Vincent and the Grenadines",
          "Samoa",
          "Sao Tome and Principe",
          "Saudi Arabia",
          "Senegal",
          "Serbia",
          "Seychelles",
          "Sierra Leone",
          "Singapore",
          "Slovakia",
          "Slovenia",
          "Solomon Islands",
          "South Africa",
          "Spain",
          "Sri Lanka",
          "Sudan",
          "Suriname",
          "Sweden",
          "Switzerland",
          "Tajikistan",
          "Thailand",
          "Timor-Leste",
          "Togo",
          "Tonga",
          "Trinidad and Tobago",
          "Tunisia",
          "Turkmenistan",
          "Uganda",
          "Ukraine",
          "United Arab Emirates",
          "United States of America",
          "Uruguay",
          "Uzbekistan",
          "Vanuatu",
          "Viet Nam",
          "Zambia",
          "Zimbabwe"
         ],
         "marker": {
          "color": "lightblue",
          "size": [
           0.002898862962610612,
           0.002120062605600051,
           0.009446176906859971,
           0.004879722126956905,
           0.023722081426822403,
           0.0022515467166070342,
           0.0030104371142605393,
           0.004651092775570363,
           0.003597058897587404,
           0.0053167996250166275,
           0.01853000856035883,
           0.3533192912453102,
           0.0025315181274931757,
           0.008097109411098117,
           0.004563602403684624,
           0.004652859261132565,
           0.0029132886303075505,
           0.0021576384820052768,
           0.00531600993961268,
           0.006710126089559631,
           0.06730683462960632,
           0.0014584191607515133,
           0.0737482703009345,
           0.0019747264886464627,
           0.004431895851236095,
           0.0016802979255188246,
           0.008133862570089948,
           0.0026648779618013985,
           0.0025560591360563913,
           0.0066026459109679485,
           0.018982687318802673,
           0.015607574857180548,
           0.0036944938563031214,
           0.005621039308819657,
           0.0034060188657672845,
           0.0026559456375607714,
           0.0008140773299086506,
           0.0033108553540217908,
           0.0025169578439201644,
           0.011923156152275552,
           0.0017456894132878065,
           0.02677022051926641,
           0.0017113217047609907,
           0.0023625663627681926,
           0.0035581432382557703,
           0.0037265587370027948,
           0.0014152899668649819,
           0.046760751721564846,
           0.009738354572365417,
           0.008959085612545136,
           0.0005789063783043981,
           0.004494964749877954,
           0.000026325431407133066,
           0.008701259185095542,
           0.0023250521810328066,
           0.010604791326163245,
           0.010322170281293381,
           0.006525557981669952,
           0.004701715310957151,
           0.0005965608288603952,
           0.00570879227993024,
           0.005458351005547115,
           0.0009963404726098576,
           0.0031129614670252857,
           0.004642172071699976,
           0.007482659151707518,
           0.004626474827593182,
           0.0023706386757743614,
           0.004084718322415637,
           0.021109903673700577,
           0.0027101006163370947,
           0.003453301802543469,
           0.03801600629388566,
           0.004186125531479347,
           0.010554257193548662,
           0.005934021191673866,
           0.004920816087862177,
           0.012702783939458987,
           0.009337429760093741,
           0.0069413703558306025,
           0.002719255918294925,
           0.0005936851530381235,
           0.09248657544618398,
           0.0022379631186489357,
           0.0030326330873524,
           0.008026127279654852,
           0.008577420249045965,
           0.008697857136655478,
           0.004065870529786089,
           0.011425924576238136,
           0.003604928608338985,
           0.0008879180409352974,
           0.0035815251167546688,
           0.2860740809527412,
           0.0024771859684645826,
           0.025351827692785267,
           0.00391622783556216,
           0.012437145541619109,
           0.00264421613450581,
           0.0038256528344032645,
           0.042019080076055766,
           0.007505617916528913,
           0.0043405899610159575,
           0.006620849592058855,
           0.003956049192346246,
           0.021446193289644915,
           0.0020662620635440118,
           0.00213370792605079,
           0.003003083899494798,
           0.0028089190777909165,
           0.0022737169762736763,
           0.0044242538248777455,
           0.011178867838862282,
           0.04624674295261607,
           0.0021840258223799073,
           0.00431682423460376,
           0.006076233866274302,
           0.003567780791998664,
           0.00382616324943693,
           0.0025528748463979336,
           0.003986805664413284,
           0.005635017565789904,
           0.4792207390393009,
           0.002379105188310008,
           0.0014804372837427886,
           0.008553945545191247,
           0.004037507848431491,
           0.0038482305182950434,
           0.004454821495323621,
           0.05002894664057633,
           0.0030376986340260935,
           0.0038491847871917023,
           0.014207436932865612,
           0.00221663670237774,
           0.07434978624312936,
           0.00514170842213575,
           0.0072970843470772555,
           0.05511022613943834,
           0.007978036272788668,
           0.003462679514986399,
           0.0026502242897452877,
           0.00459850449649627,
           0.03153572366499172,
           0.003497200382919034,
           0.004594739259049076,
           0.0020464140860116525,
           0.00225182590282893,
           0.009129619092024161,
           0.002641627096847405,
           0.002537635198650625,
           0.24716410136034667,
           0.00411804529309797,
           0.012369714710153504,
           0.0023144412692786345,
           0.0018243122894408866,
           0.12436970559777036,
           0.006169908294967385,
           0.003054548211748956,
           0.003809640259430899,
           0.0010807316000986896,
           0.004122950291148147,
           0.008002287226069259,
           0.008100300405872032
          ],
          "sizemode": "area",
          "sizeref": 0.0005324674878214455,
          "symbol": "circle"
         },
         "mode": "markers",
         "name": "",
         "showlegend": false,
         "type": "scattergeo"
        }
       ],
       "layout": {
        "coloraxis": {
         "colorbar": {
          "title": {
           "text": "EPI_Score"
          }
         },
         "colorscale": [
          [
           0,
           "rgb(255,255,229)"
          ],
          [
           0.125,
           "rgb(247,252,185)"
          ],
          [
           0.25,
           "rgb(217,240,163)"
          ],
          [
           0.375,
           "rgb(173,221,142)"
          ],
          [
           0.5,
           "rgb(120,198,121)"
          ],
          [
           0.625,
           "rgb(65,171,93)"
          ],
          [
           0.75,
           "rgb(35,132,67)"
          ],
          [
           0.875,
           "rgb(0,104,55)"
          ],
          [
           1,
           "rgb(0,69,41)"
          ]
         ]
        },
        "geo": {
         "center": {},
         "domain": {
          "x": [
           0,
           1
          ],
          "y": [
           0,
           1
          ]
         }
        },
        "height": 600,
        "legend": {
         "tracegroupgap": 0
        },
        "template": {
         "data": {
          "bar": [
           {
            "error_x": {
             "color": "#2a3f5f"
            },
            "error_y": {
             "color": "#2a3f5f"
            },
            "marker": {
             "line": {
              "color": "#E5ECF6",
              "width": 0.5
             },
             "pattern": {
              "fillmode": "overlay",
              "size": 10,
              "solidity": 0.2
             }
            },
            "type": "bar"
           }
          ],
          "barpolar": [
           {
            "marker": {
             "line": {
              "color": "#E5ECF6",
              "width": 0.5
             },
             "pattern": {
              "fillmode": "overlay",
              "size": 10,
              "solidity": 0.2
             }
            },
            "type": "barpolar"
           }
          ],
          "carpet": [
           {
            "aaxis": {
             "endlinecolor": "#2a3f5f",
             "gridcolor": "white",
             "linecolor": "white",
             "minorgridcolor": "white",
             "startlinecolor": "#2a3f5f"
            },
            "baxis": {
             "endlinecolor": "#2a3f5f",
             "gridcolor": "white",
             "linecolor": "white",
             "minorgridcolor": "white",
             "startlinecolor": "#2a3f5f"
            },
            "type": "carpet"
           }
          ],
          "choropleth": [
           {
            "colorbar": {
             "outlinewidth": 0,
             "ticks": ""
            },
            "type": "choropleth"
           }
          ],
          "contour": [
           {
            "colorbar": {
             "outlinewidth": 0,
             "ticks": ""
            },
            "colorscale": [
             [
              0,
              "#0d0887"
             ],
             [
              0.1111111111111111,
              "#46039f"
             ],
             [
              0.2222222222222222,
              "#7201a8"
             ],
             [
              0.3333333333333333,
              "#9c179e"
             ],
             [
              0.4444444444444444,
              "#bd3786"
             ],
             [
              0.5555555555555556,
              "#d8576b"
             ],
             [
              0.6666666666666666,
              "#ed7953"
             ],
             [
              0.7777777777777778,
              "#fb9f3a"
             ],
             [
              0.8888888888888888,
              "#fdca26"
             ],
             [
              1,
              "#f0f921"
             ]
            ],
            "type": "contour"
           }
          ],
          "contourcarpet": [
           {
            "colorbar": {
             "outlinewidth": 0,
             "ticks": ""
            },
            "type": "contourcarpet"
           }
          ],
          "heatmap": [
           {
            "colorbar": {
             "outlinewidth": 0,
             "ticks": ""
            },
            "colorscale": [
             [
              0,
              "#0d0887"
             ],
             [
              0.1111111111111111,
              "#46039f"
             ],
             [
              0.2222222222222222,
              "#7201a8"
             ],
             [
              0.3333333333333333,
              "#9c179e"
             ],
             [
              0.4444444444444444,
              "#bd3786"
             ],
             [
              0.5555555555555556,
              "#d8576b"
             ],
             [
              0.6666666666666666,
              "#ed7953"
             ],
             [
              0.7777777777777778,
              "#fb9f3a"
             ],
             [
              0.8888888888888888,
              "#fdca26"
             ],
             [
              1,
              "#f0f921"
             ]
            ],
            "type": "heatmap"
           }
          ],
          "heatmapgl": [
           {
            "colorbar": {
             "outlinewidth": 0,
             "ticks": ""
            },
            "colorscale": [
             [
              0,
              "#0d0887"
             ],
             [
              0.1111111111111111,
              "#46039f"
             ],
             [
              0.2222222222222222,
              "#7201a8"
             ],
             [
              0.3333333333333333,
              "#9c179e"
             ],
             [
              0.4444444444444444,
              "#bd3786"
             ],
             [
              0.5555555555555556,
              "#d8576b"
             ],
             [
              0.6666666666666666,
              "#ed7953"
             ],
             [
              0.7777777777777778,
              "#fb9f3a"
             ],
             [
              0.8888888888888888,
              "#fdca26"
             ],
             [
              1,
              "#f0f921"
             ]
            ],
            "type": "heatmapgl"
           }
          ],
          "histogram": [
           {
            "marker": {
             "pattern": {
              "fillmode": "overlay",
              "size": 10,
              "solidity": 0.2
             }
            },
            "type": "histogram"
           }
          ],
          "histogram2d": [
           {
            "colorbar": {
             "outlinewidth": 0,
             "ticks": ""
            },
            "colorscale": [
             [
              0,
              "#0d0887"
             ],
             [
              0.1111111111111111,
              "#46039f"
             ],
             [
              0.2222222222222222,
              "#7201a8"
             ],
             [
              0.3333333333333333,
              "#9c179e"
             ],
             [
              0.4444444444444444,
              "#bd3786"
             ],
             [
              0.5555555555555556,
              "#d8576b"
             ],
             [
              0.6666666666666666,
              "#ed7953"
             ],
             [
              0.7777777777777778,
              "#fb9f3a"
             ],
             [
              0.8888888888888888,
              "#fdca26"
             ],
             [
              1,
              "#f0f921"
             ]
            ],
            "type": "histogram2d"
           }
          ],
          "histogram2dcontour": [
           {
            "colorbar": {
             "outlinewidth": 0,
             "ticks": ""
            },
            "colorscale": [
             [
              0,
              "#0d0887"
             ],
             [
              0.1111111111111111,
              "#46039f"
             ],
             [
              0.2222222222222222,
              "#7201a8"
             ],
             [
              0.3333333333333333,
              "#9c179e"
             ],
             [
              0.4444444444444444,
              "#bd3786"
             ],
             [
              0.5555555555555556,
              "#d8576b"
             ],
             [
              0.6666666666666666,
              "#ed7953"
             ],
             [
              0.7777777777777778,
              "#fb9f3a"
             ],
             [
              0.8888888888888888,
              "#fdca26"
             ],
             [
              1,
              "#f0f921"
             ]
            ],
            "type": "histogram2dcontour"
           }
          ],
          "mesh3d": [
           {
            "colorbar": {
             "outlinewidth": 0,
             "ticks": ""
            },
            "type": "mesh3d"
           }
          ],
          "parcoords": [
           {
            "line": {
             "colorbar": {
              "outlinewidth": 0,
              "ticks": ""
             }
            },
            "type": "parcoords"
           }
          ],
          "pie": [
           {
            "automargin": true,
            "type": "pie"
           }
          ],
          "scatter": [
           {
            "fillpattern": {
             "fillmode": "overlay",
             "size": 10,
             "solidity": 0.2
            },
            "type": "scatter"
           }
          ],
          "scatter3d": [
           {
            "line": {
             "colorbar": {
              "outlinewidth": 0,
              "ticks": ""
             }
            },
            "marker": {
             "colorbar": {
              "outlinewidth": 0,
              "ticks": ""
             }
            },
            "type": "scatter3d"
           }
          ],
          "scattercarpet": [
           {
            "marker": {
             "colorbar": {
              "outlinewidth": 0,
              "ticks": ""
             }
            },
            "type": "scattercarpet"
           }
          ],
          "scattergeo": [
           {
            "marker": {
             "colorbar": {
              "outlinewidth": 0,
              "ticks": ""
             }
            },
            "type": "scattergeo"
           }
          ],
          "scattergl": [
           {
            "marker": {
             "colorbar": {
              "outlinewidth": 0,
              "ticks": ""
             }
            },
            "type": "scattergl"
           }
          ],
          "scattermapbox": [
           {
            "marker": {
             "colorbar": {
              "outlinewidth": 0,
              "ticks": ""
             }
            },
            "type": "scattermapbox"
           }
          ],
          "scatterpolar": [
           {
            "marker": {
             "colorbar": {
              "outlinewidth": 0,
              "ticks": ""
             }
            },
            "type": "scatterpolar"
           }
          ],
          "scatterpolargl": [
           {
            "marker": {
             "colorbar": {
              "outlinewidth": 0,
              "ticks": ""
             }
            },
            "type": "scatterpolargl"
           }
          ],
          "scatterternary": [
           {
            "marker": {
             "colorbar": {
              "outlinewidth": 0,
              "ticks": ""
             }
            },
            "type": "scatterternary"
           }
          ],
          "surface": [
           {
            "colorbar": {
             "outlinewidth": 0,
             "ticks": ""
            },
            "colorscale": [
             [
              0,
              "#0d0887"
             ],
             [
              0.1111111111111111,
              "#46039f"
             ],
             [
              0.2222222222222222,
              "#7201a8"
             ],
             [
              0.3333333333333333,
              "#9c179e"
             ],
             [
              0.4444444444444444,
              "#bd3786"
             ],
             [
              0.5555555555555556,
              "#d8576b"
             ],
             [
              0.6666666666666666,
              "#ed7953"
             ],
             [
              0.7777777777777778,
              "#fb9f3a"
             ],
             [
              0.8888888888888888,
              "#fdca26"
             ],
             [
              1,
              "#f0f921"
             ]
            ],
            "type": "surface"
           }
          ],
          "table": [
           {
            "cells": {
             "fill": {
              "color": "#EBF0F8"
             },
             "line": {
              "color": "white"
             }
            },
            "header": {
             "fill": {
              "color": "#C8D4E3"
             },
             "line": {
              "color": "white"
             }
            },
            "type": "table"
           }
          ]
         },
         "layout": {
          "annotationdefaults": {
           "arrowcolor": "#2a3f5f",
           "arrowhead": 0,
           "arrowwidth": 1
          },
          "autotypenumbers": "strict",
          "coloraxis": {
           "colorbar": {
            "outlinewidth": 0,
            "ticks": ""
           }
          },
          "colorscale": {
           "diverging": [
            [
             0,
             "#8e0152"
            ],
            [
             0.1,
             "#c51b7d"
            ],
            [
             0.2,
             "#de77ae"
            ],
            [
             0.3,
             "#f1b6da"
            ],
            [
             0.4,
             "#fde0ef"
            ],
            [
             0.5,
             "#f7f7f7"
            ],
            [
             0.6,
             "#e6f5d0"
            ],
            [
             0.7,
             "#b8e186"
            ],
            [
             0.8,
             "#7fbc41"
            ],
            [
             0.9,
             "#4d9221"
            ],
            [
             1,
             "#276419"
            ]
           ],
           "sequential": [
            [
             0,
             "#0d0887"
            ],
            [
             0.1111111111111111,
             "#46039f"
            ],
            [
             0.2222222222222222,
             "#7201a8"
            ],
            [
             0.3333333333333333,
             "#9c179e"
            ],
            [
             0.4444444444444444,
             "#bd3786"
            ],
            [
             0.5555555555555556,
             "#d8576b"
            ],
            [
             0.6666666666666666,
             "#ed7953"
            ],
            [
             0.7777777777777778,
             "#fb9f3a"
            ],
            [
             0.8888888888888888,
             "#fdca26"
            ],
            [
             1,
             "#f0f921"
            ]
           ],
           "sequentialminus": [
            [
             0,
             "#0d0887"
            ],
            [
             0.1111111111111111,
             "#46039f"
            ],
            [
             0.2222222222222222,
             "#7201a8"
            ],
            [
             0.3333333333333333,
             "#9c179e"
            ],
            [
             0.4444444444444444,
             "#bd3786"
            ],
            [
             0.5555555555555556,
             "#d8576b"
            ],
            [
             0.6666666666666666,
             "#ed7953"
            ],
            [
             0.7777777777777778,
             "#fb9f3a"
            ],
            [
             0.8888888888888888,
             "#fdca26"
            ],
            [
             1,
             "#f0f921"
            ]
           ]
          },
          "colorway": [
           "#636efa",
           "#EF553B",
           "#00cc96",
           "#ab63fa",
           "#FFA15A",
           "#19d3f3",
           "#FF6692",
           "#B6E880",
           "#FF97FF",
           "#FECB52"
          ],
          "font": {
           "color": "#2a3f5f"
          },
          "geo": {
           "bgcolor": "white",
           "lakecolor": "white",
           "landcolor": "#E5ECF6",
           "showlakes": true,
           "showland": true,
           "subunitcolor": "white"
          },
          "hoverlabel": {
           "align": "left"
          },
          "hovermode": "closest",
          "mapbox": {
           "style": "light"
          },
          "paper_bgcolor": "white",
          "plot_bgcolor": "#E5ECF6",
          "polar": {
           "angularaxis": {
            "gridcolor": "white",
            "linecolor": "white",
            "ticks": ""
           },
           "bgcolor": "#E5ECF6",
           "radialaxis": {
            "gridcolor": "white",
            "linecolor": "white",
            "ticks": ""
           }
          },
          "scene": {
           "xaxis": {
            "backgroundcolor": "#E5ECF6",
            "gridcolor": "white",
            "gridwidth": 2,
            "linecolor": "white",
            "showbackground": true,
            "ticks": "",
            "zerolinecolor": "white"
           },
           "yaxis": {
            "backgroundcolor": "#E5ECF6",
            "gridcolor": "white",
            "gridwidth": 2,
            "linecolor": "white",
            "showbackground": true,
            "ticks": "",
            "zerolinecolor": "white"
           },
           "zaxis": {
            "backgroundcolor": "#E5ECF6",
            "gridcolor": "white",
            "gridwidth": 2,
            "linecolor": "white",
            "showbackground": true,
            "ticks": "",
            "zerolinecolor": "white"
           }
          },
          "shapedefaults": {
           "line": {
            "color": "#2a3f5f"
           }
          },
          "ternary": {
           "aaxis": {
            "gridcolor": "white",
            "linecolor": "white",
            "ticks": ""
           },
           "baxis": {
            "gridcolor": "white",
            "linecolor": "white",
            "ticks": ""
           },
           "bgcolor": "#E5ECF6",
           "caxis": {
            "gridcolor": "white",
            "linecolor": "white",
            "ticks": ""
           }
          },
          "title": {
           "x": 0.05
          },
          "xaxis": {
           "automargin": true,
           "gridcolor": "white",
           "linecolor": "white",
           "ticks": "",
           "title": {
            "standoff": 15
           },
           "zerolinecolor": "white",
           "zerolinewidth": 2
          },
          "yaxis": {
           "automargin": true,
           "gridcolor": "white",
           "linecolor": "white",
           "ticks": "",
           "title": {
            "standoff": 15
           },
           "zerolinecolor": "white",
           "zerolinewidth": 2
          }
         }
        },
        "title": {
         "text": "CO₂-uitstoot per ton voedsel en milieubeleid (EPI-score) per land (2022)"
        }
       }
      }
     },
     "metadata": {},
     "output_type": "display_data"
    }
   ],
   "source": [
    "import pandas as pd\n",
    "\n",
    "#bestanden inladen\n",
    "emissies = pd.read_csv(\"FAOSTAT_emissions.csv\")\n",
    "productie = pd.read_csv(\"FAOSTAT_production.csv\")\n",
    "epi = pd.read_csv(\"epi2022results05302022.csv\")\n",
    "\n",
    "# Bereken totale uitstoot per land\n",
    "emissie_per_land = emissies.groupby(\"Area\")[\"Value\"].sum().reset_index()\n",
    "emissie_per_land.columns = [\"Country\", \"Emissions_kt\"]\n",
    "\n",
    "# Bereken totale productie per land\n",
    "productie_per_land = productie.groupby(\"Area\")[\"Value\"].sum().reset_index()\n",
    "productie_per_land.columns = [\"Country\", \"Production_kt\"]\n",
    "\n",
    "# Combineer uitstoot en productie\n",
    "combined = pd.merge(emissie_per_land, productie_per_land, on=\"Country\")\n",
    "combined[\"Emissions_per_ton\"] = combined[\"Emissions_kt\"] / combined[\"Production_kt\"]\n",
    "\n",
    "# Voeg EPI-score toe\n",
    "epi = epi.rename(columns={\"country\": \"Country\", \"EPI.new\": \"EPI_Score\"})\n",
    "final = pd.merge(combined, epi[[\"Country\", \"EPI_Score\"]], on=\"Country\")\n",
    "\n",
    "import plotly.express as px\n",
    "\n",
    "# Visualisatie: choropleth + bubbels\n",
    "fig = px.choropleth(\n",
    "    final,\n",
    "    locations=\"Country\",\n",
    "    locationmode=\"country names\",\n",
    "    color=\"EPI_Score\",\n",
    "    color_continuous_scale=\"YlGn\",\n",
    "    title=\"CO₂-uitstoot per ton voedsel en milieubeleid (EPI-score) per land (2022)\",\n",
    ")\n",
    "\n",
    "bubble = px.scatter_geo(\n",
    "    final,\n",
    "    locations=\"Country\",\n",
    "    locationmode=\"country names\",\n",
    "    size=\"Emissions_per_ton\",\n",
    "    hover_name=\"Country\",\n",
    "    size_max=30,\n",
    "    color_discrete_sequence=[\"lightblue\"]  # bubbels in lichtblauw\n",
    ")\n",
    "\n",
    "fig.add_trace(bubble.data[0])\n",
    "fig.update_layout(height=600)\n",
    "fig.show()"
   ]
  },
  {
   "cell_type": "code",
   "execution_count": 16,
   "metadata": {},
   "outputs": [
    {
     "data": {
      "application/vnd.plotly.v1+json": {
       "config": {
        "plotlyServerURL": "https://plot.ly"
       },
       "data": [
        {
         "colorbar": {
          "len": 0.6,
          "title": {
           "text": "EPI Score"
          },
          "x": 1.02
         },
         "colorscale": [
          [
           0,
           "rgb(255,255,229)"
          ],
          [
           0.125,
           "rgb(247,252,185)"
          ],
          [
           0.25,
           "rgb(217,240,163)"
          ],
          [
           0.375,
           "rgb(173,221,142)"
          ],
          [
           0.5,
           "rgb(120,198,121)"
          ],
          [
           0.625,
           "rgb(65,171,93)"
          ],
          [
           0.75,
           "rgb(35,132,67)"
          ],
          [
           0.875,
           "rgb(0,104,55)"
          ],
          [
           1,
           "rgb(0,69,41)"
          ]
         ],
         "locationmode": "country names",
         "locations": [
          "Afghanistan",
          "Albania",
          "Algeria",
          "Angola",
          "Antigua and Barbuda",
          "Argentina",
          "Armenia",
          "Australia",
          "Austria",
          "Azerbaijan",
          "Bahamas",
          "Bahrain",
          "Bangladesh",
          "Barbados",
          "Belarus",
          "Belgium",
          "Belize",
          "Benin",
          "Bhutan",
          "Bosnia and Herzegovina",
          "Botswana",
          "Brazil",
          "Brunei Darussalam",
          "Bulgaria",
          "Burkina Faso",
          "Burundi",
          "Cabo Verde",
          "Cambodia",
          "Cameroon",
          "Canada",
          "Central African Republic",
          "Chad",
          "Chile",
          "China",
          "Colombia",
          "Comoros",
          "Costa Rica",
          "Croatia",
          "Cuba",
          "Cyprus",
          "Denmark",
          "Djibouti",
          "Dominica",
          "Dominican Republic",
          "Ecuador",
          "Egypt",
          "El Salvador",
          "Equatorial Guinea",
          "Eritrea",
          "Estonia",
          "Eswatini",
          "Ethiopia",
          "Fiji",
          "Finland",
          "France",
          "Gabon",
          "Gambia",
          "Georgia",
          "Germany",
          "Ghana",
          "Greece",
          "Grenada",
          "Guatemala",
          "Guinea",
          "Guinea-Bissau",
          "Guyana",
          "Haiti",
          "Honduras",
          "Hungary",
          "Iceland",
          "India",
          "Indonesia",
          "Iraq",
          "Ireland",
          "Israel",
          "Italy",
          "Jamaica",
          "Japan",
          "Jordan",
          "Kazakhstan",
          "Kenya",
          "Kiribati",
          "Kuwait",
          "Kyrgyzstan",
          "Latvia",
          "Lebanon",
          "Lesotho",
          "Liberia",
          "Lithuania",
          "Luxembourg",
          "Madagascar",
          "Malawi",
          "Malaysia",
          "Maldives",
          "Mali",
          "Malta",
          "Marshall Islands",
          "Mauritania",
          "Mauritius",
          "Mexico",
          "Mongolia",
          "Montenegro",
          "Morocco",
          "Mozambique",
          "Myanmar",
          "Namibia",
          "Nepal",
          "New Zealand",
          "Nicaragua",
          "Niger",
          "Nigeria",
          "North Macedonia",
          "Norway",
          "Oman",
          "Pakistan",
          "Panama",
          "Papua New Guinea",
          "Paraguay",
          "Peru",
          "Philippines",
          "Poland",
          "Portugal",
          "Qatar",
          "Romania",
          "Rwanda",
          "Saint Lucia",
          "Saint Vincent and the Grenadines",
          "Samoa",
          "Sao Tome and Principe",
          "Saudi Arabia",
          "Senegal",
          "Serbia",
          "Seychelles",
          "Sierra Leone",
          "Singapore",
          "Slovakia",
          "Slovenia",
          "Solomon Islands",
          "South Africa",
          "Spain",
          "Sri Lanka",
          "Sudan",
          "Suriname",
          "Sweden",
          "Switzerland",
          "Tajikistan",
          "Thailand",
          "Timor-Leste",
          "Togo",
          "Tonga",
          "Trinidad and Tobago",
          "Tunisia",
          "Turkmenistan",
          "Uganda",
          "Ukraine",
          "United Arab Emirates",
          "United States of America",
          "Uruguay",
          "Uzbekistan",
          "Vanuatu",
          "Viet Nam",
          "Zambia",
          "Zimbabwe"
         ],
         "showscale": true,
         "type": "choropleth",
         "z": [
          43.6,
          47.1,
          29.6,
          30.5,
          52.4,
          41.1,
          48.3,
          60.1,
          66.5,
          38.6,
          56.2,
          42,
          23.1,
          53.2,
          48.5,
          58.2,
          50,
          29.6,
          42.5,
          39.4,
          54,
          43.6,
          45.7,
          51.9,
          35.5,
          30.5,
          41.9,
          30.1,
          30.2,
          50,
          44.9,
          28.1,
          46.7,
          28.4,
          42.4,
          42.5,
          46.3,
          60.2,
          47.5,
          58,
          77.9,
          47.5,
          51.2,
          42.2,
          46.5,
          35.5,
          40.8,
          44.8,
          31.7,
          61.4,
          44.9,
          31.8,
          31.3,
          76.5,
          62.5,
          49.7,
          36.4,
          39.1,
          62.4,
          27.7,
          56.2,
          47.9,
          28,
          31.6,
          40.2,
          38.5,
          26.1,
          36.5,
          55.1,
          62.8,
          18.9,
          28.2,
          27.8,
          57.4,
          48.2,
          57.7,
          45.6,
          57.2,
          43.6,
          40.9,
          30.8,
          49,
          42.4,
          35.7,
          61.1,
          32.2,
          32.3,
          24.9,
          55.9,
          72.3,
          28,
          40.6,
          35,
          37.4,
          28.5,
          75.2,
          36.2,
          28.1,
          44.8,
          45.5,
          29.6,
          46.9,
          28.4,
          31.7,
          19.4,
          50.9,
          28.3,
          56.7,
          37.7,
          37.7,
          28.3,
          54.3,
          59.3,
          30.7,
          24.6,
          50.5,
          24.8,
          40.9,
          39.8,
          28.9,
          50.6,
          50.4,
          33,
          56,
          32.8,
          49.4,
          53.2,
          36.4,
          52.9,
          37.9,
          33.9,
          43.9,
          55.6,
          32.7,
          50.9,
          60,
          67.3,
          35,
          37.2,
          56.6,
          34.7,
          27.6,
          45.9,
          72.7,
          65.9,
          37.1,
          38.1,
          35.1,
          34,
          43.8,
          47.8,
          40.7,
          37,
          35.8,
          49.6,
          52.4,
          51.1,
          37.4,
          38.2,
          36.9,
          20.1,
          38.4,
          46.2
         ],
         "zmax": 100,
         "zmin": 0
        },
        {
         "locationmode": "country names",
         "locations": [
          "Afghanistan",
          "Albania",
          "Algeria",
          "Angola",
          "Antigua and Barbuda",
          "Argentina",
          "Armenia",
          "Australia",
          "Austria",
          "Azerbaijan",
          "Bahamas",
          "Bahrain",
          "Bangladesh",
          "Barbados",
          "Belarus",
          "Belgium",
          "Belize",
          "Benin",
          "Bhutan",
          "Bosnia and Herzegovina",
          "Botswana",
          "Brazil",
          "Brunei Darussalam",
          "Bulgaria",
          "Burkina Faso",
          "Burundi",
          "Cabo Verde",
          "Cambodia",
          "Cameroon",
          "Canada",
          "Central African Republic",
          "Chad",
          "Chile",
          "China",
          "Colombia",
          "Comoros",
          "Costa Rica",
          "Croatia",
          "Cuba",
          "Cyprus",
          "Denmark",
          "Djibouti",
          "Dominica",
          "Dominican Republic",
          "Ecuador",
          "Egypt",
          "El Salvador",
          "Equatorial Guinea",
          "Eritrea",
          "Estonia",
          "Eswatini",
          "Ethiopia",
          "Fiji",
          "Finland",
          "France",
          "Gabon",
          "Gambia",
          "Georgia",
          "Germany",
          "Ghana",
          "Greece",
          "Grenada",
          "Guatemala",
          "Guinea",
          "Guinea-Bissau",
          "Guyana",
          "Haiti",
          "Honduras",
          "Hungary",
          "Iceland",
          "India",
          "Indonesia",
          "Iraq",
          "Ireland",
          "Israel",
          "Italy",
          "Jamaica",
          "Japan",
          "Jordan",
          "Kazakhstan",
          "Kenya",
          "Kiribati",
          "Kuwait",
          "Kyrgyzstan",
          "Latvia",
          "Lebanon",
          "Lesotho",
          "Liberia",
          "Lithuania",
          "Luxembourg",
          "Madagascar",
          "Malawi",
          "Malaysia",
          "Maldives",
          "Mali",
          "Malta",
          "Marshall Islands",
          "Mauritania",
          "Mauritius",
          "Mexico",
          "Mongolia",
          "Montenegro",
          "Morocco",
          "Mozambique",
          "Myanmar",
          "Namibia",
          "Nepal",
          "New Zealand",
          "Nicaragua",
          "Niger",
          "Nigeria",
          "North Macedonia",
          "Norway",
          "Oman",
          "Pakistan",
          "Panama",
          "Papua New Guinea",
          "Paraguay",
          "Peru",
          "Philippines",
          "Poland",
          "Portugal",
          "Qatar",
          "Romania",
          "Rwanda",
          "Saint Lucia",
          "Saint Vincent and the Grenadines",
          "Samoa",
          "Sao Tome and Principe",
          "Saudi Arabia",
          "Senegal",
          "Serbia",
          "Seychelles",
          "Sierra Leone",
          "Singapore",
          "Slovakia",
          "Slovenia",
          "Solomon Islands",
          "South Africa",
          "Spain",
          "Sri Lanka",
          "Sudan",
          "Suriname",
          "Sweden",
          "Switzerland",
          "Tajikistan",
          "Thailand",
          "Timor-Leste",
          "Togo",
          "Tonga",
          "Trinidad and Tobago",
          "Tunisia",
          "Turkmenistan",
          "Uganda",
          "Ukraine",
          "United Arab Emirates",
          "United States of America",
          "Uruguay",
          "Uzbekistan",
          "Vanuatu",
          "Viet Nam",
          "Zambia",
          "Zimbabwe"
         ],
         "marker": {
          "cmax": 0.026486541953970197,
          "cmin": 0.0020503836815181243,
          "color": [
           0.002898862962610612,
           0.002120062605600051,
           0.009446176906859971,
           0.004879722126956905,
           0.023722081426822403,
           0.0022515467166070342,
           0.0030104371142605393,
           0.004651092775570363,
           0.003597058897587404,
           0.0053167996250166275,
           0.01853000856035883,
           0.3533192912453102,
           0.0025315181274931757,
           0.008097109411098117,
           0.004563602403684624,
           0.004652859261132565,
           0.0029132886303075505,
           0.0021576384820052768,
           0.00531600993961268,
           0.006710126089559631,
           0.06730683462960632,
           0.0014584191607515133,
           0.0737482703009345,
           0.0019747264886464627,
           0.004431895851236095,
           0.0016802979255188246,
           0.008133862570089948,
           0.0026648779618013985,
           0.0025560591360563913,
           0.0066026459109679485,
           0.018982687318802673,
           0.015607574857180548,
           0.0036944938563031214,
           0.005621039308819657,
           0.0034060188657672845,
           0.0026559456375607714,
           0.0008140773299086506,
           0.0033108553540217908,
           0.0025169578439201644,
           0.011923156152275552,
           0.0017456894132878065,
           0.02677022051926641,
           0.0017113217047609907,
           0.0023625663627681926,
           0.0035581432382557703,
           0.0037265587370027948,
           0.0014152899668649819,
           0.046760751721564846,
           0.009738354572365417,
           0.008959085612545136,
           0.0005789063783043981,
           0.004494964749877954,
           0.000026325431407133066,
           0.008701259185095542,
           0.0023250521810328066,
           0.010604791326163245,
           0.010322170281293381,
           0.006525557981669952,
           0.004701715310957151,
           0.0005965608288603952,
           0.00570879227993024,
           0.005458351005547115,
           0.0009963404726098576,
           0.0031129614670252857,
           0.004642172071699976,
           0.007482659151707518,
           0.004626474827593182,
           0.0023706386757743614,
           0.004084718322415637,
           0.021109903673700577,
           0.0027101006163370947,
           0.003453301802543469,
           0.03801600629388566,
           0.004186125531479347,
           0.010554257193548662,
           0.005934021191673866,
           0.004920816087862177,
           0.012702783939458987,
           0.009337429760093741,
           0.0069413703558306025,
           0.002719255918294925,
           0.0005936851530381235,
           0.09248657544618398,
           0.0022379631186489357,
           0.0030326330873524,
           0.008026127279654852,
           0.008577420249045965,
           0.008697857136655478,
           0.004065870529786089,
           0.011425924576238136,
           0.003604928608338985,
           0.0008879180409352974,
           0.0035815251167546688,
           0.2860740809527412,
           0.0024771859684645826,
           0.025351827692785267,
           0.00391622783556216,
           0.012437145541619109,
           0.00264421613450581,
           0.0038256528344032645,
           0.042019080076055766,
           0.007505617916528913,
           0.0043405899610159575,
           0.006620849592058855,
           0.003956049192346246,
           0.021446193289644915,
           0.0020662620635440118,
           0.00213370792605079,
           0.003003083899494798,
           0.0028089190777909165,
           0.0022737169762736763,
           0.0044242538248777455,
           0.011178867838862282,
           0.04624674295261607,
           0.0021840258223799073,
           0.00431682423460376,
           0.006076233866274302,
           0.003567780791998664,
           0.00382616324943693,
           0.0025528748463979336,
           0.003986805664413284,
           0.005635017565789904,
           0.4792207390393009,
           0.002379105188310008,
           0.0014804372837427886,
           0.008553945545191247,
           0.004037507848431491,
           0.0038482305182950434,
           0.004454821495323621,
           0.05002894664057633,
           0.0030376986340260935,
           0.0038491847871917023,
           0.014207436932865612,
           0.00221663670237774,
           0.07434978624312936,
           0.00514170842213575,
           0.0072970843470772555,
           0.05511022613943834,
           0.007978036272788668,
           0.003462679514986399,
           0.0026502242897452877,
           0.00459850449649627,
           0.03153572366499172,
           0.003497200382919034,
           0.004594739259049076,
           0.0020464140860116525,
           0.00225182590282893,
           0.009129619092024161,
           0.002641627096847405,
           0.002537635198650625,
           0.24716410136034667,
           0.00411804529309797,
           0.012369714710153504,
           0.0023144412692786345,
           0.0018243122894408866,
           0.12436970559777036,
           0.006169908294967385,
           0.003054548211748956,
           0.003809640259430899,
           0.0010807316000986896,
           0.004122950291148147,
           0.008002287226069259,
           0.008100300405872032
          ],
          "colorbar": {
           "len": 1,
           "orientation": "h",
           "thickness": 20,
           "tickangle": 0,
           "tickvals": [
            0.002,
            0.014,
            0.026
           ],
           "title": {
            "text": "CO₂-uitstoot per ton voedsel"
           },
           "x": 0.5,
           "xanchor": "center",
           "y": -0.12
          },
          "colorscale": [
           [
            0,
            "#ffffcc"
           ],
           [
            0.25,
            "#ffcc66"
           ],
           [
            0.5,
            "#ff9933"
           ],
           [
            0.75,
            "#cc3300"
           ],
           [
            1,
            "#660000"
           ]
          ],
          "size": 4
         },
         "name": "Uitstoot per ton",
         "text": [
          "Afghanistan",
          "Albania",
          "Algeria",
          "Angola",
          "Antigua and Barbuda",
          "Argentina",
          "Armenia",
          "Australia",
          "Austria",
          "Azerbaijan",
          "Bahamas",
          "Bahrain",
          "Bangladesh",
          "Barbados",
          "Belarus",
          "Belgium",
          "Belize",
          "Benin",
          "Bhutan",
          "Bosnia and Herzegovina",
          "Botswana",
          "Brazil",
          "Brunei Darussalam",
          "Bulgaria",
          "Burkina Faso",
          "Burundi",
          "Cabo Verde",
          "Cambodia",
          "Cameroon",
          "Canada",
          "Central African Republic",
          "Chad",
          "Chile",
          "China",
          "Colombia",
          "Comoros",
          "Costa Rica",
          "Croatia",
          "Cuba",
          "Cyprus",
          "Denmark",
          "Djibouti",
          "Dominica",
          "Dominican Republic",
          "Ecuador",
          "Egypt",
          "El Salvador",
          "Equatorial Guinea",
          "Eritrea",
          "Estonia",
          "Eswatini",
          "Ethiopia",
          "Fiji",
          "Finland",
          "France",
          "Gabon",
          "Gambia",
          "Georgia",
          "Germany",
          "Ghana",
          "Greece",
          "Grenada",
          "Guatemala",
          "Guinea",
          "Guinea-Bissau",
          "Guyana",
          "Haiti",
          "Honduras",
          "Hungary",
          "Iceland",
          "India",
          "Indonesia",
          "Iraq",
          "Ireland",
          "Israel",
          "Italy",
          "Jamaica",
          "Japan",
          "Jordan",
          "Kazakhstan",
          "Kenya",
          "Kiribati",
          "Kuwait",
          "Kyrgyzstan",
          "Latvia",
          "Lebanon",
          "Lesotho",
          "Liberia",
          "Lithuania",
          "Luxembourg",
          "Madagascar",
          "Malawi",
          "Malaysia",
          "Maldives",
          "Mali",
          "Malta",
          "Marshall Islands",
          "Mauritania",
          "Mauritius",
          "Mexico",
          "Mongolia",
          "Montenegro",
          "Morocco",
          "Mozambique",
          "Myanmar",
          "Namibia",
          "Nepal",
          "New Zealand",
          "Nicaragua",
          "Niger",
          "Nigeria",
          "North Macedonia",
          "Norway",
          "Oman",
          "Pakistan",
          "Panama",
          "Papua New Guinea",
          "Paraguay",
          "Peru",
          "Philippines",
          "Poland",
          "Portugal",
          "Qatar",
          "Romania",
          "Rwanda",
          "Saint Lucia",
          "Saint Vincent and the Grenadines",
          "Samoa",
          "Sao Tome and Principe",
          "Saudi Arabia",
          "Senegal",
          "Serbia",
          "Seychelles",
          "Sierra Leone",
          "Singapore",
          "Slovakia",
          "Slovenia",
          "Solomon Islands",
          "South Africa",
          "Spain",
          "Sri Lanka",
          "Sudan",
          "Suriname",
          "Sweden",
          "Switzerland",
          "Tajikistan",
          "Thailand",
          "Timor-Leste",
          "Togo",
          "Tonga",
          "Trinidad and Tobago",
          "Tunisia",
          "Turkmenistan",
          "Uganda",
          "Ukraine",
          "United Arab Emirates",
          "United States of America",
          "Uruguay",
          "Uzbekistan",
          "Vanuatu",
          "Viet Nam",
          "Zambia",
          "Zimbabwe"
         ],
         "type": "scattergeo"
        }
       ],
       "layout": {
        "geo": {
         "projection": {
          "type": "equirectangular"
         },
         "showcoastlines": true,
         "showframe": false
        },
        "height": 550,
        "template": {
         "data": {
          "bar": [
           {
            "error_x": {
             "color": "#2a3f5f"
            },
            "error_y": {
             "color": "#2a3f5f"
            },
            "marker": {
             "line": {
              "color": "#E5ECF6",
              "width": 0.5
             },
             "pattern": {
              "fillmode": "overlay",
              "size": 10,
              "solidity": 0.2
             }
            },
            "type": "bar"
           }
          ],
          "barpolar": [
           {
            "marker": {
             "line": {
              "color": "#E5ECF6",
              "width": 0.5
             },
             "pattern": {
              "fillmode": "overlay",
              "size": 10,
              "solidity": 0.2
             }
            },
            "type": "barpolar"
           }
          ],
          "carpet": [
           {
            "aaxis": {
             "endlinecolor": "#2a3f5f",
             "gridcolor": "white",
             "linecolor": "white",
             "minorgridcolor": "white",
             "startlinecolor": "#2a3f5f"
            },
            "baxis": {
             "endlinecolor": "#2a3f5f",
             "gridcolor": "white",
             "linecolor": "white",
             "minorgridcolor": "white",
             "startlinecolor": "#2a3f5f"
            },
            "type": "carpet"
           }
          ],
          "choropleth": [
           {
            "colorbar": {
             "outlinewidth": 0,
             "ticks": ""
            },
            "type": "choropleth"
           }
          ],
          "contour": [
           {
            "colorbar": {
             "outlinewidth": 0,
             "ticks": ""
            },
            "colorscale": [
             [
              0,
              "#0d0887"
             ],
             [
              0.1111111111111111,
              "#46039f"
             ],
             [
              0.2222222222222222,
              "#7201a8"
             ],
             [
              0.3333333333333333,
              "#9c179e"
             ],
             [
              0.4444444444444444,
              "#bd3786"
             ],
             [
              0.5555555555555556,
              "#d8576b"
             ],
             [
              0.6666666666666666,
              "#ed7953"
             ],
             [
              0.7777777777777778,
              "#fb9f3a"
             ],
             [
              0.8888888888888888,
              "#fdca26"
             ],
             [
              1,
              "#f0f921"
             ]
            ],
            "type": "contour"
           }
          ],
          "contourcarpet": [
           {
            "colorbar": {
             "outlinewidth": 0,
             "ticks": ""
            },
            "type": "contourcarpet"
           }
          ],
          "heatmap": [
           {
            "colorbar": {
             "outlinewidth": 0,
             "ticks": ""
            },
            "colorscale": [
             [
              0,
              "#0d0887"
             ],
             [
              0.1111111111111111,
              "#46039f"
             ],
             [
              0.2222222222222222,
              "#7201a8"
             ],
             [
              0.3333333333333333,
              "#9c179e"
             ],
             [
              0.4444444444444444,
              "#bd3786"
             ],
             [
              0.5555555555555556,
              "#d8576b"
             ],
             [
              0.6666666666666666,
              "#ed7953"
             ],
             [
              0.7777777777777778,
              "#fb9f3a"
             ],
             [
              0.8888888888888888,
              "#fdca26"
             ],
             [
              1,
              "#f0f921"
             ]
            ],
            "type": "heatmap"
           }
          ],
          "heatmapgl": [
           {
            "colorbar": {
             "outlinewidth": 0,
             "ticks": ""
            },
            "colorscale": [
             [
              0,
              "#0d0887"
             ],
             [
              0.1111111111111111,
              "#46039f"
             ],
             [
              0.2222222222222222,
              "#7201a8"
             ],
             [
              0.3333333333333333,
              "#9c179e"
             ],
             [
              0.4444444444444444,
              "#bd3786"
             ],
             [
              0.5555555555555556,
              "#d8576b"
             ],
             [
              0.6666666666666666,
              "#ed7953"
             ],
             [
              0.7777777777777778,
              "#fb9f3a"
             ],
             [
              0.8888888888888888,
              "#fdca26"
             ],
             [
              1,
              "#f0f921"
             ]
            ],
            "type": "heatmapgl"
           }
          ],
          "histogram": [
           {
            "marker": {
             "pattern": {
              "fillmode": "overlay",
              "size": 10,
              "solidity": 0.2
             }
            },
            "type": "histogram"
           }
          ],
          "histogram2d": [
           {
            "colorbar": {
             "outlinewidth": 0,
             "ticks": ""
            },
            "colorscale": [
             [
              0,
              "#0d0887"
             ],
             [
              0.1111111111111111,
              "#46039f"
             ],
             [
              0.2222222222222222,
              "#7201a8"
             ],
             [
              0.3333333333333333,
              "#9c179e"
             ],
             [
              0.4444444444444444,
              "#bd3786"
             ],
             [
              0.5555555555555556,
              "#d8576b"
             ],
             [
              0.6666666666666666,
              "#ed7953"
             ],
             [
              0.7777777777777778,
              "#fb9f3a"
             ],
             [
              0.8888888888888888,
              "#fdca26"
             ],
             [
              1,
              "#f0f921"
             ]
            ],
            "type": "histogram2d"
           }
          ],
          "histogram2dcontour": [
           {
            "colorbar": {
             "outlinewidth": 0,
             "ticks": ""
            },
            "colorscale": [
             [
              0,
              "#0d0887"
             ],
             [
              0.1111111111111111,
              "#46039f"
             ],
             [
              0.2222222222222222,
              "#7201a8"
             ],
             [
              0.3333333333333333,
              "#9c179e"
             ],
             [
              0.4444444444444444,
              "#bd3786"
             ],
             [
              0.5555555555555556,
              "#d8576b"
             ],
             [
              0.6666666666666666,
              "#ed7953"
             ],
             [
              0.7777777777777778,
              "#fb9f3a"
             ],
             [
              0.8888888888888888,
              "#fdca26"
             ],
             [
              1,
              "#f0f921"
             ]
            ],
            "type": "histogram2dcontour"
           }
          ],
          "mesh3d": [
           {
            "colorbar": {
             "outlinewidth": 0,
             "ticks": ""
            },
            "type": "mesh3d"
           }
          ],
          "parcoords": [
           {
            "line": {
             "colorbar": {
              "outlinewidth": 0,
              "ticks": ""
             }
            },
            "type": "parcoords"
           }
          ],
          "pie": [
           {
            "automargin": true,
            "type": "pie"
           }
          ],
          "scatter": [
           {
            "fillpattern": {
             "fillmode": "overlay",
             "size": 10,
             "solidity": 0.2
            },
            "type": "scatter"
           }
          ],
          "scatter3d": [
           {
            "line": {
             "colorbar": {
              "outlinewidth": 0,
              "ticks": ""
             }
            },
            "marker": {
             "colorbar": {
              "outlinewidth": 0,
              "ticks": ""
             }
            },
            "type": "scatter3d"
           }
          ],
          "scattercarpet": [
           {
            "marker": {
             "colorbar": {
              "outlinewidth": 0,
              "ticks": ""
             }
            },
            "type": "scattercarpet"
           }
          ],
          "scattergeo": [
           {
            "marker": {
             "colorbar": {
              "outlinewidth": 0,
              "ticks": ""
             }
            },
            "type": "scattergeo"
           }
          ],
          "scattergl": [
           {
            "marker": {
             "colorbar": {
              "outlinewidth": 0,
              "ticks": ""
             }
            },
            "type": "scattergl"
           }
          ],
          "scattermapbox": [
           {
            "marker": {
             "colorbar": {
              "outlinewidth": 0,
              "ticks": ""
             }
            },
            "type": "scattermapbox"
           }
          ],
          "scatterpolar": [
           {
            "marker": {
             "colorbar": {
              "outlinewidth": 0,
              "ticks": ""
             }
            },
            "type": "scatterpolar"
           }
          ],
          "scatterpolargl": [
           {
            "marker": {
             "colorbar": {
              "outlinewidth": 0,
              "ticks": ""
             }
            },
            "type": "scatterpolargl"
           }
          ],
          "scatterternary": [
           {
            "marker": {
             "colorbar": {
              "outlinewidth": 0,
              "ticks": ""
             }
            },
            "type": "scatterternary"
           }
          ],
          "surface": [
           {
            "colorbar": {
             "outlinewidth": 0,
             "ticks": ""
            },
            "colorscale": [
             [
              0,
              "#0d0887"
             ],
             [
              0.1111111111111111,
              "#46039f"
             ],
             [
              0.2222222222222222,
              "#7201a8"
             ],
             [
              0.3333333333333333,
              "#9c179e"
             ],
             [
              0.4444444444444444,
              "#bd3786"
             ],
             [
              0.5555555555555556,
              "#d8576b"
             ],
             [
              0.6666666666666666,
              "#ed7953"
             ],
             [
              0.7777777777777778,
              "#fb9f3a"
             ],
             [
              0.8888888888888888,
              "#fdca26"
             ],
             [
              1,
              "#f0f921"
             ]
            ],
            "type": "surface"
           }
          ],
          "table": [
           {
            "cells": {
             "fill": {
              "color": "#EBF0F8"
             },
             "line": {
              "color": "white"
             }
            },
            "header": {
             "fill": {
              "color": "#C8D4E3"
             },
             "line": {
              "color": "white"
             }
            },
            "type": "table"
           }
          ]
         },
         "layout": {
          "annotationdefaults": {
           "arrowcolor": "#2a3f5f",
           "arrowhead": 0,
           "arrowwidth": 1
          },
          "autotypenumbers": "strict",
          "coloraxis": {
           "colorbar": {
            "outlinewidth": 0,
            "ticks": ""
           }
          },
          "colorscale": {
           "diverging": [
            [
             0,
             "#8e0152"
            ],
            [
             0.1,
             "#c51b7d"
            ],
            [
             0.2,
             "#de77ae"
            ],
            [
             0.3,
             "#f1b6da"
            ],
            [
             0.4,
             "#fde0ef"
            ],
            [
             0.5,
             "#f7f7f7"
            ],
            [
             0.6,
             "#e6f5d0"
            ],
            [
             0.7,
             "#b8e186"
            ],
            [
             0.8,
             "#7fbc41"
            ],
            [
             0.9,
             "#4d9221"
            ],
            [
             1,
             "#276419"
            ]
           ],
           "sequential": [
            [
             0,
             "#0d0887"
            ],
            [
             0.1111111111111111,
             "#46039f"
            ],
            [
             0.2222222222222222,
             "#7201a8"
            ],
            [
             0.3333333333333333,
             "#9c179e"
            ],
            [
             0.4444444444444444,
             "#bd3786"
            ],
            [
             0.5555555555555556,
             "#d8576b"
            ],
            [
             0.6666666666666666,
             "#ed7953"
            ],
            [
             0.7777777777777778,
             "#fb9f3a"
            ],
            [
             0.8888888888888888,
             "#fdca26"
            ],
            [
             1,
             "#f0f921"
            ]
           ],
           "sequentialminus": [
            [
             0,
             "#0d0887"
            ],
            [
             0.1111111111111111,
             "#46039f"
            ],
            [
             0.2222222222222222,
             "#7201a8"
            ],
            [
             0.3333333333333333,
             "#9c179e"
            ],
            [
             0.4444444444444444,
             "#bd3786"
            ],
            [
             0.5555555555555556,
             "#d8576b"
            ],
            [
             0.6666666666666666,
             "#ed7953"
            ],
            [
             0.7777777777777778,
             "#fb9f3a"
            ],
            [
             0.8888888888888888,
             "#fdca26"
            ],
            [
             1,
             "#f0f921"
            ]
           ]
          },
          "colorway": [
           "#636efa",
           "#EF553B",
           "#00cc96",
           "#ab63fa",
           "#FFA15A",
           "#19d3f3",
           "#FF6692",
           "#B6E880",
           "#FF97FF",
           "#FECB52"
          ],
          "font": {
           "color": "#2a3f5f"
          },
          "geo": {
           "bgcolor": "white",
           "lakecolor": "white",
           "landcolor": "#E5ECF6",
           "showlakes": true,
           "showland": true,
           "subunitcolor": "white"
          },
          "hoverlabel": {
           "align": "left"
          },
          "hovermode": "closest",
          "mapbox": {
           "style": "light"
          },
          "paper_bgcolor": "white",
          "plot_bgcolor": "#E5ECF6",
          "polar": {
           "angularaxis": {
            "gridcolor": "white",
            "linecolor": "white",
            "ticks": ""
           },
           "bgcolor": "#E5ECF6",
           "radialaxis": {
            "gridcolor": "white",
            "linecolor": "white",
            "ticks": ""
           }
          },
          "scene": {
           "xaxis": {
            "backgroundcolor": "#E5ECF6",
            "gridcolor": "white",
            "gridwidth": 2,
            "linecolor": "white",
            "showbackground": true,
            "ticks": "",
            "zerolinecolor": "white"
           },
           "yaxis": {
            "backgroundcolor": "#E5ECF6",
            "gridcolor": "white",
            "gridwidth": 2,
            "linecolor": "white",
            "showbackground": true,
            "ticks": "",
            "zerolinecolor": "white"
           },
           "zaxis": {
            "backgroundcolor": "#E5ECF6",
            "gridcolor": "white",
            "gridwidth": 2,
            "linecolor": "white",
            "showbackground": true,
            "ticks": "",
            "zerolinecolor": "white"
           }
          },
          "shapedefaults": {
           "line": {
            "color": "#2a3f5f"
           }
          },
          "ternary": {
           "aaxis": {
            "gridcolor": "white",
            "linecolor": "white",
            "ticks": ""
           },
           "baxis": {
            "gridcolor": "white",
            "linecolor": "white",
            "ticks": ""
           },
           "bgcolor": "#E5ECF6",
           "caxis": {
            "gridcolor": "white",
            "linecolor": "white",
            "ticks": ""
           }
          },
          "title": {
           "x": 0.05
          },
          "xaxis": {
           "automargin": true,
           "gridcolor": "white",
           "linecolor": "white",
           "ticks": "",
           "title": {
            "standoff": 15
           },
           "zerolinecolor": "white",
           "zerolinewidth": 2
          },
          "yaxis": {
           "automargin": true,
           "gridcolor": "white",
           "linecolor": "white",
           "ticks": "",
           "title": {
            "standoff": 15
           },
           "zerolinecolor": "white",
           "zerolinewidth": 2
          }
         }
        },
        "title": {
         "text": "CO₂-uitstoot per ton voedsel en milieubeleid (EPI-score) per land (2022)"
        }
       }
      }
     },
     "metadata": {},
     "output_type": "display_data"
    }
   ],
   "source": [
    "import pandas as pd\n",
    "import plotly.graph_objects as go\n",
    "\n",
    "# Data inladen\n",
    "emissies = pd.read_csv(\"FAOSTAT_landbouw_emissies_2022.csv\")\n",
    "productie = pd.read_csv(\"FAOSTAT_production.csv\")\n",
    "epi = pd.read_csv(\"epi2022results05302022.csv\")\n",
    "\n",
    "# Data verwerken\n",
    "emissie_per_land = emissies.groupby(\"Area\")[\"Value\"].sum().reset_index()\n",
    "emissie_per_land.columns = [\"Country\", \"Emissions_kt\"]\n",
    "\n",
    "productie_per_land = productie.groupby(\"Area\")[\"Value\"].sum().reset_index()\n",
    "productie_per_land.columns = [\"Country\", \"Production_kt\"]\n",
    "\n",
    "combined = pd.merge(emissie_per_land, productie_per_land, on=\"Country\")\n",
    "combined[\"Emissions_per_ton\"] = combined[\"Emissions_kt\"] / combined[\"Production_kt\"]\n",
    "\n",
    "epi = epi.rename(columns={\"country\": \"Country\", \"EPI.new\": \"EPI_Score\"})\n",
    "final = pd.merge(combined, epi[[\"Country\", \"EPI_Score\"]], on=\"Country\")\n",
    "\n",
    "# Percentielen voor contrast in kleur\n",
    "p10 = final[\"Emissions_per_ton\"].quantile(0.10)\n",
    "p90 = final[\"Emissions_per_ton\"].quantile(0.90)\n",
    "\n",
    "# Choropleth: EPI-score als achtergrond\n",
    "choropleth = go.Choropleth(\n",
    "    locations=final[\"Country\"],\n",
    "    locationmode=\"country names\",\n",
    "    z=final[\"EPI_Score\"],\n",
    "    colorscale=\"YlGn\",\n",
    "    zmin=0,\n",
    "    zmax=100,\n",
    "    showscale=True,\n",
    "    colorbar=dict(\n",
    "        title=\"EPI Score\",\n",
    "        x=1.02,\n",
    "        len=0.6\n",
    "    )\n",
    ")\n",
    "\n",
    "# Scatter met horizontale legenda, goed uitgelijnd\n",
    "scatter = go.Scattergeo(\n",
    "    locationmode='country names',\n",
    "    locations=final[\"Country\"],\n",
    "    text=final[\"Country\"],\n",
    "    marker=dict(\n",
    "        size=4,\n",
    "        color=final[\"Emissions_per_ton\"],\n",
    "        colorscale=[\"#ffffcc\", \"#ffcc66\", \"#ff9933\", \"#cc3300\", \"#660000\"],\n",
    "        cmin=p10,\n",
    "        cmax=p90,\n",
    "        colorbar=dict(\n",
    "            title=\"CO₂-uitstoot per ton voedsel\",\n",
    "            orientation=\"h\",\n",
    "            tickangle=0,\n",
    "            x=0.5,\n",
    "            xanchor=\"center\",\n",
    "            y=-0.12,             # minder witte ruimte\n",
    "            len=1.0,\n",
    "            thickness=20,\n",
    "            tickvals=[round(p10, 3), round((p10 + p90) / 2, 3), round(p90, 3)]\n",
    "        )\n",
    "    ),\n",
    "    name=\"Uitstoot per ton\"\n",
    ")\n",
    "\n",
    "# Layout en weergave\n",
    "fig = go.Figure(data=[choropleth, scatter])\n",
    "fig.update_layout(\n",
    "    title=\"CO₂-uitstoot per ton voedsel en milieubeleid (EPI-score) per land (2022)\",\n",
    "    geo=dict(\n",
    "        showframe=False,\n",
    "        showcoastlines=True,\n",
    "        projection_type='equirectangular'\n",
    "    ),\n",
    "    height=550  # compacter\n",
    ")\n",
    "\n",
    "fig.show()\n"
   ]
  },
  {
   "attachments": {},
   "cell_type": "markdown",
   "id": "0737d42a",
   "metadata": {},
   "source": [
    "Een deel van de verschillen in uitstoot per ton voedsel tussen landen lijkt te verklaren door verschillen in milieubeleid. Landen met een hoge EPI-score (een maat voor hoe goed het milieubeleid is) hebben op deze kaart vaak kleine blauwe bubbels. Dat betekent dat ze relatief weinig CO₂ uitstoten per ton geproduceerd voedsel.\n",
    "\n",
    "Wat opvalt, is dat landen met veel uitstoot meestal ook een lage EPI-score hebben. Dat patroon lijkt erop te wijzen dat landen met minder streng milieubeleid gemiddeld minder duurzaam of efficiënt produceren. Tegelijkertijd is het belangrijk om te bedenken dat ook andere dingen invloed hebben, zoals technologie, geld en de manier waarop de landbouw in een land is georganiseerd.\n",
    "\n",
    "Toch laat de kaart duidelijk zien dat landen met strenger beleid, zoals Zwitserland of Noorwegen, niet alleen goed scoren op milieugebied, maar ook hun landbouwuitstoot laag houden. Dat ondersteunt het idee dat milieubeleid echt verschil kan maken in hoe duurzaam voedsel wordt geproduceerd.\n",
    "\n",
    "Ook al bewijst dit nog niet dat beleid de oorzaak is, de visualisatie is wel een sterk beginpunt om verder te onderzoeken hoe beleid en milieueffecten met elkaar samenhangen."
   ]
  },
  {
   "attachments": {},
   "cell_type": "markdown",
   "id": "33bdd664",
   "metadata": {},
   "source": [
    "### Argument 2: Landen die duurzaamheid belonen (via subsidies) in landbouwsubsidies stoten minder uit (per hectare)\n",
    "\n",
    "Niet alleen milieuregels zijn belangrijk, maar ook geld speelt een grote rol. Overheden sturen landbouw niet alleen met wetten en regels, maar ook met subsidies. In sommige landen zijn die subsidies gekoppeld aan duurzaamheid: boeren krijgen bijvoorbeeld alleen steun als ze milieuvriendelijk werken, hun CO₂-uitstoot beperken of bijdragen aan biodiversiteit. In andere landen vloeit het meeste subsidiegeld juist nog steeds naar vervuilende vormen van landbouw, zoals intensieve veehouderij.\n",
    "\n",
    "In deze visualisatie vergelijken we per land het aandeel duurzame en niet-duurzame subsidies. Daarnaast kijken we naar hoeveel CO₂ er wordt uitgestoten per hectare landbouwgrond. Op die manier maken we zichtbaar dat landen die hun subsidies richten op duurzaamheid, gemiddeld ook schoner produceren."
   ]
  }
 ],
 "metadata": {
  "kernelspec": {
   "display_name": "base",
   "language": "python",
   "name": "python3"
  },
  "language_info": {
   "codemirror_mode": {
    "name": "ipython",
    "version": 3
   },
   "file_extension": ".py",
   "mimetype": "text/x-python",
   "name": "python",
   "nbconvert_exporter": "python",
   "pygments_lexer": "ipython3",
   "version": "3.12.7"
  }
 },
 "nbformat": 4,
 "nbformat_minor": 5
}
