{
 "cells": [
  {
   "attachments": {},
   "cell_type": "markdown",
   "id": "860fd4ef",
   "metadata": {},
   "source": [
    "# Perspectief 1: Verschillen in milieubeleid verklaren verschillen in landbouwuitstoot\n",
    "\n",
    "De uitstoot van de landbouwsector verschilt sterk tussen landen. In dit perspectief onderzoeken we hoe beleidskeuzes zoals milieuregels en landbouwsubsidies bijdragen aan die verschillen. We gebruiken internationale data om te analyseren welke landen efficiënt produceren en welke landen vervuilende landbouw blijven stimuleren.\n"
   ]
  },
  {
   "attachments": {},
   "cell_type": "markdown",
   "id": "1547d891",
   "metadata": {},
   "source": [
    "### Argument 1: Landen met strenger milieubeleid stoten gemiddeld minder CO₂ uit per ton landbouwproductie.\n",
    "\n",
    "\n",
    "\n",
    "Landen verschillen sterk in hoe streng hun milieubeleid is. In sommige landen gelden duidelijke regels voor het gebruik van kunstmest, mestverwerking of methaanuitstoot. Andere landen leggen nauwelijks beperkingen op aan de landbouwsector. De aanname is dat streng milieubeleid boeren aanzet tot efficiëntere en schonere productie.\n",
    "\n",
    "We gebruiken de Environmental Performance Index (EPI) als indicator voor hoe actief landen hun milieubeleid invullen. Deze score wordt jaarlijks gepubliceerd en kijkt onder andere naar klimaatmaatregelen, landbouwimpact en duurzaamheid van het landgebruik. Door deze scores te koppelen aan uitstootcijfers uit de landbouwsector (in verhouding tot de hoeveelheid geproduceerd voedsel), kunnen we zien of beleid echt effect heeft.\n",
    "\n",
    "In onderstaande kaart combineren we beide datasets: de kleur laat zien hoe goed een land scoort op milieubeleid, terwijl de grootte van de cirkel aangeeft hoeveel CO₂-uitstoot er vrijkomt per ton voedsel dat wordt geproduceerd."
   ]
  },
  {
   "attachments": {},
   "cell_type": "markdown",
   "id": "0737d42a",
   "metadata": {},
   "source": [
    "Een deel van de verschillen in uitstoot per ton voedsel tussen landen lijkt te verklaren door verschillen in milieubeleid. Landen met een hoge EPI-score (een maat voor hoe goed het milieubeleid is) hebben op deze kaart vaak kleine blauwe bubbels. Dat betekent dat ze relatief weinig CO₂ uitstoten per ton geproduceerd voedsel.\n",
    "\n",
    "Wat opvalt, is dat landen met veel uitstoot meestal ook een lage EPI-score hebben. Dat patroon lijkt erop te wijzen dat landen met minder streng milieubeleid gemiddeld minder duurzaam of efficiënt produceren. Tegelijkertijd is het belangrijk om te bedenken dat ook andere dingen invloed hebben, zoals technologie, geld en de manier waarop de landbouw in een land is georganiseerd.\n",
    "\n",
    "Toch laat de kaart duidelijk zien dat landen met strenger beleid, zoals Zwitserland of Noorwegen, niet alleen goed scoren op milieugebied, maar ook hun landbouwuitstoot laag houden. Dat ondersteunt het idee dat milieubeleid echt verschil kan maken in hoe duurzaam voedsel wordt geproduceerd.\n",
    "\n",
    "Ook al bewijst dit nog niet dat beleid de oorzaak is, de visualisatie is wel een sterk beginpunt om verder te onderzoeken hoe beleid en milieueffecten met elkaar samenhangen."
   ]
  },
  {
   "attachments": {},
   "cell_type": "markdown",
   "id": "33bdd664",
   "metadata": {},
   "source": [
    "### Argument 2: Landen die duurzaamheid belonen (via subsidies) in landbouwsubsidies stoten minder uit (per hectare)\n",
    "\n",
    "Niet alleen milieuregels zijn belangrijk, maar ook geld speelt een grote rol. Overheden sturen landbouw niet alleen met wetten en regels, maar ook met subsidies. In sommige landen zijn die subsidies gekoppeld aan duurzaamheid: boeren krijgen bijvoorbeeld alleen steun als ze milieuvriendelijk werken, hun CO₂-uitstoot beperken of bijdragen aan biodiversiteit. In andere landen vloeit het meeste subsidiegeld juist nog steeds naar vervuilende vormen van landbouw, zoals intensieve veehouderij.\n",
    "\n",
    "In deze visualisatie vergelijken we per land het aandeel duurzame en niet-duurzame subsidies. Daarnaast kijken we naar hoeveel CO₂ er wordt uitgestoten per hectare landbouwgrond. Op die manier maken we zichtbaar dat landen die hun subsidies richten op duurzaamheid, gemiddeld ook schoner produceren."
   ]
  },
  {
   "cell_type": "code",
   "execution_count": 19,
   "id": "faa9a85b",
   "metadata": {},
   "outputs": [
    {
     "data": {
      "text/html": [
       "<iframe\n",
       "    scrolling=\"no\"\n",
       "    width=\"100%\"\n",
       "    height=\"720\"\n",
       "    src=\"iframe_figures/figure_19.html\"\n",
       "    frameborder=\"0\"\n",
       "    allowfullscreen\n",
       "></iframe>\n"
      ]
     },
     "metadata": {},
     "output_type": "display_data"
    }
   ],
   "source": [
    "import pandas as pd\n",
    "import plotly.graph_objects as go\n",
    "\n",
    "# Data inladen\n",
    "emissies = pd.read_csv(\"FAOSTAT_landbouw_emissies_2022.csv\")\n",
    "productie = pd.read_csv(\"FAOSTAT_landbouw_productie_2022.csv\")\n",
    "epi = pd.read_csv(\"epi2022results05302022.csv\")\n",
    "\n",
    "# Emissies per land (in kiloton)\n",
    "emissie_per_land = emissies.groupby(\"Area\")[\"Value\"].sum().reset_index()\n",
    "emissie_per_land.columns = [\"Country\", \"Emissions_kt\"]\n",
    "\n",
    "# Productie per land (in ton omzetten naar kiloton)\n",
    "productie_per_land = productie.groupby(\"Area\")[\"Value\"].sum().reset_index()\n",
    "productie_per_land.columns = [\"Country\", \"Production_ton\"]\n",
    "productie_per_land[\"Production_kt\"] = productie_per_land[\"Production_ton\"] / 1000\n",
    "\n",
    "# Combineren en berekenen uitstoot per ton\n",
    "combined = pd.merge(emissie_per_land, productie_per_land, on=\"Country\")\n",
    "combined[\"Emissions_per_ton\"] = combined[\"Emissions_kt\"] / combined[\"Production_kt\"]\n",
    "\n",
    "# EPI-score koppelen\n",
    "epi = epi.rename(columns={\"country\": \"Country\", \"EPI.new\": \"EPI_Score\"})\n",
    "final = pd.merge(combined, epi[[\"Country\", \"EPI_Score\"]], on=\"Country\")\n",
    "\n",
    "final = final[(final[\"Production_kt\"] > 5000) & (final[\"Emissions_kt\"] > 50)]\n",
    "\n",
    "\n",
    "# Percentielen voor kleurcontrasten\n",
    "p10 = final[\"Emissions_per_ton\"].quantile(0.10)\n",
    "p90 = final[\"Emissions_per_ton\"].quantile(0.90)\n",
    "\n",
    "# EPI als achtergrondkaart\n",
    "choropleth = go.Choropleth(\n",
    "    locations=final[\"Country\"],\n",
    "    locationmode=\"country names\",\n",
    "    z=final[\"EPI_Score\"],\n",
    "    colorscale=\"YlGn\",\n",
    "    zmin=0,\n",
    "    zmax=100,\n",
    "    showscale=True,\n",
    "    colorbar=dict(\n",
    "        title=\"EPI Score\",\n",
    "        x=1.02,\n",
    "        len=0.6\n",
    "    )\n",
    ")\n",
    "\n",
    "# Scatter: uitstoot per ton landbouwproductie\n",
    "scatter = go.Scattergeo(\n",
    "    locationmode='country names',\n",
    "    locations=final[\"Country\"],\n",
    "    text=final[\"Country\"],\n",
    "    marker=dict(\n",
    "        size=4,\n",
    "        color=final[\"Emissions_per_ton\"],\n",
    "        colorscale=[\"#ffffcc\", \"#ffcc66\", \"#ff9933\", \"#cc3300\", \"#660000\"],\n",
    "        cmin=p10,\n",
    "        cmax=p90,\n",
    "        colorbar=dict(\n",
    "            title=\"CO₂-uitstoot per ton landbouwproductie\",\n",
    "            tickangle=0,\n",
    "            x=0.5,\n",
    "            xanchor=\"center\",\n",
    "            y=-0.12,\n",
    "            len=1.0,\n",
    "            thickness=20,\n",
    "            tickvals=[\n",
    "                round(p10, 3),\n",
    "                round((p10 + p90) / 2, 3),\n",
    "                round(p90, 3)\n",
    "            ]\n",
    "        )\n",
    "    ),\n",
    "    name=\"Uitstoot per ton\"\n",
    ")\n",
    "\n",
    "# Layout\n",
    "fig = go.Figure(data=[choropleth, scatter])\n",
    "fig.update_layout(\n",
    "    title=\"CO₂-uitstoot per ton landbouwproductie en milieubeleid (EPI-score) per land (2022)\",\n",
    "    geo=dict(\n",
    "        showframe=False,\n",
    "        showcoastlines=True,\n",
    "        projection_type='equirectangular'\n",
    "    ),\n",
    "    height=550\n",
    ")\n",
    "\n",
    "\n",
    "\n",
    "fig.show()"
   ]
  }
 ],
 "metadata": {
  "kernelspec": {
   "display_name": "base",
   "language": "python",
   "name": "python3"
  },
  "language_info": {
   "codemirror_mode": {
    "name": "ipython",
    "version": 3
   },
   "file_extension": ".py",
   "mimetype": "text/x-python",
   "name": "python",
   "nbconvert_exporter": "python",
   "pygments_lexer": "ipython3",
   "version": "3.12.7"
  }
 },
 "nbformat": 4,
 "nbformat_minor": 5
}
