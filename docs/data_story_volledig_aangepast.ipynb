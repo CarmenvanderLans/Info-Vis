{
 "cells": [
  {
   "cell_type": "markdown",
   "id": "314a3602",
   "metadata": {},
   "source": [
    "We selecteerden zes landen die verschillende consumptiepatronen, welvaartsniveaus en klimaatgevoeligheden representeren. Deze selectie laat ons zien hoe de samenhang tussen voedsel, CO₂-uitstoot, voedingswaarde en economische weerbaarheid in de praktijk uiteen kan lopen."
   ]
  }
 ],
 "metadata": {
  "language_info": {
   "name": "python"
  }
 },
 "nbformat": 4,
 "nbformat_minor": 5
}
