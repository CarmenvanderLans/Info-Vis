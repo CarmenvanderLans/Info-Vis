{
 "cells": [
  {
   "cell_type": "markdown",
   "id": "f14e6fb5",
   "metadata": {},
   "source": []
  },
  {
   "cell_type": "markdown",
   "id": "f286dbd8",
   "metadata": {},
   "source": [
    "Introductie"
   ]
  },
  {
   "cell_type": "markdown",
   "id": "25a8c57b",
   "metadata": {},
   "source": [
    "P1"
   ]
  },
  {
   "cell_type": "markdown",
   "id": "9d2bf51e",
   "metadata": {},
   "source": [
    "P2"
   ]
  },
  {
   "cell_type": "markdown",
   "id": "f7cbbbc9",
   "metadata": {},
   "source": [
    "P3"
   ]
  },
  {
   "cell_type": "markdown",
   "id": "ad64c063",
   "metadata": {},
   "source": [
    "P4"
   ]
  },
  {
   "cell_type": "markdown",
   "id": "ba2fda4a",
   "metadata": {},
   "source": [
    "## De invloed van klimaat en geografie op voedselproductie\n",
    "\n",
    "Niet elk land beschikt over dezelfde natuurlijke omstandigheden om voedsel te produceren. Factoren zoals neerslag, temperatuur en klimaatzones bepalen welke gewassen efficiënt kunnen groeien. In landen met een ongunstig klimaat moeten gewassen onder intensievere en vaak minder duurzame omstandigheden worden verbouwd.\n",
    "Daarnaast speelt de geografische ligging een rol in hoe voedsel wordt verhandeld: landen die ver van exportmarkten liggen, hebben hogere transportkosten en extra uitstoot, wat hun voedselsysteem minder duurzaam maakt.\n",
    "In dit perspectief onderzoeken we hoe deze geografische factoren — natuurlijke omstandigheden en ligging ten opzichte van wereldmarkten — bijdragen aan verschillen in de duurzaamheid van nationale voedselsystemen."
   ]
  },
  {
   "cell_type": "markdown",
   "id": "efacbb89",
   "metadata": {},
   "source": [
    "### Klimaatzones en natuurlijke omstandigheden beïnvloeden duurzaamheid\n",
    "Landen verschillen sterk in klimaat. Tropische regio’s kennen bijvoorbeeld hoge temperaturen en regelmatige regenval, terwijl droge of koude gebieden kampen met beperkte groeiseizoenen en lagere landbouwopbrengsten per hectare.\n",
    "In warmere, vruchtbare klimaatzones kunnen gewassen natuurlijk groeien, met weinig extra input. In koudere of drogere gebieden zijn irrigatie, verwarming, kunstmest of import van hulpbronnen nodig om dezelfde opbrengst te halen. Deze extra inputs verhogen de uitstoot per kilogram geproduceerd voedsel.\n",
    "Daarom is het voedselsysteem in sommige landen per definitie minder duurzaam, simpelweg door hun ligging in een ongunstige klimaatzone."
   ]
  },
  {
   "cell_type": "code",
   "execution_count": 56,
   "id": "f9113f92",
   "metadata": {},
   "outputs": [
    {
     "name": "stderr",
     "output_type": "stream",
     "text": [
      "/var/folders/82/txt4_nkx0l76kq68c7g_klqc0000gn/T/ipykernel_32679/3348794567.py:6: DtypeWarning:\n",
      "\n",
      "Columns (13) have mixed types. Specify dtype option on import or set low_memory=False.\n",
      "\n"
     ]
    },
    {
     "data": {
      "application/vnd.plotly.v1+json": {
       "config": {
        "plotlyServerURL": "https://plot.ly"
       },
       "data": [
        {
         "hovertemplate": "<b>%{hovertext}</b><br><br>Country Name=%{text}<br>Year=1961<br>Neerslag (mm/jaar)=%{x}<br>Uitstoot per ton geproduceerd (Mt/ton)=%{y}<extra></extra>",
         "hovertext": [
          "Brazil"
         ],
         "legendgroup": "Brazil",
         "marker": {
          "color": "#636efa",
          "size": 14,
          "symbol": "circle"
         },
         "mode": "markers+text",
         "name": "Brazil",
         "orientation": "v",
         "showlegend": true,
         "text": [
          "Brazil"
         ],
         "textposition": "top center",
         "type": "scatter",
         "x": {
          "bdata": "AAAAAADYm0A=",
          "dtype": "f8"
         },
         "xaxis": "x",
         "y": {
          "bdata": "br/1mJSmfD4=",
          "dtype": "f8"
         },
         "yaxis": "y"
        },
        {
         "hovertemplate": "<b>%{hovertext}</b><br><br>Country Name=%{text}<br>Year=1961<br>Neerslag (mm/jaar)=%{x}<br>Uitstoot per ton geproduceerd (Mt/ton)=%{y}<extra></extra>",
         "hovertext": [
          "India"
         ],
         "legendgroup": "India",
         "marker": {
          "color": "#EF553B",
          "size": 14,
          "symbol": "circle"
         },
         "mode": "markers+text",
         "name": "India",
         "orientation": "v",
         "showlegend": true,
         "text": [
          "India"
         ],
         "textposition": "top center",
         "type": "scatter",
         "x": {
          "bdata": "AAAAAADskEA=",
          "dtype": "f8"
         },
         "xaxis": "x",
         "y": {
          "bdata": "l1UrDaB6kz4=",
          "dtype": "f8"
         },
         "yaxis": "y"
        },
        {
         "hovertemplate": "<b>%{hovertext}</b><br><br>Country Name=%{text}<br>Year=1961<br>Neerslag (mm/jaar)=%{x}<br>Uitstoot per ton geproduceerd (Mt/ton)=%{y}<extra></extra>",
         "hovertext": [
          "Indonesia"
         ],
         "legendgroup": "Indonesia",
         "marker": {
          "color": "#00cc96",
          "size": 14,
          "symbol": "circle"
         },
         "mode": "markers+text",
         "name": "Indonesia",
         "orientation": "v",
         "showlegend": true,
         "text": [
          "Indonesia"
         ],
         "textposition": "top center",
         "type": "scatter",
         "x": {
          "bdata": "AAAAAAAcpUA=",
          "dtype": "f8"
         },
         "xaxis": "x",
         "y": {
          "bdata": "lgorOjgwVT4=",
          "dtype": "f8"
         },
         "yaxis": "y"
        },
        {
         "hovertemplate": "<b>%{hovertext}</b><br><br>Country Name=%{text}<br>Year=1961<br>Neerslag (mm/jaar)=%{x}<br>Uitstoot per ton geproduceerd (Mt/ton)=%{y}<extra></extra>",
         "hovertext": [
          "Japan"
         ],
         "legendgroup": "Japan",
         "marker": {
          "color": "#ab63fa",
          "size": 14,
          "symbol": "circle"
         },
         "mode": "markers+text",
         "name": "Japan",
         "orientation": "v",
         "showlegend": true,
         "text": [
          "Japan"
         ],
         "textposition": "top center",
         "type": "scatter",
         "x": {
          "bdata": "AAAAAAAQmkA=",
          "dtype": "f8"
         },
         "xaxis": "x",
         "y": {
          "bdata": "Jc/QXvwKgT4=",
          "dtype": "f8"
         },
         "yaxis": "y"
        },
        {
         "hovertemplate": "<b>%{hovertext}</b><br><br>Country Name=%{text}<br>Year=1961<br>Neerslag (mm/jaar)=%{x}<br>Uitstoot per ton geproduceerd (Mt/ton)=%{y}<extra></extra>",
         "hovertext": [
          "Nigeria"
         ],
         "legendgroup": "Nigeria",
         "marker": {
          "color": "#FFA15A",
          "size": 14,
          "symbol": "circle"
         },
         "mode": "markers+text",
         "name": "Nigeria",
         "orientation": "v",
         "showlegend": true,
         "text": [
          "Nigeria"
         ],
         "textposition": "top center",
         "type": "scatter",
         "x": {
          "bdata": "AAAAAAD4kUA=",
          "dtype": "f8"
         },
         "xaxis": "x",
         "y": {
          "bdata": "mMWzPl6xMz4=",
          "dtype": "f8"
         },
         "yaxis": "y"
        },
        {
         "hovertemplate": "<b>%{hovertext}</b><br><br>Country Name=%{text}<br>Year=1961<br>Neerslag (mm/jaar)=%{x}<br>Uitstoot per ton geproduceerd (Mt/ton)=%{y}<extra></extra>",
         "hovertext": [
          "South Africa"
         ],
         "legendgroup": "South Africa",
         "marker": {
          "color": "#19d3f3",
          "size": 14,
          "symbol": "circle"
         },
         "mode": "markers+text",
         "name": "South Africa",
         "orientation": "v",
         "showlegend": true,
         "text": [
          "South Africa"
         ],
         "textposition": "top center",
         "type": "scatter",
         "x": {
          "bdata": "AAAAAADwfkA=",
          "dtype": "f8"
         },
         "xaxis": "x",
         "y": {
          "bdata": "j/+6cuzOlj4=",
          "dtype": "f8"
         },
         "yaxis": "y"
        },
        {
         "hovertemplate": "<b>%{hovertext}</b><br><br>Country Name=%{text}<br>Year=1961<br>Neerslag (mm/jaar)=%{x}<br>Uitstoot per ton geproduceerd (Mt/ton)=%{y}<extra></extra>",
         "hovertext": [
          "United States of America"
         ],
         "legendgroup": "United States of America",
         "marker": {
          "color": "#FF6692",
          "size": 14,
          "symbol": "circle"
         },
         "mode": "markers+text",
         "name": "United States of America",
         "orientation": "v",
         "showlegend": true,
         "text": [
          "United States of America"
         ],
         "textposition": "top center",
         "type": "scatter",
         "x": {
          "bdata": "AAAAAABYhkA=",
          "dtype": "f8"
         },
         "xaxis": "x",
         "y": {
          "bdata": "M8j08nHDnz4=",
          "dtype": "f8"
         },
         "yaxis": "y"
        }
       ],
       "frames": [
        {
         "data": [
          {
           "hovertemplate": "<b>%{hovertext}</b><br><br>Country Name=%{text}<br>Year=1961<br>Neerslag (mm/jaar)=%{x}<br>Uitstoot per ton geproduceerd (Mt/ton)=%{y}<extra></extra>",
           "hovertext": [
            "Brazil"
           ],
           "legendgroup": "Brazil",
           "marker": {
            "color": "#636efa",
            "symbol": "circle"
           },
           "mode": "markers+text",
           "name": "Brazil",
           "orientation": "v",
           "showlegend": true,
           "text": [
            "Brazil"
           ],
           "type": "scatter",
           "x": {
            "bdata": "AAAAAADYm0A=",
            "dtype": "f8"
           },
           "xaxis": "x",
           "y": {
            "bdata": "br/1mJSmfD4=",
            "dtype": "f8"
           },
           "yaxis": "y"
          },
          {
           "hovertemplate": "<b>%{hovertext}</b><br><br>Country Name=%{text}<br>Year=1961<br>Neerslag (mm/jaar)=%{x}<br>Uitstoot per ton geproduceerd (Mt/ton)=%{y}<extra></extra>",
           "hovertext": [
            "India"
           ],
           "legendgroup": "India",
           "marker": {
            "color": "#EF553B",
            "symbol": "circle"
           },
           "mode": "markers+text",
           "name": "India",
           "orientation": "v",
           "showlegend": true,
           "text": [
            "India"
           ],
           "type": "scatter",
           "x": {
            "bdata": "AAAAAADskEA=",
            "dtype": "f8"
           },
           "xaxis": "x",
           "y": {
            "bdata": "l1UrDaB6kz4=",
            "dtype": "f8"
           },
           "yaxis": "y"
          },
          {
           "hovertemplate": "<b>%{hovertext}</b><br><br>Country Name=%{text}<br>Year=1961<br>Neerslag (mm/jaar)=%{x}<br>Uitstoot per ton geproduceerd (Mt/ton)=%{y}<extra></extra>",
           "hovertext": [
            "Indonesia"
           ],
           "legendgroup": "Indonesia",
           "marker": {
            "color": "#00cc96",
            "symbol": "circle"
           },
           "mode": "markers+text",
           "name": "Indonesia",
           "orientation": "v",
           "showlegend": true,
           "text": [
            "Indonesia"
           ],
           "type": "scatter",
           "x": {
            "bdata": "AAAAAAAcpUA=",
            "dtype": "f8"
           },
           "xaxis": "x",
           "y": {
            "bdata": "lgorOjgwVT4=",
            "dtype": "f8"
           },
           "yaxis": "y"
          },
          {
           "hovertemplate": "<b>%{hovertext}</b><br><br>Country Name=%{text}<br>Year=1961<br>Neerslag (mm/jaar)=%{x}<br>Uitstoot per ton geproduceerd (Mt/ton)=%{y}<extra></extra>",
           "hovertext": [
            "Japan"
           ],
           "legendgroup": "Japan",
           "marker": {
            "color": "#ab63fa",
            "symbol": "circle"
           },
           "mode": "markers+text",
           "name": "Japan",
           "orientation": "v",
           "showlegend": true,
           "text": [
            "Japan"
           ],
           "type": "scatter",
           "x": {
            "bdata": "AAAAAAAQmkA=",
            "dtype": "f8"
           },
           "xaxis": "x",
           "y": {
            "bdata": "Jc/QXvwKgT4=",
            "dtype": "f8"
           },
           "yaxis": "y"
          },
          {
           "hovertemplate": "<b>%{hovertext}</b><br><br>Country Name=%{text}<br>Year=1961<br>Neerslag (mm/jaar)=%{x}<br>Uitstoot per ton geproduceerd (Mt/ton)=%{y}<extra></extra>",
           "hovertext": [
            "Nigeria"
           ],
           "legendgroup": "Nigeria",
           "marker": {
            "color": "#FFA15A",
            "symbol": "circle"
           },
           "mode": "markers+text",
           "name": "Nigeria",
           "orientation": "v",
           "showlegend": true,
           "text": [
            "Nigeria"
           ],
           "type": "scatter",
           "x": {
            "bdata": "AAAAAAD4kUA=",
            "dtype": "f8"
           },
           "xaxis": "x",
           "y": {
            "bdata": "mMWzPl6xMz4=",
            "dtype": "f8"
           },
           "yaxis": "y"
          },
          {
           "hovertemplate": "<b>%{hovertext}</b><br><br>Country Name=%{text}<br>Year=1961<br>Neerslag (mm/jaar)=%{x}<br>Uitstoot per ton geproduceerd (Mt/ton)=%{y}<extra></extra>",
           "hovertext": [
            "South Africa"
           ],
           "legendgroup": "South Africa",
           "marker": {
            "color": "#19d3f3",
            "symbol": "circle"
           },
           "mode": "markers+text",
           "name": "South Africa",
           "orientation": "v",
           "showlegend": true,
           "text": [
            "South Africa"
           ],
           "type": "scatter",
           "x": {
            "bdata": "AAAAAADwfkA=",
            "dtype": "f8"
           },
           "xaxis": "x",
           "y": {
            "bdata": "j/+6cuzOlj4=",
            "dtype": "f8"
           },
           "yaxis": "y"
          },
          {
           "hovertemplate": "<b>%{hovertext}</b><br><br>Country Name=%{text}<br>Year=1961<br>Neerslag (mm/jaar)=%{x}<br>Uitstoot per ton geproduceerd (Mt/ton)=%{y}<extra></extra>",
           "hovertext": [
            "United States of America"
           ],
           "legendgroup": "United States of America",
           "marker": {
            "color": "#FF6692",
            "symbol": "circle"
           },
           "mode": "markers+text",
           "name": "United States of America",
           "orientation": "v",
           "showlegend": true,
           "text": [
            "United States of America"
           ],
           "type": "scatter",
           "x": {
            "bdata": "AAAAAABYhkA=",
            "dtype": "f8"
           },
           "xaxis": "x",
           "y": {
            "bdata": "M8j08nHDnz4=",
            "dtype": "f8"
           },
           "yaxis": "y"
          }
         ],
         "name": "1961"
        },
        {
         "data": [
          {
           "hovertemplate": "<b>%{hovertext}</b><br><br>Country Name=%{text}<br>Year=1962<br>Neerslag (mm/jaar)=%{x}<br>Uitstoot per ton geproduceerd (Mt/ton)=%{y}<extra></extra>",
           "hovertext": [
            "Brazil"
           ],
           "legendgroup": "Brazil",
           "marker": {
            "color": "#636efa",
            "symbol": "circle"
           },
           "mode": "markers+text",
           "name": "Brazil",
           "orientation": "v",
           "showlegend": true,
           "text": [
            "Brazil"
           ],
           "type": "scatter",
           "x": {
            "bdata": "AAAAAACEm0A=",
            "dtype": "f8"
           },
           "xaxis": "x",
           "y": {
            "bdata": "QLobBvRvej4=",
            "dtype": "f8"
           },
           "yaxis": "y"
          },
          {
           "hovertemplate": "<b>%{hovertext}</b><br><br>Country Name=%{text}<br>Year=1962<br>Neerslag (mm/jaar)=%{x}<br>Uitstoot per ton geproduceerd (Mt/ton)=%{y}<extra></extra>",
           "hovertext": [
            "India"
           ],
           "legendgroup": "India",
           "marker": {
            "color": "#EF553B",
            "symbol": "circle"
           },
           "mode": "markers+text",
           "name": "India",
           "orientation": "v",
           "showlegend": true,
           "text": [
            "India"
           ],
           "type": "scatter",
           "x": {
            "bdata": "AAAAAADskEA=",
            "dtype": "f8"
           },
           "xaxis": "x",
           "y": {
            "bdata": "hJts/sXNlD4=",
            "dtype": "f8"
           },
           "yaxis": "y"
          },
          {
           "hovertemplate": "<b>%{hovertext}</b><br><br>Country Name=%{text}<br>Year=1962<br>Neerslag (mm/jaar)=%{x}<br>Uitstoot per ton geproduceerd (Mt/ton)=%{y}<extra></extra>",
           "hovertext": [
            "Indonesia"
           ],
           "legendgroup": "Indonesia",
           "marker": {
            "color": "#00cc96",
            "symbol": "circle"
           },
           "mode": "markers+text",
           "name": "Indonesia",
           "orientation": "v",
           "showlegend": true,
           "text": [
            "Indonesia"
           ],
           "type": "scatter",
           "x": {
            "bdata": "AAAAAAAcpUA=",
            "dtype": "f8"
           },
           "xaxis": "x",
           "y": {
            "bdata": "RyvYyy5DUz4=",
            "dtype": "f8"
           },
           "yaxis": "y"
          },
          {
           "hovertemplate": "<b>%{hovertext}</b><br><br>Country Name=%{text}<br>Year=1962<br>Neerslag (mm/jaar)=%{x}<br>Uitstoot per ton geproduceerd (Mt/ton)=%{y}<extra></extra>",
           "hovertext": [
            "Japan"
           ],
           "legendgroup": "Japan",
           "marker": {
            "color": "#ab63fa",
            "symbol": "circle"
           },
           "mode": "markers+text",
           "name": "Japan",
           "orientation": "v",
           "showlegend": true,
           "text": [
            "Japan"
           ],
           "type": "scatter",
           "x": {
            "bdata": "AAAAAAAQmkA=",
            "dtype": "f8"
           },
           "xaxis": "x",
           "y": {
            "bdata": "Tn8iK5aTgD4=",
            "dtype": "f8"
           },
           "yaxis": "y"
          },
          {
           "hovertemplate": "<b>%{hovertext}</b><br><br>Country Name=%{text}<br>Year=1962<br>Neerslag (mm/jaar)=%{x}<br>Uitstoot per ton geproduceerd (Mt/ton)=%{y}<extra></extra>",
           "hovertext": [
            "Nigeria"
           ],
           "legendgroup": "Nigeria",
           "marker": {
            "color": "#FFA15A",
            "symbol": "circle"
           },
           "mode": "markers+text",
           "name": "Nigeria",
           "orientation": "v",
           "showlegend": true,
           "text": [
            "Nigeria"
           ],
           "type": "scatter",
           "x": {
            "bdata": "AAAAAAD4kUA=",
            "dtype": "f8"
           },
           "xaxis": "x",
           "y": {
            "bdata": "937+WNK6Mz4=",
            "dtype": "f8"
           },
           "yaxis": "y"
          },
          {
           "hovertemplate": "<b>%{hovertext}</b><br><br>Country Name=%{text}<br>Year=1962<br>Neerslag (mm/jaar)=%{x}<br>Uitstoot per ton geproduceerd (Mt/ton)=%{y}<extra></extra>",
           "hovertext": [
            "South Africa"
           ],
           "legendgroup": "South Africa",
           "marker": {
            "color": "#19d3f3",
            "symbol": "circle"
           },
           "mode": "markers+text",
           "name": "South Africa",
           "orientation": "v",
           "showlegend": true,
           "text": [
            "South Africa"
           ],
           "type": "scatter",
           "x": {
            "bdata": "AAAAAADwfkA=",
            "dtype": "f8"
           },
           "xaxis": "x",
           "y": {
            "bdata": "0EPkIBR/lD4=",
            "dtype": "f8"
           },
           "yaxis": "y"
          },
          {
           "hovertemplate": "<b>%{hovertext}</b><br><br>Country Name=%{text}<br>Year=1962<br>Neerslag (mm/jaar)=%{x}<br>Uitstoot per ton geproduceerd (Mt/ton)=%{y}<extra></extra>",
           "hovertext": [
            "United States of America"
           ],
           "legendgroup": "United States of America",
           "marker": {
            "color": "#FF6692",
            "symbol": "circle"
           },
           "mode": "markers+text",
           "name": "United States of America",
           "orientation": "v",
           "showlegend": true,
           "text": [
            "United States of America"
           ],
           "type": "scatter",
           "x": {
            "bdata": "AAAAAABYhkA=",
            "dtype": "f8"
           },
           "xaxis": "x",
           "y": {
            "bdata": "1xrxfcZgmz4=",
            "dtype": "f8"
           },
           "yaxis": "y"
          }
         ],
         "name": "1962"
        },
        {
         "data": [
          {
           "hovertemplate": "<b>%{hovertext}</b><br><br>Country Name=%{text}<br>Year=1963<br>Neerslag (mm/jaar)=%{x}<br>Uitstoot per ton geproduceerd (Mt/ton)=%{y}<extra></extra>",
           "hovertext": [
            "Brazil"
           ],
           "legendgroup": "Brazil",
           "marker": {
            "color": "#636efa",
            "symbol": "circle"
           },
           "mode": "markers+text",
           "name": "Brazil",
           "orientation": "v",
           "showlegend": true,
           "text": [
            "Brazil"
           ],
           "type": "scatter",
           "x": {
            "bdata": "AAAAAADYm0A=",
            "dtype": "f8"
           },
           "xaxis": "x",
           "y": {
            "bdata": "RB1Lf0Z8ej4=",
            "dtype": "f8"
           },
           "yaxis": "y"
          },
          {
           "hovertemplate": "<b>%{hovertext}</b><br><br>Country Name=%{text}<br>Year=1963<br>Neerslag (mm/jaar)=%{x}<br>Uitstoot per ton geproduceerd (Mt/ton)=%{y}<extra></extra>",
           "hovertext": [
            "India"
           ],
           "legendgroup": "India",
           "marker": {
            "color": "#EF553B",
            "symbol": "circle"
           },
           "mode": "markers+text",
           "name": "India",
           "orientation": "v",
           "showlegend": true,
           "text": [
            "India"
           ],
           "type": "scatter",
           "x": {
            "bdata": "AAAAAADskEA=",
            "dtype": "f8"
           },
           "xaxis": "x",
           "y": {
            "bdata": "hQZHQL85lj4=",
            "dtype": "f8"
           },
           "yaxis": "y"
          },
          {
           "hovertemplate": "<b>%{hovertext}</b><br><br>Country Name=%{text}<br>Year=1963<br>Neerslag (mm/jaar)=%{x}<br>Uitstoot per ton geproduceerd (Mt/ton)=%{y}<extra></extra>",
           "hovertext": [
            "Indonesia"
           ],
           "legendgroup": "Indonesia",
           "marker": {
            "color": "#00cc96",
            "symbol": "circle"
           },
           "mode": "markers+text",
           "name": "Indonesia",
           "orientation": "v",
           "showlegend": true,
           "text": [
            "Indonesia"
           ],
           "type": "scatter",
           "x": {
            "bdata": "AAAAAAAcpUA=",
            "dtype": "f8"
           },
           "xaxis": "x",
           "y": {
            "bdata": "/qlUGsUxUz4=",
            "dtype": "f8"
           },
           "yaxis": "y"
          },
          {
           "hovertemplate": "<b>%{hovertext}</b><br><br>Country Name=%{text}<br>Year=1963<br>Neerslag (mm/jaar)=%{x}<br>Uitstoot per ton geproduceerd (Mt/ton)=%{y}<extra></extra>",
           "hovertext": [
            "Japan"
           ],
           "legendgroup": "Japan",
           "marker": {
            "color": "#ab63fa",
            "symbol": "circle"
           },
           "mode": "markers+text",
           "name": "Japan",
           "orientation": "v",
           "showlegend": true,
           "text": [
            "Japan"
           ],
           "type": "scatter",
           "x": {
            "bdata": "AAAAAAAQmkA=",
            "dtype": "f8"
           },
           "xaxis": "x",
           "y": {
            "bdata": "fZVx6X82ez4=",
            "dtype": "f8"
           },
           "yaxis": "y"
          },
          {
           "hovertemplate": "<b>%{hovertext}</b><br><br>Country Name=%{text}<br>Year=1963<br>Neerslag (mm/jaar)=%{x}<br>Uitstoot per ton geproduceerd (Mt/ton)=%{y}<extra></extra>",
           "hovertext": [
            "Nigeria"
           ],
           "legendgroup": "Nigeria",
           "marker": {
            "color": "#FFA15A",
            "symbol": "circle"
           },
           "mode": "markers+text",
           "name": "Nigeria",
           "orientation": "v",
           "showlegend": true,
           "text": [
            "Nigeria"
           ],
           "type": "scatter",
           "x": {
            "bdata": "AAAAAAD4kUA=",
            "dtype": "f8"
           },
           "xaxis": "x",
           "y": {
            "bdata": "ghzXwZ6jND4=",
            "dtype": "f8"
           },
           "yaxis": "y"
          },
          {
           "hovertemplate": "<b>%{hovertext}</b><br><br>Country Name=%{text}<br>Year=1963<br>Neerslag (mm/jaar)=%{x}<br>Uitstoot per ton geproduceerd (Mt/ton)=%{y}<extra></extra>",
           "hovertext": [
            "South Africa"
           ],
           "legendgroup": "South Africa",
           "marker": {
            "color": "#19d3f3",
            "symbol": "circle"
           },
           "mode": "markers+text",
           "name": "South Africa",
           "orientation": "v",
           "showlegend": true,
           "text": [
            "South Africa"
           ],
           "type": "scatter",
           "x": {
            "bdata": "AAAAAADwfkA=",
            "dtype": "f8"
           },
           "xaxis": "x",
           "y": {
            "bdata": "abWclDIMlj4=",
            "dtype": "f8"
           },
           "yaxis": "y"
          },
          {
           "hovertemplate": "<b>%{hovertext}</b><br><br>Country Name=%{text}<br>Year=1963<br>Neerslag (mm/jaar)=%{x}<br>Uitstoot per ton geproduceerd (Mt/ton)=%{y}<extra></extra>",
           "hovertext": [
            "United States of America"
           ],
           "legendgroup": "United States of America",
           "marker": {
            "color": "#FF6692",
            "symbol": "circle"
           },
           "mode": "markers+text",
           "name": "United States of America",
           "orientation": "v",
           "showlegend": true,
           "text": [
            "United States of America"
           ],
           "type": "scatter",
           "x": {
            "bdata": "AAAAAABYhkA=",
            "dtype": "f8"
           },
           "xaxis": "x",
           "y": {
            "bdata": "kKWbCbn5mj4=",
            "dtype": "f8"
           },
           "yaxis": "y"
          }
         ],
         "name": "1963"
        },
        {
         "data": [
          {
           "hovertemplate": "<b>%{hovertext}</b><br><br>Country Name=%{text}<br>Year=1964<br>Neerslag (mm/jaar)=%{x}<br>Uitstoot per ton geproduceerd (Mt/ton)=%{y}<extra></extra>",
           "hovertext": [
            "Brazil"
           ],
           "legendgroup": "Brazil",
           "marker": {
            "color": "#636efa",
            "symbol": "circle"
           },
           "mode": "markers+text",
           "name": "Brazil",
           "orientation": "v",
           "showlegend": true,
           "text": [
            "Brazil"
           ],
           "type": "scatter",
           "x": {
            "bdata": "AAAAAADYm0A=",
            "dtype": "f8"
           },
           "xaxis": "x",
           "y": {
            "bdata": "xe/mUJeqeT4=",
            "dtype": "f8"
           },
           "yaxis": "y"
          },
          {
           "hovertemplate": "<b>%{hovertext}</b><br><br>Country Name=%{text}<br>Year=1964<br>Neerslag (mm/jaar)=%{x}<br>Uitstoot per ton geproduceerd (Mt/ton)=%{y}<extra></extra>",
           "hovertext": [
            "India"
           ],
           "legendgroup": "India",
           "marker": {
            "color": "#EF553B",
            "symbol": "circle"
           },
           "mode": "markers+text",
           "name": "India",
           "orientation": "v",
           "showlegend": true,
           "text": [
            "India"
           ],
           "type": "scatter",
           "x": {
            "bdata": "AAAAAADskEA=",
            "dtype": "f8"
           },
           "xaxis": "x",
           "y": {
            "bdata": "bHph1944lD4=",
            "dtype": "f8"
           },
           "yaxis": "y"
          },
          {
           "hovertemplate": "<b>%{hovertext}</b><br><br>Country Name=%{text}<br>Year=1964<br>Neerslag (mm/jaar)=%{x}<br>Uitstoot per ton geproduceerd (Mt/ton)=%{y}<extra></extra>",
           "hovertext": [
            "Indonesia"
           ],
           "legendgroup": "Indonesia",
           "marker": {
            "color": "#00cc96",
            "symbol": "circle"
           },
           "mode": "markers+text",
           "name": "Indonesia",
           "orientation": "v",
           "showlegend": true,
           "text": [
            "Indonesia"
           ],
           "type": "scatter",
           "x": {
            "bdata": "AAAAAAAcpUA=",
            "dtype": "f8"
           },
           "xaxis": "x",
           "y": {
            "bdata": "ihpc+/ILVD4=",
            "dtype": "f8"
           },
           "yaxis": "y"
          },
          {
           "hovertemplate": "<b>%{hovertext}</b><br><br>Country Name=%{text}<br>Year=1964<br>Neerslag (mm/jaar)=%{x}<br>Uitstoot per ton geproduceerd (Mt/ton)=%{y}<extra></extra>",
           "hovertext": [
            "Japan"
           ],
           "legendgroup": "Japan",
           "marker": {
            "color": "#ab63fa",
            "symbol": "circle"
           },
           "mode": "markers+text",
           "name": "Japan",
           "orientation": "v",
           "showlegend": true,
           "text": [
            "Japan"
           ],
           "type": "scatter",
           "x": {
            "bdata": "AAAAAAAQmkA=",
            "dtype": "f8"
           },
           "xaxis": "x",
           "y": {
            "bdata": "kRP3pPVFez4=",
            "dtype": "f8"
           },
           "yaxis": "y"
          },
          {
           "hovertemplate": "<b>%{hovertext}</b><br><br>Country Name=%{text}<br>Year=1964<br>Neerslag (mm/jaar)=%{x}<br>Uitstoot per ton geproduceerd (Mt/ton)=%{y}<extra></extra>",
           "hovertext": [
            "Nigeria"
           ],
           "legendgroup": "Nigeria",
           "marker": {
            "color": "#FFA15A",
            "symbol": "circle"
           },
           "mode": "markers+text",
           "name": "Nigeria",
           "orientation": "v",
           "showlegend": true,
           "text": [
            "Nigeria"
           ],
           "type": "scatter",
           "x": {
            "bdata": "AAAAAAD4kUA=",
            "dtype": "f8"
           },
           "xaxis": "x",
           "y": {
            "bdata": "1nwtFzfpNz4=",
            "dtype": "f8"
           },
           "yaxis": "y"
          },
          {
           "hovertemplate": "<b>%{hovertext}</b><br><br>Country Name=%{text}<br>Year=1964<br>Neerslag (mm/jaar)=%{x}<br>Uitstoot per ton geproduceerd (Mt/ton)=%{y}<extra></extra>",
           "hovertext": [
            "South Africa"
           ],
           "legendgroup": "South Africa",
           "marker": {
            "color": "#19d3f3",
            "symbol": "circle"
           },
           "mode": "markers+text",
           "name": "South Africa",
           "orientation": "v",
           "showlegend": true,
           "text": [
            "South Africa"
           ],
           "type": "scatter",
           "x": {
            "bdata": "AAAAAADwfkA=",
            "dtype": "f8"
           },
           "xaxis": "x",
           "y": {
            "bdata": "PNU+jkPlkj4=",
            "dtype": "f8"
           },
           "yaxis": "y"
          },
          {
           "hovertemplate": "<b>%{hovertext}</b><br><br>Country Name=%{text}<br>Year=1964<br>Neerslag (mm/jaar)=%{x}<br>Uitstoot per ton geproduceerd (Mt/ton)=%{y}<extra></extra>",
           "hovertext": [
            "United States of America"
           ],
           "legendgroup": "United States of America",
           "marker": {
            "color": "#FF6692",
            "symbol": "circle"
           },
           "mode": "markers+text",
           "name": "United States of America",
           "orientation": "v",
           "showlegend": true,
           "text": [
            "United States of America"
           ],
           "type": "scatter",
           "x": {
            "bdata": "AAAAAABYhkA=",
            "dtype": "f8"
           },
           "xaxis": "x",
           "y": {
            "bdata": "T44BmRjbnT4=",
            "dtype": "f8"
           },
           "yaxis": "y"
          }
         ],
         "name": "1964"
        },
        {
         "data": [
          {
           "hovertemplate": "<b>%{hovertext}</b><br><br>Country Name=%{text}<br>Year=1965<br>Neerslag (mm/jaar)=%{x}<br>Uitstoot per ton geproduceerd (Mt/ton)=%{y}<extra></extra>",
           "hovertext": [
            "Brazil"
           ],
           "legendgroup": "Brazil",
           "marker": {
            "color": "#636efa",
            "symbol": "circle"
           },
           "mode": "markers+text",
           "name": "Brazil",
           "orientation": "v",
           "showlegend": true,
           "text": [
            "Brazil"
           ],
           "type": "scatter",
           "x": {
            "bdata": "AAAAAADYm0A=",
            "dtype": "f8"
           },
           "xaxis": "x",
           "y": {
            "bdata": "xBGu/baAeD4=",
            "dtype": "f8"
           },
           "yaxis": "y"
          },
          {
           "hovertemplate": "<b>%{hovertext}</b><br><br>Country Name=%{text}<br>Year=1965<br>Neerslag (mm/jaar)=%{x}<br>Uitstoot per ton geproduceerd (Mt/ton)=%{y}<extra></extra>",
           "hovertext": [
            "India"
           ],
           "legendgroup": "India",
           "marker": {
            "color": "#EF553B",
            "symbol": "circle"
           },
           "mode": "markers+text",
           "name": "India",
           "orientation": "v",
           "showlegend": true,
           "text": [
            "India"
           ],
           "type": "scatter",
           "x": {
            "bdata": "AAAAAADskEA=",
            "dtype": "f8"
           },
           "xaxis": "x",
           "y": {
            "bdata": "FTpwyYjakj4=",
            "dtype": "f8"
           },
           "yaxis": "y"
          },
          {
           "hovertemplate": "<b>%{hovertext}</b><br><br>Country Name=%{text}<br>Year=1965<br>Neerslag (mm/jaar)=%{x}<br>Uitstoot per ton geproduceerd (Mt/ton)=%{y}<extra></extra>",
           "hovertext": [
            "Indonesia"
           ],
           "legendgroup": "Indonesia",
           "marker": {
            "color": "#00cc96",
            "symbol": "circle"
           },
           "mode": "markers+text",
           "name": "Indonesia",
           "orientation": "v",
           "showlegend": true,
           "text": [
            "Indonesia"
           ],
           "type": "scatter",
           "x": {
            "bdata": "AAAAAAAcpUA=",
            "dtype": "f8"
           },
           "xaxis": "x",
           "y": {
            "bdata": "co94lCqfVT4=",
            "dtype": "f8"
           },
           "yaxis": "y"
          },
          {
           "hovertemplate": "<b>%{hovertext}</b><br><br>Country Name=%{text}<br>Year=1965<br>Neerslag (mm/jaar)=%{x}<br>Uitstoot per ton geproduceerd (Mt/ton)=%{y}<extra></extra>",
           "hovertext": [
            "Japan"
           ],
           "legendgroup": "Japan",
           "marker": {
            "color": "#ab63fa",
            "symbol": "circle"
           },
           "mode": "markers+text",
           "name": "Japan",
           "orientation": "v",
           "showlegend": true,
           "text": [
            "Japan"
           ],
           "type": "scatter",
           "x": {
            "bdata": "AAAAAAAQmkA=",
            "dtype": "f8"
           },
           "xaxis": "x",
           "y": {
            "bdata": "2VtW5fMHez4=",
            "dtype": "f8"
           },
           "yaxis": "y"
          },
          {
           "hovertemplate": "<b>%{hovertext}</b><br><br>Country Name=%{text}<br>Year=1965<br>Neerslag (mm/jaar)=%{x}<br>Uitstoot per ton geproduceerd (Mt/ton)=%{y}<extra></extra>",
           "hovertext": [
            "Nigeria"
           ],
           "legendgroup": "Nigeria",
           "marker": {
            "color": "#FFA15A",
            "symbol": "circle"
           },
           "mode": "markers+text",
           "name": "Nigeria",
           "orientation": "v",
           "showlegend": true,
           "text": [
            "Nigeria"
           ],
           "type": "scatter",
           "x": {
            "bdata": "AAAAAAD4kUA=",
            "dtype": "f8"
           },
           "xaxis": "x",
           "y": {
            "bdata": "cwaVSmvMNz4=",
            "dtype": "f8"
           },
           "yaxis": "y"
          },
          {
           "hovertemplate": "<b>%{hovertext}</b><br><br>Country Name=%{text}<br>Year=1965<br>Neerslag (mm/jaar)=%{x}<br>Uitstoot per ton geproduceerd (Mt/ton)=%{y}<extra></extra>",
           "hovertext": [
            "South Africa"
           ],
           "legendgroup": "South Africa",
           "marker": {
            "color": "#19d3f3",
            "symbol": "circle"
           },
           "mode": "markers+text",
           "name": "South Africa",
           "orientation": "v",
           "showlegend": true,
           "text": [
            "South Africa"
           ],
           "type": "scatter",
           "x": {
            "bdata": "AAAAAADwfkA=",
            "dtype": "f8"
           },
           "xaxis": "x",
           "y": {
            "bdata": "08q31CaYlj4=",
            "dtype": "f8"
           },
           "yaxis": "y"
          },
          {
           "hovertemplate": "<b>%{hovertext}</b><br><br>Country Name=%{text}<br>Year=1965<br>Neerslag (mm/jaar)=%{x}<br>Uitstoot per ton geproduceerd (Mt/ton)=%{y}<extra></extra>",
           "hovertext": [
            "United States of America"
           ],
           "legendgroup": "United States of America",
           "marker": {
            "color": "#FF6692",
            "symbol": "circle"
           },
           "mode": "markers+text",
           "name": "United States of America",
           "orientation": "v",
           "showlegend": true,
           "text": [
            "United States of America"
           ],
           "type": "scatter",
           "x": {
            "bdata": "AAAAAABYhkA=",
            "dtype": "f8"
           },
           "xaxis": "x",
           "y": {
            "bdata": "LICc23ubnD4=",
            "dtype": "f8"
           },
           "yaxis": "y"
          }
         ],
         "name": "1965"
        },
        {
         "data": [
          {
           "hovertemplate": "<b>%{hovertext}</b><br><br>Country Name=%{text}<br>Year=1966<br>Neerslag (mm/jaar)=%{x}<br>Uitstoot per ton geproduceerd (Mt/ton)=%{y}<extra></extra>",
           "hovertext": [
            "Brazil"
           ],
           "legendgroup": "Brazil",
           "marker": {
            "color": "#636efa",
            "symbol": "circle"
           },
           "mode": "markers+text",
           "name": "Brazil",
           "orientation": "v",
           "showlegend": true,
           "text": [
            "Brazil"
           ],
           "type": "scatter",
           "x": {
            "bdata": "AAAAAADYm0A=",
            "dtype": "f8"
           },
           "xaxis": "x",
           "y": {
            "bdata": "y0mJrHmqdz4=",
            "dtype": "f8"
           },
           "yaxis": "y"
          },
          {
           "hovertemplate": "<b>%{hovertext}</b><br><br>Country Name=%{text}<br>Year=1966<br>Neerslag (mm/jaar)=%{x}<br>Uitstoot per ton geproduceerd (Mt/ton)=%{y}<extra></extra>",
           "hovertext": [
            "India"
           ],
           "legendgroup": "India",
           "marker": {
            "color": "#EF553B",
            "symbol": "circle"
           },
           "mode": "markers+text",
           "name": "India",
           "orientation": "v",
           "showlegend": true,
           "text": [
            "India"
           ],
           "type": "scatter",
           "x": {
            "bdata": "AAAAAADskEA=",
            "dtype": "f8"
           },
           "xaxis": "x",
           "y": {
            "bdata": "zpePJp23kT4=",
            "dtype": "f8"
           },
           "yaxis": "y"
          },
          {
           "hovertemplate": "<b>%{hovertext}</b><br><br>Country Name=%{text}<br>Year=1966<br>Neerslag (mm/jaar)=%{x}<br>Uitstoot per ton geproduceerd (Mt/ton)=%{y}<extra></extra>",
           "hovertext": [
            "Indonesia"
           ],
           "legendgroup": "Indonesia",
           "marker": {
            "color": "#00cc96",
            "symbol": "circle"
           },
           "mode": "markers+text",
           "name": "Indonesia",
           "orientation": "v",
           "showlegend": true,
           "text": [
            "Indonesia"
           ],
           "type": "scatter",
           "x": {
            "bdata": "AAAAAAAcpUA=",
            "dtype": "f8"
           },
           "xaxis": "x",
           "y": {
            "bdata": "rdsh0iNCUz4=",
            "dtype": "f8"
           },
           "yaxis": "y"
          },
          {
           "hovertemplate": "<b>%{hovertext}</b><br><br>Country Name=%{text}<br>Year=1966<br>Neerslag (mm/jaar)=%{x}<br>Uitstoot per ton geproduceerd (Mt/ton)=%{y}<extra></extra>",
           "hovertext": [
            "Japan"
           ],
           "legendgroup": "Japan",
           "marker": {
            "color": "#ab63fa",
            "symbol": "circle"
           },
           "mode": "markers+text",
           "name": "Japan",
           "orientation": "v",
           "showlegend": true,
           "text": [
            "Japan"
           ],
           "type": "scatter",
           "x": {
            "bdata": "AAAAAAAQmkA=",
            "dtype": "f8"
           },
           "xaxis": "x",
           "y": {
            "bdata": "6K71GdvEeD4=",
            "dtype": "f8"
           },
           "yaxis": "y"
          },
          {
           "hovertemplate": "<b>%{hovertext}</b><br><br>Country Name=%{text}<br>Year=1966<br>Neerslag (mm/jaar)=%{x}<br>Uitstoot per ton geproduceerd (Mt/ton)=%{y}<extra></extra>",
           "hovertext": [
            "Nigeria"
           ],
           "legendgroup": "Nigeria",
           "marker": {
            "color": "#FFA15A",
            "symbol": "circle"
           },
           "mode": "markers+text",
           "name": "Nigeria",
           "orientation": "v",
           "showlegend": true,
           "text": [
            "Nigeria"
           ],
           "type": "scatter",
           "x": {
            "bdata": "AAAAAAD4kUA=",
            "dtype": "f8"
           },
           "xaxis": "x",
           "y": {
            "bdata": "zHm82B6KOT4=",
            "dtype": "f8"
           },
           "yaxis": "y"
          },
          {
           "hovertemplate": "<b>%{hovertext}</b><br><br>Country Name=%{text}<br>Year=1966<br>Neerslag (mm/jaar)=%{x}<br>Uitstoot per ton geproduceerd (Mt/ton)=%{y}<extra></extra>",
           "hovertext": [
            "South Africa"
           ],
           "legendgroup": "South Africa",
           "marker": {
            "color": "#19d3f3",
            "symbol": "circle"
           },
           "mode": "markers+text",
           "name": "South Africa",
           "orientation": "v",
           "showlegend": true,
           "text": [
            "South Africa"
           ],
           "type": "scatter",
           "x": {
            "bdata": "AAAAAADwfkA=",
            "dtype": "f8"
           },
           "xaxis": "x",
           "y": {
            "bdata": "eG1mWyk3iz4=",
            "dtype": "f8"
           },
           "yaxis": "y"
          },
          {
           "hovertemplate": "<b>%{hovertext}</b><br><br>Country Name=%{text}<br>Year=1966<br>Neerslag (mm/jaar)=%{x}<br>Uitstoot per ton geproduceerd (Mt/ton)=%{y}<extra></extra>",
           "hovertext": [
            "United States of America"
           ],
           "legendgroup": "United States of America",
           "marker": {
            "color": "#FF6692",
            "symbol": "circle"
           },
           "mode": "markers+text",
           "name": "United States of America",
           "orientation": "v",
           "showlegend": true,
           "text": [
            "United States of America"
           ],
           "type": "scatter",
           "x": {
            "bdata": "AAAAAABYhkA=",
            "dtype": "f8"
           },
           "xaxis": "x",
           "y": {
            "bdata": "Gj/R67J3nD4=",
            "dtype": "f8"
           },
           "yaxis": "y"
          }
         ],
         "name": "1966"
        },
        {
         "data": [
          {
           "hovertemplate": "<b>%{hovertext}</b><br><br>Country Name=%{text}<br>Year=1967<br>Neerslag (mm/jaar)=%{x}<br>Uitstoot per ton geproduceerd (Mt/ton)=%{y}<extra></extra>",
           "hovertext": [
            "Brazil"
           ],
           "legendgroup": "Brazil",
           "marker": {
            "color": "#636efa",
            "symbol": "circle"
           },
           "mode": "markers+text",
           "name": "Brazil",
           "orientation": "v",
           "showlegend": true,
           "text": [
            "Brazil"
           ],
           "type": "scatter",
           "x": {
            "bdata": "AAAAAACEm0A=",
            "dtype": "f8"
           },
           "xaxis": "x",
           "y": {
            "bdata": "nkZmukAleD4=",
            "dtype": "f8"
           },
           "yaxis": "y"
          },
          {
           "hovertemplate": "<b>%{hovertext}</b><br><br>Country Name=%{text}<br>Year=1967<br>Neerslag (mm/jaar)=%{x}<br>Uitstoot per ton geproduceerd (Mt/ton)=%{y}<extra></extra>",
           "hovertext": [
            "India"
           ],
           "legendgroup": "India",
           "marker": {
            "color": "#EF553B",
            "symbol": "circle"
           },
           "mode": "markers+text",
           "name": "India",
           "orientation": "v",
           "showlegend": true,
           "text": [
            "India"
           ],
           "type": "scatter",
           "x": {
            "bdata": "AAAAAADskEA=",
            "dtype": "f8"
           },
           "xaxis": "x",
           "y": {
            "bdata": "p2T0I5nAlD4=",
            "dtype": "f8"
           },
           "yaxis": "y"
          },
          {
           "hovertemplate": "<b>%{hovertext}</b><br><br>Country Name=%{text}<br>Year=1967<br>Neerslag (mm/jaar)=%{x}<br>Uitstoot per ton geproduceerd (Mt/ton)=%{y}<extra></extra>",
           "hovertext": [
            "Indonesia"
           ],
           "legendgroup": "Indonesia",
           "marker": {
            "color": "#00cc96",
            "symbol": "circle"
           },
           "mode": "markers+text",
           "name": "Indonesia",
           "orientation": "v",
           "showlegend": true,
           "text": [
            "Indonesia"
           ],
           "type": "scatter",
           "x": {
            "bdata": "AAAAAAAcpUA=",
            "dtype": "f8"
           },
           "xaxis": "x",
           "y": {
            "bdata": "tvRWPck7VT4=",
            "dtype": "f8"
           },
           "yaxis": "y"
          },
          {
           "hovertemplate": "<b>%{hovertext}</b><br><br>Country Name=%{text}<br>Year=1967<br>Neerslag (mm/jaar)=%{x}<br>Uitstoot per ton geproduceerd (Mt/ton)=%{y}<extra></extra>",
           "hovertext": [
            "Japan"
           ],
           "legendgroup": "Japan",
           "marker": {
            "color": "#ab63fa",
            "symbol": "circle"
           },
           "mode": "markers+text",
           "name": "Japan",
           "orientation": "v",
           "showlegend": true,
           "text": [
            "Japan"
           ],
           "type": "scatter",
           "x": {
            "bdata": "AAAAAAAQmkA=",
            "dtype": "f8"
           },
           "xaxis": "x",
           "y": {
            "bdata": "UbJqBO0qdj4=",
            "dtype": "f8"
           },
           "yaxis": "y"
          },
          {
           "hovertemplate": "<b>%{hovertext}</b><br><br>Country Name=%{text}<br>Year=1967<br>Neerslag (mm/jaar)=%{x}<br>Uitstoot per ton geproduceerd (Mt/ton)=%{y}<extra></extra>",
           "hovertext": [
            "Nigeria"
           ],
           "legendgroup": "Nigeria",
           "marker": {
            "color": "#FFA15A",
            "symbol": "circle"
           },
           "mode": "markers+text",
           "name": "Nigeria",
           "orientation": "v",
           "showlegend": true,
           "text": [
            "Nigeria"
           ],
           "type": "scatter",
           "x": {
            "bdata": "AAAAAAD4kUA=",
            "dtype": "f8"
           },
           "xaxis": "x",
           "y": {
            "bdata": "PxZixeZWOD4=",
            "dtype": "f8"
           },
           "yaxis": "y"
          },
          {
           "hovertemplate": "<b>%{hovertext}</b><br><br>Country Name=%{text}<br>Year=1967<br>Neerslag (mm/jaar)=%{x}<br>Uitstoot per ton geproduceerd (Mt/ton)=%{y}<extra></extra>",
           "hovertext": [
            "South Africa"
           ],
           "legendgroup": "South Africa",
           "marker": {
            "color": "#19d3f3",
            "symbol": "circle"
           },
           "mode": "markers+text",
           "name": "South Africa",
           "orientation": "v",
           "showlegend": true,
           "text": [
            "South Africa"
           ],
           "type": "scatter",
           "x": {
            "bdata": "AAAAAADwfkA=",
            "dtype": "f8"
           },
           "xaxis": "x",
           "y": {
            "bdata": "/A5Bap18ij4=",
            "dtype": "f8"
           },
           "yaxis": "y"
          },
          {
           "hovertemplate": "<b>%{hovertext}</b><br><br>Country Name=%{text}<br>Year=1967<br>Neerslag (mm/jaar)=%{x}<br>Uitstoot per ton geproduceerd (Mt/ton)=%{y}<extra></extra>",
           "hovertext": [
            "United States of America"
           ],
           "legendgroup": "United States of America",
           "marker": {
            "color": "#FF6692",
            "symbol": "circle"
           },
           "mode": "markers+text",
           "name": "United States of America",
           "orientation": "v",
           "showlegend": true,
           "text": [
            "United States of America"
           ],
           "type": "scatter",
           "x": {
            "bdata": "AAAAAABYhkA=",
            "dtype": "f8"
           },
           "xaxis": "x",
           "y": {
            "bdata": "7/uOWAt1nz4=",
            "dtype": "f8"
           },
           "yaxis": "y"
          }
         ],
         "name": "1967"
        },
        {
         "data": [
          {
           "hovertemplate": "<b>%{hovertext}</b><br><br>Country Name=%{text}<br>Year=1968<br>Neerslag (mm/jaar)=%{x}<br>Uitstoot per ton geproduceerd (Mt/ton)=%{y}<extra></extra>",
           "hovertext": [
            "Brazil"
           ],
           "legendgroup": "Brazil",
           "marker": {
            "color": "#636efa",
            "symbol": "circle"
           },
           "mode": "markers+text",
           "name": "Brazil",
           "orientation": "v",
           "showlegend": true,
           "text": [
            "Brazil"
           ],
           "type": "scatter",
           "x": {
            "bdata": "AAAAAADYm0A=",
            "dtype": "f8"
           },
           "xaxis": "x",
           "y": {
            "bdata": "gn5G8PmKeT4=",
            "dtype": "f8"
           },
           "yaxis": "y"
          },
          {
           "hovertemplate": "<b>%{hovertext}</b><br><br>Country Name=%{text}<br>Year=1968<br>Neerslag (mm/jaar)=%{x}<br>Uitstoot per ton geproduceerd (Mt/ton)=%{y}<extra></extra>",
           "hovertext": [
            "India"
           ],
           "legendgroup": "India",
           "marker": {
            "color": "#EF553B",
            "symbol": "circle"
           },
           "mode": "markers+text",
           "name": "India",
           "orientation": "v",
           "showlegend": true,
           "text": [
            "India"
           ],
           "type": "scatter",
           "x": {
            "bdata": "AAAAAADskEA=",
            "dtype": "f8"
           },
           "xaxis": "x",
           "y": {
            "bdata": "lrKkC3V9lj4=",
            "dtype": "f8"
           },
           "yaxis": "y"
          },
          {
           "hovertemplate": "<b>%{hovertext}</b><br><br>Country Name=%{text}<br>Year=1968<br>Neerslag (mm/jaar)=%{x}<br>Uitstoot per ton geproduceerd (Mt/ton)=%{y}<extra></extra>",
           "hovertext": [
            "Indonesia"
           ],
           "legendgroup": "Indonesia",
           "marker": {
            "color": "#00cc96",
            "symbol": "circle"
           },
           "mode": "markers+text",
           "name": "Indonesia",
           "orientation": "v",
           "showlegend": true,
           "text": [
            "Indonesia"
           ],
           "type": "scatter",
           "x": {
            "bdata": "AAAAAAAcpUA=",
            "dtype": "f8"
           },
           "xaxis": "x",
           "y": {
            "bdata": "dtuVDMpZVD4=",
            "dtype": "f8"
           },
           "yaxis": "y"
          },
          {
           "hovertemplate": "<b>%{hovertext}</b><br><br>Country Name=%{text}<br>Year=1968<br>Neerslag (mm/jaar)=%{x}<br>Uitstoot per ton geproduceerd (Mt/ton)=%{y}<extra></extra>",
           "hovertext": [
            "Japan"
           ],
           "legendgroup": "Japan",
           "marker": {
            "color": "#ab63fa",
            "symbol": "circle"
           },
           "mode": "markers+text",
           "name": "Japan",
           "orientation": "v",
           "showlegend": true,
           "text": [
            "Japan"
           ],
           "type": "scatter",
           "x": {
            "bdata": "AAAAAAAQmkA=",
            "dtype": "f8"
           },
           "xaxis": "x",
           "y": {
            "bdata": "n6lAfxridD4=",
            "dtype": "f8"
           },
           "yaxis": "y"
          },
          {
           "hovertemplate": "<b>%{hovertext}</b><br><br>Country Name=%{text}<br>Year=1968<br>Neerslag (mm/jaar)=%{x}<br>Uitstoot per ton geproduceerd (Mt/ton)=%{y}<extra></extra>",
           "hovertext": [
            "Nigeria"
           ],
           "legendgroup": "Nigeria",
           "marker": {
            "color": "#FFA15A",
            "symbol": "circle"
           },
           "mode": "markers+text",
           "name": "Nigeria",
           "orientation": "v",
           "showlegend": true,
           "text": [
            "Nigeria"
           ],
           "type": "scatter",
           "x": {
            "bdata": "AAAAAAD4kUA=",
            "dtype": "f8"
           },
           "xaxis": "x",
           "y": {
            "bdata": "I7Y1Ct/JNz4=",
            "dtype": "f8"
           },
           "yaxis": "y"
          },
          {
           "hovertemplate": "<b>%{hovertext}</b><br><br>Country Name=%{text}<br>Year=1968<br>Neerslag (mm/jaar)=%{x}<br>Uitstoot per ton geproduceerd (Mt/ton)=%{y}<extra></extra>",
           "hovertext": [
            "South Africa"
           ],
           "legendgroup": "South Africa",
           "marker": {
            "color": "#19d3f3",
            "symbol": "circle"
           },
           "mode": "markers+text",
           "name": "South Africa",
           "orientation": "v",
           "showlegend": true,
           "text": [
            "South Africa"
           ],
           "type": "scatter",
           "x": {
            "bdata": "AAAAAADwfkA=",
            "dtype": "f8"
           },
           "xaxis": "x",
           "y": {
            "bdata": "h4pXQo/9kj4=",
            "dtype": "f8"
           },
           "yaxis": "y"
          },
          {
           "hovertemplate": "<b>%{hovertext}</b><br><br>Country Name=%{text}<br>Year=1968<br>Neerslag (mm/jaar)=%{x}<br>Uitstoot per ton geproduceerd (Mt/ton)=%{y}<extra></extra>",
           "hovertext": [
            "United States of America"
           ],
           "legendgroup": "United States of America",
           "marker": {
            "color": "#FF6692",
            "symbol": "circle"
           },
           "mode": "markers+text",
           "name": "United States of America",
           "orientation": "v",
           "showlegend": true,
           "text": [
            "United States of America"
           ],
           "type": "scatter",
           "x": {
            "bdata": "AAAAAABYhkA=",
            "dtype": "f8"
           },
           "xaxis": "x",
           "y": {
            "bdata": "0gehSUr1nD4=",
            "dtype": "f8"
           },
           "yaxis": "y"
          }
         ],
         "name": "1968"
        },
        {
         "data": [
          {
           "hovertemplate": "<b>%{hovertext}</b><br><br>Country Name=%{text}<br>Year=1969<br>Neerslag (mm/jaar)=%{x}<br>Uitstoot per ton geproduceerd (Mt/ton)=%{y}<extra></extra>",
           "hovertext": [
            "Brazil"
           ],
           "legendgroup": "Brazil",
           "marker": {
            "color": "#636efa",
            "symbol": "circle"
           },
           "mode": "markers+text",
           "name": "Brazil",
           "orientation": "v",
           "showlegend": true,
           "text": [
            "Brazil"
           ],
           "type": "scatter",
           "x": {
            "bdata": "AAAAAADYm0A=",
            "dtype": "f8"
           },
           "xaxis": "x",
           "y": {
            "bdata": "+/JB0v0NfT4=",
            "dtype": "f8"
           },
           "yaxis": "y"
          },
          {
           "hovertemplate": "<b>%{hovertext}</b><br><br>Country Name=%{text}<br>Year=1969<br>Neerslag (mm/jaar)=%{x}<br>Uitstoot per ton geproduceerd (Mt/ton)=%{y}<extra></extra>",
           "hovertext": [
            "India"
           ],
           "legendgroup": "India",
           "marker": {
            "color": "#EF553B",
            "symbol": "circle"
           },
           "mode": "markers+text",
           "name": "India",
           "orientation": "v",
           "showlegend": true,
           "text": [
            "India"
           ],
           "type": "scatter",
           "x": {
            "bdata": "AAAAAADskEA=",
            "dtype": "f8"
           },
           "xaxis": "x",
           "y": {
            "bdata": "ej/vA+A+lD4=",
            "dtype": "f8"
           },
           "yaxis": "y"
          },
          {
           "hovertemplate": "<b>%{hovertext}</b><br><br>Country Name=%{text}<br>Year=1969<br>Neerslag (mm/jaar)=%{x}<br>Uitstoot per ton geproduceerd (Mt/ton)=%{y}<extra></extra>",
           "hovertext": [
            "Indonesia"
           ],
           "legendgroup": "Indonesia",
           "marker": {
            "color": "#00cc96",
            "symbol": "circle"
           },
           "mode": "markers+text",
           "name": "Indonesia",
           "orientation": "v",
           "showlegend": true,
           "text": [
            "Indonesia"
           ],
           "type": "scatter",
           "x": {
            "bdata": "AAAAAAAcpUA=",
            "dtype": "f8"
           },
           "xaxis": "x",
           "y": {
            "bdata": "1SRjUjEpUz4=",
            "dtype": "f8"
           },
           "yaxis": "y"
          },
          {
           "hovertemplate": "<b>%{hovertext}</b><br><br>Country Name=%{text}<br>Year=1969<br>Neerslag (mm/jaar)=%{x}<br>Uitstoot per ton geproduceerd (Mt/ton)=%{y}<extra></extra>",
           "hovertext": [
            "Japan"
           ],
           "legendgroup": "Japan",
           "marker": {
            "color": "#ab63fa",
            "symbol": "circle"
           },
           "mode": "markers+text",
           "name": "Japan",
           "orientation": "v",
           "showlegend": true,
           "text": [
            "Japan"
           ],
           "type": "scatter",
           "x": {
            "bdata": "AAAAAAAQmkA=",
            "dtype": "f8"
           },
           "xaxis": "x",
           "y": {
            "bdata": "sdoOVlsUdD4=",
            "dtype": "f8"
           },
           "yaxis": "y"
          },
          {
           "hovertemplate": "<b>%{hovertext}</b><br><br>Country Name=%{text}<br>Year=1969<br>Neerslag (mm/jaar)=%{x}<br>Uitstoot per ton geproduceerd (Mt/ton)=%{y}<extra></extra>",
           "hovertext": [
            "Nigeria"
           ],
           "legendgroup": "Nigeria",
           "marker": {
            "color": "#FFA15A",
            "symbol": "circle"
           },
           "mode": "markers+text",
           "name": "Nigeria",
           "orientation": "v",
           "showlegend": true,
           "text": [
            "Nigeria"
           ],
           "type": "scatter",
           "x": {
            "bdata": "AAAAAAD4kUA=",
            "dtype": "f8"
           },
           "xaxis": "x",
           "y": {
            "bdata": "MmPY5pKTND4=",
            "dtype": "f8"
           },
           "yaxis": "y"
          },
          {
           "hovertemplate": "<b>%{hovertext}</b><br><br>Country Name=%{text}<br>Year=1969<br>Neerslag (mm/jaar)=%{x}<br>Uitstoot per ton geproduceerd (Mt/ton)=%{y}<extra></extra>",
           "hovertext": [
            "South Africa"
           ],
           "legendgroup": "South Africa",
           "marker": {
            "color": "#19d3f3",
            "symbol": "circle"
           },
           "mode": "markers+text",
           "name": "South Africa",
           "orientation": "v",
           "showlegend": true,
           "text": [
            "South Africa"
           ],
           "type": "scatter",
           "x": {
            "bdata": "AAAAAADwfkA=",
            "dtype": "f8"
           },
           "xaxis": "x",
           "y": {
            "bdata": "PnbEZ3iUkz4=",
            "dtype": "f8"
           },
           "yaxis": "y"
          },
          {
           "hovertemplate": "<b>%{hovertext}</b><br><br>Country Name=%{text}<br>Year=1969<br>Neerslag (mm/jaar)=%{x}<br>Uitstoot per ton geproduceerd (Mt/ton)=%{y}<extra></extra>",
           "hovertext": [
            "United States of America"
           ],
           "legendgroup": "United States of America",
           "marker": {
            "color": "#FF6692",
            "symbol": "circle"
           },
           "mode": "markers+text",
           "name": "United States of America",
           "orientation": "v",
           "showlegend": true,
           "text": [
            "United States of America"
           ],
           "type": "scatter",
           "x": {
            "bdata": "AAAAAABYhkA=",
            "dtype": "f8"
           },
           "xaxis": "x",
           "y": {
            "bdata": "gugKRVCjmT4=",
            "dtype": "f8"
           },
           "yaxis": "y"
          }
         ],
         "name": "1969"
        },
        {
         "data": [
          {
           "hovertemplate": "<b>%{hovertext}</b><br><br>Country Name=%{text}<br>Year=1970<br>Neerslag (mm/jaar)=%{x}<br>Uitstoot per ton geproduceerd (Mt/ton)=%{y}<extra></extra>",
           "hovertext": [
            "Brazil"
           ],
           "legendgroup": "Brazil",
           "marker": {
            "color": "#636efa",
            "symbol": "circle"
           },
           "mode": "markers+text",
           "name": "Brazil",
           "orientation": "v",
           "showlegend": true,
           "text": [
            "Brazil"
           ],
           "type": "scatter",
           "x": {
            "bdata": "AAAAAADYm0A=",
            "dtype": "f8"
           },
           "xaxis": "x",
           "y": {
            "bdata": "FH/ddKC5fz4=",
            "dtype": "f8"
           },
           "yaxis": "y"
          },
          {
           "hovertemplate": "<b>%{hovertext}</b><br><br>Country Name=%{text}<br>Year=1970<br>Neerslag (mm/jaar)=%{x}<br>Uitstoot per ton geproduceerd (Mt/ton)=%{y}<extra></extra>",
           "hovertext": [
            "India"
           ],
           "legendgroup": "India",
           "marker": {
            "color": "#EF553B",
            "symbol": "circle"
           },
           "mode": "markers+text",
           "name": "India",
           "orientation": "v",
           "showlegend": true,
           "text": [
            "India"
           ],
           "type": "scatter",
           "x": {
            "bdata": "AAAAAADskEA=",
            "dtype": "f8"
           },
           "xaxis": "x",
           "y": {
            "bdata": "CHdwbbfvkz4=",
            "dtype": "f8"
           },
           "yaxis": "y"
          },
          {
           "hovertemplate": "<b>%{hovertext}</b><br><br>Country Name=%{text}<br>Year=1970<br>Neerslag (mm/jaar)=%{x}<br>Uitstoot per ton geproduceerd (Mt/ton)=%{y}<extra></extra>",
           "hovertext": [
            "Indonesia"
           ],
           "legendgroup": "Indonesia",
           "marker": {
            "color": "#00cc96",
            "symbol": "circle"
           },
           "mode": "markers+text",
           "name": "Indonesia",
           "orientation": "v",
           "showlegend": true,
           "text": [
            "Indonesia"
           ],
           "type": "scatter",
           "x": {
            "bdata": "AAAAAAAcpUA=",
            "dtype": "f8"
           },
           "xaxis": "x",
           "y": {
            "bdata": "CgT6/UzpUj4=",
            "dtype": "f8"
           },
           "yaxis": "y"
          },
          {
           "hovertemplate": "<b>%{hovertext}</b><br><br>Country Name=%{text}<br>Year=1970<br>Neerslag (mm/jaar)=%{x}<br>Uitstoot per ton geproduceerd (Mt/ton)=%{y}<extra></extra>",
           "hovertext": [
            "Japan"
           ],
           "legendgroup": "Japan",
           "marker": {
            "color": "#ab63fa",
            "symbol": "circle"
           },
           "mode": "markers+text",
           "name": "Japan",
           "orientation": "v",
           "showlegend": true,
           "text": [
            "Japan"
           ],
           "type": "scatter",
           "x": {
            "bdata": "AAAAAAAQmkA=",
            "dtype": "f8"
           },
           "xaxis": "x",
           "y": {
            "bdata": "yxEuIzipcD4=",
            "dtype": "f8"
           },
           "yaxis": "y"
          },
          {
           "hovertemplate": "<b>%{hovertext}</b><br><br>Country Name=%{text}<br>Year=1970<br>Neerslag (mm/jaar)=%{x}<br>Uitstoot per ton geproduceerd (Mt/ton)=%{y}<extra></extra>",
           "hovertext": [
            "Nigeria"
           ],
           "legendgroup": "Nigeria",
           "marker": {
            "color": "#FFA15A",
            "symbol": "circle"
           },
           "mode": "markers+text",
           "name": "Nigeria",
           "orientation": "v",
           "showlegend": true,
           "text": [
            "Nigeria"
           ],
           "type": "scatter",
           "x": {
            "bdata": "AAAAAAD4kUA=",
            "dtype": "f8"
           },
           "xaxis": "x",
           "y": {
            "bdata": "2f0HCyuRMj4=",
            "dtype": "f8"
           },
           "yaxis": "y"
          },
          {
           "hovertemplate": "<b>%{hovertext}</b><br><br>Country Name=%{text}<br>Year=1970<br>Neerslag (mm/jaar)=%{x}<br>Uitstoot per ton geproduceerd (Mt/ton)=%{y}<extra></extra>",
           "hovertext": [
            "South Africa"
           ],
           "legendgroup": "South Africa",
           "marker": {
            "color": "#19d3f3",
            "symbol": "circle"
           },
           "mode": "markers+text",
           "name": "South Africa",
           "orientation": "v",
           "showlegend": true,
           "text": [
            "South Africa"
           ],
           "type": "scatter",
           "x": {
            "bdata": "AAAAAADwfkA=",
            "dtype": "f8"
           },
           "xaxis": "x",
           "y": {
            "bdata": "+HqqOsTplj4=",
            "dtype": "f8"
           },
           "yaxis": "y"
          },
          {
           "hovertemplate": "<b>%{hovertext}</b><br><br>Country Name=%{text}<br>Year=1970<br>Neerslag (mm/jaar)=%{x}<br>Uitstoot per ton geproduceerd (Mt/ton)=%{y}<extra></extra>",
           "hovertext": [
            "United States of America"
           ],
           "legendgroup": "United States of America",
           "marker": {
            "color": "#FF6692",
            "symbol": "circle"
           },
           "mode": "markers+text",
           "name": "United States of America",
           "orientation": "v",
           "showlegend": true,
           "text": [
            "United States of America"
           ],
           "type": "scatter",
           "x": {
            "bdata": "AAAAAABYhkA=",
            "dtype": "f8"
           },
           "xaxis": "x",
           "y": {
            "bdata": "+hmdyUOomD4=",
            "dtype": "f8"
           },
           "yaxis": "y"
          }
         ],
         "name": "1970"
        },
        {
         "data": [
          {
           "hovertemplate": "<b>%{hovertext}</b><br><br>Country Name=%{text}<br>Year=1971<br>Neerslag (mm/jaar)=%{x}<br>Uitstoot per ton geproduceerd (Mt/ton)=%{y}<extra></extra>",
           "hovertext": [
            "Brazil"
           ],
           "legendgroup": "Brazil",
           "marker": {
            "color": "#636efa",
            "symbol": "circle"
           },
           "mode": "markers+text",
           "name": "Brazil",
           "orientation": "v",
           "showlegend": true,
           "text": [
            "Brazil"
           ],
           "type": "scatter",
           "x": {
            "bdata": "AAAAAADYm0A=",
            "dtype": "f8"
           },
           "xaxis": "x",
           "y": {
            "bdata": "urJV8aG+gD4=",
            "dtype": "f8"
           },
           "yaxis": "y"
          },
          {
           "hovertemplate": "<b>%{hovertext}</b><br><br>Country Name=%{text}<br>Year=1971<br>Neerslag (mm/jaar)=%{x}<br>Uitstoot per ton geproduceerd (Mt/ton)=%{y}<extra></extra>",
           "hovertext": [
            "India"
           ],
           "legendgroup": "India",
           "marker": {
            "color": "#EF553B",
            "symbol": "circle"
           },
           "mode": "markers+text",
           "name": "India",
           "orientation": "v",
           "showlegend": true,
           "text": [
            "India"
           ],
           "type": "scatter",
           "x": {
            "bdata": "AAAAAADskEA=",
            "dtype": "f8"
           },
           "xaxis": "x",
           "y": {
            "bdata": "dVSj+qxqlj4=",
            "dtype": "f8"
           },
           "yaxis": "y"
          },
          {
           "hovertemplate": "<b>%{hovertext}</b><br><br>Country Name=%{text}<br>Year=1971<br>Neerslag (mm/jaar)=%{x}<br>Uitstoot per ton geproduceerd (Mt/ton)=%{y}<extra></extra>",
           "hovertext": [
            "Indonesia"
           ],
           "legendgroup": "Indonesia",
           "marker": {
            "color": "#00cc96",
            "symbol": "circle"
           },
           "mode": "markers+text",
           "name": "Indonesia",
           "orientation": "v",
           "showlegend": true,
           "text": [
            "Indonesia"
           ],
           "type": "scatter",
           "x": {
            "bdata": "AAAAAAAcpUA=",
            "dtype": "f8"
           },
           "xaxis": "x",
           "y": {
            "bdata": "6ZNzshrYUT4=",
            "dtype": "f8"
           },
           "yaxis": "y"
          },
          {
           "hovertemplate": "<b>%{hovertext}</b><br><br>Country Name=%{text}<br>Year=1971<br>Neerslag (mm/jaar)=%{x}<br>Uitstoot per ton geproduceerd (Mt/ton)=%{y}<extra></extra>",
           "hovertext": [
            "Japan"
           ],
           "legendgroup": "Japan",
           "marker": {
            "color": "#ab63fa",
            "symbol": "circle"
           },
           "mode": "markers+text",
           "name": "Japan",
           "orientation": "v",
           "showlegend": true,
           "text": [
            "Japan"
           ],
           "type": "scatter",
           "x": {
            "bdata": "AAAAAAAQmkA=",
            "dtype": "f8"
           },
           "xaxis": "x",
           "y": {
            "bdata": "nq4d9QAcbj4=",
            "dtype": "f8"
           },
           "yaxis": "y"
          },
          {
           "hovertemplate": "<b>%{hovertext}</b><br><br>Country Name=%{text}<br>Year=1971<br>Neerslag (mm/jaar)=%{x}<br>Uitstoot per ton geproduceerd (Mt/ton)=%{y}<extra></extra>",
           "hovertext": [
            "Nigeria"
           ],
           "legendgroup": "Nigeria",
           "marker": {
            "color": "#FFA15A",
            "symbol": "circle"
           },
           "mode": "markers+text",
           "name": "Nigeria",
           "orientation": "v",
           "showlegend": true,
           "text": [
            "Nigeria"
           ],
           "type": "scatter",
           "x": {
            "bdata": "AAAAAAD4kUA=",
            "dtype": "f8"
           },
           "xaxis": "x",
           "y": {
            "bdata": "KoQk/IGKNj4=",
            "dtype": "f8"
           },
           "yaxis": "y"
          },
          {
           "hovertemplate": "<b>%{hovertext}</b><br><br>Country Name=%{text}<br>Year=1971<br>Neerslag (mm/jaar)=%{x}<br>Uitstoot per ton geproduceerd (Mt/ton)=%{y}<extra></extra>",
           "hovertext": [
            "South Africa"
           ],
           "legendgroup": "South Africa",
           "marker": {
            "color": "#19d3f3",
            "symbol": "circle"
           },
           "mode": "markers+text",
           "name": "South Africa",
           "orientation": "v",
           "showlegend": true,
           "text": [
            "South Africa"
           ],
           "type": "scatter",
           "x": {
            "bdata": "AAAAAADwfkA=",
            "dtype": "f8"
           },
           "xaxis": "x",
           "y": {
            "bdata": "GZEz3bq2kj4=",
            "dtype": "f8"
           },
           "yaxis": "y"
          },
          {
           "hovertemplate": "<b>%{hovertext}</b><br><br>Country Name=%{text}<br>Year=1971<br>Neerslag (mm/jaar)=%{x}<br>Uitstoot per ton geproduceerd (Mt/ton)=%{y}<extra></extra>",
           "hovertext": [
            "United States of America"
           ],
           "legendgroup": "United States of America",
           "marker": {
            "color": "#FF6692",
            "symbol": "circle"
           },
           "mode": "markers+text",
           "name": "United States of America",
           "orientation": "v",
           "showlegend": true,
           "text": [
            "United States of America"
           ],
           "type": "scatter",
           "x": {
            "bdata": "AAAAAABYhkA=",
            "dtype": "f8"
           },
           "xaxis": "x",
           "y": {
            "bdata": "XSJEZzRCmT4=",
            "dtype": "f8"
           },
           "yaxis": "y"
          }
         ],
         "name": "1971"
        },
        {
         "data": [
          {
           "hovertemplate": "<b>%{hovertext}</b><br><br>Country Name=%{text}<br>Year=1972<br>Neerslag (mm/jaar)=%{x}<br>Uitstoot per ton geproduceerd (Mt/ton)=%{y}<extra></extra>",
           "hovertext": [
            "Brazil"
           ],
           "legendgroup": "Brazil",
           "marker": {
            "color": "#636efa",
            "symbol": "circle"
           },
           "mode": "markers+text",
           "name": "Brazil",
           "orientation": "v",
           "showlegend": true,
           "text": [
            "Brazil"
           ],
           "type": "scatter",
           "x": {
            "bdata": "AAAAAACEm0A=",
            "dtype": "f8"
           },
           "xaxis": "x",
           "y": {
            "bdata": "H2XfeqK0fz4=",
            "dtype": "f8"
           },
           "yaxis": "y"
          },
          {
           "hovertemplate": "<b>%{hovertext}</b><br><br>Country Name=%{text}<br>Year=1972<br>Neerslag (mm/jaar)=%{x}<br>Uitstoot per ton geproduceerd (Mt/ton)=%{y}<extra></extra>",
           "hovertext": [
            "India"
           ],
           "legendgroup": "India",
           "marker": {
            "color": "#EF553B",
            "symbol": "circle"
           },
           "mode": "markers+text",
           "name": "India",
           "orientation": "v",
           "showlegend": true,
           "text": [
            "India"
           ],
           "type": "scatter",
           "x": {
            "bdata": "AAAAAADskEA=",
            "dtype": "f8"
           },
           "xaxis": "x",
           "y": {
            "bdata": "PDDjGxkPmT4=",
            "dtype": "f8"
           },
           "yaxis": "y"
          },
          {
           "hovertemplate": "<b>%{hovertext}</b><br><br>Country Name=%{text}<br>Year=1972<br>Neerslag (mm/jaar)=%{x}<br>Uitstoot per ton geproduceerd (Mt/ton)=%{y}<extra></extra>",
           "hovertext": [
            "Indonesia"
           ],
           "legendgroup": "Indonesia",
           "marker": {
            "color": "#00cc96",
            "symbol": "circle"
           },
           "mode": "markers+text",
           "name": "Indonesia",
           "orientation": "v",
           "showlegend": true,
           "text": [
            "Indonesia"
           ],
           "type": "scatter",
           "x": {
            "bdata": "AAAAAAAcpUA=",
            "dtype": "f8"
           },
           "xaxis": "x",
           "y": {
            "bdata": "nAIDodAwUj4=",
            "dtype": "f8"
           },
           "yaxis": "y"
          },
          {
           "hovertemplate": "<b>%{hovertext}</b><br><br>Country Name=%{text}<br>Year=1972<br>Neerslag (mm/jaar)=%{x}<br>Uitstoot per ton geproduceerd (Mt/ton)=%{y}<extra></extra>",
           "hovertext": [
            "Japan"
           ],
           "legendgroup": "Japan",
           "marker": {
            "color": "#ab63fa",
            "symbol": "circle"
           },
           "mode": "markers+text",
           "name": "Japan",
           "orientation": "v",
           "showlegend": true,
           "text": [
            "Japan"
           ],
           "type": "scatter",
           "x": {
            "bdata": "AAAAAAAQmkA=",
            "dtype": "f8"
           },
           "xaxis": "x",
           "y": {
            "bdata": "OFqETx5UZz4=",
            "dtype": "f8"
           },
           "yaxis": "y"
          },
          {
           "hovertemplate": "<b>%{hovertext}</b><br><br>Country Name=%{text}<br>Year=1972<br>Neerslag (mm/jaar)=%{x}<br>Uitstoot per ton geproduceerd (Mt/ton)=%{y}<extra></extra>",
           "hovertext": [
            "Nigeria"
           ],
           "legendgroup": "Nigeria",
           "marker": {
            "color": "#FFA15A",
            "symbol": "circle"
           },
           "mode": "markers+text",
           "name": "Nigeria",
           "orientation": "v",
           "showlegend": true,
           "text": [
            "Nigeria"
           ],
           "type": "scatter",
           "x": {
            "bdata": "AAAAAAD4kUA=",
            "dtype": "f8"
           },
           "xaxis": "x",
           "y": {
            "bdata": "4jtlKPfTPj4=",
            "dtype": "f8"
           },
           "yaxis": "y"
          },
          {
           "hovertemplate": "<b>%{hovertext}</b><br><br>Country Name=%{text}<br>Year=1972<br>Neerslag (mm/jaar)=%{x}<br>Uitstoot per ton geproduceerd (Mt/ton)=%{y}<extra></extra>",
           "hovertext": [
            "South Africa"
           ],
           "legendgroup": "South Africa",
           "marker": {
            "color": "#19d3f3",
            "symbol": "circle"
           },
           "mode": "markers+text",
           "name": "South Africa",
           "orientation": "v",
           "showlegend": true,
           "text": [
            "South Africa"
           ],
           "type": "scatter",
           "x": {
            "bdata": "AAAAAADwfkA=",
            "dtype": "f8"
           },
           "xaxis": "x",
           "y": {
            "bdata": "hreLGYl0kj4=",
            "dtype": "f8"
           },
           "yaxis": "y"
          },
          {
           "hovertemplate": "<b>%{hovertext}</b><br><br>Country Name=%{text}<br>Year=1972<br>Neerslag (mm/jaar)=%{x}<br>Uitstoot per ton geproduceerd (Mt/ton)=%{y}<extra></extra>",
           "hovertext": [
            "United States of America"
           ],
           "legendgroup": "United States of America",
           "marker": {
            "color": "#FF6692",
            "symbol": "circle"
           },
           "mode": "markers+text",
           "name": "United States of America",
           "orientation": "v",
           "showlegend": true,
           "text": [
            "United States of America"
           ],
           "type": "scatter",
           "x": {
            "bdata": "AAAAAABYhkA=",
            "dtype": "f8"
           },
           "xaxis": "x",
           "y": {
            "bdata": "O4hox2htmT4=",
            "dtype": "f8"
           },
           "yaxis": "y"
          }
         ],
         "name": "1972"
        },
        {
         "data": [
          {
           "hovertemplate": "<b>%{hovertext}</b><br><br>Country Name=%{text}<br>Year=1973<br>Neerslag (mm/jaar)=%{x}<br>Uitstoot per ton geproduceerd (Mt/ton)=%{y}<extra></extra>",
           "hovertext": [
            "Brazil"
           ],
           "legendgroup": "Brazil",
           "marker": {
            "color": "#636efa",
            "symbol": "circle"
           },
           "mode": "markers+text",
           "name": "Brazil",
           "orientation": "v",
           "showlegend": true,
           "text": [
            "Brazil"
           ],
           "type": "scatter",
           "x": {
            "bdata": "AAAAAADYm0A=",
            "dtype": "f8"
           },
           "xaxis": "x",
           "y": {
            "bdata": "CAQpF9D1fT4=",
            "dtype": "f8"
           },
           "yaxis": "y"
          },
          {
           "hovertemplate": "<b>%{hovertext}</b><br><br>Country Name=%{text}<br>Year=1973<br>Neerslag (mm/jaar)=%{x}<br>Uitstoot per ton geproduceerd (Mt/ton)=%{y}<extra></extra>",
           "hovertext": [
            "India"
           ],
           "legendgroup": "India",
           "marker": {
            "color": "#EF553B",
            "symbol": "circle"
           },
           "mode": "markers+text",
           "name": "India",
           "orientation": "v",
           "showlegend": true,
           "text": [
            "India"
           ],
           "type": "scatter",
           "x": {
            "bdata": "AAAAAADskEA=",
            "dtype": "f8"
           },
           "xaxis": "x",
           "y": {
            "bdata": "m9/6IB4Jlz4=",
            "dtype": "f8"
           },
           "yaxis": "y"
          },
          {
           "hovertemplate": "<b>%{hovertext}</b><br><br>Country Name=%{text}<br>Year=1973<br>Neerslag (mm/jaar)=%{x}<br>Uitstoot per ton geproduceerd (Mt/ton)=%{y}<extra></extra>",
           "hovertext": [
            "Indonesia"
           ],
           "legendgroup": "Indonesia",
           "marker": {
            "color": "#00cc96",
            "symbol": "circle"
           },
           "mode": "markers+text",
           "name": "Indonesia",
           "orientation": "v",
           "showlegend": true,
           "text": [
            "Indonesia"
           ],
           "type": "scatter",
           "x": {
            "bdata": "AAAAAAAcpUA=",
            "dtype": "f8"
           },
           "xaxis": "x",
           "y": {
            "bdata": "qllCtUjXVD4=",
            "dtype": "f8"
           },
           "yaxis": "y"
          },
          {
           "hovertemplate": "<b>%{hovertext}</b><br><br>Country Name=%{text}<br>Year=1973<br>Neerslag (mm/jaar)=%{x}<br>Uitstoot per ton geproduceerd (Mt/ton)=%{y}<extra></extra>",
           "hovertext": [
            "Japan"
           ],
           "legendgroup": "Japan",
           "marker": {
            "color": "#ab63fa",
            "symbol": "circle"
           },
           "mode": "markers+text",
           "name": "Japan",
           "orientation": "v",
           "showlegend": true,
           "text": [
            "Japan"
           ],
           "type": "scatter",
           "x": {
            "bdata": "AAAAAAAQmkA=",
            "dtype": "f8"
           },
           "xaxis": "x",
           "y": {
            "bdata": "qZzDda5gYz4=",
            "dtype": "f8"
           },
           "yaxis": "y"
          },
          {
           "hovertemplate": "<b>%{hovertext}</b><br><br>Country Name=%{text}<br>Year=1973<br>Neerslag (mm/jaar)=%{x}<br>Uitstoot per ton geproduceerd (Mt/ton)=%{y}<extra></extra>",
           "hovertext": [
            "Nigeria"
           ],
           "legendgroup": "Nigeria",
           "marker": {
            "color": "#FFA15A",
            "symbol": "circle"
           },
           "mode": "markers+text",
           "name": "Nigeria",
           "orientation": "v",
           "showlegend": true,
           "text": [
            "Nigeria"
           ],
           "type": "scatter",
           "x": {
            "bdata": "AAAAAAD4kUA=",
            "dtype": "f8"
           },
           "xaxis": "x",
           "y": {
            "bdata": "yzm8tDXTOD4=",
            "dtype": "f8"
           },
           "yaxis": "y"
          },
          {
           "hovertemplate": "<b>%{hovertext}</b><br><br>Country Name=%{text}<br>Year=1973<br>Neerslag (mm/jaar)=%{x}<br>Uitstoot per ton geproduceerd (Mt/ton)=%{y}<extra></extra>",
           "hovertext": [
            "South Africa"
           ],
           "legendgroup": "South Africa",
           "marker": {
            "color": "#19d3f3",
            "symbol": "circle"
           },
           "mode": "markers+text",
           "name": "South Africa",
           "orientation": "v",
           "showlegend": true,
           "text": [
            "South Africa"
           ],
           "type": "scatter",
           "x": {
            "bdata": "AAAAAADwfkA=",
            "dtype": "f8"
           },
           "xaxis": "x",
           "y": {
            "bdata": "G1rNcb4UlD4=",
            "dtype": "f8"
           },
           "yaxis": "y"
          },
          {
           "hovertemplate": "<b>%{hovertext}</b><br><br>Country Name=%{text}<br>Year=1973<br>Neerslag (mm/jaar)=%{x}<br>Uitstoot per ton geproduceerd (Mt/ton)=%{y}<extra></extra>",
           "hovertext": [
            "United States of America"
           ],
           "legendgroup": "United States of America",
           "marker": {
            "color": "#FF6692",
            "symbol": "circle"
           },
           "mode": "markers+text",
           "name": "United States of America",
           "orientation": "v",
           "showlegend": true,
           "text": [
            "United States of America"
           ],
           "type": "scatter",
           "x": {
            "bdata": "AAAAAABYhkA=",
            "dtype": "f8"
           },
           "xaxis": "x",
           "y": {
            "bdata": "1rj9HD4AnD4=",
            "dtype": "f8"
           },
           "yaxis": "y"
          }
         ],
         "name": "1973"
        },
        {
         "data": [
          {
           "hovertemplate": "<b>%{hovertext}</b><br><br>Country Name=%{text}<br>Year=1974<br>Neerslag (mm/jaar)=%{x}<br>Uitstoot per ton geproduceerd (Mt/ton)=%{y}<extra></extra>",
           "hovertext": [
            "Brazil"
           ],
           "legendgroup": "Brazil",
           "marker": {
            "color": "#636efa",
            "symbol": "circle"
           },
           "mode": "markers+text",
           "name": "Brazil",
           "orientation": "v",
           "showlegend": true,
           "text": [
            "Brazil"
           ],
           "type": "scatter",
           "x": {
            "bdata": "AAAAAADYm0A=",
            "dtype": "f8"
           },
           "xaxis": "x",
           "y": {
            "bdata": "HMZCY+6ogD4=",
            "dtype": "f8"
           },
           "yaxis": "y"
          },
          {
           "hovertemplate": "<b>%{hovertext}</b><br><br>Country Name=%{text}<br>Year=1974<br>Neerslag (mm/jaar)=%{x}<br>Uitstoot per ton geproduceerd (Mt/ton)=%{y}<extra></extra>",
           "hovertext": [
            "India"
           ],
           "legendgroup": "India",
           "marker": {
            "color": "#EF553B",
            "symbol": "circle"
           },
           "mode": "markers+text",
           "name": "India",
           "orientation": "v",
           "showlegend": true,
           "text": [
            "India"
           ],
           "type": "scatter",
           "x": {
            "bdata": "AAAAAADskEA=",
            "dtype": "f8"
           },
           "xaxis": "x",
           "y": {
            "bdata": "dmxljH8elT4=",
            "dtype": "f8"
           },
           "yaxis": "y"
          },
          {
           "hovertemplate": "<b>%{hovertext}</b><br><br>Country Name=%{text}<br>Year=1974<br>Neerslag (mm/jaar)=%{x}<br>Uitstoot per ton geproduceerd (Mt/ton)=%{y}<extra></extra>",
           "hovertext": [
            "Indonesia"
           ],
           "legendgroup": "Indonesia",
           "marker": {
            "color": "#00cc96",
            "symbol": "circle"
           },
           "mode": "markers+text",
           "name": "Indonesia",
           "orientation": "v",
           "showlegend": true,
           "text": [
            "Indonesia"
           ],
           "type": "scatter",
           "x": {
            "bdata": "AAAAAAAcpUA=",
            "dtype": "f8"
           },
           "xaxis": "x",
           "y": {
            "bdata": "PuY2rRTUUj4=",
            "dtype": "f8"
           },
           "yaxis": "y"
          },
          {
           "hovertemplate": "<b>%{hovertext}</b><br><br>Country Name=%{text}<br>Year=1974<br>Neerslag (mm/jaar)=%{x}<br>Uitstoot per ton geproduceerd (Mt/ton)=%{y}<extra></extra>",
           "hovertext": [
            "Japan"
           ],
           "legendgroup": "Japan",
           "marker": {
            "color": "#ab63fa",
            "symbol": "circle"
           },
           "mode": "markers+text",
           "name": "Japan",
           "orientation": "v",
           "showlegend": true,
           "text": [
            "Japan"
           ],
           "type": "scatter",
           "x": {
            "bdata": "AAAAAAAQmkA=",
            "dtype": "f8"
           },
           "xaxis": "x",
           "y": {
            "bdata": "ySXxIF2eZj4=",
            "dtype": "f8"
           },
           "yaxis": "y"
          },
          {
           "hovertemplate": "<b>%{hovertext}</b><br><br>Country Name=%{text}<br>Year=1974<br>Neerslag (mm/jaar)=%{x}<br>Uitstoot per ton geproduceerd (Mt/ton)=%{y}<extra></extra>",
           "hovertext": [
            "Nigeria"
           ],
           "legendgroup": "Nigeria",
           "marker": {
            "color": "#FFA15A",
            "symbol": "circle"
           },
           "mode": "markers+text",
           "name": "Nigeria",
           "orientation": "v",
           "showlegend": true,
           "text": [
            "Nigeria"
           ],
           "type": "scatter",
           "x": {
            "bdata": "AAAAAAD4kUA=",
            "dtype": "f8"
           },
           "xaxis": "x",
           "y": {
            "bdata": "s0anmDlJNz4=",
            "dtype": "f8"
           },
           "yaxis": "y"
          },
          {
           "hovertemplate": "<b>%{hovertext}</b><br><br>Country Name=%{text}<br>Year=1974<br>Neerslag (mm/jaar)=%{x}<br>Uitstoot per ton geproduceerd (Mt/ton)=%{y}<extra></extra>",
           "hovertext": [
            "South Africa"
           ],
           "legendgroup": "South Africa",
           "marker": {
            "color": "#19d3f3",
            "symbol": "circle"
           },
           "mode": "markers+text",
           "name": "South Africa",
           "orientation": "v",
           "showlegend": true,
           "text": [
            "South Africa"
           ],
           "type": "scatter",
           "x": {
            "bdata": "AAAAAADwfkA=",
            "dtype": "f8"
           },
           "xaxis": "x",
           "y": {
            "bdata": "rfQ7tBkZkT4=",
            "dtype": "f8"
           },
           "yaxis": "y"
          },
          {
           "hovertemplate": "<b>%{hovertext}</b><br><br>Country Name=%{text}<br>Year=1974<br>Neerslag (mm/jaar)=%{x}<br>Uitstoot per ton geproduceerd (Mt/ton)=%{y}<extra></extra>",
           "hovertext": [
            "United States of America"
           ],
           "legendgroup": "United States of America",
           "marker": {
            "color": "#FF6692",
            "symbol": "circle"
           },
           "mode": "markers+text",
           "name": "United States of America",
           "orientation": "v",
           "showlegend": true,
           "text": [
            "United States of America"
           ],
           "type": "scatter",
           "x": {
            "bdata": "AAAAAABYhkA=",
            "dtype": "f8"
           },
           "xaxis": "x",
           "y": {
            "bdata": "PqZO5LcWoT4=",
            "dtype": "f8"
           },
           "yaxis": "y"
          }
         ],
         "name": "1974"
        },
        {
         "data": [
          {
           "hovertemplate": "<b>%{hovertext}</b><br><br>Country Name=%{text}<br>Year=1975<br>Neerslag (mm/jaar)=%{x}<br>Uitstoot per ton geproduceerd (Mt/ton)=%{y}<extra></extra>",
           "hovertext": [
            "Brazil"
           ],
           "legendgroup": "Brazil",
           "marker": {
            "color": "#636efa",
            "symbol": "circle"
           },
           "mode": "markers+text",
           "name": "Brazil",
           "orientation": "v",
           "showlegend": true,
           "text": [
            "Brazil"
           ],
           "type": "scatter",
           "x": {
            "bdata": "AAAAAADYm0A=",
            "dtype": "f8"
           },
           "xaxis": "x",
           "y": {
            "bdata": "1KJGoKW2gT4=",
            "dtype": "f8"
           },
           "yaxis": "y"
          },
          {
           "hovertemplate": "<b>%{hovertext}</b><br><br>Country Name=%{text}<br>Year=1975<br>Neerslag (mm/jaar)=%{x}<br>Uitstoot per ton geproduceerd (Mt/ton)=%{y}<extra></extra>",
           "hovertext": [
            "India"
           ],
           "legendgroup": "India",
           "marker": {
            "color": "#EF553B",
            "symbol": "circle"
           },
           "mode": "markers+text",
           "name": "India",
           "orientation": "v",
           "showlegend": true,
           "text": [
            "India"
           ],
           "type": "scatter",
           "x": {
            "bdata": "AAAAAADskEA=",
            "dtype": "f8"
           },
           "xaxis": "x",
           "y": {
            "bdata": "XznQaFEWlD4=",
            "dtype": "f8"
           },
           "yaxis": "y"
          },
          {
           "hovertemplate": "<b>%{hovertext}</b><br><br>Country Name=%{text}<br>Year=1975<br>Neerslag (mm/jaar)=%{x}<br>Uitstoot per ton geproduceerd (Mt/ton)=%{y}<extra></extra>",
           "hovertext": [
            "Indonesia"
           ],
           "legendgroup": "Indonesia",
           "marker": {
            "color": "#00cc96",
            "symbol": "circle"
           },
           "mode": "markers+text",
           "name": "Indonesia",
           "orientation": "v",
           "showlegend": true,
           "text": [
            "Indonesia"
           ],
           "type": "scatter",
           "x": {
            "bdata": "AAAAAAAcpUA=",
            "dtype": "f8"
           },
           "xaxis": "x",
           "y": {
            "bdata": "Hw5w5dNeVj4=",
            "dtype": "f8"
           },
           "yaxis": "y"
          },
          {
           "hovertemplate": "<b>%{hovertext}</b><br><br>Country Name=%{text}<br>Year=1975<br>Neerslag (mm/jaar)=%{x}<br>Uitstoot per ton geproduceerd (Mt/ton)=%{y}<extra></extra>",
           "hovertext": [
            "Japan"
           ],
           "legendgroup": "Japan",
           "marker": {
            "color": "#ab63fa",
            "symbol": "circle"
           },
           "mode": "markers+text",
           "name": "Japan",
           "orientation": "v",
           "showlegend": true,
           "text": [
            "Japan"
           ],
           "type": "scatter",
           "x": {
            "bdata": "AAAAAAAQmkA=",
            "dtype": "f8"
           },
           "xaxis": "x",
           "y": {
            "bdata": "MYVjLhzQZj4=",
            "dtype": "f8"
           },
           "yaxis": "y"
          },
          {
           "hovertemplate": "<b>%{hovertext}</b><br><br>Country Name=%{text}<br>Year=1975<br>Neerslag (mm/jaar)=%{x}<br>Uitstoot per ton geproduceerd (Mt/ton)=%{y}<extra></extra>",
           "hovertext": [
            "Nigeria"
           ],
           "legendgroup": "Nigeria",
           "marker": {
            "color": "#FFA15A",
            "symbol": "circle"
           },
           "mode": "markers+text",
           "name": "Nigeria",
           "orientation": "v",
           "showlegend": true,
           "text": [
            "Nigeria"
           ],
           "type": "scatter",
           "x": {
            "bdata": "AAAAAAD4kUA=",
            "dtype": "f8"
           },
           "xaxis": "x",
           "y": {
            "bdata": "UnhG0NHJOD4=",
            "dtype": "f8"
           },
           "yaxis": "y"
          },
          {
           "hovertemplate": "<b>%{hovertext}</b><br><br>Country Name=%{text}<br>Year=1975<br>Neerslag (mm/jaar)=%{x}<br>Uitstoot per ton geproduceerd (Mt/ton)=%{y}<extra></extra>",
           "hovertext": [
            "South Africa"
           ],
           "legendgroup": "South Africa",
           "marker": {
            "color": "#19d3f3",
            "symbol": "circle"
           },
           "mode": "markers+text",
           "name": "South Africa",
           "orientation": "v",
           "showlegend": true,
           "text": [
            "South Africa"
           ],
           "type": "scatter",
           "x": {
            "bdata": "AAAAAADwfkA=",
            "dtype": "f8"
           },
           "xaxis": "x",
           "y": {
            "bdata": "Eg5uvHQfkT4=",
            "dtype": "f8"
           },
           "yaxis": "y"
          },
          {
           "hovertemplate": "<b>%{hovertext}</b><br><br>Country Name=%{text}<br>Year=1975<br>Neerslag (mm/jaar)=%{x}<br>Uitstoot per ton geproduceerd (Mt/ton)=%{y}<extra></extra>",
           "hovertext": [
            "United States of America"
           ],
           "legendgroup": "United States of America",
           "marker": {
            "color": "#FF6692",
            "symbol": "circle"
           },
           "mode": "markers+text",
           "name": "United States of America",
           "orientation": "v",
           "showlegend": true,
           "text": [
            "United States of America"
           ],
           "type": "scatter",
           "x": {
            "bdata": "AAAAAABYhkA=",
            "dtype": "f8"
           },
           "xaxis": "x",
           "y": {
            "bdata": "1THe8AkgoD4=",
            "dtype": "f8"
           },
           "yaxis": "y"
          }
         ],
         "name": "1975"
        },
        {
         "data": [
          {
           "hovertemplate": "<b>%{hovertext}</b><br><br>Country Name=%{text}<br>Year=1976<br>Neerslag (mm/jaar)=%{x}<br>Uitstoot per ton geproduceerd (Mt/ton)=%{y}<extra></extra>",
           "hovertext": [
            "Brazil"
           ],
           "legendgroup": "Brazil",
           "marker": {
            "color": "#636efa",
            "symbol": "circle"
           },
           "mode": "markers+text",
           "name": "Brazil",
           "orientation": "v",
           "showlegend": true,
           "text": [
            "Brazil"
           ],
           "type": "scatter",
           "x": {
            "bdata": "AAAAAADYm0A=",
            "dtype": "f8"
           },
           "xaxis": "x",
           "y": {
            "bdata": "sUpZAVyDgj4=",
            "dtype": "f8"
           },
           "yaxis": "y"
          },
          {
           "hovertemplate": "<b>%{hovertext}</b><br><br>Country Name=%{text}<br>Year=1976<br>Neerslag (mm/jaar)=%{x}<br>Uitstoot per ton geproduceerd (Mt/ton)=%{y}<extra></extra>",
           "hovertext": [
            "India"
           ],
           "legendgroup": "India",
           "marker": {
            "color": "#EF553B",
            "symbol": "circle"
           },
           "mode": "markers+text",
           "name": "India",
           "orientation": "v",
           "showlegend": true,
           "text": [
            "India"
           ],
           "type": "scatter",
           "x": {
            "bdata": "AAAAAADskEA=",
            "dtype": "f8"
           },
           "xaxis": "x",
           "y": {
            "bdata": "VVvcYKcTlj4=",
            "dtype": "f8"
           },
           "yaxis": "y"
          },
          {
           "hovertemplate": "<b>%{hovertext}</b><br><br>Country Name=%{text}<br>Year=1976<br>Neerslag (mm/jaar)=%{x}<br>Uitstoot per ton geproduceerd (Mt/ton)=%{y}<extra></extra>",
           "hovertext": [
            "Indonesia"
           ],
           "legendgroup": "Indonesia",
           "marker": {
            "color": "#00cc96",
            "symbol": "circle"
           },
           "mode": "markers+text",
           "name": "Indonesia",
           "orientation": "v",
           "showlegend": true,
           "text": [
            "Indonesia"
           ],
           "type": "scatter",
           "x": {
            "bdata": "AAAAAAAcpUA=",
            "dtype": "f8"
           },
           "xaxis": "x",
           "y": {
            "bdata": "BTvD1h6mWD4=",
            "dtype": "f8"
           },
           "yaxis": "y"
          },
          {
           "hovertemplate": "<b>%{hovertext}</b><br><br>Country Name=%{text}<br>Year=1976<br>Neerslag (mm/jaar)=%{x}<br>Uitstoot per ton geproduceerd (Mt/ton)=%{y}<extra></extra>",
           "hovertext": [
            "Japan"
           ],
           "legendgroup": "Japan",
           "marker": {
            "color": "#ab63fa",
            "symbol": "circle"
           },
           "mode": "markers+text",
           "name": "Japan",
           "orientation": "v",
           "showlegend": true,
           "text": [
            "Japan"
           ],
           "type": "scatter",
           "x": {
            "bdata": "AAAAAAAQmkA=",
            "dtype": "f8"
           },
           "xaxis": "x",
           "y": {
            "bdata": "rwHmfHyHZj4=",
            "dtype": "f8"
           },
           "yaxis": "y"
          },
          {
           "hovertemplate": "<b>%{hovertext}</b><br><br>Country Name=%{text}<br>Year=1976<br>Neerslag (mm/jaar)=%{x}<br>Uitstoot per ton geproduceerd (Mt/ton)=%{y}<extra></extra>",
           "hovertext": [
            "Nigeria"
           ],
           "legendgroup": "Nigeria",
           "marker": {
            "color": "#FFA15A",
            "symbol": "circle"
           },
           "mode": "markers+text",
           "name": "Nigeria",
           "orientation": "v",
           "showlegend": true,
           "text": [
            "Nigeria"
           ],
           "type": "scatter",
           "x": {
            "bdata": "AAAAAAD4kUA=",
            "dtype": "f8"
           },
           "xaxis": "x",
           "y": {
            "bdata": "o8N/zsubPT4=",
            "dtype": "f8"
           },
           "yaxis": "y"
          },
          {
           "hovertemplate": "<b>%{hovertext}</b><br><br>Country Name=%{text}<br>Year=1976<br>Neerslag (mm/jaar)=%{x}<br>Uitstoot per ton geproduceerd (Mt/ton)=%{y}<extra></extra>",
           "hovertext": [
            "South Africa"
           ],
           "legendgroup": "South Africa",
           "marker": {
            "color": "#19d3f3",
            "symbol": "circle"
           },
           "mode": "markers+text",
           "name": "South Africa",
           "orientation": "v",
           "showlegend": true,
           "text": [
            "South Africa"
           ],
           "type": "scatter",
           "x": {
            "bdata": "AAAAAADwfkA=",
            "dtype": "f8"
           },
           "xaxis": "x",
           "y": {
            "bdata": "TqvZkGagkD4=",
            "dtype": "f8"
           },
           "yaxis": "y"
          },
          {
           "hovertemplate": "<b>%{hovertext}</b><br><br>Country Name=%{text}<br>Year=1976<br>Neerslag (mm/jaar)=%{x}<br>Uitstoot per ton geproduceerd (Mt/ton)=%{y}<extra></extra>",
           "hovertext": [
            "United States of America"
           ],
           "legendgroup": "United States of America",
           "marker": {
            "color": "#FF6692",
            "symbol": "circle"
           },
           "mode": "markers+text",
           "name": "United States of America",
           "orientation": "v",
           "showlegend": true,
           "text": [
            "United States of America"
           ],
           "type": "scatter",
           "x": {
            "bdata": "AAAAAABYhkA=",
            "dtype": "f8"
           },
           "xaxis": "x",
           "y": {
            "bdata": "Ei37L1KsoD4=",
            "dtype": "f8"
           },
           "yaxis": "y"
          }
         ],
         "name": "1976"
        },
        {
         "data": [
          {
           "hovertemplate": "<b>%{hovertext}</b><br><br>Country Name=%{text}<br>Year=1977<br>Neerslag (mm/jaar)=%{x}<br>Uitstoot per ton geproduceerd (Mt/ton)=%{y}<extra></extra>",
           "hovertext": [
            "Brazil"
           ],
           "legendgroup": "Brazil",
           "marker": {
            "color": "#636efa",
            "symbol": "circle"
           },
           "mode": "markers+text",
           "name": "Brazil",
           "orientation": "v",
           "showlegend": true,
           "text": [
            "Brazil"
           ],
           "type": "scatter",
           "x": {
            "bdata": "AAAAAACEm0A=",
            "dtype": "f8"
           },
           "xaxis": "x",
           "y": {
            "bdata": "qTXZ3vQ1fz4=",
            "dtype": "f8"
           },
           "yaxis": "y"
          },
          {
           "hovertemplate": "<b>%{hovertext}</b><br><br>Country Name=%{text}<br>Year=1977<br>Neerslag (mm/jaar)=%{x}<br>Uitstoot per ton geproduceerd (Mt/ton)=%{y}<extra></extra>",
           "hovertext": [
            "India"
           ],
           "legendgroup": "India",
           "marker": {
            "color": "#EF553B",
            "symbol": "circle"
           },
           "mode": "markers+text",
           "name": "India",
           "orientation": "v",
           "showlegend": true,
           "text": [
            "India"
           ],
           "type": "scatter",
           "x": {
            "bdata": "AAAAAADskEA=",
            "dtype": "f8"
           },
           "xaxis": "x",
           "y": {
            "bdata": "a5sKqLY5lT4=",
            "dtype": "f8"
           },
           "yaxis": "y"
          },
          {
           "hovertemplate": "<b>%{hovertext}</b><br><br>Country Name=%{text}<br>Year=1977<br>Neerslag (mm/jaar)=%{x}<br>Uitstoot per ton geproduceerd (Mt/ton)=%{y}<extra></extra>",
           "hovertext": [
            "Indonesia"
           ],
           "legendgroup": "Indonesia",
           "marker": {
            "color": "#00cc96",
            "symbol": "circle"
           },
           "mode": "markers+text",
           "name": "Indonesia",
           "orientation": "v",
           "showlegend": true,
           "text": [
            "Indonesia"
           ],
           "type": "scatter",
           "x": {
            "bdata": "AAAAAAAcpUA=",
            "dtype": "f8"
           },
           "xaxis": "x",
           "y": {
            "bdata": "v8xkJpb+WD4=",
            "dtype": "f8"
           },
           "yaxis": "y"
          },
          {
           "hovertemplate": "<b>%{hovertext}</b><br><br>Country Name=%{text}<br>Year=1977<br>Neerslag (mm/jaar)=%{x}<br>Uitstoot per ton geproduceerd (Mt/ton)=%{y}<extra></extra>",
           "hovertext": [
            "Japan"
           ],
           "legendgroup": "Japan",
           "marker": {
            "color": "#ab63fa",
            "symbol": "circle"
           },
           "mode": "markers+text",
           "name": "Japan",
           "orientation": "v",
           "showlegend": true,
           "text": [
            "Japan"
           ],
           "type": "scatter",
           "x": {
            "bdata": "AAAAAAAQmkA=",
            "dtype": "f8"
           },
           "xaxis": "x",
           "y": {
            "bdata": "nS9gqUEHZT4=",
            "dtype": "f8"
           },
           "yaxis": "y"
          },
          {
           "hovertemplate": "<b>%{hovertext}</b><br><br>Country Name=%{text}<br>Year=1977<br>Neerslag (mm/jaar)=%{x}<br>Uitstoot per ton geproduceerd (Mt/ton)=%{y}<extra></extra>",
           "hovertext": [
            "Nigeria"
           ],
           "legendgroup": "Nigeria",
           "marker": {
            "color": "#FFA15A",
            "symbol": "circle"
           },
           "mode": "markers+text",
           "name": "Nigeria",
           "orientation": "v",
           "showlegend": true,
           "text": [
            "Nigeria"
           ],
           "type": "scatter",
           "x": {
            "bdata": "AAAAAAD4kUA=",
            "dtype": "f8"
           },
           "xaxis": "x",
           "y": {
            "bdata": "jXZ79H4wPz4=",
            "dtype": "f8"
           },
           "yaxis": "y"
          },
          {
           "hovertemplate": "<b>%{hovertext}</b><br><br>Country Name=%{text}<br>Year=1977<br>Neerslag (mm/jaar)=%{x}<br>Uitstoot per ton geproduceerd (Mt/ton)=%{y}<extra></extra>",
           "hovertext": [
            "South Africa"
           ],
           "legendgroup": "South Africa",
           "marker": {
            "color": "#19d3f3",
            "symbol": "circle"
           },
           "mode": "markers+text",
           "name": "South Africa",
           "orientation": "v",
           "showlegend": true,
           "text": [
            "South Africa"
           ],
           "type": "scatter",
           "x": {
            "bdata": "AAAAAADwfkA=",
            "dtype": "f8"
           },
           "xaxis": "x",
           "y": {
            "bdata": "ABy4Gk7Ejz4=",
            "dtype": "f8"
           },
           "yaxis": "y"
          },
          {
           "hovertemplate": "<b>%{hovertext}</b><br><br>Country Name=%{text}<br>Year=1977<br>Neerslag (mm/jaar)=%{x}<br>Uitstoot per ton geproduceerd (Mt/ton)=%{y}<extra></extra>",
           "hovertext": [
            "United States of America"
           ],
           "legendgroup": "United States of America",
           "marker": {
            "color": "#FF6692",
            "symbol": "circle"
           },
           "mode": "markers+text",
           "name": "United States of America",
           "orientation": "v",
           "showlegend": true,
           "text": [
            "United States of America"
           ],
           "type": "scatter",
           "x": {
            "bdata": "AAAAAABYhkA=",
            "dtype": "f8"
           },
           "xaxis": "x",
           "y": {
            "bdata": "9IzqAQh2nz4=",
            "dtype": "f8"
           },
           "yaxis": "y"
          }
         ],
         "name": "1977"
        },
        {
         "data": [
          {
           "hovertemplate": "<b>%{hovertext}</b><br><br>Country Name=%{text}<br>Year=1978<br>Neerslag (mm/jaar)=%{x}<br>Uitstoot per ton geproduceerd (Mt/ton)=%{y}<extra></extra>",
           "hovertext": [
            "Brazil"
           ],
           "legendgroup": "Brazil",
           "marker": {
            "color": "#636efa",
            "symbol": "circle"
           },
           "mode": "markers+text",
           "name": "Brazil",
           "orientation": "v",
           "showlegend": true,
           "text": [
            "Brazil"
           ],
           "type": "scatter",
           "x": {
            "bdata": "AAAAAADYm0A=",
            "dtype": "f8"
           },
           "xaxis": "x",
           "y": {
            "bdata": "wC6Zrf31fD4=",
            "dtype": "f8"
           },
           "yaxis": "y"
          },
          {
           "hovertemplate": "<b>%{hovertext}</b><br><br>Country Name=%{text}<br>Year=1978<br>Neerslag (mm/jaar)=%{x}<br>Uitstoot per ton geproduceerd (Mt/ton)=%{y}<extra></extra>",
           "hovertext": [
            "India"
           ],
           "legendgroup": "India",
           "marker": {
            "color": "#EF553B",
            "symbol": "circle"
           },
           "mode": "markers+text",
           "name": "India",
           "orientation": "v",
           "showlegend": true,
           "text": [
            "India"
           ],
           "type": "scatter",
           "x": {
            "bdata": "AAAAAADskEA=",
            "dtype": "f8"
           },
           "xaxis": "x",
           "y": {
            "bdata": "w6/KbM3Ykz4=",
            "dtype": "f8"
           },
           "yaxis": "y"
          },
          {
           "hovertemplate": "<b>%{hovertext}</b><br><br>Country Name=%{text}<br>Year=1978<br>Neerslag (mm/jaar)=%{x}<br>Uitstoot per ton geproduceerd (Mt/ton)=%{y}<extra></extra>",
           "hovertext": [
            "Indonesia"
           ],
           "legendgroup": "Indonesia",
           "marker": {
            "color": "#00cc96",
            "symbol": "circle"
           },
           "mode": "markers+text",
           "name": "Indonesia",
           "orientation": "v",
           "showlegend": true,
           "text": [
            "Indonesia"
           ],
           "type": "scatter",
           "x": {
            "bdata": "AAAAAAAcpUA=",
            "dtype": "f8"
           },
           "xaxis": "x",
           "y": {
            "bdata": "fSsdpbFCWT4=",
            "dtype": "f8"
           },
           "yaxis": "y"
          },
          {
           "hovertemplate": "<b>%{hovertext}</b><br><br>Country Name=%{text}<br>Year=1978<br>Neerslag (mm/jaar)=%{x}<br>Uitstoot per ton geproduceerd (Mt/ton)=%{y}<extra></extra>",
           "hovertext": [
            "Japan"
           ],
           "legendgroup": "Japan",
           "marker": {
            "color": "#ab63fa",
            "symbol": "circle"
           },
           "mode": "markers+text",
           "name": "Japan",
           "orientation": "v",
           "showlegend": true,
           "text": [
            "Japan"
           ],
           "type": "scatter",
           "x": {
            "bdata": "AAAAAAAQmkA=",
            "dtype": "f8"
           },
           "xaxis": "x",
           "y": {
            "bdata": "crIUF7qmZz4=",
            "dtype": "f8"
           },
           "yaxis": "y"
          },
          {
           "hovertemplate": "<b>%{hovertext}</b><br><br>Country Name=%{text}<br>Year=1978<br>Neerslag (mm/jaar)=%{x}<br>Uitstoot per ton geproduceerd (Mt/ton)=%{y}<extra></extra>",
           "hovertext": [
            "Nigeria"
           ],
           "legendgroup": "Nigeria",
           "marker": {
            "color": "#FFA15A",
            "symbol": "circle"
           },
           "mode": "markers+text",
           "name": "Nigeria",
           "orientation": "v",
           "showlegend": true,
           "text": [
            "Nigeria"
           ],
           "type": "scatter",
           "x": {
            "bdata": "AAAAAAD4kUA=",
            "dtype": "f8"
           },
           "xaxis": "x",
           "y": {
            "bdata": "dJUNNHeVQT4=",
            "dtype": "f8"
           },
           "yaxis": "y"
          },
          {
           "hovertemplate": "<b>%{hovertext}</b><br><br>Country Name=%{text}<br>Year=1978<br>Neerslag (mm/jaar)=%{x}<br>Uitstoot per ton geproduceerd (Mt/ton)=%{y}<extra></extra>",
           "hovertext": [
            "South Africa"
           ],
           "legendgroup": "South Africa",
           "marker": {
            "color": "#19d3f3",
            "symbol": "circle"
           },
           "mode": "markers+text",
           "name": "South Africa",
           "orientation": "v",
           "showlegend": true,
           "text": [
            "South Africa"
           ],
           "type": "scatter",
           "x": {
            "bdata": "AAAAAADwfkA=",
            "dtype": "f8"
           },
           "xaxis": "x",
           "y": {
            "bdata": "13BuIXOojz4=",
            "dtype": "f8"
           },
           "yaxis": "y"
          },
          {
           "hovertemplate": "<b>%{hovertext}</b><br><br>Country Name=%{text}<br>Year=1978<br>Neerslag (mm/jaar)=%{x}<br>Uitstoot per ton geproduceerd (Mt/ton)=%{y}<extra></extra>",
           "hovertext": [
            "United States of America"
           ],
           "legendgroup": "United States of America",
           "marker": {
            "color": "#FF6692",
            "symbol": "circle"
           },
           "mode": "markers+text",
           "name": "United States of America",
           "orientation": "v",
           "showlegend": true,
           "text": [
            "United States of America"
           ],
           "type": "scatter",
           "x": {
            "bdata": "AAAAAABYhkA=",
            "dtype": "f8"
           },
           "xaxis": "x",
           "y": {
            "bdata": "ko114Xl8nD4=",
            "dtype": "f8"
           },
           "yaxis": "y"
          }
         ],
         "name": "1978"
        },
        {
         "data": [
          {
           "hovertemplate": "<b>%{hovertext}</b><br><br>Country Name=%{text}<br>Year=1979<br>Neerslag (mm/jaar)=%{x}<br>Uitstoot per ton geproduceerd (Mt/ton)=%{y}<extra></extra>",
           "hovertext": [
            "Brazil"
           ],
           "legendgroup": "Brazil",
           "marker": {
            "color": "#636efa",
            "symbol": "circle"
           },
           "mode": "markers+text",
           "name": "Brazil",
           "orientation": "v",
           "showlegend": true,
           "text": [
            "Brazil"
           ],
           "type": "scatter",
           "x": {
            "bdata": "AAAAAADYm0A=",
            "dtype": "f8"
           },
           "xaxis": "x",
           "y": {
            "bdata": "9dP6axEAgD4=",
            "dtype": "f8"
           },
           "yaxis": "y"
          },
          {
           "hovertemplate": "<b>%{hovertext}</b><br><br>Country Name=%{text}<br>Year=1979<br>Neerslag (mm/jaar)=%{x}<br>Uitstoot per ton geproduceerd (Mt/ton)=%{y}<extra></extra>",
           "hovertext": [
            "India"
           ],
           "legendgroup": "India",
           "marker": {
            "color": "#EF553B",
            "symbol": "circle"
           },
           "mode": "markers+text",
           "name": "India",
           "orientation": "v",
           "showlegend": true,
           "text": [
            "India"
           ],
           "type": "scatter",
           "x": {
            "bdata": "AAAAAADskEA=",
            "dtype": "f8"
           },
           "xaxis": "x",
           "y": {
            "bdata": "q0lt5zvwlj4=",
            "dtype": "f8"
           },
           "yaxis": "y"
          },
          {
           "hovertemplate": "<b>%{hovertext}</b><br><br>Country Name=%{text}<br>Year=1979<br>Neerslag (mm/jaar)=%{x}<br>Uitstoot per ton geproduceerd (Mt/ton)=%{y}<extra></extra>",
           "hovertext": [
            "Indonesia"
           ],
           "legendgroup": "Indonesia",
           "marker": {
            "color": "#00cc96",
            "symbol": "circle"
           },
           "mode": "markers+text",
           "name": "Indonesia",
           "orientation": "v",
           "showlegend": true,
           "text": [
            "Indonesia"
           ],
           "type": "scatter",
           "x": {
            "bdata": "AAAAAAAcpUA=",
            "dtype": "f8"
           },
           "xaxis": "x",
           "y": {
            "bdata": "dzWxaXTAXD4=",
            "dtype": "f8"
           },
           "yaxis": "y"
          },
          {
           "hovertemplate": "<b>%{hovertext}</b><br><br>Country Name=%{text}<br>Year=1979<br>Neerslag (mm/jaar)=%{x}<br>Uitstoot per ton geproduceerd (Mt/ton)=%{y}<extra></extra>",
           "hovertext": [
            "Japan"
           ],
           "legendgroup": "Japan",
           "marker": {
            "color": "#ab63fa",
            "symbol": "circle"
           },
           "mode": "markers+text",
           "name": "Japan",
           "orientation": "v",
           "showlegend": true,
           "text": [
            "Japan"
           ],
           "type": "scatter",
           "x": {
            "bdata": "AAAAAAAQmkA=",
            "dtype": "f8"
           },
           "xaxis": "x",
           "y": {
            "bdata": "t1/ShjPkaz4=",
            "dtype": "f8"
           },
           "yaxis": "y"
          },
          {
           "hovertemplate": "<b>%{hovertext}</b><br><br>Country Name=%{text}<br>Year=1979<br>Neerslag (mm/jaar)=%{x}<br>Uitstoot per ton geproduceerd (Mt/ton)=%{y}<extra></extra>",
           "hovertext": [
            "Nigeria"
           ],
           "legendgroup": "Nigeria",
           "marker": {
            "color": "#FFA15A",
            "symbol": "circle"
           },
           "mode": "markers+text",
           "name": "Nigeria",
           "orientation": "v",
           "showlegend": true,
           "text": [
            "Nigeria"
           ],
           "type": "scatter",
           "x": {
            "bdata": "AAAAAAD4kUA=",
            "dtype": "f8"
           },
           "xaxis": "x",
           "y": {
            "bdata": "A70pD/CNQj4=",
            "dtype": "f8"
           },
           "yaxis": "y"
          },
          {
           "hovertemplate": "<b>%{hovertext}</b><br><br>Country Name=%{text}<br>Year=1979<br>Neerslag (mm/jaar)=%{x}<br>Uitstoot per ton geproduceerd (Mt/ton)=%{y}<extra></extra>",
           "hovertext": [
            "South Africa"
           ],
           "legendgroup": "South Africa",
           "marker": {
            "color": "#19d3f3",
            "symbol": "circle"
           },
           "mode": "markers+text",
           "name": "South Africa",
           "orientation": "v",
           "showlegend": true,
           "text": [
            "South Africa"
           ],
           "type": "scatter",
           "x": {
            "bdata": "AAAAAADwfkA=",
            "dtype": "f8"
           },
           "xaxis": "x",
           "y": {
            "bdata": "hZKCHcCxkD4=",
            "dtype": "f8"
           },
           "yaxis": "y"
          },
          {
           "hovertemplate": "<b>%{hovertext}</b><br><br>Country Name=%{text}<br>Year=1979<br>Neerslag (mm/jaar)=%{x}<br>Uitstoot per ton geproduceerd (Mt/ton)=%{y}<extra></extra>",
           "hovertext": [
            "United States of America"
           ],
           "legendgroup": "United States of America",
           "marker": {
            "color": "#FF6692",
            "symbol": "circle"
           },
           "mode": "markers+text",
           "name": "United States of America",
           "orientation": "v",
           "showlegend": true,
           "text": [
            "United States of America"
           ],
           "type": "scatter",
           "x": {
            "bdata": "AAAAAABYhkA=",
            "dtype": "f8"
           },
           "xaxis": "x",
           "y": {
            "bdata": "LipCtqrTnj4=",
            "dtype": "f8"
           },
           "yaxis": "y"
          }
         ],
         "name": "1979"
        },
        {
         "data": [
          {
           "hovertemplate": "<b>%{hovertext}</b><br><br>Country Name=%{text}<br>Year=1980<br>Neerslag (mm/jaar)=%{x}<br>Uitstoot per ton geproduceerd (Mt/ton)=%{y}<extra></extra>",
           "hovertext": [
            "Brazil"
           ],
           "legendgroup": "Brazil",
           "marker": {
            "color": "#636efa",
            "symbol": "circle"
           },
           "mode": "markers+text",
           "name": "Brazil",
           "orientation": "v",
           "showlegend": true,
           "text": [
            "Brazil"
           ],
           "type": "scatter",
           "x": {
            "bdata": "AAAAAADYm0A=",
            "dtype": "f8"
           },
           "xaxis": "x",
           "y": {
            "bdata": "BhF4VSKWez4=",
            "dtype": "f8"
           },
           "yaxis": "y"
          },
          {
           "hovertemplate": "<b>%{hovertext}</b><br><br>Country Name=%{text}<br>Year=1980<br>Neerslag (mm/jaar)=%{x}<br>Uitstoot per ton geproduceerd (Mt/ton)=%{y}<extra></extra>",
           "hovertext": [
            "India"
           ],
           "legendgroup": "India",
           "marker": {
            "color": "#EF553B",
            "symbol": "circle"
           },
           "mode": "markers+text",
           "name": "India",
           "orientation": "v",
           "showlegend": true,
           "text": [
            "India"
           ],
           "type": "scatter",
           "x": {
            "bdata": "AAAAAADskEA=",
            "dtype": "f8"
           },
           "xaxis": "x",
           "y": {
            "bdata": "V9nhExR2mD4=",
            "dtype": "f8"
           },
           "yaxis": "y"
          },
          {
           "hovertemplate": "<b>%{hovertext}</b><br><br>Country Name=%{text}<br>Year=1980<br>Neerslag (mm/jaar)=%{x}<br>Uitstoot per ton geproduceerd (Mt/ton)=%{y}<extra></extra>",
           "hovertext": [
            "Indonesia"
           ],
           "legendgroup": "Indonesia",
           "marker": {
            "color": "#00cc96",
            "symbol": "circle"
           },
           "mode": "markers+text",
           "name": "Indonesia",
           "orientation": "v",
           "showlegend": true,
           "text": [
            "Indonesia"
           ],
           "type": "scatter",
           "x": {
            "bdata": "AAAAAAAcpUA=",
            "dtype": "f8"
           },
           "xaxis": "x",
           "y": {
            "bdata": "lKt7kyEwYD4=",
            "dtype": "f8"
           },
           "yaxis": "y"
          },
          {
           "hovertemplate": "<b>%{hovertext}</b><br><br>Country Name=%{text}<br>Year=1980<br>Neerslag (mm/jaar)=%{x}<br>Uitstoot per ton geproduceerd (Mt/ton)=%{y}<extra></extra>",
           "hovertext": [
            "Japan"
           ],
           "legendgroup": "Japan",
           "marker": {
            "color": "#ab63fa",
            "symbol": "circle"
           },
           "mode": "markers+text",
           "name": "Japan",
           "orientation": "v",
           "showlegend": true,
           "text": [
            "Japan"
           ],
           "type": "scatter",
           "x": {
            "bdata": "AAAAAAAQmkA=",
            "dtype": "f8"
           },
           "xaxis": "x",
           "y": {
            "bdata": "176+/OZobz4=",
            "dtype": "f8"
           },
           "yaxis": "y"
          },
          {
           "hovertemplate": "<b>%{hovertext}</b><br><br>Country Name=%{text}<br>Year=1980<br>Neerslag (mm/jaar)=%{x}<br>Uitstoot per ton geproduceerd (Mt/ton)=%{y}<extra></extra>",
           "hovertext": [
            "Nigeria"
           ],
           "legendgroup": "Nigeria",
           "marker": {
            "color": "#FFA15A",
            "symbol": "circle"
           },
           "mode": "markers+text",
           "name": "Nigeria",
           "orientation": "v",
           "showlegend": true,
           "text": [
            "Nigeria"
           ],
           "type": "scatter",
           "x": {
            "bdata": "AAAAAAD4kUA=",
            "dtype": "f8"
           },
           "xaxis": "x",
           "y": {
            "bdata": "ouVKrRj/QT4=",
            "dtype": "f8"
           },
           "yaxis": "y"
          },
          {
           "hovertemplate": "<b>%{hovertext}</b><br><br>Country Name=%{text}<br>Year=1980<br>Neerslag (mm/jaar)=%{x}<br>Uitstoot per ton geproduceerd (Mt/ton)=%{y}<extra></extra>",
           "hovertext": [
            "South Africa"
           ],
           "legendgroup": "South Africa",
           "marker": {
            "color": "#19d3f3",
            "symbol": "circle"
           },
           "mode": "markers+text",
           "name": "South Africa",
           "orientation": "v",
           "showlegend": true,
           "text": [
            "South Africa"
           ],
           "type": "scatter",
           "x": {
            "bdata": "AAAAAADwfkA=",
            "dtype": "f8"
           },
           "xaxis": "x",
           "y": {
            "bdata": "cVNDMx46kT4=",
            "dtype": "f8"
           },
           "yaxis": "y"
          },
          {
           "hovertemplate": "<b>%{hovertext}</b><br><br>Country Name=%{text}<br>Year=1980<br>Neerslag (mm/jaar)=%{x}<br>Uitstoot per ton geproduceerd (Mt/ton)=%{y}<extra></extra>",
           "hovertext": [
            "United States of America"
           ],
           "legendgroup": "United States of America",
           "marker": {
            "color": "#FF6692",
            "symbol": "circle"
           },
           "mode": "markers+text",
           "name": "United States of America",
           "orientation": "v",
           "showlegend": true,
           "text": [
            "United States of America"
           ],
           "type": "scatter",
           "x": {
            "bdata": "AAAAAABYhkA=",
            "dtype": "f8"
           },
           "xaxis": "x",
           "y": {
            "bdata": "ImDdpMVVoT4=",
            "dtype": "f8"
           },
           "yaxis": "y"
          }
         ],
         "name": "1980"
        },
        {
         "data": [
          {
           "hovertemplate": "<b>%{hovertext}</b><br><br>Country Name=%{text}<br>Year=1981<br>Neerslag (mm/jaar)=%{x}<br>Uitstoot per ton geproduceerd (Mt/ton)=%{y}<extra></extra>",
           "hovertext": [
            "Brazil"
           ],
           "legendgroup": "Brazil",
           "marker": {
            "color": "#636efa",
            "symbol": "circle"
           },
           "mode": "markers+text",
           "name": "Brazil",
           "orientation": "v",
           "showlegend": true,
           "text": [
            "Brazil"
           ],
           "type": "scatter",
           "x": {
            "bdata": "AAAAAADYm0A=",
            "dtype": "f8"
           },
           "xaxis": "x",
           "y": {
            "bdata": "zgPE2/D0dj4=",
            "dtype": "f8"
           },
           "yaxis": "y"
          },
          {
           "hovertemplate": "<b>%{hovertext}</b><br><br>Country Name=%{text}<br>Year=1981<br>Neerslag (mm/jaar)=%{x}<br>Uitstoot per ton geproduceerd (Mt/ton)=%{y}<extra></extra>",
           "hovertext": [
            "India"
           ],
           "legendgroup": "India",
           "marker": {
            "color": "#EF553B",
            "symbol": "circle"
           },
           "mode": "markers+text",
           "name": "India",
           "orientation": "v",
           "showlegend": true,
           "text": [
            "India"
           ],
           "type": "scatter",
           "x": {
            "bdata": "AAAAAADskEA=",
            "dtype": "f8"
           },
           "xaxis": "x",
           "y": {
            "bdata": "gNF5edSXlT4=",
            "dtype": "f8"
           },
           "yaxis": "y"
          },
          {
           "hovertemplate": "<b>%{hovertext}</b><br><br>Country Name=%{text}<br>Year=1981<br>Neerslag (mm/jaar)=%{x}<br>Uitstoot per ton geproduceerd (Mt/ton)=%{y}<extra></extra>",
           "hovertext": [
            "Indonesia"
           ],
           "legendgroup": "Indonesia",
           "marker": {
            "color": "#00cc96",
            "symbol": "circle"
           },
           "mode": "markers+text",
           "name": "Indonesia",
           "orientation": "v",
           "showlegend": true,
           "text": [
            "Indonesia"
           ],
           "type": "scatter",
           "x": {
            "bdata": "AAAAAAAcpUA=",
            "dtype": "f8"
           },
           "xaxis": "x",
           "y": {
            "bdata": "0BfQHiAAWz4=",
            "dtype": "f8"
           },
           "yaxis": "y"
          },
          {
           "hovertemplate": "<b>%{hovertext}</b><br><br>Country Name=%{text}<br>Year=1981<br>Neerslag (mm/jaar)=%{x}<br>Uitstoot per ton geproduceerd (Mt/ton)=%{y}<extra></extra>",
           "hovertext": [
            "Japan"
           ],
           "legendgroup": "Japan",
           "marker": {
            "color": "#ab63fa",
            "symbol": "circle"
           },
           "mode": "markers+text",
           "name": "Japan",
           "orientation": "v",
           "showlegend": true,
           "text": [
            "Japan"
           ],
           "type": "scatter",
           "x": {
            "bdata": "AAAAAAAQmkA=",
            "dtype": "f8"
           },
           "xaxis": "x",
           "y": {
            "bdata": "loJffOkscT4=",
            "dtype": "f8"
           },
           "yaxis": "y"
          },
          {
           "hovertemplate": "<b>%{hovertext}</b><br><br>Country Name=%{text}<br>Year=1981<br>Neerslag (mm/jaar)=%{x}<br>Uitstoot per ton geproduceerd (Mt/ton)=%{y}<extra></extra>",
           "hovertext": [
            "Nigeria"
           ],
           "legendgroup": "Nigeria",
           "marker": {
            "color": "#FFA15A",
            "symbol": "circle"
           },
           "mode": "markers+text",
           "name": "Nigeria",
           "orientation": "v",
           "showlegend": true,
           "text": [
            "Nigeria"
           ],
           "type": "scatter",
           "x": {
            "bdata": "AAAAAAD4kUA=",
            "dtype": "f8"
           },
           "xaxis": "x",
           "y": {
            "bdata": "EhYFToWSQj4=",
            "dtype": "f8"
           },
           "yaxis": "y"
          },
          {
           "hovertemplate": "<b>%{hovertext}</b><br><br>Country Name=%{text}<br>Year=1981<br>Neerslag (mm/jaar)=%{x}<br>Uitstoot per ton geproduceerd (Mt/ton)=%{y}<extra></extra>",
           "hovertext": [
            "South Africa"
           ],
           "legendgroup": "South Africa",
           "marker": {
            "color": "#19d3f3",
            "symbol": "circle"
           },
           "mode": "markers+text",
           "name": "South Africa",
           "orientation": "v",
           "showlegend": true,
           "text": [
            "South Africa"
           ],
           "type": "scatter",
           "x": {
            "bdata": "AAAAAADwfkA=",
            "dtype": "f8"
           },
           "xaxis": "x",
           "y": {
            "bdata": "Mvt0oacFjz4=",
            "dtype": "f8"
           },
           "yaxis": "y"
          },
          {
           "hovertemplate": "<b>%{hovertext}</b><br><br>Country Name=%{text}<br>Year=1981<br>Neerslag (mm/jaar)=%{x}<br>Uitstoot per ton geproduceerd (Mt/ton)=%{y}<extra></extra>",
           "hovertext": [
            "United States of America"
           ],
           "legendgroup": "United States of America",
           "marker": {
            "color": "#FF6692",
            "symbol": "circle"
           },
           "mode": "markers+text",
           "name": "United States of America",
           "orientation": "v",
           "showlegend": true,
           "text": [
            "United States of America"
           ],
           "type": "scatter",
           "x": {
            "bdata": "AAAAAABYhkA=",
            "dtype": "f8"
           },
           "xaxis": "x",
           "y": {
            "bdata": "KjKsl/N+oT4=",
            "dtype": "f8"
           },
           "yaxis": "y"
          }
         ],
         "name": "1981"
        },
        {
         "data": [
          {
           "hovertemplate": "<b>%{hovertext}</b><br><br>Country Name=%{text}<br>Year=1982<br>Neerslag (mm/jaar)=%{x}<br>Uitstoot per ton geproduceerd (Mt/ton)=%{y}<extra></extra>",
           "hovertext": [
            "Brazil"
           ],
           "legendgroup": "Brazil",
           "marker": {
            "color": "#636efa",
            "symbol": "circle"
           },
           "mode": "markers+text",
           "name": "Brazil",
           "orientation": "v",
           "showlegend": true,
           "text": [
            "Brazil"
           ],
           "type": "scatter",
           "x": {
            "bdata": "AAAAAACEm0A=",
            "dtype": "f8"
           },
           "xaxis": "x",
           "y": {
            "bdata": "Dw1bc5lQdz4=",
            "dtype": "f8"
           },
           "yaxis": "y"
          },
          {
           "hovertemplate": "<b>%{hovertext}</b><br><br>Country Name=%{text}<br>Year=1982<br>Neerslag (mm/jaar)=%{x}<br>Uitstoot per ton geproduceerd (Mt/ton)=%{y}<extra></extra>",
           "hovertext": [
            "India"
           ],
           "legendgroup": "India",
           "marker": {
            "color": "#EF553B",
            "symbol": "circle"
           },
           "mode": "markers+text",
           "name": "India",
           "orientation": "v",
           "showlegend": true,
           "text": [
            "India"
           ],
           "type": "scatter",
           "x": {
            "bdata": "AAAAAADskEA=",
            "dtype": "f8"
           },
           "xaxis": "x",
           "y": {
            "bdata": "KqkIVIW1kz4=",
            "dtype": "f8"
           },
           "yaxis": "y"
          },
          {
           "hovertemplate": "<b>%{hovertext}</b><br><br>Country Name=%{text}<br>Year=1982<br>Neerslag (mm/jaar)=%{x}<br>Uitstoot per ton geproduceerd (Mt/ton)=%{y}<extra></extra>",
           "hovertext": [
            "Indonesia"
           ],
           "legendgroup": "Indonesia",
           "marker": {
            "color": "#00cc96",
            "symbol": "circle"
           },
           "mode": "markers+text",
           "name": "Indonesia",
           "orientation": "v",
           "showlegend": true,
           "text": [
            "Indonesia"
           ],
           "type": "scatter",
           "x": {
            "bdata": "AAAAAAAcpUA=",
            "dtype": "f8"
           },
           "xaxis": "x",
           "y": {
            "bdata": "YM/L/ZgbYj4=",
            "dtype": "f8"
           },
           "yaxis": "y"
          },
          {
           "hovertemplate": "<b>%{hovertext}</b><br><br>Country Name=%{text}<br>Year=1982<br>Neerslag (mm/jaar)=%{x}<br>Uitstoot per ton geproduceerd (Mt/ton)=%{y}<extra></extra>",
           "hovertext": [
            "Japan"
           ],
           "legendgroup": "Japan",
           "marker": {
            "color": "#ab63fa",
            "symbol": "circle"
           },
           "mode": "markers+text",
           "name": "Japan",
           "orientation": "v",
           "showlegend": true,
           "text": [
            "Japan"
           ],
           "type": "scatter",
           "x": {
            "bdata": "AAAAAAAQmkA=",
            "dtype": "f8"
           },
           "xaxis": "x",
           "y": {
            "bdata": "Em3svnQNcT4=",
            "dtype": "f8"
           },
           "yaxis": "y"
          },
          {
           "hovertemplate": "<b>%{hovertext}</b><br><br>Country Name=%{text}<br>Year=1982<br>Neerslag (mm/jaar)=%{x}<br>Uitstoot per ton geproduceerd (Mt/ton)=%{y}<extra></extra>",
           "hovertext": [
            "Nigeria"
           ],
           "legendgroup": "Nigeria",
           "marker": {
            "color": "#FFA15A",
            "symbol": "circle"
           },
           "mode": "markers+text",
           "name": "Nigeria",
           "orientation": "v",
           "showlegend": true,
           "text": [
            "Nigeria"
           ],
           "type": "scatter",
           "x": {
            "bdata": "AAAAAAD4kUA=",
            "dtype": "f8"
           },
           "xaxis": "x",
           "y": {
            "bdata": "R0dbA326QT4=",
            "dtype": "f8"
           },
           "yaxis": "y"
          },
          {
           "hovertemplate": "<b>%{hovertext}</b><br><br>Country Name=%{text}<br>Year=1982<br>Neerslag (mm/jaar)=%{x}<br>Uitstoot per ton geproduceerd (Mt/ton)=%{y}<extra></extra>",
           "hovertext": [
            "South Africa"
           ],
           "legendgroup": "South Africa",
           "marker": {
            "color": "#19d3f3",
            "symbol": "circle"
           },
           "mode": "markers+text",
           "name": "South Africa",
           "orientation": "v",
           "showlegend": true,
           "text": [
            "South Africa"
           ],
           "type": "scatter",
           "x": {
            "bdata": "AAAAAADwfkA=",
            "dtype": "f8"
           },
           "xaxis": "x",
           "y": {
            "bdata": "VSgP6yQDkT4=",
            "dtype": "f8"
           },
           "yaxis": "y"
          },
          {
           "hovertemplate": "<b>%{hovertext}</b><br><br>Country Name=%{text}<br>Year=1982<br>Neerslag (mm/jaar)=%{x}<br>Uitstoot per ton geproduceerd (Mt/ton)=%{y}<extra></extra>",
           "hovertext": [
            "United States of America"
           ],
           "legendgroup": "United States of America",
           "marker": {
            "color": "#FF6692",
            "symbol": "circle"
           },
           "mode": "markers+text",
           "name": "United States of America",
           "orientation": "v",
           "showlegend": true,
           "text": [
            "United States of America"
           ],
           "type": "scatter",
           "x": {
            "bdata": "AAAAAABYhkA=",
            "dtype": "f8"
           },
           "xaxis": "x",
           "y": {
            "bdata": "332XPKYuoT4=",
            "dtype": "f8"
           },
           "yaxis": "y"
          }
         ],
         "name": "1982"
        },
        {
         "data": [
          {
           "hovertemplate": "<b>%{hovertext}</b><br><br>Country Name=%{text}<br>Year=1983<br>Neerslag (mm/jaar)=%{x}<br>Uitstoot per ton geproduceerd (Mt/ton)=%{y}<extra></extra>",
           "hovertext": [
            "Brazil"
           ],
           "legendgroup": "Brazil",
           "marker": {
            "color": "#636efa",
            "symbol": "circle"
           },
           "mode": "markers+text",
           "name": "Brazil",
           "orientation": "v",
           "showlegend": true,
           "text": [
            "Brazil"
           ],
           "type": "scatter",
           "x": {
            "bdata": "AAAAAADYm0A=",
            "dtype": "f8"
           },
           "xaxis": "x",
           "y": {
            "bdata": "1YShJoLecz4=",
            "dtype": "f8"
           },
           "yaxis": "y"
          },
          {
           "hovertemplate": "<b>%{hovertext}</b><br><br>Country Name=%{text}<br>Year=1983<br>Neerslag (mm/jaar)=%{x}<br>Uitstoot per ton geproduceerd (Mt/ton)=%{y}<extra></extra>",
           "hovertext": [
            "India"
           ],
           "legendgroup": "India",
           "marker": {
            "color": "#EF553B",
            "symbol": "circle"
           },
           "mode": "markers+text",
           "name": "India",
           "orientation": "v",
           "showlegend": true,
           "text": [
            "India"
           ],
           "type": "scatter",
           "x": {
            "bdata": "AAAAAADskEA=",
            "dtype": "f8"
           },
           "xaxis": "x",
           "y": {
            "bdata": "PwY2qeoolD4=",
            "dtype": "f8"
           },
           "yaxis": "y"
          },
          {
           "hovertemplate": "<b>%{hovertext}</b><br><br>Country Name=%{text}<br>Year=1983<br>Neerslag (mm/jaar)=%{x}<br>Uitstoot per ton geproduceerd (Mt/ton)=%{y}<extra></extra>",
           "hovertext": [
            "Indonesia"
           ],
           "legendgroup": "Indonesia",
           "marker": {
            "color": "#00cc96",
            "symbol": "circle"
           },
           "mode": "markers+text",
           "name": "Indonesia",
           "orientation": "v",
           "showlegend": true,
           "text": [
            "Indonesia"
           ],
           "type": "scatter",
           "x": {
            "bdata": "AAAAAAAcpUA=",
            "dtype": "f8"
           },
           "xaxis": "x",
           "y": {
            "bdata": "u/4KK5dLYD4=",
            "dtype": "f8"
           },
           "yaxis": "y"
          },
          {
           "hovertemplate": "<b>%{hovertext}</b><br><br>Country Name=%{text}<br>Year=1983<br>Neerslag (mm/jaar)=%{x}<br>Uitstoot per ton geproduceerd (Mt/ton)=%{y}<extra></extra>",
           "hovertext": [
            "Japan"
           ],
           "legendgroup": "Japan",
           "marker": {
            "color": "#ab63fa",
            "symbol": "circle"
           },
           "mode": "markers+text",
           "name": "Japan",
           "orientation": "v",
           "showlegend": true,
           "text": [
            "Japan"
           ],
           "type": "scatter",
           "x": {
            "bdata": "AAAAAAAQmkA=",
            "dtype": "f8"
           },
           "xaxis": "x",
           "y": {
            "bdata": "lvSK2YOMcT4=",
            "dtype": "f8"
           },
           "yaxis": "y"
          },
          {
           "hovertemplate": "<b>%{hovertext}</b><br><br>Country Name=%{text}<br>Year=1983<br>Neerslag (mm/jaar)=%{x}<br>Uitstoot per ton geproduceerd (Mt/ton)=%{y}<extra></extra>",
           "hovertext": [
            "Nigeria"
           ],
           "legendgroup": "Nigeria",
           "marker": {
            "color": "#FFA15A",
            "symbol": "circle"
           },
           "mode": "markers+text",
           "name": "Nigeria",
           "orientation": "v",
           "showlegend": true,
           "text": [
            "Nigeria"
           ],
           "type": "scatter",
           "x": {
            "bdata": "AAAAAAD4kUA=",
            "dtype": "f8"
           },
           "xaxis": "x",
           "y": {
            "bdata": "VtdwmSE8Qj4=",
            "dtype": "f8"
           },
           "yaxis": "y"
          },
          {
           "hovertemplate": "<b>%{hovertext}</b><br><br>Country Name=%{text}<br>Year=1983<br>Neerslag (mm/jaar)=%{x}<br>Uitstoot per ton geproduceerd (Mt/ton)=%{y}<extra></extra>",
           "hovertext": [
            "South Africa"
           ],
           "legendgroup": "South Africa",
           "marker": {
            "color": "#19d3f3",
            "symbol": "circle"
           },
           "mode": "markers+text",
           "name": "South Africa",
           "orientation": "v",
           "showlegend": true,
           "text": [
            "South Africa"
           ],
           "type": "scatter",
           "x": {
            "bdata": "AAAAAADwfkA=",
            "dtype": "f8"
           },
           "xaxis": "x",
           "y": {
            "bdata": "E8ZoGMoGlD4=",
            "dtype": "f8"
           },
           "yaxis": "y"
          },
          {
           "hovertemplate": "<b>%{hovertext}</b><br><br>Country Name=%{text}<br>Year=1983<br>Neerslag (mm/jaar)=%{x}<br>Uitstoot per ton geproduceerd (Mt/ton)=%{y}<extra></extra>",
           "hovertext": [
            "United States of America"
           ],
           "legendgroup": "United States of America",
           "marker": {
            "color": "#FF6692",
            "symbol": "circle"
           },
           "mode": "markers+text",
           "name": "United States of America",
           "orientation": "v",
           "showlegend": true,
           "text": [
            "United States of America"
           ],
           "type": "scatter",
           "x": {
            "bdata": "AAAAAABYhkA=",
            "dtype": "f8"
           },
           "xaxis": "x",
           "y": {
            "bdata": "7nPw7sCHnz4=",
            "dtype": "f8"
           },
           "yaxis": "y"
          }
         ],
         "name": "1983"
        },
        {
         "data": [
          {
           "hovertemplate": "<b>%{hovertext}</b><br><br>Country Name=%{text}<br>Year=1984<br>Neerslag (mm/jaar)=%{x}<br>Uitstoot per ton geproduceerd (Mt/ton)=%{y}<extra></extra>",
           "hovertext": [
            "Brazil"
           ],
           "legendgroup": "Brazil",
           "marker": {
            "color": "#636efa",
            "symbol": "circle"
           },
           "mode": "markers+text",
           "name": "Brazil",
           "orientation": "v",
           "showlegend": true,
           "text": [
            "Brazil"
           ],
           "type": "scatter",
           "x": {
            "bdata": "AAAAAADYm0A=",
            "dtype": "f8"
           },
           "xaxis": "x",
           "y": {
            "bdata": "ioxX8FFXcz4=",
            "dtype": "f8"
           },
           "yaxis": "y"
          },
          {
           "hovertemplate": "<b>%{hovertext}</b><br><br>Country Name=%{text}<br>Year=1984<br>Neerslag (mm/jaar)=%{x}<br>Uitstoot per ton geproduceerd (Mt/ton)=%{y}<extra></extra>",
           "hovertext": [
            "India"
           ],
           "legendgroup": "India",
           "marker": {
            "color": "#EF553B",
            "symbol": "circle"
           },
           "mode": "markers+text",
           "name": "India",
           "orientation": "v",
           "showlegend": true,
           "text": [
            "India"
           ],
           "type": "scatter",
           "x": {
            "bdata": "AAAAAADskEA=",
            "dtype": "f8"
           },
           "xaxis": "x",
           "y": {
            "bdata": "0n2KobbMlT4=",
            "dtype": "f8"
           },
           "yaxis": "y"
          },
          {
           "hovertemplate": "<b>%{hovertext}</b><br><br>Country Name=%{text}<br>Year=1984<br>Neerslag (mm/jaar)=%{x}<br>Uitstoot per ton geproduceerd (Mt/ton)=%{y}<extra></extra>",
           "hovertext": [
            "Indonesia"
           ],
           "legendgroup": "Indonesia",
           "marker": {
            "color": "#00cc96",
            "symbol": "circle"
           },
           "mode": "markers+text",
           "name": "Indonesia",
           "orientation": "v",
           "showlegend": true,
           "text": [
            "Indonesia"
           ],
           "type": "scatter",
           "x": {
            "bdata": "AAAAAAAcpUA=",
            "dtype": "f8"
           },
           "xaxis": "x",
           "y": {
            "bdata": "IY725Ta8Xj4=",
            "dtype": "f8"
           },
           "yaxis": "y"
          },
          {
           "hovertemplate": "<b>%{hovertext}</b><br><br>Country Name=%{text}<br>Year=1984<br>Neerslag (mm/jaar)=%{x}<br>Uitstoot per ton geproduceerd (Mt/ton)=%{y}<extra></extra>",
           "hovertext": [
            "Japan"
           ],
           "legendgroup": "Japan",
           "marker": {
            "color": "#ab63fa",
            "symbol": "circle"
           },
           "mode": "markers+text",
           "name": "Japan",
           "orientation": "v",
           "showlegend": true,
           "text": [
            "Japan"
           ],
           "type": "scatter",
           "x": {
            "bdata": "AAAAAAAQmkA=",
            "dtype": "f8"
           },
           "xaxis": "x",
           "y": {
            "bdata": "ofHb55UycT4=",
            "dtype": "f8"
           },
           "yaxis": "y"
          },
          {
           "hovertemplate": "<b>%{hovertext}</b><br><br>Country Name=%{text}<br>Year=1984<br>Neerslag (mm/jaar)=%{x}<br>Uitstoot per ton geproduceerd (Mt/ton)=%{y}<extra></extra>",
           "hovertext": [
            "Nigeria"
           ],
           "legendgroup": "Nigeria",
           "marker": {
            "color": "#FFA15A",
            "symbol": "circle"
           },
           "mode": "markers+text",
           "name": "Nigeria",
           "orientation": "v",
           "showlegend": true,
           "text": [
            "Nigeria"
           ],
           "type": "scatter",
           "x": {
            "bdata": "AAAAAAD4kUA=",
            "dtype": "f8"
           },
           "xaxis": "x",
           "y": {
            "bdata": "zbQVV+fxQT4=",
            "dtype": "f8"
           },
           "yaxis": "y"
          },
          {
           "hovertemplate": "<b>%{hovertext}</b><br><br>Country Name=%{text}<br>Year=1984<br>Neerslag (mm/jaar)=%{x}<br>Uitstoot per ton geproduceerd (Mt/ton)=%{y}<extra></extra>",
           "hovertext": [
            "South Africa"
           ],
           "legendgroup": "South Africa",
           "marker": {
            "color": "#19d3f3",
            "symbol": "circle"
           },
           "mode": "markers+text",
           "name": "South Africa",
           "orientation": "v",
           "showlegend": true,
           "text": [
            "South Africa"
           ],
           "type": "scatter",
           "x": {
            "bdata": "AAAAAADwfkA=",
            "dtype": "f8"
           },
           "xaxis": "x",
           "y": {
            "bdata": "zdWZ9ZjsjT4=",
            "dtype": "f8"
           },
           "yaxis": "y"
          },
          {
           "hovertemplate": "<b>%{hovertext}</b><br><br>Country Name=%{text}<br>Year=1984<br>Neerslag (mm/jaar)=%{x}<br>Uitstoot per ton geproduceerd (Mt/ton)=%{y}<extra></extra>",
           "hovertext": [
            "United States of America"
           ],
           "legendgroup": "United States of America",
           "marker": {
            "color": "#FF6692",
            "symbol": "circle"
           },
           "mode": "markers+text",
           "name": "United States of America",
           "orientation": "v",
           "showlegend": true,
           "text": [
            "United States of America"
           ],
           "type": "scatter",
           "x": {
            "bdata": "AAAAAABYhkA=",
            "dtype": "f8"
           },
           "xaxis": "x",
           "y": {
            "bdata": "ISh/7Exknz4=",
            "dtype": "f8"
           },
           "yaxis": "y"
          }
         ],
         "name": "1984"
        },
        {
         "data": [
          {
           "hovertemplate": "<b>%{hovertext}</b><br><br>Country Name=%{text}<br>Year=1985<br>Neerslag (mm/jaar)=%{x}<br>Uitstoot per ton geproduceerd (Mt/ton)=%{y}<extra></extra>",
           "hovertext": [
            "Brazil"
           ],
           "legendgroup": "Brazil",
           "marker": {
            "color": "#636efa",
            "symbol": "circle"
           },
           "mode": "markers+text",
           "name": "Brazil",
           "orientation": "v",
           "showlegend": true,
           "text": [
            "Brazil"
           ],
           "type": "scatter",
           "x": {
            "bdata": "AAAAAADYm0A=",
            "dtype": "f8"
           },
           "xaxis": "x",
           "y": {
            "bdata": "8Y+RnX5DdT4=",
            "dtype": "f8"
           },
           "yaxis": "y"
          },
          {
           "hovertemplate": "<b>%{hovertext}</b><br><br>Country Name=%{text}<br>Year=1985<br>Neerslag (mm/jaar)=%{x}<br>Uitstoot per ton geproduceerd (Mt/ton)=%{y}<extra></extra>",
           "hovertext": [
            "India"
           ],
           "legendgroup": "India",
           "marker": {
            "color": "#EF553B",
            "symbol": "circle"
           },
           "mode": "markers+text",
           "name": "India",
           "orientation": "v",
           "showlegend": true,
           "text": [
            "India"
           ],
           "type": "scatter",
           "x": {
            "bdata": "AAAAAADskEA=",
            "dtype": "f8"
           },
           "xaxis": "x",
           "y": {
            "bdata": "hogwW3CClT4=",
            "dtype": "f8"
           },
           "yaxis": "y"
          },
          {
           "hovertemplate": "<b>%{hovertext}</b><br><br>Country Name=%{text}<br>Year=1985<br>Neerslag (mm/jaar)=%{x}<br>Uitstoot per ton geproduceerd (Mt/ton)=%{y}<extra></extra>",
           "hovertext": [
            "Indonesia"
           ],
           "legendgroup": "Indonesia",
           "marker": {
            "color": "#00cc96",
            "symbol": "circle"
           },
           "mode": "markers+text",
           "name": "Indonesia",
           "orientation": "v",
           "showlegend": true,
           "text": [
            "Indonesia"
           ],
           "type": "scatter",
           "x": {
            "bdata": "AAAAAAAcpUA=",
            "dtype": "f8"
           },
           "xaxis": "x",
           "y": {
            "bdata": "scPQSlVBYj4=",
            "dtype": "f8"
           },
           "yaxis": "y"
          },
          {
           "hovertemplate": "<b>%{hovertext}</b><br><br>Country Name=%{text}<br>Year=1985<br>Neerslag (mm/jaar)=%{x}<br>Uitstoot per ton geproduceerd (Mt/ton)=%{y}<extra></extra>",
           "hovertext": [
            "Japan"
           ],
           "legendgroup": "Japan",
           "marker": {
            "color": "#ab63fa",
            "symbol": "circle"
           },
           "mode": "markers+text",
           "name": "Japan",
           "orientation": "v",
           "showlegend": true,
           "text": [
            "Japan"
           ],
           "type": "scatter",
           "x": {
            "bdata": "AAAAAAAQmkA=",
            "dtype": "f8"
           },
           "xaxis": "x",
           "y": {
            "bdata": "iGZJxEAHcj4=",
            "dtype": "f8"
           },
           "yaxis": "y"
          },
          {
           "hovertemplate": "<b>%{hovertext}</b><br><br>Country Name=%{text}<br>Year=1985<br>Neerslag (mm/jaar)=%{x}<br>Uitstoot per ton geproduceerd (Mt/ton)=%{y}<extra></extra>",
           "hovertext": [
            "Nigeria"
           ],
           "legendgroup": "Nigeria",
           "marker": {
            "color": "#FFA15A",
            "symbol": "circle"
           },
           "mode": "markers+text",
           "name": "Nigeria",
           "orientation": "v",
           "showlegend": true,
           "text": [
            "Nigeria"
           ],
           "type": "scatter",
           "x": {
            "bdata": "AAAAAAD4kUA=",
            "dtype": "f8"
           },
           "xaxis": "x",
           "y": {
            "bdata": "v3AAsiVEUT4=",
            "dtype": "f8"
           },
           "yaxis": "y"
          },
          {
           "hovertemplate": "<b>%{hovertext}</b><br><br>Country Name=%{text}<br>Year=1985<br>Neerslag (mm/jaar)=%{x}<br>Uitstoot per ton geproduceerd (Mt/ton)=%{y}<extra></extra>",
           "hovertext": [
            "South Africa"
           ],
           "legendgroup": "South Africa",
           "marker": {
            "color": "#19d3f3",
            "symbol": "circle"
           },
           "mode": "markers+text",
           "name": "South Africa",
           "orientation": "v",
           "showlegend": true,
           "text": [
            "South Africa"
           ],
           "type": "scatter",
           "x": {
            "bdata": "AAAAAADwfkA=",
            "dtype": "f8"
           },
           "xaxis": "x",
           "y": {
            "bdata": "4IwMgwuRkD4=",
            "dtype": "f8"
           },
           "yaxis": "y"
          },
          {
           "hovertemplate": "<b>%{hovertext}</b><br><br>Country Name=%{text}<br>Year=1985<br>Neerslag (mm/jaar)=%{x}<br>Uitstoot per ton geproduceerd (Mt/ton)=%{y}<extra></extra>",
           "hovertext": [
            "United States of America"
           ],
           "legendgroup": "United States of America",
           "marker": {
            "color": "#FF6692",
            "symbol": "circle"
           },
           "mode": "markers+text",
           "name": "United States of America",
           "orientation": "v",
           "showlegend": true,
           "text": [
            "United States of America"
           ],
           "type": "scatter",
           "x": {
            "bdata": "AAAAAABYhkA=",
            "dtype": "f8"
           },
           "xaxis": "x",
           "y": {
            "bdata": "Hu+BkSd9nT4=",
            "dtype": "f8"
           },
           "yaxis": "y"
          }
         ],
         "name": "1985"
        },
        {
         "data": [
          {
           "hovertemplate": "<b>%{hovertext}</b><br><br>Country Name=%{text}<br>Year=1986<br>Neerslag (mm/jaar)=%{x}<br>Uitstoot per ton geproduceerd (Mt/ton)=%{y}<extra></extra>",
           "hovertext": [
            "Brazil"
           ],
           "legendgroup": "Brazil",
           "marker": {
            "color": "#636efa",
            "symbol": "circle"
           },
           "mode": "markers+text",
           "name": "Brazil",
           "orientation": "v",
           "showlegend": true,
           "text": [
            "Brazil"
           ],
           "type": "scatter",
           "x": {
            "bdata": "AAAAAADYm0A=",
            "dtype": "f8"
           },
           "xaxis": "x",
           "y": {
            "bdata": "R7xqsdB5eT4=",
            "dtype": "f8"
           },
           "yaxis": "y"
          },
          {
           "hovertemplate": "<b>%{hovertext}</b><br><br>Country Name=%{text}<br>Year=1986<br>Neerslag (mm/jaar)=%{x}<br>Uitstoot per ton geproduceerd (Mt/ton)=%{y}<extra></extra>",
           "hovertext": [
            "India"
           ],
           "legendgroup": "India",
           "marker": {
            "color": "#EF553B",
            "symbol": "circle"
           },
           "mode": "markers+text",
           "name": "India",
           "orientation": "v",
           "showlegend": true,
           "text": [
            "India"
           ],
           "type": "scatter",
           "x": {
            "bdata": "AAAAAADskEA=",
            "dtype": "f8"
           },
           "xaxis": "x",
           "y": {
            "bdata": "dsfBruImlT4=",
            "dtype": "f8"
           },
           "yaxis": "y"
          },
          {
           "hovertemplate": "<b>%{hovertext}</b><br><br>Country Name=%{text}<br>Year=1986<br>Neerslag (mm/jaar)=%{x}<br>Uitstoot per ton geproduceerd (Mt/ton)=%{y}<extra></extra>",
           "hovertext": [
            "Indonesia"
           ],
           "legendgroup": "Indonesia",
           "marker": {
            "color": "#00cc96",
            "symbol": "circle"
           },
           "mode": "markers+text",
           "name": "Indonesia",
           "orientation": "v",
           "showlegend": true,
           "text": [
            "Indonesia"
           ],
           "type": "scatter",
           "x": {
            "bdata": "AAAAAAAcpUA=",
            "dtype": "f8"
           },
           "xaxis": "x",
           "y": {
            "bdata": "AsJCBax3Yj4=",
            "dtype": "f8"
           },
           "yaxis": "y"
          },
          {
           "hovertemplate": "<b>%{hovertext}</b><br><br>Country Name=%{text}<br>Year=1986<br>Neerslag (mm/jaar)=%{x}<br>Uitstoot per ton geproduceerd (Mt/ton)=%{y}<extra></extra>",
           "hovertext": [
            "Japan"
           ],
           "legendgroup": "Japan",
           "marker": {
            "color": "#ab63fa",
            "symbol": "circle"
           },
           "mode": "markers+text",
           "name": "Japan",
           "orientation": "v",
           "showlegend": true,
           "text": [
            "Japan"
           ],
           "type": "scatter",
           "x": {
            "bdata": "AAAAAAAQmkA=",
            "dtype": "f8"
           },
           "xaxis": "x",
           "y": {
            "bdata": "fW+wKoaNcj4=",
            "dtype": "f8"
           },
           "yaxis": "y"
          },
          {
           "hovertemplate": "<b>%{hovertext}</b><br><br>Country Name=%{text}<br>Year=1986<br>Neerslag (mm/jaar)=%{x}<br>Uitstoot per ton geproduceerd (Mt/ton)=%{y}<extra></extra>",
           "hovertext": [
            "Nigeria"
           ],
           "legendgroup": "Nigeria",
           "marker": {
            "color": "#FFA15A",
            "symbol": "circle"
           },
           "mode": "markers+text",
           "name": "Nigeria",
           "orientation": "v",
           "showlegend": true,
           "text": [
            "Nigeria"
           ],
           "type": "scatter",
           "x": {
            "bdata": "AAAAAAD4kUA=",
            "dtype": "f8"
           },
           "xaxis": "x",
           "y": {
            "bdata": "rZhHReg5Uj4=",
            "dtype": "f8"
           },
           "yaxis": "y"
          },
          {
           "hovertemplate": "<b>%{hovertext}</b><br><br>Country Name=%{text}<br>Year=1986<br>Neerslag (mm/jaar)=%{x}<br>Uitstoot per ton geproduceerd (Mt/ton)=%{y}<extra></extra>",
           "hovertext": [
            "South Africa"
           ],
           "legendgroup": "South Africa",
           "marker": {
            "color": "#19d3f3",
            "symbol": "circle"
           },
           "mode": "markers+text",
           "name": "South Africa",
           "orientation": "v",
           "showlegend": true,
           "text": [
            "South Africa"
           ],
           "type": "scatter",
           "x": {
            "bdata": "AAAAAADwfkA=",
            "dtype": "f8"
           },
           "xaxis": "x",
           "y": {
            "bdata": "xzJ8HlA2kT4=",
            "dtype": "f8"
           },
           "yaxis": "y"
          },
          {
           "hovertemplate": "<b>%{hovertext}</b><br><br>Country Name=%{text}<br>Year=1986<br>Neerslag (mm/jaar)=%{x}<br>Uitstoot per ton geproduceerd (Mt/ton)=%{y}<extra></extra>",
           "hovertext": [
            "United States of America"
           ],
           "legendgroup": "United States of America",
           "marker": {
            "color": "#FF6692",
            "symbol": "circle"
           },
           "mode": "markers+text",
           "name": "United States of America",
           "orientation": "v",
           "showlegend": true,
           "text": [
            "United States of America"
           ],
           "type": "scatter",
           "x": {
            "bdata": "AAAAAABYhkA=",
            "dtype": "f8"
           },
           "xaxis": "x",
           "y": {
            "bdata": "6dnNa96rnD4=",
            "dtype": "f8"
           },
           "yaxis": "y"
          }
         ],
         "name": "1986"
        },
        {
         "data": [
          {
           "hovertemplate": "<b>%{hovertext}</b><br><br>Country Name=%{text}<br>Year=1987<br>Neerslag (mm/jaar)=%{x}<br>Uitstoot per ton geproduceerd (Mt/ton)=%{y}<extra></extra>",
           "hovertext": [
            "Brazil"
           ],
           "legendgroup": "Brazil",
           "marker": {
            "color": "#636efa",
            "symbol": "circle"
           },
           "mode": "markers+text",
           "name": "Brazil",
           "orientation": "v",
           "showlegend": true,
           "text": [
            "Brazil"
           ],
           "type": "scatter",
           "x": {
            "bdata": "AAAAAACEm0A=",
            "dtype": "f8"
           },
           "xaxis": "x",
           "y": {
            "bdata": "7xDDymckdz4=",
            "dtype": "f8"
           },
           "yaxis": "y"
          },
          {
           "hovertemplate": "<b>%{hovertext}</b><br><br>Country Name=%{text}<br>Year=1987<br>Neerslag (mm/jaar)=%{x}<br>Uitstoot per ton geproduceerd (Mt/ton)=%{y}<extra></extra>",
           "hovertext": [
            "India"
           ],
           "legendgroup": "India",
           "marker": {
            "color": "#EF553B",
            "symbol": "circle"
           },
           "mode": "markers+text",
           "name": "India",
           "orientation": "v",
           "showlegend": true,
           "text": [
            "India"
           ],
           "type": "scatter",
           "x": {
            "bdata": "AAAAAADskEA=",
            "dtype": "f8"
           },
           "xaxis": "x",
           "y": {
            "bdata": "F2K9mob2kz4=",
            "dtype": "f8"
           },
           "yaxis": "y"
          },
          {
           "hovertemplate": "<b>%{hovertext}</b><br><br>Country Name=%{text}<br>Year=1987<br>Neerslag (mm/jaar)=%{x}<br>Uitstoot per ton geproduceerd (Mt/ton)=%{y}<extra></extra>",
           "hovertext": [
            "Indonesia"
           ],
           "legendgroup": "Indonesia",
           "marker": {
            "color": "#00cc96",
            "symbol": "circle"
           },
           "mode": "markers+text",
           "name": "Indonesia",
           "orientation": "v",
           "showlegend": true,
           "text": [
            "Indonesia"
           ],
           "type": "scatter",
           "x": {
            "bdata": "AAAAAAAcpUA=",
            "dtype": "f8"
           },
           "xaxis": "x",
           "y": {
            "bdata": "Z8SAy4coYj4=",
            "dtype": "f8"
           },
           "yaxis": "y"
          },
          {
           "hovertemplate": "<b>%{hovertext}</b><br><br>Country Name=%{text}<br>Year=1987<br>Neerslag (mm/jaar)=%{x}<br>Uitstoot per ton geproduceerd (Mt/ton)=%{y}<extra></extra>",
           "hovertext": [
            "Japan"
           ],
           "legendgroup": "Japan",
           "marker": {
            "color": "#ab63fa",
            "symbol": "circle"
           },
           "mode": "markers+text",
           "name": "Japan",
           "orientation": "v",
           "showlegend": true,
           "text": [
            "Japan"
           ],
           "type": "scatter",
           "x": {
            "bdata": "AAAAAAAQmkA=",
            "dtype": "f8"
           },
           "xaxis": "x",
           "y": {
            "bdata": "MH2uNSY9cz4=",
            "dtype": "f8"
           },
           "yaxis": "y"
          },
          {
           "hovertemplate": "<b>%{hovertext}</b><br><br>Country Name=%{text}<br>Year=1987<br>Neerslag (mm/jaar)=%{x}<br>Uitstoot per ton geproduceerd (Mt/ton)=%{y}<extra></extra>",
           "hovertext": [
            "Nigeria"
           ],
           "legendgroup": "Nigeria",
           "marker": {
            "color": "#FFA15A",
            "symbol": "circle"
           },
           "mode": "markers+text",
           "name": "Nigeria",
           "orientation": "v",
           "showlegend": true,
           "text": [
            "Nigeria"
           ],
           "type": "scatter",
           "x": {
            "bdata": "AAAAAAD4kUA=",
            "dtype": "f8"
           },
           "xaxis": "x",
           "y": {
            "bdata": "LcAjsf+aUz4=",
            "dtype": "f8"
           },
           "yaxis": "y"
          },
          {
           "hovertemplate": "<b>%{hovertext}</b><br><br>Country Name=%{text}<br>Year=1987<br>Neerslag (mm/jaar)=%{x}<br>Uitstoot per ton geproduceerd (Mt/ton)=%{y}<extra></extra>",
           "hovertext": [
            "South Africa"
           ],
           "legendgroup": "South Africa",
           "marker": {
            "color": "#19d3f3",
            "symbol": "circle"
           },
           "mode": "markers+text",
           "name": "South Africa",
           "orientation": "v",
           "showlegend": true,
           "text": [
            "South Africa"
           ],
           "type": "scatter",
           "x": {
            "bdata": "AAAAAADwfkA=",
            "dtype": "f8"
           },
           "xaxis": "x",
           "y": {
            "bdata": "Wf5pRjg3jT4=",
            "dtype": "f8"
           },
           "yaxis": "y"
          },
          {
           "hovertemplate": "<b>%{hovertext}</b><br><br>Country Name=%{text}<br>Year=1987<br>Neerslag (mm/jaar)=%{x}<br>Uitstoot per ton geproduceerd (Mt/ton)=%{y}<extra></extra>",
           "hovertext": [
            "United States of America"
           ],
           "legendgroup": "United States of America",
           "marker": {
            "color": "#FF6692",
            "symbol": "circle"
           },
           "mode": "markers+text",
           "name": "United States of America",
           "orientation": "v",
           "showlegend": true,
           "text": [
            "United States of America"
           ],
           "type": "scatter",
           "x": {
            "bdata": "AAAAAABYhkA=",
            "dtype": "f8"
           },
           "xaxis": "x",
           "y": {
            "bdata": "DkDnM2lsmz4=",
            "dtype": "f8"
           },
           "yaxis": "y"
          }
         ],
         "name": "1987"
        },
        {
         "data": [
          {
           "hovertemplate": "<b>%{hovertext}</b><br><br>Country Name=%{text}<br>Year=1988<br>Neerslag (mm/jaar)=%{x}<br>Uitstoot per ton geproduceerd (Mt/ton)=%{y}<extra></extra>",
           "hovertext": [
            "Brazil"
           ],
           "legendgroup": "Brazil",
           "marker": {
            "color": "#636efa",
            "symbol": "circle"
           },
           "mode": "markers+text",
           "name": "Brazil",
           "orientation": "v",
           "showlegend": true,
           "text": [
            "Brazil"
           ],
           "type": "scatter",
           "x": {
            "bdata": "AAAAAADYm0A=",
            "dtype": "f8"
           },
           "xaxis": "x",
           "y": {
            "bdata": "urzB0wUjdz4=",
            "dtype": "f8"
           },
           "yaxis": "y"
          },
          {
           "hovertemplate": "<b>%{hovertext}</b><br><br>Country Name=%{text}<br>Year=1988<br>Neerslag (mm/jaar)=%{x}<br>Uitstoot per ton geproduceerd (Mt/ton)=%{y}<extra></extra>",
           "hovertext": [
            "India"
           ],
           "legendgroup": "India",
           "marker": {
            "color": "#EF553B",
            "symbol": "circle"
           },
           "mode": "markers+text",
           "name": "India",
           "orientation": "v",
           "showlegend": true,
           "text": [
            "India"
           ],
           "type": "scatter",
           "x": {
            "bdata": "AAAAAADskEA=",
            "dtype": "f8"
           },
           "xaxis": "x",
           "y": {
            "bdata": "hLfpDt8dkz4=",
            "dtype": "f8"
           },
           "yaxis": "y"
          },
          {
           "hovertemplate": "<b>%{hovertext}</b><br><br>Country Name=%{text}<br>Year=1988<br>Neerslag (mm/jaar)=%{x}<br>Uitstoot per ton geproduceerd (Mt/ton)=%{y}<extra></extra>",
           "hovertext": [
            "Indonesia"
           ],
           "legendgroup": "Indonesia",
           "marker": {
            "color": "#00cc96",
            "symbol": "circle"
           },
           "mode": "markers+text",
           "name": "Indonesia",
           "orientation": "v",
           "showlegend": true,
           "text": [
            "Indonesia"
           ],
           "type": "scatter",
           "x": {
            "bdata": "AAAAAAAcpUA=",
            "dtype": "f8"
           },
           "xaxis": "x",
           "y": {
            "bdata": "WwfEDNG4Yj4=",
            "dtype": "f8"
           },
           "yaxis": "y"
          },
          {
           "hovertemplate": "<b>%{hovertext}</b><br><br>Country Name=%{text}<br>Year=1988<br>Neerslag (mm/jaar)=%{x}<br>Uitstoot per ton geproduceerd (Mt/ton)=%{y}<extra></extra>",
           "hovertext": [
            "Japan"
           ],
           "legendgroup": "Japan",
           "marker": {
            "color": "#ab63fa",
            "symbol": "circle"
           },
           "mode": "markers+text",
           "name": "Japan",
           "orientation": "v",
           "showlegend": true,
           "text": [
            "Japan"
           ],
           "type": "scatter",
           "x": {
            "bdata": "AAAAAAAQmkA=",
            "dtype": "f8"
           },
           "xaxis": "x",
           "y": {
            "bdata": "temL0sDbdD4=",
            "dtype": "f8"
           },
           "yaxis": "y"
          },
          {
           "hovertemplate": "<b>%{hovertext}</b><br><br>Country Name=%{text}<br>Year=1988<br>Neerslag (mm/jaar)=%{x}<br>Uitstoot per ton geproduceerd (Mt/ton)=%{y}<extra></extra>",
           "hovertext": [
            "Nigeria"
           ],
           "legendgroup": "Nigeria",
           "marker": {
            "color": "#FFA15A",
            "symbol": "circle"
           },
           "mode": "markers+text",
           "name": "Nigeria",
           "orientation": "v",
           "showlegend": true,
           "text": [
            "Nigeria"
           ],
           "type": "scatter",
           "x": {
            "bdata": "AAAAAAD4kUA=",
            "dtype": "f8"
           },
           "xaxis": "x",
           "y": {
            "bdata": "VBpHpJpPRD4=",
            "dtype": "f8"
           },
           "yaxis": "y"
          },
          {
           "hovertemplate": "<b>%{hovertext}</b><br><br>Country Name=%{text}<br>Year=1988<br>Neerslag (mm/jaar)=%{x}<br>Uitstoot per ton geproduceerd (Mt/ton)=%{y}<extra></extra>",
           "hovertext": [
            "South Africa"
           ],
           "legendgroup": "South Africa",
           "marker": {
            "color": "#19d3f3",
            "symbol": "circle"
           },
           "mode": "markers+text",
           "name": "South Africa",
           "orientation": "v",
           "showlegend": true,
           "text": [
            "South Africa"
           ],
           "type": "scatter",
           "x": {
            "bdata": "AAAAAADwfkA=",
            "dtype": "f8"
           },
           "xaxis": "x",
           "y": {
            "bdata": "STperf/HkD4=",
            "dtype": "f8"
           },
           "yaxis": "y"
          },
          {
           "hovertemplate": "<b>%{hovertext}</b><br><br>Country Name=%{text}<br>Year=1988<br>Neerslag (mm/jaar)=%{x}<br>Uitstoot per ton geproduceerd (Mt/ton)=%{y}<extra></extra>",
           "hovertext": [
            "United States of America"
           ],
           "legendgroup": "United States of America",
           "marker": {
            "color": "#FF6692",
            "symbol": "circle"
           },
           "mode": "markers+text",
           "name": "United States of America",
           "orientation": "v",
           "showlegend": true,
           "text": [
            "United States of America"
           ],
           "type": "scatter",
           "x": {
            "bdata": "AAAAAABYhkA=",
            "dtype": "f8"
           },
           "xaxis": "x",
           "y": {
            "bdata": "RSVRoxOpnD4=",
            "dtype": "f8"
           },
           "yaxis": "y"
          }
         ],
         "name": "1988"
        },
        {
         "data": [
          {
           "hovertemplate": "<b>%{hovertext}</b><br><br>Country Name=%{text}<br>Year=1989<br>Neerslag (mm/jaar)=%{x}<br>Uitstoot per ton geproduceerd (Mt/ton)=%{y}<extra></extra>",
           "hovertext": [
            "Brazil"
           ],
           "legendgroup": "Brazil",
           "marker": {
            "color": "#636efa",
            "symbol": "circle"
           },
           "mode": "markers+text",
           "name": "Brazil",
           "orientation": "v",
           "showlegend": true,
           "text": [
            "Brazil"
           ],
           "type": "scatter",
           "x": {
            "bdata": "AAAAAADYm0A=",
            "dtype": "f8"
           },
           "xaxis": "x",
           "y": {
            "bdata": "hlr6NpXOdj4=",
            "dtype": "f8"
           },
           "yaxis": "y"
          },
          {
           "hovertemplate": "<b>%{hovertext}</b><br><br>Country Name=%{text}<br>Year=1989<br>Neerslag (mm/jaar)=%{x}<br>Uitstoot per ton geproduceerd (Mt/ton)=%{y}<extra></extra>",
           "hovertext": [
            "India"
           ],
           "legendgroup": "India",
           "marker": {
            "color": "#EF553B",
            "symbol": "circle"
           },
           "mode": "markers+text",
           "name": "India",
           "orientation": "v",
           "showlegend": true,
           "text": [
            "India"
           ],
           "type": "scatter",
           "x": {
            "bdata": "AAAAAADskEA=",
            "dtype": "f8"
           },
           "xaxis": "x",
           "y": {
            "bdata": "9LYKYVE2kz4=",
            "dtype": "f8"
           },
           "yaxis": "y"
          },
          {
           "hovertemplate": "<b>%{hovertext}</b><br><br>Country Name=%{text}<br>Year=1989<br>Neerslag (mm/jaar)=%{x}<br>Uitstoot per ton geproduceerd (Mt/ton)=%{y}<extra></extra>",
           "hovertext": [
            "Indonesia"
           ],
           "legendgroup": "Indonesia",
           "marker": {
            "color": "#00cc96",
            "symbol": "circle"
           },
           "mode": "markers+text",
           "name": "Indonesia",
           "orientation": "v",
           "showlegend": true,
           "text": [
            "Indonesia"
           ],
           "type": "scatter",
           "x": {
            "bdata": "AAAAAAAcpUA=",
            "dtype": "f8"
           },
           "xaxis": "x",
           "y": {
            "bdata": "MlV3W4NWYz4=",
            "dtype": "f8"
           },
           "yaxis": "y"
          },
          {
           "hovertemplate": "<b>%{hovertext}</b><br><br>Country Name=%{text}<br>Year=1989<br>Neerslag (mm/jaar)=%{x}<br>Uitstoot per ton geproduceerd (Mt/ton)=%{y}<extra></extra>",
           "hovertext": [
            "Japan"
           ],
           "legendgroup": "Japan",
           "marker": {
            "color": "#ab63fa",
            "symbol": "circle"
           },
           "mode": "markers+text",
           "name": "Japan",
           "orientation": "v",
           "showlegend": true,
           "text": [
            "Japan"
           ],
           "type": "scatter",
           "x": {
            "bdata": "AAAAAAAQmkA=",
            "dtype": "f8"
           },
           "xaxis": "x",
           "y": {
            "bdata": "KWZ0RfNldD4=",
            "dtype": "f8"
           },
           "yaxis": "y"
          },
          {
           "hovertemplate": "<b>%{hovertext}</b><br><br>Country Name=%{text}<br>Year=1989<br>Neerslag (mm/jaar)=%{x}<br>Uitstoot per ton geproduceerd (Mt/ton)=%{y}<extra></extra>",
           "hovertext": [
            "Nigeria"
           ],
           "legendgroup": "Nigeria",
           "marker": {
            "color": "#FFA15A",
            "symbol": "circle"
           },
           "mode": "markers+text",
           "name": "Nigeria",
           "orientation": "v",
           "showlegend": true,
           "text": [
            "Nigeria"
           ],
           "type": "scatter",
           "x": {
            "bdata": "AAAAAAD4kUA=",
            "dtype": "f8"
           },
           "xaxis": "x",
           "y": {
            "bdata": "bnFCGs4hRj4=",
            "dtype": "f8"
           },
           "yaxis": "y"
          },
          {
           "hovertemplate": "<b>%{hovertext}</b><br><br>Country Name=%{text}<br>Year=1989<br>Neerslag (mm/jaar)=%{x}<br>Uitstoot per ton geproduceerd (Mt/ton)=%{y}<extra></extra>",
           "hovertext": [
            "South Africa"
           ],
           "legendgroup": "South Africa",
           "marker": {
            "color": "#19d3f3",
            "symbol": "circle"
           },
           "mode": "markers+text",
           "name": "South Africa",
           "orientation": "v",
           "showlegend": true,
           "text": [
            "South Africa"
           ],
           "type": "scatter",
           "x": {
            "bdata": "AAAAAADwfkA=",
            "dtype": "f8"
           },
           "xaxis": "x",
           "y": {
            "bdata": "c2Nv9W7kjj4=",
            "dtype": "f8"
           },
           "yaxis": "y"
          },
          {
           "hovertemplate": "<b>%{hovertext}</b><br><br>Country Name=%{text}<br>Year=1989<br>Neerslag (mm/jaar)=%{x}<br>Uitstoot per ton geproduceerd (Mt/ton)=%{y}<extra></extra>",
           "hovertext": [
            "United States of America"
           ],
           "legendgroup": "United States of America",
           "marker": {
            "color": "#FF6692",
            "symbol": "circle"
           },
           "mode": "markers+text",
           "name": "United States of America",
           "orientation": "v",
           "showlegend": true,
           "text": [
            "United States of America"
           ],
           "type": "scatter",
           "x": {
            "bdata": "AAAAAABYhkA=",
            "dtype": "f8"
           },
           "xaxis": "x",
           "y": {
            "bdata": "GkO+Umdenj4=",
            "dtype": "f8"
           },
           "yaxis": "y"
          }
         ],
         "name": "1989"
        },
        {
         "data": [
          {
           "hovertemplate": "<b>%{hovertext}</b><br><br>Country Name=%{text}<br>Year=1990<br>Neerslag (mm/jaar)=%{x}<br>Uitstoot per ton geproduceerd (Mt/ton)=%{y}<extra></extra>",
           "hovertext": [
            "Brazil"
           ],
           "legendgroup": "Brazil",
           "marker": {
            "color": "#636efa",
            "symbol": "circle"
           },
           "mode": "markers+text",
           "name": "Brazil",
           "orientation": "v",
           "showlegend": true,
           "text": [
            "Brazil"
           ],
           "type": "scatter",
           "x": {
            "bdata": "AAAAAADYm0A=",
            "dtype": "f8"
           },
           "xaxis": "x",
           "y": {
            "bdata": "zzsGVsOrdD4=",
            "dtype": "f8"
           },
           "yaxis": "y"
          },
          {
           "hovertemplate": "<b>%{hovertext}</b><br><br>Country Name=%{text}<br>Year=1990<br>Neerslag (mm/jaar)=%{x}<br>Uitstoot per ton geproduceerd (Mt/ton)=%{y}<extra></extra>",
           "hovertext": [
            "India"
           ],
           "legendgroup": "India",
           "marker": {
            "color": "#EF553B",
            "symbol": "circle"
           },
           "mode": "markers+text",
           "name": "India",
           "orientation": "v",
           "showlegend": true,
           "text": [
            "India"
           ],
           "type": "scatter",
           "x": {
            "bdata": "AAAAAADskEA=",
            "dtype": "f8"
           },
           "xaxis": "x",
           "y": {
            "bdata": "cgMHdVujkT4=",
            "dtype": "f8"
           },
           "yaxis": "y"
          },
          {
           "hovertemplate": "<b>%{hovertext}</b><br><br>Country Name=%{text}<br>Year=1990<br>Neerslag (mm/jaar)=%{x}<br>Uitstoot per ton geproduceerd (Mt/ton)=%{y}<extra></extra>",
           "hovertext": [
            "Indonesia"
           ],
           "legendgroup": "Indonesia",
           "marker": {
            "color": "#00cc96",
            "symbol": "circle"
           },
           "mode": "markers+text",
           "name": "Indonesia",
           "orientation": "v",
           "showlegend": true,
           "text": [
            "Indonesia"
           ],
           "type": "scatter",
           "x": {
            "bdata": "AAAAAAAcpUA=",
            "dtype": "f8"
           },
           "xaxis": "x",
           "y": {
            "bdata": "d+6EvY3hYj4=",
            "dtype": "f8"
           },
           "yaxis": "y"
          },
          {
           "hovertemplate": "<b>%{hovertext}</b><br><br>Country Name=%{text}<br>Year=1990<br>Neerslag (mm/jaar)=%{x}<br>Uitstoot per ton geproduceerd (Mt/ton)=%{y}<extra></extra>",
           "hovertext": [
            "Japan"
           ],
           "legendgroup": "Japan",
           "marker": {
            "color": "#ab63fa",
            "symbol": "circle"
           },
           "mode": "markers+text",
           "name": "Japan",
           "orientation": "v",
           "showlegend": true,
           "text": [
            "Japan"
           ],
           "type": "scatter",
           "x": {
            "bdata": "AAAAAAAQmkA=",
            "dtype": "f8"
           },
           "xaxis": "x",
           "y": {
            "bdata": "TMmugIZMhj4=",
            "dtype": "f8"
           },
           "yaxis": "y"
          },
          {
           "hovertemplate": "<b>%{hovertext}</b><br><br>Country Name=%{text}<br>Year=1990<br>Neerslag (mm/jaar)=%{x}<br>Uitstoot per ton geproduceerd (Mt/ton)=%{y}<extra></extra>",
           "hovertext": [
            "Nigeria"
           ],
           "legendgroup": "Nigeria",
           "marker": {
            "color": "#FFA15A",
            "symbol": "circle"
           },
           "mode": "markers+text",
           "name": "Nigeria",
           "orientation": "v",
           "showlegend": true,
           "text": [
            "Nigeria"
           ],
           "type": "scatter",
           "x": {
            "bdata": "AAAAAAD4kUA=",
            "dtype": "f8"
           },
           "xaxis": "x",
           "y": {
            "bdata": "vphRDwdwRD4=",
            "dtype": "f8"
           },
           "yaxis": "y"
          },
          {
           "hovertemplate": "<b>%{hovertext}</b><br><br>Country Name=%{text}<br>Year=1990<br>Neerslag (mm/jaar)=%{x}<br>Uitstoot per ton geproduceerd (Mt/ton)=%{y}<extra></extra>",
           "hovertext": [
            "South Africa"
           ],
           "legendgroup": "South Africa",
           "marker": {
            "color": "#19d3f3",
            "symbol": "circle"
           },
           "mode": "markers+text",
           "name": "South Africa",
           "orientation": "v",
           "showlegend": true,
           "text": [
            "South Africa"
           ],
           "type": "scatter",
           "x": {
            "bdata": "AAAAAADwfkA=",
            "dtype": "f8"
           },
           "xaxis": "x",
           "y": {
            "bdata": "Vo9z5STyiz4=",
            "dtype": "f8"
           },
           "yaxis": "y"
          },
          {
           "hovertemplate": "<b>%{hovertext}</b><br><br>Country Name=%{text}<br>Year=1990<br>Neerslag (mm/jaar)=%{x}<br>Uitstoot per ton geproduceerd (Mt/ton)=%{y}<extra></extra>",
           "hovertext": [
            "United States of America"
           ],
           "legendgroup": "United States of America",
           "marker": {
            "color": "#FF6692",
            "symbol": "circle"
           },
           "mode": "markers+text",
           "name": "United States of America",
           "orientation": "v",
           "showlegend": true,
           "text": [
            "United States of America"
           ],
           "type": "scatter",
           "x": {
            "bdata": "AAAAAABYhkA=",
            "dtype": "f8"
           },
           "xaxis": "x",
           "y": {
            "bdata": "EGP9hm7Toz4=",
            "dtype": "f8"
           },
           "yaxis": "y"
          }
         ],
         "name": "1990"
        },
        {
         "data": [
          {
           "hovertemplate": "<b>%{hovertext}</b><br><br>Country Name=%{text}<br>Year=1991<br>Neerslag (mm/jaar)=%{x}<br>Uitstoot per ton geproduceerd (Mt/ton)=%{y}<extra></extra>",
           "hovertext": [
            "Brazil"
           ],
           "legendgroup": "Brazil",
           "marker": {
            "color": "#636efa",
            "symbol": "circle"
           },
           "mode": "markers+text",
           "name": "Brazil",
           "orientation": "v",
           "showlegend": true,
           "text": [
            "Brazil"
           ],
           "type": "scatter",
           "x": {
            "bdata": "AAAAAADYm0A=",
            "dtype": "f8"
           },
           "xaxis": "x",
           "y": {
            "bdata": "P8ZJI+YPcz4=",
            "dtype": "f8"
           },
           "yaxis": "y"
          },
          {
           "hovertemplate": "<b>%{hovertext}</b><br><br>Country Name=%{text}<br>Year=1991<br>Neerslag (mm/jaar)=%{x}<br>Uitstoot per ton geproduceerd (Mt/ton)=%{y}<extra></extra>",
           "hovertext": [
            "India"
           ],
           "legendgroup": "India",
           "marker": {
            "color": "#EF553B",
            "symbol": "circle"
           },
           "mode": "markers+text",
           "name": "India",
           "orientation": "v",
           "showlegend": true,
           "text": [
            "India"
           ],
           "type": "scatter",
           "x": {
            "bdata": "AAAAAADskEA=",
            "dtype": "f8"
           },
           "xaxis": "x",
           "y": {
            "bdata": "xnpntGnFkT4=",
            "dtype": "f8"
           },
           "yaxis": "y"
          },
          {
           "hovertemplate": "<b>%{hovertext}</b><br><br>Country Name=%{text}<br>Year=1991<br>Neerslag (mm/jaar)=%{x}<br>Uitstoot per ton geproduceerd (Mt/ton)=%{y}<extra></extra>",
           "hovertext": [
            "Indonesia"
           ],
           "legendgroup": "Indonesia",
           "marker": {
            "color": "#00cc96",
            "symbol": "circle"
           },
           "mode": "markers+text",
           "name": "Indonesia",
           "orientation": "v",
           "showlegend": true,
           "text": [
            "Indonesia"
           ],
           "type": "scatter",
           "x": {
            "bdata": "AAAAAAAcpUA=",
            "dtype": "f8"
           },
           "xaxis": "x",
           "y": {
            "bdata": "DGOz11S0Yz4=",
            "dtype": "f8"
           },
           "yaxis": "y"
          },
          {
           "hovertemplate": "<b>%{hovertext}</b><br><br>Country Name=%{text}<br>Year=1991<br>Neerslag (mm/jaar)=%{x}<br>Uitstoot per ton geproduceerd (Mt/ton)=%{y}<extra></extra>",
           "hovertext": [
            "Japan"
           ],
           "legendgroup": "Japan",
           "marker": {
            "color": "#ab63fa",
            "symbol": "circle"
           },
           "mode": "markers+text",
           "name": "Japan",
           "orientation": "v",
           "showlegend": true,
           "text": [
            "Japan"
           ],
           "type": "scatter",
           "x": {
            "bdata": "AAAAAAAQmkA=",
            "dtype": "f8"
           },
           "xaxis": "x",
           "y": {
            "bdata": "kAm9RPA6hT4=",
            "dtype": "f8"
           },
           "yaxis": "y"
          },
          {
           "hovertemplate": "<b>%{hovertext}</b><br><br>Country Name=%{text}<br>Year=1991<br>Neerslag (mm/jaar)=%{x}<br>Uitstoot per ton geproduceerd (Mt/ton)=%{y}<extra></extra>",
           "hovertext": [
            "Nigeria"
           ],
           "legendgroup": "Nigeria",
           "marker": {
            "color": "#FFA15A",
            "symbol": "circle"
           },
           "mode": "markers+text",
           "name": "Nigeria",
           "orientation": "v",
           "showlegend": true,
           "text": [
            "Nigeria"
           ],
           "type": "scatter",
           "x": {
            "bdata": "AAAAAAD4kUA=",
            "dtype": "f8"
           },
           "xaxis": "x",
           "y": {
            "bdata": "vhduP466QD4=",
            "dtype": "f8"
           },
           "yaxis": "y"
          },
          {
           "hovertemplate": "<b>%{hovertext}</b><br><br>Country Name=%{text}<br>Year=1991<br>Neerslag (mm/jaar)=%{x}<br>Uitstoot per ton geproduceerd (Mt/ton)=%{y}<extra></extra>",
           "hovertext": [
            "South Africa"
           ],
           "legendgroup": "South Africa",
           "marker": {
            "color": "#19d3f3",
            "symbol": "circle"
           },
           "mode": "markers+text",
           "name": "South Africa",
           "orientation": "v",
           "showlegend": true,
           "text": [
            "South Africa"
           ],
           "type": "scatter",
           "x": {
            "bdata": "AAAAAADwfkA=",
            "dtype": "f8"
           },
           "xaxis": "x",
           "y": {
            "bdata": "YLRs4ZVaiT4=",
            "dtype": "f8"
           },
           "yaxis": "y"
          },
          {
           "hovertemplate": "<b>%{hovertext}</b><br><br>Country Name=%{text}<br>Year=1991<br>Neerslag (mm/jaar)=%{x}<br>Uitstoot per ton geproduceerd (Mt/ton)=%{y}<extra></extra>",
           "hovertext": [
            "United States of America"
           ],
           "legendgroup": "United States of America",
           "marker": {
            "color": "#FF6692",
            "symbol": "circle"
           },
           "mode": "markers+text",
           "name": "United States of America",
           "orientation": "v",
           "showlegend": true,
           "text": [
            "United States of America"
           ],
           "type": "scatter",
           "x": {
            "bdata": "AAAAAABYhkA=",
            "dtype": "f8"
           },
           "xaxis": "x",
           "y": {
            "bdata": "hayzm5ZjoT4=",
            "dtype": "f8"
           },
           "yaxis": "y"
          }
         ],
         "name": "1991"
        },
        {
         "data": [
          {
           "hovertemplate": "<b>%{hovertext}</b><br><br>Country Name=%{text}<br>Year=1992<br>Neerslag (mm/jaar)=%{x}<br>Uitstoot per ton geproduceerd (Mt/ton)=%{y}<extra></extra>",
           "hovertext": [
            "Brazil"
           ],
           "legendgroup": "Brazil",
           "marker": {
            "color": "#636efa",
            "symbol": "circle"
           },
           "mode": "markers+text",
           "name": "Brazil",
           "orientation": "v",
           "showlegend": true,
           "text": [
            "Brazil"
           ],
           "type": "scatter",
           "x": {
            "bdata": "AAAAAACEm0A=",
            "dtype": "f8"
           },
           "xaxis": "x",
           "y": {
            "bdata": "i+Ehuckdcj4=",
            "dtype": "f8"
           },
           "yaxis": "y"
          },
          {
           "hovertemplate": "<b>%{hovertext}</b><br><br>Country Name=%{text}<br>Year=1992<br>Neerslag (mm/jaar)=%{x}<br>Uitstoot per ton geproduceerd (Mt/ton)=%{y}<extra></extra>",
           "hovertext": [
            "India"
           ],
           "legendgroup": "India",
           "marker": {
            "color": "#EF553B",
            "symbol": "circle"
           },
           "mode": "markers+text",
           "name": "India",
           "orientation": "v",
           "showlegend": true,
           "text": [
            "India"
           ],
           "type": "scatter",
           "x": {
            "bdata": "AAAAAADskEA=",
            "dtype": "f8"
           },
           "xaxis": "x",
           "y": {
            "bdata": "ZdnbYlVZkD4=",
            "dtype": "f8"
           },
           "yaxis": "y"
          },
          {
           "hovertemplate": "<b>%{hovertext}</b><br><br>Country Name=%{text}<br>Year=1992<br>Neerslag (mm/jaar)=%{x}<br>Uitstoot per ton geproduceerd (Mt/ton)=%{y}<extra></extra>",
           "hovertext": [
            "Indonesia"
           ],
           "legendgroup": "Indonesia",
           "marker": {
            "color": "#00cc96",
            "symbol": "circle"
           },
           "mode": "markers+text",
           "name": "Indonesia",
           "orientation": "v",
           "showlegend": true,
           "text": [
            "Indonesia"
           ],
           "type": "scatter",
           "x": {
            "bdata": "AAAAAAAcpUA=",
            "dtype": "f8"
           },
           "xaxis": "x",
           "y": {
            "bdata": "s61T/43uYj4=",
            "dtype": "f8"
           },
           "yaxis": "y"
          },
          {
           "hovertemplate": "<b>%{hovertext}</b><br><br>Country Name=%{text}<br>Year=1992<br>Neerslag (mm/jaar)=%{x}<br>Uitstoot per ton geproduceerd (Mt/ton)=%{y}<extra></extra>",
           "hovertext": [
            "Japan"
           ],
           "legendgroup": "Japan",
           "marker": {
            "color": "#ab63fa",
            "symbol": "circle"
           },
           "mode": "markers+text",
           "name": "Japan",
           "orientation": "v",
           "showlegend": true,
           "text": [
            "Japan"
           ],
           "type": "scatter",
           "x": {
            "bdata": "AAAAAAAQmkA=",
            "dtype": "f8"
           },
           "xaxis": "x",
           "y": {
            "bdata": "GMFi3gPTgz4=",
            "dtype": "f8"
           },
           "yaxis": "y"
          },
          {
           "hovertemplate": "<b>%{hovertext}</b><br><br>Country Name=%{text}<br>Year=1992<br>Neerslag (mm/jaar)=%{x}<br>Uitstoot per ton geproduceerd (Mt/ton)=%{y}<extra></extra>",
           "hovertext": [
            "Nigeria"
           ],
           "legendgroup": "Nigeria",
           "marker": {
            "color": "#FFA15A",
            "symbol": "circle"
           },
           "mode": "markers+text",
           "name": "Nigeria",
           "orientation": "v",
           "showlegend": true,
           "text": [
            "Nigeria"
           ],
           "type": "scatter",
           "x": {
            "bdata": "AAAAAAD4kUA=",
            "dtype": "f8"
           },
           "xaxis": "x",
           "y": {
            "bdata": "4n5TbDrKNj4=",
            "dtype": "f8"
           },
           "yaxis": "y"
          },
          {
           "hovertemplate": "<b>%{hovertext}</b><br><br>Country Name=%{text}<br>Year=1992<br>Neerslag (mm/jaar)=%{x}<br>Uitstoot per ton geproduceerd (Mt/ton)=%{y}<extra></extra>",
           "hovertext": [
            "South Africa"
           ],
           "legendgroup": "South Africa",
           "marker": {
            "color": "#19d3f3",
            "symbol": "circle"
           },
           "mode": "markers+text",
           "name": "South Africa",
           "orientation": "v",
           "showlegend": true,
           "text": [
            "South Africa"
           ],
           "type": "scatter",
           "x": {
            "bdata": "AAAAAADwfkA=",
            "dtype": "f8"
           },
           "xaxis": "x",
           "y": {
            "bdata": "awIstcfLhj4=",
            "dtype": "f8"
           },
           "yaxis": "y"
          },
          {
           "hovertemplate": "<b>%{hovertext}</b><br><br>Country Name=%{text}<br>Year=1992<br>Neerslag (mm/jaar)=%{x}<br>Uitstoot per ton geproduceerd (Mt/ton)=%{y}<extra></extra>",
           "hovertext": [
            "United States of America"
           ],
           "legendgroup": "United States of America",
           "marker": {
            "color": "#FF6692",
            "symbol": "circle"
           },
           "mode": "markers+text",
           "name": "United States of America",
           "orientation": "v",
           "showlegend": true,
           "text": [
            "United States of America"
           ],
           "type": "scatter",
           "x": {
            "bdata": "AAAAAABYhkA=",
            "dtype": "f8"
           },
           "xaxis": "x",
           "y": {
            "bdata": "QO8TdobHoT4=",
            "dtype": "f8"
           },
           "yaxis": "y"
          }
         ],
         "name": "1992"
        },
        {
         "data": [
          {
           "hovertemplate": "<b>%{hovertext}</b><br><br>Country Name=%{text}<br>Year=1993<br>Neerslag (mm/jaar)=%{x}<br>Uitstoot per ton geproduceerd (Mt/ton)=%{y}<extra></extra>",
           "hovertext": [
            "Brazil"
           ],
           "legendgroup": "Brazil",
           "marker": {
            "color": "#636efa",
            "symbol": "circle"
           },
           "mode": "markers+text",
           "name": "Brazil",
           "orientation": "v",
           "showlegend": true,
           "text": [
            "Brazil"
           ],
           "type": "scatter",
           "x": {
            "bdata": "AAAAAADYm0A=",
            "dtype": "f8"
           },
           "xaxis": "x",
           "y": {
            "bdata": "svYd2BV1cT4=",
            "dtype": "f8"
           },
           "yaxis": "y"
          },
          {
           "hovertemplate": "<b>%{hovertext}</b><br><br>Country Name=%{text}<br>Year=1993<br>Neerslag (mm/jaar)=%{x}<br>Uitstoot per ton geproduceerd (Mt/ton)=%{y}<extra></extra>",
           "hovertext": [
            "India"
           ],
           "legendgroup": "India",
           "marker": {
            "color": "#EF553B",
            "symbol": "circle"
           },
           "mode": "markers+text",
           "name": "India",
           "orientation": "v",
           "showlegend": true,
           "text": [
            "India"
           ],
           "type": "scatter",
           "x": {
            "bdata": "AAAAAADskEA=",
            "dtype": "f8"
           },
           "xaxis": "x",
           "y": {
            "bdata": "b6Y0dGQMkj4=",
            "dtype": "f8"
           },
           "yaxis": "y"
          },
          {
           "hovertemplate": "<b>%{hovertext}</b><br><br>Country Name=%{text}<br>Year=1993<br>Neerslag (mm/jaar)=%{x}<br>Uitstoot per ton geproduceerd (Mt/ton)=%{y}<extra></extra>",
           "hovertext": [
            "Indonesia"
           ],
           "legendgroup": "Indonesia",
           "marker": {
            "color": "#00cc96",
            "symbol": "circle"
           },
           "mode": "markers+text",
           "name": "Indonesia",
           "orientation": "v",
           "showlegend": true,
           "text": [
            "Indonesia"
           ],
           "type": "scatter",
           "x": {
            "bdata": "AAAAAAAcpUA=",
            "dtype": "f8"
           },
           "xaxis": "x",
           "y": {
            "bdata": "6YckcvCVYz4=",
            "dtype": "f8"
           },
           "yaxis": "y"
          },
          {
           "hovertemplate": "<b>%{hovertext}</b><br><br>Country Name=%{text}<br>Year=1993<br>Neerslag (mm/jaar)=%{x}<br>Uitstoot per ton geproduceerd (Mt/ton)=%{y}<extra></extra>",
           "hovertext": [
            "Japan"
           ],
           "legendgroup": "Japan",
           "marker": {
            "color": "#ab63fa",
            "symbol": "circle"
           },
           "mode": "markers+text",
           "name": "Japan",
           "orientation": "v",
           "showlegend": true,
           "text": [
            "Japan"
           ],
           "type": "scatter",
           "x": {
            "bdata": "AAAAAAAQmkA=",
            "dtype": "f8"
           },
           "xaxis": "x",
           "y": {
            "bdata": "mXNpjyCrgj4=",
            "dtype": "f8"
           },
           "yaxis": "y"
          },
          {
           "hovertemplate": "<b>%{hovertext}</b><br><br>Country Name=%{text}<br>Year=1993<br>Neerslag (mm/jaar)=%{x}<br>Uitstoot per ton geproduceerd (Mt/ton)=%{y}<extra></extra>",
           "hovertext": [
            "Nigeria"
           ],
           "legendgroup": "Nigeria",
           "marker": {
            "color": "#FFA15A",
            "symbol": "circle"
           },
           "mode": "markers+text",
           "name": "Nigeria",
           "orientation": "v",
           "showlegend": true,
           "text": [
            "Nigeria"
           ],
           "type": "scatter",
           "x": {
            "bdata": "AAAAAAD4kUA=",
            "dtype": "f8"
           },
           "xaxis": "x",
           "y": {
            "bdata": "QqjSVkkkMT4=",
            "dtype": "f8"
           },
           "yaxis": "y"
          },
          {
           "hovertemplate": "<b>%{hovertext}</b><br><br>Country Name=%{text}<br>Year=1993<br>Neerslag (mm/jaar)=%{x}<br>Uitstoot per ton geproduceerd (Mt/ton)=%{y}<extra></extra>",
           "hovertext": [
            "South Africa"
           ],
           "legendgroup": "South Africa",
           "marker": {
            "color": "#19d3f3",
            "symbol": "circle"
           },
           "mode": "markers+text",
           "name": "South Africa",
           "orientation": "v",
           "showlegend": true,
           "text": [
            "South Africa"
           ],
           "type": "scatter",
           "x": {
            "bdata": "AAAAAADwfkA=",
            "dtype": "f8"
           },
           "xaxis": "x",
           "y": {
            "bdata": "klRC+D6Qjj4=",
            "dtype": "f8"
           },
           "yaxis": "y"
          },
          {
           "hovertemplate": "<b>%{hovertext}</b><br><br>Country Name=%{text}<br>Year=1993<br>Neerslag (mm/jaar)=%{x}<br>Uitstoot per ton geproduceerd (Mt/ton)=%{y}<extra></extra>",
           "hovertext": [
            "United States of America"
           ],
           "legendgroup": "United States of America",
           "marker": {
            "color": "#FF6692",
            "symbol": "circle"
           },
           "mode": "markers+text",
           "name": "United States of America",
           "orientation": "v",
           "showlegend": true,
           "text": [
            "United States of America"
           ],
           "type": "scatter",
           "x": {
            "bdata": "AAAAAABYhkA=",
            "dtype": "f8"
           },
           "xaxis": "x",
           "y": {
            "bdata": "uPmLWWH4oj4=",
            "dtype": "f8"
           },
           "yaxis": "y"
          }
         ],
         "name": "1993"
        },
        {
         "data": [
          {
           "hovertemplate": "<b>%{hovertext}</b><br><br>Country Name=%{text}<br>Year=1994<br>Neerslag (mm/jaar)=%{x}<br>Uitstoot per ton geproduceerd (Mt/ton)=%{y}<extra></extra>",
           "hovertext": [
            "Brazil"
           ],
           "legendgroup": "Brazil",
           "marker": {
            "color": "#636efa",
            "symbol": "circle"
           },
           "mode": "markers+text",
           "name": "Brazil",
           "orientation": "v",
           "showlegend": true,
           "text": [
            "Brazil"
           ],
           "type": "scatter",
           "x": {
            "bdata": "AAAAAADYm0A=",
            "dtype": "f8"
           },
           "xaxis": "x",
           "y": {
            "bdata": "ryVatVcQcD4=",
            "dtype": "f8"
           },
           "yaxis": "y"
          },
          {
           "hovertemplate": "<b>%{hovertext}</b><br><br>Country Name=%{text}<br>Year=1994<br>Neerslag (mm/jaar)=%{x}<br>Uitstoot per ton geproduceerd (Mt/ton)=%{y}<extra></extra>",
           "hovertext": [
            "India"
           ],
           "legendgroup": "India",
           "marker": {
            "color": "#EF553B",
            "symbol": "circle"
           },
           "mode": "markers+text",
           "name": "India",
           "orientation": "v",
           "showlegend": true,
           "text": [
            "India"
           ],
           "type": "scatter",
           "x": {
            "bdata": "AAAAAADskEA=",
            "dtype": "f8"
           },
           "xaxis": "x",
           "y": {
            "bdata": "hUvVWR80kj4=",
            "dtype": "f8"
           },
           "yaxis": "y"
          },
          {
           "hovertemplate": "<b>%{hovertext}</b><br><br>Country Name=%{text}<br>Year=1994<br>Neerslag (mm/jaar)=%{x}<br>Uitstoot per ton geproduceerd (Mt/ton)=%{y}<extra></extra>",
           "hovertext": [
            "Indonesia"
           ],
           "legendgroup": "Indonesia",
           "marker": {
            "color": "#00cc96",
            "symbol": "circle"
           },
           "mode": "markers+text",
           "name": "Indonesia",
           "orientation": "v",
           "showlegend": true,
           "text": [
            "Indonesia"
           ],
           "type": "scatter",
           "x": {
            "bdata": "AAAAAAAcpUA=",
            "dtype": "f8"
           },
           "xaxis": "x",
           "y": {
            "bdata": "AuA9M8GCYz4=",
            "dtype": "f8"
           },
           "yaxis": "y"
          },
          {
           "hovertemplate": "<b>%{hovertext}</b><br><br>Country Name=%{text}<br>Year=1994<br>Neerslag (mm/jaar)=%{x}<br>Uitstoot per ton geproduceerd (Mt/ton)=%{y}<extra></extra>",
           "hovertext": [
            "Japan"
           ],
           "legendgroup": "Japan",
           "marker": {
            "color": "#ab63fa",
            "symbol": "circle"
           },
           "mode": "markers+text",
           "name": "Japan",
           "orientation": "v",
           "showlegend": true,
           "text": [
            "Japan"
           ],
           "type": "scatter",
           "x": {
            "bdata": "AAAAAAAQmkA=",
            "dtype": "f8"
           },
           "xaxis": "x",
           "y": {
            "bdata": "ICO8ARX/fj4=",
            "dtype": "f8"
           },
           "yaxis": "y"
          },
          {
           "hovertemplate": "<b>%{hovertext}</b><br><br>Country Name=%{text}<br>Year=1994<br>Neerslag (mm/jaar)=%{x}<br>Uitstoot per ton geproduceerd (Mt/ton)=%{y}<extra></extra>",
           "hovertext": [
            "Nigeria"
           ],
           "legendgroup": "Nigeria",
           "marker": {
            "color": "#FFA15A",
            "symbol": "circle"
           },
           "mode": "markers+text",
           "name": "Nigeria",
           "orientation": "v",
           "showlegend": true,
           "text": [
            "Nigeria"
           ],
           "type": "scatter",
           "x": {
            "bdata": "AAAAAAD4kUA=",
            "dtype": "f8"
           },
           "xaxis": "x",
           "y": {
            "bdata": "CyymthffLT4=",
            "dtype": "f8"
           },
           "yaxis": "y"
          },
          {
           "hovertemplate": "<b>%{hovertext}</b><br><br>Country Name=%{text}<br>Year=1994<br>Neerslag (mm/jaar)=%{x}<br>Uitstoot per ton geproduceerd (Mt/ton)=%{y}<extra></extra>",
           "hovertext": [
            "South Africa"
           ],
           "legendgroup": "South Africa",
           "marker": {
            "color": "#19d3f3",
            "symbol": "circle"
           },
           "mode": "markers+text",
           "name": "South Africa",
           "orientation": "v",
           "showlegend": true,
           "text": [
            "South Africa"
           ],
           "type": "scatter",
           "x": {
            "bdata": "AAAAAADwfkA=",
            "dtype": "f8"
           },
           "xaxis": "x",
           "y": {
            "bdata": "K9g7eKuniD4=",
            "dtype": "f8"
           },
           "yaxis": "y"
          },
          {
           "hovertemplate": "<b>%{hovertext}</b><br><br>Country Name=%{text}<br>Year=1994<br>Neerslag (mm/jaar)=%{x}<br>Uitstoot per ton geproduceerd (Mt/ton)=%{y}<extra></extra>",
           "hovertext": [
            "United States of America"
           ],
           "legendgroup": "United States of America",
           "marker": {
            "color": "#FF6692",
            "symbol": "circle"
           },
           "mode": "markers+text",
           "name": "United States of America",
           "orientation": "v",
           "showlegend": true,
           "text": [
            "United States of America"
           ],
           "type": "scatter",
           "x": {
            "bdata": "AAAAAABYhkA=",
            "dtype": "f8"
           },
           "xaxis": "x",
           "y": {
            "bdata": "eoQ4z50PoT4=",
            "dtype": "f8"
           },
           "yaxis": "y"
          }
         ],
         "name": "1994"
        },
        {
         "data": [
          {
           "hovertemplate": "<b>%{hovertext}</b><br><br>Country Name=%{text}<br>Year=1995<br>Neerslag (mm/jaar)=%{x}<br>Uitstoot per ton geproduceerd (Mt/ton)=%{y}<extra></extra>",
           "hovertext": [
            "Brazil"
           ],
           "legendgroup": "Brazil",
           "marker": {
            "color": "#636efa",
            "symbol": "circle"
           },
           "mode": "markers+text",
           "name": "Brazil",
           "orientation": "v",
           "showlegend": true,
           "text": [
            "Brazil"
           ],
           "type": "scatter",
           "x": {
            "bdata": "AAAAAADYm0A=",
            "dtype": "f8"
           },
           "xaxis": "x",
           "y": {
            "bdata": "oQ2K17R3bj4=",
            "dtype": "f8"
           },
           "yaxis": "y"
          },
          {
           "hovertemplate": "<b>%{hovertext}</b><br><br>Country Name=%{text}<br>Year=1995<br>Neerslag (mm/jaar)=%{x}<br>Uitstoot per ton geproduceerd (Mt/ton)=%{y}<extra></extra>",
           "hovertext": [
            "India"
           ],
           "legendgroup": "India",
           "marker": {
            "color": "#EF553B",
            "symbol": "circle"
           },
           "mode": "markers+text",
           "name": "India",
           "orientation": "v",
           "showlegend": true,
           "text": [
            "India"
           ],
           "type": "scatter",
           "x": {
            "bdata": "AAAAAADskEA=",
            "dtype": "f8"
           },
           "xaxis": "x",
           "y": {
            "bdata": "odR073DWkD4=",
            "dtype": "f8"
           },
           "yaxis": "y"
          },
          {
           "hovertemplate": "<b>%{hovertext}</b><br><br>Country Name=%{text}<br>Year=1995<br>Neerslag (mm/jaar)=%{x}<br>Uitstoot per ton geproduceerd (Mt/ton)=%{y}<extra></extra>",
           "hovertext": [
            "Indonesia"
           ],
           "legendgroup": "Indonesia",
           "marker": {
            "color": "#00cc96",
            "symbol": "circle"
           },
           "mode": "markers+text",
           "name": "Indonesia",
           "orientation": "v",
           "showlegend": true,
           "text": [
            "Indonesia"
           ],
           "type": "scatter",
           "x": {
            "bdata": "AAAAAAAcpUA=",
            "dtype": "f8"
           },
           "xaxis": "x",
           "y": {
            "bdata": "5VgZxuUhZD4=",
            "dtype": "f8"
           },
           "yaxis": "y"
          },
          {
           "hovertemplate": "<b>%{hovertext}</b><br><br>Country Name=%{text}<br>Year=1995<br>Neerslag (mm/jaar)=%{x}<br>Uitstoot per ton geproduceerd (Mt/ton)=%{y}<extra></extra>",
           "hovertext": [
            "Japan"
           ],
           "legendgroup": "Japan",
           "marker": {
            "color": "#ab63fa",
            "symbol": "circle"
           },
           "mode": "markers+text",
           "name": "Japan",
           "orientation": "v",
           "showlegend": true,
           "text": [
            "Japan"
           ],
           "type": "scatter",
           "x": {
            "bdata": "AAAAAAAQmkA=",
            "dtype": "f8"
           },
           "xaxis": "x",
           "y": {
            "bdata": "TLKRX/l2fj4=",
            "dtype": "f8"
           },
           "yaxis": "y"
          },
          {
           "hovertemplate": "<b>%{hovertext}</b><br><br>Country Name=%{text}<br>Year=1995<br>Neerslag (mm/jaar)=%{x}<br>Uitstoot per ton geproduceerd (Mt/ton)=%{y}<extra></extra>",
           "hovertext": [
            "Nigeria"
           ],
           "legendgroup": "Nigeria",
           "marker": {
            "color": "#FFA15A",
            "symbol": "circle"
           },
           "mode": "markers+text",
           "name": "Nigeria",
           "orientation": "v",
           "showlegend": true,
           "text": [
            "Nigeria"
           ],
           "type": "scatter",
           "x": {
            "bdata": "AAAAAAD4kUA=",
            "dtype": "f8"
           },
           "xaxis": "x",
           "y": {
            "bdata": "M5V2qoUXMD4=",
            "dtype": "f8"
           },
           "yaxis": "y"
          },
          {
           "hovertemplate": "<b>%{hovertext}</b><br><br>Country Name=%{text}<br>Year=1995<br>Neerslag (mm/jaar)=%{x}<br>Uitstoot per ton geproduceerd (Mt/ton)=%{y}<extra></extra>",
           "hovertext": [
            "South Africa"
           ],
           "legendgroup": "South Africa",
           "marker": {
            "color": "#19d3f3",
            "symbol": "circle"
           },
           "mode": "markers+text",
           "name": "South Africa",
           "orientation": "v",
           "showlegend": true,
           "text": [
            "South Africa"
           ],
           "type": "scatter",
           "x": {
            "bdata": "AAAAAADwfkA=",
            "dtype": "f8"
           },
           "xaxis": "x",
           "y": {
            "bdata": "doIUZ/ptiz4=",
            "dtype": "f8"
           },
           "yaxis": "y"
          },
          {
           "hovertemplate": "<b>%{hovertext}</b><br><br>Country Name=%{text}<br>Year=1995<br>Neerslag (mm/jaar)=%{x}<br>Uitstoot per ton geproduceerd (Mt/ton)=%{y}<extra></extra>",
           "hovertext": [
            "United States of America"
           ],
           "legendgroup": "United States of America",
           "marker": {
            "color": "#FF6692",
            "symbol": "circle"
           },
           "mode": "markers+text",
           "name": "United States of America",
           "orientation": "v",
           "showlegend": true,
           "text": [
            "United States of America"
           ],
           "type": "scatter",
           "x": {
            "bdata": "AAAAAABYhkA=",
            "dtype": "f8"
           },
           "xaxis": "x",
           "y": {
            "bdata": "1NXcoR91oT4=",
            "dtype": "f8"
           },
           "yaxis": "y"
          }
         ],
         "name": "1995"
        },
        {
         "data": [
          {
           "hovertemplate": "<b>%{hovertext}</b><br><br>Country Name=%{text}<br>Year=1996<br>Neerslag (mm/jaar)=%{x}<br>Uitstoot per ton geproduceerd (Mt/ton)=%{y}<extra></extra>",
           "hovertext": [
            "Brazil"
           ],
           "legendgroup": "Brazil",
           "marker": {
            "color": "#636efa",
            "symbol": "circle"
           },
           "mode": "markers+text",
           "name": "Brazil",
           "orientation": "v",
           "showlegend": true,
           "text": [
            "Brazil"
           ],
           "type": "scatter",
           "x": {
            "bdata": "AAAAAADYm0A=",
            "dtype": "f8"
           },
           "xaxis": "x",
           "y": {
            "bdata": "hUcGGEIbcT4=",
            "dtype": "f8"
           },
           "yaxis": "y"
          },
          {
           "hovertemplate": "<b>%{hovertext}</b><br><br>Country Name=%{text}<br>Year=1996<br>Neerslag (mm/jaar)=%{x}<br>Uitstoot per ton geproduceerd (Mt/ton)=%{y}<extra></extra>",
           "hovertext": [
            "India"
           ],
           "legendgroup": "India",
           "marker": {
            "color": "#EF553B",
            "symbol": "circle"
           },
           "mode": "markers+text",
           "name": "India",
           "orientation": "v",
           "showlegend": true,
           "text": [
            "India"
           ],
           "type": "scatter",
           "x": {
            "bdata": "AAAAAADskEA=",
            "dtype": "f8"
           },
           "xaxis": "x",
           "y": {
            "bdata": "IlmD5jIhkD4=",
            "dtype": "f8"
           },
           "yaxis": "y"
          },
          {
           "hovertemplate": "<b>%{hovertext}</b><br><br>Country Name=%{text}<br>Year=1996<br>Neerslag (mm/jaar)=%{x}<br>Uitstoot per ton geproduceerd (Mt/ton)=%{y}<extra></extra>",
           "hovertext": [
            "Indonesia"
           ],
           "legendgroup": "Indonesia",
           "marker": {
            "color": "#00cc96",
            "symbol": "circle"
           },
           "mode": "markers+text",
           "name": "Indonesia",
           "orientation": "v",
           "showlegend": true,
           "text": [
            "Indonesia"
           ],
           "type": "scatter",
           "x": {
            "bdata": "AAAAAAAcpUA=",
            "dtype": "f8"
           },
           "xaxis": "x",
           "y": {
            "bdata": "tdfP93hBZT4=",
            "dtype": "f8"
           },
           "yaxis": "y"
          },
          {
           "hovertemplate": "<b>%{hovertext}</b><br><br>Country Name=%{text}<br>Year=1996<br>Neerslag (mm/jaar)=%{x}<br>Uitstoot per ton geproduceerd (Mt/ton)=%{y}<extra></extra>",
           "hovertext": [
            "Japan"
           ],
           "legendgroup": "Japan",
           "marker": {
            "color": "#ab63fa",
            "symbol": "circle"
           },
           "mode": "markers+text",
           "name": "Japan",
           "orientation": "v",
           "showlegend": true,
           "text": [
            "Japan"
           ],
           "type": "scatter",
           "x": {
            "bdata": "AAAAAAAQmkA=",
            "dtype": "f8"
           },
           "xaxis": "x",
           "y": {
            "bdata": "GZGBvWmVgD4=",
            "dtype": "f8"
           },
           "yaxis": "y"
          },
          {
           "hovertemplate": "<b>%{hovertext}</b><br><br>Country Name=%{text}<br>Year=1996<br>Neerslag (mm/jaar)=%{x}<br>Uitstoot per ton geproduceerd (Mt/ton)=%{y}<extra></extra>",
           "hovertext": [
            "Nigeria"
           ],
           "legendgroup": "Nigeria",
           "marker": {
            "color": "#FFA15A",
            "symbol": "circle"
           },
           "mode": "markers+text",
           "name": "Nigeria",
           "orientation": "v",
           "showlegend": true,
           "text": [
            "Nigeria"
           ],
           "type": "scatter",
           "x": {
            "bdata": "AAAAAAD4kUA=",
            "dtype": "f8"
           },
           "xaxis": "x",
           "y": {
            "bdata": "oqYh8nvDMT4=",
            "dtype": "f8"
           },
           "yaxis": "y"
          },
          {
           "hovertemplate": "<b>%{hovertext}</b><br><br>Country Name=%{text}<br>Year=1996<br>Neerslag (mm/jaar)=%{x}<br>Uitstoot per ton geproduceerd (Mt/ton)=%{y}<extra></extra>",
           "hovertext": [
            "South Africa"
           ],
           "legendgroup": "South Africa",
           "marker": {
            "color": "#19d3f3",
            "symbol": "circle"
           },
           "mode": "markers+text",
           "name": "South Africa",
           "orientation": "v",
           "showlegend": true,
           "text": [
            "South Africa"
           ],
           "type": "scatter",
           "x": {
            "bdata": "AAAAAADwfkA=",
            "dtype": "f8"
           },
           "xaxis": "x",
           "y": {
            "bdata": "3oqa/Q14hz4=",
            "dtype": "f8"
           },
           "yaxis": "y"
          },
          {
           "hovertemplate": "<b>%{hovertext}</b><br><br>Country Name=%{text}<br>Year=1996<br>Neerslag (mm/jaar)=%{x}<br>Uitstoot per ton geproduceerd (Mt/ton)=%{y}<extra></extra>",
           "hovertext": [
            "United States of America"
           ],
           "legendgroup": "United States of America",
           "marker": {
            "color": "#FF6692",
            "symbol": "circle"
           },
           "mode": "markers+text",
           "name": "United States of America",
           "orientation": "v",
           "showlegend": true,
           "text": [
            "United States of America"
           ],
           "type": "scatter",
           "x": {
            "bdata": "AAAAAABYhkA=",
            "dtype": "f8"
           },
           "xaxis": "x",
           "y": {
            "bdata": "yk+BctlQoT4=",
            "dtype": "f8"
           },
           "yaxis": "y"
          }
         ],
         "name": "1996"
        },
        {
         "data": [
          {
           "hovertemplate": "<b>%{hovertext}</b><br><br>Country Name=%{text}<br>Year=1997<br>Neerslag (mm/jaar)=%{x}<br>Uitstoot per ton geproduceerd (Mt/ton)=%{y}<extra></extra>",
           "hovertext": [
            "Brazil"
           ],
           "legendgroup": "Brazil",
           "marker": {
            "color": "#636efa",
            "symbol": "circle"
           },
           "mode": "markers+text",
           "name": "Brazil",
           "orientation": "v",
           "showlegend": true,
           "text": [
            "Brazil"
           ],
           "type": "scatter",
           "x": {
            "bdata": "AAAAAACEm0A=",
            "dtype": "f8"
           },
           "xaxis": "x",
           "y": {
            "bdata": "4eDWekGBbz4=",
            "dtype": "f8"
           },
           "yaxis": "y"
          },
          {
           "hovertemplate": "<b>%{hovertext}</b><br><br>Country Name=%{text}<br>Year=1997<br>Neerslag (mm/jaar)=%{x}<br>Uitstoot per ton geproduceerd (Mt/ton)=%{y}<extra></extra>",
           "hovertext": [
            "India"
           ],
           "legendgroup": "India",
           "marker": {
            "color": "#EF553B",
            "symbol": "circle"
           },
           "mode": "markers+text",
           "name": "India",
           "orientation": "v",
           "showlegend": true,
           "text": [
            "India"
           ],
           "type": "scatter",
           "x": {
            "bdata": "AAAAAADskEA=",
            "dtype": "f8"
           },
           "xaxis": "x",
           "y": {
            "bdata": "ZOZw0lGjkD4=",
            "dtype": "f8"
           },
           "yaxis": "y"
          },
          {
           "hovertemplate": "<b>%{hovertext}</b><br><br>Country Name=%{text}<br>Year=1997<br>Neerslag (mm/jaar)=%{x}<br>Uitstoot per ton geproduceerd (Mt/ton)=%{y}<extra></extra>",
           "hovertext": [
            "Indonesia"
           ],
           "legendgroup": "Indonesia",
           "marker": {
            "color": "#00cc96",
            "symbol": "circle"
           },
           "mode": "markers+text",
           "name": "Indonesia",
           "orientation": "v",
           "showlegend": true,
           "text": [
            "Indonesia"
           ],
           "type": "scatter",
           "x": {
            "bdata": "AAAAAAAcpUA=",
            "dtype": "f8"
           },
           "xaxis": "x",
           "y": {
            "bdata": "7FsdTHO6Yz4=",
            "dtype": "f8"
           },
           "yaxis": "y"
          },
          {
           "hovertemplate": "<b>%{hovertext}</b><br><br>Country Name=%{text}<br>Year=1997<br>Neerslag (mm/jaar)=%{x}<br>Uitstoot per ton geproduceerd (Mt/ton)=%{y}<extra></extra>",
           "hovertext": [
            "Japan"
           ],
           "legendgroup": "Japan",
           "marker": {
            "color": "#ab63fa",
            "symbol": "circle"
           },
           "mode": "markers+text",
           "name": "Japan",
           "orientation": "v",
           "showlegend": true,
           "text": [
            "Japan"
           ],
           "type": "scatter",
           "x": {
            "bdata": "AAAAAAAQmkA=",
            "dtype": "f8"
           },
           "xaxis": "x",
           "y": {
            "bdata": "eEV/iUxKgD4=",
            "dtype": "f8"
           },
           "yaxis": "y"
          },
          {
           "hovertemplate": "<b>%{hovertext}</b><br><br>Country Name=%{text}<br>Year=1997<br>Neerslag (mm/jaar)=%{x}<br>Uitstoot per ton geproduceerd (Mt/ton)=%{y}<extra></extra>",
           "hovertext": [
            "Nigeria"
           ],
           "legendgroup": "Nigeria",
           "marker": {
            "color": "#FFA15A",
            "symbol": "circle"
           },
           "mode": "markers+text",
           "name": "Nigeria",
           "orientation": "v",
           "showlegend": true,
           "text": [
            "Nigeria"
           ],
           "type": "scatter",
           "x": {
            "bdata": "AAAAAAD4kUA=",
            "dtype": "f8"
           },
           "xaxis": "x",
           "y": {
            "bdata": "+yogKTPvMj4=",
            "dtype": "f8"
           },
           "yaxis": "y"
          },
          {
           "hovertemplate": "<b>%{hovertext}</b><br><br>Country Name=%{text}<br>Year=1997<br>Neerslag (mm/jaar)=%{x}<br>Uitstoot per ton geproduceerd (Mt/ton)=%{y}<extra></extra>",
           "hovertext": [
            "South Africa"
           ],
           "legendgroup": "South Africa",
           "marker": {
            "color": "#19d3f3",
            "symbol": "circle"
           },
           "mode": "markers+text",
           "name": "South Africa",
           "orientation": "v",
           "showlegend": true,
           "text": [
            "South Africa"
           ],
           "type": "scatter",
           "x": {
            "bdata": "AAAAAADwfkA=",
            "dtype": "f8"
           },
           "xaxis": "x",
           "y": {
            "bdata": "iHnzUE5Vhz4=",
            "dtype": "f8"
           },
           "yaxis": "y"
          },
          {
           "hovertemplate": "<b>%{hovertext}</b><br><br>Country Name=%{text}<br>Year=1997<br>Neerslag (mm/jaar)=%{x}<br>Uitstoot per ton geproduceerd (Mt/ton)=%{y}<extra></extra>",
           "hovertext": [
            "United States of America"
           ],
           "legendgroup": "United States of America",
           "marker": {
            "color": "#FF6692",
            "symbol": "circle"
           },
           "mode": "markers+text",
           "name": "United States of America",
           "orientation": "v",
           "showlegend": true,
           "text": [
            "United States of America"
           ],
           "type": "scatter",
           "x": {
            "bdata": "AAAAAABYhkA=",
            "dtype": "f8"
           },
           "xaxis": "x",
           "y": {
            "bdata": "ETl9Z22yoT4=",
            "dtype": "f8"
           },
           "yaxis": "y"
          }
         ],
         "name": "1997"
        },
        {
         "data": [
          {
           "hovertemplate": "<b>%{hovertext}</b><br><br>Country Name=%{text}<br>Year=1998<br>Neerslag (mm/jaar)=%{x}<br>Uitstoot per ton geproduceerd (Mt/ton)=%{y}<extra></extra>",
           "hovertext": [
            "Brazil"
           ],
           "legendgroup": "Brazil",
           "marker": {
            "color": "#636efa",
            "symbol": "circle"
           },
           "mode": "markers+text",
           "name": "Brazil",
           "orientation": "v",
           "showlegend": true,
           "text": [
            "Brazil"
           ],
           "type": "scatter",
           "x": {
            "bdata": "AAAAAADYm0A=",
            "dtype": "f8"
           },
           "xaxis": "x",
           "y": {
            "bdata": "SwVk1Yj2bj4=",
            "dtype": "f8"
           },
           "yaxis": "y"
          },
          {
           "hovertemplate": "<b>%{hovertext}</b><br><br>Country Name=%{text}<br>Year=1998<br>Neerslag (mm/jaar)=%{x}<br>Uitstoot per ton geproduceerd (Mt/ton)=%{y}<extra></extra>",
           "hovertext": [
            "India"
           ],
           "legendgroup": "India",
           "marker": {
            "color": "#EF553B",
            "symbol": "circle"
           },
           "mode": "markers+text",
           "name": "India",
           "orientation": "v",
           "showlegend": true,
           "text": [
            "India"
           ],
           "type": "scatter",
           "x": {
            "bdata": "AAAAAADskEA=",
            "dtype": "f8"
           },
           "xaxis": "x",
           "y": {
            "bdata": "KsC740W/kD4=",
            "dtype": "f8"
           },
           "yaxis": "y"
          },
          {
           "hovertemplate": "<b>%{hovertext}</b><br><br>Country Name=%{text}<br>Year=1998<br>Neerslag (mm/jaar)=%{x}<br>Uitstoot per ton geproduceerd (Mt/ton)=%{y}<extra></extra>",
           "hovertext": [
            "Indonesia"
           ],
           "legendgroup": "Indonesia",
           "marker": {
            "color": "#00cc96",
            "symbol": "circle"
           },
           "mode": "markers+text",
           "name": "Indonesia",
           "orientation": "v",
           "showlegend": true,
           "text": [
            "Indonesia"
           ],
           "type": "scatter",
           "x": {
            "bdata": "AAAAAAAcpUA=",
            "dtype": "f8"
           },
           "xaxis": "x",
           "y": {
            "bdata": "MOuNWKe9ZD4=",
            "dtype": "f8"
           },
           "yaxis": "y"
          },
          {
           "hovertemplate": "<b>%{hovertext}</b><br><br>Country Name=%{text}<br>Year=1998<br>Neerslag (mm/jaar)=%{x}<br>Uitstoot per ton geproduceerd (Mt/ton)=%{y}<extra></extra>",
           "hovertext": [
            "Japan"
           ],
           "legendgroup": "Japan",
           "marker": {
            "color": "#ab63fa",
            "symbol": "circle"
           },
           "mode": "markers+text",
           "name": "Japan",
           "orientation": "v",
           "showlegend": true,
           "text": [
            "Japan"
           ],
           "type": "scatter",
           "x": {
            "bdata": "AAAAAAAQmkA=",
            "dtype": "f8"
           },
           "xaxis": "x",
           "y": {
            "bdata": "dTh70A9wgD4=",
            "dtype": "f8"
           },
           "yaxis": "y"
          },
          {
           "hovertemplate": "<b>%{hovertext}</b><br><br>Country Name=%{text}<br>Year=1998<br>Neerslag (mm/jaar)=%{x}<br>Uitstoot per ton geproduceerd (Mt/ton)=%{y}<extra></extra>",
           "hovertext": [
            "Nigeria"
           ],
           "legendgroup": "Nigeria",
           "marker": {
            "color": "#FFA15A",
            "symbol": "circle"
           },
           "mode": "markers+text",
           "name": "Nigeria",
           "orientation": "v",
           "showlegend": true,
           "text": [
            "Nigeria"
           ],
           "type": "scatter",
           "x": {
            "bdata": "AAAAAAD4kUA=",
            "dtype": "f8"
           },
           "xaxis": "x",
           "y": {
            "bdata": "mdEFvBvAOT4=",
            "dtype": "f8"
           },
           "yaxis": "y"
          },
          {
           "hovertemplate": "<b>%{hovertext}</b><br><br>Country Name=%{text}<br>Year=1998<br>Neerslag (mm/jaar)=%{x}<br>Uitstoot per ton geproduceerd (Mt/ton)=%{y}<extra></extra>",
           "hovertext": [
            "South Africa"
           ],
           "legendgroup": "South Africa",
           "marker": {
            "color": "#19d3f3",
            "symbol": "circle"
           },
           "mode": "markers+text",
           "name": "South Africa",
           "orientation": "v",
           "showlegend": true,
           "text": [
            "South Africa"
           ],
           "type": "scatter",
           "x": {
            "bdata": "AAAAAADwfkA=",
            "dtype": "f8"
           },
           "xaxis": "x",
           "y": {
            "bdata": "s4To2ocRgD4=",
            "dtype": "f8"
           },
           "yaxis": "y"
          },
          {
           "hovertemplate": "<b>%{hovertext}</b><br><br>Country Name=%{text}<br>Year=1998<br>Neerslag (mm/jaar)=%{x}<br>Uitstoot per ton geproduceerd (Mt/ton)=%{y}<extra></extra>",
           "hovertext": [
            "United States of America"
           ],
           "legendgroup": "United States of America",
           "marker": {
            "color": "#FF6692",
            "symbol": "circle"
           },
           "mode": "markers+text",
           "name": "United States of America",
           "orientation": "v",
           "showlegend": true,
           "text": [
            "United States of America"
           ],
           "type": "scatter",
           "x": {
            "bdata": "AAAAAABYhkA=",
            "dtype": "f8"
           },
           "xaxis": "x",
           "y": {
            "bdata": "/vwexN3poD4=",
            "dtype": "f8"
           },
           "yaxis": "y"
          }
         ],
         "name": "1998"
        },
        {
         "data": [
          {
           "hovertemplate": "<b>%{hovertext}</b><br><br>Country Name=%{text}<br>Year=1999<br>Neerslag (mm/jaar)=%{x}<br>Uitstoot per ton geproduceerd (Mt/ton)=%{y}<extra></extra>",
           "hovertext": [
            "Brazil"
           ],
           "legendgroup": "Brazil",
           "marker": {
            "color": "#636efa",
            "symbol": "circle"
           },
           "mode": "markers+text",
           "name": "Brazil",
           "orientation": "v",
           "showlegend": true,
           "text": [
            "Brazil"
           ],
           "type": "scatter",
           "x": {
            "bdata": "AAAAAADYm0A=",
            "dtype": "f8"
           },
           "xaxis": "x",
           "y": {
            "bdata": "LKBsCpyybj4=",
            "dtype": "f8"
           },
           "yaxis": "y"
          },
          {
           "hovertemplate": "<b>%{hovertext}</b><br><br>Country Name=%{text}<br>Year=1999<br>Neerslag (mm/jaar)=%{x}<br>Uitstoot per ton geproduceerd (Mt/ton)=%{y}<extra></extra>",
           "hovertext": [
            "India"
           ],
           "legendgroup": "India",
           "marker": {
            "color": "#EF553B",
            "symbol": "circle"
           },
           "mode": "markers+text",
           "name": "India",
           "orientation": "v",
           "showlegend": true,
           "text": [
            "India"
           ],
           "type": "scatter",
           "x": {
            "bdata": "AAAAAADskEA=",
            "dtype": "f8"
           },
           "xaxis": "x",
           "y": {
            "bdata": "wtCj+NbHjz4=",
            "dtype": "f8"
           },
           "yaxis": "y"
          },
          {
           "hovertemplate": "<b>%{hovertext}</b><br><br>Country Name=%{text}<br>Year=1999<br>Neerslag (mm/jaar)=%{x}<br>Uitstoot per ton geproduceerd (Mt/ton)=%{y}<extra></extra>",
           "hovertext": [
            "Indonesia"
           ],
           "legendgroup": "Indonesia",
           "marker": {
            "color": "#00cc96",
            "symbol": "circle"
           },
           "mode": "markers+text",
           "name": "Indonesia",
           "orientation": "v",
           "showlegend": true,
           "text": [
            "Indonesia"
           ],
           "type": "scatter",
           "x": {
            "bdata": "AAAAAAAcpUA=",
            "dtype": "f8"
           },
           "xaxis": "x",
           "y": {
            "bdata": "f3K5taGyZj4=",
            "dtype": "f8"
           },
           "yaxis": "y"
          },
          {
           "hovertemplate": "<b>%{hovertext}</b><br><br>Country Name=%{text}<br>Year=1999<br>Neerslag (mm/jaar)=%{x}<br>Uitstoot per ton geproduceerd (Mt/ton)=%{y}<extra></extra>",
           "hovertext": [
            "Japan"
           ],
           "legendgroup": "Japan",
           "marker": {
            "color": "#ab63fa",
            "symbol": "circle"
           },
           "mode": "markers+text",
           "name": "Japan",
           "orientation": "v",
           "showlegend": true,
           "text": [
            "Japan"
           ],
           "type": "scatter",
           "x": {
            "bdata": "AAAAAAAQmkA=",
            "dtype": "f8"
           },
           "xaxis": "x",
           "y": {
            "bdata": "VoNJHUVogT4=",
            "dtype": "f8"
           },
           "yaxis": "y"
          },
          {
           "hovertemplate": "<b>%{hovertext}</b><br><br>Country Name=%{text}<br>Year=1999<br>Neerslag (mm/jaar)=%{x}<br>Uitstoot per ton geproduceerd (Mt/ton)=%{y}<extra></extra>",
           "hovertext": [
            "Nigeria"
           ],
           "legendgroup": "Nigeria",
           "marker": {
            "color": "#FFA15A",
            "symbol": "circle"
           },
           "mode": "markers+text",
           "name": "Nigeria",
           "orientation": "v",
           "showlegend": true,
           "text": [
            "Nigeria"
           ],
           "type": "scatter",
           "x": {
            "bdata": "AAAAAAD4kUA=",
            "dtype": "f8"
           },
           "xaxis": "x",
           "y": {
            "bdata": "PAA5kG4eRD4=",
            "dtype": "f8"
           },
           "yaxis": "y"
          },
          {
           "hovertemplate": "<b>%{hovertext}</b><br><br>Country Name=%{text}<br>Year=1999<br>Neerslag (mm/jaar)=%{x}<br>Uitstoot per ton geproduceerd (Mt/ton)=%{y}<extra></extra>",
           "hovertext": [
            "South Africa"
           ],
           "legendgroup": "South Africa",
           "marker": {
            "color": "#19d3f3",
            "symbol": "circle"
           },
           "mode": "markers+text",
           "name": "South Africa",
           "orientation": "v",
           "showlegend": true,
           "text": [
            "South Africa"
           ],
           "type": "scatter",
           "x": {
            "bdata": "AAAAAADwfkA=",
            "dtype": "f8"
           },
           "xaxis": "x",
           "y": {
            "bdata": "fG/tMgC8fz4=",
            "dtype": "f8"
           },
           "yaxis": "y"
          },
          {
           "hovertemplate": "<b>%{hovertext}</b><br><br>Country Name=%{text}<br>Year=1999<br>Neerslag (mm/jaar)=%{x}<br>Uitstoot per ton geproduceerd (Mt/ton)=%{y}<extra></extra>",
           "hovertext": [
            "United States of America"
           ],
           "legendgroup": "United States of America",
           "marker": {
            "color": "#FF6692",
            "symbol": "circle"
           },
           "mode": "markers+text",
           "name": "United States of America",
           "orientation": "v",
           "showlegend": true,
           "text": [
            "United States of America"
           ],
           "type": "scatter",
           "x": {
            "bdata": "AAAAAABYhkA=",
            "dtype": "f8"
           },
           "xaxis": "x",
           "y": {
            "bdata": "2g0R3zHznz4=",
            "dtype": "f8"
           },
           "yaxis": "y"
          }
         ],
         "name": "1999"
        },
        {
         "data": [
          {
           "hovertemplate": "<b>%{hovertext}</b><br><br>Country Name=%{text}<br>Year=2000<br>Neerslag (mm/jaar)=%{x}<br>Uitstoot per ton geproduceerd (Mt/ton)=%{y}<extra></extra>",
           "hovertext": [
            "Brazil"
           ],
           "legendgroup": "Brazil",
           "marker": {
            "color": "#636efa",
            "symbol": "circle"
           },
           "mode": "markers+text",
           "name": "Brazil",
           "orientation": "v",
           "showlegend": true,
           "text": [
            "Brazil"
           ],
           "type": "scatter",
           "x": {
            "bdata": "AAAAAADYm0A=",
            "dtype": "f8"
           },
           "xaxis": "x",
           "y": {
            "bdata": "8l5l2pMSbj4=",
            "dtype": "f8"
           },
           "yaxis": "y"
          },
          {
           "hovertemplate": "<b>%{hovertext}</b><br><br>Country Name=%{text}<br>Year=2000<br>Neerslag (mm/jaar)=%{x}<br>Uitstoot per ton geproduceerd (Mt/ton)=%{y}<extra></extra>",
           "hovertext": [
            "India"
           ],
           "legendgroup": "India",
           "marker": {
            "color": "#EF553B",
            "symbol": "circle"
           },
           "mode": "markers+text",
           "name": "India",
           "orientation": "v",
           "showlegend": true,
           "text": [
            "India"
           ],
           "type": "scatter",
           "x": {
            "bdata": "AAAAAADskEA=",
            "dtype": "f8"
           },
           "xaxis": "x",
           "y": {
            "bdata": "nwRkeLmCkD4=",
            "dtype": "f8"
           },
           "yaxis": "y"
          },
          {
           "hovertemplate": "<b>%{hovertext}</b><br><br>Country Name=%{text}<br>Year=2000<br>Neerslag (mm/jaar)=%{x}<br>Uitstoot per ton geproduceerd (Mt/ton)=%{y}<extra></extra>",
           "hovertext": [
            "Indonesia"
           ],
           "legendgroup": "Indonesia",
           "marker": {
            "color": "#00cc96",
            "symbol": "circle"
           },
           "mode": "markers+text",
           "name": "Indonesia",
           "orientation": "v",
           "showlegend": true,
           "text": [
            "Indonesia"
           ],
           "type": "scatter",
           "x": {
            "bdata": "AAAAAAAcpUA=",
            "dtype": "f8"
           },
           "xaxis": "x",
           "y": {
            "bdata": "L9Us+/uGZD4=",
            "dtype": "f8"
           },
           "yaxis": "y"
          },
          {
           "hovertemplate": "<b>%{hovertext}</b><br><br>Country Name=%{text}<br>Year=2000<br>Neerslag (mm/jaar)=%{x}<br>Uitstoot per ton geproduceerd (Mt/ton)=%{y}<extra></extra>",
           "hovertext": [
            "Japan"
           ],
           "legendgroup": "Japan",
           "marker": {
            "color": "#ab63fa",
            "symbol": "circle"
           },
           "mode": "markers+text",
           "name": "Japan",
           "orientation": "v",
           "showlegend": true,
           "text": [
            "Japan"
           ],
           "type": "scatter",
           "x": {
            "bdata": "AAAAAAAQmkA=",
            "dtype": "f8"
           },
           "xaxis": "x",
           "y": {
            "bdata": "w9Qil8Qfgz4=",
            "dtype": "f8"
           },
           "yaxis": "y"
          },
          {
           "hovertemplate": "<b>%{hovertext}</b><br><br>Country Name=%{text}<br>Year=2000<br>Neerslag (mm/jaar)=%{x}<br>Uitstoot per ton geproduceerd (Mt/ton)=%{y}<extra></extra>",
           "hovertext": [
            "Nigeria"
           ],
           "legendgroup": "Nigeria",
           "marker": {
            "color": "#FFA15A",
            "symbol": "circle"
           },
           "mode": "markers+text",
           "name": "Nigeria",
           "orientation": "v",
           "showlegend": true,
           "text": [
            "Nigeria"
           ],
           "type": "scatter",
           "x": {
            "bdata": "AAAAAAD4kUA=",
            "dtype": "f8"
           },
           "xaxis": "x",
           "y": {
            "bdata": "/+7wUISiQz4=",
            "dtype": "f8"
           },
           "yaxis": "y"
          },
          {
           "hovertemplate": "<b>%{hovertext}</b><br><br>Country Name=%{text}<br>Year=2000<br>Neerslag (mm/jaar)=%{x}<br>Uitstoot per ton geproduceerd (Mt/ton)=%{y}<extra></extra>",
           "hovertext": [
            "South Africa"
           ],
           "legendgroup": "South Africa",
           "marker": {
            "color": "#19d3f3",
            "symbol": "circle"
           },
           "mode": "markers+text",
           "name": "South Africa",
           "orientation": "v",
           "showlegend": true,
           "text": [
            "South Africa"
           ],
           "type": "scatter",
           "x": {
            "bdata": "AAAAAADwfkA=",
            "dtype": "f8"
           },
           "xaxis": "x",
           "y": {
            "bdata": "XOTKWsDygT4=",
            "dtype": "f8"
           },
           "yaxis": "y"
          },
          {
           "hovertemplate": "<b>%{hovertext}</b><br><br>Country Name=%{text}<br>Year=2000<br>Neerslag (mm/jaar)=%{x}<br>Uitstoot per ton geproduceerd (Mt/ton)=%{y}<extra></extra>",
           "hovertext": [
            "United States of America"
           ],
           "legendgroup": "United States of America",
           "marker": {
            "color": "#FF6692",
            "symbol": "circle"
           },
           "mode": "markers+text",
           "name": "United States of America",
           "orientation": "v",
           "showlegend": true,
           "text": [
            "United States of America"
           ],
           "type": "scatter",
           "x": {
            "bdata": "AAAAAABYhkA=",
            "dtype": "f8"
           },
           "xaxis": "x",
           "y": {
            "bdata": "rIRD4GnrnT4=",
            "dtype": "f8"
           },
           "yaxis": "y"
          }
         ],
         "name": "2000"
        },
        {
         "data": [
          {
           "hovertemplate": "<b>%{hovertext}</b><br><br>Country Name=%{text}<br>Year=2001<br>Neerslag (mm/jaar)=%{x}<br>Uitstoot per ton geproduceerd (Mt/ton)=%{y}<extra></extra>",
           "hovertext": [
            "Brazil"
           ],
           "legendgroup": "Brazil",
           "marker": {
            "color": "#636efa",
            "symbol": "circle"
           },
           "mode": "markers+text",
           "name": "Brazil",
           "orientation": "v",
           "showlegend": true,
           "text": [
            "Brazil"
           ],
           "type": "scatter",
           "x": {
            "bdata": "AAAAAADYm0A=",
            "dtype": "f8"
           },
           "xaxis": "x",
           "y": {
            "bdata": "ZvaIO4I8cD4=",
            "dtype": "f8"
           },
           "yaxis": "y"
          },
          {
           "hovertemplate": "<b>%{hovertext}</b><br><br>Country Name=%{text}<br>Year=2001<br>Neerslag (mm/jaar)=%{x}<br>Uitstoot per ton geproduceerd (Mt/ton)=%{y}<extra></extra>",
           "hovertext": [
            "India"
           ],
           "legendgroup": "India",
           "marker": {
            "color": "#EF553B",
            "symbol": "circle"
           },
           "mode": "markers+text",
           "name": "India",
           "orientation": "v",
           "showlegend": true,
           "text": [
            "India"
           ],
           "type": "scatter",
           "x": {
            "bdata": "AAAAAADskEA=",
            "dtype": "f8"
           },
           "xaxis": "x",
           "y": {
            "bdata": "TvpftNXCjz4=",
            "dtype": "f8"
           },
           "yaxis": "y"
          },
          {
           "hovertemplate": "<b>%{hovertext}</b><br><br>Country Name=%{text}<br>Year=2001<br>Neerslag (mm/jaar)=%{x}<br>Uitstoot per ton geproduceerd (Mt/ton)=%{y}<extra></extra>",
           "hovertext": [
            "Indonesia"
           ],
           "legendgroup": "Indonesia",
           "marker": {
            "color": "#00cc96",
            "symbol": "circle"
           },
           "mode": "markers+text",
           "name": "Indonesia",
           "orientation": "v",
           "showlegend": true,
           "text": [
            "Indonesia"
           ],
           "type": "scatter",
           "x": {
            "bdata": "AAAAAAAcpUA=",
            "dtype": "f8"
           },
           "xaxis": "x",
           "y": {
            "bdata": "32yBYpkqZD4=",
            "dtype": "f8"
           },
           "yaxis": "y"
          },
          {
           "hovertemplate": "<b>%{hovertext}</b><br><br>Country Name=%{text}<br>Year=2001<br>Neerslag (mm/jaar)=%{x}<br>Uitstoot per ton geproduceerd (Mt/ton)=%{y}<extra></extra>",
           "hovertext": [
            "Japan"
           ],
           "legendgroup": "Japan",
           "marker": {
            "color": "#ab63fa",
            "symbol": "circle"
           },
           "mode": "markers+text",
           "name": "Japan",
           "orientation": "v",
           "showlegend": true,
           "text": [
            "Japan"
           ],
           "type": "scatter",
           "x": {
            "bdata": "AAAAAAAQmkA=",
            "dtype": "f8"
           },
           "xaxis": "x",
           "y": {
            "bdata": "ir2jHrDEgz4=",
            "dtype": "f8"
           },
           "yaxis": "y"
          },
          {
           "hovertemplate": "<b>%{hovertext}</b><br><br>Country Name=%{text}<br>Year=2001<br>Neerslag (mm/jaar)=%{x}<br>Uitstoot per ton geproduceerd (Mt/ton)=%{y}<extra></extra>",
           "hovertext": [
            "Nigeria"
           ],
           "legendgroup": "Nigeria",
           "marker": {
            "color": "#FFA15A",
            "symbol": "circle"
           },
           "mode": "markers+text",
           "name": "Nigeria",
           "orientation": "v",
           "showlegend": true,
           "text": [
            "Nigeria"
           ],
           "type": "scatter",
           "x": {
            "bdata": "AAAAAAD4kUA=",
            "dtype": "f8"
           },
           "xaxis": "x",
           "y": {
            "bdata": "t4D/VyKGQz4=",
            "dtype": "f8"
           },
           "yaxis": "y"
          },
          {
           "hovertemplate": "<b>%{hovertext}</b><br><br>Country Name=%{text}<br>Year=2001<br>Neerslag (mm/jaar)=%{x}<br>Uitstoot per ton geproduceerd (Mt/ton)=%{y}<extra></extra>",
           "hovertext": [
            "South Africa"
           ],
           "legendgroup": "South Africa",
           "marker": {
            "color": "#19d3f3",
            "symbol": "circle"
           },
           "mode": "markers+text",
           "name": "South Africa",
           "orientation": "v",
           "showlegend": true,
           "text": [
            "South Africa"
           ],
           "type": "scatter",
           "x": {
            "bdata": "AAAAAADwfkA=",
            "dtype": "f8"
           },
           "xaxis": "x",
           "y": {
            "bdata": "WRqojbIIhD4=",
            "dtype": "f8"
           },
           "yaxis": "y"
          },
          {
           "hovertemplate": "<b>%{hovertext}</b><br><br>Country Name=%{text}<br>Year=2001<br>Neerslag (mm/jaar)=%{x}<br>Uitstoot per ton geproduceerd (Mt/ton)=%{y}<extra></extra>",
           "hovertext": [
            "United States of America"
           ],
           "legendgroup": "United States of America",
           "marker": {
            "color": "#FF6692",
            "symbol": "circle"
           },
           "mode": "markers+text",
           "name": "United States of America",
           "orientation": "v",
           "showlegend": true,
           "text": [
            "United States of America"
           ],
           "type": "scatter",
           "x": {
            "bdata": "AAAAAABYhkA=",
            "dtype": "f8"
           },
           "xaxis": "x",
           "y": {
            "bdata": "qvoOUAqtnj4=",
            "dtype": "f8"
           },
           "yaxis": "y"
          }
         ],
         "name": "2001"
        },
        {
         "data": [
          {
           "hovertemplate": "<b>%{hovertext}</b><br><br>Country Name=%{text}<br>Year=2002<br>Neerslag (mm/jaar)=%{x}<br>Uitstoot per ton geproduceerd (Mt/ton)=%{y}<extra></extra>",
           "hovertext": [
            "Brazil"
           ],
           "legendgroup": "Brazil",
           "marker": {
            "color": "#636efa",
            "symbol": "circle"
           },
           "mode": "markers+text",
           "name": "Brazil",
           "orientation": "v",
           "showlegend": true,
           "text": [
            "Brazil"
           ],
           "type": "scatter",
           "x": {
            "bdata": "AAAAAACEm0A=",
            "dtype": "f8"
           },
           "xaxis": "x",
           "y": {
            "bdata": "bibnkxwhcD4=",
            "dtype": "f8"
           },
           "yaxis": "y"
          },
          {
           "hovertemplate": "<b>%{hovertext}</b><br><br>Country Name=%{text}<br>Year=2002<br>Neerslag (mm/jaar)=%{x}<br>Uitstoot per ton geproduceerd (Mt/ton)=%{y}<extra></extra>",
           "hovertext": [
            "India"
           ],
           "legendgroup": "India",
           "marker": {
            "color": "#EF553B",
            "symbol": "circle"
           },
           "mode": "markers+text",
           "name": "India",
           "orientation": "v",
           "showlegend": true,
           "text": [
            "India"
           ],
           "type": "scatter",
           "x": {
            "bdata": "AAAAAADskEA=",
            "dtype": "f8"
           },
           "xaxis": "x",
           "y": {
            "bdata": "Sa/yG61TkD4=",
            "dtype": "f8"
           },
           "yaxis": "y"
          },
          {
           "hovertemplate": "<b>%{hovertext}</b><br><br>Country Name=%{text}<br>Year=2002<br>Neerslag (mm/jaar)=%{x}<br>Uitstoot per ton geproduceerd (Mt/ton)=%{y}<extra></extra>",
           "hovertext": [
            "Indonesia"
           ],
           "legendgroup": "Indonesia",
           "marker": {
            "color": "#00cc96",
            "symbol": "circle"
           },
           "mode": "markers+text",
           "name": "Indonesia",
           "orientation": "v",
           "showlegend": true,
           "text": [
            "Indonesia"
           ],
           "type": "scatter",
           "x": {
            "bdata": "AAAAAAAcpUA=",
            "dtype": "f8"
           },
           "xaxis": "x",
           "y": {
            "bdata": "lItRXS2yYT4=",
            "dtype": "f8"
           },
           "yaxis": "y"
          },
          {
           "hovertemplate": "<b>%{hovertext}</b><br><br>Country Name=%{text}<br>Year=2002<br>Neerslag (mm/jaar)=%{x}<br>Uitstoot per ton geproduceerd (Mt/ton)=%{y}<extra></extra>",
           "hovertext": [
            "Japan"
           ],
           "legendgroup": "Japan",
           "marker": {
            "color": "#ab63fa",
            "symbol": "circle"
           },
           "mode": "markers+text",
           "name": "Japan",
           "orientation": "v",
           "showlegend": true,
           "text": [
            "Japan"
           ],
           "type": "scatter",
           "x": {
            "bdata": "AAAAAAAQmkA=",
            "dtype": "f8"
           },
           "xaxis": "x",
           "y": {
            "bdata": "5XEdvKDDhD4=",
            "dtype": "f8"
           },
           "yaxis": "y"
          },
          {
           "hovertemplate": "<b>%{hovertext}</b><br><br>Country Name=%{text}<br>Year=2002<br>Neerslag (mm/jaar)=%{x}<br>Uitstoot per ton geproduceerd (Mt/ton)=%{y}<extra></extra>",
           "hovertext": [
            "Nigeria"
           ],
           "legendgroup": "Nigeria",
           "marker": {
            "color": "#FFA15A",
            "symbol": "circle"
           },
           "mode": "markers+text",
           "name": "Nigeria",
           "orientation": "v",
           "showlegend": true,
           "text": [
            "Nigeria"
           ],
           "type": "scatter",
           "x": {
            "bdata": "AAAAAAD4kUA=",
            "dtype": "f8"
           },
           "xaxis": "x",
           "y": {
            "bdata": "Rx2Q3iHsRT4=",
            "dtype": "f8"
           },
           "yaxis": "y"
          },
          {
           "hovertemplate": "<b>%{hovertext}</b><br><br>Country Name=%{text}<br>Year=2002<br>Neerslag (mm/jaar)=%{x}<br>Uitstoot per ton geproduceerd (Mt/ton)=%{y}<extra></extra>",
           "hovertext": [
            "South Africa"
           ],
           "legendgroup": "South Africa",
           "marker": {
            "color": "#19d3f3",
            "symbol": "circle"
           },
           "mode": "markers+text",
           "name": "South Africa",
           "orientation": "v",
           "showlegend": true,
           "text": [
            "South Africa"
           ],
           "type": "scatter",
           "x": {
            "bdata": "AAAAAADwfkA=",
            "dtype": "f8"
           },
           "xaxis": "x",
           "y": {
            "bdata": "hSF+eNA1gj4=",
            "dtype": "f8"
           },
           "yaxis": "y"
          },
          {
           "hovertemplate": "<b>%{hovertext}</b><br><br>Country Name=%{text}<br>Year=2002<br>Neerslag (mm/jaar)=%{x}<br>Uitstoot per ton geproduceerd (Mt/ton)=%{y}<extra></extra>",
           "hovertext": [
            "United States of America"
           ],
           "legendgroup": "United States of America",
           "marker": {
            "color": "#FF6692",
            "symbol": "circle"
           },
           "mode": "markers+text",
           "name": "United States of America",
           "orientation": "v",
           "showlegend": true,
           "text": [
            "United States of America"
           ],
           "type": "scatter",
           "x": {
            "bdata": "AAAAAABYhkA=",
            "dtype": "f8"
           },
           "xaxis": "x",
           "y": {
            "bdata": "NxPrTQ/KnT4=",
            "dtype": "f8"
           },
           "yaxis": "y"
          }
         ],
         "name": "2002"
        },
        {
         "data": [
          {
           "hovertemplate": "<b>%{hovertext}</b><br><br>Country Name=%{text}<br>Year=2003<br>Neerslag (mm/jaar)=%{x}<br>Uitstoot per ton geproduceerd (Mt/ton)=%{y}<extra></extra>",
           "hovertext": [
            "Brazil"
           ],
           "legendgroup": "Brazil",
           "marker": {
            "color": "#636efa",
            "symbol": "circle"
           },
           "mode": "markers+text",
           "name": "Brazil",
           "orientation": "v",
           "showlegend": true,
           "text": [
            "Brazil"
           ],
           "type": "scatter",
           "x": {
            "bdata": "AAAAAADYm0A=",
            "dtype": "f8"
           },
           "xaxis": "x",
           "y": {
            "bdata": "PJGQkfftcD4=",
            "dtype": "f8"
           },
           "yaxis": "y"
          },
          {
           "hovertemplate": "<b>%{hovertext}</b><br><br>Country Name=%{text}<br>Year=2003<br>Neerslag (mm/jaar)=%{x}<br>Uitstoot per ton geproduceerd (Mt/ton)=%{y}<extra></extra>",
           "hovertext": [
            "India"
           ],
           "legendgroup": "India",
           "marker": {
            "color": "#EF553B",
            "symbol": "circle"
           },
           "mode": "markers+text",
           "name": "India",
           "orientation": "v",
           "showlegend": true,
           "text": [
            "India"
           ],
           "type": "scatter",
           "x": {
            "bdata": "AAAAAADskEA=",
            "dtype": "f8"
           },
           "xaxis": "x",
           "y": {
            "bdata": "8rMqn5Oqjz4=",
            "dtype": "f8"
           },
           "yaxis": "y"
          },
          {
           "hovertemplate": "<b>%{hovertext}</b><br><br>Country Name=%{text}<br>Year=2003<br>Neerslag (mm/jaar)=%{x}<br>Uitstoot per ton geproduceerd (Mt/ton)=%{y}<extra></extra>",
           "hovertext": [
            "Indonesia"
           ],
           "legendgroup": "Indonesia",
           "marker": {
            "color": "#00cc96",
            "symbol": "circle"
           },
           "mode": "markers+text",
           "name": "Indonesia",
           "orientation": "v",
           "showlegend": true,
           "text": [
            "Indonesia"
           ],
           "type": "scatter",
           "x": {
            "bdata": "AAAAAAAcpUA=",
            "dtype": "f8"
           },
           "xaxis": "x",
           "y": {
            "bdata": "zWPkxFjhYD4=",
            "dtype": "f8"
           },
           "yaxis": "y"
          },
          {
           "hovertemplate": "<b>%{hovertext}</b><br><br>Country Name=%{text}<br>Year=2003<br>Neerslag (mm/jaar)=%{x}<br>Uitstoot per ton geproduceerd (Mt/ton)=%{y}<extra></extra>",
           "hovertext": [
            "Japan"
           ],
           "legendgroup": "Japan",
           "marker": {
            "color": "#ab63fa",
            "symbol": "circle"
           },
           "mode": "markers+text",
           "name": "Japan",
           "orientation": "v",
           "showlegend": true,
           "text": [
            "Japan"
           ],
           "type": "scatter",
           "x": {
            "bdata": "AAAAAAAQmkA=",
            "dtype": "f8"
           },
           "xaxis": "x",
           "y": {
            "bdata": "oo1fXLpghT4=",
            "dtype": "f8"
           },
           "yaxis": "y"
          },
          {
           "hovertemplate": "<b>%{hovertext}</b><br><br>Country Name=%{text}<br>Year=2003<br>Neerslag (mm/jaar)=%{x}<br>Uitstoot per ton geproduceerd (Mt/ton)=%{y}<extra></extra>",
           "hovertext": [
            "Nigeria"
           ],
           "legendgroup": "Nigeria",
           "marker": {
            "color": "#FFA15A",
            "symbol": "circle"
           },
           "mode": "markers+text",
           "name": "Nigeria",
           "orientation": "v",
           "showlegend": true,
           "text": [
            "Nigeria"
           ],
           "type": "scatter",
           "x": {
            "bdata": "AAAAAAD4kUA=",
            "dtype": "f8"
           },
           "xaxis": "x",
           "y": {
            "bdata": "R9DLutqYRT4=",
            "dtype": "f8"
           },
           "yaxis": "y"
          },
          {
           "hovertemplate": "<b>%{hovertext}</b><br><br>Country Name=%{text}<br>Year=2003<br>Neerslag (mm/jaar)=%{x}<br>Uitstoot per ton geproduceerd (Mt/ton)=%{y}<extra></extra>",
           "hovertext": [
            "South Africa"
           ],
           "legendgroup": "South Africa",
           "marker": {
            "color": "#19d3f3",
            "symbol": "circle"
           },
           "mode": "markers+text",
           "name": "South Africa",
           "orientation": "v",
           "showlegend": true,
           "text": [
            "South Africa"
           ],
           "type": "scatter",
           "x": {
            "bdata": "AAAAAADwfkA=",
            "dtype": "f8"
           },
           "xaxis": "x",
           "y": {
            "bdata": "liZaZuJwgD4=",
            "dtype": "f8"
           },
           "yaxis": "y"
          },
          {
           "hovertemplate": "<b>%{hovertext}</b><br><br>Country Name=%{text}<br>Year=2003<br>Neerslag (mm/jaar)=%{x}<br>Uitstoot per ton geproduceerd (Mt/ton)=%{y}<extra></extra>",
           "hovertext": [
            "United States of America"
           ],
           "legendgroup": "United States of America",
           "marker": {
            "color": "#FF6692",
            "symbol": "circle"
           },
           "mode": "markers+text",
           "name": "United States of America",
           "orientation": "v",
           "showlegend": true,
           "text": [
            "United States of America"
           ],
           "type": "scatter",
           "x": {
            "bdata": "AAAAAABYhkA=",
            "dtype": "f8"
           },
           "xaxis": "x",
           "y": {
            "bdata": "qryaDXFUoD4=",
            "dtype": "f8"
           },
           "yaxis": "y"
          }
         ],
         "name": "2003"
        },
        {
         "data": [
          {
           "hovertemplate": "<b>%{hovertext}</b><br><br>Country Name=%{text}<br>Year=2004<br>Neerslag (mm/jaar)=%{x}<br>Uitstoot per ton geproduceerd (Mt/ton)=%{y}<extra></extra>",
           "hovertext": [
            "Brazil"
           ],
           "legendgroup": "Brazil",
           "marker": {
            "color": "#636efa",
            "symbol": "circle"
           },
           "mode": "markers+text",
           "name": "Brazil",
           "orientation": "v",
           "showlegend": true,
           "text": [
            "Brazil"
           ],
           "type": "scatter",
           "x": {
            "bdata": "AAAAAADYm0A=",
            "dtype": "f8"
           },
           "xaxis": "x",
           "y": {
            "bdata": "VH7br7/3cD4=",
            "dtype": "f8"
           },
           "yaxis": "y"
          },
          {
           "hovertemplate": "<b>%{hovertext}</b><br><br>Country Name=%{text}<br>Year=2004<br>Neerslag (mm/jaar)=%{x}<br>Uitstoot per ton geproduceerd (Mt/ton)=%{y}<extra></extra>",
           "hovertext": [
            "India"
           ],
           "legendgroup": "India",
           "marker": {
            "color": "#EF553B",
            "symbol": "circle"
           },
           "mode": "markers+text",
           "name": "India",
           "orientation": "v",
           "showlegend": true,
           "text": [
            "India"
           ],
           "type": "scatter",
           "x": {
            "bdata": "AAAAAADskEA=",
            "dtype": "f8"
           },
           "xaxis": "x",
           "y": {
            "bdata": "z8M7rcYakj4=",
            "dtype": "f8"
           },
           "yaxis": "y"
          },
          {
           "hovertemplate": "<b>%{hovertext}</b><br><br>Country Name=%{text}<br>Year=2004<br>Neerslag (mm/jaar)=%{x}<br>Uitstoot per ton geproduceerd (Mt/ton)=%{y}<extra></extra>",
           "hovertext": [
            "Indonesia"
           ],
           "legendgroup": "Indonesia",
           "marker": {
            "color": "#00cc96",
            "symbol": "circle"
           },
           "mode": "markers+text",
           "name": "Indonesia",
           "orientation": "v",
           "showlegend": true,
           "text": [
            "Indonesia"
           ],
           "type": "scatter",
           "x": {
            "bdata": "AAAAAAAcpUA=",
            "dtype": "f8"
           },
           "xaxis": "x",
           "y": {
            "bdata": "oMowhrqXXz4=",
            "dtype": "f8"
           },
           "yaxis": "y"
          },
          {
           "hovertemplate": "<b>%{hovertext}</b><br><br>Country Name=%{text}<br>Year=2004<br>Neerslag (mm/jaar)=%{x}<br>Uitstoot per ton geproduceerd (Mt/ton)=%{y}<extra></extra>",
           "hovertext": [
            "Japan"
           ],
           "legendgroup": "Japan",
           "marker": {
            "color": "#ab63fa",
            "symbol": "circle"
           },
           "mode": "markers+text",
           "name": "Japan",
           "orientation": "v",
           "showlegend": true,
           "text": [
            "Japan"
           ],
           "type": "scatter",
           "x": {
            "bdata": "AAAAAAAQmkA=",
            "dtype": "f8"
           },
           "xaxis": "x",
           "y": {
            "bdata": "NFtxXmI8hT4=",
            "dtype": "f8"
           },
           "yaxis": "y"
          },
          {
           "hovertemplate": "<b>%{hovertext}</b><br><br>Country Name=%{text}<br>Year=2004<br>Neerslag (mm/jaar)=%{x}<br>Uitstoot per ton geproduceerd (Mt/ton)=%{y}<extra></extra>",
           "hovertext": [
            "Nigeria"
           ],
           "legendgroup": "Nigeria",
           "marker": {
            "color": "#FFA15A",
            "symbol": "circle"
           },
           "mode": "markers+text",
           "name": "Nigeria",
           "orientation": "v",
           "showlegend": true,
           "text": [
            "Nigeria"
           ],
           "type": "scatter",
           "x": {
            "bdata": "AAAAAAD4kUA=",
            "dtype": "f8"
           },
           "xaxis": "x",
           "y": {
            "bdata": "9Wca/SDqRD4=",
            "dtype": "f8"
           },
           "yaxis": "y"
          },
          {
           "hovertemplate": "<b>%{hovertext}</b><br><br>Country Name=%{text}<br>Year=2004<br>Neerslag (mm/jaar)=%{x}<br>Uitstoot per ton geproduceerd (Mt/ton)=%{y}<extra></extra>",
           "hovertext": [
            "South Africa"
           ],
           "legendgroup": "South Africa",
           "marker": {
            "color": "#19d3f3",
            "symbol": "circle"
           },
           "mode": "markers+text",
           "name": "South Africa",
           "orientation": "v",
           "showlegend": true,
           "text": [
            "South Africa"
           ],
           "type": "scatter",
           "x": {
            "bdata": "AAAAAADwfkA=",
            "dtype": "f8"
           },
           "xaxis": "x",
           "y": {
            "bdata": "LEJ6ZNgngj4=",
            "dtype": "f8"
           },
           "yaxis": "y"
          },
          {
           "hovertemplate": "<b>%{hovertext}</b><br><br>Country Name=%{text}<br>Year=2004<br>Neerslag (mm/jaar)=%{x}<br>Uitstoot per ton geproduceerd (Mt/ton)=%{y}<extra></extra>",
           "hovertext": [
            "United States of America"
           ],
           "legendgroup": "United States of America",
           "marker": {
            "color": "#FF6692",
            "symbol": "circle"
           },
           "mode": "markers+text",
           "name": "United States of America",
           "orientation": "v",
           "showlegend": true,
           "text": [
            "United States of America"
           ],
           "type": "scatter",
           "x": {
            "bdata": "AAAAAABYhkA=",
            "dtype": "f8"
           },
           "xaxis": "x",
           "y": {
            "bdata": "3fVZXIgFnz4=",
            "dtype": "f8"
           },
           "yaxis": "y"
          }
         ],
         "name": "2004"
        },
        {
         "data": [
          {
           "hovertemplate": "<b>%{hovertext}</b><br><br>Country Name=%{text}<br>Year=2005<br>Neerslag (mm/jaar)=%{x}<br>Uitstoot per ton geproduceerd (Mt/ton)=%{y}<extra></extra>",
           "hovertext": [
            "Brazil"
           ],
           "legendgroup": "Brazil",
           "marker": {
            "color": "#636efa",
            "symbol": "circle"
           },
           "mode": "markers+text",
           "name": "Brazil",
           "orientation": "v",
           "showlegend": true,
           "text": [
            "Brazil"
           ],
           "type": "scatter",
           "x": {
            "bdata": "AAAAAADYm0A=",
            "dtype": "f8"
           },
           "xaxis": "x",
           "y": {
            "bdata": "UTnSk8Q8cD4=",
            "dtype": "f8"
           },
           "yaxis": "y"
          },
          {
           "hovertemplate": "<b>%{hovertext}</b><br><br>Country Name=%{text}<br>Year=2005<br>Neerslag (mm/jaar)=%{x}<br>Uitstoot per ton geproduceerd (Mt/ton)=%{y}<extra></extra>",
           "hovertext": [
            "India"
           ],
           "legendgroup": "India",
           "marker": {
            "color": "#EF553B",
            "symbol": "circle"
           },
           "mode": "markers+text",
           "name": "India",
           "orientation": "v",
           "showlegend": true,
           "text": [
            "India"
           ],
           "type": "scatter",
           "x": {
            "bdata": "AAAAAADskEA=",
            "dtype": "f8"
           },
           "xaxis": "x",
           "y": {
            "bdata": "2938YY19kT4=",
            "dtype": "f8"
           },
           "yaxis": "y"
          },
          {
           "hovertemplate": "<b>%{hovertext}</b><br><br>Country Name=%{text}<br>Year=2005<br>Neerslag (mm/jaar)=%{x}<br>Uitstoot per ton geproduceerd (Mt/ton)=%{y}<extra></extra>",
           "hovertext": [
            "Indonesia"
           ],
           "legendgroup": "Indonesia",
           "marker": {
            "color": "#00cc96",
            "symbol": "circle"
           },
           "mode": "markers+text",
           "name": "Indonesia",
           "orientation": "v",
           "showlegend": true,
           "text": [
            "Indonesia"
           ],
           "type": "scatter",
           "x": {
            "bdata": "AAAAAAAcpUA=",
            "dtype": "f8"
           },
           "xaxis": "x",
           "y": {
            "bdata": "dia2rRQPYD4=",
            "dtype": "f8"
           },
           "yaxis": "y"
          },
          {
           "hovertemplate": "<b>%{hovertext}</b><br><br>Country Name=%{text}<br>Year=2005<br>Neerslag (mm/jaar)=%{x}<br>Uitstoot per ton geproduceerd (Mt/ton)=%{y}<extra></extra>",
           "hovertext": [
            "Japan"
           ],
           "legendgroup": "Japan",
           "marker": {
            "color": "#ab63fa",
            "symbol": "circle"
           },
           "mode": "markers+text",
           "name": "Japan",
           "orientation": "v",
           "showlegend": true,
           "text": [
            "Japan"
           ],
           "type": "scatter",
           "x": {
            "bdata": "AAAAAAAQmkA=",
            "dtype": "f8"
           },
           "xaxis": "x",
           "y": {
            "bdata": "N1dpmxi0hT4=",
            "dtype": "f8"
           },
           "yaxis": "y"
          },
          {
           "hovertemplate": "<b>%{hovertext}</b><br><br>Country Name=%{text}<br>Year=2005<br>Neerslag (mm/jaar)=%{x}<br>Uitstoot per ton geproduceerd (Mt/ton)=%{y}<extra></extra>",
           "hovertext": [
            "Nigeria"
           ],
           "legendgroup": "Nigeria",
           "marker": {
            "color": "#FFA15A",
            "symbol": "circle"
           },
           "mode": "markers+text",
           "name": "Nigeria",
           "orientation": "v",
           "showlegend": true,
           "text": [
            "Nigeria"
           ],
           "type": "scatter",
           "x": {
            "bdata": "AAAAAAD4kUA=",
            "dtype": "f8"
           },
           "xaxis": "x",
           "y": {
            "bdata": "cEUtoIFmRD4=",
            "dtype": "f8"
           },
           "yaxis": "y"
          },
          {
           "hovertemplate": "<b>%{hovertext}</b><br><br>Country Name=%{text}<br>Year=2005<br>Neerslag (mm/jaar)=%{x}<br>Uitstoot per ton geproduceerd (Mt/ton)=%{y}<extra></extra>",
           "hovertext": [
            "South Africa"
           ],
           "legendgroup": "South Africa",
           "marker": {
            "color": "#19d3f3",
            "symbol": "circle"
           },
           "mode": "markers+text",
           "name": "South Africa",
           "orientation": "v",
           "showlegend": true,
           "text": [
            "South Africa"
           ],
           "type": "scatter",
           "x": {
            "bdata": "AAAAAADwfkA=",
            "dtype": "f8"
           },
           "xaxis": "x",
           "y": {
            "bdata": "oa1tN9okgT4=",
            "dtype": "f8"
           },
           "yaxis": "y"
          },
          {
           "hovertemplate": "<b>%{hovertext}</b><br><br>Country Name=%{text}<br>Year=2005<br>Neerslag (mm/jaar)=%{x}<br>Uitstoot per ton geproduceerd (Mt/ton)=%{y}<extra></extra>",
           "hovertext": [
            "United States of America"
           ],
           "legendgroup": "United States of America",
           "marker": {
            "color": "#FF6692",
            "symbol": "circle"
           },
           "mode": "markers+text",
           "name": "United States of America",
           "orientation": "v",
           "showlegend": true,
           "text": [
            "United States of America"
           ],
           "type": "scatter",
           "x": {
            "bdata": "AAAAAABYhkA=",
            "dtype": "f8"
           },
           "xaxis": "x",
           "y": {
            "bdata": "4dCFzbUKoT4=",
            "dtype": "f8"
           },
           "yaxis": "y"
          }
         ],
         "name": "2005"
        },
        {
         "data": [
          {
           "hovertemplate": "<b>%{hovertext}</b><br><br>Country Name=%{text}<br>Year=2006<br>Neerslag (mm/jaar)=%{x}<br>Uitstoot per ton geproduceerd (Mt/ton)=%{y}<extra></extra>",
           "hovertext": [
            "Brazil"
           ],
           "legendgroup": "Brazil",
           "marker": {
            "color": "#636efa",
            "symbol": "circle"
           },
           "mode": "markers+text",
           "name": "Brazil",
           "orientation": "v",
           "showlegend": true,
           "text": [
            "Brazil"
           ],
           "type": "scatter",
           "x": {
            "bdata": "AAAAAADYm0A=",
            "dtype": "f8"
           },
           "xaxis": "x",
           "y": {
            "bdata": "bIF/f8JAbD4=",
            "dtype": "f8"
           },
           "yaxis": "y"
          },
          {
           "hovertemplate": "<b>%{hovertext}</b><br><br>Country Name=%{text}<br>Year=2006<br>Neerslag (mm/jaar)=%{x}<br>Uitstoot per ton geproduceerd (Mt/ton)=%{y}<extra></extra>",
           "hovertext": [
            "India"
           ],
           "legendgroup": "India",
           "marker": {
            "color": "#EF553B",
            "symbol": "circle"
           },
           "mode": "markers+text",
           "name": "India",
           "orientation": "v",
           "showlegend": true,
           "text": [
            "India"
           ],
           "type": "scatter",
           "x": {
            "bdata": "AAAAAADskEA=",
            "dtype": "f8"
           },
           "xaxis": "x",
           "y": {
            "bdata": "mg94Q4LQjz4=",
            "dtype": "f8"
           },
           "yaxis": "y"
          },
          {
           "hovertemplate": "<b>%{hovertext}</b><br><br>Country Name=%{text}<br>Year=2006<br>Neerslag (mm/jaar)=%{x}<br>Uitstoot per ton geproduceerd (Mt/ton)=%{y}<extra></extra>",
           "hovertext": [
            "Indonesia"
           ],
           "legendgroup": "Indonesia",
           "marker": {
            "color": "#00cc96",
            "symbol": "circle"
           },
           "mode": "markers+text",
           "name": "Indonesia",
           "orientation": "v",
           "showlegend": true,
           "text": [
            "Indonesia"
           ],
           "type": "scatter",
           "x": {
            "bdata": "AAAAAAAcpUA=",
            "dtype": "f8"
           },
           "xaxis": "x",
           "y": {
            "bdata": "9F1hT2UsYD4=",
            "dtype": "f8"
           },
           "yaxis": "y"
          },
          {
           "hovertemplate": "<b>%{hovertext}</b><br><br>Country Name=%{text}<br>Year=2006<br>Neerslag (mm/jaar)=%{x}<br>Uitstoot per ton geproduceerd (Mt/ton)=%{y}<extra></extra>",
           "hovertext": [
            "Japan"
           ],
           "legendgroup": "Japan",
           "marker": {
            "color": "#ab63fa",
            "symbol": "circle"
           },
           "mode": "markers+text",
           "name": "Japan",
           "orientation": "v",
           "showlegend": true,
           "text": [
            "Japan"
           ],
           "type": "scatter",
           "x": {
            "bdata": "AAAAAAAQmkA=",
            "dtype": "f8"
           },
           "xaxis": "x",
           "y": {
            "bdata": "BnaCL0K2hj4=",
            "dtype": "f8"
           },
           "yaxis": "y"
          },
          {
           "hovertemplate": "<b>%{hovertext}</b><br><br>Country Name=%{text}<br>Year=2006<br>Neerslag (mm/jaar)=%{x}<br>Uitstoot per ton geproduceerd (Mt/ton)=%{y}<extra></extra>",
           "hovertext": [
            "Nigeria"
           ],
           "legendgroup": "Nigeria",
           "marker": {
            "color": "#FFA15A",
            "symbol": "circle"
           },
           "mode": "markers+text",
           "name": "Nigeria",
           "orientation": "v",
           "showlegend": true,
           "text": [
            "Nigeria"
           ],
           "type": "scatter",
           "x": {
            "bdata": "AAAAAAD4kUA=",
            "dtype": "f8"
           },
           "xaxis": "x",
           "y": {
            "bdata": "8pAV6sPoQz4=",
            "dtype": "f8"
           },
           "yaxis": "y"
          },
          {
           "hovertemplate": "<b>%{hovertext}</b><br><br>Country Name=%{text}<br>Year=2006<br>Neerslag (mm/jaar)=%{x}<br>Uitstoot per ton geproduceerd (Mt/ton)=%{y}<extra></extra>",
           "hovertext": [
            "South Africa"
           ],
           "legendgroup": "South Africa",
           "marker": {
            "color": "#19d3f3",
            "symbol": "circle"
           },
           "mode": "markers+text",
           "name": "South Africa",
           "orientation": "v",
           "showlegend": true,
           "text": [
            "South Africa"
           ],
           "type": "scatter",
           "x": {
            "bdata": "AAAAAADwfkA=",
            "dtype": "f8"
           },
           "xaxis": "x",
           "y": {
            "bdata": "VK6UYpRogT4=",
            "dtype": "f8"
           },
           "yaxis": "y"
          },
          {
           "hovertemplate": "<b>%{hovertext}</b><br><br>Country Name=%{text}<br>Year=2006<br>Neerslag (mm/jaar)=%{x}<br>Uitstoot per ton geproduceerd (Mt/ton)=%{y}<extra></extra>",
           "hovertext": [
            "United States of America"
           ],
           "legendgroup": "United States of America",
           "marker": {
            "color": "#FF6692",
            "symbol": "circle"
           },
           "mode": "markers+text",
           "name": "United States of America",
           "orientation": "v",
           "showlegend": true,
           "text": [
            "United States of America"
           ],
           "type": "scatter",
           "x": {
            "bdata": "AAAAAABYhkA=",
            "dtype": "f8"
           },
           "xaxis": "x",
           "y": {
            "bdata": "ifKseh2Xnj4=",
            "dtype": "f8"
           },
           "yaxis": "y"
          }
         ],
         "name": "2006"
        },
        {
         "data": [
          {
           "hovertemplate": "<b>%{hovertext}</b><br><br>Country Name=%{text}<br>Year=2007<br>Neerslag (mm/jaar)=%{x}<br>Uitstoot per ton geproduceerd (Mt/ton)=%{y}<extra></extra>",
           "hovertext": [
            "Brazil"
           ],
           "legendgroup": "Brazil",
           "marker": {
            "color": "#636efa",
            "symbol": "circle"
           },
           "mode": "markers+text",
           "name": "Brazil",
           "orientation": "v",
           "showlegend": true,
           "text": [
            "Brazil"
           ],
           "type": "scatter",
           "x": {
            "bdata": "AAAAAACEm0A=",
            "dtype": "f8"
           },
           "xaxis": "x",
           "y": {
            "bdata": "sRsE2ktdbD4=",
            "dtype": "f8"
           },
           "yaxis": "y"
          },
          {
           "hovertemplate": "<b>%{hovertext}</b><br><br>Country Name=%{text}<br>Year=2007<br>Neerslag (mm/jaar)=%{x}<br>Uitstoot per ton geproduceerd (Mt/ton)=%{y}<extra></extra>",
           "hovertext": [
            "India"
           ],
           "legendgroup": "India",
           "marker": {
            "color": "#EF553B",
            "symbol": "circle"
           },
           "mode": "markers+text",
           "name": "India",
           "orientation": "v",
           "showlegend": true,
           "text": [
            "India"
           ],
           "type": "scatter",
           "x": {
            "bdata": "AAAAAADskEA=",
            "dtype": "f8"
           },
           "xaxis": "x",
           "y": {
            "bdata": "fjHeIG01jT4=",
            "dtype": "f8"
           },
           "yaxis": "y"
          },
          {
           "hovertemplate": "<b>%{hovertext}</b><br><br>Country Name=%{text}<br>Year=2007<br>Neerslag (mm/jaar)=%{x}<br>Uitstoot per ton geproduceerd (Mt/ton)=%{y}<extra></extra>",
           "hovertext": [
            "Indonesia"
           ],
           "legendgroup": "Indonesia",
           "marker": {
            "color": "#00cc96",
            "symbol": "circle"
           },
           "mode": "markers+text",
           "name": "Indonesia",
           "orientation": "v",
           "showlegend": true,
           "text": [
            "Indonesia"
           ],
           "type": "scatter",
           "x": {
            "bdata": "AAAAAAAcpUA=",
            "dtype": "f8"
           },
           "xaxis": "x",
           "y": {
            "bdata": "lWv5zbOdYj4=",
            "dtype": "f8"
           },
           "yaxis": "y"
          },
          {
           "hovertemplate": "<b>%{hovertext}</b><br><br>Country Name=%{text}<br>Year=2007<br>Neerslag (mm/jaar)=%{x}<br>Uitstoot per ton geproduceerd (Mt/ton)=%{y}<extra></extra>",
           "hovertext": [
            "Japan"
           ],
           "legendgroup": "Japan",
           "marker": {
            "color": "#ab63fa",
            "symbol": "circle"
           },
           "mode": "markers+text",
           "name": "Japan",
           "orientation": "v",
           "showlegend": true,
           "text": [
            "Japan"
           ],
           "type": "scatter",
           "x": {
            "bdata": "AAAAAAAQmkA=",
            "dtype": "f8"
           },
           "xaxis": "x",
           "y": {
            "bdata": "1hMTHQJThT4=",
            "dtype": "f8"
           },
           "yaxis": "y"
          },
          {
           "hovertemplate": "<b>%{hovertext}</b><br><br>Country Name=%{text}<br>Year=2007<br>Neerslag (mm/jaar)=%{x}<br>Uitstoot per ton geproduceerd (Mt/ton)=%{y}<extra></extra>",
           "hovertext": [
            "Nigeria"
           ],
           "legendgroup": "Nigeria",
           "marker": {
            "color": "#FFA15A",
            "symbol": "circle"
           },
           "mode": "markers+text",
           "name": "Nigeria",
           "orientation": "v",
           "showlegend": true,
           "text": [
            "Nigeria"
           ],
           "type": "scatter",
           "x": {
            "bdata": "AAAAAAD4kUA=",
            "dtype": "f8"
           },
           "xaxis": "x",
           "y": {
            "bdata": "MTCrpQ6tRD4=",
            "dtype": "f8"
           },
           "yaxis": "y"
          },
          {
           "hovertemplate": "<b>%{hovertext}</b><br><br>Country Name=%{text}<br>Year=2007<br>Neerslag (mm/jaar)=%{x}<br>Uitstoot per ton geproduceerd (Mt/ton)=%{y}<extra></extra>",
           "hovertext": [
            "South Africa"
           ],
           "legendgroup": "South Africa",
           "marker": {
            "color": "#19d3f3",
            "symbol": "circle"
           },
           "mode": "markers+text",
           "name": "South Africa",
           "orientation": "v",
           "showlegend": true,
           "text": [
            "South Africa"
           ],
           "type": "scatter",
           "x": {
            "bdata": "AAAAAADwfkA=",
            "dtype": "f8"
           },
           "xaxis": "x",
           "y": {
            "bdata": "LAQDWOMNgD4=",
            "dtype": "f8"
           },
           "yaxis": "y"
          },
          {
           "hovertemplate": "<b>%{hovertext}</b><br><br>Country Name=%{text}<br>Year=2007<br>Neerslag (mm/jaar)=%{x}<br>Uitstoot per ton geproduceerd (Mt/ton)=%{y}<extra></extra>",
           "hovertext": [
            "United States of America"
           ],
           "legendgroup": "United States of America",
           "marker": {
            "color": "#FF6692",
            "symbol": "circle"
           },
           "mode": "markers+text",
           "name": "United States of America",
           "orientation": "v",
           "showlegend": true,
           "text": [
            "United States of America"
           ],
           "type": "scatter",
           "x": {
            "bdata": "AAAAAABYhkA=",
            "dtype": "f8"
           },
           "xaxis": "x",
           "y": {
            "bdata": "n/WF/IQ3oD4=",
            "dtype": "f8"
           },
           "yaxis": "y"
          }
         ],
         "name": "2007"
        },
        {
         "data": [
          {
           "hovertemplate": "<b>%{hovertext}</b><br><br>Country Name=%{text}<br>Year=2008<br>Neerslag (mm/jaar)=%{x}<br>Uitstoot per ton geproduceerd (Mt/ton)=%{y}<extra></extra>",
           "hovertext": [
            "Brazil"
           ],
           "legendgroup": "Brazil",
           "marker": {
            "color": "#636efa",
            "symbol": "circle"
           },
           "mode": "markers+text",
           "name": "Brazil",
           "orientation": "v",
           "showlegend": true,
           "text": [
            "Brazil"
           ],
           "type": "scatter",
           "x": {
            "bdata": "AAAAAACEm0A=",
            "dtype": "f8"
           },
           "xaxis": "x",
           "y": {
            "bdata": "jhdgIq7bbD4=",
            "dtype": "f8"
           },
           "yaxis": "y"
          },
          {
           "hovertemplate": "<b>%{hovertext}</b><br><br>Country Name=%{text}<br>Year=2008<br>Neerslag (mm/jaar)=%{x}<br>Uitstoot per ton geproduceerd (Mt/ton)=%{y}<extra></extra>",
           "hovertext": [
            "India"
           ],
           "legendgroup": "India",
           "marker": {
            "color": "#EF553B",
            "symbol": "circle"
           },
           "mode": "markers+text",
           "name": "India",
           "orientation": "v",
           "showlegend": true,
           "text": [
            "India"
           ],
           "type": "scatter",
           "x": {
            "bdata": "AAAAAADskEA=",
            "dtype": "f8"
           },
           "xaxis": "x",
           "y": {
            "bdata": "Ko9l8/BIjT4=",
            "dtype": "f8"
           },
           "yaxis": "y"
          },
          {
           "hovertemplate": "<b>%{hovertext}</b><br><br>Country Name=%{text}<br>Year=2008<br>Neerslag (mm/jaar)=%{x}<br>Uitstoot per ton geproduceerd (Mt/ton)=%{y}<extra></extra>",
           "hovertext": [
            "Indonesia"
           ],
           "legendgroup": "Indonesia",
           "marker": {
            "color": "#00cc96",
            "symbol": "circle"
           },
           "mode": "markers+text",
           "name": "Indonesia",
           "orientation": "v",
           "showlegend": true,
           "text": [
            "Indonesia"
           ],
           "type": "scatter",
           "x": {
            "bdata": "AAAAAAAcpUA=",
            "dtype": "f8"
           },
           "xaxis": "x",
           "y": {
            "bdata": "CNPO64pLYj4=",
            "dtype": "f8"
           },
           "yaxis": "y"
          },
          {
           "hovertemplate": "<b>%{hovertext}</b><br><br>Country Name=%{text}<br>Year=2008<br>Neerslag (mm/jaar)=%{x}<br>Uitstoot per ton geproduceerd (Mt/ton)=%{y}<extra></extra>",
           "hovertext": [
            "Japan"
           ],
           "legendgroup": "Japan",
           "marker": {
            "color": "#ab63fa",
            "symbol": "circle"
           },
           "mode": "markers+text",
           "name": "Japan",
           "orientation": "v",
           "showlegend": true,
           "text": [
            "Japan"
           ],
           "type": "scatter",
           "x": {
            "bdata": "AAAAAAAQmkA=",
            "dtype": "f8"
           },
           "xaxis": "x",
           "y": {
            "bdata": "v+bz7LBrhD4=",
            "dtype": "f8"
           },
           "yaxis": "y"
          },
          {
           "hovertemplate": "<b>%{hovertext}</b><br><br>Country Name=%{text}<br>Year=2008<br>Neerslag (mm/jaar)=%{x}<br>Uitstoot per ton geproduceerd (Mt/ton)=%{y}<extra></extra>",
           "hovertext": [
            "Nigeria"
           ],
           "legendgroup": "Nigeria",
           "marker": {
            "color": "#FFA15A",
            "symbol": "circle"
           },
           "mode": "markers+text",
           "name": "Nigeria",
           "orientation": "v",
           "showlegend": true,
           "text": [
            "Nigeria"
           ],
           "type": "scatter",
           "x": {
            "bdata": "AAAAAAD4kUA=",
            "dtype": "f8"
           },
           "xaxis": "x",
           "y": {
            "bdata": "8wM9f4DERD4=",
            "dtype": "f8"
           },
           "yaxis": "y"
          },
          {
           "hovertemplate": "<b>%{hovertext}</b><br><br>Country Name=%{text}<br>Year=2008<br>Neerslag (mm/jaar)=%{x}<br>Uitstoot per ton geproduceerd (Mt/ton)=%{y}<extra></extra>",
           "hovertext": [
            "South Africa"
           ],
           "legendgroup": "South Africa",
           "marker": {
            "color": "#19d3f3",
            "symbol": "circle"
           },
           "mode": "markers+text",
           "name": "South Africa",
           "orientation": "v",
           "showlegend": true,
           "text": [
            "South Africa"
           ],
           "type": "scatter",
           "x": {
            "bdata": "AAAAAADwfkA=",
            "dtype": "f8"
           },
           "xaxis": "x",
           "y": {
            "bdata": "/+uC/JfjgD4=",
            "dtype": "f8"
           },
           "yaxis": "y"
          },
          {
           "hovertemplate": "<b>%{hovertext}</b><br><br>Country Name=%{text}<br>Year=2008<br>Neerslag (mm/jaar)=%{x}<br>Uitstoot per ton geproduceerd (Mt/ton)=%{y}<extra></extra>",
           "hovertext": [
            "United States of America"
           ],
           "legendgroup": "United States of America",
           "marker": {
            "color": "#FF6692",
            "symbol": "circle"
           },
           "mode": "markers+text",
           "name": "United States of America",
           "orientation": "v",
           "showlegend": true,
           "text": [
            "United States of America"
           ],
           "type": "scatter",
           "x": {
            "bdata": "AAAAAABYhkA=",
            "dtype": "f8"
           },
           "xaxis": "x",
           "y": {
            "bdata": "x91hBPlPoj4=",
            "dtype": "f8"
           },
           "yaxis": "y"
          }
         ],
         "name": "2008"
        },
        {
         "data": [
          {
           "hovertemplate": "<b>%{hovertext}</b><br><br>Country Name=%{text}<br>Year=2009<br>Neerslag (mm/jaar)=%{x}<br>Uitstoot per ton geproduceerd (Mt/ton)=%{y}<extra></extra>",
           "hovertext": [
            "Brazil"
           ],
           "legendgroup": "Brazil",
           "marker": {
            "color": "#636efa",
            "symbol": "circle"
           },
           "mode": "markers+text",
           "name": "Brazil",
           "orientation": "v",
           "showlegend": true,
           "text": [
            "Brazil"
           ],
           "type": "scatter",
           "x": {
            "bdata": "AAAAAACEm0A=",
            "dtype": "f8"
           },
           "xaxis": "x",
           "y": {
            "bdata": "o9UM1Qs1bD4=",
            "dtype": "f8"
           },
           "yaxis": "y"
          },
          {
           "hovertemplate": "<b>%{hovertext}</b><br><br>Country Name=%{text}<br>Year=2009<br>Neerslag (mm/jaar)=%{x}<br>Uitstoot per ton geproduceerd (Mt/ton)=%{y}<extra></extra>",
           "hovertext": [
            "India"
           ],
           "legendgroup": "India",
           "marker": {
            "color": "#EF553B",
            "symbol": "circle"
           },
           "mode": "markers+text",
           "name": "India",
           "orientation": "v",
           "showlegend": true,
           "text": [
            "India"
           ],
           "type": "scatter",
           "x": {
            "bdata": "AAAAAADskEA=",
            "dtype": "f8"
           },
           "xaxis": "x",
           "y": {
            "bdata": "Ls8EZI4okD4=",
            "dtype": "f8"
           },
           "yaxis": "y"
          },
          {
           "hovertemplate": "<b>%{hovertext}</b><br><br>Country Name=%{text}<br>Year=2009<br>Neerslag (mm/jaar)=%{x}<br>Uitstoot per ton geproduceerd (Mt/ton)=%{y}<extra></extra>",
           "hovertext": [
            "Indonesia"
           ],
           "legendgroup": "Indonesia",
           "marker": {
            "color": "#00cc96",
            "symbol": "circle"
           },
           "mode": "markers+text",
           "name": "Indonesia",
           "orientation": "v",
           "showlegend": true,
           "text": [
            "Indonesia"
           ],
           "type": "scatter",
           "x": {
            "bdata": "AAAAAAAcpUA=",
            "dtype": "f8"
           },
           "xaxis": "x",
           "y": {
            "bdata": "pIp/UdblYT4=",
            "dtype": "f8"
           },
           "yaxis": "y"
          },
          {
           "hovertemplate": "<b>%{hovertext}</b><br><br>Country Name=%{text}<br>Year=2009<br>Neerslag (mm/jaar)=%{x}<br>Uitstoot per ton geproduceerd (Mt/ton)=%{y}<extra></extra>",
           "hovertext": [
            "Japan"
           ],
           "legendgroup": "Japan",
           "marker": {
            "color": "#ab63fa",
            "symbol": "circle"
           },
           "mode": "markers+text",
           "name": "Japan",
           "orientation": "v",
           "showlegend": true,
           "text": [
            "Japan"
           ],
           "type": "scatter",
           "x": {
            "bdata": "AAAAAAAQmkA=",
            "dtype": "f8"
           },
           "xaxis": "x",
           "y": {
            "bdata": "eLXiKqqehD4=",
            "dtype": "f8"
           },
           "yaxis": "y"
          },
          {
           "hovertemplate": "<b>%{hovertext}</b><br><br>Country Name=%{text}<br>Year=2009<br>Neerslag (mm/jaar)=%{x}<br>Uitstoot per ton geproduceerd (Mt/ton)=%{y}<extra></extra>",
           "hovertext": [
            "Nigeria"
           ],
           "legendgroup": "Nigeria",
           "marker": {
            "color": "#FFA15A",
            "symbol": "circle"
           },
           "mode": "markers+text",
           "name": "Nigeria",
           "orientation": "v",
           "showlegend": true,
           "text": [
            "Nigeria"
           ],
           "type": "scatter",
           "x": {
            "bdata": "AAAAAAD4kUA=",
            "dtype": "f8"
           },
           "xaxis": "x",
           "y": {
            "bdata": "sRHhOjNlTD4=",
            "dtype": "f8"
           },
           "yaxis": "y"
          },
          {
           "hovertemplate": "<b>%{hovertext}</b><br><br>Country Name=%{text}<br>Year=2009<br>Neerslag (mm/jaar)=%{x}<br>Uitstoot per ton geproduceerd (Mt/ton)=%{y}<extra></extra>",
           "hovertext": [
            "South Africa"
           ],
           "legendgroup": "South Africa",
           "marker": {
            "color": "#19d3f3",
            "symbol": "circle"
           },
           "mode": "markers+text",
           "name": "South Africa",
           "orientation": "v",
           "showlegend": true,
           "text": [
            "South Africa"
           ],
           "type": "scatter",
           "x": {
            "bdata": "AAAAAADwfkA=",
            "dtype": "f8"
           },
           "xaxis": "x",
           "y": {
            "bdata": "EymDIG7dfz4=",
            "dtype": "f8"
           },
           "yaxis": "y"
          },
          {
           "hovertemplate": "<b>%{hovertext}</b><br><br>Country Name=%{text}<br>Year=2009<br>Neerslag (mm/jaar)=%{x}<br>Uitstoot per ton geproduceerd (Mt/ton)=%{y}<extra></extra>",
           "hovertext": [
            "United States of America"
           ],
           "legendgroup": "United States of America",
           "marker": {
            "color": "#FF6692",
            "symbol": "circle"
           },
           "mode": "markers+text",
           "name": "United States of America",
           "orientation": "v",
           "showlegend": true,
           "text": [
            "United States of America"
           ],
           "type": "scatter",
           "x": {
            "bdata": "AAAAAABYhkA=",
            "dtype": "f8"
           },
           "xaxis": "x",
           "y": {
            "bdata": "zrQAFUFAoD4=",
            "dtype": "f8"
           },
           "yaxis": "y"
          }
         ],
         "name": "2009"
        },
        {
         "data": [
          {
           "hovertemplate": "<b>%{hovertext}</b><br><br>Country Name=%{text}<br>Year=2010<br>Neerslag (mm/jaar)=%{x}<br>Uitstoot per ton geproduceerd (Mt/ton)=%{y}<extra></extra>",
           "hovertext": [
            "Brazil"
           ],
           "legendgroup": "Brazil",
           "marker": {
            "color": "#636efa",
            "symbol": "circle"
           },
           "mode": "markers+text",
           "name": "Brazil",
           "orientation": "v",
           "showlegend": true,
           "text": [
            "Brazil"
           ],
           "type": "scatter",
           "x": {
            "bdata": "AAAAAACEm0A=",
            "dtype": "f8"
           },
           "xaxis": "x",
           "y": {
            "bdata": "9v8dKVBEbD4=",
            "dtype": "f8"
           },
           "yaxis": "y"
          },
          {
           "hovertemplate": "<b>%{hovertext}</b><br><br>Country Name=%{text}<br>Year=2010<br>Neerslag (mm/jaar)=%{x}<br>Uitstoot per ton geproduceerd (Mt/ton)=%{y}<extra></extra>",
           "hovertext": [
            "India"
           ],
           "legendgroup": "India",
           "marker": {
            "color": "#EF553B",
            "symbol": "circle"
           },
           "mode": "markers+text",
           "name": "India",
           "orientation": "v",
           "showlegend": true,
           "text": [
            "India"
           ],
           "type": "scatter",
           "x": {
            "bdata": "AAAAAADskEA=",
            "dtype": "f8"
           },
           "xaxis": "x",
           "y": {
            "bdata": "hPbSvOxGjz4=",
            "dtype": "f8"
           },
           "yaxis": "y"
          },
          {
           "hovertemplate": "<b>%{hovertext}</b><br><br>Country Name=%{text}<br>Year=2010<br>Neerslag (mm/jaar)=%{x}<br>Uitstoot per ton geproduceerd (Mt/ton)=%{y}<extra></extra>",
           "hovertext": [
            "Indonesia"
           ],
           "legendgroup": "Indonesia",
           "marker": {
            "color": "#00cc96",
            "symbol": "circle"
           },
           "mode": "markers+text",
           "name": "Indonesia",
           "orientation": "v",
           "showlegend": true,
           "text": [
            "Indonesia"
           ],
           "type": "scatter",
           "x": {
            "bdata": "AAAAAAAcpUA=",
            "dtype": "f8"
           },
           "xaxis": "x",
           "y": {
            "bdata": "Lt5ahAisYT4=",
            "dtype": "f8"
           },
           "yaxis": "y"
          },
          {
           "hovertemplate": "<b>%{hovertext}</b><br><br>Country Name=%{text}<br>Year=2010<br>Neerslag (mm/jaar)=%{x}<br>Uitstoot per ton geproduceerd (Mt/ton)=%{y}<extra></extra>",
           "hovertext": [
            "Japan"
           ],
           "legendgroup": "Japan",
           "marker": {
            "color": "#ab63fa",
            "symbol": "circle"
           },
           "mode": "markers+text",
           "name": "Japan",
           "orientation": "v",
           "showlegend": true,
           "text": [
            "Japan"
           ],
           "type": "scatter",
           "x": {
            "bdata": "AAAAAAAQmkA=",
            "dtype": "f8"
           },
           "xaxis": "x",
           "y": {
            "bdata": "lVN/zkkchT4=",
            "dtype": "f8"
           },
           "yaxis": "y"
          },
          {
           "hovertemplate": "<b>%{hovertext}</b><br><br>Country Name=%{text}<br>Year=2010<br>Neerslag (mm/jaar)=%{x}<br>Uitstoot per ton geproduceerd (Mt/ton)=%{y}<extra></extra>",
           "hovertext": [
            "Nigeria"
           ],
           "legendgroup": "Nigeria",
           "marker": {
            "color": "#FFA15A",
            "symbol": "circle"
           },
           "mode": "markers+text",
           "name": "Nigeria",
           "orientation": "v",
           "showlegend": true,
           "text": [
            "Nigeria"
           ],
           "type": "scatter",
           "x": {
            "bdata": "AAAAAAD4kUA=",
            "dtype": "f8"
           },
           "xaxis": "x",
           "y": {
            "bdata": "M60wVIcORz4=",
            "dtype": "f8"
           },
           "yaxis": "y"
          },
          {
           "hovertemplate": "<b>%{hovertext}</b><br><br>Country Name=%{text}<br>Year=2010<br>Neerslag (mm/jaar)=%{x}<br>Uitstoot per ton geproduceerd (Mt/ton)=%{y}<extra></extra>",
           "hovertext": [
            "South Africa"
           ],
           "legendgroup": "South Africa",
           "marker": {
            "color": "#19d3f3",
            "symbol": "circle"
           },
           "mode": "markers+text",
           "name": "South Africa",
           "orientation": "v",
           "showlegend": true,
           "text": [
            "South Africa"
           ],
           "type": "scatter",
           "x": {
            "bdata": "AAAAAADwfkA=",
            "dtype": "f8"
           },
           "xaxis": "x",
           "y": {
            "bdata": "OITpaho5fz4=",
            "dtype": "f8"
           },
           "yaxis": "y"
          },
          {
           "hovertemplate": "<b>%{hovertext}</b><br><br>Country Name=%{text}<br>Year=2010<br>Neerslag (mm/jaar)=%{x}<br>Uitstoot per ton geproduceerd (Mt/ton)=%{y}<extra></extra>",
           "hovertext": [
            "United States of America"
           ],
           "legendgroup": "United States of America",
           "marker": {
            "color": "#FF6692",
            "symbol": "circle"
           },
           "mode": "markers+text",
           "name": "United States of America",
           "orientation": "v",
           "showlegend": true,
           "text": [
            "United States of America"
           ],
           "type": "scatter",
           "x": {
            "bdata": "AAAAAABYhkA=",
            "dtype": "f8"
           },
           "xaxis": "x",
           "y": {
            "bdata": "/Urd7Zc/oD4=",
            "dtype": "f8"
           },
           "yaxis": "y"
          }
         ],
         "name": "2010"
        },
        {
         "data": [
          {
           "hovertemplate": "<b>%{hovertext}</b><br><br>Country Name=%{text}<br>Year=2011<br>Neerslag (mm/jaar)=%{x}<br>Uitstoot per ton geproduceerd (Mt/ton)=%{y}<extra></extra>",
           "hovertext": [
            "Brazil"
           ],
           "legendgroup": "Brazil",
           "marker": {
            "color": "#636efa",
            "symbol": "circle"
           },
           "mode": "markers+text",
           "name": "Brazil",
           "orientation": "v",
           "showlegend": true,
           "text": [
            "Brazil"
           ],
           "type": "scatter",
           "x": {
            "bdata": "AAAAAACEm0A=",
            "dtype": "f8"
           },
           "xaxis": "x",
           "y": {
            "bdata": "V1zYHHWmbD4=",
            "dtype": "f8"
           },
           "yaxis": "y"
          },
          {
           "hovertemplate": "<b>%{hovertext}</b><br><br>Country Name=%{text}<br>Year=2011<br>Neerslag (mm/jaar)=%{x}<br>Uitstoot per ton geproduceerd (Mt/ton)=%{y}<extra></extra>",
           "hovertext": [
            "India"
           ],
           "legendgroup": "India",
           "marker": {
            "color": "#EF553B",
            "symbol": "circle"
           },
           "mode": "markers+text",
           "name": "India",
           "orientation": "v",
           "showlegend": true,
           "text": [
            "India"
           ],
           "type": "scatter",
           "x": {
            "bdata": "AAAAAADskEA=",
            "dtype": "f8"
           },
           "xaxis": "x",
           "y": {
            "bdata": "m3EThfiOjT4=",
            "dtype": "f8"
           },
           "yaxis": "y"
          },
          {
           "hovertemplate": "<b>%{hovertext}</b><br><br>Country Name=%{text}<br>Year=2011<br>Neerslag (mm/jaar)=%{x}<br>Uitstoot per ton geproduceerd (Mt/ton)=%{y}<extra></extra>",
           "hovertext": [
            "Indonesia"
           ],
           "legendgroup": "Indonesia",
           "marker": {
            "color": "#00cc96",
            "symbol": "circle"
           },
           "mode": "markers+text",
           "name": "Indonesia",
           "orientation": "v",
           "showlegend": true,
           "text": [
            "Indonesia"
           ],
           "type": "scatter",
           "x": {
            "bdata": "AAAAAAAcpUA=",
            "dtype": "f8"
           },
           "xaxis": "x",
           "y": {
            "bdata": "K72o7SXcYT4=",
            "dtype": "f8"
           },
           "yaxis": "y"
          },
          {
           "hovertemplate": "<b>%{hovertext}</b><br><br>Country Name=%{text}<br>Year=2011<br>Neerslag (mm/jaar)=%{x}<br>Uitstoot per ton geproduceerd (Mt/ton)=%{y}<extra></extra>",
           "hovertext": [
            "Japan"
           ],
           "legendgroup": "Japan",
           "marker": {
            "color": "#ab63fa",
            "symbol": "circle"
           },
           "mode": "markers+text",
           "name": "Japan",
           "orientation": "v",
           "showlegend": true,
           "text": [
            "Japan"
           ],
           "type": "scatter",
           "x": {
            "bdata": "AAAAAAAQmkA=",
            "dtype": "f8"
           },
           "xaxis": "x",
           "y": {
            "bdata": "7nECCXTxhD4=",
            "dtype": "f8"
           },
           "yaxis": "y"
          },
          {
           "hovertemplate": "<b>%{hovertext}</b><br><br>Country Name=%{text}<br>Year=2011<br>Neerslag (mm/jaar)=%{x}<br>Uitstoot per ton geproduceerd (Mt/ton)=%{y}<extra></extra>",
           "hovertext": [
            "Nigeria"
           ],
           "legendgroup": "Nigeria",
           "marker": {
            "color": "#FFA15A",
            "symbol": "circle"
           },
           "mode": "markers+text",
           "name": "Nigeria",
           "orientation": "v",
           "showlegend": true,
           "text": [
            "Nigeria"
           ],
           "type": "scatter",
           "x": {
            "bdata": "AAAAAAD4kUA=",
            "dtype": "f8"
           },
           "xaxis": "x",
           "y": {
            "bdata": "NK7Mu80AUj4=",
            "dtype": "f8"
           },
           "yaxis": "y"
          },
          {
           "hovertemplate": "<b>%{hovertext}</b><br><br>Country Name=%{text}<br>Year=2011<br>Neerslag (mm/jaar)=%{x}<br>Uitstoot per ton geproduceerd (Mt/ton)=%{y}<extra></extra>",
           "hovertext": [
            "South Africa"
           ],
           "legendgroup": "South Africa",
           "marker": {
            "color": "#19d3f3",
            "symbol": "circle"
           },
           "mode": "markers+text",
           "name": "South Africa",
           "orientation": "v",
           "showlegend": true,
           "text": [
            "South Africa"
           ],
           "type": "scatter",
           "x": {
            "bdata": "AAAAAADwfkA=",
            "dtype": "f8"
           },
           "xaxis": "x",
           "y": {
            "bdata": "66vWLWYBgD4=",
            "dtype": "f8"
           },
           "yaxis": "y"
          },
          {
           "hovertemplate": "<b>%{hovertext}</b><br><br>Country Name=%{text}<br>Year=2011<br>Neerslag (mm/jaar)=%{x}<br>Uitstoot per ton geproduceerd (Mt/ton)=%{y}<extra></extra>",
           "hovertext": [
            "United States of America"
           ],
           "legendgroup": "United States of America",
           "marker": {
            "color": "#FF6692",
            "symbol": "circle"
           },
           "mode": "markers+text",
           "name": "United States of America",
           "orientation": "v",
           "showlegend": true,
           "text": [
            "United States of America"
           ],
           "type": "scatter",
           "x": {
            "bdata": "AAAAAABYhkA=",
            "dtype": "f8"
           },
           "xaxis": "x",
           "y": {
            "bdata": "nZ56SUN4oD4=",
            "dtype": "f8"
           },
           "yaxis": "y"
          }
         ],
         "name": "2011"
        },
        {
         "data": [
          {
           "hovertemplate": "<b>%{hovertext}</b><br><br>Country Name=%{text}<br>Year=2012<br>Neerslag (mm/jaar)=%{x}<br>Uitstoot per ton geproduceerd (Mt/ton)=%{y}<extra></extra>",
           "hovertext": [
            "Brazil"
           ],
           "legendgroup": "Brazil",
           "marker": {
            "color": "#636efa",
            "symbol": "circle"
           },
           "mode": "markers+text",
           "name": "Brazil",
           "orientation": "v",
           "showlegend": true,
           "text": [
            "Brazil"
           ],
           "type": "scatter",
           "x": {
            "bdata": "AAAAAACEm0A=",
            "dtype": "f8"
           },
           "xaxis": "x",
           "y": {
            "bdata": "XXKC8+LGbD4=",
            "dtype": "f8"
           },
           "yaxis": "y"
          },
          {
           "hovertemplate": "<b>%{hovertext}</b><br><br>Country Name=%{text}<br>Year=2012<br>Neerslag (mm/jaar)=%{x}<br>Uitstoot per ton geproduceerd (Mt/ton)=%{y}<extra></extra>",
           "hovertext": [
            "India"
           ],
           "legendgroup": "India",
           "marker": {
            "color": "#EF553B",
            "symbol": "circle"
           },
           "mode": "markers+text",
           "name": "India",
           "orientation": "v",
           "showlegend": true,
           "text": [
            "India"
           ],
           "type": "scatter",
           "x": {
            "bdata": "AAAAAADskEA=",
            "dtype": "f8"
           },
           "xaxis": "x",
           "y": {
            "bdata": "oRf7+pCYjT4=",
            "dtype": "f8"
           },
           "yaxis": "y"
          },
          {
           "hovertemplate": "<b>%{hovertext}</b><br><br>Country Name=%{text}<br>Year=2012<br>Neerslag (mm/jaar)=%{x}<br>Uitstoot per ton geproduceerd (Mt/ton)=%{y}<extra></extra>",
           "hovertext": [
            "Indonesia"
           ],
           "legendgroup": "Indonesia",
           "marker": {
            "color": "#00cc96",
            "symbol": "circle"
           },
           "mode": "markers+text",
           "name": "Indonesia",
           "orientation": "v",
           "showlegend": true,
           "text": [
            "Indonesia"
           ],
           "type": "scatter",
           "x": {
            "bdata": "AAAAAAAcpUA=",
            "dtype": "f8"
           },
           "xaxis": "x",
           "y": {
            "bdata": "DFo6xm9zYD4=",
            "dtype": "f8"
           },
           "yaxis": "y"
          },
          {
           "hovertemplate": "<b>%{hovertext}</b><br><br>Country Name=%{text}<br>Year=2012<br>Neerslag (mm/jaar)=%{x}<br>Uitstoot per ton geproduceerd (Mt/ton)=%{y}<extra></extra>",
           "hovertext": [
            "Japan"
           ],
           "legendgroup": "Japan",
           "marker": {
            "color": "#ab63fa",
            "symbol": "circle"
           },
           "mode": "markers+text",
           "name": "Japan",
           "orientation": "v",
           "showlegend": true,
           "text": [
            "Japan"
           ],
           "type": "scatter",
           "x": {
            "bdata": "AAAAAAAQmkA=",
            "dtype": "f8"
           },
           "xaxis": "x",
           "y": {
            "bdata": "JLdUeibkgz4=",
            "dtype": "f8"
           },
           "yaxis": "y"
          },
          {
           "hovertemplate": "<b>%{hovertext}</b><br><br>Country Name=%{text}<br>Year=2012<br>Neerslag (mm/jaar)=%{x}<br>Uitstoot per ton geproduceerd (Mt/ton)=%{y}<extra></extra>",
           "hovertext": [
            "Nigeria"
           ],
           "legendgroup": "Nigeria",
           "marker": {
            "color": "#FFA15A",
            "symbol": "circle"
           },
           "mode": "markers+text",
           "name": "Nigeria",
           "orientation": "v",
           "showlegend": true,
           "text": [
            "Nigeria"
           ],
           "type": "scatter",
           "x": {
            "bdata": "AAAAAAD4kUA=",
            "dtype": "f8"
           },
           "xaxis": "x",
           "y": {
            "bdata": "RAh0m9xqUD4=",
            "dtype": "f8"
           },
           "yaxis": "y"
          },
          {
           "hovertemplate": "<b>%{hovertext}</b><br><br>Country Name=%{text}<br>Year=2012<br>Neerslag (mm/jaar)=%{x}<br>Uitstoot per ton geproduceerd (Mt/ton)=%{y}<extra></extra>",
           "hovertext": [
            "South Africa"
           ],
           "legendgroup": "South Africa",
           "marker": {
            "color": "#19d3f3",
            "symbol": "circle"
           },
           "mode": "markers+text",
           "name": "South Africa",
           "orientation": "v",
           "showlegend": true,
           "text": [
            "South Africa"
           ],
           "type": "scatter",
           "x": {
            "bdata": "AAAAAADwfkA=",
            "dtype": "f8"
           },
           "xaxis": "x",
           "y": {
            "bdata": "nnQj4XY8fT4=",
            "dtype": "f8"
           },
           "yaxis": "y"
          },
          {
           "hovertemplate": "<b>%{hovertext}</b><br><br>Country Name=%{text}<br>Year=2012<br>Neerslag (mm/jaar)=%{x}<br>Uitstoot per ton geproduceerd (Mt/ton)=%{y}<extra></extra>",
           "hovertext": [
            "United States of America"
           ],
           "legendgroup": "United States of America",
           "marker": {
            "color": "#FF6692",
            "symbol": "circle"
           },
           "mode": "markers+text",
           "name": "United States of America",
           "orientation": "v",
           "showlegend": true,
           "text": [
            "United States of America"
           ],
           "type": "scatter",
           "x": {
            "bdata": "AAAAAABYhkA=",
            "dtype": "f8"
           },
           "xaxis": "x",
           "y": {
            "bdata": "+gPzxkUboD4=",
            "dtype": "f8"
           },
           "yaxis": "y"
          }
         ],
         "name": "2012"
        },
        {
         "data": [
          {
           "hovertemplate": "<b>%{hovertext}</b><br><br>Country Name=%{text}<br>Year=2013<br>Neerslag (mm/jaar)=%{x}<br>Uitstoot per ton geproduceerd (Mt/ton)=%{y}<extra></extra>",
           "hovertext": [
            "Brazil"
           ],
           "legendgroup": "Brazil",
           "marker": {
            "color": "#636efa",
            "symbol": "circle"
           },
           "mode": "markers+text",
           "name": "Brazil",
           "orientation": "v",
           "showlegend": true,
           "text": [
            "Brazil"
           ],
           "type": "scatter",
           "x": {
            "bdata": "AAAAAACEm0A=",
            "dtype": "f8"
           },
           "xaxis": "x",
           "y": {
            "bdata": "HW2BKYrkbD4=",
            "dtype": "f8"
           },
           "yaxis": "y"
          },
          {
           "hovertemplate": "<b>%{hovertext}</b><br><br>Country Name=%{text}<br>Year=2013<br>Neerslag (mm/jaar)=%{x}<br>Uitstoot per ton geproduceerd (Mt/ton)=%{y}<extra></extra>",
           "hovertext": [
            "India"
           ],
           "legendgroup": "India",
           "marker": {
            "color": "#EF553B",
            "symbol": "circle"
           },
           "mode": "markers+text",
           "name": "India",
           "orientation": "v",
           "showlegend": true,
           "text": [
            "India"
           ],
           "type": "scatter",
           "x": {
            "bdata": "AAAAAADskEA=",
            "dtype": "f8"
           },
           "xaxis": "x",
           "y": {
            "bdata": "AP3Gwyb7jT4=",
            "dtype": "f8"
           },
           "yaxis": "y"
          },
          {
           "hovertemplate": "<b>%{hovertext}</b><br><br>Country Name=%{text}<br>Year=2013<br>Neerslag (mm/jaar)=%{x}<br>Uitstoot per ton geproduceerd (Mt/ton)=%{y}<extra></extra>",
           "hovertext": [
            "Indonesia"
           ],
           "legendgroup": "Indonesia",
           "marker": {
            "color": "#00cc96",
            "symbol": "circle"
           },
           "mode": "markers+text",
           "name": "Indonesia",
           "orientation": "v",
           "showlegend": true,
           "text": [
            "Indonesia"
           ],
           "type": "scatter",
           "x": {
            "bdata": "AAAAAAAcpUA=",
            "dtype": "f8"
           },
           "xaxis": "x",
           "y": {
            "bdata": "yZxg+H9ZYT4=",
            "dtype": "f8"
           },
           "yaxis": "y"
          },
          {
           "hovertemplate": "<b>%{hovertext}</b><br><br>Country Name=%{text}<br>Year=2013<br>Neerslag (mm/jaar)=%{x}<br>Uitstoot per ton geproduceerd (Mt/ton)=%{y}<extra></extra>",
           "hovertext": [
            "Japan"
           ],
           "legendgroup": "Japan",
           "marker": {
            "color": "#ab63fa",
            "symbol": "circle"
           },
           "mode": "markers+text",
           "name": "Japan",
           "orientation": "v",
           "showlegend": true,
           "text": [
            "Japan"
           ],
           "type": "scatter",
           "x": {
            "bdata": "AAAAAAAQmkA=",
            "dtype": "f8"
           },
           "xaxis": "x",
           "y": {
            "bdata": "+OlT+2nMgz4=",
            "dtype": "f8"
           },
           "yaxis": "y"
          },
          {
           "hovertemplate": "<b>%{hovertext}</b><br><br>Country Name=%{text}<br>Year=2013<br>Neerslag (mm/jaar)=%{x}<br>Uitstoot per ton geproduceerd (Mt/ton)=%{y}<extra></extra>",
           "hovertext": [
            "Nigeria"
           ],
           "legendgroup": "Nigeria",
           "marker": {
            "color": "#FFA15A",
            "symbol": "circle"
           },
           "mode": "markers+text",
           "name": "Nigeria",
           "orientation": "v",
           "showlegend": true,
           "text": [
            "Nigeria"
           ],
           "type": "scatter",
           "x": {
            "bdata": "AAAAAAD4kUA=",
            "dtype": "f8"
           },
           "xaxis": "x",
           "y": {
            "bdata": "oyQJ2W4iTz4=",
            "dtype": "f8"
           },
           "yaxis": "y"
          },
          {
           "hovertemplate": "<b>%{hovertext}</b><br><br>Country Name=%{text}<br>Year=2013<br>Neerslag (mm/jaar)=%{x}<br>Uitstoot per ton geproduceerd (Mt/ton)=%{y}<extra></extra>",
           "hovertext": [
            "South Africa"
           ],
           "legendgroup": "South Africa",
           "marker": {
            "color": "#19d3f3",
            "symbol": "circle"
           },
           "mode": "markers+text",
           "name": "South Africa",
           "orientation": "v",
           "showlegend": true,
           "text": [
            "South Africa"
           ],
           "type": "scatter",
           "x": {
            "bdata": "AAAAAADwfkA=",
            "dtype": "f8"
           },
           "xaxis": "x",
           "y": {
            "bdata": "ZwcgSNpZej4=",
            "dtype": "f8"
           },
           "yaxis": "y"
          },
          {
           "hovertemplate": "<b>%{hovertext}</b><br><br>Country Name=%{text}<br>Year=2013<br>Neerslag (mm/jaar)=%{x}<br>Uitstoot per ton geproduceerd (Mt/ton)=%{y}<extra></extra>",
           "hovertext": [
            "United States of America"
           ],
           "legendgroup": "United States of America",
           "marker": {
            "color": "#FF6692",
            "symbol": "circle"
           },
           "mode": "markers+text",
           "name": "United States of America",
           "orientation": "v",
           "showlegend": true,
           "text": [
            "United States of America"
           ],
           "type": "scatter",
           "x": {
            "bdata": "AAAAAABYhkA=",
            "dtype": "f8"
           },
           "xaxis": "x",
           "y": {
            "bdata": "1U9G4zPunz4=",
            "dtype": "f8"
           },
           "yaxis": "y"
          }
         ],
         "name": "2013"
        },
        {
         "data": [
          {
           "hovertemplate": "<b>%{hovertext}</b><br><br>Country Name=%{text}<br>Year=2014<br>Neerslag (mm/jaar)=%{x}<br>Uitstoot per ton geproduceerd (Mt/ton)=%{y}<extra></extra>",
           "hovertext": [
            "Brazil"
           ],
           "legendgroup": "Brazil",
           "marker": {
            "color": "#636efa",
            "symbol": "circle"
           },
           "mode": "markers+text",
           "name": "Brazil",
           "orientation": "v",
           "showlegend": true,
           "text": [
            "Brazil"
           ],
           "type": "scatter",
           "x": {
            "bdata": "AAAAAACEm0A=",
            "dtype": "f8"
           },
           "xaxis": "x",
           "y": {
            "bdata": "C8s2fAPubz4=",
            "dtype": "f8"
           },
           "yaxis": "y"
          },
          {
           "hovertemplate": "<b>%{hovertext}</b><br><br>Country Name=%{text}<br>Year=2014<br>Neerslag (mm/jaar)=%{x}<br>Uitstoot per ton geproduceerd (Mt/ton)=%{y}<extra></extra>",
           "hovertext": [
            "India"
           ],
           "legendgroup": "India",
           "marker": {
            "color": "#EF553B",
            "symbol": "circle"
           },
           "mode": "markers+text",
           "name": "India",
           "orientation": "v",
           "showlegend": true,
           "text": [
            "India"
           ],
           "type": "scatter",
           "x": {
            "bdata": "AAAAAADskEA=",
            "dtype": "f8"
           },
           "xaxis": "x",
           "y": {
            "bdata": "Q/i4KFCijT4=",
            "dtype": "f8"
           },
           "yaxis": "y"
          },
          {
           "hovertemplate": "<b>%{hovertext}</b><br><br>Country Name=%{text}<br>Year=2014<br>Neerslag (mm/jaar)=%{x}<br>Uitstoot per ton geproduceerd (Mt/ton)=%{y}<extra></extra>",
           "hovertext": [
            "Indonesia"
           ],
           "legendgroup": "Indonesia",
           "marker": {
            "color": "#00cc96",
            "symbol": "circle"
           },
           "mode": "markers+text",
           "name": "Indonesia",
           "orientation": "v",
           "showlegend": true,
           "text": [
            "Indonesia"
           ],
           "type": "scatter",
           "x": {
            "bdata": "AAAAAAAcpUA=",
            "dtype": "f8"
           },
           "xaxis": "x",
           "y": {
            "bdata": "EJ/ZLfNwYT4=",
            "dtype": "f8"
           },
           "yaxis": "y"
          },
          {
           "hovertemplate": "<b>%{hovertext}</b><br><br>Country Name=%{text}<br>Year=2014<br>Neerslag (mm/jaar)=%{x}<br>Uitstoot per ton geproduceerd (Mt/ton)=%{y}<extra></extra>",
           "hovertext": [
            "Japan"
           ],
           "legendgroup": "Japan",
           "marker": {
            "color": "#ab63fa",
            "symbol": "circle"
           },
           "mode": "markers+text",
           "name": "Japan",
           "orientation": "v",
           "showlegend": true,
           "text": [
            "Japan"
           ],
           "type": "scatter",
           "x": {
            "bdata": "AAAAAAAQmkA=",
            "dtype": "f8"
           },
           "xaxis": "x",
           "y": {
            "bdata": "ydjXrm5/gz4=",
            "dtype": "f8"
           },
           "yaxis": "y"
          },
          {
           "hovertemplate": "<b>%{hovertext}</b><br><br>Country Name=%{text}<br>Year=2014<br>Neerslag (mm/jaar)=%{x}<br>Uitstoot per ton geproduceerd (Mt/ton)=%{y}<extra></extra>",
           "hovertext": [
            "Nigeria"
           ],
           "legendgroup": "Nigeria",
           "marker": {
            "color": "#FFA15A",
            "symbol": "circle"
           },
           "mode": "markers+text",
           "name": "Nigeria",
           "orientation": "v",
           "showlegend": true,
           "text": [
            "Nigeria"
           ],
           "type": "scatter",
           "x": {
            "bdata": "AAAAAAD4kUA=",
            "dtype": "f8"
           },
           "xaxis": "x",
           "y": {
            "bdata": "Q35Y+yQDSj4=",
            "dtype": "f8"
           },
           "yaxis": "y"
          },
          {
           "hovertemplate": "<b>%{hovertext}</b><br><br>Country Name=%{text}<br>Year=2014<br>Neerslag (mm/jaar)=%{x}<br>Uitstoot per ton geproduceerd (Mt/ton)=%{y}<extra></extra>",
           "hovertext": [
            "South Africa"
           ],
           "legendgroup": "South Africa",
           "marker": {
            "color": "#19d3f3",
            "symbol": "circle"
           },
           "mode": "markers+text",
           "name": "South Africa",
           "orientation": "v",
           "showlegend": true,
           "text": [
            "South Africa"
           ],
           "type": "scatter",
           "x": {
            "bdata": "AAAAAADwfkA=",
            "dtype": "f8"
           },
           "xaxis": "x",
           "y": {
            "bdata": "0vlHliEZez4=",
            "dtype": "f8"
           },
           "yaxis": "y"
          },
          {
           "hovertemplate": "<b>%{hovertext}</b><br><br>Country Name=%{text}<br>Year=2014<br>Neerslag (mm/jaar)=%{x}<br>Uitstoot per ton geproduceerd (Mt/ton)=%{y}<extra></extra>",
           "hovertext": [
            "United States of America"
           ],
           "legendgroup": "United States of America",
           "marker": {
            "color": "#FF6692",
            "symbol": "circle"
           },
           "mode": "markers+text",
           "name": "United States of America",
           "orientation": "v",
           "showlegend": true,
           "text": [
            "United States of America"
           ],
           "type": "scatter",
           "x": {
            "bdata": "AAAAAABYhkA=",
            "dtype": "f8"
           },
           "xaxis": "x",
           "y": {
            "bdata": "P+8Qa07Inj4=",
            "dtype": "f8"
           },
           "yaxis": "y"
          }
         ],
         "name": "2014"
        },
        {
         "data": [
          {
           "hovertemplate": "<b>%{hovertext}</b><br><br>Country Name=%{text}<br>Year=2015<br>Neerslag (mm/jaar)=%{x}<br>Uitstoot per ton geproduceerd (Mt/ton)=%{y}<extra></extra>",
           "hovertext": [
            "Brazil"
           ],
           "legendgroup": "Brazil",
           "marker": {
            "color": "#636efa",
            "symbol": "circle"
           },
           "mode": "markers+text",
           "name": "Brazil",
           "orientation": "v",
           "showlegend": true,
           "text": [
            "Brazil"
           ],
           "type": "scatter",
           "x": {
            "bdata": "AAAAAACEm0A=",
            "dtype": "f8"
           },
           "xaxis": "x",
           "y": {
            "bdata": "SlWrTqflbT4=",
            "dtype": "f8"
           },
           "yaxis": "y"
          },
          {
           "hovertemplate": "<b>%{hovertext}</b><br><br>Country Name=%{text}<br>Year=2015<br>Neerslag (mm/jaar)=%{x}<br>Uitstoot per ton geproduceerd (Mt/ton)=%{y}<extra></extra>",
           "hovertext": [
            "India"
           ],
           "legendgroup": "India",
           "marker": {
            "color": "#EF553B",
            "symbol": "circle"
           },
           "mode": "markers+text",
           "name": "India",
           "orientation": "v",
           "showlegend": true,
           "text": [
            "India"
           ],
           "type": "scatter",
           "x": {
            "bdata": "AAAAAADskEA=",
            "dtype": "f8"
           },
           "xaxis": "x",
           "y": {
            "bdata": "8vXNhEpnjT4=",
            "dtype": "f8"
           },
           "yaxis": "y"
          },
          {
           "hovertemplate": "<b>%{hovertext}</b><br><br>Country Name=%{text}<br>Year=2015<br>Neerslag (mm/jaar)=%{x}<br>Uitstoot per ton geproduceerd (Mt/ton)=%{y}<extra></extra>",
           "hovertext": [
            "Indonesia"
           ],
           "legendgroup": "Indonesia",
           "marker": {
            "color": "#00cc96",
            "symbol": "circle"
           },
           "mode": "markers+text",
           "name": "Indonesia",
           "orientation": "v",
           "showlegend": true,
           "text": [
            "Indonesia"
           ],
           "type": "scatter",
           "x": {
            "bdata": "AAAAAAAcpUA=",
            "dtype": "f8"
           },
           "xaxis": "x",
           "y": {
            "bdata": "4hjNt8VAYD4=",
            "dtype": "f8"
           },
           "yaxis": "y"
          },
          {
           "hovertemplate": "<b>%{hovertext}</b><br><br>Country Name=%{text}<br>Year=2015<br>Neerslag (mm/jaar)=%{x}<br>Uitstoot per ton geproduceerd (Mt/ton)=%{y}<extra></extra>",
           "hovertext": [
            "Japan"
           ],
           "legendgroup": "Japan",
           "marker": {
            "color": "#ab63fa",
            "symbol": "circle"
           },
           "mode": "markers+text",
           "name": "Japan",
           "orientation": "v",
           "showlegend": true,
           "text": [
            "Japan"
           ],
           "type": "scatter",
           "x": {
            "bdata": "AAAAAAAQmkA=",
            "dtype": "f8"
           },
           "xaxis": "x",
           "y": {
            "bdata": "zr0vNaxRgz4=",
            "dtype": "f8"
           },
           "yaxis": "y"
          },
          {
           "hovertemplate": "<b>%{hovertext}</b><br><br>Country Name=%{text}<br>Year=2015<br>Neerslag (mm/jaar)=%{x}<br>Uitstoot per ton geproduceerd (Mt/ton)=%{y}<extra></extra>",
           "hovertext": [
            "Nigeria"
           ],
           "legendgroup": "Nigeria",
           "marker": {
            "color": "#FFA15A",
            "symbol": "circle"
           },
           "mode": "markers+text",
           "name": "Nigeria",
           "orientation": "v",
           "showlegend": true,
           "text": [
            "Nigeria"
           ],
           "type": "scatter",
           "x": {
            "bdata": "AAAAAAD4kUA=",
            "dtype": "f8"
           },
           "xaxis": "x",
           "y": {
            "bdata": "6PNmiazySD4=",
            "dtype": "f8"
           },
           "yaxis": "y"
          },
          {
           "hovertemplate": "<b>%{hovertext}</b><br><br>Country Name=%{text}<br>Year=2015<br>Neerslag (mm/jaar)=%{x}<br>Uitstoot per ton geproduceerd (Mt/ton)=%{y}<extra></extra>",
           "hovertext": [
            "South Africa"
           ],
           "legendgroup": "South Africa",
           "marker": {
            "color": "#19d3f3",
            "symbol": "circle"
           },
           "mode": "markers+text",
           "name": "South Africa",
           "orientation": "v",
           "showlegend": true,
           "text": [
            "South Africa"
           ],
           "type": "scatter",
           "x": {
            "bdata": "AAAAAADwfkA=",
            "dtype": "f8"
           },
           "xaxis": "x",
           "y": {
            "bdata": "ZmXMhr1ofD4=",
            "dtype": "f8"
           },
           "yaxis": "y"
          },
          {
           "hovertemplate": "<b>%{hovertext}</b><br><br>Country Name=%{text}<br>Year=2015<br>Neerslag (mm/jaar)=%{x}<br>Uitstoot per ton geproduceerd (Mt/ton)=%{y}<extra></extra>",
           "hovertext": [
            "United States of America"
           ],
           "legendgroup": "United States of America",
           "marker": {
            "color": "#FF6692",
            "symbol": "circle"
           },
           "mode": "markers+text",
           "name": "United States of America",
           "orientation": "v",
           "showlegend": true,
           "text": [
            "United States of America"
           ],
           "type": "scatter",
           "x": {
            "bdata": "AAAAAABYhkA=",
            "dtype": "f8"
           },
           "xaxis": "x",
           "y": {
            "bdata": "orN5UMqunj4=",
            "dtype": "f8"
           },
           "yaxis": "y"
          }
         ],
         "name": "2015"
        },
        {
         "data": [
          {
           "hovertemplate": "<b>%{hovertext}</b><br><br>Country Name=%{text}<br>Year=2016<br>Neerslag (mm/jaar)=%{x}<br>Uitstoot per ton geproduceerd (Mt/ton)=%{y}<extra></extra>",
           "hovertext": [
            "Brazil"
           ],
           "legendgroup": "Brazil",
           "marker": {
            "color": "#636efa",
            "symbol": "circle"
           },
           "mode": "markers+text",
           "name": "Brazil",
           "orientation": "v",
           "showlegend": true,
           "text": [
            "Brazil"
           ],
           "type": "scatter",
           "x": {
            "bdata": "AAAAAACEm0A=",
            "dtype": "f8"
           },
           "xaxis": "x",
           "y": {
            "bdata": "EvCpKw5tbT4=",
            "dtype": "f8"
           },
           "yaxis": "y"
          },
          {
           "hovertemplate": "<b>%{hovertext}</b><br><br>Country Name=%{text}<br>Year=2016<br>Neerslag (mm/jaar)=%{x}<br>Uitstoot per ton geproduceerd (Mt/ton)=%{y}<extra></extra>",
           "hovertext": [
            "India"
           ],
           "legendgroup": "India",
           "marker": {
            "color": "#EF553B",
            "symbol": "circle"
           },
           "mode": "markers+text",
           "name": "India",
           "orientation": "v",
           "showlegend": true,
           "text": [
            "India"
           ],
           "type": "scatter",
           "x": {
            "bdata": "AAAAAADskEA=",
            "dtype": "f8"
           },
           "xaxis": "x",
           "y": {
            "bdata": "4N7VeePfjT4=",
            "dtype": "f8"
           },
           "yaxis": "y"
          },
          {
           "hovertemplate": "<b>%{hovertext}</b><br><br>Country Name=%{text}<br>Year=2016<br>Neerslag (mm/jaar)=%{x}<br>Uitstoot per ton geproduceerd (Mt/ton)=%{y}<extra></extra>",
           "hovertext": [
            "Indonesia"
           ],
           "legendgroup": "Indonesia",
           "marker": {
            "color": "#00cc96",
            "symbol": "circle"
           },
           "mode": "markers+text",
           "name": "Indonesia",
           "orientation": "v",
           "showlegend": true,
           "text": [
            "Indonesia"
           ],
           "type": "scatter",
           "x": {
            "bdata": "AAAAAAAcpUA=",
            "dtype": "f8"
           },
           "xaxis": "x",
           "y": {
            "bdata": "CA3WIrdhYD4=",
            "dtype": "f8"
           },
           "yaxis": "y"
          },
          {
           "hovertemplate": "<b>%{hovertext}</b><br><br>Country Name=%{text}<br>Year=2016<br>Neerslag (mm/jaar)=%{x}<br>Uitstoot per ton geproduceerd (Mt/ton)=%{y}<extra></extra>",
           "hovertext": [
            "Japan"
           ],
           "legendgroup": "Japan",
           "marker": {
            "color": "#ab63fa",
            "symbol": "circle"
           },
           "mode": "markers+text",
           "name": "Japan",
           "orientation": "v",
           "showlegend": true,
           "text": [
            "Japan"
           ],
           "type": "scatter",
           "x": {
            "bdata": "AAAAAAAQmkA=",
            "dtype": "f8"
           },
           "xaxis": "x",
           "y": {
            "bdata": "5dKnvgR7gz4=",
            "dtype": "f8"
           },
           "yaxis": "y"
          },
          {
           "hovertemplate": "<b>%{hovertext}</b><br><br>Country Name=%{text}<br>Year=2016<br>Neerslag (mm/jaar)=%{x}<br>Uitstoot per ton geproduceerd (Mt/ton)=%{y}<extra></extra>",
           "hovertext": [
            "Nigeria"
           ],
           "legendgroup": "Nigeria",
           "marker": {
            "color": "#FFA15A",
            "symbol": "circle"
           },
           "mode": "markers+text",
           "name": "Nigeria",
           "orientation": "v",
           "showlegend": true,
           "text": [
            "Nigeria"
           ],
           "type": "scatter",
           "x": {
            "bdata": "AAAAAAD4kUA=",
            "dtype": "f8"
           },
           "xaxis": "x",
           "y": {
            "bdata": "fC/bnUHDRz4=",
            "dtype": "f8"
           },
           "yaxis": "y"
          },
          {
           "hovertemplate": "<b>%{hovertext}</b><br><br>Country Name=%{text}<br>Year=2016<br>Neerslag (mm/jaar)=%{x}<br>Uitstoot per ton geproduceerd (Mt/ton)=%{y}<extra></extra>",
           "hovertext": [
            "South Africa"
           ],
           "legendgroup": "South Africa",
           "marker": {
            "color": "#19d3f3",
            "symbol": "circle"
           },
           "mode": "markers+text",
           "name": "South Africa",
           "orientation": "v",
           "showlegend": true,
           "text": [
            "South Africa"
           ],
           "type": "scatter",
           "x": {
            "bdata": "AAAAAADwfkA=",
            "dtype": "f8"
           },
           "xaxis": "x",
           "y": {
            "bdata": "wivGE6sAfz4=",
            "dtype": "f8"
           },
           "yaxis": "y"
          },
          {
           "hovertemplate": "<b>%{hovertext}</b><br><br>Country Name=%{text}<br>Year=2016<br>Neerslag (mm/jaar)=%{x}<br>Uitstoot per ton geproduceerd (Mt/ton)=%{y}<extra></extra>",
           "hovertext": [
            "United States of America"
           ],
           "legendgroup": "United States of America",
           "marker": {
            "color": "#FF6692",
            "symbol": "circle"
           },
           "mode": "markers+text",
           "name": "United States of America",
           "orientation": "v",
           "showlegend": true,
           "text": [
            "United States of America"
           ],
           "type": "scatter",
           "x": {
            "bdata": "AAAAAABYhkA=",
            "dtype": "f8"
           },
           "xaxis": "x",
           "y": {
            "bdata": "/q4QfNPGnT4=",
            "dtype": "f8"
           },
           "yaxis": "y"
          }
         ],
         "name": "2016"
        },
        {
         "data": [
          {
           "hovertemplate": "<b>%{hovertext}</b><br><br>Country Name=%{text}<br>Year=2017<br>Neerslag (mm/jaar)=%{x}<br>Uitstoot per ton geproduceerd (Mt/ton)=%{y}<extra></extra>",
           "hovertext": [
            "Brazil"
           ],
           "legendgroup": "Brazil",
           "marker": {
            "color": "#636efa",
            "symbol": "circle"
           },
           "mode": "markers+text",
           "name": "Brazil",
           "orientation": "v",
           "showlegend": true,
           "text": [
            "Brazil"
           ],
           "type": "scatter",
           "x": {
            "bdata": "AAAAAACEm0A=",
            "dtype": "f8"
           },
           "xaxis": "x",
           "y": {
            "bdata": "UpW1JgmQbD4=",
            "dtype": "f8"
           },
           "yaxis": "y"
          },
          {
           "hovertemplate": "<b>%{hovertext}</b><br><br>Country Name=%{text}<br>Year=2017<br>Neerslag (mm/jaar)=%{x}<br>Uitstoot per ton geproduceerd (Mt/ton)=%{y}<extra></extra>",
           "hovertext": [
            "India"
           ],
           "legendgroup": "India",
           "marker": {
            "color": "#EF553B",
            "symbol": "circle"
           },
           "mode": "markers+text",
           "name": "India",
           "orientation": "v",
           "showlegend": true,
           "text": [
            "India"
           ],
           "type": "scatter",
           "x": {
            "bdata": "AAAAAADskEA=",
            "dtype": "f8"
           },
           "xaxis": "x",
           "y": {
            "bdata": "izsko6+djz4=",
            "dtype": "f8"
           },
           "yaxis": "y"
          },
          {
           "hovertemplate": "<b>%{hovertext}</b><br><br>Country Name=%{text}<br>Year=2017<br>Neerslag (mm/jaar)=%{x}<br>Uitstoot per ton geproduceerd (Mt/ton)=%{y}<extra></extra>",
           "hovertext": [
            "Indonesia"
           ],
           "legendgroup": "Indonesia",
           "marker": {
            "color": "#00cc96",
            "symbol": "circle"
           },
           "mode": "markers+text",
           "name": "Indonesia",
           "orientation": "v",
           "showlegend": true,
           "text": [
            "Indonesia"
           ],
           "type": "scatter",
           "x": {
            "bdata": "AAAAAAAcpUA=",
            "dtype": "f8"
           },
           "xaxis": "x",
           "y": {
            "bdata": "bpafVWoOXj4=",
            "dtype": "f8"
           },
           "yaxis": "y"
          },
          {
           "hovertemplate": "<b>%{hovertext}</b><br><br>Country Name=%{text}<br>Year=2017<br>Neerslag (mm/jaar)=%{x}<br>Uitstoot per ton geproduceerd (Mt/ton)=%{y}<extra></extra>",
           "hovertext": [
            "Japan"
           ],
           "legendgroup": "Japan",
           "marker": {
            "color": "#ab63fa",
            "symbol": "circle"
           },
           "mode": "markers+text",
           "name": "Japan",
           "orientation": "v",
           "showlegend": true,
           "text": [
            "Japan"
           ],
           "type": "scatter",
           "x": {
            "bdata": "AAAAAAAQmkA=",
            "dtype": "f8"
           },
           "xaxis": "x",
           "y": {
            "bdata": "BCkhhWn2gj4=",
            "dtype": "f8"
           },
           "yaxis": "y"
          },
          {
           "hovertemplate": "<b>%{hovertext}</b><br><br>Country Name=%{text}<br>Year=2017<br>Neerslag (mm/jaar)=%{x}<br>Uitstoot per ton geproduceerd (Mt/ton)=%{y}<extra></extra>",
           "hovertext": [
            "Nigeria"
           ],
           "legendgroup": "Nigeria",
           "marker": {
            "color": "#FFA15A",
            "symbol": "circle"
           },
           "mode": "markers+text",
           "name": "Nigeria",
           "orientation": "v",
           "showlegend": true,
           "text": [
            "Nigeria"
           ],
           "type": "scatter",
           "x": {
            "bdata": "AAAAAAD4kUA=",
            "dtype": "f8"
           },
           "xaxis": "x",
           "y": {
            "bdata": "7pHVBocIRz4=",
            "dtype": "f8"
           },
           "yaxis": "y"
          },
          {
           "hovertemplate": "<b>%{hovertext}</b><br><br>Country Name=%{text}<br>Year=2017<br>Neerslag (mm/jaar)=%{x}<br>Uitstoot per ton geproduceerd (Mt/ton)=%{y}<extra></extra>",
           "hovertext": [
            "South Africa"
           ],
           "legendgroup": "South Africa",
           "marker": {
            "color": "#19d3f3",
            "symbol": "circle"
           },
           "mode": "markers+text",
           "name": "South Africa",
           "orientation": "v",
           "showlegend": true,
           "text": [
            "South Africa"
           ],
           "type": "scatter",
           "x": {
            "bdata": "AAAAAADwfkA=",
            "dtype": "f8"
           },
           "xaxis": "x",
           "y": {
            "bdata": "KOk9lpCBej4=",
            "dtype": "f8"
           },
           "yaxis": "y"
          },
          {
           "hovertemplate": "<b>%{hovertext}</b><br><br>Country Name=%{text}<br>Year=2017<br>Neerslag (mm/jaar)=%{x}<br>Uitstoot per ton geproduceerd (Mt/ton)=%{y}<extra></extra>",
           "hovertext": [
            "United States of America"
           ],
           "legendgroup": "United States of America",
           "marker": {
            "color": "#FF6692",
            "symbol": "circle"
           },
           "mode": "markers+text",
           "name": "United States of America",
           "orientation": "v",
           "showlegend": true,
           "text": [
            "United States of America"
           ],
           "type": "scatter",
           "x": {
            "bdata": "AAAAAABYhkA=",
            "dtype": "f8"
           },
           "xaxis": "x",
           "y": {
            "bdata": "qeVvYaLnnD4=",
            "dtype": "f8"
           },
           "yaxis": "y"
          }
         ],
         "name": "2017"
        },
        {
         "data": [
          {
           "hovertemplate": "<b>%{hovertext}</b><br><br>Country Name=%{text}<br>Year=2018<br>Neerslag (mm/jaar)=%{x}<br>Uitstoot per ton geproduceerd (Mt/ton)=%{y}<extra></extra>",
           "hovertext": [
            "Brazil"
           ],
           "legendgroup": "Brazil",
           "marker": {
            "color": "#636efa",
            "symbol": "circle"
           },
           "mode": "markers+text",
           "name": "Brazil",
           "orientation": "v",
           "showlegend": true,
           "text": [
            "Brazil"
           ],
           "type": "scatter",
           "x": {
            "bdata": "AAAAAACEm0A=",
            "dtype": "f8"
           },
           "xaxis": "x",
           "y": {
            "bdata": "l5icCMYabT4=",
            "dtype": "f8"
           },
           "yaxis": "y"
          },
          {
           "hovertemplate": "<b>%{hovertext}</b><br><br>Country Name=%{text}<br>Year=2018<br>Neerslag (mm/jaar)=%{x}<br>Uitstoot per ton geproduceerd (Mt/ton)=%{y}<extra></extra>",
           "hovertext": [
            "India"
           ],
           "legendgroup": "India",
           "marker": {
            "color": "#EF553B",
            "symbol": "circle"
           },
           "mode": "markers+text",
           "name": "India",
           "orientation": "v",
           "showlegend": true,
           "text": [
            "India"
           ],
           "type": "scatter",
           "x": {
            "bdata": "AAAAAADskEA=",
            "dtype": "f8"
           },
           "xaxis": "x",
           "y": {
            "bdata": "b+KVmZ3jiz4=",
            "dtype": "f8"
           },
           "yaxis": "y"
          },
          {
           "hovertemplate": "<b>%{hovertext}</b><br><br>Country Name=%{text}<br>Year=2018<br>Neerslag (mm/jaar)=%{x}<br>Uitstoot per ton geproduceerd (Mt/ton)=%{y}<extra></extra>",
           "hovertext": [
            "Indonesia"
           ],
           "legendgroup": "Indonesia",
           "marker": {
            "color": "#00cc96",
            "symbol": "circle"
           },
           "mode": "markers+text",
           "name": "Indonesia",
           "orientation": "v",
           "showlegend": true,
           "text": [
            "Indonesia"
           ],
           "type": "scatter",
           "x": {
            "bdata": "AAAAAAAcpUA=",
            "dtype": "f8"
           },
           "xaxis": "x",
           "y": {
            "bdata": "XbQidl8rXD4=",
            "dtype": "f8"
           },
           "yaxis": "y"
          },
          {
           "hovertemplate": "<b>%{hovertext}</b><br><br>Country Name=%{text}<br>Year=2018<br>Neerslag (mm/jaar)=%{x}<br>Uitstoot per ton geproduceerd (Mt/ton)=%{y}<extra></extra>",
           "hovertext": [
            "Japan"
           ],
           "legendgroup": "Japan",
           "marker": {
            "color": "#ab63fa",
            "symbol": "circle"
           },
           "mode": "markers+text",
           "name": "Japan",
           "orientation": "v",
           "showlegend": true,
           "text": [
            "Japan"
           ],
           "type": "scatter",
           "x": {
            "bdata": "AAAAAAAQmkA=",
            "dtype": "f8"
           },
           "xaxis": "x",
           "y": {
            "bdata": "4SG5lXGBgj4=",
            "dtype": "f8"
           },
           "yaxis": "y"
          },
          {
           "hovertemplate": "<b>%{hovertext}</b><br><br>Country Name=%{text}<br>Year=2018<br>Neerslag (mm/jaar)=%{x}<br>Uitstoot per ton geproduceerd (Mt/ton)=%{y}<extra></extra>",
           "hovertext": [
            "Nigeria"
           ],
           "legendgroup": "Nigeria",
           "marker": {
            "color": "#FFA15A",
            "symbol": "circle"
           },
           "mode": "markers+text",
           "name": "Nigeria",
           "orientation": "v",
           "showlegend": true,
           "text": [
            "Nigeria"
           ],
           "type": "scatter",
           "x": {
            "bdata": "AAAAAAD4kUA=",
            "dtype": "f8"
           },
           "xaxis": "x",
           "y": {
            "bdata": "XonpIVv2RT4=",
            "dtype": "f8"
           },
           "yaxis": "y"
          },
          {
           "hovertemplate": "<b>%{hovertext}</b><br><br>Country Name=%{text}<br>Year=2018<br>Neerslag (mm/jaar)=%{x}<br>Uitstoot per ton geproduceerd (Mt/ton)=%{y}<extra></extra>",
           "hovertext": [
            "South Africa"
           ],
           "legendgroup": "South Africa",
           "marker": {
            "color": "#19d3f3",
            "symbol": "circle"
           },
           "mode": "markers+text",
           "name": "South Africa",
           "orientation": "v",
           "showlegend": true,
           "text": [
            "South Africa"
           ],
           "type": "scatter",
           "x": {
            "bdata": "AAAAAADwfkA=",
            "dtype": "f8"
           },
           "xaxis": "x",
           "y": {
            "bdata": "jH++jcKgej4=",
            "dtype": "f8"
           },
           "yaxis": "y"
          },
          {
           "hovertemplate": "<b>%{hovertext}</b><br><br>Country Name=%{text}<br>Year=2018<br>Neerslag (mm/jaar)=%{x}<br>Uitstoot per ton geproduceerd (Mt/ton)=%{y}<extra></extra>",
           "hovertext": [
            "United States of America"
           ],
           "legendgroup": "United States of America",
           "marker": {
            "color": "#FF6692",
            "symbol": "circle"
           },
           "mode": "markers+text",
           "name": "United States of America",
           "orientation": "v",
           "showlegend": true,
           "text": [
            "United States of America"
           ],
           "type": "scatter",
           "x": {
            "bdata": "AAAAAABYhkA=",
            "dtype": "f8"
           },
           "xaxis": "x",
           "y": {
            "bdata": "lOtN2BDsnT4=",
            "dtype": "f8"
           },
           "yaxis": "y"
          }
         ],
         "name": "2018"
        },
        {
         "data": [
          {
           "hovertemplate": "<b>%{hovertext}</b><br><br>Country Name=%{text}<br>Year=2019<br>Neerslag (mm/jaar)=%{x}<br>Uitstoot per ton geproduceerd (Mt/ton)=%{y}<extra></extra>",
           "hovertext": [
            "Brazil"
           ],
           "legendgroup": "Brazil",
           "marker": {
            "color": "#636efa",
            "symbol": "circle"
           },
           "mode": "markers+text",
           "name": "Brazil",
           "orientation": "v",
           "showlegend": true,
           "text": [
            "Brazil"
           ],
           "type": "scatter",
           "x": {
            "bdata": "AAAAAACEm0A=",
            "dtype": "f8"
           },
           "xaxis": "x",
           "y": {
            "bdata": "Wf1RZ+EebT4=",
            "dtype": "f8"
           },
           "yaxis": "y"
          },
          {
           "hovertemplate": "<b>%{hovertext}</b><br><br>Country Name=%{text}<br>Year=2019<br>Neerslag (mm/jaar)=%{x}<br>Uitstoot per ton geproduceerd (Mt/ton)=%{y}<extra></extra>",
           "hovertext": [
            "India"
           ],
           "legendgroup": "India",
           "marker": {
            "color": "#EF553B",
            "symbol": "circle"
           },
           "mode": "markers+text",
           "name": "India",
           "orientation": "v",
           "showlegend": true,
           "text": [
            "India"
           ],
           "type": "scatter",
           "x": {
            "bdata": "AAAAAADskEA=",
            "dtype": "f8"
           },
           "xaxis": "x",
           "y": {
            "bdata": "aJRZtShViz4=",
            "dtype": "f8"
           },
           "yaxis": "y"
          },
          {
           "hovertemplate": "<b>%{hovertext}</b><br><br>Country Name=%{text}<br>Year=2019<br>Neerslag (mm/jaar)=%{x}<br>Uitstoot per ton geproduceerd (Mt/ton)=%{y}<extra></extra>",
           "hovertext": [
            "Indonesia"
           ],
           "legendgroup": "Indonesia",
           "marker": {
            "color": "#00cc96",
            "symbol": "circle"
           },
           "mode": "markers+text",
           "name": "Indonesia",
           "orientation": "v",
           "showlegend": true,
           "text": [
            "Indonesia"
           ],
           "type": "scatter",
           "x": {
            "bdata": "AAAAAAAcpUA=",
            "dtype": "f8"
           },
           "xaxis": "x",
           "y": {
            "bdata": "qB2k/cHWWz4=",
            "dtype": "f8"
           },
           "yaxis": "y"
          },
          {
           "hovertemplate": "<b>%{hovertext}</b><br><br>Country Name=%{text}<br>Year=2019<br>Neerslag (mm/jaar)=%{x}<br>Uitstoot per ton geproduceerd (Mt/ton)=%{y}<extra></extra>",
           "hovertext": [
            "Japan"
           ],
           "legendgroup": "Japan",
           "marker": {
            "color": "#ab63fa",
            "symbol": "circle"
           },
           "mode": "markers+text",
           "name": "Japan",
           "orientation": "v",
           "showlegend": true,
           "text": [
            "Japan"
           ],
           "type": "scatter",
           "x": {
            "bdata": "AAAAAAAQmkA=",
            "dtype": "f8"
           },
           "xaxis": "x",
           "y": {
            "bdata": "tXY8owYKgz4=",
            "dtype": "f8"
           },
           "yaxis": "y"
          },
          {
           "hovertemplate": "<b>%{hovertext}</b><br><br>Country Name=%{text}<br>Year=2019<br>Neerslag (mm/jaar)=%{x}<br>Uitstoot per ton geproduceerd (Mt/ton)=%{y}<extra></extra>",
           "hovertext": [
            "Nigeria"
           ],
           "legendgroup": "Nigeria",
           "marker": {
            "color": "#FFA15A",
            "symbol": "circle"
           },
           "mode": "markers+text",
           "name": "Nigeria",
           "orientation": "v",
           "showlegend": true,
           "text": [
            "Nigeria"
           ],
           "type": "scatter",
           "x": {
            "bdata": "AAAAAAD4kUA=",
            "dtype": "f8"
           },
           "xaxis": "x",
           "y": {
            "bdata": "0C+6M+lKRj4=",
            "dtype": "f8"
           },
           "yaxis": "y"
          },
          {
           "hovertemplate": "<b>%{hovertext}</b><br><br>Country Name=%{text}<br>Year=2019<br>Neerslag (mm/jaar)=%{x}<br>Uitstoot per ton geproduceerd (Mt/ton)=%{y}<extra></extra>",
           "hovertext": [
            "South Africa"
           ],
           "legendgroup": "South Africa",
           "marker": {
            "color": "#19d3f3",
            "symbol": "circle"
           },
           "mode": "markers+text",
           "name": "South Africa",
           "orientation": "v",
           "showlegend": true,
           "text": [
            "South Africa"
           ],
           "type": "scatter",
           "x": {
            "bdata": "AAAAAADwfkA=",
            "dtype": "f8"
           },
           "xaxis": "x",
           "y": {
            "bdata": "/bGgHLlwej4=",
            "dtype": "f8"
           },
           "yaxis": "y"
          },
          {
           "hovertemplate": "<b>%{hovertext}</b><br><br>Country Name=%{text}<br>Year=2019<br>Neerslag (mm/jaar)=%{x}<br>Uitstoot per ton geproduceerd (Mt/ton)=%{y}<extra></extra>",
           "hovertext": [
            "United States of America"
           ],
           "legendgroup": "United States of America",
           "marker": {
            "color": "#FF6692",
            "symbol": "circle"
           },
           "mode": "markers+text",
           "name": "United States of America",
           "orientation": "v",
           "showlegend": true,
           "text": [
            "United States of America"
           ],
           "type": "scatter",
           "x": {
            "bdata": "AAAAAABYhkA=",
            "dtype": "f8"
           },
           "xaxis": "x",
           "y": {
            "bdata": "VXB3zqJqnj4=",
            "dtype": "f8"
           },
           "yaxis": "y"
          }
         ],
         "name": "2019"
        },
        {
         "data": [
          {
           "hovertemplate": "<b>%{hovertext}</b><br><br>Country Name=%{text}<br>Year=2020<br>Neerslag (mm/jaar)=%{x}<br>Uitstoot per ton geproduceerd (Mt/ton)=%{y}<extra></extra>",
           "hovertext": [
            "Brazil"
           ],
           "legendgroup": "Brazil",
           "marker": {
            "color": "#636efa",
            "symbol": "circle"
           },
           "mode": "markers+text",
           "name": "Brazil",
           "orientation": "v",
           "showlegend": true,
           "text": [
            "Brazil"
           ],
           "type": "scatter",
           "x": {
            "bdata": "AAAAAACEm0A=",
            "dtype": "f8"
           },
           "xaxis": "x",
           "y": {
            "bdata": "XIBg2zqDbT4=",
            "dtype": "f8"
           },
           "yaxis": "y"
          },
          {
           "hovertemplate": "<b>%{hovertext}</b><br><br>Country Name=%{text}<br>Year=2020<br>Neerslag (mm/jaar)=%{x}<br>Uitstoot per ton geproduceerd (Mt/ton)=%{y}<extra></extra>",
           "hovertext": [
            "India"
           ],
           "legendgroup": "India",
           "marker": {
            "color": "#EF553B",
            "symbol": "circle"
           },
           "mode": "markers+text",
           "name": "India",
           "orientation": "v",
           "showlegend": true,
           "text": [
            "India"
           ],
           "type": "scatter",
           "x": {
            "bdata": "AAAAAADskEA=",
            "dtype": "f8"
           },
           "xaxis": "x",
           "y": {
            "bdata": "J/6tY9BUjT4=",
            "dtype": "f8"
           },
           "yaxis": "y"
          },
          {
           "hovertemplate": "<b>%{hovertext}</b><br><br>Country Name=%{text}<br>Year=2020<br>Neerslag (mm/jaar)=%{x}<br>Uitstoot per ton geproduceerd (Mt/ton)=%{y}<extra></extra>",
           "hovertext": [
            "Indonesia"
           ],
           "legendgroup": "Indonesia",
           "marker": {
            "color": "#00cc96",
            "symbol": "circle"
           },
           "mode": "markers+text",
           "name": "Indonesia",
           "orientation": "v",
           "showlegend": true,
           "text": [
            "Indonesia"
           ],
           "type": "scatter",
           "x": {
            "bdata": "AAAAAAAcpUA=",
            "dtype": "f8"
           },
           "xaxis": "x",
           "y": {
            "bdata": "vknOHZ9qWz4=",
            "dtype": "f8"
           },
           "yaxis": "y"
          },
          {
           "hovertemplate": "<b>%{hovertext}</b><br><br>Country Name=%{text}<br>Year=2020<br>Neerslag (mm/jaar)=%{x}<br>Uitstoot per ton geproduceerd (Mt/ton)=%{y}<extra></extra>",
           "hovertext": [
            "Japan"
           ],
           "legendgroup": "Japan",
           "marker": {
            "color": "#ab63fa",
            "symbol": "circle"
           },
           "mode": "markers+text",
           "name": "Japan",
           "orientation": "v",
           "showlegend": true,
           "text": [
            "Japan"
           ],
           "type": "scatter",
           "x": {
            "bdata": "AAAAAAAQmkA=",
            "dtype": "f8"
           },
           "xaxis": "x",
           "y": {
            "bdata": "bRA7nrgvgz4=",
            "dtype": "f8"
           },
           "yaxis": "y"
          },
          {
           "hovertemplate": "<b>%{hovertext}</b><br><br>Country Name=%{text}<br>Year=2020<br>Neerslag (mm/jaar)=%{x}<br>Uitstoot per ton geproduceerd (Mt/ton)=%{y}<extra></extra>",
           "hovertext": [
            "Nigeria"
           ],
           "legendgroup": "Nigeria",
           "marker": {
            "color": "#FFA15A",
            "symbol": "circle"
           },
           "mode": "markers+text",
           "name": "Nigeria",
           "orientation": "v",
           "showlegend": true,
           "text": [
            "Nigeria"
           ],
           "type": "scatter",
           "x": {
            "bdata": "AAAAAAD4kUA=",
            "dtype": "f8"
           },
           "xaxis": "x",
           "y": {
            "bdata": "lzsd+C55Qz4=",
            "dtype": "f8"
           },
           "yaxis": "y"
          },
          {
           "hovertemplate": "<b>%{hovertext}</b><br><br>Country Name=%{text}<br>Year=2020<br>Neerslag (mm/jaar)=%{x}<br>Uitstoot per ton geproduceerd (Mt/ton)=%{y}<extra></extra>",
           "hovertext": [
            "South Africa"
           ],
           "legendgroup": "South Africa",
           "marker": {
            "color": "#19d3f3",
            "symbol": "circle"
           },
           "mode": "markers+text",
           "name": "South Africa",
           "orientation": "v",
           "showlegend": true,
           "text": [
            "South Africa"
           ],
           "type": "scatter",
           "x": {
            "bdata": "AAAAAADwfkA=",
            "dtype": "f8"
           },
           "xaxis": "x",
           "y": {
            "bdata": "aClYm01Qez4=",
            "dtype": "f8"
           },
           "yaxis": "y"
          },
          {
           "hovertemplate": "<b>%{hovertext}</b><br><br>Country Name=%{text}<br>Year=2020<br>Neerslag (mm/jaar)=%{x}<br>Uitstoot per ton geproduceerd (Mt/ton)=%{y}<extra></extra>",
           "hovertext": [
            "United States of America"
           ],
           "legendgroup": "United States of America",
           "marker": {
            "color": "#FF6692",
            "symbol": "circle"
           },
           "mode": "markers+text",
           "name": "United States of America",
           "orientation": "v",
           "showlegend": true,
           "text": [
            "United States of America"
           ],
           "type": "scatter",
           "x": {
            "bdata": "AAAAAABYhkA=",
            "dtype": "f8"
           },
           "xaxis": "x",
           "y": {
            "bdata": "UnptaxTgnD4=",
            "dtype": "f8"
           },
           "yaxis": "y"
          }
         ],
         "name": "2020"
        },
        {
         "data": [
          {
           "hovertemplate": "<b>%{hovertext}</b><br><br>Country Name=%{text}<br>Year=2021<br>Neerslag (mm/jaar)=%{x}<br>Uitstoot per ton geproduceerd (Mt/ton)=%{y}<extra></extra>",
           "hovertext": [
            "Brazil"
           ],
           "legendgroup": "Brazil",
           "marker": {
            "color": "#636efa",
            "symbol": "circle"
           },
           "mode": "markers+text",
           "name": "Brazil",
           "orientation": "v",
           "showlegend": true,
           "text": [
            "Brazil"
           ],
           "type": "scatter",
           "x": {
            "bdata": "AAAAAACEm0A=",
            "dtype": "f8"
           },
           "xaxis": "x",
           "y": {
            "bdata": "R+QmU7T0bz4=",
            "dtype": "f8"
           },
           "yaxis": "y"
          },
          {
           "hovertemplate": "<b>%{hovertext}</b><br><br>Country Name=%{text}<br>Year=2021<br>Neerslag (mm/jaar)=%{x}<br>Uitstoot per ton geproduceerd (Mt/ton)=%{y}<extra></extra>",
           "hovertext": [
            "India"
           ],
           "legendgroup": "India",
           "marker": {
            "color": "#EF553B",
            "symbol": "circle"
           },
           "mode": "markers+text",
           "name": "India",
           "orientation": "v",
           "showlegend": true,
           "text": [
            "India"
           ],
           "type": "scatter",
           "x": {
            "bdata": "AAAAAADskEA=",
            "dtype": "f8"
           },
           "xaxis": "x",
           "y": {
            "bdata": "HEU3zW69iz4=",
            "dtype": "f8"
           },
           "yaxis": "y"
          },
          {
           "hovertemplate": "<b>%{hovertext}</b><br><br>Country Name=%{text}<br>Year=2021<br>Neerslag (mm/jaar)=%{x}<br>Uitstoot per ton geproduceerd (Mt/ton)=%{y}<extra></extra>",
           "hovertext": [
            "Indonesia"
           ],
           "legendgroup": "Indonesia",
           "marker": {
            "color": "#00cc96",
            "symbol": "circle"
           },
           "mode": "markers+text",
           "name": "Indonesia",
           "orientation": "v",
           "showlegend": true,
           "text": [
            "Indonesia"
           ],
           "type": "scatter",
           "x": {
            "bdata": "AAAAAAAcpUA=",
            "dtype": "f8"
           },
           "xaxis": "x",
           "y": {
            "bdata": "zgOCEfKIWz4=",
            "dtype": "f8"
           },
           "yaxis": "y"
          },
          {
           "hovertemplate": "<b>%{hovertext}</b><br><br>Country Name=%{text}<br>Year=2021<br>Neerslag (mm/jaar)=%{x}<br>Uitstoot per ton geproduceerd (Mt/ton)=%{y}<extra></extra>",
           "hovertext": [
            "Japan"
           ],
           "legendgroup": "Japan",
           "marker": {
            "color": "#ab63fa",
            "symbol": "circle"
           },
           "mode": "markers+text",
           "name": "Japan",
           "orientation": "v",
           "showlegend": true,
           "text": [
            "Japan"
           ],
           "type": "scatter",
           "x": {
            "bdata": "AAAAAAAQmkA=",
            "dtype": "f8"
           },
           "xaxis": "x",
           "y": {
            "bdata": "4Ji/y0mCdz4=",
            "dtype": "f8"
           },
           "yaxis": "y"
          },
          {
           "hovertemplate": "<b>%{hovertext}</b><br><br>Country Name=%{text}<br>Year=2021<br>Neerslag (mm/jaar)=%{x}<br>Uitstoot per ton geproduceerd (Mt/ton)=%{y}<extra></extra>",
           "hovertext": [
            "Nigeria"
           ],
           "legendgroup": "Nigeria",
           "marker": {
            "color": "#FFA15A",
            "symbol": "circle"
           },
           "mode": "markers+text",
           "name": "Nigeria",
           "orientation": "v",
           "showlegend": true,
           "text": [
            "Nigeria"
           ],
           "type": "scatter",
           "x": {
            "bdata": "AAAAAAD4kUA=",
            "dtype": "f8"
           },
           "xaxis": "x",
           "y": {
            "bdata": "k2KKS9dgRD4=",
            "dtype": "f8"
           },
           "yaxis": "y"
          },
          {
           "hovertemplate": "<b>%{hovertext}</b><br><br>Country Name=%{text}<br>Year=2021<br>Neerslag (mm/jaar)=%{x}<br>Uitstoot per ton geproduceerd (Mt/ton)=%{y}<extra></extra>",
           "hovertext": [
            "South Africa"
           ],
           "legendgroup": "South Africa",
           "marker": {
            "color": "#19d3f3",
            "symbol": "circle"
           },
           "mode": "markers+text",
           "name": "South Africa",
           "orientation": "v",
           "showlegend": true,
           "text": [
            "South Africa"
           ],
           "type": "scatter",
           "x": {
            "bdata": "AAAAAADwfkA=",
            "dtype": "f8"
           },
           "xaxis": "x",
           "y": {
            "bdata": "/8hLJoW/fD4=",
            "dtype": "f8"
           },
           "yaxis": "y"
          },
          {
           "hovertemplate": "<b>%{hovertext}</b><br><br>Country Name=%{text}<br>Year=2021<br>Neerslag (mm/jaar)=%{x}<br>Uitstoot per ton geproduceerd (Mt/ton)=%{y}<extra></extra>",
           "hovertext": [
            "United States of America"
           ],
           "legendgroup": "United States of America",
           "marker": {
            "color": "#FF6692",
            "symbol": "circle"
           },
           "mode": "markers+text",
           "name": "United States of America",
           "orientation": "v",
           "showlegend": true,
           "text": [
            "United States of America"
           ],
           "type": "scatter",
           "x": {
            "bdata": "AAAAAABYhkA=",
            "dtype": "f8"
           },
           "xaxis": "x",
           "y": {
            "bdata": "MvsLAreDlT4=",
            "dtype": "f8"
           },
           "yaxis": "y"
          }
         ],
         "name": "2021"
        }
       ],
       "layout": {
        "legend": {
         "title": {
          "text": "Country Name"
         },
         "tracegroupgap": 0
        },
        "sliders": [
         {
          "active": 0,
          "currentvalue": {
           "prefix": "Year="
          },
          "len": 0.9,
          "pad": {
           "b": 10,
           "t": 60
          },
          "steps": [
           {
            "args": [
             [
              "1961"
             ],
             {
              "frame": {
               "duration": 0,
               "redraw": false
              },
              "fromcurrent": true,
              "mode": "immediate",
              "transition": {
               "duration": 0,
               "easing": "linear"
              }
             }
            ],
            "label": "1961",
            "method": "animate"
           },
           {
            "args": [
             [
              "1962"
             ],
             {
              "frame": {
               "duration": 0,
               "redraw": false
              },
              "fromcurrent": true,
              "mode": "immediate",
              "transition": {
               "duration": 0,
               "easing": "linear"
              }
             }
            ],
            "label": "1962",
            "method": "animate"
           },
           {
            "args": [
             [
              "1963"
             ],
             {
              "frame": {
               "duration": 0,
               "redraw": false
              },
              "fromcurrent": true,
              "mode": "immediate",
              "transition": {
               "duration": 0,
               "easing": "linear"
              }
             }
            ],
            "label": "1963",
            "method": "animate"
           },
           {
            "args": [
             [
              "1964"
             ],
             {
              "frame": {
               "duration": 0,
               "redraw": false
              },
              "fromcurrent": true,
              "mode": "immediate",
              "transition": {
               "duration": 0,
               "easing": "linear"
              }
             }
            ],
            "label": "1964",
            "method": "animate"
           },
           {
            "args": [
             [
              "1965"
             ],
             {
              "frame": {
               "duration": 0,
               "redraw": false
              },
              "fromcurrent": true,
              "mode": "immediate",
              "transition": {
               "duration": 0,
               "easing": "linear"
              }
             }
            ],
            "label": "1965",
            "method": "animate"
           },
           {
            "args": [
             [
              "1966"
             ],
             {
              "frame": {
               "duration": 0,
               "redraw": false
              },
              "fromcurrent": true,
              "mode": "immediate",
              "transition": {
               "duration": 0,
               "easing": "linear"
              }
             }
            ],
            "label": "1966",
            "method": "animate"
           },
           {
            "args": [
             [
              "1967"
             ],
             {
              "frame": {
               "duration": 0,
               "redraw": false
              },
              "fromcurrent": true,
              "mode": "immediate",
              "transition": {
               "duration": 0,
               "easing": "linear"
              }
             }
            ],
            "label": "1967",
            "method": "animate"
           },
           {
            "args": [
             [
              "1968"
             ],
             {
              "frame": {
               "duration": 0,
               "redraw": false
              },
              "fromcurrent": true,
              "mode": "immediate",
              "transition": {
               "duration": 0,
               "easing": "linear"
              }
             }
            ],
            "label": "1968",
            "method": "animate"
           },
           {
            "args": [
             [
              "1969"
             ],
             {
              "frame": {
               "duration": 0,
               "redraw": false
              },
              "fromcurrent": true,
              "mode": "immediate",
              "transition": {
               "duration": 0,
               "easing": "linear"
              }
             }
            ],
            "label": "1969",
            "method": "animate"
           },
           {
            "args": [
             [
              "1970"
             ],
             {
              "frame": {
               "duration": 0,
               "redraw": false
              },
              "fromcurrent": true,
              "mode": "immediate",
              "transition": {
               "duration": 0,
               "easing": "linear"
              }
             }
            ],
            "label": "1970",
            "method": "animate"
           },
           {
            "args": [
             [
              "1971"
             ],
             {
              "frame": {
               "duration": 0,
               "redraw": false
              },
              "fromcurrent": true,
              "mode": "immediate",
              "transition": {
               "duration": 0,
               "easing": "linear"
              }
             }
            ],
            "label": "1971",
            "method": "animate"
           },
           {
            "args": [
             [
              "1972"
             ],
             {
              "frame": {
               "duration": 0,
               "redraw": false
              },
              "fromcurrent": true,
              "mode": "immediate",
              "transition": {
               "duration": 0,
               "easing": "linear"
              }
             }
            ],
            "label": "1972",
            "method": "animate"
           },
           {
            "args": [
             [
              "1973"
             ],
             {
              "frame": {
               "duration": 0,
               "redraw": false
              },
              "fromcurrent": true,
              "mode": "immediate",
              "transition": {
               "duration": 0,
               "easing": "linear"
              }
             }
            ],
            "label": "1973",
            "method": "animate"
           },
           {
            "args": [
             [
              "1974"
             ],
             {
              "frame": {
               "duration": 0,
               "redraw": false
              },
              "fromcurrent": true,
              "mode": "immediate",
              "transition": {
               "duration": 0,
               "easing": "linear"
              }
             }
            ],
            "label": "1974",
            "method": "animate"
           },
           {
            "args": [
             [
              "1975"
             ],
             {
              "frame": {
               "duration": 0,
               "redraw": false
              },
              "fromcurrent": true,
              "mode": "immediate",
              "transition": {
               "duration": 0,
               "easing": "linear"
              }
             }
            ],
            "label": "1975",
            "method": "animate"
           },
           {
            "args": [
             [
              "1976"
             ],
             {
              "frame": {
               "duration": 0,
               "redraw": false
              },
              "fromcurrent": true,
              "mode": "immediate",
              "transition": {
               "duration": 0,
               "easing": "linear"
              }
             }
            ],
            "label": "1976",
            "method": "animate"
           },
           {
            "args": [
             [
              "1977"
             ],
             {
              "frame": {
               "duration": 0,
               "redraw": false
              },
              "fromcurrent": true,
              "mode": "immediate",
              "transition": {
               "duration": 0,
               "easing": "linear"
              }
             }
            ],
            "label": "1977",
            "method": "animate"
           },
           {
            "args": [
             [
              "1978"
             ],
             {
              "frame": {
               "duration": 0,
               "redraw": false
              },
              "fromcurrent": true,
              "mode": "immediate",
              "transition": {
               "duration": 0,
               "easing": "linear"
              }
             }
            ],
            "label": "1978",
            "method": "animate"
           },
           {
            "args": [
             [
              "1979"
             ],
             {
              "frame": {
               "duration": 0,
               "redraw": false
              },
              "fromcurrent": true,
              "mode": "immediate",
              "transition": {
               "duration": 0,
               "easing": "linear"
              }
             }
            ],
            "label": "1979",
            "method": "animate"
           },
           {
            "args": [
             [
              "1980"
             ],
             {
              "frame": {
               "duration": 0,
               "redraw": false
              },
              "fromcurrent": true,
              "mode": "immediate",
              "transition": {
               "duration": 0,
               "easing": "linear"
              }
             }
            ],
            "label": "1980",
            "method": "animate"
           },
           {
            "args": [
             [
              "1981"
             ],
             {
              "frame": {
               "duration": 0,
               "redraw": false
              },
              "fromcurrent": true,
              "mode": "immediate",
              "transition": {
               "duration": 0,
               "easing": "linear"
              }
             }
            ],
            "label": "1981",
            "method": "animate"
           },
           {
            "args": [
             [
              "1982"
             ],
             {
              "frame": {
               "duration": 0,
               "redraw": false
              },
              "fromcurrent": true,
              "mode": "immediate",
              "transition": {
               "duration": 0,
               "easing": "linear"
              }
             }
            ],
            "label": "1982",
            "method": "animate"
           },
           {
            "args": [
             [
              "1983"
             ],
             {
              "frame": {
               "duration": 0,
               "redraw": false
              },
              "fromcurrent": true,
              "mode": "immediate",
              "transition": {
               "duration": 0,
               "easing": "linear"
              }
             }
            ],
            "label": "1983",
            "method": "animate"
           },
           {
            "args": [
             [
              "1984"
             ],
             {
              "frame": {
               "duration": 0,
               "redraw": false
              },
              "fromcurrent": true,
              "mode": "immediate",
              "transition": {
               "duration": 0,
               "easing": "linear"
              }
             }
            ],
            "label": "1984",
            "method": "animate"
           },
           {
            "args": [
             [
              "1985"
             ],
             {
              "frame": {
               "duration": 0,
               "redraw": false
              },
              "fromcurrent": true,
              "mode": "immediate",
              "transition": {
               "duration": 0,
               "easing": "linear"
              }
             }
            ],
            "label": "1985",
            "method": "animate"
           },
           {
            "args": [
             [
              "1986"
             ],
             {
              "frame": {
               "duration": 0,
               "redraw": false
              },
              "fromcurrent": true,
              "mode": "immediate",
              "transition": {
               "duration": 0,
               "easing": "linear"
              }
             }
            ],
            "label": "1986",
            "method": "animate"
           },
           {
            "args": [
             [
              "1987"
             ],
             {
              "frame": {
               "duration": 0,
               "redraw": false
              },
              "fromcurrent": true,
              "mode": "immediate",
              "transition": {
               "duration": 0,
               "easing": "linear"
              }
             }
            ],
            "label": "1987",
            "method": "animate"
           },
           {
            "args": [
             [
              "1988"
             ],
             {
              "frame": {
               "duration": 0,
               "redraw": false
              },
              "fromcurrent": true,
              "mode": "immediate",
              "transition": {
               "duration": 0,
               "easing": "linear"
              }
             }
            ],
            "label": "1988",
            "method": "animate"
           },
           {
            "args": [
             [
              "1989"
             ],
             {
              "frame": {
               "duration": 0,
               "redraw": false
              },
              "fromcurrent": true,
              "mode": "immediate",
              "transition": {
               "duration": 0,
               "easing": "linear"
              }
             }
            ],
            "label": "1989",
            "method": "animate"
           },
           {
            "args": [
             [
              "1990"
             ],
             {
              "frame": {
               "duration": 0,
               "redraw": false
              },
              "fromcurrent": true,
              "mode": "immediate",
              "transition": {
               "duration": 0,
               "easing": "linear"
              }
             }
            ],
            "label": "1990",
            "method": "animate"
           },
           {
            "args": [
             [
              "1991"
             ],
             {
              "frame": {
               "duration": 0,
               "redraw": false
              },
              "fromcurrent": true,
              "mode": "immediate",
              "transition": {
               "duration": 0,
               "easing": "linear"
              }
             }
            ],
            "label": "1991",
            "method": "animate"
           },
           {
            "args": [
             [
              "1992"
             ],
             {
              "frame": {
               "duration": 0,
               "redraw": false
              },
              "fromcurrent": true,
              "mode": "immediate",
              "transition": {
               "duration": 0,
               "easing": "linear"
              }
             }
            ],
            "label": "1992",
            "method": "animate"
           },
           {
            "args": [
             [
              "1993"
             ],
             {
              "frame": {
               "duration": 0,
               "redraw": false
              },
              "fromcurrent": true,
              "mode": "immediate",
              "transition": {
               "duration": 0,
               "easing": "linear"
              }
             }
            ],
            "label": "1993",
            "method": "animate"
           },
           {
            "args": [
             [
              "1994"
             ],
             {
              "frame": {
               "duration": 0,
               "redraw": false
              },
              "fromcurrent": true,
              "mode": "immediate",
              "transition": {
               "duration": 0,
               "easing": "linear"
              }
             }
            ],
            "label": "1994",
            "method": "animate"
           },
           {
            "args": [
             [
              "1995"
             ],
             {
              "frame": {
               "duration": 0,
               "redraw": false
              },
              "fromcurrent": true,
              "mode": "immediate",
              "transition": {
               "duration": 0,
               "easing": "linear"
              }
             }
            ],
            "label": "1995",
            "method": "animate"
           },
           {
            "args": [
             [
              "1996"
             ],
             {
              "frame": {
               "duration": 0,
               "redraw": false
              },
              "fromcurrent": true,
              "mode": "immediate",
              "transition": {
               "duration": 0,
               "easing": "linear"
              }
             }
            ],
            "label": "1996",
            "method": "animate"
           },
           {
            "args": [
             [
              "1997"
             ],
             {
              "frame": {
               "duration": 0,
               "redraw": false
              },
              "fromcurrent": true,
              "mode": "immediate",
              "transition": {
               "duration": 0,
               "easing": "linear"
              }
             }
            ],
            "label": "1997",
            "method": "animate"
           },
           {
            "args": [
             [
              "1998"
             ],
             {
              "frame": {
               "duration": 0,
               "redraw": false
              },
              "fromcurrent": true,
              "mode": "immediate",
              "transition": {
               "duration": 0,
               "easing": "linear"
              }
             }
            ],
            "label": "1998",
            "method": "animate"
           },
           {
            "args": [
             [
              "1999"
             ],
             {
              "frame": {
               "duration": 0,
               "redraw": false
              },
              "fromcurrent": true,
              "mode": "immediate",
              "transition": {
               "duration": 0,
               "easing": "linear"
              }
             }
            ],
            "label": "1999",
            "method": "animate"
           },
           {
            "args": [
             [
              "2000"
             ],
             {
              "frame": {
               "duration": 0,
               "redraw": false
              },
              "fromcurrent": true,
              "mode": "immediate",
              "transition": {
               "duration": 0,
               "easing": "linear"
              }
             }
            ],
            "label": "2000",
            "method": "animate"
           },
           {
            "args": [
             [
              "2001"
             ],
             {
              "frame": {
               "duration": 0,
               "redraw": false
              },
              "fromcurrent": true,
              "mode": "immediate",
              "transition": {
               "duration": 0,
               "easing": "linear"
              }
             }
            ],
            "label": "2001",
            "method": "animate"
           },
           {
            "args": [
             [
              "2002"
             ],
             {
              "frame": {
               "duration": 0,
               "redraw": false
              },
              "fromcurrent": true,
              "mode": "immediate",
              "transition": {
               "duration": 0,
               "easing": "linear"
              }
             }
            ],
            "label": "2002",
            "method": "animate"
           },
           {
            "args": [
             [
              "2003"
             ],
             {
              "frame": {
               "duration": 0,
               "redraw": false
              },
              "fromcurrent": true,
              "mode": "immediate",
              "transition": {
               "duration": 0,
               "easing": "linear"
              }
             }
            ],
            "label": "2003",
            "method": "animate"
           },
           {
            "args": [
             [
              "2004"
             ],
             {
              "frame": {
               "duration": 0,
               "redraw": false
              },
              "fromcurrent": true,
              "mode": "immediate",
              "transition": {
               "duration": 0,
               "easing": "linear"
              }
             }
            ],
            "label": "2004",
            "method": "animate"
           },
           {
            "args": [
             [
              "2005"
             ],
             {
              "frame": {
               "duration": 0,
               "redraw": false
              },
              "fromcurrent": true,
              "mode": "immediate",
              "transition": {
               "duration": 0,
               "easing": "linear"
              }
             }
            ],
            "label": "2005",
            "method": "animate"
           },
           {
            "args": [
             [
              "2006"
             ],
             {
              "frame": {
               "duration": 0,
               "redraw": false
              },
              "fromcurrent": true,
              "mode": "immediate",
              "transition": {
               "duration": 0,
               "easing": "linear"
              }
             }
            ],
            "label": "2006",
            "method": "animate"
           },
           {
            "args": [
             [
              "2007"
             ],
             {
              "frame": {
               "duration": 0,
               "redraw": false
              },
              "fromcurrent": true,
              "mode": "immediate",
              "transition": {
               "duration": 0,
               "easing": "linear"
              }
             }
            ],
            "label": "2007",
            "method": "animate"
           },
           {
            "args": [
             [
              "2008"
             ],
             {
              "frame": {
               "duration": 0,
               "redraw": false
              },
              "fromcurrent": true,
              "mode": "immediate",
              "transition": {
               "duration": 0,
               "easing": "linear"
              }
             }
            ],
            "label": "2008",
            "method": "animate"
           },
           {
            "args": [
             [
              "2009"
             ],
             {
              "frame": {
               "duration": 0,
               "redraw": false
              },
              "fromcurrent": true,
              "mode": "immediate",
              "transition": {
               "duration": 0,
               "easing": "linear"
              }
             }
            ],
            "label": "2009",
            "method": "animate"
           },
           {
            "args": [
             [
              "2010"
             ],
             {
              "frame": {
               "duration": 0,
               "redraw": false
              },
              "fromcurrent": true,
              "mode": "immediate",
              "transition": {
               "duration": 0,
               "easing": "linear"
              }
             }
            ],
            "label": "2010",
            "method": "animate"
           },
           {
            "args": [
             [
              "2011"
             ],
             {
              "frame": {
               "duration": 0,
               "redraw": false
              },
              "fromcurrent": true,
              "mode": "immediate",
              "transition": {
               "duration": 0,
               "easing": "linear"
              }
             }
            ],
            "label": "2011",
            "method": "animate"
           },
           {
            "args": [
             [
              "2012"
             ],
             {
              "frame": {
               "duration": 0,
               "redraw": false
              },
              "fromcurrent": true,
              "mode": "immediate",
              "transition": {
               "duration": 0,
               "easing": "linear"
              }
             }
            ],
            "label": "2012",
            "method": "animate"
           },
           {
            "args": [
             [
              "2013"
             ],
             {
              "frame": {
               "duration": 0,
               "redraw": false
              },
              "fromcurrent": true,
              "mode": "immediate",
              "transition": {
               "duration": 0,
               "easing": "linear"
              }
             }
            ],
            "label": "2013",
            "method": "animate"
           },
           {
            "args": [
             [
              "2014"
             ],
             {
              "frame": {
               "duration": 0,
               "redraw": false
              },
              "fromcurrent": true,
              "mode": "immediate",
              "transition": {
               "duration": 0,
               "easing": "linear"
              }
             }
            ],
            "label": "2014",
            "method": "animate"
           },
           {
            "args": [
             [
              "2015"
             ],
             {
              "frame": {
               "duration": 0,
               "redraw": false
              },
              "fromcurrent": true,
              "mode": "immediate",
              "transition": {
               "duration": 0,
               "easing": "linear"
              }
             }
            ],
            "label": "2015",
            "method": "animate"
           },
           {
            "args": [
             [
              "2016"
             ],
             {
              "frame": {
               "duration": 0,
               "redraw": false
              },
              "fromcurrent": true,
              "mode": "immediate",
              "transition": {
               "duration": 0,
               "easing": "linear"
              }
             }
            ],
            "label": "2016",
            "method": "animate"
           },
           {
            "args": [
             [
              "2017"
             ],
             {
              "frame": {
               "duration": 0,
               "redraw": false
              },
              "fromcurrent": true,
              "mode": "immediate",
              "transition": {
               "duration": 0,
               "easing": "linear"
              }
             }
            ],
            "label": "2017",
            "method": "animate"
           },
           {
            "args": [
             [
              "2018"
             ],
             {
              "frame": {
               "duration": 0,
               "redraw": false
              },
              "fromcurrent": true,
              "mode": "immediate",
              "transition": {
               "duration": 0,
               "easing": "linear"
              }
             }
            ],
            "label": "2018",
            "method": "animate"
           },
           {
            "args": [
             [
              "2019"
             ],
             {
              "frame": {
               "duration": 0,
               "redraw": false
              },
              "fromcurrent": true,
              "mode": "immediate",
              "transition": {
               "duration": 0,
               "easing": "linear"
              }
             }
            ],
            "label": "2019",
            "method": "animate"
           },
           {
            "args": [
             [
              "2020"
             ],
             {
              "frame": {
               "duration": 0,
               "redraw": false
              },
              "fromcurrent": true,
              "mode": "immediate",
              "transition": {
               "duration": 0,
               "easing": "linear"
              }
             }
            ],
            "label": "2020",
            "method": "animate"
           },
           {
            "args": [
             [
              "2021"
             ],
             {
              "frame": {
               "duration": 0,
               "redraw": false
              },
              "fromcurrent": true,
              "mode": "immediate",
              "transition": {
               "duration": 0,
               "easing": "linear"
              }
             }
            ],
            "label": "2021",
            "method": "animate"
           }
          ],
          "x": 0.1,
          "xanchor": "left",
          "y": 0,
          "yanchor": "top"
         }
        ],
        "template": {
         "data": {
          "bar": [
           {
            "error_x": {
             "color": "#2a3f5f"
            },
            "error_y": {
             "color": "#2a3f5f"
            },
            "marker": {
             "line": {
              "color": "#E5ECF6",
              "width": 0.5
             },
             "pattern": {
              "fillmode": "overlay",
              "size": 10,
              "solidity": 0.2
             }
            },
            "type": "bar"
           }
          ],
          "barpolar": [
           {
            "marker": {
             "line": {
              "color": "#E5ECF6",
              "width": 0.5
             },
             "pattern": {
              "fillmode": "overlay",
              "size": 10,
              "solidity": 0.2
             }
            },
            "type": "barpolar"
           }
          ],
          "carpet": [
           {
            "aaxis": {
             "endlinecolor": "#2a3f5f",
             "gridcolor": "white",
             "linecolor": "white",
             "minorgridcolor": "white",
             "startlinecolor": "#2a3f5f"
            },
            "baxis": {
             "endlinecolor": "#2a3f5f",
             "gridcolor": "white",
             "linecolor": "white",
             "minorgridcolor": "white",
             "startlinecolor": "#2a3f5f"
            },
            "type": "carpet"
           }
          ],
          "choropleth": [
           {
            "colorbar": {
             "outlinewidth": 0,
             "ticks": ""
            },
            "type": "choropleth"
           }
          ],
          "contour": [
           {
            "colorbar": {
             "outlinewidth": 0,
             "ticks": ""
            },
            "colorscale": [
             [
              0,
              "#0d0887"
             ],
             [
              0.1111111111111111,
              "#46039f"
             ],
             [
              0.2222222222222222,
              "#7201a8"
             ],
             [
              0.3333333333333333,
              "#9c179e"
             ],
             [
              0.4444444444444444,
              "#bd3786"
             ],
             [
              0.5555555555555556,
              "#d8576b"
             ],
             [
              0.6666666666666666,
              "#ed7953"
             ],
             [
              0.7777777777777778,
              "#fb9f3a"
             ],
             [
              0.8888888888888888,
              "#fdca26"
             ],
             [
              1,
              "#f0f921"
             ]
            ],
            "type": "contour"
           }
          ],
          "contourcarpet": [
           {
            "colorbar": {
             "outlinewidth": 0,
             "ticks": ""
            },
            "type": "contourcarpet"
           }
          ],
          "heatmap": [
           {
            "colorbar": {
             "outlinewidth": 0,
             "ticks": ""
            },
            "colorscale": [
             [
              0,
              "#0d0887"
             ],
             [
              0.1111111111111111,
              "#46039f"
             ],
             [
              0.2222222222222222,
              "#7201a8"
             ],
             [
              0.3333333333333333,
              "#9c179e"
             ],
             [
              0.4444444444444444,
              "#bd3786"
             ],
             [
              0.5555555555555556,
              "#d8576b"
             ],
             [
              0.6666666666666666,
              "#ed7953"
             ],
             [
              0.7777777777777778,
              "#fb9f3a"
             ],
             [
              0.8888888888888888,
              "#fdca26"
             ],
             [
              1,
              "#f0f921"
             ]
            ],
            "type": "heatmap"
           }
          ],
          "histogram": [
           {
            "marker": {
             "pattern": {
              "fillmode": "overlay",
              "size": 10,
              "solidity": 0.2
             }
            },
            "type": "histogram"
           }
          ],
          "histogram2d": [
           {
            "colorbar": {
             "outlinewidth": 0,
             "ticks": ""
            },
            "colorscale": [
             [
              0,
              "#0d0887"
             ],
             [
              0.1111111111111111,
              "#46039f"
             ],
             [
              0.2222222222222222,
              "#7201a8"
             ],
             [
              0.3333333333333333,
              "#9c179e"
             ],
             [
              0.4444444444444444,
              "#bd3786"
             ],
             [
              0.5555555555555556,
              "#d8576b"
             ],
             [
              0.6666666666666666,
              "#ed7953"
             ],
             [
              0.7777777777777778,
              "#fb9f3a"
             ],
             [
              0.8888888888888888,
              "#fdca26"
             ],
             [
              1,
              "#f0f921"
             ]
            ],
            "type": "histogram2d"
           }
          ],
          "histogram2dcontour": [
           {
            "colorbar": {
             "outlinewidth": 0,
             "ticks": ""
            },
            "colorscale": [
             [
              0,
              "#0d0887"
             ],
             [
              0.1111111111111111,
              "#46039f"
             ],
             [
              0.2222222222222222,
              "#7201a8"
             ],
             [
              0.3333333333333333,
              "#9c179e"
             ],
             [
              0.4444444444444444,
              "#bd3786"
             ],
             [
              0.5555555555555556,
              "#d8576b"
             ],
             [
              0.6666666666666666,
              "#ed7953"
             ],
             [
              0.7777777777777778,
              "#fb9f3a"
             ],
             [
              0.8888888888888888,
              "#fdca26"
             ],
             [
              1,
              "#f0f921"
             ]
            ],
            "type": "histogram2dcontour"
           }
          ],
          "mesh3d": [
           {
            "colorbar": {
             "outlinewidth": 0,
             "ticks": ""
            },
            "type": "mesh3d"
           }
          ],
          "parcoords": [
           {
            "line": {
             "colorbar": {
              "outlinewidth": 0,
              "ticks": ""
             }
            },
            "type": "parcoords"
           }
          ],
          "pie": [
           {
            "automargin": true,
            "type": "pie"
           }
          ],
          "scatter": [
           {
            "fillpattern": {
             "fillmode": "overlay",
             "size": 10,
             "solidity": 0.2
            },
            "type": "scatter"
           }
          ],
          "scatter3d": [
           {
            "line": {
             "colorbar": {
              "outlinewidth": 0,
              "ticks": ""
             }
            },
            "marker": {
             "colorbar": {
              "outlinewidth": 0,
              "ticks": ""
             }
            },
            "type": "scatter3d"
           }
          ],
          "scattercarpet": [
           {
            "marker": {
             "colorbar": {
              "outlinewidth": 0,
              "ticks": ""
             }
            },
            "type": "scattercarpet"
           }
          ],
          "scattergeo": [
           {
            "marker": {
             "colorbar": {
              "outlinewidth": 0,
              "ticks": ""
             }
            },
            "type": "scattergeo"
           }
          ],
          "scattergl": [
           {
            "marker": {
             "colorbar": {
              "outlinewidth": 0,
              "ticks": ""
             }
            },
            "type": "scattergl"
           }
          ],
          "scattermap": [
           {
            "marker": {
             "colorbar": {
              "outlinewidth": 0,
              "ticks": ""
             }
            },
            "type": "scattermap"
           }
          ],
          "scattermapbox": [
           {
            "marker": {
             "colorbar": {
              "outlinewidth": 0,
              "ticks": ""
             }
            },
            "type": "scattermapbox"
           }
          ],
          "scatterpolar": [
           {
            "marker": {
             "colorbar": {
              "outlinewidth": 0,
              "ticks": ""
             }
            },
            "type": "scatterpolar"
           }
          ],
          "scatterpolargl": [
           {
            "marker": {
             "colorbar": {
              "outlinewidth": 0,
              "ticks": ""
             }
            },
            "type": "scatterpolargl"
           }
          ],
          "scatterternary": [
           {
            "marker": {
             "colorbar": {
              "outlinewidth": 0,
              "ticks": ""
             }
            },
            "type": "scatterternary"
           }
          ],
          "surface": [
           {
            "colorbar": {
             "outlinewidth": 0,
             "ticks": ""
            },
            "colorscale": [
             [
              0,
              "#0d0887"
             ],
             [
              0.1111111111111111,
              "#46039f"
             ],
             [
              0.2222222222222222,
              "#7201a8"
             ],
             [
              0.3333333333333333,
              "#9c179e"
             ],
             [
              0.4444444444444444,
              "#bd3786"
             ],
             [
              0.5555555555555556,
              "#d8576b"
             ],
             [
              0.6666666666666666,
              "#ed7953"
             ],
             [
              0.7777777777777778,
              "#fb9f3a"
             ],
             [
              0.8888888888888888,
              "#fdca26"
             ],
             [
              1,
              "#f0f921"
             ]
            ],
            "type": "surface"
           }
          ],
          "table": [
           {
            "cells": {
             "fill": {
              "color": "#EBF0F8"
             },
             "line": {
              "color": "white"
             }
            },
            "header": {
             "fill": {
              "color": "#C8D4E3"
             },
             "line": {
              "color": "white"
             }
            },
            "type": "table"
           }
          ]
         },
         "layout": {
          "annotationdefaults": {
           "arrowcolor": "#2a3f5f",
           "arrowhead": 0,
           "arrowwidth": 1
          },
          "autotypenumbers": "strict",
          "coloraxis": {
           "colorbar": {
            "outlinewidth": 0,
            "ticks": ""
           }
          },
          "colorscale": {
           "diverging": [
            [
             0,
             "#8e0152"
            ],
            [
             0.1,
             "#c51b7d"
            ],
            [
             0.2,
             "#de77ae"
            ],
            [
             0.3,
             "#f1b6da"
            ],
            [
             0.4,
             "#fde0ef"
            ],
            [
             0.5,
             "#f7f7f7"
            ],
            [
             0.6,
             "#e6f5d0"
            ],
            [
             0.7,
             "#b8e186"
            ],
            [
             0.8,
             "#7fbc41"
            ],
            [
             0.9,
             "#4d9221"
            ],
            [
             1,
             "#276419"
            ]
           ],
           "sequential": [
            [
             0,
             "#0d0887"
            ],
            [
             0.1111111111111111,
             "#46039f"
            ],
            [
             0.2222222222222222,
             "#7201a8"
            ],
            [
             0.3333333333333333,
             "#9c179e"
            ],
            [
             0.4444444444444444,
             "#bd3786"
            ],
            [
             0.5555555555555556,
             "#d8576b"
            ],
            [
             0.6666666666666666,
             "#ed7953"
            ],
            [
             0.7777777777777778,
             "#fb9f3a"
            ],
            [
             0.8888888888888888,
             "#fdca26"
            ],
            [
             1,
             "#f0f921"
            ]
           ],
           "sequentialminus": [
            [
             0,
             "#0d0887"
            ],
            [
             0.1111111111111111,
             "#46039f"
            ],
            [
             0.2222222222222222,
             "#7201a8"
            ],
            [
             0.3333333333333333,
             "#9c179e"
            ],
            [
             0.4444444444444444,
             "#bd3786"
            ],
            [
             0.5555555555555556,
             "#d8576b"
            ],
            [
             0.6666666666666666,
             "#ed7953"
            ],
            [
             0.7777777777777778,
             "#fb9f3a"
            ],
            [
             0.8888888888888888,
             "#fdca26"
            ],
            [
             1,
             "#f0f921"
            ]
           ]
          },
          "colorway": [
           "#636efa",
           "#EF553B",
           "#00cc96",
           "#ab63fa",
           "#FFA15A",
           "#19d3f3",
           "#FF6692",
           "#B6E880",
           "#FF97FF",
           "#FECB52"
          ],
          "font": {
           "color": "#2a3f5f"
          },
          "geo": {
           "bgcolor": "white",
           "lakecolor": "white",
           "landcolor": "#E5ECF6",
           "showlakes": true,
           "showland": true,
           "subunitcolor": "white"
          },
          "hoverlabel": {
           "align": "left"
          },
          "hovermode": "closest",
          "mapbox": {
           "style": "light"
          },
          "paper_bgcolor": "white",
          "plot_bgcolor": "#E5ECF6",
          "polar": {
           "angularaxis": {
            "gridcolor": "white",
            "linecolor": "white",
            "ticks": ""
           },
           "bgcolor": "#E5ECF6",
           "radialaxis": {
            "gridcolor": "white",
            "linecolor": "white",
            "ticks": ""
           }
          },
          "scene": {
           "xaxis": {
            "backgroundcolor": "#E5ECF6",
            "gridcolor": "white",
            "gridwidth": 2,
            "linecolor": "white",
            "showbackground": true,
            "ticks": "",
            "zerolinecolor": "white"
           },
           "yaxis": {
            "backgroundcolor": "#E5ECF6",
            "gridcolor": "white",
            "gridwidth": 2,
            "linecolor": "white",
            "showbackground": true,
            "ticks": "",
            "zerolinecolor": "white"
           },
           "zaxis": {
            "backgroundcolor": "#E5ECF6",
            "gridcolor": "white",
            "gridwidth": 2,
            "linecolor": "white",
            "showbackground": true,
            "ticks": "",
            "zerolinecolor": "white"
           }
          },
          "shapedefaults": {
           "line": {
            "color": "#2a3f5f"
           }
          },
          "ternary": {
           "aaxis": {
            "gridcolor": "white",
            "linecolor": "white",
            "ticks": ""
           },
           "baxis": {
            "gridcolor": "white",
            "linecolor": "white",
            "ticks": ""
           },
           "bgcolor": "#E5ECF6",
           "caxis": {
            "gridcolor": "white",
            "linecolor": "white",
            "ticks": ""
           }
          },
          "title": {
           "x": 0.05
          },
          "xaxis": {
           "automargin": true,
           "gridcolor": "white",
           "linecolor": "white",
           "ticks": "",
           "title": {
            "standoff": 15
           },
           "zerolinecolor": "white",
           "zerolinewidth": 2
          },
          "yaxis": {
           "automargin": true,
           "gridcolor": "white",
           "linecolor": "white",
           "ticks": "",
           "title": {
            "standoff": 15
           },
           "zerolinecolor": "white",
           "zerolinewidth": 2
          }
         }
        },
        "title": {
         "text": "Uitstoot per ton geproduceerd vs Neerslag (per jaar)"
        },
        "updatemenus": [
         {
          "buttons": [
           {
            "args": [
             null,
             {
              "frame": {
               "duration": 500,
               "redraw": false
              },
              "fromcurrent": true,
              "mode": "immediate",
              "transition": {
               "duration": 500,
               "easing": "linear"
              }
             }
            ],
            "label": "&#9654;",
            "method": "animate"
           },
           {
            "args": [
             [
              null
             ],
             {
              "frame": {
               "duration": 0,
               "redraw": false
              },
              "fromcurrent": true,
              "mode": "immediate",
              "transition": {
               "duration": 0,
               "easing": "linear"
              }
             }
            ],
            "label": "&#9724;",
            "method": "animate"
           }
          ],
          "direction": "left",
          "pad": {
           "r": 10,
           "t": 70
          },
          "showactive": false,
          "type": "buttons",
          "x": 0.1,
          "xanchor": "right",
          "y": 0,
          "yanchor": "top"
         }
        ],
        "xaxis": {
         "anchor": "y",
         "domain": [
          0,
          1
         ],
         "range": [
          0,
          3000
         ],
         "title": {
          "text": "Neerslag (mm/jaar)"
         }
        },
        "yaxis": {
         "anchor": "x",
         "domain": [
          0,
          1
         ],
         "range": [
          0,
          6e-7
         ],
         "title": {
          "text": "Uitstoot per ton geproduceerd (Mt/ton)"
         }
        }
       }
      }
     },
     "metadata": {},
     "output_type": "display_data"
    }
   ],
   "source": [
    "import pandas as pd\n",
    "import plotly.express as px\n",
    "\n",
    "# 📁 Laad de datasets\n",
    "neerslag_df = pd.read_csv(\"datasets/API_AG.LND.PRCP.MM_DS2_en_csv_v2_4487.csv\", skiprows=4)\n",
    "productie_df = pd.read_csv(\"datasets/Production_Crops_Livestock_filtered.csv\")\n",
    "emissies_crops_df = pd.read_csv(\"datasets/Emissions_crops_filtered.csv\")\n",
    "emissies_livestock_df = pd.read_csv(\"datasets/Emissions_livestock_filtered.csv\")\n",
    "\n",
    "# 🌧️ Verwerk neerslagdata\n",
    "neerslag_long = neerslag_df.melt(\n",
    "    id_vars=[\"Country Name\", \"Country Code\", \"Indicator Name\", \"Indicator Code\"],\n",
    "    var_name=\"Year\",\n",
    "    value_name=\"Precipitation_mm\"\n",
    ")\n",
    "neerslag_long = neerslag_long[[\"Country Name\", \"Year\", \"Precipitation_mm\"]]\n",
    "neerslag_long[\"Year\"] = pd.to_numeric(neerslag_long[\"Year\"], errors=\"coerce\")\n",
    "neerslag_long = neerslag_long.dropna(subset=[\"Year\", \"Precipitation_mm\"])\n",
    "neerslag_long[\"Country Name\"] = neerslag_long[\"Country Name\"].replace({\n",
    "    \"United States\": \"United States of America\"\n",
    "})\n",
    "\n",
    "# 🚜 Verwerk productiegegevens\n",
    "productie_filtered = productie_df[productie_df[\"Element\"] == \"Production\"]\n",
    "productie_aggregated = productie_filtered.groupby([\"Area\", \"Year\"])[\"Value\"].sum().reset_index()\n",
    "productie_aggregated.rename(columns={\"Area\": \"Country Name\", \"Value\": \"Production_tonnes\"}, inplace=True)\n",
    "productie_aggregated[\"Year\"] = pd.to_numeric(productie_aggregated[\"Year\"], errors=\"coerce\")\n",
    "productie_aggregated[\"Country Name\"] = productie_aggregated[\"Country Name\"].replace({\n",
    "    \"Netherlands (Kingdom of the)\": \"Netherlands\"\n",
    "})\n",
    "\n",
    "# 🌱🐄 Combineer gewas- en veeteeltuitstoot\n",
    "emissies_crops_total = emissies_crops_df.groupby([\"Area\", \"Year\"])[\"Value\"].sum().reset_index()\n",
    "emissies_livestock_total = emissies_livestock_df.groupby([\"Area\", \"Year\"])[\"Value\"].sum().reset_index()\n",
    "\n",
    "emissies_total = pd.merge(\n",
    "    emissies_crops_total, emissies_livestock_total,\n",
    "    on=[\"Area\", \"Year\"], how=\"outer\", suffixes=(\"_crops\", \"_livestock\")\n",
    ")\n",
    "emissies_total[\"Emissions_total\"] = (\n",
    "    emissies_total[\"Value_crops\"].fillna(0) + emissies_total[\"Value_livestock\"].fillna(0)\n",
    ")\n",
    "emissies_total = emissies_total[[\"Area\", \"Year\", \"Emissions_total\"]]\n",
    "emissies_total.rename(columns={\"Area\": \"Country Name\"}, inplace=True)\n",
    "emissies_total[\"Year\"] = pd.to_numeric(emissies_total[\"Year\"], errors=\"coerce\")\n",
    "\n",
    "# 🔁 Merge alles samen op land + jaar\n",
    "emissie_productie_df = pd.merge(emissies_total, productie_aggregated, on=[\"Country Name\", \"Year\"])\n",
    "emissie_productie_df = pd.merge(emissie_productie_df, neerslag_long, on=[\"Country Name\", \"Year\"])\n",
    "\n",
    "# 🔎 Filter op de 7 landen\n",
    "landen_selectie = [\n",
    "    \"Nigeria\", \"South Africa\", \"India\", \"Japan\",\n",
    "    \"United States of America\", \"Brazil\", \"Indonesia\"\n",
    "]\n",
    "emissie_productie_df = emissie_productie_df[emissie_productie_df[\"Country Name\"].isin(landen_selectie)]\n",
    "\n",
    "# ➗ Bereken uitstoot per ton\n",
    "emissie_productie_df[\"Emissions_per_ton\"] = (\n",
    "    emissie_productie_df[\"Emissions_total\"] / emissie_productie_df[\"Production_tonnes\"]\n",
    ")\n",
    "\n",
    "# 📈 Maak scatterplot\n",
    "fig = px.scatter(\n",
    "    emissie_productie_df,\n",
    "    x=\"Precipitation_mm\",\n",
    "    y=\"Emissions_per_ton\",\n",
    "    animation_frame=\"Year\",\n",
    "    color=\"Country Name\",\n",
    "    text=\"Country Name\",\n",
    "    hover_name=\"Country Name\",\n",
    "    title=\"Uitstoot per ton geproduceerd vs Neerslag (per jaar)\",\n",
    "    labels={\n",
    "        \"Precipitation_mm\": \"Neerslag (mm/jaar)\",\n",
    "        \"Emissions_per_ton\": \"Uitstoot per ton geproduceerd (Mt/ton)\"\n",
    "    }\n",
    ")\n",
    "\n",
    "fig.update_traces(\n",
    "    textposition='top center',\n",
    "    marker=dict(size=14)\n",
    ")\n",
    "\n",
    "fig.update_layout(\n",
    "    xaxis=dict(range=[0, 3000]),\n",
    "    yaxis=dict(range=[0, 6e-7])\n",
    ")\n",
    "\n",
    "fig.show()\n",
    "\n"
   ]
  },
  {
   "cell_type": "markdown",
   "id": "b89f90b9",
   "metadata": {},
   "source": [
    "#### Analyse: Uitstoot per ton geproduceerd vs Neerslag\n",
    "\n",
    "Deze visualisatie toont hoe efficiënt landen voedsel produceren in termen van uitstoot. Op de x-as staat de jaarlijkse neerslag (in mm), en op de y-as de uitstoot uit landbouw omgerekend naar **uitstoot per geproduceerde ton voedsel** (Mt CO₂e/ton). Elk punt vertegenwoordigt één land in een bepaald jaar. We volgen Brazilië, India, Indonesië, Japan, Nigeria, Zuid-Afrika en \n",
    "de Verenigde Staten.\n",
    "\n",
    "##### Waarom deze landen?\n",
    "\n",
    "In deze analyse beperken we ons tot zeven landen: Brazilië, India, Indonesië, Japan, Nigeria, Zuid-Afrika en de Verenigde Staten. Deze selectie is bewust gemaakt om drie redenen:\n",
    "\n",
    "1. **Contrasterende landbouwsystemen**  \n",
    "   Elk van deze landen vertegenwoordigt een fundamenteel ander landbouwmodel: van grootschalige industriële productie (VS), tot extensieve plantaardige landbouw (India), tot tropisch kleinschalig boerenbedrijf (Nigeria, Indonesië). Door juist deze contrasten te vergelijken, ontstaat inzicht in hoe verschillende strategieën leiden tot uiteenlopende emissiepatronen, los van natuurlijke omstandigheden.\n",
    "\n",
    "2. **Relevantie voor mondiale voedselvoorziening én uitstoot**  \n",
    "   De gekozen landen behoren tot de grootste producenten van voedsel in de wereld (India, VS, Brazilië), of zijn door hun bevolkingsomvang of economische groei belangrijk voor de toekomst van landbouwtransitie (zoals Indonesië, Nigeria). Ze dragen significant bij aan zowel de wereldwijde voedselproductie als de landbouwgerelateerde uitstoot, wat hen tot relevante cases maakt.\n",
    "\n",
    "3. **Beheersbare maar representatieve vergelijking**  \n",
    "   Door te focussen op zeven landen kunnen we trends in detail analyseren, zonder dat de vergelijking verwatert. Een analyse van alle landen zou leiden tot visuele ruis en afleiding van het doel: het blootleggen van fundamentele verschillen in landbouw-efficiëntie. De gekozen landen bestrijken vijf continenten, meerdere klimaatzones, en uiteenlopende sociaaleconomische structuren, waardoor ze samen een krachtig representatief beeld geven van mondiale landbouwdynamiek.\n",
    "\n",
    "Kortom: deze landen zijn niet willekeurig gekozen, maar geselecteerd om de kernvraag van deze analyse – **hoe efficiënt produceren landen voedsel in termen van uitstoot?** – zo scherp en inzichtelijk mogelijk te beantwoorden.\n",
    "\n",
    "\n",
    "##### Wat valt op?\n",
    "\n",
    "- **De Verenigde Staten heeft structureel een hoge uitstoot per ton geproduceerd.**  \n",
    "  Hoewel de VS een grote landbouwsector heeft, is de uitstoot per ton voedsel aanzienlijk hoger dan in bijvoorbeeld India of Brazilië. Dit wijst waarschijnlijk op een uitstootintensieve landbouwpraktijk, zoals intensieve veeteelt (runderen, varkens), gebruik van grote hoeveelheden kunstmest, en een hoge mate van mechanisatie en energieverbruik.\n",
    "\n",
    "- **India en Brazilië combineren hoge productie met relatief lage uitstoot.**  \n",
    "  India produceert in veel jaren zelfs meer dan de VS, maar doet dit met een aanzienlijk lagere uitstoot per ton. Dit suggereert een meer plantaardige en extensieve landbouw, of efficiënter gebruik van middelen. Ook Brazilië scoort opvallend goed qua uitstoot-efficiëntie, ondanks hoge neerslag.\n",
    "\n",
    "- **Japan en Zuid-Afrika zitten qua efficiëntie in de middenmoot.**  \n",
    "  Japan is technologisch geavanceerd maar kleinschalig, wat leidt tot stabiele maar gematigde uitstoot per ton. Zuid-Afrika toont sterke fluctuaties, wat kan wijzen op klimaatinvloeden (zoals droogte), economische instabiliteit of structurele verschillen in landbouwtypes per jaar.\n",
    "\n",
    "- **Indonesië en Nigeria produceren weinig, en stoten relatief weinig uit.**  \n",
    "  In beide landen is de landbouw kleinschaliger en minder geïndustrialiseerd. Dat leidt tot lage totale productie, maar ook tot lage uitstoot per ton. Wellicht is er beperkte toegang tot landbouwtechnologie of infrastructuur.\n",
    "\n",
    "##### Waarom stoten sommige landen meer uit per ton dan andere?\n",
    "\n",
    "Een hoge uitstoot per ton geproduceerd voedsel kan verschillende oorzaken hebben:\n",
    "- Dominantie van veeteelt (vooral rundvlees en zuivel -> hoge methaanuitstoot)\n",
    "- Inefficiënt gebruik van landbouwgrond of input (bijv. overmatig gebruik van kunstmest)\n",
    "- Mechanisatie die veel fossiele energie verbruikt\n",
    "- Verspilling in de keten of lage opbrengst per hectare\n",
    "\n",
    "##### Conclusie\n",
    "\n",
    "De visualisatie laat overtuigend zien dat **meer neerslag niet automatisch leidt tot efficiëntere of duurzamere landbouw.** India toont aan dat een droog(achtig) klimaat niet hoeft te betekenen dat productie inefficiënt is. Tegelijkertijd laat de VS zien dat landbouwkeuzes een grotere impact hebben dan klimaat: ondanks goede omstandigheden is de uitstoot per ton daar hoog.\n",
    "\n",
    "Efficiëntie in landbouw wordt dus grotendeels bepaald door **productiestrategie**, niet door geografie. Wie wat produceert – en hóé – bepaalt uiteindelijk de ecologische voetafdruk.\n",
    "\n"
   ]
  },
  {
   "cell_type": "markdown",
   "id": "760ec173",
   "metadata": {},
   "source": [
    "### Internationale handelsstromen beïnvloeden nationale uitstoot\n",
    "\n",
    "De uitstoot van een nationaal voedselsysteem zegt niet alleen iets over wat er binnen dat land geconsumeerd wordt, maar ook over wat er geproduceerd wordt voor de wereldmarkt. Sommige landen produceren voedsel voornamelijk voor export. In die gevallen wordt de uitstoot lokaal geregistreerd, terwijl de consumptie elders plaatsvindt. \n",
    "\n",
    "Omdat deze landen produceren voor internationale markten, ligt hun landbouwuitstoot vaak hoger dan landen met vergelijkbare bevolkingsaantallen of eetgewoonten. Dit betekent dat de uitstoot van een land niet per se iets zegt over het lokale dieet of de binnenlandse voedselvoorziening. Het weerspiegelt eerder hun positie in het mondiale voedselsysteem. \n",
    "\n",
    "Dus landbouwuitstoot weerspiegelt niet enkel lokale consumptie, maar wordt sterk beïnvloed door de internationale vraag – landen met hoge export produceren meer en stoten daardoor meer uit, vaak voor andermans bord.\n"
   ]
  },
  {
   "cell_type": "code",
   "execution_count": 62,
   "id": "b86b0fe7",
   "metadata": {},
   "outputs": [
    {
     "data": {
      "application/vnd.plotly.v1+json": {
       "config": {
        "plotlyServerURL": "https://plot.ly"
       },
       "data": [
        {
         "name": "Sugar cane",
         "type": "bar",
         "visible": true,
         "x": [
          "Brazil",
          "India",
          "Indonesia",
          "Japan",
          "Mexico",
          "Nigeria",
          "South Africa",
          "Ukraine",
          "United States of America"
         ],
         "y": {
          "bdata": "w/UoXI+Ao0DXo3A9yqXRQKRwPQpXicxAMzMzMzMDjkBxPQrXA+3kQAAAAAAAADxAZmZmZmYOq0AAAAAAAAAAAAAAAADg4wNB",
          "dtype": "f8"
         }
        },
        {
         "name": "Wheat",
         "type": "bar",
         "visible": true,
         "x": [
          "Brazil",
          "India",
          "Indonesia",
          "Japan",
          "Mexico",
          "Nigeria",
          "South Africa",
          "Ukraine",
          "United States of America"
         ],
         "y": {
          "bdata": "mpmZi9Prm0EK16PJXgWxQQAAAAAAAAAAAAAAAABF10DsUbh22XmYQQAAAAAAAAAAFK5HYbG+ckF7FA4DbQbTQeF6QDOXBwhC",
          "dtype": "f8"
         }
        },
        {
         "name": "Sugar cane",
         "type": "bar",
         "visible": false,
         "x": [
          "Brazil",
          "India",
          "Indonesia",
          "Japan",
          "Mexico",
          "Nigeria",
          "South Africa",
          "Ukraine",
          "United States of America"
         ],
         "y": {
          "bdata": "AAAAjutI4EEAAAB4qnnjQQAAACAih5NBAAAAAOAsEUEAAACg1HGZQQAAAAAAGPVAAAAAAOOYikEAAAAAAAAAAAAAABAJ6rBB",
          "dtype": "f8"
         }
        },
        {
         "name": "Wheat",
         "type": "bar",
         "visible": false,
         "x": [
          "Brazil",
          "India",
          "Indonesia",
          "Japan",
          "Mexico",
          "Nigeria",
          "South Africa",
          "Ukraine",
          "United States of America"
         ],
         "y": {
          "bdata": "AAAAjpls5kEAADiFVmQ5QgAAAAAAAAAAAAAAwIh4gUEAAACsm4jGQQAAAAAAAAAAAAAAmCFDwkEAACDLWfoaQgAAfrcg7VFC",
          "dtype": "f8"
         }
        },
        {
         "name": "Sugar cane",
         "type": "bar",
         "visible": false,
         "x": [
          "Brazil",
          "India",
          "Indonesia",
          "Japan",
          "Mexico",
          "Nigeria",
          "South Africa",
          "Ukraine",
          "United States of America"
         ],
         "y": {
          "bdata": "PTfWKoWj6T7mF/nrArTtPnwCEYnWjg8/pl6cH87U3z6AOLZb59Q4P4X1fIRjvI0+6UNFIYyJED8AAAAAAAAAAFDPWZ6lRkM/",
          "dtype": "f8"
         }
        },
        {
         "name": "Wheat",
         "type": "bar",
         "visible": false,
         "x": [
          "Brazil",
          "India",
          "Indonesia",
          "Japan",
          "Mexico",
          "Nigeria",
          "South Africa",
          "Ukraine",
          "United States of America"
         ],
         "y": {
          "bdata": "YRkOqLHV4j9ODttm0KDNPwAAAAAAAAAAeuqsB6x+KD+BLnyoAHvtPwAAAAAAAAAAStS71CRe1z8VXv381xI8QFz+Cx4HLEZA",
          "dtype": "f8"
         }
        },
        {
         "name": "Sugar cane",
         "type": "bar",
         "visible": false,
         "x": [
          "Brazil",
          "India",
          "Indonesia",
          "Japan",
          "Mexico",
          "Nigeria",
          "South Africa",
          "Ukraine",
          "United States of America"
         ],
         "y": {
          "bdata": "tuOxxNkQJUDRjGTk47j+P5LeLL6cN9U/gpZF0PJAYj8ggay6gE/wPxva84rHZkY//B+vwfAK8D8AAAAAAAAAACojU0LJoe4/",
          "dtype": "f8"
         }
        },
        {
         "name": "Wheat",
         "type": "bar",
         "visible": false,
         "x": [
          "Brazil",
          "India",
          "Indonesia",
          "Japan",
          "Mexico",
          "Nigeria",
          "South Africa",
          "Ukraine",
          "United States of America"
         ],
         "y": {
          "bdata": "Jo21YsOqLkBnv7VHVvRVQAAAAAAAAAAAhXANsXZo0j+FPjjdRBYcQAAAAAAAAAAAV+05TaJUJ0A5y7lOLciDQLKpAcUwz5BA",
          "dtype": "f8"
         }
        }
       ],
       "layout": {
        "barmode": "stack",
        "height": 650,
        "legend": {
         "title": {
          "text": "Product"
         }
        },
        "margin": {
         "b": 50,
         "l": 50,
         "r": 50,
         "t": 80
        },
        "template": {
         "data": {
          "bar": [
           {
            "error_x": {
             "color": "#2a3f5f"
            },
            "error_y": {
             "color": "#2a3f5f"
            },
            "marker": {
             "line": {
              "color": "#E5ECF6",
              "width": 0.5
             },
             "pattern": {
              "fillmode": "overlay",
              "size": 10,
              "solidity": 0.2
             }
            },
            "type": "bar"
           }
          ],
          "barpolar": [
           {
            "marker": {
             "line": {
              "color": "#E5ECF6",
              "width": 0.5
             },
             "pattern": {
              "fillmode": "overlay",
              "size": 10,
              "solidity": 0.2
             }
            },
            "type": "barpolar"
           }
          ],
          "carpet": [
           {
            "aaxis": {
             "endlinecolor": "#2a3f5f",
             "gridcolor": "white",
             "linecolor": "white",
             "minorgridcolor": "white",
             "startlinecolor": "#2a3f5f"
            },
            "baxis": {
             "endlinecolor": "#2a3f5f",
             "gridcolor": "white",
             "linecolor": "white",
             "minorgridcolor": "white",
             "startlinecolor": "#2a3f5f"
            },
            "type": "carpet"
           }
          ],
          "choropleth": [
           {
            "colorbar": {
             "outlinewidth": 0,
             "ticks": ""
            },
            "type": "choropleth"
           }
          ],
          "contour": [
           {
            "colorbar": {
             "outlinewidth": 0,
             "ticks": ""
            },
            "colorscale": [
             [
              0,
              "#0d0887"
             ],
             [
              0.1111111111111111,
              "#46039f"
             ],
             [
              0.2222222222222222,
              "#7201a8"
             ],
             [
              0.3333333333333333,
              "#9c179e"
             ],
             [
              0.4444444444444444,
              "#bd3786"
             ],
             [
              0.5555555555555556,
              "#d8576b"
             ],
             [
              0.6666666666666666,
              "#ed7953"
             ],
             [
              0.7777777777777778,
              "#fb9f3a"
             ],
             [
              0.8888888888888888,
              "#fdca26"
             ],
             [
              1,
              "#f0f921"
             ]
            ],
            "type": "contour"
           }
          ],
          "contourcarpet": [
           {
            "colorbar": {
             "outlinewidth": 0,
             "ticks": ""
            },
            "type": "contourcarpet"
           }
          ],
          "heatmap": [
           {
            "colorbar": {
             "outlinewidth": 0,
             "ticks": ""
            },
            "colorscale": [
             [
              0,
              "#0d0887"
             ],
             [
              0.1111111111111111,
              "#46039f"
             ],
             [
              0.2222222222222222,
              "#7201a8"
             ],
             [
              0.3333333333333333,
              "#9c179e"
             ],
             [
              0.4444444444444444,
              "#bd3786"
             ],
             [
              0.5555555555555556,
              "#d8576b"
             ],
             [
              0.6666666666666666,
              "#ed7953"
             ],
             [
              0.7777777777777778,
              "#fb9f3a"
             ],
             [
              0.8888888888888888,
              "#fdca26"
             ],
             [
              1,
              "#f0f921"
             ]
            ],
            "type": "heatmap"
           }
          ],
          "histogram": [
           {
            "marker": {
             "pattern": {
              "fillmode": "overlay",
              "size": 10,
              "solidity": 0.2
             }
            },
            "type": "histogram"
           }
          ],
          "histogram2d": [
           {
            "colorbar": {
             "outlinewidth": 0,
             "ticks": ""
            },
            "colorscale": [
             [
              0,
              "#0d0887"
             ],
             [
              0.1111111111111111,
              "#46039f"
             ],
             [
              0.2222222222222222,
              "#7201a8"
             ],
             [
              0.3333333333333333,
              "#9c179e"
             ],
             [
              0.4444444444444444,
              "#bd3786"
             ],
             [
              0.5555555555555556,
              "#d8576b"
             ],
             [
              0.6666666666666666,
              "#ed7953"
             ],
             [
              0.7777777777777778,
              "#fb9f3a"
             ],
             [
              0.8888888888888888,
              "#fdca26"
             ],
             [
              1,
              "#f0f921"
             ]
            ],
            "type": "histogram2d"
           }
          ],
          "histogram2dcontour": [
           {
            "colorbar": {
             "outlinewidth": 0,
             "ticks": ""
            },
            "colorscale": [
             [
              0,
              "#0d0887"
             ],
             [
              0.1111111111111111,
              "#46039f"
             ],
             [
              0.2222222222222222,
              "#7201a8"
             ],
             [
              0.3333333333333333,
              "#9c179e"
             ],
             [
              0.4444444444444444,
              "#bd3786"
             ],
             [
              0.5555555555555556,
              "#d8576b"
             ],
             [
              0.6666666666666666,
              "#ed7953"
             ],
             [
              0.7777777777777778,
              "#fb9f3a"
             ],
             [
              0.8888888888888888,
              "#fdca26"
             ],
             [
              1,
              "#f0f921"
             ]
            ],
            "type": "histogram2dcontour"
           }
          ],
          "mesh3d": [
           {
            "colorbar": {
             "outlinewidth": 0,
             "ticks": ""
            },
            "type": "mesh3d"
           }
          ],
          "parcoords": [
           {
            "line": {
             "colorbar": {
              "outlinewidth": 0,
              "ticks": ""
             }
            },
            "type": "parcoords"
           }
          ],
          "pie": [
           {
            "automargin": true,
            "type": "pie"
           }
          ],
          "scatter": [
           {
            "fillpattern": {
             "fillmode": "overlay",
             "size": 10,
             "solidity": 0.2
            },
            "type": "scatter"
           }
          ],
          "scatter3d": [
           {
            "line": {
             "colorbar": {
              "outlinewidth": 0,
              "ticks": ""
             }
            },
            "marker": {
             "colorbar": {
              "outlinewidth": 0,
              "ticks": ""
             }
            },
            "type": "scatter3d"
           }
          ],
          "scattercarpet": [
           {
            "marker": {
             "colorbar": {
              "outlinewidth": 0,
              "ticks": ""
             }
            },
            "type": "scattercarpet"
           }
          ],
          "scattergeo": [
           {
            "marker": {
             "colorbar": {
              "outlinewidth": 0,
              "ticks": ""
             }
            },
            "type": "scattergeo"
           }
          ],
          "scattergl": [
           {
            "marker": {
             "colorbar": {
              "outlinewidth": 0,
              "ticks": ""
             }
            },
            "type": "scattergl"
           }
          ],
          "scattermap": [
           {
            "marker": {
             "colorbar": {
              "outlinewidth": 0,
              "ticks": ""
             }
            },
            "type": "scattermap"
           }
          ],
          "scattermapbox": [
           {
            "marker": {
             "colorbar": {
              "outlinewidth": 0,
              "ticks": ""
             }
            },
            "type": "scattermapbox"
           }
          ],
          "scatterpolar": [
           {
            "marker": {
             "colorbar": {
              "outlinewidth": 0,
              "ticks": ""
             }
            },
            "type": "scatterpolar"
           }
          ],
          "scatterpolargl": [
           {
            "marker": {
             "colorbar": {
              "outlinewidth": 0,
              "ticks": ""
             }
            },
            "type": "scatterpolargl"
           }
          ],
          "scatterternary": [
           {
            "marker": {
             "colorbar": {
              "outlinewidth": 0,
              "ticks": ""
             }
            },
            "type": "scatterternary"
           }
          ],
          "surface": [
           {
            "colorbar": {
             "outlinewidth": 0,
             "ticks": ""
            },
            "colorscale": [
             [
              0,
              "#0d0887"
             ],
             [
              0.1111111111111111,
              "#46039f"
             ],
             [
              0.2222222222222222,
              "#7201a8"
             ],
             [
              0.3333333333333333,
              "#9c179e"
             ],
             [
              0.4444444444444444,
              "#bd3786"
             ],
             [
              0.5555555555555556,
              "#d8576b"
             ],
             [
              0.6666666666666666,
              "#ed7953"
             ],
             [
              0.7777777777777778,
              "#fb9f3a"
             ],
             [
              0.8888888888888888,
              "#fdca26"
             ],
             [
              1,
              "#f0f921"
             ]
            ],
            "type": "surface"
           }
          ],
          "table": [
           {
            "cells": {
             "fill": {
              "color": "#EBF0F8"
             },
             "line": {
              "color": "white"
             }
            },
            "header": {
             "fill": {
              "color": "#C8D4E3"
             },
             "line": {
              "color": "white"
             }
            },
            "type": "table"
           }
          ]
         },
         "layout": {
          "annotationdefaults": {
           "arrowcolor": "#2a3f5f",
           "arrowhead": 0,
           "arrowwidth": 1
          },
          "autotypenumbers": "strict",
          "coloraxis": {
           "colorbar": {
            "outlinewidth": 0,
            "ticks": ""
           }
          },
          "colorscale": {
           "diverging": [
            [
             0,
             "#8e0152"
            ],
            [
             0.1,
             "#c51b7d"
            ],
            [
             0.2,
             "#de77ae"
            ],
            [
             0.3,
             "#f1b6da"
            ],
            [
             0.4,
             "#fde0ef"
            ],
            [
             0.5,
             "#f7f7f7"
            ],
            [
             0.6,
             "#e6f5d0"
            ],
            [
             0.7,
             "#b8e186"
            ],
            [
             0.8,
             "#7fbc41"
            ],
            [
             0.9,
             "#4d9221"
            ],
            [
             1,
             "#276419"
            ]
           ],
           "sequential": [
            [
             0,
             "#0d0887"
            ],
            [
             0.1111111111111111,
             "#46039f"
            ],
            [
             0.2222222222222222,
             "#7201a8"
            ],
            [
             0.3333333333333333,
             "#9c179e"
            ],
            [
             0.4444444444444444,
             "#bd3786"
            ],
            [
             0.5555555555555556,
             "#d8576b"
            ],
            [
             0.6666666666666666,
             "#ed7953"
            ],
            [
             0.7777777777777778,
             "#fb9f3a"
            ],
            [
             0.8888888888888888,
             "#fdca26"
            ],
            [
             1,
             "#f0f921"
            ]
           ],
           "sequentialminus": [
            [
             0,
             "#0d0887"
            ],
            [
             0.1111111111111111,
             "#46039f"
            ],
            [
             0.2222222222222222,
             "#7201a8"
            ],
            [
             0.3333333333333333,
             "#9c179e"
            ],
            [
             0.4444444444444444,
             "#bd3786"
            ],
            [
             0.5555555555555556,
             "#d8576b"
            ],
            [
             0.6666666666666666,
             "#ed7953"
            ],
            [
             0.7777777777777778,
             "#fb9f3a"
            ],
            [
             0.8888888888888888,
             "#fdca26"
            ],
            [
             1,
             "#f0f921"
            ]
           ]
          },
          "colorway": [
           "#636efa",
           "#EF553B",
           "#00cc96",
           "#ab63fa",
           "#FFA15A",
           "#19d3f3",
           "#FF6692",
           "#B6E880",
           "#FF97FF",
           "#FECB52"
          ],
          "font": {
           "color": "#2a3f5f"
          },
          "geo": {
           "bgcolor": "white",
           "lakecolor": "white",
           "landcolor": "#E5ECF6",
           "showlakes": true,
           "showland": true,
           "subunitcolor": "white"
          },
          "hoverlabel": {
           "align": "left"
          },
          "hovermode": "closest",
          "mapbox": {
           "style": "light"
          },
          "paper_bgcolor": "white",
          "plot_bgcolor": "#E5ECF6",
          "polar": {
           "angularaxis": {
            "gridcolor": "white",
            "linecolor": "white",
            "ticks": ""
           },
           "bgcolor": "#E5ECF6",
           "radialaxis": {
            "gridcolor": "white",
            "linecolor": "white",
            "ticks": ""
           }
          },
          "scene": {
           "xaxis": {
            "backgroundcolor": "#E5ECF6",
            "gridcolor": "white",
            "gridwidth": 2,
            "linecolor": "white",
            "showbackground": true,
            "ticks": "",
            "zerolinecolor": "white"
           },
           "yaxis": {
            "backgroundcolor": "#E5ECF6",
            "gridcolor": "white",
            "gridwidth": 2,
            "linecolor": "white",
            "showbackground": true,
            "ticks": "",
            "zerolinecolor": "white"
           },
           "zaxis": {
            "backgroundcolor": "#E5ECF6",
            "gridcolor": "white",
            "gridwidth": 2,
            "linecolor": "white",
            "showbackground": true,
            "ticks": "",
            "zerolinecolor": "white"
           }
          },
          "shapedefaults": {
           "line": {
            "color": "#2a3f5f"
           }
          },
          "ternary": {
           "aaxis": {
            "gridcolor": "white",
            "linecolor": "white",
            "ticks": ""
           },
           "baxis": {
            "gridcolor": "white",
            "linecolor": "white",
            "ticks": ""
           },
           "bgcolor": "#E5ECF6",
           "caxis": {
            "gridcolor": "white",
            "linecolor": "white",
            "ticks": ""
           }
          },
          "title": {
           "x": 0.05
          },
          "xaxis": {
           "automargin": true,
           "gridcolor": "white",
           "linecolor": "white",
           "ticks": "",
           "title": {
            "standoff": 15
           },
           "zerolinecolor": "white",
           "zerolinewidth": 2
          },
          "yaxis": {
           "automargin": true,
           "gridcolor": "white",
           "linecolor": "white",
           "ticks": "",
           "title": {
            "standoff": 15
           },
           "zerolinecolor": "white",
           "zerolinewidth": 2
          }
         }
        },
        "title": {
         "text": "Export Volume by Country (tonnes)"
        },
        "updatemenus": [
         {
          "active": 0,
          "buttons": [
           {
            "args": [
             {
              "visible": [
               true,
               true,
               false,
               false,
               false,
               false,
               false,
               false
              ]
             },
             {
              "title": "Export Volume by Country (tonnes)",
              "yaxis": {
               "title": "Tonnes"
              }
             }
            ],
            "label": "Export Volume (tonnes)",
            "method": "update"
           },
           {
            "args": [
             {
              "visible": [
               false,
               false,
               true,
               true,
               false,
               false,
               false,
               false
              ]
             },
             {
              "title": "Estimated CO₂ Emissions by Country",
              "yaxis": {
               "title": "kg CO₂"
              }
             }
            ],
            "label": "Estimated CO₂ Emissions (kg)",
            "method": "update"
           },
           {
            "args": [
             {
              "visible": [
               false,
               false,
               false,
               false,
               true,
               true,
               false,
               false
              ]
             },
             {
              "title": "Export Volume per Capita by Country",
              "yaxis": {
               "title": "Tonnes per person"
              }
             }
            ],
            "label": "Export Volume per Capita (tonnes/person)",
            "method": "update"
           },
           {
            "args": [
             {
              "visible": [
               false,
               false,
               false,
               false,
               false,
               false,
               true,
               true
              ]
             },
             {
              "title": "Export-Linked CO₂ Emissions per Capita by Country",
              "yaxis": {
               "title": "kg CO₂ per person"
              }
             }
            ],
            "label": "CO₂ Emissions per Capita (kg/person)",
            "method": "update"
           }
          ],
          "x": 1.05
         }
        ],
        "xaxis": {
         "title": {
          "text": "Country"
         }
        },
        "yaxis": {
         "title": {
          "text": "Tonnes"
         }
        }
       }
      }
     },
     "metadata": {},
     "output_type": "display_data"
    }
   ],
   "source": [
    "import pandas as pd\n",
    "import plotly.graph_objects as go\n",
    "\n",
    "# === STEP 1: LOAD ALL DATA ===\n",
    "df_export = pd.read_csv(\"datasets/filtered_export_data.csv\", encoding='latin1')\n",
    "df_crops = pd.read_csv(\"datasets/Emissions_crops_filtered.csv\")\n",
    "df_livestock = pd.read_csv(\"datasets/Emissions_livestock_filtered.csv\")\n",
    "df_pop = pd.read_csv(\"datasets/Population_E_All_Data_(Normalized).csv\")\n",
    "\n",
    "# === STEP 2: CLEAN EXPORT DATA ===\n",
    "df_export = df_export[df_export[\"Element\"] == \"Export quantity\"]\n",
    "df_export = df_export[df_export[\"Value\"] > 0]\n",
    "df_export[\"Item\"] = df_export[\"Item\"].str.strip()\n",
    "df_export = df_export[[\"Reporter Countries\", \"Item\", \"Year\", \"Value\"]]\n",
    "df_export.columns = [\"Country\", \"Item\", \"Year\", \"Tonnes\"]\n",
    "\n",
    "# === STEP 3: CLEAN + MERGE EMISSIONS DATA ===\n",
    "df_emissions = pd.concat([df_crops, df_livestock])\n",
    "df_emissions = df_emissions[df_emissions[\"Value\"].notna()]\n",
    "df_emissions = df_emissions[df_emissions[\"Value\"] > 0]\n",
    "df_emissions = df_emissions[[\"Area\", \"Item\", \"Year\", \"Value\"]]\n",
    "df_emissions.columns = [\"Country\", \"Item\", \"Year\", \"Emissions_Gg\"]\n",
    "df_emissions[\"Emissions_kg\"] = df_emissions[\"Emissions_Gg\"] * 1e6\n",
    "\n",
    "# === STEP 4: CALCULATE EMISSION FACTORS (kg CO₂ per tonne) ===\n",
    "df_merged = pd.merge(df_export, df_emissions, on=[\"Country\", \"Item\", \"Year\"], how=\"left\")\n",
    "df_merged[\"Emission_Factor\"] = df_merged[\"Emissions_kg\"] / df_merged[\"Tonnes\"]\n",
    "df_merged = df_merged[df_merged[\"Emission_Factor\"].notna()]\n",
    "\n",
    "# === STEP 5: ESTIMATE EMISSIONS FROM EXPORT ===\n",
    "df_merged[\"Estimated_Emissions_kg\"] = df_merged[\"Tonnes\"] * df_merged[\"Emission_Factor\"]\n",
    "\n",
    "# === STEP 6: LOAD + MERGE POPULATION DATA ===\n",
    "df_pop = df_pop[df_pop[\"Element\"] == \"Total Population - Both sexes\"]\n",
    "df_pop = df_pop[[\"Area\", \"Year\", \"Value\"]]\n",
    "df_pop.columns = [\"Country\", \"Year\", \"Population_1000s\"]\n",
    "df_pop[\"Population\"] = df_pop[\"Population_1000s\"] * 1000\n",
    "\n",
    "df_final = pd.merge(df_merged, df_pop, on=[\"Country\", \"Year\"], how=\"left\")\n",
    "df_final = df_final[df_final[\"Population\"].notna()]\n",
    "\n",
    "# === STEP 7: CALCULATE PER CAPITA METRICS ===\n",
    "df_final[\"Tonnes_per_capita\"] = df_final[\"Tonnes\"] / df_final[\"Population\"]\n",
    "df_final[\"Emissions_per_capita\"] = df_final[\"Estimated_Emissions_kg\"] / df_final[\"Population\"]\n",
    "\n",
    "# === STEP 8: AGGREGATE FOR VISUALISATION ===\n",
    "def group_for_plot(value_column):\n",
    "    return df_final.groupby([\"Country\", \"Item\"])[value_column].sum().unstack().fillna(0)\n",
    "\n",
    "volume_df = group_for_plot(\"Tonnes\")\n",
    "emissions_df = group_for_plot(\"Estimated_Emissions_kg\")\n",
    "volume_pc_df = group_for_plot(\"Tonnes_per_capita\")\n",
    "emissions_pc_df = group_for_plot(\"Emissions_per_capita\")\n",
    "\n",
    "# === STEP 9: BUILD INTERACTIVE VISUALISATION ===\n",
    "fig = go.Figure()\n",
    "\n",
    "# Add default view (volume)\n",
    "for item in volume_df.columns:\n",
    "    fig.add_trace(go.Bar(name=item, x=volume_df.index, y=volume_df[item], visible=True))\n",
    "\n",
    "# Add other 3 datasets as hidden\n",
    "for df_data in [emissions_df, volume_pc_df, emissions_pc_df]:\n",
    "    for item in df_data.columns:\n",
    "        fig.add_trace(go.Bar(name=item, x=df_data.index, y=df_data[item], visible=False))\n",
    "\n",
    "# Dropdown logic\n",
    "n = len(volume_df.columns)\n",
    "dropdown_buttons = [\n",
    "    dict(label=\"Export Volume (tonnes)\",\n",
    "         method=\"update\",\n",
    "         args=[{\"visible\": [True]*n + [False]*(3*n)},\n",
    "               {\"title\": \"Export Volume by Country (tonnes)\",\n",
    "                \"yaxis\": {\"title\": \"Tonnes\"}}]),\n",
    "    dict(label=\"Estimated CO₂ Emissions (kg)\",\n",
    "         method=\"update\",\n",
    "         args=[{\"visible\": [False]*n + [True]*n + [False]*(2*n)},\n",
    "               {\"title\": \"Estimated CO₂ Emissions by Country\",\n",
    "                \"yaxis\": {\"title\": \"kg CO₂\"}}]),\n",
    "    dict(label=\"Export Volume per Capita (tonnes/person)\",\n",
    "     method=\"update\",\n",
    "     args=[{\"visible\": [False]*(2*n) + [True]*n + [False]*n},\n",
    "           {\"title\": \"Export Volume per Capita by Country\",\n",
    "            \"yaxis\": {\"title\": \"Tonnes per person\"}}]),\n",
    "    dict(label=\"CO₂ Emissions per Capita (kg/person)\",\n",
    "        method=\"update\",\n",
    "        args=[{\"visible\": [False]*(3*n) + [True]*n},\n",
    "           {\"title\": \"Export-Linked CO₂ Emissions per Capita by Country\",\n",
    "            \"yaxis\": {\"title\": \"kg CO₂ per person\"}}])\n",
    "\n",
    "]\n",
    "\n",
    "# Final layout\n",
    "fig.update_layout(\n",
    "    updatemenus=[dict(active=0, buttons=dropdown_buttons, x=1.05)],\n",
    "    barmode=\"stack\",\n",
    "    title=\"Export Volume by Country (tonnes)\",\n",
    "    xaxis_title=\"Country\",\n",
    "    yaxis_title=\"Tonnes\",\n",
    "    legend_title=\"Product\",\n",
    "    height=650,\n",
    "    margin=dict(l=50, r=50, t=80, b=50)\n",
    ")\n",
    "\n",
    "fig.show()\n",
    "\n"
   ]
  },
  {
   "cell_type": "code",
   "execution_count": 63,
   "id": "aa5f901f",
   "metadata": {},
   "outputs": [
    {
     "data": {
      "application/vnd.plotly.v1+json": {
       "config": {
        "plotlyServerURL": "https://plot.ly"
       },
       "data": [
        {
         "name": "Sugar cane",
         "type": "bar",
         "visible": true,
         "x": [
          "Brazil",
          "India",
          "Indonesia",
          "Japan",
          "Mexico",
          "Nigeria",
          "South Africa",
          "Ukraine",
          "United States of America"
         ],
         "y": [
          0,
          0,
          0,
          0,
          20,
          0,
          0,
          0,
          0
         ]
        },
        {
         "name": "Wheat",
         "type": "bar",
         "visible": true,
         "x": [
          "Brazil",
          "India",
          "Indonesia",
          "Japan",
          "Mexico",
          "Nigeria",
          "South Africa",
          "Ukraine",
          "United States of America"
         ],
         "y": [
          0,
          1330680,
          0,
          0,
          0,
          0,
          0,
          0,
          144669318
         ]
        }
       ],
       "frames": [
        {
         "data": [
          {
           "name": "Sugar cane",
           "type": "bar",
           "x": [
            "Brazil",
            "India",
            "Indonesia",
            "Japan",
            "Mexico",
            "Nigeria",
            "South Africa",
            "Ukraine",
            "United States of America"
           ],
           "y": [
            0,
            0,
            0,
            0,
            20,
            0,
            0,
            0,
            0
           ]
          },
          {
           "name": "Wheat",
           "type": "bar",
           "x": [
            "Brazil",
            "India",
            "Indonesia",
            "Japan",
            "Mexico",
            "Nigeria",
            "South Africa",
            "Ukraine",
            "United States of America"
           ],
           "y": [
            0,
            1330680,
            0,
            0,
            0,
            0,
            0,
            0,
            144669318
           ]
          }
         ],
         "name": "1986_Tonnes"
        },
        {
         "data": [
          {
           "name": "Sugar cane",
           "type": "bar",
           "x": [
            "Brazil",
            "India",
            "Indonesia",
            "Japan",
            "Mexico",
            "Nigeria",
            "South Africa",
            "Ukraine",
            "United States of America"
           ],
           "y": [
            0,
            0,
            0,
            0,
            2110400,
            0,
            0,
            0,
            0
           ]
          },
          {
           "name": "Wheat",
           "type": "bar",
           "x": [
            "Brazil",
            "India",
            "Indonesia",
            "Japan",
            "Mexico",
            "Nigeria",
            "South Africa",
            "Ukraine",
            "United States of America"
           ],
           "y": [
            0,
            453766800,
            0,
            0,
            0,
            0,
            0,
            0,
            7287572400
           ]
          }
         ],
         "name": "1986_Estimated_Emissions_kg"
        },
        {
         "data": [
          {
           "name": "Sugar cane",
           "type": "bar",
           "x": [
            "Brazil",
            "India",
            "Indonesia",
            "Japan",
            "Mexico",
            "Nigeria",
            "South Africa",
            "Ukraine",
            "United States of America"
           ],
           "y": [
            0,
            0,
            0,
            0,
            2.6114557224352654e-7,
            0,
            0,
            0,
            0
           ]
          },
          {
           "name": "Wheat",
           "type": "bar",
           "x": [
            "Brazil",
            "India",
            "Indonesia",
            "Japan",
            "Mexico",
            "Nigeria",
            "South Africa",
            "Ukraine",
            "United States of America"
           ],
           "y": [
            0,
            0.0016829352047257136,
            0,
            0,
            0,
            0,
            0,
            0,
            0.5930193087743042
           ]
          }
         ],
         "name": "1986_Tonnes_per_capita"
        },
        {
         "data": [
          {
           "name": "Sugar cane",
           "type": "bar",
           "x": [
            "Brazil",
            "India",
            "Indonesia",
            "Japan",
            "Mexico",
            "Nigeria",
            "South Africa",
            "Ukraine",
            "United States of America"
           ],
           "y": [
            0,
            0,
            0,
            0,
            0.02755608078313692,
            0,
            0,
            0,
            0
           ]
          },
          {
           "name": "Wheat",
           "type": "bar",
           "x": [
            "Brazil",
            "India",
            "Indonesia",
            "Japan",
            "Mexico",
            "Nigeria",
            "South Africa",
            "Ukraine",
            "United States of America"
           ],
           "y": [
            0,
            0.5738871272249767,
            0,
            0,
            0,
            0,
            0,
            0,
            29.872755377824458
           ]
          }
         ],
         "name": "1986_Emissions_per_capita"
        },
        {
         "data": [
          {
           "name": "Sugar cane",
           "type": "bar",
           "x": [
            "Brazil",
            "India",
            "Indonesia",
            "Japan",
            "Mexico",
            "Nigeria",
            "South Africa",
            "Ukraine",
            "United States of America"
           ],
           "y": [
            0,
            0,
            0,
            0,
            0,
            0,
            0,
            0,
            0
           ]
          },
          {
           "name": "Wheat",
           "type": "bar",
           "x": [
            "Brazil",
            "India",
            "Indonesia",
            "Japan",
            "Mexico",
            "Nigeria",
            "South Africa",
            "Ukraine",
            "United States of America"
           ],
           "y": [
            0,
            1521972,
            0,
            0,
            140580,
            0,
            0,
            0,
            181568130
           ]
          }
         ],
         "name": "1987_Tonnes"
        },
        {
         "data": [
          {
           "name": "Sugar cane",
           "type": "bar",
           "x": [
            "Brazil",
            "India",
            "Indonesia",
            "Japan",
            "Mexico",
            "Nigeria",
            "South Africa",
            "Ukraine",
            "United States of America"
           ],
           "y": [
            0,
            0,
            0,
            0,
            0,
            0,
            0,
            0,
            0
           ]
          },
          {
           "name": "Wheat",
           "type": "bar",
           "x": [
            "Brazil",
            "India",
            "Indonesia",
            "Japan",
            "Mexico",
            "Nigeria",
            "South Africa",
            "Ukraine",
            "United States of America"
           ],
           "y": [
            0,
            522985400,
            0,
            0,
            12990600,
            0,
            0,
            0,
            7150698000
           ]
          }
         ],
         "name": "1987_Estimated_Emissions_kg"
        },
        {
         "data": [
          {
           "name": "Sugar cane",
           "type": "bar",
           "x": [
            "Brazil",
            "India",
            "Indonesia",
            "Japan",
            "Mexico",
            "Nigeria",
            "South Africa",
            "Ukraine",
            "United States of America"
           ],
           "y": [
            0,
            0,
            0,
            0,
            0,
            0,
            0,
            0,
            0
           ]
          },
          {
           "name": "Wheat",
           "type": "bar",
           "x": [
            "Brazil",
            "India",
            "Indonesia",
            "Japan",
            "Mexico",
            "Nigeria",
            "South Africa",
            "Ukraine",
            "United States of America"
           ],
           "y": [
            0,
            0.0018814602135481795,
            0,
            0,
            0.0017991556868747806,
            0,
            0,
            0,
            0.7375982196973447
           ]
          }
         ],
         "name": "1987_Tonnes_per_capita"
        },
        {
         "data": [
          {
           "name": "Sugar cane",
           "type": "bar",
           "x": [
            "Brazil",
            "India",
            "Indonesia",
            "Japan",
            "Mexico",
            "Nigeria",
            "South Africa",
            "Ukraine",
            "United States of America"
           ],
           "y": [
            0,
            0,
            0,
            0,
            0,
            0,
            0,
            0,
            0
           ]
          },
          {
           "name": "Wheat",
           "type": "bar",
           "x": [
            "Brazil",
            "India",
            "Indonesia",
            "Japan",
            "Mexico",
            "Nigeria",
            "South Africa",
            "Ukraine",
            "United States of America"
           ],
           "y": [
            0,
            0.6465140110110962,
            0,
            0,
            0.1662548859433456,
            0,
            0,
            0,
            29.048832052152342
           ]
          }
         ],
         "name": "1987_Emissions_per_capita"
        },
        {
         "data": [
          {
           "name": "Sugar cane",
           "type": "bar",
           "x": [
            "Brazil",
            "India",
            "Indonesia",
            "Japan",
            "Mexico",
            "Nigeria",
            "South Africa",
            "Ukraine",
            "United States of America"
           ],
           "y": [
            0,
            0,
            0,
            0,
            0,
            0,
            0,
            0,
            0
           ]
          },
          {
           "name": "Wheat",
           "type": "bar",
           "x": [
            "Brazil",
            "India",
            "Indonesia",
            "Japan",
            "Mexico",
            "Nigeria",
            "South Africa",
            "Ukraine",
            "United States of America"
           ],
           "y": [
            0,
            93600,
            0,
            0,
            1021092,
            0,
            0,
            0,
            239433528
           ]
          }
         ],
         "name": "1988_Tonnes"
        },
        {
         "data": [
          {
           "name": "Sugar cane",
           "type": "bar",
           "x": [
            "Brazil",
            "India",
            "Indonesia",
            "Japan",
            "Mexico",
            "Nigeria",
            "South Africa",
            "Ukraine",
            "United States of America"
           ],
           "y": [
            0,
            0,
            0,
            0,
            0,
            0,
            0,
            0,
            0
           ]
          },
          {
           "name": "Wheat",
           "type": "bar",
           "x": [
            "Brazil",
            "India",
            "Indonesia",
            "Japan",
            "Mexico",
            "Nigeria",
            "South Africa",
            "Ukraine",
            "United States of America"
           ],
           "y": [
            0,
            150766800,
            0,
            0,
            15253600,
            0,
            0,
            0,
            6438960000
           ]
          }
         ],
         "name": "1988_Estimated_Emissions_kg"
        },
        {
         "data": [
          {
           "name": "Sugar cane",
           "type": "bar",
           "x": [
            "Brazil",
            "India",
            "Indonesia",
            "Japan",
            "Mexico",
            "Nigeria",
            "South Africa",
            "Ukraine",
            "United States of America"
           ],
           "y": [
            0,
            0,
            0,
            0,
            0,
            0,
            0,
            0,
            0
           ]
          },
          {
           "name": "Wheat",
           "type": "bar",
           "x": [
            "Brazil",
            "India",
            "Indonesia",
            "Japan",
            "Mexico",
            "Nigeria",
            "South Africa",
            "Ukraine",
            "United States of America"
           ],
           "y": [
            0,
            0.00011313324840040042,
            0,
            0,
            0.012812412279428817,
            0,
            0,
            0,
            0.9639293437278998
           ]
          }
         ],
         "name": "1988_Tonnes_per_capita"
        },
        {
         "data": [
          {
           "name": "Sugar cane",
           "type": "bar",
           "x": [
            "Brazil",
            "India",
            "Indonesia",
            "Japan",
            "Mexico",
            "Nigeria",
            "South Africa",
            "Ukraine",
            "United States of America"
           ],
           "y": [
            0,
            0,
            0,
            0,
            0,
            0,
            0,
            0,
            0
           ]
          },
          {
           "name": "Wheat",
           "type": "bar",
           "x": [
            "Brazil",
            "India",
            "Indonesia",
            "Japan",
            "Mexico",
            "Nigeria",
            "South Africa",
            "Ukraine",
            "United States of America"
           ],
           "y": [
            0,
            0.18223010507407575,
            0,
            0,
            0.1913984361306282,
            0,
            0,
            0,
            25.922445110069123
           ]
          }
         ],
         "name": "1988_Emissions_per_capita"
        },
        {
         "data": [
          {
           "name": "Sugar cane",
           "type": "bar",
           "x": [
            "Brazil",
            "India",
            "Indonesia",
            "Japan",
            "Mexico",
            "Nigeria",
            "South Africa",
            "Ukraine",
            "United States of America"
           ],
           "y": [
            0,
            0,
            0,
            0,
            0,
            0,
            0,
            0,
            17040
           ]
          },
          {
           "name": "Wheat",
           "type": "bar",
           "x": [
            "Brazil",
            "India",
            "Indonesia",
            "Japan",
            "Mexico",
            "Nigeria",
            "South Africa",
            "Ukraine",
            "United States of America"
           ],
           "y": [
            0,
            70680,
            0,
            0,
            1378500,
            0,
            0,
            0,
            211953912
           ]
          }
         ],
         "name": "1989_Tonnes"
        },
        {
         "data": [
          {
           "name": "Sugar cane",
           "type": "bar",
           "x": [
            "Brazil",
            "India",
            "Indonesia",
            "Japan",
            "Mexico",
            "Nigeria",
            "South Africa",
            "Ukraine",
            "United States of America"
           ],
           "y": [
            0,
            0,
            0,
            0,
            0,
            0,
            0,
            0,
            2483200
           ]
          },
          {
           "name": "Wheat",
           "type": "bar",
           "x": [
            "Brazil",
            "India",
            "Indonesia",
            "Japan",
            "Mexico",
            "Nigeria",
            "South Africa",
            "Ukraine",
            "United States of America"
           ],
           "y": [
            0,
            162887200,
            0,
            0,
            14043000,
            0,
            0,
            0,
            7354997400
           ]
          }
         ],
         "name": "1989_Estimated_Emissions_kg"
        },
        {
         "data": [
          {
           "name": "Sugar cane",
           "type": "bar",
           "x": [
            "Brazil",
            "India",
            "Indonesia",
            "Japan",
            "Mexico",
            "Nigeria",
            "South Africa",
            "Ukraine",
            "United States of America"
           ],
           "y": [
            0,
            0,
            0,
            0,
            0,
            0,
            0,
            0,
            0.00006797644917621699
           ]
          },
          {
           "name": "Wheat",
           "type": "bar",
           "x": [
            "Brazil",
            "India",
            "Indonesia",
            "Japan",
            "Mexico",
            "Nigeria",
            "South Africa",
            "Ukraine",
            "United States of America"
           ],
           "y": [
            0,
            0.000083542195816243,
            0,
            0,
            0.016966742304982345,
            0,
            0,
            0,
            0.8455325309136367
           ]
          }
         ],
         "name": "1989_Tonnes_per_capita"
        },
        {
         "data": [
          {
           "name": "Sugar cane",
           "type": "bar",
           "x": [
            "Brazil",
            "India",
            "Indonesia",
            "Japan",
            "Mexico",
            "Nigeria",
            "South Africa",
            "Ukraine",
            "United States of America"
           ],
           "y": [
            0,
            0,
            0,
            0,
            0,
            0,
            0,
            0,
            0.00990605156070317
           ]
          },
          {
           "name": "Wheat",
           "type": "bar",
           "x": [
            "Brazil",
            "India",
            "Indonesia",
            "Japan",
            "Mexico",
            "Nigeria",
            "South Africa",
            "Ukraine",
            "United States of America"
           ],
           "y": [
            0,
            0.19252906562478123,
            0,
            0,
            0.17284291780113678,
            0,
            0,
            0,
            29.340763318797425
           ]
          }
         ],
         "name": "1989_Emissions_per_capita"
        },
        {
         "data": [
          {
           "name": "Sugar cane",
           "type": "bar",
           "x": [
            "Brazil",
            "India",
            "Indonesia",
            "Japan",
            "Mexico",
            "Nigeria",
            "South Africa",
            "Ukraine",
            "United States of America"
           ],
           "y": [
            0,
            0,
            1848,
            0,
            104,
            0,
            0,
            0,
            6528
           ]
          },
          {
           "name": "Wheat",
           "type": "bar",
           "x": [
            "Brazil",
            "India",
            "Indonesia",
            "Japan",
            "Mexico",
            "Nigeria",
            "South Africa",
            "Ukraine",
            "United States of America"
           ],
           "y": [
            0,
            833946,
            0,
            0,
            13782,
            0,
            0,
            0,
            367135930
           ]
          }
         ],
         "name": "1990_Tonnes"
        },
        {
         "data": [
          {
           "name": "Sugar cane",
           "type": "bar",
           "x": [
            "Brazil",
            "India",
            "Indonesia",
            "Japan",
            "Mexico",
            "Nigeria",
            "South Africa",
            "Ukraine",
            "United States of America"
           ],
           "y": [
            0,
            0,
            1242400,
            0,
            4114799.999999999,
            0,
            0,
            0,
            3472200
           ]
          },
          {
           "name": "Wheat",
           "type": "bar",
           "x": [
            "Brazil",
            "India",
            "Indonesia",
            "Japan",
            "Mexico",
            "Nigeria",
            "South Africa",
            "Ukraine",
            "United States of America"
           ],
           "y": [
            0,
            468504000,
            0,
            0,
            3980600,
            0,
            0,
            0,
            10941410800
           ]
          }
         ],
         "name": "1990_Estimated_Emissions_kg"
        },
        {
         "data": [
          {
           "name": "Sugar cane",
           "type": "bar",
           "x": [
            "Brazil",
            "India",
            "Indonesia",
            "Japan",
            "Mexico",
            "Nigeria",
            "South Africa",
            "Ukraine",
            "United States of America"
           ],
           "y": [
            0,
            0,
            0.000010070784426586919,
            0,
            0.0000012557327520578622,
            0,
            0,
            0,
            0.000025764347539783254
           ]
          },
          {
           "name": "Wheat",
           "type": "bar",
           "x": [
            "Brazil",
            "India",
            "Indonesia",
            "Japan",
            "Mexico",
            "Nigeria",
            "South Africa",
            "Ukraine",
            "United States of America"
           ],
           "y": [
            0,
            0.0009641303844831799,
            0,
            0,
            0.00016640873835443708,
            0,
            0,
            0,
            1.448991681198152
           ]
          }
         ],
         "name": "1990_Tonnes_per_capita"
        },
        {
         "data": [
          {
           "name": "Sugar cane",
           "type": "bar",
           "x": [
            "Brazil",
            "India",
            "Indonesia",
            "Japan",
            "Mexico",
            "Nigeria",
            "South Africa",
            "Ukraine",
            "United States of America"
           ],
           "y": [
            0,
            0,
            0.006770531694584193,
            0,
            0.049683549309304714,
            0,
            0,
            0,
            0.013703885957051992
           ]
          },
          {
           "name": "Wheat",
           "type": "bar",
           "x": [
            "Brazil",
            "India",
            "Indonesia",
            "Japan",
            "Mexico",
            "Nigeria",
            "South Africa",
            "Ukraine",
            "United States of America"
           ],
           "y": [
            0,
            0.5416405158750179,
            0,
            0,
            0.04806317108501468,
            0,
            0,
            0,
            43.18295196488019
           ]
          }
         ],
         "name": "1990_Emissions_per_capita"
        },
        {
         "data": [
          {
           "name": "Sugar cane",
           "type": "bar",
           "x": [
            "Brazil",
            "India",
            "Indonesia",
            "Japan",
            "Mexico",
            "Nigeria",
            "South Africa",
            "Ukraine",
            "United States of America"
           ],
           "y": [
            0,
            0,
            228,
            0,
            40,
            0,
            0,
            0,
            1464
           ]
          },
          {
           "name": "Wheat",
           "type": "bar",
           "x": [
            "Brazil",
            "India",
            "Indonesia",
            "Japan",
            "Mexico",
            "Nigeria",
            "South Africa",
            "Ukraine",
            "United States of America"
           ],
           "y": [
            0,
            3949500,
            0,
            0,
            60,
            0,
            0,
            0,
            417127242
           ]
          }
         ],
         "name": "1991_Tonnes"
        },
        {
         "data": [
          {
           "name": "Sugar cane",
           "type": "bar",
           "x": [
            "Brazil",
            "India",
            "Indonesia",
            "Japan",
            "Mexico",
            "Nigeria",
            "South Africa",
            "Ukraine",
            "United States of America"
           ],
           "y": [
            0,
            0,
            1314400,
            0,
            3939600,
            0,
            0,
            0,
            1307200
           ]
          },
          {
           "name": "Wheat",
           "type": "bar",
           "x": [
            "Brazil",
            "India",
            "Indonesia",
            "Japan",
            "Mexico",
            "Nigeria",
            "South Africa",
            "Ukraine",
            "United States of America"
           ],
           "y": [
            0,
            1230651000,
            0,
            0,
            4160000,
            0,
            0,
            0,
            8217813400
           ]
          }
         ],
         "name": "1991_Estimated_Emissions_kg"
        },
        {
         "data": [
          {
           "name": "Sugar cane",
           "type": "bar",
           "x": [
            "Brazil",
            "India",
            "Indonesia",
            "Japan",
            "Mexico",
            "Nigeria",
            "South Africa",
            "Ukraine",
            "United States of America"
           ],
           "y": [
            0,
            0,
            0.0000012206989553033474,
            0,
            4.737620396554935e-7,
            0,
            0,
            0,
            0.000005708238301465657
           ]
          },
          {
           "name": "Wheat",
           "type": "bar",
           "x": [
            "Brazil",
            "India",
            "Indonesia",
            "Japan",
            "Mexico",
            "Nigeria",
            "South Africa",
            "Ukraine",
            "United States of America"
           ],
           "y": [
            0,
            0.004468126122546688,
            0,
            0,
            7.106430594832403e-7,
            0,
            0,
            0,
            1.626408264596403
           ]
          }
         ],
         "name": "1991_Tonnes_per_capita"
        },
        {
         "data": [
          {
           "name": "Sugar cane",
           "type": "bar",
           "x": [
            "Brazil",
            "India",
            "Indonesia",
            "Japan",
            "Mexico",
            "Nigeria",
            "South Africa",
            "Ukraine",
            "United States of America"
           ],
           "y": [
            0,
            0,
            0.00703722239846807,
            0,
            0.046660823285669555,
            0,
            0,
            0,
            0.005096864144587368
           ]
          },
          {
           "name": "Wheat",
           "type": "bar",
           "x": [
            "Brazil",
            "India",
            "Indonesia",
            "Japan",
            "Mexico",
            "Nigeria",
            "South Africa",
            "Ukraine",
            "United States of America"
           ],
           "y": [
            0,
            1.392253166435803,
            0,
            0,
            0.04927125212417132,
            0,
            0,
            0,
            32.04182869137822
           ]
          }
         ],
         "name": "1991_Emissions_per_capita"
        },
        {
         "data": [
          {
           "name": "Sugar cane",
           "type": "bar",
           "x": [
            "Brazil",
            "India",
            "Indonesia",
            "Japan",
            "Mexico",
            "Nigeria",
            "South Africa",
            "Ukraine",
            "United States of America"
           ],
           "y": [
            0,
            4,
            0,
            0,
            128,
            0,
            0,
            0,
            38332
           ]
          },
          {
           "name": "Wheat",
           "type": "bar",
           "x": [
            "Brazil",
            "India",
            "Indonesia",
            "Japan",
            "Mexico",
            "Nigeria",
            "South Africa",
            "Ukraine",
            "United States of America"
           ],
           "y": [
            0,
            220494,
            0,
            0,
            0,
            0,
            0,
            0,
            415139816
           ]
          }
         ],
         "name": "1992_Tonnes"
        },
        {
         "data": [
          {
           "name": "Sugar cane",
           "type": "bar",
           "x": [
            "Brazil",
            "India",
            "Indonesia",
            "Japan",
            "Mexico",
            "Nigeria",
            "South Africa",
            "Ukraine",
            "United States of America"
           ],
           "y": [
            0,
            13827800,
            0,
            0,
            6030000,
            0,
            0,
            0,
            9437400
           ]
          },
          {
           "name": "Wheat",
           "type": "bar",
           "x": [
            "Brazil",
            "India",
            "Indonesia",
            "Japan",
            "Mexico",
            "Nigeria",
            "South Africa",
            "Ukraine",
            "United States of America"
           ],
           "y": [
            0,
            561071000,
            0,
            0,
            0,
            0,
            0,
            0,
            11116708400
           ]
          }
         ],
         "name": "1992_Estimated_Emissions_kg"
        },
        {
         "data": [
          {
           "name": "Sugar cane",
           "type": "bar",
           "x": [
            "Brazil",
            "India",
            "Indonesia",
            "Japan",
            "Mexico",
            "Nigeria",
            "South Africa",
            "Ukraine",
            "United States of America"
           ],
           "y": [
            0,
            4.429889451997978e-9,
            0,
            0,
            0.0000014875970030917262,
            0,
            0,
            0,
            0.00014765451181623026
           ]
          },
          {
           "name": "Wheat",
           "type": "bar",
           "x": [
            "Brazil",
            "India",
            "Indonesia",
            "Japan",
            "Mexico",
            "Nigeria",
            "South Africa",
            "Ukraine",
            "United States of America"
           ],
           "y": [
            0,
            0.00024419101120721055,
            0,
            0,
            0,
            0,
            0,
            0,
            1.599114757042671
           ]
          }
         ],
         "name": "1992_Tonnes_per_capita"
        },
        {
         "data": [
          {
           "name": "Sugar cane",
           "type": "bar",
           "x": [
            "Brazil",
            "India",
            "Indonesia",
            "Japan",
            "Mexico",
            "Nigeria",
            "South Africa",
            "Ukraine",
            "United States of America"
           ],
           "y": [
            0,
            0.015313906341084411,
            0,
            0,
            0.0700797650675243,
            0,
            0,
            0,
            0.03635277809178993
           ]
          },
          {
           "name": "Wheat",
           "type": "bar",
           "x": [
            "Brazil",
            "India",
            "Indonesia",
            "Japan",
            "Mexico",
            "Nigeria",
            "South Africa",
            "Ukraine",
            "United States of America"
           ],
           "y": [
            0,
            0.6213706261804894,
            0,
            0,
            0,
            0,
            0,
            0,
            42.821458619570755
           ]
          }
         ],
         "name": "1992_Emissions_per_capita"
        },
        {
         "data": [
          {
           "name": "Sugar cane",
           "type": "bar",
           "x": [
            "Brazil",
            "India",
            "Indonesia",
            "Japan",
            "Mexico",
            "Nigeria",
            "South Africa",
            "Ukraine",
            "United States of America"
           ],
           "y": [
            0,
            16,
            860,
            0,
            4,
            0,
            0,
            0,
            13428
           ]
          },
          {
           "name": "Wheat",
           "type": "bar",
           "x": [
            "Brazil",
            "India",
            "Indonesia",
            "Japan",
            "Mexico",
            "Nigeria",
            "South Africa",
            "Ukraine",
            "United States of America"
           ],
           "y": [
            0,
            2340,
            0,
            0,
            0,
            0,
            0,
            0,
            476074116
           ]
          }
         ],
         "name": "1993_Tonnes"
        },
        {
         "data": [
          {
           "name": "Sugar cane",
           "type": "bar",
           "x": [
            "Brazil",
            "India",
            "Indonesia",
            "Japan",
            "Mexico",
            "Nigeria",
            "South Africa",
            "Ukraine",
            "United States of America"
           ],
           "y": [
            0,
            12855400,
            1503800,
            0,
            2022800,
            0,
            0,
            0,
            8293200
           ]
          },
          {
           "name": "Wheat",
           "type": "bar",
           "x": [
            "Brazil",
            "India",
            "Indonesia",
            "Japan",
            "Mexico",
            "Nigeria",
            "South Africa",
            "Ukraine",
            "United States of America"
           ],
           "y": [
            0,
            251934600,
            0,
            0,
            0,
            0,
            0,
            0,
            11884412800
           ]
          }
         ],
         "name": "1993_Estimated_Emissions_kg"
        },
        {
         "data": [
          {
           "name": "Sugar cane",
           "type": "bar",
           "x": [
            "Brazil",
            "India",
            "Indonesia",
            "Japan",
            "Mexico",
            "Nigeria",
            "South Africa",
            "Ukraine",
            "United States of America"
           ],
           "y": [
            0,
            1.7351351220805882e-8,
            0.000004448923993589245,
            0,
            4.5634070406092e-8,
            0,
            0,
            0,
            0.00005112833569793001
           ]
          },
          {
           "name": "Wheat",
           "type": "bar",
           "x": [
            "Brazil",
            "India",
            "Indonesia",
            "Japan",
            "Mexico",
            "Nigeria",
            "South Africa",
            "Ukraine",
            "United States of America"
           ],
           "y": [
            0,
            0.0000025376351160428603,
            0,
            0,
            0,
            0,
            0,
            0,
            1.8126956523639612
           ]
          }
         ],
         "name": "1993_Tonnes_per_capita"
        },
        {
         "data": [
          {
           "name": "Sugar cane",
           "type": "bar",
           "x": [
            "Brazil",
            "India",
            "Indonesia",
            "Japan",
            "Mexico",
            "Nigeria",
            "South Africa",
            "Ukraine",
            "United States of America"
           ],
           "y": [
            0,
            0.013941160030246745,
            0.007779409187859893,
            0,
            0.023077149404360724,
            0,
            0,
            0,
            0.031577115997175546
           ]
          },
          {
           "name": "Wheat",
           "type": "bar",
           "x": [
            "Brazil",
            "India",
            "Indonesia",
            "Japan",
            "Mexico",
            "Nigeria",
            "South Africa",
            "Ukraine",
            "United States of America"
           ],
           "y": [
            0,
            0.27321285807957757,
            0,
            0,
            0,
            0,
            0,
            0,
            45.25098653642957
           ]
          }
         ],
         "name": "1993_Emissions_per_capita"
        },
        {
         "data": [
          {
           "name": "Sugar cane",
           "type": "bar",
           "x": [
            "Brazil",
            "India",
            "Indonesia",
            "Japan",
            "Mexico",
            "Nigeria",
            "South Africa",
            "Ukraine",
            "United States of America"
           ],
           "y": [
            0,
            0,
            0,
            0,
            0,
            0,
            40,
            0,
            1872
           ]
          },
          {
           "name": "Wheat",
           "type": "bar",
           "x": [
            "Brazil",
            "India",
            "Indonesia",
            "Japan",
            "Mexico",
            "Nigeria",
            "South Africa",
            "Ukraine",
            "United States of America"
           ],
           "y": [
            12,
            519768,
            0,
            0,
            529038,
            0,
            6810,
            0,
            406018998
           ]
          }
         ],
         "name": "1994_Tonnes"
        },
        {
         "data": [
          {
           "name": "Sugar cane",
           "type": "bar",
           "x": [
            "Brazil",
            "India",
            "Indonesia",
            "Japan",
            "Mexico",
            "Nigeria",
            "South Africa",
            "Ukraine",
            "United States of America"
           ],
           "y": [
            0,
            0,
            0,
            0,
            0,
            0,
            1023400,
            0,
            8190000
           ]
          },
          {
           "name": "Wheat",
           "type": "bar",
           "x": [
            "Brazil",
            "India",
            "Indonesia",
            "Japan",
            "Mexico",
            "Nigeria",
            "South Africa",
            "Ukraine",
            "United States of America"
           ],
           "y": [
            4136200,
            605402000,
            0,
            0,
            8310400,
            0,
            6618000,
            0,
            10795980000
           ]
          }
         ],
         "name": "1994_Estimated_Emissions_kg"
        },
        {
         "data": [
          {
           "name": "Sugar cane",
           "type": "bar",
           "x": [
            "Brazil",
            "India",
            "Indonesia",
            "Japan",
            "Mexico",
            "Nigeria",
            "South Africa",
            "Ukraine",
            "United States of America"
           ],
           "y": [
            0,
            0,
            0,
            0,
            0,
            0,
            9.090054006056112e-7,
            0,
            0.000007051516488513543
           ]
          },
          {
           "name": "Wheat",
           "type": "bar",
           "x": [
            "Brazil",
            "India",
            "Indonesia",
            "Japan",
            "Mexico",
            "Nigeria",
            "South Africa",
            "Ukraine",
            "United States of America"
           ],
           "y": [
            7.534611840594788e-8,
            0.0005522609541767453,
            0,
            0,
            0.005926985345657067,
            0,
            0.0001547581694531053,
            0,
            1.5294068691489033
           ]
          }
         ],
         "name": "1994_Tonnes_per_capita"
        },
        {
         "data": [
          {
           "name": "Sugar cane",
           "type": "bar",
           "x": [
            "Brazil",
            "India",
            "Indonesia",
            "Japan",
            "Mexico",
            "Nigeria",
            "South Africa",
            "Ukraine",
            "United States of America"
           ],
           "y": [
            0,
            0,
            0,
            0,
            0,
            0,
            0.023256903174494564,
            0,
            0.03085038463724675
           ]
          },
          {
           "name": "Wheat",
           "type": "bar",
           "x": [
            "Brazil",
            "India",
            "Indonesia",
            "Japan",
            "Mexico",
            "Nigeria",
            "South Africa",
            "Ukraine",
            "United States of America"
           ],
           "y": [
            0.025970551245890136,
            0.6432483072842305,
            0,
            0,
            0.09310412298653119,
            0,
            0.1503949435301984,
            0,
            40.66668321563165
           ]
          }
         ],
         "name": "1994_Emissions_per_capita"
        },
        {
         "data": [
          {
           "name": "Sugar cane",
           "type": "bar",
           "x": [
            "Brazil",
            "India",
            "Indonesia",
            "Japan",
            "Mexico",
            "Nigeria",
            "South Africa",
            "Ukraine",
            "United States of America"
           ],
           "y": [
            0,
            0,
            0,
            0,
            48,
            0,
            0,
            0,
            1808
           ]
          },
          {
           "name": "Wheat",
           "type": "bar",
           "x": [
            "Brazil",
            "India",
            "Indonesia",
            "Japan",
            "Mexico",
            "Nigeria",
            "South Africa",
            "Ukraine",
            "United States of America"
           ],
           "y": [
            270,
            3141486,
            0,
            0,
            2590650,
            0,
            0,
            0,
            423144036
           ]
          }
         ],
         "name": "1995_Tonnes"
        },
        {
         "data": [
          {
           "name": "Sugar cane",
           "type": "bar",
           "x": [
            "Brazil",
            "India",
            "Indonesia",
            "Japan",
            "Mexico",
            "Nigeria",
            "South Africa",
            "Ukraine",
            "United States of America"
           ],
           "y": [
            0,
            0,
            0,
            0,
            2063600,
            0,
            0,
            0,
            5435200
           ]
          },
          {
           "name": "Wheat",
           "type": "bar",
           "x": [
            "Brazil",
            "India",
            "Indonesia",
            "Japan",
            "Mexico",
            "Nigeria",
            "South Africa",
            "Ukraine",
            "United States of America"
           ],
           "y": [
            3045000,
            2352188800,
            0,
            0,
            26345200,
            0,
            0,
            0,
            9863808000
           ]
          }
         ],
         "name": "1995_Estimated_Emissions_kg"
        },
        {
         "data": [
          {
           "name": "Sugar cane",
           "type": "bar",
           "x": [
            "Brazil",
            "India",
            "Indonesia",
            "Japan",
            "Mexico",
            "Nigeria",
            "South Africa",
            "Ukraine",
            "United States of America"
           ],
           "y": [
            0,
            0,
            0,
            0,
            5.282710003818409e-7,
            0,
            0,
            0,
            0.0000067410922273323745
           ]
          },
          {
           "name": "Wheat",
           "type": "bar",
           "x": [
            "Brazil",
            "India",
            "Indonesia",
            "Japan",
            "Mexico",
            "Nigeria",
            "South Africa",
            "Ukraine",
            "United States of America"
           ],
           "y": [
            0.0000016693967176804007,
            0.003271355393840434,
            0,
            0,
            0.02851177639873367,
            0,
            0,
            0,
            1.577684165996488
           ]
          }
         ],
         "name": "1995_Tonnes_per_capita"
        },
        {
         "data": [
          {
           "name": "Sugar cane",
           "type": "bar",
           "x": [
            "Brazil",
            "India",
            "Indonesia",
            "Japan",
            "Mexico",
            "Nigeria",
            "South Africa",
            "Ukraine",
            "United States of America"
           ],
           "y": [
            0,
            0,
            0,
            0,
            0.022711250758082644,
            0,
            0,
            0,
            0.020265035660396526
           ]
          },
          {
           "name": "Wheat",
           "type": "bar",
           "x": [
            "Brazil",
            "India",
            "Indonesia",
            "Japan",
            "Mexico",
            "Nigeria",
            "South Africa",
            "Ukraine",
            "United States of America"
           ],
           "y": [
            0.018827085204951185,
            2.4494285564892087,
            0,
            0,
            0.28994594081790986,
            0,
            0,
            0,
            36.77701296498833
           ]
          }
         ],
         "name": "1995_Emissions_per_capita"
        },
        {
         "data": [
          {
           "name": "Sugar cane",
           "type": "bar",
           "x": [
            "Brazil",
            "India",
            "Indonesia",
            "Japan",
            "Mexico",
            "Nigeria",
            "South Africa",
            "Ukraine",
            "United States of America"
           ],
           "y": [
            0,
            40,
            0,
            0,
            0,
            0,
            0,
            0,
            2476
           ]
          },
          {
           "name": "Wheat",
           "type": "bar",
           "x": [
            "Brazil",
            "India",
            "Indonesia",
            "Japan",
            "Mexico",
            "Nigeria",
            "South Africa",
            "Ukraine",
            "United States of America"
           ],
           "y": [
            0,
            5377962,
            0,
            2198,
            0,
            0,
            0,
            0,
            410159722
           ]
          }
         ],
         "name": "1996_Tonnes"
        },
        {
         "data": [
          {
           "name": "Sugar cane",
           "type": "bar",
           "x": [
            "Brazil",
            "India",
            "Indonesia",
            "Japan",
            "Mexico",
            "Nigeria",
            "South Africa",
            "Ukraine",
            "United States of America"
           ],
           "y": [
            0,
            14944000,
            0,
            0,
            0,
            0,
            0,
            0,
            10363200
           ]
          },
          {
           "name": "Wheat",
           "type": "bar",
           "x": [
            "Brazil",
            "India",
            "Indonesia",
            "Japan",
            "Mexico",
            "Nigeria",
            "South Africa",
            "Ukraine",
            "United States of America"
           ],
           "y": [
            0,
            3138580800,
            0,
            3074000,
            0,
            0,
            0,
            0,
            10874851800
           ]
          }
         ],
         "name": "1996_Estimated_Emissions_kg"
        },
        {
         "data": [
          {
           "name": "Sugar cane",
           "type": "bar",
           "x": [
            "Brazil",
            "India",
            "Indonesia",
            "Japan",
            "Mexico",
            "Nigeria",
            "South Africa",
            "Ukraine",
            "United States of America"
           ],
           "y": [
            0,
            4.08297229293573e-8,
            0,
            0,
            0,
            0,
            0,
            0,
            0.000009141230295000054
           ]
          },
          {
           "name": "Wheat",
           "type": "bar",
           "x": [
            "Brazil",
            "India",
            "Indonesia",
            "Japan",
            "Mexico",
            "Nigeria",
            "South Africa",
            "Ukraine",
            "United States of America"
           ],
           "y": [
            0,
            0.005489517459615306,
            0,
            0.00001744786450283723,
            0,
            0,
            0,
            0,
            1.5142829065166399
           ]
          }
         ],
         "name": "1996_Tonnes_per_capita"
        },
        {
         "data": [
          {
           "name": "Sugar cane",
           "type": "bar",
           "x": [
            "Brazil",
            "India",
            "Indonesia",
            "Japan",
            "Mexico",
            "Nigeria",
            "South Africa",
            "Ukraine",
            "United States of America"
           ],
           "y": [
            0,
            0.015253984486407886,
            0,
            0,
            0,
            0,
            0,
            0,
            0.038260257590123005
           ]
          },
          {
           "name": "Wheat",
           "type": "bar",
           "x": [
            "Brazil",
            "India",
            "Indonesia",
            "Japan",
            "Mexico",
            "Nigeria",
            "South Africa",
            "Ukraine",
            "United States of America"
           ],
           "y": [
            0,
            3.203684611385014,
            0,
            0.024401608499418404,
            0,
            0,
            0,
            0,
            40.14924262027297
           ]
          }
         ],
         "name": "1996_Emissions_per_capita"
        },
        {
         "data": [
          {
           "name": "Sugar cane",
           "type": "bar",
           "x": [
            "Brazil",
            "India",
            "Indonesia",
            "Japan",
            "Mexico",
            "Nigeria",
            "South Africa",
            "Ukraine",
            "United States of America"
           ],
           "y": [
            0,
            0,
            0,
            0,
            1496,
            0,
            80,
            0,
            1660
           ]
          },
          {
           "name": "Wheat",
           "type": "bar",
           "x": [
            "Brazil",
            "India",
            "Indonesia",
            "Japan",
            "Mexico",
            "Nigeria",
            "South Africa",
            "Ukraine",
            "United States of America"
           ],
           "y": [
            30,
            0,
            0,
            0,
            1585434,
            0,
            566898,
            0,
            357818076
           ]
          }
         ],
         "name": "1997_Tonnes"
        },
        {
         "data": [
          {
           "name": "Sugar cane",
           "type": "bar",
           "x": [
            "Brazil",
            "India",
            "Indonesia",
            "Japan",
            "Mexico",
            "Nigeria",
            "South Africa",
            "Ukraine",
            "United States of America"
           ],
           "y": [
            0,
            0,
            0,
            0,
            4427600,
            0,
            2136000,
            0,
            7976400
           ]
          },
          {
           "name": "Wheat",
           "type": "bar",
           "x": [
            "Brazil",
            "India",
            "Indonesia",
            "Japan",
            "Mexico",
            "Nigeria",
            "South Africa",
            "Ukraine",
            "United States of America"
           ],
           "y": [
            4722000,
            0,
            0,
            0,
            17387000,
            0,
            43648000,
            0,
            11949924000
           ]
          }
         ],
         "name": "1997_Estimated_Emissions_kg"
        },
        {
         "data": [
          {
           "name": "Sugar cane",
           "type": "bar",
           "x": [
            "Brazil",
            "India",
            "Indonesia",
            "Japan",
            "Mexico",
            "Nigeria",
            "South Africa",
            "Ukraine",
            "United States of America"
           ],
           "y": [
            0,
            0,
            0,
            0,
            0.000015911303925294214,
            0,
            0.0000017518182450030808,
            0,
            0.000006070179769068641
           ]
          },
          {
           "name": "Wheat",
           "type": "bar",
           "x": [
            "Brazil",
            "India",
            "Indonesia",
            "Japan",
            "Mexico",
            "Nigeria",
            "South Africa",
            "Ukraine",
            "United States of America"
           ],
           "y": [
            1.8000540844250208e-7,
            0,
            0,
            0,
            0.016862514857951143,
            0,
            0.012413778243196956,
            0,
            1.3084458108085935
           ]
          }
         ],
         "name": "1997_Tonnes_per_capita"
        },
        {
         "data": [
          {
           "name": "Sugar cane",
           "type": "bar",
           "x": [
            "Brazil",
            "India",
            "Indonesia",
            "Japan",
            "Mexico",
            "Nigeria",
            "South Africa",
            "Ukraine",
            "United States of America"
           ],
           "y": [
            0,
            0,
            0,
            0,
            0.04709150351579724,
            0,
            0.04677354714158225,
            0,
            0.029167579463854884
           ]
          },
          {
           "name": "Wheat",
           "type": "bar",
           "x": [
            "Brazil",
            "India",
            "Indonesia",
            "Japan",
            "Mexico",
            "Nigeria",
            "South Africa",
            "Ukraine",
            "United States of America"
           ],
           "y": [
            0.028332851288849825,
            0,
            0,
            0,
            0.1849263645381621,
            0,
            0.9557920344736809,
            0,
            43.69770295584807
           ]
          }
         ],
         "name": "1997_Emissions_per_capita"
        },
        {
         "data": [
          {
           "name": "Sugar cane",
           "type": "bar",
           "x": [
            "Brazil",
            "India",
            "Indonesia",
            "Japan",
            "Mexico",
            "Nigeria",
            "South Africa",
            "Ukraine",
            "United States of America"
           ],
           "y": [
            0,
            0,
            0,
            960,
            428,
            0,
            84,
            0,
            2180
           ]
          },
          {
           "name": "Wheat",
           "type": "bar",
           "x": [
            "Brazil",
            "India",
            "Indonesia",
            "Japan",
            "Mexico",
            "Nigeria",
            "South Africa",
            "Ukraine",
            "United States of America"
           ],
           "y": [
            25128,
            10572,
            0,
            0,
            700956,
            0,
            317478,
            0,
            372797642
           ]
          }
         ],
         "name": "1998_Tonnes"
        },
        {
         "data": [
          {
           "name": "Sugar cane",
           "type": "bar",
           "x": [
            "Brazil",
            "India",
            "Indonesia",
            "Japan",
            "Mexico",
            "Nigeria",
            "South Africa",
            "Ukraine",
            "United States of America"
           ],
           "y": [
            0,
            0,
            0,
            197400,
            6812400,
            0,
            1139200,
            0,
            9660000
           ]
          },
          {
           "name": "Wheat",
           "type": "bar",
           "x": [
            "Brazil",
            "India",
            "Indonesia",
            "Japan",
            "Mexico",
            "Nigeria",
            "South Africa",
            "Ukraine",
            "United States of America"
           ],
           "y": [
            17425600,
            372342400,
            0,
            0,
            9836400,
            0,
            15738000,
            0,
            11822772400
           ]
          }
         ],
         "name": "1998_Estimated_Emissions_kg"
        },
        {
         "data": [
          {
           "name": "Sugar cane",
           "type": "bar",
           "x": [
            "Brazil",
            "India",
            "Indonesia",
            "Japan",
            "Mexico",
            "Nigeria",
            "South Africa",
            "Ukraine",
            "United States of America"
           ],
           "y": [
            0,
            0,
            0,
            0.000007585983507866401,
            0.000004478147034831038,
            0,
            0.000001817242516205909,
            0,
            0.000007895137136232327
           ]
          },
          {
           "name": "Wheat",
           "type": "bar",
           "x": [
            "Brazil",
            "India",
            "Indonesia",
            "Japan",
            "Mexico",
            "Nigeria",
            "South Africa",
            "Ukraine",
            "United States of America"
           ],
           "y": [
            0.00014854605845584162,
            0.000010378288416444,
            0,
            0,
            0.007334074843334171,
            0,
            0.006868268090000234,
            0,
            1.3501323429605705
           ]
          }
         ],
         "name": "1998_Tonnes_per_capita"
        },
        {
         "data": [
          {
           "name": "Sugar cane",
           "type": "bar",
           "x": [
            "Brazil",
            "India",
            "Indonesia",
            "Japan",
            "Mexico",
            "Nigeria",
            "South Africa",
            "Ukraine",
            "United States of America"
           ],
           "y": [
            0,
            0,
            0,
            0.0015598678588050283,
            0.07127787116841813,
            0,
            0.02464526993406871,
            0,
            0.03498487373211205
           ]
          },
          {
           "name": "Wheat",
           "type": "bar",
           "x": [
            "Brazil",
            "India",
            "Indonesia",
            "Japan",
            "Mexico",
            "Nigeria",
            "South Africa",
            "Ukraine",
            "United States of America"
           ],
           "y": [
            0.10301274260697682,
            0.3655199410585469,
            0,
            0,
            0.10291786330236453,
            0,
            0.3404733657148643,
            0,
            42.817619003881916
           ]
          }
         ],
         "name": "1998_Emissions_per_capita"
        },
        {
         "data": [
          {
           "name": "Sugar cane",
           "type": "bar",
           "x": [
            "Brazil",
            "India",
            "Indonesia",
            "Japan",
            "Mexico",
            "Nigeria",
            "South Africa",
            "Ukraine",
            "United States of America"
           ],
           "y": [
            0,
            12,
            120,
            0,
            1672,
            0,
            4,
            0,
            1700
           ]
          },
          {
           "name": "Wheat",
           "type": "bar",
           "x": [
            "Brazil",
            "India",
            "Indonesia",
            "Japan",
            "Mexico",
            "Nigeria",
            "South Africa",
            "Ukraine",
            "United States of America"
           ],
           "y": [
            9804,
            18,
            0,
            3640,
            2003598,
            0,
            769782,
            0,
            396744306
           ]
          }
         ],
         "name": "1999_Tonnes"
        },
        {
         "data": [
          {
           "name": "Sugar cane",
           "type": "bar",
           "x": [
            "Brazil",
            "India",
            "Indonesia",
            "Japan",
            "Mexico",
            "Nigeria",
            "South Africa",
            "Ukraine",
            "United States of America"
           ],
           "y": [
            0,
            14601600,
            2816800,
            0,
            4632000,
            0,
            1128200,
            0,
            4342800
           ]
          },
          {
           "name": "Wheat",
           "type": "bar",
           "x": [
            "Brazil",
            "India",
            "Indonesia",
            "Japan",
            "Mexico",
            "Nigeria",
            "South Africa",
            "Ukraine",
            "United States of America"
           ],
           "y": [
            20334000,
            97273800,
            0,
            6681600,
            14533000,
            0,
            17361400,
            0,
            10774264000
           ]
          }
         ],
         "name": "1999_Estimated_Emissions_kg"
        },
        {
         "data": [
          {
           "name": "Sugar cane",
           "type": "bar",
           "x": [
            "Brazil",
            "India",
            "Indonesia",
            "Japan",
            "Mexico",
            "Nigeria",
            "South Africa",
            "Ukraine",
            "United States of America"
           ],
           "y": [
            0,
            1.155817909183328e-8,
            5.633679352041243e-7,
            0,
            0.000017216576511150768,
            0,
            8.559750320642898e-8,
            0,
            0.0000060978784677325594
           ]
          },
          {
           "name": "Wheat",
           "type": "bar",
           "x": [
            "Brazil",
            "India",
            "Indonesia",
            "Japan",
            "Mexico",
            "Nigeria",
            "South Africa",
            "Ukraine",
            "United States of America"
           ],
           "y": [
            0.00005711903906620089,
            1.733726863774992e-8,
            0,
            0.00002870627053148966,
            0.02063103963193101,
            0,
            0.016472854303312825,
            0,
            1.423116800442881
           ]
          }
         ],
         "name": "1999_Tonnes_per_capita"
        },
        {
         "data": [
          {
           "name": "Sugar cane",
           "type": "bar",
           "x": [
            "Brazil",
            "India",
            "Indonesia",
            "Japan",
            "Mexico",
            "Nigeria",
            "South Africa",
            "Ukraine",
            "United States of America"
           ],
           "y": [
            0,
            0.014063992318942734,
            0.013224123332358144,
            0,
            0.04769568325337939,
            0,
            0.02414277577937329,
            0,
            0.015577568593922918
           ]
          },
          {
           "name": "Wheat",
           "type": "bar",
           "x": [
            "Brazil",
            "India",
            "Indonesia",
            "Japan",
            "Mexico",
            "Nigeria",
            "South Africa",
            "Ukraine",
            "United States of America"
           ],
           "y": [
            0.11846782337537014,
            0.09369233344526434,
            0,
            0.05269335636901135,
            0.14964623590702997,
            0,
            0.371523123042024,
            0,
            38.647148500744755
           ]
          }
         ],
         "name": "1999_Emissions_per_capita"
        },
        {
         "data": [
          {
           "name": "Sugar cane",
           "type": "bar",
           "x": [
            "Brazil",
            "India",
            "Indonesia",
            "Japan",
            "Mexico",
            "Nigeria",
            "South Africa",
            "Ukraine",
            "United States of America"
           ],
           "y": [
            0,
            5240,
            68,
            0,
            1548,
            28,
            84,
            0,
            6304
           ]
          },
          {
           "name": "Wheat",
           "type": "bar",
           "x": [
            "Brazil",
            "India",
            "Indonesia",
            "Japan",
            "Mexico",
            "Nigeria",
            "South Africa",
            "Ukraine",
            "United States of America"
           ],
           "y": [
            5802,
            4880952,
            0,
            98,
            3288456,
            0,
            748704,
            0,
            385240282
           ]
          }
         ],
         "name": "2000_Tonnes"
        },
        {
         "data": [
          {
           "name": "Sugar cane",
           "type": "bar",
           "x": [
            "Brazil",
            "India",
            "Indonesia",
            "Japan",
            "Mexico",
            "Nigeria",
            "South Africa",
            "Ukraine",
            "United States of America"
           ],
           "y": [
            0,
            15195200,
            2636000,
            0,
            2226400,
            86400,
            2325200,
            0,
            10530800
           ]
          },
          {
           "name": "Wheat",
           "type": "bar",
           "x": [
            "Brazil",
            "India",
            "Indonesia",
            "Japan",
            "Mexico",
            "Nigeria",
            "South Africa",
            "Ukraine",
            "United States of America"
           ],
           "y": [
            6944000,
            1691163400,
            0,
            1835800,
            16255000,
            0,
            26440000,
            0,
            10096183600
           ]
          }
         ],
         "name": "2000_Estimated_Emissions_kg"
        },
        {
         "data": [
          {
           "name": "Sugar cane",
           "type": "bar",
           "x": [
            "Brazil",
            "India",
            "Indonesia",
            "Japan",
            "Mexico",
            "Nigeria",
            "South Africa",
            "Ukraine",
            "United States of America"
           ],
           "y": [
            0,
            0.000004953102751786694,
            3.147014785739895e-7,
            0,
            0.000015695729642151966,
            2.215496712701365e-7,
            0.0000017811810965201043,
            0,
            0.00002239557866940641
           ]
          },
          {
           "name": "Wheat",
           "type": "bar",
           "x": [
            "Brazil",
            "India",
            "Indonesia",
            "Japan",
            "Mexico",
            "Nigeria",
            "South Africa",
            "Ukraine",
            "United States of America"
           ],
           "y": [
            0.000033341324639334876,
            0.0046137131264386965,
            0,
            7.714847339427438e-7,
            0.03334283999748868,
            0,
            0.01587592156772605,
            0,
            1.3686039089713373
           ]
          }
         ],
         "name": "2000_Tonnes_per_capita"
        },
        {
         "data": [
          {
           "name": "Sugar cane",
           "type": "bar",
           "x": [
            "Brazil",
            "India",
            "Indonesia",
            "Japan",
            "Mexico",
            "Nigeria",
            "South Africa",
            "Ukraine",
            "United States of America"
           ],
           "y": [
            0,
            0.01436324178128801,
            0.0121993102576623,
            0,
            0.02257427162486249,
            0.0006836389856335641,
            0.049304789114625554,
            0,
            0.03741170048410296
           ]
          },
          {
           "name": "Wheat",
           "type": "bar",
           "x": [
            "Brazil",
            "India",
            "Indonesia",
            "Japan",
            "Mexico",
            "Nigeria",
            "South Africa",
            "Ukraine",
            "United States of America"
           ],
           "y": [
            0.03990385354973136,
            1.5985698645536148,
            0,
            0.014451955862980502,
            0.16481530060282956,
            0,
            0.5606479546665661,
            0,
            35.86768307020476
           ]
          }
         ],
         "name": "2000_Emissions_per_capita"
        },
        {
         "data": [
          {
           "name": "Sugar cane",
           "type": "bar",
           "x": [
            "Brazil",
            "India",
            "Indonesia",
            "Japan",
            "Mexico",
            "Nigeria",
            "South Africa",
            "Ukraine",
            "United States of America"
           ],
           "y": [
            360,
            0,
            48,
            0,
            1948,
            0,
            4,
            0,
            17924
           ]
          },
          {
           "name": "Wheat",
           "type": "bar",
           "x": [
            "Brazil",
            "India",
            "Indonesia",
            "Japan",
            "Mexico",
            "Nigeria",
            "South Africa",
            "Ukraine",
            "United States of America"
           ],
           "y": [
            5016,
            15896286,
            0,
            84,
            3078000,
            0,
            1826676,
            0,
            352968560
           ]
          }
         ],
         "name": "2001_Tonnes"
        },
        {
         "data": [
          {
           "name": "Sugar cane",
           "type": "bar",
           "x": [
            "Brazil",
            "India",
            "Indonesia",
            "Japan",
            "Mexico",
            "Nigeria",
            "South Africa",
            "Ukraine",
            "United States of America"
           ],
           "y": [
            17853400,
            0,
            2780800,
            0,
            4492400,
            0,
            1172800,
            0,
            13480200
           ]
          },
          {
           "name": "Wheat",
           "type": "bar",
           "x": [
            "Brazil",
            "India",
            "Indonesia",
            "Japan",
            "Mexico",
            "Nigeria",
            "South Africa",
            "Ukraine",
            "United States of America"
           ],
           "y": [
            28026000,
            2953881600,
            0,
            3914000,
            31040000,
            0,
            30904200,
            0,
            8334064800
           ]
          }
         ],
         "name": "2001_Estimated_Emissions_kg"
        },
        {
         "data": [
          {
           "name": "Sugar cane",
           "type": "bar",
           "x": [
            "Brazil",
            "India",
            "Indonesia",
            "Japan",
            "Mexico",
            "Nigeria",
            "South Africa",
            "Ukraine",
            "United States of America"
           ],
           "y": [
            0.0000020419599746009673,
            0,
            2.1908014436395652e-7,
            0,
            0.00001946071462641237,
            0,
            8.409226603429283e-8,
            0,
            0.00006305059364452056
           ]
          },
          {
           "name": "Wheat",
           "type": "bar",
           "x": [
            "Brazil",
            "India",
            "Indonesia",
            "Japan",
            "Mexico",
            "Nigeria",
            "South Africa",
            "Ukraine",
            "United States of America"
           ],
           "y": [
            0.000028451308979440143,
            0.014747478444342502,
            0,
            6.600652389623183e-7,
            0.030749527525717288,
            0,
            0.038402331037614465,
            0,
            1.2416244837007127
           ]
          }
         ],
         "name": "2001_Tonnes_per_capita"
        },
        {
         "data": [
          {
           "name": "Sugar cane",
           "type": "bar",
           "x": [
            "Brazil",
            "India",
            "Indonesia",
            "Japan",
            "Mexico",
            "Nigeria",
            "South Africa",
            "Ukraine",
            "United States of America"
           ],
           "y": [
            0.10126646725150253,
            0,
            0.012692043030151883,
            0,
            0.04487952483967912,
            0,
            0.024655852401254657,
            0,
            0.04741880230120877
           ]
          },
          {
           "name": "Wheat",
           "type": "bar",
           "x": [
            "Brazil",
            "India",
            "Indonesia",
            "Japan",
            "Mexico",
            "Nigeria",
            "South Africa",
            "Ukraine",
            "United States of America"
           ],
           "y": [
            0.1589665840226853,
            2.740407741980733,
            0,
            0.030755896967839452,
            0.3100927012340041,
            0,
            0.6497010519942481,
            0,
            29.316432331616966
           ]
          }
         ],
         "name": "2001_Emissions_per_capita"
        },
        {
         "data": [
          {
           "name": "Sugar cane",
           "type": "bar",
           "x": [
            "Brazil",
            "India",
            "Indonesia",
            "Japan",
            "Mexico",
            "Nigeria",
            "South Africa",
            "Ukraine",
            "United States of America"
           ],
           "y": [
            0,
            0,
            0,
            0,
            940,
            0,
            0,
            0,
            2568
           ]
          },
          {
           "name": "Wheat",
           "type": "bar",
           "x": [
            "Brazil",
            "India",
            "Indonesia",
            "Japan",
            "Mexico",
            "Nigeria",
            "South Africa",
            "Ukraine",
            "United States of America"
           ],
           "y": [
            6180,
            22027518,
            0,
            154,
            2637714,
            0,
            977376,
            48707466,
            335163724
           ]
          }
         ],
         "name": "2002_Tonnes"
        },
        {
         "data": [
          {
           "name": "Sugar cane",
           "type": "bar",
           "x": [
            "Brazil",
            "India",
            "Indonesia",
            "Japan",
            "Mexico",
            "Nigeria",
            "South Africa",
            "Ukraine",
            "United States of America"
           ],
           "y": [
            0,
            0,
            0,
            0,
            4553200,
            0,
            0,
            0,
            16401000
           ]
          },
          {
           "name": "Wheat",
           "type": "bar",
           "x": [
            "Brazil",
            "India",
            "Indonesia",
            "Japan",
            "Mexico",
            "Nigeria",
            "South Africa",
            "Ukraine",
            "United States of America"
           ],
           "y": [
            25518400,
            3330404000,
            0,
            4196800,
            17770800,
            0,
            29932200,
            1236887400,
            8116610800
           ]
          }
         ],
         "name": "2002_Estimated_Emissions_kg"
        },
        {
         "data": [
          {
           "name": "Sugar cane",
           "type": "bar",
           "x": [
            "Brazil",
            "India",
            "Indonesia",
            "Japan",
            "Mexico",
            "Nigeria",
            "South Africa",
            "Ukraine",
            "United States of America"
           ],
           "y": [
            0,
            0,
            0,
            0,
            0.000009256649307232366,
            0,
            0,
            0,
            0.000008945106577008739
           ]
          },
          {
           "name": "Wheat",
           "type": "bar",
           "x": [
            "Brazil",
            "India",
            "Indonesia",
            "Japan",
            "Mexico",
            "Nigeria",
            "South Africa",
            "Ukraine",
            "United States of America"
           ],
           "y": [
            0.000034621173190217246,
            0.020068795894549525,
            0,
            0.000001207989062333632,
            0.025974886671039484,
            0,
            0.020353767325153795,
            1.0006201044795415,
            1.167474778787828
           ]
          }
         ],
         "name": "2002_Tonnes_per_capita"
        },
        {
         "data": [
          {
           "name": "Sugar cane",
           "type": "bar",
           "x": [
            "Brazil",
            "India",
            "Indonesia",
            "Japan",
            "Mexico",
            "Nigeria",
            "South Africa",
            "Ukraine",
            "United States of America"
           ],
           "y": [
            0,
            0,
            0,
            0,
            0.0448376336443515,
            0,
            0,
            0,
            0.057129553337040624
           ]
          },
          {
           "name": "Wheat",
           "type": "bar",
           "x": [
            "Brazil",
            "India",
            "Indonesia",
            "Japan",
            "Mexico",
            "Nigeria",
            "South Africa",
            "Ukraine",
            "United States of America"
           ],
           "y": [
            0.14295743461767635,
            3.0342591535910364,
            0,
            0.03292005517403757,
            0.17499793990315418,
            0,
            0.6233353738274403,
            25.409952540282603,
            28.272565673715018
           ]
          }
         ],
         "name": "2002_Emissions_per_capita"
        },
        {
         "data": [
          {
           "name": "Sugar cane",
           "type": "bar",
           "x": [
            "Brazil",
            "India",
            "Indonesia",
            "Japan",
            "Mexico",
            "Nigeria",
            "South Africa",
            "Ukraine",
            "United States of America"
           ],
           "y": [
            0,
            0,
            4,
            0,
            1260,
            0,
            0,
            0,
            4828
           ]
          },
          {
           "name": "Wheat",
           "type": "bar",
           "x": [
            "Brazil",
            "India",
            "Indonesia",
            "Japan",
            "Mexico",
            "Nigeria",
            "South Africa",
            "Ukraine",
            "United States of America"
           ],
           "y": [
            301836,
            24558498,
            0,
            378,
            3390456,
            0,
            341010,
            5385588,
            351840314
           ]
          }
         ],
         "name": "2003_Tonnes"
        },
        {
         "data": [
          {
           "name": "Sugar cane",
           "type": "bar",
           "x": [
            "Brazil",
            "India",
            "Indonesia",
            "Japan",
            "Mexico",
            "Nigeria",
            "South Africa",
            "Ukraine",
            "United States of America"
           ],
           "y": [
            0,
            0,
            1209000,
            0,
            2320400,
            0,
            0,
            0,
            13015800
           ]
          },
          {
           "name": "Wheat",
           "type": "bar",
           "x": [
            "Brazil",
            "India",
            "Indonesia",
            "Japan",
            "Mexico",
            "Nigeria",
            "South Africa",
            "Ukraine",
            "United States of America"
           ],
           "y": [
            79493400,
            4195868600,
            0,
            6465000,
            29218200,
            0,
            17269000,
            445160000,
            9624979600
           ]
          }
         ],
         "name": "2003_Estimated_Emissions_kg"
        },
        {
         "data": [
          {
           "name": "Sugar cane",
           "type": "bar",
           "x": [
            "Brazil",
            "India",
            "Indonesia",
            "Japan",
            "Mexico",
            "Nigeria",
            "South Africa",
            "Ukraine",
            "United States of America"
           ],
           "y": [
            0,
            0,
            1.7773985362269903e-8,
            0,
            0.000012235561951927546,
            0,
            0,
            0,
            0.000016653553315688662
           ]
          },
          {
           "name": "Wheat",
           "type": "bar",
           "x": [
            "Brazil",
            "India",
            "Indonesia",
            "Japan",
            "Mexico",
            "Nigeria",
            "South Africa",
            "Ukraine",
            "United States of America"
           ],
           "y": [
            0.0016710857497591886,
            0.02198999990872159,
            0,
            0.0000029607291934501372,
            0.032923916216892425,
            0,
            0.007031083570781802,
            0.11146792591042277,
            1.2136270562981855
           ]
          }
         ],
         "name": "2003_Tonnes_per_capita"
        },
        {
         "data": [
          {
           "name": "Sugar cane",
           "type": "bar",
           "x": [
            "Brazil",
            "India",
            "Indonesia",
            "Japan",
            "Mexico",
            "Nigeria",
            "South Africa",
            "Ukraine",
            "United States of America"
           ],
           "y": [
            0,
            0,
            0.0053721870757460774,
            0,
            0.022532855518454506,
            0,
            0,
            0,
            0.0448962964470465
           ]
          },
          {
           "name": "Wheat",
           "type": "bar",
           "x": [
            "Brazil",
            "India",
            "Indonesia",
            "Japan",
            "Mexico",
            "Nigeria",
            "South Africa",
            "Ukraine",
            "United States of America"
           ],
           "y": [
            0.44010750188813486,
            3.757035553681165,
            0,
            0.050637868348294014,
            0.2837310287490551,
            0,
            0.3560593008528516,
            9.213675813724295,
            33.20010582663954
           ]
          }
         ],
         "name": "2003_Emissions_per_capita"
        },
        {
         "data": [
          {
           "name": "Sugar cane",
           "type": "bar",
           "x": [
            "Brazil",
            "India",
            "Indonesia",
            "Japan",
            "Mexico",
            "Nigeria",
            "South Africa",
            "Ukraine",
            "United States of America"
           ],
           "y": [
            0,
            0,
            92,
            0,
            1984,
            0,
            0,
            0,
            2620
           ]
          },
          {
           "name": "Wheat",
           "type": "bar",
           "x": [
            "Brazil",
            "India",
            "Indonesia",
            "Japan",
            "Mexico",
            "Nigeria",
            "South Africa",
            "Ukraine",
            "United States of America"
           ],
           "y": [
            7940592,
            12047700,
            0,
            15428,
            1905282,
            0,
            325728,
            15317448,
            430211390
           ]
          }
         ],
         "name": "2004_Tonnes"
        },
        {
         "data": [
          {
           "name": "Sugar cane",
           "type": "bar",
           "x": [
            "Brazil",
            "India",
            "Indonesia",
            "Japan",
            "Mexico",
            "Nigeria",
            "South Africa",
            "Ukraine",
            "United States of America"
           ],
           "y": [
            0,
            0,
            2483200,
            0,
            4695200,
            0,
            0,
            0,
            9570400
           ]
          },
          {
           "name": "Wheat",
           "type": "bar",
           "x": [
            "Brazil",
            "India",
            "Indonesia",
            "Japan",
            "Mexico",
            "Nigeria",
            "South Africa",
            "Ukraine",
            "United States of America"
           ],
           "y": [
            166780800,
            4200688800,
            0,
            2160400,
            20442600,
            0,
            19070800,
            755877600,
            9813065600
           ]
          }
         ],
         "name": "2004_Estimated_Emissions_kg"
        },
        {
         "data": [
          {
           "name": "Sugar cane",
           "type": "bar",
           "x": [
            "Brazil",
            "India",
            "Indonesia",
            "Japan",
            "Mexico",
            "Nigeria",
            "South Africa",
            "Ukraine",
            "United States of America"
           ],
           "y": [
            0,
            0,
            4.036386284957842e-7,
            0,
            0.000019004899806101167,
            0,
            0,
            0,
            0.000008948507565346655
           ]
          },
          {
           "name": "Wheat",
           "type": "bar",
           "x": [
            "Brazil",
            "India",
            "Indonesia",
            "Japan",
            "Mexico",
            "Nigeria",
            "South Africa",
            "Ukraine",
            "United States of America"
           ],
           "y": [
            0.043468377085107854,
            0.010605448951096169,
            0,
            0.00012070497652347668,
            0.018250853584862926,
            0,
            0.006648674264826897,
            0.31924979971136425,
            1.4693701824859926
           ]
          }
         ],
         "name": "2004_Tonnes_per_capita"
        },
        {
         "data": [
          {
           "name": "Sugar cane",
           "type": "bar",
           "x": [
            "Brazil",
            "India",
            "Indonesia",
            "Japan",
            "Mexico",
            "Nigeria",
            "South Africa",
            "Ukraine",
            "United States of America"
           ],
           "y": [
            0,
            0,
            0.010894733068268818,
            0,
            0.044975708452422485,
            0,
            0,
            0,
            0.03268732702419605
           ]
          },
          {
           "name": "Wheat",
           "type": "bar",
           "x": [
            "Brazil",
            "India",
            "Indonesia",
            "Japan",
            "Mexico",
            "Nigeria",
            "South Africa",
            "Ukraine",
            "United States of America"
           ],
           "y": [
            0.9129912108512761,
            3.6978170628287077,
            0,
            0.016902452118312095,
            0.19582135321381236,
            0,
            0.3892681537038903,
            15.754176048536722,
            33.51614189345154
           ]
          }
         ],
         "name": "2004_Emissions_per_capita"
        },
        {
         "data": [
          {
           "name": "Sugar cane",
           "type": "bar",
           "x": [
            "Brazil",
            "India",
            "Indonesia",
            "Japan",
            "Mexico",
            "Nigeria",
            "South Africa",
            "Ukraine",
            "United States of America"
           ],
           "y": [
            0,
            0,
            84,
            0,
            0,
            0,
            0,
            0,
            2252
           ]
          },
          {
           "name": "Wheat",
           "type": "bar",
           "x": [
            "Brazil",
            "India",
            "Indonesia",
            "Japan",
            "Mexico",
            "Nigeria",
            "South Africa",
            "Ukraine",
            "United States of America"
           ],
           "y": [
            939420,
            4477038,
            0,
            0,
            2367456,
            0,
            193050,
            36056892,
            369913376
           ]
          }
         ],
         "name": "2005_Tonnes"
        },
        {
         "data": [
          {
           "name": "Sugar cane",
           "type": "bar",
           "x": [
            "Brazil",
            "India",
            "Indonesia",
            "Japan",
            "Mexico",
            "Nigeria",
            "South Africa",
            "Ukraine",
            "United States of America"
           ],
           "y": [
            0,
            0,
            2752000,
            0,
            0,
            0,
            0,
            0,
            5374400
           ]
          },
          {
           "name": "Wheat",
           "type": "bar",
           "x": [
            "Brazil",
            "India",
            "Indonesia",
            "Japan",
            "Mexico",
            "Nigeria",
            "South Africa",
            "Ukraine",
            "United States of America"
           ],
           "y": [
            99918000,
            3828580000,
            0,
            0,
            17172000,
            0,
            19345200,
            1247053600,
            8725104000
           ]
          }
         ],
         "name": "2005_Estimated_Emissions_kg"
        },
        {
         "data": [
          {
           "name": "Sugar cane",
           "type": "bar",
           "x": [
            "Brazil",
            "India",
            "Indonesia",
            "Japan",
            "Mexico",
            "Nigeria",
            "South Africa",
            "Ukraine",
            "United States of America"
           ],
           "y": [
            0,
            0,
            3.638385223997836e-7,
            0,
            0,
            0,
            0,
            0,
            0.00000761539769027017
           ]
          },
          {
           "name": "Wheat",
           "type": "bar",
           "x": [
            "Brazil",
            "India",
            "Indonesia",
            "Japan",
            "Mexico",
            "Nigeria",
            "South Africa",
            "Ukraine",
            "United States of America"
           ],
           "y": [
            0.005086521518784797,
            0.0038773099566512107,
            0,
            0,
            0.02237427794240596,
            0,
            0.003900785436938383,
            0.7577276600487761,
            1.2509047376511728
           ]
          }
         ],
         "name": "2005_Tonnes_per_capita"
        },
        {
         "data": [
          {
           "name": "Sugar cane",
           "type": "bar",
           "x": [
            "Brazil",
            "India",
            "Indonesia",
            "Japan",
            "Mexico",
            "Nigeria",
            "South Africa",
            "Ukraine",
            "United States of America"
           ],
           "y": [
            0,
            0,
            0.011920043019573863,
            0,
            0,
            0,
            0,
            0,
            0.01817415335106039
           ]
          },
          {
           "name": "Wheat",
           "type": "bar",
           "x": [
            "Brazil",
            "India",
            "Indonesia",
            "Japan",
            "Mexico",
            "Nigeria",
            "South Africa",
            "Ukraine",
            "United States of America"
           ],
           "y": [
            0.5410094069893544,
            3.315717077638317,
            0,
            0,
            0.16228859198523443,
            0,
            0.39089082846236933,
            26.20655730070696,
            29.504945314816617
           ]
          }
         ],
         "name": "2005_Emissions_per_capita"
        },
        {
         "data": [
          {
           "name": "Sugar cane",
           "type": "bar",
           "x": [
            "Brazil",
            "India",
            "Indonesia",
            "Japan",
            "Mexico",
            "Nigeria",
            "South Africa",
            "Ukraine",
            "United States of America"
           ],
           "y": [
            0,
            0,
            20,
            0,
            0,
            0,
            0,
            0,
            2128
           ]
          },
          {
           "name": "Wheat",
           "type": "bar",
           "x": [
            "Brazil",
            "India",
            "Indonesia",
            "Japan",
            "Mexico",
            "Nigeria",
            "South Africa",
            "Ukraine",
            "United States of America"
           ],
           "y": [
            3912600,
            279816,
            0,
            0,
            3218220,
            0,
            113328,
            28010214,
            325714466
           ]
          }
         ],
         "name": "2006_Tonnes"
        },
        {
         "data": [
          {
           "name": "Sugar cane",
           "type": "bar",
           "x": [
            "Brazil",
            "India",
            "Indonesia",
            "Japan",
            "Mexico",
            "Nigeria",
            "South Africa",
            "Ukraine",
            "United States of America"
           ],
           "y": [
            0,
            0,
            2855200,
            0,
            0,
            0,
            0,
            0,
            7849200
           ]
          },
          {
           "name": "Wheat",
           "type": "bar",
           "x": [
            "Brazil",
            "India",
            "Indonesia",
            "Japan",
            "Mexico",
            "Nigeria",
            "South Africa",
            "Ukraine",
            "United States of America"
           ],
           "y": [
            86605200,
            2630381600,
            0,
            0,
            21373800,
            0,
            19315800,
            1043798400,
            7317224000
           ]
          }
         ],
         "name": "2006_Estimated_Emissions_kg"
        },
        {
         "data": [
          {
           "name": "Sugar cane",
           "type": "bar",
           "x": [
            "Brazil",
            "India",
            "Indonesia",
            "Japan",
            "Mexico",
            "Nigeria",
            "South Africa",
            "Ukraine",
            "United States of America"
           ],
           "y": [
            0,
            0,
            8.548774855413289e-8,
            0,
            0,
            0,
            0,
            0,
            0.0000071234844309854035
           ]
          },
          {
           "name": "Wheat",
           "type": "bar",
           "x": [
            "Brazil",
            "India",
            "Indonesia",
            "Japan",
            "Mexico",
            "Nigeria",
            "South Africa",
            "Ukraine",
            "United States of America"
           ],
           "y": [
            0.02096187994857155,
            0.00023857194667388038,
            0,
            0,
            0.030005687917517784,
            0,
            0.002266638108349214,
            0.5924489792378783,
            1.0903298531474268
           ]
          }
         ],
         "name": "2006_Tonnes_per_capita"
        },
        {
         "data": [
          {
           "name": "Sugar cane",
           "type": "bar",
           "x": [
            "Brazil",
            "India",
            "Indonesia",
            "Japan",
            "Mexico",
            "Nigeria",
            "South Africa",
            "Ukraine",
            "United States of America"
           ],
           "y": [
            0,
            0,
            0.012204230983588011,
            0,
            0,
            0,
            0,
            0,
            0.026275213343839584
           ]
          },
          {
           "name": "Wheat",
           "type": "bar",
           "x": [
            "Brazil",
            "India",
            "Indonesia",
            "Japan",
            "Mexico",
            "Nigeria",
            "South Africa",
            "Ukraine",
            "United States of America"
           ],
           "y": [
            0.46399013579768666,
            2.242671108182363,
            0,
            0,
            0.1992827005025889,
            0,
            0.3863293129081228,
            22.07756415606573,
            24.494422576143204
           ]
          }
         ],
         "name": "2006_Emissions_per_capita"
        },
        {
         "data": [
          {
           "name": "Sugar cane",
           "type": "bar",
           "x": [
            "Brazil",
            "India",
            "Indonesia",
            "Japan",
            "Mexico",
            "Nigeria",
            "South Africa",
            "Ukraine",
            "United States of America"
           ],
           "y": [
            0,
            0,
            288,
            0,
            0,
            0,
            0,
            0,
            1356
           ]
          },
          {
           "name": "Wheat",
           "type": "bar",
           "x": [
            "Brazil",
            "India",
            "Indonesia",
            "Japan",
            "Mexico",
            "Nigeria",
            "South Africa",
            "Ukraine",
            "United States of America"
           ],
           "y": [
            626820,
            1422,
            0,
            308,
            3415158,
            0,
            332640,
            6333462,
            447622154
           ]
          }
         ],
         "name": "2007_Tonnes"
        },
        {
         "data": [
          {
           "name": "Sugar cane",
           "type": "bar",
           "x": [
            "Brazil",
            "India",
            "Indonesia",
            "Japan",
            "Mexico",
            "Nigeria",
            "South Africa",
            "Ukraine",
            "United States of America"
           ],
           "y": [
            0,
            0,
            4621800,
            0,
            0,
            0,
            0,
            0,
            6409000
           ]
          },
          {
           "name": "Wheat",
           "type": "bar",
           "x": [
            "Brazil",
            "India",
            "Indonesia",
            "Japan",
            "Mexico",
            "Nigeria",
            "South Africa",
            "Ukraine",
            "United States of America"
           ],
           "y": [
            106080000,
            803424000,
            0,
            2159000,
            38676000,
            0,
            18838400,
            325862400,
            8760773600
           ]
          }
         ],
         "name": "2007_Estimated_Emissions_kg"
        },
        {
         "data": [
          {
           "name": "Sugar cane",
           "type": "bar",
           "x": [
            "Brazil",
            "India",
            "Indonesia",
            "Japan",
            "Mexico",
            "Nigeria",
            "South Africa",
            "Ukraine",
            "United States of America"
           ],
           "y": [
            0,
            0,
            0.0000012148703317642567,
            0,
            0,
            0,
            0,
            0,
            0.000004492383432240974
           ]
          },
          {
           "name": "Wheat",
           "type": "bar",
           "x": [
            "Brazil",
            "India",
            "Indonesia",
            "Japan",
            "Mexico",
            "Nigeria",
            "South Africa",
            "Ukraine",
            "United States of America"
           ],
           "y": [
            0.00332438232528775,
            0.0000011942795310564165,
            0,
            0.000002404602809503571,
            0.031396718859113486,
            0,
            0.00658320446897938,
            0.13457470165713478,
            1.4829574841693345
           ]
          }
         ],
         "name": "2007_Tonnes_per_capita"
        },
        {
         "data": [
          {
           "name": "Sugar cane",
           "type": "bar",
           "x": [
            "Brazil",
            "India",
            "Indonesia",
            "Japan",
            "Mexico",
            "Nigeria",
            "South Africa",
            "Ukraine",
            "United States of America"
           ],
           "y": [
            0,
            0,
            0.01949613784495848,
            0,
            0,
            0,
            0,
            0,
            0.021232806354891148
           ]
          },
          {
           "name": "Wheat",
           "type": "bar",
           "x": [
            "Brazil",
            "India",
            "Indonesia",
            "Japan",
            "Mexico",
            "Nigeria",
            "South Africa",
            "Ukraine",
            "United States of America"
           ],
           "y": [
            0.5626024649285672,
            0.6747628958927359,
            0,
            0.01685564112246172,
            0.35556173348204484,
            0,
            0.3728265965260376,
            6.923991217011789,
            29.024154995762615
           ]
          }
         ],
         "name": "2007_Emissions_per_capita"
        },
        {
         "data": [
          {
           "name": "Sugar cane",
           "type": "bar",
           "x": [
            "Brazil",
            "India",
            "Indonesia",
            "Japan",
            "Mexico",
            "Nigeria",
            "South Africa",
            "Ukraine",
            "United States of America"
           ],
           "y": [
            0,
            0,
            16,
            0,
            3172,
            0,
            0,
            0,
            8744
           ]
          },
          {
           "name": "Wheat",
           "type": "bar",
           "x": [
            "Brazil",
            "India",
            "Indonesia",
            "Japan",
            "Mexico",
            "Nigeria",
            "South Africa",
            "Ukraine",
            "United States of America"
           ],
           "y": [
            3870840,
            6720,
            0,
            1540,
            8385798,
            0,
            924732,
            45056982,
            417300198
           ]
          }
         ],
         "name": "2008_Tonnes"
        },
        {
         "data": [
          {
           "name": "Sugar cane",
           "type": "bar",
           "x": [
            "Brazil",
            "India",
            "Indonesia",
            "Japan",
            "Mexico",
            "Nigeria",
            "South Africa",
            "Ukraine",
            "United States of America"
           ],
           "y": [
            0,
            0,
            3144000,
            0,
            4980000,
            0,
            0,
            0,
            12650000
           ]
          },
          {
           "name": "Wheat",
           "type": "bar",
           "x": [
            "Brazil",
            "India",
            "Indonesia",
            "Japan",
            "Mexico",
            "Nigeria",
            "South Africa",
            "Ukraine",
            "United States of America"
           ],
           "y": [
            191162200,
            1221362400,
            0,
            6152400,
            66794400,
            0,
            19112800,
            1702080000,
            10059629600
           ]
          }
         ],
         "name": "2008_Estimated_Emissions_kg"
        },
        {
         "data": [
          {
           "name": "Sugar cane",
           "type": "bar",
           "x": [
            "Brazil",
            "India",
            "Indonesia",
            "Japan",
            "Mexico",
            "Nigeria",
            "South Africa",
            "Ukraine",
            "United States of America"
           ],
           "y": [
            0,
            0,
            6.662283328388809e-8,
            0,
            0.000028738577230957994,
            0,
            0,
            0,
            0.000028671641316665382
           ]
          },
          {
           "name": "Wheat",
           "type": "bar",
           "x": [
            "Brazil",
            "India",
            "Indonesia",
            "Japan",
            "Mexico",
            "Nigeria",
            "South Africa",
            "Ukraine",
            "United States of America"
           ],
           "y": [
            0.020333533959524204,
            0.000005563231840458061,
            0,
            0.000012016605700599716,
            0.07597600991999151,
            0,
            0.01809134803150857,
            0.9623617041017553,
            1.3683304664260572
           ]
          }
         ],
         "name": "2008_Tonnes_per_capita"
        },
        {
         "data": [
          {
           "name": "Sugar cane",
           "type": "bar",
           "x": [
            "Brazil",
            "India",
            "Indonesia",
            "Japan",
            "Mexico",
            "Nigeria",
            "South Africa",
            "Ukraine",
            "United States of America"
           ],
           "y": [
            0,
            0,
            0.01309138674028401,
            0,
            0.04511920384936028,
            0,
            0,
            0,
            0.04147944449403215
           ]
          },
          {
           "name": "Wheat",
           "type": "bar",
           "x": [
            "Brazil",
            "India",
            "Indonesia",
            "Japan",
            "Mexico",
            "Nigeria",
            "South Africa",
            "Ukraine",
            "United States of America"
           ],
           "y": [
            1.0041756015431684,
            1.0111193738717672,
            0,
            0.04800712007296733,
            0.6051626806417089,
            0,
            0.37392057012909363,
            36.35433481358151,
            32.98560060266583
           ]
          }
         ],
         "name": "2008_Emissions_per_capita"
        },
        {
         "data": [
          {
           "name": "Sugar cane",
           "type": "bar",
           "x": [
            "Brazil",
            "India",
            "Indonesia",
            "Japan",
            "Mexico",
            "Nigeria",
            "South Africa",
            "Ukraine",
            "United States of America"
           ],
           "y": [
            0,
            4,
            40,
            0,
            3444,
            0,
            0,
            0,
            3988
           ]
          },
          {
           "name": "Wheat",
           "type": "bar",
           "x": [
            "Brazil",
            "India",
            "Indonesia",
            "Japan",
            "Mexico",
            "Nigeria",
            "South Africa",
            "Ukraine",
            "United States of America"
           ],
           "y": [
            2308494,
            180,
            0,
            0,
            6817896,
            0,
            475968,
            77243364,
            302482040
           ]
          }
         ],
         "name": "2009_Tonnes"
        },
        {
         "data": [
          {
           "name": "Sugar cane",
           "type": "bar",
           "x": [
            "Brazil",
            "India",
            "Indonesia",
            "Japan",
            "Mexico",
            "Nigeria",
            "South Africa",
            "Ukraine",
            "United States of America"
           ],
           "y": [
            0,
            15899800,
            1589600,
            0,
            2558800,
            0,
            0,
            0,
            19104000
           ]
          },
          {
           "name": "Wheat",
           "type": "bar",
           "x": [
            "Brazil",
            "India",
            "Indonesia",
            "Japan",
            "Mexico",
            "Nigeria",
            "South Africa",
            "Ukraine",
            "United States of America"
           ],
           "y": [
            152558600,
            306168000,
            0,
            0,
            45811200,
            0,
            14420400,
            1676386800,
            7415756400
           ]
          }
         ],
         "name": "2009_Estimated_Emissions_kg"
        },
        {
         "data": [
          {
           "name": "Sugar cane",
           "type": "bar",
           "x": [
            "Brazil",
            "India",
            "Indonesia",
            "Japan",
            "Mexico",
            "Nigeria",
            "South Africa",
            "Ukraine",
            "United States of America"
           ],
           "y": [
            0,
            3.2639079628610326e-9,
            1.6446014059335607e-7,
            0,
            0.000030750076600637246,
            0,
            0,
            0,
            0.000012947066037380388
           ]
          },
          {
           "name": "Wheat",
           "type": "bar",
           "x": [
            "Brazil",
            "India",
            "Indonesia",
            "Japan",
            "Mexico",
            "Nigeria",
            "South Africa",
            "Ukraine",
            "United States of America"
           ],
           "y": [
            0.012018401649842154,
            1.4687585832874647e-7,
            0,
            0,
            0.06087422307060926,
            0,
            0.009201269180039884,
            1.6567392257818234,
            0.9820097660485295
           ]
          }
         ],
         "name": "2009_Tonnes_per_capita"
        },
        {
         "data": [
          {
           "name": "Sugar cane",
           "type": "bar",
           "x": [
            "Brazil",
            "India",
            "Indonesia",
            "Japan",
            "Mexico",
            "Nigeria",
            "South Africa",
            "Ukraine",
            "United States of America"
           ],
           "y": [
            0,
            0.012973870956974462,
            0.00653564598717997,
            0,
            0.022846485483655806,
            0,
            0,
            0,
            0.06202125114797265
           ]
          },
          {
           "name": "Wheat",
           "type": "bar",
           "x": [
            "Brazil",
            "India",
            "Indonesia",
            "Japan",
            "Mexico",
            "Nigeria",
            "South Africa",
            "Ukraine",
            "United States of America"
           ],
           "y": [
            0.7942453088193467,
            0.24982604329330915,
            0,
            0,
            0.40902959035049735,
            0,
            0.27877080409575256,
            35.9556552863605,
            24.07529785053316
           ]
          }
         ],
         "name": "2009_Emissions_per_capita"
        },
        {
         "data": [
          {
           "name": "Sugar cane",
           "type": "bar",
           "x": [
            "Brazil",
            "India",
            "Indonesia",
            "Japan",
            "Mexico",
            "Nigeria",
            "South Africa",
            "Ukraine",
            "United States of America"
           ],
           "y": [
            0,
            0,
            332,
            0,
            0,
            0,
            0,
            0,
            2492
           ]
          },
          {
           "name": "Wheat",
           "type": "bar",
           "x": [
            "Brazil",
            "India",
            "Indonesia",
            "Japan",
            "Mexico",
            "Nigeria",
            "South Africa",
            "Ukraine",
            "United States of America"
           ],
           "y": [
            7945260,
            2082,
            0,
            0,
            2621958,
            0,
            109254,
            25816638,
            377250370
           ]
          }
         ],
         "name": "2010_Tonnes"
        },
        {
         "data": [
          {
           "name": "Sugar cane",
           "type": "bar",
           "x": [
            "Brazil",
            "India",
            "Indonesia",
            "Japan",
            "Mexico",
            "Nigeria",
            "South Africa",
            "Ukraine",
            "United States of America"
           ],
           "y": [
            0,
            0,
            1572200,
            0,
            0,
            0,
            0,
            0,
            12788000
           ]
          },
          {
           "name": "Wheat",
           "type": "bar",
           "x": [
            "Brazil",
            "India",
            "Indonesia",
            "Japan",
            "Mexico",
            "Nigeria",
            "South Africa",
            "Ukraine",
            "United States of America"
           ],
           "y": [
            206580400,
            1660476800,
            0,
            0,
            39177600,
            0,
            15721600,
            1056052400,
            8018076600
           ]
          }
         ],
         "name": "2010_Estimated_Emissions_kg"
        },
        {
         "data": [
          {
           "name": "Sugar cane",
           "type": "bar",
           "x": [
            "Brazil",
            "India",
            "Indonesia",
            "Japan",
            "Mexico",
            "Nigeria",
            "South Africa",
            "Ukraine",
            "United States of America"
           ],
           "y": [
            0,
            0,
            0.0000013479205293014335,
            0,
            0,
            0,
            0,
            0,
            0.000008011244289296062
           ]
          },
          {
           "name": "Wheat",
           "type": "bar",
           "x": [
            "Brazil",
            "India",
            "Indonesia",
            "Japan",
            "Mexico",
            "Nigeria",
            "South Africa",
            "Ukraine",
            "United States of America"
           ],
           "y": [
            0.04101797045087765,
            0.000001674331216703105,
            0,
            0,
            0.023075762364949733,
            0,
            0.002087228594515927,
            0.5557223370190142,
            1.2127788412108051
           ]
          }
         ],
         "name": "2010_Tonnes_per_capita"
        },
        {
         "data": [
          {
           "name": "Sugar cane",
           "type": "bar",
           "x": [
            "Brazil",
            "India",
            "Indonesia",
            "Japan",
            "Mexico",
            "Nigeria",
            "South Africa",
            "Ukraine",
            "United States of America"
           ],
           "y": [
            0,
            0,
            0.006383134506529258,
            0,
            0,
            0,
            0,
            0,
            0.04111067093560114
           ]
          },
          {
           "name": "Wheat",
           "type": "bar",
           "x": [
            "Brazil",
            "India",
            "Indonesia",
            "Japan",
            "Mexico",
            "Nigeria",
            "South Africa",
            "Ukraine",
            "United States of America"
           ],
           "y": [
            1.066486023481986,
            1.3353449283627656,
            0,
            0,
            0.3448007129134237,
            0,
            0.3003512280698336,
            22.732313469419946,
            25.77639260549293
           ]
          }
         ],
         "name": "2010_Emissions_per_capita"
        },
        {
         "data": [
          {
           "name": "Sugar cane",
           "type": "bar",
           "x": [
            "Brazil",
            "India",
            "Indonesia",
            "Japan",
            "Mexico",
            "Nigeria",
            "South Africa",
            "Ukraine",
            "United States of America"
           ],
           "y": [
            0,
            0,
            172,
            0,
            0,
            0,
            0,
            0,
            2188
           ]
          },
          {
           "name": "Wheat",
           "type": "bar",
           "x": [
            "Brazil",
            "India",
            "Indonesia",
            "Japan",
            "Mexico",
            "Nigeria",
            "South Africa",
            "Ukraine",
            "United States of America"
           ],
           "y": [
            14104338,
            2999406,
            0,
            0,
            5015430,
            0,
            128412,
            24583866,
            454852496
           ]
          }
         ],
         "name": "2011_Tonnes"
        },
        {
         "data": [
          {
           "name": "Sugar cane",
           "type": "bar",
           "x": [
            "Brazil",
            "India",
            "Indonesia",
            "Japan",
            "Mexico",
            "Nigeria",
            "South Africa",
            "Ukraine",
            "United States of America"
           ],
           "y": [
            0,
            0,
            3132800,
            0,
            0,
            0,
            0,
            0,
            12716000
           ]
          },
          {
           "name": "Wheat",
           "type": "bar",
           "x": [
            "Brazil",
            "India",
            "Indonesia",
            "Japan",
            "Mexico",
            "Nigeria",
            "South Africa",
            "Ukraine",
            "United States of America"
           ],
           "y": [
            289826000,
            3562871400,
            0,
            0,
            28834200,
            0,
            21016800,
            1084557600,
            7994222600
           ]
          }
         ],
         "name": "2011_Estimated_Emissions_kg"
        },
        {
         "data": [
          {
           "name": "Sugar cane",
           "type": "bar",
           "x": [
            "Brazil",
            "India",
            "Indonesia",
            "Japan",
            "Mexico",
            "Nigeria",
            "South Africa",
            "Ukraine",
            "United States of America"
           ],
           "y": [
            0,
            0,
            6.894615702779082e-7,
            0,
            0,
            0,
            0,
            0,
            0.000006965821800563186
           ]
          },
          {
           "name": "Wheat",
           "type": "bar",
           "x": [
            "Brazil",
            "India",
            "Indonesia",
            "Japan",
            "Mexico",
            "Nigeria",
            "South Africa",
            "Ukraine",
            "United States of America"
           ],
           "y": [
            0.07222447776064013,
            0.002378168930520542,
            0,
            0,
            0.04352028379838225,
            0,
            0.0024230871453370167,
            0.5308789850395353,
            1.4480902343132447
           ]
          }
         ],
         "name": "2011_Tonnes_per_capita"
        },
        {
         "data": [
          {
           "name": "Sugar cane",
           "type": "bar",
           "x": [
            "Brazil",
            "India",
            "Indonesia",
            "Japan",
            "Mexico",
            "Nigeria",
            "South Africa",
            "Ukraine",
            "United States of America"
           ],
           "y": [
            0,
            0,
            0.012557820973061806,
            0,
            0,
            0,
            0,
            0,
            0.04048326783179227
           ]
          },
          {
           "name": "Wheat",
           "type": "bar",
           "x": [
            "Brazil",
            "India",
            "Indonesia",
            "Japan",
            "Mexico",
            "Nigeria",
            "South Africa",
            "Ukraine",
            "United States of America"
           ],
           "y": [
            1.4841200977639137,
            2.8249293583196895,
            0,
            0,
            0.25020238884787815,
            0,
            0.39657927542689947,
            23.420597797958802,
            25.450790706414494
           ]
          }
         ],
         "name": "2011_Emissions_per_capita"
        },
        {
         "data": [
          {
           "name": "Sugar cane",
           "type": "bar",
           "x": [
            "Brazil",
            "India",
            "Indonesia",
            "Japan",
            "Mexico",
            "Nigeria",
            "South Africa",
            "Ukraine",
            "United States of America"
           ],
           "y": [
            0,
            24,
            0,
            0,
            2248,
            0,
            1164,
            0,
            1008
           ]
          },
          {
           "name": "Wheat",
           "type": "bar",
           "x": [
            "Brazil",
            "India",
            "Indonesia",
            "Japan",
            "Mexico",
            "Nigeria",
            "South Africa",
            "Ukraine",
            "United States of America"
           ],
           "y": [
            14369394,
            27506214,
            0,
            0,
            3674982,
            0,
            120462,
            52076328,
            360772888
           ]
          }
         ],
         "name": "2012_Tonnes"
        },
        {
         "data": [
          {
           "name": "Sugar cane",
           "type": "bar",
           "x": [
            "Brazil",
            "India",
            "Indonesia",
            "Japan",
            "Mexico",
            "Nigeria",
            "South Africa",
            "Ukraine",
            "United States of America"
           ],
           "y": [
            0,
            18149000,
            0,
            0,
            2647000,
            0,
            1851600,
            0,
            11835000
           ]
          },
          {
           "name": "Wheat",
           "type": "bar",
           "x": [
            "Brazil",
            "India",
            "Indonesia",
            "Japan",
            "Mexico",
            "Nigeria",
            "South Africa",
            "Ukraine",
            "United States of America"
           ],
           "y": [
            169468000,
            5105349000,
            0,
            0,
            31319200,
            0,
            12439200,
            1062360000,
            7896288400
           ]
          }
         ],
         "name": "2012_Estimated_Emissions_kg"
        },
        {
         "data": [
          {
           "name": "Sugar cane",
           "type": "bar",
           "x": [
            "Brazil",
            "India",
            "Indonesia",
            "Japan",
            "Mexico",
            "Nigeria",
            "South Africa",
            "Ukraine",
            "United States of America"
           ],
           "y": [
            0,
            1.876943660209156e-8,
            0,
            0,
            0.000019243575453579975,
            0,
            0.00002164270069147127,
            0,
            0.000003178654026387338
           ]
          },
          {
           "name": "Wheat",
           "type": "bar",
           "x": [
            "Brazil",
            "India",
            "Indonesia",
            "Japan",
            "Mexico",
            "Nigeria",
            "South Africa",
            "Ukraine",
            "United States of America"
           ],
           "y": [
            0.07298698621693112,
            0.02151150582652347,
            0,
            0,
            0.031458982832539256,
            0,
            0.002239796400941591,
            1.1269479526274542,
            1.1376708264410595
           ]
          }
         ],
         "name": "2012_Tonnes_per_capita"
        },
        {
         "data": [
          {
           "name": "Sugar cane",
           "type": "bar",
           "x": [
            "Brazil",
            "India",
            "Indonesia",
            "Japan",
            "Mexico",
            "Nigeria",
            "South Africa",
            "Ukraine",
            "United States of America"
           ],
           "y": [
            0,
            0.014193604370473324,
            0,
            0,
            0.022659138890403115,
            0,
            0.03442751254323729,
            0,
            0.037320803970529906
           ]
          },
          {
           "name": "Wheat",
           "type": "bar",
           "x": [
            "Brazil",
            "India",
            "Indonesia",
            "Japan",
            "Mexico",
            "Nigeria",
            "South Africa",
            "Ukraine",
            "United States of America"
           ],
           "y": [
            0.8607849837098823,
            3.9926885161271484,
            0,
            0,
            0.2681020410790756,
            0,
            0.23128684058535176,
            22.98980118093776,
            24.900365988269474
           ]
          }
         ],
         "name": "2012_Emissions_per_capita"
        },
        {
         "data": [
          {
           "name": "Sugar cane",
           "type": "bar",
           "x": [
            "Brazil",
            "India",
            "Indonesia",
            "Japan",
            "Mexico",
            "Nigeria",
            "South Africa",
            "Ukraine",
            "United States of America"
           ],
           "y": [
            0,
            20,
            1740,
            0,
            3936,
            0,
            344,
            0,
            504
           ]
          },
          {
           "name": "Wheat",
           "type": "bar",
           "x": [
            "Brazil",
            "India",
            "Indonesia",
            "Japan",
            "Mexico",
            "Nigeria",
            "South Africa",
            "Ukraine",
            "United States of America"
           ],
           "y": [
            7129782,
            39021804,
            0,
            0,
            4396458,
            0,
            1320084,
            46386726,
            464775542
           ]
          }
         ],
         "name": "2013_Tonnes"
        },
        {
         "data": [
          {
           "name": "Sugar cane",
           "type": "bar",
           "x": [
            "Brazil",
            "India",
            "Indonesia",
            "Japan",
            "Mexico",
            "Nigeria",
            "South Africa",
            "Ukraine",
            "United States of America"
           ],
           "y": [
            0,
            36010000,
            3391600,
            0,
            8456400,
            0,
            2872800,
            0,
            7964400
           ]
          },
          {
           "name": "Wheat",
           "type": "bar",
           "x": [
            "Brazil",
            "India",
            "Indonesia",
            "Japan",
            "Mexico",
            "Nigeria",
            "South Africa",
            "Ukraine",
            "United States of America"
           ],
           "y": [
            143016800,
            5055165000,
            0,
            0,
            30158000,
            0,
            16318400,
            1458459000,
            7903742000
           ]
          }
         ],
         "name": "2013_Estimated_Emissions_kg"
        },
        {
         "data": [
          {
           "name": "Sugar cane",
           "type": "bar",
           "x": [
            "Brazil",
            "India",
            "Indonesia",
            "Japan",
            "Mexico",
            "Nigeria",
            "South Africa",
            "Ukraine",
            "United States of America"
           ],
           "y": [
            0,
            1.5434129127500633e-8,
            0.00000680079430306998,
            0,
            0.000033259093841961316,
            0,
            0.000006291287603634104,
            0,
            0.0000015744550466671444
           ]
          },
          {
           "name": "Wheat",
           "type": "bar",
           "x": [
            "Brazil",
            "India",
            "Indonesia",
            "Japan",
            "Mexico",
            "Nigeria",
            "South Africa",
            "Ukraine",
            "United States of America"
           ],
           "y": [
            0.03592222442414221,
            0.030113378086201032,
            0,
            0,
            0.03714995152292723,
            0,
            0.024142523560917797,
            1.0056356861752946,
            1.4519210271217406
           ]
          }
         ],
         "name": "2013_Tonnes_per_capita"
        },
        {
         "data": [
          {
           "name": "Sugar cane",
           "type": "bar",
           "x": [
            "Brazil",
            "India",
            "Indonesia",
            "Japan",
            "Mexico",
            "Nigeria",
            "South Africa",
            "Ukraine",
            "United States of America"
           ],
           "y": [
            0,
            0.02778914949406489,
            0.01325607698752422,
            0,
            0.07145635192204311,
            0,
            0.052539566941046674,
            0,
            0.02488013843983294
           ]
          },
          {
           "name": "Wheat",
           "type": "bar",
           "x": [
            "Brazil",
            "India",
            "Indonesia",
            "Japan",
            "Mexico",
            "Nigeria",
            "South Africa",
            "Ukraine",
            "United States of America"
           ],
           "y": [
            0.7205664333106765,
            3.9011034685410864,
            0,
            0,
            0.25483428660718227,
            0,
            0.2984411268347173,
            31.61849398949894,
            24.690647776696565
           ]
          }
         ],
         "name": "2013_Emissions_per_capita"
        },
        {
         "data": [
          {
           "name": "Sugar cane",
           "type": "bar",
           "x": [
            "Brazil",
            "India",
            "Indonesia",
            "Japan",
            "Mexico",
            "Nigeria",
            "South Africa",
            "Ukraine",
            "United States of America"
           ],
           "y": [
            0.8,
            170.52,
            180.04,
            0,
            2957.72,
            0,
            916.8000000000001,
            0,
            1308
           ]
          },
          {
           "name": "Wheat",
           "type": "bar",
           "x": [
            "Brazil",
            "India",
            "Indonesia",
            "Japan",
            "Mexico",
            "Nigeria",
            "South Africa",
            "Ukraine",
            "United States of America"
           ],
           "y": [
            1662003.1199999999,
            23705462.34,
            0,
            0,
            7582196.22,
            0,
            1919001.84,
            63262727.04,
            359040137.4
           ]
          }
         ],
         "name": "2014_Tonnes"
        },
        {
         "data": [
          {
           "name": "Sugar cane",
           "type": "bar",
           "x": [
            "Brazil",
            "India",
            "Indonesia",
            "Japan",
            "Mexico",
            "Nigeria",
            "South Africa",
            "Ukraine",
            "United States of America"
           ],
           "y": [
            37521200,
            197659000,
            6808000,
            0,
            2743400,
            0,
            10810800,
            0,
            1265600
           ]
          },
          {
           "name": "Wheat",
           "type": "bar",
           "x": [
            "Brazil",
            "India",
            "Indonesia",
            "Japan",
            "Mexico",
            "Nigeria",
            "South Africa",
            "Ukraine",
            "United States of America"
           ],
           "y": [
            104843200,
            6458614400,
            0,
            0,
            46592000,
            0,
            24921000,
            1506096000,
            6704644000
           ]
          }
         ],
         "name": "2014_Estimated_Emissions_kg"
        },
        {
         "data": [
          {
           "name": "Sugar cane",
           "type": "bar",
           "x": [
            "Brazil",
            "India",
            "Indonesia",
            "Japan",
            "Mexico",
            "Nigeria",
            "South Africa",
            "Ukraine",
            "United States of America"
           ],
           "y": [
            3.998298184352303e-9,
            1.2994205886490943e-7,
            6.954643421768929e-7,
            0,
            0.000024692058667039736,
            0,
            0.00001649073966183695,
            0,
            0.000004048089608561093
           ]
          },
          {
           "name": "Wheat",
           "type": "bar",
           "x": [
            "Brazil",
            "India",
            "Indonesia",
            "Japan",
            "Mexico",
            "Nigeria",
            "South Africa",
            "Ukraine",
            "United States of America"
           ],
           "y": [
            0.008306480071354828,
            0.018064371233897335,
            0,
            0,
            0.0632987686086739,
            0,
            0.03451762625875446,
            1.376102934849142,
            1.1111824535667332
           ]
          }
         ],
         "name": "2014_Tonnes_per_capita"
        },
        {
         "data": [
          {
           "name": "Sugar cane",
           "type": "bar",
           "x": [
            "Brazil",
            "India",
            "Indonesia",
            "Japan",
            "Mexico",
            "Nigeria",
            "South Africa",
            "Ukraine",
            "United States of America"
           ],
           "y": [
            0.18752618229339954,
            0.15062290296257996,
            0.026298162861254644,
            0,
            0.02290284196852874,
            0,
            0.19445690263545687,
            0,
            0.0039168671319533025
           ]
          },
          {
           "name": "Wheat",
           "type": "bar",
           "x": [
            "Brazil",
            "India",
            "Indonesia",
            "Japan",
            "Mexico",
            "Nigeria",
            "South Africa",
            "Ukraine",
            "United States of America"
           ],
           "y": [
            0.5239929702521068,
            4.92168456808909,
            0,
            0,
            0.3889659593926117,
            0,
            0.4482610417895273,
            32.76088816806961,
            20.749999774848227
           ]
          }
         ],
         "name": "2014_Emissions_per_capita"
        },
        {
         "data": [
          {
           "name": "Sugar cane",
           "type": "bar",
           "x": [
            "Brazil",
            "India",
            "Indonesia",
            "Japan",
            "Mexico",
            "Nigeria",
            "South Africa",
            "Ukraine",
            "United States of America"
           ],
           "y": [
            0.04,
            166.36,
            731.04,
            0,
            2540.76,
            0,
            68.96,
            0,
            1312
           ]
          },
          {
           "name": "Wheat",
           "type": "bar",
           "x": [
            "Brazil",
            "India",
            "Indonesia",
            "Japan",
            "Mexico",
            "Nigeria",
            "South Africa",
            "Ukraine",
            "United States of America"
           ],
           "y": [
            10673236.86,
            3617398.32,
            0,
            0,
            5455171.0200000005,
            0,
            1327663.5,
            80694780.6,
            297760956.5
           ]
          }
         ],
         "name": "2015_Tonnes"
        },
        {
         "data": [
          {
           "name": "Sugar cane",
           "type": "bar",
           "x": [
            "Brazil",
            "India",
            "Indonesia",
            "Japan",
            "Mexico",
            "Nigeria",
            "South Africa",
            "Ukraine",
            "United States of America"
           ],
           "y": [
            36411200,
            237343600,
            6565600,
            0,
            5463600,
            0,
            3723200,
            0,
            7758000
           ]
          },
          {
           "name": "Wheat",
           "type": "bar",
           "x": [
            "Brazil",
            "India",
            "Indonesia",
            "Japan",
            "Mexico",
            "Nigeria",
            "South Africa",
            "Ukraine",
            "United States of America"
           ],
           "y": [
            158349800,
            5674440000,
            0,
            0,
            39758400,
            0,
            26856000,
            1801830400,
            6717328600
           ]
          }
         ],
         "name": "2015_Estimated_Emissions_kg"
        },
        {
         "data": [
          {
           "name": "Sugar cane",
           "type": "bar",
           "x": [
            "Brazil",
            "India",
            "Indonesia",
            "Japan",
            "Mexico",
            "Nigeria",
            "South Africa",
            "Ukraine",
            "United States of America"
           ],
           "y": [
            1.9833838841689532e-10,
            1.2526877346806295e-7,
            0.0000027923685907899606,
            0,
            0.000020985476232690242,
            0,
            0.0000012157211073724318,
            0,
            0.000004022978850442808
           ]
          },
          {
           "name": "Wheat",
           "type": "bar",
           "x": [
            "Brazil",
            "India",
            "Indonesia",
            "Japan",
            "Mexico",
            "Nigeria",
            "South Africa",
            "Ukraine",
            "United States of America"
           ],
           "y": [
            0.052922814950105104,
            0.002723894269607066,
            0,
            0,
            0.04505713321426289,
            0,
            0.023405866305654853,
            1.7624760051873876,
            0.9130228890907935
           ]
          }
         ],
         "name": "2015_Tonnes_per_capita"
        },
        {
         "data": [
          {
           "name": "Sugar cane",
           "type": "bar",
           "x": [
            "Brazil",
            "India",
            "Indonesia",
            "Japan",
            "Mexico",
            "Nigeria",
            "South Africa",
            "Ukraine",
            "United States of America"
           ],
           "y": [
            0.18054346820813147,
            0.17871929347496118,
            0.02507875796083739,
            0,
            0.045126752603522724,
            0,
            0.06563765700361135,
            0,
            0.02378831548912752
           ]
          },
          {
           "name": "Wheat",
           "type": "bar",
           "x": [
            "Brazil",
            "India",
            "Indonesia",
            "Japan",
            "Mexico",
            "Nigeria",
            "South Africa",
            "Ukraine",
            "United States of America"
           ],
           "y": [
            0.7851711034534422,
            4.272842864379148,
            0,
            0,
            0.32838558472653523,
            0,
            0.47345426420524983,
            39.35425342016721,
            20.597310129020272
           ]
          }
         ],
         "name": "2015_Emissions_per_capita"
        },
        {
         "data": [
          {
           "name": "Sugar cane",
           "type": "bar",
           "x": [
            "Brazil",
            "India",
            "Indonesia",
            "Japan",
            "Mexico",
            "Nigeria",
            "South Africa",
            "Ukraine",
            "United States of America"
           ],
           "y": [
            0.56,
            394.64,
            1512.04,
            0,
            2756.64,
            0,
            10.040000000000001,
            0,
            3224
           ]
          },
          {
           "name": "Wheat",
           "type": "bar",
           "x": [
            "Brazil",
            "India",
            "Indonesia",
            "Japan",
            "Mexico",
            "Nigeria",
            "South Africa",
            "Ukraine",
            "United States of America"
           ],
           "y": [
            4279879.86,
            1193791.62,
            0,
            0,
            9102528.12,
            0,
            315140.76,
            107525669.22,
            336581306.6
           ]
          }
         ],
         "name": "2016_Tonnes"
        },
        {
         "data": [
          {
           "name": "Sugar cane",
           "type": "bar",
           "x": [
            "Brazil",
            "India",
            "Indonesia",
            "Japan",
            "Mexico",
            "Nigeria",
            "South Africa",
            "Ukraine",
            "United States of America"
           ],
           "y": [
            36816200,
            142600000,
            4833000,
            0,
            2812600,
            0,
            4500000,
            0,
            9212000
           ]
          },
          {
           "name": "Wheat",
           "type": "bar",
           "x": [
            "Brazil",
            "India",
            "Indonesia",
            "Japan",
            "Mexico",
            "Nigeria",
            "South Africa",
            "Ukraine",
            "United States of America"
           ],
           "y": [
            90294600,
            4885118200,
            0,
            0,
            34552000,
            0,
            30966000,
            1666967400,
            6229752000
           ]
          }
         ],
         "name": "2016_Estimated_Emissions_kg"
        },
        {
         "data": [
          {
           "name": "Sugar cane",
           "type": "bar",
           "x": [
            "Brazil",
            "India",
            "Indonesia",
            "Japan",
            "Mexico",
            "Nigeria",
            "South Africa",
            "Ukraine",
            "United States of America"
           ],
           "y": [
            2.7556598620928056e-9,
            2.9364312283966865e-7,
            0.000005713844814069871,
            0,
            0.00002254895326269237,
            0,
            1.7534192679925137e-7,
            0,
            0.000009794050707792259
           ]
          },
          {
           "name": "Wheat",
           "type": "bar",
           "x": [
            "Brazil",
            "India",
            "Indonesia",
            "Japan",
            "Mexico",
            "Nigeria",
            "South Africa",
            "Ukraine",
            "United States of America"
           ],
           "y": [
            0.021060523472823885,
            0.0008882746283109342,
            0,
            0,
            0.07445748489110766,
            0,
            0.005503723911492076,
            2.3571489843924276,
            1.0224858511586146
           ]
          }
         ],
         "name": "2016_Tonnes_per_capita"
        },
        {
         "data": [
          {
           "name": "Sugar cane",
           "type": "bar",
           "x": [
            "Brazil",
            "India",
            "Indonesia",
            "Japan",
            "Mexico",
            "Nigeria",
            "South Africa",
            "Ukraine",
            "United States of America"
           ],
           "y": [
            0.18116593681210919,
            0.10610558817387175,
            0.018263413657310445,
            0,
            0.023006698715337715,
            0,
            0.07858950902356884,
            0,
            0.027984737940503192
           ]
          },
          {
           "name": "Wheat",
           "type": "bar",
           "x": [
            "Brazil",
            "India",
            "Indonesia",
            "Japan",
            "Mexico",
            "Nigeria",
            "South Africa",
            "Ukraine",
            "United States of America"
           ],
           "y": [
            0.4443235803280804,
            3.6349112195644158,
            0,
            0,
            0.28263082344177937,
            0,
            0.5408006080941851,
            36.542813845555955,
            18.925095218663223
           ]
          }
         ],
         "name": "2016_Emissions_per_capita"
        },
        {
         "data": [
          {
           "name": "Sugar cane",
           "type": "bar",
           "x": [
            "Brazil",
            "India",
            "Indonesia",
            "Japan",
            "Mexico",
            "Nigeria",
            "South Africa",
            "Ukraine",
            "United States of America"
           ],
           "y": [
            0.52,
            746.6800000000001,
            1420.28,
            0,
            2845.28,
            0,
            9.6,
            0,
            1080
           ]
          },
          {
           "name": "Wheat",
           "type": "bar",
           "x": [
            "Brazil",
            "India",
            "Indonesia",
            "Japan",
            "Mexico",
            "Nigeria",
            "South Africa",
            "Ukraine",
            "United States of America"
           ],
           "y": [
            3705861,
            1211736.96,
            0,
            0,
            2940185.52,
            0,
            473906.4,
            103879044.9,
            382187044.12
           ]
          }
         ],
         "name": "2017_Tonnes"
        },
        {
         "data": [
          {
           "name": "Sugar cane",
           "type": "bar",
           "x": [
            "Brazil",
            "India",
            "Indonesia",
            "Japan",
            "Mexico",
            "Nigeria",
            "South Africa",
            "Ukraine",
            "United States of America"
           ],
           "y": [
            36691400,
            287510400,
            3026000,
            0,
            5560000,
            0,
            3657600,
            0,
            6587000
           ]
          },
          {
           "name": "Wheat",
           "type": "bar",
           "x": [
            "Brazil",
            "India",
            "Indonesia",
            "Japan",
            "Mexico",
            "Nigeria",
            "South Africa",
            "Ukraine",
            "United States of America"
           ],
           "y": [
            71141400,
            5277546000,
            0,
            0,
            25169600,
            0,
            25978400,
            1776416400,
            6199746200
           ]
          }
         ],
         "name": "2017_Estimated_Emissions_kg"
        },
        {
         "data": [
          {
           "name": "Sugar cane",
           "type": "bar",
           "x": [
            "Brazil",
            "India",
            "Indonesia",
            "Japan",
            "Mexico",
            "Nigeria",
            "South Africa",
            "Ukraine",
            "United States of America"
           ],
           "y": [
            2.540260130942105e-9,
            5.491677535826304e-7,
            0.000005312503289268722,
            0,
            0.000023057363741736363,
            0,
            1.6656498683911045e-7,
            0,
            0.000003251007978033782
           ]
          },
          {
           "name": "Wheat",
           "type": "bar",
           "x": [
            "Brazil",
            "India",
            "Indonesia",
            "Japan",
            "Mexico",
            "Nigeria",
            "South Africa",
            "Ukraine",
            "United States of America"
           ],
           "y": [
            0.01810355951752546,
            0.0008912075644938204,
            0,
            0,
            0.023826451879191596,
            0,
            0.008222522216559398,
            2.286269723631951,
            1.1504566014215454
           ]
          }
         ],
         "name": "2017_Tonnes_per_capita"
        },
        {
         "data": [
          {
           "name": "Sugar cane",
           "type": "bar",
           "x": [
            "Brazil",
            "India",
            "Indonesia",
            "Japan",
            "Mexico",
            "Nigeria",
            "South Africa",
            "Ukraine",
            "United States of America"
           ],
           "y": [
            0.17924173186240222,
            0.2114579746339041,
            0.011318637841360262,
            0,
            0.04505670528174877,
            0,
            0.0634612599857011,
            0,
            0.019828138473433815
           ]
          },
          {
           "name": "Wheat",
           "type": "bar",
           "x": [
            "Brazil",
            "India",
            "Indonesia",
            "Japan",
            "Mexico",
            "Nigeria",
            "South Africa",
            "Ukraine",
            "United States of America"
           ],
           "y": [
            0.3475339655373167,
            3.8815263315597,
            0,
            0,
            0.2039674908740115,
            0,
            0.45073873480220283,
            39.09707714191032,
            18.662429961096873
           ]
          }
         ],
         "name": "2017_Emissions_per_capita"
        },
        {
         "data": [
          {
           "name": "Sugar cane",
           "type": "bar",
           "x": [
            "Brazil",
            "India",
            "Indonesia",
            "Japan",
            "Mexico",
            "Nigeria",
            "South Africa",
            "Ukraine",
            "United States of America"
           ],
           "y": [
            1.92,
            717.84,
            2522.08,
            0,
            2056.08,
            0,
            16.08,
            0,
            492
           ]
          },
          {
           "name": "Wheat",
           "type": "bar",
           "x": [
            "Brazil",
            "India",
            "Indonesia",
            "Japan",
            "Mexico",
            "Nigeria",
            "South Africa",
            "Ukraine",
            "United States of America"
           ],
           "y": [
            1327491.84,
            1009889.4,
            0,
            0,
            5033735.28,
            0,
            367948.8,
            98240331.48,
            314984960.64
           ]
          }
         ],
         "name": "2018_Tonnes"
        },
        {
         "data": [
          {
           "name": "Sugar cane",
           "type": "bar",
           "x": [
            "Brazil",
            "India",
            "Indonesia",
            "Japan",
            "Mexico",
            "Nigeria",
            "South Africa",
            "Ukraine",
            "United States of America"
           ],
           "y": [
            252677600,
            255869999.99999997,
            7484000,
            0,
            8490600,
            0,
            2991000,
            0,
            3933600
           ]
          },
          {
           "name": "Wheat",
           "type": "bar",
           "x": [
            "Brazil",
            "India",
            "Indonesia",
            "Japan",
            "Mexico",
            "Nigeria",
            "South Africa",
            "Ukraine",
            "United States of America"
           ],
           "y": [
            51720200,
            5990899200,
            0,
            0,
            20875200,
            0,
            32540800,
            1874950000,
            5752418000
           ]
          }
         ],
         "name": "2018_Estimated_Emissions_kg"
        },
        {
         "data": [
          {
           "name": "Sugar cane",
           "type": "bar",
           "x": [
            "Brazil",
            "India",
            "Indonesia",
            "Japan",
            "Mexico",
            "Nigeria",
            "South Africa",
            "Ukraine",
            "United States of America"
           ],
           "y": [
            9.315537893640729e-9,
            5.221949345834307e-7,
            0.000009342703290867661,
            0,
            0.0000165049269504382,
            0,
            2.743418695511235e-7,
            0,
            0.0000014684090725153137
           ]
          },
          {
           "name": "Wheat",
           "type": "bar",
           "x": [
            "Brazil",
            "India",
            "Indonesia",
            "Japan",
            "Mexico",
            "Nigeria",
            "South Africa",
            "Ukraine",
            "United States of America"
           ],
           "y": [
            0.006440781530738988,
            0.0007346471764871002,
            0,
            0,
            0.04040768505322925,
            0,
            0.006277597120092813,
            2.1730304490661543,
            0.940095068922063
           ]
          }
         ],
         "name": "2018_Tonnes_per_capita"
        },
        {
         "data": [
          {
           "name": "Sugar cane",
           "type": "bar",
           "x": [
            "Brazil",
            "India",
            "Indonesia",
            "Japan",
            "Mexico",
            "Nigeria",
            "South Africa",
            "Ukraine",
            "United States of America"
           ],
           "y": [
            1.2259519571219764,
            0.18613342515304576,
            0.027723462946795334,
            0,
            0.06815723744474465,
            0,
            0.05102963506389368,
            0,
            0.01174010960903707
           ]
          },
          {
           "name": "Wheat",
           "type": "bar",
           "x": [
            "Brazil",
            "India",
            "Indonesia",
            "Japan",
            "Mexico",
            "Nigeria",
            "South Africa",
            "Ukraine",
            "United States of America"
           ],
           "y": [
            0.2509382723784777,
            4.3580982055053035,
            0,
            0,
            0.16757307647357475,
            0,
            0.555180591336393,
            41.47302211929167,
            17.16850158556991
           ]
          }
         ],
         "name": "2018_Emissions_per_capita"
        },
        {
         "data": [
          {
           "name": "Sugar cane",
           "type": "bar",
           "x": [
            "Brazil",
            "India",
            "Indonesia",
            "Japan",
            "Mexico",
            "Nigeria",
            "South Africa",
            "Ukraine",
            "United States of America"
           ],
           "y": [
            11.4,
            4644.679999999999,
            1247.6,
            0,
            3072.44,
            0,
            12.719999999999999,
            0,
            1116
           ]
          },
          {
           "name": "Wheat",
           "type": "bar",
           "x": [
            "Brazil",
            "India",
            "Indonesia",
            "Japan",
            "Mexico",
            "Nigeria",
            "South Africa",
            "Ukraine",
            "United States of America"
           ],
           "y": [
            3381858.36,
            1140348.3,
            0,
            0,
            4417806.18,
            0,
            781892.3400000001,
            120132438.96000001,
            378958949.46
           ]
          }
         ],
         "name": "2019_Tonnes"
        },
        {
         "data": [
          {
           "name": "Sugar cane",
           "type": "bar",
           "x": [
            "Brazil",
            "India",
            "Indonesia",
            "Japan",
            "Mexico",
            "Nigeria",
            "South Africa",
            "Ukraine",
            "United States of America"
           ],
           "y": [
            581484800,
            328050000,
            5949600,
            0,
            2866400,
            0,
            3931200,
            0,
            6654000
           ]
          },
          {
           "name": "Wheat",
           "type": "bar",
           "x": [
            "Brazil",
            "India",
            "Indonesia",
            "Japan",
            "Mexico",
            "Nigeria",
            "South Africa",
            "Ukraine",
            "United States of America"
           ],
           "y": [
            89988000,
            6269810400,
            0,
            0,
            14259000,
            0,
            29550000,
            2113350000,
            6449456000
           ]
          }
         ],
         "name": "2019_Estimated_Emissions_kg"
        },
        {
         "data": [
          {
           "name": "Sugar cane",
           "type": "bar",
           "x": [
            "Brazil",
            "India",
            "Indonesia",
            "Japan",
            "Mexico",
            "Nigeria",
            "South Africa",
            "Ukraine",
            "United States of America"
           ],
           "y": [
            5.495155468528789e-8,
            0.0000033438291158040616,
            0.0000045785270435914715,
            0,
            0.000024430400159958038,
            0,
            2.1346621045536352e-7,
            0,
            0.0000033038271667118026
           ]
          },
          {
           "name": "Wheat",
           "type": "bar",
           "x": [
            "Brazil",
            "India",
            "Indonesia",
            "Japan",
            "Mexico",
            "Nigeria",
            "South Africa",
            "Ukraine",
            "United States of America"
           ],
           "y": [
            0.01630161180767,
            0.0008209671813123111,
            0,
            0,
            0.035128032705776385,
            0,
            0.013121666258166404,
            2.672135932596545,
            1.1218771257119293
           ]
          }
         ],
         "name": "2019_Tonnes_per_capita"
        },
        {
         "data": [
          {
           "name": "Sugar cane",
           "type": "bar",
           "x": [
            "Brazil",
            "India",
            "Indonesia",
            "Japan",
            "Mexico",
            "Nigeria",
            "South Africa",
            "Ukraine",
            "United States of America"
           ],
           "y": [
            2.802938051391552,
            0.23617195187602213,
            0.021834245349913288,
            0,
            0.022792080241926194,
            0,
            0.06597314202375198,
            0,
            0.019698625418727897
           ]
          },
          {
           "name": "Wheat",
           "type": "bar",
           "x": [
            "Brazil",
            "India",
            "Indonesia",
            "Japan",
            "Mexico",
            "Nigeria",
            "South Africa",
            "Ukraine",
            "United States of America"
           ],
           "y": [
            0.43377021956313044,
            4.51380387154575,
            0,
            0,
            0.11337994424003127,
            0,
            0.49590617287389877,
            47.00777343772417,
            19.093089554939457
           ]
          }
         ],
         "name": "2019_Emissions_per_capita"
        },
        {
         "data": [
          {
           "name": "Sugar cane",
           "type": "bar",
           "x": [
            "Brazil",
            "India",
            "Indonesia",
            "Japan",
            "Mexico",
            "Nigeria",
            "South Africa",
            "Ukraine",
            "United States of America"
           ],
           "y": [
            12.32,
            871.08,
            644.24,
            0,
            1952.72,
            0,
            341.76,
            0,
            704
           ]
          },
          {
           "name": "Wheat",
           "type": "bar",
           "x": [
            "Brazil",
            "India",
            "Indonesia",
            "Japan",
            "Mexico",
            "Nigeria",
            "South Africa",
            "Ukraine",
            "United States of America"
           ],
           "y": [
            3365271,
            5572102.74,
            0,
            0,
            1533828,
            0,
            1086629.16,
            108334036.32000001,
            365833658.4
           ]
          }
         ],
         "name": "2020_Tonnes"
        },
        {
         "data": [
          {
           "name": "Sugar cane",
           "type": "bar",
           "x": [
            "Brazil",
            "India",
            "Indonesia",
            "Japan",
            "Mexico",
            "Nigeria",
            "South Africa",
            "Ukraine",
            "United States of America"
           ],
           "y": [
            683924000,
            265187200,
            3017600,
            0,
            2790600,
            0,
            4487000,
            0,
            2761600
           ]
          },
          {
           "name": "Wheat",
           "type": "bar",
           "x": [
            "Brazil",
            "India",
            "Indonesia",
            "Japan",
            "Mexico",
            "Nigeria",
            "South Africa",
            "Ukraine",
            "United States of America"
           ],
           "y": [
            146485600,
            7494094000,
            0,
            0,
            2675800,
            0,
            23790800,
            1686636000,
            5670590400
           ]
          }
         ],
         "name": "2020_Estimated_Emissions_kg"
        },
        {
         "data": [
          {
           "name": "Sugar cane",
           "type": "bar",
           "x": [
            "Brazil",
            "India",
            "Indonesia",
            "Japan",
            "Mexico",
            "Nigeria",
            "South Africa",
            "Ukraine",
            "United States of America"
           ],
           "y": [
            5.904318166223062e-8,
            6.210387927552846e-7,
            0.0000023442691051509567,
            0,
            0.000015400114772148736,
            0,
            0.000005643107063442568,
            0,
            0.000002074027711349397
           ]
          },
          {
           "name": "Wheat",
           "type": "bar",
           "x": [
            "Brazil",
            "India",
            "Indonesia",
            "Japan",
            "Mexico",
            "Nigeria",
            "South Africa",
            "Ukraine",
            "United States of America"
           ],
           "y": [
            0.016127946996399068,
            0.003972645404277464,
            0,
            0,
            0.01209652548278061,
            0,
            0.017942312406772777,
            2.4246643324686517,
            1.0777686722527402
           ]
          }
         ],
         "name": "2020_Tonnes_per_capita"
        },
        {
         "data": [
          {
           "name": "Sugar cane",
           "type": "bar",
           "x": [
            "Brazil",
            "India",
            "Indonesia",
            "Japan",
            "Mexico",
            "Nigeria",
            "South Africa",
            "Ukraine",
            "United States of America"
           ],
           "y": [
            3.277682546685017,
            0.18906591649693968,
            0.010980483130050178,
            0,
            0.022008050454319236,
            0,
            0.074088896868173,
            0,
            0.008135845067702407
           ]
          },
          {
           "name": "Wheat",
           "type": "bar",
           "x": [
            "Brazil",
            "India",
            "Indonesia",
            "Japan",
            "Mexico",
            "Nigeria",
            "South Africa",
            "Ukraine",
            "United States of America"
           ],
           "y": [
            0.7020272639367572,
            5.342934162826172,
            0,
            0,
            0.021102680930863406,
            0,
            0.39283131883470696,
            37.749227204807944,
            16.70591140527253
           ]
          }
         ],
         "name": "2020_Emissions_per_capita"
        },
        {
         "data": [
          {
           "name": "Sugar cane",
           "type": "bar",
           "x": [
            "Brazil",
            "India",
            "Indonesia",
            "Japan",
            "Mexico",
            "Nigeria",
            "South Africa",
            "Ukraine",
            "United States of America"
           ],
           "y": [
            1390.24,
            1162.48,
            341.76,
            0.4,
            0,
            0,
            8.28,
            0,
            816
           ]
          },
          {
           "name": "Wheat",
           "type": "bar",
           "x": [
            "Brazil",
            "India",
            "Indonesia",
            "Japan",
            "Mexico",
            "Nigeria",
            "South Africa",
            "Ukraine",
            "United States of America"
           ],
           "y": [
            6776091.84,
            36543644.22,
            0,
            0,
            1909167.5999999999,
            0,
            1298682.48,
            116369608.14,
            144081996.96
           ]
          }
         ],
         "name": "2021_Tonnes"
        },
        {
         "data": [
          {
           "name": "Sugar cane",
           "type": "bar",
           "x": [
            "Brazil",
            "India",
            "Indonesia",
            "Japan",
            "Mexico",
            "Nigeria",
            "South Africa",
            "Ukraine",
            "United States of America"
           ],
           "y": [
            466791000,
            366853200,
            1616800,
            84000,
            0,
            0,
            4306000,
            0,
            9539600
           ]
          },
          {
           "name": "Wheat",
           "type": "bar",
           "x": [
            "Brazil",
            "India",
            "Indonesia",
            "Japan",
            "Mexico",
            "Nigeria",
            "South Africa",
            "Ukraine",
            "United States of America"
           ],
           "y": [
            191269200,
            8369725600,
            0,
            0,
            8334000,
            0,
            22698000,
            2004492800,
            3792849600
           ]
          }
         ],
         "name": "2021_Estimated_Emissions_kg"
        },
        {
         "data": [
          {
           "name": "Sugar cane",
           "type": "bar",
           "x": [
            "Brazil",
            "India",
            "Indonesia",
            "Japan",
            "Mexico",
            "Nigeria",
            "South Africa",
            "Ukraine",
            "United States of America"
           ],
           "y": [
            0.0000066343977546507285,
            8.22003109514839e-7,
            0.0000012348692162536639,
            3.1827029515384624e-9,
            0,
            0,
            1.346284481650313e-7,
            0,
            0.0000023988609573182046
           ]
          },
          {
           "name": "Wheat",
           "type": "bar",
           "x": [
            "Brazil",
            "India",
            "Indonesia",
            "Japan",
            "Mexico",
            "Nigeria",
            "South Africa",
            "Ukraine",
            "United States of America"
           ],
           "y": [
            0.03233635090962936,
            0.025840435260687473,
            0,
            0,
            0.01495648491508079,
            0,
            0.021115894558153905,
            2.6269341031688556,
            0.4235694573036572
           ]
          }
         ],
         "name": "2021_Tonnes_per_capita"
        },
        {
         "data": [
          {
           "name": "Sugar cane",
           "type": "bar",
           "x": [
            "Brazil",
            "India",
            "Indonesia",
            "Japan",
            "Mexico",
            "Nigeria",
            "South Africa",
            "Ukraine",
            "United States of America"
           ],
           "y": [
            2.2275845625871566,
            0.25940615850205523,
            0.0058419257632225064,
            0.0006683676198230771,
            0,
            0,
            0.07001329683558272,
            0,
            0.028044330868177383
           ]
          },
          {
           "name": "Wheat",
           "type": "bar",
           "x": [
            "Brazil",
            "India",
            "Indonesia",
            "Japan",
            "Mexico",
            "Nigeria",
            "South Africa",
            "Ukraine",
            "United States of America"
           ],
           "y": [
            0.9127603514600652,
            5.918330181152323,
            0,
            0,
            0.06528884383030767,
            0,
            0.36905755029587933,
            45.249533619993755,
            11.150145615710748
           ]
          }
         ],
         "name": "2021_Emissions_per_capita"
        },
        {
         "data": [
          {
           "name": "Sugar cane",
           "type": "bar",
           "x": [
            "Brazil",
            "India",
            "Indonesia",
            "Japan",
            "Mexico",
            "Nigeria",
            "South Africa",
            "Ukraine",
            "United States of America"
           ],
           "y": [
            718.48,
            3836.88,
            51.6,
            0,
            254.48,
            0,
            274.96,
            0,
            5496
           ]
          },
          {
           "name": "Wheat",
           "type": "bar",
           "x": [
            "Brazil",
            "India",
            "Indonesia",
            "Japan",
            "Mexico",
            "Nigeria",
            "South Africa",
            "Ukraine",
            "United States of America"
           ],
           "y": [
            18436675.02,
            40791589.74,
            0,
            0,
            508105.74,
            0,
            2486188.8,
            67339297.56,
            125499001.98
           ]
          }
         ],
         "name": "2022_Tonnes"
        },
        {
         "data": [
          {
           "name": "Sugar cane",
           "type": "bar",
           "x": [
            "Brazil",
            "India",
            "Indonesia",
            "Japan",
            "Mexico",
            "Nigeria",
            "South Africa",
            "Ukraine",
            "United States of America"
           ],
           "y": [
            35544000,
            391368600,
            3559600,
            0,
            2912400,
            0,
            3722400,
            0,
            5412800
           ]
          },
          {
           "name": "Wheat",
           "type": "bar",
           "x": [
            "Brazil",
            "India",
            "Indonesia",
            "Japan",
            "Mexico",
            "Nigeria",
            "South Africa",
            "Ukraine",
            "United States of America"
           ],
           "y": [
            303995000,
            7723187200.000001,
            0,
            0,
            3004200,
            0,
            31967600,
            1442060400,
            3904473600
           ]
          }
         ],
         "name": "2022_Estimated_Emissions_kg"
        },
        {
         "data": [
          {
           "name": "Sugar cane",
           "type": "bar",
           "x": [
            "Brazil",
            "India",
            "Indonesia",
            "Japan",
            "Mexico",
            "Nigeria",
            "South Africa",
            "Ukraine",
            "United States of America"
           ],
           "y": [
            0.000003416348474201322,
            0.0000026917479438380298,
            1.8505864542544405e-7,
            0,
            0.000001978647325684518,
            0,
            0.000004407935373793593,
            0,
            0.000016092099983765893
           ]
          },
          {
           "name": "Wheat",
           "type": "bar",
           "x": [
            "Brazil",
            "India",
            "Indonesia",
            "Japan",
            "Mexico",
            "Nigeria",
            "South Africa",
            "Ukraine",
            "United States of America"
           ],
           "y": [
            0.08766577576818091,
            0.028617177969738297,
            0,
            0,
            0.003950652560578249,
            0,
            0.03985655934481177,
            1.6404706918595313,
            0.3674567845205593
           ]
          }
         ],
         "name": "2022_Tonnes_per_capita"
        },
        {
         "data": [
          {
           "name": "Sugar cane",
           "type": "bar",
           "x": [
            "Brazil",
            "India",
            "Indonesia",
            "Japan",
            "Mexico",
            "Nigeria",
            "South Africa",
            "Ukraine",
            "United States of America"
           ],
           "y": [
            0.16901053636428542,
            0.27456308884634606,
            0.012766177408069975,
            0,
            0.02264465762073086,
            0,
            0.05967449314594585,
            0,
            0.01584849323000874
           ]
          },
          {
           "name": "Wheat",
           "type": "bar",
           "x": [
            "Brazil",
            "India",
            "Indonesia",
            "Japan",
            "Mexico",
            "Nigeria",
            "South Africa",
            "Ukraine",
            "United States of America"
           ],
           "y": [
            1.445486101791046,
            5.418171343767903,
            0,
            0,
            0.023358426186032018,
            0,
            0.5124785963605036,
            35.1304202421091,
            11.43216513012634
           ]
          }
         ],
         "name": "2022_Emissions_per_capita"
        }
       ],
       "layout": {
        "barmode": "stack",
        "height": 700,
        "legend": {
         "title": {
          "text": "Product"
         }
        },
        "sliders": [
         {
          "steps": [
           {
            "args": [
             [
              "1986_Tonnes"
             ],
             {
              "frame": {
               "duration": 400,
               "redraw": true
              },
              "mode": "immediate",
              "transition": {
               "duration": 0
              }
             }
            ],
            "label": "1986",
            "method": "animate"
           },
           {
            "args": [
             [
              "1987_Tonnes"
             ],
             {
              "frame": {
               "duration": 400,
               "redraw": true
              },
              "mode": "immediate",
              "transition": {
               "duration": 0
              }
             }
            ],
            "label": "1987",
            "method": "animate"
           },
           {
            "args": [
             [
              "1988_Tonnes"
             ],
             {
              "frame": {
               "duration": 400,
               "redraw": true
              },
              "mode": "immediate",
              "transition": {
               "duration": 0
              }
             }
            ],
            "label": "1988",
            "method": "animate"
           },
           {
            "args": [
             [
              "1989_Tonnes"
             ],
             {
              "frame": {
               "duration": 400,
               "redraw": true
              },
              "mode": "immediate",
              "transition": {
               "duration": 0
              }
             }
            ],
            "label": "1989",
            "method": "animate"
           },
           {
            "args": [
             [
              "1990_Tonnes"
             ],
             {
              "frame": {
               "duration": 400,
               "redraw": true
              },
              "mode": "immediate",
              "transition": {
               "duration": 0
              }
             }
            ],
            "label": "1990",
            "method": "animate"
           },
           {
            "args": [
             [
              "1991_Tonnes"
             ],
             {
              "frame": {
               "duration": 400,
               "redraw": true
              },
              "mode": "immediate",
              "transition": {
               "duration": 0
              }
             }
            ],
            "label": "1991",
            "method": "animate"
           },
           {
            "args": [
             [
              "1992_Tonnes"
             ],
             {
              "frame": {
               "duration": 400,
               "redraw": true
              },
              "mode": "immediate",
              "transition": {
               "duration": 0
              }
             }
            ],
            "label": "1992",
            "method": "animate"
           },
           {
            "args": [
             [
              "1993_Tonnes"
             ],
             {
              "frame": {
               "duration": 400,
               "redraw": true
              },
              "mode": "immediate",
              "transition": {
               "duration": 0
              }
             }
            ],
            "label": "1993",
            "method": "animate"
           },
           {
            "args": [
             [
              "1994_Tonnes"
             ],
             {
              "frame": {
               "duration": 400,
               "redraw": true
              },
              "mode": "immediate",
              "transition": {
               "duration": 0
              }
             }
            ],
            "label": "1994",
            "method": "animate"
           },
           {
            "args": [
             [
              "1995_Tonnes"
             ],
             {
              "frame": {
               "duration": 400,
               "redraw": true
              },
              "mode": "immediate",
              "transition": {
               "duration": 0
              }
             }
            ],
            "label": "1995",
            "method": "animate"
           },
           {
            "args": [
             [
              "1996_Tonnes"
             ],
             {
              "frame": {
               "duration": 400,
               "redraw": true
              },
              "mode": "immediate",
              "transition": {
               "duration": 0
              }
             }
            ],
            "label": "1996",
            "method": "animate"
           },
           {
            "args": [
             [
              "1997_Tonnes"
             ],
             {
              "frame": {
               "duration": 400,
               "redraw": true
              },
              "mode": "immediate",
              "transition": {
               "duration": 0
              }
             }
            ],
            "label": "1997",
            "method": "animate"
           },
           {
            "args": [
             [
              "1998_Tonnes"
             ],
             {
              "frame": {
               "duration": 400,
               "redraw": true
              },
              "mode": "immediate",
              "transition": {
               "duration": 0
              }
             }
            ],
            "label": "1998",
            "method": "animate"
           },
           {
            "args": [
             [
              "1999_Tonnes"
             ],
             {
              "frame": {
               "duration": 400,
               "redraw": true
              },
              "mode": "immediate",
              "transition": {
               "duration": 0
              }
             }
            ],
            "label": "1999",
            "method": "animate"
           },
           {
            "args": [
             [
              "2000_Tonnes"
             ],
             {
              "frame": {
               "duration": 400,
               "redraw": true
              },
              "mode": "immediate",
              "transition": {
               "duration": 0
              }
             }
            ],
            "label": "2000",
            "method": "animate"
           },
           {
            "args": [
             [
              "2001_Tonnes"
             ],
             {
              "frame": {
               "duration": 400,
               "redraw": true
              },
              "mode": "immediate",
              "transition": {
               "duration": 0
              }
             }
            ],
            "label": "2001",
            "method": "animate"
           },
           {
            "args": [
             [
              "2002_Tonnes"
             ],
             {
              "frame": {
               "duration": 400,
               "redraw": true
              },
              "mode": "immediate",
              "transition": {
               "duration": 0
              }
             }
            ],
            "label": "2002",
            "method": "animate"
           },
           {
            "args": [
             [
              "2003_Tonnes"
             ],
             {
              "frame": {
               "duration": 400,
               "redraw": true
              },
              "mode": "immediate",
              "transition": {
               "duration": 0
              }
             }
            ],
            "label": "2003",
            "method": "animate"
           },
           {
            "args": [
             [
              "2004_Tonnes"
             ],
             {
              "frame": {
               "duration": 400,
               "redraw": true
              },
              "mode": "immediate",
              "transition": {
               "duration": 0
              }
             }
            ],
            "label": "2004",
            "method": "animate"
           },
           {
            "args": [
             [
              "2005_Tonnes"
             ],
             {
              "frame": {
               "duration": 400,
               "redraw": true
              },
              "mode": "immediate",
              "transition": {
               "duration": 0
              }
             }
            ],
            "label": "2005",
            "method": "animate"
           },
           {
            "args": [
             [
              "2006_Tonnes"
             ],
             {
              "frame": {
               "duration": 400,
               "redraw": true
              },
              "mode": "immediate",
              "transition": {
               "duration": 0
              }
             }
            ],
            "label": "2006",
            "method": "animate"
           },
           {
            "args": [
             [
              "2007_Tonnes"
             ],
             {
              "frame": {
               "duration": 400,
               "redraw": true
              },
              "mode": "immediate",
              "transition": {
               "duration": 0
              }
             }
            ],
            "label": "2007",
            "method": "animate"
           },
           {
            "args": [
             [
              "2008_Tonnes"
             ],
             {
              "frame": {
               "duration": 400,
               "redraw": true
              },
              "mode": "immediate",
              "transition": {
               "duration": 0
              }
             }
            ],
            "label": "2008",
            "method": "animate"
           },
           {
            "args": [
             [
              "2009_Tonnes"
             ],
             {
              "frame": {
               "duration": 400,
               "redraw": true
              },
              "mode": "immediate",
              "transition": {
               "duration": 0
              }
             }
            ],
            "label": "2009",
            "method": "animate"
           },
           {
            "args": [
             [
              "2010_Tonnes"
             ],
             {
              "frame": {
               "duration": 400,
               "redraw": true
              },
              "mode": "immediate",
              "transition": {
               "duration": 0
              }
             }
            ],
            "label": "2010",
            "method": "animate"
           },
           {
            "args": [
             [
              "2011_Tonnes"
             ],
             {
              "frame": {
               "duration": 400,
               "redraw": true
              },
              "mode": "immediate",
              "transition": {
               "duration": 0
              }
             }
            ],
            "label": "2011",
            "method": "animate"
           },
           {
            "args": [
             [
              "2012_Tonnes"
             ],
             {
              "frame": {
               "duration": 400,
               "redraw": true
              },
              "mode": "immediate",
              "transition": {
               "duration": 0
              }
             }
            ],
            "label": "2012",
            "method": "animate"
           },
           {
            "args": [
             [
              "2013_Tonnes"
             ],
             {
              "frame": {
               "duration": 400,
               "redraw": true
              },
              "mode": "immediate",
              "transition": {
               "duration": 0
              }
             }
            ],
            "label": "2013",
            "method": "animate"
           },
           {
            "args": [
             [
              "2014_Tonnes"
             ],
             {
              "frame": {
               "duration": 400,
               "redraw": true
              },
              "mode": "immediate",
              "transition": {
               "duration": 0
              }
             }
            ],
            "label": "2014",
            "method": "animate"
           },
           {
            "args": [
             [
              "2015_Tonnes"
             ],
             {
              "frame": {
               "duration": 400,
               "redraw": true
              },
              "mode": "immediate",
              "transition": {
               "duration": 0
              }
             }
            ],
            "label": "2015",
            "method": "animate"
           },
           {
            "args": [
             [
              "2016_Tonnes"
             ],
             {
              "frame": {
               "duration": 400,
               "redraw": true
              },
              "mode": "immediate",
              "transition": {
               "duration": 0
              }
             }
            ],
            "label": "2016",
            "method": "animate"
           },
           {
            "args": [
             [
              "2017_Tonnes"
             ],
             {
              "frame": {
               "duration": 400,
               "redraw": true
              },
              "mode": "immediate",
              "transition": {
               "duration": 0
              }
             }
            ],
            "label": "2017",
            "method": "animate"
           },
           {
            "args": [
             [
              "2018_Tonnes"
             ],
             {
              "frame": {
               "duration": 400,
               "redraw": true
              },
              "mode": "immediate",
              "transition": {
               "duration": 0
              }
             }
            ],
            "label": "2018",
            "method": "animate"
           },
           {
            "args": [
             [
              "2019_Tonnes"
             ],
             {
              "frame": {
               "duration": 400,
               "redraw": true
              },
              "mode": "immediate",
              "transition": {
               "duration": 0
              }
             }
            ],
            "label": "2019",
            "method": "animate"
           },
           {
            "args": [
             [
              "2020_Tonnes"
             ],
             {
              "frame": {
               "duration": 400,
               "redraw": true
              },
              "mode": "immediate",
              "transition": {
               "duration": 0
              }
             }
            ],
            "label": "2020",
            "method": "animate"
           },
           {
            "args": [
             [
              "2021_Tonnes"
             ],
             {
              "frame": {
               "duration": 400,
               "redraw": true
              },
              "mode": "immediate",
              "transition": {
               "duration": 0
              }
             }
            ],
            "label": "2021",
            "method": "animate"
           },
           {
            "args": [
             [
              "2022_Tonnes"
             ],
             {
              "frame": {
               "duration": 400,
               "redraw": true
              },
              "mode": "immediate",
              "transition": {
               "duration": 0
              }
             }
            ],
            "label": "2022",
            "method": "animate"
           }
          ],
          "transition": {
           "duration": 0
          },
          "x": 0.05,
          "xanchor": "left",
          "y": 0,
          "yanchor": "top"
         }
        ],
        "template": {
         "data": {
          "bar": [
           {
            "error_x": {
             "color": "#2a3f5f"
            },
            "error_y": {
             "color": "#2a3f5f"
            },
            "marker": {
             "line": {
              "color": "#E5ECF6",
              "width": 0.5
             },
             "pattern": {
              "fillmode": "overlay",
              "size": 10,
              "solidity": 0.2
             }
            },
            "type": "bar"
           }
          ],
          "barpolar": [
           {
            "marker": {
             "line": {
              "color": "#E5ECF6",
              "width": 0.5
             },
             "pattern": {
              "fillmode": "overlay",
              "size": 10,
              "solidity": 0.2
             }
            },
            "type": "barpolar"
           }
          ],
          "carpet": [
           {
            "aaxis": {
             "endlinecolor": "#2a3f5f",
             "gridcolor": "white",
             "linecolor": "white",
             "minorgridcolor": "white",
             "startlinecolor": "#2a3f5f"
            },
            "baxis": {
             "endlinecolor": "#2a3f5f",
             "gridcolor": "white",
             "linecolor": "white",
             "minorgridcolor": "white",
             "startlinecolor": "#2a3f5f"
            },
            "type": "carpet"
           }
          ],
          "choropleth": [
           {
            "colorbar": {
             "outlinewidth": 0,
             "ticks": ""
            },
            "type": "choropleth"
           }
          ],
          "contour": [
           {
            "colorbar": {
             "outlinewidth": 0,
             "ticks": ""
            },
            "colorscale": [
             [
              0,
              "#0d0887"
             ],
             [
              0.1111111111111111,
              "#46039f"
             ],
             [
              0.2222222222222222,
              "#7201a8"
             ],
             [
              0.3333333333333333,
              "#9c179e"
             ],
             [
              0.4444444444444444,
              "#bd3786"
             ],
             [
              0.5555555555555556,
              "#d8576b"
             ],
             [
              0.6666666666666666,
              "#ed7953"
             ],
             [
              0.7777777777777778,
              "#fb9f3a"
             ],
             [
              0.8888888888888888,
              "#fdca26"
             ],
             [
              1,
              "#f0f921"
             ]
            ],
            "type": "contour"
           }
          ],
          "contourcarpet": [
           {
            "colorbar": {
             "outlinewidth": 0,
             "ticks": ""
            },
            "type": "contourcarpet"
           }
          ],
          "heatmap": [
           {
            "colorbar": {
             "outlinewidth": 0,
             "ticks": ""
            },
            "colorscale": [
             [
              0,
              "#0d0887"
             ],
             [
              0.1111111111111111,
              "#46039f"
             ],
             [
              0.2222222222222222,
              "#7201a8"
             ],
             [
              0.3333333333333333,
              "#9c179e"
             ],
             [
              0.4444444444444444,
              "#bd3786"
             ],
             [
              0.5555555555555556,
              "#d8576b"
             ],
             [
              0.6666666666666666,
              "#ed7953"
             ],
             [
              0.7777777777777778,
              "#fb9f3a"
             ],
             [
              0.8888888888888888,
              "#fdca26"
             ],
             [
              1,
              "#f0f921"
             ]
            ],
            "type": "heatmap"
           }
          ],
          "histogram": [
           {
            "marker": {
             "pattern": {
              "fillmode": "overlay",
              "size": 10,
              "solidity": 0.2
             }
            },
            "type": "histogram"
           }
          ],
          "histogram2d": [
           {
            "colorbar": {
             "outlinewidth": 0,
             "ticks": ""
            },
            "colorscale": [
             [
              0,
              "#0d0887"
             ],
             [
              0.1111111111111111,
              "#46039f"
             ],
             [
              0.2222222222222222,
              "#7201a8"
             ],
             [
              0.3333333333333333,
              "#9c179e"
             ],
             [
              0.4444444444444444,
              "#bd3786"
             ],
             [
              0.5555555555555556,
              "#d8576b"
             ],
             [
              0.6666666666666666,
              "#ed7953"
             ],
             [
              0.7777777777777778,
              "#fb9f3a"
             ],
             [
              0.8888888888888888,
              "#fdca26"
             ],
             [
              1,
              "#f0f921"
             ]
            ],
            "type": "histogram2d"
           }
          ],
          "histogram2dcontour": [
           {
            "colorbar": {
             "outlinewidth": 0,
             "ticks": ""
            },
            "colorscale": [
             [
              0,
              "#0d0887"
             ],
             [
              0.1111111111111111,
              "#46039f"
             ],
             [
              0.2222222222222222,
              "#7201a8"
             ],
             [
              0.3333333333333333,
              "#9c179e"
             ],
             [
              0.4444444444444444,
              "#bd3786"
             ],
             [
              0.5555555555555556,
              "#d8576b"
             ],
             [
              0.6666666666666666,
              "#ed7953"
             ],
             [
              0.7777777777777778,
              "#fb9f3a"
             ],
             [
              0.8888888888888888,
              "#fdca26"
             ],
             [
              1,
              "#f0f921"
             ]
            ],
            "type": "histogram2dcontour"
           }
          ],
          "mesh3d": [
           {
            "colorbar": {
             "outlinewidth": 0,
             "ticks": ""
            },
            "type": "mesh3d"
           }
          ],
          "parcoords": [
           {
            "line": {
             "colorbar": {
              "outlinewidth": 0,
              "ticks": ""
             }
            },
            "type": "parcoords"
           }
          ],
          "pie": [
           {
            "automargin": true,
            "type": "pie"
           }
          ],
          "scatter": [
           {
            "fillpattern": {
             "fillmode": "overlay",
             "size": 10,
             "solidity": 0.2
            },
            "type": "scatter"
           }
          ],
          "scatter3d": [
           {
            "line": {
             "colorbar": {
              "outlinewidth": 0,
              "ticks": ""
             }
            },
            "marker": {
             "colorbar": {
              "outlinewidth": 0,
              "ticks": ""
             }
            },
            "type": "scatter3d"
           }
          ],
          "scattercarpet": [
           {
            "marker": {
             "colorbar": {
              "outlinewidth": 0,
              "ticks": ""
             }
            },
            "type": "scattercarpet"
           }
          ],
          "scattergeo": [
           {
            "marker": {
             "colorbar": {
              "outlinewidth": 0,
              "ticks": ""
             }
            },
            "type": "scattergeo"
           }
          ],
          "scattergl": [
           {
            "marker": {
             "colorbar": {
              "outlinewidth": 0,
              "ticks": ""
             }
            },
            "type": "scattergl"
           }
          ],
          "scattermap": [
           {
            "marker": {
             "colorbar": {
              "outlinewidth": 0,
              "ticks": ""
             }
            },
            "type": "scattermap"
           }
          ],
          "scattermapbox": [
           {
            "marker": {
             "colorbar": {
              "outlinewidth": 0,
              "ticks": ""
             }
            },
            "type": "scattermapbox"
           }
          ],
          "scatterpolar": [
           {
            "marker": {
             "colorbar": {
              "outlinewidth": 0,
              "ticks": ""
             }
            },
            "type": "scatterpolar"
           }
          ],
          "scatterpolargl": [
           {
            "marker": {
             "colorbar": {
              "outlinewidth": 0,
              "ticks": ""
             }
            },
            "type": "scatterpolargl"
           }
          ],
          "scatterternary": [
           {
            "marker": {
             "colorbar": {
              "outlinewidth": 0,
              "ticks": ""
             }
            },
            "type": "scatterternary"
           }
          ],
          "surface": [
           {
            "colorbar": {
             "outlinewidth": 0,
             "ticks": ""
            },
            "colorscale": [
             [
              0,
              "#0d0887"
             ],
             [
              0.1111111111111111,
              "#46039f"
             ],
             [
              0.2222222222222222,
              "#7201a8"
             ],
             [
              0.3333333333333333,
              "#9c179e"
             ],
             [
              0.4444444444444444,
              "#bd3786"
             ],
             [
              0.5555555555555556,
              "#d8576b"
             ],
             [
              0.6666666666666666,
              "#ed7953"
             ],
             [
              0.7777777777777778,
              "#fb9f3a"
             ],
             [
              0.8888888888888888,
              "#fdca26"
             ],
             [
              1,
              "#f0f921"
             ]
            ],
            "type": "surface"
           }
          ],
          "table": [
           {
            "cells": {
             "fill": {
              "color": "#EBF0F8"
             },
             "line": {
              "color": "white"
             }
            },
            "header": {
             "fill": {
              "color": "#C8D4E3"
             },
             "line": {
              "color": "white"
             }
            },
            "type": "table"
           }
          ]
         },
         "layout": {
          "annotationdefaults": {
           "arrowcolor": "#2a3f5f",
           "arrowhead": 0,
           "arrowwidth": 1
          },
          "autotypenumbers": "strict",
          "coloraxis": {
           "colorbar": {
            "outlinewidth": 0,
            "ticks": ""
           }
          },
          "colorscale": {
           "diverging": [
            [
             0,
             "#8e0152"
            ],
            [
             0.1,
             "#c51b7d"
            ],
            [
             0.2,
             "#de77ae"
            ],
            [
             0.3,
             "#f1b6da"
            ],
            [
             0.4,
             "#fde0ef"
            ],
            [
             0.5,
             "#f7f7f7"
            ],
            [
             0.6,
             "#e6f5d0"
            ],
            [
             0.7,
             "#b8e186"
            ],
            [
             0.8,
             "#7fbc41"
            ],
            [
             0.9,
             "#4d9221"
            ],
            [
             1,
             "#276419"
            ]
           ],
           "sequential": [
            [
             0,
             "#0d0887"
            ],
            [
             0.1111111111111111,
             "#46039f"
            ],
            [
             0.2222222222222222,
             "#7201a8"
            ],
            [
             0.3333333333333333,
             "#9c179e"
            ],
            [
             0.4444444444444444,
             "#bd3786"
            ],
            [
             0.5555555555555556,
             "#d8576b"
            ],
            [
             0.6666666666666666,
             "#ed7953"
            ],
            [
             0.7777777777777778,
             "#fb9f3a"
            ],
            [
             0.8888888888888888,
             "#fdca26"
            ],
            [
             1,
             "#f0f921"
            ]
           ],
           "sequentialminus": [
            [
             0,
             "#0d0887"
            ],
            [
             0.1111111111111111,
             "#46039f"
            ],
            [
             0.2222222222222222,
             "#7201a8"
            ],
            [
             0.3333333333333333,
             "#9c179e"
            ],
            [
             0.4444444444444444,
             "#bd3786"
            ],
            [
             0.5555555555555556,
             "#d8576b"
            ],
            [
             0.6666666666666666,
             "#ed7953"
            ],
            [
             0.7777777777777778,
             "#fb9f3a"
            ],
            [
             0.8888888888888888,
             "#fdca26"
            ],
            [
             1,
             "#f0f921"
            ]
           ]
          },
          "colorway": [
           "#636efa",
           "#EF553B",
           "#00cc96",
           "#ab63fa",
           "#FFA15A",
           "#19d3f3",
           "#FF6692",
           "#B6E880",
           "#FF97FF",
           "#FECB52"
          ],
          "font": {
           "color": "#2a3f5f"
          },
          "geo": {
           "bgcolor": "white",
           "lakecolor": "white",
           "landcolor": "#E5ECF6",
           "showlakes": true,
           "showland": true,
           "subunitcolor": "white"
          },
          "hoverlabel": {
           "align": "left"
          },
          "hovermode": "closest",
          "mapbox": {
           "style": "light"
          },
          "paper_bgcolor": "white",
          "plot_bgcolor": "#E5ECF6",
          "polar": {
           "angularaxis": {
            "gridcolor": "white",
            "linecolor": "white",
            "ticks": ""
           },
           "bgcolor": "#E5ECF6",
           "radialaxis": {
            "gridcolor": "white",
            "linecolor": "white",
            "ticks": ""
           }
          },
          "scene": {
           "xaxis": {
            "backgroundcolor": "#E5ECF6",
            "gridcolor": "white",
            "gridwidth": 2,
            "linecolor": "white",
            "showbackground": true,
            "ticks": "",
            "zerolinecolor": "white"
           },
           "yaxis": {
            "backgroundcolor": "#E5ECF6",
            "gridcolor": "white",
            "gridwidth": 2,
            "linecolor": "white",
            "showbackground": true,
            "ticks": "",
            "zerolinecolor": "white"
           },
           "zaxis": {
            "backgroundcolor": "#E5ECF6",
            "gridcolor": "white",
            "gridwidth": 2,
            "linecolor": "white",
            "showbackground": true,
            "ticks": "",
            "zerolinecolor": "white"
           }
          },
          "shapedefaults": {
           "line": {
            "color": "#2a3f5f"
           }
          },
          "ternary": {
           "aaxis": {
            "gridcolor": "white",
            "linecolor": "white",
            "ticks": ""
           },
           "baxis": {
            "gridcolor": "white",
            "linecolor": "white",
            "ticks": ""
           },
           "bgcolor": "#E5ECF6",
           "caxis": {
            "gridcolor": "white",
            "linecolor": "white",
            "ticks": ""
           }
          },
          "title": {
           "x": 0.05
          },
          "xaxis": {
           "automargin": true,
           "gridcolor": "white",
           "linecolor": "white",
           "ticks": "",
           "title": {
            "standoff": 15
           },
           "zerolinecolor": "white",
           "zerolinewidth": 2
          },
          "yaxis": {
           "automargin": true,
           "gridcolor": "white",
           "linecolor": "white",
           "ticks": "",
           "title": {
            "standoff": 15
           },
           "zerolinecolor": "white",
           "zerolinewidth": 2
          }
         }
        },
        "title": {
         "text": "Export Volume by Country (tonnes)"
        },
        "updatemenus": [
         {
          "buttons": [
           {
            "args": [
             [
              "1986_Tonnes",
              "1987_Tonnes",
              "1988_Tonnes",
              "1989_Tonnes",
              "1990_Tonnes",
              "1991_Tonnes",
              "1992_Tonnes",
              "1993_Tonnes",
              "1994_Tonnes",
              "1995_Tonnes",
              "1996_Tonnes",
              "1997_Tonnes",
              "1998_Tonnes",
              "1999_Tonnes",
              "2000_Tonnes",
              "2001_Tonnes",
              "2002_Tonnes",
              "2003_Tonnes",
              "2004_Tonnes",
              "2005_Tonnes",
              "2006_Tonnes",
              "2007_Tonnes",
              "2008_Tonnes",
              "2009_Tonnes",
              "2010_Tonnes",
              "2011_Tonnes",
              "2012_Tonnes",
              "2013_Tonnes",
              "2014_Tonnes",
              "2015_Tonnes",
              "2016_Tonnes",
              "2017_Tonnes",
              "2018_Tonnes",
              "2019_Tonnes",
              "2020_Tonnes",
              "2021_Tonnes",
              "2022_Tonnes"
             ],
             {
              "frame": {
               "duration": 400,
               "redraw": true
              },
              "mode": "immediate",
              "transition": {
               "duration": 0
              }
             }
            ],
            "label": "Export Volume (tonnes)",
            "method": "animate"
           },
           {
            "args": [
             [
              "1986_Estimated_Emissions_kg",
              "1987_Estimated_Emissions_kg",
              "1988_Estimated_Emissions_kg",
              "1989_Estimated_Emissions_kg",
              "1990_Estimated_Emissions_kg",
              "1991_Estimated_Emissions_kg",
              "1992_Estimated_Emissions_kg",
              "1993_Estimated_Emissions_kg",
              "1994_Estimated_Emissions_kg",
              "1995_Estimated_Emissions_kg",
              "1996_Estimated_Emissions_kg",
              "1997_Estimated_Emissions_kg",
              "1998_Estimated_Emissions_kg",
              "1999_Estimated_Emissions_kg",
              "2000_Estimated_Emissions_kg",
              "2001_Estimated_Emissions_kg",
              "2002_Estimated_Emissions_kg",
              "2003_Estimated_Emissions_kg",
              "2004_Estimated_Emissions_kg",
              "2005_Estimated_Emissions_kg",
              "2006_Estimated_Emissions_kg",
              "2007_Estimated_Emissions_kg",
              "2008_Estimated_Emissions_kg",
              "2009_Estimated_Emissions_kg",
              "2010_Estimated_Emissions_kg",
              "2011_Estimated_Emissions_kg",
              "2012_Estimated_Emissions_kg",
              "2013_Estimated_Emissions_kg",
              "2014_Estimated_Emissions_kg",
              "2015_Estimated_Emissions_kg",
              "2016_Estimated_Emissions_kg",
              "2017_Estimated_Emissions_kg",
              "2018_Estimated_Emissions_kg",
              "2019_Estimated_Emissions_kg",
              "2020_Estimated_Emissions_kg",
              "2021_Estimated_Emissions_kg",
              "2022_Estimated_Emissions_kg"
             ],
             {
              "frame": {
               "duration": 400,
               "redraw": true
              },
              "mode": "immediate",
              "transition": {
               "duration": 0
              }
             }
            ],
            "label": "Estimated CO₂ Emissions (kg)",
            "method": "animate"
           },
           {
            "args": [
             [
              "1986_Tonnes_per_capita",
              "1987_Tonnes_per_capita",
              "1988_Tonnes_per_capita",
              "1989_Tonnes_per_capita",
              "1990_Tonnes_per_capita",
              "1991_Tonnes_per_capita",
              "1992_Tonnes_per_capita",
              "1993_Tonnes_per_capita",
              "1994_Tonnes_per_capita",
              "1995_Tonnes_per_capita",
              "1996_Tonnes_per_capita",
              "1997_Tonnes_per_capita",
              "1998_Tonnes_per_capita",
              "1999_Tonnes_per_capita",
              "2000_Tonnes_per_capita",
              "2001_Tonnes_per_capita",
              "2002_Tonnes_per_capita",
              "2003_Tonnes_per_capita",
              "2004_Tonnes_per_capita",
              "2005_Tonnes_per_capita",
              "2006_Tonnes_per_capita",
              "2007_Tonnes_per_capita",
              "2008_Tonnes_per_capita",
              "2009_Tonnes_per_capita",
              "2010_Tonnes_per_capita",
              "2011_Tonnes_per_capita",
              "2012_Tonnes_per_capita",
              "2013_Tonnes_per_capita",
              "2014_Tonnes_per_capita",
              "2015_Tonnes_per_capita",
              "2016_Tonnes_per_capita",
              "2017_Tonnes_per_capita",
              "2018_Tonnes_per_capita",
              "2019_Tonnes_per_capita",
              "2020_Tonnes_per_capita",
              "2021_Tonnes_per_capita",
              "2022_Tonnes_per_capita"
             ],
             {
              "frame": {
               "duration": 400,
               "redraw": true
              },
              "mode": "immediate",
              "transition": {
               "duration": 0
              }
             }
            ],
            "label": "Export Volume per Capita (tonnes/person)",
            "method": "animate"
           },
           {
            "args": [
             [
              "1986_Emissions_per_capita",
              "1987_Emissions_per_capita",
              "1988_Emissions_per_capita",
              "1989_Emissions_per_capita",
              "1990_Emissions_per_capita",
              "1991_Emissions_per_capita",
              "1992_Emissions_per_capita",
              "1993_Emissions_per_capita",
              "1994_Emissions_per_capita",
              "1995_Emissions_per_capita",
              "1996_Emissions_per_capita",
              "1997_Emissions_per_capita",
              "1998_Emissions_per_capita",
              "1999_Emissions_per_capita",
              "2000_Emissions_per_capita",
              "2001_Emissions_per_capita",
              "2002_Emissions_per_capita",
              "2003_Emissions_per_capita",
              "2004_Emissions_per_capita",
              "2005_Emissions_per_capita",
              "2006_Emissions_per_capita",
              "2007_Emissions_per_capita",
              "2008_Emissions_per_capita",
              "2009_Emissions_per_capita",
              "2010_Emissions_per_capita",
              "2011_Emissions_per_capita",
              "2012_Emissions_per_capita",
              "2013_Emissions_per_capita",
              "2014_Emissions_per_capita",
              "2015_Emissions_per_capita",
              "2016_Emissions_per_capita",
              "2017_Emissions_per_capita",
              "2018_Emissions_per_capita",
              "2019_Emissions_per_capita",
              "2020_Emissions_per_capita",
              "2021_Emissions_per_capita",
              "2022_Emissions_per_capita"
             ],
             {
              "frame": {
               "duration": 400,
               "redraw": true
              },
              "mode": "immediate",
              "transition": {
               "duration": 0
              }
             }
            ],
            "label": "CO₂ Emissions per Capita (kg/person)",
            "method": "animate"
           }
          ],
          "showactive": true,
          "type": "dropdown",
          "x": 1.05,
          "y": 1.15
         }
        ],
        "xaxis": {
         "title": {
          "text": "Country"
         }
        },
        "yaxis": {
         "title": {
          "text": "Tonnes"
         }
        }
       }
      }
     },
     "metadata": {},
     "output_type": "display_data"
    }
   ],
   "source": [
    "import pandas as pd\n",
    "import plotly.graph_objects as go\n",
    "\n",
    "# === STEP 1: LOAD DATA ===\n",
    "df_export = pd.read_csv(\"datasets/filtered_export_data.csv\", encoding='latin1')\n",
    "df_crops = pd.read_csv(\"datasets/Emissions_crops_filtered.csv\")\n",
    "df_livestock = pd.read_csv(\"datasets/Emissions_livestock_filtered.csv\")\n",
    "df_pop = pd.read_csv(\"datasets/Population_E_All_Data_(Normalized).csv\")\n",
    "\n",
    "# === STEP 2: CLEAN EXPORT DATA ===\n",
    "df_export = df_export[df_export[\"Element\"] == \"Export quantity\"]\n",
    "df_export = df_export[df_export[\"Value\"] > 0]\n",
    "df_export[\"Item\"] = df_export[\"Item\"].str.strip()\n",
    "df_export = df_export[[\"Reporter Countries\", \"Item\", \"Year\", \"Value\"]]\n",
    "df_export.columns = [\"Country\", \"Item\", \"Year\", \"Tonnes\"]\n",
    "\n",
    "# === STEP 3: CLEAN + MERGE EMISSIONS ===\n",
    "df_emissions = pd.concat([df_crops, df_livestock])\n",
    "df_emissions = df_emissions[df_emissions[\"Value\"].notna() & (df_emissions[\"Value\"] > 0)]\n",
    "df_emissions = df_emissions[[\"Area\", \"Item\", \"Year\", \"Value\"]]\n",
    "df_emissions.columns = [\"Country\", \"Item\", \"Year\", \"Emissions_Gg\"]\n",
    "df_emissions[\"Emissions_kg\"] = df_emissions[\"Emissions_Gg\"] * 1e6\n",
    "\n",
    "df_merged = pd.merge(df_export, df_emissions, on=[\"Country\", \"Item\", \"Year\"], how=\"left\")\n",
    "df_merged[\"Emission_Factor\"] = df_merged[\"Emissions_kg\"] / df_merged[\"Tonnes\"]\n",
    "df_merged = df_merged[df_merged[\"Emission_Factor\"].notna()]\n",
    "df_merged[\"Estimated_Emissions_kg\"] = df_merged[\"Tonnes\"] * df_merged[\"Emission_Factor\"]\n",
    "\n",
    "# === STEP 4: MERGE POPULATION ===\n",
    "df_pop = df_pop[df_pop[\"Element\"] == \"Total Population - Both sexes\"]\n",
    "df_pop = df_pop[[\"Area\", \"Year\", \"Value\"]]\n",
    "df_pop.columns = [\"Country\", \"Year\", \"Population_1000s\"]\n",
    "df_pop[\"Population\"] = df_pop[\"Population_1000s\"] * 1000\n",
    "\n",
    "df_final = pd.merge(df_merged, df_pop, on=[\"Country\", \"Year\"], how=\"left\")\n",
    "df_final = df_final[df_final[\"Population\"].notna()]\n",
    "df_final[\"Tonnes_per_capita\"] = df_final[\"Tonnes\"] / df_final[\"Population\"]\n",
    "df_final[\"Emissions_per_capita\"] = df_final[\"Estimated_Emissions_kg\"] / df_final[\"Population\"]\n",
    "\n",
    "# === STEP 5: PREP PLOT DATA ===\n",
    "years = sorted(df_final[\"Year\"].unique())\n",
    "products = sorted(df_final[\"Item\"].unique())\n",
    "countries = sorted(df_final[\"Country\"].unique())\n",
    "\n",
    "modes = {\n",
    "    \"Export Volume (tonnes)\": \"Tonnes\",\n",
    "    \"Estimated CO₂ Emissions (kg)\": \"Estimated_Emissions_kg\",\n",
    "    \"Export Volume per Capita (tonnes/person)\": \"Tonnes_per_capita\",\n",
    "    \"CO₂ Emissions per Capita (kg/person)\": \"Emissions_per_capita\"\n",
    "}\n",
    "default_mode = list(modes.values())[0]\n",
    "\n",
    "# === STEP 6: BUILD FIGURE ===\n",
    "fig = go.Figure()\n",
    "for product in products:\n",
    "    start_data = df_final[df_final[\"Year\"] == years[0]]\n",
    "    prod_data = start_data[start_data[\"Item\"] == product].groupby(\"Country\")[default_mode].sum()\n",
    "    y_vals = [prod_data.get(c, 0) for c in countries]\n",
    "    fig.add_trace(go.Bar(name=product, x=countries, y=y_vals, visible=True))\n",
    "\n",
    "# === STEP 7: BUILD FRAMES ===\n",
    "frames = []\n",
    "for year in years:\n",
    "    year_data = df_final[df_final[\"Year\"] == year]\n",
    "    for label, column in modes.items():\n",
    "        bars = []\n",
    "        for product in products:\n",
    "            prod_data = year_data[year_data[\"Item\"] == product].groupby(\"Country\")[column].sum()\n",
    "            y_vals = [prod_data.get(c, 0) for c in countries]\n",
    "            bars.append(go.Bar(name=product, x=countries, y=y_vals))\n",
    "        frames.append(go.Frame(data=bars, name=f\"{year}_{column}\"))\n",
    "\n",
    "fig.frames = frames\n",
    "\n",
    "# === STEP 8: DROPDOWN ===\n",
    "dropdown_buttons = []\n",
    "for label, column in modes.items():\n",
    "    dropdown_buttons.append(dict(\n",
    "        label=label,\n",
    "        method=\"animate\",\n",
    "        args=[\n",
    "            [f\"{year}_{column}\" for year in years],\n",
    "            {\"mode\": \"immediate\", \"frame\": {\"duration\": 400, \"redraw\": True},\n",
    "             \"transition\": {\"duration\": 0}}\n",
    "        ]\n",
    "    ))\n",
    "\n",
    "# === STEP 9: SLIDER ===\n",
    "slider = [dict(\n",
    "    steps=[\n",
    "        dict(method=\"animate\",\n",
    "             args=[[f\"{year}_{default_mode}\"],\n",
    "                   {\"mode\": \"immediate\",\n",
    "                    \"frame\": {\"duration\": 400, \"redraw\": True},\n",
    "                    \"transition\": {\"duration\": 0}}],\n",
    "             label=str(year)) for year in years],\n",
    "    transition={\"duration\": 0},\n",
    "    x=0.05,\n",
    "    xanchor=\"left\",\n",
    "    y=0,\n",
    "    yanchor=\"top\"\n",
    ")]\n",
    "\n",
    "# === STEP 10: FINAL LAYOUT ===\n",
    "fig.update_layout(\n",
    "    updatemenus=[dict(\n",
    "        type=\"dropdown\",\n",
    "        showactive=True,\n",
    "        buttons=dropdown_buttons,\n",
    "        x=1.05,\n",
    "        y=1.15\n",
    "    )],\n",
    "    sliders=slider,\n",
    "    barmode=\"stack\",\n",
    "    title=\"Export Volume by Country (tonnes)\",\n",
    "    xaxis_title=\"Country\",\n",
    "    yaxis_title=\"Tonnes\",\n",
    "    legend_title=\"Product\",\n",
    "    height=700\n",
    ")\n",
    "\n",
    "fig.show()\n"
   ]
  }
 ],
 "metadata": {
  "kernelspec": {
   "display_name": "jupyterbook",
   "language": "python",
   "name": "python3"
  },
  "language_info": {
   "codemirror_mode": {
    "name": "ipython",
    "version": 3
   },
   "file_extension": ".py",
   "mimetype": "text/x-python",
   "name": "python",
   "nbconvert_exporter": "python",
   "pygments_lexer": "ipython3",
   "version": "3.10.16"
  }
 },
 "nbformat": 4,
 "nbformat_minor": 5
}
