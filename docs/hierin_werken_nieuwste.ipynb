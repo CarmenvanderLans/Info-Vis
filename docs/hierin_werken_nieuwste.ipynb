{
 "cells": [
  {
   "cell_type": "markdown",
   "id": "f14e6fb5",
   "metadata": {},
   "source": []
  },
  {
   "cell_type": "markdown",
   "id": "f286dbd8",
   "metadata": {},
   "source": [
    "Introductie"
   ]
  },
  {
   "cell_type": "markdown",
   "id": "25a8c57b",
   "metadata": {},
   "source": [
    "P1"
   ]
  },
  {
   "cell_type": "markdown",
   "id": "9d2bf51e",
   "metadata": {},
   "source": [
    "P2"
   ]
  },
  {
   "cell_type": "markdown",
   "id": "f7cbbbc9",
   "metadata": {},
   "source": [
    "P3"
   ]
  },
  {
   "cell_type": "markdown",
   "id": "ad64c063",
   "metadata": {},
   "source": [
    "P4"
   ]
  },
  {
   "cell_type": "markdown",
   "id": "ba2fda4a",
   "metadata": {},
   "source": [
    "## De invloed van klimaat en geografie op voedselproductie\n",
    "\n",
    "Niet elk land beschikt over dezelfde natuurlijke omstandigheden om voedsel te produceren. Factoren zoals neerslag, temperatuur en klimaatzones bepalen welke gewassen efficiënt kunnen groeien. In landen met een ongunstig klimaat moeten gewassen onder intensievere en vaak minder duurzame omstandigheden worden verbouwd.\n",
    "Daarnaast speelt de geografische ligging een rol in hoe voedsel wordt verhandeld: landen die ver van exportmarkten liggen, hebben hogere transportkosten en extra uitstoot, wat hun voedselsysteem minder duurzaam maakt.\n",
    "In dit perspectief onderzoeken we hoe deze geografische factoren — natuurlijke omstandigheden en ligging ten opzichte van wereldmarkten — bijdragen aan verschillen in de duurzaamheid van nationale voedselsystemen."
   ]
  },
  {
   "cell_type": "markdown",
   "id": "efacbb89",
   "metadata": {},
   "source": [
    "### Klimaatzones en natuurlijke omstandigheden beïnvloeden duurzaamheid\n",
    "Landen verschillen sterk in klimaat. Tropische regio’s kennen bijvoorbeeld hoge temperaturen en regelmatige regenval, terwijl droge of koude gebieden kampen met beperkte groeiseizoenen en lagere landbouwopbrengsten per hectare.\n",
    "In warmere, vruchtbare klimaatzones kunnen gewassen natuurlijk groeien, met weinig extra input. In koudere of drogere gebieden zijn irrigatie, verwarming, kunstmest of import van hulpbronnen nodig om dezelfde opbrengst te halen. Deze extra inputs verhogen de uitstoot per kilogram geproduceerd voedsel.\n",
    "Daarom is het voedselsysteem in sommige landen per definitie minder duurzaam, simpelweg door hun ligging in een ongunstige klimaatzone."
   ]
  },
  {
   "cell_type": "code",
   "execution_count": 56,
   "id": "f9113f92",
   "metadata": {},
   "outputs": [
    {
     "name": "stderr",
     "output_type": "stream",
     "text": [
      "/var/folders/82/txt4_nkx0l76kq68c7g_klqc0000gn/T/ipykernel_32679/3348794567.py:6: DtypeWarning:\n",
      "\n",
      "Columns (13) have mixed types. Specify dtype option on import or set low_memory=False.\n",
      "\n"
     ]
    },
    {
     "data": {
      "application/vnd.plotly.v1+json": {
       "config": {
        "plotlyServerURL": "https://plot.ly"
       },
       "data": [
        {
         "hovertemplate": "<b>%{hovertext}</b><br><br>Country Name=%{text}<br>Year=1961<br>Neerslag (mm/jaar)=%{x}<br>Uitstoot per ton geproduceerd (Mt/ton)=%{y}<extra></extra>",
         "hovertext": [
          "Brazil"
         ],
         "legendgroup": "Brazil",
         "marker": {
          "color": "#636efa",
          "size": 14,
          "symbol": "circle"
         },
         "mode": "markers+text",
         "name": "Brazil",
         "orientation": "v",
         "showlegend": true,
         "text": [
          "Brazil"
         ],
         "textposition": "top center",
         "type": "scatter",
         "x": {
          "bdata": "AAAAAADYm0A=",
          "dtype": "f8"
         },
         "xaxis": "x",
         "y": {
          "bdata": "br/1mJSmfD4=",
          "dtype": "f8"
         },
         "yaxis": "y"
        },
        {
         "hovertemplate": "<b>%{hovertext}</b><br><br>Country Name=%{text}<br>Year=1961<br>Neerslag (mm/jaar)=%{x}<br>Uitstoot per ton geproduceerd (Mt/ton)=%{y}<extra></extra>",
         "hovertext": [
          "India"
         ],
         "legendgroup": "India",
         "marker": {
          "color": "#EF553B",
          "size": 14,
          "symbol": "circle"
         },
         "mode": "markers+text",
         "name": "India",
         "orientation": "v",
         "showlegend": true,
         "text": [
          "India"
         ],
         "textposition": "top center",
         "type": "scatter",
         "x": {
          "bdata": "AAAAAADskEA=",
          "dtype": "f8"
         },
         "xaxis": "x",
         "y": {
          "bdata": "l1UrDaB6kz4=",
          "dtype": "f8"
         },
         "yaxis": "y"
        },
        {
         "hovertemplate": "<b>%{hovertext}</b><br><br>Country Name=%{text}<br>Year=1961<br>Neerslag (mm/jaar)=%{x}<br>Uitstoot per ton geproduceerd (Mt/ton)=%{y}<extra></extra>",
         "hovertext": [
          "Indonesia"
         ],
         "legendgroup": "Indonesia",
         "marker": {
          "color": "#00cc96",
          "size": 14,
          "symbol": "circle"
         },
         "mode": "markers+text",
         "name": "Indonesia",
         "orientation": "v",
         "showlegend": true,
         "text": [
          "Indonesia"
         ],
         "textposition": "top center",
         "type": "scatter",
         "x": {
          "bdata": "AAAAAAAcpUA=",
          "dtype": "f8"
         },
         "xaxis": "x",
         "y": {
          "bdata": "lgorOjgwVT4=",
          "dtype": "f8"
         },
         "yaxis": "y"
        },
        {
         "hovertemplate": "<b>%{hovertext}</b><br><br>Country Name=%{text}<br>Year=1961<br>Neerslag (mm/jaar)=%{x}<br>Uitstoot per ton geproduceerd (Mt/ton)=%{y}<extra></extra>",
         "hovertext": [
          "Japan"
         ],
         "legendgroup": "Japan",
         "marker": {
          "color": "#ab63fa",
          "size": 14,
          "symbol": "circle"
         },
         "mode": "markers+text",
         "name": "Japan",
         "orientation": "v",
         "showlegend": true,
         "text": [
          "Japan"
         ],
         "textposition": "top center",
         "type": "scatter",
         "x": {
          "bdata": "AAAAAAAQmkA=",
          "dtype": "f8"
         },
         "xaxis": "x",
         "y": {
          "bdata": "Jc/QXvwKgT4=",
          "dtype": "f8"
         },
         "yaxis": "y"
        },
        {
         "hovertemplate": "<b>%{hovertext}</b><br><br>Country Name=%{text}<br>Year=1961<br>Neerslag (mm/jaar)=%{x}<br>Uitstoot per ton geproduceerd (Mt/ton)=%{y}<extra></extra>",
         "hovertext": [
          "Nigeria"
         ],
         "legendgroup": "Nigeria",
         "marker": {
          "color": "#FFA15A",
          "size": 14,
          "symbol": "circle"
         },
         "mode": "markers+text",
         "name": "Nigeria",
         "orientation": "v",
         "showlegend": true,
         "text": [
          "Nigeria"
         ],
         "textposition": "top center",
         "type": "scatter",
         "x": {
          "bdata": "AAAAAAD4kUA=",
          "dtype": "f8"
         },
         "xaxis": "x",
         "y": {
          "bdata": "mMWzPl6xMz4=",
          "dtype": "f8"
         },
         "yaxis": "y"
        },
        {
         "hovertemplate": "<b>%{hovertext}</b><br><br>Country Name=%{text}<br>Year=1961<br>Neerslag (mm/jaar)=%{x}<br>Uitstoot per ton geproduceerd (Mt/ton)=%{y}<extra></extra>",
         "hovertext": [
          "South Africa"
         ],
         "legendgroup": "South Africa",
         "marker": {
          "color": "#19d3f3",
          "size": 14,
          "symbol": "circle"
         },
         "mode": "markers+text",
         "name": "South Africa",
         "orientation": "v",
         "showlegend": true,
         "text": [
          "South Africa"
         ],
         "textposition": "top center",
         "type": "scatter",
         "x": {
          "bdata": "AAAAAADwfkA=",
          "dtype": "f8"
         },
         "xaxis": "x",
         "y": {
          "bdata": "j/+6cuzOlj4=",
          "dtype": "f8"
         },
         "yaxis": "y"
        },
        {
         "hovertemplate": "<b>%{hovertext}</b><br><br>Country Name=%{text}<br>Year=1961<br>Neerslag (mm/jaar)=%{x}<br>Uitstoot per ton geproduceerd (Mt/ton)=%{y}<extra></extra>",
         "hovertext": [
          "United States of America"
         ],
         "legendgroup": "United States of America",
         "marker": {
          "color": "#FF6692",
          "size": 14,
          "symbol": "circle"
         },
         "mode": "markers+text",
         "name": "United States of America",
         "orientation": "v",
         "showlegend": true,
         "text": [
          "United States of America"
         ],
         "textposition": "top center",
         "type": "scatter",
         "x": {
          "bdata": "AAAAAABYhkA=",
          "dtype": "f8"
         },
         "xaxis": "x",
         "y": {
          "bdata": "M8j08nHDnz4=",
          "dtype": "f8"
         },
         "yaxis": "y"
        }
       ],
       "frames": [
        {
         "data": [
          {
           "hovertemplate": "<b>%{hovertext}</b><br><br>Country Name=%{text}<br>Year=1961<br>Neerslag (mm/jaar)=%{x}<br>Uitstoot per ton geproduceerd (Mt/ton)=%{y}<extra></extra>",
           "hovertext": [
            "Brazil"
           ],
           "legendgroup": "Brazil",
           "marker": {
            "color": "#636efa",
            "symbol": "circle"
           },
           "mode": "markers+text",
           "name": "Brazil",
           "orientation": "v",
           "showlegend": true,
           "text": [
            "Brazil"
           ],
           "type": "scatter",
           "x": {
            "bdata": "AAAAAADYm0A=",
            "dtype": "f8"
           },
           "xaxis": "x",
           "y": {
            "bdata": "br/1mJSmfD4=",
            "dtype": "f8"
           },
           "yaxis": "y"
          },
          {
           "hovertemplate": "<b>%{hovertext}</b><br><br>Country Name=%{text}<br>Year=1961<br>Neerslag (mm/jaar)=%{x}<br>Uitstoot per ton geproduceerd (Mt/ton)=%{y}<extra></extra>",
           "hovertext": [
            "India"
           ],
           "legendgroup": "India",
           "marker": {
            "color": "#EF553B",
            "symbol": "circle"
           },
           "mode": "markers+text",
           "name": "India",
           "orientation": "v",
           "showlegend": true,
           "text": [
            "India"
           ],
           "type": "scatter",
           "x": {
            "bdata": "AAAAAADskEA=",
            "dtype": "f8"
           },
           "xaxis": "x",
           "y": {
            "bdata": "l1UrDaB6kz4=",
            "dtype": "f8"
           },
           "yaxis": "y"
          },
          {
           "hovertemplate": "<b>%{hovertext}</b><br><br>Country Name=%{text}<br>Year=1961<br>Neerslag (mm/jaar)=%{x}<br>Uitstoot per ton geproduceerd (Mt/ton)=%{y}<extra></extra>",
           "hovertext": [
            "Indonesia"
           ],
           "legendgroup": "Indonesia",
           "marker": {
            "color": "#00cc96",
            "symbol": "circle"
           },
           "mode": "markers+text",
           "name": "Indonesia",
           "orientation": "v",
           "showlegend": true,
           "text": [
            "Indonesia"
           ],
           "type": "scatter",
           "x": {
            "bdata": "AAAAAAAcpUA=",
            "dtype": "f8"
           },
           "xaxis": "x",
           "y": {
            "bdata": "lgorOjgwVT4=",
            "dtype": "f8"
           },
           "yaxis": "y"
          },
          {
           "hovertemplate": "<b>%{hovertext}</b><br><br>Country Name=%{text}<br>Year=1961<br>Neerslag (mm/jaar)=%{x}<br>Uitstoot per ton geproduceerd (Mt/ton)=%{y}<extra></extra>",
           "hovertext": [
            "Japan"
           ],
           "legendgroup": "Japan",
           "marker": {
            "color": "#ab63fa",
            "symbol": "circle"
           },
           "mode": "markers+text",
           "name": "Japan",
           "orientation": "v",
           "showlegend": true,
           "text": [
            "Japan"
           ],
           "type": "scatter",
           "x": {
            "bdata": "AAAAAAAQmkA=",
            "dtype": "f8"
           },
           "xaxis": "x",
           "y": {
            "bdata": "Jc/QXvwKgT4=",
            "dtype": "f8"
           },
           "yaxis": "y"
          },
          {
           "hovertemplate": "<b>%{hovertext}</b><br><br>Country Name=%{text}<br>Year=1961<br>Neerslag (mm/jaar)=%{x}<br>Uitstoot per ton geproduceerd (Mt/ton)=%{y}<extra></extra>",
           "hovertext": [
            "Nigeria"
           ],
           "legendgroup": "Nigeria",
           "marker": {
            "color": "#FFA15A",
            "symbol": "circle"
           },
           "mode": "markers+text",
           "name": "Nigeria",
           "orientation": "v",
           "showlegend": true,
           "text": [
            "Nigeria"
           ],
           "type": "scatter",
           "x": {
            "bdata": "AAAAAAD4kUA=",
            "dtype": "f8"
           },
           "xaxis": "x",
           "y": {
            "bdata": "mMWzPl6xMz4=",
            "dtype": "f8"
           },
           "yaxis": "y"
          },
          {
           "hovertemplate": "<b>%{hovertext}</b><br><br>Country Name=%{text}<br>Year=1961<br>Neerslag (mm/jaar)=%{x}<br>Uitstoot per ton geproduceerd (Mt/ton)=%{y}<extra></extra>",
           "hovertext": [
            "South Africa"
           ],
           "legendgroup": "South Africa",
           "marker": {
            "color": "#19d3f3",
            "symbol": "circle"
           },
           "mode": "markers+text",
           "name": "South Africa",
           "orientation": "v",
           "showlegend": true,
           "text": [
            "South Africa"
           ],
           "type": "scatter",
           "x": {
            "bdata": "AAAAAADwfkA=",
            "dtype": "f8"
           },
           "xaxis": "x",
           "y": {
            "bdata": "j/+6cuzOlj4=",
            "dtype": "f8"
           },
           "yaxis": "y"
          },
          {
           "hovertemplate": "<b>%{hovertext}</b><br><br>Country Name=%{text}<br>Year=1961<br>Neerslag (mm/jaar)=%{x}<br>Uitstoot per ton geproduceerd (Mt/ton)=%{y}<extra></extra>",
           "hovertext": [
            "United States of America"
           ],
           "legendgroup": "United States of America",
           "marker": {
            "color": "#FF6692",
            "symbol": "circle"
           },
           "mode": "markers+text",
           "name": "United States of America",
           "orientation": "v",
           "showlegend": true,
           "text": [
            "United States of America"
           ],
           "type": "scatter",
           "x": {
            "bdata": "AAAAAABYhkA=",
            "dtype": "f8"
           },
           "xaxis": "x",
           "y": {
            "bdata": "M8j08nHDnz4=",
            "dtype": "f8"
           },
           "yaxis": "y"
          }
         ],
         "name": "1961"
        },
        {
         "data": [
          {
           "hovertemplate": "<b>%{hovertext}</b><br><br>Country Name=%{text}<br>Year=1962<br>Neerslag (mm/jaar)=%{x}<br>Uitstoot per ton geproduceerd (Mt/ton)=%{y}<extra></extra>",
           "hovertext": [
            "Brazil"
           ],
           "legendgroup": "Brazil",
           "marker": {
            "color": "#636efa",
            "symbol": "circle"
           },
           "mode": "markers+text",
           "name": "Brazil",
           "orientation": "v",
           "showlegend": true,
           "text": [
            "Brazil"
           ],
           "type": "scatter",
           "x": {
            "bdata": "AAAAAACEm0A=",
            "dtype": "f8"
           },
           "xaxis": "x",
           "y": {
            "bdata": "QLobBvRvej4=",
            "dtype": "f8"
           },
           "yaxis": "y"
          },
          {
           "hovertemplate": "<b>%{hovertext}</b><br><br>Country Name=%{text}<br>Year=1962<br>Neerslag (mm/jaar)=%{x}<br>Uitstoot per ton geproduceerd (Mt/ton)=%{y}<extra></extra>",
           "hovertext": [
            "India"
           ],
           "legendgroup": "India",
           "marker": {
            "color": "#EF553B",
            "symbol": "circle"
           },
           "mode": "markers+text",
           "name": "India",
           "orientation": "v",
           "showlegend": true,
           "text": [
            "India"
           ],
           "type": "scatter",
           "x": {
            "bdata": "AAAAAADskEA=",
            "dtype": "f8"
           },
           "xaxis": "x",
           "y": {
            "bdata": "hJts/sXNlD4=",
            "dtype": "f8"
           },
           "yaxis": "y"
          },
          {
           "hovertemplate": "<b>%{hovertext}</b><br><br>Country Name=%{text}<br>Year=1962<br>Neerslag (mm/jaar)=%{x}<br>Uitstoot per ton geproduceerd (Mt/ton)=%{y}<extra></extra>",
           "hovertext": [
            "Indonesia"
           ],
           "legendgroup": "Indonesia",
           "marker": {
            "color": "#00cc96",
            "symbol": "circle"
           },
           "mode": "markers+text",
           "name": "Indonesia",
           "orientation": "v",
           "showlegend": true,
           "text": [
            "Indonesia"
           ],
           "type": "scatter",
           "x": {
            "bdata": "AAAAAAAcpUA=",
            "dtype": "f8"
           },
           "xaxis": "x",
           "y": {
            "bdata": "RyvYyy5DUz4=",
            "dtype": "f8"
           },
           "yaxis": "y"
          },
          {
           "hovertemplate": "<b>%{hovertext}</b><br><br>Country Name=%{text}<br>Year=1962<br>Neerslag (mm/jaar)=%{x}<br>Uitstoot per ton geproduceerd (Mt/ton)=%{y}<extra></extra>",
           "hovertext": [
            "Japan"
           ],
           "legendgroup": "Japan",
           "marker": {
            "color": "#ab63fa",
            "symbol": "circle"
           },
           "mode": "markers+text",
           "name": "Japan",
           "orientation": "v",
           "showlegend": true,
           "text": [
            "Japan"
           ],
           "type": "scatter",
           "x": {
            "bdata": "AAAAAAAQmkA=",
            "dtype": "f8"
           },
           "xaxis": "x",
           "y": {
            "bdata": "Tn8iK5aTgD4=",
            "dtype": "f8"
           },
           "yaxis": "y"
          },
          {
           "hovertemplate": "<b>%{hovertext}</b><br><br>Country Name=%{text}<br>Year=1962<br>Neerslag (mm/jaar)=%{x}<br>Uitstoot per ton geproduceerd (Mt/ton)=%{y}<extra></extra>",
           "hovertext": [
            "Nigeria"
           ],
           "legendgroup": "Nigeria",
           "marker": {
            "color": "#FFA15A",
            "symbol": "circle"
           },
           "mode": "markers+text",
           "name": "Nigeria",
           "orientation": "v",
           "showlegend": true,
           "text": [
            "Nigeria"
           ],
           "type": "scatter",
           "x": {
            "bdata": "AAAAAAD4kUA=",
            "dtype": "f8"
           },
           "xaxis": "x",
           "y": {
            "bdata": "937+WNK6Mz4=",
            "dtype": "f8"
           },
           "yaxis": "y"
          },
          {
           "hovertemplate": "<b>%{hovertext}</b><br><br>Country Name=%{text}<br>Year=1962<br>Neerslag (mm/jaar)=%{x}<br>Uitstoot per ton geproduceerd (Mt/ton)=%{y}<extra></extra>",
           "hovertext": [
            "South Africa"
           ],
           "legendgroup": "South Africa",
           "marker": {
            "color": "#19d3f3",
            "symbol": "circle"
           },
           "mode": "markers+text",
           "name": "South Africa",
           "orientation": "v",
           "showlegend": true,
           "text": [
            "South Africa"
           ],
           "type": "scatter",
           "x": {
            "bdata": "AAAAAADwfkA=",
            "dtype": "f8"
           },
           "xaxis": "x",
           "y": {
            "bdata": "0EPkIBR/lD4=",
            "dtype": "f8"
           },
           "yaxis": "y"
          },
          {
           "hovertemplate": "<b>%{hovertext}</b><br><br>Country Name=%{text}<br>Year=1962<br>Neerslag (mm/jaar)=%{x}<br>Uitstoot per ton geproduceerd (Mt/ton)=%{y}<extra></extra>",
           "hovertext": [
            "United States of America"
           ],
           "legendgroup": "United States of America",
           "marker": {
            "color": "#FF6692",
            "symbol": "circle"
           },
           "mode": "markers+text",
           "name": "United States of America",
           "orientation": "v",
           "showlegend": true,
           "text": [
            "United States of America"
           ],
           "type": "scatter",
           "x": {
            "bdata": "AAAAAABYhkA=",
            "dtype": "f8"
           },
           "xaxis": "x",
           "y": {
            "bdata": "1xrxfcZgmz4=",
            "dtype": "f8"
           },
           "yaxis": "y"
          }
         ],
         "name": "1962"
        },
        {
         "data": [
          {
           "hovertemplate": "<b>%{hovertext}</b><br><br>Country Name=%{text}<br>Year=1963<br>Neerslag (mm/jaar)=%{x}<br>Uitstoot per ton geproduceerd (Mt/ton)=%{y}<extra></extra>",
           "hovertext": [
            "Brazil"
           ],
           "legendgroup": "Brazil",
           "marker": {
            "color": "#636efa",
            "symbol": "circle"
           },
           "mode": "markers+text",
           "name": "Brazil",
           "orientation": "v",
           "showlegend": true,
           "text": [
            "Brazil"
           ],
           "type": "scatter",
           "x": {
            "bdata": "AAAAAADYm0A=",
            "dtype": "f8"
           },
           "xaxis": "x",
           "y": {
            "bdata": "RB1Lf0Z8ej4=",
            "dtype": "f8"
           },
           "yaxis": "y"
          },
          {
           "hovertemplate": "<b>%{hovertext}</b><br><br>Country Name=%{text}<br>Year=1963<br>Neerslag (mm/jaar)=%{x}<br>Uitstoot per ton geproduceerd (Mt/ton)=%{y}<extra></extra>",
           "hovertext": [
            "India"
           ],
           "legendgroup": "India",
           "marker": {
            "color": "#EF553B",
            "symbol": "circle"
           },
           "mode": "markers+text",
           "name": "India",
           "orientation": "v",
           "showlegend": true,
           "text": [
            "India"
           ],
           "type": "scatter",
           "x": {
            "bdata": "AAAAAADskEA=",
            "dtype": "f8"
           },
           "xaxis": "x",
           "y": {
            "bdata": "hQZHQL85lj4=",
            "dtype": "f8"
           },
           "yaxis": "y"
          },
          {
           "hovertemplate": "<b>%{hovertext}</b><br><br>Country Name=%{text}<br>Year=1963<br>Neerslag (mm/jaar)=%{x}<br>Uitstoot per ton geproduceerd (Mt/ton)=%{y}<extra></extra>",
           "hovertext": [
            "Indonesia"
           ],
           "legendgroup": "Indonesia",
           "marker": {
            "color": "#00cc96",
            "symbol": "circle"
           },
           "mode": "markers+text",
           "name": "Indonesia",
           "orientation": "v",
           "showlegend": true,
           "text": [
            "Indonesia"
           ],
           "type": "scatter",
           "x": {
            "bdata": "AAAAAAAcpUA=",
            "dtype": "f8"
           },
           "xaxis": "x",
           "y": {
            "bdata": "/qlUGsUxUz4=",
            "dtype": "f8"
           },
           "yaxis": "y"
          },
          {
           "hovertemplate": "<b>%{hovertext}</b><br><br>Country Name=%{text}<br>Year=1963<br>Neerslag (mm/jaar)=%{x}<br>Uitstoot per ton geproduceerd (Mt/ton)=%{y}<extra></extra>",
           "hovertext": [
            "Japan"
           ],
           "legendgroup": "Japan",
           "marker": {
            "color": "#ab63fa",
            "symbol": "circle"
           },
           "mode": "markers+text",
           "name": "Japan",
           "orientation": "v",
           "showlegend": true,
           "text": [
            "Japan"
           ],
           "type": "scatter",
           "x": {
            "bdata": "AAAAAAAQmkA=",
            "dtype": "f8"
           },
           "xaxis": "x",
           "y": {
            "bdata": "fZVx6X82ez4=",
            "dtype": "f8"
           },
           "yaxis": "y"
          },
          {
           "hovertemplate": "<b>%{hovertext}</b><br><br>Country Name=%{text}<br>Year=1963<br>Neerslag (mm/jaar)=%{x}<br>Uitstoot per ton geproduceerd (Mt/ton)=%{y}<extra></extra>",
           "hovertext": [
            "Nigeria"
           ],
           "legendgroup": "Nigeria",
           "marker": {
            "color": "#FFA15A",
            "symbol": "circle"
           },
           "mode": "markers+text",
           "name": "Nigeria",
           "orientation": "v",
           "showlegend": true,
           "text": [
            "Nigeria"
           ],
           "type": "scatter",
           "x": {
            "bdata": "AAAAAAD4kUA=",
            "dtype": "f8"
           },
           "xaxis": "x",
           "y": {
            "bdata": "ghzXwZ6jND4=",
            "dtype": "f8"
           },
           "yaxis": "y"
          },
          {
           "hovertemplate": "<b>%{hovertext}</b><br><br>Country Name=%{text}<br>Year=1963<br>Neerslag (mm/jaar)=%{x}<br>Uitstoot per ton geproduceerd (Mt/ton)=%{y}<extra></extra>",
           "hovertext": [
            "South Africa"
           ],
           "legendgroup": "South Africa",
           "marker": {
            "color": "#19d3f3",
            "symbol": "circle"
           },
           "mode": "markers+text",
           "name": "South Africa",
           "orientation": "v",
           "showlegend": true,
           "text": [
            "South Africa"
           ],
           "type": "scatter",
           "x": {
            "bdata": "AAAAAADwfkA=",
            "dtype": "f8"
           },
           "xaxis": "x",
           "y": {
            "bdata": "abWclDIMlj4=",
            "dtype": "f8"
           },
           "yaxis": "y"
          },
          {
           "hovertemplate": "<b>%{hovertext}</b><br><br>Country Name=%{text}<br>Year=1963<br>Neerslag (mm/jaar)=%{x}<br>Uitstoot per ton geproduceerd (Mt/ton)=%{y}<extra></extra>",
           "hovertext": [
            "United States of America"
           ],
           "legendgroup": "United States of America",
           "marker": {
            "color": "#FF6692",
            "symbol": "circle"
           },
           "mode": "markers+text",
           "name": "United States of America",
           "orientation": "v",
           "showlegend": true,
           "text": [
            "United States of America"
           ],
           "type": "scatter",
           "x": {
            "bdata": "AAAAAABYhkA=",
            "dtype": "f8"
           },
           "xaxis": "x",
           "y": {
            "bdata": "kKWbCbn5mj4=",
            "dtype": "f8"
           },
           "yaxis": "y"
          }
         ],
         "name": "1963"
        },
        {
         "data": [
          {
           "hovertemplate": "<b>%{hovertext}</b><br><br>Country Name=%{text}<br>Year=1964<br>Neerslag (mm/jaar)=%{x}<br>Uitstoot per ton geproduceerd (Mt/ton)=%{y}<extra></extra>",
           "hovertext": [
            "Brazil"
           ],
           "legendgroup": "Brazil",
           "marker": {
            "color": "#636efa",
            "symbol": "circle"
           },
           "mode": "markers+text",
           "name": "Brazil",
           "orientation": "v",
           "showlegend": true,
           "text": [
            "Brazil"
           ],
           "type": "scatter",
           "x": {
            "bdata": "AAAAAADYm0A=",
            "dtype": "f8"
           },
           "xaxis": "x",
           "y": {
            "bdata": "xe/mUJeqeT4=",
            "dtype": "f8"
           },
           "yaxis": "y"
          },
          {
           "hovertemplate": "<b>%{hovertext}</b><br><br>Country Name=%{text}<br>Year=1964<br>Neerslag (mm/jaar)=%{x}<br>Uitstoot per ton geproduceerd (Mt/ton)=%{y}<extra></extra>",
           "hovertext": [
            "India"
           ],
           "legendgroup": "India",
           "marker": {
            "color": "#EF553B",
            "symbol": "circle"
           },
           "mode": "markers+text",
           "name": "India",
           "orientation": "v",
           "showlegend": true,
           "text": [
            "India"
           ],
           "type": "scatter",
           "x": {
            "bdata": "AAAAAADskEA=",
            "dtype": "f8"
           },
           "xaxis": "x",
           "y": {
            "bdata": "bHph1944lD4=",
            "dtype": "f8"
           },
           "yaxis": "y"
          },
          {
           "hovertemplate": "<b>%{hovertext}</b><br><br>Country Name=%{text}<br>Year=1964<br>Neerslag (mm/jaar)=%{x}<br>Uitstoot per ton geproduceerd (Mt/ton)=%{y}<extra></extra>",
           "hovertext": [
            "Indonesia"
           ],
           "legendgroup": "Indonesia",
           "marker": {
            "color": "#00cc96",
            "symbol": "circle"
           },
           "mode": "markers+text",
           "name": "Indonesia",
           "orientation": "v",
           "showlegend": true,
           "text": [
            "Indonesia"
           ],
           "type": "scatter",
           "x": {
            "bdata": "AAAAAAAcpUA=",
            "dtype": "f8"
           },
           "xaxis": "x",
           "y": {
            "bdata": "ihpc+/ILVD4=",
            "dtype": "f8"
           },
           "yaxis": "y"
          },
          {
           "hovertemplate": "<b>%{hovertext}</b><br><br>Country Name=%{text}<br>Year=1964<br>Neerslag (mm/jaar)=%{x}<br>Uitstoot per ton geproduceerd (Mt/ton)=%{y}<extra></extra>",
           "hovertext": [
            "Japan"
           ],
           "legendgroup": "Japan",
           "marker": {
            "color": "#ab63fa",
            "symbol": "circle"
           },
           "mode": "markers+text",
           "name": "Japan",
           "orientation": "v",
           "showlegend": true,
           "text": [
            "Japan"
           ],
           "type": "scatter",
           "x": {
            "bdata": "AAAAAAAQmkA=",
            "dtype": "f8"
           },
           "xaxis": "x",
           "y": {
            "bdata": "kRP3pPVFez4=",
            "dtype": "f8"
           },
           "yaxis": "y"
          },
          {
           "hovertemplate": "<b>%{hovertext}</b><br><br>Country Name=%{text}<br>Year=1964<br>Neerslag (mm/jaar)=%{x}<br>Uitstoot per ton geproduceerd (Mt/ton)=%{y}<extra></extra>",
           "hovertext": [
            "Nigeria"
           ],
           "legendgroup": "Nigeria",
           "marker": {
            "color": "#FFA15A",
            "symbol": "circle"
           },
           "mode": "markers+text",
           "name": "Nigeria",
           "orientation": "v",
           "showlegend": true,
           "text": [
            "Nigeria"
           ],
           "type": "scatter",
           "x": {
            "bdata": "AAAAAAD4kUA=",
            "dtype": "f8"
           },
           "xaxis": "x",
           "y": {
            "bdata": "1nwtFzfpNz4=",
            "dtype": "f8"
           },
           "yaxis": "y"
          },
          {
           "hovertemplate": "<b>%{hovertext}</b><br><br>Country Name=%{text}<br>Year=1964<br>Neerslag (mm/jaar)=%{x}<br>Uitstoot per ton geproduceerd (Mt/ton)=%{y}<extra></extra>",
           "hovertext": [
            "South Africa"
           ],
           "legendgroup": "South Africa",
           "marker": {
            "color": "#19d3f3",
            "symbol": "circle"
           },
           "mode": "markers+text",
           "name": "South Africa",
           "orientation": "v",
           "showlegend": true,
           "text": [
            "South Africa"
           ],
           "type": "scatter",
           "x": {
            "bdata": "AAAAAADwfkA=",
            "dtype": "f8"
           },
           "xaxis": "x",
           "y": {
            "bdata": "PNU+jkPlkj4=",
            "dtype": "f8"
           },
           "yaxis": "y"
          },
          {
           "hovertemplate": "<b>%{hovertext}</b><br><br>Country Name=%{text}<br>Year=1964<br>Neerslag (mm/jaar)=%{x}<br>Uitstoot per ton geproduceerd (Mt/ton)=%{y}<extra></extra>",
           "hovertext": [
            "United States of America"
           ],
           "legendgroup": "United States of America",
           "marker": {
            "color": "#FF6692",
            "symbol": "circle"
           },
           "mode": "markers+text",
           "name": "United States of America",
           "orientation": "v",
           "showlegend": true,
           "text": [
            "United States of America"
           ],
           "type": "scatter",
           "x": {
            "bdata": "AAAAAABYhkA=",
            "dtype": "f8"
           },
           "xaxis": "x",
           "y": {
            "bdata": "T44BmRjbnT4=",
            "dtype": "f8"
           },
           "yaxis": "y"
          }
         ],
         "name": "1964"
        },
        {
         "data": [
          {
           "hovertemplate": "<b>%{hovertext}</b><br><br>Country Name=%{text}<br>Year=1965<br>Neerslag (mm/jaar)=%{x}<br>Uitstoot per ton geproduceerd (Mt/ton)=%{y}<extra></extra>",
           "hovertext": [
            "Brazil"
           ],
           "legendgroup": "Brazil",
           "marker": {
            "color": "#636efa",
            "symbol": "circle"
           },
           "mode": "markers+text",
           "name": "Brazil",
           "orientation": "v",
           "showlegend": true,
           "text": [
            "Brazil"
           ],
           "type": "scatter",
           "x": {
            "bdata": "AAAAAADYm0A=",
            "dtype": "f8"
           },
           "xaxis": "x",
           "y": {
            "bdata": "xBGu/baAeD4=",
            "dtype": "f8"
           },
           "yaxis": "y"
          },
          {
           "hovertemplate": "<b>%{hovertext}</b><br><br>Country Name=%{text}<br>Year=1965<br>Neerslag (mm/jaar)=%{x}<br>Uitstoot per ton geproduceerd (Mt/ton)=%{y}<extra></extra>",
           "hovertext": [
            "India"
           ],
           "legendgroup": "India",
           "marker": {
            "color": "#EF553B",
            "symbol": "circle"
           },
           "mode": "markers+text",
           "name": "India",
           "orientation": "v",
           "showlegend": true,
           "text": [
            "India"
           ],
           "type": "scatter",
           "x": {
            "bdata": "AAAAAADskEA=",
            "dtype": "f8"
           },
           "xaxis": "x",
           "y": {
            "bdata": "FTpwyYjakj4=",
            "dtype": "f8"
           },
           "yaxis": "y"
          },
          {
           "hovertemplate": "<b>%{hovertext}</b><br><br>Country Name=%{text}<br>Year=1965<br>Neerslag (mm/jaar)=%{x}<br>Uitstoot per ton geproduceerd (Mt/ton)=%{y}<extra></extra>",
           "hovertext": [
            "Indonesia"
           ],
           "legendgroup": "Indonesia",
           "marker": {
            "color": "#00cc96",
            "symbol": "circle"
           },
           "mode": "markers+text",
           "name": "Indonesia",
           "orientation": "v",
           "showlegend": true,
           "text": [
            "Indonesia"
           ],
           "type": "scatter",
           "x": {
            "bdata": "AAAAAAAcpUA=",
            "dtype": "f8"
           },
           "xaxis": "x",
           "y": {
            "bdata": "co94lCqfVT4=",
            "dtype": "f8"
           },
           "yaxis": "y"
          },
          {
           "hovertemplate": "<b>%{hovertext}</b><br><br>Country Name=%{text}<br>Year=1965<br>Neerslag (mm/jaar)=%{x}<br>Uitstoot per ton geproduceerd (Mt/ton)=%{y}<extra></extra>",
           "hovertext": [
            "Japan"
           ],
           "legendgroup": "Japan",
           "marker": {
            "color": "#ab63fa",
            "symbol": "circle"
           },
           "mode": "markers+text",
           "name": "Japan",
           "orientation": "v",
           "showlegend": true,
           "text": [
            "Japan"
           ],
           "type": "scatter",
           "x": {
            "bdata": "AAAAAAAQmkA=",
            "dtype": "f8"
           },
           "xaxis": "x",
           "y": {
            "bdata": "2VtW5fMHez4=",
            "dtype": "f8"
           },
           "yaxis": "y"
          },
          {
           "hovertemplate": "<b>%{hovertext}</b><br><br>Country Name=%{text}<br>Year=1965<br>Neerslag (mm/jaar)=%{x}<br>Uitstoot per ton geproduceerd (Mt/ton)=%{y}<extra></extra>",
           "hovertext": [
            "Nigeria"
           ],
           "legendgroup": "Nigeria",
           "marker": {
            "color": "#FFA15A",
            "symbol": "circle"
           },
           "mode": "markers+text",
           "name": "Nigeria",
           "orientation": "v",
           "showlegend": true,
           "text": [
            "Nigeria"
           ],
           "type": "scatter",
           "x": {
            "bdata": "AAAAAAD4kUA=",
            "dtype": "f8"
           },
           "xaxis": "x",
           "y": {
            "bdata": "cwaVSmvMNz4=",
            "dtype": "f8"
           },
           "yaxis": "y"
          },
          {
           "hovertemplate": "<b>%{hovertext}</b><br><br>Country Name=%{text}<br>Year=1965<br>Neerslag (mm/jaar)=%{x}<br>Uitstoot per ton geproduceerd (Mt/ton)=%{y}<extra></extra>",
           "hovertext": [
            "South Africa"
           ],
           "legendgroup": "South Africa",
           "marker": {
            "color": "#19d3f3",
            "symbol": "circle"
           },
           "mode": "markers+text",
           "name": "South Africa",
           "orientation": "v",
           "showlegend": true,
           "text": [
            "South Africa"
           ],
           "type": "scatter",
           "x": {
            "bdata": "AAAAAADwfkA=",
            "dtype": "f8"
           },
           "xaxis": "x",
           "y": {
            "bdata": "08q31CaYlj4=",
            "dtype": "f8"
           },
           "yaxis": "y"
          },
          {
           "hovertemplate": "<b>%{hovertext}</b><br><br>Country Name=%{text}<br>Year=1965<br>Neerslag (mm/jaar)=%{x}<br>Uitstoot per ton geproduceerd (Mt/ton)=%{y}<extra></extra>",
           "hovertext": [
            "United States of America"
           ],
           "legendgroup": "United States of America",
           "marker": {
            "color": "#FF6692",
            "symbol": "circle"
           },
           "mode": "markers+text",
           "name": "United States of America",
           "orientation": "v",
           "showlegend": true,
           "text": [
            "United States of America"
           ],
           "type": "scatter",
           "x": {
            "bdata": "AAAAAABYhkA=",
            "dtype": "f8"
           },
           "xaxis": "x",
           "y": {
            "bdata": "LICc23ubnD4=",
            "dtype": "f8"
           },
           "yaxis": "y"
          }
         ],
         "name": "1965"
        },
        {
         "data": [
          {
           "hovertemplate": "<b>%{hovertext}</b><br><br>Country Name=%{text}<br>Year=1966<br>Neerslag (mm/jaar)=%{x}<br>Uitstoot per ton geproduceerd (Mt/ton)=%{y}<extra></extra>",
           "hovertext": [
            "Brazil"
           ],
           "legendgroup": "Brazil",
           "marker": {
            "color": "#636efa",
            "symbol": "circle"
           },
           "mode": "markers+text",
           "name": "Brazil",
           "orientation": "v",
           "showlegend": true,
           "text": [
            "Brazil"
           ],
           "type": "scatter",
           "x": {
            "bdata": "AAAAAADYm0A=",
            "dtype": "f8"
           },
           "xaxis": "x",
           "y": {
            "bdata": "y0mJrHmqdz4=",
            "dtype": "f8"
           },
           "yaxis": "y"
          },
          {
           "hovertemplate": "<b>%{hovertext}</b><br><br>Country Name=%{text}<br>Year=1966<br>Neerslag (mm/jaar)=%{x}<br>Uitstoot per ton geproduceerd (Mt/ton)=%{y}<extra></extra>",
           "hovertext": [
            "India"
           ],
           "legendgroup": "India",
           "marker": {
            "color": "#EF553B",
            "symbol": "circle"
           },
           "mode": "markers+text",
           "name": "India",
           "orientation": "v",
           "showlegend": true,
           "text": [
            "India"
           ],
           "type": "scatter",
           "x": {
            "bdata": "AAAAAADskEA=",
            "dtype": "f8"
           },
           "xaxis": "x",
           "y": {
            "bdata": "zpePJp23kT4=",
            "dtype": "f8"
           },
           "yaxis": "y"
          },
          {
           "hovertemplate": "<b>%{hovertext}</b><br><br>Country Name=%{text}<br>Year=1966<br>Neerslag (mm/jaar)=%{x}<br>Uitstoot per ton geproduceerd (Mt/ton)=%{y}<extra></extra>",
           "hovertext": [
            "Indonesia"
           ],
           "legendgroup": "Indonesia",
           "marker": {
            "color": "#00cc96",
            "symbol": "circle"
           },
           "mode": "markers+text",
           "name": "Indonesia",
           "orientation": "v",
           "showlegend": true,
           "text": [
            "Indonesia"
           ],
           "type": "scatter",
           "x": {
            "bdata": "AAAAAAAcpUA=",
            "dtype": "f8"
           },
           "xaxis": "x",
           "y": {
            "bdata": "rdsh0iNCUz4=",
            "dtype": "f8"
           },
           "yaxis": "y"
          },
          {
           "hovertemplate": "<b>%{hovertext}</b><br><br>Country Name=%{text}<br>Year=1966<br>Neerslag (mm/jaar)=%{x}<br>Uitstoot per ton geproduceerd (Mt/ton)=%{y}<extra></extra>",
           "hovertext": [
            "Japan"
           ],
           "legendgroup": "Japan",
           "marker": {
            "color": "#ab63fa",
            "symbol": "circle"
           },
           "mode": "markers+text",
           "name": "Japan",
           "orientation": "v",
           "showlegend": true,
           "text": [
            "Japan"
           ],
           "type": "scatter",
           "x": {
            "bdata": "AAAAAAAQmkA=",
            "dtype": "f8"
           },
           "xaxis": "x",
           "y": {
            "bdata": "6K71GdvEeD4=",
            "dtype": "f8"
           },
           "yaxis": "y"
          },
          {
           "hovertemplate": "<b>%{hovertext}</b><br><br>Country Name=%{text}<br>Year=1966<br>Neerslag (mm/jaar)=%{x}<br>Uitstoot per ton geproduceerd (Mt/ton)=%{y}<extra></extra>",
           "hovertext": [
            "Nigeria"
           ],
           "legendgroup": "Nigeria",
           "marker": {
            "color": "#FFA15A",
            "symbol": "circle"
           },
           "mode": "markers+text",
           "name": "Nigeria",
           "orientation": "v",
           "showlegend": true,
           "text": [
            "Nigeria"
           ],
           "type": "scatter",
           "x": {
            "bdata": "AAAAAAD4kUA=",
            "dtype": "f8"
           },
           "xaxis": "x",
           "y": {
            "bdata": "zHm82B6KOT4=",
            "dtype": "f8"
           },
           "yaxis": "y"
          },
          {
           "hovertemplate": "<b>%{hovertext}</b><br><br>Country Name=%{text}<br>Year=1966<br>Neerslag (mm/jaar)=%{x}<br>Uitstoot per ton geproduceerd (Mt/ton)=%{y}<extra></extra>",
           "hovertext": [
            "South Africa"
           ],
           "legendgroup": "South Africa",
           "marker": {
            "color": "#19d3f3",
            "symbol": "circle"
           },
           "mode": "markers+text",
           "name": "South Africa",
           "orientation": "v",
           "showlegend": true,
           "text": [
            "South Africa"
           ],
           "type": "scatter",
           "x": {
            "bdata": "AAAAAADwfkA=",
            "dtype": "f8"
           },
           "xaxis": "x",
           "y": {
            "bdata": "eG1mWyk3iz4=",
            "dtype": "f8"
           },
           "yaxis": "y"
          },
          {
           "hovertemplate": "<b>%{hovertext}</b><br><br>Country Name=%{text}<br>Year=1966<br>Neerslag (mm/jaar)=%{x}<br>Uitstoot per ton geproduceerd (Mt/ton)=%{y}<extra></extra>",
           "hovertext": [
            "United States of America"
           ],
           "legendgroup": "United States of America",
           "marker": {
            "color": "#FF6692",
            "symbol": "circle"
           },
           "mode": "markers+text",
           "name": "United States of America",
           "orientation": "v",
           "showlegend": true,
           "text": [
            "United States of America"
           ],
           "type": "scatter",
           "x": {
            "bdata": "AAAAAABYhkA=",
            "dtype": "f8"
           },
           "xaxis": "x",
           "y": {
            "bdata": "Gj/R67J3nD4=",
            "dtype": "f8"
           },
           "yaxis": "y"
          }
         ],
         "name": "1966"
        },
        {
         "data": [
          {
           "hovertemplate": "<b>%{hovertext}</b><br><br>Country Name=%{text}<br>Year=1967<br>Neerslag (mm/jaar)=%{x}<br>Uitstoot per ton geproduceerd (Mt/ton)=%{y}<extra></extra>",
           "hovertext": [
            "Brazil"
           ],
           "legendgroup": "Brazil",
           "marker": {
            "color": "#636efa",
            "symbol": "circle"
           },
           "mode": "markers+text",
           "name": "Brazil",
           "orientation": "v",
           "showlegend": true,
           "text": [
            "Brazil"
           ],
           "type": "scatter",
           "x": {
            "bdata": "AAAAAACEm0A=",
            "dtype": "f8"
           },
           "xaxis": "x",
           "y": {
            "bdata": "nkZmukAleD4=",
            "dtype": "f8"
           },
           "yaxis": "y"
          },
          {
           "hovertemplate": "<b>%{hovertext}</b><br><br>Country Name=%{text}<br>Year=1967<br>Neerslag (mm/jaar)=%{x}<br>Uitstoot per ton geproduceerd (Mt/ton)=%{y}<extra></extra>",
           "hovertext": [
            "India"
           ],
           "legendgroup": "India",
           "marker": {
            "color": "#EF553B",
            "symbol": "circle"
           },
           "mode": "markers+text",
           "name": "India",
           "orientation": "v",
           "showlegend": true,
           "text": [
            "India"
           ],
           "type": "scatter",
           "x": {
            "bdata": "AAAAAADskEA=",
            "dtype": "f8"
           },
           "xaxis": "x",
           "y": {
            "bdata": "p2T0I5nAlD4=",
            "dtype": "f8"
           },
           "yaxis": "y"
          },
          {
           "hovertemplate": "<b>%{hovertext}</b><br><br>Country Name=%{text}<br>Year=1967<br>Neerslag (mm/jaar)=%{x}<br>Uitstoot per ton geproduceerd (Mt/ton)=%{y}<extra></extra>",
           "hovertext": [
            "Indonesia"
           ],
           "legendgroup": "Indonesia",
           "marker": {
            "color": "#00cc96",
            "symbol": "circle"
           },
           "mode": "markers+text",
           "name": "Indonesia",
           "orientation": "v",
           "showlegend": true,
           "text": [
            "Indonesia"
           ],
           "type": "scatter",
           "x": {
            "bdata": "AAAAAAAcpUA=",
            "dtype": "f8"
           },
           "xaxis": "x",
           "y": {
            "bdata": "tvRWPck7VT4=",
            "dtype": "f8"
           },
           "yaxis": "y"
          },
          {
           "hovertemplate": "<b>%{hovertext}</b><br><br>Country Name=%{text}<br>Year=1967<br>Neerslag (mm/jaar)=%{x}<br>Uitstoot per ton geproduceerd (Mt/ton)=%{y}<extra></extra>",
           "hovertext": [
            "Japan"
           ],
           "legendgroup": "Japan",
           "marker": {
            "color": "#ab63fa",
            "symbol": "circle"
           },
           "mode": "markers+text",
           "name": "Japan",
           "orientation": "v",
           "showlegend": true,
           "text": [
            "Japan"
           ],
           "type": "scatter",
           "x": {
            "bdata": "AAAAAAAQmkA=",
            "dtype": "f8"
           },
           "xaxis": "x",
           "y": {
            "bdata": "UbJqBO0qdj4=",
            "dtype": "f8"
           },
           "yaxis": "y"
          },
          {
           "hovertemplate": "<b>%{hovertext}</b><br><br>Country Name=%{text}<br>Year=1967<br>Neerslag (mm/jaar)=%{x}<br>Uitstoot per ton geproduceerd (Mt/ton)=%{y}<extra></extra>",
           "hovertext": [
            "Nigeria"
           ],
           "legendgroup": "Nigeria",
           "marker": {
            "color": "#FFA15A",
            "symbol": "circle"
           },
           "mode": "markers+text",
           "name": "Nigeria",
           "orientation": "v",
           "showlegend": true,
           "text": [
            "Nigeria"
           ],
           "type": "scatter",
           "x": {
            "bdata": "AAAAAAD4kUA=",
            "dtype": "f8"
           },
           "xaxis": "x",
           "y": {
            "bdata": "PxZixeZWOD4=",
            "dtype": "f8"
           },
           "yaxis": "y"
          },
          {
           "hovertemplate": "<b>%{hovertext}</b><br><br>Country Name=%{text}<br>Year=1967<br>Neerslag (mm/jaar)=%{x}<br>Uitstoot per ton geproduceerd (Mt/ton)=%{y}<extra></extra>",
           "hovertext": [
            "South Africa"
           ],
           "legendgroup": "South Africa",
           "marker": {
            "color": "#19d3f3",
            "symbol": "circle"
           },
           "mode": "markers+text",
           "name": "South Africa",
           "orientation": "v",
           "showlegend": true,
           "text": [
            "South Africa"
           ],
           "type": "scatter",
           "x": {
            "bdata": "AAAAAADwfkA=",
            "dtype": "f8"
           },
           "xaxis": "x",
           "y": {
            "bdata": "/A5Bap18ij4=",
            "dtype": "f8"
           },
           "yaxis": "y"
          },
          {
           "hovertemplate": "<b>%{hovertext}</b><br><br>Country Name=%{text}<br>Year=1967<br>Neerslag (mm/jaar)=%{x}<br>Uitstoot per ton geproduceerd (Mt/ton)=%{y}<extra></extra>",
           "hovertext": [
            "United States of America"
           ],
           "legendgroup": "United States of America",
           "marker": {
            "color": "#FF6692",
            "symbol": "circle"
           },
           "mode": "markers+text",
           "name": "United States of America",
           "orientation": "v",
           "showlegend": true,
           "text": [
            "United States of America"
           ],
           "type": "scatter",
           "x": {
            "bdata": "AAAAAABYhkA=",
            "dtype": "f8"
           },
           "xaxis": "x",
           "y": {
            "bdata": "7/uOWAt1nz4=",
            "dtype": "f8"
           },
           "yaxis": "y"
          }
         ],
         "name": "1967"
        },
        {
         "data": [
          {
           "hovertemplate": "<b>%{hovertext}</b><br><br>Country Name=%{text}<br>Year=1968<br>Neerslag (mm/jaar)=%{x}<br>Uitstoot per ton geproduceerd (Mt/ton)=%{y}<extra></extra>",
           "hovertext": [
            "Brazil"
           ],
           "legendgroup": "Brazil",
           "marker": {
            "color": "#636efa",
            "symbol": "circle"
           },
           "mode": "markers+text",
           "name": "Brazil",
           "orientation": "v",
           "showlegend": true,
           "text": [
            "Brazil"
           ],
           "type": "scatter",
           "x": {
            "bdata": "AAAAAADYm0A=",
            "dtype": "f8"
           },
           "xaxis": "x",
           "y": {
            "bdata": "gn5G8PmKeT4=",
            "dtype": "f8"
           },
           "yaxis": "y"
          },
          {
           "hovertemplate": "<b>%{hovertext}</b><br><br>Country Name=%{text}<br>Year=1968<br>Neerslag (mm/jaar)=%{x}<br>Uitstoot per ton geproduceerd (Mt/ton)=%{y}<extra></extra>",
           "hovertext": [
            "India"
           ],
           "legendgroup": "India",
           "marker": {
            "color": "#EF553B",
            "symbol": "circle"
           },
           "mode": "markers+text",
           "name": "India",
           "orientation": "v",
           "showlegend": true,
           "text": [
            "India"
           ],
           "type": "scatter",
           "x": {
            "bdata": "AAAAAADskEA=",
            "dtype": "f8"
           },
           "xaxis": "x",
           "y": {
            "bdata": "lrKkC3V9lj4=",
            "dtype": "f8"
           },
           "yaxis": "y"
          },
          {
           "hovertemplate": "<b>%{hovertext}</b><br><br>Country Name=%{text}<br>Year=1968<br>Neerslag (mm/jaar)=%{x}<br>Uitstoot per ton geproduceerd (Mt/ton)=%{y}<extra></extra>",
           "hovertext": [
            "Indonesia"
           ],
           "legendgroup": "Indonesia",
           "marker": {
            "color": "#00cc96",
            "symbol": "circle"
           },
           "mode": "markers+text",
           "name": "Indonesia",
           "orientation": "v",
           "showlegend": true,
           "text": [
            "Indonesia"
           ],
           "type": "scatter",
           "x": {
            "bdata": "AAAAAAAcpUA=",
            "dtype": "f8"
           },
           "xaxis": "x",
           "y": {
            "bdata": "dtuVDMpZVD4=",
            "dtype": "f8"
           },
           "yaxis": "y"
          },
          {
           "hovertemplate": "<b>%{hovertext}</b><br><br>Country Name=%{text}<br>Year=1968<br>Neerslag (mm/jaar)=%{x}<br>Uitstoot per ton geproduceerd (Mt/ton)=%{y}<extra></extra>",
           "hovertext": [
            "Japan"
           ],
           "legendgroup": "Japan",
           "marker": {
            "color": "#ab63fa",
            "symbol": "circle"
           },
           "mode": "markers+text",
           "name": "Japan",
           "orientation": "v",
           "showlegend": true,
           "text": [
            "Japan"
           ],
           "type": "scatter",
           "x": {
            "bdata": "AAAAAAAQmkA=",
            "dtype": "f8"
           },
           "xaxis": "x",
           "y": {
            "bdata": "n6lAfxridD4=",
            "dtype": "f8"
           },
           "yaxis": "y"
          },
          {
           "hovertemplate": "<b>%{hovertext}</b><br><br>Country Name=%{text}<br>Year=1968<br>Neerslag (mm/jaar)=%{x}<br>Uitstoot per ton geproduceerd (Mt/ton)=%{y}<extra></extra>",
           "hovertext": [
            "Nigeria"
           ],
           "legendgroup": "Nigeria",
           "marker": {
            "color": "#FFA15A",
            "symbol": "circle"
           },
           "mode": "markers+text",
           "name": "Nigeria",
           "orientation": "v",
           "showlegend": true,
           "text": [
            "Nigeria"
           ],
           "type": "scatter",
           "x": {
            "bdata": "AAAAAAD4kUA=",
            "dtype": "f8"
           },
           "xaxis": "x",
           "y": {
            "bdata": "I7Y1Ct/JNz4=",
            "dtype": "f8"
           },
           "yaxis": "y"
          },
          {
           "hovertemplate": "<b>%{hovertext}</b><br><br>Country Name=%{text}<br>Year=1968<br>Neerslag (mm/jaar)=%{x}<br>Uitstoot per ton geproduceerd (Mt/ton)=%{y}<extra></extra>",
           "hovertext": [
            "South Africa"
           ],
           "legendgroup": "South Africa",
           "marker": {
            "color": "#19d3f3",
            "symbol": "circle"
           },
           "mode": "markers+text",
           "name": "South Africa",
           "orientation": "v",
           "showlegend": true,
           "text": [
            "South Africa"
           ],
           "type": "scatter",
           "x": {
            "bdata": "AAAAAADwfkA=",
            "dtype": "f8"
           },
           "xaxis": "x",
           "y": {
            "bdata": "h4pXQo/9kj4=",
            "dtype": "f8"
           },
           "yaxis": "y"
          },
          {
           "hovertemplate": "<b>%{hovertext}</b><br><br>Country Name=%{text}<br>Year=1968<br>Neerslag (mm/jaar)=%{x}<br>Uitstoot per ton geproduceerd (Mt/ton)=%{y}<extra></extra>",
           "hovertext": [
            "United States of America"
           ],
           "legendgroup": "United States of America",
           "marker": {
            "color": "#FF6692",
            "symbol": "circle"
           },
           "mode": "markers+text",
           "name": "United States of America",
           "orientation": "v",
           "showlegend": true,
           "text": [
            "United States of America"
           ],
           "type": "scatter",
           "x": {
            "bdata": "AAAAAABYhkA=",
            "dtype": "f8"
           },
           "xaxis": "x",
           "y": {
            "bdata": "0gehSUr1nD4=",
            "dtype": "f8"
           },
           "yaxis": "y"
          }
         ],
         "name": "1968"
        },
        {
         "data": [
          {
           "hovertemplate": "<b>%{hovertext}</b><br><br>Country Name=%{text}<br>Year=1969<br>Neerslag (mm/jaar)=%{x}<br>Uitstoot per ton geproduceerd (Mt/ton)=%{y}<extra></extra>",
           "hovertext": [
            "Brazil"
           ],
           "legendgroup": "Brazil",
           "marker": {
            "color": "#636efa",
            "symbol": "circle"
           },
           "mode": "markers+text",
           "name": "Brazil",
           "orientation": "v",
           "showlegend": true,
           "text": [
            "Brazil"
           ],
           "type": "scatter",
           "x": {
            "bdata": "AAAAAADYm0A=",
            "dtype": "f8"
           },
           "xaxis": "x",
           "y": {
            "bdata": "+/JB0v0NfT4=",
            "dtype": "f8"
           },
           "yaxis": "y"
          },
          {
           "hovertemplate": "<b>%{hovertext}</b><br><br>Country Name=%{text}<br>Year=1969<br>Neerslag (mm/jaar)=%{x}<br>Uitstoot per ton geproduceerd (Mt/ton)=%{y}<extra></extra>",
           "hovertext": [
            "India"
           ],
           "legendgroup": "India",
           "marker": {
            "color": "#EF553B",
            "symbol": "circle"
           },
           "mode": "markers+text",
           "name": "India",
           "orientation": "v",
           "showlegend": true,
           "text": [
            "India"
           ],
           "type": "scatter",
           "x": {
            "bdata": "AAAAAADskEA=",
            "dtype": "f8"
           },
           "xaxis": "x",
           "y": {
            "bdata": "ej/vA+A+lD4=",
            "dtype": "f8"
           },
           "yaxis": "y"
          },
          {
           "hovertemplate": "<b>%{hovertext}</b><br><br>Country Name=%{text}<br>Year=1969<br>Neerslag (mm/jaar)=%{x}<br>Uitstoot per ton geproduceerd (Mt/ton)=%{y}<extra></extra>",
           "hovertext": [
            "Indonesia"
           ],
           "legendgroup": "Indonesia",
           "marker": {
            "color": "#00cc96",
            "symbol": "circle"
           },
           "mode": "markers+text",
           "name": "Indonesia",
           "orientation": "v",
           "showlegend": true,
           "text": [
            "Indonesia"
           ],
           "type": "scatter",
           "x": {
            "bdata": "AAAAAAAcpUA=",
            "dtype": "f8"
           },
           "xaxis": "x",
           "y": {
            "bdata": "1SRjUjEpUz4=",
            "dtype": "f8"
           },
           "yaxis": "y"
          },
          {
           "hovertemplate": "<b>%{hovertext}</b><br><br>Country Name=%{text}<br>Year=1969<br>Neerslag (mm/jaar)=%{x}<br>Uitstoot per ton geproduceerd (Mt/ton)=%{y}<extra></extra>",
           "hovertext": [
            "Japan"
           ],
           "legendgroup": "Japan",
           "marker": {
            "color": "#ab63fa",
            "symbol": "circle"
           },
           "mode": "markers+text",
           "name": "Japan",
           "orientation": "v",
           "showlegend": true,
           "text": [
            "Japan"
           ],
           "type": "scatter",
           "x": {
            "bdata": "AAAAAAAQmkA=",
            "dtype": "f8"
           },
           "xaxis": "x",
           "y": {
            "bdata": "sdoOVlsUdD4=",
            "dtype": "f8"
           },
           "yaxis": "y"
          },
          {
           "hovertemplate": "<b>%{hovertext}</b><br><br>Country Name=%{text}<br>Year=1969<br>Neerslag (mm/jaar)=%{x}<br>Uitstoot per ton geproduceerd (Mt/ton)=%{y}<extra></extra>",
           "hovertext": [
            "Nigeria"
           ],
           "legendgroup": "Nigeria",
           "marker": {
            "color": "#FFA15A",
            "symbol": "circle"
           },
           "mode": "markers+text",
           "name": "Nigeria",
           "orientation": "v",
           "showlegend": true,
           "text": [
            "Nigeria"
           ],
           "type": "scatter",
           "x": {
            "bdata": "AAAAAAD4kUA=",
            "dtype": "f8"
           },
           "xaxis": "x",
           "y": {
            "bdata": "MmPY5pKTND4=",
            "dtype": "f8"
           },
           "yaxis": "y"
          },
          {
           "hovertemplate": "<b>%{hovertext}</b><br><br>Country Name=%{text}<br>Year=1969<br>Neerslag (mm/jaar)=%{x}<br>Uitstoot per ton geproduceerd (Mt/ton)=%{y}<extra></extra>",
           "hovertext": [
            "South Africa"
           ],
           "legendgroup": "South Africa",
           "marker": {
            "color": "#19d3f3",
            "symbol": "circle"
           },
           "mode": "markers+text",
           "name": "South Africa",
           "orientation": "v",
           "showlegend": true,
           "text": [
            "South Africa"
           ],
           "type": "scatter",
           "x": {
            "bdata": "AAAAAADwfkA=",
            "dtype": "f8"
           },
           "xaxis": "x",
           "y": {
            "bdata": "PnbEZ3iUkz4=",
            "dtype": "f8"
           },
           "yaxis": "y"
          },
          {
           "hovertemplate": "<b>%{hovertext}</b><br><br>Country Name=%{text}<br>Year=1969<br>Neerslag (mm/jaar)=%{x}<br>Uitstoot per ton geproduceerd (Mt/ton)=%{y}<extra></extra>",
           "hovertext": [
            "United States of America"
           ],
           "legendgroup": "United States of America",
           "marker": {
            "color": "#FF6692",
            "symbol": "circle"
           },
           "mode": "markers+text",
           "name": "United States of America",
           "orientation": "v",
           "showlegend": true,
           "text": [
            "United States of America"
           ],
           "type": "scatter",
           "x": {
            "bdata": "AAAAAABYhkA=",
            "dtype": "f8"
           },
           "xaxis": "x",
           "y": {
            "bdata": "gugKRVCjmT4=",
            "dtype": "f8"
           },
           "yaxis": "y"
          }
         ],
         "name": "1969"
        },
        {
         "data": [
          {
           "hovertemplate": "<b>%{hovertext}</b><br><br>Country Name=%{text}<br>Year=1970<br>Neerslag (mm/jaar)=%{x}<br>Uitstoot per ton geproduceerd (Mt/ton)=%{y}<extra></extra>",
           "hovertext": [
            "Brazil"
           ],
           "legendgroup": "Brazil",
           "marker": {
            "color": "#636efa",
            "symbol": "circle"
           },
           "mode": "markers+text",
           "name": "Brazil",
           "orientation": "v",
           "showlegend": true,
           "text": [
            "Brazil"
           ],
           "type": "scatter",
           "x": {
            "bdata": "AAAAAADYm0A=",
            "dtype": "f8"
           },
           "xaxis": "x",
           "y": {
            "bdata": "FH/ddKC5fz4=",
            "dtype": "f8"
           },
           "yaxis": "y"
          },
          {
           "hovertemplate": "<b>%{hovertext}</b><br><br>Country Name=%{text}<br>Year=1970<br>Neerslag (mm/jaar)=%{x}<br>Uitstoot per ton geproduceerd (Mt/ton)=%{y}<extra></extra>",
           "hovertext": [
            "India"
           ],
           "legendgroup": "India",
           "marker": {
            "color": "#EF553B",
            "symbol": "circle"
           },
           "mode": "markers+text",
           "name": "India",
           "orientation": "v",
           "showlegend": true,
           "text": [
            "India"
           ],
           "type": "scatter",
           "x": {
            "bdata": "AAAAAADskEA=",
            "dtype": "f8"
           },
           "xaxis": "x",
           "y": {
            "bdata": "CHdwbbfvkz4=",
            "dtype": "f8"
           },
           "yaxis": "y"
          },
          {
           "hovertemplate": "<b>%{hovertext}</b><br><br>Country Name=%{text}<br>Year=1970<br>Neerslag (mm/jaar)=%{x}<br>Uitstoot per ton geproduceerd (Mt/ton)=%{y}<extra></extra>",
           "hovertext": [
            "Indonesia"
           ],
           "legendgroup": "Indonesia",
           "marker": {
            "color": "#00cc96",
            "symbol": "circle"
           },
           "mode": "markers+text",
           "name": "Indonesia",
           "orientation": "v",
           "showlegend": true,
           "text": [
            "Indonesia"
           ],
           "type": "scatter",
           "x": {
            "bdata": "AAAAAAAcpUA=",
            "dtype": "f8"
           },
           "xaxis": "x",
           "y": {
            "bdata": "CgT6/UzpUj4=",
            "dtype": "f8"
           },
           "yaxis": "y"
          },
          {
           "hovertemplate": "<b>%{hovertext}</b><br><br>Country Name=%{text}<br>Year=1970<br>Neerslag (mm/jaar)=%{x}<br>Uitstoot per ton geproduceerd (Mt/ton)=%{y}<extra></extra>",
           "hovertext": [
            "Japan"
           ],
           "legendgroup": "Japan",
           "marker": {
            "color": "#ab63fa",
            "symbol": "circle"
           },
           "mode": "markers+text",
           "name": "Japan",
           "orientation": "v",
           "showlegend": true,
           "text": [
            "Japan"
           ],
           "type": "scatter",
           "x": {
            "bdata": "AAAAAAAQmkA=",
            "dtype": "f8"
           },
           "xaxis": "x",
           "y": {
            "bdata": "yxEuIzipcD4=",
            "dtype": "f8"
           },
           "yaxis": "y"
          },
          {
           "hovertemplate": "<b>%{hovertext}</b><br><br>Country Name=%{text}<br>Year=1970<br>Neerslag (mm/jaar)=%{x}<br>Uitstoot per ton geproduceerd (Mt/ton)=%{y}<extra></extra>",
           "hovertext": [
            "Nigeria"
           ],
           "legendgroup": "Nigeria",
           "marker": {
            "color": "#FFA15A",
            "symbol": "circle"
           },
           "mode": "markers+text",
           "name": "Nigeria",
           "orientation": "v",
           "showlegend": true,
           "text": [
            "Nigeria"
           ],
           "type": "scatter",
           "x": {
            "bdata": "AAAAAAD4kUA=",
            "dtype": "f8"
           },
           "xaxis": "x",
           "y": {
            "bdata": "2f0HCyuRMj4=",
            "dtype": "f8"
           },
           "yaxis": "y"
          },
          {
           "hovertemplate": "<b>%{hovertext}</b><br><br>Country Name=%{text}<br>Year=1970<br>Neerslag (mm/jaar)=%{x}<br>Uitstoot per ton geproduceerd (Mt/ton)=%{y}<extra></extra>",
           "hovertext": [
            "South Africa"
           ],
           "legendgroup": "South Africa",
           "marker": {
            "color": "#19d3f3",
            "symbol": "circle"
           },
           "mode": "markers+text",
           "name": "South Africa",
           "orientation": "v",
           "showlegend": true,
           "text": [
            "South Africa"
           ],
           "type": "scatter",
           "x": {
            "bdata": "AAAAAADwfkA=",
            "dtype": "f8"
           },
           "xaxis": "x",
           "y": {
            "bdata": "+HqqOsTplj4=",
            "dtype": "f8"
           },
           "yaxis": "y"
          },
          {
           "hovertemplate": "<b>%{hovertext}</b><br><br>Country Name=%{text}<br>Year=1970<br>Neerslag (mm/jaar)=%{x}<br>Uitstoot per ton geproduceerd (Mt/ton)=%{y}<extra></extra>",
           "hovertext": [
            "United States of America"
           ],
           "legendgroup": "United States of America",
           "marker": {
            "color": "#FF6692",
            "symbol": "circle"
           },
           "mode": "markers+text",
           "name": "United States of America",
           "orientation": "v",
           "showlegend": true,
           "text": [
            "United States of America"
           ],
           "type": "scatter",
           "x": {
            "bdata": "AAAAAABYhkA=",
            "dtype": "f8"
           },
           "xaxis": "x",
           "y": {
            "bdata": "+hmdyUOomD4=",
            "dtype": "f8"
           },
           "yaxis": "y"
          }
         ],
         "name": "1970"
        },
        {
         "data": [
          {
           "hovertemplate": "<b>%{hovertext}</b><br><br>Country Name=%{text}<br>Year=1971<br>Neerslag (mm/jaar)=%{x}<br>Uitstoot per ton geproduceerd (Mt/ton)=%{y}<extra></extra>",
           "hovertext": [
            "Brazil"
           ],
           "legendgroup": "Brazil",
           "marker": {
            "color": "#636efa",
            "symbol": "circle"
           },
           "mode": "markers+text",
           "name": "Brazil",
           "orientation": "v",
           "showlegend": true,
           "text": [
            "Brazil"
           ],
           "type": "scatter",
           "x": {
            "bdata": "AAAAAADYm0A=",
            "dtype": "f8"
           },
           "xaxis": "x",
           "y": {
            "bdata": "urJV8aG+gD4=",
            "dtype": "f8"
           },
           "yaxis": "y"
          },
          {
           "hovertemplate": "<b>%{hovertext}</b><br><br>Country Name=%{text}<br>Year=1971<br>Neerslag (mm/jaar)=%{x}<br>Uitstoot per ton geproduceerd (Mt/ton)=%{y}<extra></extra>",
           "hovertext": [
            "India"
           ],
           "legendgroup": "India",
           "marker": {
            "color": "#EF553B",
            "symbol": "circle"
           },
           "mode": "markers+text",
           "name": "India",
           "orientation": "v",
           "showlegend": true,
           "text": [
            "India"
           ],
           "type": "scatter",
           "x": {
            "bdata": "AAAAAADskEA=",
            "dtype": "f8"
           },
           "xaxis": "x",
           "y": {
            "bdata": "dVSj+qxqlj4=",
            "dtype": "f8"
           },
           "yaxis": "y"
          },
          {
           "hovertemplate": "<b>%{hovertext}</b><br><br>Country Name=%{text}<br>Year=1971<br>Neerslag (mm/jaar)=%{x}<br>Uitstoot per ton geproduceerd (Mt/ton)=%{y}<extra></extra>",
           "hovertext": [
            "Indonesia"
           ],
           "legendgroup": "Indonesia",
           "marker": {
            "color": "#00cc96",
            "symbol": "circle"
           },
           "mode": "markers+text",
           "name": "Indonesia",
           "orientation": "v",
           "showlegend": true,
           "text": [
            "Indonesia"
           ],
           "type": "scatter",
           "x": {
            "bdata": "AAAAAAAcpUA=",
            "dtype": "f8"
           },
           "xaxis": "x",
           "y": {
            "bdata": "6ZNzshrYUT4=",
            "dtype": "f8"
           },
           "yaxis": "y"
          },
          {
           "hovertemplate": "<b>%{hovertext}</b><br><br>Country Name=%{text}<br>Year=1971<br>Neerslag (mm/jaar)=%{x}<br>Uitstoot per ton geproduceerd (Mt/ton)=%{y}<extra></extra>",
           "hovertext": [
            "Japan"
           ],
           "legendgroup": "Japan",
           "marker": {
            "color": "#ab63fa",
            "symbol": "circle"
           },
           "mode": "markers+text",
           "name": "Japan",
           "orientation": "v",
           "showlegend": true,
           "text": [
            "Japan"
           ],
           "type": "scatter",
           "x": {
            "bdata": "AAAAAAAQmkA=",
            "dtype": "f8"
           },
           "xaxis": "x",
           "y": {
            "bdata": "nq4d9QAcbj4=",
            "dtype": "f8"
           },
           "yaxis": "y"
          },
          {
           "hovertemplate": "<b>%{hovertext}</b><br><br>Country Name=%{text}<br>Year=1971<br>Neerslag (mm/jaar)=%{x}<br>Uitstoot per ton geproduceerd (Mt/ton)=%{y}<extra></extra>",
           "hovertext": [
            "Nigeria"
           ],
           "legendgroup": "Nigeria",
           "marker": {
            "color": "#FFA15A",
            "symbol": "circle"
           },
           "mode": "markers+text",
           "name": "Nigeria",
           "orientation": "v",
           "showlegend": true,
           "text": [
            "Nigeria"
           ],
           "type": "scatter",
           "x": {
            "bdata": "AAAAAAD4kUA=",
            "dtype": "f8"
           },
           "xaxis": "x",
           "y": {
            "bdata": "KoQk/IGKNj4=",
            "dtype": "f8"
           },
           "yaxis": "y"
          },
          {
           "hovertemplate": "<b>%{hovertext}</b><br><br>Country Name=%{text}<br>Year=1971<br>Neerslag (mm/jaar)=%{x}<br>Uitstoot per ton geproduceerd (Mt/ton)=%{y}<extra></extra>",
           "hovertext": [
            "South Africa"
           ],
           "legendgroup": "South Africa",
           "marker": {
            "color": "#19d3f3",
            "symbol": "circle"
           },
           "mode": "markers+text",
           "name": "South Africa",
           "orientation": "v",
           "showlegend": true,
           "text": [
            "South Africa"
           ],
           "type": "scatter",
           "x": {
            "bdata": "AAAAAADwfkA=",
            "dtype": "f8"
           },
           "xaxis": "x",
           "y": {
            "bdata": "GZEz3bq2kj4=",
            "dtype": "f8"
           },
           "yaxis": "y"
          },
          {
           "hovertemplate": "<b>%{hovertext}</b><br><br>Country Name=%{text}<br>Year=1971<br>Neerslag (mm/jaar)=%{x}<br>Uitstoot per ton geproduceerd (Mt/ton)=%{y}<extra></extra>",
           "hovertext": [
            "United States of America"
           ],
           "legendgroup": "United States of America",
           "marker": {
            "color": "#FF6692",
            "symbol": "circle"
           },
           "mode": "markers+text",
           "name": "United States of America",
           "orientation": "v",
           "showlegend": true,
           "text": [
            "United States of America"
           ],
           "type": "scatter",
           "x": {
            "bdata": "AAAAAABYhkA=",
            "dtype": "f8"
           },
           "xaxis": "x",
           "y": {
            "bdata": "XSJEZzRCmT4=",
            "dtype": "f8"
           },
           "yaxis": "y"
          }
         ],
         "name": "1971"
        },
        {
         "data": [
          {
           "hovertemplate": "<b>%{hovertext}</b><br><br>Country Name=%{text}<br>Year=1972<br>Neerslag (mm/jaar)=%{x}<br>Uitstoot per ton geproduceerd (Mt/ton)=%{y}<extra></extra>",
           "hovertext": [
            "Brazil"
           ],
           "legendgroup": "Brazil",
           "marker": {
            "color": "#636efa",
            "symbol": "circle"
           },
           "mode": "markers+text",
           "name": "Brazil",
           "orientation": "v",
           "showlegend": true,
           "text": [
            "Brazil"
           ],
           "type": "scatter",
           "x": {
            "bdata": "AAAAAACEm0A=",
            "dtype": "f8"
           },
           "xaxis": "x",
           "y": {
            "bdata": "H2XfeqK0fz4=",
            "dtype": "f8"
           },
           "yaxis": "y"
          },
          {
           "hovertemplate": "<b>%{hovertext}</b><br><br>Country Name=%{text}<br>Year=1972<br>Neerslag (mm/jaar)=%{x}<br>Uitstoot per ton geproduceerd (Mt/ton)=%{y}<extra></extra>",
           "hovertext": [
            "India"
           ],
           "legendgroup": "India",
           "marker": {
            "color": "#EF553B",
            "symbol": "circle"
           },
           "mode": "markers+text",
           "name": "India",
           "orientation": "v",
           "showlegend": true,
           "text": [
            "India"
           ],
           "type": "scatter",
           "x": {
            "bdata": "AAAAAADskEA=",
            "dtype": "f8"
           },
           "xaxis": "x",
           "y": {
            "bdata": "PDDjGxkPmT4=",
            "dtype": "f8"
           },
           "yaxis": "y"
          },
          {
           "hovertemplate": "<b>%{hovertext}</b><br><br>Country Name=%{text}<br>Year=1972<br>Neerslag (mm/jaar)=%{x}<br>Uitstoot per ton geproduceerd (Mt/ton)=%{y}<extra></extra>",
           "hovertext": [
            "Indonesia"
           ],
           "legendgroup": "Indonesia",
           "marker": {
            "color": "#00cc96",
            "symbol": "circle"
           },
           "mode": "markers+text",
           "name": "Indonesia",
           "orientation": "v",
           "showlegend": true,
           "text": [
            "Indonesia"
           ],
           "type": "scatter",
           "x": {
            "bdata": "AAAAAAAcpUA=",
            "dtype": "f8"
           },
           "xaxis": "x",
           "y": {
            "bdata": "nAIDodAwUj4=",
            "dtype": "f8"
           },
           "yaxis": "y"
          },
          {
           "hovertemplate": "<b>%{hovertext}</b><br><br>Country Name=%{text}<br>Year=1972<br>Neerslag (mm/jaar)=%{x}<br>Uitstoot per ton geproduceerd (Mt/ton)=%{y}<extra></extra>",
           "hovertext": [
            "Japan"
           ],
           "legendgroup": "Japan",
           "marker": {
            "color": "#ab63fa",
            "symbol": "circle"
           },
           "mode": "markers+text",
           "name": "Japan",
           "orientation": "v",
           "showlegend": true,
           "text": [
            "Japan"
           ],
           "type": "scatter",
           "x": {
            "bdata": "AAAAAAAQmkA=",
            "dtype": "f8"
           },
           "xaxis": "x",
           "y": {
            "bdata": "OFqETx5UZz4=",
            "dtype": "f8"
           },
           "yaxis": "y"
          },
          {
           "hovertemplate": "<b>%{hovertext}</b><br><br>Country Name=%{text}<br>Year=1972<br>Neerslag (mm/jaar)=%{x}<br>Uitstoot per ton geproduceerd (Mt/ton)=%{y}<extra></extra>",
           "hovertext": [
            "Nigeria"
           ],
           "legendgroup": "Nigeria",
           "marker": {
            "color": "#FFA15A",
            "symbol": "circle"
           },
           "mode": "markers+text",
           "name": "Nigeria",
           "orientation": "v",
           "showlegend": true,
           "text": [
            "Nigeria"
           ],
           "type": "scatter",
           "x": {
            "bdata": "AAAAAAD4kUA=",
            "dtype": "f8"
           },
           "xaxis": "x",
           "y": {
            "bdata": "4jtlKPfTPj4=",
            "dtype": "f8"
           },
           "yaxis": "y"
          },
          {
           "hovertemplate": "<b>%{hovertext}</b><br><br>Country Name=%{text}<br>Year=1972<br>Neerslag (mm/jaar)=%{x}<br>Uitstoot per ton geproduceerd (Mt/ton)=%{y}<extra></extra>",
           "hovertext": [
            "South Africa"
           ],
           "legendgroup": "South Africa",
           "marker": {
            "color": "#19d3f3",
            "symbol": "circle"
           },
           "mode": "markers+text",
           "name": "South Africa",
           "orientation": "v",
           "showlegend": true,
           "text": [
            "South Africa"
           ],
           "type": "scatter",
           "x": {
            "bdata": "AAAAAADwfkA=",
            "dtype": "f8"
           },
           "xaxis": "x",
           "y": {
            "bdata": "hreLGYl0kj4=",
            "dtype": "f8"
           },
           "yaxis": "y"
          },
          {
           "hovertemplate": "<b>%{hovertext}</b><br><br>Country Name=%{text}<br>Year=1972<br>Neerslag (mm/jaar)=%{x}<br>Uitstoot per ton geproduceerd (Mt/ton)=%{y}<extra></extra>",
           "hovertext": [
            "United States of America"
           ],
           "legendgroup": "United States of America",
           "marker": {
            "color": "#FF6692",
            "symbol": "circle"
           },
           "mode": "markers+text",
           "name": "United States of America",
           "orientation": "v",
           "showlegend": true,
           "text": [
            "United States of America"
           ],
           "type": "scatter",
           "x": {
            "bdata": "AAAAAABYhkA=",
            "dtype": "f8"
           },
           "xaxis": "x",
           "y": {
            "bdata": "O4hox2htmT4=",
            "dtype": "f8"
           },
           "yaxis": "y"
          }
         ],
         "name": "1972"
        },
        {
         "data": [
          {
           "hovertemplate": "<b>%{hovertext}</b><br><br>Country Name=%{text}<br>Year=1973<br>Neerslag (mm/jaar)=%{x}<br>Uitstoot per ton geproduceerd (Mt/ton)=%{y}<extra></extra>",
           "hovertext": [
            "Brazil"
           ],
           "legendgroup": "Brazil",
           "marker": {
            "color": "#636efa",
            "symbol": "circle"
           },
           "mode": "markers+text",
           "name": "Brazil",
           "orientation": "v",
           "showlegend": true,
           "text": [
            "Brazil"
           ],
           "type": "scatter",
           "x": {
            "bdata": "AAAAAADYm0A=",
            "dtype": "f8"
           },
           "xaxis": "x",
           "y": {
            "bdata": "CAQpF9D1fT4=",
            "dtype": "f8"
           },
           "yaxis": "y"
          },
          {
           "hovertemplate": "<b>%{hovertext}</b><br><br>Country Name=%{text}<br>Year=1973<br>Neerslag (mm/jaar)=%{x}<br>Uitstoot per ton geproduceerd (Mt/ton)=%{y}<extra></extra>",
           "hovertext": [
            "India"
           ],
           "legendgroup": "India",
           "marker": {
            "color": "#EF553B",
            "symbol": "circle"
           },
           "mode": "markers+text",
           "name": "India",
           "orientation": "v",
           "showlegend": true,
           "text": [
            "India"
           ],
           "type": "scatter",
           "x": {
            "bdata": "AAAAAADskEA=",
            "dtype": "f8"
           },
           "xaxis": "x",
           "y": {
            "bdata": "m9/6IB4Jlz4=",
            "dtype": "f8"
           },
           "yaxis": "y"
          },
          {
           "hovertemplate": "<b>%{hovertext}</b><br><br>Country Name=%{text}<br>Year=1973<br>Neerslag (mm/jaar)=%{x}<br>Uitstoot per ton geproduceerd (Mt/ton)=%{y}<extra></extra>",
           "hovertext": [
            "Indonesia"
           ],
           "legendgroup": "Indonesia",
           "marker": {
            "color": "#00cc96",
            "symbol": "circle"
           },
           "mode": "markers+text",
           "name": "Indonesia",
           "orientation": "v",
           "showlegend": true,
           "text": [
            "Indonesia"
           ],
           "type": "scatter",
           "x": {
            "bdata": "AAAAAAAcpUA=",
            "dtype": "f8"
           },
           "xaxis": "x",
           "y": {
            "bdata": "qllCtUjXVD4=",
            "dtype": "f8"
           },
           "yaxis": "y"
          },
          {
           "hovertemplate": "<b>%{hovertext}</b><br><br>Country Name=%{text}<br>Year=1973<br>Neerslag (mm/jaar)=%{x}<br>Uitstoot per ton geproduceerd (Mt/ton)=%{y}<extra></extra>",
           "hovertext": [
            "Japan"
           ],
           "legendgroup": "Japan",
           "marker": {
            "color": "#ab63fa",
            "symbol": "circle"
           },
           "mode": "markers+text",
           "name": "Japan",
           "orientation": "v",
           "showlegend": true,
           "text": [
            "Japan"
           ],
           "type": "scatter",
           "x": {
            "bdata": "AAAAAAAQmkA=",
            "dtype": "f8"
           },
           "xaxis": "x",
           "y": {
            "bdata": "qZzDda5gYz4=",
            "dtype": "f8"
           },
           "yaxis": "y"
          },
          {
           "hovertemplate": "<b>%{hovertext}</b><br><br>Country Name=%{text}<br>Year=1973<br>Neerslag (mm/jaar)=%{x}<br>Uitstoot per ton geproduceerd (Mt/ton)=%{y}<extra></extra>",
           "hovertext": [
            "Nigeria"
           ],
           "legendgroup": "Nigeria",
           "marker": {
            "color": "#FFA15A",
            "symbol": "circle"
           },
           "mode": "markers+text",
           "name": "Nigeria",
           "orientation": "v",
           "showlegend": true,
           "text": [
            "Nigeria"
           ],
           "type": "scatter",
           "x": {
            "bdata": "AAAAAAD4kUA=",
            "dtype": "f8"
           },
           "xaxis": "x",
           "y": {
            "bdata": "yzm8tDXTOD4=",
            "dtype": "f8"
           },
           "yaxis": "y"
          },
          {
           "hovertemplate": "<b>%{hovertext}</b><br><br>Country Name=%{text}<br>Year=1973<br>Neerslag (mm/jaar)=%{x}<br>Uitstoot per ton geproduceerd (Mt/ton)=%{y}<extra></extra>",
           "hovertext": [
            "South Africa"
           ],
           "legendgroup": "South Africa",
           "marker": {
            "color": "#19d3f3",
            "symbol": "circle"
           },
           "mode": "markers+text",
           "name": "South Africa",
           "orientation": "v",
           "showlegend": true,
           "text": [
            "South Africa"
           ],
           "type": "scatter",
           "x": {
            "bdata": "AAAAAADwfkA=",
            "dtype": "f8"
           },
           "xaxis": "x",
           "y": {
            "bdata": "G1rNcb4UlD4=",
            "dtype": "f8"
           },
           "yaxis": "y"
          },
          {
           "hovertemplate": "<b>%{hovertext}</b><br><br>Country Name=%{text}<br>Year=1973<br>Neerslag (mm/jaar)=%{x}<br>Uitstoot per ton geproduceerd (Mt/ton)=%{y}<extra></extra>",
           "hovertext": [
            "United States of America"
           ],
           "legendgroup": "United States of America",
           "marker": {
            "color": "#FF6692",
            "symbol": "circle"
           },
           "mode": "markers+text",
           "name": "United States of America",
           "orientation": "v",
           "showlegend": true,
           "text": [
            "United States of America"
           ],
           "type": "scatter",
           "x": {
            "bdata": "AAAAAABYhkA=",
            "dtype": "f8"
           },
           "xaxis": "x",
           "y": {
            "bdata": "1rj9HD4AnD4=",
            "dtype": "f8"
           },
           "yaxis": "y"
          }
         ],
         "name": "1973"
        },
        {
         "data": [
          {
           "hovertemplate": "<b>%{hovertext}</b><br><br>Country Name=%{text}<br>Year=1974<br>Neerslag (mm/jaar)=%{x}<br>Uitstoot per ton geproduceerd (Mt/ton)=%{y}<extra></extra>",
           "hovertext": [
            "Brazil"
           ],
           "legendgroup": "Brazil",
           "marker": {
            "color": "#636efa",
            "symbol": "circle"
           },
           "mode": "markers+text",
           "name": "Brazil",
           "orientation": "v",
           "showlegend": true,
           "text": [
            "Brazil"
           ],
           "type": "scatter",
           "x": {
            "bdata": "AAAAAADYm0A=",
            "dtype": "f8"
           },
           "xaxis": "x",
           "y": {
            "bdata": "HMZCY+6ogD4=",
            "dtype": "f8"
           },
           "yaxis": "y"
          },
          {
           "hovertemplate": "<b>%{hovertext}</b><br><br>Country Name=%{text}<br>Year=1974<br>Neerslag (mm/jaar)=%{x}<br>Uitstoot per ton geproduceerd (Mt/ton)=%{y}<extra></extra>",
           "hovertext": [
            "India"
           ],
           "legendgroup": "India",
           "marker": {
            "color": "#EF553B",
            "symbol": "circle"
           },
           "mode": "markers+text",
           "name": "India",
           "orientation": "v",
           "showlegend": true,
           "text": [
            "India"
           ],
           "type": "scatter",
           "x": {
            "bdata": "AAAAAADskEA=",
            "dtype": "f8"
           },
           "xaxis": "x",
           "y": {
            "bdata": "dmxljH8elT4=",
            "dtype": "f8"
           },
           "yaxis": "y"
          },
          {
           "hovertemplate": "<b>%{hovertext}</b><br><br>Country Name=%{text}<br>Year=1974<br>Neerslag (mm/jaar)=%{x}<br>Uitstoot per ton geproduceerd (Mt/ton)=%{y}<extra></extra>",
           "hovertext": [
            "Indonesia"
           ],
           "legendgroup": "Indonesia",
           "marker": {
            "color": "#00cc96",
            "symbol": "circle"
           },
           "mode": "markers+text",
           "name": "Indonesia",
           "orientation": "v",
           "showlegend": true,
           "text": [
            "Indonesia"
           ],
           "type": "scatter",
           "x": {
            "bdata": "AAAAAAAcpUA=",
            "dtype": "f8"
           },
           "xaxis": "x",
           "y": {
            "bdata": "PuY2rRTUUj4=",
            "dtype": "f8"
           },
           "yaxis": "y"
          },
          {
           "hovertemplate": "<b>%{hovertext}</b><br><br>Country Name=%{text}<br>Year=1974<br>Neerslag (mm/jaar)=%{x}<br>Uitstoot per ton geproduceerd (Mt/ton)=%{y}<extra></extra>",
           "hovertext": [
            "Japan"
           ],
           "legendgroup": "Japan",
           "marker": {
            "color": "#ab63fa",
            "symbol": "circle"
           },
           "mode": "markers+text",
           "name": "Japan",
           "orientation": "v",
           "showlegend": true,
           "text": [
            "Japan"
           ],
           "type": "scatter",
           "x": {
            "bdata": "AAAAAAAQmkA=",
            "dtype": "f8"
           },
           "xaxis": "x",
           "y": {
            "bdata": "ySXxIF2eZj4=",
            "dtype": "f8"
           },
           "yaxis": "y"
          },
          {
           "hovertemplate": "<b>%{hovertext}</b><br><br>Country Name=%{text}<br>Year=1974<br>Neerslag (mm/jaar)=%{x}<br>Uitstoot per ton geproduceerd (Mt/ton)=%{y}<extra></extra>",
           "hovertext": [
            "Nigeria"
           ],
           "legendgroup": "Nigeria",
           "marker": {
            "color": "#FFA15A",
            "symbol": "circle"
           },
           "mode": "markers+text",
           "name": "Nigeria",
           "orientation": "v",
           "showlegend": true,
           "text": [
            "Nigeria"
           ],
           "type": "scatter",
           "x": {
            "bdata": "AAAAAAD4kUA=",
            "dtype": "f8"
           },
           "xaxis": "x",
           "y": {
            "bdata": "s0anmDlJNz4=",
            "dtype": "f8"
           },
           "yaxis": "y"
          },
          {
           "hovertemplate": "<b>%{hovertext}</b><br><br>Country Name=%{text}<br>Year=1974<br>Neerslag (mm/jaar)=%{x}<br>Uitstoot per ton geproduceerd (Mt/ton)=%{y}<extra></extra>",
           "hovertext": [
            "South Africa"
           ],
           "legendgroup": "South Africa",
           "marker": {
            "color": "#19d3f3",
            "symbol": "circle"
           },
           "mode": "markers+text",
           "name": "South Africa",
           "orientation": "v",
           "showlegend": true,
           "text": [
            "South Africa"
           ],
           "type": "scatter",
           "x": {
            "bdata": "AAAAAADwfkA=",
            "dtype": "f8"
           },
           "xaxis": "x",
           "y": {
            "bdata": "rfQ7tBkZkT4=",
            "dtype": "f8"
           },
           "yaxis": "y"
          },
          {
           "hovertemplate": "<b>%{hovertext}</b><br><br>Country Name=%{text}<br>Year=1974<br>Neerslag (mm/jaar)=%{x}<br>Uitstoot per ton geproduceerd (Mt/ton)=%{y}<extra></extra>",
           "hovertext": [
            "United States of America"
           ],
           "legendgroup": "United States of America",
           "marker": {
            "color": "#FF6692",
            "symbol": "circle"
           },
           "mode": "markers+text",
           "name": "United States of America",
           "orientation": "v",
           "showlegend": true,
           "text": [
            "United States of America"
           ],
           "type": "scatter",
           "x": {
            "bdata": "AAAAAABYhkA=",
            "dtype": "f8"
           },
           "xaxis": "x",
           "y": {
            "bdata": "PqZO5LcWoT4=",
            "dtype": "f8"
           },
           "yaxis": "y"
          }
         ],
         "name": "1974"
        },
        {
         "data": [
          {
           "hovertemplate": "<b>%{hovertext}</b><br><br>Country Name=%{text}<br>Year=1975<br>Neerslag (mm/jaar)=%{x}<br>Uitstoot per ton geproduceerd (Mt/ton)=%{y}<extra></extra>",
           "hovertext": [
            "Brazil"
           ],
           "legendgroup": "Brazil",
           "marker": {
            "color": "#636efa",
            "symbol": "circle"
           },
           "mode": "markers+text",
           "name": "Brazil",
           "orientation": "v",
           "showlegend": true,
           "text": [
            "Brazil"
           ],
           "type": "scatter",
           "x": {
            "bdata": "AAAAAADYm0A=",
            "dtype": "f8"
           },
           "xaxis": "x",
           "y": {
            "bdata": "1KJGoKW2gT4=",
            "dtype": "f8"
           },
           "yaxis": "y"
          },
          {
           "hovertemplate": "<b>%{hovertext}</b><br><br>Country Name=%{text}<br>Year=1975<br>Neerslag (mm/jaar)=%{x}<br>Uitstoot per ton geproduceerd (Mt/ton)=%{y}<extra></extra>",
           "hovertext": [
            "India"
           ],
           "legendgroup": "India",
           "marker": {
            "color": "#EF553B",
            "symbol": "circle"
           },
           "mode": "markers+text",
           "name": "India",
           "orientation": "v",
           "showlegend": true,
           "text": [
            "India"
           ],
           "type": "scatter",
           "x": {
            "bdata": "AAAAAADskEA=",
            "dtype": "f8"
           },
           "xaxis": "x",
           "y": {
            "bdata": "XznQaFEWlD4=",
            "dtype": "f8"
           },
           "yaxis": "y"
          },
          {
           "hovertemplate": "<b>%{hovertext}</b><br><br>Country Name=%{text}<br>Year=1975<br>Neerslag (mm/jaar)=%{x}<br>Uitstoot per ton geproduceerd (Mt/ton)=%{y}<extra></extra>",
           "hovertext": [
            "Indonesia"
           ],
           "legendgroup": "Indonesia",
           "marker": {
            "color": "#00cc96",
            "symbol": "circle"
           },
           "mode": "markers+text",
           "name": "Indonesia",
           "orientation": "v",
           "showlegend": true,
           "text": [
            "Indonesia"
           ],
           "type": "scatter",
           "x": {
            "bdata": "AAAAAAAcpUA=",
            "dtype": "f8"
           },
           "xaxis": "x",
           "y": {
            "bdata": "Hw5w5dNeVj4=",
            "dtype": "f8"
           },
           "yaxis": "y"
          },
          {
           "hovertemplate": "<b>%{hovertext}</b><br><br>Country Name=%{text}<br>Year=1975<br>Neerslag (mm/jaar)=%{x}<br>Uitstoot per ton geproduceerd (Mt/ton)=%{y}<extra></extra>",
           "hovertext": [
            "Japan"
           ],
           "legendgroup": "Japan",
           "marker": {
            "color": "#ab63fa",
            "symbol": "circle"
           },
           "mode": "markers+text",
           "name": "Japan",
           "orientation": "v",
           "showlegend": true,
           "text": [
            "Japan"
           ],
           "type": "scatter",
           "x": {
            "bdata": "AAAAAAAQmkA=",
            "dtype": "f8"
           },
           "xaxis": "x",
           "y": {
            "bdata": "MYVjLhzQZj4=",
            "dtype": "f8"
           },
           "yaxis": "y"
          },
          {
           "hovertemplate": "<b>%{hovertext}</b><br><br>Country Name=%{text}<br>Year=1975<br>Neerslag (mm/jaar)=%{x}<br>Uitstoot per ton geproduceerd (Mt/ton)=%{y}<extra></extra>",
           "hovertext": [
            "Nigeria"
           ],
           "legendgroup": "Nigeria",
           "marker": {
            "color": "#FFA15A",
            "symbol": "circle"
           },
           "mode": "markers+text",
           "name": "Nigeria",
           "orientation": "v",
           "showlegend": true,
           "text": [
            "Nigeria"
           ],
           "type": "scatter",
           "x": {
            "bdata": "AAAAAAD4kUA=",
            "dtype": "f8"
           },
           "xaxis": "x",
           "y": {
            "bdata": "UnhG0NHJOD4=",
            "dtype": "f8"
           },
           "yaxis": "y"
          },
          {
           "hovertemplate": "<b>%{hovertext}</b><br><br>Country Name=%{text}<br>Year=1975<br>Neerslag (mm/jaar)=%{x}<br>Uitstoot per ton geproduceerd (Mt/ton)=%{y}<extra></extra>",
           "hovertext": [
            "South Africa"
           ],
           "legendgroup": "South Africa",
           "marker": {
            "color": "#19d3f3",
            "symbol": "circle"
           },
           "mode": "markers+text",
           "name": "South Africa",
           "orientation": "v",
           "showlegend": true,
           "text": [
            "South Africa"
           ],
           "type": "scatter",
           "x": {
            "bdata": "AAAAAADwfkA=",
            "dtype": "f8"
           },
           "xaxis": "x",
           "y": {
            "bdata": "Eg5uvHQfkT4=",
            "dtype": "f8"
           },
           "yaxis": "y"
          },
          {
           "hovertemplate": "<b>%{hovertext}</b><br><br>Country Name=%{text}<br>Year=1975<br>Neerslag (mm/jaar)=%{x}<br>Uitstoot per ton geproduceerd (Mt/ton)=%{y}<extra></extra>",
           "hovertext": [
            "United States of America"
           ],
           "legendgroup": "United States of America",
           "marker": {
            "color": "#FF6692",
            "symbol": "circle"
           },
           "mode": "markers+text",
           "name": "United States of America",
           "orientation": "v",
           "showlegend": true,
           "text": [
            "United States of America"
           ],
           "type": "scatter",
           "x": {
            "bdata": "AAAAAABYhkA=",
            "dtype": "f8"
           },
           "xaxis": "x",
           "y": {
            "bdata": "1THe8AkgoD4=",
            "dtype": "f8"
           },
           "yaxis": "y"
          }
         ],
         "name": "1975"
        },
        {
         "data": [
          {
           "hovertemplate": "<b>%{hovertext}</b><br><br>Country Name=%{text}<br>Year=1976<br>Neerslag (mm/jaar)=%{x}<br>Uitstoot per ton geproduceerd (Mt/ton)=%{y}<extra></extra>",
           "hovertext": [
            "Brazil"
           ],
           "legendgroup": "Brazil",
           "marker": {
            "color": "#636efa",
            "symbol": "circle"
           },
           "mode": "markers+text",
           "name": "Brazil",
           "orientation": "v",
           "showlegend": true,
           "text": [
            "Brazil"
           ],
           "type": "scatter",
           "x": {
            "bdata": "AAAAAADYm0A=",
            "dtype": "f8"
           },
           "xaxis": "x",
           "y": {
            "bdata": "sUpZAVyDgj4=",
            "dtype": "f8"
           },
           "yaxis": "y"
          },
          {
           "hovertemplate": "<b>%{hovertext}</b><br><br>Country Name=%{text}<br>Year=1976<br>Neerslag (mm/jaar)=%{x}<br>Uitstoot per ton geproduceerd (Mt/ton)=%{y}<extra></extra>",
           "hovertext": [
            "India"
           ],
           "legendgroup": "India",
           "marker": {
            "color": "#EF553B",
            "symbol": "circle"
           },
           "mode": "markers+text",
           "name": "India",
           "orientation": "v",
           "showlegend": true,
           "text": [
            "India"
           ],
           "type": "scatter",
           "x": {
            "bdata": "AAAAAADskEA=",
            "dtype": "f8"
           },
           "xaxis": "x",
           "y": {
            "bdata": "VVvcYKcTlj4=",
            "dtype": "f8"
           },
           "yaxis": "y"
          },
          {
           "hovertemplate": "<b>%{hovertext}</b><br><br>Country Name=%{text}<br>Year=1976<br>Neerslag (mm/jaar)=%{x}<br>Uitstoot per ton geproduceerd (Mt/ton)=%{y}<extra></extra>",
           "hovertext": [
            "Indonesia"
           ],
           "legendgroup": "Indonesia",
           "marker": {
            "color": "#00cc96",
            "symbol": "circle"
           },
           "mode": "markers+text",
           "name": "Indonesia",
           "orientation": "v",
           "showlegend": true,
           "text": [
            "Indonesia"
           ],
           "type": "scatter",
           "x": {
            "bdata": "AAAAAAAcpUA=",
            "dtype": "f8"
           },
           "xaxis": "x",
           "y": {
            "bdata": "BTvD1h6mWD4=",
            "dtype": "f8"
           },
           "yaxis": "y"
          },
          {
           "hovertemplate": "<b>%{hovertext}</b><br><br>Country Name=%{text}<br>Year=1976<br>Neerslag (mm/jaar)=%{x}<br>Uitstoot per ton geproduceerd (Mt/ton)=%{y}<extra></extra>",
           "hovertext": [
            "Japan"
           ],
           "legendgroup": "Japan",
           "marker": {
            "color": "#ab63fa",
            "symbol": "circle"
           },
           "mode": "markers+text",
           "name": "Japan",
           "orientation": "v",
           "showlegend": true,
           "text": [
            "Japan"
           ],
           "type": "scatter",
           "x": {
            "bdata": "AAAAAAAQmkA=",
            "dtype": "f8"
           },
           "xaxis": "x",
           "y": {
            "bdata": "rwHmfHyHZj4=",
            "dtype": "f8"
           },
           "yaxis": "y"
          },
          {
           "hovertemplate": "<b>%{hovertext}</b><br><br>Country Name=%{text}<br>Year=1976<br>Neerslag (mm/jaar)=%{x}<br>Uitstoot per ton geproduceerd (Mt/ton)=%{y}<extra></extra>",
           "hovertext": [
            "Nigeria"
           ],
           "legendgroup": "Nigeria",
           "marker": {
            "color": "#FFA15A",
            "symbol": "circle"
           },
           "mode": "markers+text",
           "name": "Nigeria",
           "orientation": "v",
           "showlegend": true,
           "text": [
            "Nigeria"
           ],
           "type": "scatter",
           "x": {
            "bdata": "AAAAAAD4kUA=",
            "dtype": "f8"
           },
           "xaxis": "x",
           "y": {
            "bdata": "o8N/zsubPT4=",
            "dtype": "f8"
           },
           "yaxis": "y"
          },
          {
           "hovertemplate": "<b>%{hovertext}</b><br><br>Country Name=%{text}<br>Year=1976<br>Neerslag (mm/jaar)=%{x}<br>Uitstoot per ton geproduceerd (Mt/ton)=%{y}<extra></extra>",
           "hovertext": [
            "South Africa"
           ],
           "legendgroup": "South Africa",
           "marker": {
            "color": "#19d3f3",
            "symbol": "circle"
           },
           "mode": "markers+text",
           "name": "South Africa",
           "orientation": "v",
           "showlegend": true,
           "text": [
            "South Africa"
           ],
           "type": "scatter",
           "x": {
            "bdata": "AAAAAADwfkA=",
            "dtype": "f8"
           },
           "xaxis": "x",
           "y": {
            "bdata": "TqvZkGagkD4=",
            "dtype": "f8"
           },
           "yaxis": "y"
          },
          {
           "hovertemplate": "<b>%{hovertext}</b><br><br>Country Name=%{text}<br>Year=1976<br>Neerslag (mm/jaar)=%{x}<br>Uitstoot per ton geproduceerd (Mt/ton)=%{y}<extra></extra>",
           "hovertext": [
            "United States of America"
           ],
           "legendgroup": "United States of America",
           "marker": {
            "color": "#FF6692",
            "symbol": "circle"
           },
           "mode": "markers+text",
           "name": "United States of America",
           "orientation": "v",
           "showlegend": true,
           "text": [
            "United States of America"
           ],
           "type": "scatter",
           "x": {
            "bdata": "AAAAAABYhkA=",
            "dtype": "f8"
           },
           "xaxis": "x",
           "y": {
            "bdata": "Ei37L1KsoD4=",
            "dtype": "f8"
           },
           "yaxis": "y"
          }
         ],
         "name": "1976"
        },
        {
         "data": [
          {
           "hovertemplate": "<b>%{hovertext}</b><br><br>Country Name=%{text}<br>Year=1977<br>Neerslag (mm/jaar)=%{x}<br>Uitstoot per ton geproduceerd (Mt/ton)=%{y}<extra></extra>",
           "hovertext": [
            "Brazil"
           ],
           "legendgroup": "Brazil",
           "marker": {
            "color": "#636efa",
            "symbol": "circle"
           },
           "mode": "markers+text",
           "name": "Brazil",
           "orientation": "v",
           "showlegend": true,
           "text": [
            "Brazil"
           ],
           "type": "scatter",
           "x": {
            "bdata": "AAAAAACEm0A=",
            "dtype": "f8"
           },
           "xaxis": "x",
           "y": {
            "bdata": "qTXZ3vQ1fz4=",
            "dtype": "f8"
           },
           "yaxis": "y"
          },
          {
           "hovertemplate": "<b>%{hovertext}</b><br><br>Country Name=%{text}<br>Year=1977<br>Neerslag (mm/jaar)=%{x}<br>Uitstoot per ton geproduceerd (Mt/ton)=%{y}<extra></extra>",
           "hovertext": [
            "India"
           ],
           "legendgroup": "India",
           "marker": {
            "color": "#EF553B",
            "symbol": "circle"
           },
           "mode": "markers+text",
           "name": "India",
           "orientation": "v",
           "showlegend": true,
           "text": [
            "India"
           ],
           "type": "scatter",
           "x": {
            "bdata": "AAAAAADskEA=",
            "dtype": "f8"
           },
           "xaxis": "x",
           "y": {
            "bdata": "a5sKqLY5lT4=",
            "dtype": "f8"
           },
           "yaxis": "y"
          },
          {
           "hovertemplate": "<b>%{hovertext}</b><br><br>Country Name=%{text}<br>Year=1977<br>Neerslag (mm/jaar)=%{x}<br>Uitstoot per ton geproduceerd (Mt/ton)=%{y}<extra></extra>",
           "hovertext": [
            "Indonesia"
           ],
           "legendgroup": "Indonesia",
           "marker": {
            "color": "#00cc96",
            "symbol": "circle"
           },
           "mode": "markers+text",
           "name": "Indonesia",
           "orientation": "v",
           "showlegend": true,
           "text": [
            "Indonesia"
           ],
           "type": "scatter",
           "x": {
            "bdata": "AAAAAAAcpUA=",
            "dtype": "f8"
           },
           "xaxis": "x",
           "y": {
            "bdata": "v8xkJpb+WD4=",
            "dtype": "f8"
           },
           "yaxis": "y"
          },
          {
           "hovertemplate": "<b>%{hovertext}</b><br><br>Country Name=%{text}<br>Year=1977<br>Neerslag (mm/jaar)=%{x}<br>Uitstoot per ton geproduceerd (Mt/ton)=%{y}<extra></extra>",
           "hovertext": [
            "Japan"
           ],
           "legendgroup": "Japan",
           "marker": {
            "color": "#ab63fa",
            "symbol": "circle"
           },
           "mode": "markers+text",
           "name": "Japan",
           "orientation": "v",
           "showlegend": true,
           "text": [
            "Japan"
           ],
           "type": "scatter",
           "x": {
            "bdata": "AAAAAAAQmkA=",
            "dtype": "f8"
           },
           "xaxis": "x",
           "y": {
            "bdata": "nS9gqUEHZT4=",
            "dtype": "f8"
           },
           "yaxis": "y"
          },
          {
           "hovertemplate": "<b>%{hovertext}</b><br><br>Country Name=%{text}<br>Year=1977<br>Neerslag (mm/jaar)=%{x}<br>Uitstoot per ton geproduceerd (Mt/ton)=%{y}<extra></extra>",
           "hovertext": [
            "Nigeria"
           ],
           "legendgroup": "Nigeria",
           "marker": {
            "color": "#FFA15A",
            "symbol": "circle"
           },
           "mode": "markers+text",
           "name": "Nigeria",
           "orientation": "v",
           "showlegend": true,
           "text": [
            "Nigeria"
           ],
           "type": "scatter",
           "x": {
            "bdata": "AAAAAAD4kUA=",
            "dtype": "f8"
           },
           "xaxis": "x",
           "y": {
            "bdata": "jXZ79H4wPz4=",
            "dtype": "f8"
           },
           "yaxis": "y"
          },
          {
           "hovertemplate": "<b>%{hovertext}</b><br><br>Country Name=%{text}<br>Year=1977<br>Neerslag (mm/jaar)=%{x}<br>Uitstoot per ton geproduceerd (Mt/ton)=%{y}<extra></extra>",
           "hovertext": [
            "South Africa"
           ],
           "legendgroup": "South Africa",
           "marker": {
            "color": "#19d3f3",
            "symbol": "circle"
           },
           "mode": "markers+text",
           "name": "South Africa",
           "orientation": "v",
           "showlegend": true,
           "text": [
            "South Africa"
           ],
           "type": "scatter",
           "x": {
            "bdata": "AAAAAADwfkA=",
            "dtype": "f8"
           },
           "xaxis": "x",
           "y": {
            "bdata": "ABy4Gk7Ejz4=",
            "dtype": "f8"
           },
           "yaxis": "y"
          },
          {
           "hovertemplate": "<b>%{hovertext}</b><br><br>Country Name=%{text}<br>Year=1977<br>Neerslag (mm/jaar)=%{x}<br>Uitstoot per ton geproduceerd (Mt/ton)=%{y}<extra></extra>",
           "hovertext": [
            "United States of America"
           ],
           "legendgroup": "United States of America",
           "marker": {
            "color": "#FF6692",
            "symbol": "circle"
           },
           "mode": "markers+text",
           "name": "United States of America",
           "orientation": "v",
           "showlegend": true,
           "text": [
            "United States of America"
           ],
           "type": "scatter",
           "x": {
            "bdata": "AAAAAABYhkA=",
            "dtype": "f8"
           },
           "xaxis": "x",
           "y": {
            "bdata": "9IzqAQh2nz4=",
            "dtype": "f8"
           },
           "yaxis": "y"
          }
         ],
         "name": "1977"
        },
        {
         "data": [
          {
           "hovertemplate": "<b>%{hovertext}</b><br><br>Country Name=%{text}<br>Year=1978<br>Neerslag (mm/jaar)=%{x}<br>Uitstoot per ton geproduceerd (Mt/ton)=%{y}<extra></extra>",
           "hovertext": [
            "Brazil"
           ],
           "legendgroup": "Brazil",
           "marker": {
            "color": "#636efa",
            "symbol": "circle"
           },
           "mode": "markers+text",
           "name": "Brazil",
           "orientation": "v",
           "showlegend": true,
           "text": [
            "Brazil"
           ],
           "type": "scatter",
           "x": {
            "bdata": "AAAAAADYm0A=",
            "dtype": "f8"
           },
           "xaxis": "x",
           "y": {
            "bdata": "wC6Zrf31fD4=",
            "dtype": "f8"
           },
           "yaxis": "y"
          },
          {
           "hovertemplate": "<b>%{hovertext}</b><br><br>Country Name=%{text}<br>Year=1978<br>Neerslag (mm/jaar)=%{x}<br>Uitstoot per ton geproduceerd (Mt/ton)=%{y}<extra></extra>",
           "hovertext": [
            "India"
           ],
           "legendgroup": "India",
           "marker": {
            "color": "#EF553B",
            "symbol": "circle"
           },
           "mode": "markers+text",
           "name": "India",
           "orientation": "v",
           "showlegend": true,
           "text": [
            "India"
           ],
           "type": "scatter",
           "x": {
            "bdata": "AAAAAADskEA=",
            "dtype": "f8"
           },
           "xaxis": "x",
           "y": {
            "bdata": "w6/KbM3Ykz4=",
            "dtype": "f8"
           },
           "yaxis": "y"
          },
          {
           "hovertemplate": "<b>%{hovertext}</b><br><br>Country Name=%{text}<br>Year=1978<br>Neerslag (mm/jaar)=%{x}<br>Uitstoot per ton geproduceerd (Mt/ton)=%{y}<extra></extra>",
           "hovertext": [
            "Indonesia"
           ],
           "legendgroup": "Indonesia",
           "marker": {
            "color": "#00cc96",
            "symbol": "circle"
           },
           "mode": "markers+text",
           "name": "Indonesia",
           "orientation": "v",
           "showlegend": true,
           "text": [
            "Indonesia"
           ],
           "type": "scatter",
           "x": {
            "bdata": "AAAAAAAcpUA=",
            "dtype": "f8"
           },
           "xaxis": "x",
           "y": {
            "bdata": "fSsdpbFCWT4=",
            "dtype": "f8"
           },
           "yaxis": "y"
          },
          {
           "hovertemplate": "<b>%{hovertext}</b><br><br>Country Name=%{text}<br>Year=1978<br>Neerslag (mm/jaar)=%{x}<br>Uitstoot per ton geproduceerd (Mt/ton)=%{y}<extra></extra>",
           "hovertext": [
            "Japan"
           ],
           "legendgroup": "Japan",
           "marker": {
            "color": "#ab63fa",
            "symbol": "circle"
           },
           "mode": "markers+text",
           "name": "Japan",
           "orientation": "v",
           "showlegend": true,
           "text": [
            "Japan"
           ],
           "type": "scatter",
           "x": {
            "bdata": "AAAAAAAQmkA=",
            "dtype": "f8"
           },
           "xaxis": "x",
           "y": {
            "bdata": "crIUF7qmZz4=",
            "dtype": "f8"
           },
           "yaxis": "y"
          },
          {
           "hovertemplate": "<b>%{hovertext}</b><br><br>Country Name=%{text}<br>Year=1978<br>Neerslag (mm/jaar)=%{x}<br>Uitstoot per ton geproduceerd (Mt/ton)=%{y}<extra></extra>",
           "hovertext": [
            "Nigeria"
           ],
           "legendgroup": "Nigeria",
           "marker": {
            "color": "#FFA15A",
            "symbol": "circle"
           },
           "mode": "markers+text",
           "name": "Nigeria",
           "orientation": "v",
           "showlegend": true,
           "text": [
            "Nigeria"
           ],
           "type": "scatter",
           "x": {
            "bdata": "AAAAAAD4kUA=",
            "dtype": "f8"
           },
           "xaxis": "x",
           "y": {
            "bdata": "dJUNNHeVQT4=",
            "dtype": "f8"
           },
           "yaxis": "y"
          },
          {
           "hovertemplate": "<b>%{hovertext}</b><br><br>Country Name=%{text}<br>Year=1978<br>Neerslag (mm/jaar)=%{x}<br>Uitstoot per ton geproduceerd (Mt/ton)=%{y}<extra></extra>",
           "hovertext": [
            "South Africa"
           ],
           "legendgroup": "South Africa",
           "marker": {
            "color": "#19d3f3",
            "symbol": "circle"
           },
           "mode": "markers+text",
           "name": "South Africa",
           "orientation": "v",
           "showlegend": true,
           "text": [
            "South Africa"
           ],
           "type": "scatter",
           "x": {
            "bdata": "AAAAAADwfkA=",
            "dtype": "f8"
           },
           "xaxis": "x",
           "y": {
            "bdata": "13BuIXOojz4=",
            "dtype": "f8"
           },
           "yaxis": "y"
          },
          {
           "hovertemplate": "<b>%{hovertext}</b><br><br>Country Name=%{text}<br>Year=1978<br>Neerslag (mm/jaar)=%{x}<br>Uitstoot per ton geproduceerd (Mt/ton)=%{y}<extra></extra>",
           "hovertext": [
            "United States of America"
           ],
           "legendgroup": "United States of America",
           "marker": {
            "color": "#FF6692",
            "symbol": "circle"
           },
           "mode": "markers+text",
           "name": "United States of America",
           "orientation": "v",
           "showlegend": true,
           "text": [
            "United States of America"
           ],
           "type": "scatter",
           "x": {
            "bdata": "AAAAAABYhkA=",
            "dtype": "f8"
           },
           "xaxis": "x",
           "y": {
            "bdata": "ko114Xl8nD4=",
            "dtype": "f8"
           },
           "yaxis": "y"
          }
         ],
         "name": "1978"
        },
        {
         "data": [
          {
           "hovertemplate": "<b>%{hovertext}</b><br><br>Country Name=%{text}<br>Year=1979<br>Neerslag (mm/jaar)=%{x}<br>Uitstoot per ton geproduceerd (Mt/ton)=%{y}<extra></extra>",
           "hovertext": [
            "Brazil"
           ],
           "legendgroup": "Brazil",
           "marker": {
            "color": "#636efa",
            "symbol": "circle"
           },
           "mode": "markers+text",
           "name": "Brazil",
           "orientation": "v",
           "showlegend": true,
           "text": [
            "Brazil"
           ],
           "type": "scatter",
           "x": {
            "bdata": "AAAAAADYm0A=",
            "dtype": "f8"
           },
           "xaxis": "x",
           "y": {
            "bdata": "9dP6axEAgD4=",
            "dtype": "f8"
           },
           "yaxis": "y"
          },
          {
           "hovertemplate": "<b>%{hovertext}</b><br><br>Country Name=%{text}<br>Year=1979<br>Neerslag (mm/jaar)=%{x}<br>Uitstoot per ton geproduceerd (Mt/ton)=%{y}<extra></extra>",
           "hovertext": [
            "India"
           ],
           "legendgroup": "India",
           "marker": {
            "color": "#EF553B",
            "symbol": "circle"
           },
           "mode": "markers+text",
           "name": "India",
           "orientation": "v",
           "showlegend": true,
           "text": [
            "India"
           ],
           "type": "scatter",
           "x": {
            "bdata": "AAAAAADskEA=",
            "dtype": "f8"
           },
           "xaxis": "x",
           "y": {
            "bdata": "q0lt5zvwlj4=",
            "dtype": "f8"
           },
           "yaxis": "y"
          },
          {
           "hovertemplate": "<b>%{hovertext}</b><br><br>Country Name=%{text}<br>Year=1979<br>Neerslag (mm/jaar)=%{x}<br>Uitstoot per ton geproduceerd (Mt/ton)=%{y}<extra></extra>",
           "hovertext": [
            "Indonesia"
           ],
           "legendgroup": "Indonesia",
           "marker": {
            "color": "#00cc96",
            "symbol": "circle"
           },
           "mode": "markers+text",
           "name": "Indonesia",
           "orientation": "v",
           "showlegend": true,
           "text": [
            "Indonesia"
           ],
           "type": "scatter",
           "x": {
            "bdata": "AAAAAAAcpUA=",
            "dtype": "f8"
           },
           "xaxis": "x",
           "y": {
            "bdata": "dzWxaXTAXD4=",
            "dtype": "f8"
           },
           "yaxis": "y"
          },
          {
           "hovertemplate": "<b>%{hovertext}</b><br><br>Country Name=%{text}<br>Year=1979<br>Neerslag (mm/jaar)=%{x}<br>Uitstoot per ton geproduceerd (Mt/ton)=%{y}<extra></extra>",
           "hovertext": [
            "Japan"
           ],
           "legendgroup": "Japan",
           "marker": {
            "color": "#ab63fa",
            "symbol": "circle"
           },
           "mode": "markers+text",
           "name": "Japan",
           "orientation": "v",
           "showlegend": true,
           "text": [
            "Japan"
           ],
           "type": "scatter",
           "x": {
            "bdata": "AAAAAAAQmkA=",
            "dtype": "f8"
           },
           "xaxis": "x",
           "y": {
            "bdata": "t1/ShjPkaz4=",
            "dtype": "f8"
           },
           "yaxis": "y"
          },
          {
           "hovertemplate": "<b>%{hovertext}</b><br><br>Country Name=%{text}<br>Year=1979<br>Neerslag (mm/jaar)=%{x}<br>Uitstoot per ton geproduceerd (Mt/ton)=%{y}<extra></extra>",
           "hovertext": [
            "Nigeria"
           ],
           "legendgroup": "Nigeria",
           "marker": {
            "color": "#FFA15A",
            "symbol": "circle"
           },
           "mode": "markers+text",
           "name": "Nigeria",
           "orientation": "v",
           "showlegend": true,
           "text": [
            "Nigeria"
           ],
           "type": "scatter",
           "x": {
            "bdata": "AAAAAAD4kUA=",
            "dtype": "f8"
           },
           "xaxis": "x",
           "y": {
            "bdata": "A70pD/CNQj4=",
            "dtype": "f8"
           },
           "yaxis": "y"
          },
          {
           "hovertemplate": "<b>%{hovertext}</b><br><br>Country Name=%{text}<br>Year=1979<br>Neerslag (mm/jaar)=%{x}<br>Uitstoot per ton geproduceerd (Mt/ton)=%{y}<extra></extra>",
           "hovertext": [
            "South Africa"
           ],
           "legendgroup": "South Africa",
           "marker": {
            "color": "#19d3f3",
            "symbol": "circle"
           },
           "mode": "markers+text",
           "name": "South Africa",
           "orientation": "v",
           "showlegend": true,
           "text": [
            "South Africa"
           ],
           "type": "scatter",
           "x": {
            "bdata": "AAAAAADwfkA=",
            "dtype": "f8"
           },
           "xaxis": "x",
           "y": {
            "bdata": "hZKCHcCxkD4=",
            "dtype": "f8"
           },
           "yaxis": "y"
          },
          {
           "hovertemplate": "<b>%{hovertext}</b><br><br>Country Name=%{text}<br>Year=1979<br>Neerslag (mm/jaar)=%{x}<br>Uitstoot per ton geproduceerd (Mt/ton)=%{y}<extra></extra>",
           "hovertext": [
            "United States of America"
           ],
           "legendgroup": "United States of America",
           "marker": {
            "color": "#FF6692",
            "symbol": "circle"
           },
           "mode": "markers+text",
           "name": "United States of America",
           "orientation": "v",
           "showlegend": true,
           "text": [
            "United States of America"
           ],
           "type": "scatter",
           "x": {
            "bdata": "AAAAAABYhkA=",
            "dtype": "f8"
           },
           "xaxis": "x",
           "y": {
            "bdata": "LipCtqrTnj4=",
            "dtype": "f8"
           },
           "yaxis": "y"
          }
         ],
         "name": "1979"
        },
        {
         "data": [
          {
           "hovertemplate": "<b>%{hovertext}</b><br><br>Country Name=%{text}<br>Year=1980<br>Neerslag (mm/jaar)=%{x}<br>Uitstoot per ton geproduceerd (Mt/ton)=%{y}<extra></extra>",
           "hovertext": [
            "Brazil"
           ],
           "legendgroup": "Brazil",
           "marker": {
            "color": "#636efa",
            "symbol": "circle"
           },
           "mode": "markers+text",
           "name": "Brazil",
           "orientation": "v",
           "showlegend": true,
           "text": [
            "Brazil"
           ],
           "type": "scatter",
           "x": {
            "bdata": "AAAAAADYm0A=",
            "dtype": "f8"
           },
           "xaxis": "x",
           "y": {
            "bdata": "BhF4VSKWez4=",
            "dtype": "f8"
           },
           "yaxis": "y"
          },
          {
           "hovertemplate": "<b>%{hovertext}</b><br><br>Country Name=%{text}<br>Year=1980<br>Neerslag (mm/jaar)=%{x}<br>Uitstoot per ton geproduceerd (Mt/ton)=%{y}<extra></extra>",
           "hovertext": [
            "India"
           ],
           "legendgroup": "India",
           "marker": {
            "color": "#EF553B",
            "symbol": "circle"
           },
           "mode": "markers+text",
           "name": "India",
           "orientation": "v",
           "showlegend": true,
           "text": [
            "India"
           ],
           "type": "scatter",
           "x": {
            "bdata": "AAAAAADskEA=",
            "dtype": "f8"
           },
           "xaxis": "x",
           "y": {
            "bdata": "V9nhExR2mD4=",
            "dtype": "f8"
           },
           "yaxis": "y"
          },
          {
           "hovertemplate": "<b>%{hovertext}</b><br><br>Country Name=%{text}<br>Year=1980<br>Neerslag (mm/jaar)=%{x}<br>Uitstoot per ton geproduceerd (Mt/ton)=%{y}<extra></extra>",
           "hovertext": [
            "Indonesia"
           ],
           "legendgroup": "Indonesia",
           "marker": {
            "color": "#00cc96",
            "symbol": "circle"
           },
           "mode": "markers+text",
           "name": "Indonesia",
           "orientation": "v",
           "showlegend": true,
           "text": [
            "Indonesia"
           ],
           "type": "scatter",
           "x": {
            "bdata": "AAAAAAAcpUA=",
            "dtype": "f8"
           },
           "xaxis": "x",
           "y": {
            "bdata": "lKt7kyEwYD4=",
            "dtype": "f8"
           },
           "yaxis": "y"
          },
          {
           "hovertemplate": "<b>%{hovertext}</b><br><br>Country Name=%{text}<br>Year=1980<br>Neerslag (mm/jaar)=%{x}<br>Uitstoot per ton geproduceerd (Mt/ton)=%{y}<extra></extra>",
           "hovertext": [
            "Japan"
           ],
           "legendgroup": "Japan",
           "marker": {
            "color": "#ab63fa",
            "symbol": "circle"
           },
           "mode": "markers+text",
           "name": "Japan",
           "orientation": "v",
           "showlegend": true,
           "text": [
            "Japan"
           ],
           "type": "scatter",
           "x": {
            "bdata": "AAAAAAAQmkA=",
            "dtype": "f8"
           },
           "xaxis": "x",
           "y": {
            "bdata": "176+/OZobz4=",
            "dtype": "f8"
           },
           "yaxis": "y"
          },
          {
           "hovertemplate": "<b>%{hovertext}</b><br><br>Country Name=%{text}<br>Year=1980<br>Neerslag (mm/jaar)=%{x}<br>Uitstoot per ton geproduceerd (Mt/ton)=%{y}<extra></extra>",
           "hovertext": [
            "Nigeria"
           ],
           "legendgroup": "Nigeria",
           "marker": {
            "color": "#FFA15A",
            "symbol": "circle"
           },
           "mode": "markers+text",
           "name": "Nigeria",
           "orientation": "v",
           "showlegend": true,
           "text": [
            "Nigeria"
           ],
           "type": "scatter",
           "x": {
            "bdata": "AAAAAAD4kUA=",
            "dtype": "f8"
           },
           "xaxis": "x",
           "y": {
            "bdata": "ouVKrRj/QT4=",
            "dtype": "f8"
           },
           "yaxis": "y"
          },
          {
           "hovertemplate": "<b>%{hovertext}</b><br><br>Country Name=%{text}<br>Year=1980<br>Neerslag (mm/jaar)=%{x}<br>Uitstoot per ton geproduceerd (Mt/ton)=%{y}<extra></extra>",
           "hovertext": [
            "South Africa"
           ],
           "legendgroup": "South Africa",
           "marker": {
            "color": "#19d3f3",
            "symbol": "circle"
           },
           "mode": "markers+text",
           "name": "South Africa",
           "orientation": "v",
           "showlegend": true,
           "text": [
            "South Africa"
           ],
           "type": "scatter",
           "x": {
            "bdata": "AAAAAADwfkA=",
            "dtype": "f8"
           },
           "xaxis": "x",
           "y": {
            "bdata": "cVNDMx46kT4=",
            "dtype": "f8"
           },
           "yaxis": "y"
          },
          {
           "hovertemplate": "<b>%{hovertext}</b><br><br>Country Name=%{text}<br>Year=1980<br>Neerslag (mm/jaar)=%{x}<br>Uitstoot per ton geproduceerd (Mt/ton)=%{y}<extra></extra>",
           "hovertext": [
            "United States of America"
           ],
           "legendgroup": "United States of America",
           "marker": {
            "color": "#FF6692",
            "symbol": "circle"
           },
           "mode": "markers+text",
           "name": "United States of America",
           "orientation": "v",
           "showlegend": true,
           "text": [
            "United States of America"
           ],
           "type": "scatter",
           "x": {
            "bdata": "AAAAAABYhkA=",
            "dtype": "f8"
           },
           "xaxis": "x",
           "y": {
            "bdata": "ImDdpMVVoT4=",
            "dtype": "f8"
           },
           "yaxis": "y"
          }
         ],
         "name": "1980"
        },
        {
         "data": [
          {
           "hovertemplate": "<b>%{hovertext}</b><br><br>Country Name=%{text}<br>Year=1981<br>Neerslag (mm/jaar)=%{x}<br>Uitstoot per ton geproduceerd (Mt/ton)=%{y}<extra></extra>",
           "hovertext": [
            "Brazil"
           ],
           "legendgroup": "Brazil",
           "marker": {
            "color": "#636efa",
            "symbol": "circle"
           },
           "mode": "markers+text",
           "name": "Brazil",
           "orientation": "v",
           "showlegend": true,
           "text": [
            "Brazil"
           ],
           "type": "scatter",
           "x": {
            "bdata": "AAAAAADYm0A=",
            "dtype": "f8"
           },
           "xaxis": "x",
           "y": {
            "bdata": "zgPE2/D0dj4=",
            "dtype": "f8"
           },
           "yaxis": "y"
          },
          {
           "hovertemplate": "<b>%{hovertext}</b><br><br>Country Name=%{text}<br>Year=1981<br>Neerslag (mm/jaar)=%{x}<br>Uitstoot per ton geproduceerd (Mt/ton)=%{y}<extra></extra>",
           "hovertext": [
            "India"
           ],
           "legendgroup": "India",
           "marker": {
            "color": "#EF553B",
            "symbol": "circle"
           },
           "mode": "markers+text",
           "name": "India",
           "orientation": "v",
           "showlegend": true,
           "text": [
            "India"
           ],
           "type": "scatter",
           "x": {
            "bdata": "AAAAAADskEA=",
            "dtype": "f8"
           },
           "xaxis": "x",
           "y": {
            "bdata": "gNF5edSXlT4=",
            "dtype": "f8"
           },
           "yaxis": "y"
          },
          {
           "hovertemplate": "<b>%{hovertext}</b><br><br>Country Name=%{text}<br>Year=1981<br>Neerslag (mm/jaar)=%{x}<br>Uitstoot per ton geproduceerd (Mt/ton)=%{y}<extra></extra>",
           "hovertext": [
            "Indonesia"
           ],
           "legendgroup": "Indonesia",
           "marker": {
            "color": "#00cc96",
            "symbol": "circle"
           },
           "mode": "markers+text",
           "name": "Indonesia",
           "orientation": "v",
           "showlegend": true,
           "text": [
            "Indonesia"
           ],
           "type": "scatter",
           "x": {
            "bdata": "AAAAAAAcpUA=",
            "dtype": "f8"
           },
           "xaxis": "x",
           "y": {
            "bdata": "0BfQHiAAWz4=",
            "dtype": "f8"
           },
           "yaxis": "y"
          },
          {
           "hovertemplate": "<b>%{hovertext}</b><br><br>Country Name=%{text}<br>Year=1981<br>Neerslag (mm/jaar)=%{x}<br>Uitstoot per ton geproduceerd (Mt/ton)=%{y}<extra></extra>",
           "hovertext": [
            "Japan"
           ],
           "legendgroup": "Japan",
           "marker": {
            "color": "#ab63fa",
            "symbol": "circle"
           },
           "mode": "markers+text",
           "name": "Japan",
           "orientation": "v",
           "showlegend": true,
           "text": [
            "Japan"
           ],
           "type": "scatter",
           "x": {
            "bdata": "AAAAAAAQmkA=",
            "dtype": "f8"
           },
           "xaxis": "x",
           "y": {
            "bdata": "loJffOkscT4=",
            "dtype": "f8"
           },
           "yaxis": "y"
          },
          {
           "hovertemplate": "<b>%{hovertext}</b><br><br>Country Name=%{text}<br>Year=1981<br>Neerslag (mm/jaar)=%{x}<br>Uitstoot per ton geproduceerd (Mt/ton)=%{y}<extra></extra>",
           "hovertext": [
            "Nigeria"
           ],
           "legendgroup": "Nigeria",
           "marker": {
            "color": "#FFA15A",
            "symbol": "circle"
           },
           "mode": "markers+text",
           "name": "Nigeria",
           "orientation": "v",
           "showlegend": true,
           "text": [
            "Nigeria"
           ],
           "type": "scatter",
           "x": {
            "bdata": "AAAAAAD4kUA=",
            "dtype": "f8"
           },
           "xaxis": "x",
           "y": {
            "bdata": "EhYFToWSQj4=",
            "dtype": "f8"
           },
           "yaxis": "y"
          },
          {
           "hovertemplate": "<b>%{hovertext}</b><br><br>Country Name=%{text}<br>Year=1981<br>Neerslag (mm/jaar)=%{x}<br>Uitstoot per ton geproduceerd (Mt/ton)=%{y}<extra></extra>",
           "hovertext": [
            "South Africa"
           ],
           "legendgroup": "South Africa",
           "marker": {
            "color": "#19d3f3",
            "symbol": "circle"
           },
           "mode": "markers+text",
           "name": "South Africa",
           "orientation": "v",
           "showlegend": true,
           "text": [
            "South Africa"
           ],
           "type": "scatter",
           "x": {
            "bdata": "AAAAAADwfkA=",
            "dtype": "f8"
           },
           "xaxis": "x",
           "y": {
            "bdata": "Mvt0oacFjz4=",
            "dtype": "f8"
           },
           "yaxis": "y"
          },
          {
           "hovertemplate": "<b>%{hovertext}</b><br><br>Country Name=%{text}<br>Year=1981<br>Neerslag (mm/jaar)=%{x}<br>Uitstoot per ton geproduceerd (Mt/ton)=%{y}<extra></extra>",
           "hovertext": [
            "United States of America"
           ],
           "legendgroup": "United States of America",
           "marker": {
            "color": "#FF6692",
            "symbol": "circle"
           },
           "mode": "markers+text",
           "name": "United States of America",
           "orientation": "v",
           "showlegend": true,
           "text": [
            "United States of America"
           ],
           "type": "scatter",
           "x": {
            "bdata": "AAAAAABYhkA=",
            "dtype": "f8"
           },
           "xaxis": "x",
           "y": {
            "bdata": "KjKsl/N+oT4=",
            "dtype": "f8"
           },
           "yaxis": "y"
          }
         ],
         "name": "1981"
        },
        {
         "data": [
          {
           "hovertemplate": "<b>%{hovertext}</b><br><br>Country Name=%{text}<br>Year=1982<br>Neerslag (mm/jaar)=%{x}<br>Uitstoot per ton geproduceerd (Mt/ton)=%{y}<extra></extra>",
           "hovertext": [
            "Brazil"
           ],
           "legendgroup": "Brazil",
           "marker": {
            "color": "#636efa",
            "symbol": "circle"
           },
           "mode": "markers+text",
           "name": "Brazil",
           "orientation": "v",
           "showlegend": true,
           "text": [
            "Brazil"
           ],
           "type": "scatter",
           "x": {
            "bdata": "AAAAAACEm0A=",
            "dtype": "f8"
           },
           "xaxis": "x",
           "y": {
            "bdata": "Dw1bc5lQdz4=",
            "dtype": "f8"
           },
           "yaxis": "y"
          },
          {
           "hovertemplate": "<b>%{hovertext}</b><br><br>Country Name=%{text}<br>Year=1982<br>Neerslag (mm/jaar)=%{x}<br>Uitstoot per ton geproduceerd (Mt/ton)=%{y}<extra></extra>",
           "hovertext": [
            "India"
           ],
           "legendgroup": "India",
           "marker": {
            "color": "#EF553B",
            "symbol": "circle"
           },
           "mode": "markers+text",
           "name": "India",
           "orientation": "v",
           "showlegend": true,
           "text": [
            "India"
           ],
           "type": "scatter",
           "x": {
            "bdata": "AAAAAADskEA=",
            "dtype": "f8"
           },
           "xaxis": "x",
           "y": {
            "bdata": "KqkIVIW1kz4=",
            "dtype": "f8"
           },
           "yaxis": "y"
          },
          {
           "hovertemplate": "<b>%{hovertext}</b><br><br>Country Name=%{text}<br>Year=1982<br>Neerslag (mm/jaar)=%{x}<br>Uitstoot per ton geproduceerd (Mt/ton)=%{y}<extra></extra>",
           "hovertext": [
            "Indonesia"
           ],
           "legendgroup": "Indonesia",
           "marker": {
            "color": "#00cc96",
            "symbol": "circle"
           },
           "mode": "markers+text",
           "name": "Indonesia",
           "orientation": "v",
           "showlegend": true,
           "text": [
            "Indonesia"
           ],
           "type": "scatter",
           "x": {
            "bdata": "AAAAAAAcpUA=",
            "dtype": "f8"
           },
           "xaxis": "x",
           "y": {
            "bdata": "YM/L/ZgbYj4=",
            "dtype": "f8"
           },
           "yaxis": "y"
          },
          {
           "hovertemplate": "<b>%{hovertext}</b><br><br>Country Name=%{text}<br>Year=1982<br>Neerslag (mm/jaar)=%{x}<br>Uitstoot per ton geproduceerd (Mt/ton)=%{y}<extra></extra>",
           "hovertext": [
            "Japan"
           ],
           "legendgroup": "Japan",
           "marker": {
            "color": "#ab63fa",
            "symbol": "circle"
           },
           "mode": "markers+text",
           "name": "Japan",
           "orientation": "v",
           "showlegend": true,
           "text": [
            "Japan"
           ],
           "type": "scatter",
           "x": {
            "bdata": "AAAAAAAQmkA=",
            "dtype": "f8"
           },
           "xaxis": "x",
           "y": {
            "bdata": "Em3svnQNcT4=",
            "dtype": "f8"
           },
           "yaxis": "y"
          },
          {
           "hovertemplate": "<b>%{hovertext}</b><br><br>Country Name=%{text}<br>Year=1982<br>Neerslag (mm/jaar)=%{x}<br>Uitstoot per ton geproduceerd (Mt/ton)=%{y}<extra></extra>",
           "hovertext": [
            "Nigeria"
           ],
           "legendgroup": "Nigeria",
           "marker": {
            "color": "#FFA15A",
            "symbol": "circle"
           },
           "mode": "markers+text",
           "name": "Nigeria",
           "orientation": "v",
           "showlegend": true,
           "text": [
            "Nigeria"
           ],
           "type": "scatter",
           "x": {
            "bdata": "AAAAAAD4kUA=",
            "dtype": "f8"
           },
           "xaxis": "x",
           "y": {
            "bdata": "R0dbA326QT4=",
            "dtype": "f8"
           },
           "yaxis": "y"
          },
          {
           "hovertemplate": "<b>%{hovertext}</b><br><br>Country Name=%{text}<br>Year=1982<br>Neerslag (mm/jaar)=%{x}<br>Uitstoot per ton geproduceerd (Mt/ton)=%{y}<extra></extra>",
           "hovertext": [
            "South Africa"
           ],
           "legendgroup": "South Africa",
           "marker": {
            "color": "#19d3f3",
            "symbol": "circle"
           },
           "mode": "markers+text",
           "name": "South Africa",
           "orientation": "v",
           "showlegend": true,
           "text": [
            "South Africa"
           ],
           "type": "scatter",
           "x": {
            "bdata": "AAAAAADwfkA=",
            "dtype": "f8"
           },
           "xaxis": "x",
           "y": {
            "bdata": "VSgP6yQDkT4=",
            "dtype": "f8"
           },
           "yaxis": "y"
          },
          {
           "hovertemplate": "<b>%{hovertext}</b><br><br>Country Name=%{text}<br>Year=1982<br>Neerslag (mm/jaar)=%{x}<br>Uitstoot per ton geproduceerd (Mt/ton)=%{y}<extra></extra>",
           "hovertext": [
            "United States of America"
           ],
           "legendgroup": "United States of America",
           "marker": {
            "color": "#FF6692",
            "symbol": "circle"
           },
           "mode": "markers+text",
           "name": "United States of America",
           "orientation": "v",
           "showlegend": true,
           "text": [
            "United States of America"
           ],
           "type": "scatter",
           "x": {
            "bdata": "AAAAAABYhkA=",
            "dtype": "f8"
           },
           "xaxis": "x",
           "y": {
            "bdata": "332XPKYuoT4=",
            "dtype": "f8"
           },
           "yaxis": "y"
          }
         ],
         "name": "1982"
        },
        {
         "data": [
          {
           "hovertemplate": "<b>%{hovertext}</b><br><br>Country Name=%{text}<br>Year=1983<br>Neerslag (mm/jaar)=%{x}<br>Uitstoot per ton geproduceerd (Mt/ton)=%{y}<extra></extra>",
           "hovertext": [
            "Brazil"
           ],
           "legendgroup": "Brazil",
           "marker": {
            "color": "#636efa",
            "symbol": "circle"
           },
           "mode": "markers+text",
           "name": "Brazil",
           "orientation": "v",
           "showlegend": true,
           "text": [
            "Brazil"
           ],
           "type": "scatter",
           "x": {
            "bdata": "AAAAAADYm0A=",
            "dtype": "f8"
           },
           "xaxis": "x",
           "y": {
            "bdata": "1YShJoLecz4=",
            "dtype": "f8"
           },
           "yaxis": "y"
          },
          {
           "hovertemplate": "<b>%{hovertext}</b><br><br>Country Name=%{text}<br>Year=1983<br>Neerslag (mm/jaar)=%{x}<br>Uitstoot per ton geproduceerd (Mt/ton)=%{y}<extra></extra>",
           "hovertext": [
            "India"
           ],
           "legendgroup": "India",
           "marker": {
            "color": "#EF553B",
            "symbol": "circle"
           },
           "mode": "markers+text",
           "name": "India",
           "orientation": "v",
           "showlegend": true,
           "text": [
            "India"
           ],
           "type": "scatter",
           "x": {
            "bdata": "AAAAAADskEA=",
            "dtype": "f8"
           },
           "xaxis": "x",
           "y": {
            "bdata": "PwY2qeoolD4=",
            "dtype": "f8"
           },
           "yaxis": "y"
          },
          {
           "hovertemplate": "<b>%{hovertext}</b><br><br>Country Name=%{text}<br>Year=1983<br>Neerslag (mm/jaar)=%{x}<br>Uitstoot per ton geproduceerd (Mt/ton)=%{y}<extra></extra>",
           "hovertext": [
            "Indonesia"
           ],
           "legendgroup": "Indonesia",
           "marker": {
            "color": "#00cc96",
            "symbol": "circle"
           },
           "mode": "markers+text",
           "name": "Indonesia",
           "orientation": "v",
           "showlegend": true,
           "text": [
            "Indonesia"
           ],
           "type": "scatter",
           "x": {
            "bdata": "AAAAAAAcpUA=",
            "dtype": "f8"
           },
           "xaxis": "x",
           "y": {
            "bdata": "u/4KK5dLYD4=",
            "dtype": "f8"
           },
           "yaxis": "y"
          },
          {
           "hovertemplate": "<b>%{hovertext}</b><br><br>Country Name=%{text}<br>Year=1983<br>Neerslag (mm/jaar)=%{x}<br>Uitstoot per ton geproduceerd (Mt/ton)=%{y}<extra></extra>",
           "hovertext": [
            "Japan"
           ],
           "legendgroup": "Japan",
           "marker": {
            "color": "#ab63fa",
            "symbol": "circle"
           },
           "mode": "markers+text",
           "name": "Japan",
           "orientation": "v",
           "showlegend": true,
           "text": [
            "Japan"
           ],
           "type": "scatter",
           "x": {
            "bdata": "AAAAAAAQmkA=",
            "dtype": "f8"
           },
           "xaxis": "x",
           "y": {
            "bdata": "lvSK2YOMcT4=",
            "dtype": "f8"
           },
           "yaxis": "y"
          },
          {
           "hovertemplate": "<b>%{hovertext}</b><br><br>Country Name=%{text}<br>Year=1983<br>Neerslag (mm/jaar)=%{x}<br>Uitstoot per ton geproduceerd (Mt/ton)=%{y}<extra></extra>",
           "hovertext": [
            "Nigeria"
           ],
           "legendgroup": "Nigeria",
           "marker": {
            "color": "#FFA15A",
            "symbol": "circle"
           },
           "mode": "markers+text",
           "name": "Nigeria",
           "orientation": "v",
           "showlegend": true,
           "text": [
            "Nigeria"
           ],
           "type": "scatter",
           "x": {
            "bdata": "AAAAAAD4kUA=",
            "dtype": "f8"
           },
           "xaxis": "x",
           "y": {
            "bdata": "VtdwmSE8Qj4=",
            "dtype": "f8"
           },
           "yaxis": "y"
          },
          {
           "hovertemplate": "<b>%{hovertext}</b><br><br>Country Name=%{text}<br>Year=1983<br>Neerslag (mm/jaar)=%{x}<br>Uitstoot per ton geproduceerd (Mt/ton)=%{y}<extra></extra>",
           "hovertext": [
            "South Africa"
           ],
           "legendgroup": "South Africa",
           "marker": {
            "color": "#19d3f3",
            "symbol": "circle"
           },
           "mode": "markers+text",
           "name": "South Africa",
           "orientation": "v",
           "showlegend": true,
           "text": [
            "South Africa"
           ],
           "type": "scatter",
           "x": {
            "bdata": "AAAAAADwfkA=",
            "dtype": "f8"
           },
           "xaxis": "x",
           "y": {
            "bdata": "E8ZoGMoGlD4=",
            "dtype": "f8"
           },
           "yaxis": "y"
          },
          {
           "hovertemplate": "<b>%{hovertext}</b><br><br>Country Name=%{text}<br>Year=1983<br>Neerslag (mm/jaar)=%{x}<br>Uitstoot per ton geproduceerd (Mt/ton)=%{y}<extra></extra>",
           "hovertext": [
            "United States of America"
           ],
           "legendgroup": "United States of America",
           "marker": {
            "color": "#FF6692",
            "symbol": "circle"
           },
           "mode": "markers+text",
           "name": "United States of America",
           "orientation": "v",
           "showlegend": true,
           "text": [
            "United States of America"
           ],
           "type": "scatter",
           "x": {
            "bdata": "AAAAAABYhkA=",
            "dtype": "f8"
           },
           "xaxis": "x",
           "y": {
            "bdata": "7nPw7sCHnz4=",
            "dtype": "f8"
           },
           "yaxis": "y"
          }
         ],
         "name": "1983"
        },
        {
         "data": [
          {
           "hovertemplate": "<b>%{hovertext}</b><br><br>Country Name=%{text}<br>Year=1984<br>Neerslag (mm/jaar)=%{x}<br>Uitstoot per ton geproduceerd (Mt/ton)=%{y}<extra></extra>",
           "hovertext": [
            "Brazil"
           ],
           "legendgroup": "Brazil",
           "marker": {
            "color": "#636efa",
            "symbol": "circle"
           },
           "mode": "markers+text",
           "name": "Brazil",
           "orientation": "v",
           "showlegend": true,
           "text": [
            "Brazil"
           ],
           "type": "scatter",
           "x": {
            "bdata": "AAAAAADYm0A=",
            "dtype": "f8"
           },
           "xaxis": "x",
           "y": {
            "bdata": "ioxX8FFXcz4=",
            "dtype": "f8"
           },
           "yaxis": "y"
          },
          {
           "hovertemplate": "<b>%{hovertext}</b><br><br>Country Name=%{text}<br>Year=1984<br>Neerslag (mm/jaar)=%{x}<br>Uitstoot per ton geproduceerd (Mt/ton)=%{y}<extra></extra>",
           "hovertext": [
            "India"
           ],
           "legendgroup": "India",
           "marker": {
            "color": "#EF553B",
            "symbol": "circle"
           },
           "mode": "markers+text",
           "name": "India",
           "orientation": "v",
           "showlegend": true,
           "text": [
            "India"
           ],
           "type": "scatter",
           "x": {
            "bdata": "AAAAAADskEA=",
            "dtype": "f8"
           },
           "xaxis": "x",
           "y": {
            "bdata": "0n2KobbMlT4=",
            "dtype": "f8"
           },
           "yaxis": "y"
          },
          {
           "hovertemplate": "<b>%{hovertext}</b><br><br>Country Name=%{text}<br>Year=1984<br>Neerslag (mm/jaar)=%{x}<br>Uitstoot per ton geproduceerd (Mt/ton)=%{y}<extra></extra>",
           "hovertext": [
            "Indonesia"
           ],
           "legendgroup": "Indonesia",
           "marker": {
            "color": "#00cc96",
            "symbol": "circle"
           },
           "mode": "markers+text",
           "name": "Indonesia",
           "orientation": "v",
           "showlegend": true,
           "text": [
            "Indonesia"
           ],
           "type": "scatter",
           "x": {
            "bdata": "AAAAAAAcpUA=",
            "dtype": "f8"
           },
           "xaxis": "x",
           "y": {
            "bdata": "IY725Ta8Xj4=",
            "dtype": "f8"
           },
           "yaxis": "y"
          },
          {
           "hovertemplate": "<b>%{hovertext}</b><br><br>Country Name=%{text}<br>Year=1984<br>Neerslag (mm/jaar)=%{x}<br>Uitstoot per ton geproduceerd (Mt/ton)=%{y}<extra></extra>",
           "hovertext": [
            "Japan"
           ],
           "legendgroup": "Japan",
           "marker": {
            "color": "#ab63fa",
            "symbol": "circle"
           },
           "mode": "markers+text",
           "name": "Japan",
           "orientation": "v",
           "showlegend": true,
           "text": [
            "Japan"
           ],
           "type": "scatter",
           "x": {
            "bdata": "AAAAAAAQmkA=",
            "dtype": "f8"
           },
           "xaxis": "x",
           "y": {
            "bdata": "ofHb55UycT4=",
            "dtype": "f8"
           },
           "yaxis": "y"
          },
          {
           "hovertemplate": "<b>%{hovertext}</b><br><br>Country Name=%{text}<br>Year=1984<br>Neerslag (mm/jaar)=%{x}<br>Uitstoot per ton geproduceerd (Mt/ton)=%{y}<extra></extra>",
           "hovertext": [
            "Nigeria"
           ],
           "legendgroup": "Nigeria",
           "marker": {
            "color": "#FFA15A",
            "symbol": "circle"
           },
           "mode": "markers+text",
           "name": "Nigeria",
           "orientation": "v",
           "showlegend": true,
           "text": [
            "Nigeria"
           ],
           "type": "scatter",
           "x": {
            "bdata": "AAAAAAD4kUA=",
            "dtype": "f8"
           },
           "xaxis": "x",
           "y": {
            "bdata": "zbQVV+fxQT4=",
            "dtype": "f8"
           },
           "yaxis": "y"
          },
          {
           "hovertemplate": "<b>%{hovertext}</b><br><br>Country Name=%{text}<br>Year=1984<br>Neerslag (mm/jaar)=%{x}<br>Uitstoot per ton geproduceerd (Mt/ton)=%{y}<extra></extra>",
           "hovertext": [
            "South Africa"
           ],
           "legendgroup": "South Africa",
           "marker": {
            "color": "#19d3f3",
            "symbol": "circle"
           },
           "mode": "markers+text",
           "name": "South Africa",
           "orientation": "v",
           "showlegend": true,
           "text": [
            "South Africa"
           ],
           "type": "scatter",
           "x": {
            "bdata": "AAAAAADwfkA=",
            "dtype": "f8"
           },
           "xaxis": "x",
           "y": {
            "bdata": "zdWZ9ZjsjT4=",
            "dtype": "f8"
           },
           "yaxis": "y"
          },
          {
           "hovertemplate": "<b>%{hovertext}</b><br><br>Country Name=%{text}<br>Year=1984<br>Neerslag (mm/jaar)=%{x}<br>Uitstoot per ton geproduceerd (Mt/ton)=%{y}<extra></extra>",
           "hovertext": [
            "United States of America"
           ],
           "legendgroup": "United States of America",
           "marker": {
            "color": "#FF6692",
            "symbol": "circle"
           },
           "mode": "markers+text",
           "name": "United States of America",
           "orientation": "v",
           "showlegend": true,
           "text": [
            "United States of America"
           ],
           "type": "scatter",
           "x": {
            "bdata": "AAAAAABYhkA=",
            "dtype": "f8"
           },
           "xaxis": "x",
           "y": {
            "bdata": "ISh/7Exknz4=",
            "dtype": "f8"
           },
           "yaxis": "y"
          }
         ],
         "name": "1984"
        },
        {
         "data": [
          {
           "hovertemplate": "<b>%{hovertext}</b><br><br>Country Name=%{text}<br>Year=1985<br>Neerslag (mm/jaar)=%{x}<br>Uitstoot per ton geproduceerd (Mt/ton)=%{y}<extra></extra>",
           "hovertext": [
            "Brazil"
           ],
           "legendgroup": "Brazil",
           "marker": {
            "color": "#636efa",
            "symbol": "circle"
           },
           "mode": "markers+text",
           "name": "Brazil",
           "orientation": "v",
           "showlegend": true,
           "text": [
            "Brazil"
           ],
           "type": "scatter",
           "x": {
            "bdata": "AAAAAADYm0A=",
            "dtype": "f8"
           },
           "xaxis": "x",
           "y": {
            "bdata": "8Y+RnX5DdT4=",
            "dtype": "f8"
           },
           "yaxis": "y"
          },
          {
           "hovertemplate": "<b>%{hovertext}</b><br><br>Country Name=%{text}<br>Year=1985<br>Neerslag (mm/jaar)=%{x}<br>Uitstoot per ton geproduceerd (Mt/ton)=%{y}<extra></extra>",
           "hovertext": [
            "India"
           ],
           "legendgroup": "India",
           "marker": {
            "color": "#EF553B",
            "symbol": "circle"
           },
           "mode": "markers+text",
           "name": "India",
           "orientation": "v",
           "showlegend": true,
           "text": [
            "India"
           ],
           "type": "scatter",
           "x": {
            "bdata": "AAAAAADskEA=",
            "dtype": "f8"
           },
           "xaxis": "x",
           "y": {
            "bdata": "hogwW3CClT4=",
            "dtype": "f8"
           },
           "yaxis": "y"
          },
          {
           "hovertemplate": "<b>%{hovertext}</b><br><br>Country Name=%{text}<br>Year=1985<br>Neerslag (mm/jaar)=%{x}<br>Uitstoot per ton geproduceerd (Mt/ton)=%{y}<extra></extra>",
           "hovertext": [
            "Indonesia"
           ],
           "legendgroup": "Indonesia",
           "marker": {
            "color": "#00cc96",
            "symbol": "circle"
           },
           "mode": "markers+text",
           "name": "Indonesia",
           "orientation": "v",
           "showlegend": true,
           "text": [
            "Indonesia"
           ],
           "type": "scatter",
           "x": {
            "bdata": "AAAAAAAcpUA=",
            "dtype": "f8"
           },
           "xaxis": "x",
           "y": {
            "bdata": "scPQSlVBYj4=",
            "dtype": "f8"
           },
           "yaxis": "y"
          },
          {
           "hovertemplate": "<b>%{hovertext}</b><br><br>Country Name=%{text}<br>Year=1985<br>Neerslag (mm/jaar)=%{x}<br>Uitstoot per ton geproduceerd (Mt/ton)=%{y}<extra></extra>",
           "hovertext": [
            "Japan"
           ],
           "legendgroup": "Japan",
           "marker": {
            "color": "#ab63fa",
            "symbol": "circle"
           },
           "mode": "markers+text",
           "name": "Japan",
           "orientation": "v",
           "showlegend": true,
           "text": [
            "Japan"
           ],
           "type": "scatter",
           "x": {
            "bdata": "AAAAAAAQmkA=",
            "dtype": "f8"
           },
           "xaxis": "x",
           "y": {
            "bdata": "iGZJxEAHcj4=",
            "dtype": "f8"
           },
           "yaxis": "y"
          },
          {
           "hovertemplate": "<b>%{hovertext}</b><br><br>Country Name=%{text}<br>Year=1985<br>Neerslag (mm/jaar)=%{x}<br>Uitstoot per ton geproduceerd (Mt/ton)=%{y}<extra></extra>",
           "hovertext": [
            "Nigeria"
           ],
           "legendgroup": "Nigeria",
           "marker": {
            "color": "#FFA15A",
            "symbol": "circle"
           },
           "mode": "markers+text",
           "name": "Nigeria",
           "orientation": "v",
           "showlegend": true,
           "text": [
            "Nigeria"
           ],
           "type": "scatter",
           "x": {
            "bdata": "AAAAAAD4kUA=",
            "dtype": "f8"
           },
           "xaxis": "x",
           "y": {
            "bdata": "v3AAsiVEUT4=",
            "dtype": "f8"
           },
           "yaxis": "y"
          },
          {
           "hovertemplate": "<b>%{hovertext}</b><br><br>Country Name=%{text}<br>Year=1985<br>Neerslag (mm/jaar)=%{x}<br>Uitstoot per ton geproduceerd (Mt/ton)=%{y}<extra></extra>",
           "hovertext": [
            "South Africa"
           ],
           "legendgroup": "South Africa",
           "marker": {
            "color": "#19d3f3",
            "symbol": "circle"
           },
           "mode": "markers+text",
           "name": "South Africa",
           "orientation": "v",
           "showlegend": true,
           "text": [
            "South Africa"
           ],
           "type": "scatter",
           "x": {
            "bdata": "AAAAAADwfkA=",
            "dtype": "f8"
           },
           "xaxis": "x",
           "y": {
            "bdata": "4IwMgwuRkD4=",
            "dtype": "f8"
           },
           "yaxis": "y"
          },
          {
           "hovertemplate": "<b>%{hovertext}</b><br><br>Country Name=%{text}<br>Year=1985<br>Neerslag (mm/jaar)=%{x}<br>Uitstoot per ton geproduceerd (Mt/ton)=%{y}<extra></extra>",
           "hovertext": [
            "United States of America"
           ],
           "legendgroup": "United States of America",
           "marker": {
            "color": "#FF6692",
            "symbol": "circle"
           },
           "mode": "markers+text",
           "name": "United States of America",
           "orientation": "v",
           "showlegend": true,
           "text": [
            "United States of America"
           ],
           "type": "scatter",
           "x": {
            "bdata": "AAAAAABYhkA=",
            "dtype": "f8"
           },
           "xaxis": "x",
           "y": {
            "bdata": "Hu+BkSd9nT4=",
            "dtype": "f8"
           },
           "yaxis": "y"
          }
         ],
         "name": "1985"
        },
        {
         "data": [
          {
           "hovertemplate": "<b>%{hovertext}</b><br><br>Country Name=%{text}<br>Year=1986<br>Neerslag (mm/jaar)=%{x}<br>Uitstoot per ton geproduceerd (Mt/ton)=%{y}<extra></extra>",
           "hovertext": [
            "Brazil"
           ],
           "legendgroup": "Brazil",
           "marker": {
            "color": "#636efa",
            "symbol": "circle"
           },
           "mode": "markers+text",
           "name": "Brazil",
           "orientation": "v",
           "showlegend": true,
           "text": [
            "Brazil"
           ],
           "type": "scatter",
           "x": {
            "bdata": "AAAAAADYm0A=",
            "dtype": "f8"
           },
           "xaxis": "x",
           "y": {
            "bdata": "R7xqsdB5eT4=",
            "dtype": "f8"
           },
           "yaxis": "y"
          },
          {
           "hovertemplate": "<b>%{hovertext}</b><br><br>Country Name=%{text}<br>Year=1986<br>Neerslag (mm/jaar)=%{x}<br>Uitstoot per ton geproduceerd (Mt/ton)=%{y}<extra></extra>",
           "hovertext": [
            "India"
           ],
           "legendgroup": "India",
           "marker": {
            "color": "#EF553B",
            "symbol": "circle"
           },
           "mode": "markers+text",
           "name": "India",
           "orientation": "v",
           "showlegend": true,
           "text": [
            "India"
           ],
           "type": "scatter",
           "x": {
            "bdata": "AAAAAADskEA=",
            "dtype": "f8"
           },
           "xaxis": "x",
           "y": {
            "bdata": "dsfBruImlT4=",
            "dtype": "f8"
           },
           "yaxis": "y"
          },
          {
           "hovertemplate": "<b>%{hovertext}</b><br><br>Country Name=%{text}<br>Year=1986<br>Neerslag (mm/jaar)=%{x}<br>Uitstoot per ton geproduceerd (Mt/ton)=%{y}<extra></extra>",
           "hovertext": [
            "Indonesia"
           ],
           "legendgroup": "Indonesia",
           "marker": {
            "color": "#00cc96",
            "symbol": "circle"
           },
           "mode": "markers+text",
           "name": "Indonesia",
           "orientation": "v",
           "showlegend": true,
           "text": [
            "Indonesia"
           ],
           "type": "scatter",
           "x": {
            "bdata": "AAAAAAAcpUA=",
            "dtype": "f8"
           },
           "xaxis": "x",
           "y": {
            "bdata": "AsJCBax3Yj4=",
            "dtype": "f8"
           },
           "yaxis": "y"
          },
          {
           "hovertemplate": "<b>%{hovertext}</b><br><br>Country Name=%{text}<br>Year=1986<br>Neerslag (mm/jaar)=%{x}<br>Uitstoot per ton geproduceerd (Mt/ton)=%{y}<extra></extra>",
           "hovertext": [
            "Japan"
           ],
           "legendgroup": "Japan",
           "marker": {
            "color": "#ab63fa",
            "symbol": "circle"
           },
           "mode": "markers+text",
           "name": "Japan",
           "orientation": "v",
           "showlegend": true,
           "text": [
            "Japan"
           ],
           "type": "scatter",
           "x": {
            "bdata": "AAAAAAAQmkA=",
            "dtype": "f8"
           },
           "xaxis": "x",
           "y": {
            "bdata": "fW+wKoaNcj4=",
            "dtype": "f8"
           },
           "yaxis": "y"
          },
          {
           "hovertemplate": "<b>%{hovertext}</b><br><br>Country Name=%{text}<br>Year=1986<br>Neerslag (mm/jaar)=%{x}<br>Uitstoot per ton geproduceerd (Mt/ton)=%{y}<extra></extra>",
           "hovertext": [
            "Nigeria"
           ],
           "legendgroup": "Nigeria",
           "marker": {
            "color": "#FFA15A",
            "symbol": "circle"
           },
           "mode": "markers+text",
           "name": "Nigeria",
           "orientation": "v",
           "showlegend": true,
           "text": [
            "Nigeria"
           ],
           "type": "scatter",
           "x": {
            "bdata": "AAAAAAD4kUA=",
            "dtype": "f8"
           },
           "xaxis": "x",
           "y": {
            "bdata": "rZhHReg5Uj4=",
            "dtype": "f8"
           },
           "yaxis": "y"
          },
          {
           "hovertemplate": "<b>%{hovertext}</b><br><br>Country Name=%{text}<br>Year=1986<br>Neerslag (mm/jaar)=%{x}<br>Uitstoot per ton geproduceerd (Mt/ton)=%{y}<extra></extra>",
           "hovertext": [
            "South Africa"
           ],
           "legendgroup": "South Africa",
           "marker": {
            "color": "#19d3f3",
            "symbol": "circle"
           },
           "mode": "markers+text",
           "name": "South Africa",
           "orientation": "v",
           "showlegend": true,
           "text": [
            "South Africa"
           ],
           "type": "scatter",
           "x": {
            "bdata": "AAAAAADwfkA=",
            "dtype": "f8"
           },
           "xaxis": "x",
           "y": {
            "bdata": "xzJ8HlA2kT4=",
            "dtype": "f8"
           },
           "yaxis": "y"
          },
          {
           "hovertemplate": "<b>%{hovertext}</b><br><br>Country Name=%{text}<br>Year=1986<br>Neerslag (mm/jaar)=%{x}<br>Uitstoot per ton geproduceerd (Mt/ton)=%{y}<extra></extra>",
           "hovertext": [
            "United States of America"
           ],
           "legendgroup": "United States of America",
           "marker": {
            "color": "#FF6692",
            "symbol": "circle"
           },
           "mode": "markers+text",
           "name": "United States of America",
           "orientation": "v",
           "showlegend": true,
           "text": [
            "United States of America"
           ],
           "type": "scatter",
           "x": {
            "bdata": "AAAAAABYhkA=",
            "dtype": "f8"
           },
           "xaxis": "x",
           "y": {
            "bdata": "6dnNa96rnD4=",
            "dtype": "f8"
           },
           "yaxis": "y"
          }
         ],
         "name": "1986"
        },
        {
         "data": [
          {
           "hovertemplate": "<b>%{hovertext}</b><br><br>Country Name=%{text}<br>Year=1987<br>Neerslag (mm/jaar)=%{x}<br>Uitstoot per ton geproduceerd (Mt/ton)=%{y}<extra></extra>",
           "hovertext": [
            "Brazil"
           ],
           "legendgroup": "Brazil",
           "marker": {
            "color": "#636efa",
            "symbol": "circle"
           },
           "mode": "markers+text",
           "name": "Brazil",
           "orientation": "v",
           "showlegend": true,
           "text": [
            "Brazil"
           ],
           "type": "scatter",
           "x": {
            "bdata": "AAAAAACEm0A=",
            "dtype": "f8"
           },
           "xaxis": "x",
           "y": {
            "bdata": "7xDDymckdz4=",
            "dtype": "f8"
           },
           "yaxis": "y"
          },
          {
           "hovertemplate": "<b>%{hovertext}</b><br><br>Country Name=%{text}<br>Year=1987<br>Neerslag (mm/jaar)=%{x}<br>Uitstoot per ton geproduceerd (Mt/ton)=%{y}<extra></extra>",
           "hovertext": [
            "India"
           ],
           "legendgroup": "India",
           "marker": {
            "color": "#EF553B",
            "symbol": "circle"
           },
           "mode": "markers+text",
           "name": "India",
           "orientation": "v",
           "showlegend": true,
           "text": [
            "India"
           ],
           "type": "scatter",
           "x": {
            "bdata": "AAAAAADskEA=",
            "dtype": "f8"
           },
           "xaxis": "x",
           "y": {
            "bdata": "F2K9mob2kz4=",
            "dtype": "f8"
           },
           "yaxis": "y"
          },
          {
           "hovertemplate": "<b>%{hovertext}</b><br><br>Country Name=%{text}<br>Year=1987<br>Neerslag (mm/jaar)=%{x}<br>Uitstoot per ton geproduceerd (Mt/ton)=%{y}<extra></extra>",
           "hovertext": [
            "Indonesia"
           ],
           "legendgroup": "Indonesia",
           "marker": {
            "color": "#00cc96",
            "symbol": "circle"
           },
           "mode": "markers+text",
           "name": "Indonesia",
           "orientation": "v",
           "showlegend": true,
           "text": [
            "Indonesia"
           ],
           "type": "scatter",
           "x": {
            "bdata": "AAAAAAAcpUA=",
            "dtype": "f8"
           },
           "xaxis": "x",
           "y": {
            "bdata": "Z8SAy4coYj4=",
            "dtype": "f8"
           },
           "yaxis": "y"
          },
          {
           "hovertemplate": "<b>%{hovertext}</b><br><br>Country Name=%{text}<br>Year=1987<br>Neerslag (mm/jaar)=%{x}<br>Uitstoot per ton geproduceerd (Mt/ton)=%{y}<extra></extra>",
           "hovertext": [
            "Japan"
           ],
           "legendgroup": "Japan",
           "marker": {
            "color": "#ab63fa",
            "symbol": "circle"
           },
           "mode": "markers+text",
           "name": "Japan",
           "orientation": "v",
           "showlegend": true,
           "text": [
            "Japan"
           ],
           "type": "scatter",
           "x": {
            "bdata": "AAAAAAAQmkA=",
            "dtype": "f8"
           },
           "xaxis": "x",
           "y": {
            "bdata": "MH2uNSY9cz4=",
            "dtype": "f8"
           },
           "yaxis": "y"
          },
          {
           "hovertemplate": "<b>%{hovertext}</b><br><br>Country Name=%{text}<br>Year=1987<br>Neerslag (mm/jaar)=%{x}<br>Uitstoot per ton geproduceerd (Mt/ton)=%{y}<extra></extra>",
           "hovertext": [
            "Nigeria"
           ],
           "legendgroup": "Nigeria",
           "marker": {
            "color": "#FFA15A",
            "symbol": "circle"
           },
           "mode": "markers+text",
           "name": "Nigeria",
           "orientation": "v",
           "showlegend": true,
           "text": [
            "Nigeria"
           ],
           "type": "scatter",
           "x": {
            "bdata": "AAAAAAD4kUA=",
            "dtype": "f8"
           },
           "xaxis": "x",
           "y": {
            "bdata": "LcAjsf+aUz4=",
            "dtype": "f8"
           },
           "yaxis": "y"
          },
          {
           "hovertemplate": "<b>%{hovertext}</b><br><br>Country Name=%{text}<br>Year=1987<br>Neerslag (mm/jaar)=%{x}<br>Uitstoot per ton geproduceerd (Mt/ton)=%{y}<extra></extra>",
           "hovertext": [
            "South Africa"
           ],
           "legendgroup": "South Africa",
           "marker": {
            "color": "#19d3f3",
            "symbol": "circle"
           },
           "mode": "markers+text",
           "name": "South Africa",
           "orientation": "v",
           "showlegend": true,
           "text": [
            "South Africa"
           ],
           "type": "scatter",
           "x": {
            "bdata": "AAAAAADwfkA=",
            "dtype": "f8"
           },
           "xaxis": "x",
           "y": {
            "bdata": "Wf5pRjg3jT4=",
            "dtype": "f8"
           },
           "yaxis": "y"
          },
          {
           "hovertemplate": "<b>%{hovertext}</b><br><br>Country Name=%{text}<br>Year=1987<br>Neerslag (mm/jaar)=%{x}<br>Uitstoot per ton geproduceerd (Mt/ton)=%{y}<extra></extra>",
           "hovertext": [
            "United States of America"
           ],
           "legendgroup": "United States of America",
           "marker": {
            "color": "#FF6692",
            "symbol": "circle"
           },
           "mode": "markers+text",
           "name": "United States of America",
           "orientation": "v",
           "showlegend": true,
           "text": [
            "United States of America"
           ],
           "type": "scatter",
           "x": {
            "bdata": "AAAAAABYhkA=",
            "dtype": "f8"
           },
           "xaxis": "x",
           "y": {
            "bdata": "DkDnM2lsmz4=",
            "dtype": "f8"
           },
           "yaxis": "y"
          }
         ],
         "name": "1987"
        },
        {
         "data": [
          {
           "hovertemplate": "<b>%{hovertext}</b><br><br>Country Name=%{text}<br>Year=1988<br>Neerslag (mm/jaar)=%{x}<br>Uitstoot per ton geproduceerd (Mt/ton)=%{y}<extra></extra>",
           "hovertext": [
            "Brazil"
           ],
           "legendgroup": "Brazil",
           "marker": {
            "color": "#636efa",
            "symbol": "circle"
           },
           "mode": "markers+text",
           "name": "Brazil",
           "orientation": "v",
           "showlegend": true,
           "text": [
            "Brazil"
           ],
           "type": "scatter",
           "x": {
            "bdata": "AAAAAADYm0A=",
            "dtype": "f8"
           },
           "xaxis": "x",
           "y": {
            "bdata": "urzB0wUjdz4=",
            "dtype": "f8"
           },
           "yaxis": "y"
          },
          {
           "hovertemplate": "<b>%{hovertext}</b><br><br>Country Name=%{text}<br>Year=1988<br>Neerslag (mm/jaar)=%{x}<br>Uitstoot per ton geproduceerd (Mt/ton)=%{y}<extra></extra>",
           "hovertext": [
            "India"
           ],
           "legendgroup": "India",
           "marker": {
            "color": "#EF553B",
            "symbol": "circle"
           },
           "mode": "markers+text",
           "name": "India",
           "orientation": "v",
           "showlegend": true,
           "text": [
            "India"
           ],
           "type": "scatter",
           "x": {
            "bdata": "AAAAAADskEA=",
            "dtype": "f8"
           },
           "xaxis": "x",
           "y": {
            "bdata": "hLfpDt8dkz4=",
            "dtype": "f8"
           },
           "yaxis": "y"
          },
          {
           "hovertemplate": "<b>%{hovertext}</b><br><br>Country Name=%{text}<br>Year=1988<br>Neerslag (mm/jaar)=%{x}<br>Uitstoot per ton geproduceerd (Mt/ton)=%{y}<extra></extra>",
           "hovertext": [
            "Indonesia"
           ],
           "legendgroup": "Indonesia",
           "marker": {
            "color": "#00cc96",
            "symbol": "circle"
           },
           "mode": "markers+text",
           "name": "Indonesia",
           "orientation": "v",
           "showlegend": true,
           "text": [
            "Indonesia"
           ],
           "type": "scatter",
           "x": {
            "bdata": "AAAAAAAcpUA=",
            "dtype": "f8"
           },
           "xaxis": "x",
           "y": {
            "bdata": "WwfEDNG4Yj4=",
            "dtype": "f8"
           },
           "yaxis": "y"
          },
          {
           "hovertemplate": "<b>%{hovertext}</b><br><br>Country Name=%{text}<br>Year=1988<br>Neerslag (mm/jaar)=%{x}<br>Uitstoot per ton geproduceerd (Mt/ton)=%{y}<extra></extra>",
           "hovertext": [
            "Japan"
           ],
           "legendgroup": "Japan",
           "marker": {
            "color": "#ab63fa",
            "symbol": "circle"
           },
           "mode": "markers+text",
           "name": "Japan",
           "orientation": "v",
           "showlegend": true,
           "text": [
            "Japan"
           ],
           "type": "scatter",
           "x": {
            "bdata": "AAAAAAAQmkA=",
            "dtype": "f8"
           },
           "xaxis": "x",
           "y": {
            "bdata": "temL0sDbdD4=",
            "dtype": "f8"
           },
           "yaxis": "y"
          },
          {
           "hovertemplate": "<b>%{hovertext}</b><br><br>Country Name=%{text}<br>Year=1988<br>Neerslag (mm/jaar)=%{x}<br>Uitstoot per ton geproduceerd (Mt/ton)=%{y}<extra></extra>",
           "hovertext": [
            "Nigeria"
           ],
           "legendgroup": "Nigeria",
           "marker": {
            "color": "#FFA15A",
            "symbol": "circle"
           },
           "mode": "markers+text",
           "name": "Nigeria",
           "orientation": "v",
           "showlegend": true,
           "text": [
            "Nigeria"
           ],
           "type": "scatter",
           "x": {
            "bdata": "AAAAAAD4kUA=",
            "dtype": "f8"
           },
           "xaxis": "x",
           "y": {
            "bdata": "VBpHpJpPRD4=",
            "dtype": "f8"
           },
           "yaxis": "y"
          },
          {
           "hovertemplate": "<b>%{hovertext}</b><br><br>Country Name=%{text}<br>Year=1988<br>Neerslag (mm/jaar)=%{x}<br>Uitstoot per ton geproduceerd (Mt/ton)=%{y}<extra></extra>",
           "hovertext": [
            "South Africa"
           ],
           "legendgroup": "South Africa",
           "marker": {
            "color": "#19d3f3",
            "symbol": "circle"
           },
           "mode": "markers+text",
           "name": "South Africa",
           "orientation": "v",
           "showlegend": true,
           "text": [
            "South Africa"
           ],
           "type": "scatter",
           "x": {
            "bdata": "AAAAAADwfkA=",
            "dtype": "f8"
           },
           "xaxis": "x",
           "y": {
            "bdata": "STperf/HkD4=",
            "dtype": "f8"
           },
           "yaxis": "y"
          },
          {
           "hovertemplate": "<b>%{hovertext}</b><br><br>Country Name=%{text}<br>Year=1988<br>Neerslag (mm/jaar)=%{x}<br>Uitstoot per ton geproduceerd (Mt/ton)=%{y}<extra></extra>",
           "hovertext": [
            "United States of America"
           ],
           "legendgroup": "United States of America",
           "marker": {
            "color": "#FF6692",
            "symbol": "circle"
           },
           "mode": "markers+text",
           "name": "United States of America",
           "orientation": "v",
           "showlegend": true,
           "text": [
            "United States of America"
           ],
           "type": "scatter",
           "x": {
            "bdata": "AAAAAABYhkA=",
            "dtype": "f8"
           },
           "xaxis": "x",
           "y": {
            "bdata": "RSVRoxOpnD4=",
            "dtype": "f8"
           },
           "yaxis": "y"
          }
         ],
         "name": "1988"
        },
        {
         "data": [
          {
           "hovertemplate": "<b>%{hovertext}</b><br><br>Country Name=%{text}<br>Year=1989<br>Neerslag (mm/jaar)=%{x}<br>Uitstoot per ton geproduceerd (Mt/ton)=%{y}<extra></extra>",
           "hovertext": [
            "Brazil"
           ],
           "legendgroup": "Brazil",
           "marker": {
            "color": "#636efa",
            "symbol": "circle"
           },
           "mode": "markers+text",
           "name": "Brazil",
           "orientation": "v",
           "showlegend": true,
           "text": [
            "Brazil"
           ],
           "type": "scatter",
           "x": {
            "bdata": "AAAAAADYm0A=",
            "dtype": "f8"
           },
           "xaxis": "x",
           "y": {
            "bdata": "hlr6NpXOdj4=",
            "dtype": "f8"
           },
           "yaxis": "y"
          },
          {
           "hovertemplate": "<b>%{hovertext}</b><br><br>Country Name=%{text}<br>Year=1989<br>Neerslag (mm/jaar)=%{x}<br>Uitstoot per ton geproduceerd (Mt/ton)=%{y}<extra></extra>",
           "hovertext": [
            "India"
           ],
           "legendgroup": "India",
           "marker": {
            "color": "#EF553B",
            "symbol": "circle"
           },
           "mode": "markers+text",
           "name": "India",
           "orientation": "v",
           "showlegend": true,
           "text": [
            "India"
           ],
           "type": "scatter",
           "x": {
            "bdata": "AAAAAADskEA=",
            "dtype": "f8"
           },
           "xaxis": "x",
           "y": {
            "bdata": "9LYKYVE2kz4=",
            "dtype": "f8"
           },
           "yaxis": "y"
          },
          {
           "hovertemplate": "<b>%{hovertext}</b><br><br>Country Name=%{text}<br>Year=1989<br>Neerslag (mm/jaar)=%{x}<br>Uitstoot per ton geproduceerd (Mt/ton)=%{y}<extra></extra>",
           "hovertext": [
            "Indonesia"
           ],
           "legendgroup": "Indonesia",
           "marker": {
            "color": "#00cc96",
            "symbol": "circle"
           },
           "mode": "markers+text",
           "name": "Indonesia",
           "orientation": "v",
           "showlegend": true,
           "text": [
            "Indonesia"
           ],
           "type": "scatter",
           "x": {
            "bdata": "AAAAAAAcpUA=",
            "dtype": "f8"
           },
           "xaxis": "x",
           "y": {
            "bdata": "MlV3W4NWYz4=",
            "dtype": "f8"
           },
           "yaxis": "y"
          },
          {
           "hovertemplate": "<b>%{hovertext}</b><br><br>Country Name=%{text}<br>Year=1989<br>Neerslag (mm/jaar)=%{x}<br>Uitstoot per ton geproduceerd (Mt/ton)=%{y}<extra></extra>",
           "hovertext": [
            "Japan"
           ],
           "legendgroup": "Japan",
           "marker": {
            "color": "#ab63fa",
            "symbol": "circle"
           },
           "mode": "markers+text",
           "name": "Japan",
           "orientation": "v",
           "showlegend": true,
           "text": [
            "Japan"
           ],
           "type": "scatter",
           "x": {
            "bdata": "AAAAAAAQmkA=",
            "dtype": "f8"
           },
           "xaxis": "x",
           "y": {
            "bdata": "KWZ0RfNldD4=",
            "dtype": "f8"
           },
           "yaxis": "y"
          },
          {
           "hovertemplate": "<b>%{hovertext}</b><br><br>Country Name=%{text}<br>Year=1989<br>Neerslag (mm/jaar)=%{x}<br>Uitstoot per ton geproduceerd (Mt/ton)=%{y}<extra></extra>",
           "hovertext": [
            "Nigeria"
           ],
           "legendgroup": "Nigeria",
           "marker": {
            "color": "#FFA15A",
            "symbol": "circle"
           },
           "mode": "markers+text",
           "name": "Nigeria",
           "orientation": "v",
           "showlegend": true,
           "text": [
            "Nigeria"
           ],
           "type": "scatter",
           "x": {
            "bdata": "AAAAAAD4kUA=",
            "dtype": "f8"
           },
           "xaxis": "x",
           "y": {
            "bdata": "bnFCGs4hRj4=",
            "dtype": "f8"
           },
           "yaxis": "y"
          },
          {
           "hovertemplate": "<b>%{hovertext}</b><br><br>Country Name=%{text}<br>Year=1989<br>Neerslag (mm/jaar)=%{x}<br>Uitstoot per ton geproduceerd (Mt/ton)=%{y}<extra></extra>",
           "hovertext": [
            "South Africa"
           ],
           "legendgroup": "South Africa",
           "marker": {
            "color": "#19d3f3",
            "symbol": "circle"
           },
           "mode": "markers+text",
           "name": "South Africa",
           "orientation": "v",
           "showlegend": true,
           "text": [
            "South Africa"
           ],
           "type": "scatter",
           "x": {
            "bdata": "AAAAAADwfkA=",
            "dtype": "f8"
           },
           "xaxis": "x",
           "y": {
            "bdata": "c2Nv9W7kjj4=",
            "dtype": "f8"
           },
           "yaxis": "y"
          },
          {
           "hovertemplate": "<b>%{hovertext}</b><br><br>Country Name=%{text}<br>Year=1989<br>Neerslag (mm/jaar)=%{x}<br>Uitstoot per ton geproduceerd (Mt/ton)=%{y}<extra></extra>",
           "hovertext": [
            "United States of America"
           ],
           "legendgroup": "United States of America",
           "marker": {
            "color": "#FF6692",
            "symbol": "circle"
           },
           "mode": "markers+text",
           "name": "United States of America",
           "orientation": "v",
           "showlegend": true,
           "text": [
            "United States of America"
           ],
           "type": "scatter",
           "x": {
            "bdata": "AAAAAABYhkA=",
            "dtype": "f8"
           },
           "xaxis": "x",
           "y": {
            "bdata": "GkO+Umdenj4=",
            "dtype": "f8"
           },
           "yaxis": "y"
          }
         ],
         "name": "1989"
        },
        {
         "data": [
          {
           "hovertemplate": "<b>%{hovertext}</b><br><br>Country Name=%{text}<br>Year=1990<br>Neerslag (mm/jaar)=%{x}<br>Uitstoot per ton geproduceerd (Mt/ton)=%{y}<extra></extra>",
           "hovertext": [
            "Brazil"
           ],
           "legendgroup": "Brazil",
           "marker": {
            "color": "#636efa",
            "symbol": "circle"
           },
           "mode": "markers+text",
           "name": "Brazil",
           "orientation": "v",
           "showlegend": true,
           "text": [
            "Brazil"
           ],
           "type": "scatter",
           "x": {
            "bdata": "AAAAAADYm0A=",
            "dtype": "f8"
           },
           "xaxis": "x",
           "y": {
            "bdata": "zzsGVsOrdD4=",
            "dtype": "f8"
           },
           "yaxis": "y"
          },
          {
           "hovertemplate": "<b>%{hovertext}</b><br><br>Country Name=%{text}<br>Year=1990<br>Neerslag (mm/jaar)=%{x}<br>Uitstoot per ton geproduceerd (Mt/ton)=%{y}<extra></extra>",
           "hovertext": [
            "India"
           ],
           "legendgroup": "India",
           "marker": {
            "color": "#EF553B",
            "symbol": "circle"
           },
           "mode": "markers+text",
           "name": "India",
           "orientation": "v",
           "showlegend": true,
           "text": [
            "India"
           ],
           "type": "scatter",
           "x": {
            "bdata": "AAAAAADskEA=",
            "dtype": "f8"
           },
           "xaxis": "x",
           "y": {
            "bdata": "cgMHdVujkT4=",
            "dtype": "f8"
           },
           "yaxis": "y"
          },
          {
           "hovertemplate": "<b>%{hovertext}</b><br><br>Country Name=%{text}<br>Year=1990<br>Neerslag (mm/jaar)=%{x}<br>Uitstoot per ton geproduceerd (Mt/ton)=%{y}<extra></extra>",
           "hovertext": [
            "Indonesia"
           ],
           "legendgroup": "Indonesia",
           "marker": {
            "color": "#00cc96",
            "symbol": "circle"
           },
           "mode": "markers+text",
           "name": "Indonesia",
           "orientation": "v",
           "showlegend": true,
           "text": [
            "Indonesia"
           ],
           "type": "scatter",
           "x": {
            "bdata": "AAAAAAAcpUA=",
            "dtype": "f8"
           },
           "xaxis": "x",
           "y": {
            "bdata": "d+6EvY3hYj4=",
            "dtype": "f8"
           },
           "yaxis": "y"
          },
          {
           "hovertemplate": "<b>%{hovertext}</b><br><br>Country Name=%{text}<br>Year=1990<br>Neerslag (mm/jaar)=%{x}<br>Uitstoot per ton geproduceerd (Mt/ton)=%{y}<extra></extra>",
           "hovertext": [
            "Japan"
           ],
           "legendgroup": "Japan",
           "marker": {
            "color": "#ab63fa",
            "symbol": "circle"
           },
           "mode": "markers+text",
           "name": "Japan",
           "orientation": "v",
           "showlegend": true,
           "text": [
            "Japan"
           ],
           "type": "scatter",
           "x": {
            "bdata": "AAAAAAAQmkA=",
            "dtype": "f8"
           },
           "xaxis": "x",
           "y": {
            "bdata": "TMmugIZMhj4=",
            "dtype": "f8"
           },
           "yaxis": "y"
          },
          {
           "hovertemplate": "<b>%{hovertext}</b><br><br>Country Name=%{text}<br>Year=1990<br>Neerslag (mm/jaar)=%{x}<br>Uitstoot per ton geproduceerd (Mt/ton)=%{y}<extra></extra>",
           "hovertext": [
            "Nigeria"
           ],
           "legendgroup": "Nigeria",
           "marker": {
            "color": "#FFA15A",
            "symbol": "circle"
           },
           "mode": "markers+text",
           "name": "Nigeria",
           "orientation": "v",
           "showlegend": true,
           "text": [
            "Nigeria"
           ],
           "type": "scatter",
           "x": {
            "bdata": "AAAAAAD4kUA=",
            "dtype": "f8"
           },
           "xaxis": "x",
           "y": {
            "bdata": "vphRDwdwRD4=",
            "dtype": "f8"
           },
           "yaxis": "y"
          },
          {
           "hovertemplate": "<b>%{hovertext}</b><br><br>Country Name=%{text}<br>Year=1990<br>Neerslag (mm/jaar)=%{x}<br>Uitstoot per ton geproduceerd (Mt/ton)=%{y}<extra></extra>",
           "hovertext": [
            "South Africa"
           ],
           "legendgroup": "South Africa",
           "marker": {
            "color": "#19d3f3",
            "symbol": "circle"
           },
           "mode": "markers+text",
           "name": "South Africa",
           "orientation": "v",
           "showlegend": true,
           "text": [
            "South Africa"
           ],
           "type": "scatter",
           "x": {
            "bdata": "AAAAAADwfkA=",
            "dtype": "f8"
           },
           "xaxis": "x",
           "y": {
            "bdata": "Vo9z5STyiz4=",
            "dtype": "f8"
           },
           "yaxis": "y"
          },
          {
           "hovertemplate": "<b>%{hovertext}</b><br><br>Country Name=%{text}<br>Year=1990<br>Neerslag (mm/jaar)=%{x}<br>Uitstoot per ton geproduceerd (Mt/ton)=%{y}<extra></extra>",
           "hovertext": [
            "United States of America"
           ],
           "legendgroup": "United States of America",
           "marker": {
            "color": "#FF6692",
            "symbol": "circle"
           },
           "mode": "markers+text",
           "name": "United States of America",
           "orientation": "v",
           "showlegend": true,
           "text": [
            "United States of America"
           ],
           "type": "scatter",
           "x": {
            "bdata": "AAAAAABYhkA=",
            "dtype": "f8"
           },
           "xaxis": "x",
           "y": {
            "bdata": "EGP9hm7Toz4=",
            "dtype": "f8"
           },
           "yaxis": "y"
          }
         ],
         "name": "1990"
        },
        {
         "data": [
          {
           "hovertemplate": "<b>%{hovertext}</b><br><br>Country Name=%{text}<br>Year=1991<br>Neerslag (mm/jaar)=%{x}<br>Uitstoot per ton geproduceerd (Mt/ton)=%{y}<extra></extra>",
           "hovertext": [
            "Brazil"
           ],
           "legendgroup": "Brazil",
           "marker": {
            "color": "#636efa",
            "symbol": "circle"
           },
           "mode": "markers+text",
           "name": "Brazil",
           "orientation": "v",
           "showlegend": true,
           "text": [
            "Brazil"
           ],
           "type": "scatter",
           "x": {
            "bdata": "AAAAAADYm0A=",
            "dtype": "f8"
           },
           "xaxis": "x",
           "y": {
            "bdata": "P8ZJI+YPcz4=",
            "dtype": "f8"
           },
           "yaxis": "y"
          },
          {
           "hovertemplate": "<b>%{hovertext}</b><br><br>Country Name=%{text}<br>Year=1991<br>Neerslag (mm/jaar)=%{x}<br>Uitstoot per ton geproduceerd (Mt/ton)=%{y}<extra></extra>",
           "hovertext": [
            "India"
           ],
           "legendgroup": "India",
           "marker": {
            "color": "#EF553B",
            "symbol": "circle"
           },
           "mode": "markers+text",
           "name": "India",
           "orientation": "v",
           "showlegend": true,
           "text": [
            "India"
           ],
           "type": "scatter",
           "x": {
            "bdata": "AAAAAADskEA=",
            "dtype": "f8"
           },
           "xaxis": "x",
           "y": {
            "bdata": "xnpntGnFkT4=",
            "dtype": "f8"
           },
           "yaxis": "y"
          },
          {
           "hovertemplate": "<b>%{hovertext}</b><br><br>Country Name=%{text}<br>Year=1991<br>Neerslag (mm/jaar)=%{x}<br>Uitstoot per ton geproduceerd (Mt/ton)=%{y}<extra></extra>",
           "hovertext": [
            "Indonesia"
           ],
           "legendgroup": "Indonesia",
           "marker": {
            "color": "#00cc96",
            "symbol": "circle"
           },
           "mode": "markers+text",
           "name": "Indonesia",
           "orientation": "v",
           "showlegend": true,
           "text": [
            "Indonesia"
           ],
           "type": "scatter",
           "x": {
            "bdata": "AAAAAAAcpUA=",
            "dtype": "f8"
           },
           "xaxis": "x",
           "y": {
            "bdata": "DGOz11S0Yz4=",
            "dtype": "f8"
           },
           "yaxis": "y"
          },
          {
           "hovertemplate": "<b>%{hovertext}</b><br><br>Country Name=%{text}<br>Year=1991<br>Neerslag (mm/jaar)=%{x}<br>Uitstoot per ton geproduceerd (Mt/ton)=%{y}<extra></extra>",
           "hovertext": [
            "Japan"
           ],
           "legendgroup": "Japan",
           "marker": {
            "color": "#ab63fa",
            "symbol": "circle"
           },
           "mode": "markers+text",
           "name": "Japan",
           "orientation": "v",
           "showlegend": true,
           "text": [
            "Japan"
           ],
           "type": "scatter",
           "x": {
            "bdata": "AAAAAAAQmkA=",
            "dtype": "f8"
           },
           "xaxis": "x",
           "y": {
            "bdata": "kAm9RPA6hT4=",
            "dtype": "f8"
           },
           "yaxis": "y"
          },
          {
           "hovertemplate": "<b>%{hovertext}</b><br><br>Country Name=%{text}<br>Year=1991<br>Neerslag (mm/jaar)=%{x}<br>Uitstoot per ton geproduceerd (Mt/ton)=%{y}<extra></extra>",
           "hovertext": [
            "Nigeria"
           ],
           "legendgroup": "Nigeria",
           "marker": {
            "color": "#FFA15A",
            "symbol": "circle"
           },
           "mode": "markers+text",
           "name": "Nigeria",
           "orientation": "v",
           "showlegend": true,
           "text": [
            "Nigeria"
           ],
           "type": "scatter",
           "x": {
            "bdata": "AAAAAAD4kUA=",
            "dtype": "f8"
           },
           "xaxis": "x",
           "y": {
            "bdata": "vhduP466QD4=",
            "dtype": "f8"
           },
           "yaxis": "y"
          },
          {
           "hovertemplate": "<b>%{hovertext}</b><br><br>Country Name=%{text}<br>Year=1991<br>Neerslag (mm/jaar)=%{x}<br>Uitstoot per ton geproduceerd (Mt/ton)=%{y}<extra></extra>",
           "hovertext": [
            "South Africa"
           ],
           "legendgroup": "South Africa",
           "marker": {
            "color": "#19d3f3",
            "symbol": "circle"
           },
           "mode": "markers+text",
           "name": "South Africa",
           "orientation": "v",
           "showlegend": true,
           "text": [
            "South Africa"
           ],
           "type": "scatter",
           "x": {
            "bdata": "AAAAAADwfkA=",
            "dtype": "f8"
           },
           "xaxis": "x",
           "y": {
            "bdata": "YLRs4ZVaiT4=",
            "dtype": "f8"
           },
           "yaxis": "y"
          },
          {
           "hovertemplate": "<b>%{hovertext}</b><br><br>Country Name=%{text}<br>Year=1991<br>Neerslag (mm/jaar)=%{x}<br>Uitstoot per ton geproduceerd (Mt/ton)=%{y}<extra></extra>",
           "hovertext": [
            "United States of America"
           ],
           "legendgroup": "United States of America",
           "marker": {
            "color": "#FF6692",
            "symbol": "circle"
           },
           "mode": "markers+text",
           "name": "United States of America",
           "orientation": "v",
           "showlegend": true,
           "text": [
            "United States of America"
           ],
           "type": "scatter",
           "x": {
            "bdata": "AAAAAABYhkA=",
            "dtype": "f8"
           },
           "xaxis": "x",
           "y": {
            "bdata": "hayzm5ZjoT4=",
            "dtype": "f8"
           },
           "yaxis": "y"
          }
         ],
         "name": "1991"
        },
        {
         "data": [
          {
           "hovertemplate": "<b>%{hovertext}</b><br><br>Country Name=%{text}<br>Year=1992<br>Neerslag (mm/jaar)=%{x}<br>Uitstoot per ton geproduceerd (Mt/ton)=%{y}<extra></extra>",
           "hovertext": [
            "Brazil"
           ],
           "legendgroup": "Brazil",
           "marker": {
            "color": "#636efa",
            "symbol": "circle"
           },
           "mode": "markers+text",
           "name": "Brazil",
           "orientation": "v",
           "showlegend": true,
           "text": [
            "Brazil"
           ],
           "type": "scatter",
           "x": {
            "bdata": "AAAAAACEm0A=",
            "dtype": "f8"
           },
           "xaxis": "x",
           "y": {
            "bdata": "i+Ehuckdcj4=",
            "dtype": "f8"
           },
           "yaxis": "y"
          },
          {
           "hovertemplate": "<b>%{hovertext}</b><br><br>Country Name=%{text}<br>Year=1992<br>Neerslag (mm/jaar)=%{x}<br>Uitstoot per ton geproduceerd (Mt/ton)=%{y}<extra></extra>",
           "hovertext": [
            "India"
           ],
           "legendgroup": "India",
           "marker": {
            "color": "#EF553B",
            "symbol": "circle"
           },
           "mode": "markers+text",
           "name": "India",
           "orientation": "v",
           "showlegend": true,
           "text": [
            "India"
           ],
           "type": "scatter",
           "x": {
            "bdata": "AAAAAADskEA=",
            "dtype": "f8"
           },
           "xaxis": "x",
           "y": {
            "bdata": "ZdnbYlVZkD4=",
            "dtype": "f8"
           },
           "yaxis": "y"
          },
          {
           "hovertemplate": "<b>%{hovertext}</b><br><br>Country Name=%{text}<br>Year=1992<br>Neerslag (mm/jaar)=%{x}<br>Uitstoot per ton geproduceerd (Mt/ton)=%{y}<extra></extra>",
           "hovertext": [
            "Indonesia"
           ],
           "legendgroup": "Indonesia",
           "marker": {
            "color": "#00cc96",
            "symbol": "circle"
           },
           "mode": "markers+text",
           "name": "Indonesia",
           "orientation": "v",
           "showlegend": true,
           "text": [
            "Indonesia"
           ],
           "type": "scatter",
           "x": {
            "bdata": "AAAAAAAcpUA=",
            "dtype": "f8"
           },
           "xaxis": "x",
           "y": {
            "bdata": "s61T/43uYj4=",
            "dtype": "f8"
           },
           "yaxis": "y"
          },
          {
           "hovertemplate": "<b>%{hovertext}</b><br><br>Country Name=%{text}<br>Year=1992<br>Neerslag (mm/jaar)=%{x}<br>Uitstoot per ton geproduceerd (Mt/ton)=%{y}<extra></extra>",
           "hovertext": [
            "Japan"
           ],
           "legendgroup": "Japan",
           "marker": {
            "color": "#ab63fa",
            "symbol": "circle"
           },
           "mode": "markers+text",
           "name": "Japan",
           "orientation": "v",
           "showlegend": true,
           "text": [
            "Japan"
           ],
           "type": "scatter",
           "x": {
            "bdata": "AAAAAAAQmkA=",
            "dtype": "f8"
           },
           "xaxis": "x",
           "y": {
            "bdata": "GMFi3gPTgz4=",
            "dtype": "f8"
           },
           "yaxis": "y"
          },
          {
           "hovertemplate": "<b>%{hovertext}</b><br><br>Country Name=%{text}<br>Year=1992<br>Neerslag (mm/jaar)=%{x}<br>Uitstoot per ton geproduceerd (Mt/ton)=%{y}<extra></extra>",
           "hovertext": [
            "Nigeria"
           ],
           "legendgroup": "Nigeria",
           "marker": {
            "color": "#FFA15A",
            "symbol": "circle"
           },
           "mode": "markers+text",
           "name": "Nigeria",
           "orientation": "v",
           "showlegend": true,
           "text": [
            "Nigeria"
           ],
           "type": "scatter",
           "x": {
            "bdata": "AAAAAAD4kUA=",
            "dtype": "f8"
           },
           "xaxis": "x",
           "y": {
            "bdata": "4n5TbDrKNj4=",
            "dtype": "f8"
           },
           "yaxis": "y"
          },
          {
           "hovertemplate": "<b>%{hovertext}</b><br><br>Country Name=%{text}<br>Year=1992<br>Neerslag (mm/jaar)=%{x}<br>Uitstoot per ton geproduceerd (Mt/ton)=%{y}<extra></extra>",
           "hovertext": [
            "South Africa"
           ],
           "legendgroup": "South Africa",
           "marker": {
            "color": "#19d3f3",
            "symbol": "circle"
           },
           "mode": "markers+text",
           "name": "South Africa",
           "orientation": "v",
           "showlegend": true,
           "text": [
            "South Africa"
           ],
           "type": "scatter",
           "x": {
            "bdata": "AAAAAADwfkA=",
            "dtype": "f8"
           },
           "xaxis": "x",
           "y": {
            "bdata": "awIstcfLhj4=",
            "dtype": "f8"
           },
           "yaxis": "y"
          },
          {
           "hovertemplate": "<b>%{hovertext}</b><br><br>Country Name=%{text}<br>Year=1992<br>Neerslag (mm/jaar)=%{x}<br>Uitstoot per ton geproduceerd (Mt/ton)=%{y}<extra></extra>",
           "hovertext": [
            "United States of America"
           ],
           "legendgroup": "United States of America",
           "marker": {
            "color": "#FF6692",
            "symbol": "circle"
           },
           "mode": "markers+text",
           "name": "United States of America",
           "orientation": "v",
           "showlegend": true,
           "text": [
            "United States of America"
           ],
           "type": "scatter",
           "x": {
            "bdata": "AAAAAABYhkA=",
            "dtype": "f8"
           },
           "xaxis": "x",
           "y": {
            "bdata": "QO8TdobHoT4=",
            "dtype": "f8"
           },
           "yaxis": "y"
          }
         ],
         "name": "1992"
        },
        {
         "data": [
          {
           "hovertemplate": "<b>%{hovertext}</b><br><br>Country Name=%{text}<br>Year=1993<br>Neerslag (mm/jaar)=%{x}<br>Uitstoot per ton geproduceerd (Mt/ton)=%{y}<extra></extra>",
           "hovertext": [
            "Brazil"
           ],
           "legendgroup": "Brazil",
           "marker": {
            "color": "#636efa",
            "symbol": "circle"
           },
           "mode": "markers+text",
           "name": "Brazil",
           "orientation": "v",
           "showlegend": true,
           "text": [
            "Brazil"
           ],
           "type": "scatter",
           "x": {
            "bdata": "AAAAAADYm0A=",
            "dtype": "f8"
           },
           "xaxis": "x",
           "y": {
            "bdata": "svYd2BV1cT4=",
            "dtype": "f8"
           },
           "yaxis": "y"
          },
          {
           "hovertemplate": "<b>%{hovertext}</b><br><br>Country Name=%{text}<br>Year=1993<br>Neerslag (mm/jaar)=%{x}<br>Uitstoot per ton geproduceerd (Mt/ton)=%{y}<extra></extra>",
           "hovertext": [
            "India"
           ],
           "legendgroup": "India",
           "marker": {
            "color": "#EF553B",
            "symbol": "circle"
           },
           "mode": "markers+text",
           "name": "India",
           "orientation": "v",
           "showlegend": true,
           "text": [
            "India"
           ],
           "type": "scatter",
           "x": {
            "bdata": "AAAAAADskEA=",
            "dtype": "f8"
           },
           "xaxis": "x",
           "y": {
            "bdata": "b6Y0dGQMkj4=",
            "dtype": "f8"
           },
           "yaxis": "y"
          },
          {
           "hovertemplate": "<b>%{hovertext}</b><br><br>Country Name=%{text}<br>Year=1993<br>Neerslag (mm/jaar)=%{x}<br>Uitstoot per ton geproduceerd (Mt/ton)=%{y}<extra></extra>",
           "hovertext": [
            "Indonesia"
           ],
           "legendgroup": "Indonesia",
           "marker": {
            "color": "#00cc96",
            "symbol": "circle"
           },
           "mode": "markers+text",
           "name": "Indonesia",
           "orientation": "v",
           "showlegend": true,
           "text": [
            "Indonesia"
           ],
           "type": "scatter",
           "x": {
            "bdata": "AAAAAAAcpUA=",
            "dtype": "f8"
           },
           "xaxis": "x",
           "y": {
            "bdata": "6YckcvCVYz4=",
            "dtype": "f8"
           },
           "yaxis": "y"
          },
          {
           "hovertemplate": "<b>%{hovertext}</b><br><br>Country Name=%{text}<br>Year=1993<br>Neerslag (mm/jaar)=%{x}<br>Uitstoot per ton geproduceerd (Mt/ton)=%{y}<extra></extra>",
           "hovertext": [
            "Japan"
           ],
           "legendgroup": "Japan",
           "marker": {
            "color": "#ab63fa",
            "symbol": "circle"
           },
           "mode": "markers+text",
           "name": "Japan",
           "orientation": "v",
           "showlegend": true,
           "text": [
            "Japan"
           ],
           "type": "scatter",
           "x": {
            "bdata": "AAAAAAAQmkA=",
            "dtype": "f8"
           },
           "xaxis": "x",
           "y": {
            "bdata": "mXNpjyCrgj4=",
            "dtype": "f8"
           },
           "yaxis": "y"
          },
          {
           "hovertemplate": "<b>%{hovertext}</b><br><br>Country Name=%{text}<br>Year=1993<br>Neerslag (mm/jaar)=%{x}<br>Uitstoot per ton geproduceerd (Mt/ton)=%{y}<extra></extra>",
           "hovertext": [
            "Nigeria"
           ],
           "legendgroup": "Nigeria",
           "marker": {
            "color": "#FFA15A",
            "symbol": "circle"
           },
           "mode": "markers+text",
           "name": "Nigeria",
           "orientation": "v",
           "showlegend": true,
           "text": [
            "Nigeria"
           ],
           "type": "scatter",
           "x": {
            "bdata": "AAAAAAD4kUA=",
            "dtype": "f8"
           },
           "xaxis": "x",
           "y": {
            "bdata": "QqjSVkkkMT4=",
            "dtype": "f8"
           },
           "yaxis": "y"
          },
          {
           "hovertemplate": "<b>%{hovertext}</b><br><br>Country Name=%{text}<br>Year=1993<br>Neerslag (mm/jaar)=%{x}<br>Uitstoot per ton geproduceerd (Mt/ton)=%{y}<extra></extra>",
           "hovertext": [
            "South Africa"
           ],
           "legendgroup": "South Africa",
           "marker": {
            "color": "#19d3f3",
            "symbol": "circle"
           },
           "mode": "markers+text",
           "name": "South Africa",
           "orientation": "v",
           "showlegend": true,
           "text": [
            "South Africa"
           ],
           "type": "scatter",
           "x": {
            "bdata": "AAAAAADwfkA=",
            "dtype": "f8"
           },
           "xaxis": "x",
           "y": {
            "bdata": "klRC+D6Qjj4=",
            "dtype": "f8"
           },
           "yaxis": "y"
          },
          {
           "hovertemplate": "<b>%{hovertext}</b><br><br>Country Name=%{text}<br>Year=1993<br>Neerslag (mm/jaar)=%{x}<br>Uitstoot per ton geproduceerd (Mt/ton)=%{y}<extra></extra>",
           "hovertext": [
            "United States of America"
           ],
           "legendgroup": "United States of America",
           "marker": {
            "color": "#FF6692",
            "symbol": "circle"
           },
           "mode": "markers+text",
           "name": "United States of America",
           "orientation": "v",
           "showlegend": true,
           "text": [
            "United States of America"
           ],
           "type": "scatter",
           "x": {
            "bdata": "AAAAAABYhkA=",
            "dtype": "f8"
           },
           "xaxis": "x",
           "y": {
            "bdata": "uPmLWWH4oj4=",
            "dtype": "f8"
           },
           "yaxis": "y"
          }
         ],
         "name": "1993"
        },
        {
         "data": [
          {
           "hovertemplate": "<b>%{hovertext}</b><br><br>Country Name=%{text}<br>Year=1994<br>Neerslag (mm/jaar)=%{x}<br>Uitstoot per ton geproduceerd (Mt/ton)=%{y}<extra></extra>",
           "hovertext": [
            "Brazil"
           ],
           "legendgroup": "Brazil",
           "marker": {
            "color": "#636efa",
            "symbol": "circle"
           },
           "mode": "markers+text",
           "name": "Brazil",
           "orientation": "v",
           "showlegend": true,
           "text": [
            "Brazil"
           ],
           "type": "scatter",
           "x": {
            "bdata": "AAAAAADYm0A=",
            "dtype": "f8"
           },
           "xaxis": "x",
           "y": {
            "bdata": "ryVatVcQcD4=",
            "dtype": "f8"
           },
           "yaxis": "y"
          },
          {
           "hovertemplate": "<b>%{hovertext}</b><br><br>Country Name=%{text}<br>Year=1994<br>Neerslag (mm/jaar)=%{x}<br>Uitstoot per ton geproduceerd (Mt/ton)=%{y}<extra></extra>",
           "hovertext": [
            "India"
           ],
           "legendgroup": "India",
           "marker": {
            "color": "#EF553B",
            "symbol": "circle"
           },
           "mode": "markers+text",
           "name": "India",
           "orientation": "v",
           "showlegend": true,
           "text": [
            "India"
           ],
           "type": "scatter",
           "x": {
            "bdata": "AAAAAADskEA=",
            "dtype": "f8"
           },
           "xaxis": "x",
           "y": {
            "bdata": "hUvVWR80kj4=",
            "dtype": "f8"
           },
           "yaxis": "y"
          },
          {
           "hovertemplate": "<b>%{hovertext}</b><br><br>Country Name=%{text}<br>Year=1994<br>Neerslag (mm/jaar)=%{x}<br>Uitstoot per ton geproduceerd (Mt/ton)=%{y}<extra></extra>",
           "hovertext": [
            "Indonesia"
           ],
           "legendgroup": "Indonesia",
           "marker": {
            "color": "#00cc96",
            "symbol": "circle"
           },
           "mode": "markers+text",
           "name": "Indonesia",
           "orientation": "v",
           "showlegend": true,
           "text": [
            "Indonesia"
           ],
           "type": "scatter",
           "x": {
            "bdata": "AAAAAAAcpUA=",
            "dtype": "f8"
           },
           "xaxis": "x",
           "y": {
            "bdata": "AuA9M8GCYz4=",
            "dtype": "f8"
           },
           "yaxis": "y"
          },
          {
           "hovertemplate": "<b>%{hovertext}</b><br><br>Country Name=%{text}<br>Year=1994<br>Neerslag (mm/jaar)=%{x}<br>Uitstoot per ton geproduceerd (Mt/ton)=%{y}<extra></extra>",
           "hovertext": [
            "Japan"
           ],
           "legendgroup": "Japan",
           "marker": {
            "color": "#ab63fa",
            "symbol": "circle"
           },
           "mode": "markers+text",
           "name": "Japan",
           "orientation": "v",
           "showlegend": true,
           "text": [
            "Japan"
           ],
           "type": "scatter",
           "x": {
            "bdata": "AAAAAAAQmkA=",
            "dtype": "f8"
           },
           "xaxis": "x",
           "y": {
            "bdata": "ICO8ARX/fj4=",
            "dtype": "f8"
           },
           "yaxis": "y"
          },
          {
           "hovertemplate": "<b>%{hovertext}</b><br><br>Country Name=%{text}<br>Year=1994<br>Neerslag (mm/jaar)=%{x}<br>Uitstoot per ton geproduceerd (Mt/ton)=%{y}<extra></extra>",
           "hovertext": [
            "Nigeria"
           ],
           "legendgroup": "Nigeria",
           "marker": {
            "color": "#FFA15A",
            "symbol": "circle"
           },
           "mode": "markers+text",
           "name": "Nigeria",
           "orientation": "v",
           "showlegend": true,
           "text": [
            "Nigeria"
           ],
           "type": "scatter",
           "x": {
            "bdata": "AAAAAAD4kUA=",
            "dtype": "f8"
           },
           "xaxis": "x",
           "y": {
            "bdata": "CyymthffLT4=",
            "dtype": "f8"
           },
           "yaxis": "y"
          },
          {
           "hovertemplate": "<b>%{hovertext}</b><br><br>Country Name=%{text}<br>Year=1994<br>Neerslag (mm/jaar)=%{x}<br>Uitstoot per ton geproduceerd (Mt/ton)=%{y}<extra></extra>",
           "hovertext": [
            "South Africa"
           ],
           "legendgroup": "South Africa",
           "marker": {
            "color": "#19d3f3",
            "symbol": "circle"
           },
           "mode": "markers+text",
           "name": "South Africa",
           "orientation": "v",
           "showlegend": true,
           "text": [
            "South Africa"
           ],
           "type": "scatter",
           "x": {
            "bdata": "AAAAAADwfkA=",
            "dtype": "f8"
           },
           "xaxis": "x",
           "y": {
            "bdata": "K9g7eKuniD4=",
            "dtype": "f8"
           },
           "yaxis": "y"
          },
          {
           "hovertemplate": "<b>%{hovertext}</b><br><br>Country Name=%{text}<br>Year=1994<br>Neerslag (mm/jaar)=%{x}<br>Uitstoot per ton geproduceerd (Mt/ton)=%{y}<extra></extra>",
           "hovertext": [
            "United States of America"
           ],
           "legendgroup": "United States of America",
           "marker": {
            "color": "#FF6692",
            "symbol": "circle"
           },
           "mode": "markers+text",
           "name": "United States of America",
           "orientation": "v",
           "showlegend": true,
           "text": [
            "United States of America"
           ],
           "type": "scatter",
           "x": {
            "bdata": "AAAAAABYhkA=",
            "dtype": "f8"
           },
           "xaxis": "x",
           "y": {
            "bdata": "eoQ4z50PoT4=",
            "dtype": "f8"
           },
           "yaxis": "y"
          }
         ],
         "name": "1994"
        },
        {
         "data": [
          {
           "hovertemplate": "<b>%{hovertext}</b><br><br>Country Name=%{text}<br>Year=1995<br>Neerslag (mm/jaar)=%{x}<br>Uitstoot per ton geproduceerd (Mt/ton)=%{y}<extra></extra>",
           "hovertext": [
            "Brazil"
           ],
           "legendgroup": "Brazil",
           "marker": {
            "color": "#636efa",
            "symbol": "circle"
           },
           "mode": "markers+text",
           "name": "Brazil",
           "orientation": "v",
           "showlegend": true,
           "text": [
            "Brazil"
           ],
           "type": "scatter",
           "x": {
            "bdata": "AAAAAADYm0A=",
            "dtype": "f8"
           },
           "xaxis": "x",
           "y": {
            "bdata": "oQ2K17R3bj4=",
            "dtype": "f8"
           },
           "yaxis": "y"
          },
          {
           "hovertemplate": "<b>%{hovertext}</b><br><br>Country Name=%{text}<br>Year=1995<br>Neerslag (mm/jaar)=%{x}<br>Uitstoot per ton geproduceerd (Mt/ton)=%{y}<extra></extra>",
           "hovertext": [
            "India"
           ],
           "legendgroup": "India",
           "marker": {
            "color": "#EF553B",
            "symbol": "circle"
           },
           "mode": "markers+text",
           "name": "India",
           "orientation": "v",
           "showlegend": true,
           "text": [
            "India"
           ],
           "type": "scatter",
           "x": {
            "bdata": "AAAAAADskEA=",
            "dtype": "f8"
           },
           "xaxis": "x",
           "y": {
            "bdata": "odR073DWkD4=",
            "dtype": "f8"
           },
           "yaxis": "y"
          },
          {
           "hovertemplate": "<b>%{hovertext}</b><br><br>Country Name=%{text}<br>Year=1995<br>Neerslag (mm/jaar)=%{x}<br>Uitstoot per ton geproduceerd (Mt/ton)=%{y}<extra></extra>",
           "hovertext": [
            "Indonesia"
           ],
           "legendgroup": "Indonesia",
           "marker": {
            "color": "#00cc96",
            "symbol": "circle"
           },
           "mode": "markers+text",
           "name": "Indonesia",
           "orientation": "v",
           "showlegend": true,
           "text": [
            "Indonesia"
           ],
           "type": "scatter",
           "x": {
            "bdata": "AAAAAAAcpUA=",
            "dtype": "f8"
           },
           "xaxis": "x",
           "y": {
            "bdata": "5VgZxuUhZD4=",
            "dtype": "f8"
           },
           "yaxis": "y"
          },
          {
           "hovertemplate": "<b>%{hovertext}</b><br><br>Country Name=%{text}<br>Year=1995<br>Neerslag (mm/jaar)=%{x}<br>Uitstoot per ton geproduceerd (Mt/ton)=%{y}<extra></extra>",
           "hovertext": [
            "Japan"
           ],
           "legendgroup": "Japan",
           "marker": {
            "color": "#ab63fa",
            "symbol": "circle"
           },
           "mode": "markers+text",
           "name": "Japan",
           "orientation": "v",
           "showlegend": true,
           "text": [
            "Japan"
           ],
           "type": "scatter",
           "x": {
            "bdata": "AAAAAAAQmkA=",
            "dtype": "f8"
           },
           "xaxis": "x",
           "y": {
            "bdata": "TLKRX/l2fj4=",
            "dtype": "f8"
           },
           "yaxis": "y"
          },
          {
           "hovertemplate": "<b>%{hovertext}</b><br><br>Country Name=%{text}<br>Year=1995<br>Neerslag (mm/jaar)=%{x}<br>Uitstoot per ton geproduceerd (Mt/ton)=%{y}<extra></extra>",
           "hovertext": [
            "Nigeria"
           ],
           "legendgroup": "Nigeria",
           "marker": {
            "color": "#FFA15A",
            "symbol": "circle"
           },
           "mode": "markers+text",
           "name": "Nigeria",
           "orientation": "v",
           "showlegend": true,
           "text": [
            "Nigeria"
           ],
           "type": "scatter",
           "x": {
            "bdata": "AAAAAAD4kUA=",
            "dtype": "f8"
           },
           "xaxis": "x",
           "y": {
            "bdata": "M5V2qoUXMD4=",
            "dtype": "f8"
           },
           "yaxis": "y"
          },
          {
           "hovertemplate": "<b>%{hovertext}</b><br><br>Country Name=%{text}<br>Year=1995<br>Neerslag (mm/jaar)=%{x}<br>Uitstoot per ton geproduceerd (Mt/ton)=%{y}<extra></extra>",
           "hovertext": [
            "South Africa"
           ],
           "legendgroup": "South Africa",
           "marker": {
            "color": "#19d3f3",
            "symbol": "circle"
           },
           "mode": "markers+text",
           "name": "South Africa",
           "orientation": "v",
           "showlegend": true,
           "text": [
            "South Africa"
           ],
           "type": "scatter",
           "x": {
            "bdata": "AAAAAADwfkA=",
            "dtype": "f8"
           },
           "xaxis": "x",
           "y": {
            "bdata": "doIUZ/ptiz4=",
            "dtype": "f8"
           },
           "yaxis": "y"
          },
          {
           "hovertemplate": "<b>%{hovertext}</b><br><br>Country Name=%{text}<br>Year=1995<br>Neerslag (mm/jaar)=%{x}<br>Uitstoot per ton geproduceerd (Mt/ton)=%{y}<extra></extra>",
           "hovertext": [
            "United States of America"
           ],
           "legendgroup": "United States of America",
           "marker": {
            "color": "#FF6692",
            "symbol": "circle"
           },
           "mode": "markers+text",
           "name": "United States of America",
           "orientation": "v",
           "showlegend": true,
           "text": [
            "United States of America"
           ],
           "type": "scatter",
           "x": {
            "bdata": "AAAAAABYhkA=",
            "dtype": "f8"
           },
           "xaxis": "x",
           "y": {
            "bdata": "1NXcoR91oT4=",
            "dtype": "f8"
           },
           "yaxis": "y"
          }
         ],
         "name": "1995"
        },
        {
         "data": [
          {
           "hovertemplate": "<b>%{hovertext}</b><br><br>Country Name=%{text}<br>Year=1996<br>Neerslag (mm/jaar)=%{x}<br>Uitstoot per ton geproduceerd (Mt/ton)=%{y}<extra></extra>",
           "hovertext": [
            "Brazil"
           ],
           "legendgroup": "Brazil",
           "marker": {
            "color": "#636efa",
            "symbol": "circle"
           },
           "mode": "markers+text",
           "name": "Brazil",
           "orientation": "v",
           "showlegend": true,
           "text": [
            "Brazil"
           ],
           "type": "scatter",
           "x": {
            "bdata": "AAAAAADYm0A=",
            "dtype": "f8"
           },
           "xaxis": "x",
           "y": {
            "bdata": "hUcGGEIbcT4=",
            "dtype": "f8"
           },
           "yaxis": "y"
          },
          {
           "hovertemplate": "<b>%{hovertext}</b><br><br>Country Name=%{text}<br>Year=1996<br>Neerslag (mm/jaar)=%{x}<br>Uitstoot per ton geproduceerd (Mt/ton)=%{y}<extra></extra>",
           "hovertext": [
            "India"
           ],
           "legendgroup": "India",
           "marker": {
            "color": "#EF553B",
            "symbol": "circle"
           },
           "mode": "markers+text",
           "name": "India",
           "orientation": "v",
           "showlegend": true,
           "text": [
            "India"
           ],
           "type": "scatter",
           "x": {
            "bdata": "AAAAAADskEA=",
            "dtype": "f8"
           },
           "xaxis": "x",
           "y": {
            "bdata": "IlmD5jIhkD4=",
            "dtype": "f8"
           },
           "yaxis": "y"
          },
          {
           "hovertemplate": "<b>%{hovertext}</b><br><br>Country Name=%{text}<br>Year=1996<br>Neerslag (mm/jaar)=%{x}<br>Uitstoot per ton geproduceerd (Mt/ton)=%{y}<extra></extra>",
           "hovertext": [
            "Indonesia"
           ],
           "legendgroup": "Indonesia",
           "marker": {
            "color": "#00cc96",
            "symbol": "circle"
           },
           "mode": "markers+text",
           "name": "Indonesia",
           "orientation": "v",
           "showlegend": true,
           "text": [
            "Indonesia"
           ],
           "type": "scatter",
           "x": {
            "bdata": "AAAAAAAcpUA=",
            "dtype": "f8"
           },
           "xaxis": "x",
           "y": {
            "bdata": "tdfP93hBZT4=",
            "dtype": "f8"
           },
           "yaxis": "y"
          },
          {
           "hovertemplate": "<b>%{hovertext}</b><br><br>Country Name=%{text}<br>Year=1996<br>Neerslag (mm/jaar)=%{x}<br>Uitstoot per ton geproduceerd (Mt/ton)=%{y}<extra></extra>",
           "hovertext": [
            "Japan"
           ],
           "legendgroup": "Japan",
           "marker": {
            "color": "#ab63fa",
            "symbol": "circle"
           },
           "mode": "markers+text",
           "name": "Japan",
           "orientation": "v",
           "showlegend": true,
           "text": [
            "Japan"
           ],
           "type": "scatter",
           "x": {
            "bdata": "AAAAAAAQmkA=",
            "dtype": "f8"
           },
           "xaxis": "x",
           "y": {
            "bdata": "GZGBvWmVgD4=",
            "dtype": "f8"
           },
           "yaxis": "y"
          },
          {
           "hovertemplate": "<b>%{hovertext}</b><br><br>Country Name=%{text}<br>Year=1996<br>Neerslag (mm/jaar)=%{x}<br>Uitstoot per ton geproduceerd (Mt/ton)=%{y}<extra></extra>",
           "hovertext": [
            "Nigeria"
           ],
           "legendgroup": "Nigeria",
           "marker": {
            "color": "#FFA15A",
            "symbol": "circle"
           },
           "mode": "markers+text",
           "name": "Nigeria",
           "orientation": "v",
           "showlegend": true,
           "text": [
            "Nigeria"
           ],
           "type": "scatter",
           "x": {
            "bdata": "AAAAAAD4kUA=",
            "dtype": "f8"
           },
           "xaxis": "x",
           "y": {
            "bdata": "oqYh8nvDMT4=",
            "dtype": "f8"
           },
           "yaxis": "y"
          },
          {
           "hovertemplate": "<b>%{hovertext}</b><br><br>Country Name=%{text}<br>Year=1996<br>Neerslag (mm/jaar)=%{x}<br>Uitstoot per ton geproduceerd (Mt/ton)=%{y}<extra></extra>",
           "hovertext": [
            "South Africa"
           ],
           "legendgroup": "South Africa",
           "marker": {
            "color": "#19d3f3",
            "symbol": "circle"
           },
           "mode": "markers+text",
           "name": "South Africa",
           "orientation": "v",
           "showlegend": true,
           "text": [
            "South Africa"
           ],
           "type": "scatter",
           "x": {
            "bdata": "AAAAAADwfkA=",
            "dtype": "f8"
           },
           "xaxis": "x",
           "y": {
            "bdata": "3oqa/Q14hz4=",
            "dtype": "f8"
           },
           "yaxis": "y"
          },
          {
           "hovertemplate": "<b>%{hovertext}</b><br><br>Country Name=%{text}<br>Year=1996<br>Neerslag (mm/jaar)=%{x}<br>Uitstoot per ton geproduceerd (Mt/ton)=%{y}<extra></extra>",
           "hovertext": [
            "United States of America"
           ],
           "legendgroup": "United States of America",
           "marker": {
            "color": "#FF6692",
            "symbol": "circle"
           },
           "mode": "markers+text",
           "name": "United States of America",
           "orientation": "v",
           "showlegend": true,
           "text": [
            "United States of America"
           ],
           "type": "scatter",
           "x": {
            "bdata": "AAAAAABYhkA=",
            "dtype": "f8"
           },
           "xaxis": "x",
           "y": {
            "bdata": "yk+BctlQoT4=",
            "dtype": "f8"
           },
           "yaxis": "y"
          }
         ],
         "name": "1996"
        },
        {
         "data": [
          {
           "hovertemplate": "<b>%{hovertext}</b><br><br>Country Name=%{text}<br>Year=1997<br>Neerslag (mm/jaar)=%{x}<br>Uitstoot per ton geproduceerd (Mt/ton)=%{y}<extra></extra>",
           "hovertext": [
            "Brazil"
           ],
           "legendgroup": "Brazil",
           "marker": {
            "color": "#636efa",
            "symbol": "circle"
           },
           "mode": "markers+text",
           "name": "Brazil",
           "orientation": "v",
           "showlegend": true,
           "text": [
            "Brazil"
           ],
           "type": "scatter",
           "x": {
            "bdata": "AAAAAACEm0A=",
            "dtype": "f8"
           },
           "xaxis": "x",
           "y": {
            "bdata": "4eDWekGBbz4=",
            "dtype": "f8"
           },
           "yaxis": "y"
          },
          {
           "hovertemplate": "<b>%{hovertext}</b><br><br>Country Name=%{text}<br>Year=1997<br>Neerslag (mm/jaar)=%{x}<br>Uitstoot per ton geproduceerd (Mt/ton)=%{y}<extra></extra>",
           "hovertext": [
            "India"
           ],
           "legendgroup": "India",
           "marker": {
            "color": "#EF553B",
            "symbol": "circle"
           },
           "mode": "markers+text",
           "name": "India",
           "orientation": "v",
           "showlegend": true,
           "text": [
            "India"
           ],
           "type": "scatter",
           "x": {
            "bdata": "AAAAAADskEA=",
            "dtype": "f8"
           },
           "xaxis": "x",
           "y": {
            "bdata": "ZOZw0lGjkD4=",
            "dtype": "f8"
           },
           "yaxis": "y"
          },
          {
           "hovertemplate": "<b>%{hovertext}</b><br><br>Country Name=%{text}<br>Year=1997<br>Neerslag (mm/jaar)=%{x}<br>Uitstoot per ton geproduceerd (Mt/ton)=%{y}<extra></extra>",
           "hovertext": [
            "Indonesia"
           ],
           "legendgroup": "Indonesia",
           "marker": {
            "color": "#00cc96",
            "symbol": "circle"
           },
           "mode": "markers+text",
           "name": "Indonesia",
           "orientation": "v",
           "showlegend": true,
           "text": [
            "Indonesia"
           ],
           "type": "scatter",
           "x": {
            "bdata": "AAAAAAAcpUA=",
            "dtype": "f8"
           },
           "xaxis": "x",
           "y": {
            "bdata": "7FsdTHO6Yz4=",
            "dtype": "f8"
           },
           "yaxis": "y"
          },
          {
           "hovertemplate": "<b>%{hovertext}</b><br><br>Country Name=%{text}<br>Year=1997<br>Neerslag (mm/jaar)=%{x}<br>Uitstoot per ton geproduceerd (Mt/ton)=%{y}<extra></extra>",
           "hovertext": [
            "Japan"
           ],
           "legendgroup": "Japan",
           "marker": {
            "color": "#ab63fa",
            "symbol": "circle"
           },
           "mode": "markers+text",
           "name": "Japan",
           "orientation": "v",
           "showlegend": true,
           "text": [
            "Japan"
           ],
           "type": "scatter",
           "x": {
            "bdata": "AAAAAAAQmkA=",
            "dtype": "f8"
           },
           "xaxis": "x",
           "y": {
            "bdata": "eEV/iUxKgD4=",
            "dtype": "f8"
           },
           "yaxis": "y"
          },
          {
           "hovertemplate": "<b>%{hovertext}</b><br><br>Country Name=%{text}<br>Year=1997<br>Neerslag (mm/jaar)=%{x}<br>Uitstoot per ton geproduceerd (Mt/ton)=%{y}<extra></extra>",
           "hovertext": [
            "Nigeria"
           ],
           "legendgroup": "Nigeria",
           "marker": {
            "color": "#FFA15A",
            "symbol": "circle"
           },
           "mode": "markers+text",
           "name": "Nigeria",
           "orientation": "v",
           "showlegend": true,
           "text": [
            "Nigeria"
           ],
           "type": "scatter",
           "x": {
            "bdata": "AAAAAAD4kUA=",
            "dtype": "f8"
           },
           "xaxis": "x",
           "y": {
            "bdata": "+yogKTPvMj4=",
            "dtype": "f8"
           },
           "yaxis": "y"
          },
          {
           "hovertemplate": "<b>%{hovertext}</b><br><br>Country Name=%{text}<br>Year=1997<br>Neerslag (mm/jaar)=%{x}<br>Uitstoot per ton geproduceerd (Mt/ton)=%{y}<extra></extra>",
           "hovertext": [
            "South Africa"
           ],
           "legendgroup": "South Africa",
           "marker": {
            "color": "#19d3f3",
            "symbol": "circle"
           },
           "mode": "markers+text",
           "name": "South Africa",
           "orientation": "v",
           "showlegend": true,
           "text": [
            "South Africa"
           ],
           "type": "scatter",
           "x": {
            "bdata": "AAAAAADwfkA=",
            "dtype": "f8"
           },
           "xaxis": "x",
           "y": {
            "bdata": "iHnzUE5Vhz4=",
            "dtype": "f8"
           },
           "yaxis": "y"
          },
          {
           "hovertemplate": "<b>%{hovertext}</b><br><br>Country Name=%{text}<br>Year=1997<br>Neerslag (mm/jaar)=%{x}<br>Uitstoot per ton geproduceerd (Mt/ton)=%{y}<extra></extra>",
           "hovertext": [
            "United States of America"
           ],
           "legendgroup": "United States of America",
           "marker": {
            "color": "#FF6692",
            "symbol": "circle"
           },
           "mode": "markers+text",
           "name": "United States of America",
           "orientation": "v",
           "showlegend": true,
           "text": [
            "United States of America"
           ],
           "type": "scatter",
           "x": {
            "bdata": "AAAAAABYhkA=",
            "dtype": "f8"
           },
           "xaxis": "x",
           "y": {
            "bdata": "ETl9Z22yoT4=",
            "dtype": "f8"
           },
           "yaxis": "y"
          }
         ],
         "name": "1997"
        },
        {
         "data": [
          {
           "hovertemplate": "<b>%{hovertext}</b><br><br>Country Name=%{text}<br>Year=1998<br>Neerslag (mm/jaar)=%{x}<br>Uitstoot per ton geproduceerd (Mt/ton)=%{y}<extra></extra>",
           "hovertext": [
            "Brazil"
           ],
           "legendgroup": "Brazil",
           "marker": {
            "color": "#636efa",
            "symbol": "circle"
           },
           "mode": "markers+text",
           "name": "Brazil",
           "orientation": "v",
           "showlegend": true,
           "text": [
            "Brazil"
           ],
           "type": "scatter",
           "x": {
            "bdata": "AAAAAADYm0A=",
            "dtype": "f8"
           },
           "xaxis": "x",
           "y": {
            "bdata": "SwVk1Yj2bj4=",
            "dtype": "f8"
           },
           "yaxis": "y"
          },
          {
           "hovertemplate": "<b>%{hovertext}</b><br><br>Country Name=%{text}<br>Year=1998<br>Neerslag (mm/jaar)=%{x}<br>Uitstoot per ton geproduceerd (Mt/ton)=%{y}<extra></extra>",
           "hovertext": [
            "India"
           ],
           "legendgroup": "India",
           "marker": {
            "color": "#EF553B",
            "symbol": "circle"
           },
           "mode": "markers+text",
           "name": "India",
           "orientation": "v",
           "showlegend": true,
           "text": [
            "India"
           ],
           "type": "scatter",
           "x": {
            "bdata": "AAAAAADskEA=",
            "dtype": "f8"
           },
           "xaxis": "x",
           "y": {
            "bdata": "KsC740W/kD4=",
            "dtype": "f8"
           },
           "yaxis": "y"
          },
          {
           "hovertemplate": "<b>%{hovertext}</b><br><br>Country Name=%{text}<br>Year=1998<br>Neerslag (mm/jaar)=%{x}<br>Uitstoot per ton geproduceerd (Mt/ton)=%{y}<extra></extra>",
           "hovertext": [
            "Indonesia"
           ],
           "legendgroup": "Indonesia",
           "marker": {
            "color": "#00cc96",
            "symbol": "circle"
           },
           "mode": "markers+text",
           "name": "Indonesia",
           "orientation": "v",
           "showlegend": true,
           "text": [
            "Indonesia"
           ],
           "type": "scatter",
           "x": {
            "bdata": "AAAAAAAcpUA=",
            "dtype": "f8"
           },
           "xaxis": "x",
           "y": {
            "bdata": "MOuNWKe9ZD4=",
            "dtype": "f8"
           },
           "yaxis": "y"
          },
          {
           "hovertemplate": "<b>%{hovertext}</b><br><br>Country Name=%{text}<br>Year=1998<br>Neerslag (mm/jaar)=%{x}<br>Uitstoot per ton geproduceerd (Mt/ton)=%{y}<extra></extra>",
           "hovertext": [
            "Japan"
           ],
           "legendgroup": "Japan",
           "marker": {
            "color": "#ab63fa",
            "symbol": "circle"
           },
           "mode": "markers+text",
           "name": "Japan",
           "orientation": "v",
           "showlegend": true,
           "text": [
            "Japan"
           ],
           "type": "scatter",
           "x": {
            "bdata": "AAAAAAAQmkA=",
            "dtype": "f8"
           },
           "xaxis": "x",
           "y": {
            "bdata": "dTh70A9wgD4=",
            "dtype": "f8"
           },
           "yaxis": "y"
          },
          {
           "hovertemplate": "<b>%{hovertext}</b><br><br>Country Name=%{text}<br>Year=1998<br>Neerslag (mm/jaar)=%{x}<br>Uitstoot per ton geproduceerd (Mt/ton)=%{y}<extra></extra>",
           "hovertext": [
            "Nigeria"
           ],
           "legendgroup": "Nigeria",
           "marker": {
            "color": "#FFA15A",
            "symbol": "circle"
           },
           "mode": "markers+text",
           "name": "Nigeria",
           "orientation": "v",
           "showlegend": true,
           "text": [
            "Nigeria"
           ],
           "type": "scatter",
           "x": {
            "bdata": "AAAAAAD4kUA=",
            "dtype": "f8"
           },
           "xaxis": "x",
           "y": {
            "bdata": "mdEFvBvAOT4=",
            "dtype": "f8"
           },
           "yaxis": "y"
          },
          {
           "hovertemplate": "<b>%{hovertext}</b><br><br>Country Name=%{text}<br>Year=1998<br>Neerslag (mm/jaar)=%{x}<br>Uitstoot per ton geproduceerd (Mt/ton)=%{y}<extra></extra>",
           "hovertext": [
            "South Africa"
           ],
           "legendgroup": "South Africa",
           "marker": {
            "color": "#19d3f3",
            "symbol": "circle"
           },
           "mode": "markers+text",
           "name": "South Africa",
           "orientation": "v",
           "showlegend": true,
           "text": [
            "South Africa"
           ],
           "type": "scatter",
           "x": {
            "bdata": "AAAAAADwfkA=",
            "dtype": "f8"
           },
           "xaxis": "x",
           "y": {
            "bdata": "s4To2ocRgD4=",
            "dtype": "f8"
           },
           "yaxis": "y"
          },
          {
           "hovertemplate": "<b>%{hovertext}</b><br><br>Country Name=%{text}<br>Year=1998<br>Neerslag (mm/jaar)=%{x}<br>Uitstoot per ton geproduceerd (Mt/ton)=%{y}<extra></extra>",
           "hovertext": [
            "United States of America"
           ],
           "legendgroup": "United States of America",
           "marker": {
            "color": "#FF6692",
            "symbol": "circle"
           },
           "mode": "markers+text",
           "name": "United States of America",
           "orientation": "v",
           "showlegend": true,
           "text": [
            "United States of America"
           ],
           "type": "scatter",
           "x": {
            "bdata": "AAAAAABYhkA=",
            "dtype": "f8"
           },
           "xaxis": "x",
           "y": {
            "bdata": "/vwexN3poD4=",
            "dtype": "f8"
           },
           "yaxis": "y"
          }
         ],
         "name": "1998"
        },
        {
         "data": [
          {
           "hovertemplate": "<b>%{hovertext}</b><br><br>Country Name=%{text}<br>Year=1999<br>Neerslag (mm/jaar)=%{x}<br>Uitstoot per ton geproduceerd (Mt/ton)=%{y}<extra></extra>",
           "hovertext": [
            "Brazil"
           ],
           "legendgroup": "Brazil",
           "marker": {
            "color": "#636efa",
            "symbol": "circle"
           },
           "mode": "markers+text",
           "name": "Brazil",
           "orientation": "v",
           "showlegend": true,
           "text": [
            "Brazil"
           ],
           "type": "scatter",
           "x": {
            "bdata": "AAAAAADYm0A=",
            "dtype": "f8"
           },
           "xaxis": "x",
           "y": {
            "bdata": "LKBsCpyybj4=",
            "dtype": "f8"
           },
           "yaxis": "y"
          },
          {
           "hovertemplate": "<b>%{hovertext}</b><br><br>Country Name=%{text}<br>Year=1999<br>Neerslag (mm/jaar)=%{x}<br>Uitstoot per ton geproduceerd (Mt/ton)=%{y}<extra></extra>",
           "hovertext": [
            "India"
           ],
           "legendgroup": "India",
           "marker": {
            "color": "#EF553B",
            "symbol": "circle"
           },
           "mode": "markers+text",
           "name": "India",
           "orientation": "v",
           "showlegend": true,
           "text": [
            "India"
           ],
           "type": "scatter",
           "x": {
            "bdata": "AAAAAADskEA=",
            "dtype": "f8"
           },
           "xaxis": "x",
           "y": {
            "bdata": "wtCj+NbHjz4=",
            "dtype": "f8"
           },
           "yaxis": "y"
          },
          {
           "hovertemplate": "<b>%{hovertext}</b><br><br>Country Name=%{text}<br>Year=1999<br>Neerslag (mm/jaar)=%{x}<br>Uitstoot per ton geproduceerd (Mt/ton)=%{y}<extra></extra>",
           "hovertext": [
            "Indonesia"
           ],
           "legendgroup": "Indonesia",
           "marker": {
            "color": "#00cc96",
            "symbol": "circle"
           },
           "mode": "markers+text",
           "name": "Indonesia",
           "orientation": "v",
           "showlegend": true,
           "text": [
            "Indonesia"
           ],
           "type": "scatter",
           "x": {
            "bdata": "AAAAAAAcpUA=",
            "dtype": "f8"
           },
           "xaxis": "x",
           "y": {
            "bdata": "f3K5taGyZj4=",
            "dtype": "f8"
           },
           "yaxis": "y"
          },
          {
           "hovertemplate": "<b>%{hovertext}</b><br><br>Country Name=%{text}<br>Year=1999<br>Neerslag (mm/jaar)=%{x}<br>Uitstoot per ton geproduceerd (Mt/ton)=%{y}<extra></extra>",
           "hovertext": [
            "Japan"
           ],
           "legendgroup": "Japan",
           "marker": {
            "color": "#ab63fa",
            "symbol": "circle"
           },
           "mode": "markers+text",
           "name": "Japan",
           "orientation": "v",
           "showlegend": true,
           "text": [
            "Japan"
           ],
           "type": "scatter",
           "x": {
            "bdata": "AAAAAAAQmkA=",
            "dtype": "f8"
           },
           "xaxis": "x",
           "y": {
            "bdata": "VoNJHUVogT4=",
            "dtype": "f8"
           },
           "yaxis": "y"
          },
          {
           "hovertemplate": "<b>%{hovertext}</b><br><br>Country Name=%{text}<br>Year=1999<br>Neerslag (mm/jaar)=%{x}<br>Uitstoot per ton geproduceerd (Mt/ton)=%{y}<extra></extra>",
           "hovertext": [
            "Nigeria"
           ],
           "legendgroup": "Nigeria",
           "marker": {
            "color": "#FFA15A",
            "symbol": "circle"
           },
           "mode": "markers+text",
           "name": "Nigeria",
           "orientation": "v",
           "showlegend": true,
           "text": [
            "Nigeria"
           ],
           "type": "scatter",
           "x": {
            "bdata": "AAAAAAD4kUA=",
            "dtype": "f8"
           },
           "xaxis": "x",
           "y": {
            "bdata": "PAA5kG4eRD4=",
            "dtype": "f8"
           },
           "yaxis": "y"
          },
          {
           "hovertemplate": "<b>%{hovertext}</b><br><br>Country Name=%{text}<br>Year=1999<br>Neerslag (mm/jaar)=%{x}<br>Uitstoot per ton geproduceerd (Mt/ton)=%{y}<extra></extra>",
           "hovertext": [
            "South Africa"
           ],
           "legendgroup": "South Africa",
           "marker": {
            "color": "#19d3f3",
            "symbol": "circle"
           },
           "mode": "markers+text",
           "name": "South Africa",
           "orientation": "v",
           "showlegend": true,
           "text": [
            "South Africa"
           ],
           "type": "scatter",
           "x": {
            "bdata": "AAAAAADwfkA=",
            "dtype": "f8"
           },
           "xaxis": "x",
           "y": {
            "bdata": "fG/tMgC8fz4=",
            "dtype": "f8"
           },
           "yaxis": "y"
          },
          {
           "hovertemplate": "<b>%{hovertext}</b><br><br>Country Name=%{text}<br>Year=1999<br>Neerslag (mm/jaar)=%{x}<br>Uitstoot per ton geproduceerd (Mt/ton)=%{y}<extra></extra>",
           "hovertext": [
            "United States of America"
           ],
           "legendgroup": "United States of America",
           "marker": {
            "color": "#FF6692",
            "symbol": "circle"
           },
           "mode": "markers+text",
           "name": "United States of America",
           "orientation": "v",
           "showlegend": true,
           "text": [
            "United States of America"
           ],
           "type": "scatter",
           "x": {
            "bdata": "AAAAAABYhkA=",
            "dtype": "f8"
           },
           "xaxis": "x",
           "y": {
            "bdata": "2g0R3zHznz4=",
            "dtype": "f8"
           },
           "yaxis": "y"
          }
         ],
         "name": "1999"
        },
        {
         "data": [
          {
           "hovertemplate": "<b>%{hovertext}</b><br><br>Country Name=%{text}<br>Year=2000<br>Neerslag (mm/jaar)=%{x}<br>Uitstoot per ton geproduceerd (Mt/ton)=%{y}<extra></extra>",
           "hovertext": [
            "Brazil"
           ],
           "legendgroup": "Brazil",
           "marker": {
            "color": "#636efa",
            "symbol": "circle"
           },
           "mode": "markers+text",
           "name": "Brazil",
           "orientation": "v",
           "showlegend": true,
           "text": [
            "Brazil"
           ],
           "type": "scatter",
           "x": {
            "bdata": "AAAAAADYm0A=",
            "dtype": "f8"
           },
           "xaxis": "x",
           "y": {
            "bdata": "8l5l2pMSbj4=",
            "dtype": "f8"
           },
           "yaxis": "y"
          },
          {
           "hovertemplate": "<b>%{hovertext}</b><br><br>Country Name=%{text}<br>Year=2000<br>Neerslag (mm/jaar)=%{x}<br>Uitstoot per ton geproduceerd (Mt/ton)=%{y}<extra></extra>",
           "hovertext": [
            "India"
           ],
           "legendgroup": "India",
           "marker": {
            "color": "#EF553B",
            "symbol": "circle"
           },
           "mode": "markers+text",
           "name": "India",
           "orientation": "v",
           "showlegend": true,
           "text": [
            "India"
           ],
           "type": "scatter",
           "x": {
            "bdata": "AAAAAADskEA=",
            "dtype": "f8"
           },
           "xaxis": "x",
           "y": {
            "bdata": "nwRkeLmCkD4=",
            "dtype": "f8"
           },
           "yaxis": "y"
          },
          {
           "hovertemplate": "<b>%{hovertext}</b><br><br>Country Name=%{text}<br>Year=2000<br>Neerslag (mm/jaar)=%{x}<br>Uitstoot per ton geproduceerd (Mt/ton)=%{y}<extra></extra>",
           "hovertext": [
            "Indonesia"
           ],
           "legendgroup": "Indonesia",
           "marker": {
            "color": "#00cc96",
            "symbol": "circle"
           },
           "mode": "markers+text",
           "name": "Indonesia",
           "orientation": "v",
           "showlegend": true,
           "text": [
            "Indonesia"
           ],
           "type": "scatter",
           "x": {
            "bdata": "AAAAAAAcpUA=",
            "dtype": "f8"
           },
           "xaxis": "x",
           "y": {
            "bdata": "L9Us+/uGZD4=",
            "dtype": "f8"
           },
           "yaxis": "y"
          },
          {
           "hovertemplate": "<b>%{hovertext}</b><br><br>Country Name=%{text}<br>Year=2000<br>Neerslag (mm/jaar)=%{x}<br>Uitstoot per ton geproduceerd (Mt/ton)=%{y}<extra></extra>",
           "hovertext": [
            "Japan"
           ],
           "legendgroup": "Japan",
           "marker": {
            "color": "#ab63fa",
            "symbol": "circle"
           },
           "mode": "markers+text",
           "name": "Japan",
           "orientation": "v",
           "showlegend": true,
           "text": [
            "Japan"
           ],
           "type": "scatter",
           "x": {
            "bdata": "AAAAAAAQmkA=",
            "dtype": "f8"
           },
           "xaxis": "x",
           "y": {
            "bdata": "w9Qil8Qfgz4=",
            "dtype": "f8"
           },
           "yaxis": "y"
          },
          {
           "hovertemplate": "<b>%{hovertext}</b><br><br>Country Name=%{text}<br>Year=2000<br>Neerslag (mm/jaar)=%{x}<br>Uitstoot per ton geproduceerd (Mt/ton)=%{y}<extra></extra>",
           "hovertext": [
            "Nigeria"
           ],
           "legendgroup": "Nigeria",
           "marker": {
            "color": "#FFA15A",
            "symbol": "circle"
           },
           "mode": "markers+text",
           "name": "Nigeria",
           "orientation": "v",
           "showlegend": true,
           "text": [
            "Nigeria"
           ],
           "type": "scatter",
           "x": {
            "bdata": "AAAAAAD4kUA=",
            "dtype": "f8"
           },
           "xaxis": "x",
           "y": {
            "bdata": "/+7wUISiQz4=",
            "dtype": "f8"
           },
           "yaxis": "y"
          },
          {
           "hovertemplate": "<b>%{hovertext}</b><br><br>Country Name=%{text}<br>Year=2000<br>Neerslag (mm/jaar)=%{x}<br>Uitstoot per ton geproduceerd (Mt/ton)=%{y}<extra></extra>",
           "hovertext": [
            "South Africa"
           ],
           "legendgroup": "South Africa",
           "marker": {
            "color": "#19d3f3",
            "symbol": "circle"
           },
           "mode": "markers+text",
           "name": "South Africa",
           "orientation": "v",
           "showlegend": true,
           "text": [
            "South Africa"
           ],
           "type": "scatter",
           "x": {
            "bdata": "AAAAAADwfkA=",
            "dtype": "f8"
           },
           "xaxis": "x",
           "y": {
            "bdata": "XOTKWsDygT4=",
            "dtype": "f8"
           },
           "yaxis": "y"
          },
          {
           "hovertemplate": "<b>%{hovertext}</b><br><br>Country Name=%{text}<br>Year=2000<br>Neerslag (mm/jaar)=%{x}<br>Uitstoot per ton geproduceerd (Mt/ton)=%{y}<extra></extra>",
           "hovertext": [
            "United States of America"
           ],
           "legendgroup": "United States of America",
           "marker": {
            "color": "#FF6692",
            "symbol": "circle"
           },
           "mode": "markers+text",
           "name": "United States of America",
           "orientation": "v",
           "showlegend": true,
           "text": [
            "United States of America"
           ],
           "type": "scatter",
           "x": {
            "bdata": "AAAAAABYhkA=",
            "dtype": "f8"
           },
           "xaxis": "x",
           "y": {
            "bdata": "rIRD4GnrnT4=",
            "dtype": "f8"
           },
           "yaxis": "y"
          }
         ],
         "name": "2000"
        },
        {
         "data": [
          {
           "hovertemplate": "<b>%{hovertext}</b><br><br>Country Name=%{text}<br>Year=2001<br>Neerslag (mm/jaar)=%{x}<br>Uitstoot per ton geproduceerd (Mt/ton)=%{y}<extra></extra>",
           "hovertext": [
            "Brazil"
           ],
           "legendgroup": "Brazil",
           "marker": {
            "color": "#636efa",
            "symbol": "circle"
           },
           "mode": "markers+text",
           "name": "Brazil",
           "orientation": "v",
           "showlegend": true,
           "text": [
            "Brazil"
           ],
           "type": "scatter",
           "x": {
            "bdata": "AAAAAADYm0A=",
            "dtype": "f8"
           },
           "xaxis": "x",
           "y": {
            "bdata": "ZvaIO4I8cD4=",
            "dtype": "f8"
           },
           "yaxis": "y"
          },
          {
           "hovertemplate": "<b>%{hovertext}</b><br><br>Country Name=%{text}<br>Year=2001<br>Neerslag (mm/jaar)=%{x}<br>Uitstoot per ton geproduceerd (Mt/ton)=%{y}<extra></extra>",
           "hovertext": [
            "India"
           ],
           "legendgroup": "India",
           "marker": {
            "color": "#EF553B",
            "symbol": "circle"
           },
           "mode": "markers+text",
           "name": "India",
           "orientation": "v",
           "showlegend": true,
           "text": [
            "India"
           ],
           "type": "scatter",
           "x": {
            "bdata": "AAAAAADskEA=",
            "dtype": "f8"
           },
           "xaxis": "x",
           "y": {
            "bdata": "TvpftNXCjz4=",
            "dtype": "f8"
           },
           "yaxis": "y"
          },
          {
           "hovertemplate": "<b>%{hovertext}</b><br><br>Country Name=%{text}<br>Year=2001<br>Neerslag (mm/jaar)=%{x}<br>Uitstoot per ton geproduceerd (Mt/ton)=%{y}<extra></extra>",
           "hovertext": [
            "Indonesia"
           ],
           "legendgroup": "Indonesia",
           "marker": {
            "color": "#00cc96",
            "symbol": "circle"
           },
           "mode": "markers+text",
           "name": "Indonesia",
           "orientation": "v",
           "showlegend": true,
           "text": [
            "Indonesia"
           ],
           "type": "scatter",
           "x": {
            "bdata": "AAAAAAAcpUA=",
            "dtype": "f8"
           },
           "xaxis": "x",
           "y": {
            "bdata": "32yBYpkqZD4=",
            "dtype": "f8"
           },
           "yaxis": "y"
          },
          {
           "hovertemplate": "<b>%{hovertext}</b><br><br>Country Name=%{text}<br>Year=2001<br>Neerslag (mm/jaar)=%{x}<br>Uitstoot per ton geproduceerd (Mt/ton)=%{y}<extra></extra>",
           "hovertext": [
            "Japan"
           ],
           "legendgroup": "Japan",
           "marker": {
            "color": "#ab63fa",
            "symbol": "circle"
           },
           "mode": "markers+text",
           "name": "Japan",
           "orientation": "v",
           "showlegend": true,
           "text": [
            "Japan"
           ],
           "type": "scatter",
           "x": {
            "bdata": "AAAAAAAQmkA=",
            "dtype": "f8"
           },
           "xaxis": "x",
           "y": {
            "bdata": "ir2jHrDEgz4=",
            "dtype": "f8"
           },
           "yaxis": "y"
          },
          {
           "hovertemplate": "<b>%{hovertext}</b><br><br>Country Name=%{text}<br>Year=2001<br>Neerslag (mm/jaar)=%{x}<br>Uitstoot per ton geproduceerd (Mt/ton)=%{y}<extra></extra>",
           "hovertext": [
            "Nigeria"
           ],
           "legendgroup": "Nigeria",
           "marker": {
            "color": "#FFA15A",
            "symbol": "circle"
           },
           "mode": "markers+text",
           "name": "Nigeria",
           "orientation": "v",
           "showlegend": true,
           "text": [
            "Nigeria"
           ],
           "type": "scatter",
           "x": {
            "bdata": "AAAAAAD4kUA=",
            "dtype": "f8"
           },
           "xaxis": "x",
           "y": {
            "bdata": "t4D/VyKGQz4=",
            "dtype": "f8"
           },
           "yaxis": "y"
          },
          {
           "hovertemplate": "<b>%{hovertext}</b><br><br>Country Name=%{text}<br>Year=2001<br>Neerslag (mm/jaar)=%{x}<br>Uitstoot per ton geproduceerd (Mt/ton)=%{y}<extra></extra>",
           "hovertext": [
            "South Africa"
           ],
           "legendgroup": "South Africa",
           "marker": {
            "color": "#19d3f3",
            "symbol": "circle"
           },
           "mode": "markers+text",
           "name": "South Africa",
           "orientation": "v",
           "showlegend": true,
           "text": [
            "South Africa"
           ],
           "type": "scatter",
           "x": {
            "bdata": "AAAAAADwfkA=",
            "dtype": "f8"
           },
           "xaxis": "x",
           "y": {
            "bdata": "WRqojbIIhD4=",
            "dtype": "f8"
           },
           "yaxis": "y"
          },
          {
           "hovertemplate": "<b>%{hovertext}</b><br><br>Country Name=%{text}<br>Year=2001<br>Neerslag (mm/jaar)=%{x}<br>Uitstoot per ton geproduceerd (Mt/ton)=%{y}<extra></extra>",
           "hovertext": [
            "United States of America"
           ],
           "legendgroup": "United States of America",
           "marker": {
            "color": "#FF6692",
            "symbol": "circle"
           },
           "mode": "markers+text",
           "name": "United States of America",
           "orientation": "v",
           "showlegend": true,
           "text": [
            "United States of America"
           ],
           "type": "scatter",
           "x": {
            "bdata": "AAAAAABYhkA=",
            "dtype": "f8"
           },
           "xaxis": "x",
           "y": {
            "bdata": "qvoOUAqtnj4=",
            "dtype": "f8"
           },
           "yaxis": "y"
          }
         ],
         "name": "2001"
        },
        {
         "data": [
          {
           "hovertemplate": "<b>%{hovertext}</b><br><br>Country Name=%{text}<br>Year=2002<br>Neerslag (mm/jaar)=%{x}<br>Uitstoot per ton geproduceerd (Mt/ton)=%{y}<extra></extra>",
           "hovertext": [
            "Brazil"
           ],
           "legendgroup": "Brazil",
           "marker": {
            "color": "#636efa",
            "symbol": "circle"
           },
           "mode": "markers+text",
           "name": "Brazil",
           "orientation": "v",
           "showlegend": true,
           "text": [
            "Brazil"
           ],
           "type": "scatter",
           "x": {
            "bdata": "AAAAAACEm0A=",
            "dtype": "f8"
           },
           "xaxis": "x",
           "y": {
            "bdata": "bibnkxwhcD4=",
            "dtype": "f8"
           },
           "yaxis": "y"
          },
          {
           "hovertemplate": "<b>%{hovertext}</b><br><br>Country Name=%{text}<br>Year=2002<br>Neerslag (mm/jaar)=%{x}<br>Uitstoot per ton geproduceerd (Mt/ton)=%{y}<extra></extra>",
           "hovertext": [
            "India"
           ],
           "legendgroup": "India",
           "marker": {
            "color": "#EF553B",
            "symbol": "circle"
           },
           "mode": "markers+text",
           "name": "India",
           "orientation": "v",
           "showlegend": true,
           "text": [
            "India"
           ],
           "type": "scatter",
           "x": {
            "bdata": "AAAAAADskEA=",
            "dtype": "f8"
           },
           "xaxis": "x",
           "y": {
            "bdata": "Sa/yG61TkD4=",
            "dtype": "f8"
           },
           "yaxis": "y"
          },
          {
           "hovertemplate": "<b>%{hovertext}</b><br><br>Country Name=%{text}<br>Year=2002<br>Neerslag (mm/jaar)=%{x}<br>Uitstoot per ton geproduceerd (Mt/ton)=%{y}<extra></extra>",
           "hovertext": [
            "Indonesia"
           ],
           "legendgroup": "Indonesia",
           "marker": {
            "color": "#00cc96",
            "symbol": "circle"
           },
           "mode": "markers+text",
           "name": "Indonesia",
           "orientation": "v",
           "showlegend": true,
           "text": [
            "Indonesia"
           ],
           "type": "scatter",
           "x": {
            "bdata": "AAAAAAAcpUA=",
            "dtype": "f8"
           },
           "xaxis": "x",
           "y": {
            "bdata": "lItRXS2yYT4=",
            "dtype": "f8"
           },
           "yaxis": "y"
          },
          {
           "hovertemplate": "<b>%{hovertext}</b><br><br>Country Name=%{text}<br>Year=2002<br>Neerslag (mm/jaar)=%{x}<br>Uitstoot per ton geproduceerd (Mt/ton)=%{y}<extra></extra>",
           "hovertext": [
            "Japan"
           ],
           "legendgroup": "Japan",
           "marker": {
            "color": "#ab63fa",
            "symbol": "circle"
           },
           "mode": "markers+text",
           "name": "Japan",
           "orientation": "v",
           "showlegend": true,
           "text": [
            "Japan"
           ],
           "type": "scatter",
           "x": {
            "bdata": "AAAAAAAQmkA=",
            "dtype": "f8"
           },
           "xaxis": "x",
           "y": {
            "bdata": "5XEdvKDDhD4=",
            "dtype": "f8"
           },
           "yaxis": "y"
          },
          {
           "hovertemplate": "<b>%{hovertext}</b><br><br>Country Name=%{text}<br>Year=2002<br>Neerslag (mm/jaar)=%{x}<br>Uitstoot per ton geproduceerd (Mt/ton)=%{y}<extra></extra>",
           "hovertext": [
            "Nigeria"
           ],
           "legendgroup": "Nigeria",
           "marker": {
            "color": "#FFA15A",
            "symbol": "circle"
           },
           "mode": "markers+text",
           "name": "Nigeria",
           "orientation": "v",
           "showlegend": true,
           "text": [
            "Nigeria"
           ],
           "type": "scatter",
           "x": {
            "bdata": "AAAAAAD4kUA=",
            "dtype": "f8"
           },
           "xaxis": "x",
           "y": {
            "bdata": "Rx2Q3iHsRT4=",
            "dtype": "f8"
           },
           "yaxis": "y"
          },
          {
           "hovertemplate": "<b>%{hovertext}</b><br><br>Country Name=%{text}<br>Year=2002<br>Neerslag (mm/jaar)=%{x}<br>Uitstoot per ton geproduceerd (Mt/ton)=%{y}<extra></extra>",
           "hovertext": [
            "South Africa"
           ],
           "legendgroup": "South Africa",
           "marker": {
            "color": "#19d3f3",
            "symbol": "circle"
           },
           "mode": "markers+text",
           "name": "South Africa",
           "orientation": "v",
           "showlegend": true,
           "text": [
            "South Africa"
           ],
           "type": "scatter",
           "x": {
            "bdata": "AAAAAADwfkA=",
            "dtype": "f8"
           },
           "xaxis": "x",
           "y": {
            "bdata": "hSF+eNA1gj4=",
            "dtype": "f8"
           },
           "yaxis": "y"
          },
          {
           "hovertemplate": "<b>%{hovertext}</b><br><br>Country Name=%{text}<br>Year=2002<br>Neerslag (mm/jaar)=%{x}<br>Uitstoot per ton geproduceerd (Mt/ton)=%{y}<extra></extra>",
           "hovertext": [
            "United States of America"
           ],
           "legendgroup": "United States of America",
           "marker": {
            "color": "#FF6692",
            "symbol": "circle"
           },
           "mode": "markers+text",
           "name": "United States of America",
           "orientation": "v",
           "showlegend": true,
           "text": [
            "United States of America"
           ],
           "type": "scatter",
           "x": {
            "bdata": "AAAAAABYhkA=",
            "dtype": "f8"
           },
           "xaxis": "x",
           "y": {
            "bdata": "NxPrTQ/KnT4=",
            "dtype": "f8"
           },
           "yaxis": "y"
          }
         ],
         "name": "2002"
        },
        {
         "data": [
          {
           "hovertemplate": "<b>%{hovertext}</b><br><br>Country Name=%{text}<br>Year=2003<br>Neerslag (mm/jaar)=%{x}<br>Uitstoot per ton geproduceerd (Mt/ton)=%{y}<extra></extra>",
           "hovertext": [
            "Brazil"
           ],
           "legendgroup": "Brazil",
           "marker": {
            "color": "#636efa",
            "symbol": "circle"
           },
           "mode": "markers+text",
           "name": "Brazil",
           "orientation": "v",
           "showlegend": true,
           "text": [
            "Brazil"
           ],
           "type": "scatter",
           "x": {
            "bdata": "AAAAAADYm0A=",
            "dtype": "f8"
           },
           "xaxis": "x",
           "y": {
            "bdata": "PJGQkfftcD4=",
            "dtype": "f8"
           },
           "yaxis": "y"
          },
          {
           "hovertemplate": "<b>%{hovertext}</b><br><br>Country Name=%{text}<br>Year=2003<br>Neerslag (mm/jaar)=%{x}<br>Uitstoot per ton geproduceerd (Mt/ton)=%{y}<extra></extra>",
           "hovertext": [
            "India"
           ],
           "legendgroup": "India",
           "marker": {
            "color": "#EF553B",
            "symbol": "circle"
           },
           "mode": "markers+text",
           "name": "India",
           "orientation": "v",
           "showlegend": true,
           "text": [
            "India"
           ],
           "type": "scatter",
           "x": {
            "bdata": "AAAAAADskEA=",
            "dtype": "f8"
           },
           "xaxis": "x",
           "y": {
            "bdata": "8rMqn5Oqjz4=",
            "dtype": "f8"
           },
           "yaxis": "y"
          },
          {
           "hovertemplate": "<b>%{hovertext}</b><br><br>Country Name=%{text}<br>Year=2003<br>Neerslag (mm/jaar)=%{x}<br>Uitstoot per ton geproduceerd (Mt/ton)=%{y}<extra></extra>",
           "hovertext": [
            "Indonesia"
           ],
           "legendgroup": "Indonesia",
           "marker": {
            "color": "#00cc96",
            "symbol": "circle"
           },
           "mode": "markers+text",
           "name": "Indonesia",
           "orientation": "v",
           "showlegend": true,
           "text": [
            "Indonesia"
           ],
           "type": "scatter",
           "x": {
            "bdata": "AAAAAAAcpUA=",
            "dtype": "f8"
           },
           "xaxis": "x",
           "y": {
            "bdata": "zWPkxFjhYD4=",
            "dtype": "f8"
           },
           "yaxis": "y"
          },
          {
           "hovertemplate": "<b>%{hovertext}</b><br><br>Country Name=%{text}<br>Year=2003<br>Neerslag (mm/jaar)=%{x}<br>Uitstoot per ton geproduceerd (Mt/ton)=%{y}<extra></extra>",
           "hovertext": [
            "Japan"
           ],
           "legendgroup": "Japan",
           "marker": {
            "color": "#ab63fa",
            "symbol": "circle"
           },
           "mode": "markers+text",
           "name": "Japan",
           "orientation": "v",
           "showlegend": true,
           "text": [
            "Japan"
           ],
           "type": "scatter",
           "x": {
            "bdata": "AAAAAAAQmkA=",
            "dtype": "f8"
           },
           "xaxis": "x",
           "y": {
            "bdata": "oo1fXLpghT4=",
            "dtype": "f8"
           },
           "yaxis": "y"
          },
          {
           "hovertemplate": "<b>%{hovertext}</b><br><br>Country Name=%{text}<br>Year=2003<br>Neerslag (mm/jaar)=%{x}<br>Uitstoot per ton geproduceerd (Mt/ton)=%{y}<extra></extra>",
           "hovertext": [
            "Nigeria"
           ],
           "legendgroup": "Nigeria",
           "marker": {
            "color": "#FFA15A",
            "symbol": "circle"
           },
           "mode": "markers+text",
           "name": "Nigeria",
           "orientation": "v",
           "showlegend": true,
           "text": [
            "Nigeria"
           ],
           "type": "scatter",
           "x": {
            "bdata": "AAAAAAD4kUA=",
            "dtype": "f8"
           },
           "xaxis": "x",
           "y": {
            "bdata": "R9DLutqYRT4=",
            "dtype": "f8"
           },
           "yaxis": "y"
          },
          {
           "hovertemplate": "<b>%{hovertext}</b><br><br>Country Name=%{text}<br>Year=2003<br>Neerslag (mm/jaar)=%{x}<br>Uitstoot per ton geproduceerd (Mt/ton)=%{y}<extra></extra>",
           "hovertext": [
            "South Africa"
           ],
           "legendgroup": "South Africa",
           "marker": {
            "color": "#19d3f3",
            "symbol": "circle"
           },
           "mode": "markers+text",
           "name": "South Africa",
           "orientation": "v",
           "showlegend": true,
           "text": [
            "South Africa"
           ],
           "type": "scatter",
           "x": {
            "bdata": "AAAAAADwfkA=",
            "dtype": "f8"
           },
           "xaxis": "x",
           "y": {
            "bdata": "liZaZuJwgD4=",
            "dtype": "f8"
           },
           "yaxis": "y"
          },
          {
           "hovertemplate": "<b>%{hovertext}</b><br><br>Country Name=%{text}<br>Year=2003<br>Neerslag (mm/jaar)=%{x}<br>Uitstoot per ton geproduceerd (Mt/ton)=%{y}<extra></extra>",
           "hovertext": [
            "United States of America"
           ],
           "legendgroup": "United States of America",
           "marker": {
            "color": "#FF6692",
            "symbol": "circle"
           },
           "mode": "markers+text",
           "name": "United States of America",
           "orientation": "v",
           "showlegend": true,
           "text": [
            "United States of America"
           ],
           "type": "scatter",
           "x": {
            "bdata": "AAAAAABYhkA=",
            "dtype": "f8"
           },
           "xaxis": "x",
           "y": {
            "bdata": "qryaDXFUoD4=",
            "dtype": "f8"
           },
           "yaxis": "y"
          }
         ],
         "name": "2003"
        },
        {
         "data": [
          {
           "hovertemplate": "<b>%{hovertext}</b><br><br>Country Name=%{text}<br>Year=2004<br>Neerslag (mm/jaar)=%{x}<br>Uitstoot per ton geproduceerd (Mt/ton)=%{y}<extra></extra>",
           "hovertext": [
            "Brazil"
           ],
           "legendgroup": "Brazil",
           "marker": {
            "color": "#636efa",
            "symbol": "circle"
           },
           "mode": "markers+text",
           "name": "Brazil",
           "orientation": "v",
           "showlegend": true,
           "text": [
            "Brazil"
           ],
           "type": "scatter",
           "x": {
            "bdata": "AAAAAADYm0A=",
            "dtype": "f8"
           },
           "xaxis": "x",
           "y": {
            "bdata": "VH7br7/3cD4=",
            "dtype": "f8"
           },
           "yaxis": "y"
          },
          {
           "hovertemplate": "<b>%{hovertext}</b><br><br>Country Name=%{text}<br>Year=2004<br>Neerslag (mm/jaar)=%{x}<br>Uitstoot per ton geproduceerd (Mt/ton)=%{y}<extra></extra>",
           "hovertext": [
            "India"
           ],
           "legendgroup": "India",
           "marker": {
            "color": "#EF553B",
            "symbol": "circle"
           },
           "mode": "markers+text",
           "name": "India",
           "orientation": "v",
           "showlegend": true,
           "text": [
            "India"
           ],
           "type": "scatter",
           "x": {
            "bdata": "AAAAAADskEA=",
            "dtype": "f8"
           },
           "xaxis": "x",
           "y": {
            "bdata": "z8M7rcYakj4=",
            "dtype": "f8"
           },
           "yaxis": "y"
          },
          {
           "hovertemplate": "<b>%{hovertext}</b><br><br>Country Name=%{text}<br>Year=2004<br>Neerslag (mm/jaar)=%{x}<br>Uitstoot per ton geproduceerd (Mt/ton)=%{y}<extra></extra>",
           "hovertext": [
            "Indonesia"
           ],
           "legendgroup": "Indonesia",
           "marker": {
            "color": "#00cc96",
            "symbol": "circle"
           },
           "mode": "markers+text",
           "name": "Indonesia",
           "orientation": "v",
           "showlegend": true,
           "text": [
            "Indonesia"
           ],
           "type": "scatter",
           "x": {
            "bdata": "AAAAAAAcpUA=",
            "dtype": "f8"
           },
           "xaxis": "x",
           "y": {
            "bdata": "oMowhrqXXz4=",
            "dtype": "f8"
           },
           "yaxis": "y"
          },
          {
           "hovertemplate": "<b>%{hovertext}</b><br><br>Country Name=%{text}<br>Year=2004<br>Neerslag (mm/jaar)=%{x}<br>Uitstoot per ton geproduceerd (Mt/ton)=%{y}<extra></extra>",
           "hovertext": [
            "Japan"
           ],
           "legendgroup": "Japan",
           "marker": {
            "color": "#ab63fa",
            "symbol": "circle"
           },
           "mode": "markers+text",
           "name": "Japan",
           "orientation": "v",
           "showlegend": true,
           "text": [
            "Japan"
           ],
           "type": "scatter",
           "x": {
            "bdata": "AAAAAAAQmkA=",
            "dtype": "f8"
           },
           "xaxis": "x",
           "y": {
            "bdata": "NFtxXmI8hT4=",
            "dtype": "f8"
           },
           "yaxis": "y"
          },
          {
           "hovertemplate": "<b>%{hovertext}</b><br><br>Country Name=%{text}<br>Year=2004<br>Neerslag (mm/jaar)=%{x}<br>Uitstoot per ton geproduceerd (Mt/ton)=%{y}<extra></extra>",
           "hovertext": [
            "Nigeria"
           ],
           "legendgroup": "Nigeria",
           "marker": {
            "color": "#FFA15A",
            "symbol": "circle"
           },
           "mode": "markers+text",
           "name": "Nigeria",
           "orientation": "v",
           "showlegend": true,
           "text": [
            "Nigeria"
           ],
           "type": "scatter",
           "x": {
            "bdata": "AAAAAAD4kUA=",
            "dtype": "f8"
           },
           "xaxis": "x",
           "y": {
            "bdata": "9Wca/SDqRD4=",
            "dtype": "f8"
           },
           "yaxis": "y"
          },
          {
           "hovertemplate": "<b>%{hovertext}</b><br><br>Country Name=%{text}<br>Year=2004<br>Neerslag (mm/jaar)=%{x}<br>Uitstoot per ton geproduceerd (Mt/ton)=%{y}<extra></extra>",
           "hovertext": [
            "South Africa"
           ],
           "legendgroup": "South Africa",
           "marker": {
            "color": "#19d3f3",
            "symbol": "circle"
           },
           "mode": "markers+text",
           "name": "South Africa",
           "orientation": "v",
           "showlegend": true,
           "text": [
            "South Africa"
           ],
           "type": "scatter",
           "x": {
            "bdata": "AAAAAADwfkA=",
            "dtype": "f8"
           },
           "xaxis": "x",
           "y": {
            "bdata": "LEJ6ZNgngj4=",
            "dtype": "f8"
           },
           "yaxis": "y"
          },
          {
           "hovertemplate": "<b>%{hovertext}</b><br><br>Country Name=%{text}<br>Year=2004<br>Neerslag (mm/jaar)=%{x}<br>Uitstoot per ton geproduceerd (Mt/ton)=%{y}<extra></extra>",
           "hovertext": [
            "United States of America"
           ],
           "legendgroup": "United States of America",
           "marker": {
            "color": "#FF6692",
            "symbol": "circle"
           },
           "mode": "markers+text",
           "name": "United States of America",
           "orientation": "v",
           "showlegend": true,
           "text": [
            "United States of America"
           ],
           "type": "scatter",
           "x": {
            "bdata": "AAAAAABYhkA=",
            "dtype": "f8"
           },
           "xaxis": "x",
           "y": {
            "bdata": "3fVZXIgFnz4=",
            "dtype": "f8"
           },
           "yaxis": "y"
          }
         ],
         "name": "2004"
        },
        {
         "data": [
          {
           "hovertemplate": "<b>%{hovertext}</b><br><br>Country Name=%{text}<br>Year=2005<br>Neerslag (mm/jaar)=%{x}<br>Uitstoot per ton geproduceerd (Mt/ton)=%{y}<extra></extra>",
           "hovertext": [
            "Brazil"
           ],
           "legendgroup": "Brazil",
           "marker": {
            "color": "#636efa",
            "symbol": "circle"
           },
           "mode": "markers+text",
           "name": "Brazil",
           "orientation": "v",
           "showlegend": true,
           "text": [
            "Brazil"
           ],
           "type": "scatter",
           "x": {
            "bdata": "AAAAAADYm0A=",
            "dtype": "f8"
           },
           "xaxis": "x",
           "y": {
            "bdata": "UTnSk8Q8cD4=",
            "dtype": "f8"
           },
           "yaxis": "y"
          },
          {
           "hovertemplate": "<b>%{hovertext}</b><br><br>Country Name=%{text}<br>Year=2005<br>Neerslag (mm/jaar)=%{x}<br>Uitstoot per ton geproduceerd (Mt/ton)=%{y}<extra></extra>",
           "hovertext": [
            "India"
           ],
           "legendgroup": "India",
           "marker": {
            "color": "#EF553B",
            "symbol": "circle"
           },
           "mode": "markers+text",
           "name": "India",
           "orientation": "v",
           "showlegend": true,
           "text": [
            "India"
           ],
           "type": "scatter",
           "x": {
            "bdata": "AAAAAADskEA=",
            "dtype": "f8"
           },
           "xaxis": "x",
           "y": {
            "bdata": "2938YY19kT4=",
            "dtype": "f8"
           },
           "yaxis": "y"
          },
          {
           "hovertemplate": "<b>%{hovertext}</b><br><br>Country Name=%{text}<br>Year=2005<br>Neerslag (mm/jaar)=%{x}<br>Uitstoot per ton geproduceerd (Mt/ton)=%{y}<extra></extra>",
           "hovertext": [
            "Indonesia"
           ],
           "legendgroup": "Indonesia",
           "marker": {
            "color": "#00cc96",
            "symbol": "circle"
           },
           "mode": "markers+text",
           "name": "Indonesia",
           "orientation": "v",
           "showlegend": true,
           "text": [
            "Indonesia"
           ],
           "type": "scatter",
           "x": {
            "bdata": "AAAAAAAcpUA=",
            "dtype": "f8"
           },
           "xaxis": "x",
           "y": {
            "bdata": "dia2rRQPYD4=",
            "dtype": "f8"
           },
           "yaxis": "y"
          },
          {
           "hovertemplate": "<b>%{hovertext}</b><br><br>Country Name=%{text}<br>Year=2005<br>Neerslag (mm/jaar)=%{x}<br>Uitstoot per ton geproduceerd (Mt/ton)=%{y}<extra></extra>",
           "hovertext": [
            "Japan"
           ],
           "legendgroup": "Japan",
           "marker": {
            "color": "#ab63fa",
            "symbol": "circle"
           },
           "mode": "markers+text",
           "name": "Japan",
           "orientation": "v",
           "showlegend": true,
           "text": [
            "Japan"
           ],
           "type": "scatter",
           "x": {
            "bdata": "AAAAAAAQmkA=",
            "dtype": "f8"
           },
           "xaxis": "x",
           "y": {
            "bdata": "N1dpmxi0hT4=",
            "dtype": "f8"
           },
           "yaxis": "y"
          },
          {
           "hovertemplate": "<b>%{hovertext}</b><br><br>Country Name=%{text}<br>Year=2005<br>Neerslag (mm/jaar)=%{x}<br>Uitstoot per ton geproduceerd (Mt/ton)=%{y}<extra></extra>",
           "hovertext": [
            "Nigeria"
           ],
           "legendgroup": "Nigeria",
           "marker": {
            "color": "#FFA15A",
            "symbol": "circle"
           },
           "mode": "markers+text",
           "name": "Nigeria",
           "orientation": "v",
           "showlegend": true,
           "text": [
            "Nigeria"
           ],
           "type": "scatter",
           "x": {
            "bdata": "AAAAAAD4kUA=",
            "dtype": "f8"
           },
           "xaxis": "x",
           "y": {
            "bdata": "cEUtoIFmRD4=",
            "dtype": "f8"
           },
           "yaxis": "y"
          },
          {
           "hovertemplate": "<b>%{hovertext}</b><br><br>Country Name=%{text}<br>Year=2005<br>Neerslag (mm/jaar)=%{x}<br>Uitstoot per ton geproduceerd (Mt/ton)=%{y}<extra></extra>",
           "hovertext": [
            "South Africa"
           ],
           "legendgroup": "South Africa",
           "marker": {
            "color": "#19d3f3",
            "symbol": "circle"
           },
           "mode": "markers+text",
           "name": "South Africa",
           "orientation": "v",
           "showlegend": true,
           "text": [
            "South Africa"
           ],
           "type": "scatter",
           "x": {
            "bdata": "AAAAAADwfkA=",
            "dtype": "f8"
           },
           "xaxis": "x",
           "y": {
            "bdata": "oa1tN9okgT4=",
            "dtype": "f8"
           },
           "yaxis": "y"
          },
          {
           "hovertemplate": "<b>%{hovertext}</b><br><br>Country Name=%{text}<br>Year=2005<br>Neerslag (mm/jaar)=%{x}<br>Uitstoot per ton geproduceerd (Mt/ton)=%{y}<extra></extra>",
           "hovertext": [
            "United States of America"
           ],
           "legendgroup": "United States of America",
           "marker": {
            "color": "#FF6692",
            "symbol": "circle"
           },
           "mode": "markers+text",
           "name": "United States of America",
           "orientation": "v",
           "showlegend": true,
           "text": [
            "United States of America"
           ],
           "type": "scatter",
           "x": {
            "bdata": "AAAAAABYhkA=",
            "dtype": "f8"
           },
           "xaxis": "x",
           "y": {
            "bdata": "4dCFzbUKoT4=",
            "dtype": "f8"
           },
           "yaxis": "y"
          }
         ],
         "name": "2005"
        },
        {
         "data": [
          {
           "hovertemplate": "<b>%{hovertext}</b><br><br>Country Name=%{text}<br>Year=2006<br>Neerslag (mm/jaar)=%{x}<br>Uitstoot per ton geproduceerd (Mt/ton)=%{y}<extra></extra>",
           "hovertext": [
            "Brazil"
           ],
           "legendgroup": "Brazil",
           "marker": {
            "color": "#636efa",
            "symbol": "circle"
           },
           "mode": "markers+text",
           "name": "Brazil",
           "orientation": "v",
           "showlegend": true,
           "text": [
            "Brazil"
           ],
           "type": "scatter",
           "x": {
            "bdata": "AAAAAADYm0A=",
            "dtype": "f8"
           },
           "xaxis": "x",
           "y": {
            "bdata": "bIF/f8JAbD4=",
            "dtype": "f8"
           },
           "yaxis": "y"
          },
          {
           "hovertemplate": "<b>%{hovertext}</b><br><br>Country Name=%{text}<br>Year=2006<br>Neerslag (mm/jaar)=%{x}<br>Uitstoot per ton geproduceerd (Mt/ton)=%{y}<extra></extra>",
           "hovertext": [
            "India"
           ],
           "legendgroup": "India",
           "marker": {
            "color": "#EF553B",
            "symbol": "circle"
           },
           "mode": "markers+text",
           "name": "India",
           "orientation": "v",
           "showlegend": true,
           "text": [
            "India"
           ],
           "type": "scatter",
           "x": {
            "bdata": "AAAAAADskEA=",
            "dtype": "f8"
           },
           "xaxis": "x",
           "y": {
            "bdata": "mg94Q4LQjz4=",
            "dtype": "f8"
           },
           "yaxis": "y"
          },
          {
           "hovertemplate": "<b>%{hovertext}</b><br><br>Country Name=%{text}<br>Year=2006<br>Neerslag (mm/jaar)=%{x}<br>Uitstoot per ton geproduceerd (Mt/ton)=%{y}<extra></extra>",
           "hovertext": [
            "Indonesia"
           ],
           "legendgroup": "Indonesia",
           "marker": {
            "color": "#00cc96",
            "symbol": "circle"
           },
           "mode": "markers+text",
           "name": "Indonesia",
           "orientation": "v",
           "showlegend": true,
           "text": [
            "Indonesia"
           ],
           "type": "scatter",
           "x": {
            "bdata": "AAAAAAAcpUA=",
            "dtype": "f8"
           },
           "xaxis": "x",
           "y": {
            "bdata": "9F1hT2UsYD4=",
            "dtype": "f8"
           },
           "yaxis": "y"
          },
          {
           "hovertemplate": "<b>%{hovertext}</b><br><br>Country Name=%{text}<br>Year=2006<br>Neerslag (mm/jaar)=%{x}<br>Uitstoot per ton geproduceerd (Mt/ton)=%{y}<extra></extra>",
           "hovertext": [
            "Japan"
           ],
           "legendgroup": "Japan",
           "marker": {
            "color": "#ab63fa",
            "symbol": "circle"
           },
           "mode": "markers+text",
           "name": "Japan",
           "orientation": "v",
           "showlegend": true,
           "text": [
            "Japan"
           ],
           "type": "scatter",
           "x": {
            "bdata": "AAAAAAAQmkA=",
            "dtype": "f8"
           },
           "xaxis": "x",
           "y": {
            "bdata": "BnaCL0K2hj4=",
            "dtype": "f8"
           },
           "yaxis": "y"
          },
          {
           "hovertemplate": "<b>%{hovertext}</b><br><br>Country Name=%{text}<br>Year=2006<br>Neerslag (mm/jaar)=%{x}<br>Uitstoot per ton geproduceerd (Mt/ton)=%{y}<extra></extra>",
           "hovertext": [
            "Nigeria"
           ],
           "legendgroup": "Nigeria",
           "marker": {
            "color": "#FFA15A",
            "symbol": "circle"
           },
           "mode": "markers+text",
           "name": "Nigeria",
           "orientation": "v",
           "showlegend": true,
           "text": [
            "Nigeria"
           ],
           "type": "scatter",
           "x": {
            "bdata": "AAAAAAD4kUA=",
            "dtype": "f8"
           },
           "xaxis": "x",
           "y": {
            "bdata": "8pAV6sPoQz4=",
            "dtype": "f8"
           },
           "yaxis": "y"
          },
          {
           "hovertemplate": "<b>%{hovertext}</b><br><br>Country Name=%{text}<br>Year=2006<br>Neerslag (mm/jaar)=%{x}<br>Uitstoot per ton geproduceerd (Mt/ton)=%{y}<extra></extra>",
           "hovertext": [
            "South Africa"
           ],
           "legendgroup": "South Africa",
           "marker": {
            "color": "#19d3f3",
            "symbol": "circle"
           },
           "mode": "markers+text",
           "name": "South Africa",
           "orientation": "v",
           "showlegend": true,
           "text": [
            "South Africa"
           ],
           "type": "scatter",
           "x": {
            "bdata": "AAAAAADwfkA=",
            "dtype": "f8"
           },
           "xaxis": "x",
           "y": {
            "bdata": "VK6UYpRogT4=",
            "dtype": "f8"
           },
           "yaxis": "y"
          },
          {
           "hovertemplate": "<b>%{hovertext}</b><br><br>Country Name=%{text}<br>Year=2006<br>Neerslag (mm/jaar)=%{x}<br>Uitstoot per ton geproduceerd (Mt/ton)=%{y}<extra></extra>",
           "hovertext": [
            "United States of America"
           ],
           "legendgroup": "United States of America",
           "marker": {
            "color": "#FF6692",
            "symbol": "circle"
           },
           "mode": "markers+text",
           "name": "United States of America",
           "orientation": "v",
           "showlegend": true,
           "text": [
            "United States of America"
           ],
           "type": "scatter",
           "x": {
            "bdata": "AAAAAABYhkA=",
            "dtype": "f8"
           },
           "xaxis": "x",
           "y": {
            "bdata": "ifKseh2Xnj4=",
            "dtype": "f8"
           },
           "yaxis": "y"
          }
         ],
         "name": "2006"
        },
        {
         "data": [
          {
           "hovertemplate": "<b>%{hovertext}</b><br><br>Country Name=%{text}<br>Year=2007<br>Neerslag (mm/jaar)=%{x}<br>Uitstoot per ton geproduceerd (Mt/ton)=%{y}<extra></extra>",
           "hovertext": [
            "Brazil"
           ],
           "legendgroup": "Brazil",
           "marker": {
            "color": "#636efa",
            "symbol": "circle"
           },
           "mode": "markers+text",
           "name": "Brazil",
           "orientation": "v",
           "showlegend": true,
           "text": [
            "Brazil"
           ],
           "type": "scatter",
           "x": {
            "bdata": "AAAAAACEm0A=",
            "dtype": "f8"
           },
           "xaxis": "x",
           "y": {
            "bdata": "sRsE2ktdbD4=",
            "dtype": "f8"
           },
           "yaxis": "y"
          },
          {
           "hovertemplate": "<b>%{hovertext}</b><br><br>Country Name=%{text}<br>Year=2007<br>Neerslag (mm/jaar)=%{x}<br>Uitstoot per ton geproduceerd (Mt/ton)=%{y}<extra></extra>",
           "hovertext": [
            "India"
           ],
           "legendgroup": "India",
           "marker": {
            "color": "#EF553B",
            "symbol": "circle"
           },
           "mode": "markers+text",
           "name": "India",
           "orientation": "v",
           "showlegend": true,
           "text": [
            "India"
           ],
           "type": "scatter",
           "x": {
            "bdata": "AAAAAADskEA=",
            "dtype": "f8"
           },
           "xaxis": "x",
           "y": {
            "bdata": "fjHeIG01jT4=",
            "dtype": "f8"
           },
           "yaxis": "y"
          },
          {
           "hovertemplate": "<b>%{hovertext}</b><br><br>Country Name=%{text}<br>Year=2007<br>Neerslag (mm/jaar)=%{x}<br>Uitstoot per ton geproduceerd (Mt/ton)=%{y}<extra></extra>",
           "hovertext": [
            "Indonesia"
           ],
           "legendgroup": "Indonesia",
           "marker": {
            "color": "#00cc96",
            "symbol": "circle"
           },
           "mode": "markers+text",
           "name": "Indonesia",
           "orientation": "v",
           "showlegend": true,
           "text": [
            "Indonesia"
           ],
           "type": "scatter",
           "x": {
            "bdata": "AAAAAAAcpUA=",
            "dtype": "f8"
           },
           "xaxis": "x",
           "y": {
            "bdata": "lWv5zbOdYj4=",
            "dtype": "f8"
           },
           "yaxis": "y"
          },
          {
           "hovertemplate": "<b>%{hovertext}</b><br><br>Country Name=%{text}<br>Year=2007<br>Neerslag (mm/jaar)=%{x}<br>Uitstoot per ton geproduceerd (Mt/ton)=%{y}<extra></extra>",
           "hovertext": [
            "Japan"
           ],
           "legendgroup": "Japan",
           "marker": {
            "color": "#ab63fa",
            "symbol": "circle"
           },
           "mode": "markers+text",
           "name": "Japan",
           "orientation": "v",
           "showlegend": true,
           "text": [
            "Japan"
           ],
           "type": "scatter",
           "x": {
            "bdata": "AAAAAAAQmkA=",
            "dtype": "f8"
           },
           "xaxis": "x",
           "y": {
            "bdata": "1hMTHQJThT4=",
            "dtype": "f8"
           },
           "yaxis": "y"
          },
          {
           "hovertemplate": "<b>%{hovertext}</b><br><br>Country Name=%{text}<br>Year=2007<br>Neerslag (mm/jaar)=%{x}<br>Uitstoot per ton geproduceerd (Mt/ton)=%{y}<extra></extra>",
           "hovertext": [
            "Nigeria"
           ],
           "legendgroup": "Nigeria",
           "marker": {
            "color": "#FFA15A",
            "symbol": "circle"
           },
           "mode": "markers+text",
           "name": "Nigeria",
           "orientation": "v",
           "showlegend": true,
           "text": [
            "Nigeria"
           ],
           "type": "scatter",
           "x": {
            "bdata": "AAAAAAD4kUA=",
            "dtype": "f8"
           },
           "xaxis": "x",
           "y": {
            "bdata": "MTCrpQ6tRD4=",
            "dtype": "f8"
           },
           "yaxis": "y"
          },
          {
           "hovertemplate": "<b>%{hovertext}</b><br><br>Country Name=%{text}<br>Year=2007<br>Neerslag (mm/jaar)=%{x}<br>Uitstoot per ton geproduceerd (Mt/ton)=%{y}<extra></extra>",
           "hovertext": [
            "South Africa"
           ],
           "legendgroup": "South Africa",
           "marker": {
            "color": "#19d3f3",
            "symbol": "circle"
           },
           "mode": "markers+text",
           "name": "South Africa",
           "orientation": "v",
           "showlegend": true,
           "text": [
            "South Africa"
           ],
           "type": "scatter",
           "x": {
            "bdata": "AAAAAADwfkA=",
            "dtype": "f8"
           },
           "xaxis": "x",
           "y": {
            "bdata": "LAQDWOMNgD4=",
            "dtype": "f8"
           },
           "yaxis": "y"
          },
          {
           "hovertemplate": "<b>%{hovertext}</b><br><br>Country Name=%{text}<br>Year=2007<br>Neerslag (mm/jaar)=%{x}<br>Uitstoot per ton geproduceerd (Mt/ton)=%{y}<extra></extra>",
           "hovertext": [
            "United States of America"
           ],
           "legendgroup": "United States of America",
           "marker": {
            "color": "#FF6692",
            "symbol": "circle"
           },
           "mode": "markers+text",
           "name": "United States of America",
           "orientation": "v",
           "showlegend": true,
           "text": [
            "United States of America"
           ],
           "type": "scatter",
           "x": {
            "bdata": "AAAAAABYhkA=",
            "dtype": "f8"
           },
           "xaxis": "x",
           "y": {
            "bdata": "n/WF/IQ3oD4=",
            "dtype": "f8"
           },
           "yaxis": "y"
          }
         ],
         "name": "2007"
        },
        {
         "data": [
          {
           "hovertemplate": "<b>%{hovertext}</b><br><br>Country Name=%{text}<br>Year=2008<br>Neerslag (mm/jaar)=%{x}<br>Uitstoot per ton geproduceerd (Mt/ton)=%{y}<extra></extra>",
           "hovertext": [
            "Brazil"
           ],
           "legendgroup": "Brazil",
           "marker": {
            "color": "#636efa",
            "symbol": "circle"
           },
           "mode": "markers+text",
           "name": "Brazil",
           "orientation": "v",
           "showlegend": true,
           "text": [
            "Brazil"
           ],
           "type": "scatter",
           "x": {
            "bdata": "AAAAAACEm0A=",
            "dtype": "f8"
           },
           "xaxis": "x",
           "y": {
            "bdata": "jhdgIq7bbD4=",
            "dtype": "f8"
           },
           "yaxis": "y"
          },
          {
           "hovertemplate": "<b>%{hovertext}</b><br><br>Country Name=%{text}<br>Year=2008<br>Neerslag (mm/jaar)=%{x}<br>Uitstoot per ton geproduceerd (Mt/ton)=%{y}<extra></extra>",
           "hovertext": [
            "India"
           ],
           "legendgroup": "India",
           "marker": {
            "color": "#EF553B",
            "symbol": "circle"
           },
           "mode": "markers+text",
           "name": "India",
           "orientation": "v",
           "showlegend": true,
           "text": [
            "India"
           ],
           "type": "scatter",
           "x": {
            "bdata": "AAAAAADskEA=",
            "dtype": "f8"
           },
           "xaxis": "x",
           "y": {
            "bdata": "Ko9l8/BIjT4=",
            "dtype": "f8"
           },
           "yaxis": "y"
          },
          {
           "hovertemplate": "<b>%{hovertext}</b><br><br>Country Name=%{text}<br>Year=2008<br>Neerslag (mm/jaar)=%{x}<br>Uitstoot per ton geproduceerd (Mt/ton)=%{y}<extra></extra>",
           "hovertext": [
            "Indonesia"
           ],
           "legendgroup": "Indonesia",
           "marker": {
            "color": "#00cc96",
            "symbol": "circle"
           },
           "mode": "markers+text",
           "name": "Indonesia",
           "orientation": "v",
           "showlegend": true,
           "text": [
            "Indonesia"
           ],
           "type": "scatter",
           "x": {
            "bdata": "AAAAAAAcpUA=",
            "dtype": "f8"
           },
           "xaxis": "x",
           "y": {
            "bdata": "CNPO64pLYj4=",
            "dtype": "f8"
           },
           "yaxis": "y"
          },
          {
           "hovertemplate": "<b>%{hovertext}</b><br><br>Country Name=%{text}<br>Year=2008<br>Neerslag (mm/jaar)=%{x}<br>Uitstoot per ton geproduceerd (Mt/ton)=%{y}<extra></extra>",
           "hovertext": [
            "Japan"
           ],
           "legendgroup": "Japan",
           "marker": {
            "color": "#ab63fa",
            "symbol": "circle"
           },
           "mode": "markers+text",
           "name": "Japan",
           "orientation": "v",
           "showlegend": true,
           "text": [
            "Japan"
           ],
           "type": "scatter",
           "x": {
            "bdata": "AAAAAAAQmkA=",
            "dtype": "f8"
           },
           "xaxis": "x",
           "y": {
            "bdata": "v+bz7LBrhD4=",
            "dtype": "f8"
           },
           "yaxis": "y"
          },
          {
           "hovertemplate": "<b>%{hovertext}</b><br><br>Country Name=%{text}<br>Year=2008<br>Neerslag (mm/jaar)=%{x}<br>Uitstoot per ton geproduceerd (Mt/ton)=%{y}<extra></extra>",
           "hovertext": [
            "Nigeria"
           ],
           "legendgroup": "Nigeria",
           "marker": {
            "color": "#FFA15A",
            "symbol": "circle"
           },
           "mode": "markers+text",
           "name": "Nigeria",
           "orientation": "v",
           "showlegend": true,
           "text": [
            "Nigeria"
           ],
           "type": "scatter",
           "x": {
            "bdata": "AAAAAAD4kUA=",
            "dtype": "f8"
           },
           "xaxis": "x",
           "y": {
            "bdata": "8wM9f4DERD4=",
            "dtype": "f8"
           },
           "yaxis": "y"
          },
          {
           "hovertemplate": "<b>%{hovertext}</b><br><br>Country Name=%{text}<br>Year=2008<br>Neerslag (mm/jaar)=%{x}<br>Uitstoot per ton geproduceerd (Mt/ton)=%{y}<extra></extra>",
           "hovertext": [
            "South Africa"
           ],
           "legendgroup": "South Africa",
           "marker": {
            "color": "#19d3f3",
            "symbol": "circle"
           },
           "mode": "markers+text",
           "name": "South Africa",
           "orientation": "v",
           "showlegend": true,
           "text": [
            "South Africa"
           ],
           "type": "scatter",
           "x": {
            "bdata": "AAAAAADwfkA=",
            "dtype": "f8"
           },
           "xaxis": "x",
           "y": {
            "bdata": "/+uC/JfjgD4=",
            "dtype": "f8"
           },
           "yaxis": "y"
          },
          {
           "hovertemplate": "<b>%{hovertext}</b><br><br>Country Name=%{text}<br>Year=2008<br>Neerslag (mm/jaar)=%{x}<br>Uitstoot per ton geproduceerd (Mt/ton)=%{y}<extra></extra>",
           "hovertext": [
            "United States of America"
           ],
           "legendgroup": "United States of America",
           "marker": {
            "color": "#FF6692",
            "symbol": "circle"
           },
           "mode": "markers+text",
           "name": "United States of America",
           "orientation": "v",
           "showlegend": true,
           "text": [
            "United States of America"
           ],
           "type": "scatter",
           "x": {
            "bdata": "AAAAAABYhkA=",
            "dtype": "f8"
           },
           "xaxis": "x",
           "y": {
            "bdata": "x91hBPlPoj4=",
            "dtype": "f8"
           },
           "yaxis": "y"
          }
         ],
         "name": "2008"
        },
        {
         "data": [
          {
           "hovertemplate": "<b>%{hovertext}</b><br><br>Country Name=%{text}<br>Year=2009<br>Neerslag (mm/jaar)=%{x}<br>Uitstoot per ton geproduceerd (Mt/ton)=%{y}<extra></extra>",
           "hovertext": [
            "Brazil"
           ],
           "legendgroup": "Brazil",
           "marker": {
            "color": "#636efa",
            "symbol": "circle"
           },
           "mode": "markers+text",
           "name": "Brazil",
           "orientation": "v",
           "showlegend": true,
           "text": [
            "Brazil"
           ],
           "type": "scatter",
           "x": {
            "bdata": "AAAAAACEm0A=",
            "dtype": "f8"
           },
           "xaxis": "x",
           "y": {
            "bdata": "o9UM1Qs1bD4=",
            "dtype": "f8"
           },
           "yaxis": "y"
          },
          {
           "hovertemplate": "<b>%{hovertext}</b><br><br>Country Name=%{text}<br>Year=2009<br>Neerslag (mm/jaar)=%{x}<br>Uitstoot per ton geproduceerd (Mt/ton)=%{y}<extra></extra>",
           "hovertext": [
            "India"
           ],
           "legendgroup": "India",
           "marker": {
            "color": "#EF553B",
            "symbol": "circle"
           },
           "mode": "markers+text",
           "name": "India",
           "orientation": "v",
           "showlegend": true,
           "text": [
            "India"
           ],
           "type": "scatter",
           "x": {
            "bdata": "AAAAAADskEA=",
            "dtype": "f8"
           },
           "xaxis": "x",
           "y": {
            "bdata": "Ls8EZI4okD4=",
            "dtype": "f8"
           },
           "yaxis": "y"
          },
          {
           "hovertemplate": "<b>%{hovertext}</b><br><br>Country Name=%{text}<br>Year=2009<br>Neerslag (mm/jaar)=%{x}<br>Uitstoot per ton geproduceerd (Mt/ton)=%{y}<extra></extra>",
           "hovertext": [
            "Indonesia"
           ],
           "legendgroup": "Indonesia",
           "marker": {
            "color": "#00cc96",
            "symbol": "circle"
           },
           "mode": "markers+text",
           "name": "Indonesia",
           "orientation": "v",
           "showlegend": true,
           "text": [
            "Indonesia"
           ],
           "type": "scatter",
           "x": {
            "bdata": "AAAAAAAcpUA=",
            "dtype": "f8"
           },
           "xaxis": "x",
           "y": {
            "bdata": "pIp/UdblYT4=",
            "dtype": "f8"
           },
           "yaxis": "y"
          },
          {
           "hovertemplate": "<b>%{hovertext}</b><br><br>Country Name=%{text}<br>Year=2009<br>Neerslag (mm/jaar)=%{x}<br>Uitstoot per ton geproduceerd (Mt/ton)=%{y}<extra></extra>",
           "hovertext": [
            "Japan"
           ],
           "legendgroup": "Japan",
           "marker": {
            "color": "#ab63fa",
            "symbol": "circle"
           },
           "mode": "markers+text",
           "name": "Japan",
           "orientation": "v",
           "showlegend": true,
           "text": [
            "Japan"
           ],
           "type": "scatter",
           "x": {
            "bdata": "AAAAAAAQmkA=",
            "dtype": "f8"
           },
           "xaxis": "x",
           "y": {
            "bdata": "eLXiKqqehD4=",
            "dtype": "f8"
           },
           "yaxis": "y"
          },
          {
           "hovertemplate": "<b>%{hovertext}</b><br><br>Country Name=%{text}<br>Year=2009<br>Neerslag (mm/jaar)=%{x}<br>Uitstoot per ton geproduceerd (Mt/ton)=%{y}<extra></extra>",
           "hovertext": [
            "Nigeria"
           ],
           "legendgroup": "Nigeria",
           "marker": {
            "color": "#FFA15A",
            "symbol": "circle"
           },
           "mode": "markers+text",
           "name": "Nigeria",
           "orientation": "v",
           "showlegend": true,
           "text": [
            "Nigeria"
           ],
           "type": "scatter",
           "x": {
            "bdata": "AAAAAAD4kUA=",
            "dtype": "f8"
           },
           "xaxis": "x",
           "y": {
            "bdata": "sRHhOjNlTD4=",
            "dtype": "f8"
           },
           "yaxis": "y"
          },
          {
           "hovertemplate": "<b>%{hovertext}</b><br><br>Country Name=%{text}<br>Year=2009<br>Neerslag (mm/jaar)=%{x}<br>Uitstoot per ton geproduceerd (Mt/ton)=%{y}<extra></extra>",
           "hovertext": [
            "South Africa"
           ],
           "legendgroup": "South Africa",
           "marker": {
            "color": "#19d3f3",
            "symbol": "circle"
           },
           "mode": "markers+text",
           "name": "South Africa",
           "orientation": "v",
           "showlegend": true,
           "text": [
            "South Africa"
           ],
           "type": "scatter",
           "x": {
            "bdata": "AAAAAADwfkA=",
            "dtype": "f8"
           },
           "xaxis": "x",
           "y": {
            "bdata": "EymDIG7dfz4=",
            "dtype": "f8"
           },
           "yaxis": "y"
          },
          {
           "hovertemplate": "<b>%{hovertext}</b><br><br>Country Name=%{text}<br>Year=2009<br>Neerslag (mm/jaar)=%{x}<br>Uitstoot per ton geproduceerd (Mt/ton)=%{y}<extra></extra>",
           "hovertext": [
            "United States of America"
           ],
           "legendgroup": "United States of America",
           "marker": {
            "color": "#FF6692",
            "symbol": "circle"
           },
           "mode": "markers+text",
           "name": "United States of America",
           "orientation": "v",
           "showlegend": true,
           "text": [
            "United States of America"
           ],
           "type": "scatter",
           "x": {
            "bdata": "AAAAAABYhkA=",
            "dtype": "f8"
           },
           "xaxis": "x",
           "y": {
            "bdata": "zrQAFUFAoD4=",
            "dtype": "f8"
           },
           "yaxis": "y"
          }
         ],
         "name": "2009"
        },
        {
         "data": [
          {
           "hovertemplate": "<b>%{hovertext}</b><br><br>Country Name=%{text}<br>Year=2010<br>Neerslag (mm/jaar)=%{x}<br>Uitstoot per ton geproduceerd (Mt/ton)=%{y}<extra></extra>",
           "hovertext": [
            "Brazil"
           ],
           "legendgroup": "Brazil",
           "marker": {
            "color": "#636efa",
            "symbol": "circle"
           },
           "mode": "markers+text",
           "name": "Brazil",
           "orientation": "v",
           "showlegend": true,
           "text": [
            "Brazil"
           ],
           "type": "scatter",
           "x": {
            "bdata": "AAAAAACEm0A=",
            "dtype": "f8"
           },
           "xaxis": "x",
           "y": {
            "bdata": "9v8dKVBEbD4=",
            "dtype": "f8"
           },
           "yaxis": "y"
          },
          {
           "hovertemplate": "<b>%{hovertext}</b><br><br>Country Name=%{text}<br>Year=2010<br>Neerslag (mm/jaar)=%{x}<br>Uitstoot per ton geproduceerd (Mt/ton)=%{y}<extra></extra>",
           "hovertext": [
            "India"
           ],
           "legendgroup": "India",
           "marker": {
            "color": "#EF553B",
            "symbol": "circle"
           },
           "mode": "markers+text",
           "name": "India",
           "orientation": "v",
           "showlegend": true,
           "text": [
            "India"
           ],
           "type": "scatter",
           "x": {
            "bdata": "AAAAAADskEA=",
            "dtype": "f8"
           },
           "xaxis": "x",
           "y": {
            "bdata": "hPbSvOxGjz4=",
            "dtype": "f8"
           },
           "yaxis": "y"
          },
          {
           "hovertemplate": "<b>%{hovertext}</b><br><br>Country Name=%{text}<br>Year=2010<br>Neerslag (mm/jaar)=%{x}<br>Uitstoot per ton geproduceerd (Mt/ton)=%{y}<extra></extra>",
           "hovertext": [
            "Indonesia"
           ],
           "legendgroup": "Indonesia",
           "marker": {
            "color": "#00cc96",
            "symbol": "circle"
           },
           "mode": "markers+text",
           "name": "Indonesia",
           "orientation": "v",
           "showlegend": true,
           "text": [
            "Indonesia"
           ],
           "type": "scatter",
           "x": {
            "bdata": "AAAAAAAcpUA=",
            "dtype": "f8"
           },
           "xaxis": "x",
           "y": {
            "bdata": "Lt5ahAisYT4=",
            "dtype": "f8"
           },
           "yaxis": "y"
          },
          {
           "hovertemplate": "<b>%{hovertext}</b><br><br>Country Name=%{text}<br>Year=2010<br>Neerslag (mm/jaar)=%{x}<br>Uitstoot per ton geproduceerd (Mt/ton)=%{y}<extra></extra>",
           "hovertext": [
            "Japan"
           ],
           "legendgroup": "Japan",
           "marker": {
            "color": "#ab63fa",
            "symbol": "circle"
           },
           "mode": "markers+text",
           "name": "Japan",
           "orientation": "v",
           "showlegend": true,
           "text": [
            "Japan"
           ],
           "type": "scatter",
           "x": {
            "bdata": "AAAAAAAQmkA=",
            "dtype": "f8"
           },
           "xaxis": "x",
           "y": {
            "bdata": "lVN/zkkchT4=",
            "dtype": "f8"
           },
           "yaxis": "y"
          },
          {
           "hovertemplate": "<b>%{hovertext}</b><br><br>Country Name=%{text}<br>Year=2010<br>Neerslag (mm/jaar)=%{x}<br>Uitstoot per ton geproduceerd (Mt/ton)=%{y}<extra></extra>",
           "hovertext": [
            "Nigeria"
           ],
           "legendgroup": "Nigeria",
           "marker": {
            "color": "#FFA15A",
            "symbol": "circle"
           },
           "mode": "markers+text",
           "name": "Nigeria",
           "orientation": "v",
           "showlegend": true,
           "text": [
            "Nigeria"
           ],
           "type": "scatter",
           "x": {
            "bdata": "AAAAAAD4kUA=",
            "dtype": "f8"
           },
           "xaxis": "x",
           "y": {
            "bdata": "M60wVIcORz4=",
            "dtype": "f8"
           },
           "yaxis": "y"
          },
          {
           "hovertemplate": "<b>%{hovertext}</b><br><br>Country Name=%{text}<br>Year=2010<br>Neerslag (mm/jaar)=%{x}<br>Uitstoot per ton geproduceerd (Mt/ton)=%{y}<extra></extra>",
           "hovertext": [
            "South Africa"
           ],
           "legendgroup": "South Africa",
           "marker": {
            "color": "#19d3f3",
            "symbol": "circle"
           },
           "mode": "markers+text",
           "name": "South Africa",
           "orientation": "v",
           "showlegend": true,
           "text": [
            "South Africa"
           ],
           "type": "scatter",
           "x": {
            "bdata": "AAAAAADwfkA=",
            "dtype": "f8"
           },
           "xaxis": "x",
           "y": {
            "bdata": "OITpaho5fz4=",
            "dtype": "f8"
           },
           "yaxis": "y"
          },
          {
           "hovertemplate": "<b>%{hovertext}</b><br><br>Country Name=%{text}<br>Year=2010<br>Neerslag (mm/jaar)=%{x}<br>Uitstoot per ton geproduceerd (Mt/ton)=%{y}<extra></extra>",
           "hovertext": [
            "United States of America"
           ],
           "legendgroup": "United States of America",
           "marker": {
            "color": "#FF6692",
            "symbol": "circle"
           },
           "mode": "markers+text",
           "name": "United States of America",
           "orientation": "v",
           "showlegend": true,
           "text": [
            "United States of America"
           ],
           "type": "scatter",
           "x": {
            "bdata": "AAAAAABYhkA=",
            "dtype": "f8"
           },
           "xaxis": "x",
           "y": {
            "bdata": "/Urd7Zc/oD4=",
            "dtype": "f8"
           },
           "yaxis": "y"
          }
         ],
         "name": "2010"
        },
        {
         "data": [
          {
           "hovertemplate": "<b>%{hovertext}</b><br><br>Country Name=%{text}<br>Year=2011<br>Neerslag (mm/jaar)=%{x}<br>Uitstoot per ton geproduceerd (Mt/ton)=%{y}<extra></extra>",
           "hovertext": [
            "Brazil"
           ],
           "legendgroup": "Brazil",
           "marker": {
            "color": "#636efa",
            "symbol": "circle"
           },
           "mode": "markers+text",
           "name": "Brazil",
           "orientation": "v",
           "showlegend": true,
           "text": [
            "Brazil"
           ],
           "type": "scatter",
           "x": {
            "bdata": "AAAAAACEm0A=",
            "dtype": "f8"
           },
           "xaxis": "x",
           "y": {
            "bdata": "V1zYHHWmbD4=",
            "dtype": "f8"
           },
           "yaxis": "y"
          },
          {
           "hovertemplate": "<b>%{hovertext}</b><br><br>Country Name=%{text}<br>Year=2011<br>Neerslag (mm/jaar)=%{x}<br>Uitstoot per ton geproduceerd (Mt/ton)=%{y}<extra></extra>",
           "hovertext": [
            "India"
           ],
           "legendgroup": "India",
           "marker": {
            "color": "#EF553B",
            "symbol": "circle"
           },
           "mode": "markers+text",
           "name": "India",
           "orientation": "v",
           "showlegend": true,
           "text": [
            "India"
           ],
           "type": "scatter",
           "x": {
            "bdata": "AAAAAADskEA=",
            "dtype": "f8"
           },
           "xaxis": "x",
           "y": {
            "bdata": "m3EThfiOjT4=",
            "dtype": "f8"
           },
           "yaxis": "y"
          },
          {
           "hovertemplate": "<b>%{hovertext}</b><br><br>Country Name=%{text}<br>Year=2011<br>Neerslag (mm/jaar)=%{x}<br>Uitstoot per ton geproduceerd (Mt/ton)=%{y}<extra></extra>",
           "hovertext": [
            "Indonesia"
           ],
           "legendgroup": "Indonesia",
           "marker": {
            "color": "#00cc96",
            "symbol": "circle"
           },
           "mode": "markers+text",
           "name": "Indonesia",
           "orientation": "v",
           "showlegend": true,
           "text": [
            "Indonesia"
           ],
           "type": "scatter",
           "x": {
            "bdata": "AAAAAAAcpUA=",
            "dtype": "f8"
           },
           "xaxis": "x",
           "y": {
            "bdata": "K72o7SXcYT4=",
            "dtype": "f8"
           },
           "yaxis": "y"
          },
          {
           "hovertemplate": "<b>%{hovertext}</b><br><br>Country Name=%{text}<br>Year=2011<br>Neerslag (mm/jaar)=%{x}<br>Uitstoot per ton geproduceerd (Mt/ton)=%{y}<extra></extra>",
           "hovertext": [
            "Japan"
           ],
           "legendgroup": "Japan",
           "marker": {
            "color": "#ab63fa",
            "symbol": "circle"
           },
           "mode": "markers+text",
           "name": "Japan",
           "orientation": "v",
           "showlegend": true,
           "text": [
            "Japan"
           ],
           "type": "scatter",
           "x": {
            "bdata": "AAAAAAAQmkA=",
            "dtype": "f8"
           },
           "xaxis": "x",
           "y": {
            "bdata": "7nECCXTxhD4=",
            "dtype": "f8"
           },
           "yaxis": "y"
          },
          {
           "hovertemplate": "<b>%{hovertext}</b><br><br>Country Name=%{text}<br>Year=2011<br>Neerslag (mm/jaar)=%{x}<br>Uitstoot per ton geproduceerd (Mt/ton)=%{y}<extra></extra>",
           "hovertext": [
            "Nigeria"
           ],
           "legendgroup": "Nigeria",
           "marker": {
            "color": "#FFA15A",
            "symbol": "circle"
           },
           "mode": "markers+text",
           "name": "Nigeria",
           "orientation": "v",
           "showlegend": true,
           "text": [
            "Nigeria"
           ],
           "type": "scatter",
           "x": {
            "bdata": "AAAAAAD4kUA=",
            "dtype": "f8"
           },
           "xaxis": "x",
           "y": {
            "bdata": "NK7Mu80AUj4=",
            "dtype": "f8"
           },
           "yaxis": "y"
          },
          {
           "hovertemplate": "<b>%{hovertext}</b><br><br>Country Name=%{text}<br>Year=2011<br>Neerslag (mm/jaar)=%{x}<br>Uitstoot per ton geproduceerd (Mt/ton)=%{y}<extra></extra>",
           "hovertext": [
            "South Africa"
           ],
           "legendgroup": "South Africa",
           "marker": {
            "color": "#19d3f3",
            "symbol": "circle"
           },
           "mode": "markers+text",
           "name": "South Africa",
           "orientation": "v",
           "showlegend": true,
           "text": [
            "South Africa"
           ],
           "type": "scatter",
           "x": {
            "bdata": "AAAAAADwfkA=",
            "dtype": "f8"
           },
           "xaxis": "x",
           "y": {
            "bdata": "66vWLWYBgD4=",
            "dtype": "f8"
           },
           "yaxis": "y"
          },
          {
           "hovertemplate": "<b>%{hovertext}</b><br><br>Country Name=%{text}<br>Year=2011<br>Neerslag (mm/jaar)=%{x}<br>Uitstoot per ton geproduceerd (Mt/ton)=%{y}<extra></extra>",
           "hovertext": [
            "United States of America"
           ],
           "legendgroup": "United States of America",
           "marker": {
            "color": "#FF6692",
            "symbol": "circle"
           },
           "mode": "markers+text",
           "name": "United States of America",
           "orientation": "v",
           "showlegend": true,
           "text": [
            "United States of America"
           ],
           "type": "scatter",
           "x": {
            "bdata": "AAAAAABYhkA=",
            "dtype": "f8"
           },
           "xaxis": "x",
           "y": {
            "bdata": "nZ56SUN4oD4=",
            "dtype": "f8"
           },
           "yaxis": "y"
          }
         ],
         "name": "2011"
        },
        {
         "data": [
          {
           "hovertemplate": "<b>%{hovertext}</b><br><br>Country Name=%{text}<br>Year=2012<br>Neerslag (mm/jaar)=%{x}<br>Uitstoot per ton geproduceerd (Mt/ton)=%{y}<extra></extra>",
           "hovertext": [
            "Brazil"
           ],
           "legendgroup": "Brazil",
           "marker": {
            "color": "#636efa",
            "symbol": "circle"
           },
           "mode": "markers+text",
           "name": "Brazil",
           "orientation": "v",
           "showlegend": true,
           "text": [
            "Brazil"
           ],
           "type": "scatter",
           "x": {
            "bdata": "AAAAAACEm0A=",
            "dtype": "f8"
           },
           "xaxis": "x",
           "y": {
            "bdata": "XXKC8+LGbD4=",
            "dtype": "f8"
           },
           "yaxis": "y"
          },
          {
           "hovertemplate": "<b>%{hovertext}</b><br><br>Country Name=%{text}<br>Year=2012<br>Neerslag (mm/jaar)=%{x}<br>Uitstoot per ton geproduceerd (Mt/ton)=%{y}<extra></extra>",
           "hovertext": [
            "India"
           ],
           "legendgroup": "India",
           "marker": {
            "color": "#EF553B",
            "symbol": "circle"
           },
           "mode": "markers+text",
           "name": "India",
           "orientation": "v",
           "showlegend": true,
           "text": [
            "India"
           ],
           "type": "scatter",
           "x": {
            "bdata": "AAAAAADskEA=",
            "dtype": "f8"
           },
           "xaxis": "x",
           "y": {
            "bdata": "oRf7+pCYjT4=",
            "dtype": "f8"
           },
           "yaxis": "y"
          },
          {
           "hovertemplate": "<b>%{hovertext}</b><br><br>Country Name=%{text}<br>Year=2012<br>Neerslag (mm/jaar)=%{x}<br>Uitstoot per ton geproduceerd (Mt/ton)=%{y}<extra></extra>",
           "hovertext": [
            "Indonesia"
           ],
           "legendgroup": "Indonesia",
           "marker": {
            "color": "#00cc96",
            "symbol": "circle"
           },
           "mode": "markers+text",
           "name": "Indonesia",
           "orientation": "v",
           "showlegend": true,
           "text": [
            "Indonesia"
           ],
           "type": "scatter",
           "x": {
            "bdata": "AAAAAAAcpUA=",
            "dtype": "f8"
           },
           "xaxis": "x",
           "y": {
            "bdata": "DFo6xm9zYD4=",
            "dtype": "f8"
           },
           "yaxis": "y"
          },
          {
           "hovertemplate": "<b>%{hovertext}</b><br><br>Country Name=%{text}<br>Year=2012<br>Neerslag (mm/jaar)=%{x}<br>Uitstoot per ton geproduceerd (Mt/ton)=%{y}<extra></extra>",
           "hovertext": [
            "Japan"
           ],
           "legendgroup": "Japan",
           "marker": {
            "color": "#ab63fa",
            "symbol": "circle"
           },
           "mode": "markers+text",
           "name": "Japan",
           "orientation": "v",
           "showlegend": true,
           "text": [
            "Japan"
           ],
           "type": "scatter",
           "x": {
            "bdata": "AAAAAAAQmkA=",
            "dtype": "f8"
           },
           "xaxis": "x",
           "y": {
            "bdata": "JLdUeibkgz4=",
            "dtype": "f8"
           },
           "yaxis": "y"
          },
          {
           "hovertemplate": "<b>%{hovertext}</b><br><br>Country Name=%{text}<br>Year=2012<br>Neerslag (mm/jaar)=%{x}<br>Uitstoot per ton geproduceerd (Mt/ton)=%{y}<extra></extra>",
           "hovertext": [
            "Nigeria"
           ],
           "legendgroup": "Nigeria",
           "marker": {
            "color": "#FFA15A",
            "symbol": "circle"
           },
           "mode": "markers+text",
           "name": "Nigeria",
           "orientation": "v",
           "showlegend": true,
           "text": [
            "Nigeria"
           ],
           "type": "scatter",
           "x": {
            "bdata": "AAAAAAD4kUA=",
            "dtype": "f8"
           },
           "xaxis": "x",
           "y": {
            "bdata": "RAh0m9xqUD4=",
            "dtype": "f8"
           },
           "yaxis": "y"
          },
          {
           "hovertemplate": "<b>%{hovertext}</b><br><br>Country Name=%{text}<br>Year=2012<br>Neerslag (mm/jaar)=%{x}<br>Uitstoot per ton geproduceerd (Mt/ton)=%{y}<extra></extra>",
           "hovertext": [
            "South Africa"
           ],
           "legendgroup": "South Africa",
           "marker": {
            "color": "#19d3f3",
            "symbol": "circle"
           },
           "mode": "markers+text",
           "name": "South Africa",
           "orientation": "v",
           "showlegend": true,
           "text": [
            "South Africa"
           ],
           "type": "scatter",
           "x": {
            "bdata": "AAAAAADwfkA=",
            "dtype": "f8"
           },
           "xaxis": "x",
           "y": {
            "bdata": "nnQj4XY8fT4=",
            "dtype": "f8"
           },
           "yaxis": "y"
          },
          {
           "hovertemplate": "<b>%{hovertext}</b><br><br>Country Name=%{text}<br>Year=2012<br>Neerslag (mm/jaar)=%{x}<br>Uitstoot per ton geproduceerd (Mt/ton)=%{y}<extra></extra>",
           "hovertext": [
            "United States of America"
           ],
           "legendgroup": "United States of America",
           "marker": {
            "color": "#FF6692",
            "symbol": "circle"
           },
           "mode": "markers+text",
           "name": "United States of America",
           "orientation": "v",
           "showlegend": true,
           "text": [
            "United States of America"
           ],
           "type": "scatter",
           "x": {
            "bdata": "AAAAAABYhkA=",
            "dtype": "f8"
           },
           "xaxis": "x",
           "y": {
            "bdata": "+gPzxkUboD4=",
            "dtype": "f8"
           },
           "yaxis": "y"
          }
         ],
         "name": "2012"
        },
        {
         "data": [
          {
           "hovertemplate": "<b>%{hovertext}</b><br><br>Country Name=%{text}<br>Year=2013<br>Neerslag (mm/jaar)=%{x}<br>Uitstoot per ton geproduceerd (Mt/ton)=%{y}<extra></extra>",
           "hovertext": [
            "Brazil"
           ],
           "legendgroup": "Brazil",
           "marker": {
            "color": "#636efa",
            "symbol": "circle"
           },
           "mode": "markers+text",
           "name": "Brazil",
           "orientation": "v",
           "showlegend": true,
           "text": [
            "Brazil"
           ],
           "type": "scatter",
           "x": {
            "bdata": "AAAAAACEm0A=",
            "dtype": "f8"
           },
           "xaxis": "x",
           "y": {
            "bdata": "HW2BKYrkbD4=",
            "dtype": "f8"
           },
           "yaxis": "y"
          },
          {
           "hovertemplate": "<b>%{hovertext}</b><br><br>Country Name=%{text}<br>Year=2013<br>Neerslag (mm/jaar)=%{x}<br>Uitstoot per ton geproduceerd (Mt/ton)=%{y}<extra></extra>",
           "hovertext": [
            "India"
           ],
           "legendgroup": "India",
           "marker": {
            "color": "#EF553B",
            "symbol": "circle"
           },
           "mode": "markers+text",
           "name": "India",
           "orientation": "v",
           "showlegend": true,
           "text": [
            "India"
           ],
           "type": "scatter",
           "x": {
            "bdata": "AAAAAADskEA=",
            "dtype": "f8"
           },
           "xaxis": "x",
           "y": {
            "bdata": "AP3Gwyb7jT4=",
            "dtype": "f8"
           },
           "yaxis": "y"
          },
          {
           "hovertemplate": "<b>%{hovertext}</b><br><br>Country Name=%{text}<br>Year=2013<br>Neerslag (mm/jaar)=%{x}<br>Uitstoot per ton geproduceerd (Mt/ton)=%{y}<extra></extra>",
           "hovertext": [
            "Indonesia"
           ],
           "legendgroup": "Indonesia",
           "marker": {
            "color": "#00cc96",
            "symbol": "circle"
           },
           "mode": "markers+text",
           "name": "Indonesia",
           "orientation": "v",
           "showlegend": true,
           "text": [
            "Indonesia"
           ],
           "type": "scatter",
           "x": {
            "bdata": "AAAAAAAcpUA=",
            "dtype": "f8"
           },
           "xaxis": "x",
           "y": {
            "bdata": "yZxg+H9ZYT4=",
            "dtype": "f8"
           },
           "yaxis": "y"
          },
          {
           "hovertemplate": "<b>%{hovertext}</b><br><br>Country Name=%{text}<br>Year=2013<br>Neerslag (mm/jaar)=%{x}<br>Uitstoot per ton geproduceerd (Mt/ton)=%{y}<extra></extra>",
           "hovertext": [
            "Japan"
           ],
           "legendgroup": "Japan",
           "marker": {
            "color": "#ab63fa",
            "symbol": "circle"
           },
           "mode": "markers+text",
           "name": "Japan",
           "orientation": "v",
           "showlegend": true,
           "text": [
            "Japan"
           ],
           "type": "scatter",
           "x": {
            "bdata": "AAAAAAAQmkA=",
            "dtype": "f8"
           },
           "xaxis": "x",
           "y": {
            "bdata": "+OlT+2nMgz4=",
            "dtype": "f8"
           },
           "yaxis": "y"
          },
          {
           "hovertemplate": "<b>%{hovertext}</b><br><br>Country Name=%{text}<br>Year=2013<br>Neerslag (mm/jaar)=%{x}<br>Uitstoot per ton geproduceerd (Mt/ton)=%{y}<extra></extra>",
           "hovertext": [
            "Nigeria"
           ],
           "legendgroup": "Nigeria",
           "marker": {
            "color": "#FFA15A",
            "symbol": "circle"
           },
           "mode": "markers+text",
           "name": "Nigeria",
           "orientation": "v",
           "showlegend": true,
           "text": [
            "Nigeria"
           ],
           "type": "scatter",
           "x": {
            "bdata": "AAAAAAD4kUA=",
            "dtype": "f8"
           },
           "xaxis": "x",
           "y": {
            "bdata": "oyQJ2W4iTz4=",
            "dtype": "f8"
           },
           "yaxis": "y"
          },
          {
           "hovertemplate": "<b>%{hovertext}</b><br><br>Country Name=%{text}<br>Year=2013<br>Neerslag (mm/jaar)=%{x}<br>Uitstoot per ton geproduceerd (Mt/ton)=%{y}<extra></extra>",
           "hovertext": [
            "South Africa"
           ],
           "legendgroup": "South Africa",
           "marker": {
            "color": "#19d3f3",
            "symbol": "circle"
           },
           "mode": "markers+text",
           "name": "South Africa",
           "orientation": "v",
           "showlegend": true,
           "text": [
            "South Africa"
           ],
           "type": "scatter",
           "x": {
            "bdata": "AAAAAADwfkA=",
            "dtype": "f8"
           },
           "xaxis": "x",
           "y": {
            "bdata": "ZwcgSNpZej4=",
            "dtype": "f8"
           },
           "yaxis": "y"
          },
          {
           "hovertemplate": "<b>%{hovertext}</b><br><br>Country Name=%{text}<br>Year=2013<br>Neerslag (mm/jaar)=%{x}<br>Uitstoot per ton geproduceerd (Mt/ton)=%{y}<extra></extra>",
           "hovertext": [
            "United States of America"
           ],
           "legendgroup": "United States of America",
           "marker": {
            "color": "#FF6692",
            "symbol": "circle"
           },
           "mode": "markers+text",
           "name": "United States of America",
           "orientation": "v",
           "showlegend": true,
           "text": [
            "United States of America"
           ],
           "type": "scatter",
           "x": {
            "bdata": "AAAAAABYhkA=",
            "dtype": "f8"
           },
           "xaxis": "x",
           "y": {
            "bdata": "1U9G4zPunz4=",
            "dtype": "f8"
           },
           "yaxis": "y"
          }
         ],
         "name": "2013"
        },
        {
         "data": [
          {
           "hovertemplate": "<b>%{hovertext}</b><br><br>Country Name=%{text}<br>Year=2014<br>Neerslag (mm/jaar)=%{x}<br>Uitstoot per ton geproduceerd (Mt/ton)=%{y}<extra></extra>",
           "hovertext": [
            "Brazil"
           ],
           "legendgroup": "Brazil",
           "marker": {
            "color": "#636efa",
            "symbol": "circle"
           },
           "mode": "markers+text",
           "name": "Brazil",
           "orientation": "v",
           "showlegend": true,
           "text": [
            "Brazil"
           ],
           "type": "scatter",
           "x": {
            "bdata": "AAAAAACEm0A=",
            "dtype": "f8"
           },
           "xaxis": "x",
           "y": {
            "bdata": "C8s2fAPubz4=",
            "dtype": "f8"
           },
           "yaxis": "y"
          },
          {
           "hovertemplate": "<b>%{hovertext}</b><br><br>Country Name=%{text}<br>Year=2014<br>Neerslag (mm/jaar)=%{x}<br>Uitstoot per ton geproduceerd (Mt/ton)=%{y}<extra></extra>",
           "hovertext": [
            "India"
           ],
           "legendgroup": "India",
           "marker": {
            "color": "#EF553B",
            "symbol": "circle"
           },
           "mode": "markers+text",
           "name": "India",
           "orientation": "v",
           "showlegend": true,
           "text": [
            "India"
           ],
           "type": "scatter",
           "x": {
            "bdata": "AAAAAADskEA=",
            "dtype": "f8"
           },
           "xaxis": "x",
           "y": {
            "bdata": "Q/i4KFCijT4=",
            "dtype": "f8"
           },
           "yaxis": "y"
          },
          {
           "hovertemplate": "<b>%{hovertext}</b><br><br>Country Name=%{text}<br>Year=2014<br>Neerslag (mm/jaar)=%{x}<br>Uitstoot per ton geproduceerd (Mt/ton)=%{y}<extra></extra>",
           "hovertext": [
            "Indonesia"
           ],
           "legendgroup": "Indonesia",
           "marker": {
            "color": "#00cc96",
            "symbol": "circle"
           },
           "mode": "markers+text",
           "name": "Indonesia",
           "orientation": "v",
           "showlegend": true,
           "text": [
            "Indonesia"
           ],
           "type": "scatter",
           "x": {
            "bdata": "AAAAAAAcpUA=",
            "dtype": "f8"
           },
           "xaxis": "x",
           "y": {
            "bdata": "EJ/ZLfNwYT4=",
            "dtype": "f8"
           },
           "yaxis": "y"
          },
          {
           "hovertemplate": "<b>%{hovertext}</b><br><br>Country Name=%{text}<br>Year=2014<br>Neerslag (mm/jaar)=%{x}<br>Uitstoot per ton geproduceerd (Mt/ton)=%{y}<extra></extra>",
           "hovertext": [
            "Japan"
           ],
           "legendgroup": "Japan",
           "marker": {
            "color": "#ab63fa",
            "symbol": "circle"
           },
           "mode": "markers+text",
           "name": "Japan",
           "orientation": "v",
           "showlegend": true,
           "text": [
            "Japan"
           ],
           "type": "scatter",
           "x": {
            "bdata": "AAAAAAAQmkA=",
            "dtype": "f8"
           },
           "xaxis": "x",
           "y": {
            "bdata": "ydjXrm5/gz4=",
            "dtype": "f8"
           },
           "yaxis": "y"
          },
          {
           "hovertemplate": "<b>%{hovertext}</b><br><br>Country Name=%{text}<br>Year=2014<br>Neerslag (mm/jaar)=%{x}<br>Uitstoot per ton geproduceerd (Mt/ton)=%{y}<extra></extra>",
           "hovertext": [
            "Nigeria"
           ],
           "legendgroup": "Nigeria",
           "marker": {
            "color": "#FFA15A",
            "symbol": "circle"
           },
           "mode": "markers+text",
           "name": "Nigeria",
           "orientation": "v",
           "showlegend": true,
           "text": [
            "Nigeria"
           ],
           "type": "scatter",
           "x": {
            "bdata": "AAAAAAD4kUA=",
            "dtype": "f8"
           },
           "xaxis": "x",
           "y": {
            "bdata": "Q35Y+yQDSj4=",
            "dtype": "f8"
           },
           "yaxis": "y"
          },
          {
           "hovertemplate": "<b>%{hovertext}</b><br><br>Country Name=%{text}<br>Year=2014<br>Neerslag (mm/jaar)=%{x}<br>Uitstoot per ton geproduceerd (Mt/ton)=%{y}<extra></extra>",
           "hovertext": [
            "South Africa"
           ],
           "legendgroup": "South Africa",
           "marker": {
            "color": "#19d3f3",
            "symbol": "circle"
           },
           "mode": "markers+text",
           "name": "South Africa",
           "orientation": "v",
           "showlegend": true,
           "text": [
            "South Africa"
           ],
           "type": "scatter",
           "x": {
            "bdata": "AAAAAADwfkA=",
            "dtype": "f8"
           },
           "xaxis": "x",
           "y": {
            "bdata": "0vlHliEZez4=",
            "dtype": "f8"
           },
           "yaxis": "y"
          },
          {
           "hovertemplate": "<b>%{hovertext}</b><br><br>Country Name=%{text}<br>Year=2014<br>Neerslag (mm/jaar)=%{x}<br>Uitstoot per ton geproduceerd (Mt/ton)=%{y}<extra></extra>",
           "hovertext": [
            "United States of America"
           ],
           "legendgroup": "United States of America",
           "marker": {
            "color": "#FF6692",
            "symbol": "circle"
           },
           "mode": "markers+text",
           "name": "United States of America",
           "orientation": "v",
           "showlegend": true,
           "text": [
            "United States of America"
           ],
           "type": "scatter",
           "x": {
            "bdata": "AAAAAABYhkA=",
            "dtype": "f8"
           },
           "xaxis": "x",
           "y": {
            "bdata": "P+8Qa07Inj4=",
            "dtype": "f8"
           },
           "yaxis": "y"
          }
         ],
         "name": "2014"
        },
        {
         "data": [
          {
           "hovertemplate": "<b>%{hovertext}</b><br><br>Country Name=%{text}<br>Year=2015<br>Neerslag (mm/jaar)=%{x}<br>Uitstoot per ton geproduceerd (Mt/ton)=%{y}<extra></extra>",
           "hovertext": [
            "Brazil"
           ],
           "legendgroup": "Brazil",
           "marker": {
            "color": "#636efa",
            "symbol": "circle"
           },
           "mode": "markers+text",
           "name": "Brazil",
           "orientation": "v",
           "showlegend": true,
           "text": [
            "Brazil"
           ],
           "type": "scatter",
           "x": {
            "bdata": "AAAAAACEm0A=",
            "dtype": "f8"
           },
           "xaxis": "x",
           "y": {
            "bdata": "SlWrTqflbT4=",
            "dtype": "f8"
           },
           "yaxis": "y"
          },
          {
           "hovertemplate": "<b>%{hovertext}</b><br><br>Country Name=%{text}<br>Year=2015<br>Neerslag (mm/jaar)=%{x}<br>Uitstoot per ton geproduceerd (Mt/ton)=%{y}<extra></extra>",
           "hovertext": [
            "India"
           ],
           "legendgroup": "India",
           "marker": {
            "color": "#EF553B",
            "symbol": "circle"
           },
           "mode": "markers+text",
           "name": "India",
           "orientation": "v",
           "showlegend": true,
           "text": [
            "India"
           ],
           "type": "scatter",
           "x": {
            "bdata": "AAAAAADskEA=",
            "dtype": "f8"
           },
           "xaxis": "x",
           "y": {
            "bdata": "8vXNhEpnjT4=",
            "dtype": "f8"
           },
           "yaxis": "y"
          },
          {
           "hovertemplate": "<b>%{hovertext}</b><br><br>Country Name=%{text}<br>Year=2015<br>Neerslag (mm/jaar)=%{x}<br>Uitstoot per ton geproduceerd (Mt/ton)=%{y}<extra></extra>",
           "hovertext": [
            "Indonesia"
           ],
           "legendgroup": "Indonesia",
           "marker": {
            "color": "#00cc96",
            "symbol": "circle"
           },
           "mode": "markers+text",
           "name": "Indonesia",
           "orientation": "v",
           "showlegend": true,
           "text": [
            "Indonesia"
           ],
           "type": "scatter",
           "x": {
            "bdata": "AAAAAAAcpUA=",
            "dtype": "f8"
           },
           "xaxis": "x",
           "y": {
            "bdata": "4hjNt8VAYD4=",
            "dtype": "f8"
           },
           "yaxis": "y"
          },
          {
           "hovertemplate": "<b>%{hovertext}</b><br><br>Country Name=%{text}<br>Year=2015<br>Neerslag (mm/jaar)=%{x}<br>Uitstoot per ton geproduceerd (Mt/ton)=%{y}<extra></extra>",
           "hovertext": [
            "Japan"
           ],
           "legendgroup": "Japan",
           "marker": {
            "color": "#ab63fa",
            "symbol": "circle"
           },
           "mode": "markers+text",
           "name": "Japan",
           "orientation": "v",
           "showlegend": true,
           "text": [
            "Japan"
           ],
           "type": "scatter",
           "x": {
            "bdata": "AAAAAAAQmkA=",
            "dtype": "f8"
           },
           "xaxis": "x",
           "y": {
            "bdata": "zr0vNaxRgz4=",
            "dtype": "f8"
           },
           "yaxis": "y"
          },
          {
           "hovertemplate": "<b>%{hovertext}</b><br><br>Country Name=%{text}<br>Year=2015<br>Neerslag (mm/jaar)=%{x}<br>Uitstoot per ton geproduceerd (Mt/ton)=%{y}<extra></extra>",
           "hovertext": [
            "Nigeria"
           ],
           "legendgroup": "Nigeria",
           "marker": {
            "color": "#FFA15A",
            "symbol": "circle"
           },
           "mode": "markers+text",
           "name": "Nigeria",
           "orientation": "v",
           "showlegend": true,
           "text": [
            "Nigeria"
           ],
           "type": "scatter",
           "x": {
            "bdata": "AAAAAAD4kUA=",
            "dtype": "f8"
           },
           "xaxis": "x",
           "y": {
            "bdata": "6PNmiazySD4=",
            "dtype": "f8"
           },
           "yaxis": "y"
          },
          {
           "hovertemplate": "<b>%{hovertext}</b><br><br>Country Name=%{text}<br>Year=2015<br>Neerslag (mm/jaar)=%{x}<br>Uitstoot per ton geproduceerd (Mt/ton)=%{y}<extra></extra>",
           "hovertext": [
            "South Africa"
           ],
           "legendgroup": "South Africa",
           "marker": {
            "color": "#19d3f3",
            "symbol": "circle"
           },
           "mode": "markers+text",
           "name": "South Africa",
           "orientation": "v",
           "showlegend": true,
           "text": [
            "South Africa"
           ],
           "type": "scatter",
           "x": {
            "bdata": "AAAAAADwfkA=",
            "dtype": "f8"
           },
           "xaxis": "x",
           "y": {
            "bdata": "ZmXMhr1ofD4=",
            "dtype": "f8"
           },
           "yaxis": "y"
          },
          {
           "hovertemplate": "<b>%{hovertext}</b><br><br>Country Name=%{text}<br>Year=2015<br>Neerslag (mm/jaar)=%{x}<br>Uitstoot per ton geproduceerd (Mt/ton)=%{y}<extra></extra>",
           "hovertext": [
            "United States of America"
           ],
           "legendgroup": "United States of America",
           "marker": {
            "color": "#FF6692",
            "symbol": "circle"
           },
           "mode": "markers+text",
           "name": "United States of America",
           "orientation": "v",
           "showlegend": true,
           "text": [
            "United States of America"
           ],
           "type": "scatter",
           "x": {
            "bdata": "AAAAAABYhkA=",
            "dtype": "f8"
           },
           "xaxis": "x",
           "y": {
            "bdata": "orN5UMqunj4=",
            "dtype": "f8"
           },
           "yaxis": "y"
          }
         ],
         "name": "2015"
        },
        {
         "data": [
          {
           "hovertemplate": "<b>%{hovertext}</b><br><br>Country Name=%{text}<br>Year=2016<br>Neerslag (mm/jaar)=%{x}<br>Uitstoot per ton geproduceerd (Mt/ton)=%{y}<extra></extra>",
           "hovertext": [
            "Brazil"
           ],
           "legendgroup": "Brazil",
           "marker": {
            "color": "#636efa",
            "symbol": "circle"
           },
           "mode": "markers+text",
           "name": "Brazil",
           "orientation": "v",
           "showlegend": true,
           "text": [
            "Brazil"
           ],
           "type": "scatter",
           "x": {
            "bdata": "AAAAAACEm0A=",
            "dtype": "f8"
           },
           "xaxis": "x",
           "y": {
            "bdata": "EvCpKw5tbT4=",
            "dtype": "f8"
           },
           "yaxis": "y"
          },
          {
           "hovertemplate": "<b>%{hovertext}</b><br><br>Country Name=%{text}<br>Year=2016<br>Neerslag (mm/jaar)=%{x}<br>Uitstoot per ton geproduceerd (Mt/ton)=%{y}<extra></extra>",
           "hovertext": [
            "India"
           ],
           "legendgroup": "India",
           "marker": {
            "color": "#EF553B",
            "symbol": "circle"
           },
           "mode": "markers+text",
           "name": "India",
           "orientation": "v",
           "showlegend": true,
           "text": [
            "India"
           ],
           "type": "scatter",
           "x": {
            "bdata": "AAAAAADskEA=",
            "dtype": "f8"
           },
           "xaxis": "x",
           "y": {
            "bdata": "4N7VeePfjT4=",
            "dtype": "f8"
           },
           "yaxis": "y"
          },
          {
           "hovertemplate": "<b>%{hovertext}</b><br><br>Country Name=%{text}<br>Year=2016<br>Neerslag (mm/jaar)=%{x}<br>Uitstoot per ton geproduceerd (Mt/ton)=%{y}<extra></extra>",
           "hovertext": [
            "Indonesia"
           ],
           "legendgroup": "Indonesia",
           "marker": {
            "color": "#00cc96",
            "symbol": "circle"
           },
           "mode": "markers+text",
           "name": "Indonesia",
           "orientation": "v",
           "showlegend": true,
           "text": [
            "Indonesia"
           ],
           "type": "scatter",
           "x": {
            "bdata": "AAAAAAAcpUA=",
            "dtype": "f8"
           },
           "xaxis": "x",
           "y": {
            "bdata": "CA3WIrdhYD4=",
            "dtype": "f8"
           },
           "yaxis": "y"
          },
          {
           "hovertemplate": "<b>%{hovertext}</b><br><br>Country Name=%{text}<br>Year=2016<br>Neerslag (mm/jaar)=%{x}<br>Uitstoot per ton geproduceerd (Mt/ton)=%{y}<extra></extra>",
           "hovertext": [
            "Japan"
           ],
           "legendgroup": "Japan",
           "marker": {
            "color": "#ab63fa",
            "symbol": "circle"
           },
           "mode": "markers+text",
           "name": "Japan",
           "orientation": "v",
           "showlegend": true,
           "text": [
            "Japan"
           ],
           "type": "scatter",
           "x": {
            "bdata": "AAAAAAAQmkA=",
            "dtype": "f8"
           },
           "xaxis": "x",
           "y": {
            "bdata": "5dKnvgR7gz4=",
            "dtype": "f8"
           },
           "yaxis": "y"
          },
          {
           "hovertemplate": "<b>%{hovertext}</b><br><br>Country Name=%{text}<br>Year=2016<br>Neerslag (mm/jaar)=%{x}<br>Uitstoot per ton geproduceerd (Mt/ton)=%{y}<extra></extra>",
           "hovertext": [
            "Nigeria"
           ],
           "legendgroup": "Nigeria",
           "marker": {
            "color": "#FFA15A",
            "symbol": "circle"
           },
           "mode": "markers+text",
           "name": "Nigeria",
           "orientation": "v",
           "showlegend": true,
           "text": [
            "Nigeria"
           ],
           "type": "scatter",
           "x": {
            "bdata": "AAAAAAD4kUA=",
            "dtype": "f8"
           },
           "xaxis": "x",
           "y": {
            "bdata": "fC/bnUHDRz4=",
            "dtype": "f8"
           },
           "yaxis": "y"
          },
          {
           "hovertemplate": "<b>%{hovertext}</b><br><br>Country Name=%{text}<br>Year=2016<br>Neerslag (mm/jaar)=%{x}<br>Uitstoot per ton geproduceerd (Mt/ton)=%{y}<extra></extra>",
           "hovertext": [
            "South Africa"
           ],
           "legendgroup": "South Africa",
           "marker": {
            "color": "#19d3f3",
            "symbol": "circle"
           },
           "mode": "markers+text",
           "name": "South Africa",
           "orientation": "v",
           "showlegend": true,
           "text": [
            "South Africa"
           ],
           "type": "scatter",
           "x": {
            "bdata": "AAAAAADwfkA=",
            "dtype": "f8"
           },
           "xaxis": "x",
           "y": {
            "bdata": "wivGE6sAfz4=",
            "dtype": "f8"
           },
           "yaxis": "y"
          },
          {
           "hovertemplate": "<b>%{hovertext}</b><br><br>Country Name=%{text}<br>Year=2016<br>Neerslag (mm/jaar)=%{x}<br>Uitstoot per ton geproduceerd (Mt/ton)=%{y}<extra></extra>",
           "hovertext": [
            "United States of America"
           ],
           "legendgroup": "United States of America",
           "marker": {
            "color": "#FF6692",
            "symbol": "circle"
           },
           "mode": "markers+text",
           "name": "United States of America",
           "orientation": "v",
           "showlegend": true,
           "text": [
            "United States of America"
           ],
           "type": "scatter",
           "x": {
            "bdata": "AAAAAABYhkA=",
            "dtype": "f8"
           },
           "xaxis": "x",
           "y": {
            "bdata": "/q4QfNPGnT4=",
            "dtype": "f8"
           },
           "yaxis": "y"
          }
         ],
         "name": "2016"
        },
        {
         "data": [
          {
           "hovertemplate": "<b>%{hovertext}</b><br><br>Country Name=%{text}<br>Year=2017<br>Neerslag (mm/jaar)=%{x}<br>Uitstoot per ton geproduceerd (Mt/ton)=%{y}<extra></extra>",
           "hovertext": [
            "Brazil"
           ],
           "legendgroup": "Brazil",
           "marker": {
            "color": "#636efa",
            "symbol": "circle"
           },
           "mode": "markers+text",
           "name": "Brazil",
           "orientation": "v",
           "showlegend": true,
           "text": [
            "Brazil"
           ],
           "type": "scatter",
           "x": {
            "bdata": "AAAAAACEm0A=",
            "dtype": "f8"
           },
           "xaxis": "x",
           "y": {
            "bdata": "UpW1JgmQbD4=",
            "dtype": "f8"
           },
           "yaxis": "y"
          },
          {
           "hovertemplate": "<b>%{hovertext}</b><br><br>Country Name=%{text}<br>Year=2017<br>Neerslag (mm/jaar)=%{x}<br>Uitstoot per ton geproduceerd (Mt/ton)=%{y}<extra></extra>",
           "hovertext": [
            "India"
           ],
           "legendgroup": "India",
           "marker": {
            "color": "#EF553B",
            "symbol": "circle"
           },
           "mode": "markers+text",
           "name": "India",
           "orientation": "v",
           "showlegend": true,
           "text": [
            "India"
           ],
           "type": "scatter",
           "x": {
            "bdata": "AAAAAADskEA=",
            "dtype": "f8"
           },
           "xaxis": "x",
           "y": {
            "bdata": "izsko6+djz4=",
            "dtype": "f8"
           },
           "yaxis": "y"
          },
          {
           "hovertemplate": "<b>%{hovertext}</b><br><br>Country Name=%{text}<br>Year=2017<br>Neerslag (mm/jaar)=%{x}<br>Uitstoot per ton geproduceerd (Mt/ton)=%{y}<extra></extra>",
           "hovertext": [
            "Indonesia"
           ],
           "legendgroup": "Indonesia",
           "marker": {
            "color": "#00cc96",
            "symbol": "circle"
           },
           "mode": "markers+text",
           "name": "Indonesia",
           "orientation": "v",
           "showlegend": true,
           "text": [
            "Indonesia"
           ],
           "type": "scatter",
           "x": {
            "bdata": "AAAAAAAcpUA=",
            "dtype": "f8"
           },
           "xaxis": "x",
           "y": {
            "bdata": "bpafVWoOXj4=",
            "dtype": "f8"
           },
           "yaxis": "y"
          },
          {
           "hovertemplate": "<b>%{hovertext}</b><br><br>Country Name=%{text}<br>Year=2017<br>Neerslag (mm/jaar)=%{x}<br>Uitstoot per ton geproduceerd (Mt/ton)=%{y}<extra></extra>",
           "hovertext": [
            "Japan"
           ],
           "legendgroup": "Japan",
           "marker": {
            "color": "#ab63fa",
            "symbol": "circle"
           },
           "mode": "markers+text",
           "name": "Japan",
           "orientation": "v",
           "showlegend": true,
           "text": [
            "Japan"
           ],
           "type": "scatter",
           "x": {
            "bdata": "AAAAAAAQmkA=",
            "dtype": "f8"
           },
           "xaxis": "x",
           "y": {
            "bdata": "BCkhhWn2gj4=",
            "dtype": "f8"
           },
           "yaxis": "y"
          },
          {
           "hovertemplate": "<b>%{hovertext}</b><br><br>Country Name=%{text}<br>Year=2017<br>Neerslag (mm/jaar)=%{x}<br>Uitstoot per ton geproduceerd (Mt/ton)=%{y}<extra></extra>",
           "hovertext": [
            "Nigeria"
           ],
           "legendgroup": "Nigeria",
           "marker": {
            "color": "#FFA15A",
            "symbol": "circle"
           },
           "mode": "markers+text",
           "name": "Nigeria",
           "orientation": "v",
           "showlegend": true,
           "text": [
            "Nigeria"
           ],
           "type": "scatter",
           "x": {
            "bdata": "AAAAAAD4kUA=",
            "dtype": "f8"
           },
           "xaxis": "x",
           "y": {
            "bdata": "7pHVBocIRz4=",
            "dtype": "f8"
           },
           "yaxis": "y"
          },
          {
           "hovertemplate": "<b>%{hovertext}</b><br><br>Country Name=%{text}<br>Year=2017<br>Neerslag (mm/jaar)=%{x}<br>Uitstoot per ton geproduceerd (Mt/ton)=%{y}<extra></extra>",
           "hovertext": [
            "South Africa"
           ],
           "legendgroup": "South Africa",
           "marker": {
            "color": "#19d3f3",
            "symbol": "circle"
           },
           "mode": "markers+text",
           "name": "South Africa",
           "orientation": "v",
           "showlegend": true,
           "text": [
            "South Africa"
           ],
           "type": "scatter",
           "x": {
            "bdata": "AAAAAADwfkA=",
            "dtype": "f8"
           },
           "xaxis": "x",
           "y": {
            "bdata": "KOk9lpCBej4=",
            "dtype": "f8"
           },
           "yaxis": "y"
          },
          {
           "hovertemplate": "<b>%{hovertext}</b><br><br>Country Name=%{text}<br>Year=2017<br>Neerslag (mm/jaar)=%{x}<br>Uitstoot per ton geproduceerd (Mt/ton)=%{y}<extra></extra>",
           "hovertext": [
            "United States of America"
           ],
           "legendgroup": "United States of America",
           "marker": {
            "color": "#FF6692",
            "symbol": "circle"
           },
           "mode": "markers+text",
           "name": "United States of America",
           "orientation": "v",
           "showlegend": true,
           "text": [
            "United States of America"
           ],
           "type": "scatter",
           "x": {
            "bdata": "AAAAAABYhkA=",
            "dtype": "f8"
           },
           "xaxis": "x",
           "y": {
            "bdata": "qeVvYaLnnD4=",
            "dtype": "f8"
           },
           "yaxis": "y"
          }
         ],
         "name": "2017"
        },
        {
         "data": [
          {
           "hovertemplate": "<b>%{hovertext}</b><br><br>Country Name=%{text}<br>Year=2018<br>Neerslag (mm/jaar)=%{x}<br>Uitstoot per ton geproduceerd (Mt/ton)=%{y}<extra></extra>",
           "hovertext": [
            "Brazil"
           ],
           "legendgroup": "Brazil",
           "marker": {
            "color": "#636efa",
            "symbol": "circle"
           },
           "mode": "markers+text",
           "name": "Brazil",
           "orientation": "v",
           "showlegend": true,
           "text": [
            "Brazil"
           ],
           "type": "scatter",
           "x": {
            "bdata": "AAAAAACEm0A=",
            "dtype": "f8"
           },
           "xaxis": "x",
           "y": {
            "bdata": "l5icCMYabT4=",
            "dtype": "f8"
           },
           "yaxis": "y"
          },
          {
           "hovertemplate": "<b>%{hovertext}</b><br><br>Country Name=%{text}<br>Year=2018<br>Neerslag (mm/jaar)=%{x}<br>Uitstoot per ton geproduceerd (Mt/ton)=%{y}<extra></extra>",
           "hovertext": [
            "India"
           ],
           "legendgroup": "India",
           "marker": {
            "color": "#EF553B",
            "symbol": "circle"
           },
           "mode": "markers+text",
           "name": "India",
           "orientation": "v",
           "showlegend": true,
           "text": [
            "India"
           ],
           "type": "scatter",
           "x": {
            "bdata": "AAAAAADskEA=",
            "dtype": "f8"
           },
           "xaxis": "x",
           "y": {
            "bdata": "b+KVmZ3jiz4=",
            "dtype": "f8"
           },
           "yaxis": "y"
          },
          {
           "hovertemplate": "<b>%{hovertext}</b><br><br>Country Name=%{text}<br>Year=2018<br>Neerslag (mm/jaar)=%{x}<br>Uitstoot per ton geproduceerd (Mt/ton)=%{y}<extra></extra>",
           "hovertext": [
            "Indonesia"
           ],
           "legendgroup": "Indonesia",
           "marker": {
            "color": "#00cc96",
            "symbol": "circle"
           },
           "mode": "markers+text",
           "name": "Indonesia",
           "orientation": "v",
           "showlegend": true,
           "text": [
            "Indonesia"
           ],
           "type": "scatter",
           "x": {
            "bdata": "AAAAAAAcpUA=",
            "dtype": "f8"
           },
           "xaxis": "x",
           "y": {
            "bdata": "XbQidl8rXD4=",
            "dtype": "f8"
           },
           "yaxis": "y"
          },
          {
           "hovertemplate": "<b>%{hovertext}</b><br><br>Country Name=%{text}<br>Year=2018<br>Neerslag (mm/jaar)=%{x}<br>Uitstoot per ton geproduceerd (Mt/ton)=%{y}<extra></extra>",
           "hovertext": [
            "Japan"
           ],
           "legendgroup": "Japan",
           "marker": {
            "color": "#ab63fa",
            "symbol": "circle"
           },
           "mode": "markers+text",
           "name": "Japan",
           "orientation": "v",
           "showlegend": true,
           "text": [
            "Japan"
           ],
           "type": "scatter",
           "x": {
            "bdata": "AAAAAAAQmkA=",
            "dtype": "f8"
           },
           "xaxis": "x",
           "y": {
            "bdata": "4SG5lXGBgj4=",
            "dtype": "f8"
           },
           "yaxis": "y"
          },
          {
           "hovertemplate": "<b>%{hovertext}</b><br><br>Country Name=%{text}<br>Year=2018<br>Neerslag (mm/jaar)=%{x}<br>Uitstoot per ton geproduceerd (Mt/ton)=%{y}<extra></extra>",
           "hovertext": [
            "Nigeria"
           ],
           "legendgroup": "Nigeria",
           "marker": {
            "color": "#FFA15A",
            "symbol": "circle"
           },
           "mode": "markers+text",
           "name": "Nigeria",
           "orientation": "v",
           "showlegend": true,
           "text": [
            "Nigeria"
           ],
           "type": "scatter",
           "x": {
            "bdata": "AAAAAAD4kUA=",
            "dtype": "f8"
           },
           "xaxis": "x",
           "y": {
            "bdata": "XonpIVv2RT4=",
            "dtype": "f8"
           },
           "yaxis": "y"
          },
          {
           "hovertemplate": "<b>%{hovertext}</b><br><br>Country Name=%{text}<br>Year=2018<br>Neerslag (mm/jaar)=%{x}<br>Uitstoot per ton geproduceerd (Mt/ton)=%{y}<extra></extra>",
           "hovertext": [
            "South Africa"
           ],
           "legendgroup": "South Africa",
           "marker": {
            "color": "#19d3f3",
            "symbol": "circle"
           },
           "mode": "markers+text",
           "name": "South Africa",
           "orientation": "v",
           "showlegend": true,
           "text": [
            "South Africa"
           ],
           "type": "scatter",
           "x": {
            "bdata": "AAAAAADwfkA=",
            "dtype": "f8"
           },
           "xaxis": "x",
           "y": {
            "bdata": "jH++jcKgej4=",
            "dtype": "f8"
           },
           "yaxis": "y"
          },
          {
           "hovertemplate": "<b>%{hovertext}</b><br><br>Country Name=%{text}<br>Year=2018<br>Neerslag (mm/jaar)=%{x}<br>Uitstoot per ton geproduceerd (Mt/ton)=%{y}<extra></extra>",
           "hovertext": [
            "United States of America"
           ],
           "legendgroup": "United States of America",
           "marker": {
            "color": "#FF6692",
            "symbol": "circle"
           },
           "mode": "markers+text",
           "name": "United States of America",
           "orientation": "v",
           "showlegend": true,
           "text": [
            "United States of America"
           ],
           "type": "scatter",
           "x": {
            "bdata": "AAAAAABYhkA=",
            "dtype": "f8"
           },
           "xaxis": "x",
           "y": {
            "bdata": "lOtN2BDsnT4=",
            "dtype": "f8"
           },
           "yaxis": "y"
          }
         ],
         "name": "2018"
        },
        {
         "data": [
          {
           "hovertemplate": "<b>%{hovertext}</b><br><br>Country Name=%{text}<br>Year=2019<br>Neerslag (mm/jaar)=%{x}<br>Uitstoot per ton geproduceerd (Mt/ton)=%{y}<extra></extra>",
           "hovertext": [
            "Brazil"
           ],
           "legendgroup": "Brazil",
           "marker": {
            "color": "#636efa",
            "symbol": "circle"
           },
           "mode": "markers+text",
           "name": "Brazil",
           "orientation": "v",
           "showlegend": true,
           "text": [
            "Brazil"
           ],
           "type": "scatter",
           "x": {
            "bdata": "AAAAAACEm0A=",
            "dtype": "f8"
           },
           "xaxis": "x",
           "y": {
            "bdata": "Wf1RZ+EebT4=",
            "dtype": "f8"
           },
           "yaxis": "y"
          },
          {
           "hovertemplate": "<b>%{hovertext}</b><br><br>Country Name=%{text}<br>Year=2019<br>Neerslag (mm/jaar)=%{x}<br>Uitstoot per ton geproduceerd (Mt/ton)=%{y}<extra></extra>",
           "hovertext": [
            "India"
           ],
           "legendgroup": "India",
           "marker": {
            "color": "#EF553B",
            "symbol": "circle"
           },
           "mode": "markers+text",
           "name": "India",
           "orientation": "v",
           "showlegend": true,
           "text": [
            "India"
           ],
           "type": "scatter",
           "x": {
            "bdata": "AAAAAADskEA=",
            "dtype": "f8"
           },
           "xaxis": "x",
           "y": {
            "bdata": "aJRZtShViz4=",
            "dtype": "f8"
           },
           "yaxis": "y"
          },
          {
           "hovertemplate": "<b>%{hovertext}</b><br><br>Country Name=%{text}<br>Year=2019<br>Neerslag (mm/jaar)=%{x}<br>Uitstoot per ton geproduceerd (Mt/ton)=%{y}<extra></extra>",
           "hovertext": [
            "Indonesia"
           ],
           "legendgroup": "Indonesia",
           "marker": {
            "color": "#00cc96",
            "symbol": "circle"
           },
           "mode": "markers+text",
           "name": "Indonesia",
           "orientation": "v",
           "showlegend": true,
           "text": [
            "Indonesia"
           ],
           "type": "scatter",
           "x": {
            "bdata": "AAAAAAAcpUA=",
            "dtype": "f8"
           },
           "xaxis": "x",
           "y": {
            "bdata": "qB2k/cHWWz4=",
            "dtype": "f8"
           },
           "yaxis": "y"
          },
          {
           "hovertemplate": "<b>%{hovertext}</b><br><br>Country Name=%{text}<br>Year=2019<br>Neerslag (mm/jaar)=%{x}<br>Uitstoot per ton geproduceerd (Mt/ton)=%{y}<extra></extra>",
           "hovertext": [
            "Japan"
           ],
           "legendgroup": "Japan",
           "marker": {
            "color": "#ab63fa",
            "symbol": "circle"
           },
           "mode": "markers+text",
           "name": "Japan",
           "orientation": "v",
           "showlegend": true,
           "text": [
            "Japan"
           ],
           "type": "scatter",
           "x": {
            "bdata": "AAAAAAAQmkA=",
            "dtype": "f8"
           },
           "xaxis": "x",
           "y": {
            "bdata": "tXY8owYKgz4=",
            "dtype": "f8"
           },
           "yaxis": "y"
          },
          {
           "hovertemplate": "<b>%{hovertext}</b><br><br>Country Name=%{text}<br>Year=2019<br>Neerslag (mm/jaar)=%{x}<br>Uitstoot per ton geproduceerd (Mt/ton)=%{y}<extra></extra>",
           "hovertext": [
            "Nigeria"
           ],
           "legendgroup": "Nigeria",
           "marker": {
            "color": "#FFA15A",
            "symbol": "circle"
           },
           "mode": "markers+text",
           "name": "Nigeria",
           "orientation": "v",
           "showlegend": true,
           "text": [
            "Nigeria"
           ],
           "type": "scatter",
           "x": {
            "bdata": "AAAAAAD4kUA=",
            "dtype": "f8"
           },
           "xaxis": "x",
           "y": {
            "bdata": "0C+6M+lKRj4=",
            "dtype": "f8"
           },
           "yaxis": "y"
          },
          {
           "hovertemplate": "<b>%{hovertext}</b><br><br>Country Name=%{text}<br>Year=2019<br>Neerslag (mm/jaar)=%{x}<br>Uitstoot per ton geproduceerd (Mt/ton)=%{y}<extra></extra>",
           "hovertext": [
            "South Africa"
           ],
           "legendgroup": "South Africa",
           "marker": {
            "color": "#19d3f3",
            "symbol": "circle"
           },
           "mode": "markers+text",
           "name": "South Africa",
           "orientation": "v",
           "showlegend": true,
           "text": [
            "South Africa"
           ],
           "type": "scatter",
           "x": {
            "bdata": "AAAAAADwfkA=",
            "dtype": "f8"
           },
           "xaxis": "x",
           "y": {
            "bdata": "/bGgHLlwej4=",
            "dtype": "f8"
           },
           "yaxis": "y"
          },
          {
           "hovertemplate": "<b>%{hovertext}</b><br><br>Country Name=%{text}<br>Year=2019<br>Neerslag (mm/jaar)=%{x}<br>Uitstoot per ton geproduceerd (Mt/ton)=%{y}<extra></extra>",
           "hovertext": [
            "United States of America"
           ],
           "legendgroup": "United States of America",
           "marker": {
            "color": "#FF6692",
            "symbol": "circle"
           },
           "mode": "markers+text",
           "name": "United States of America",
           "orientation": "v",
           "showlegend": true,
           "text": [
            "United States of America"
           ],
           "type": "scatter",
           "x": {
            "bdata": "AAAAAABYhkA=",
            "dtype": "f8"
           },
           "xaxis": "x",
           "y": {
            "bdata": "VXB3zqJqnj4=",
            "dtype": "f8"
           },
           "yaxis": "y"
          }
         ],
         "name": "2019"
        },
        {
         "data": [
          {
           "hovertemplate": "<b>%{hovertext}</b><br><br>Country Name=%{text}<br>Year=2020<br>Neerslag (mm/jaar)=%{x}<br>Uitstoot per ton geproduceerd (Mt/ton)=%{y}<extra></extra>",
           "hovertext": [
            "Brazil"
           ],
           "legendgroup": "Brazil",
           "marker": {
            "color": "#636efa",
            "symbol": "circle"
           },
           "mode": "markers+text",
           "name": "Brazil",
           "orientation": "v",
           "showlegend": true,
           "text": [
            "Brazil"
           ],
           "type": "scatter",
           "x": {
            "bdata": "AAAAAACEm0A=",
            "dtype": "f8"
           },
           "xaxis": "x",
           "y": {
            "bdata": "XIBg2zqDbT4=",
            "dtype": "f8"
           },
           "yaxis": "y"
          },
          {
           "hovertemplate": "<b>%{hovertext}</b><br><br>Country Name=%{text}<br>Year=2020<br>Neerslag (mm/jaar)=%{x}<br>Uitstoot per ton geproduceerd (Mt/ton)=%{y}<extra></extra>",
           "hovertext": [
            "India"
           ],
           "legendgroup": "India",
           "marker": {
            "color": "#EF553B",
            "symbol": "circle"
           },
           "mode": "markers+text",
           "name": "India",
           "orientation": "v",
           "showlegend": true,
           "text": [
            "India"
           ],
           "type": "scatter",
           "x": {
            "bdata": "AAAAAADskEA=",
            "dtype": "f8"
           },
           "xaxis": "x",
           "y": {
            "bdata": "J/6tY9BUjT4=",
            "dtype": "f8"
           },
           "yaxis": "y"
          },
          {
           "hovertemplate": "<b>%{hovertext}</b><br><br>Country Name=%{text}<br>Year=2020<br>Neerslag (mm/jaar)=%{x}<br>Uitstoot per ton geproduceerd (Mt/ton)=%{y}<extra></extra>",
           "hovertext": [
            "Indonesia"
           ],
           "legendgroup": "Indonesia",
           "marker": {
            "color": "#00cc96",
            "symbol": "circle"
           },
           "mode": "markers+text",
           "name": "Indonesia",
           "orientation": "v",
           "showlegend": true,
           "text": [
            "Indonesia"
           ],
           "type": "scatter",
           "x": {
            "bdata": "AAAAAAAcpUA=",
            "dtype": "f8"
           },
           "xaxis": "x",
           "y": {
            "bdata": "vknOHZ9qWz4=",
            "dtype": "f8"
           },
           "yaxis": "y"
          },
          {
           "hovertemplate": "<b>%{hovertext}</b><br><br>Country Name=%{text}<br>Year=2020<br>Neerslag (mm/jaar)=%{x}<br>Uitstoot per ton geproduceerd (Mt/ton)=%{y}<extra></extra>",
           "hovertext": [
            "Japan"
           ],
           "legendgroup": "Japan",
           "marker": {
            "color": "#ab63fa",
            "symbol": "circle"
           },
           "mode": "markers+text",
           "name": "Japan",
           "orientation": "v",
           "showlegend": true,
           "text": [
            "Japan"
           ],
           "type": "scatter",
           "x": {
            "bdata": "AAAAAAAQmkA=",
            "dtype": "f8"
           },
           "xaxis": "x",
           "y": {
            "bdata": "bRA7nrgvgz4=",
            "dtype": "f8"
           },
           "yaxis": "y"
          },
          {
           "hovertemplate": "<b>%{hovertext}</b><br><br>Country Name=%{text}<br>Year=2020<br>Neerslag (mm/jaar)=%{x}<br>Uitstoot per ton geproduceerd (Mt/ton)=%{y}<extra></extra>",
           "hovertext": [
            "Nigeria"
           ],
           "legendgroup": "Nigeria",
           "marker": {
            "color": "#FFA15A",
            "symbol": "circle"
           },
           "mode": "markers+text",
           "name": "Nigeria",
           "orientation": "v",
           "showlegend": true,
           "text": [
            "Nigeria"
           ],
           "type": "scatter",
           "x": {
            "bdata": "AAAAAAD4kUA=",
            "dtype": "f8"
           },
           "xaxis": "x",
           "y": {
            "bdata": "lzsd+C55Qz4=",
            "dtype": "f8"
           },
           "yaxis": "y"
          },
          {
           "hovertemplate": "<b>%{hovertext}</b><br><br>Country Name=%{text}<br>Year=2020<br>Neerslag (mm/jaar)=%{x}<br>Uitstoot per ton geproduceerd (Mt/ton)=%{y}<extra></extra>",
           "hovertext": [
            "South Africa"
           ],
           "legendgroup": "South Africa",
           "marker": {
            "color": "#19d3f3",
            "symbol": "circle"
           },
           "mode": "markers+text",
           "name": "South Africa",
           "orientation": "v",
           "showlegend": true,
           "text": [
            "South Africa"
           ],
           "type": "scatter",
           "x": {
            "bdata": "AAAAAADwfkA=",
            "dtype": "f8"
           },
           "xaxis": "x",
           "y": {
            "bdata": "aClYm01Qez4=",
            "dtype": "f8"
           },
           "yaxis": "y"
          },
          {
           "hovertemplate": "<b>%{hovertext}</b><br><br>Country Name=%{text}<br>Year=2020<br>Neerslag (mm/jaar)=%{x}<br>Uitstoot per ton geproduceerd (Mt/ton)=%{y}<extra></extra>",
           "hovertext": [
            "United States of America"
           ],
           "legendgroup": "United States of America",
           "marker": {
            "color": "#FF6692",
            "symbol": "circle"
           },
           "mode": "markers+text",
           "name": "United States of America",
           "orientation": "v",
           "showlegend": true,
           "text": [
            "United States of America"
           ],
           "type": "scatter",
           "x": {
            "bdata": "AAAAAABYhkA=",
            "dtype": "f8"
           },
           "xaxis": "x",
           "y": {
            "bdata": "UnptaxTgnD4=",
            "dtype": "f8"
           },
           "yaxis": "y"
          }
         ],
         "name": "2020"
        },
        {
         "data": [
          {
           "hovertemplate": "<b>%{hovertext}</b><br><br>Country Name=%{text}<br>Year=2021<br>Neerslag (mm/jaar)=%{x}<br>Uitstoot per ton geproduceerd (Mt/ton)=%{y}<extra></extra>",
           "hovertext": [
            "Brazil"
           ],
           "legendgroup": "Brazil",
           "marker": {
            "color": "#636efa",
            "symbol": "circle"
           },
           "mode": "markers+text",
           "name": "Brazil",
           "orientation": "v",
           "showlegend": true,
           "text": [
            "Brazil"
           ],
           "type": "scatter",
           "x": {
            "bdata": "AAAAAACEm0A=",
            "dtype": "f8"
           },
           "xaxis": "x",
           "y": {
            "bdata": "R+QmU7T0bz4=",
            "dtype": "f8"
           },
           "yaxis": "y"
          },
          {
           "hovertemplate": "<b>%{hovertext}</b><br><br>Country Name=%{text}<br>Year=2021<br>Neerslag (mm/jaar)=%{x}<br>Uitstoot per ton geproduceerd (Mt/ton)=%{y}<extra></extra>",
           "hovertext": [
            "India"
           ],
           "legendgroup": "India",
           "marker": {
            "color": "#EF553B",
            "symbol": "circle"
           },
           "mode": "markers+text",
           "name": "India",
           "orientation": "v",
           "showlegend": true,
           "text": [
            "India"
           ],
           "type": "scatter",
           "x": {
            "bdata": "AAAAAADskEA=",
            "dtype": "f8"
           },
           "xaxis": "x",
           "y": {
            "bdata": "HEU3zW69iz4=",
            "dtype": "f8"
           },
           "yaxis": "y"
          },
          {
           "hovertemplate": "<b>%{hovertext}</b><br><br>Country Name=%{text}<br>Year=2021<br>Neerslag (mm/jaar)=%{x}<br>Uitstoot per ton geproduceerd (Mt/ton)=%{y}<extra></extra>",
           "hovertext": [
            "Indonesia"
           ],
           "legendgroup": "Indonesia",
           "marker": {
            "color": "#00cc96",
            "symbol": "circle"
           },
           "mode": "markers+text",
           "name": "Indonesia",
           "orientation": "v",
           "showlegend": true,
           "text": [
            "Indonesia"
           ],
           "type": "scatter",
           "x": {
            "bdata": "AAAAAAAcpUA=",
            "dtype": "f8"
           },
           "xaxis": "x",
           "y": {
            "bdata": "zgOCEfKIWz4=",
            "dtype": "f8"
           },
           "yaxis": "y"
          },
          {
           "hovertemplate": "<b>%{hovertext}</b><br><br>Country Name=%{text}<br>Year=2021<br>Neerslag (mm/jaar)=%{x}<br>Uitstoot per ton geproduceerd (Mt/ton)=%{y}<extra></extra>",
           "hovertext": [
            "Japan"
           ],
           "legendgroup": "Japan",
           "marker": {
            "color": "#ab63fa",
            "symbol": "circle"
           },
           "mode": "markers+text",
           "name": "Japan",
           "orientation": "v",
           "showlegend": true,
           "text": [
            "Japan"
           ],
           "type": "scatter",
           "x": {
            "bdata": "AAAAAAAQmkA=",
            "dtype": "f8"
           },
           "xaxis": "x",
           "y": {
            "bdata": "4Ji/y0mCdz4=",
            "dtype": "f8"
           },
           "yaxis": "y"
          },
          {
           "hovertemplate": "<b>%{hovertext}</b><br><br>Country Name=%{text}<br>Year=2021<br>Neerslag (mm/jaar)=%{x}<br>Uitstoot per ton geproduceerd (Mt/ton)=%{y}<extra></extra>",
           "hovertext": [
            "Nigeria"
           ],
           "legendgroup": "Nigeria",
           "marker": {
            "color": "#FFA15A",
            "symbol": "circle"
           },
           "mode": "markers+text",
           "name": "Nigeria",
           "orientation": "v",
           "showlegend": true,
           "text": [
            "Nigeria"
           ],
           "type": "scatter",
           "x": {
            "bdata": "AAAAAAD4kUA=",
            "dtype": "f8"
           },
           "xaxis": "x",
           "y": {
            "bdata": "k2KKS9dgRD4=",
            "dtype": "f8"
           },
           "yaxis": "y"
          },
          {
           "hovertemplate": "<b>%{hovertext}</b><br><br>Country Name=%{text}<br>Year=2021<br>Neerslag (mm/jaar)=%{x}<br>Uitstoot per ton geproduceerd (Mt/ton)=%{y}<extra></extra>",
           "hovertext": [
            "South Africa"
           ],
           "legendgroup": "South Africa",
           "marker": {
            "color": "#19d3f3",
            "symbol": "circle"
           },
           "mode": "markers+text",
           "name": "South Africa",
           "orientation": "v",
           "showlegend": true,
           "text": [
            "South Africa"
           ],
           "type": "scatter",
           "x": {
            "bdata": "AAAAAADwfkA=",
            "dtype": "f8"
           },
           "xaxis": "x",
           "y": {
            "bdata": "/8hLJoW/fD4=",
            "dtype": "f8"
           },
           "yaxis": "y"
          },
          {
           "hovertemplate": "<b>%{hovertext}</b><br><br>Country Name=%{text}<br>Year=2021<br>Neerslag (mm/jaar)=%{x}<br>Uitstoot per ton geproduceerd (Mt/ton)=%{y}<extra></extra>",
           "hovertext": [
            "United States of America"
           ],
           "legendgroup": "United States of America",
           "marker": {
            "color": "#FF6692",
            "symbol": "circle"
           },
           "mode": "markers+text",
           "name": "United States of America",
           "orientation": "v",
           "showlegend": true,
           "text": [
            "United States of America"
           ],
           "type": "scatter",
           "x": {
            "bdata": "AAAAAABYhkA=",
            "dtype": "f8"
           },
           "xaxis": "x",
           "y": {
            "bdata": "MvsLAreDlT4=",
            "dtype": "f8"
           },
           "yaxis": "y"
          }
         ],
         "name": "2021"
        }
       ],
       "layout": {
        "legend": {
         "title": {
          "text": "Country Name"
         },
         "tracegroupgap": 0
        },
        "sliders": [
         {
          "active": 0,
          "currentvalue": {
           "prefix": "Year="
          },
          "len": 0.9,
          "pad": {
           "b": 10,
           "t": 60
          },
          "steps": [
           {
            "args": [
             [
              "1961"
             ],
             {
              "frame": {
               "duration": 0,
               "redraw": false
              },
              "fromcurrent": true,
              "mode": "immediate",
              "transition": {
               "duration": 0,
               "easing": "linear"
              }
             }
            ],
            "label": "1961",
            "method": "animate"
           },
           {
            "args": [
             [
              "1962"
             ],
             {
              "frame": {
               "duration": 0,
               "redraw": false
              },
              "fromcurrent": true,
              "mode": "immediate",
              "transition": {
               "duration": 0,
               "easing": "linear"
              }
             }
            ],
            "label": "1962",
            "method": "animate"
           },
           {
            "args": [
             [
              "1963"
             ],
             {
              "frame": {
               "duration": 0,
               "redraw": false
              },
              "fromcurrent": true,
              "mode": "immediate",
              "transition": {
               "duration": 0,
               "easing": "linear"
              }
             }
            ],
            "label": "1963",
            "method": "animate"
           },
           {
            "args": [
             [
              "1964"
             ],
             {
              "frame": {
               "duration": 0,
               "redraw": false
              },
              "fromcurrent": true,
              "mode": "immediate",
              "transition": {
               "duration": 0,
               "easing": "linear"
              }
             }
            ],
            "label": "1964",
            "method": "animate"
           },
           {
            "args": [
             [
              "1965"
             ],
             {
              "frame": {
               "duration": 0,
               "redraw": false
              },
              "fromcurrent": true,
              "mode": "immediate",
              "transition": {
               "duration": 0,
               "easing": "linear"
              }
             }
            ],
            "label": "1965",
            "method": "animate"
           },
           {
            "args": [
             [
              "1966"
             ],
             {
              "frame": {
               "duration": 0,
               "redraw": false
              },
              "fromcurrent": true,
              "mode": "immediate",
              "transition": {
               "duration": 0,
               "easing": "linear"
              }
             }
            ],
            "label": "1966",
            "method": "animate"
           },
           {
            "args": [
             [
              "1967"
             ],
             {
              "frame": {
               "duration": 0,
               "redraw": false
              },
              "fromcurrent": true,
              "mode": "immediate",
              "transition": {
               "duration": 0,
               "easing": "linear"
              }
             }
            ],
            "label": "1967",
            "method": "animate"
           },
           {
            "args": [
             [
              "1968"
             ],
             {
              "frame": {
               "duration": 0,
               "redraw": false
              },
              "fromcurrent": true,
              "mode": "immediate",
              "transition": {
               "duration": 0,
               "easing": "linear"
              }
             }
            ],
            "label": "1968",
            "method": "animate"
           },
           {
            "args": [
             [
              "1969"
             ],
             {
              "frame": {
               "duration": 0,
               "redraw": false
              },
              "fromcurrent": true,
              "mode": "immediate",
              "transition": {
               "duration": 0,
               "easing": "linear"
              }
             }
            ],
            "label": "1969",
            "method": "animate"
           },
           {
            "args": [
             [
              "1970"
             ],
             {
              "frame": {
               "duration": 0,
               "redraw": false
              },
              "fromcurrent": true,
              "mode": "immediate",
              "transition": {
               "duration": 0,
               "easing": "linear"
              }
             }
            ],
            "label": "1970",
            "method": "animate"
           },
           {
            "args": [
             [
              "1971"
             ],
             {
              "frame": {
               "duration": 0,
               "redraw": false
              },
              "fromcurrent": true,
              "mode": "immediate",
              "transition": {
               "duration": 0,
               "easing": "linear"
              }
             }
            ],
            "label": "1971",
            "method": "animate"
           },
           {
            "args": [
             [
              "1972"
             ],
             {
              "frame": {
               "duration": 0,
               "redraw": false
              },
              "fromcurrent": true,
              "mode": "immediate",
              "transition": {
               "duration": 0,
               "easing": "linear"
              }
             }
            ],
            "label": "1972",
            "method": "animate"
           },
           {
            "args": [
             [
              "1973"
             ],
             {
              "frame": {
               "duration": 0,
               "redraw": false
              },
              "fromcurrent": true,
              "mode": "immediate",
              "transition": {
               "duration": 0,
               "easing": "linear"
              }
             }
            ],
            "label": "1973",
            "method": "animate"
           },
           {
            "args": [
             [
              "1974"
             ],
             {
              "frame": {
               "duration": 0,
               "redraw": false
              },
              "fromcurrent": true,
              "mode": "immediate",
              "transition": {
               "duration": 0,
               "easing": "linear"
              }
             }
            ],
            "label": "1974",
            "method": "animate"
           },
           {
            "args": [
             [
              "1975"
             ],
             {
              "frame": {
               "duration": 0,
               "redraw": false
              },
              "fromcurrent": true,
              "mode": "immediate",
              "transition": {
               "duration": 0,
               "easing": "linear"
              }
             }
            ],
            "label": "1975",
            "method": "animate"
           },
           {
            "args": [
             [
              "1976"
             ],
             {
              "frame": {
               "duration": 0,
               "redraw": false
              },
              "fromcurrent": true,
              "mode": "immediate",
              "transition": {
               "duration": 0,
               "easing": "linear"
              }
             }
            ],
            "label": "1976",
            "method": "animate"
           },
           {
            "args": [
             [
              "1977"
             ],
             {
              "frame": {
               "duration": 0,
               "redraw": false
              },
              "fromcurrent": true,
              "mode": "immediate",
              "transition": {
               "duration": 0,
               "easing": "linear"
              }
             }
            ],
            "label": "1977",
            "method": "animate"
           },
           {
            "args": [
             [
              "1978"
             ],
             {
              "frame": {
               "duration": 0,
               "redraw": false
              },
              "fromcurrent": true,
              "mode": "immediate",
              "transition": {
               "duration": 0,
               "easing": "linear"
              }
             }
            ],
            "label": "1978",
            "method": "animate"
           },
           {
            "args": [
             [
              "1979"
             ],
             {
              "frame": {
               "duration": 0,
               "redraw": false
              },
              "fromcurrent": true,
              "mode": "immediate",
              "transition": {
               "duration": 0,
               "easing": "linear"
              }
             }
            ],
            "label": "1979",
            "method": "animate"
           },
           {
            "args": [
             [
              "1980"
             ],
             {
              "frame": {
               "duration": 0,
               "redraw": false
              },
              "fromcurrent": true,
              "mode": "immediate",
              "transition": {
               "duration": 0,
               "easing": "linear"
              }
             }
            ],
            "label": "1980",
            "method": "animate"
           },
           {
            "args": [
             [
              "1981"
             ],
             {
              "frame": {
               "duration": 0,
               "redraw": false
              },
              "fromcurrent": true,
              "mode": "immediate",
              "transition": {
               "duration": 0,
               "easing": "linear"
              }
             }
            ],
            "label": "1981",
            "method": "animate"
           },
           {
            "args": [
             [
              "1982"
             ],
             {
              "frame": {
               "duration": 0,
               "redraw": false
              },
              "fromcurrent": true,
              "mode": "immediate",
              "transition": {
               "duration": 0,
               "easing": "linear"
              }
             }
            ],
            "label": "1982",
            "method": "animate"
           },
           {
            "args": [
             [
              "1983"
             ],
             {
              "frame": {
               "duration": 0,
               "redraw": false
              },
              "fromcurrent": true,
              "mode": "immediate",
              "transition": {
               "duration": 0,
               "easing": "linear"
              }
             }
            ],
            "label": "1983",
            "method": "animate"
           },
           {
            "args": [
             [
              "1984"
             ],
             {
              "frame": {
               "duration": 0,
               "redraw": false
              },
              "fromcurrent": true,
              "mode": "immediate",
              "transition": {
               "duration": 0,
               "easing": "linear"
              }
             }
            ],
            "label": "1984",
            "method": "animate"
           },
           {
            "args": [
             [
              "1985"
             ],
             {
              "frame": {
               "duration": 0,
               "redraw": false
              },
              "fromcurrent": true,
              "mode": "immediate",
              "transition": {
               "duration": 0,
               "easing": "linear"
              }
             }
            ],
            "label": "1985",
            "method": "animate"
           },
           {
            "args": [
             [
              "1986"
             ],
             {
              "frame": {
               "duration": 0,
               "redraw": false
              },
              "fromcurrent": true,
              "mode": "immediate",
              "transition": {
               "duration": 0,
               "easing": "linear"
              }
             }
            ],
            "label": "1986",
            "method": "animate"
           },
           {
            "args": [
             [
              "1987"
             ],
             {
              "frame": {
               "duration": 0,
               "redraw": false
              },
              "fromcurrent": true,
              "mode": "immediate",
              "transition": {
               "duration": 0,
               "easing": "linear"
              }
             }
            ],
            "label": "1987",
            "method": "animate"
           },
           {
            "args": [
             [
              "1988"
             ],
             {
              "frame": {
               "duration": 0,
               "redraw": false
              },
              "fromcurrent": true,
              "mode": "immediate",
              "transition": {
               "duration": 0,
               "easing": "linear"
              }
             }
            ],
            "label": "1988",
            "method": "animate"
           },
           {
            "args": [
             [
              "1989"
             ],
             {
              "frame": {
               "duration": 0,
               "redraw": false
              },
              "fromcurrent": true,
              "mode": "immediate",
              "transition": {
               "duration": 0,
               "easing": "linear"
              }
             }
            ],
            "label": "1989",
            "method": "animate"
           },
           {
            "args": [
             [
              "1990"
             ],
             {
              "frame": {
               "duration": 0,
               "redraw": false
              },
              "fromcurrent": true,
              "mode": "immediate",
              "transition": {
               "duration": 0,
               "easing": "linear"
              }
             }
            ],
            "label": "1990",
            "method": "animate"
           },
           {
            "args": [
             [
              "1991"
             ],
             {
              "frame": {
               "duration": 0,
               "redraw": false
              },
              "fromcurrent": true,
              "mode": "immediate",
              "transition": {
               "duration": 0,
               "easing": "linear"
              }
             }
            ],
            "label": "1991",
            "method": "animate"
           },
           {
            "args": [
             [
              "1992"
             ],
             {
              "frame": {
               "duration": 0,
               "redraw": false
              },
              "fromcurrent": true,
              "mode": "immediate",
              "transition": {
               "duration": 0,
               "easing": "linear"
              }
             }
            ],
            "label": "1992",
            "method": "animate"
           },
           {
            "args": [
             [
              "1993"
             ],
             {
              "frame": {
               "duration": 0,
               "redraw": false
              },
              "fromcurrent": true,
              "mode": "immediate",
              "transition": {
               "duration": 0,
               "easing": "linear"
              }
             }
            ],
            "label": "1993",
            "method": "animate"
           },
           {
            "args": [
             [
              "1994"
             ],
             {
              "frame": {
               "duration": 0,
               "redraw": false
              },
              "fromcurrent": true,
              "mode": "immediate",
              "transition": {
               "duration": 0,
               "easing": "linear"
              }
             }
            ],
            "label": "1994",
            "method": "animate"
           },
           {
            "args": [
             [
              "1995"
             ],
             {
              "frame": {
               "duration": 0,
               "redraw": false
              },
              "fromcurrent": true,
              "mode": "immediate",
              "transition": {
               "duration": 0,
               "easing": "linear"
              }
             }
            ],
            "label": "1995",
            "method": "animate"
           },
           {
            "args": [
             [
              "1996"
             ],
             {
              "frame": {
               "duration": 0,
               "redraw": false
              },
              "fromcurrent": true,
              "mode": "immediate",
              "transition": {
               "duration": 0,
               "easing": "linear"
              }
             }
            ],
            "label": "1996",
            "method": "animate"
           },
           {
            "args": [
             [
              "1997"
             ],
             {
              "frame": {
               "duration": 0,
               "redraw": false
              },
              "fromcurrent": true,
              "mode": "immediate",
              "transition": {
               "duration": 0,
               "easing": "linear"
              }
             }
            ],
            "label": "1997",
            "method": "animate"
           },
           {
            "args": [
             [
              "1998"
             ],
             {
              "frame": {
               "duration": 0,
               "redraw": false
              },
              "fromcurrent": true,
              "mode": "immediate",
              "transition": {
               "duration": 0,
               "easing": "linear"
              }
             }
            ],
            "label": "1998",
            "method": "animate"
           },
           {
            "args": [
             [
              "1999"
             ],
             {
              "frame": {
               "duration": 0,
               "redraw": false
              },
              "fromcurrent": true,
              "mode": "immediate",
              "transition": {
               "duration": 0,
               "easing": "linear"
              }
             }
            ],
            "label": "1999",
            "method": "animate"
           },
           {
            "args": [
             [
              "2000"
             ],
             {
              "frame": {
               "duration": 0,
               "redraw": false
              },
              "fromcurrent": true,
              "mode": "immediate",
              "transition": {
               "duration": 0,
               "easing": "linear"
              }
             }
            ],
            "label": "2000",
            "method": "animate"
           },
           {
            "args": [
             [
              "2001"
             ],
             {
              "frame": {
               "duration": 0,
               "redraw": false
              },
              "fromcurrent": true,
              "mode": "immediate",
              "transition": {
               "duration": 0,
               "easing": "linear"
              }
             }
            ],
            "label": "2001",
            "method": "animate"
           },
           {
            "args": [
             [
              "2002"
             ],
             {
              "frame": {
               "duration": 0,
               "redraw": false
              },
              "fromcurrent": true,
              "mode": "immediate",
              "transition": {
               "duration": 0,
               "easing": "linear"
              }
             }
            ],
            "label": "2002",
            "method": "animate"
           },
           {
            "args": [
             [
              "2003"
             ],
             {
              "frame": {
               "duration": 0,
               "redraw": false
              },
              "fromcurrent": true,
              "mode": "immediate",
              "transition": {
               "duration": 0,
               "easing": "linear"
              }
             }
            ],
            "label": "2003",
            "method": "animate"
           },
           {
            "args": [
             [
              "2004"
             ],
             {
              "frame": {
               "duration": 0,
               "redraw": false
              },
              "fromcurrent": true,
              "mode": "immediate",
              "transition": {
               "duration": 0,
               "easing": "linear"
              }
             }
            ],
            "label": "2004",
            "method": "animate"
           },
           {
            "args": [
             [
              "2005"
             ],
             {
              "frame": {
               "duration": 0,
               "redraw": false
              },
              "fromcurrent": true,
              "mode": "immediate",
              "transition": {
               "duration": 0,
               "easing": "linear"
              }
             }
            ],
            "label": "2005",
            "method": "animate"
           },
           {
            "args": [
             [
              "2006"
             ],
             {
              "frame": {
               "duration": 0,
               "redraw": false
              },
              "fromcurrent": true,
              "mode": "immediate",
              "transition": {
               "duration": 0,
               "easing": "linear"
              }
             }
            ],
            "label": "2006",
            "method": "animate"
           },
           {
            "args": [
             [
              "2007"
             ],
             {
              "frame": {
               "duration": 0,
               "redraw": false
              },
              "fromcurrent": true,
              "mode": "immediate",
              "transition": {
               "duration": 0,
               "easing": "linear"
              }
             }
            ],
            "label": "2007",
            "method": "animate"
           },
           {
            "args": [
             [
              "2008"
             ],
             {
              "frame": {
               "duration": 0,
               "redraw": false
              },
              "fromcurrent": true,
              "mode": "immediate",
              "transition": {
               "duration": 0,
               "easing": "linear"
              }
             }
            ],
            "label": "2008",
            "method": "animate"
           },
           {
            "args": [
             [
              "2009"
             ],
             {
              "frame": {
               "duration": 0,
               "redraw": false
              },
              "fromcurrent": true,
              "mode": "immediate",
              "transition": {
               "duration": 0,
               "easing": "linear"
              }
             }
            ],
            "label": "2009",
            "method": "animate"
           },
           {
            "args": [
             [
              "2010"
             ],
             {
              "frame": {
               "duration": 0,
               "redraw": false
              },
              "fromcurrent": true,
              "mode": "immediate",
              "transition": {
               "duration": 0,
               "easing": "linear"
              }
             }
            ],
            "label": "2010",
            "method": "animate"
           },
           {
            "args": [
             [
              "2011"
             ],
             {
              "frame": {
               "duration": 0,
               "redraw": false
              },
              "fromcurrent": true,
              "mode": "immediate",
              "transition": {
               "duration": 0,
               "easing": "linear"
              }
             }
            ],
            "label": "2011",
            "method": "animate"
           },
           {
            "args": [
             [
              "2012"
             ],
             {
              "frame": {
               "duration": 0,
               "redraw": false
              },
              "fromcurrent": true,
              "mode": "immediate",
              "transition": {
               "duration": 0,
               "easing": "linear"
              }
             }
            ],
            "label": "2012",
            "method": "animate"
           },
           {
            "args": [
             [
              "2013"
             ],
             {
              "frame": {
               "duration": 0,
               "redraw": false
              },
              "fromcurrent": true,
              "mode": "immediate",
              "transition": {
               "duration": 0,
               "easing": "linear"
              }
             }
            ],
            "label": "2013",
            "method": "animate"
           },
           {
            "args": [
             [
              "2014"
             ],
             {
              "frame": {
               "duration": 0,
               "redraw": false
              },
              "fromcurrent": true,
              "mode": "immediate",
              "transition": {
               "duration": 0,
               "easing": "linear"
              }
             }
            ],
            "label": "2014",
            "method": "animate"
           },
           {
            "args": [
             [
              "2015"
             ],
             {
              "frame": {
               "duration": 0,
               "redraw": false
              },
              "fromcurrent": true,
              "mode": "immediate",
              "transition": {
               "duration": 0,
               "easing": "linear"
              }
             }
            ],
            "label": "2015",
            "method": "animate"
           },
           {
            "args": [
             [
              "2016"
             ],
             {
              "frame": {
               "duration": 0,
               "redraw": false
              },
              "fromcurrent": true,
              "mode": "immediate",
              "transition": {
               "duration": 0,
               "easing": "linear"
              }
             }
            ],
            "label": "2016",
            "method": "animate"
           },
           {
            "args": [
             [
              "2017"
             ],
             {
              "frame": {
               "duration": 0,
               "redraw": false
              },
              "fromcurrent": true,
              "mode": "immediate",
              "transition": {
               "duration": 0,
               "easing": "linear"
              }
             }
            ],
            "label": "2017",
            "method": "animate"
           },
           {
            "args": [
             [
              "2018"
             ],
             {
              "frame": {
               "duration": 0,
               "redraw": false
              },
              "fromcurrent": true,
              "mode": "immediate",
              "transition": {
               "duration": 0,
               "easing": "linear"
              }
             }
            ],
            "label": "2018",
            "method": "animate"
           },
           {
            "args": [
             [
              "2019"
             ],
             {
              "frame": {
               "duration": 0,
               "redraw": false
              },
              "fromcurrent": true,
              "mode": "immediate",
              "transition": {
               "duration": 0,
               "easing": "linear"
              }
             }
            ],
            "label": "2019",
            "method": "animate"
           },
           {
            "args": [
             [
              "2020"
             ],
             {
              "frame": {
               "duration": 0,
               "redraw": false
              },
              "fromcurrent": true,
              "mode": "immediate",
              "transition": {
               "duration": 0,
               "easing": "linear"
              }
             }
            ],
            "label": "2020",
            "method": "animate"
           },
           {
            "args": [
             [
              "2021"
             ],
             {
              "frame": {
               "duration": 0,
               "redraw": false
              },
              "fromcurrent": true,
              "mode": "immediate",
              "transition": {
               "duration": 0,
               "easing": "linear"
              }
             }
            ],
            "label": "2021",
            "method": "animate"
           }
          ],
          "x": 0.1,
          "xanchor": "left",
          "y": 0,
          "yanchor": "top"
         }
        ],
        "template": {
         "data": {
          "bar": [
           {
            "error_x": {
             "color": "#2a3f5f"
            },
            "error_y": {
             "color": "#2a3f5f"
            },
            "marker": {
             "line": {
              "color": "#E5ECF6",
              "width": 0.5
             },
             "pattern": {
              "fillmode": "overlay",
              "size": 10,
              "solidity": 0.2
             }
            },
            "type": "bar"
           }
          ],
          "barpolar": [
           {
            "marker": {
             "line": {
              "color": "#E5ECF6",
              "width": 0.5
             },
             "pattern": {
              "fillmode": "overlay",
              "size": 10,
              "solidity": 0.2
             }
            },
            "type": "barpolar"
           }
          ],
          "carpet": [
           {
            "aaxis": {
             "endlinecolor": "#2a3f5f",
             "gridcolor": "white",
             "linecolor": "white",
             "minorgridcolor": "white",
             "startlinecolor": "#2a3f5f"
            },
            "baxis": {
             "endlinecolor": "#2a3f5f",
             "gridcolor": "white",
             "linecolor": "white",
             "minorgridcolor": "white",
             "startlinecolor": "#2a3f5f"
            },
            "type": "carpet"
           }
          ],
          "choropleth": [
           {
            "colorbar": {
             "outlinewidth": 0,
             "ticks": ""
            },
            "type": "choropleth"
           }
          ],
          "contour": [
           {
            "colorbar": {
             "outlinewidth": 0,
             "ticks": ""
            },
            "colorscale": [
             [
              0,
              "#0d0887"
             ],
             [
              0.1111111111111111,
              "#46039f"
             ],
             [
              0.2222222222222222,
              "#7201a8"
             ],
             [
              0.3333333333333333,
              "#9c179e"
             ],
             [
              0.4444444444444444,
              "#bd3786"
             ],
             [
              0.5555555555555556,
              "#d8576b"
             ],
             [
              0.6666666666666666,
              "#ed7953"
             ],
             [
              0.7777777777777778,
              "#fb9f3a"
             ],
             [
              0.8888888888888888,
              "#fdca26"
             ],
             [
              1,
              "#f0f921"
             ]
            ],
            "type": "contour"
           }
          ],
          "contourcarpet": [
           {
            "colorbar": {
             "outlinewidth": 0,
             "ticks": ""
            },
            "type": "contourcarpet"
           }
          ],
          "heatmap": [
           {
            "colorbar": {
             "outlinewidth": 0,
             "ticks": ""
            },
            "colorscale": [
             [
              0,
              "#0d0887"
             ],
             [
              0.1111111111111111,
              "#46039f"
             ],
             [
              0.2222222222222222,
              "#7201a8"
             ],
             [
              0.3333333333333333,
              "#9c179e"
             ],
             [
              0.4444444444444444,
              "#bd3786"
             ],
             [
              0.5555555555555556,
              "#d8576b"
             ],
             [
              0.6666666666666666,
              "#ed7953"
             ],
             [
              0.7777777777777778,
              "#fb9f3a"
             ],
             [
              0.8888888888888888,
              "#fdca26"
             ],
             [
              1,
              "#f0f921"
             ]
            ],
            "type": "heatmap"
           }
          ],
          "histogram": [
           {
            "marker": {
             "pattern": {
              "fillmode": "overlay",
              "size": 10,
              "solidity": 0.2
             }
            },
            "type": "histogram"
           }
          ],
          "histogram2d": [
           {
            "colorbar": {
             "outlinewidth": 0,
             "ticks": ""
            },
            "colorscale": [
             [
              0,
              "#0d0887"
             ],
             [
              0.1111111111111111,
              "#46039f"
             ],
             [
              0.2222222222222222,
              "#7201a8"
             ],
             [
              0.3333333333333333,
              "#9c179e"
             ],
             [
              0.4444444444444444,
              "#bd3786"
             ],
             [
              0.5555555555555556,
              "#d8576b"
             ],
             [
              0.6666666666666666,
              "#ed7953"
             ],
             [
              0.7777777777777778,
              "#fb9f3a"
             ],
             [
              0.8888888888888888,
              "#fdca26"
             ],
             [
              1,
              "#f0f921"
             ]
            ],
            "type": "histogram2d"
           }
          ],
          "histogram2dcontour": [
           {
            "colorbar": {
             "outlinewidth": 0,
             "ticks": ""
            },
            "colorscale": [
             [
              0,
              "#0d0887"
             ],
             [
              0.1111111111111111,
              "#46039f"
             ],
             [
              0.2222222222222222,
              "#7201a8"
             ],
             [
              0.3333333333333333,
              "#9c179e"
             ],
             [
              0.4444444444444444,
              "#bd3786"
             ],
             [
              0.5555555555555556,
              "#d8576b"
             ],
             [
              0.6666666666666666,
              "#ed7953"
             ],
             [
              0.7777777777777778,
              "#fb9f3a"
             ],
             [
              0.8888888888888888,
              "#fdca26"
             ],
             [
              1,
              "#f0f921"
             ]
            ],
            "type": "histogram2dcontour"
           }
          ],
          "mesh3d": [
           {
            "colorbar": {
             "outlinewidth": 0,
             "ticks": ""
            },
            "type": "mesh3d"
           }
          ],
          "parcoords": [
           {
            "line": {
             "colorbar": {
              "outlinewidth": 0,
              "ticks": ""
             }
            },
            "type": "parcoords"
           }
          ],
          "pie": [
           {
            "automargin": true,
            "type": "pie"
           }
          ],
          "scatter": [
           {
            "fillpattern": {
             "fillmode": "overlay",
             "size": 10,
             "solidity": 0.2
            },
            "type": "scatter"
           }
          ],
          "scatter3d": [
           {
            "line": {
             "colorbar": {
              "outlinewidth": 0,
              "ticks": ""
             }
            },
            "marker": {
             "colorbar": {
              "outlinewidth": 0,
              "ticks": ""
             }
            },
            "type": "scatter3d"
           }
          ],
          "scattercarpet": [
           {
            "marker": {
             "colorbar": {
              "outlinewidth": 0,
              "ticks": ""
             }
            },
            "type": "scattercarpet"
           }
          ],
          "scattergeo": [
           {
            "marker": {
             "colorbar": {
              "outlinewidth": 0,
              "ticks": ""
             }
            },
            "type": "scattergeo"
           }
          ],
          "scattergl": [
           {
            "marker": {
             "colorbar": {
              "outlinewidth": 0,
              "ticks": ""
             }
            },
            "type": "scattergl"
           }
          ],
          "scattermap": [
           {
            "marker": {
             "colorbar": {
              "outlinewidth": 0,
              "ticks": ""
             }
            },
            "type": "scattermap"
           }
          ],
          "scattermapbox": [
           {
            "marker": {
             "colorbar": {
              "outlinewidth": 0,
              "ticks": ""
             }
            },
            "type": "scattermapbox"
           }
          ],
          "scatterpolar": [
           {
            "marker": {
             "colorbar": {
              "outlinewidth": 0,
              "ticks": ""
             }
            },
            "type": "scatterpolar"
           }
          ],
          "scatterpolargl": [
           {
            "marker": {
             "colorbar": {
              "outlinewidth": 0,
              "ticks": ""
             }
            },
            "type": "scatterpolargl"
           }
          ],
          "scatterternary": [
           {
            "marker": {
             "colorbar": {
              "outlinewidth": 0,
              "ticks": ""
             }
            },
            "type": "scatterternary"
           }
          ],
          "surface": [
           {
            "colorbar": {
             "outlinewidth": 0,
             "ticks": ""
            },
            "colorscale": [
             [
              0,
              "#0d0887"
             ],
             [
              0.1111111111111111,
              "#46039f"
             ],
             [
              0.2222222222222222,
              "#7201a8"
             ],
             [
              0.3333333333333333,
              "#9c179e"
             ],
             [
              0.4444444444444444,
              "#bd3786"
             ],
             [
              0.5555555555555556,
              "#d8576b"
             ],
             [
              0.6666666666666666,
              "#ed7953"
             ],
             [
              0.7777777777777778,
              "#fb9f3a"
             ],
             [
              0.8888888888888888,
              "#fdca26"
             ],
             [
              1,
              "#f0f921"
             ]
            ],
            "type": "surface"
           }
          ],
          "table": [
           {
            "cells": {
             "fill": {
              "color": "#EBF0F8"
             },
             "line": {
              "color": "white"
             }
            },
            "header": {
             "fill": {
              "color": "#C8D4E3"
             },
             "line": {
              "color": "white"
             }
            },
            "type": "table"
           }
          ]
         },
         "layout": {
          "annotationdefaults": {
           "arrowcolor": "#2a3f5f",
           "arrowhead": 0,
           "arrowwidth": 1
          },
          "autotypenumbers": "strict",
          "coloraxis": {
           "colorbar": {
            "outlinewidth": 0,
            "ticks": ""
           }
          },
          "colorscale": {
           "diverging": [
            [
             0,
             "#8e0152"
            ],
            [
             0.1,
             "#c51b7d"
            ],
            [
             0.2,
             "#de77ae"
            ],
            [
             0.3,
             "#f1b6da"
            ],
            [
             0.4,
             "#fde0ef"
            ],
            [
             0.5,
             "#f7f7f7"
            ],
            [
             0.6,
             "#e6f5d0"
            ],
            [
             0.7,
             "#b8e186"
            ],
            [
             0.8,
             "#7fbc41"
            ],
            [
             0.9,
             "#4d9221"
            ],
            [
             1,
             "#276419"
            ]
           ],
           "sequential": [
            [
             0,
             "#0d0887"
            ],
            [
             0.1111111111111111,
             "#46039f"
            ],
            [
             0.2222222222222222,
             "#7201a8"
            ],
            [
             0.3333333333333333,
             "#9c179e"
            ],
            [
             0.4444444444444444,
             "#bd3786"
            ],
            [
             0.5555555555555556,
             "#d8576b"
            ],
            [
             0.6666666666666666,
             "#ed7953"
            ],
            [
             0.7777777777777778,
             "#fb9f3a"
            ],
            [
             0.8888888888888888,
             "#fdca26"
            ],
            [
             1,
             "#f0f921"
            ]
           ],
           "sequentialminus": [
            [
             0,
             "#0d0887"
            ],
            [
             0.1111111111111111,
             "#46039f"
            ],
            [
             0.2222222222222222,
             "#7201a8"
            ],
            [
             0.3333333333333333,
             "#9c179e"
            ],
            [
             0.4444444444444444,
             "#bd3786"
            ],
            [
             0.5555555555555556,
             "#d8576b"
            ],
            [
             0.6666666666666666,
             "#ed7953"
            ],
            [
             0.7777777777777778,
             "#fb9f3a"
            ],
            [
             0.8888888888888888,
             "#fdca26"
            ],
            [
             1,
             "#f0f921"
            ]
           ]
          },
          "colorway": [
           "#636efa",
           "#EF553B",
           "#00cc96",
           "#ab63fa",
           "#FFA15A",
           "#19d3f3",
           "#FF6692",
           "#B6E880",
           "#FF97FF",
           "#FECB52"
          ],
          "font": {
           "color": "#2a3f5f"
          },
          "geo": {
           "bgcolor": "white",
           "lakecolor": "white",
           "landcolor": "#E5ECF6",
           "showlakes": true,
           "showland": true,
           "subunitcolor": "white"
          },
          "hoverlabel": {
           "align": "left"
          },
          "hovermode": "closest",
          "mapbox": {
           "style": "light"
          },
          "paper_bgcolor": "white",
          "plot_bgcolor": "#E5ECF6",
          "polar": {
           "angularaxis": {
            "gridcolor": "white",
            "linecolor": "white",
            "ticks": ""
           },
           "bgcolor": "#E5ECF6",
           "radialaxis": {
            "gridcolor": "white",
            "linecolor": "white",
            "ticks": ""
           }
          },
          "scene": {
           "xaxis": {
            "backgroundcolor": "#E5ECF6",
            "gridcolor": "white",
            "gridwidth": 2,
            "linecolor": "white",
            "showbackground": true,
            "ticks": "",
            "zerolinecolor": "white"
           },
           "yaxis": {
            "backgroundcolor": "#E5ECF6",
            "gridcolor": "white",
            "gridwidth": 2,
            "linecolor": "white",
            "showbackground": true,
            "ticks": "",
            "zerolinecolor": "white"
           },
           "zaxis": {
            "backgroundcolor": "#E5ECF6",
            "gridcolor": "white",
            "gridwidth": 2,
            "linecolor": "white",
            "showbackground": true,
            "ticks": "",
            "zerolinecolor": "white"
           }
          },
          "shapedefaults": {
           "line": {
            "color": "#2a3f5f"
           }
          },
          "ternary": {
           "aaxis": {
            "gridcolor": "white",
            "linecolor": "white",
            "ticks": ""
           },
           "baxis": {
            "gridcolor": "white",
            "linecolor": "white",
            "ticks": ""
           },
           "bgcolor": "#E5ECF6",
           "caxis": {
            "gridcolor": "white",
            "linecolor": "white",
            "ticks": ""
           }
          },
          "title": {
           "x": 0.05
          },
          "xaxis": {
           "automargin": true,
           "gridcolor": "white",
           "linecolor": "white",
           "ticks": "",
           "title": {
            "standoff": 15
           },
           "zerolinecolor": "white",
           "zerolinewidth": 2
          },
          "yaxis": {
           "automargin": true,
           "gridcolor": "white",
           "linecolor": "white",
           "ticks": "",
           "title": {
            "standoff": 15
           },
           "zerolinecolor": "white",
           "zerolinewidth": 2
          }
         }
        },
        "title": {
         "text": "Uitstoot per ton geproduceerd vs Neerslag (per jaar)"
        },
        "updatemenus": [
         {
          "buttons": [
           {
            "args": [
             null,
             {
              "frame": {
               "duration": 500,
               "redraw": false
              },
              "fromcurrent": true,
              "mode": "immediate",
              "transition": {
               "duration": 500,
               "easing": "linear"
              }
             }
            ],
            "label": "&#9654;",
            "method": "animate"
           },
           {
            "args": [
             [
              null
             ],
             {
              "frame": {
               "duration": 0,
               "redraw": false
              },
              "fromcurrent": true,
              "mode": "immediate",
              "transition": {
               "duration": 0,
               "easing": "linear"
              }
             }
            ],
            "label": "&#9724;",
            "method": "animate"
           }
          ],
          "direction": "left",
          "pad": {
           "r": 10,
           "t": 70
          },
          "showactive": false,
          "type": "buttons",
          "x": 0.1,
          "xanchor": "right",
          "y": 0,
          "yanchor": "top"
         }
        ],
        "xaxis": {
         "anchor": "y",
         "domain": [
          0,
          1
         ],
         "range": [
          0,
          3000
         ],
         "title": {
          "text": "Neerslag (mm/jaar)"
         }
        },
        "yaxis": {
         "anchor": "x",
         "domain": [
          0,
          1
         ],
         "range": [
          0,
          6e-7
         ],
         "title": {
          "text": "Uitstoot per ton geproduceerd (Mt/ton)"
         }
        }
       }
      }
     },
     "metadata": {},
     "output_type": "display_data"
    }
   ],
   "source": [
    "import pandas as pd\n",
    "import plotly.express as px\n",
    "\n",
    "# 📁 Laad de datasets\n",
    "neerslag_df = pd.read_csv(\"datasets/API_AG.LND.PRCP.MM_DS2_en_csv_v2_4487.csv\", skiprows=4)\n",
    "productie_df = pd.read_csv(\"datasets/Production_Crops_Livestock_filtered.csv\")\n",
    "emissies_crops_df = pd.read_csv(\"datasets/Emissions_crops_filtered.csv\")\n",
    "emissies_livestock_df = pd.read_csv(\"datasets/Emissions_livestock_filtered.csv\")\n",
    "\n",
    "# 🌧️ Verwerk neerslagdata\n",
    "neerslag_long = neerslag_df.melt(\n",
    "    id_vars=[\"Country Name\", \"Country Code\", \"Indicator Name\", \"Indicator Code\"],\n",
    "    var_name=\"Year\",\n",
    "    value_name=\"Precipitation_mm\"\n",
    ")\n",
    "neerslag_long = neerslag_long[[\"Country Name\", \"Year\", \"Precipitation_mm\"]]\n",
    "neerslag_long[\"Year\"] = pd.to_numeric(neerslag_long[\"Year\"], errors=\"coerce\")\n",
    "neerslag_long = neerslag_long.dropna(subset=[\"Year\", \"Precipitation_mm\"])\n",
    "neerslag_long[\"Country Name\"] = neerslag_long[\"Country Name\"].replace({\n",
    "    \"United States\": \"United States of America\"\n",
    "})\n",
    "\n",
    "# 🚜 Verwerk productiegegevens\n",
    "productie_filtered = productie_df[productie_df[\"Element\"] == \"Production\"]\n",
    "productie_aggregated = productie_filtered.groupby([\"Area\", \"Year\"])[\"Value\"].sum().reset_index()\n",
    "productie_aggregated.rename(columns={\"Area\": \"Country Name\", \"Value\": \"Production_tonnes\"}, inplace=True)\n",
    "productie_aggregated[\"Year\"] = pd.to_numeric(productie_aggregated[\"Year\"], errors=\"coerce\")\n",
    "productie_aggregated[\"Country Name\"] = productie_aggregated[\"Country Name\"].replace({\n",
    "    \"Netherlands (Kingdom of the)\": \"Netherlands\"\n",
    "})\n",
    "\n",
    "# 🌱🐄 Combineer gewas- en veeteeltuitstoot\n",
    "emissies_crops_total = emissies_crops_df.groupby([\"Area\", \"Year\"])[\"Value\"].sum().reset_index()\n",
    "emissies_livestock_total = emissies_livestock_df.groupby([\"Area\", \"Year\"])[\"Value\"].sum().reset_index()\n",
    "\n",
    "emissies_total = pd.merge(\n",
    "    emissies_crops_total, emissies_livestock_total,\n",
    "    on=[\"Area\", \"Year\"], how=\"outer\", suffixes=(\"_crops\", \"_livestock\")\n",
    ")\n",
    "emissies_total[\"Emissions_total\"] = (\n",
    "    emissies_total[\"Value_crops\"].fillna(0) + emissies_total[\"Value_livestock\"].fillna(0)\n",
    ")\n",
    "emissies_total = emissies_total[[\"Area\", \"Year\", \"Emissions_total\"]]\n",
    "emissies_total.rename(columns={\"Area\": \"Country Name\"}, inplace=True)\n",
    "emissies_total[\"Year\"] = pd.to_numeric(emissies_total[\"Year\"], errors=\"coerce\")\n",
    "\n",
    "# 🔁 Merge alles samen op land + jaar\n",
    "emissie_productie_df = pd.merge(emissies_total, productie_aggregated, on=[\"Country Name\", \"Year\"])\n",
    "emissie_productie_df = pd.merge(emissie_productie_df, neerslag_long, on=[\"Country Name\", \"Year\"])\n",
    "\n",
    "# 🔎 Filter op de 7 landen\n",
    "landen_selectie = [\n",
    "    \"Nigeria\", \"South Africa\", \"India\", \"Japan\",\n",
    "    \"United States of America\", \"Brazil\", \"Indonesia\"\n",
    "]\n",
    "emissie_productie_df = emissie_productie_df[emissie_productie_df[\"Country Name\"].isin(landen_selectie)]\n",
    "\n",
    "# ➗ Bereken uitstoot per ton\n",
    "emissie_productie_df[\"Emissions_per_ton\"] = (\n",
    "    emissie_productie_df[\"Emissions_total\"] / emissie_productie_df[\"Production_tonnes\"]\n",
    ")\n",
    "\n",
    "# 📈 Maak scatterplot\n",
    "fig = px.scatter(\n",
    "    emissie_productie_df,\n",
    "    x=\"Precipitation_mm\",\n",
    "    y=\"Emissions_per_ton\",\n",
    "    animation_frame=\"Year\",\n",
    "    color=\"Country Name\",\n",
    "    text=\"Country Name\",\n",
    "    hover_name=\"Country Name\",\n",
    "    title=\"Uitstoot per ton geproduceerd vs Neerslag (per jaar)\",\n",
    "    labels={\n",
    "        \"Precipitation_mm\": \"Neerslag (mm/jaar)\",\n",
    "        \"Emissions_per_ton\": \"Uitstoot per ton geproduceerd (Mt/ton)\"\n",
    "    }\n",
    ")\n",
    "\n",
    "fig.update_traces(\n",
    "    textposition='top center',\n",
    "    marker=dict(size=14)\n",
    ")\n",
    "\n",
    "fig.update_layout(\n",
    "    xaxis=dict(range=[0, 3000]),\n",
    "    yaxis=dict(range=[0, 6e-7])\n",
    ")\n",
    "\n",
    "fig.show()\n",
    "\n"
   ]
  },
  {
   "cell_type": "markdown",
   "id": "b89f90b9",
   "metadata": {},
   "source": [
    "#### Analyse: Uitstoot per ton geproduceerd vs Neerslag\n",
    "\n",
    "Deze visualisatie toont hoe efficiënt landen voedsel produceren in termen van uitstoot. Op de x-as staat de jaarlijkse neerslag (in mm), en op de y-as de uitstoot uit landbouw omgerekend naar **uitstoot per geproduceerde ton voedsel** (Mt CO₂e/ton). Elk punt vertegenwoordigt één land in een bepaald jaar. We volgen Brazilië, India, Indonesië, Japan, Nigeria, Zuid-Afrika en \n",
    "de Verenigde Staten.\n",
    "\n",
    "##### Waarom deze landen?\n",
    "\n",
    "In deze analyse beperken we ons tot zeven landen: Brazilië, India, Indonesië, Japan, Nigeria, Zuid-Afrika en de Verenigde Staten. Deze selectie is bewust gemaakt om drie redenen:\n",
    "\n",
    "1. **Contrasterende landbouwsystemen**  \n",
    "   Elk van deze landen vertegenwoordigt een fundamenteel ander landbouwmodel: van grootschalige industriële productie (VS), tot extensieve plantaardige landbouw (India), tot tropisch kleinschalig boerenbedrijf (Nigeria, Indonesië). Door juist deze contrasten te vergelijken, ontstaat inzicht in hoe verschillende strategieën leiden tot uiteenlopende emissiepatronen, los van natuurlijke omstandigheden.\n",
    "\n",
    "2. **Relevantie voor mondiale voedselvoorziening én uitstoot**  \n",
    "   De gekozen landen behoren tot de grootste producenten van voedsel in de wereld (India, VS, Brazilië), of zijn door hun bevolkingsomvang of economische groei belangrijk voor de toekomst van landbouwtransitie (zoals Indonesië, Nigeria). Ze dragen significant bij aan zowel de wereldwijde voedselproductie als de landbouwgerelateerde uitstoot, wat hen tot relevante cases maakt.\n",
    "\n",
    "3. **Beheersbare maar representatieve vergelijking**  \n",
    "   Door te focussen op zeven landen kunnen we trends in detail analyseren, zonder dat de vergelijking verwatert. Een analyse van alle landen zou leiden tot visuele ruis en afleiding van het doel: het blootleggen van fundamentele verschillen in landbouw-efficiëntie. De gekozen landen bestrijken vijf continenten, meerdere klimaatzones, en uiteenlopende sociaaleconomische structuren, waardoor ze samen een krachtig representatief beeld geven van mondiale landbouwdynamiek.\n",
    "\n",
    "Kortom: deze landen zijn niet willekeurig gekozen, maar geselecteerd om de kernvraag van deze analyse – **hoe efficiënt produceren landen voedsel in termen van uitstoot?** – zo scherp en inzichtelijk mogelijk te beantwoorden.\n",
    "\n",
    "\n",
    "##### Wat valt op?\n",
    "\n",
    "- **De Verenigde Staten heeft structureel een hoge uitstoot per ton geproduceerd.**  \n",
    "  Hoewel de VS een grote landbouwsector heeft, is de uitstoot per ton voedsel aanzienlijk hoger dan in bijvoorbeeld India of Brazilië. Dit wijst waarschijnlijk op een uitstootintensieve landbouwpraktijk, zoals intensieve veeteelt (runderen, varkens), gebruik van grote hoeveelheden kunstmest, en een hoge mate van mechanisatie en energieverbruik.\n",
    "\n",
    "- **India en Brazilië combineren hoge productie met relatief lage uitstoot.**  \n",
    "  India produceert in veel jaren zelfs meer dan de VS, maar doet dit met een aanzienlijk lagere uitstoot per ton. Dit suggereert een meer plantaardige en extensieve landbouw, of efficiënter gebruik van middelen. Ook Brazilië scoort opvallend goed qua uitstoot-efficiëntie, ondanks hoge neerslag.\n",
    "\n",
    "- **Japan en Zuid-Afrika zitten qua efficiëntie in de middenmoot.**  \n",
    "  Japan is technologisch geavanceerd maar kleinschalig, wat leidt tot stabiele maar gematigde uitstoot per ton. Zuid-Afrika toont sterke fluctuaties, wat kan wijzen op klimaatinvloeden (zoals droogte), economische instabiliteit of structurele verschillen in landbouwtypes per jaar.\n",
    "\n",
    "- **Indonesië en Nigeria produceren weinig, en stoten relatief weinig uit.**  \n",
    "  In beide landen is de landbouw kleinschaliger en minder geïndustrialiseerd. Dat leidt tot lage totale productie, maar ook tot lage uitstoot per ton. Wellicht is er beperkte toegang tot landbouwtechnologie of infrastructuur.\n",
    "\n",
    "##### Waarom stoten sommige landen meer uit per ton dan andere?\n",
    "\n",
    "Een hoge uitstoot per ton geproduceerd voedsel kan verschillende oorzaken hebben:\n",
    "- Dominantie van veeteelt (vooral rundvlees en zuivel -> hoge methaanuitstoot)\n",
    "- Inefficiënt gebruik van landbouwgrond of input (bijv. overmatig gebruik van kunstmest)\n",
    "- Mechanisatie die veel fossiele energie verbruikt\n",
    "- Verspilling in de keten of lage opbrengst per hectare\n",
    "\n",
    "##### Conclusie\n",
    "\n",
    "De visualisatie laat overtuigend zien dat **meer neerslag niet automatisch leidt tot efficiëntere of duurzamere landbouw.** India toont aan dat een droog(achtig) klimaat niet hoeft te betekenen dat productie inefficiënt is. Tegelijkertijd laat de VS zien dat landbouwkeuzes een grotere impact hebben dan klimaat: ondanks goede omstandigheden is de uitstoot per ton daar hoog.\n",
    "\n",
    "Efficiëntie in landbouw wordt dus grotendeels bepaald door **productiestrategie**, niet door geografie. Wie wat produceert – en hóé – bepaalt uiteindelijk de ecologische voetafdruk.\n",
    "\n"
   ]
  },
  {
   "cell_type": "markdown",
   "id": "760ec173",
   "metadata": {},
   "source": [
    "### Internationale handelsstromen beïnvloeden nationale uitstoot\n",
    "\n",
    "De uitstoot van een nationaal voedselsysteem zegt niet alleen iets over wat er binnen dat land geconsumeerd wordt, maar ook over wat er geproduceerd wordt voor de wereldmarkt. Sommige landen produceren voedsel voornamelijk voor export. In die gevallen wordt de uitstoot lokaal geregistreerd, terwijl de consumptie elders plaatsvindt. \n",
    "\n",
    "Omdat deze landen produceren voor internationale markten, ligt hun landbouwuitstoot vaak hoger dan landen met vergelijkbare bevolkingsaantallen of eetgewoonten. Dit betekent dat de uitstoot van een land niet per se iets zegt over het lokale dieet of de binnenlandse voedselvoorziening. Het weerspiegelt eerder hun positie in het mondiale voedselsysteem. \n",
    "\n",
    "Dus landbouwuitstoot weerspiegelt niet enkel lokale consumptie, maar wordt sterk beïnvloed door de internationale vraag – landen met hoge export produceren meer en stoten daardoor meer uit, vaak voor andermans bord.\n"
   ]
  },
  {
   "cell_type": "code",
   "execution_count": null,
   "id": "64df8a33",
   "metadata": {},
   "outputs": [
    {
     "data": {
      "application/vnd.plotly.v1+json": {
       "config": {
        "plotlyServerURL": "https://plot.ly"
       },
       "data": [
        {
         "legendgroup": "Argentina",
         "mode": "lines",
         "name": "Argentina",
         "showlegend": true,
         "type": "scatter",
         "visible": true,
         "x": {
          "bdata": "wQfCB8MHxAfFB8YHxwfIB8kHygfLB8wHzQfOB88H0AfRB9IH0wfUB9UH1gfXB9gH2QfaB9sH3AfdB94H3wfgB+EH4gfjB+QH5QfmBw==",
          "dtype": "i2"
         },
         "y": {
          "bdata": "rkfhevQ4u0BNhA1PT5O6QFYOLbLd0LlA+u3rwLlfukDzjlN0RI26QKFns+ozprpAhJ7Nqh9ZukDzH9Jvr5m6QCtlGeJYKbpA+1xtxW5cukCsHFpkSxi6QLpJDAK7N7lAj8L1KAzmuECEns2qP/+3QOlILv+BjbhAtFn1uVpGuEBVwaiknk+4QPVKWYY4qblAdEaU9qZ9u0D+1Hjplge8QKIjufyHJ7xAXrpJDPLGvEB4nKIj6f68QCsYldRpfbxAhJ7Nqn//ukCV1AloMoO4QAFvgQSlJLhA9P3UeDkAuUCKH2PuGoe5QB4Wak3j0LlA2/l+aryVuUB9PzVeOhG6QJ7Nqs9FE7tAnDOitKcEu0BCrWnewSa7QEHxY8wt6LpABHgLJNhcukBfB84ZsbC6QA==",
          "dtype": "f8"
         }
        },
        {
         "legendgroup": "Brazil",
         "mode": "lines",
         "name": "Brazil",
         "showlegend": true,
         "type": "scatter",
         "visible": true,
         "x": {
          "bdata": "wQfCB8MHxAfFB8YHxwfIB8kHygfLB8wHzQfOB88H0AfRB9IH0wfUB9UH1gfXB9gH2QfaB9sH3AfdB94H3wfgB+EH4gfjB+QH5QfmBw==",
          "dtype": "i2"
         },
         "y": {
          "bdata": "78nDQrF60EB8YTJVUAfRQAg9m1W/fNFA8kHPZnH10UAlBoGV+3rSQNIA3gIdwtJAoImw4ZVl00CiRbbzdbLTQPtcbcX6utNAbqMBvGUe1ECJQWDltH7UQErqBDQ5t9NAUUmdgAIY1EC3Yn/ZXU3UQJM6AU1wi9RA3EYDeJ8s1UDazvdTc+jVQBx8YTJt8tZA30+Nl+Il2ED67evAhT7ZQOqVsgy1mNlA5tAi22lp2UCP5PIfDrbYQKRwPQojCNlA2BLyQQdn2UBseHqlHOnZQAHeAgk+UdpAqRPQRAQU2kAzorQ3aCXaQEATYcM7PdpA9dvXgWOH2kD35GGhps7aQHzysFDLY9pAO99PjdM+2kA/NV66SWbaQLaEfND3vdpA16NwPaaF20BfmEwVnKvcQA==",
          "dtype": "f8"
         }
        },
        {
         "legendgroup": "India",
         "mode": "lines",
         "name": "India",
         "showlegend": true,
         "type": "scatter",
         "visible": true,
         "x": {
          "bdata": "wQfCB8MHxAfFB8YHxwfIB8kHygfLB8wHzQfOB88H0AfRB9IH0wfUB9UH1gfXB9gH2QfaB9sH3AfdB94H3wfgB+EH4gfjB+QH5QfmBw==",
          "dtype": "i2"
         },
         "y": {
          "bdata": "UiegiRhd3ECUh4Va37/cQDxO0ZEModxA6Nms+oA33UCYbhKDFIvdQKs+V1tp4N1AOiNKe+8q3kAVHcnlv3jeQBHHurjRq95A9UpZhhTb3kAzxLEuSv/eQE7RkVzWNd9AiIVa09xG30AXSFD8oHLfQD55WKhJhN9AWmQ73yd330BWn6utaJrfQPaX3ZO7SN9Af9k9eQCQ30BuNIC3MPjfQEmdgCZUVeBAuycPC9eU4ECfzarP6fLgQNbFbTRkCuFA001iEEDc4EBDrWnew+/gQJOpglFXA+FARUdy+Rnz4EDP91PjNQHhQGNd3EbvAuFApHA9Cqkd4UBd/kP6aUbhQNBE2PA6YOFAn6ut2PuB4UAawFsg6ZThQGpN846h2eFAJCh+jL3U4UCMSuoEuubhQA==",
          "dtype": "f8"
         }
        },
        {
         "legendgroup": "Thailand",
         "mode": "lines",
         "name": "Thailand",
         "showlegend": true,
         "type": "scatter",
         "visible": true,
         "x": {
          "bdata": "wQfCB8MHxAfFB8YHxwfIB8kHygfLB8wHzQfOB88H0AfRB9IH0wfUB9UH1gfXB9gH2QfaB9sH3AfdB94H3wfgB+EH4gfjB+QH5QfmBw==",
          "dtype": "i2"
         },
         "y": {
          "bdata": "p3nHKRqZpkD7OnDOiNWlQLHh6ZUymqVAL0ymCiZxpkB7pSxDfFmmQDy9UpYh+KRACKwcWqTppUC4QILip1CmQLsnDwsVYqZAGw3gLTB1pkDPiNLeIHSlQFrTvOM0vaRAZMxdS+jIpEBDHOvi1kijQFdbsb8sLaNAI9v5fkrQokCoxks3SQGjQEw3iUEAqaJAFmpN8y6co0C/fR04p6qjQNQrZRmCQqRA0gDeAomDpEC2FfvLLo2lQAbwFkjQpKVAN4lBYAUipkDYgXNGdOymQNzXgXPmeaZAwoanV0oapkBn1edq61ClQAfOGVH6lKNAJlMFoxJDokBn1edqi6ajQAskKH7MpqNAk6mCUUmNo0CTOgFNxFyiQMQgsHLowqNAvw6cMwLto0AT0ETY0DWkQA==",
          "dtype": "f8"
         }
        },
        {
         "legendgroup": "United States of America",
         "mode": "lines",
         "name": "United States of America",
         "showlegend": true,
         "type": "scatter",
         "visible": true,
         "x": {
          "bdata": "wQfCB8MHxAfFB8YHxwfIB8kHygfLB8wHzQfOB88H0AfRB9IH0wfUB9UH1gfXB9gH2QfaB9sH3AfdB94H3wfgB+EH4gfjB+QH5QfmBw==",
          "dtype": "i2"
         },
         "y": {
          "bdata": "H2PuWjID0UC/Dpwzzm3QQHPXEvLZ2c9AZ0Rpb0iTz0CWsgxxzOrOQCntDb4otM5AAwmKH7vDzkDQ1VbsHx3PQKs+V1vRQc9Aw2SqYCzhz0AcfGEytQfQQNZW7C8XBNBAKcsQx3Liz0DqBDQRToPPQHrHKTpiSs9AE2HD06P7zkBrK/aXLdvOQAK8BRJcvM5Axty1hHSmzkDImLuWGIrOQEoMAisnuc5AwOyePMQDz0DOiNLeIBrPQO84RUciX89AvHSTGBzpzkAVjErqTOPOQGaIY12sdc5ATKYKRl0dzkDjNhrAE8XNQKmCUUl1uM1AnRGlvbnTzUDqlbIMabzOQL3jFB0RAc9AwcqhRf5tz0D6XG3FxofPQIxK6gT8Z89An82qz6Uuz0AyCKwcgqbOQA==",
          "dtype": "f8"
         }
        },
        {
         "legendgroup": "Argentina",
         "mode": "lines",
         "name": "Argentina",
         "showlegend": true,
         "type": "scatter",
         "visible": false,
         "x": {
          "bdata": "wQfCB8MHxAfFB8YHxwfIB8kHygfLB8wHzQfOB88H0AfRB9IH0wfUB9UH1gfXB9gH2QfaB9sH3AfdB94H3wfgB+EH4gfjB+QH5QfmBw==",
          "dtype": "i2"
         },
         "y": {
          "bdata": "Bb46xYlnzT8U6B9ZM0PMP990HE6mCMs/deTv/IIxyz9dg2ZI9vXKPzlDVwO5qMo/FEnpZkn7yT+bjchRod7JP6yvaeHNGck//Kt6NqD0yD+NWJKgy2HIP6arnQGZRMc/8w+H2Dmyxj+t4A+FZp7FP/j2/Mik3cU/lSw/q+tfxT+FmEFdPSzFP+rF7v5eHMY/ZJQqCKtxxz+oqas0j6nHPwedXxJUhsc/BX5VFY/Mxz+x8DgaTb7HP3mtfAsTGMc/7Iucqm6nxT8o7hlUMXTDP0wzlvQz9cI/w++xqj1uwz9sRpjo4qTDP5RNnVB2qcM/M4uvKHFIwz/xFc0bBXXDP5hFdKo8CMQ/Ixg32HrTwz+FfV+QX8jDP72W/kuDgsM/puF0an0Qwz/Peok7uELDPw==",
          "dtype": "f8"
         }
        },
        {
         "legendgroup": "Brazil",
         "mode": "lines",
         "name": "Brazil",
         "showlegend": true,
         "type": "scatter",
         "visible": false,
         "x": {
          "bdata": "wQfCB8MHxAfFB8YHxwfIB8kHygfLB8wHzQfOB88H0AfRB9IH0wfUB9UH1gfXB9gH2QfaB9sH3AfdB94H3wfgB+EH4gfjB+QH5QfmBw==",
          "dtype": "i2"
         },
         "y": {
          "bdata": "odfpeLjgvz/6hBZbZSLAPyB1LkNwPsA/CW9qOr9dwD/F1tqhrIjAP5YxQJBBfMA/aVxpSK/BwD8LTAU3ErzAPxiSFEZafsA/zn+ZQ62OwD/6r+UZ/pvAP/qkQSm6eb8/gMMtJhKbvz8tVyiJRna/Pzfq1jqdYL8/vuWcK7flvz9AJCFWoUnAPw/6yTh92cA/o/j4HP6FwT8r29eJ8xzCPzo7N2pqKsI/xNrTUj/YwT9freNojS3BPwPUUgMkPME/gLrcho1VwT/vhTQIa4jBP8/8EfvtqcE/IFRU4p1cwT86itv5OETBP/LuJktVMME/sFZys9M9wT82W3kSSUrBP9WrlWm/5cA/b7UAecawwD/UueCX8K3AP6LFS69ZzMA/xfmvCP82wT/JUcw+XN7BPw==",
          "dtype": "f8"
         }
        },
        {
         "legendgroup": "India",
         "mode": "lines",
         "name": "India",
         "showlegend": true,
         "type": "scatter",
         "visible": false,
         "x": {
          "bdata": "wQfCB8MHxAfFB8YHxwfIB8kHygfLB8wHzQfOB88H0AfRB9IH0wfUB9UH1gfXB9gH2QfaB9sH3AfdB94H3wfgB+EH4gfjB+QH5QfmBw==",
          "dtype": "i2"
         },
         "y": {
          "bdata": "Wl/DGxc/oz/qZ9+0KBCjP5o6nnsijqI/Ezs5scSDoj9fNBcQ0U6iP9mnEevzG6I/LCu8Z73koT/luCJVYrGhP49QLjZNcKE/ffsPFkowoT9KVT0gXuygPyv1Tzres6A/6xeloIppoD+nOdxYgi+gPx+Rk6a41J8/UiMmEv0vnz9hb21eUr6eP9UT/bEF450/7gs9NGKinT8SIvjuaIKdP9Y6v9U7qp0/+tZvZu+lnT+CFxEkLtqdP2DCC4XGlZ0/9gTqWhbanD9opQ27VpCcP+u6SEsESpw/RyNSqI3Mmz8MLnd9LIWbP8RJvYygL5s/DmCqTE4Hmz8XBbLB7/SaP8G38wkBzZo/OLxIo5+1mj+eCUegdIuaP16mEypgsJo/YEy6tiVxmj85B7CYVFaaPw==",
          "dtype": "f8"
         }
        },
        {
         "legendgroup": "Thailand",
         "mode": "lines",
         "name": "Thailand",
         "showlegend": true,
         "type": "scatter",
         "visible": false,
         "x": {
          "bdata": "wQfCB8MHxAfFB8YHxwfIB8kHygfLB8wHzQfOB88H0AfRB9IH0wfUB9UH1gfXB9gH2QfaB9sH3AfdB94H3wfgB+EH4gfjB+QH5QfmBw==",
          "dtype": "i2"
         },
         "y": {
          "bdata": "G7MUWc91rT+2/57rs/WrPycetv7UL6s/SdLm2h3Eqz/p5hC9PTOrPxcg3i8MG6k/pLBgHarPqT8t06x55d6pPzvxHJlXjak/U4cwuhlDqT89GMqAZ8qnP7E3ZzzOrqY/PRjMRIBupj/1KeGv44qkP3mX7F4/LKQ/yQ3+XYuRoz8ofJDAW5GjP9wpjH9eB6M/FT3TEN7Poz9xIoFoHLGjP/5IucCvHKQ/+Qg5LyUypD+WZwGxZAylP2M9Ty0Q+qQ/VMATTAFLpT9H5C+CBeilP5fUT4Z3WKU/Adg8gXncpD+uUkTfQACkP2DW/brURqI/DWDtnWH3oD9kusP6liyiP3ve5MkvGaI/yvH9Z7/zoT+ucBdwUtOgP6U6xSLGE6I/9cfoo7M0oj8WfBKIsnaiPw==",
          "dtype": "f8"
         }
        },
        {
         "legendgroup": "United States of America",
         "mode": "lines",
         "name": "United States of America",
         "showlegend": true,
         "type": "scatter",
         "visible": false,
         "x": {
          "bdata": "wQfCB8MHxAfFB8YHxwfIB8kHygfLB8wHzQfOB88H0AfRB9IH0wfUB9UH1gfXB9gH2QfaB9sH3AfdB94H3wfgB+EH4gfjB+QH5QfmBw==",
          "dtype": "i2"
         },
         "y": {
          "bdata": "5M13qMNzsj8U42BTaKexPwhZEqeh9bA/Rah90mGpsD8xC92OdSqwP45ds889xK8/gIjOsexxrz/hkdF1/mqvP3pFGH7pMq8/eSfdO8d6rz8By/Hf6lWvP+9pBYlJAK8/DOMAQ3OQrj/OX33K/eqtP4qeJbY4bK0/Tue206zarD+6R+JXGnSsP/iO+ozMEKw/+lt0zAK3qz/VNNXS31erPweD9DU5PKs/K4NtOl03qz/MKLO25wKrP0EMkcJW96o/Ej1b7ndOqj+2oRGExQeqP8xBnrK8a6k/dvmI3vXkqD/RqQe4BmGoP6zVZfXAHKg/ndwnvK35pz+rn/41DnqoP33q/Kord6g/m/X8jBWXqD/23zJ9JnioPyOc7j04Qag/6zZTVMsHqD+fpWOxk4anPw==",
          "dtype": "f8"
         }
        },
        {
         "legendgroup": "Argentina",
         "mode": "lines",
         "name": "Argentina",
         "showlegend": true,
         "type": "scatter",
         "visible": false,
         "x": {
          "bdata": "wQfCB8MHxAfFB8YHxwfIB8kHygfLB8wHzQfOB88H0AfRB9IH0wfUB9UH1gfXB9gH2QfaB9sH3AfdB94H3wfgB+EH4gfjB+QH5QfmBw==",
          "dtype": "i2"
         },
         "y": {
          "bdata": "AAAAAAAA+H8AAABgcChkQQAAAIDyTmFBAAAAAN0EYUEAAABAcyBcQQAAAACRyWNBAAAAIEMZZUEAAABg/QlqQQAAAEDENGZBAAAAAEprZEEAAABAYAltQQAAAGBJUWZBAAAAgBFEdUEAAABgXhV4QQAAAAAAAPh/AAAAcPXldkEAAABgHTF2QQAAAPD6E3NBAAAAcDiWckEAAAAQTp5zQQAAAKBqw3lBAAAAgHsndUEAAAAwVjJ5QQAAAICn/nhBAAAAIMbWbUEAAACwhwh2QQAAADDUJXlBAAAA0DXIfUEAAACQ1u52QdejcBUTRHJBMzMz869ddUFI4Xp4JGiBQfYoXFMXYIJBuB6FtbFRgUFxPQr/AwaHQXE9CiFFUodBZmZmDkCThkFxPQphZgyIQQ==",
          "dtype": "f8"
         }
        },
        {
         "legendgroup": "Brazil",
         "mode": "lines",
         "name": "Brazil",
         "showlegend": true,
         "type": "scatter",
         "visible": false,
         "x": {
          "bdata": "wQfCB8MHxAfFB8YHxwfIB8kHygfLB8wHzQfOB88H0AfRB9IH0wfUB9UH1gfXB9gH2QfaB9sH3AfdB94H3wfgB+EH4gfjB+QH5QfmBw==",
          "dtype": "i2"
         },
         "y": {
          "bdata": "AAAAAAAA+H8AAAAACLkUQQAAAABIDBJBAAAAALwxFEEAAAAA8MwTQQAAAAC83xRBAAAAAHyFGUEAAAAAtGofQQAAAAD+2yNBAAAAAL6AIUEAAAAABIgdQQAAAABgzi5BAAAAAP7cKUEAAAAA/qYoQQAAAABtMjBBAAAAALDrMUEAAADAG3BbQQAAAIDxt1JBAAAAgOlJV0EAAACAeB1iQQAAAAA/L1JBAAAAwCkLXkEAAAAg4TRsQQAAAIBNlmVBAAAAIBXWZ0EAAACg8UNvQQAAAIDX7m9BAAAA0ILJeUEAAABwc9J+QT0K1xNlTnhBXI/CcxoHgUGF61EQzUJ6QXE9CjucoIBBFa5Hdd52e0GkcD1MiyiHQXE9CrUYX4NBuB6FT+MwekFI4Xo2dQyJQQ==",
          "dtype": "f8"
         }
        },
        {
         "legendgroup": "India",
         "mode": "lines",
         "name": "India",
         "showlegend": true,
         "type": "scatter",
         "visible": false,
         "x": {
          "bdata": "wQfCB8MHxAfFB8YHxwfIB8kHygfLB8wHzQfOB88H0AfRB9IH0wfUB9UH1gfXB9gH2QfaB9sH3AfdB94H3wfgB+EH4gfjB+QH5QfmBw==",
          "dtype": "i2"
         },
         "y": {
          "bdata": "AAAAAAAA+H8AAAAA5MAeQQAAAABE+SNBAAAAALRMGEEAAAAA4MocQQAAAABiTSVBAAAAAFTBNEEAAAAAcJ4jQQAAAADo5i9BAAAAAERWMEEAAABAqDRVQQAAAIBckEtBAAAAAJVHREEAAABA8glTQQAAAIBoK0BBAAAAgEOVREEAAACAkIZTQQAAAIAI9GBBAAAAgJGHX0EAAACAH6NeQQAAAEAG91RBAAAAgIhHVUEAAAAAIgtiQQAAAACOSllBAAAAwPKJU0EAAABAhBhUQQAAAEDw62NBAAAAkBBXckEAAAAArZB1QexRuNoc4XFBH4XryeRDZ0HXo3Bt9L5kQfYoXEeWh2dBmZmZmR03Z0EfheuJqaFkQXsUrmc9HXBB16Nwfd58ekGuR+FaTCl8QQ==",
          "dtype": "f8"
         }
        },
        {
         "legendgroup": "Thailand",
         "mode": "lines",
         "name": "Thailand",
         "showlegend": true,
         "type": "scatter",
         "visible": false,
         "x": {
          "bdata": "wQfCB8MHxAfFB8YHxwfIB8kHygfLB8wHzQfOB88H0AfRB9IH0wfUB9UH1gfXB9gH2QfaB9sH3AfdB94H3wfgB+EH4gfjB+QH5QfmBw==",
          "dtype": "i2"
         },
         "y": {
          "bdata": "AAAAAAAA+H8AAAAAKDRcQQAAAEDhe1VBAAAAAN96VkEAAAAAD0xbQQAAAIDoY1JBAAAAwM/vUkEAAABAtFpRQQAAAEDx+FFBAAAAwDVhUUEAAACAowRWQQAAAED3zlJBAAAAAB/LUkEAAACAkEJXQQAAAEDxOFdBAAAAAFdEVUEAAAAA/blbQQAAAIA6+1hBAAAAQO75WEEAAACAnF5iQQAAAED9lFdBAAAAADxiWEEAAABAtCteQQAAACCLDWJBAAAAQBa0XkEAAABAsi1fQQAAAKBimmJBAAAAwOg0V0EAAAAArI5ZQT4K14MWKGRBCtejiNQqYUG4HoXzQdZhQSlcj3rX5mRBexSu7770Y0HsUbhOhOpbQc3MzLzyuVRBcT0Kh22yVkHrUbh+wgRcQQ==",
          "dtype": "f8"
         }
        },
        {
         "legendgroup": "United States of America",
         "mode": "lines",
         "name": "United States of America",
         "showlegend": true,
         "type": "scatter",
         "visible": false,
         "x": {
          "bdata": "wQfCB8MHxAfFB8YHxwfIB8kHygfLB8wHzQfOB88H0AfRB9IH0wfUB9UH1gfXB9gH2QfaB9sH3AfdB94H3wfgB+EH4gfjB+QH5QfmBw==",
          "dtype": "i2"
         },
         "y": {
          "bdata": "AAAAAAAA+H8AAAD48G+JQQAAAHxxhpFBAAAAVDIGlUEAAADoaE2WQQAAAGxpRZNBAAAAnLpUkkEAAAB8V72RQQAAAExjj5JBAAAAJBWHkEEAAACI/rmWQQAAALg0j5RBAAAABExfkUEAAACEWYiRQQAAABSvJ5RBAAAAaF1ik0EAAABAC+6SQQAAAPzvi5JBAAAAdLjNkUEAAAAATGmUQQAAAFRq1JJBAAAA8LvqlEEAAABgHPWWQQAAAAQ7HZZBAAAAMOackkEAAAC49KiUQQAAADRL3ZRBAAAAABDSj0EAAAAYAuaPQUjheuJjMZRBzczMforckUEzMzOREkOVQXE9CokbdZVBwvUodmNNmEG4HoUQDK6SQRWuR7zJ+ZRBMzMzxhfJmEGamZm4WzOVQQ==",
          "dtype": "f8"
         }
        },
        {
         "legendgroup": "Argentina",
         "mode": "lines",
         "name": "Argentina",
         "showlegend": true,
         "type": "scatter",
         "visible": false,
         "x": {
          "bdata": "wQfCB8MHxAfFB8YHxwfIB8kHygfLB8wHzQfOB88H0AfRB9IH0wfUB9UH1gfXB9gH2QfaB9sH3AfdB94H3wfgB+EH4gfjB+QH5QfmBw==",
          "dtype": "i2"
         },
         "y": {
          "bdata": "AAAAAAAA+H9HcyDIv/PVPxJ76gFYj9I/cogFGA340T8lOuzN0z7NP3P30FMORdQ/LVhJnPJN1T+Xuh6PeO7ZPyws6GUu0dU/Tx2x6FnL0z8VvX2AIsjbP3mGgPoSFtU/JhZt7ZvZ4z+FXxLMoTfmPwAAAAAAAPh/qUgpQ4Gl5D8TBTW9gsrjPyMwdyVI1eA/yoiXQis74D/DmwGCiPXgP3tBjmIhC+Y/T5RZdinq4T9J4Tn+qiDlP0FLuuBCv+Q/dvTuzcqB2D+sOdft7+fhP3idQW55OOQ/UJUvgruz5z9yA1ZJJRLiP7rfaGS7fdw/IA707lx94D9/nty98pvqP9QtkfPi1+s/eJjQ8hoH6j8y3nNYfS3xPxlJ6pfYUPE/EsfqXZ+38D/i84GhTsXxPw==",
          "dtype": "f8"
         }
        },
        {
         "legendgroup": "Brazil",
         "mode": "lines",
         "name": "Brazil",
         "showlegend": true,
         "type": "scatter",
         "visible": false,
         "x": {
          "bdata": "wQfCB8MHxAfFB8YHxwfIB8kHygfLB8wHzQfOB88H0AfRB9IH0wfUB9UH1gfXB9gH2QfaB9sH3AfdB94H3wfgB+EH4gfjB+QH5QfmBw==",
          "dtype": "i2"
         },
         "y": {
          "bdata": "AAAAAAAA+H93HdkaFhtkPyS/weXEKmE/eSqb8VvYYj8LDg+g3yNiP4IagOv1yGI/QTlGNqCTZj/bVUCcEVVrP4xXq77y/3A/Kx8xWSGAbT9dv7pIxIFoPwBlsARBLnk/4td3XhbUdD829PzSYY9zPxxHCde4VHk/JvYixNSkez8o5apMcOOkP1bzFAktJpw/dgTTuTJOoT9MvTqNnp6qP2ERx1Eubpo/Hu1ac4eapT8f76oSDxS0P1hrN7yYcK4/0eOJquOnsD/w0fpXAKq1P/9I5diB8rU/BwFQh36UwT/bzKITytfEP5SUj3sATsA/QiKV4hSqxj8ddpydJljBP53BexjbzcU/uvN3aobiwT+B3X8gMvfNPz70H9C368g/fGYBVIHGwD9HhdEv3/jPPw==",
          "dtype": "f8"
         }
        },
        {
         "legendgroup": "India",
         "mode": "lines",
         "name": "India",
         "showlegend": true,
         "type": "scatter",
         "visible": false,
         "x": {
          "bdata": "wQfCB8MHxAfFB8YHxwfIB8kHygfLB8wHzQfOB88H0AfRB9IH0wfUB9UH1gfXB9gH2QfaB9sH3AfdB94H3wfgB+EH4gfjB+QH5QfmBw==",
          "dtype": "i2"
         },
         "y": {
          "bdata": "AAAAAAAA+H9hpscCnuFEP6YFsQIjg0o/OJVBeVmJPz9O6hIuVUVCPwIJQleccUo/NpWYU082WT8scabXYFRHP6gt0qXkklI/NsNCr2ejUj+iO81l8rV3PxjM0uHfNW4/gvGwcEDLZT+AOaP9dxF0PwrNNbQCuWA/kC2ZCQ7kZD//LgDLSXNzP+k8PJ+xlYA/pLVQN1lQfj/J/G2SVvV8P/o/2qrVfnM/nOzpNxV7cz+ovrnzfkWAP9pxAsJLe3Y/WoY6N3MecT+t4yp9RVpxPxv38wnT9YA/xT88Si3Njj8DWRGogd6RP6xNUSQ+Qo0/hdNzHH7Pgj8HWw91LZOAP/bUrbzqlII/E4RfEiYigj9QbqnPnOV/Pw8aYTP3q4g/JJbyMGkclD95v4SCnTaVPw==",
          "dtype": "f8"
         }
        },
        {
         "legendgroup": "Thailand",
         "mode": "lines",
         "name": "Thailand",
         "showlegend": true,
         "type": "scatter",
         "visible": false,
         "x": {
          "bdata": "wQfCB8MHxAfFB8YHxwfIB8kHygfLB8wHzQfOB88H0AfRB9IH0wfUB9UH1gfXB9gH2QfaB9sH3AfdB94H3wfgB+EH4gfjB+QH5QfmBw==",
          "dtype": "i2"
         },
         "y": {
          "bdata": "AAAAAAAA+H9iScDc2X3CP9eDqgbMr7s/f6bRdgd7vD+1X2mBaALBP94Rgwfei7Y/bEVtpFfXtj9UQtA7NZq0P7LJk1llArU/dl/NDOgEtD9CB4YdrAC5Pw8ike2hELU/3z6NOfDEtD/87PKkPF+5P45eH4TsA7k/vkBSYrOmtj+CkpGJkju9P4ykN+4UFro/8p9WvsrWuT/6kBmQptXCP4KiXPrL+Lc/YlH7ZfuUuD8899flciy+P61a6/ie6sE/+xcMF0s/vj+6ZrNzioK+P79yDAZgF8I/kt7C4Mpttj+dG9Q6W464PxBV8fi4Q8M/MbUXoANVwD+P+3/DiuTAP4mZ7Io0tsM/VtlJ21HDwj8BugdLhzG6P2lC5T9AarM/S2LXgEw8tT8GsovBKTa6Pw==",
          "dtype": "f8"
         }
        },
        {
         "legendgroup": "United States of America",
         "mode": "lines",
         "name": "United States of America",
         "showlegend": true,
         "type": "scatter",
         "visible": false,
         "x": {
          "bdata": "wQfCB8MHxAfFB8YHxwfIB8kHygfLB8wHzQfOB88H0AfRB9IH0wfUB9UH1gfXB9gH2QfaB9sH3AfdB94H3wfgB+EH4gfjB+QH5QfmBw==",
          "dtype": "i2"
         },
         "y": {
          "bdata": "AAAAAAAA+H+xLPgtcP3LP+m7/WNnHNM/i8qO73i41j9X1WJW7OHXP7DKph+vatQ/nHPcX6Mv0z+J1cEBzFfSPxHDu6Bb+NI/4rNkzES20D90mdPj+b7WP8ycA4EUYNQ/ZV88XXQN0T+6z/GJcgvRP8RqceMgaNM/l/HIdVN80j+YdAW+89/RP4Lv/GqDV9E/H5TvvCR80D/GF1OQtrbSP04Dl8i1F9E/GY1Df7PL0j/dCt+ZnmrUP4FBfpIGd9M/bDP8Z4A40D/ALBtkK9TRPzKPOuaw1NE/uXUAoJLvyj+Xcigkxr/KP18+UK2WxtA/4b1lb1ZnzT9fsJ97p1bRP+lEiPWpVtE/Y2bDcVt40z+e25czaLDNP9hUwX6TltA/E31c0yyP0z//PcxovanQPw==",
          "dtype": "f8"
         }
        },
        {
         "legendgroup": "Argentina",
         "mode": "lines",
         "name": "Argentina",
         "showlegend": true,
         "type": "scatter",
         "visible": false,
         "x": {
          "bdata": "wQfCB8MHxAfFB8YHxwfIB8kHygfLB8wHzQfOB88H0AfRB9IH0wfUB9UH1gfXB9gH2QfaB9sH3AfdB94H3wfgB+EH4gfjB+QH5QfmBw==",
          "dtype": "i2"
         },
         "y": {
          "bdata": "AAAAAAAA+H9jG9681h2EQHKAm2hEwoZAF0JWzWulh0CFnAjIC8+MQClVYdvbjIRAr5NOFSUOg0C4rTUL6Sx/QJlyCcEJ+oFAtd5te/iyg0BJM/VXAm17QMYORmbePYFA7pmTS4jdcUB6p3ZzeGhuQAAAAAAAAPh/cWYgrxMtcEDMp7+xRLdwQOzF/78ehnRABg4xT4uRdkD1YY9KCM11QM5YnhrJrHBAVfPF49zBdEB45RfNOo9xQNpcNYN7ZHFAr+DJQa+ce0B+dkgDx/lwQIU1JC1mTG1AUynbT0meaUAPslfjOvxwQKuJYQHdkHVAm9VzxpRFckD/vRe1vtlmQMXVVE2we2ZAsfjAytTNZ0Dy5bOdmv5hQJaV15/SmmFA4f+qmpvRYUA2CP/XW+9gQA==",
          "dtype": "f8"
         }
        },
        {
         "legendgroup": "Brazil",
         "mode": "lines",
         "name": "Brazil",
         "showlegend": true,
         "type": "scatter",
         "visible": false,
         "x": {
          "bdata": "wQfCB8MHxAfFB8YHxwfIB8kHygfLB8wHzQfOB88H0AfRB9IH0wfUB9UH1gfXB9gH2QfaB9sH3AfdB94H3wfgB+EH4gfjB+QH5QfmBw==",
          "dtype": "i2"
         },
         "y": {
          "bdata": "AAAAAAAA+H+Cn5LyxxPpQBKuperLke1AKnVETacj60BRyo+SoHvsQOSpcm+nbOtAj5qBC6ox50Bo5LzjISLjQK9rSB3FUd5AW3rI2QuK4UC/HMXB7i3lQIjKp6jxh9NAfPHOnbi110DHbSjV6yHZQIdcFhDLWtNAvoZv4nYH0kCL5VyQ8l2oQNdbu32otLJAH8gSxsCkr0A3gLCliEOlQCxmbk9serVAVc8WOgvQqUCwwzhxXLyaQFeUQ12SsaFAW6CJZOpCoEDSitvgdEqZQImem+aeJplA3UVTUKzcjkDAx4YtSOOJQHXvt23leJBAbgjIXtrFh0CpRbWkBCePQCqRBBS6N4hALUrDZ8QpjUDJOf9w9WSBQPt1f/OGEIVAjt3l1sYIkECFeS4ICneBQA==",
          "dtype": "f8"
         }
        },
        {
         "legendgroup": "India",
         "mode": "lines",
         "name": "India",
         "showlegend": true,
         "type": "scatter",
         "visible": false,
         "x": {
          "bdata": "wQfCB8MHxAfFB8YHxwfIB8kHygfLB8wHzQfOB88H0AfRB9IH0wfUB9UH1gfXB9gH2QfaB9sH3AfdB94H3wfgB+EH4gfjB+QH5QfmBw==",
          "dtype": "i2"
         },
         "y": {
          "bdata": "AAAAAAAA+H9cdITEaofsQNn/gy/83uVAi6CpqLRY8kDh0wSYOFDvQDEh67qLZuVAM1mIdL4t1kAMxU4GHLPnQMhtIxgWV91AL8DUY8TR3EBwtKLN7E22QMOxi5QAR8FAIlOB+IWIx0A8BqYRODS5QNGRL2TUvc1At8PiJIJTx0Aspdh6crK4QLSc3gBEKKxAsxalramMrkBqDp5OPNivQCpigUeLxrdA1f6w16zHt0BP3awWjqqsQHFfw3zdj7RApCNLooNVukBdbwb8Uri5QKZgWIDdD6pA1HsIDy80nEATIn4cYRCYQLojOdJFCZ1AwlsQjIlzpkDvPL4wcWmpQPR0ulFJiaZAApZWUsYDp0DWXFfUoQGqQF9fGvEM56BAfHywgzaLlEC536jIKWaTQA==",
          "dtype": "f8"
         }
        },
        {
         "legendgroup": "Thailand",
         "mode": "lines",
         "name": "Thailand",
         "showlegend": true,
         "type": "scatter",
         "visible": false,
         "x": {
          "bdata": "wQfCB8MHxAfFB8YHxwfIB8kHygfLB8wHzQfOB88H0AfRB9IH0wfUB9UH1gfXB9gH2QfaB9sH3AfdB94H3wfgB+EH4gfjB+QH5QfmBw==",
          "dtype": "i2"
         },
         "y": {
          "bdata": "AAAAAAAA+H9Zw8P4GaB3QEBaft2Qr35ASTsdIE13fkAHAnSOf/x4QELNCAQNZoFAGloRXB2ogUAE2ZwQ256DQNOjiObmAINA7fJ80JW3g0AIXOWpNLx9QIR878k204BAFkd8+yfggEBEVGzGOU15QBkGGKNaM3lA8CRLv0P/ekDNYiWHC+t0QJa75Zmmy3ZAtxVGevj1d0DaAxT6D1ZwQAdKKE/jN3pAh9A535WseUAgCi2AnMx1QJSO8sQ9S3JAx5Fjrrf/dUD1mE7zDXB2QFmGgiGFb3JACIdyudgQfUBf2J5CBXR5QJ0Lv4jFpW1AkKiUa1Y7cEBDTuzJbc9wQGyBCZw4sWxAPuQ+IEnmbUA5Z+Wt1BJ0QMk9ysrBGH1AXfjJs6PKekCVSZINRQN2QA==",
          "dtype": "f8"
         }
        },
        {
         "legendgroup": "United States of America",
         "mode": "lines",
         "name": "United States of America",
         "showlegend": true,
         "type": "scatter",
         "visible": false,
         "x": {
          "bdata": "wQfCB8MHxAfFB8YHxwfIB8kHygfLB8wHzQfOB88H0AfRB9IH0wfUB9UH1gfXB9gH2QfaB9sH3AfdB94H3wfgB+EH4gfjB+QH5QfmBw==",
          "dtype": "i2"
         },
         "y": {
          "bdata": "AAAAAAAA+H9WtfHxyLVzQNuolTFiu2tADhpAwp/qZkAuJ6CkICdlQM/DJSmiT2hAIawczMubaUC2yVNoOsNqQApn7iaFsmlAmHL0v51ubUC1/RMIh4ZlQEx0uTIExmdATL286mwBbEBhxGLNC21rQOwpLAxvsGdA9k0i4ZZjaEDgHe8YSt9oQHOb2V6ASWlAzBmIcOZEakAOGV1QidRmQPWJveGR5WhA9Hs3cgSgZkBTVusjEaxkQKxU2tR7pWVAB51NwCRXaUD0XUPdEtBmQCkOlb+sRmZATT+cAq/hbEDVZOu9KHtsQBtFC/VUdWZAML9smhR7aUDTdvx9zg5mQC7NoMkxDGZAHEJmV9+7Y0DpHmpFfcFpQPzh7eiu2GZAaqEsF2IyY0AexWh/ZA9mQA==",
          "dtype": "f8"
         }
        }
       ],
       "layout": {
        "height": 600,
        "legend": {
         "title": {
          "text": "Country"
         },
         "x": 1.03,
         "xanchor": "left",
         "y": 0.8,
         "yanchor": "top"
        },
        "margin": {
         "b": 60,
         "l": 80,
         "r": 160,
         "t": 80
        },
        "template": {
         "data": {
          "bar": [
           {
            "error_x": {
             "color": "#2a3f5f"
            },
            "error_y": {
             "color": "#2a3f5f"
            },
            "marker": {
             "line": {
              "color": "#E5ECF6",
              "width": 0.5
             },
             "pattern": {
              "fillmode": "overlay",
              "size": 10,
              "solidity": 0.2
             }
            },
            "type": "bar"
           }
          ],
          "barpolar": [
           {
            "marker": {
             "line": {
              "color": "#E5ECF6",
              "width": 0.5
             },
             "pattern": {
              "fillmode": "overlay",
              "size": 10,
              "solidity": 0.2
             }
            },
            "type": "barpolar"
           }
          ],
          "carpet": [
           {
            "aaxis": {
             "endlinecolor": "#2a3f5f",
             "gridcolor": "white",
             "linecolor": "white",
             "minorgridcolor": "white",
             "startlinecolor": "#2a3f5f"
            },
            "baxis": {
             "endlinecolor": "#2a3f5f",
             "gridcolor": "white",
             "linecolor": "white",
             "minorgridcolor": "white",
             "startlinecolor": "#2a3f5f"
            },
            "type": "carpet"
           }
          ],
          "choropleth": [
           {
            "colorbar": {
             "outlinewidth": 0,
             "ticks": ""
            },
            "type": "choropleth"
           }
          ],
          "contour": [
           {
            "colorbar": {
             "outlinewidth": 0,
             "ticks": ""
            },
            "colorscale": [
             [
              0,
              "#0d0887"
             ],
             [
              0.1111111111111111,
              "#46039f"
             ],
             [
              0.2222222222222222,
              "#7201a8"
             ],
             [
              0.3333333333333333,
              "#9c179e"
             ],
             [
              0.4444444444444444,
              "#bd3786"
             ],
             [
              0.5555555555555556,
              "#d8576b"
             ],
             [
              0.6666666666666666,
              "#ed7953"
             ],
             [
              0.7777777777777778,
              "#fb9f3a"
             ],
             [
              0.8888888888888888,
              "#fdca26"
             ],
             [
              1,
              "#f0f921"
             ]
            ],
            "type": "contour"
           }
          ],
          "contourcarpet": [
           {
            "colorbar": {
             "outlinewidth": 0,
             "ticks": ""
            },
            "type": "contourcarpet"
           }
          ],
          "heatmap": [
           {
            "colorbar": {
             "outlinewidth": 0,
             "ticks": ""
            },
            "colorscale": [
             [
              0,
              "#0d0887"
             ],
             [
              0.1111111111111111,
              "#46039f"
             ],
             [
              0.2222222222222222,
              "#7201a8"
             ],
             [
              0.3333333333333333,
              "#9c179e"
             ],
             [
              0.4444444444444444,
              "#bd3786"
             ],
             [
              0.5555555555555556,
              "#d8576b"
             ],
             [
              0.6666666666666666,
              "#ed7953"
             ],
             [
              0.7777777777777778,
              "#fb9f3a"
             ],
             [
              0.8888888888888888,
              "#fdca26"
             ],
             [
              1,
              "#f0f921"
             ]
            ],
            "type": "heatmap"
           }
          ],
          "histogram": [
           {
            "marker": {
             "pattern": {
              "fillmode": "overlay",
              "size": 10,
              "solidity": 0.2
             }
            },
            "type": "histogram"
           }
          ],
          "histogram2d": [
           {
            "colorbar": {
             "outlinewidth": 0,
             "ticks": ""
            },
            "colorscale": [
             [
              0,
              "#0d0887"
             ],
             [
              0.1111111111111111,
              "#46039f"
             ],
             [
              0.2222222222222222,
              "#7201a8"
             ],
             [
              0.3333333333333333,
              "#9c179e"
             ],
             [
              0.4444444444444444,
              "#bd3786"
             ],
             [
              0.5555555555555556,
              "#d8576b"
             ],
             [
              0.6666666666666666,
              "#ed7953"
             ],
             [
              0.7777777777777778,
              "#fb9f3a"
             ],
             [
              0.8888888888888888,
              "#fdca26"
             ],
             [
              1,
              "#f0f921"
             ]
            ],
            "type": "histogram2d"
           }
          ],
          "histogram2dcontour": [
           {
            "colorbar": {
             "outlinewidth": 0,
             "ticks": ""
            },
            "colorscale": [
             [
              0,
              "#0d0887"
             ],
             [
              0.1111111111111111,
              "#46039f"
             ],
             [
              0.2222222222222222,
              "#7201a8"
             ],
             [
              0.3333333333333333,
              "#9c179e"
             ],
             [
              0.4444444444444444,
              "#bd3786"
             ],
             [
              0.5555555555555556,
              "#d8576b"
             ],
             [
              0.6666666666666666,
              "#ed7953"
             ],
             [
              0.7777777777777778,
              "#fb9f3a"
             ],
             [
              0.8888888888888888,
              "#fdca26"
             ],
             [
              1,
              "#f0f921"
             ]
            ],
            "type": "histogram2dcontour"
           }
          ],
          "mesh3d": [
           {
            "colorbar": {
             "outlinewidth": 0,
             "ticks": ""
            },
            "type": "mesh3d"
           }
          ],
          "parcoords": [
           {
            "line": {
             "colorbar": {
              "outlinewidth": 0,
              "ticks": ""
             }
            },
            "type": "parcoords"
           }
          ],
          "pie": [
           {
            "automargin": true,
            "type": "pie"
           }
          ],
          "scatter": [
           {
            "fillpattern": {
             "fillmode": "overlay",
             "size": 10,
             "solidity": 0.2
            },
            "type": "scatter"
           }
          ],
          "scatter3d": [
           {
            "line": {
             "colorbar": {
              "outlinewidth": 0,
              "ticks": ""
             }
            },
            "marker": {
             "colorbar": {
              "outlinewidth": 0,
              "ticks": ""
             }
            },
            "type": "scatter3d"
           }
          ],
          "scattercarpet": [
           {
            "marker": {
             "colorbar": {
              "outlinewidth": 0,
              "ticks": ""
             }
            },
            "type": "scattercarpet"
           }
          ],
          "scattergeo": [
           {
            "marker": {
             "colorbar": {
              "outlinewidth": 0,
              "ticks": ""
             }
            },
            "type": "scattergeo"
           }
          ],
          "scattergl": [
           {
            "marker": {
             "colorbar": {
              "outlinewidth": 0,
              "ticks": ""
             }
            },
            "type": "scattergl"
           }
          ],
          "scattermap": [
           {
            "marker": {
             "colorbar": {
              "outlinewidth": 0,
              "ticks": ""
             }
            },
            "type": "scattermap"
           }
          ],
          "scattermapbox": [
           {
            "marker": {
             "colorbar": {
              "outlinewidth": 0,
              "ticks": ""
             }
            },
            "type": "scattermapbox"
           }
          ],
          "scatterpolar": [
           {
            "marker": {
             "colorbar": {
              "outlinewidth": 0,
              "ticks": ""
             }
            },
            "type": "scatterpolar"
           }
          ],
          "scatterpolargl": [
           {
            "marker": {
             "colorbar": {
              "outlinewidth": 0,
              "ticks": ""
             }
            },
            "type": "scatterpolargl"
           }
          ],
          "scatterternary": [
           {
            "marker": {
             "colorbar": {
              "outlinewidth": 0,
              "ticks": ""
             }
            },
            "type": "scatterternary"
           }
          ],
          "surface": [
           {
            "colorbar": {
             "outlinewidth": 0,
             "ticks": ""
            },
            "colorscale": [
             [
              0,
              "#0d0887"
             ],
             [
              0.1111111111111111,
              "#46039f"
             ],
             [
              0.2222222222222222,
              "#7201a8"
             ],
             [
              0.3333333333333333,
              "#9c179e"
             ],
             [
              0.4444444444444444,
              "#bd3786"
             ],
             [
              0.5555555555555556,
              "#d8576b"
             ],
             [
              0.6666666666666666,
              "#ed7953"
             ],
             [
              0.7777777777777778,
              "#fb9f3a"
             ],
             [
              0.8888888888888888,
              "#fdca26"
             ],
             [
              1,
              "#f0f921"
             ]
            ],
            "type": "surface"
           }
          ],
          "table": [
           {
            "cells": {
             "fill": {
              "color": "#EBF0F8"
             },
             "line": {
              "color": "white"
             }
            },
            "header": {
             "fill": {
              "color": "#C8D4E3"
             },
             "line": {
              "color": "white"
             }
            },
            "type": "table"
           }
          ]
         },
         "layout": {
          "annotationdefaults": {
           "arrowcolor": "#2a3f5f",
           "arrowhead": 0,
           "arrowwidth": 1
          },
          "autotypenumbers": "strict",
          "coloraxis": {
           "colorbar": {
            "outlinewidth": 0,
            "ticks": ""
           }
          },
          "colorscale": {
           "diverging": [
            [
             0,
             "#8e0152"
            ],
            [
             0.1,
             "#c51b7d"
            ],
            [
             0.2,
             "#de77ae"
            ],
            [
             0.3,
             "#f1b6da"
            ],
            [
             0.4,
             "#fde0ef"
            ],
            [
             0.5,
             "#f7f7f7"
            ],
            [
             0.6,
             "#e6f5d0"
            ],
            [
             0.7,
             "#b8e186"
            ],
            [
             0.8,
             "#7fbc41"
            ],
            [
             0.9,
             "#4d9221"
            ],
            [
             1,
             "#276419"
            ]
           ],
           "sequential": [
            [
             0,
             "#0d0887"
            ],
            [
             0.1111111111111111,
             "#46039f"
            ],
            [
             0.2222222222222222,
             "#7201a8"
            ],
            [
             0.3333333333333333,
             "#9c179e"
            ],
            [
             0.4444444444444444,
             "#bd3786"
            ],
            [
             0.5555555555555556,
             "#d8576b"
            ],
            [
             0.6666666666666666,
             "#ed7953"
            ],
            [
             0.7777777777777778,
             "#fb9f3a"
            ],
            [
             0.8888888888888888,
             "#fdca26"
            ],
            [
             1,
             "#f0f921"
            ]
           ],
           "sequentialminus": [
            [
             0,
             "#0d0887"
            ],
            [
             0.1111111111111111,
             "#46039f"
            ],
            [
             0.2222222222222222,
             "#7201a8"
            ],
            [
             0.3333333333333333,
             "#9c179e"
            ],
            [
             0.4444444444444444,
             "#bd3786"
            ],
            [
             0.5555555555555556,
             "#d8576b"
            ],
            [
             0.6666666666666666,
             "#ed7953"
            ],
            [
             0.7777777777777778,
             "#fb9f3a"
            ],
            [
             0.8888888888888888,
             "#fdca26"
            ],
            [
             1,
             "#f0f921"
            ]
           ]
          },
          "colorway": [
           "#636efa",
           "#EF553B",
           "#00cc96",
           "#ab63fa",
           "#FFA15A",
           "#19d3f3",
           "#FF6692",
           "#B6E880",
           "#FF97FF",
           "#FECB52"
          ],
          "font": {
           "color": "#2a3f5f"
          },
          "geo": {
           "bgcolor": "white",
           "lakecolor": "white",
           "landcolor": "#E5ECF6",
           "showlakes": true,
           "showland": true,
           "subunitcolor": "white"
          },
          "hoverlabel": {
           "align": "left"
          },
          "hovermode": "closest",
          "mapbox": {
           "style": "light"
          },
          "paper_bgcolor": "white",
          "plot_bgcolor": "#E5ECF6",
          "polar": {
           "angularaxis": {
            "gridcolor": "white",
            "linecolor": "white",
            "ticks": ""
           },
           "bgcolor": "#E5ECF6",
           "radialaxis": {
            "gridcolor": "white",
            "linecolor": "white",
            "ticks": ""
           }
          },
          "scene": {
           "xaxis": {
            "backgroundcolor": "#E5ECF6",
            "gridcolor": "white",
            "gridwidth": 2,
            "linecolor": "white",
            "showbackground": true,
            "ticks": "",
            "zerolinecolor": "white"
           },
           "yaxis": {
            "backgroundcolor": "#E5ECF6",
            "gridcolor": "white",
            "gridwidth": 2,
            "linecolor": "white",
            "showbackground": true,
            "ticks": "",
            "zerolinecolor": "white"
           },
           "zaxis": {
            "backgroundcolor": "#E5ECF6",
            "gridcolor": "white",
            "gridwidth": 2,
            "linecolor": "white",
            "showbackground": true,
            "ticks": "",
            "zerolinecolor": "white"
           }
          },
          "shapedefaults": {
           "line": {
            "color": "#2a3f5f"
           }
          },
          "ternary": {
           "aaxis": {
            "gridcolor": "white",
            "linecolor": "white",
            "ticks": ""
           },
           "baxis": {
            "gridcolor": "white",
            "linecolor": "white",
            "ticks": ""
           },
           "bgcolor": "#E5ECF6",
           "caxis": {
            "gridcolor": "white",
            "linecolor": "white",
            "ticks": ""
           }
          },
          "title": {
           "x": 0.05
          },
          "xaxis": {
           "automargin": true,
           "gridcolor": "white",
           "linecolor": "white",
           "ticks": "",
           "title": {
            "standoff": 15
           },
           "zerolinecolor": "white",
           "zerolinewidth": 2
          },
          "yaxis": {
           "automargin": true,
           "gridcolor": "white",
           "linecolor": "white",
           "ticks": "",
           "title": {
            "standoff": 15
           },
           "zerolinecolor": "white",
           "zerolinewidth": 2
          }
         }
        },
        "title": {
         "text": "Agricultural Emissions & Exports (1985–2020)"
        },
        "updatemenus": [
         {
          "bgcolor": "white",
          "buttons": [
           {
            "args": [
             {
              "visible": [
               true,
               true,
               true,
               true,
               true,
               false,
               false,
               false,
               false,
               false,
               false,
               false,
               false,
               false,
               false,
               false,
               false,
               false,
               false,
               false,
               false,
               false,
               false,
               false,
               false
              ]
             },
             {
              "yaxis": {
               "title": "Total Emissions (kt CO2eq)"
              }
             }
            ],
            "label": "Total Emissions (kt CO2eq)",
            "method": "update"
           },
           {
            "args": [
             {
              "visible": [
               false,
               false,
               false,
               false,
               false,
               true,
               true,
               true,
               true,
               true,
               false,
               false,
               false,
               false,
               false,
               false,
               false,
               false,
               false,
               false,
               false,
               false,
               false,
               false,
               false
              ]
             },
             {
              "yaxis": {
               "title": "Emissions per Capita (tonnes CO2eq)"
              }
             }
            ],
            "label": "Emissions per Capita (tonnes CO2eq)",
            "method": "update"
           },
           {
            "args": [
             {
              "visible": [
               false,
               false,
               false,
               false,
               false,
               false,
               false,
               false,
               false,
               false,
               true,
               true,
               true,
               true,
               true,
               false,
               false,
               false,
               false,
               false,
               false,
               false,
               false,
               false,
               false
              ]
             },
             {
              "yaxis": {
               "title": "Total Export Volume (tonnes)"
              }
             }
            ],
            "label": "Total Export Volume (tonnes)",
            "method": "update"
           },
           {
            "args": [
             {
              "visible": [
               false,
               false,
               false,
               false,
               false,
               false,
               false,
               false,
               false,
               false,
               false,
               false,
               false,
               false,
               false,
               true,
               true,
               true,
               true,
               true,
               false,
               false,
               false,
               false,
               false
              ]
             },
             {
              "yaxis": {
               "title": "Export per Capita (tonnes)"
              }
             }
            ],
            "label": "Export per Capita (tonnes)",
            "method": "update"
           },
           {
            "args": [
             {
              "visible": [
               false,
               false,
               false,
               false,
               false,
               false,
               false,
               false,
               false,
               false,
               false,
               false,
               false,
               false,
               false,
               false,
               false,
               false,
               false,
               false,
               true,
               true,
               true,
               true,
               true
              ]
             },
             {
              "yaxis": {
               "title": "Emissions per Export Tonne (kg CO2eq/tonne)"
              }
             }
            ],
            "label": "Emissions per Export Tonne (kg CO2eq/tonne)",
            "method": "update"
           }
          ],
          "direction": "down",
          "font": {
           "size": 11
          },
          "pad": {
           "r": 0,
           "t": 0
          },
          "showactive": true,
          "x": 1.03,
          "xanchor": "left",
          "y": 0.95,
          "yanchor": "top"
         }
        ],
        "width": 900,
        "xaxis": {
         "title": {
          "text": "Year"
         }
        },
        "yaxis": {
         "title": {
          "text": "Total Emissions (kt CO2eq)"
         }
        }
       }
      }
     },
     "metadata": {},
     "output_type": "display_data"
    }
   ],
   "source": [
    "import pandas as pd\n",
    "import plotly.graph_objects as go\n",
    "\n",
    "\n",
    "emissions_animal = pd.read_csv(\"datasets/FAOSTAT_data_emissions_animal_6-23-2025.csv\")\n",
    "emissions_crops = pd.read_csv(\"datasets/FAOSTAT_data_emissions_crops_6-23-2025-2.csv\")\n",
    "export_matrix = pd.read_csv(\"datasets/matrix_export.csv\")\n",
    "population = pd.read_csv(\"datasets/Population_E_All_Data_(Normalized).csv\")\n",
    "\n",
    "\n",
    "population_clean = population[\n",
    "    (population[\"Element\"] == \"Total Population - Both sexes\") &\n",
    "    (population[\"Area\"].isin([\"Argentina\", \"Brazil\", \"India\", \"Thailand\", \"Netherlands\", \"United States of America\"]))\n",
    "][[\"Area\", \"Year\", \"Value\"]].rename(columns={\"Value\": \"Population (1000s)\"})\n",
    "population_clean[\"Year\"] = population_clean[\"Year\"].astype(int)\n",
    "\n",
    "\n",
    "animal = emissions_animal[\n",
    "    emissions_animal[\"Area\"].isin([\"Argentina\", \"Brazil\", \"India\", \"Thailand\", \"Netherlands\", \"United States of America\"]) &\n",
    "    emissions_animal[\"Element\"].str.contains(\"Emissions\")\n",
    "]\n",
    "crops = emissions_crops[\n",
    "    emissions_crops[\"Area\"].isin([\"Argentina\", \"Brazil\", \"India\", \"Thailand\", \"Netherlands\", \"United States of America\"]) &\n",
    "    emissions_crops[\"Element\"].str.contains(\"Emissions\")\n",
    "]\n",
    "\n",
    "emissions_all = pd.concat([animal, crops])\n",
    "emissions_all[\"Year\"] = emissions_all[\"Year\"].astype(int)\n",
    "emissions_all = emissions_all.groupby([\"Area\", \"Year\"])[\"Value\"].sum().reset_index()\n",
    "emissions_all.rename(columns={\"Value\": \"Total Emissions (kt CO2eq)\"}, inplace=True)\n",
    "\n",
    "\n",
    "export_volume = export_matrix[\n",
    "    (export_matrix[\"Element\"] == \"Export quantity\") &\n",
    "    (export_matrix[\"Reporter Countries\"].isin([\"Argentina\", \"Brazil\", \"India\", \"Thailand\", \"Netherlands\", \"United States of America\"]))\n",
    "][[\"Reporter Countries\", \"Year\", \"Value\"]]\n",
    "export_volume = export_volume.groupby([\"Reporter Countries\", \"Year\"]).sum().reset_index()\n",
    "export_volume.rename(columns={\n",
    "    \"Reporter Countries\": \"Area\",\n",
    "    \"Value\": \"Total Export Volume (tonnes)\"\n",
    "}, inplace=True)\n",
    "export_volume[\"Year\"] = export_volume[\"Year\"].astype(int)\n",
    "\n",
    "\n",
    "df = emissions_all.merge(population_clean, on=[\"Area\", \"Year\"], how=\"left\")\n",
    "df = df.merge(export_volume, on=[\"Area\", \"Year\"], how=\"left\")\n",
    "\n",
    "\n",
    "df = df[df[\"Year\"] >= 1985]\n",
    "\n",
    "\n",
    "df[\"Emissions per Capita (tonnes CO2eq)\"] = (df[\"Total Emissions (kt CO2eq)\"] * 1000) / (df[\"Population (1000s)\"] * 1000)\n",
    "df[\"Export per Capita (tonnes)\"] = df[\"Total Export Volume (tonnes)\"] / (df[\"Population (1000s)\"] * 1000)\n",
    "df[\"Emissions per Export Tonne (kg CO2eq/tonne)\"] = (df[\"Total Emissions (kt CO2eq)\"] * 1_000_000) / df[\"Total Export Volume (tonnes)\"]\n",
    "\n",
    "\n",
    "metrics = {\n",
    "    \"Total Emissions (kt CO2eq)\": \"Total Emissions (kt CO2eq)\",\n",
    "    \"Emissions per Capita (tonnes CO2eq)\": \"Emissions per Capita (tonnes CO2eq)\",\n",
    "    \"Total Export Volume (tonnes)\": \"Total Export Volume (tonnes)\",\n",
    "    \"Export per Capita (tonnes)\": \"Export per Capita (tonnes)\",\n",
    "    \"Emissions per Export Tonne (kg CO2eq/tonne)\": \"Emissions per Export Tonne (kg CO2eq/tonne)\"\n",
    "}\n",
    "\n",
    "\n",
    "fig = go.Figure()\n",
    "for metric_index, (metric_name, col) in enumerate(metrics.items()):\n",
    "    for country in df[\"Area\"].unique():\n",
    "        subset = df[df[\"Area\"] == country]\n",
    "        visible = (metric_index == 0)\n",
    "        fig.add_trace(go.Scatter(\n",
    "            x=subset[\"Year\"],\n",
    "            y=subset[col],\n",
    "            mode='lines',\n",
    "            name=country,\n",
    "            visible=visible,\n",
    "            legendgroup=country,\n",
    "            showlegend=True\n",
    "        ))\n",
    "\n",
    "\n",
    "n_countries = len(df[\"Area\"].unique())\n",
    "dropdown_buttons = []\n",
    "for i, (metric_name, _) in enumerate(metrics.items()):\n",
    "    visibility = [False] * len(metrics) * n_countries\n",
    "    for j in range(n_countries):\n",
    "        visibility[i * n_countries + j] = True\n",
    "    dropdown_buttons.append(dict(\n",
    "        label=metric_name,\n",
    "        method=\"update\",\n",
    "        args=[{\"visible\": visibility},\n",
    "              {\"yaxis\": {\"title\": metric_name}}]\n",
    "    ))\n",
    "\n",
    "fig.update_layout(\n",
    "    updatemenus=[{\n",
    "        \"buttons\": dropdown_buttons,\n",
    "        \"direction\": \"down\",\n",
    "        \"showactive\": True,\n",
    "        \"x\": 1.03,\n",
    "        \"xanchor\": \"left\",\n",
    "        \"y\": 0.95,\n",
    "        \"yanchor\": \"top\",\n",
    "        \"pad\": {\"r\": 0, \"t\": 0},\n",
    "        \"font\": {\"size\": 11},\n",
    "        \"bgcolor\": \"white\"\n",
    "    }],\n",
    "    title=\"Agricultural Emissions & Exports (1985–2020)\",\n",
    "    xaxis_title=\"Year\",\n",
    "    yaxis_title=\"Total Emissions (kt CO2eq)\",\n",
    "    legend_title=\"Country\",\n",
    "    legend=dict(\n",
    "        x=1.03,\n",
    "        xanchor=\"left\",\n",
    "        y=0.8,\n",
    "        yanchor=\"top\"\n",
    "    ),\n",
    "    margin=dict(r=160, l=80, t=80, b=60),\n",
    "    height=600,\n",
    "    width=900\n",
    ")\n",
    "\n",
    "\n",
    "\n",
    "\n",
    "fig.show()\n",
    "\n",
    "\n"
   ]
  },
  {
   "cell_type": "markdown",
   "id": "50110432",
   "metadata": {},
   "source": [
    "De geografische ligging van een land (en de bijbehorende klimaatzones) beïnvloedt welke gewassen en dieren men produceert — en dat heeft directe impact op de landbouwgerelateerde CO₂-uitstoot per capita."
   ]
  },
  {
   "cell_type": "code",
   "execution_count": null,
   "id": "b0cdcdb1",
   "metadata": {},
   "outputs": [
    {
     "data": {
      "application/vnd.plotly.v1+json": {
       "config": {
        "plotlyServerURL": "https://plot.ly"
       },
       "data": [
        {
         "hovertemplate": "Land=Brazil<br>Year=%{x}<br>Uitstoot per Capita (tonnes CO₂eq)=%{y}<extra></extra>",
         "legendgroup": "Brazil",
         "line": {
          "color": "#636efa",
          "dash": "solid"
         },
         "marker": {
          "symbol": "circle"
         },
         "mode": "lines",
         "name": "Brazil",
         "orientation": "v",
         "showlegend": true,
         "type": "scatter",
         "x": {
          "bdata": "wQfCB8MHxAfFB8YHxwfIB8kHygfLB8wHzQfOB88H0AfRB9IH0wfUB9UH1gfXB9gH2QfaB9sH3AfdB94H3wfgB+EH4gfjB+QH5QfmBw==",
          "dtype": "i2"
         },
         "xaxis": "x",
         "y": {
          "bdata": "PvZKR0m490BxDJqf4+b3QABZZIDKGPhAxbG2IQIh+EBc+ix2BX34QMaVpN/TNfhAw9HeXHub+EDEKYjGzMP4QDVA4lZxU/hAvNROsxSK+EA+2ZppSbb4QPPLrR5PoPZAMF4XR1nj9kBGS2v/Ncn2QGzRMUZO4fZA2jm4vTpE90C9uK0f5d/3QH7uLyNRaPhALTZpoKh7+UBLdw2TxSD6QLlEL/qgR/pA/R65X9kJ+kAtl7Tigrf5QFh2r3shFPpAAKkCmrEs+kBymVRLIpH6QIU5ku4x1PpAY/YLbhle+kBUt9QBGHP6QHv+P11nn/pARiKp7+jD+kC51zjKKIT6QEd40xGhj/pACGmYJjw7+kCFUTnpmkn6QPCLyiwKkPpA2LRhV8cf+0BUtfaUAhD8QA==",
          "dtype": "f8"
         },
         "yaxis": "y"
        },
        {
         "hovertemplate": "Land=India<br>Year=%{x}<br>Uitstoot per Capita (tonnes CO₂eq)=%{y}<extra></extra>",
         "legendgroup": "India",
         "line": {
          "color": "#EF553B",
          "dash": "solid"
         },
         "marker": {
          "symbol": "circle"
         },
         "mode": "lines",
         "name": "India",
         "orientation": "v",
         "showlegend": true,
         "type": "scatter",
         "x": {
          "bdata": "wQfCB8MHxAfFB8YHxwfIB8kHygfLB8wHzQfOB88H0AfRB9IH0wfUB9UH1gfXB9gH2QfaB9sH3AfdB94H3wfgB+EH4gfjB+QH5QfmBw==",
          "dtype": "i2"
         },
         "xaxis": "x",
         "y": {
          "bdata": "P8HfCb1300B6rySRolTTQEeuYojC89JAJ6lPfXEU00AErbtMkArTQAgh76jfwdJAepXodDCI0kCZmZml/nbSQP2J1X11S9JAI4xiX1kZ0kAhoT4pDuXRQPzogr0TxNFARbP7CaOX0UAgg+M1LlnRQNbiSzCLLNFAPRZKnnLm0EATop3pE7zQQKscaL1lMtBAnniSa6NT0EBqAdWEi1DQQDuJ+uNiddBAI9L4oCeM0EB+hi2AKujQQGAjpxKkuNBAiPTJBV5S0ED2Y09ayU3QQNXErPVrPtBAONMqcYMN0EDMsG+i2LLPQAPgL1odWM9A1oNf4RZHz0AcfzmnRY7PQGcr50WMvs9AF7jSumTHz0CWL+IPCsrPQKeSCfNeEtBA1N1iWdH4z0BPbjosy8vPQA==",
          "dtype": "f8"
         },
         "yaxis": "y"
        },
        {
         "hovertemplate": "Land=Indonesia<br>Year=%{x}<br>Uitstoot per Capita (tonnes CO₂eq)=%{y}<extra></extra>",
         "legendgroup": "Indonesia",
         "line": {
          "color": "#00cc96",
          "dash": "solid"
         },
         "marker": {
          "symbol": "circle"
         },
         "mode": "lines",
         "name": "Indonesia",
         "orientation": "v",
         "showlegend": true,
         "type": "scatter",
         "x": {
          "bdata": "wQfCB8MHxAfFB8YHxwfIB8kHygfLB8wHzQfOB88H0AfRB9IH0wfUB9UH1gfXB9gH2QfaB9sH3AfdB94H3wfgB+EH4gfjB+QH5QfmBw==",
          "dtype": "i2"
         },
         "xaxis": "x",
         "y": {
          "bdata": "QW/jXHr2zUA25V4vM47PQN5NwtpTmM9AV2xVmsAK0EA03Uh5SYzQQFb6A2UNRNFAocHTfezk0UB3Fa5SKvPSQFIguwqK0tJAXBFl4DP200A8pJJ0kbPUQFCzg+ULbtVAJkZtW4b300Dja6F6O6rQQDOCH6HK189Abcl1xLZz0UCPOS4LB+zRQLZDZL9N/tNA3CAWpMth00BuXTnYcuLSQFiyUllc5NJAtdcYWFHu0kCPMCO4x7XTQDiFDCIDytNAZMW2Uerg1EAkR6U8LcTUQNjKbusCKdZALWQew1Q910AGfhdrKA/XQNRpFCHC6NdA4vqwx9mJ2EBXcZHTg9/YQFiewcaVD+FAKSekZaiq4UBtesUSQLfhQP+RBiNP1uBA2vY9QbYp30AKfdWbeIvgQA==",
          "dtype": "f8"
         },
         "yaxis": "y"
        },
        {
         "hovertemplate": "Land=Kenya<br>Year=%{x}<br>Uitstoot per Capita (tonnes CO₂eq)=%{y}<extra></extra>",
         "legendgroup": "Kenya",
         "line": {
          "color": "#ab63fa",
          "dash": "solid"
         },
         "marker": {
          "symbol": "circle"
         },
         "mode": "lines",
         "name": "Kenya",
         "orientation": "v",
         "showlegend": true,
         "type": "scatter",
         "x": {
          "bdata": "wQfCB8MHxAfFB8YHxwfIB8kHygfLB8wHzQfOB88H0AfRB9IH0wfUB9UH1gfXB9gH2QfaB9sH3AfdB94H3wfgB+EH4gfjB+QH5QfmBw==",
          "dtype": "i2"
         },
         "xaxis": "x",
         "y": {
          "bdata": "sepKwTJv8ECAJabjwzTwQCHYZF4Q0u5AbMcBWJR88EDPMfWxHrnwQECz7sITbPBALkHgGbag7kAsOrBldaLtQLTE5PtLZexAOErdcozH60AamKlAifbqQPGGT6cbqehAQD6hMBEu6EAVw7Q/uCPnQMtbxbp1juhAvGFLwhPq5UCJDbuaSl7lQIEUGU3Yz+VASH4WVZda5kBmv51BY1HnQFZgnPxpJOZAo2njfYpH5EAZTdmkYJbwQKYwj10sUvBA5V5SDUem7kA97biL7wHuQF2RCZsE6u1AIeY7BFy560DLxbBpfkHrQHiXIwP7butAmK08qe2z6kBWH6JRY2LsQMw77WwY+elAbmIJvMmZ6kBVpAXbJOHuQL117pxBz/BAzHMVz+jH7UAZxgSIDTLuQA==",
          "dtype": "f8"
         },
         "yaxis": "y"
        },
        {
         "hovertemplate": "Land=Netherlands (Kingdom of the)<br>Year=%{x}<br>Uitstoot per Capita (tonnes CO₂eq)=%{y}<extra></extra>",
         "legendgroup": "Netherlands (Kingdom of the)",
         "line": {
          "color": "#FFA15A",
          "dash": "solid"
         },
         "marker": {
          "symbol": "circle"
         },
         "mode": "lines",
         "name": "Netherlands (Kingdom of the)",
         "orientation": "v",
         "showlegend": true,
         "type": "scatter",
         "x": {
          "bdata": "wQfCB8MHxAfFB8YHxwfIB8kHygfLB8wHzQfOB88H0AfRB9IH0wfUB9UH1gfXB9gH2QfaB9sH3AfdB94H3wfgB+EH4gfjB+QH5QfmBw==",
          "dtype": "i2"
         },
         "xaxis": "x",
         "y": {
          "bdata": "ya5hW1XV9UCNHJfbper1QP2pl4xmr/VApF2xtMHX9EB466fysqL0QCl9DRB57fRAXKHVYKfm9ECoFiYV4tz0QJxQ5Ts3V/RA9v3/URvR80BvZmjg2q3zQAcrCUIgVvNA37VXeAnM8kDUR1GyGkHyQBY8qVkBiPJAjY/2ToTy8UDWN+/8YI3xQOLl33tzo/BAUbtXTxAx70Crgj8htoTvQHFrthLYD/BAM+I6FsWg70AB1XK0RRjwQInM+08IqfBAvXzYH+2y8EBTTHucptjwQKNdAYOffPBAXxihqPVC8EDXEs2UJYvwQDm/c7+c7vBAArz/Fvtw8UCW9e9eJUPxQK0w9HG4gvBATHL+BG8Z70Dh6NJnCv7uQAib1cNmfu5A7qTIR5+b7UC+frbVi4btQA==",
          "dtype": "f8"
         },
         "yaxis": "y"
        },
        {
         "hovertemplate": "Land=Nigeria<br>Year=%{x}<br>Uitstoot per Capita (tonnes CO₂eq)=%{y}<extra></extra>",
         "legendgroup": "Nigeria",
         "line": {
          "color": "#19d3f3",
          "dash": "solid"
         },
         "marker": {
          "symbol": "circle"
         },
         "mode": "lines",
         "name": "Nigeria",
         "orientation": "v",
         "showlegend": true,
         "type": "scatter",
         "x": {
          "bdata": "wQfCB8MHxAfFB8YHxwfIB8kHygfLB8wHzQfOB88H0AfRB9IH0wfUB9UH1gfXB9gH2QfaB9sH3AfdB94H3wfgB+EH4gfjB+QH5QfmBw==",
          "dtype": "i2"
         },
         "xaxis": "x",
         "y": {
          "bdata": "iNmMjBGp1UAXyq68pZfWQL6s/LUMAddAYaThdwpH10BnVN81oPrXQCbf3tSBn9dAzAUMPSxn10Bzqj36ai/XQNARfYMjc9dA0I4XjozH10DvVUAM0zfYQG1MrFaZOthAtMnr2xiW2EAp3cTYVu3YQMqSYns+TdlAqpkyhPc+2UDx558YxYzZQKLGxD+jotlALLxX+oNQ2UBDuUjaOWzZQMvlhsqga9lATCW702By2UADnL5xnCzZQLyhcc5VENlAjgzBT2As2ECGL3qeYj/YQBuPLotwcdlA+6O7Wzls2UBdLwhxNufYQAf+DlOABtlAwiU5T0ik2EBPgnpIhB/ZQD/xRYBSHdlAjckx9XIJ2UAVatbP7fzYQNpEoBUYEdlAie06EXUk2UAdB8jdpxPZQA==",
          "dtype": "f8"
         },
         "yaxis": "y"
        },
        {
         "hovertemplate": "Land=South Africa<br>Year=%{x}<br>Uitstoot per Capita (tonnes CO₂eq)=%{y}<extra></extra>",
         "legendgroup": "South Africa",
         "line": {
          "color": "#FF6692",
          "dash": "solid"
         },
         "marker": {
          "symbol": "circle"
         },
         "mode": "lines",
         "name": "South Africa",
         "orientation": "v",
         "showlegend": true,
         "type": "scatter",
         "x": {
          "bdata": "wQfCB8MHxAfFB8YHxwfIB8kHygfLB8wHzQfOB88H0AfRB9IH0wfUB9UH1gfXB9gH2QfaB9sH3AfdB94H3wfgB+EH4gfjB+QH5QfmBw==",
          "dtype": "i2"
         },
         "xaxis": "x",
         "y": {
          "bdata": "k2DnCFZC6ECBR2pBv4vnQFajjD9TLOdAw/GTmYW05kDyRCp8genmQATM/1m9hudAGyTQKJE050DR+5QGu9PlQLpDUq6KYuVAdlEdy6wR5UCdWJ9ps0LkQPLDbuRHEuVA3rmZceQt5UBBfqmgXM/kQC7Yd2Skg+RATYNV1B/U5ECFRY/SAn7kQFOocTmJJ+RAcgOAWgud40B6ql3yl1jjQFsR6xUfHeNA9ppkGLZs4kCN+dJHT6ziQJxk34n/cuNAnPIv3+1F40CSf3LsJR7jQAX0QnqRwOJAcRuFC4W04kANNzbA5dbhQMKeqe4Do+FAKiCFIm/g4ECOYzt+ZEHgQHlRvKzFd+BAZ2w4XovM30A3fjq8nqLeQDuX5SXHTN5ADjB9yZXp3UChdMFAXTDdQA==",
          "dtype": "f8"
         },
         "yaxis": "y"
        },
        {
         "hovertemplate": "Land=United States of America<br>Year=%{x}<br>Uitstoot per Capita (tonnes CO₂eq)=%{y}<extra></extra>",
         "legendgroup": "United States of America",
         "line": {
          "color": "#B6E880",
          "dash": "solid"
         },
         "marker": {
          "symbol": "circle"
         },
         "mode": "lines",
         "name": "United States of America",
         "orientation": "v",
         "showlegend": true,
         "type": "scatter",
         "x": {
          "bdata": "wQfCB8MHxAfFB8YHxwfIB8kHygfLB8wHzQfOB88H0AfRB9IH0wfUB9UH1gfXB9gH2QfaB9sH3AfdB94H3wfgB+EH4gfjB+QH5QfmBw==",
          "dtype": "i2"
         },
         "xaxis": "x",
         "y": {
          "bdata": "j1thIPve8UAV6iiBzynxQEfgj3mVtfBAWHVm76GN70Bt15t8WVnwQFUP1CE1k/BAkmLDGlg+7UA+8av3snXuQI4Dz4ME6OxAtKbU7bG27kCcbZDsDHjtQI4faysIWu5AUZoaG4E77kDLkzHSM/XtQE9hRVt0Tu1AyzHoyPAe7UDkL08nYZDsQG99pdjw5OtADFFGuvJK7EC2+yyduMnsQLWft+43Y+xAiCUrfwUD7EBHKkvrtpHsQAT5d1Y8j+xAEG9VSZYF7EDJMDE1LH7rQPUulI3W0OpAe8jkrpkT6kDdEhC1FqjqQHB39/vko+pA7gTtJp1t6kB30RdjB5PrQDnnRV0p4epAij6bV0LU6kBgUiEWRC7qQJGm551rVepA7ofiQiRy6kDkNSntX5/pQA==",
          "dtype": "f8"
         },
         "yaxis": "y"
        }
       ],
       "layout": {
        "height": 600,
        "legend": {
         "title": {
          "text": "Land"
         },
         "tracegroupgap": 0
        },
        "template": {
         "data": {
          "bar": [
           {
            "error_x": {
             "color": "#2a3f5f"
            },
            "error_y": {
             "color": "#2a3f5f"
            },
            "marker": {
             "line": {
              "color": "#E5ECF6",
              "width": 0.5
             },
             "pattern": {
              "fillmode": "overlay",
              "size": 10,
              "solidity": 0.2
             }
            },
            "type": "bar"
           }
          ],
          "barpolar": [
           {
            "marker": {
             "line": {
              "color": "#E5ECF6",
              "width": 0.5
             },
             "pattern": {
              "fillmode": "overlay",
              "size": 10,
              "solidity": 0.2
             }
            },
            "type": "barpolar"
           }
          ],
          "carpet": [
           {
            "aaxis": {
             "endlinecolor": "#2a3f5f",
             "gridcolor": "white",
             "linecolor": "white",
             "minorgridcolor": "white",
             "startlinecolor": "#2a3f5f"
            },
            "baxis": {
             "endlinecolor": "#2a3f5f",
             "gridcolor": "white",
             "linecolor": "white",
             "minorgridcolor": "white",
             "startlinecolor": "#2a3f5f"
            },
            "type": "carpet"
           }
          ],
          "choropleth": [
           {
            "colorbar": {
             "outlinewidth": 0,
             "ticks": ""
            },
            "type": "choropleth"
           }
          ],
          "contour": [
           {
            "colorbar": {
             "outlinewidth": 0,
             "ticks": ""
            },
            "colorscale": [
             [
              0,
              "#0d0887"
             ],
             [
              0.1111111111111111,
              "#46039f"
             ],
             [
              0.2222222222222222,
              "#7201a8"
             ],
             [
              0.3333333333333333,
              "#9c179e"
             ],
             [
              0.4444444444444444,
              "#bd3786"
             ],
             [
              0.5555555555555556,
              "#d8576b"
             ],
             [
              0.6666666666666666,
              "#ed7953"
             ],
             [
              0.7777777777777778,
              "#fb9f3a"
             ],
             [
              0.8888888888888888,
              "#fdca26"
             ],
             [
              1,
              "#f0f921"
             ]
            ],
            "type": "contour"
           }
          ],
          "contourcarpet": [
           {
            "colorbar": {
             "outlinewidth": 0,
             "ticks": ""
            },
            "type": "contourcarpet"
           }
          ],
          "heatmap": [
           {
            "colorbar": {
             "outlinewidth": 0,
             "ticks": ""
            },
            "colorscale": [
             [
              0,
              "#0d0887"
             ],
             [
              0.1111111111111111,
              "#46039f"
             ],
             [
              0.2222222222222222,
              "#7201a8"
             ],
             [
              0.3333333333333333,
              "#9c179e"
             ],
             [
              0.4444444444444444,
              "#bd3786"
             ],
             [
              0.5555555555555556,
              "#d8576b"
             ],
             [
              0.6666666666666666,
              "#ed7953"
             ],
             [
              0.7777777777777778,
              "#fb9f3a"
             ],
             [
              0.8888888888888888,
              "#fdca26"
             ],
             [
              1,
              "#f0f921"
             ]
            ],
            "type": "heatmap"
           }
          ],
          "histogram": [
           {
            "marker": {
             "pattern": {
              "fillmode": "overlay",
              "size": 10,
              "solidity": 0.2
             }
            },
            "type": "histogram"
           }
          ],
          "histogram2d": [
           {
            "colorbar": {
             "outlinewidth": 0,
             "ticks": ""
            },
            "colorscale": [
             [
              0,
              "#0d0887"
             ],
             [
              0.1111111111111111,
              "#46039f"
             ],
             [
              0.2222222222222222,
              "#7201a8"
             ],
             [
              0.3333333333333333,
              "#9c179e"
             ],
             [
              0.4444444444444444,
              "#bd3786"
             ],
             [
              0.5555555555555556,
              "#d8576b"
             ],
             [
              0.6666666666666666,
              "#ed7953"
             ],
             [
              0.7777777777777778,
              "#fb9f3a"
             ],
             [
              0.8888888888888888,
              "#fdca26"
             ],
             [
              1,
              "#f0f921"
             ]
            ],
            "type": "histogram2d"
           }
          ],
          "histogram2dcontour": [
           {
            "colorbar": {
             "outlinewidth": 0,
             "ticks": ""
            },
            "colorscale": [
             [
              0,
              "#0d0887"
             ],
             [
              0.1111111111111111,
              "#46039f"
             ],
             [
              0.2222222222222222,
              "#7201a8"
             ],
             [
              0.3333333333333333,
              "#9c179e"
             ],
             [
              0.4444444444444444,
              "#bd3786"
             ],
             [
              0.5555555555555556,
              "#d8576b"
             ],
             [
              0.6666666666666666,
              "#ed7953"
             ],
             [
              0.7777777777777778,
              "#fb9f3a"
             ],
             [
              0.8888888888888888,
              "#fdca26"
             ],
             [
              1,
              "#f0f921"
             ]
            ],
            "type": "histogram2dcontour"
           }
          ],
          "mesh3d": [
           {
            "colorbar": {
             "outlinewidth": 0,
             "ticks": ""
            },
            "type": "mesh3d"
           }
          ],
          "parcoords": [
           {
            "line": {
             "colorbar": {
              "outlinewidth": 0,
              "ticks": ""
             }
            },
            "type": "parcoords"
           }
          ],
          "pie": [
           {
            "automargin": true,
            "type": "pie"
           }
          ],
          "scatter": [
           {
            "fillpattern": {
             "fillmode": "overlay",
             "size": 10,
             "solidity": 0.2
            },
            "type": "scatter"
           }
          ],
          "scatter3d": [
           {
            "line": {
             "colorbar": {
              "outlinewidth": 0,
              "ticks": ""
             }
            },
            "marker": {
             "colorbar": {
              "outlinewidth": 0,
              "ticks": ""
             }
            },
            "type": "scatter3d"
           }
          ],
          "scattercarpet": [
           {
            "marker": {
             "colorbar": {
              "outlinewidth": 0,
              "ticks": ""
             }
            },
            "type": "scattercarpet"
           }
          ],
          "scattergeo": [
           {
            "marker": {
             "colorbar": {
              "outlinewidth": 0,
              "ticks": ""
             }
            },
            "type": "scattergeo"
           }
          ],
          "scattergl": [
           {
            "marker": {
             "colorbar": {
              "outlinewidth": 0,
              "ticks": ""
             }
            },
            "type": "scattergl"
           }
          ],
          "scattermap": [
           {
            "marker": {
             "colorbar": {
              "outlinewidth": 0,
              "ticks": ""
             }
            },
            "type": "scattermap"
           }
          ],
          "scattermapbox": [
           {
            "marker": {
             "colorbar": {
              "outlinewidth": 0,
              "ticks": ""
             }
            },
            "type": "scattermapbox"
           }
          ],
          "scatterpolar": [
           {
            "marker": {
             "colorbar": {
              "outlinewidth": 0,
              "ticks": ""
             }
            },
            "type": "scatterpolar"
           }
          ],
          "scatterpolargl": [
           {
            "marker": {
             "colorbar": {
              "outlinewidth": 0,
              "ticks": ""
             }
            },
            "type": "scatterpolargl"
           }
          ],
          "scatterternary": [
           {
            "marker": {
             "colorbar": {
              "outlinewidth": 0,
              "ticks": ""
             }
            },
            "type": "scatterternary"
           }
          ],
          "surface": [
           {
            "colorbar": {
             "outlinewidth": 0,
             "ticks": ""
            },
            "colorscale": [
             [
              0,
              "#0d0887"
             ],
             [
              0.1111111111111111,
              "#46039f"
             ],
             [
              0.2222222222222222,
              "#7201a8"
             ],
             [
              0.3333333333333333,
              "#9c179e"
             ],
             [
              0.4444444444444444,
              "#bd3786"
             ],
             [
              0.5555555555555556,
              "#d8576b"
             ],
             [
              0.6666666666666666,
              "#ed7953"
             ],
             [
              0.7777777777777778,
              "#fb9f3a"
             ],
             [
              0.8888888888888888,
              "#fdca26"
             ],
             [
              1,
              "#f0f921"
             ]
            ],
            "type": "surface"
           }
          ],
          "table": [
           {
            "cells": {
             "fill": {
              "color": "#EBF0F8"
             },
             "line": {
              "color": "white"
             }
            },
            "header": {
             "fill": {
              "color": "#C8D4E3"
             },
             "line": {
              "color": "white"
             }
            },
            "type": "table"
           }
          ]
         },
         "layout": {
          "annotationdefaults": {
           "arrowcolor": "#2a3f5f",
           "arrowhead": 0,
           "arrowwidth": 1
          },
          "autotypenumbers": "strict",
          "coloraxis": {
           "colorbar": {
            "outlinewidth": 0,
            "ticks": ""
           }
          },
          "colorscale": {
           "diverging": [
            [
             0,
             "#8e0152"
            ],
            [
             0.1,
             "#c51b7d"
            ],
            [
             0.2,
             "#de77ae"
            ],
            [
             0.3,
             "#f1b6da"
            ],
            [
             0.4,
             "#fde0ef"
            ],
            [
             0.5,
             "#f7f7f7"
            ],
            [
             0.6,
             "#e6f5d0"
            ],
            [
             0.7,
             "#b8e186"
            ],
            [
             0.8,
             "#7fbc41"
            ],
            [
             0.9,
             "#4d9221"
            ],
            [
             1,
             "#276419"
            ]
           ],
           "sequential": [
            [
             0,
             "#0d0887"
            ],
            [
             0.1111111111111111,
             "#46039f"
            ],
            [
             0.2222222222222222,
             "#7201a8"
            ],
            [
             0.3333333333333333,
             "#9c179e"
            ],
            [
             0.4444444444444444,
             "#bd3786"
            ],
            [
             0.5555555555555556,
             "#d8576b"
            ],
            [
             0.6666666666666666,
             "#ed7953"
            ],
            [
             0.7777777777777778,
             "#fb9f3a"
            ],
            [
             0.8888888888888888,
             "#fdca26"
            ],
            [
             1,
             "#f0f921"
            ]
           ],
           "sequentialminus": [
            [
             0,
             "#0d0887"
            ],
            [
             0.1111111111111111,
             "#46039f"
            ],
            [
             0.2222222222222222,
             "#7201a8"
            ],
            [
             0.3333333333333333,
             "#9c179e"
            ],
            [
             0.4444444444444444,
             "#bd3786"
            ],
            [
             0.5555555555555556,
             "#d8576b"
            ],
            [
             0.6666666666666666,
             "#ed7953"
            ],
            [
             0.7777777777777778,
             "#fb9f3a"
            ],
            [
             0.8888888888888888,
             "#fdca26"
            ],
            [
             1,
             "#f0f921"
            ]
           ]
          },
          "colorway": [
           "#636efa",
           "#EF553B",
           "#00cc96",
           "#ab63fa",
           "#FFA15A",
           "#19d3f3",
           "#FF6692",
           "#B6E880",
           "#FF97FF",
           "#FECB52"
          ],
          "font": {
           "color": "#2a3f5f"
          },
          "geo": {
           "bgcolor": "white",
           "lakecolor": "white",
           "landcolor": "#E5ECF6",
           "showlakes": true,
           "showland": true,
           "subunitcolor": "white"
          },
          "hoverlabel": {
           "align": "left"
          },
          "hovermode": "closest",
          "mapbox": {
           "style": "light"
          },
          "paper_bgcolor": "white",
          "plot_bgcolor": "#E5ECF6",
          "polar": {
           "angularaxis": {
            "gridcolor": "white",
            "linecolor": "white",
            "ticks": ""
           },
           "bgcolor": "#E5ECF6",
           "radialaxis": {
            "gridcolor": "white",
            "linecolor": "white",
            "ticks": ""
           }
          },
          "scene": {
           "xaxis": {
            "backgroundcolor": "#E5ECF6",
            "gridcolor": "white",
            "gridwidth": 2,
            "linecolor": "white",
            "showbackground": true,
            "ticks": "",
            "zerolinecolor": "white"
           },
           "yaxis": {
            "backgroundcolor": "#E5ECF6",
            "gridcolor": "white",
            "gridwidth": 2,
            "linecolor": "white",
            "showbackground": true,
            "ticks": "",
            "zerolinecolor": "white"
           },
           "zaxis": {
            "backgroundcolor": "#E5ECF6",
            "gridcolor": "white",
            "gridwidth": 2,
            "linecolor": "white",
            "showbackground": true,
            "ticks": "",
            "zerolinecolor": "white"
           }
          },
          "shapedefaults": {
           "line": {
            "color": "#2a3f5f"
           }
          },
          "ternary": {
           "aaxis": {
            "gridcolor": "white",
            "linecolor": "white",
            "ticks": ""
           },
           "baxis": {
            "gridcolor": "white",
            "linecolor": "white",
            "ticks": ""
           },
           "bgcolor": "#E5ECF6",
           "caxis": {
            "gridcolor": "white",
            "linecolor": "white",
            "ticks": ""
           }
          },
          "title": {
           "x": 0.05
          },
          "xaxis": {
           "automargin": true,
           "gridcolor": "white",
           "linecolor": "white",
           "ticks": "",
           "title": {
            "standoff": 15
           },
           "zerolinecolor": "white",
           "zerolinewidth": 2
          },
          "yaxis": {
           "automargin": true,
           "gridcolor": "white",
           "linecolor": "white",
           "ticks": "",
           "title": {
            "standoff": 15
           },
           "zerolinecolor": "white",
           "zerolinewidth": 2
          }
         }
        },
        "title": {
         "text": "Landbouwgerelateerde CO₂-uitstoot per capita (1985–2020)"
        },
        "xaxis": {
         "anchor": "y",
         "domain": [
          0,
          1
         ],
         "title": {
          "text": "Year"
         }
        },
        "yaxis": {
         "anchor": "x",
         "domain": [
          0,
          1
         ],
         "title": {
          "text": "Uitstoot per Capita (tonnes CO₂eq)"
         }
        }
       }
      }
     },
     "metadata": {},
     "output_type": "display_data"
    }
   ],
   "source": [
    "import pandas as pd\n",
    "import plotly.express as px\n",
    "\n",
    "emissions_crops = pd.read_csv(\"datasets/FAOSTAT_emissions_cropss.csv\")\n",
    "emissions_livestock = pd.read_csv(\"datasets/FAOSTAT_emissions_livestock.csv\")\n",
    "population = pd.read_csv(\"datasets/Population_E_All_Data_(Normalized).csv\")\n",
    "\n",
    "landen = [\n",
    "    \"Brazil\", \"Indonesia\", \"Kenya\", \"India\",\n",
    "    \"Netherlands (Kingdom of the)\", \"Nigeria\", \"South Africa\", \"United States of America\"\n",
    "]\n",
    "\n",
    "# Emissies per gewas/diergroep optellen\n",
    "crops_filtered = emissions_crops[emissions_crops[\"Area\"].isin(landen)]\n",
    "livestock_filtered = emissions_livestock[emissions_livestock[\"Area\"].isin(landen)]\n",
    "emissions = pd.concat([crops_filtered, livestock_filtered])\n",
    "emissions = emissions.groupby([\"Area\", \"Year\"], as_index=False)[\"Value\"].sum()\n",
    "emissions.rename(columns={\"Value\": \"Total Emissions (kt CO2eq)\"}, inplace=True)\n",
    "\n",
    "# Bevolking\n",
    "pop_filtered = population[\n",
    "    (population[\"Area\"].isin(landen)) &\n",
    "    (population[\"Element\"] == \"Total Population - Both sexes\")\n",
    "][[\"Area\", \"Year\", \"Value\"]].rename(columns={\"Value\": \"Population (1000s)\"})\n",
    "\n",
    "emissions[\"Year\"] = emissions[\"Year\"].astype(int)\n",
    "pop_filtered[\"Year\"] = pop_filtered[\"Year\"].astype(int)\n",
    "df = emissions.merge(pop_filtered, on=[\"Area\", \"Year\"], how=\"left\")\n",
    "df[\"Emissions per Capita (tonnes CO2eq)\"] = (df[\"Total Emissions (kt CO2eq)\"] * 1000) / (df[\"Population (1000s)\"] * 1000)\n",
    "\n",
    "fig = px.line(\n",
    "    df[df[\"Year\"] >= 1985],\n",
    "    x=\"Year\",\n",
    "    y=\"Emissions per Capita (tonnes CO2eq)\",\n",
    "    color=\"Area\",\n",
    "    title=\"Landbouwgerelateerde CO₂-uitstoot per capita (1985–2020)\",\n",
    "    labels={\"Emissions per Capita (tonnes CO2eq)\": \"Uitstoot per Capita (tonnes CO₂eq)\", \"Area\": \"Land\"}\n",
    ")\n",
    "\n",
    "fig.update_layout(\n",
    "    legend_title=\"Land\",\n",
    "    height=600\n",
    ")\n",
    "\n",
    "fig.show()\n"
   ]
  },
  {
   "cell_type": "code",
   "execution_count": 41,
   "id": "ee6eb0ac",
   "metadata": {},
   "outputs": [
    {
     "ename": "FileNotFoundError",
     "evalue": "[Errno 2] No such file or directory: 'datasets/koeppen_geiger_climate_zones.csv'",
     "output_type": "error",
     "traceback": [
      "\u001b[0;31m---------------------------------------------------------------------------\u001b[0m",
      "\u001b[0;31mFileNotFoundError\u001b[0m                         Traceback (most recent call last)",
      "Cell \u001b[0;32mIn[41], line 13\u001b[0m\n\u001b[1;32m     10\u001b[0m rain_avg \u001b[38;5;241m=\u001b[39m rain\u001b[38;5;241m.\u001b[39mgroupby(\u001b[38;5;124m\"\u001b[39m\u001b[38;5;124mCountry Name\u001b[39m\u001b[38;5;124m\"\u001b[39m)[\u001b[38;5;124m\"\u001b[39m\u001b[38;5;124mPrecip_mm\u001b[39m\u001b[38;5;124m\"\u001b[39m]\u001b[38;5;241m.\u001b[39mmean()\u001b[38;5;241m.\u001b[39mreset_index()\n\u001b[1;32m     12\u001b[0m \u001b[38;5;66;03m# B) Klimaatzones laden (csv uit ChatGPT)\u001b[39;00m\n\u001b[0;32m---> 13\u001b[0m climate \u001b[38;5;241m=\u001b[39m \u001b[43mpd\u001b[49m\u001b[38;5;241;43m.\u001b[39;49m\u001b[43mread_csv\u001b[49m\u001b[43m(\u001b[49m\u001b[38;5;124;43m\"\u001b[39;49m\u001b[38;5;124;43mdatasets/koeppen_geiger_climate_zones.csv\u001b[39;49m\u001b[38;5;124;43m\"\u001b[39;49m\u001b[43m)\u001b[49m  \u001b[38;5;66;03m# <-- verander dit pad indien nodig\u001b[39;00m\n\u001b[1;32m     14\u001b[0m \u001b[38;5;66;03m# Verwacht: kolommen 'Country Name', 'ClimateCode'\u001b[39;00m\n\u001b[1;32m     16\u001b[0m \u001b[38;5;28mprint\u001b[39m(climate\u001b[38;5;241m.\u001b[39mcolumns)\n",
      "File \u001b[0;32m/opt/anaconda3/envs/jupyterbook/lib/python3.10/site-packages/pandas/io/parsers/readers.py:1026\u001b[0m, in \u001b[0;36mread_csv\u001b[0;34m(filepath_or_buffer, sep, delimiter, header, names, index_col, usecols, dtype, engine, converters, true_values, false_values, skipinitialspace, skiprows, skipfooter, nrows, na_values, keep_default_na, na_filter, verbose, skip_blank_lines, parse_dates, infer_datetime_format, keep_date_col, date_parser, date_format, dayfirst, cache_dates, iterator, chunksize, compression, thousands, decimal, lineterminator, quotechar, quoting, doublequote, escapechar, comment, encoding, encoding_errors, dialect, on_bad_lines, delim_whitespace, low_memory, memory_map, float_precision, storage_options, dtype_backend)\u001b[0m\n\u001b[1;32m   1013\u001b[0m kwds_defaults \u001b[38;5;241m=\u001b[39m _refine_defaults_read(\n\u001b[1;32m   1014\u001b[0m     dialect,\n\u001b[1;32m   1015\u001b[0m     delimiter,\n\u001b[0;32m   (...)\u001b[0m\n\u001b[1;32m   1022\u001b[0m     dtype_backend\u001b[38;5;241m=\u001b[39mdtype_backend,\n\u001b[1;32m   1023\u001b[0m )\n\u001b[1;32m   1024\u001b[0m kwds\u001b[38;5;241m.\u001b[39mupdate(kwds_defaults)\n\u001b[0;32m-> 1026\u001b[0m \u001b[38;5;28;01mreturn\u001b[39;00m \u001b[43m_read\u001b[49m\u001b[43m(\u001b[49m\u001b[43mfilepath_or_buffer\u001b[49m\u001b[43m,\u001b[49m\u001b[43m \u001b[49m\u001b[43mkwds\u001b[49m\u001b[43m)\u001b[49m\n",
      "File \u001b[0;32m/opt/anaconda3/envs/jupyterbook/lib/python3.10/site-packages/pandas/io/parsers/readers.py:620\u001b[0m, in \u001b[0;36m_read\u001b[0;34m(filepath_or_buffer, kwds)\u001b[0m\n\u001b[1;32m    617\u001b[0m _validate_names(kwds\u001b[38;5;241m.\u001b[39mget(\u001b[38;5;124m\"\u001b[39m\u001b[38;5;124mnames\u001b[39m\u001b[38;5;124m\"\u001b[39m, \u001b[38;5;28;01mNone\u001b[39;00m))\n\u001b[1;32m    619\u001b[0m \u001b[38;5;66;03m# Create the parser.\u001b[39;00m\n\u001b[0;32m--> 620\u001b[0m parser \u001b[38;5;241m=\u001b[39m \u001b[43mTextFileReader\u001b[49m\u001b[43m(\u001b[49m\u001b[43mfilepath_or_buffer\u001b[49m\u001b[43m,\u001b[49m\u001b[43m \u001b[49m\u001b[38;5;241;43m*\u001b[39;49m\u001b[38;5;241;43m*\u001b[39;49m\u001b[43mkwds\u001b[49m\u001b[43m)\u001b[49m\n\u001b[1;32m    622\u001b[0m \u001b[38;5;28;01mif\u001b[39;00m chunksize \u001b[38;5;129;01mor\u001b[39;00m iterator:\n\u001b[1;32m    623\u001b[0m     \u001b[38;5;28;01mreturn\u001b[39;00m parser\n",
      "File \u001b[0;32m/opt/anaconda3/envs/jupyterbook/lib/python3.10/site-packages/pandas/io/parsers/readers.py:1620\u001b[0m, in \u001b[0;36mTextFileReader.__init__\u001b[0;34m(self, f, engine, **kwds)\u001b[0m\n\u001b[1;32m   1617\u001b[0m     \u001b[38;5;28mself\u001b[39m\u001b[38;5;241m.\u001b[39moptions[\u001b[38;5;124m\"\u001b[39m\u001b[38;5;124mhas_index_names\u001b[39m\u001b[38;5;124m\"\u001b[39m] \u001b[38;5;241m=\u001b[39m kwds[\u001b[38;5;124m\"\u001b[39m\u001b[38;5;124mhas_index_names\u001b[39m\u001b[38;5;124m\"\u001b[39m]\n\u001b[1;32m   1619\u001b[0m \u001b[38;5;28mself\u001b[39m\u001b[38;5;241m.\u001b[39mhandles: IOHandles \u001b[38;5;241m|\u001b[39m \u001b[38;5;28;01mNone\u001b[39;00m \u001b[38;5;241m=\u001b[39m \u001b[38;5;28;01mNone\u001b[39;00m\n\u001b[0;32m-> 1620\u001b[0m \u001b[38;5;28mself\u001b[39m\u001b[38;5;241m.\u001b[39m_engine \u001b[38;5;241m=\u001b[39m \u001b[38;5;28;43mself\u001b[39;49m\u001b[38;5;241;43m.\u001b[39;49m\u001b[43m_make_engine\u001b[49m\u001b[43m(\u001b[49m\u001b[43mf\u001b[49m\u001b[43m,\u001b[49m\u001b[43m \u001b[49m\u001b[38;5;28;43mself\u001b[39;49m\u001b[38;5;241;43m.\u001b[39;49m\u001b[43mengine\u001b[49m\u001b[43m)\u001b[49m\n",
      "File \u001b[0;32m/opt/anaconda3/envs/jupyterbook/lib/python3.10/site-packages/pandas/io/parsers/readers.py:1880\u001b[0m, in \u001b[0;36mTextFileReader._make_engine\u001b[0;34m(self, f, engine)\u001b[0m\n\u001b[1;32m   1878\u001b[0m     \u001b[38;5;28;01mif\u001b[39;00m \u001b[38;5;124m\"\u001b[39m\u001b[38;5;124mb\u001b[39m\u001b[38;5;124m\"\u001b[39m \u001b[38;5;129;01mnot\u001b[39;00m \u001b[38;5;129;01min\u001b[39;00m mode:\n\u001b[1;32m   1879\u001b[0m         mode \u001b[38;5;241m+\u001b[39m\u001b[38;5;241m=\u001b[39m \u001b[38;5;124m\"\u001b[39m\u001b[38;5;124mb\u001b[39m\u001b[38;5;124m\"\u001b[39m\n\u001b[0;32m-> 1880\u001b[0m \u001b[38;5;28mself\u001b[39m\u001b[38;5;241m.\u001b[39mhandles \u001b[38;5;241m=\u001b[39m \u001b[43mget_handle\u001b[49m\u001b[43m(\u001b[49m\n\u001b[1;32m   1881\u001b[0m \u001b[43m    \u001b[49m\u001b[43mf\u001b[49m\u001b[43m,\u001b[49m\n\u001b[1;32m   1882\u001b[0m \u001b[43m    \u001b[49m\u001b[43mmode\u001b[49m\u001b[43m,\u001b[49m\n\u001b[1;32m   1883\u001b[0m \u001b[43m    \u001b[49m\u001b[43mencoding\u001b[49m\u001b[38;5;241;43m=\u001b[39;49m\u001b[38;5;28;43mself\u001b[39;49m\u001b[38;5;241;43m.\u001b[39;49m\u001b[43moptions\u001b[49m\u001b[38;5;241;43m.\u001b[39;49m\u001b[43mget\u001b[49m\u001b[43m(\u001b[49m\u001b[38;5;124;43m\"\u001b[39;49m\u001b[38;5;124;43mencoding\u001b[39;49m\u001b[38;5;124;43m\"\u001b[39;49m\u001b[43m,\u001b[49m\u001b[43m \u001b[49m\u001b[38;5;28;43;01mNone\u001b[39;49;00m\u001b[43m)\u001b[49m\u001b[43m,\u001b[49m\n\u001b[1;32m   1884\u001b[0m \u001b[43m    \u001b[49m\u001b[43mcompression\u001b[49m\u001b[38;5;241;43m=\u001b[39;49m\u001b[38;5;28;43mself\u001b[39;49m\u001b[38;5;241;43m.\u001b[39;49m\u001b[43moptions\u001b[49m\u001b[38;5;241;43m.\u001b[39;49m\u001b[43mget\u001b[49m\u001b[43m(\u001b[49m\u001b[38;5;124;43m\"\u001b[39;49m\u001b[38;5;124;43mcompression\u001b[39;49m\u001b[38;5;124;43m\"\u001b[39;49m\u001b[43m,\u001b[49m\u001b[43m \u001b[49m\u001b[38;5;28;43;01mNone\u001b[39;49;00m\u001b[43m)\u001b[49m\u001b[43m,\u001b[49m\n\u001b[1;32m   1885\u001b[0m \u001b[43m    \u001b[49m\u001b[43mmemory_map\u001b[49m\u001b[38;5;241;43m=\u001b[39;49m\u001b[38;5;28;43mself\u001b[39;49m\u001b[38;5;241;43m.\u001b[39;49m\u001b[43moptions\u001b[49m\u001b[38;5;241;43m.\u001b[39;49m\u001b[43mget\u001b[49m\u001b[43m(\u001b[49m\u001b[38;5;124;43m\"\u001b[39;49m\u001b[38;5;124;43mmemory_map\u001b[39;49m\u001b[38;5;124;43m\"\u001b[39;49m\u001b[43m,\u001b[49m\u001b[43m \u001b[49m\u001b[38;5;28;43;01mFalse\u001b[39;49;00m\u001b[43m)\u001b[49m\u001b[43m,\u001b[49m\n\u001b[1;32m   1886\u001b[0m \u001b[43m    \u001b[49m\u001b[43mis_text\u001b[49m\u001b[38;5;241;43m=\u001b[39;49m\u001b[43mis_text\u001b[49m\u001b[43m,\u001b[49m\n\u001b[1;32m   1887\u001b[0m \u001b[43m    \u001b[49m\u001b[43merrors\u001b[49m\u001b[38;5;241;43m=\u001b[39;49m\u001b[38;5;28;43mself\u001b[39;49m\u001b[38;5;241;43m.\u001b[39;49m\u001b[43moptions\u001b[49m\u001b[38;5;241;43m.\u001b[39;49m\u001b[43mget\u001b[49m\u001b[43m(\u001b[49m\u001b[38;5;124;43m\"\u001b[39;49m\u001b[38;5;124;43mencoding_errors\u001b[39;49m\u001b[38;5;124;43m\"\u001b[39;49m\u001b[43m,\u001b[49m\u001b[43m \u001b[49m\u001b[38;5;124;43m\"\u001b[39;49m\u001b[38;5;124;43mstrict\u001b[39;49m\u001b[38;5;124;43m\"\u001b[39;49m\u001b[43m)\u001b[49m\u001b[43m,\u001b[49m\n\u001b[1;32m   1888\u001b[0m \u001b[43m    \u001b[49m\u001b[43mstorage_options\u001b[49m\u001b[38;5;241;43m=\u001b[39;49m\u001b[38;5;28;43mself\u001b[39;49m\u001b[38;5;241;43m.\u001b[39;49m\u001b[43moptions\u001b[49m\u001b[38;5;241;43m.\u001b[39;49m\u001b[43mget\u001b[49m\u001b[43m(\u001b[49m\u001b[38;5;124;43m\"\u001b[39;49m\u001b[38;5;124;43mstorage_options\u001b[39;49m\u001b[38;5;124;43m\"\u001b[39;49m\u001b[43m,\u001b[49m\u001b[43m \u001b[49m\u001b[38;5;28;43;01mNone\u001b[39;49;00m\u001b[43m)\u001b[49m\u001b[43m,\u001b[49m\n\u001b[1;32m   1889\u001b[0m \u001b[43m\u001b[49m\u001b[43m)\u001b[49m\n\u001b[1;32m   1890\u001b[0m \u001b[38;5;28;01massert\u001b[39;00m \u001b[38;5;28mself\u001b[39m\u001b[38;5;241m.\u001b[39mhandles \u001b[38;5;129;01mis\u001b[39;00m \u001b[38;5;129;01mnot\u001b[39;00m \u001b[38;5;28;01mNone\u001b[39;00m\n\u001b[1;32m   1891\u001b[0m f \u001b[38;5;241m=\u001b[39m \u001b[38;5;28mself\u001b[39m\u001b[38;5;241m.\u001b[39mhandles\u001b[38;5;241m.\u001b[39mhandle\n",
      "File \u001b[0;32m/opt/anaconda3/envs/jupyterbook/lib/python3.10/site-packages/pandas/io/common.py:873\u001b[0m, in \u001b[0;36mget_handle\u001b[0;34m(path_or_buf, mode, encoding, compression, memory_map, is_text, errors, storage_options)\u001b[0m\n\u001b[1;32m    868\u001b[0m \u001b[38;5;28;01melif\u001b[39;00m \u001b[38;5;28misinstance\u001b[39m(handle, \u001b[38;5;28mstr\u001b[39m):\n\u001b[1;32m    869\u001b[0m     \u001b[38;5;66;03m# Check whether the filename is to be opened in binary mode.\u001b[39;00m\n\u001b[1;32m    870\u001b[0m     \u001b[38;5;66;03m# Binary mode does not support 'encoding' and 'newline'.\u001b[39;00m\n\u001b[1;32m    871\u001b[0m     \u001b[38;5;28;01mif\u001b[39;00m ioargs\u001b[38;5;241m.\u001b[39mencoding \u001b[38;5;129;01mand\u001b[39;00m \u001b[38;5;124m\"\u001b[39m\u001b[38;5;124mb\u001b[39m\u001b[38;5;124m\"\u001b[39m \u001b[38;5;129;01mnot\u001b[39;00m \u001b[38;5;129;01min\u001b[39;00m ioargs\u001b[38;5;241m.\u001b[39mmode:\n\u001b[1;32m    872\u001b[0m         \u001b[38;5;66;03m# Encoding\u001b[39;00m\n\u001b[0;32m--> 873\u001b[0m         handle \u001b[38;5;241m=\u001b[39m \u001b[38;5;28;43mopen\u001b[39;49m\u001b[43m(\u001b[49m\n\u001b[1;32m    874\u001b[0m \u001b[43m            \u001b[49m\u001b[43mhandle\u001b[49m\u001b[43m,\u001b[49m\n\u001b[1;32m    875\u001b[0m \u001b[43m            \u001b[49m\u001b[43mioargs\u001b[49m\u001b[38;5;241;43m.\u001b[39;49m\u001b[43mmode\u001b[49m\u001b[43m,\u001b[49m\n\u001b[1;32m    876\u001b[0m \u001b[43m            \u001b[49m\u001b[43mencoding\u001b[49m\u001b[38;5;241;43m=\u001b[39;49m\u001b[43mioargs\u001b[49m\u001b[38;5;241;43m.\u001b[39;49m\u001b[43mencoding\u001b[49m\u001b[43m,\u001b[49m\n\u001b[1;32m    877\u001b[0m \u001b[43m            \u001b[49m\u001b[43merrors\u001b[49m\u001b[38;5;241;43m=\u001b[39;49m\u001b[43merrors\u001b[49m\u001b[43m,\u001b[49m\n\u001b[1;32m    878\u001b[0m \u001b[43m            \u001b[49m\u001b[43mnewline\u001b[49m\u001b[38;5;241;43m=\u001b[39;49m\u001b[38;5;124;43m\"\u001b[39;49m\u001b[38;5;124;43m\"\u001b[39;49m\u001b[43m,\u001b[49m\n\u001b[1;32m    879\u001b[0m \u001b[43m        \u001b[49m\u001b[43m)\u001b[49m\n\u001b[1;32m    880\u001b[0m     \u001b[38;5;28;01melse\u001b[39;00m:\n\u001b[1;32m    881\u001b[0m         \u001b[38;5;66;03m# Binary mode\u001b[39;00m\n\u001b[1;32m    882\u001b[0m         handle \u001b[38;5;241m=\u001b[39m \u001b[38;5;28mopen\u001b[39m(handle, ioargs\u001b[38;5;241m.\u001b[39mmode)\n",
      "\u001b[0;31mFileNotFoundError\u001b[0m: [Errno 2] No such file or directory: 'datasets/koeppen_geiger_climate_zones.csv'"
     ]
    }
   ],
   "source": [
    "import pandas as pd\n",
    "import plotly.graph_objects as go\n",
    "\n",
    "# A) Neerslagdata laden\n",
    "rain = pd.read_csv(\"datasets/API_AG.LND.PRCP.MM_DS2_en_csv_v2_4487.csv\", skiprows=4)\n",
    "rain = rain.melt(id_vars=[\"Country Name\"], var_name=\"Year\", value_name=\"Precip_mm\")\n",
    "rain = rain[rain[\"Year\"].str.fullmatch(r\"\\d{4}\")]\n",
    "rain[\"Year\"] = rain[\"Year\"].astype(int)\n",
    "rain = rain[rain[\"Year\"] >= 1985]\n",
    "rain_avg = rain.groupby(\"Country Name\")[\"Precip_mm\"].mean().reset_index()\n",
    "\n",
    "# B) Klimaatzones laden (csv uit ChatGPT)\n",
    "climate = pd.read_csv(\"datasets/koeppen_geiger_climate_zones.csv\")  # <-- verander dit pad indien nodig\n",
    "# Verwacht: kolommen 'Country Name', 'ClimateCode'\n",
    "\n",
    "print(climate.columns)\n",
    "\n",
    "\n",
    "# C) Kleurmapping (Köppen–Geiger kleurenlegenda)\n",
    "climate_map = {\n",
    "    'Af': '#0000FF', 'Am': '#1E90FF', 'Aw': '#00BFFF', 'As': '#87CEFA',\n",
    "    'BWh': '#FF0000', 'BWk': '#FFB6C1', 'BSh': '#FFA500', 'BSk': '#FFFF00',\n",
    "    'Csa': '#FFFF99', 'Csb': '#FFD700', 'Csc': '#DAA520',\n",
    "    'Cwa': '#ADFF2F', 'Cwb': '#90EE90', 'Cwc': '#006400',\n",
    "    'Cfa': '#7CFC00', 'Cfb': '#32CD32', 'Cfc': '#228B22',\n",
    "    'Dsa': '#FF69B4', 'Dsb': '#FF1493', 'Dsc': '#C71585', 'Dsd': '#8B008B',\n",
    "    'Dwa': '#9370DB', 'Dwb': '#7B68EE', 'Dwc': '#6A5ACD', 'Dwd': '#483D8B',\n",
    "    'Dfa': '#00FFFF', 'Dfb': '#40E0D0', 'Dfc': '#00CED1', 'Dfd': '#008B8B',\n",
    "    'ET': '#A9A9A9', 'EF': '#696969'\n",
    "}\n",
    "\n",
    "climate = climate[climate[\"ClimateCode\"].isin(climate_map)]  # filter onbekende codes eruit\n",
    "climate[\"Color\"] = climate[\"ClimateCode\"].map(climate_map)\n",
    "\n",
    "# D) Samenvoegen van neerslag en klimaatdata\n",
    "world = pd.merge(rain_avg, climate, on=\"Country Name\", how=\"left\")\n",
    "world[\"ClimateIndex\"], labels = pd.factorize(world[\"ClimateCode\"])\n",
    "\n",
    "# E) Plotly visualisatie\n",
    "fig = go.Figure()\n",
    "\n",
    "# 1. Neerslagkaart\n",
    "fig.add_trace(go.Choropleth(\n",
    "    locations=world[\"Country Name\"],\n",
    "    locationmode=\"country names\",\n",
    "    z=world[\"Precip_mm\"],\n",
    "    colorscale=\"Blues\",\n",
    "    colorbar_title=\"mm/jaar\",\n",
    "    visible=True,\n",
    "    name=\"Neerslag\"\n",
    "))\n",
    "\n",
    "# 2. Klimaatzonekaart\n",
    "fig.add_trace(go.Choropleth(\n",
    "    locations=world[\"Country Name\"],\n",
    "    locationmode=\"country names\",\n",
    "    z=world[\"ClimateIndex\"],\n",
    "    text=world[\"ClimateCode\"],\n",
    "    colorscale=[(i/(len(labels)-1), climate_map[code]) for i, code in enumerate(labels)],\n",
    "    colorbar=dict(\n",
    "        tickvals=list(range(len(labels))),\n",
    "        ticktext=list(labels),\n",
    "        title=\"Köppen–Geiger\"\n",
    "    ),\n",
    "    visible=False,\n",
    "    name=\"Klimaatzone\"\n",
    "))\n",
    "\n",
    "# 3. Dropdown menu\n",
    "fig.update_layout(\n",
    "    updatemenus=[{\n",
    "        \"buttons\": [\n",
    "            {\"method\": \"update\", \"label\": \"Neerslag\", \"args\": [{\"visible\": [True, False]}, {\"title\": \"Gemiddelde Neerslag per Jaar (1985–2020)\"}]},\n",
    "            {\"method\": \"update\", \"label\": \"Klimaatzones\", \"args\": [{\"visible\": [False, True]}, {\"title\": \"Köppen–Geiger Klimaatzones per Land\"}]}\n",
    "        ],\n",
    "        \"direction\": \"down\",\n",
    "        \"x\": 0, \"xanchor\": \"left\", \"y\": 1.1, \"yanchor\": \"top\"\n",
    "    }],\n",
    "    geo=dict(showframe=False, showcoastlines=True, projection_type='equirectangular'),\n",
    "    margin=dict(l=0, r=0, t=50, b=0),\n",
    "    height=650\n",
    ")\n",
    "\n",
    "fig.show()\n"
   ]
  },
  {
   "cell_type": "code",
   "execution_count": 42,
   "id": "12758e66",
   "metadata": {},
   "outputs": [],
   "source": [
    "# import pandas as pd\n",
    "# import plotly.express as px\n",
    "# import numpy as np\n",
    "\n",
    "# # Haal alle landen op uit de gapminder dataset (van Plotly)\n",
    "# landen = px.data.gapminder()['country'].unique()\n",
    "\n",
    "# # Kies willekeurig een klimaatzone per land\n",
    "# klimaatzones = [\"Af\", \"Am\", \"Aw\", \"BWh\", \"BWk\", \"Cfa\", \"Cfb\", \"Dfa\", \"Dfb\", \"Dfc\", \"ET\", \"EF\"]\n",
    "# np.random.seed(42)  # Voor herhaalbaarheid\n",
    "# toewijzingen = np.random.choice(klimaatzones, size=len(landen))\n",
    "\n",
    "# # Maak dataframe\n",
    "# df = pd.DataFrame({\n",
    "#     \"Country Name\": landen,\n",
    "#     \"ClimateCode\": toewijzingen\n",
    "# })\n",
    "\n",
    "# # Kleuren toewijzen aan klimaatzones\n",
    "# kleurmap = {\n",
    "#     \"Af\": \"#1f77b4\", \"Am\": \"#17becf\", \"Aw\": \"#ff7f0e\",\n",
    "#     \"BWh\": \"#d62728\", \"BWk\": \"#e377c2\",\n",
    "#     \"Cfa\": \"#2ca02c\", \"Cfb\": \"#98df8a\",\n",
    "#     \"Dfa\": \"#8c564b\", \"Dfb\": \"#9467bd\", \"Dfc\": \"#7f7f7f\",\n",
    "#     \"ET\": \"#bcbd22\", \"EF\": \"#aec7e8\"\n",
    "# }\n",
    "\n",
    "# # Visualisatie\n",
    "# fig = px.choropleth(\n",
    "#     df,\n",
    "#     locations=\"Country Name\",\n",
    "#     locationmode=\"country names\",\n",
    "#     color=\"ClimateCode\",\n",
    "#     title=\"Wereldkaart met Willekeurige Köppen–Geiger Klimaatzones\",\n",
    "#     color_discrete_map=kleurmap\n",
    "# )\n",
    "\n",
    "# fig.update_layout(\n",
    "#     legend_title_text=\"Klimaatzone (Köppen–Geiger)\",\n",
    "#     margin={\"r\":0,\"t\":30,\"l\":0,\"b\":0}\n",
    "# )\n",
    "\n",
    "# fig.show()\n"
   ]
  },
  {
   "cell_type": "code",
   "execution_count": 40,
   "id": "405860fb",
   "metadata": {},
   "outputs": [
    {
     "data": {
      "application/vnd.plotly.v1+json": {
       "config": {
        "plotlyServerURL": "https://plot.ly"
       },
       "data": [
        {
         "marker": {
          "color": "skyblue"
         },
         "name": "Neerslag (mm)",
         "type": "bar",
         "visible": true,
         "x": {
          "bdata": "lAeVB5YHlweYB5kHmgebB5wHnQeeB58HoAehB6IHowekB6UHpgenB6gHqQeqB6sHrAetB64HrwewB7EHsgezB7QHtQe2B7cHuAe5B7oHuwe8B70Hvge/B8AHwQfCB8MHxAfFB8YHxwfIB8kHygfLB8wHzQfOB88H0AfRB9IH0wfUB9UH1gfXB9gH2QfaB9sH3AfdB94H3wfgB+EH4gfjB+QH5QfmB+cH6Ac=",
          "dtype": "i2"
         },
         "y": {
          "bdata": "tRX7yy4gmkCoNc07DpmZQLfRAN6CF5dAY+5aQr6knUCMuWsJOU6cQDJVMCrpIp1Aw/UoXE8smkDM7snDAnieQNc07zgFoZdAGCZTBSMNmkBKDAIrR86aQDSAt0ACbphA3gIJil87nECb5h2n6PGbQCgPC7WmgJlAEHo2q37kmUB56SYxCI+cQAHeAglKOppAfdCzWTXCmECDwMqhhbWaQHqlLEOca5xAvHSTGISllkC5/If0mxubQF+YTBUMcZdArkfhepT6m0AdOGdEKSmdQKs+V1ux1JxAeHqlLMMLmkBxGw3grbSZQLprCflgc5ZACtejcD3vmkAwTKYKhoqdQME5I0o7WJxAokW28/0QnkD6fmq89KCeQFfsL7vnKpxArIvbaMAznUCitDf4QimeQHKKjuRyoJ1ARIts5zsTnUCPU3Qkl0qcQG6jAbzFzppAUrgehWsWnEB6pSxDXHWcQI51cRvNm51AdCSX/5Cqn0DWxW00wLCdQNjw9ErZLJtA4lgXt1HAnUDLoUW2swCgQB04Z0SptJpAexSuR+H9m0A6kst/iHKcQO84RUeyuZtAjgbwFkhKnUB90LNZNeWcQAYSFD+GsJ1AvjCZKpgAnEAAAAAAgPGaQOXQItv5Mp1AorQ3+AL5nUCsrdhfto2bQOlILv/hx5pAlkOLbCexmkCCc0aUdjacQLUV+8vuuptAC7WmeQdInEDzjlN0ZCqaQI51cRtNop1A8KfGS3etnkAJG55eaVOaQKH4Meauxp1A93XgnFGcmUBfB84ZUUSdQHsUrkehdptA4L4OnLMjmUBGtvP9VDKbQB/0bFY9TptAeqUsQ5wZnEC/fR04JxGaQM9m1edqB5pAAd4CCQqmm0DysFBrmoeaQJ2AJsJGTJZAT0ATYQMml0A=",
          "dtype": "f8"
         },
         "yaxis": "y"
        },
        {
         "line": {
          "color": "red"
         },
         "mode": "lines",
         "name": "Temperatuur (°C)",
         "type": "scatter",
         "visible": true,
         "x": {
          "bdata": "lAeVB5YHlweYB5kHmgebB5wHnQeeB58HoAehB6IHowekB6UHpgenB6gHqQeqB6sHrAetB64HrwewB7EHsgezB7QHtQe2B7cHuAe5B7oHuwe8B70Hvge/B8AHwQfCB8MHxAfFB8YHxwfIB8kHygfLB8wHzQfOB88H0AfRB9IH0wfUB9UH1gfXB9gH2QfaB9sH3AfdB94H3wfgB+EH4gfjB+QH5QfmB+cH6Ac=",
          "dtype": "i2"
         },
         "y": {
          "bdata": "d2ATrIQ7OEDkXJ12C5c4QGggls0cRzhAXC9g3CCKN0CE0b83YE04QOMH1IiGJThA6XYJYUhNOECRXWkZqfY3QAHq4HM6YDhAwVHy6hw0OEC/g584gEo4QGxe1VktYjhAtbxyvW1LOECYgkiZ53A4QL0sAKCdWThAXK5+bJJDOEAMRafUEro3QKAS6vzujzhATNn80rUCOUD77evAOZc4QLvn0z3FSThA9ySwOQf2OEAPhbwLgTw4QOhlFMst4zhAH+VNa8AAOEC0VUlkHy84QGlBFSSjMDhAxfMsG7A+OECrSHLmROU3QKG7JM6KxThAQZPXXbN2OEChNwLe7/M3QLeSMObBczhAbwwUi/KEOEBkuv3f/tU3QBHg9C7e/TdAUeH1hugHOEC47WgJH1o4QFUkOXMiMDhArENbu9o7OEDPOWVb8344QFEAsv1RXzhA5HgYbWh+OEAB1VJTpcc4QP9nusR+YjhAiHrUcnonOEAUb3fpOVY4QCEAOPbs8ThAKWNpzXyPOEDnJleeLTw4QFztTmTTpThA5FgE7JCNOEA5iMO/9YA4QPvHVT9JrThA/yWpTDGyOEBjPjOb2sc4QNFMCgbqjDhARHT1UMjdOEBJzTEzRls5QBXTco28lDhA1apdE9J3OEDrYsB/4Mk4QINqgxPRMDlAP+PCgZD5OEB324XmOtk4QDQiK9LXKzlAc79DUaDwOECxpx3+miI5QMi7EJh0yThA0JAE9NUCOUBMYGBDXVU5QK/6SaKE5DhAwU8cQL8rOUDD5DPGdA85QO2jQIz9KzlAuNxzcwSvOUDfNehLb5A5QE+1FmahYTlAbZn5+7IXOUCRkjFRl4c5QGmn5nKDMTlArfIXjY/5OEBbu9p3Mss4QDF4mPbNijlAmwtJUyrKOUA=",
          "dtype": "f8"
         },
         "yaxis": "y2"
        },
        {
         "marker": {
          "color": "skyblue"
         },
         "name": "Neerslag (mm)",
         "type": "bar",
         "visible": false,
         "x": {
          "bdata": "lAeVB5YHlweYB5kHmgebB5wHnQeeB58HoAehB6IHowekB6UHpgenB6gHqQeqB6sHrAetB64HrwewB7EHsgezB7QHtQe2B7cHuAe5B7oHuwe8B70Hvge/B8AHwQfCB8MHxAfFB8YHxwfIB8kHygfLB8wHzQfOB88H0AfRB9IH0wfUB9UH1gfXB9gH2QfaB9sH3AfdB94H3wfgB+EH4gfjB+QH5QfmB+cH6Ac=",
          "dtype": "i2"
         },
         "y": {
          "bdata": "nu+nxsvxgEA+eViotUuCQDm536GowoJACmgibPhTgkAb2CrBosiCQNxoAG8BhYNAB0KygIn4gkC/fR045xmDQHWTGARWq4NAA3gLJCiyhEA9m1Wfa4+EQA1Uxr/P+oNAyJi7lpAIhUB+jLlrCbGEQNqs+lxtFoVAvsEXJlMShECsxacAWNuDQDqSy39IE4RAVDpY/6cyhEAawFsggcuFQECk374OIoVAbxKDwEr4g0Cxpx3+WmyEQGgibHj6M4RA6gQ0ETaUhEC6awn5oBSEQHBCIQKOkoRAUdobfGGag0AnoImwYfiEQNO84xSdkYNAI9v5fuphg0B+b9OfffeDQMVVZd9VNoNAEr2MYvkVhUD4/DBCuOKEQIqT+x0KSYRAwFsgQfHWhECR1a2e0+mEQOf7qfFSt4NAsVBrmvdUhEBOYhBYuceEQCbkg55NLIRAFmpN8w4RhEAep+hILniEQKmkTkBT1YRALGUZ4lg9hEAiGt1BbIGEQFUwKqmT4oNAA3gLJCj5hEA6evzeZjyDQME5I0p7+4RA3uUivhOvhEAcsRafwtyDQEi/fR34UoRArYbEPRZ4hEDePNUh92OEQEj+YOA5Y4VAGedvQqEchUBPHhZqTcCDQFlMbD7uDoZAWDm0yHZ2hEBLWYY4VqGEQHGsi9voYIRAXrpJDAK3hEApyxDHOi6FQFg5tMh2/4VAdk8eFurnhEBm9+RhYcSFQO5aQj7oloVAqDXNO87dg0BsIchByRqFQIMvTKYKQoVAe4MvTCZehUCU9gZfmLWEQK7YX3ZPIYVAlj50Qf3zhEAc8PlhBMOFQGN/2T35lIVAUgq6vSSMhEDmP6TfPnGFQLG/7J681IZAtMh2vh+ChUDnGJC93rKFQIC3QIKilYNA3/3xXrV3hUA=",
          "dtype": "f8"
         },
         "yaxis": "y"
        },
        {
         "line": {
          "color": "red"
         },
         "mode": "lines",
         "name": "Temperatuur (°C)",
         "type": "scatter",
         "visible": false,
         "x": {
          "bdata": "lAeVB5YHlweYB5kHmgebB5wHnQeeB58HoAehB6IHowekB6UHpgenB6gHqQeqB6sHrAetB64HrwewB7EHsgezB7QHtQe2B7cHuAe5B7oHuwe8B70Hvge/B8AHwQfCB8MHxAfFB8YHxwfIB8kHygfLB8wHzQfOB88H0AfRB9IH0wfUB9UH1gfXB9gH2QfaB9sH3AfdB94H3wfgB+EH4gfjB+QH5QfmB+cH6Ac=",
          "dtype": "i2"
         },
         "y": {
          "bdata": "gLOULCfdD8ApMYdcKH4SwOcW034AIRHAeG2Wl223EMANBsQRkYsMwKfZSlErKRTApZxCwZ9sE8CuaU/f7WcRwK1POSaLMBTA4ozP0oNUFMAA1wQHaucXwBA8YwT5shXA7QULzK8HEMDhzoWRXgQQwEXETFpwyBLAraqEFClwE8BVz+DyAHgWwIxm039EeRPAKuqVe0r5EMC3RGX6XLwUwNsHD4kxZRHAr+eiWKXJE8AD5saZy04TwAB1oNoiUhLAT0QacPFDFcDQewhPjdQVwBVN1as2SRTAk4VU9gJ4FcA8aJfrRHgSwNcpoJrcTRHA5KdepD3jE8C4XweXVx0TwOPHYfm8ERvAb2WJzjILEMDQXKSo5lcWwKvY4MVDoBPA5DgUYlIaE8DfNH12wMEOwLaYsubaRhXAI9QfdOPEE8AP5sC8EV8RwJwuwkun8AXALIystET0FsBJEJjMUXoSwPOBZe032xHAlLJW/sYiE8BFZyvBdB4TwOif4GJF2QnAKS2ATfpNEMC4ICTU1cITwH2Yhqph4BPA54ATwIM/EcA6P8Vx4KUTwElMUMO3ehHAcfOdyi8jEcCNuWsJ+cAQwN+zLYJ+ThPAlyP2mxuvEMBH2FnxZR0EwC0SkoT80wnAbTv/CFUwEMBPthO3nD0IwCmar98FFhHAjeJLleS+DcCCHjMZVw8TwF18PLoyUgnAyHgYgxwuAsD7gFkEc5QPwLHaakSelxDA8ywbsL7GD8DNrGvVKgn7vzOeUm9XJwvAdK9vAxqAB8AT2DlZrNEPwMlVY0AtcRDAfdDXUI4WDMA0PhRN6C4FwLgNItGDtgnAHZ5vVSPVEMApuhsxoPQMwBBv1EGVcQzA3SMJMJoHBsAvW6lvspYMwMTlwpK85Py/MBziMoHt+78=",
          "dtype": "f8"
         },
         "yaxis": "y2"
        },
        {
         "marker": {
          "color": "skyblue"
         },
         "name": "Neerslag (mm)",
         "type": "bar",
         "visible": false,
         "x": {
          "bdata": "lAeVB5YHlweYB5kHmgebB5wHnQeeB58HoAehB6IHowekB6UHpgenB6gHqQeqB6sHrAetB64HrwewB7EHsgezB7QHtQe2B7cHuAe5B7oHuwe8B70Hvge/B8AHwQfCB8MHxAfFB8YHxwfIB8kHygfLB8wHzQfOB88H0AfRB9IH0wfUB9UH1gfXB9gH2QfaB9sH3AfdB94H3wfgB+EH4gfjB+QH5QfmB+cH6Ac=",
          "dtype": "i2"
         },
         "y": {
          "bdata": "SL99HfhziEA/V1uxv8OIQClcj8L1kIhABOJ1/YKEikA2sFWCRciHQH+HokAfNIdAjErqBLSUj0CFfNCzWRWLQJVliGPde4tAf9k9eVg3jEAqOpLLf6uMQHcVUn6SbY5AWTSdnYxojkA6kst/SB2MQLivA+eMio5Amzi53yEci0DzqzlAsA6KQDMzMzMz9YlAOiNKe4NkikC94xQdydSJQDVeukkMdIpA7lpCPugjjUAb2CrBIsuKQF8HzhlR9YpA4V0u4ruajUDD0ytlmRCLQGHD0yvljIpAoBov3SQ9i0BIv30dOLuKQPAWSFB8Z4pAGqiMf99GikBQGf8+44+KQNcS8kEP8IpAUwWjkrqOjEAe4bTgBWGKQEdy+Q/pnItAtFn1udpeikClaybfbHCKQDbNO05R+4hAEoPAyqGiiUAldQKaCGSKQIenV8oySotA54wo7Y3kikBYqDXNO7GMQC0+BcD4rIpAhJ7Nqs+bi0AXt9EAXmaJQCcxCKycsItABoGVQws5ikBrK/aX3X2KQD7L8+Dud4xAYOXQItvdikA51sVtNICKQMtneR4cHoxA+u3rwLnji0COdXEbDeSKQHEbDeBtY4tAn82qz1VgikB2bATiddaNQORO6WC9sIpAGy/dJAbYikAcfGEyVUiJQJXUCWgi14pAl5APerbFiUCE2JlCpyqIQKs+V1sxS4lAETY8vVJqh0BcIEHx46aHQH2utmL/xYhAmzi536HDhkC94xQdyVaKQCo6ksv/3IVARpT2Bl8JikBvEoPAym6IQM3MzMzMMIhARdjw9MpRiUB9PzVe+iiLQLMHWoEhhIhACKwcWmQkiUATZtr+lTiIQHDrbp7qFopAaCJseHraiUCk374OHB+IQDSAt0AC5YdAZMxdS8gNi0A=",
          "dtype": "f8"
         },
         "yaxis": "y"
        },
        {
         "line": {
          "color": "red"
         },
         "mode": "lines",
         "name": "Temperatuur (°C)",
         "type": "scatter",
         "visible": false,
         "x": {
          "bdata": "lAeVB5YHlweYB5kHmgebB5wHnQeeB58HoAehB6IHowekB6UHpgenB6gHqQeqB6sHrAetB64HrwewB7EHsgezB7QHtQe2B7cHuAe5B7oHuwe8B70Hvge/B8AHwQfCB8MHxAfFB8YHxwfIB8kHygfLB8wHzQfOB88H0AfRB9IH0wfUB9UH1gfXB9gH2QfaB9sH3AfdB94H3wfgB+EH4gfjB+QH5QfmB+cH6Ac=",
          "dtype": "i2"
         },
         "y": {
          "bdata": "eOl+AcsfGEDh2ghDnN4ZQLR7qCM23hpAexr5hSCEGkCJMfob/j4aQOxGPDC2sRhAi/Z1OG1vHEAwZU4FSg4aQNd4n5kWIxtAo80D6l/eG0ADg/8IHnQaQLWDi8E1rBlAE+WVZExYGUA42ZhpjaUbQAwyNGRdKRhAU03/SMe2GEBoMtJBTeAWQL/7HWn0gxZAz3xtg/37GUCfX7iXWNMZQMnOkUvSsxlA2/piHhfpGUCIPn6+Sp8YQL+HAQEhvhlACKF3u8JBGUDNI/GF2LMYQMVkhMrSxxhAV5PeboAOF0CAjwsYblIYQDTcEktc6RdAzPzrXQTCF0DAcKAe3sAYQGkaS4/dghhAVWmLa3z+GUBgbufl7F4YQG1OyknNPRpAD8ca+pipF0AvB83wl4UYQAxwpODnxxlAbGEZw+m2GUBJEX9p3FEZQEUg3yYkbhlA9+9rOr0/GkBhJrvidhQZQIWZf72LMxhAaJiYNjVvGEDwKPUxkBQZQIOxaZq2BRtAPL4r8IPYGkCPV1c8LF8aQFj1cexY6htAKMbHYQ+wGkDU5elnq5wZQL8u53ZTKBpAOQm743SYHEAX9jvlszsbQKSK4lXW8xlAfzNzeVpPG0B5Y371iV4eQAsmYVOltx1ACKIBz9AkG0BPo9rxcLgcQFn27e1fQh1A6SIPjFNsHEAts2N+ySAdQBS3kYP0xhtAbNPNBBMTHkAFha8d+uIeQKic5WhEvRxAZ+zwfKuUHUAsHpaFLrUcQDDwrEKipxtAB+4UNRGJGkCgf3FfvY0dQPAZ5Il7Px1AX3NYKySkHkADbhKPAg4fQDvi8zdfFx9AaWVu/0WzHUBgYHofa0geQGCN6qvibB5AiHX/Y+JKH0AxPT2SbiMfQCGcR6xi4x9AwShSq/mvIEA=",
          "dtype": "f8"
         },
         "yaxis": "y2"
        },
        {
         "marker": {
          "color": "skyblue"
         },
         "name": "Neerslag (mm)",
         "type": "bar",
         "visible": false,
         "x": {
          "bdata": "lAeVB5YHlweYB5kHmgebB5wHnQeeB58HoAehB6IHowekB6UHpgenB6gHqQeqB6sHrAetB64HrwewB7EHsgezB7QHtQe2B7cHuAe5B7oHuwe8B70Hvge/B8AHwQfCB8MHxAfFB8YHxwfIB8kHygfLB8wHzQfOB88H0AfRB9IH0wfUB9UH1gfXB9gH2QfaB9sH3AfdB94H3wfgB+EH4gfjB+QH5QfmB+cH6Ac=",
          "dtype": "i2"
         },
         "y": {
          "bdata": "iGNd3EbvkkDBOSNK+9mQQPmgZ7MqxJJAEFg5tMijlUBoImx4OmCUQF8HzhmRhJFA7MA5IwqfkUARNjy9knySQH0/NV46DZRAFYxK6oTylUDFjzF3bceVQMiYu5bQMpNA4L4OnPO9k0Bq3nGKjmKWQPvL7slDh5NAescpOtJBlECDwMqhhUmVQMPTK2UZTpFAeekmMQjulEAy5q4l5IKVQF1txf6yKJJAKA8LtaaulEBiEFg5tOaSQNSa5h0n9ZJAw9MrZdnGlEBj7lpCfj6RQL1SliFOqpNAexSuR6H0lEB2Tx4WKh2TQClcj8K10pBAZMxdS0hJk0C/DpwzImuTQJMdG4F4vY5A5/up8VLYk0Dwoq8gzXCOQKFns+qzA5RAcayL2+g5kUB+jLlryfqQQE5iEFj5tZFAxCXHnVL0jUCSy39If9+RQHctIR+0BpBAcvkP6TeQjkDOqs/VFjaTQLPqc7XV85BAeAskKP6dj0CASL99XZuQQKK0N/jC+ItAtRX7y65Vk0AoDwu1JtWRQNcS8kEPXJZA1XjpJrG7kUDMXUvIh0CPQLG/7J78W5JAPZtVn+vuk0AFNBE2PIiSQJYhjnWxnZJAY3/ZPTnZkkAhH/RsFsSSQDqSy3+IAZFA3+ALk2ndkEDhC5Opwk+RQPwdigJ9P49A+8vuyQMnk0AukKD48UKRQDAqqROQEJJAwTkjSvtzkkAAb4EExTuUQArXo3C9tZNAoBov3WRukUDByqFF9hyVQLU3+MKkiZNAK4cW2U62kUB/arx0UxmVQFtCPugZOJFAFYxK6gQgkkDyQc9mVfSSQDQRNjx92JJA6Ugu/yFYkUCBlUOLrHqVQG+BBMWPjZRAxty1hHxnk0Aydy0h3/aTQNuK/WW3FpJAexSuR6GYlUA=",
          "dtype": "f8"
         },
         "yaxis": "y"
        },
        {
         "line": {
          "color": "red"
         },
         "mode": "lines",
         "name": "Temperatuur (°C)",
         "type": "scatter",
         "visible": false,
         "x": {
          "bdata": "lAeVB5YHlweYB5kHmgebB5wHnQeeB58HoAehB6IHowekB6UHpgenB6gHqQeqB6sHrAetB64HrwewB7EHsgezB7QHtQe2B7cHuAe5B7oHuwe8B70Hvge/B8AHwQfCB8MHxAfFB8YHxwfIB8kHygfLB8wHzQfOB88H0AfRB9IH0wfUB9UH1gfXB9gH2QfaB9sH3AfdB94H3wfgB+EH4gfjB+QH5QfmB+cH6Ac=",
          "dtype": "i2"
         },
         "y": {
          "bdata": "g7pbbG0+N0AHoD7vs603QPhC7g+BhDdAwQYxveoDN0BFy5TpqqY3QHRBfcucbDdAtE/aLkfsN0AfCKNspOs3QCVUcHhBtTdAh3tSE2rxNkD97jAAZ702QNUhN8MN4DZA6WfXqkrqNkCL9/bBDJU2QF3hXS7isTdABex9vdWIN0C0mTCHynE3QLBCt4RpxjdAmytwn0IdOEBkG8vOtdE3QAugGFky6zdAbRMBYbo+N0DP5fN3XFc3QJ/vlPsKzDdATY29BJTGN0BAspPUHME3QORecyFpyzdAobJ0GKa+N0DgQca2H5E3QIxTmroYOzhAefUEnLi0N0A4LA38qE83QN9EGgJtAzhAWeaa780MOEDs8yuw2tA3QM3F3/YEczdA3GlrRDDSN0CVBLt0puQ3QEgiIbdMmTdACMbUcKQ+OEAYjCRUgzQ4QMni/iPTuTdA55euTVC8N0DfcB+5NYM3QN1FhdcbuDdAyCO4kbIDOEC5WD64KNg3QAyIIyIPSzhA1E8l8HQ0OED8QN8DYag3QFDIztvYozdAPxN0jhThN0ABqqWmSsk3QDvfYljY7DdAQK9lH1HPN0CcfmPiaQY4QBXEQNe+7DdAICByDUZ+N0BZtBM47Cs4QINcz/3CDjhAhWIYnRnxN0D3CDVDqgQ4QKkocTCuYThAd4A6+JwfOECIwelK8So4QO8jtybdFjhARE30+ShXOECLgB0S0Tc4QEu9lKeZ/DdAuE3LIie0OEChXgM1j6g4QExw6gPJAjhA4Lw48dUeOEDdBrXf2u43QOiTAviUKThAyM7b2OxwOEBRyLsQmNI4QA9B6LMWrzhAu6EWcLx8OEDpdglhSHM4QOH28b2sKThAhGQBE7hCOEBxHHi13G84QAOpJwZbcThAQ9EptQS9OEA=",
          "dtype": "f8"
         },
         "yaxis": "y2"
        },
        {
         "marker": {
          "color": "skyblue"
         },
         "name": "Neerslag (mm)",
         "type": "bar",
         "visible": false,
         "x": {
          "bdata": "lAeVB5YHlweYB5kHmgebB5wHnQeeB58HoAehB6IHowekB6UHpgenB6gHqQeqB6sHrAetB64HrwewB7EHsgezB7QHtQe2B7cHuAe5B7oHuwe8B70Hvge/B8AHwQfCB8MHxAfFB8YHxwfIB8kHygfLB8wHzQfOB88H0AfRB9IH0wfUB9UH1gfXB9gH2QfaB9sH3AfdB94H3wfgB+EH4gfjB+QH5QfmB+cH6Ac=",
          "dtype": "i2"
         },
         "y": {
          "bdata": "l/+QflsioUAXSFD8+A6kQL1SliFOcqdAejarPtd9o0DYgXNGVFSkQH3Qs1nVyqhARrbz/TTqo0BSuB6Fi/imQPCnxkt3aaFANIC3QAJhpEBoke18//2mQNEi2/le3qJASL99HbgYpkBQjZduUiSkQGQ730/N5KpAg1FJnUD2qkA7AU2ELROpQPVKWYb4UadA6bevA8diqEAJG55eSY2nQHEbDeAtkahAF0hQ/NjzpEAofoy565CnQMgHPZs1HaRAcayL22huqED+ZffkwbSkQN21hHyQZKpAqaROQJPNp0DMf0i/vZeoQAyTqYIxEKdAPZtVn8t4qkDdJAaBNQSpQLByaJEtcKJA9P3UeCmWqkB0JJf/kOumQCDSb1/H/6lAi2zn+4k0pUAQWDm0yLymQIY41sWNy6pAJzEIrJzDp0AAb4EEhRinQL1SliHOYKhAXf5D+g1qpED0bFZ9jnioQF3cRgMYYKtAzhlR2lsNqUBa9bnaqsioQOC+DpyTBKdANe84RYcPq0BuowG8JYypQMBbIEFx8KZAfT81XppZpkBGtvP91PanQPfkYaH2XKdAD5wzohR6p0Ag0m9fxwisQF8HzhnRnqlA/fZ14FxNokAofoy5q4irQLraiv2laapAdy0hH/QiqkAOLbKdDzupQKwcWmS7LKVAObTIdn4IqEDbiv1lt9mlQGDl0CLbZ6hAK4cW2Q70pkBGJXUC+vmpQHrHKTrSG6tANBE2PB0dp0DhehSuB3utQBfZzvdTc6lA6Nms+lwZqkD7XG3FvoisQEmdgCYiAahAINJvXwfkpUADeAsk6FWtQFJJnYCGm6xA46WbxGAUqUB3LSEfdGmmQE+vlGXIOqxAmG4Sg8Blq0CR7Xw/temrQOC+DpyzD6dAYhBYOTTeq0A=",
          "dtype": "f8"
         },
         "yaxis": "y"
        },
        {
         "line": {
          "color": "red"
         },
         "mode": "lines",
         "name": "Temperatuur (°C)",
         "type": "scatter",
         "visible": false,
         "x": {
          "bdata": "lAeVB5YHlweYB5kHmgebB5wHnQeeB58HoAehB6IHowekB6UHpgenB6gHqQeqB6sHrAetB64HrwewB7EHsgezB7QHtQe2B7cHuAe5B7oHuwe8B70Hvge/B8AHwQfCB8MHxAfFB8YHxwfIB8kHygfLB8wHzQfOB88H0AfRB9IH0wfUB9UH1gfXB9gH2QfaB9sH3AfdB94H3wfgB+EH4gfjB+QH5QfmB+cH6Ac=",
          "dtype": "i2"
         },
         "y": {
          "bdata": "A4VnL8gOOEDgrRkGGfo3QHHZ+2fgpDdAnfASnPqnN0CvBGUtGMs3QNdkoEXJrzdAdMYKkebyN0AP4YWaDu83QM0wyHBPBThAbR6Hwfw0OEBFSwuEivY3QBDx/I85IzhAt5ifG5o4OEDF+3H75Tc4QIVCBBxC4DdAry//DjLlN0ARd+Jf8dQ3QA1hDwAvMDhAvVDAdjCBOEBLLYGBDS04QDMWTWcnODhAoVpX39M6OED9JbwXcjQ4QCuw7drLSDhAQyYGbsolOEC9rkzl2hI4QDdKcWik6zdAeLy2pJDmN0BVtbduXQI4QJMIepWiTjhAVaGBWDY+OEA1SoQz5eY3QLkLp9+YSjhADfeRW5N1OEDHSPYINSM4QEC4FdU1KDhAmL1sO20zOEDgMTz2s2Q4QLG/7J48hDhAORsFm02bOECwmtS9O644QHHyNd4wnThAuxycdbOaOEBBjVVdmuI4QAdgAyLEXjhAMR6lEp5yOECL6MQLD4k4QBDGYq4f2jhAg38k/6bQOEAdQKwkn4Y4QFTJAFDFszhAQNr/AGudOEDZ/T2LuJQ4QLk9Lpd6uDhAXTs+R9G5OECfaZxgEtU4QIOpZtZS1zhAJPk3VeQHOUDvqETsJnM5QE2uPFsazDhAtQdHtuDUOEA9CWzOwe44QLlDncxSFjlAkLPDcl4NOUBYslBYzww5QOfnhqbsHzlAqKYk63AZOUBb+r06tBo5QG3tat/J7ThAwE7ENVFMOUAFwePbu2w5QOeRPxh4GjlAA/pqNKYsOUC0qiUd5Uo5QHzazuSIWTlAkEWtQ0h1OUAhpewHT8U5QB2eOJNJbzlA5QE/vSxwOUDHigeBgpE5QDQ5omgLqjlAv58aL916OUBxQg43zWw5QMfMGPnPuzlAm1yMgXUBOkA=",
          "dtype": "f8"
         },
         "yaxis": "y2"
        },
        {
         "marker": {
          "color": "skyblue"
         },
         "name": "Neerslag (mm)",
         "type": "bar",
         "visible": false,
         "x": {
          "bdata": "lAeVB5YHlweYB5kHmgebB5wHnQeeB58HoAehB6IHowekB6UHpgenB6gHqQeqB6sHrAetB64HrwewB7EHsgezB7QHtQe2B7cHuAe5B7oHuwe8B70Hvge/B8AHwQfCB8MHxAfFB8YHxwfIB8kHygfLB8wHzQfOB88H0AfRB9IH0wfUB9UH1gfXB9gH2QfaB9sH3AfdB94H3wfgB+EH4gfjB+QH5QfmB+cH6Ac=",
          "dtype": "i2"
         },
         "y": {
          "bdata": "0ZFc/oMnjUCns5PBkeuGQB04Z0RphXtAixpMw3Cwd0A+IqZEErx+QI51cRsNs39AW7G/7J6HfkARx7q4jVSRQNV46SaxU4pAmC8vwL6HikCq1OyB1taPQKd5xym6OJRAgSbChucckEAc6+I2GlqVQKpgVFInUIlALNSa5p1xhkCHFtnOd0KHQOPHmLuWAY1ABTQRNryciEDXNO84xcuKQFAZ/z5jpolAV1uxv6yakEAqOpLL/86IQFg5tMi2HZBAj8L1KFwviUAcmUf+4CyFQBB6Nqs+ioZAWKg1zTt6jEDzk2qfjiWOQHldv2C3g4FAT6+UZQhLhkCnXOFdrhGIQOtztRX7VIlA7C+7Jw+wg0BFR3L5j+mEQF6dY0B2dYZAlrIMcawRhkAFo5I6AV6SQL3jFB1JHY5AUWuadxwNjkApyxDHukaEQKOSOgGN9IpAFR3J5b91i0BoImx4+kqIQI51cRuNcYNAarx0kxiEiUCBeF2/4FeKQKyt2F/2ZYVAio7k8p/2iUBpb/CFyUCKQDJ3LSGfvIpAT1jiAaXHhUChoX+CSzqFQFysqMG0gYNA2qz6XG3viECaCBueHj2FQO5aQj7oJINA6znpfaPkj0DWVuwvO+SKQJF++zpwpoFAmMCtu/l0fkAOT6+U5diFQEfmkT+YjYZAp7OTwRG3g0CIY13cRjuFQKK0N/hC+YBAqIx/nzHci0DYgXNGFGCFQETdByC1r4JA+u3rwDlCf0BYyjLEMRmHQG3n+6lxcIdANUHUfYDYhkAQWDm0SBiJQFmjHqJRrIRAWmQ7308hiEAGEhQ/BgWDQJVliGNd/oJAUPwYc1fii0Bj7lpCvnaLQHNLqyHxEo5AMEymCkblfkDM7snDQiV7QFABMJ7BYoZAnzws1BqPh0A=",
          "dtype": "f8"
         },
         "yaxis": "y"
        },
        {
         "line": {
          "color": "red"
         },
         "mode": "lines",
         "name": "Temperatuur (°C)",
         "type": "scatter",
         "visible": false,
         "x": {
          "bdata": "lAeVB5YHlweYB5kHmgebB5wHnQeeB58HoAehB6IHowekB6UHpgenB6gHqQeqB6sHrAetB64HrwewB7EHsgezB7QHtQe2B7cHuAe5B7oHuwe8B70Hvge/B8AHwQfCB8MHxAfFB8YHxwfIB8kHygfLB8wHzQfOB88H0AfRB9IH0wfUB9UH1gfXB9gH2QfaB9sH3AfdB94H3wfgB+EH4gfjB+QH5QfmB+cH6Ac=",
          "dtype": "i2"
         },
         "y": {
          "bdata": "tKf3Zxn/N0BrrOrSrHA4QNfUjB89hDhALAJ2SES0OECdmssNhp04QFGMGc4iYjhAL96P2y/wOED1yPl1ums3QHfuUCez4TdAh+0UmDsZOEA9C0J5H2c3QCBgrdo1azdA6aTkwm5qN0AVWsMyI/42QNeH9Uat6DdAAfinVIlCOEC1DbbruBU4QJtKLBasCDhAUw++Hc5fOEAkMMNs74Y4QG2uhxxITjhAsffii/ZHOEAfpRKe0PI3QDwjJOUB4DdAwcv5TyT8N0CAsGZ3W0A4QCvYWQcapjhAvBWc1KobOECro9CfI6o3QNnMIamFhzhAzBEfxSZ7OEBr1EM0ujE4QAQYqQogoDhADFGYCgQPOUCLpN3oY3g4QD/kLVc/XjhA6Mxjuv2FOEAEghPkej84QMPwETEl/zdAEP3txSoXOEC/X99h7fA4QKeVQiCXlThA7UeKyLCSOEDoj1ai2Rg5QLd8JCU9rzhAR7i23fFjOECt2jUhrZI4QLcm3ZbIRTlAHeOKi6P7OEBfvuKWfF04QOlkqfV+gDhANA2K5gHKOEAPXzlV0bY4QMP7l5FnlzhAZdfQ4Mn7OEDhglmOfQg5QFO9IuUUBTlAi/1l9+TkOEBcNeLcOcM4QJSZ5cWc5ThACahwBKkaOUANXuFKY/g4QOxq8pTVDTlAZDvfT408OUBjEFg5tDo5QOTbuwZ9kTlAT5fFxOZUOUCLTwEwnlM5QO2A64oZRTlA3KD2Wzu2OUAz2OdElXc5QICaWrbWdjlAF/GdmPVSOUCMDkjCvi85QGwkCcIVdzlAcLa5MT21OUCrBQlkibA5QDMFWNEMzDlAszAxgx4UOUBHAg02dd85QLkzEwznczlA6EDpHuzIOUB4o3wuQKg5QB/+h+EQmzlANeSy5AQJOkA=",
          "dtype": "f8"
         },
         "yaxis": "y2"
        },
        {
         "marker": {
          "color": "skyblue"
         },
         "name": "Neerslag (mm)",
         "type": "bar",
         "visible": false,
         "x": {
          "bdata": "lAeVB5YHlweYB5kHmgebB5wHnQeeB58HoAehB6IHowekB6UHpgenB6gHqQeqB6sHrAetB64HrwewB7EHsgezB7QHtQe2B7cHuAe5B7oHuwe8B70Hvge/B8AHwQfCB8MHxAfFB8YHxwfIB8kHygfLB8wHzQfOB88H0AfRB9IH0wfUB9UH1gfXB9gH2QfaB9sH3AfdB94H3wfgB+EH4gfjB+QH5QfmB+cH6Ac=",
          "dtype": "i2"
         },
         "y": {
          "bdata": "6bevA+eEg0BF2PD0yqqFQLyWkA96p4RAGsBbIIE/hUBpAG+BRBSIQOcdp+jIgIRAU5YhjnWRh0BbQj7o2YOAQFZ9rrZiB4dA2evdH+/zg0BZTGw+blOLQKqCUUmdJIlAI0p7gy9TiEAPnDOitOyDQLyWkA9664tAHcnlP+Tkg0AQdR+AVLKGQP32deCcDIhA7MA5I8qVikD9h/TbV1yAQJCg+DHmUYpAWvW52gpwjUBSuB6FazmIQHEbDeDtQoZAliGOdfFchUAkC5jALTSNQAVR9wFIiI9AuAGfH0axikDbM0sClPCMQDSitDf4V4hA5ldzgCBVi0ASvYxi+QOGQAisHFpknohAmEwVjMoaiED/If32dfyOQNszSwIUzIdAnu+nxksUgkAcmUf+YICLQNiBc0aUaIdAc2iR7fx4jECu2F92TzeLQBueXinLT41ANrBVgkVFiEDarPpc7X6KQPKwUGsa0o1AppvEILDDi0D7y+7Jw8GKQHIz3IAPkoxAbqMBvAUqjkCQFJFhFZ6GQAmKH2NuColA+u3rwLm2hUBZi08BsMKKQEw3iUHgYY5AxHx5AbYdjUAIrBxaZJuIQPcGX5hMcIRAMnctIZ/VhkA9m1Wfa8+RQKYKRiV1aYxA7zhFR3KmjkBvKlJhLLOPQLwFEhS/q45AKA8LtaYkhUCR1a2eU0aMQKFns+pzeolADVTGv09bikB6xyk6EqKOQG/whclUIYxAzTtO0RG6iUBkO99PDXmKQDJ3LSHf+olA+b1Nf3YAj0CXkA96tjaJQEcDeAukzYtAnKIjuXyLi0DXEvJBjxKJQFN5O8LpkYxAk8ZoHdVNhUA2WaMeIjaLQP8h/fb134pA08H6P4dqj0A2WaMeos6JQKH4MeaurpFA9GxWfW6/kEA=",
          "dtype": "f8"
         },
         "yaxis": "y"
        },
        {
         "line": {
          "color": "red"
         },
         "mode": "lines",
         "name": "Temperatuur (°C)",
         "type": "scatter",
         "visible": false,
         "x": {
          "bdata": "lAeVB5YHlweYB5kHmgebB5wHnQeeB58HoAehB6IHowekB6UHpgenB6gHqQeqB6sHrAetB64HrwewB7EHsgezB7QHtQe2B7cHuAe5B7oHuwe8B70Hvge/B8AHwQfCB8MHxAfFB8YHxwfIB8kHygfLB8wHzQfOB88H0AfRB9IH0wfUB9UH1gfXB9gH2QfaB9sH3AfdB94H3wfgB+EH4gfjB+QH5QfmB+cH6Ac=",
          "dtype": "i2"
         },
         "y": {
          "bdata": "qSU7ChqrIEAl8XEluo0hQBXl0viF7yBAdJO9SuM1JEB8bo5g0O8iQPWqTRuNJSRA1yhAH6a0IkA9C3k7+WIjQCDoRF6yDSRAF/7C4btYJEA5OY3+4QcjQBn0XckNPSNAHj2iZmwRIkDZtOSDMLkjQEW6R4NNFCJAqZcTQ9y1IUCQE11OQFsgQKo2t8EI3SNAxS5kiHbcIkCsLFKpWnkkQJBDDlvEvSNARaKZ8BRSJEA1HVfoxNAgQEaefxYmOSBAC+/NylHgIkDCW5/x/AoiQDs9l/a/PyNAY3cm2Y9IJEDMIvBjqLwiQGOoqM6txiJA/dVRQ4mhIkAVTUMw6oojQDdsvr4UZSJA/7YUfStzI0DkG/fTbPUjQFt+cqabMCRA4aUcFBX9I0Dz6EZYVKwjQG7+ui5XUCJAFf4Mb9YRIUCOD2kK03AiQKoZ/V1esiJA3JuEd14SJEDDgFG/EjAkQNVyQy9/ryJAbf1BFgDhIEALlILcs9EhQISSSvmRdCFAlecLa3SJJED9cLQHfk4lQHm/Gxw2gCVAE3CduWbsIkDPrFvzmeEkQGDO/tI0FiNAvxTnceEWJUCnZvGOSagkQJTlBm+F2yBArW6+2ho8JEDcAorZE34kQNijJrDvoiVAIK0N8eukJUCusSdd1p0kQNmPghUVeiVAKKFPPwPbJECJ5qZyf8QkQCwI+EhdKSVAIUPrBcMjJkC5x/Z+x0omQI6k7hS8EyVAjJeB3UPqJEB0Z4HRQAAiQAQtpa9okSVADyjzQkhXJECCwg7RVmUjQK9D/mJ/KSdA22I2gDaIJUCbBtduTVglQAVHpbTavSVA2a5fmmeBJkDRzmkWaFomQM3hWu1hJydAFxTPokC8JEB7tx4qMhInQGs2s7r5RydAhNPwmzByJ0A=",
          "dtype": "f8"
         },
         "yaxis": "y2"
        },
        {
         "marker": {
          "color": "skyblue"
         },
         "name": "Neerslag (mm)",
         "type": "bar",
         "visible": false,
         "x": {
          "bdata": "lAeVB5YHlweYB5kHmgebB5wHnQeeB58HoAehB6IHowekB6UHpgenB6gHqQeqB6sHrAetB64HrwewB7EHsgezB7QHtQe2B7cHuAe5B7oHuwe8B70Hvge/B8AHwQfCB8MHxAfFB8YHxwfIB8kHygfLB8wHzQfOB88H0AfRB9IH0wfUB9UH1gfXB9gH2QfaB9sH3AfdB94H3wfgB+EH4gfjB+QH5QfmB+cH6Ac=",
          "dtype": "i2"
         },
         "y": {
          "bdata": "j+TyH1KmiUAEOShhJuyJQAVR9wHIu4xAMjhKXp0/iUB5WKg1TSmTQNobfGGyxo9AUrgehWucjkAJG55eaZuUQH9qvHRTZ5FAPnlYqDWwhkAX2c7305KQQB+F61E4EZNAZF3cRoPQkUDChqdXSgeRQNejcD1KG5BAJQaBlUO3kUAdOGdEqZ2SQI2XbhKD/ZNAHvmDgWc1jUDc9Gc/UiSMQMQlx51S5o5AmN2Th4UKjUDlYaHW9IuQQKhXyjJELo9AC2MLQY4UiEC9UpYhTpqLQF1txf7ybYxAZapgVNJOkkCoxks3iRWTQCo6kst/UpNAPZtVn6s3kUBPr5RlCCWSQBgmUwUj5ZBAVg4tsp0ikUDXEvJBzzWSQPT91HgpUJJAo5I6AQ3gkUATYcPTK+6OQOwvuyePr5JAdk8eFuogk0BkXdxGQ5+UQM/3U+PlpJFAqMZLN4nIkEAH8BZIUBOLQPH0SlnGOJBAwFsgQfGSkkANcayLmwuRQB04Z0QpkpBAPSzUmiYxlEAkKH6MOf6QQF3+Q/otY5BAat5xio51kkAJG55eaUeRQBKDwMohRJBA7FG4HoU1lECIY13cxkWSQAu1pnlHNZFAzqrP1ZbbkEC0yHa+HyeRQBWMSuoEapNAjLlrCTkkkEBv8IXJVC6PQOVhodb0cZBA6Gor9pd/j0D0/dR46UGPQDGZKhiV6I5Ak8ZoHdWJj0CVZYhjHT+QQCv2l90TAJFA7Z48LJQxkECCc0aUtp2RQFYrE34pzo5AdZMYBJankkCCc0aUNniQQLHh6ZVyYpJA3SQGgVUckEDu68A5Y26SQDBMpgqGc5BAr5RliGPkkEAaUdobvL+TQLRZ9bnaRY9A09nJ4KjGi0DeAgmKHwqPQE3zjlP0gY5AHhZqTXO9jkA=",
          "dtype": "f8"
         },
         "yaxis": "y"
        },
        {
         "line": {
          "color": "red"
         },
         "mode": "lines",
         "name": "Temperatuur (°C)",
         "type": "scatter",
         "visible": false,
         "x": {
          "bdata": "lAeVB5YHlweYB5kHmgebB5wHnQeeB58HoAehB6IHowekB6UHpgenB6gHqQeqB6sHrAetB64HrwewB7EHsgezB7QHtQe2B7cHuAe5B7oHuwe8B70Hvge/B8AHwQfCB8MHxAfFB8YHxwfIB8kHygfLB8wHzQfOB88H0AfRB9IH0wfUB9UH1gfXB9gH2QfaB9sH3AfdB94H3wfgB+EH4gfjB+QH5QfmB+cH6Ac=",
          "dtype": "i2"
         },
         "y": {
          "bdata": "aa7AfQqDOkCzlZf8T+M6QGGa/CloXDpA1THBg3khOkBZuSpjVsw5QAk9iIpekzlArI+HvrvROUCH4o43+b45QBFiQXQbqDlA9UwcZlXNOkCzA8H2ptI5QL9bMwwy3DlA9DKK5ZbqOUBsLE6iS/Q5QFjNYHl9/jlAxfhDRhrQOUB88UV7vNg5QKn8WK6kejlATd2Cku+HOkDZ8OF/GHs6QOetug7VljpAyFpDqb0pOkA84+gXEk06QCk3ZBa0qDpAjSYXY2C8OkDzzTY3pps6QD/5zkIVwDpADYrmASw6OkDwgMX0l0I6QFMKur2kjjpADSqE6COKOkBZSpaTUF86QCc7IzewpzpAA4xBOk8hO0A1AZmwECM6QGimjmgV9zlAs7/Z0/srOkAhVKnZA3g6QI32ZVbcUjpAuOLiqNyiOkC1pQ7yerY6QM3yYk69aTpAm5DWGHSPOkDoCzSyPt46QFy1WHcZ0zpAP1dbsb+XOkDA7nTnicY6QLzXNrIYXTtAhGQBE7jNOkB4eTpXlD06QDCOt4KTBjtA4BlaitGyOkA8ubkLpz46QGiIPcda0DpA7AO2cEZ9OkBB21cL2bQ6QOvYG48s0jpAoLs3mcvKOkAMjpJX52g7QENoF+YX5jpAI7HKcv+pOkBMChm16Lk6QCnltRK63DpAr7DzSQEUO0DgxH3RCyY7QNjsW8DehDtA6Jebgg93O0BkwkLANAQ7QPjB+dSx0TpAuBrsYNeBO0BERhrvocA7QKxohmccQDtA8RgLMBkCO0Abg04IHUQ7QDgyj/zBHTtAIXwVBlJIO0Dz1ubsimk7QAdXU2zfZDtAaX4PcYY2O0DhvZD7Q0E7QNBzHijKQjtAi4GI53+AO0DxzUkC5/g6QFW0TJmupTtAwQRbEo3EO0A=",
          "dtype": "f8"
         },
         "yaxis": "y2"
        },
        {
         "marker": {
          "color": "skyblue"
         },
         "name": "Neerslag (mm)",
         "type": "bar",
         "visible": false,
         "x": {
          "bdata": "lAeVB5YHlweYB5kHmgebB5wHnQeeB58HoAehB6IHowekB6UHpgenB6gHqQeqB6sHrAetB64HrwewB7EHsgezB7QHtQe2B7cHuAe5B7oHuwe8B70Hvge/B8AHwQfCB8MHxAfFB8YHxwfIB8kHygfLB8wHzQfOB88H0AfRB9IH0wfUB9UH1gfXB9gH2QfaB9sH3AfdB94H3wfgB+EH4gfjB+QH5QfmB+cH6Ac=",
          "dtype": "i2"
         },
         "y": {
          "bdata": "Df0TXCzwfEDJ5T+kX+V5QHEbDeBtf4JA1zTvOMW+gkA82jhiLSCFQN0kBoHVtIBAR3cQO1P8f0CAt0CC4u2AQG3F/rJ7HIJABOJ1/YJrdkBpAG+BRK6CQMDsnjwssX5AU5YhjnWEgUBrmnecoqt7QLRZ9bnalXJAbAn5oGd+gEBbsb/snlOAQKJinL8JmIJAdAzIXq9EgkCCkCxgAqqAQIGVQ4tsioFAeqUsQ5yXgkCH4SNiCouBQJIFTOAWpYNACAPPvYeqfUC94xQdSfd3QJ5BQ/+EuX5AyXa+n5qkgkBNEHUfgNt6QDXvOEXHJ35AnL8JhQg9f0AUP8bcNWCCQG/Tn/3IXIBAhslUwSi4gkATYcPTqzCHQOcdp+hIhoNAR+aRPxhEhkC8BRIUP02DQH+HokCfan9ADi2ynW8kf0D/z2G+PER9QB8RUyKJoYJAfm/Tn30cfUDrkJvhhl59QPxvJTs2+XxAthDkoATrgkB0tRX7y0CBQP+ye/Iw/oJA6znpfSNdhkBcj8L1qPKCQBb2tMPfbH5A8fRKWQavgkBqatla35R3QETdByA1jH9AwTkjSnu5ekA/48KBkOeBQMDsnjwslYRAAvG6foFmgUAoLPGAMjKBQNSa5h3nCYFAQBNhw9O8hkAfuqC+paaEQEqYafvX9n5ATfOOU3QnekAibHh6JRmBQGuCqPsAqn9AbTmX4ipxhUAN4C2QoFx8QLYQ5KAEb31A93XgnJHxgEDXo3A9ypCBQAYSFD8GYINAVOOlm0SZgEA0aOif4Gl9QNxGA3gLqIBAu7iNBvDZdkAFUfcByDx8QLprCfmgYH5AFD/G3DW1eUDcSxqjdeB4QNXKhF/qSoBAObnfoSiag0CQMXctoXuEQF6dY0B2vH9AUMJM278reUA=",
          "dtype": "f8"
         },
         "yaxis": "y"
        },
        {
         "line": {
          "color": "red"
         },
         "mode": "lines",
         "name": "Temperatuur (°C)",
         "type": "scatter",
         "visible": false,
         "x": {
          "bdata": "lAeVB5YHlweYB5kHmgebB5wHnQeeB58HoAehB6IHowekB6UHpgenB6gHqQeqB6sHrAetB64HrwewB7EHsgezB7QHtQe2B7cHuAe5B7oHuwe8B70Hvge/B8AHwQfCB8MHxAfFB8YHxwfIB8kHygfLB8wHzQfOB88H0AfRB9IH0wfUB9UH1gfXB9gH2QfaB9sH3AfdB94H3wfgB+EH4gfjB+QH5QfmB+cH6Ac=",
          "dtype": "i2"
         },
         "y": {
          "bdata": "VXOm9g+7MUAS2nIuxeIxQGURnXjh8DBAqfi/Iyq3MEBgAUwZOJ4wQN0el0u9VTFADPgP/IIrMUBXUgEKCLgwQF0u9QZykTBACGg1N7moMUDZsKayKGExQPYSUM49ZzFAX3mQniKLMUD2vAhASdIxQDuUjl9lrzBAGbE8NQRjMEAgV/0k0d0wQPcOpHgCODFA7LRI7VhjMUAmB9mfMTsxQJ268lmeQzFASUvl7YhAMUBFR3L5D5wxQFiR0QFJNjFAXs/q99cJMUA3PoAyszExQC+lLhnHnTFAQYm80h8DMUAjEoWWdZAwQAW5nvuFYjFAEZcJrImFMUA4sgWXIRMxQAHYgAhxcDFAFmAyaPtGMUCh1ckZiq8wQMP7l5FnvjBAW9jAQz6IMEA9vT/L4FAxQAncupunKjFAa7JZCIV0MUAVvtGh5n0xQI2qOVN75DBAqdxELc2TMUAPOvvdzgEyQMzR4/c2xzFAWDAEE5LiMUCkqgmi7tcxQHmT36KT6zFAGnWa8g5eMUA7kyOKti8xQJG3XP3YhzFAzRj5z62CMUCvCtRi8AQyQOmC+pY5DDJAVGFZVoduMUAjk2YGBIcxQGMby8611TBAmw0f/gdFMUBc1X/DMd4xQMx1LTRqUzJAGe5JTag8MUDvuTmCQZoxQDh6D6pnxjFAZZ5vHmEbMkAhXy86RgkyQD/X0UufHjJAWUWSM6dwMUBhzIPhSdoxQNO2dN/E4DFABBT9tGTCMUAhNQAu2zkyQG1bgQ5gUjFA8lZwUqu1MUAzvdcj59oxQKvrUE1J9DFAJrpBx6HXMkA7DpbEbNQyQJuqe2RzSDJA+n3/5sVdMkAJvRHwfiIzQPHCw6GkLjJAw6iRg3/aMUCnFiSQJR8yQFuukTfTPDJAaFvNOuPqMkA=",
          "dtype": "f8"
         },
         "yaxis": "y2"
        },
        {
         "marker": {
          "color": "skyblue"
         },
         "name": "Neerslag (mm)",
         "type": "bar",
         "visible": false,
         "x": {
          "bdata": "lAeVB5YHlweYB5kHmgebB5wHnQeeB58HoAehB6IHowekB6UHpgenB6gHqQeqB6sHrAetB64HrwewB7EHsgezB7QHtQe2B7cHuAe5B7oHuwe8B70Hvge/B8AHwQfCB8MHxAfFB8YHxwfIB8kHygfLB8wHzQfOB88H0AfRB9IH0wfUB9UH1gfXB9gH2QfaB9sH3AfdB94H3wfgB+EH4gfjB+QH5QfmB+cH6Ac=",
          "dtype": "i2"
         },
         "y": {
          "bdata": "owG8BZI3iEDA7J48LNqHQORO6WC9qYdAc0urIXEWhkBbsb/sHimJQA+cM6K0pYtA3EYDeIvliUDqlbIMcauIQLU3+MJkdolAVOOlm0TTiUAtQxzr4o6JQAYSFD/GmIpA93XgnJEOh0A7cM6I0vWHQKJinL8JJ4ZA5j+k3z6hh0BftTLhl/iFQI4G8BbIS4tA+MJkqmAaiECthsQ9FsGJQNejcD3KiYhA4L4OnLMBikCndLD+zwuHQMPTK2WZXIZAzH9Iv71xiEBz1xLywWOIQK5H4XoU2YVAVWr2QGtGiEALRiV1goaHQETdByA1wYdAxLEubiPch0DXEvJBT+eHQOOlm8Sg+IhAswxxrIs2jEAUrkfhuo+IQI/C9ShcB4pAqoJRSR2jhkB/arx0E8qJQI/8wcCzmolAc2iR7fzXikA3iUFgJWSJQP5D+u1rVIpAVpqUgm4qjUD5vU1/dhyNQATidf2CB4tA+PwwQrggi0CR1a2e05SLQIofY+5aIIpAbvqzH2nmh0AcfGEy1X6JQATidf0CRItAtFn1uVpni0C+E7NeDKOKQAfOGVHaYIxAmnecouNbikA7cM6I0gOLQD2bVZ9rVItAgpAsYAJWikDkDwaee7WLQJVliGPd44dAjZyFPe0ViECkU1c+Sx2IQCqpE9DEgYhAkst/SL8viUAsZRniWNOKQPYoXI/CwohA6bevA+epiEDUmuYdZ3GHQKMBvAWSi4lANlmjHiI5ikC2+BQAYxeJQBB1H4DU+ohAhslUwaivhkCRD3o2q1mJQHNoke185ohAY3/ZPXkni0BGtvP91NCJQKOSOgFNP4tAdLUV+0vejEBQjZduElCNQAMJih8ja4lAgSbChicUikB2/YLdsOmIQNO84xSdeYlAB/AWSFDVikA=",
          "dtype": "f8"
         },
         "yaxis": "y"
        },
        {
         "line": {
          "color": "red"
         },
         "mode": "lines",
         "name": "Temperatuur (°C)",
         "type": "scatter",
         "visible": false,
         "x": {
          "bdata": "lAeVB5YHlweYB5kHmgebB5wHnQeeB58HoAehB6IHowekB6UHpgenB6gHqQeqB6sHrAetB64HrwewB7EHsgezB7QHtQe2B7cHuAe5B7oHuwe8B70Hvge/B8AHwQfCB8MHxAfFB8YHxwfIB8kHygfLB8wHzQfOB88H0AfRB9IH0wfUB9UH1gfXB9gH2QfaB9sH3AfdB94H3wfgB+EH4gfjB+QH5QfmB+cH6Ac=",
          "dtype": "i2"
         },
         "y": {
          "bdata": "LQY7OyAXIEDoz4YVUQggQKugLPVbZR9AjeXpnu3BIEBPpSEKMvsgQEnSoxcjLiBAIobCDDLCIEBn+WI8PGgfQGBX9tHnhyBABkFadptsIUCfnFcryfUgQLvvSiebiiBA/oy2Hy/FIUBF2o/dzsoiQN+P075WbiJAA2ptwgrJIEBXEsY8GBghQC1XuBR1+yFAuha/uyeiIUCHmqAFIFYhQGoniXXEFSFA2S9XvubZIECSlCvzDXkhQJvxNYN3uyFAW57pUa6zIEDzJsIu198gQBRLSY7zqCBATwcNWM1fIUC9ceQTRL0gQDaXgR9gMyFAinQ/p6AUIUCXj6Skh5UgQJ2HpRObeiBARfacT3ieIUD1nJkFf3ohQKXOW/TNoSBAh7W7gMb+IEAOOHoaxEUiQLFGUA/kNiFAnPP4YpQKIUDbYpE5qQkiQIk+xKtRLSNAAlaa1h7PIEAAvyKbh6QhQCelMleYUSFAT9NUPBv1IEBjzTalKr8iQEbFB4+Z+iJAyQKU9J5rIkBAatxkHZYhQB1uLM1S7yJAT9choL/MIkDBYH9aDdghQHWwkEuuliFAoeqsIbKGIkDfXQ2jMZIiQOebWqMLLSFABoZEiwDHIUAzQI8+07kjQOXLbtpKwiJA00eFVszfIkCzckL7axIjQHFvDVbhOyNABGlH8t0WI0Ae+5DuHhYjQLuRT0w4tSNAjxGwIpTuI0AKBEu/jrojQLcURmkl+yFA9rUj28k2IkA1qOyq9gUjQIlFDDuMGSNATSaMOn3HJEDT7MvjemQiQFEQn+h45SJAy+k+QkWuJEALNi0w46ElQEwxamuC6yRA2JGmHqIqJEBDreK8HbMjQK0y2nvTiyRAMxVQFixwJEDzzMth97sjQPUx6E0OtSRA0w0Rj3dtJUA=",
          "dtype": "f8"
         },
         "yaxis": "y2"
        }
       ],
       "layout": {
        "height": 600,
        "legend": {
         "orientation": "h",
         "x": 0.5,
         "xanchor": "center",
         "y": -0.2
        },
        "template": {
         "data": {
          "bar": [
           {
            "error_x": {
             "color": "#2a3f5f"
            },
            "error_y": {
             "color": "#2a3f5f"
            },
            "marker": {
             "line": {
              "color": "#E5ECF6",
              "width": 0.5
             },
             "pattern": {
              "fillmode": "overlay",
              "size": 10,
              "solidity": 0.2
             }
            },
            "type": "bar"
           }
          ],
          "barpolar": [
           {
            "marker": {
             "line": {
              "color": "#E5ECF6",
              "width": 0.5
             },
             "pattern": {
              "fillmode": "overlay",
              "size": 10,
              "solidity": 0.2
             }
            },
            "type": "barpolar"
           }
          ],
          "carpet": [
           {
            "aaxis": {
             "endlinecolor": "#2a3f5f",
             "gridcolor": "white",
             "linecolor": "white",
             "minorgridcolor": "white",
             "startlinecolor": "#2a3f5f"
            },
            "baxis": {
             "endlinecolor": "#2a3f5f",
             "gridcolor": "white",
             "linecolor": "white",
             "minorgridcolor": "white",
             "startlinecolor": "#2a3f5f"
            },
            "type": "carpet"
           }
          ],
          "choropleth": [
           {
            "colorbar": {
             "outlinewidth": 0,
             "ticks": ""
            },
            "type": "choropleth"
           }
          ],
          "contour": [
           {
            "colorbar": {
             "outlinewidth": 0,
             "ticks": ""
            },
            "colorscale": [
             [
              0,
              "#0d0887"
             ],
             [
              0.1111111111111111,
              "#46039f"
             ],
             [
              0.2222222222222222,
              "#7201a8"
             ],
             [
              0.3333333333333333,
              "#9c179e"
             ],
             [
              0.4444444444444444,
              "#bd3786"
             ],
             [
              0.5555555555555556,
              "#d8576b"
             ],
             [
              0.6666666666666666,
              "#ed7953"
             ],
             [
              0.7777777777777778,
              "#fb9f3a"
             ],
             [
              0.8888888888888888,
              "#fdca26"
             ],
             [
              1,
              "#f0f921"
             ]
            ],
            "type": "contour"
           }
          ],
          "contourcarpet": [
           {
            "colorbar": {
             "outlinewidth": 0,
             "ticks": ""
            },
            "type": "contourcarpet"
           }
          ],
          "heatmap": [
           {
            "colorbar": {
             "outlinewidth": 0,
             "ticks": ""
            },
            "colorscale": [
             [
              0,
              "#0d0887"
             ],
             [
              0.1111111111111111,
              "#46039f"
             ],
             [
              0.2222222222222222,
              "#7201a8"
             ],
             [
              0.3333333333333333,
              "#9c179e"
             ],
             [
              0.4444444444444444,
              "#bd3786"
             ],
             [
              0.5555555555555556,
              "#d8576b"
             ],
             [
              0.6666666666666666,
              "#ed7953"
             ],
             [
              0.7777777777777778,
              "#fb9f3a"
             ],
             [
              0.8888888888888888,
              "#fdca26"
             ],
             [
              1,
              "#f0f921"
             ]
            ],
            "type": "heatmap"
           }
          ],
          "histogram": [
           {
            "marker": {
             "pattern": {
              "fillmode": "overlay",
              "size": 10,
              "solidity": 0.2
             }
            },
            "type": "histogram"
           }
          ],
          "histogram2d": [
           {
            "colorbar": {
             "outlinewidth": 0,
             "ticks": ""
            },
            "colorscale": [
             [
              0,
              "#0d0887"
             ],
             [
              0.1111111111111111,
              "#46039f"
             ],
             [
              0.2222222222222222,
              "#7201a8"
             ],
             [
              0.3333333333333333,
              "#9c179e"
             ],
             [
              0.4444444444444444,
              "#bd3786"
             ],
             [
              0.5555555555555556,
              "#d8576b"
             ],
             [
              0.6666666666666666,
              "#ed7953"
             ],
             [
              0.7777777777777778,
              "#fb9f3a"
             ],
             [
              0.8888888888888888,
              "#fdca26"
             ],
             [
              1,
              "#f0f921"
             ]
            ],
            "type": "histogram2d"
           }
          ],
          "histogram2dcontour": [
           {
            "colorbar": {
             "outlinewidth": 0,
             "ticks": ""
            },
            "colorscale": [
             [
              0,
              "#0d0887"
             ],
             [
              0.1111111111111111,
              "#46039f"
             ],
             [
              0.2222222222222222,
              "#7201a8"
             ],
             [
              0.3333333333333333,
              "#9c179e"
             ],
             [
              0.4444444444444444,
              "#bd3786"
             ],
             [
              0.5555555555555556,
              "#d8576b"
             ],
             [
              0.6666666666666666,
              "#ed7953"
             ],
             [
              0.7777777777777778,
              "#fb9f3a"
             ],
             [
              0.8888888888888888,
              "#fdca26"
             ],
             [
              1,
              "#f0f921"
             ]
            ],
            "type": "histogram2dcontour"
           }
          ],
          "mesh3d": [
           {
            "colorbar": {
             "outlinewidth": 0,
             "ticks": ""
            },
            "type": "mesh3d"
           }
          ],
          "parcoords": [
           {
            "line": {
             "colorbar": {
              "outlinewidth": 0,
              "ticks": ""
             }
            },
            "type": "parcoords"
           }
          ],
          "pie": [
           {
            "automargin": true,
            "type": "pie"
           }
          ],
          "scatter": [
           {
            "fillpattern": {
             "fillmode": "overlay",
             "size": 10,
             "solidity": 0.2
            },
            "type": "scatter"
           }
          ],
          "scatter3d": [
           {
            "line": {
             "colorbar": {
              "outlinewidth": 0,
              "ticks": ""
             }
            },
            "marker": {
             "colorbar": {
              "outlinewidth": 0,
              "ticks": ""
             }
            },
            "type": "scatter3d"
           }
          ],
          "scattercarpet": [
           {
            "marker": {
             "colorbar": {
              "outlinewidth": 0,
              "ticks": ""
             }
            },
            "type": "scattercarpet"
           }
          ],
          "scattergeo": [
           {
            "marker": {
             "colorbar": {
              "outlinewidth": 0,
              "ticks": ""
             }
            },
            "type": "scattergeo"
           }
          ],
          "scattergl": [
           {
            "marker": {
             "colorbar": {
              "outlinewidth": 0,
              "ticks": ""
             }
            },
            "type": "scattergl"
           }
          ],
          "scattermap": [
           {
            "marker": {
             "colorbar": {
              "outlinewidth": 0,
              "ticks": ""
             }
            },
            "type": "scattermap"
           }
          ],
          "scattermapbox": [
           {
            "marker": {
             "colorbar": {
              "outlinewidth": 0,
              "ticks": ""
             }
            },
            "type": "scattermapbox"
           }
          ],
          "scatterpolar": [
           {
            "marker": {
             "colorbar": {
              "outlinewidth": 0,
              "ticks": ""
             }
            },
            "type": "scatterpolar"
           }
          ],
          "scatterpolargl": [
           {
            "marker": {
             "colorbar": {
              "outlinewidth": 0,
              "ticks": ""
             }
            },
            "type": "scatterpolargl"
           }
          ],
          "scatterternary": [
           {
            "marker": {
             "colorbar": {
              "outlinewidth": 0,
              "ticks": ""
             }
            },
            "type": "scatterternary"
           }
          ],
          "surface": [
           {
            "colorbar": {
             "outlinewidth": 0,
             "ticks": ""
            },
            "colorscale": [
             [
              0,
              "#0d0887"
             ],
             [
              0.1111111111111111,
              "#46039f"
             ],
             [
              0.2222222222222222,
              "#7201a8"
             ],
             [
              0.3333333333333333,
              "#9c179e"
             ],
             [
              0.4444444444444444,
              "#bd3786"
             ],
             [
              0.5555555555555556,
              "#d8576b"
             ],
             [
              0.6666666666666666,
              "#ed7953"
             ],
             [
              0.7777777777777778,
              "#fb9f3a"
             ],
             [
              0.8888888888888888,
              "#fdca26"
             ],
             [
              1,
              "#f0f921"
             ]
            ],
            "type": "surface"
           }
          ],
          "table": [
           {
            "cells": {
             "fill": {
              "color": "#EBF0F8"
             },
             "line": {
              "color": "white"
             }
            },
            "header": {
             "fill": {
              "color": "#C8D4E3"
             },
             "line": {
              "color": "white"
             }
            },
            "type": "table"
           }
          ]
         },
         "layout": {
          "annotationdefaults": {
           "arrowcolor": "#2a3f5f",
           "arrowhead": 0,
           "arrowwidth": 1
          },
          "autotypenumbers": "strict",
          "coloraxis": {
           "colorbar": {
            "outlinewidth": 0,
            "ticks": ""
           }
          },
          "colorscale": {
           "diverging": [
            [
             0,
             "#8e0152"
            ],
            [
             0.1,
             "#c51b7d"
            ],
            [
             0.2,
             "#de77ae"
            ],
            [
             0.3,
             "#f1b6da"
            ],
            [
             0.4,
             "#fde0ef"
            ],
            [
             0.5,
             "#f7f7f7"
            ],
            [
             0.6,
             "#e6f5d0"
            ],
            [
             0.7,
             "#b8e186"
            ],
            [
             0.8,
             "#7fbc41"
            ],
            [
             0.9,
             "#4d9221"
            ],
            [
             1,
             "#276419"
            ]
           ],
           "sequential": [
            [
             0,
             "#0d0887"
            ],
            [
             0.1111111111111111,
             "#46039f"
            ],
            [
             0.2222222222222222,
             "#7201a8"
            ],
            [
             0.3333333333333333,
             "#9c179e"
            ],
            [
             0.4444444444444444,
             "#bd3786"
            ],
            [
             0.5555555555555556,
             "#d8576b"
            ],
            [
             0.6666666666666666,
             "#ed7953"
            ],
            [
             0.7777777777777778,
             "#fb9f3a"
            ],
            [
             0.8888888888888888,
             "#fdca26"
            ],
            [
             1,
             "#f0f921"
            ]
           ],
           "sequentialminus": [
            [
             0,
             "#0d0887"
            ],
            [
             0.1111111111111111,
             "#46039f"
            ],
            [
             0.2222222222222222,
             "#7201a8"
            ],
            [
             0.3333333333333333,
             "#9c179e"
            ],
            [
             0.4444444444444444,
             "#bd3786"
            ],
            [
             0.5555555555555556,
             "#d8576b"
            ],
            [
             0.6666666666666666,
             "#ed7953"
            ],
            [
             0.7777777777777778,
             "#fb9f3a"
            ],
            [
             0.8888888888888888,
             "#fdca26"
            ],
            [
             1,
             "#f0f921"
            ]
           ]
          },
          "colorway": [
           "#636efa",
           "#EF553B",
           "#00cc96",
           "#ab63fa",
           "#FFA15A",
           "#19d3f3",
           "#FF6692",
           "#B6E880",
           "#FF97FF",
           "#FECB52"
          ],
          "font": {
           "color": "#2a3f5f"
          },
          "geo": {
           "bgcolor": "white",
           "lakecolor": "white",
           "landcolor": "#E5ECF6",
           "showlakes": true,
           "showland": true,
           "subunitcolor": "white"
          },
          "hoverlabel": {
           "align": "left"
          },
          "hovermode": "closest",
          "mapbox": {
           "style": "light"
          },
          "paper_bgcolor": "white",
          "plot_bgcolor": "#E5ECF6",
          "polar": {
           "angularaxis": {
            "gridcolor": "white",
            "linecolor": "white",
            "ticks": ""
           },
           "bgcolor": "#E5ECF6",
           "radialaxis": {
            "gridcolor": "white",
            "linecolor": "white",
            "ticks": ""
           }
          },
          "scene": {
           "xaxis": {
            "backgroundcolor": "#E5ECF6",
            "gridcolor": "white",
            "gridwidth": 2,
            "linecolor": "white",
            "showbackground": true,
            "ticks": "",
            "zerolinecolor": "white"
           },
           "yaxis": {
            "backgroundcolor": "#E5ECF6",
            "gridcolor": "white",
            "gridwidth": 2,
            "linecolor": "white",
            "showbackground": true,
            "ticks": "",
            "zerolinecolor": "white"
           },
           "zaxis": {
            "backgroundcolor": "#E5ECF6",
            "gridcolor": "white",
            "gridwidth": 2,
            "linecolor": "white",
            "showbackground": true,
            "ticks": "",
            "zerolinecolor": "white"
           }
          },
          "shapedefaults": {
           "line": {
            "color": "#2a3f5f"
           }
          },
          "ternary": {
           "aaxis": {
            "gridcolor": "white",
            "linecolor": "white",
            "ticks": ""
           },
           "baxis": {
            "gridcolor": "white",
            "linecolor": "white",
            "ticks": ""
           },
           "bgcolor": "#E5ECF6",
           "caxis": {
            "gridcolor": "white",
            "linecolor": "white",
            "ticks": ""
           }
          },
          "title": {
           "x": 0.05
          },
          "xaxis": {
           "automargin": true,
           "gridcolor": "white",
           "linecolor": "white",
           "ticks": "",
           "title": {
            "standoff": 15
           },
           "zerolinecolor": "white",
           "zerolinewidth": 2
          },
          "yaxis": {
           "automargin": true,
           "gridcolor": "white",
           "linecolor": "white",
           "ticks": "",
           "title": {
            "standoff": 15
           },
           "zerolinecolor": "white",
           "zerolinewidth": 2
          }
         }
        },
        "title": {
         "text": "Neerslag en temperatuur in Brazil"
        },
        "updatemenus": [
         {
          "active": 0,
          "buttons": [
           {
            "args": [
             {
              "visible": [
               true,
               true,
               false,
               false,
               false,
               false,
               false,
               false,
               false,
               false,
               false,
               false,
               false,
               false,
               false,
               false,
               false,
               false,
               false,
               false
              ]
             },
             {
              "title": "Neerslag en temperatuur in Brazil"
             }
            ],
            "label": "Brazil",
            "method": "update"
           },
           {
            "args": [
             {
              "visible": [
               false,
               false,
               true,
               true,
               false,
               false,
               false,
               false,
               false,
               false,
               false,
               false,
               false,
               false,
               false,
               false,
               false,
               false,
               false,
               false
              ]
             },
             {
              "title": "Neerslag en temperatuur in Canada"
             }
            ],
            "label": "Canada",
            "method": "update"
           },
           {
            "args": [
             {
              "visible": [
               false,
               false,
               false,
               false,
               true,
               true,
               false,
               false,
               false,
               false,
               false,
               false,
               false,
               false,
               false,
               false,
               false,
               false,
               false,
               false
              ]
             },
             {
              "title": "Neerslag en temperatuur in China"
             }
            ],
            "label": "China",
            "method": "update"
           },
           {
            "args": [
             {
              "visible": [
               false,
               false,
               false,
               false,
               false,
               false,
               true,
               true,
               false,
               false,
               false,
               false,
               false,
               false,
               false,
               false,
               false,
               false,
               false,
               false
              ]
             },
             {
              "title": "Neerslag en temperatuur in India"
             }
            ],
            "label": "India",
            "method": "update"
           },
           {
            "args": [
             {
              "visible": [
               false,
               false,
               false,
               false,
               false,
               false,
               false,
               false,
               true,
               true,
               false,
               false,
               false,
               false,
               false,
               false,
               false,
               false,
               false,
               false
              ]
             },
             {
              "title": "Neerslag en temperatuur in Indonesia"
             }
            ],
            "label": "Indonesia",
            "method": "update"
           },
           {
            "args": [
             {
              "visible": [
               false,
               false,
               false,
               false,
               false,
               false,
               false,
               false,
               false,
               false,
               true,
               true,
               false,
               false,
               false,
               false,
               false,
               false,
               false,
               false
              ]
             },
             {
              "title": "Neerslag en temperatuur in Kenya"
             }
            ],
            "label": "Kenya",
            "method": "update"
           },
           {
            "args": [
             {
              "visible": [
               false,
               false,
               false,
               false,
               false,
               false,
               false,
               false,
               false,
               false,
               false,
               false,
               true,
               true,
               false,
               false,
               false,
               false,
               false,
               false
              ]
             },
             {
              "title": "Neerslag en temperatuur in Netherlands"
             }
            ],
            "label": "Netherlands",
            "method": "update"
           },
           {
            "args": [
             {
              "visible": [
               false,
               false,
               false,
               false,
               false,
               false,
               false,
               false,
               false,
               false,
               false,
               false,
               false,
               false,
               true,
               true,
               false,
               false,
               false,
               false
              ]
             },
             {
              "title": "Neerslag en temperatuur in Nigeria"
             }
            ],
            "label": "Nigeria",
            "method": "update"
           },
           {
            "args": [
             {
              "visible": [
               false,
               false,
               false,
               false,
               false,
               false,
               false,
               false,
               false,
               false,
               false,
               false,
               false,
               false,
               false,
               false,
               true,
               true,
               false,
               false
              ]
             },
             {
              "title": "Neerslag en temperatuur in South Africa"
             }
            ],
            "label": "South Africa",
            "method": "update"
           },
           {
            "args": [
             {
              "visible": [
               false,
               false,
               false,
               false,
               false,
               false,
               false,
               false,
               false,
               false,
               false,
               false,
               false,
               false,
               false,
               false,
               false,
               false,
               true,
               true
              ]
             },
             {
              "title": "Neerslag en temperatuur in United States"
             }
            ],
            "label": "United States",
            "method": "update"
           }
          ],
          "x": 0.5,
          "xanchor": "center",
          "y": 1.15,
          "yanchor": "top"
         }
        ],
        "xaxis": {
         "title": {
          "text": "Jaar"
         }
        },
        "yaxis": {
         "range": [
          0,
          3500
         ],
         "title": {
          "text": "Neerslag (mm)"
         }
        },
        "yaxis2": {
         "overlaying": "y",
         "range": [
          -7,
          30
         ],
         "side": "right",
         "title": {
          "text": "Temperatuur (°C)"
         }
        }
       }
      }
     },
     "metadata": {},
     "output_type": "display_data"
    }
   ],
   "source": [
    "import pandas as pd\n",
    "import plotly.graph_objects as go\n",
    "\n",
    "# -- Inladen data --\n",
    "temp_df = pd.read_csv(\"datasets/average-monthly-surface-temperature.csv\")\n",
    "rain_df = pd.read_csv(\"datasets/average-precipitation-per-year.csv\")\n",
    "\n",
    "# -- Landen & naamcorrecties --\n",
    "landen = [\n",
    "    \"Brazil\", \"Canada\", \"China\", \"India\", \"Indonesia\", \"Kenya\",\n",
    "    \"Netherlands (Kingdom of the)\", \"Nigeria\", \"South Africa\", \"United States of America\"\n",
    "]\n",
    "land_mapping = {\n",
    "    \"Netherlands (Kingdom of the)\": \"Netherlands\",\n",
    "    \"United States of America\": \"United States\"\n",
    "}\n",
    "temp_df[\"Entity\"] = temp_df[\"Entity\"].replace(land_mapping)\n",
    "rain_df[\"Entity\"] = rain_df[\"Entity\"].replace(land_mapping)\n",
    "landen = [land_mapping.get(land, land) for land in landen]\n",
    "\n",
    "# -- Temperatuur verwerken --\n",
    "temp_df_filtered = temp_df[temp_df[\"Entity\"].isin(landen)].copy()\n",
    "temp_df_filtered[\"Year\"] = temp_df_filtered[\"year\"]\n",
    "temp_avg = temp_df_filtered.groupby([\"Entity\", \"Year\"])[\"Average surface temperature\"].mean().reset_index()\n",
    "\n",
    "# -- Neerslag verwerken --\n",
    "rain_df_filtered = rain_df[rain_df[\"Entity\"].isin(landen)].copy()\n",
    "rain_df_filtered = rain_df_filtered[[\"Entity\", \"Year\", \"Annual precipitation\"]]\n",
    "\n",
    "# -- Samenvoegen --\n",
    "merged = pd.merge(temp_avg, rain_df_filtered, on=[\"Entity\", \"Year\"])\n",
    "\n",
    "# -- Interactieve visualisatie met dropdown --\n",
    "fig = go.Figure()\n",
    "buttons = []\n",
    "\n",
    "for i, land in enumerate(landen):\n",
    "    subset = merged[merged[\"Entity\"] == land]\n",
    "\n",
    "    fig.add_trace(go.Bar(\n",
    "        x=subset[\"Year\"],\n",
    "        y=subset[\"Annual precipitation\"],\n",
    "        name=\"Neerslag (mm)\",\n",
    "        marker_color=\"skyblue\",\n",
    "        yaxis=\"y1\",\n",
    "        visible=(i == 0)\n",
    "    ))\n",
    "    fig.add_trace(go.Scatter(\n",
    "        x=subset[\"Year\"],\n",
    "        y=subset[\"Average surface temperature\"],\n",
    "        name=\"Temperatuur (°C)\",\n",
    "        mode=\"lines\",\n",
    "        line=dict(color=\"red\"),\n",
    "        yaxis=\"y2\",\n",
    "        visible=(i == 0)\n",
    "    ))\n",
    "\n",
    "    visibility = [False] * (2 * len(landen))\n",
    "    visibility[2 * i] = True\n",
    "    visibility[2 * i + 1] = True\n",
    "\n",
    "    buttons.append(dict(\n",
    "        label=land,\n",
    "        method=\"update\",\n",
    "        args=[{\"visible\": visibility},\n",
    "              {\"title\": f\"Neerslag en temperatuur in {land}\"}]\n",
    "    ))\n",
    "\n",
    "fig.update_layout(\n",
    "    updatemenus=[dict(\n",
    "        active=0,\n",
    "        buttons=buttons,\n",
    "        x=0.5,\n",
    "        xanchor=\"center\",\n",
    "        y=1.15,\n",
    "        yanchor=\"top\"\n",
    "    )],\n",
    "    title=f\"Neerslag en temperatuur in {landen[0]}\",\n",
    "    xaxis=dict(title=\"Jaar\"),\n",
    "    yaxis=dict(title=\"Neerslag (mm)\", range=[0, 3500]),\n",
    "    yaxis2=dict(\n",
    "    title=\"Temperatuur (°C)\",\n",
    "    overlaying=\"y\",\n",
    "    side=\"right\",\n",
    "    range=[-7, 30]\n",
    "),\n",
    "    legend=dict(x=0.5, xanchor=\"center\", y=-0.2, orientation=\"h\"),\n",
    "    height=600\n",
    ")\n",
    "\n",
    "fig.show()\n"
   ]
  }
 ],
 "metadata": {
  "kernelspec": {
   "display_name": "jupyterbook",
   "language": "python",
   "name": "python3"
  },
  "language_info": {
   "codemirror_mode": {
    "name": "ipython",
    "version": 3
   },
   "file_extension": ".py",
   "mimetype": "text/x-python",
   "name": "python",
   "nbconvert_exporter": "python",
   "pygments_lexer": "ipython3",
   "version": "3.10.16"
  }
 },
 "nbformat": 4,
 "nbformat_minor": 5
}
