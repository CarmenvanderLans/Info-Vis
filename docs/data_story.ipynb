{
 "cells": [
  {
   "cell_type": "markdown",
   "metadata": {},
   "source": [
    "# De Dubbele Last: Klimaatverandering, CO2-uitstoot en de Impact op Wereldwijde Voedselzekerheid\n\n",
    "Klimaatverandering laat zich op veel manieren zien. De stijging van de wereldwijde temperatuur en het toenemende aantal extreme weersomstandigheden zijn daar de bekendste voorbeelden van. Deze veranderingen worden grotendeels veroorzaakt door menselijke CO2-uitstoot.  \n",
    "Maar de gevolgen beïnvloeden niet alleen het klimaat. Ze hebben ook directe en vaak oneerlijke impact op mensen, vooral op het gebied van voedselzekerheid. In dit project onderzoeken we het verband tussen de oorzaak (uitstoot) en het gevolg (voedselproductie), en hoe deze geografisch en sociaal verdeeld zijn.  \n\n",
    "We gebruiken hiervoor twee datasets:  \n",
    "- een uitgebreide dataset van Our World in Data over CO2-uitstoot per land, per jaar en per sector.  \n",
    "- een dataset van de FAO over wereldwijde gewasopbrengsten, uitgesplitst per gewas, land en jaar.  \n\n",
    "Om dit grotere verhaal te onderzoeken, bekijken we de data vanuit twee afzonderlijke perspectieven: eerst de wereldwijde uitstoot, vervolgens de ontwikkeling van landbouwopbrengsten.\n\n",
    "## Perspectief 1: Wie is verantwoordelijk voor de wereldwijde CO2-uitstoot?\n\n",
    "In dit perspectief richten we ons op de oorzaakkant van klimaatverandering: de uitstoot van CO2. De centrale vraag is: hoe is de wereldwijde uitstoot verdeeld, en wat valt daarin op als je kijkt naar tijd, landen, bevolkingsgrootte en economische activiteit?\n\n",
    "We gebruiken hiervoor de CO2-dataset van Our World in Data, die data bevat vanaf 1750 tot nu. Deze dataset geeft ons per land en per jaar informatie over:\n\n",
    "- totale CO2-uitstoot  \n",
    "- uitstoot per hoofd van de bevolking  \n",
    "- uitstoot uitgesplitst naar bron (bijv. kolen, olie, gas, cement, flaring)  \n",
    "- bevolkingscijfers  \n",
    "- enkele sociaaleconomische indicatoren  \n"
   ]
  },
  {
   "cell_type": "markdown",
   "metadata": {},
   "source": [
    "### Wat we willen laten zien (onze argumenten):\n\n",
    "**Absolute uitstootverschillen tussen landen**  \n",
    "→ Sommige landen zijn verantwoordelijk voor een veel groter aandeel in de totale uitstoot dan anderen.  \n\n",
    "**Uiteenlopende uitstoot per hoofd van de bevolking**  \n",
    "→ Er zijn landen met relatief weinig inwoners die toch een hoge uitstoot per persoon hebben.  \n\n",
    "**Ontwikkeling van wereldwijde uitstoot over de tijd**  \n",
    "→ De uitstoot is vooral sinds 1950 sterk toegenomen, parallel aan industrialisering.  \n\n",
    "**Belangrijkste economische bronnen van uitstoot**  \n",
    "→ Energie, industrie, transport en andere sectoren dragen in wisselende mate bij aan de uitstoot.  \n\n",
    "#### Visualisaties die we hierbij willen gebruiken:\n",
    "- Staafdiagrammen voor ranglijsten van landen (absoluut en per hoofd)  \n",
    "- Tijdreeksen van uitstootontwikkeling per land en wereldwijd  \n",
    "- Geografische kaarten van uitstoot per land  \n",
    "- Stacked bar charts voor uitstoot per sector of bron  \n\n",
    "We doen in dit perspectief geen uitspraken over gevolgen of ethische vragen. We onderzoeken hier wie, wanneer en hoe veel uitstoot produceert en wat daarvan zichtbaar wordt in de data.\n\n",
    "## Perspectief 2: Hoe ontwikkelt de voedselproductie zich wereldwijd over tijd en per regio?\n\n",
    "In dit perspectief kijken we niet naar oorzaken, maar puur naar de productie van voedsel. Meer specifiek gaat het om de ontwikkeling van de opbrengsten van belangrijke gewassen over de tijd en in verschillende regio’s. De centrale vraag is: wat zien we gebeuren met landbouwopbrengsten wereldwijd, en hoe verschillen die trends per regio, gewas en tijdsperiode?\n\n",
    "We gebruiken hiervoor de gewasopbrengst-dataset van de Food and Agriculture Organization (FAO). Deze dataset bevat per land, gewas en jaar:\n\n",
    "- totale productie  \n",
    "- opbrengst per hectare  \n",
    "- totaal geoogst areaal  \n\n",
    "We focussen op gewassen als rijst, maïs, tarwe en soja. Dit zijn namelijk gewassen die essentieel zijn voor voedselzekerheid in grote delen van de wereld.\n\n",
    "### Wat we willen laten zien (onze argumenten):\n\n",
    "**Trends in opbrengst over tijd**  \n",
    "→ In sommige landen stijgt de opbrengst gestaag, in andere juist niet.  \n\n",
    "**Verschillen tussen regio’s of landen**  \n",
    "→ Opbrengsten veranderen niet overal op dezelfde manier. Sommige regio’s lopen achter of zijn minder stabiel.  \n\n",
    "**Onderscheid tussen gewassen**  \n",
    "→ Niet alle gewassen ontwikkelen zich hetzelfde. Sommige zijn gevoeliger voor veranderingen in de omgeving dan andere.  \n\n",
    "**Structurele instabiliteit in opbrengsten**  \n",
    "→ In sommige landen schommelen de opbrengsten sterk, wat kan betekenen dat de omstandigheden daar kwetsbaar of onbetrouwbaar zijn.  \n\n",
    "#### Visualisaties die we hierbij willen gebruiken:\n",
    "- Tijdreeksen van opbrengst per gewas en per land  \n",
    "- Vergelijkende staafdiagrammen per gewas/regio  \n",
    "- Geografische kaarten van gemiddelde opbrengst per gewas  \n",
    "- Boxplots of spreidingsdiagrammen voor fluctuaties in opbrengst  \n\n",
    "In dit perspectief richten we ons volledig op wat de data laat zien en vermijden we uitspraken over oorzaken. Het onderzoek draait om wat er gebeurt, waar het gebeurt, wanneer het gebeurt en in welke mate."
   ]
  },
  {
   "cell_type": "code",
   "execution_count": null,
   "metadata": {},
   "outputs": [],
   "source": [
   "Welke landen stoten het meeste CO2 uit in absolute termen in 2023? \n"

    
   ]
  },
  {
   "cell_type": "code",
   "execution_count": null,
   "metadata": {},
   "outputs": [],
   "source": [
    "# TODO: Voeg hier een bar chart toe van uitstoot per hoofd van de bevolking in 2023"
   ]
  },
  {
   "cell_type": "code",
   "execution_count": null,
   "metadata": {},
   "outputs": [],
   "source": [
    "# TODO: Voeg hier een tijdlijn in van China's uitstoot sinds 1950"
   ]
  },
  {
   "cell_type": "code",
   "execution_count": null,
   "metadata": {},
   "outputs": [],
   "source": [
    "# TODO: Voeg hier een tijdreeks toe van tarwe-opbrengsten in India, Nigeria en VS"
   ]
  },
  {
   "cell_type": "code",
   "execution_count": null,
   "metadata": {},
   "outputs": [],
   "source": [
    "# TODO: Voeg hier een boxplot of wereldkaart toe met spreiding van tarwe-opbrengst in 2023"
   ]
  }
 ],
 "metadata": {
  "kernelspec": {
   "display_name": "Python 3",
   "language": "python",
   "name": "python3"
  },
  "language_info": {
   "name": "python"
  }
 },
 "nbformat": 4,
 "nbformat_minor": 2
}
