{
 "cells": [
  {
   "cell_type": "markdown",
   "metadata": {},
   "source": [
    "# De Dubbele Last: Klimaatverandering, CO₂-uitstoot en de Impact op Wereldwijde Voedselzekerheid\n",
    "\n",
    "Klimaatverandering laat zich op veel manieren zien. De stijging van de wereldwijde temperatuur en het toenemende aantal extreme weersomstandigheden zijn daar de bekendste voorbeelden van. Deze veranderingen worden grotendeels veroorzaakt door menselijke CO₂-uitstoot.  \n",
    "Maar de gevolgen raken niet alleen het klimaat. Ze hebben ook directe en vaak oneerlijke impact op mensen, vooral op het gebied van voedselzekerheid. In dit project onderzoeken we het verband tussen de oorzaak (uitstoot) en het gevolg (voedselproductie), en hoe deze geografisch en sociaal verdeeld zijn.\n",
    "\n",
    "We gebruiken hiervoor twee datasets:  \n",
    "- een uitgebreide dataset van Our World in Data over CO₂-uitstoot per land, per jaar en per sector;  \n",
    "- en een dataset van de FAO over wereldwijde gewasopbrengsten, uitgesplitst per gewas, land en jaar.\n",
    "\n",
    "Om dit grotere verhaal te onderzoeken, bekijken we de data vanuit twee afzonderlijke perspectieven:  \n",
    "eerst de wereldwijde uitstoot, vervolgens de ontwikkeling van landbouwopbrengsten.\n",
    "\n",
    "## Perspectief 1 – Wie is verantwoordelijk voor de wereldwijde CO₂-uitstoot?\n",
    "\n",
    "[...] — hier komt de volledige tekst van perspectief 1 uit het PDF-document, inclusief observaties, visualisaties en reflecties —\n",
    "\n",
    "## Perspectief 2 – Hoe ontwikkelt de voedselproductie zich wereldwijd over tijd en per regio?\n",
    "\n",
    "[...] — hier komt de volledige tekst van perspectief 2 inclusief alle analyse van opbrengstdata, reflecties en slotconclusie —"
   ]
  }
 ],
 "metadata": {
  "kernelspec": {
   "display_name": "Python 3",
   "language": "python",
   "name": "python3"
  },
  "language_info": {
   "name": "python"
  }
 },
 "nbformat": 4,
 "nbformat_minor": 2
}
