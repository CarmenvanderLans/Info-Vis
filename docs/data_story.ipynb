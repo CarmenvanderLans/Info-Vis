{
 "cells": [
  {
   "cell_type": "markdown",
   "metadata": {},
   "source": [
    "# De Dubbele Last: Klimaatverandering, CO₂-uitstoot en de Impact op Wereldwijde Voedselzekerheid\n",
    "\n",
    "Klimaatverandering heeft een meetbare impact op landbouwproductie. In dit notebook analyseren we de ongelijke verdeling van uitstoot (oorzaak) en voedselzekerheid (gevolg)."
   ]
  },
  {
   "cell_type": "markdown",
   "metadata": {},
   "source": [
    "## Perspectief 1 – Wie is verantwoordelijk voor de wereldwijde CO₂-uitstoot?\n",
    "\n",
    "We analyseren de Our World in Data CO₂-dataset, met o.a. uitstoot per land, per hoofd van de bevolking en per sector. Doel: inzicht in verantwoordelijkheid voor mondiale uitstoot."
   ]
  },
  {
   "cell_type": "code",
   "metadata": {},
   "source": [
    "# Visualisatie 1: Tien landen met hoogste absolute CO₂-uitstoot (2023)\n",
    "# Plaats hier een staafdiagram van de top 10 landen (bijv. met plotly of matplotlib)"
   ],
   "execution_count": null,
   "outputs": []
  },
  {
   "cell_type": "code",
   "metadata": {},
   "source": [
    "# Visualisatie 2: CO₂-uitstoot per hoofd van de bevolking (2023)\n",
    "# Staafdiagram met kleine fossieleconomieën zoals Qatar, Brunei, Bahrein etc."
   ],
   "execution_count": null,
   "outputs": []
  },
  {
   "cell_type": "code",
   "metadata": {},
   "source": [
    "# Visualisatie 3: Tijdreeks van CO₂-uitstoot China (1950–2023)\n",
    "# Lijnplot met nadruk op explosieve groei sinds jaren '90"
   ],
   "execution_count": null,
   "outputs": []
  },
  {
   "cell_type": "markdown",
   "metadata": {},
   "source": [
    "### Reflectie op Perspectief 1\n",
    "De visualisaties tonen een gelaagd beeld van uitstoot: in absolute zin is China koploper, per hoofd staan kleinere staten bovenaan. Economische groei speelt een cruciale rol."
   ]
  },
  {
   "cell_type": "markdown",
   "metadata": {},
   "source": [
    "## Perspectief 2 – Hoe ontwikkelt de voedselproductie zich wereldwijd?\n",
    "\n",
    "We gebruiken FAO-data over opbrengsten van tarwe (en andere gewassen) per land en jaar, met focus op productiviteit en stabiliteit."
   ]
  },
  {
   "cell_type": "code",
   "metadata": {},
   "source": [
    "# Visualisatie 4: Tarwe-opbrengst India, Nigeria en VS (1961–2023)\n",
    "# Tijdreeks met opvallende verschillen in patroon en stabiliteit"
   ],
   "execution_count": null,
   "outputs": []
  },
  {
   "cell_type": "code",
   "metadata": {},
   "source": [
    "# Visualisatie 5: Boxplot tarwe-opbrengsten per land (2023)\n",
    "# Laat spreiding en uitschieters zien"
   ],
   "execution_count": null,
   "outputs": []
  },
  {
   "cell_type": "code",
   "metadata": {},
   "source": [
    "# Visualisatie 6: Wereldkaart tarwe-opbrengst per land (2023)\n",
    "# Geografische spreiding van landbouwproductiviteit"
   ],
   "execution_count": null,
   "outputs": []
  },
  {
   "cell_type": "markdown",
   "metadata": {},
   "source": [
    "### Reflectie op Perspectief 2\n",
    "De spreiding in opbrengsten toont structurele ongelijkheid. Niet alleen opbrengstniveau, maar ook stabiliteit en gevoeligheid voor klimaatverandering verschillen sterk."
   ]
  },
  {
   "cell_type": "markdown",
   "metadata": {},
   "source": [
    "## Conclusie\n",
    "Beide perspectieven samen maken duidelijk dat klimaatverandering en voedselzekerheid diep verbonden zijn met mondiale ongelijkheid. Wie de uitstoot veroorzaakt is vaak niet wie de grootste risico’s loopt."
   ]
  }
 ],
 "metadata": {
  "kernelspec": {
   "display_name": "Python 3",
   "language": "python",
   "name": "python3"
  },
  "language_info": {
   "name": "python",
   "version": ""
  }
 },
 "nbformat": 4,
 "nbformat_minor": 2
}
