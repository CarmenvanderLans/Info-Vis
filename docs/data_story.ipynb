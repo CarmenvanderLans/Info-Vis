{
 "cells": [
  {
   "cell_type": "markdown",
   "metadata": {},
   "source": [
    "# De Dubbele Last: Klimaatverandering, CO2-uitstoot en de Impact op Wereldwijde Voedselzekerheid\n\n",
    "Klimaatverandering laat zich op veel manieren zien. De stijging van de wereldwijde temperatuur en het toenemende aantal extreme weersomstandigheden zijn daar de bekendste voorbeelden van. Deze veranderingen worden grotendeels veroorzaakt door menselijke CO2-uitstoot. \n",
    "Maar de gevolgen raken niet alleen het klimaat. Ze hebben ook directe en vaak oneerlijke impact op mensen, vooral op het gebied van voedselzekerheid. In dit project onderzoeken we het verband tussen de oorzaak (uitstoot) en het gevolg (voedselproductie), en hoe deze geografisch en sociaal verdeeld zijn. \n\n",
    "We gebruiken hiervoor twee datasets: \n",
    "- een uitgebreide dataset van Our World in Data over CO2-uitstoot per land, per jaar en per sector; \n",
    "- en een dataset van de FAO over wereldwijde gewasopbrengsten, uitgesplitst per gewas, land en jaar. \n\n",
    "Om dit grotere verhaal te onderzoeken, bekijken we de data vanuit twee afzonderlijke perspectieven: eerst de wereldwijde uitstoot, vervolgens de ontwikkeling van landbouwopbrengsten. \n\n",
    "## Perspectief 1 – Wie is verantwoordelijk voor de wereldwijde CO2-uitstoot?\n\n",
    "In dit perspectief richten we ons op de oorzaakkant van klimaatverandering: de uitstoot van CO2. De centrale vraag is: hoe is de wereldwijde uitstoot verdeeld, en wat valt daarin op als je kijkt naar tijd, landen, bevolkingsgrootte en economische activiteit? 
We gebruiken hiervoor de CO2-dataset van Our World in Data, die data bevat vanaf 1750 tot nu. Deze dataset geeft ons per land en per jaar informatie over: \n"
   ]
  },
  {
   "cell_type": "code",
   "execution_count": null,
   "metadata": {},
   "outputs": [],
   "source": [
    "# TODO: Voeg hier een staafdiagram in van landen met hoogste uitstoot in 2023"
   ]
  },
  {
   "cell_type": "code",
   "execution_count": null,
   "metadata": {},
   "outputs": [],
   "source": [
    "# TODO: Voeg hier een bar chart toe van uitstoot per hoofd van de bevolking in 2023"
   ]
  },
  {
   "cell_type": "code",
   "execution_count": null,
   "metadata": {},
   "outputs": [],
   "source": [
    "# TODO: Voeg hier een tijdlijn in van China's uitstoot sinds 1950"
   ]
  },
  {
   "cell_type": "markdown",
   "metadata": {},
   "source": [
    "## Perspectief 2 – Hoe ontwikkelt de voedselproductie zich wereldwijd over tijd en per regio?\n\n",
    "[volledige tekst hier invoegen zoals gegeven]\n"
   ]
  },
  {
   "cell_type": "code",
   "execution_count": null,
   "metadata": {},
   "outputs": [],
   "source": [
    "# TODO: Voeg hier een tijdreeks toe van tarwe-opbrengsten in India, Nigeria en VS"
   ]
  },
  {
   "cell_type": "code",
   "execution_count": null,
   "metadata": {},
   "outputs": [],
   "source": [
    "# TODO: Voeg hier een boxplot of wereldkaart toe met spreiding van tarwe-opbrengst in 2023"
   ]
  }
 ],
 "metadata": {
  "kernelspec": {
   "display_name": "Python 3",
   "language": "python",
   "name": "python3"
  },
  "language_info": {
   "name": "python"
  }
 },
 "nbformat": 4,
 "nbformat_minor": 2
}
