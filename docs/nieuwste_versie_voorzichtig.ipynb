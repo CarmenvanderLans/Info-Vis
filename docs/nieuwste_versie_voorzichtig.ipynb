{
 "cells": [
  {
   "cell_type": "markdown",
   "id": "f14e6fb5",
   "metadata": {},
   "source": []
  },
  {
   "cell_type": "markdown",
   "id": "f286dbd8",
   "metadata": {},
   "source": [
    "Introductie"
   ]
  },
  {
   "cell_type": "markdown",
   "id": "25a8c57b",
   "metadata": {},
   "source": [
    "P1"
   ]
  },
  {
   "cell_type": "markdown",
   "id": "9d2bf51e",
   "metadata": {},
   "source": [
    "P2"
   ]
  },
  {
   "cell_type": "markdown",
   "id": "f7cbbbc9",
   "metadata": {},
   "source": [
    "P3"
   ]
  },
  {
   "cell_type": "markdown",
   "id": "ad64c063",
   "metadata": {},
   "source": [
    "P4"
   ]
  },
  {
   "cell_type": "markdown",
   "id": "ba2fda4a",
   "metadata": {},
   "source": [
    "## De invloed van klimaat en geografie op voedselproductie\n",
    "\n",
    "Niet elk land beschikt over dezelfde natuurlijke omstandigheden om voedsel te produceren. Factoren zoals neerslag, temperatuur en klimaatzones bepalen welke gewassen efficiënt kunnen groeien. In landen met een ongunstig klimaat moeten gewassen onder intensievere en vaak minder duurzame omstandigheden worden verbouwd.\n",
    "Daarnaast speelt de geografische ligging een rol in hoe voedsel wordt verhandeld: landen die ver van exportmarkten liggen, hebben hogere transportkosten en extra uitstoot, wat hun voedselsysteem minder duurzaam maakt.\n",
    "In dit perspectief onderzoeken we hoe deze geografische factoren — natuurlijke omstandigheden en ligging ten opzichte van wereldmarkten — bijdragen aan verschillen in de duurzaamheid van nationale voedselsystemen."
   ]
  },
  {
   "cell_type": "markdown",
   "id": "efacbb89",
   "metadata": {},
   "source": [
    "#### Klimaatzones en natuurlijke omstandigheden beïnvloeden duurzaamheid\n",
    "Landen verschillen sterk in klimaat. Tropische regio’s kennen bijvoorbeeld hoge temperaturen en regelmatige regenval, terwijl droge of koude gebieden kampen met beperkte groeiseizoenen en lagere landbouwopbrengsten per hectare.\n",
    "In warmere, vruchtbare klimaatzones kunnen gewassen natuurlijk groeien, met weinig extra input. In koudere of drogere gebieden zijn irrigatie, verwarming, kunstmest of import van hulpbronnen nodig om dezelfde opbrengst te halen. Deze extra inputs verhogen de uitstoot per kilogram geproduceerd voedsel.\n",
    "Daarom is het voedselsysteem in sommige landen per definitie minder duurzaam, simpelweg door hun ligging in een ongunstige klimaatzone."
   ]
  },
  {
   "cell_type": "code",
   "execution_count": null,
   "id": "79d20292",
   "metadata": {},
   "outputs": [],
   "source": [
    "import pandas as pd\n",
    "import plotly.express as px\n",
    "\n",
    "# Laad temperatuurdata\n",
    "temp_df = pd.read_csv(\"datasets/GlobalLandTemperaturesByCountry.csv\")\n",
    "temp_df['dt'] = pd.to_datetime(temp_df['dt'])\n",
    "temp_df['Year'] = temp_df['dt'].dt.year\n",
    "landen = [\"Netherlands\", \"Ukraine\", \"Nigeria\", \"South Africa\", \"India\", \"Japan\", \"United States\", \"Brazil\", \"Indonesia\", \"Mexico\"]\n",
    "temp_df = temp_df[temp_df['Country'].isin(landen)]\n",
    "temp_avg = temp_df.groupby(['Country', 'Year'])['AverageTemperature'].mean().reset_index()\n",
    "temp_avg = temp_avg[(temp_avg['Year'] >= 1960) & (temp_avg['Year'] <= 2020)]\n",
    "\n",
    "# Laad neerslagdata\n",
    "precip_df = pd.read_csv(\"datasets/API_AG.LND.PRCP.MM_DS2_en_csv_v2_4487.csv\", skiprows=4)\n",
    "precip_df = precip_df[precip_df['Country Name'].isin(landen)]\n",
    "precip_df = precip_df.melt(id_vars=['Country Name'], var_name='Year', value_name='Precipitation')\n",
    "precip_df.rename(columns={'Country Name': 'Country'}, inplace=True)\n",
    "precip_df['Year'] = pd.to_numeric(precip_df['Year'], errors='coerce')\n",
    "precip_df = precip_df.dropna(subset=['Year'])\n",
    "precip_df = precip_df[(precip_df['Year'] >= 1960) & (precip_df['Year'] <= 2020)]\n",
    "\n",
    "# Combineer datasets\n",
    "merged_df = pd.merge(temp_avg, precip_df, on=['Country', 'Year'])\n",
    "\n",
    "# Maak de interactieve plot\n",
    "fig = px.line(\n",
    "    merged_df,\n",
    "    x=\"AverageTemperature\",\n",
    "    y=\"Precipitation\",\n",
    "    color=\"Country\",\n",
    "    animation_frame=\"Year\",\n",
    "    title=\"Gemiddelde temperatuur vs. neerslag (1960–2020)\",\n",
    "    labels={\n",
    "        \"AverageTemperature\": \"Gemiddelde temperatuur (°C)\",\n",
    "        \"Precipitation\": \"Jaarlijkse neerslag (mm)\",\n",
    "        \"Country\": \"Land\"\n",
    "    }\n",
    ")\n",
    "\n",
    "fig.update_layout(legend_title=\"Land\")\n",
    "fig.show()\n"
   ]
  }
 ],
 "metadata": {
  "kernelspec": {
   "display_name": "jupyterbook",
   "language": "python",
   "name": "python3"
  },
  "language_info": {
   "codemirror_mode": {
    "name": "ipython",
    "version": 3
   },
   "file_extension": ".py",
   "mimetype": "text/x-python",
   "name": "python",
   "nbconvert_exporter": "python",
   "pygments_lexer": "ipython3",
   "version": "3.10.16"
  }
 },
 "nbformat": 4,
 "nbformat_minor": 5
}
