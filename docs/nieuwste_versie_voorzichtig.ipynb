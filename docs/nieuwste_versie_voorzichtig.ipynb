{
 "cells": [
  {
   "cell_type": "markdown",
   "id": "f14e6fb5",
   "metadata": {},
   "source": []
  },
  {
   "cell_type": "markdown",
   "id": "f286dbd8",
   "metadata": {},
   "source": [
    "Introductie"
   ]
  },
  {
   "cell_type": "markdown",
   "id": "25a8c57b",
   "metadata": {},
   "source": [
    "P1"
   ]
  },
  {
   "cell_type": "markdown",
   "id": "9d2bf51e",
   "metadata": {},
   "source": [
    "P2"
   ]
  },
  {
   "cell_type": "markdown",
   "id": "f7cbbbc9",
   "metadata": {},
   "source": [
    "P3"
   ]
  },
  {
   "cell_type": "markdown",
   "id": "ad64c063",
   "metadata": {},
   "source": [
    "P4"
   ]
  },
  {
   "cell_type": "markdown",
   "id": "ba2fda4a",
   "metadata": {},
   "source": [
    "## De invloed van klimaat en geografie op voedselproductie\n",
    "\n",
    "Niet elk land beschikt over dezelfde natuurlijke omstandigheden om voedsel te produceren. Factoren zoals neerslag, temperatuur en klimaatzones bepalen welke gewassen efficiënt kunnen groeien. In landen met een ongunstig klimaat moeten gewassen onder intensievere en vaak minder duurzame omstandigheden worden verbouwd.\n",
    "Daarnaast speelt de geografische ligging een rol in hoe voedsel wordt verhandeld: landen die ver van exportmarkten liggen, hebben hogere transportkosten en extra uitstoot, wat hun voedselsysteem minder duurzaam maakt.\n",
    "In dit perspectief onderzoeken we hoe deze geografische factoren — natuurlijke omstandigheden en ligging ten opzichte van wereldmarkten — bijdragen aan verschillen in de duurzaamheid van nationale voedselsystemen."
   ]
  },
  {
   "cell_type": "markdown",
   "id": "efacbb89",
   "metadata": {},
   "source": [
    "### Klimaatzones en natuurlijke omstandigheden beïnvloeden duurzaamheid\n",
    "Landen verschillen sterk in klimaat. Tropische regio’s kennen bijvoorbeeld hoge temperaturen en regelmatige regenval, terwijl droge of koude gebieden kampen met beperkte groeiseizoenen en lagere landbouwopbrengsten per hectare.\n",
    "In warmere, vruchtbare klimaatzones kunnen gewassen natuurlijk groeien, met weinig extra input. In koudere of drogere gebieden zijn irrigatie, verwarming, kunstmest of import van hulpbronnen nodig om dezelfde opbrengst te halen. Deze extra inputs verhogen de uitstoot per kilogram geproduceerd voedsel.\n",
    "Daarom is het voedselsysteem in sommige landen per definitie minder duurzaam, simpelweg door hun ligging in een ongunstige klimaatzone."
   ]
  },
  {
   "cell_type": "code",
   "execution_count": 56,
   "id": "f9113f92",
   "metadata": {},
   "outputs": [
    {
     "name": "stderr",
     "output_type": "stream",
     "text": [
      "/var/folders/82/txt4_nkx0l76kq68c7g_klqc0000gn/T/ipykernel_32679/3348794567.py:6: DtypeWarning:\n",
      "\n",
      "Columns (13) have mixed types. Specify dtype option on import or set low_memory=False.\n",
      "\n"
     ]
    },
    {
     "data": {
      "application/vnd.plotly.v1+json": {
       "config": {
        "plotlyServerURL": "https://plot.ly"
       },
       "data": [
        {
         "hovertemplate": "<b>%{hovertext}</b><br><br>Country Name=%{text}<br>Year=1961<br>Neerslag (mm/jaar)=%{x}<br>Uitstoot per ton geproduceerd (Mt/ton)=%{y}<extra></extra>",
         "hovertext": [
          "Brazil"
         ],
         "legendgroup": "Brazil",
         "marker": {
          "color": "#636efa",
          "size": 14,
          "symbol": "circle"
         },
         "mode": "markers+text",
         "name": "Brazil",
         "orientation": "v",
         "showlegend": true,
         "text": [
          "Brazil"
         ],
         "textposition": "top center",
         "type": "scatter",
         "x": {
          "bdata": "AAAAAADYm0A=",
          "dtype": "f8"
         },
         "xaxis": "x",
         "y": {
          "bdata": "br/1mJSmfD4=",
          "dtype": "f8"
         },
         "yaxis": "y"
        },
        {
         "hovertemplate": "<b>%{hovertext}</b><br><br>Country Name=%{text}<br>Year=1961<br>Neerslag (mm/jaar)=%{x}<br>Uitstoot per ton geproduceerd (Mt/ton)=%{y}<extra></extra>",
         "hovertext": [
          "India"
         ],
         "legendgroup": "India",
         "marker": {
          "color": "#EF553B",
          "size": 14,
          "symbol": "circle"
         },
         "mode": "markers+text",
         "name": "India",
         "orientation": "v",
         "showlegend": true,
         "text": [
          "India"
         ],
         "textposition": "top center",
         "type": "scatter",
         "x": {
          "bdata": "AAAAAADskEA=",
          "dtype": "f8"
         },
         "xaxis": "x",
         "y": {
          "bdata": "l1UrDaB6kz4=",
          "dtype": "f8"
         },
         "yaxis": "y"
        },
        {
         "hovertemplate": "<b>%{hovertext}</b><br><br>Country Name=%{text}<br>Year=1961<br>Neerslag (mm/jaar)=%{x}<br>Uitstoot per ton geproduceerd (Mt/ton)=%{y}<extra></extra>",
         "hovertext": [
          "Indonesia"
         ],
         "legendgroup": "Indonesia",
         "marker": {
          "color": "#00cc96",
          "size": 14,
          "symbol": "circle"
         },
         "mode": "markers+text",
         "name": "Indonesia",
         "orientation": "v",
         "showlegend": true,
         "text": [
          "Indonesia"
         ],
         "textposition": "top center",
         "type": "scatter",
         "x": {
          "bdata": "AAAAAAAcpUA=",
          "dtype": "f8"
         },
         "xaxis": "x",
         "y": {
          "bdata": "lgorOjgwVT4=",
          "dtype": "f8"
         },
         "yaxis": "y"
        },
        {
         "hovertemplate": "<b>%{hovertext}</b><br><br>Country Name=%{text}<br>Year=1961<br>Neerslag (mm/jaar)=%{x}<br>Uitstoot per ton geproduceerd (Mt/ton)=%{y}<extra></extra>",
         "hovertext": [
          "Japan"
         ],
         "legendgroup": "Japan",
         "marker": {
          "color": "#ab63fa",
          "size": 14,
          "symbol": "circle"
         },
         "mode": "markers+text",
         "name": "Japan",
         "orientation": "v",
         "showlegend": true,
         "text": [
          "Japan"
         ],
         "textposition": "top center",
         "type": "scatter",
         "x": {
          "bdata": "AAAAAAAQmkA=",
          "dtype": "f8"
         },
         "xaxis": "x",
         "y": {
          "bdata": "Jc/QXvwKgT4=",
          "dtype": "f8"
         },
         "yaxis": "y"
        },
        {
         "hovertemplate": "<b>%{hovertext}</b><br><br>Country Name=%{text}<br>Year=1961<br>Neerslag (mm/jaar)=%{x}<br>Uitstoot per ton geproduceerd (Mt/ton)=%{y}<extra></extra>",
         "hovertext": [
          "Nigeria"
         ],
         "legendgroup": "Nigeria",
         "marker": {
          "color": "#FFA15A",
          "size": 14,
          "symbol": "circle"
         },
         "mode": "markers+text",
         "name": "Nigeria",
         "orientation": "v",
         "showlegend": true,
         "text": [
          "Nigeria"
         ],
         "textposition": "top center",
         "type": "scatter",
         "x": {
          "bdata": "AAAAAAD4kUA=",
          "dtype": "f8"
         },
         "xaxis": "x",
         "y": {
          "bdata": "mMWzPl6xMz4=",
          "dtype": "f8"
         },
         "yaxis": "y"
        },
        {
         "hovertemplate": "<b>%{hovertext}</b><br><br>Country Name=%{text}<br>Year=1961<br>Neerslag (mm/jaar)=%{x}<br>Uitstoot per ton geproduceerd (Mt/ton)=%{y}<extra></extra>",
         "hovertext": [
          "South Africa"
         ],
         "legendgroup": "South Africa",
         "marker": {
          "color": "#19d3f3",
          "size": 14,
          "symbol": "circle"
         },
         "mode": "markers+text",
         "name": "South Africa",
         "orientation": "v",
         "showlegend": true,
         "text": [
          "South Africa"
         ],
         "textposition": "top center",
         "type": "scatter",
         "x": {
          "bdata": "AAAAAADwfkA=",
          "dtype": "f8"
         },
         "xaxis": "x",
         "y": {
          "bdata": "j/+6cuzOlj4=",
          "dtype": "f8"
         },
         "yaxis": "y"
        },
        {
         "hovertemplate": "<b>%{hovertext}</b><br><br>Country Name=%{text}<br>Year=1961<br>Neerslag (mm/jaar)=%{x}<br>Uitstoot per ton geproduceerd (Mt/ton)=%{y}<extra></extra>",
         "hovertext": [
          "United States of America"
         ],
         "legendgroup": "United States of America",
         "marker": {
          "color": "#FF6692",
          "size": 14,
          "symbol": "circle"
         },
         "mode": "markers+text",
         "name": "United States of America",
         "orientation": "v",
         "showlegend": true,
         "text": [
          "United States of America"
         ],
         "textposition": "top center",
         "type": "scatter",
         "x": {
          "bdata": "AAAAAABYhkA=",
          "dtype": "f8"
         },
         "xaxis": "x",
         "y": {
          "bdata": "M8j08nHDnz4=",
          "dtype": "f8"
         },
         "yaxis": "y"
        }
       ],
       "frames": [
        {
         "data": [
          {
           "hovertemplate": "<b>%{hovertext}</b><br><br>Country Name=%{text}<br>Year=1961<br>Neerslag (mm/jaar)=%{x}<br>Uitstoot per ton geproduceerd (Mt/ton)=%{y}<extra></extra>",
           "hovertext": [
            "Brazil"
           ],
           "legendgroup": "Brazil",
           "marker": {
            "color": "#636efa",
            "symbol": "circle"
           },
           "mode": "markers+text",
           "name": "Brazil",
           "orientation": "v",
           "showlegend": true,
           "text": [
            "Brazil"
           ],
           "type": "scatter",
           "x": {
            "bdata": "AAAAAADYm0A=",
            "dtype": "f8"
           },
           "xaxis": "x",
           "y": {
            "bdata": "br/1mJSmfD4=",
            "dtype": "f8"
           },
           "yaxis": "y"
          },
          {
           "hovertemplate": "<b>%{hovertext}</b><br><br>Country Name=%{text}<br>Year=1961<br>Neerslag (mm/jaar)=%{x}<br>Uitstoot per ton geproduceerd (Mt/ton)=%{y}<extra></extra>",
           "hovertext": [
            "India"
           ],
           "legendgroup": "India",
           "marker": {
            "color": "#EF553B",
            "symbol": "circle"
           },
           "mode": "markers+text",
           "name": "India",
           "orientation": "v",
           "showlegend": true,
           "text": [
            "India"
           ],
           "type": "scatter",
           "x": {
            "bdata": "AAAAAADskEA=",
            "dtype": "f8"
           },
           "xaxis": "x",
           "y": {
            "bdata": "l1UrDaB6kz4=",
            "dtype": "f8"
           },
           "yaxis": "y"
          },
          {
           "hovertemplate": "<b>%{hovertext}</b><br><br>Country Name=%{text}<br>Year=1961<br>Neerslag (mm/jaar)=%{x}<br>Uitstoot per ton geproduceerd (Mt/ton)=%{y}<extra></extra>",
           "hovertext": [
            "Indonesia"
           ],
           "legendgroup": "Indonesia",
           "marker": {
            "color": "#00cc96",
            "symbol": "circle"
           },
           "mode": "markers+text",
           "name": "Indonesia",
           "orientation": "v",
           "showlegend": true,
           "text": [
            "Indonesia"
           ],
           "type": "scatter",
           "x": {
            "bdata": "AAAAAAAcpUA=",
            "dtype": "f8"
           },
           "xaxis": "x",
           "y": {
            "bdata": "lgorOjgwVT4=",
            "dtype": "f8"
           },
           "yaxis": "y"
          },
          {
           "hovertemplate": "<b>%{hovertext}</b><br><br>Country Name=%{text}<br>Year=1961<br>Neerslag (mm/jaar)=%{x}<br>Uitstoot per ton geproduceerd (Mt/ton)=%{y}<extra></extra>",
           "hovertext": [
            "Japan"
           ],
           "legendgroup": "Japan",
           "marker": {
            "color": "#ab63fa",
            "symbol": "circle"
           },
           "mode": "markers+text",
           "name": "Japan",
           "orientation": "v",
           "showlegend": true,
           "text": [
            "Japan"
           ],
           "type": "scatter",
           "x": {
            "bdata": "AAAAAAAQmkA=",
            "dtype": "f8"
           },
           "xaxis": "x",
           "y": {
            "bdata": "Jc/QXvwKgT4=",
            "dtype": "f8"
           },
           "yaxis": "y"
          },
          {
           "hovertemplate": "<b>%{hovertext}</b><br><br>Country Name=%{text}<br>Year=1961<br>Neerslag (mm/jaar)=%{x}<br>Uitstoot per ton geproduceerd (Mt/ton)=%{y}<extra></extra>",
           "hovertext": [
            "Nigeria"
           ],
           "legendgroup": "Nigeria",
           "marker": {
            "color": "#FFA15A",
            "symbol": "circle"
           },
           "mode": "markers+text",
           "name": "Nigeria",
           "orientation": "v",
           "showlegend": true,
           "text": [
            "Nigeria"
           ],
           "type": "scatter",
           "x": {
            "bdata": "AAAAAAD4kUA=",
            "dtype": "f8"
           },
           "xaxis": "x",
           "y": {
            "bdata": "mMWzPl6xMz4=",
            "dtype": "f8"
           },
           "yaxis": "y"
          },
          {
           "hovertemplate": "<b>%{hovertext}</b><br><br>Country Name=%{text}<br>Year=1961<br>Neerslag (mm/jaar)=%{x}<br>Uitstoot per ton geproduceerd (Mt/ton)=%{y}<extra></extra>",
           "hovertext": [
            "South Africa"
           ],
           "legendgroup": "South Africa",
           "marker": {
            "color": "#19d3f3",
            "symbol": "circle"
           },
           "mode": "markers+text",
           "name": "South Africa",
           "orientation": "v",
           "showlegend": true,
           "text": [
            "South Africa"
           ],
           "type": "scatter",
           "x": {
            "bdata": "AAAAAADwfkA=",
            "dtype": "f8"
           },
           "xaxis": "x",
           "y": {
            "bdata": "j/+6cuzOlj4=",
            "dtype": "f8"
           },
           "yaxis": "y"
          },
          {
           "hovertemplate": "<b>%{hovertext}</b><br><br>Country Name=%{text}<br>Year=1961<br>Neerslag (mm/jaar)=%{x}<br>Uitstoot per ton geproduceerd (Mt/ton)=%{y}<extra></extra>",
           "hovertext": [
            "United States of America"
           ],
           "legendgroup": "United States of America",
           "marker": {
            "color": "#FF6692",
            "symbol": "circle"
           },
           "mode": "markers+text",
           "name": "United States of America",
           "orientation": "v",
           "showlegend": true,
           "text": [
            "United States of America"
           ],
           "type": "scatter",
           "x": {
            "bdata": "AAAAAABYhkA=",
            "dtype": "f8"
           },
           "xaxis": "x",
           "y": {
            "bdata": "M8j08nHDnz4=",
            "dtype": "f8"
           },
           "yaxis": "y"
          }
         ],
         "name": "1961"
        },
        {
         "data": [
          {
           "hovertemplate": "<b>%{hovertext}</b><br><br>Country Name=%{text}<br>Year=1962<br>Neerslag (mm/jaar)=%{x}<br>Uitstoot per ton geproduceerd (Mt/ton)=%{y}<extra></extra>",
           "hovertext": [
            "Brazil"
           ],
           "legendgroup": "Brazil",
           "marker": {
            "color": "#636efa",
            "symbol": "circle"
           },
           "mode": "markers+text",
           "name": "Brazil",
           "orientation": "v",
           "showlegend": true,
           "text": [
            "Brazil"
           ],
           "type": "scatter",
           "x": {
            "bdata": "AAAAAACEm0A=",
            "dtype": "f8"
           },
           "xaxis": "x",
           "y": {
            "bdata": "QLobBvRvej4=",
            "dtype": "f8"
           },
           "yaxis": "y"
          },
          {
           "hovertemplate": "<b>%{hovertext}</b><br><br>Country Name=%{text}<br>Year=1962<br>Neerslag (mm/jaar)=%{x}<br>Uitstoot per ton geproduceerd (Mt/ton)=%{y}<extra></extra>",
           "hovertext": [
            "India"
           ],
           "legendgroup": "India",
           "marker": {
            "color": "#EF553B",
            "symbol": "circle"
           },
           "mode": "markers+text",
           "name": "India",
           "orientation": "v",
           "showlegend": true,
           "text": [
            "India"
           ],
           "type": "scatter",
           "x": {
            "bdata": "AAAAAADskEA=",
            "dtype": "f8"
           },
           "xaxis": "x",
           "y": {
            "bdata": "hJts/sXNlD4=",
            "dtype": "f8"
           },
           "yaxis": "y"
          },
          {
           "hovertemplate": "<b>%{hovertext}</b><br><br>Country Name=%{text}<br>Year=1962<br>Neerslag (mm/jaar)=%{x}<br>Uitstoot per ton geproduceerd (Mt/ton)=%{y}<extra></extra>",
           "hovertext": [
            "Indonesia"
           ],
           "legendgroup": "Indonesia",
           "marker": {
            "color": "#00cc96",
            "symbol": "circle"
           },
           "mode": "markers+text",
           "name": "Indonesia",
           "orientation": "v",
           "showlegend": true,
           "text": [
            "Indonesia"
           ],
           "type": "scatter",
           "x": {
            "bdata": "AAAAAAAcpUA=",
            "dtype": "f8"
           },
           "xaxis": "x",
           "y": {
            "bdata": "RyvYyy5DUz4=",
            "dtype": "f8"
           },
           "yaxis": "y"
          },
          {
           "hovertemplate": "<b>%{hovertext}</b><br><br>Country Name=%{text}<br>Year=1962<br>Neerslag (mm/jaar)=%{x}<br>Uitstoot per ton geproduceerd (Mt/ton)=%{y}<extra></extra>",
           "hovertext": [
            "Japan"
           ],
           "legendgroup": "Japan",
           "marker": {
            "color": "#ab63fa",
            "symbol": "circle"
           },
           "mode": "markers+text",
           "name": "Japan",
           "orientation": "v",
           "showlegend": true,
           "text": [
            "Japan"
           ],
           "type": "scatter",
           "x": {
            "bdata": "AAAAAAAQmkA=",
            "dtype": "f8"
           },
           "xaxis": "x",
           "y": {
            "bdata": "Tn8iK5aTgD4=",
            "dtype": "f8"
           },
           "yaxis": "y"
          },
          {
           "hovertemplate": "<b>%{hovertext}</b><br><br>Country Name=%{text}<br>Year=1962<br>Neerslag (mm/jaar)=%{x}<br>Uitstoot per ton geproduceerd (Mt/ton)=%{y}<extra></extra>",
           "hovertext": [
            "Nigeria"
           ],
           "legendgroup": "Nigeria",
           "marker": {
            "color": "#FFA15A",
            "symbol": "circle"
           },
           "mode": "markers+text",
           "name": "Nigeria",
           "orientation": "v",
           "showlegend": true,
           "text": [
            "Nigeria"
           ],
           "type": "scatter",
           "x": {
            "bdata": "AAAAAAD4kUA=",
            "dtype": "f8"
           },
           "xaxis": "x",
           "y": {
            "bdata": "937+WNK6Mz4=",
            "dtype": "f8"
           },
           "yaxis": "y"
          },
          {
           "hovertemplate": "<b>%{hovertext}</b><br><br>Country Name=%{text}<br>Year=1962<br>Neerslag (mm/jaar)=%{x}<br>Uitstoot per ton geproduceerd (Mt/ton)=%{y}<extra></extra>",
           "hovertext": [
            "South Africa"
           ],
           "legendgroup": "South Africa",
           "marker": {
            "color": "#19d3f3",
            "symbol": "circle"
           },
           "mode": "markers+text",
           "name": "South Africa",
           "orientation": "v",
           "showlegend": true,
           "text": [
            "South Africa"
           ],
           "type": "scatter",
           "x": {
            "bdata": "AAAAAADwfkA=",
            "dtype": "f8"
           },
           "xaxis": "x",
           "y": {
            "bdata": "0EPkIBR/lD4=",
            "dtype": "f8"
           },
           "yaxis": "y"
          },
          {
           "hovertemplate": "<b>%{hovertext}</b><br><br>Country Name=%{text}<br>Year=1962<br>Neerslag (mm/jaar)=%{x}<br>Uitstoot per ton geproduceerd (Mt/ton)=%{y}<extra></extra>",
           "hovertext": [
            "United States of America"
           ],
           "legendgroup": "United States of America",
           "marker": {
            "color": "#FF6692",
            "symbol": "circle"
           },
           "mode": "markers+text",
           "name": "United States of America",
           "orientation": "v",
           "showlegend": true,
           "text": [
            "United States of America"
           ],
           "type": "scatter",
           "x": {
            "bdata": "AAAAAABYhkA=",
            "dtype": "f8"
           },
           "xaxis": "x",
           "y": {
            "bdata": "1xrxfcZgmz4=",
            "dtype": "f8"
           },
           "yaxis": "y"
          }
         ],
         "name": "1962"
        },
        {
         "data": [
          {
           "hovertemplate": "<b>%{hovertext}</b><br><br>Country Name=%{text}<br>Year=1963<br>Neerslag (mm/jaar)=%{x}<br>Uitstoot per ton geproduceerd (Mt/ton)=%{y}<extra></extra>",
           "hovertext": [
            "Brazil"
           ],
           "legendgroup": "Brazil",
           "marker": {
            "color": "#636efa",
            "symbol": "circle"
           },
           "mode": "markers+text",
           "name": "Brazil",
           "orientation": "v",
           "showlegend": true,
           "text": [
            "Brazil"
           ],
           "type": "scatter",
           "x": {
            "bdata": "AAAAAADYm0A=",
            "dtype": "f8"
           },
           "xaxis": "x",
           "y": {
            "bdata": "RB1Lf0Z8ej4=",
            "dtype": "f8"
           },
           "yaxis": "y"
          },
          {
           "hovertemplate": "<b>%{hovertext}</b><br><br>Country Name=%{text}<br>Year=1963<br>Neerslag (mm/jaar)=%{x}<br>Uitstoot per ton geproduceerd (Mt/ton)=%{y}<extra></extra>",
           "hovertext": [
            "India"
           ],
           "legendgroup": "India",
           "marker": {
            "color": "#EF553B",
            "symbol": "circle"
           },
           "mode": "markers+text",
           "name": "India",
           "orientation": "v",
           "showlegend": true,
           "text": [
            "India"
           ],
           "type": "scatter",
           "x": {
            "bdata": "AAAAAADskEA=",
            "dtype": "f8"
           },
           "xaxis": "x",
           "y": {
            "bdata": "hQZHQL85lj4=",
            "dtype": "f8"
           },
           "yaxis": "y"
          },
          {
           "hovertemplate": "<b>%{hovertext}</b><br><br>Country Name=%{text}<br>Year=1963<br>Neerslag (mm/jaar)=%{x}<br>Uitstoot per ton geproduceerd (Mt/ton)=%{y}<extra></extra>",
           "hovertext": [
            "Indonesia"
           ],
           "legendgroup": "Indonesia",
           "marker": {
            "color": "#00cc96",
            "symbol": "circle"
           },
           "mode": "markers+text",
           "name": "Indonesia",
           "orientation": "v",
           "showlegend": true,
           "text": [
            "Indonesia"
           ],
           "type": "scatter",
           "x": {
            "bdata": "AAAAAAAcpUA=",
            "dtype": "f8"
           },
           "xaxis": "x",
           "y": {
            "bdata": "/qlUGsUxUz4=",
            "dtype": "f8"
           },
           "yaxis": "y"
          },
          {
           "hovertemplate": "<b>%{hovertext}</b><br><br>Country Name=%{text}<br>Year=1963<br>Neerslag (mm/jaar)=%{x}<br>Uitstoot per ton geproduceerd (Mt/ton)=%{y}<extra></extra>",
           "hovertext": [
            "Japan"
           ],
           "legendgroup": "Japan",
           "marker": {
            "color": "#ab63fa",
            "symbol": "circle"
           },
           "mode": "markers+text",
           "name": "Japan",
           "orientation": "v",
           "showlegend": true,
           "text": [
            "Japan"
           ],
           "type": "scatter",
           "x": {
            "bdata": "AAAAAAAQmkA=",
            "dtype": "f8"
           },
           "xaxis": "x",
           "y": {
            "bdata": "fZVx6X82ez4=",
            "dtype": "f8"
           },
           "yaxis": "y"
          },
          {
           "hovertemplate": "<b>%{hovertext}</b><br><br>Country Name=%{text}<br>Year=1963<br>Neerslag (mm/jaar)=%{x}<br>Uitstoot per ton geproduceerd (Mt/ton)=%{y}<extra></extra>",
           "hovertext": [
            "Nigeria"
           ],
           "legendgroup": "Nigeria",
           "marker": {
            "color": "#FFA15A",
            "symbol": "circle"
           },
           "mode": "markers+text",
           "name": "Nigeria",
           "orientation": "v",
           "showlegend": true,
           "text": [
            "Nigeria"
           ],
           "type": "scatter",
           "x": {
            "bdata": "AAAAAAD4kUA=",
            "dtype": "f8"
           },
           "xaxis": "x",
           "y": {
            "bdata": "ghzXwZ6jND4=",
            "dtype": "f8"
           },
           "yaxis": "y"
          },
          {
           "hovertemplate": "<b>%{hovertext}</b><br><br>Country Name=%{text}<br>Year=1963<br>Neerslag (mm/jaar)=%{x}<br>Uitstoot per ton geproduceerd (Mt/ton)=%{y}<extra></extra>",
           "hovertext": [
            "South Africa"
           ],
           "legendgroup": "South Africa",
           "marker": {
            "color": "#19d3f3",
            "symbol": "circle"
           },
           "mode": "markers+text",
           "name": "South Africa",
           "orientation": "v",
           "showlegend": true,
           "text": [
            "South Africa"
           ],
           "type": "scatter",
           "x": {
            "bdata": "AAAAAADwfkA=",
            "dtype": "f8"
           },
           "xaxis": "x",
           "y": {
            "bdata": "abWclDIMlj4=",
            "dtype": "f8"
           },
           "yaxis": "y"
          },
          {
           "hovertemplate": "<b>%{hovertext}</b><br><br>Country Name=%{text}<br>Year=1963<br>Neerslag (mm/jaar)=%{x}<br>Uitstoot per ton geproduceerd (Mt/ton)=%{y}<extra></extra>",
           "hovertext": [
            "United States of America"
           ],
           "legendgroup": "United States of America",
           "marker": {
            "color": "#FF6692",
            "symbol": "circle"
           },
           "mode": "markers+text",
           "name": "United States of America",
           "orientation": "v",
           "showlegend": true,
           "text": [
            "United States of America"
           ],
           "type": "scatter",
           "x": {
            "bdata": "AAAAAABYhkA=",
            "dtype": "f8"
           },
           "xaxis": "x",
           "y": {
            "bdata": "kKWbCbn5mj4=",
            "dtype": "f8"
           },
           "yaxis": "y"
          }
         ],
         "name": "1963"
        },
        {
         "data": [
          {
           "hovertemplate": "<b>%{hovertext}</b><br><br>Country Name=%{text}<br>Year=1964<br>Neerslag (mm/jaar)=%{x}<br>Uitstoot per ton geproduceerd (Mt/ton)=%{y}<extra></extra>",
           "hovertext": [
            "Brazil"
           ],
           "legendgroup": "Brazil",
           "marker": {
            "color": "#636efa",
            "symbol": "circle"
           },
           "mode": "markers+text",
           "name": "Brazil",
           "orientation": "v",
           "showlegend": true,
           "text": [
            "Brazil"
           ],
           "type": "scatter",
           "x": {
            "bdata": "AAAAAADYm0A=",
            "dtype": "f8"
           },
           "xaxis": "x",
           "y": {
            "bdata": "xe/mUJeqeT4=",
            "dtype": "f8"
           },
           "yaxis": "y"
          },
          {
           "hovertemplate": "<b>%{hovertext}</b><br><br>Country Name=%{text}<br>Year=1964<br>Neerslag (mm/jaar)=%{x}<br>Uitstoot per ton geproduceerd (Mt/ton)=%{y}<extra></extra>",
           "hovertext": [
            "India"
           ],
           "legendgroup": "India",
           "marker": {
            "color": "#EF553B",
            "symbol": "circle"
           },
           "mode": "markers+text",
           "name": "India",
           "orientation": "v",
           "showlegend": true,
           "text": [
            "India"
           ],
           "type": "scatter",
           "x": {
            "bdata": "AAAAAADskEA=",
            "dtype": "f8"
           },
           "xaxis": "x",
           "y": {
            "bdata": "bHph1944lD4=",
            "dtype": "f8"
           },
           "yaxis": "y"
          },
          {
           "hovertemplate": "<b>%{hovertext}</b><br><br>Country Name=%{text}<br>Year=1964<br>Neerslag (mm/jaar)=%{x}<br>Uitstoot per ton geproduceerd (Mt/ton)=%{y}<extra></extra>",
           "hovertext": [
            "Indonesia"
           ],
           "legendgroup": "Indonesia",
           "marker": {
            "color": "#00cc96",
            "symbol": "circle"
           },
           "mode": "markers+text",
           "name": "Indonesia",
           "orientation": "v",
           "showlegend": true,
           "text": [
            "Indonesia"
           ],
           "type": "scatter",
           "x": {
            "bdata": "AAAAAAAcpUA=",
            "dtype": "f8"
           },
           "xaxis": "x",
           "y": {
            "bdata": "ihpc+/ILVD4=",
            "dtype": "f8"
           },
           "yaxis": "y"
          },
          {
           "hovertemplate": "<b>%{hovertext}</b><br><br>Country Name=%{text}<br>Year=1964<br>Neerslag (mm/jaar)=%{x}<br>Uitstoot per ton geproduceerd (Mt/ton)=%{y}<extra></extra>",
           "hovertext": [
            "Japan"
           ],
           "legendgroup": "Japan",
           "marker": {
            "color": "#ab63fa",
            "symbol": "circle"
           },
           "mode": "markers+text",
           "name": "Japan",
           "orientation": "v",
           "showlegend": true,
           "text": [
            "Japan"
           ],
           "type": "scatter",
           "x": {
            "bdata": "AAAAAAAQmkA=",
            "dtype": "f8"
           },
           "xaxis": "x",
           "y": {
            "bdata": "kRP3pPVFez4=",
            "dtype": "f8"
           },
           "yaxis": "y"
          },
          {
           "hovertemplate": "<b>%{hovertext}</b><br><br>Country Name=%{text}<br>Year=1964<br>Neerslag (mm/jaar)=%{x}<br>Uitstoot per ton geproduceerd (Mt/ton)=%{y}<extra></extra>",
           "hovertext": [
            "Nigeria"
           ],
           "legendgroup": "Nigeria",
           "marker": {
            "color": "#FFA15A",
            "symbol": "circle"
           },
           "mode": "markers+text",
           "name": "Nigeria",
           "orientation": "v",
           "showlegend": true,
           "text": [
            "Nigeria"
           ],
           "type": "scatter",
           "x": {
            "bdata": "AAAAAAD4kUA=",
            "dtype": "f8"
           },
           "xaxis": "x",
           "y": {
            "bdata": "1nwtFzfpNz4=",
            "dtype": "f8"
           },
           "yaxis": "y"
          },
          {
           "hovertemplate": "<b>%{hovertext}</b><br><br>Country Name=%{text}<br>Year=1964<br>Neerslag (mm/jaar)=%{x}<br>Uitstoot per ton geproduceerd (Mt/ton)=%{y}<extra></extra>",
           "hovertext": [
            "South Africa"
           ],
           "legendgroup": "South Africa",
           "marker": {
            "color": "#19d3f3",
            "symbol": "circle"
           },
           "mode": "markers+text",
           "name": "South Africa",
           "orientation": "v",
           "showlegend": true,
           "text": [
            "South Africa"
           ],
           "type": "scatter",
           "x": {
            "bdata": "AAAAAADwfkA=",
            "dtype": "f8"
           },
           "xaxis": "x",
           "y": {
            "bdata": "PNU+jkPlkj4=",
            "dtype": "f8"
           },
           "yaxis": "y"
          },
          {
           "hovertemplate": "<b>%{hovertext}</b><br><br>Country Name=%{text}<br>Year=1964<br>Neerslag (mm/jaar)=%{x}<br>Uitstoot per ton geproduceerd (Mt/ton)=%{y}<extra></extra>",
           "hovertext": [
            "United States of America"
           ],
           "legendgroup": "United States of America",
           "marker": {
            "color": "#FF6692",
            "symbol": "circle"
           },
           "mode": "markers+text",
           "name": "United States of America",
           "orientation": "v",
           "showlegend": true,
           "text": [
            "United States of America"
           ],
           "type": "scatter",
           "x": {
            "bdata": "AAAAAABYhkA=",
            "dtype": "f8"
           },
           "xaxis": "x",
           "y": {
            "bdata": "T44BmRjbnT4=",
            "dtype": "f8"
           },
           "yaxis": "y"
          }
         ],
         "name": "1964"
        },
        {
         "data": [
          {
           "hovertemplate": "<b>%{hovertext}</b><br><br>Country Name=%{text}<br>Year=1965<br>Neerslag (mm/jaar)=%{x}<br>Uitstoot per ton geproduceerd (Mt/ton)=%{y}<extra></extra>",
           "hovertext": [
            "Brazil"
           ],
           "legendgroup": "Brazil",
           "marker": {
            "color": "#636efa",
            "symbol": "circle"
           },
           "mode": "markers+text",
           "name": "Brazil",
           "orientation": "v",
           "showlegend": true,
           "text": [
            "Brazil"
           ],
           "type": "scatter",
           "x": {
            "bdata": "AAAAAADYm0A=",
            "dtype": "f8"
           },
           "xaxis": "x",
           "y": {
            "bdata": "xBGu/baAeD4=",
            "dtype": "f8"
           },
           "yaxis": "y"
          },
          {
           "hovertemplate": "<b>%{hovertext}</b><br><br>Country Name=%{text}<br>Year=1965<br>Neerslag (mm/jaar)=%{x}<br>Uitstoot per ton geproduceerd (Mt/ton)=%{y}<extra></extra>",
           "hovertext": [
            "India"
           ],
           "legendgroup": "India",
           "marker": {
            "color": "#EF553B",
            "symbol": "circle"
           },
           "mode": "markers+text",
           "name": "India",
           "orientation": "v",
           "showlegend": true,
           "text": [
            "India"
           ],
           "type": "scatter",
           "x": {
            "bdata": "AAAAAADskEA=",
            "dtype": "f8"
           },
           "xaxis": "x",
           "y": {
            "bdata": "FTpwyYjakj4=",
            "dtype": "f8"
           },
           "yaxis": "y"
          },
          {
           "hovertemplate": "<b>%{hovertext}</b><br><br>Country Name=%{text}<br>Year=1965<br>Neerslag (mm/jaar)=%{x}<br>Uitstoot per ton geproduceerd (Mt/ton)=%{y}<extra></extra>",
           "hovertext": [
            "Indonesia"
           ],
           "legendgroup": "Indonesia",
           "marker": {
            "color": "#00cc96",
            "symbol": "circle"
           },
           "mode": "markers+text",
           "name": "Indonesia",
           "orientation": "v",
           "showlegend": true,
           "text": [
            "Indonesia"
           ],
           "type": "scatter",
           "x": {
            "bdata": "AAAAAAAcpUA=",
            "dtype": "f8"
           },
           "xaxis": "x",
           "y": {
            "bdata": "co94lCqfVT4=",
            "dtype": "f8"
           },
           "yaxis": "y"
          },
          {
           "hovertemplate": "<b>%{hovertext}</b><br><br>Country Name=%{text}<br>Year=1965<br>Neerslag (mm/jaar)=%{x}<br>Uitstoot per ton geproduceerd (Mt/ton)=%{y}<extra></extra>",
           "hovertext": [
            "Japan"
           ],
           "legendgroup": "Japan",
           "marker": {
            "color": "#ab63fa",
            "symbol": "circle"
           },
           "mode": "markers+text",
           "name": "Japan",
           "orientation": "v",
           "showlegend": true,
           "text": [
            "Japan"
           ],
           "type": "scatter",
           "x": {
            "bdata": "AAAAAAAQmkA=",
            "dtype": "f8"
           },
           "xaxis": "x",
           "y": {
            "bdata": "2VtW5fMHez4=",
            "dtype": "f8"
           },
           "yaxis": "y"
          },
          {
           "hovertemplate": "<b>%{hovertext}</b><br><br>Country Name=%{text}<br>Year=1965<br>Neerslag (mm/jaar)=%{x}<br>Uitstoot per ton geproduceerd (Mt/ton)=%{y}<extra></extra>",
           "hovertext": [
            "Nigeria"
           ],
           "legendgroup": "Nigeria",
           "marker": {
            "color": "#FFA15A",
            "symbol": "circle"
           },
           "mode": "markers+text",
           "name": "Nigeria",
           "orientation": "v",
           "showlegend": true,
           "text": [
            "Nigeria"
           ],
           "type": "scatter",
           "x": {
            "bdata": "AAAAAAD4kUA=",
            "dtype": "f8"
           },
           "xaxis": "x",
           "y": {
            "bdata": "cwaVSmvMNz4=",
            "dtype": "f8"
           },
           "yaxis": "y"
          },
          {
           "hovertemplate": "<b>%{hovertext}</b><br><br>Country Name=%{text}<br>Year=1965<br>Neerslag (mm/jaar)=%{x}<br>Uitstoot per ton geproduceerd (Mt/ton)=%{y}<extra></extra>",
           "hovertext": [
            "South Africa"
           ],
           "legendgroup": "South Africa",
           "marker": {
            "color": "#19d3f3",
            "symbol": "circle"
           },
           "mode": "markers+text",
           "name": "South Africa",
           "orientation": "v",
           "showlegend": true,
           "text": [
            "South Africa"
           ],
           "type": "scatter",
           "x": {
            "bdata": "AAAAAADwfkA=",
            "dtype": "f8"
           },
           "xaxis": "x",
           "y": {
            "bdata": "08q31CaYlj4=",
            "dtype": "f8"
           },
           "yaxis": "y"
          },
          {
           "hovertemplate": "<b>%{hovertext}</b><br><br>Country Name=%{text}<br>Year=1965<br>Neerslag (mm/jaar)=%{x}<br>Uitstoot per ton geproduceerd (Mt/ton)=%{y}<extra></extra>",
           "hovertext": [
            "United States of America"
           ],
           "legendgroup": "United States of America",
           "marker": {
            "color": "#FF6692",
            "symbol": "circle"
           },
           "mode": "markers+text",
           "name": "United States of America",
           "orientation": "v",
           "showlegend": true,
           "text": [
            "United States of America"
           ],
           "type": "scatter",
           "x": {
            "bdata": "AAAAAABYhkA=",
            "dtype": "f8"
           },
           "xaxis": "x",
           "y": {
            "bdata": "LICc23ubnD4=",
            "dtype": "f8"
           },
           "yaxis": "y"
          }
         ],
         "name": "1965"
        },
        {
         "data": [
          {
           "hovertemplate": "<b>%{hovertext}</b><br><br>Country Name=%{text}<br>Year=1966<br>Neerslag (mm/jaar)=%{x}<br>Uitstoot per ton geproduceerd (Mt/ton)=%{y}<extra></extra>",
           "hovertext": [
            "Brazil"
           ],
           "legendgroup": "Brazil",
           "marker": {
            "color": "#636efa",
            "symbol": "circle"
           },
           "mode": "markers+text",
           "name": "Brazil",
           "orientation": "v",
           "showlegend": true,
           "text": [
            "Brazil"
           ],
           "type": "scatter",
           "x": {
            "bdata": "AAAAAADYm0A=",
            "dtype": "f8"
           },
           "xaxis": "x",
           "y": {
            "bdata": "y0mJrHmqdz4=",
            "dtype": "f8"
           },
           "yaxis": "y"
          },
          {
           "hovertemplate": "<b>%{hovertext}</b><br><br>Country Name=%{text}<br>Year=1966<br>Neerslag (mm/jaar)=%{x}<br>Uitstoot per ton geproduceerd (Mt/ton)=%{y}<extra></extra>",
           "hovertext": [
            "India"
           ],
           "legendgroup": "India",
           "marker": {
            "color": "#EF553B",
            "symbol": "circle"
           },
           "mode": "markers+text",
           "name": "India",
           "orientation": "v",
           "showlegend": true,
           "text": [
            "India"
           ],
           "type": "scatter",
           "x": {
            "bdata": "AAAAAADskEA=",
            "dtype": "f8"
           },
           "xaxis": "x",
           "y": {
            "bdata": "zpePJp23kT4=",
            "dtype": "f8"
           },
           "yaxis": "y"
          },
          {
           "hovertemplate": "<b>%{hovertext}</b><br><br>Country Name=%{text}<br>Year=1966<br>Neerslag (mm/jaar)=%{x}<br>Uitstoot per ton geproduceerd (Mt/ton)=%{y}<extra></extra>",
           "hovertext": [
            "Indonesia"
           ],
           "legendgroup": "Indonesia",
           "marker": {
            "color": "#00cc96",
            "symbol": "circle"
           },
           "mode": "markers+text",
           "name": "Indonesia",
           "orientation": "v",
           "showlegend": true,
           "text": [
            "Indonesia"
           ],
           "type": "scatter",
           "x": {
            "bdata": "AAAAAAAcpUA=",
            "dtype": "f8"
           },
           "xaxis": "x",
           "y": {
            "bdata": "rdsh0iNCUz4=",
            "dtype": "f8"
           },
           "yaxis": "y"
          },
          {
           "hovertemplate": "<b>%{hovertext}</b><br><br>Country Name=%{text}<br>Year=1966<br>Neerslag (mm/jaar)=%{x}<br>Uitstoot per ton geproduceerd (Mt/ton)=%{y}<extra></extra>",
           "hovertext": [
            "Japan"
           ],
           "legendgroup": "Japan",
           "marker": {
            "color": "#ab63fa",
            "symbol": "circle"
           },
           "mode": "markers+text",
           "name": "Japan",
           "orientation": "v",
           "showlegend": true,
           "text": [
            "Japan"
           ],
           "type": "scatter",
           "x": {
            "bdata": "AAAAAAAQmkA=",
            "dtype": "f8"
           },
           "xaxis": "x",
           "y": {
            "bdata": "6K71GdvEeD4=",
            "dtype": "f8"
           },
           "yaxis": "y"
          },
          {
           "hovertemplate": "<b>%{hovertext}</b><br><br>Country Name=%{text}<br>Year=1966<br>Neerslag (mm/jaar)=%{x}<br>Uitstoot per ton geproduceerd (Mt/ton)=%{y}<extra></extra>",
           "hovertext": [
            "Nigeria"
           ],
           "legendgroup": "Nigeria",
           "marker": {
            "color": "#FFA15A",
            "symbol": "circle"
           },
           "mode": "markers+text",
           "name": "Nigeria",
           "orientation": "v",
           "showlegend": true,
           "text": [
            "Nigeria"
           ],
           "type": "scatter",
           "x": {
            "bdata": "AAAAAAD4kUA=",
            "dtype": "f8"
           },
           "xaxis": "x",
           "y": {
            "bdata": "zHm82B6KOT4=",
            "dtype": "f8"
           },
           "yaxis": "y"
          },
          {
           "hovertemplate": "<b>%{hovertext}</b><br><br>Country Name=%{text}<br>Year=1966<br>Neerslag (mm/jaar)=%{x}<br>Uitstoot per ton geproduceerd (Mt/ton)=%{y}<extra></extra>",
           "hovertext": [
            "South Africa"
           ],
           "legendgroup": "South Africa",
           "marker": {
            "color": "#19d3f3",
            "symbol": "circle"
           },
           "mode": "markers+text",
           "name": "South Africa",
           "orientation": "v",
           "showlegend": true,
           "text": [
            "South Africa"
           ],
           "type": "scatter",
           "x": {
            "bdata": "AAAAAADwfkA=",
            "dtype": "f8"
           },
           "xaxis": "x",
           "y": {
            "bdata": "eG1mWyk3iz4=",
            "dtype": "f8"
           },
           "yaxis": "y"
          },
          {
           "hovertemplate": "<b>%{hovertext}</b><br><br>Country Name=%{text}<br>Year=1966<br>Neerslag (mm/jaar)=%{x}<br>Uitstoot per ton geproduceerd (Mt/ton)=%{y}<extra></extra>",
           "hovertext": [
            "United States of America"
           ],
           "legendgroup": "United States of America",
           "marker": {
            "color": "#FF6692",
            "symbol": "circle"
           },
           "mode": "markers+text",
           "name": "United States of America",
           "orientation": "v",
           "showlegend": true,
           "text": [
            "United States of America"
           ],
           "type": "scatter",
           "x": {
            "bdata": "AAAAAABYhkA=",
            "dtype": "f8"
           },
           "xaxis": "x",
           "y": {
            "bdata": "Gj/R67J3nD4=",
            "dtype": "f8"
           },
           "yaxis": "y"
          }
         ],
         "name": "1966"
        },
        {
         "data": [
          {
           "hovertemplate": "<b>%{hovertext}</b><br><br>Country Name=%{text}<br>Year=1967<br>Neerslag (mm/jaar)=%{x}<br>Uitstoot per ton geproduceerd (Mt/ton)=%{y}<extra></extra>",
           "hovertext": [
            "Brazil"
           ],
           "legendgroup": "Brazil",
           "marker": {
            "color": "#636efa",
            "symbol": "circle"
           },
           "mode": "markers+text",
           "name": "Brazil",
           "orientation": "v",
           "showlegend": true,
           "text": [
            "Brazil"
           ],
           "type": "scatter",
           "x": {
            "bdata": "AAAAAACEm0A=",
            "dtype": "f8"
           },
           "xaxis": "x",
           "y": {
            "bdata": "nkZmukAleD4=",
            "dtype": "f8"
           },
           "yaxis": "y"
          },
          {
           "hovertemplate": "<b>%{hovertext}</b><br><br>Country Name=%{text}<br>Year=1967<br>Neerslag (mm/jaar)=%{x}<br>Uitstoot per ton geproduceerd (Mt/ton)=%{y}<extra></extra>",
           "hovertext": [
            "India"
           ],
           "legendgroup": "India",
           "marker": {
            "color": "#EF553B",
            "symbol": "circle"
           },
           "mode": "markers+text",
           "name": "India",
           "orientation": "v",
           "showlegend": true,
           "text": [
            "India"
           ],
           "type": "scatter",
           "x": {
            "bdata": "AAAAAADskEA=",
            "dtype": "f8"
           },
           "xaxis": "x",
           "y": {
            "bdata": "p2T0I5nAlD4=",
            "dtype": "f8"
           },
           "yaxis": "y"
          },
          {
           "hovertemplate": "<b>%{hovertext}</b><br><br>Country Name=%{text}<br>Year=1967<br>Neerslag (mm/jaar)=%{x}<br>Uitstoot per ton geproduceerd (Mt/ton)=%{y}<extra></extra>",
           "hovertext": [
            "Indonesia"
           ],
           "legendgroup": "Indonesia",
           "marker": {
            "color": "#00cc96",
            "symbol": "circle"
           },
           "mode": "markers+text",
           "name": "Indonesia",
           "orientation": "v",
           "showlegend": true,
           "text": [
            "Indonesia"
           ],
           "type": "scatter",
           "x": {
            "bdata": "AAAAAAAcpUA=",
            "dtype": "f8"
           },
           "xaxis": "x",
           "y": {
            "bdata": "tvRWPck7VT4=",
            "dtype": "f8"
           },
           "yaxis": "y"
          },
          {
           "hovertemplate": "<b>%{hovertext}</b><br><br>Country Name=%{text}<br>Year=1967<br>Neerslag (mm/jaar)=%{x}<br>Uitstoot per ton geproduceerd (Mt/ton)=%{y}<extra></extra>",
           "hovertext": [
            "Japan"
           ],
           "legendgroup": "Japan",
           "marker": {
            "color": "#ab63fa",
            "symbol": "circle"
           },
           "mode": "markers+text",
           "name": "Japan",
           "orientation": "v",
           "showlegend": true,
           "text": [
            "Japan"
           ],
           "type": "scatter",
           "x": {
            "bdata": "AAAAAAAQmkA=",
            "dtype": "f8"
           },
           "xaxis": "x",
           "y": {
            "bdata": "UbJqBO0qdj4=",
            "dtype": "f8"
           },
           "yaxis": "y"
          },
          {
           "hovertemplate": "<b>%{hovertext}</b><br><br>Country Name=%{text}<br>Year=1967<br>Neerslag (mm/jaar)=%{x}<br>Uitstoot per ton geproduceerd (Mt/ton)=%{y}<extra></extra>",
           "hovertext": [
            "Nigeria"
           ],
           "legendgroup": "Nigeria",
           "marker": {
            "color": "#FFA15A",
            "symbol": "circle"
           },
           "mode": "markers+text",
           "name": "Nigeria",
           "orientation": "v",
           "showlegend": true,
           "text": [
            "Nigeria"
           ],
           "type": "scatter",
           "x": {
            "bdata": "AAAAAAD4kUA=",
            "dtype": "f8"
           },
           "xaxis": "x",
           "y": {
            "bdata": "PxZixeZWOD4=",
            "dtype": "f8"
           },
           "yaxis": "y"
          },
          {
           "hovertemplate": "<b>%{hovertext}</b><br><br>Country Name=%{text}<br>Year=1967<br>Neerslag (mm/jaar)=%{x}<br>Uitstoot per ton geproduceerd (Mt/ton)=%{y}<extra></extra>",
           "hovertext": [
            "South Africa"
           ],
           "legendgroup": "South Africa",
           "marker": {
            "color": "#19d3f3",
            "symbol": "circle"
           },
           "mode": "markers+text",
           "name": "South Africa",
           "orientation": "v",
           "showlegend": true,
           "text": [
            "South Africa"
           ],
           "type": "scatter",
           "x": {
            "bdata": "AAAAAADwfkA=",
            "dtype": "f8"
           },
           "xaxis": "x",
           "y": {
            "bdata": "/A5Bap18ij4=",
            "dtype": "f8"
           },
           "yaxis": "y"
          },
          {
           "hovertemplate": "<b>%{hovertext}</b><br><br>Country Name=%{text}<br>Year=1967<br>Neerslag (mm/jaar)=%{x}<br>Uitstoot per ton geproduceerd (Mt/ton)=%{y}<extra></extra>",
           "hovertext": [
            "United States of America"
           ],
           "legendgroup": "United States of America",
           "marker": {
            "color": "#FF6692",
            "symbol": "circle"
           },
           "mode": "markers+text",
           "name": "United States of America",
           "orientation": "v",
           "showlegend": true,
           "text": [
            "United States of America"
           ],
           "type": "scatter",
           "x": {
            "bdata": "AAAAAABYhkA=",
            "dtype": "f8"
           },
           "xaxis": "x",
           "y": {
            "bdata": "7/uOWAt1nz4=",
            "dtype": "f8"
           },
           "yaxis": "y"
          }
         ],
         "name": "1967"
        },
        {
         "data": [
          {
           "hovertemplate": "<b>%{hovertext}</b><br><br>Country Name=%{text}<br>Year=1968<br>Neerslag (mm/jaar)=%{x}<br>Uitstoot per ton geproduceerd (Mt/ton)=%{y}<extra></extra>",
           "hovertext": [
            "Brazil"
           ],
           "legendgroup": "Brazil",
           "marker": {
            "color": "#636efa",
            "symbol": "circle"
           },
           "mode": "markers+text",
           "name": "Brazil",
           "orientation": "v",
           "showlegend": true,
           "text": [
            "Brazil"
           ],
           "type": "scatter",
           "x": {
            "bdata": "AAAAAADYm0A=",
            "dtype": "f8"
           },
           "xaxis": "x",
           "y": {
            "bdata": "gn5G8PmKeT4=",
            "dtype": "f8"
           },
           "yaxis": "y"
          },
          {
           "hovertemplate": "<b>%{hovertext}</b><br><br>Country Name=%{text}<br>Year=1968<br>Neerslag (mm/jaar)=%{x}<br>Uitstoot per ton geproduceerd (Mt/ton)=%{y}<extra></extra>",
           "hovertext": [
            "India"
           ],
           "legendgroup": "India",
           "marker": {
            "color": "#EF553B",
            "symbol": "circle"
           },
           "mode": "markers+text",
           "name": "India",
           "orientation": "v",
           "showlegend": true,
           "text": [
            "India"
           ],
           "type": "scatter",
           "x": {
            "bdata": "AAAAAADskEA=",
            "dtype": "f8"
           },
           "xaxis": "x",
           "y": {
            "bdata": "lrKkC3V9lj4=",
            "dtype": "f8"
           },
           "yaxis": "y"
          },
          {
           "hovertemplate": "<b>%{hovertext}</b><br><br>Country Name=%{text}<br>Year=1968<br>Neerslag (mm/jaar)=%{x}<br>Uitstoot per ton geproduceerd (Mt/ton)=%{y}<extra></extra>",
           "hovertext": [
            "Indonesia"
           ],
           "legendgroup": "Indonesia",
           "marker": {
            "color": "#00cc96",
            "symbol": "circle"
           },
           "mode": "markers+text",
           "name": "Indonesia",
           "orientation": "v",
           "showlegend": true,
           "text": [
            "Indonesia"
           ],
           "type": "scatter",
           "x": {
            "bdata": "AAAAAAAcpUA=",
            "dtype": "f8"
           },
           "xaxis": "x",
           "y": {
            "bdata": "dtuVDMpZVD4=",
            "dtype": "f8"
           },
           "yaxis": "y"
          },
          {
           "hovertemplate": "<b>%{hovertext}</b><br><br>Country Name=%{text}<br>Year=1968<br>Neerslag (mm/jaar)=%{x}<br>Uitstoot per ton geproduceerd (Mt/ton)=%{y}<extra></extra>",
           "hovertext": [
            "Japan"
           ],
           "legendgroup": "Japan",
           "marker": {
            "color": "#ab63fa",
            "symbol": "circle"
           },
           "mode": "markers+text",
           "name": "Japan",
           "orientation": "v",
           "showlegend": true,
           "text": [
            "Japan"
           ],
           "type": "scatter",
           "x": {
            "bdata": "AAAAAAAQmkA=",
            "dtype": "f8"
           },
           "xaxis": "x",
           "y": {
            "bdata": "n6lAfxridD4=",
            "dtype": "f8"
           },
           "yaxis": "y"
          },
          {
           "hovertemplate": "<b>%{hovertext}</b><br><br>Country Name=%{text}<br>Year=1968<br>Neerslag (mm/jaar)=%{x}<br>Uitstoot per ton geproduceerd (Mt/ton)=%{y}<extra></extra>",
           "hovertext": [
            "Nigeria"
           ],
           "legendgroup": "Nigeria",
           "marker": {
            "color": "#FFA15A",
            "symbol": "circle"
           },
           "mode": "markers+text",
           "name": "Nigeria",
           "orientation": "v",
           "showlegend": true,
           "text": [
            "Nigeria"
           ],
           "type": "scatter",
           "x": {
            "bdata": "AAAAAAD4kUA=",
            "dtype": "f8"
           },
           "xaxis": "x",
           "y": {
            "bdata": "I7Y1Ct/JNz4=",
            "dtype": "f8"
           },
           "yaxis": "y"
          },
          {
           "hovertemplate": "<b>%{hovertext}</b><br><br>Country Name=%{text}<br>Year=1968<br>Neerslag (mm/jaar)=%{x}<br>Uitstoot per ton geproduceerd (Mt/ton)=%{y}<extra></extra>",
           "hovertext": [
            "South Africa"
           ],
           "legendgroup": "South Africa",
           "marker": {
            "color": "#19d3f3",
            "symbol": "circle"
           },
           "mode": "markers+text",
           "name": "South Africa",
           "orientation": "v",
           "showlegend": true,
           "text": [
            "South Africa"
           ],
           "type": "scatter",
           "x": {
            "bdata": "AAAAAADwfkA=",
            "dtype": "f8"
           },
           "xaxis": "x",
           "y": {
            "bdata": "h4pXQo/9kj4=",
            "dtype": "f8"
           },
           "yaxis": "y"
          },
          {
           "hovertemplate": "<b>%{hovertext}</b><br><br>Country Name=%{text}<br>Year=1968<br>Neerslag (mm/jaar)=%{x}<br>Uitstoot per ton geproduceerd (Mt/ton)=%{y}<extra></extra>",
           "hovertext": [
            "United States of America"
           ],
           "legendgroup": "United States of America",
           "marker": {
            "color": "#FF6692",
            "symbol": "circle"
           },
           "mode": "markers+text",
           "name": "United States of America",
           "orientation": "v",
           "showlegend": true,
           "text": [
            "United States of America"
           ],
           "type": "scatter",
           "x": {
            "bdata": "AAAAAABYhkA=",
            "dtype": "f8"
           },
           "xaxis": "x",
           "y": {
            "bdata": "0gehSUr1nD4=",
            "dtype": "f8"
           },
           "yaxis": "y"
          }
         ],
         "name": "1968"
        },
        {
         "data": [
          {
           "hovertemplate": "<b>%{hovertext}</b><br><br>Country Name=%{text}<br>Year=1969<br>Neerslag (mm/jaar)=%{x}<br>Uitstoot per ton geproduceerd (Mt/ton)=%{y}<extra></extra>",
           "hovertext": [
            "Brazil"
           ],
           "legendgroup": "Brazil",
           "marker": {
            "color": "#636efa",
            "symbol": "circle"
           },
           "mode": "markers+text",
           "name": "Brazil",
           "orientation": "v",
           "showlegend": true,
           "text": [
            "Brazil"
           ],
           "type": "scatter",
           "x": {
            "bdata": "AAAAAADYm0A=",
            "dtype": "f8"
           },
           "xaxis": "x",
           "y": {
            "bdata": "+/JB0v0NfT4=",
            "dtype": "f8"
           },
           "yaxis": "y"
          },
          {
           "hovertemplate": "<b>%{hovertext}</b><br><br>Country Name=%{text}<br>Year=1969<br>Neerslag (mm/jaar)=%{x}<br>Uitstoot per ton geproduceerd (Mt/ton)=%{y}<extra></extra>",
           "hovertext": [
            "India"
           ],
           "legendgroup": "India",
           "marker": {
            "color": "#EF553B",
            "symbol": "circle"
           },
           "mode": "markers+text",
           "name": "India",
           "orientation": "v",
           "showlegend": true,
           "text": [
            "India"
           ],
           "type": "scatter",
           "x": {
            "bdata": "AAAAAADskEA=",
            "dtype": "f8"
           },
           "xaxis": "x",
           "y": {
            "bdata": "ej/vA+A+lD4=",
            "dtype": "f8"
           },
           "yaxis": "y"
          },
          {
           "hovertemplate": "<b>%{hovertext}</b><br><br>Country Name=%{text}<br>Year=1969<br>Neerslag (mm/jaar)=%{x}<br>Uitstoot per ton geproduceerd (Mt/ton)=%{y}<extra></extra>",
           "hovertext": [
            "Indonesia"
           ],
           "legendgroup": "Indonesia",
           "marker": {
            "color": "#00cc96",
            "symbol": "circle"
           },
           "mode": "markers+text",
           "name": "Indonesia",
           "orientation": "v",
           "showlegend": true,
           "text": [
            "Indonesia"
           ],
           "type": "scatter",
           "x": {
            "bdata": "AAAAAAAcpUA=",
            "dtype": "f8"
           },
           "xaxis": "x",
           "y": {
            "bdata": "1SRjUjEpUz4=",
            "dtype": "f8"
           },
           "yaxis": "y"
          },
          {
           "hovertemplate": "<b>%{hovertext}</b><br><br>Country Name=%{text}<br>Year=1969<br>Neerslag (mm/jaar)=%{x}<br>Uitstoot per ton geproduceerd (Mt/ton)=%{y}<extra></extra>",
           "hovertext": [
            "Japan"
           ],
           "legendgroup": "Japan",
           "marker": {
            "color": "#ab63fa",
            "symbol": "circle"
           },
           "mode": "markers+text",
           "name": "Japan",
           "orientation": "v",
           "showlegend": true,
           "text": [
            "Japan"
           ],
           "type": "scatter",
           "x": {
            "bdata": "AAAAAAAQmkA=",
            "dtype": "f8"
           },
           "xaxis": "x",
           "y": {
            "bdata": "sdoOVlsUdD4=",
            "dtype": "f8"
           },
           "yaxis": "y"
          },
          {
           "hovertemplate": "<b>%{hovertext}</b><br><br>Country Name=%{text}<br>Year=1969<br>Neerslag (mm/jaar)=%{x}<br>Uitstoot per ton geproduceerd (Mt/ton)=%{y}<extra></extra>",
           "hovertext": [
            "Nigeria"
           ],
           "legendgroup": "Nigeria",
           "marker": {
            "color": "#FFA15A",
            "symbol": "circle"
           },
           "mode": "markers+text",
           "name": "Nigeria",
           "orientation": "v",
           "showlegend": true,
           "text": [
            "Nigeria"
           ],
           "type": "scatter",
           "x": {
            "bdata": "AAAAAAD4kUA=",
            "dtype": "f8"
           },
           "xaxis": "x",
           "y": {
            "bdata": "MmPY5pKTND4=",
            "dtype": "f8"
           },
           "yaxis": "y"
          },
          {
           "hovertemplate": "<b>%{hovertext}</b><br><br>Country Name=%{text}<br>Year=1969<br>Neerslag (mm/jaar)=%{x}<br>Uitstoot per ton geproduceerd (Mt/ton)=%{y}<extra></extra>",
           "hovertext": [
            "South Africa"
           ],
           "legendgroup": "South Africa",
           "marker": {
            "color": "#19d3f3",
            "symbol": "circle"
           },
           "mode": "markers+text",
           "name": "South Africa",
           "orientation": "v",
           "showlegend": true,
           "text": [
            "South Africa"
           ],
           "type": "scatter",
           "x": {
            "bdata": "AAAAAADwfkA=",
            "dtype": "f8"
           },
           "xaxis": "x",
           "y": {
            "bdata": "PnbEZ3iUkz4=",
            "dtype": "f8"
           },
           "yaxis": "y"
          },
          {
           "hovertemplate": "<b>%{hovertext}</b><br><br>Country Name=%{text}<br>Year=1969<br>Neerslag (mm/jaar)=%{x}<br>Uitstoot per ton geproduceerd (Mt/ton)=%{y}<extra></extra>",
           "hovertext": [
            "United States of America"
           ],
           "legendgroup": "United States of America",
           "marker": {
            "color": "#FF6692",
            "symbol": "circle"
           },
           "mode": "markers+text",
           "name": "United States of America",
           "orientation": "v",
           "showlegend": true,
           "text": [
            "United States of America"
           ],
           "type": "scatter",
           "x": {
            "bdata": "AAAAAABYhkA=",
            "dtype": "f8"
           },
           "xaxis": "x",
           "y": {
            "bdata": "gugKRVCjmT4=",
            "dtype": "f8"
           },
           "yaxis": "y"
          }
         ],
         "name": "1969"
        },
        {
         "data": [
          {
           "hovertemplate": "<b>%{hovertext}</b><br><br>Country Name=%{text}<br>Year=1970<br>Neerslag (mm/jaar)=%{x}<br>Uitstoot per ton geproduceerd (Mt/ton)=%{y}<extra></extra>",
           "hovertext": [
            "Brazil"
           ],
           "legendgroup": "Brazil",
           "marker": {
            "color": "#636efa",
            "symbol": "circle"
           },
           "mode": "markers+text",
           "name": "Brazil",
           "orientation": "v",
           "showlegend": true,
           "text": [
            "Brazil"
           ],
           "type": "scatter",
           "x": {
            "bdata": "AAAAAADYm0A=",
            "dtype": "f8"
           },
           "xaxis": "x",
           "y": {
            "bdata": "FH/ddKC5fz4=",
            "dtype": "f8"
           },
           "yaxis": "y"
          },
          {
           "hovertemplate": "<b>%{hovertext}</b><br><br>Country Name=%{text}<br>Year=1970<br>Neerslag (mm/jaar)=%{x}<br>Uitstoot per ton geproduceerd (Mt/ton)=%{y}<extra></extra>",
           "hovertext": [
            "India"
           ],
           "legendgroup": "India",
           "marker": {
            "color": "#EF553B",
            "symbol": "circle"
           },
           "mode": "markers+text",
           "name": "India",
           "orientation": "v",
           "showlegend": true,
           "text": [
            "India"
           ],
           "type": "scatter",
           "x": {
            "bdata": "AAAAAADskEA=",
            "dtype": "f8"
           },
           "xaxis": "x",
           "y": {
            "bdata": "CHdwbbfvkz4=",
            "dtype": "f8"
           },
           "yaxis": "y"
          },
          {
           "hovertemplate": "<b>%{hovertext}</b><br><br>Country Name=%{text}<br>Year=1970<br>Neerslag (mm/jaar)=%{x}<br>Uitstoot per ton geproduceerd (Mt/ton)=%{y}<extra></extra>",
           "hovertext": [
            "Indonesia"
           ],
           "legendgroup": "Indonesia",
           "marker": {
            "color": "#00cc96",
            "symbol": "circle"
           },
           "mode": "markers+text",
           "name": "Indonesia",
           "orientation": "v",
           "showlegend": true,
           "text": [
            "Indonesia"
           ],
           "type": "scatter",
           "x": {
            "bdata": "AAAAAAAcpUA=",
            "dtype": "f8"
           },
           "xaxis": "x",
           "y": {
            "bdata": "CgT6/UzpUj4=",
            "dtype": "f8"
           },
           "yaxis": "y"
          },
          {
           "hovertemplate": "<b>%{hovertext}</b><br><br>Country Name=%{text}<br>Year=1970<br>Neerslag (mm/jaar)=%{x}<br>Uitstoot per ton geproduceerd (Mt/ton)=%{y}<extra></extra>",
           "hovertext": [
            "Japan"
           ],
           "legendgroup": "Japan",
           "marker": {
            "color": "#ab63fa",
            "symbol": "circle"
           },
           "mode": "markers+text",
           "name": "Japan",
           "orientation": "v",
           "showlegend": true,
           "text": [
            "Japan"
           ],
           "type": "scatter",
           "x": {
            "bdata": "AAAAAAAQmkA=",
            "dtype": "f8"
           },
           "xaxis": "x",
           "y": {
            "bdata": "yxEuIzipcD4=",
            "dtype": "f8"
           },
           "yaxis": "y"
          },
          {
           "hovertemplate": "<b>%{hovertext}</b><br><br>Country Name=%{text}<br>Year=1970<br>Neerslag (mm/jaar)=%{x}<br>Uitstoot per ton geproduceerd (Mt/ton)=%{y}<extra></extra>",
           "hovertext": [
            "Nigeria"
           ],
           "legendgroup": "Nigeria",
           "marker": {
            "color": "#FFA15A",
            "symbol": "circle"
           },
           "mode": "markers+text",
           "name": "Nigeria",
           "orientation": "v",
           "showlegend": true,
           "text": [
            "Nigeria"
           ],
           "type": "scatter",
           "x": {
            "bdata": "AAAAAAD4kUA=",
            "dtype": "f8"
           },
           "xaxis": "x",
           "y": {
            "bdata": "2f0HCyuRMj4=",
            "dtype": "f8"
           },
           "yaxis": "y"
          },
          {
           "hovertemplate": "<b>%{hovertext}</b><br><br>Country Name=%{text}<br>Year=1970<br>Neerslag (mm/jaar)=%{x}<br>Uitstoot per ton geproduceerd (Mt/ton)=%{y}<extra></extra>",
           "hovertext": [
            "South Africa"
           ],
           "legendgroup": "South Africa",
           "marker": {
            "color": "#19d3f3",
            "symbol": "circle"
           },
           "mode": "markers+text",
           "name": "South Africa",
           "orientation": "v",
           "showlegend": true,
           "text": [
            "South Africa"
           ],
           "type": "scatter",
           "x": {
            "bdata": "AAAAAADwfkA=",
            "dtype": "f8"
           },
           "xaxis": "x",
           "y": {
            "bdata": "+HqqOsTplj4=",
            "dtype": "f8"
           },
           "yaxis": "y"
          },
          {
           "hovertemplate": "<b>%{hovertext}</b><br><br>Country Name=%{text}<br>Year=1970<br>Neerslag (mm/jaar)=%{x}<br>Uitstoot per ton geproduceerd (Mt/ton)=%{y}<extra></extra>",
           "hovertext": [
            "United States of America"
           ],
           "legendgroup": "United States of America",
           "marker": {
            "color": "#FF6692",
            "symbol": "circle"
           },
           "mode": "markers+text",
           "name": "United States of America",
           "orientation": "v",
           "showlegend": true,
           "text": [
            "United States of America"
           ],
           "type": "scatter",
           "x": {
            "bdata": "AAAAAABYhkA=",
            "dtype": "f8"
           },
           "xaxis": "x",
           "y": {
            "bdata": "+hmdyUOomD4=",
            "dtype": "f8"
           },
           "yaxis": "y"
          }
         ],
         "name": "1970"
        },
        {
         "data": [
          {
           "hovertemplate": "<b>%{hovertext}</b><br><br>Country Name=%{text}<br>Year=1971<br>Neerslag (mm/jaar)=%{x}<br>Uitstoot per ton geproduceerd (Mt/ton)=%{y}<extra></extra>",
           "hovertext": [
            "Brazil"
           ],
           "legendgroup": "Brazil",
           "marker": {
            "color": "#636efa",
            "symbol": "circle"
           },
           "mode": "markers+text",
           "name": "Brazil",
           "orientation": "v",
           "showlegend": true,
           "text": [
            "Brazil"
           ],
           "type": "scatter",
           "x": {
            "bdata": "AAAAAADYm0A=",
            "dtype": "f8"
           },
           "xaxis": "x",
           "y": {
            "bdata": "urJV8aG+gD4=",
            "dtype": "f8"
           },
           "yaxis": "y"
          },
          {
           "hovertemplate": "<b>%{hovertext}</b><br><br>Country Name=%{text}<br>Year=1971<br>Neerslag (mm/jaar)=%{x}<br>Uitstoot per ton geproduceerd (Mt/ton)=%{y}<extra></extra>",
           "hovertext": [
            "India"
           ],
           "legendgroup": "India",
           "marker": {
            "color": "#EF553B",
            "symbol": "circle"
           },
           "mode": "markers+text",
           "name": "India",
           "orientation": "v",
           "showlegend": true,
           "text": [
            "India"
           ],
           "type": "scatter",
           "x": {
            "bdata": "AAAAAADskEA=",
            "dtype": "f8"
           },
           "xaxis": "x",
           "y": {
            "bdata": "dVSj+qxqlj4=",
            "dtype": "f8"
           },
           "yaxis": "y"
          },
          {
           "hovertemplate": "<b>%{hovertext}</b><br><br>Country Name=%{text}<br>Year=1971<br>Neerslag (mm/jaar)=%{x}<br>Uitstoot per ton geproduceerd (Mt/ton)=%{y}<extra></extra>",
           "hovertext": [
            "Indonesia"
           ],
           "legendgroup": "Indonesia",
           "marker": {
            "color": "#00cc96",
            "symbol": "circle"
           },
           "mode": "markers+text",
           "name": "Indonesia",
           "orientation": "v",
           "showlegend": true,
           "text": [
            "Indonesia"
           ],
           "type": "scatter",
           "x": {
            "bdata": "AAAAAAAcpUA=",
            "dtype": "f8"
           },
           "xaxis": "x",
           "y": {
            "bdata": "6ZNzshrYUT4=",
            "dtype": "f8"
           },
           "yaxis": "y"
          },
          {
           "hovertemplate": "<b>%{hovertext}</b><br><br>Country Name=%{text}<br>Year=1971<br>Neerslag (mm/jaar)=%{x}<br>Uitstoot per ton geproduceerd (Mt/ton)=%{y}<extra></extra>",
           "hovertext": [
            "Japan"
           ],
           "legendgroup": "Japan",
           "marker": {
            "color": "#ab63fa",
            "symbol": "circle"
           },
           "mode": "markers+text",
           "name": "Japan",
           "orientation": "v",
           "showlegend": true,
           "text": [
            "Japan"
           ],
           "type": "scatter",
           "x": {
            "bdata": "AAAAAAAQmkA=",
            "dtype": "f8"
           },
           "xaxis": "x",
           "y": {
            "bdata": "nq4d9QAcbj4=",
            "dtype": "f8"
           },
           "yaxis": "y"
          },
          {
           "hovertemplate": "<b>%{hovertext}</b><br><br>Country Name=%{text}<br>Year=1971<br>Neerslag (mm/jaar)=%{x}<br>Uitstoot per ton geproduceerd (Mt/ton)=%{y}<extra></extra>",
           "hovertext": [
            "Nigeria"
           ],
           "legendgroup": "Nigeria",
           "marker": {
            "color": "#FFA15A",
            "symbol": "circle"
           },
           "mode": "markers+text",
           "name": "Nigeria",
           "orientation": "v",
           "showlegend": true,
           "text": [
            "Nigeria"
           ],
           "type": "scatter",
           "x": {
            "bdata": "AAAAAAD4kUA=",
            "dtype": "f8"
           },
           "xaxis": "x",
           "y": {
            "bdata": "KoQk/IGKNj4=",
            "dtype": "f8"
           },
           "yaxis": "y"
          },
          {
           "hovertemplate": "<b>%{hovertext}</b><br><br>Country Name=%{text}<br>Year=1971<br>Neerslag (mm/jaar)=%{x}<br>Uitstoot per ton geproduceerd (Mt/ton)=%{y}<extra></extra>",
           "hovertext": [
            "South Africa"
           ],
           "legendgroup": "South Africa",
           "marker": {
            "color": "#19d3f3",
            "symbol": "circle"
           },
           "mode": "markers+text",
           "name": "South Africa",
           "orientation": "v",
           "showlegend": true,
           "text": [
            "South Africa"
           ],
           "type": "scatter",
           "x": {
            "bdata": "AAAAAADwfkA=",
            "dtype": "f8"
           },
           "xaxis": "x",
           "y": {
            "bdata": "GZEz3bq2kj4=",
            "dtype": "f8"
           },
           "yaxis": "y"
          },
          {
           "hovertemplate": "<b>%{hovertext}</b><br><br>Country Name=%{text}<br>Year=1971<br>Neerslag (mm/jaar)=%{x}<br>Uitstoot per ton geproduceerd (Mt/ton)=%{y}<extra></extra>",
           "hovertext": [
            "United States of America"
           ],
           "legendgroup": "United States of America",
           "marker": {
            "color": "#FF6692",
            "symbol": "circle"
           },
           "mode": "markers+text",
           "name": "United States of America",
           "orientation": "v",
           "showlegend": true,
           "text": [
            "United States of America"
           ],
           "type": "scatter",
           "x": {
            "bdata": "AAAAAABYhkA=",
            "dtype": "f8"
           },
           "xaxis": "x",
           "y": {
            "bdata": "XSJEZzRCmT4=",
            "dtype": "f8"
           },
           "yaxis": "y"
          }
         ],
         "name": "1971"
        },
        {
         "data": [
          {
           "hovertemplate": "<b>%{hovertext}</b><br><br>Country Name=%{text}<br>Year=1972<br>Neerslag (mm/jaar)=%{x}<br>Uitstoot per ton geproduceerd (Mt/ton)=%{y}<extra></extra>",
           "hovertext": [
            "Brazil"
           ],
           "legendgroup": "Brazil",
           "marker": {
            "color": "#636efa",
            "symbol": "circle"
           },
           "mode": "markers+text",
           "name": "Brazil",
           "orientation": "v",
           "showlegend": true,
           "text": [
            "Brazil"
           ],
           "type": "scatter",
           "x": {
            "bdata": "AAAAAACEm0A=",
            "dtype": "f8"
           },
           "xaxis": "x",
           "y": {
            "bdata": "H2XfeqK0fz4=",
            "dtype": "f8"
           },
           "yaxis": "y"
          },
          {
           "hovertemplate": "<b>%{hovertext}</b><br><br>Country Name=%{text}<br>Year=1972<br>Neerslag (mm/jaar)=%{x}<br>Uitstoot per ton geproduceerd (Mt/ton)=%{y}<extra></extra>",
           "hovertext": [
            "India"
           ],
           "legendgroup": "India",
           "marker": {
            "color": "#EF553B",
            "symbol": "circle"
           },
           "mode": "markers+text",
           "name": "India",
           "orientation": "v",
           "showlegend": true,
           "text": [
            "India"
           ],
           "type": "scatter",
           "x": {
            "bdata": "AAAAAADskEA=",
            "dtype": "f8"
           },
           "xaxis": "x",
           "y": {
            "bdata": "PDDjGxkPmT4=",
            "dtype": "f8"
           },
           "yaxis": "y"
          },
          {
           "hovertemplate": "<b>%{hovertext}</b><br><br>Country Name=%{text}<br>Year=1972<br>Neerslag (mm/jaar)=%{x}<br>Uitstoot per ton geproduceerd (Mt/ton)=%{y}<extra></extra>",
           "hovertext": [
            "Indonesia"
           ],
           "legendgroup": "Indonesia",
           "marker": {
            "color": "#00cc96",
            "symbol": "circle"
           },
           "mode": "markers+text",
           "name": "Indonesia",
           "orientation": "v",
           "showlegend": true,
           "text": [
            "Indonesia"
           ],
           "type": "scatter",
           "x": {
            "bdata": "AAAAAAAcpUA=",
            "dtype": "f8"
           },
           "xaxis": "x",
           "y": {
            "bdata": "nAIDodAwUj4=",
            "dtype": "f8"
           },
           "yaxis": "y"
          },
          {
           "hovertemplate": "<b>%{hovertext}</b><br><br>Country Name=%{text}<br>Year=1972<br>Neerslag (mm/jaar)=%{x}<br>Uitstoot per ton geproduceerd (Mt/ton)=%{y}<extra></extra>",
           "hovertext": [
            "Japan"
           ],
           "legendgroup": "Japan",
           "marker": {
            "color": "#ab63fa",
            "symbol": "circle"
           },
           "mode": "markers+text",
           "name": "Japan",
           "orientation": "v",
           "showlegend": true,
           "text": [
            "Japan"
           ],
           "type": "scatter",
           "x": {
            "bdata": "AAAAAAAQmkA=",
            "dtype": "f8"
           },
           "xaxis": "x",
           "y": {
            "bdata": "OFqETx5UZz4=",
            "dtype": "f8"
           },
           "yaxis": "y"
          },
          {
           "hovertemplate": "<b>%{hovertext}</b><br><br>Country Name=%{text}<br>Year=1972<br>Neerslag (mm/jaar)=%{x}<br>Uitstoot per ton geproduceerd (Mt/ton)=%{y}<extra></extra>",
           "hovertext": [
            "Nigeria"
           ],
           "legendgroup": "Nigeria",
           "marker": {
            "color": "#FFA15A",
            "symbol": "circle"
           },
           "mode": "markers+text",
           "name": "Nigeria",
           "orientation": "v",
           "showlegend": true,
           "text": [
            "Nigeria"
           ],
           "type": "scatter",
           "x": {
            "bdata": "AAAAAAD4kUA=",
            "dtype": "f8"
           },
           "xaxis": "x",
           "y": {
            "bdata": "4jtlKPfTPj4=",
            "dtype": "f8"
           },
           "yaxis": "y"
          },
          {
           "hovertemplate": "<b>%{hovertext}</b><br><br>Country Name=%{text}<br>Year=1972<br>Neerslag (mm/jaar)=%{x}<br>Uitstoot per ton geproduceerd (Mt/ton)=%{y}<extra></extra>",
           "hovertext": [
            "South Africa"
           ],
           "legendgroup": "South Africa",
           "marker": {
            "color": "#19d3f3",
            "symbol": "circle"
           },
           "mode": "markers+text",
           "name": "South Africa",
           "orientation": "v",
           "showlegend": true,
           "text": [
            "South Africa"
           ],
           "type": "scatter",
           "x": {
            "bdata": "AAAAAADwfkA=",
            "dtype": "f8"
           },
           "xaxis": "x",
           "y": {
            "bdata": "hreLGYl0kj4=",
            "dtype": "f8"
           },
           "yaxis": "y"
          },
          {
           "hovertemplate": "<b>%{hovertext}</b><br><br>Country Name=%{text}<br>Year=1972<br>Neerslag (mm/jaar)=%{x}<br>Uitstoot per ton geproduceerd (Mt/ton)=%{y}<extra></extra>",
           "hovertext": [
            "United States of America"
           ],
           "legendgroup": "United States of America",
           "marker": {
            "color": "#FF6692",
            "symbol": "circle"
           },
           "mode": "markers+text",
           "name": "United States of America",
           "orientation": "v",
           "showlegend": true,
           "text": [
            "United States of America"
           ],
           "type": "scatter",
           "x": {
            "bdata": "AAAAAABYhkA=",
            "dtype": "f8"
           },
           "xaxis": "x",
           "y": {
            "bdata": "O4hox2htmT4=",
            "dtype": "f8"
           },
           "yaxis": "y"
          }
         ],
         "name": "1972"
        },
        {
         "data": [
          {
           "hovertemplate": "<b>%{hovertext}</b><br><br>Country Name=%{text}<br>Year=1973<br>Neerslag (mm/jaar)=%{x}<br>Uitstoot per ton geproduceerd (Mt/ton)=%{y}<extra></extra>",
           "hovertext": [
            "Brazil"
           ],
           "legendgroup": "Brazil",
           "marker": {
            "color": "#636efa",
            "symbol": "circle"
           },
           "mode": "markers+text",
           "name": "Brazil",
           "orientation": "v",
           "showlegend": true,
           "text": [
            "Brazil"
           ],
           "type": "scatter",
           "x": {
            "bdata": "AAAAAADYm0A=",
            "dtype": "f8"
           },
           "xaxis": "x",
           "y": {
            "bdata": "CAQpF9D1fT4=",
            "dtype": "f8"
           },
           "yaxis": "y"
          },
          {
           "hovertemplate": "<b>%{hovertext}</b><br><br>Country Name=%{text}<br>Year=1973<br>Neerslag (mm/jaar)=%{x}<br>Uitstoot per ton geproduceerd (Mt/ton)=%{y}<extra></extra>",
           "hovertext": [
            "India"
           ],
           "legendgroup": "India",
           "marker": {
            "color": "#EF553B",
            "symbol": "circle"
           },
           "mode": "markers+text",
           "name": "India",
           "orientation": "v",
           "showlegend": true,
           "text": [
            "India"
           ],
           "type": "scatter",
           "x": {
            "bdata": "AAAAAADskEA=",
            "dtype": "f8"
           },
           "xaxis": "x",
           "y": {
            "bdata": "m9/6IB4Jlz4=",
            "dtype": "f8"
           },
           "yaxis": "y"
          },
          {
           "hovertemplate": "<b>%{hovertext}</b><br><br>Country Name=%{text}<br>Year=1973<br>Neerslag (mm/jaar)=%{x}<br>Uitstoot per ton geproduceerd (Mt/ton)=%{y}<extra></extra>",
           "hovertext": [
            "Indonesia"
           ],
           "legendgroup": "Indonesia",
           "marker": {
            "color": "#00cc96",
            "symbol": "circle"
           },
           "mode": "markers+text",
           "name": "Indonesia",
           "orientation": "v",
           "showlegend": true,
           "text": [
            "Indonesia"
           ],
           "type": "scatter",
           "x": {
            "bdata": "AAAAAAAcpUA=",
            "dtype": "f8"
           },
           "xaxis": "x",
           "y": {
            "bdata": "qllCtUjXVD4=",
            "dtype": "f8"
           },
           "yaxis": "y"
          },
          {
           "hovertemplate": "<b>%{hovertext}</b><br><br>Country Name=%{text}<br>Year=1973<br>Neerslag (mm/jaar)=%{x}<br>Uitstoot per ton geproduceerd (Mt/ton)=%{y}<extra></extra>",
           "hovertext": [
            "Japan"
           ],
           "legendgroup": "Japan",
           "marker": {
            "color": "#ab63fa",
            "symbol": "circle"
           },
           "mode": "markers+text",
           "name": "Japan",
           "orientation": "v",
           "showlegend": true,
           "text": [
            "Japan"
           ],
           "type": "scatter",
           "x": {
            "bdata": "AAAAAAAQmkA=",
            "dtype": "f8"
           },
           "xaxis": "x",
           "y": {
            "bdata": "qZzDda5gYz4=",
            "dtype": "f8"
           },
           "yaxis": "y"
          },
          {
           "hovertemplate": "<b>%{hovertext}</b><br><br>Country Name=%{text}<br>Year=1973<br>Neerslag (mm/jaar)=%{x}<br>Uitstoot per ton geproduceerd (Mt/ton)=%{y}<extra></extra>",
           "hovertext": [
            "Nigeria"
           ],
           "legendgroup": "Nigeria",
           "marker": {
            "color": "#FFA15A",
            "symbol": "circle"
           },
           "mode": "markers+text",
           "name": "Nigeria",
           "orientation": "v",
           "showlegend": true,
           "text": [
            "Nigeria"
           ],
           "type": "scatter",
           "x": {
            "bdata": "AAAAAAD4kUA=",
            "dtype": "f8"
           },
           "xaxis": "x",
           "y": {
            "bdata": "yzm8tDXTOD4=",
            "dtype": "f8"
           },
           "yaxis": "y"
          },
          {
           "hovertemplate": "<b>%{hovertext}</b><br><br>Country Name=%{text}<br>Year=1973<br>Neerslag (mm/jaar)=%{x}<br>Uitstoot per ton geproduceerd (Mt/ton)=%{y}<extra></extra>",
           "hovertext": [
            "South Africa"
           ],
           "legendgroup": "South Africa",
           "marker": {
            "color": "#19d3f3",
            "symbol": "circle"
           },
           "mode": "markers+text",
           "name": "South Africa",
           "orientation": "v",
           "showlegend": true,
           "text": [
            "South Africa"
           ],
           "type": "scatter",
           "x": {
            "bdata": "AAAAAADwfkA=",
            "dtype": "f8"
           },
           "xaxis": "x",
           "y": {
            "bdata": "G1rNcb4UlD4=",
            "dtype": "f8"
           },
           "yaxis": "y"
          },
          {
           "hovertemplate": "<b>%{hovertext}</b><br><br>Country Name=%{text}<br>Year=1973<br>Neerslag (mm/jaar)=%{x}<br>Uitstoot per ton geproduceerd (Mt/ton)=%{y}<extra></extra>",
           "hovertext": [
            "United States of America"
           ],
           "legendgroup": "United States of America",
           "marker": {
            "color": "#FF6692",
            "symbol": "circle"
           },
           "mode": "markers+text",
           "name": "United States of America",
           "orientation": "v",
           "showlegend": true,
           "text": [
            "United States of America"
           ],
           "type": "scatter",
           "x": {
            "bdata": "AAAAAABYhkA=",
            "dtype": "f8"
           },
           "xaxis": "x",
           "y": {
            "bdata": "1rj9HD4AnD4=",
            "dtype": "f8"
           },
           "yaxis": "y"
          }
         ],
         "name": "1973"
        },
        {
         "data": [
          {
           "hovertemplate": "<b>%{hovertext}</b><br><br>Country Name=%{text}<br>Year=1974<br>Neerslag (mm/jaar)=%{x}<br>Uitstoot per ton geproduceerd (Mt/ton)=%{y}<extra></extra>",
           "hovertext": [
            "Brazil"
           ],
           "legendgroup": "Brazil",
           "marker": {
            "color": "#636efa",
            "symbol": "circle"
           },
           "mode": "markers+text",
           "name": "Brazil",
           "orientation": "v",
           "showlegend": true,
           "text": [
            "Brazil"
           ],
           "type": "scatter",
           "x": {
            "bdata": "AAAAAADYm0A=",
            "dtype": "f8"
           },
           "xaxis": "x",
           "y": {
            "bdata": "HMZCY+6ogD4=",
            "dtype": "f8"
           },
           "yaxis": "y"
          },
          {
           "hovertemplate": "<b>%{hovertext}</b><br><br>Country Name=%{text}<br>Year=1974<br>Neerslag (mm/jaar)=%{x}<br>Uitstoot per ton geproduceerd (Mt/ton)=%{y}<extra></extra>",
           "hovertext": [
            "India"
           ],
           "legendgroup": "India",
           "marker": {
            "color": "#EF553B",
            "symbol": "circle"
           },
           "mode": "markers+text",
           "name": "India",
           "orientation": "v",
           "showlegend": true,
           "text": [
            "India"
           ],
           "type": "scatter",
           "x": {
            "bdata": "AAAAAADskEA=",
            "dtype": "f8"
           },
           "xaxis": "x",
           "y": {
            "bdata": "dmxljH8elT4=",
            "dtype": "f8"
           },
           "yaxis": "y"
          },
          {
           "hovertemplate": "<b>%{hovertext}</b><br><br>Country Name=%{text}<br>Year=1974<br>Neerslag (mm/jaar)=%{x}<br>Uitstoot per ton geproduceerd (Mt/ton)=%{y}<extra></extra>",
           "hovertext": [
            "Indonesia"
           ],
           "legendgroup": "Indonesia",
           "marker": {
            "color": "#00cc96",
            "symbol": "circle"
           },
           "mode": "markers+text",
           "name": "Indonesia",
           "orientation": "v",
           "showlegend": true,
           "text": [
            "Indonesia"
           ],
           "type": "scatter",
           "x": {
            "bdata": "AAAAAAAcpUA=",
            "dtype": "f8"
           },
           "xaxis": "x",
           "y": {
            "bdata": "PuY2rRTUUj4=",
            "dtype": "f8"
           },
           "yaxis": "y"
          },
          {
           "hovertemplate": "<b>%{hovertext}</b><br><br>Country Name=%{text}<br>Year=1974<br>Neerslag (mm/jaar)=%{x}<br>Uitstoot per ton geproduceerd (Mt/ton)=%{y}<extra></extra>",
           "hovertext": [
            "Japan"
           ],
           "legendgroup": "Japan",
           "marker": {
            "color": "#ab63fa",
            "symbol": "circle"
           },
           "mode": "markers+text",
           "name": "Japan",
           "orientation": "v",
           "showlegend": true,
           "text": [
            "Japan"
           ],
           "type": "scatter",
           "x": {
            "bdata": "AAAAAAAQmkA=",
            "dtype": "f8"
           },
           "xaxis": "x",
           "y": {
            "bdata": "ySXxIF2eZj4=",
            "dtype": "f8"
           },
           "yaxis": "y"
          },
          {
           "hovertemplate": "<b>%{hovertext}</b><br><br>Country Name=%{text}<br>Year=1974<br>Neerslag (mm/jaar)=%{x}<br>Uitstoot per ton geproduceerd (Mt/ton)=%{y}<extra></extra>",
           "hovertext": [
            "Nigeria"
           ],
           "legendgroup": "Nigeria",
           "marker": {
            "color": "#FFA15A",
            "symbol": "circle"
           },
           "mode": "markers+text",
           "name": "Nigeria",
           "orientation": "v",
           "showlegend": true,
           "text": [
            "Nigeria"
           ],
           "type": "scatter",
           "x": {
            "bdata": "AAAAAAD4kUA=",
            "dtype": "f8"
           },
           "xaxis": "x",
           "y": {
            "bdata": "s0anmDlJNz4=",
            "dtype": "f8"
           },
           "yaxis": "y"
          },
          {
           "hovertemplate": "<b>%{hovertext}</b><br><br>Country Name=%{text}<br>Year=1974<br>Neerslag (mm/jaar)=%{x}<br>Uitstoot per ton geproduceerd (Mt/ton)=%{y}<extra></extra>",
           "hovertext": [
            "South Africa"
           ],
           "legendgroup": "South Africa",
           "marker": {
            "color": "#19d3f3",
            "symbol": "circle"
           },
           "mode": "markers+text",
           "name": "South Africa",
           "orientation": "v",
           "showlegend": true,
           "text": [
            "South Africa"
           ],
           "type": "scatter",
           "x": {
            "bdata": "AAAAAADwfkA=",
            "dtype": "f8"
           },
           "xaxis": "x",
           "y": {
            "bdata": "rfQ7tBkZkT4=",
            "dtype": "f8"
           },
           "yaxis": "y"
          },
          {
           "hovertemplate": "<b>%{hovertext}</b><br><br>Country Name=%{text}<br>Year=1974<br>Neerslag (mm/jaar)=%{x}<br>Uitstoot per ton geproduceerd (Mt/ton)=%{y}<extra></extra>",
           "hovertext": [
            "United States of America"
           ],
           "legendgroup": "United States of America",
           "marker": {
            "color": "#FF6692",
            "symbol": "circle"
           },
           "mode": "markers+text",
           "name": "United States of America",
           "orientation": "v",
           "showlegend": true,
           "text": [
            "United States of America"
           ],
           "type": "scatter",
           "x": {
            "bdata": "AAAAAABYhkA=",
            "dtype": "f8"
           },
           "xaxis": "x",
           "y": {
            "bdata": "PqZO5LcWoT4=",
            "dtype": "f8"
           },
           "yaxis": "y"
          }
         ],
         "name": "1974"
        },
        {
         "data": [
          {
           "hovertemplate": "<b>%{hovertext}</b><br><br>Country Name=%{text}<br>Year=1975<br>Neerslag (mm/jaar)=%{x}<br>Uitstoot per ton geproduceerd (Mt/ton)=%{y}<extra></extra>",
           "hovertext": [
            "Brazil"
           ],
           "legendgroup": "Brazil",
           "marker": {
            "color": "#636efa",
            "symbol": "circle"
           },
           "mode": "markers+text",
           "name": "Brazil",
           "orientation": "v",
           "showlegend": true,
           "text": [
            "Brazil"
           ],
           "type": "scatter",
           "x": {
            "bdata": "AAAAAADYm0A=",
            "dtype": "f8"
           },
           "xaxis": "x",
           "y": {
            "bdata": "1KJGoKW2gT4=",
            "dtype": "f8"
           },
           "yaxis": "y"
          },
          {
           "hovertemplate": "<b>%{hovertext}</b><br><br>Country Name=%{text}<br>Year=1975<br>Neerslag (mm/jaar)=%{x}<br>Uitstoot per ton geproduceerd (Mt/ton)=%{y}<extra></extra>",
           "hovertext": [
            "India"
           ],
           "legendgroup": "India",
           "marker": {
            "color": "#EF553B",
            "symbol": "circle"
           },
           "mode": "markers+text",
           "name": "India",
           "orientation": "v",
           "showlegend": true,
           "text": [
            "India"
           ],
           "type": "scatter",
           "x": {
            "bdata": "AAAAAADskEA=",
            "dtype": "f8"
           },
           "xaxis": "x",
           "y": {
            "bdata": "XznQaFEWlD4=",
            "dtype": "f8"
           },
           "yaxis": "y"
          },
          {
           "hovertemplate": "<b>%{hovertext}</b><br><br>Country Name=%{text}<br>Year=1975<br>Neerslag (mm/jaar)=%{x}<br>Uitstoot per ton geproduceerd (Mt/ton)=%{y}<extra></extra>",
           "hovertext": [
            "Indonesia"
           ],
           "legendgroup": "Indonesia",
           "marker": {
            "color": "#00cc96",
            "symbol": "circle"
           },
           "mode": "markers+text",
           "name": "Indonesia",
           "orientation": "v",
           "showlegend": true,
           "text": [
            "Indonesia"
           ],
           "type": "scatter",
           "x": {
            "bdata": "AAAAAAAcpUA=",
            "dtype": "f8"
           },
           "xaxis": "x",
           "y": {
            "bdata": "Hw5w5dNeVj4=",
            "dtype": "f8"
           },
           "yaxis": "y"
          },
          {
           "hovertemplate": "<b>%{hovertext}</b><br><br>Country Name=%{text}<br>Year=1975<br>Neerslag (mm/jaar)=%{x}<br>Uitstoot per ton geproduceerd (Mt/ton)=%{y}<extra></extra>",
           "hovertext": [
            "Japan"
           ],
           "legendgroup": "Japan",
           "marker": {
            "color": "#ab63fa",
            "symbol": "circle"
           },
           "mode": "markers+text",
           "name": "Japan",
           "orientation": "v",
           "showlegend": true,
           "text": [
            "Japan"
           ],
           "type": "scatter",
           "x": {
            "bdata": "AAAAAAAQmkA=",
            "dtype": "f8"
           },
           "xaxis": "x",
           "y": {
            "bdata": "MYVjLhzQZj4=",
            "dtype": "f8"
           },
           "yaxis": "y"
          },
          {
           "hovertemplate": "<b>%{hovertext}</b><br><br>Country Name=%{text}<br>Year=1975<br>Neerslag (mm/jaar)=%{x}<br>Uitstoot per ton geproduceerd (Mt/ton)=%{y}<extra></extra>",
           "hovertext": [
            "Nigeria"
           ],
           "legendgroup": "Nigeria",
           "marker": {
            "color": "#FFA15A",
            "symbol": "circle"
           },
           "mode": "markers+text",
           "name": "Nigeria",
           "orientation": "v",
           "showlegend": true,
           "text": [
            "Nigeria"
           ],
           "type": "scatter",
           "x": {
            "bdata": "AAAAAAD4kUA=",
            "dtype": "f8"
           },
           "xaxis": "x",
           "y": {
            "bdata": "UnhG0NHJOD4=",
            "dtype": "f8"
           },
           "yaxis": "y"
          },
          {
           "hovertemplate": "<b>%{hovertext}</b><br><br>Country Name=%{text}<br>Year=1975<br>Neerslag (mm/jaar)=%{x}<br>Uitstoot per ton geproduceerd (Mt/ton)=%{y}<extra></extra>",
           "hovertext": [
            "South Africa"
           ],
           "legendgroup": "South Africa",
           "marker": {
            "color": "#19d3f3",
            "symbol": "circle"
           },
           "mode": "markers+text",
           "name": "South Africa",
           "orientation": "v",
           "showlegend": true,
           "text": [
            "South Africa"
           ],
           "type": "scatter",
           "x": {
            "bdata": "AAAAAADwfkA=",
            "dtype": "f8"
           },
           "xaxis": "x",
           "y": {
            "bdata": "Eg5uvHQfkT4=",
            "dtype": "f8"
           },
           "yaxis": "y"
          },
          {
           "hovertemplate": "<b>%{hovertext}</b><br><br>Country Name=%{text}<br>Year=1975<br>Neerslag (mm/jaar)=%{x}<br>Uitstoot per ton geproduceerd (Mt/ton)=%{y}<extra></extra>",
           "hovertext": [
            "United States of America"
           ],
           "legendgroup": "United States of America",
           "marker": {
            "color": "#FF6692",
            "symbol": "circle"
           },
           "mode": "markers+text",
           "name": "United States of America",
           "orientation": "v",
           "showlegend": true,
           "text": [
            "United States of America"
           ],
           "type": "scatter",
           "x": {
            "bdata": "AAAAAABYhkA=",
            "dtype": "f8"
           },
           "xaxis": "x",
           "y": {
            "bdata": "1THe8AkgoD4=",
            "dtype": "f8"
           },
           "yaxis": "y"
          }
         ],
         "name": "1975"
        },
        {
         "data": [
          {
           "hovertemplate": "<b>%{hovertext}</b><br><br>Country Name=%{text}<br>Year=1976<br>Neerslag (mm/jaar)=%{x}<br>Uitstoot per ton geproduceerd (Mt/ton)=%{y}<extra></extra>",
           "hovertext": [
            "Brazil"
           ],
           "legendgroup": "Brazil",
           "marker": {
            "color": "#636efa",
            "symbol": "circle"
           },
           "mode": "markers+text",
           "name": "Brazil",
           "orientation": "v",
           "showlegend": true,
           "text": [
            "Brazil"
           ],
           "type": "scatter",
           "x": {
            "bdata": "AAAAAADYm0A=",
            "dtype": "f8"
           },
           "xaxis": "x",
           "y": {
            "bdata": "sUpZAVyDgj4=",
            "dtype": "f8"
           },
           "yaxis": "y"
          },
          {
           "hovertemplate": "<b>%{hovertext}</b><br><br>Country Name=%{text}<br>Year=1976<br>Neerslag (mm/jaar)=%{x}<br>Uitstoot per ton geproduceerd (Mt/ton)=%{y}<extra></extra>",
           "hovertext": [
            "India"
           ],
           "legendgroup": "India",
           "marker": {
            "color": "#EF553B",
            "symbol": "circle"
           },
           "mode": "markers+text",
           "name": "India",
           "orientation": "v",
           "showlegend": true,
           "text": [
            "India"
           ],
           "type": "scatter",
           "x": {
            "bdata": "AAAAAADskEA=",
            "dtype": "f8"
           },
           "xaxis": "x",
           "y": {
            "bdata": "VVvcYKcTlj4=",
            "dtype": "f8"
           },
           "yaxis": "y"
          },
          {
           "hovertemplate": "<b>%{hovertext}</b><br><br>Country Name=%{text}<br>Year=1976<br>Neerslag (mm/jaar)=%{x}<br>Uitstoot per ton geproduceerd (Mt/ton)=%{y}<extra></extra>",
           "hovertext": [
            "Indonesia"
           ],
           "legendgroup": "Indonesia",
           "marker": {
            "color": "#00cc96",
            "symbol": "circle"
           },
           "mode": "markers+text",
           "name": "Indonesia",
           "orientation": "v",
           "showlegend": true,
           "text": [
            "Indonesia"
           ],
           "type": "scatter",
           "x": {
            "bdata": "AAAAAAAcpUA=",
            "dtype": "f8"
           },
           "xaxis": "x",
           "y": {
            "bdata": "BTvD1h6mWD4=",
            "dtype": "f8"
           },
           "yaxis": "y"
          },
          {
           "hovertemplate": "<b>%{hovertext}</b><br><br>Country Name=%{text}<br>Year=1976<br>Neerslag (mm/jaar)=%{x}<br>Uitstoot per ton geproduceerd (Mt/ton)=%{y}<extra></extra>",
           "hovertext": [
            "Japan"
           ],
           "legendgroup": "Japan",
           "marker": {
            "color": "#ab63fa",
            "symbol": "circle"
           },
           "mode": "markers+text",
           "name": "Japan",
           "orientation": "v",
           "showlegend": true,
           "text": [
            "Japan"
           ],
           "type": "scatter",
           "x": {
            "bdata": "AAAAAAAQmkA=",
            "dtype": "f8"
           },
           "xaxis": "x",
           "y": {
            "bdata": "rwHmfHyHZj4=",
            "dtype": "f8"
           },
           "yaxis": "y"
          },
          {
           "hovertemplate": "<b>%{hovertext}</b><br><br>Country Name=%{text}<br>Year=1976<br>Neerslag (mm/jaar)=%{x}<br>Uitstoot per ton geproduceerd (Mt/ton)=%{y}<extra></extra>",
           "hovertext": [
            "Nigeria"
           ],
           "legendgroup": "Nigeria",
           "marker": {
            "color": "#FFA15A",
            "symbol": "circle"
           },
           "mode": "markers+text",
           "name": "Nigeria",
           "orientation": "v",
           "showlegend": true,
           "text": [
            "Nigeria"
           ],
           "type": "scatter",
           "x": {
            "bdata": "AAAAAAD4kUA=",
            "dtype": "f8"
           },
           "xaxis": "x",
           "y": {
            "bdata": "o8N/zsubPT4=",
            "dtype": "f8"
           },
           "yaxis": "y"
          },
          {
           "hovertemplate": "<b>%{hovertext}</b><br><br>Country Name=%{text}<br>Year=1976<br>Neerslag (mm/jaar)=%{x}<br>Uitstoot per ton geproduceerd (Mt/ton)=%{y}<extra></extra>",
           "hovertext": [
            "South Africa"
           ],
           "legendgroup": "South Africa",
           "marker": {
            "color": "#19d3f3",
            "symbol": "circle"
           },
           "mode": "markers+text",
           "name": "South Africa",
           "orientation": "v",
           "showlegend": true,
           "text": [
            "South Africa"
           ],
           "type": "scatter",
           "x": {
            "bdata": "AAAAAADwfkA=",
            "dtype": "f8"
           },
           "xaxis": "x",
           "y": {
            "bdata": "TqvZkGagkD4=",
            "dtype": "f8"
           },
           "yaxis": "y"
          },
          {
           "hovertemplate": "<b>%{hovertext}</b><br><br>Country Name=%{text}<br>Year=1976<br>Neerslag (mm/jaar)=%{x}<br>Uitstoot per ton geproduceerd (Mt/ton)=%{y}<extra></extra>",
           "hovertext": [
            "United States of America"
           ],
           "legendgroup": "United States of America",
           "marker": {
            "color": "#FF6692",
            "symbol": "circle"
           },
           "mode": "markers+text",
           "name": "United States of America",
           "orientation": "v",
           "showlegend": true,
           "text": [
            "United States of America"
           ],
           "type": "scatter",
           "x": {
            "bdata": "AAAAAABYhkA=",
            "dtype": "f8"
           },
           "xaxis": "x",
           "y": {
            "bdata": "Ei37L1KsoD4=",
            "dtype": "f8"
           },
           "yaxis": "y"
          }
         ],
         "name": "1976"
        },
        {
         "data": [
          {
           "hovertemplate": "<b>%{hovertext}</b><br><br>Country Name=%{text}<br>Year=1977<br>Neerslag (mm/jaar)=%{x}<br>Uitstoot per ton geproduceerd (Mt/ton)=%{y}<extra></extra>",
           "hovertext": [
            "Brazil"
           ],
           "legendgroup": "Brazil",
           "marker": {
            "color": "#636efa",
            "symbol": "circle"
           },
           "mode": "markers+text",
           "name": "Brazil",
           "orientation": "v",
           "showlegend": true,
           "text": [
            "Brazil"
           ],
           "type": "scatter",
           "x": {
            "bdata": "AAAAAACEm0A=",
            "dtype": "f8"
           },
           "xaxis": "x",
           "y": {
            "bdata": "qTXZ3vQ1fz4=",
            "dtype": "f8"
           },
           "yaxis": "y"
          },
          {
           "hovertemplate": "<b>%{hovertext}</b><br><br>Country Name=%{text}<br>Year=1977<br>Neerslag (mm/jaar)=%{x}<br>Uitstoot per ton geproduceerd (Mt/ton)=%{y}<extra></extra>",
           "hovertext": [
            "India"
           ],
           "legendgroup": "India",
           "marker": {
            "color": "#EF553B",
            "symbol": "circle"
           },
           "mode": "markers+text",
           "name": "India",
           "orientation": "v",
           "showlegend": true,
           "text": [
            "India"
           ],
           "type": "scatter",
           "x": {
            "bdata": "AAAAAADskEA=",
            "dtype": "f8"
           },
           "xaxis": "x",
           "y": {
            "bdata": "a5sKqLY5lT4=",
            "dtype": "f8"
           },
           "yaxis": "y"
          },
          {
           "hovertemplate": "<b>%{hovertext}</b><br><br>Country Name=%{text}<br>Year=1977<br>Neerslag (mm/jaar)=%{x}<br>Uitstoot per ton geproduceerd (Mt/ton)=%{y}<extra></extra>",
           "hovertext": [
            "Indonesia"
           ],
           "legendgroup": "Indonesia",
           "marker": {
            "color": "#00cc96",
            "symbol": "circle"
           },
           "mode": "markers+text",
           "name": "Indonesia",
           "orientation": "v",
           "showlegend": true,
           "text": [
            "Indonesia"
           ],
           "type": "scatter",
           "x": {
            "bdata": "AAAAAAAcpUA=",
            "dtype": "f8"
           },
           "xaxis": "x",
           "y": {
            "bdata": "v8xkJpb+WD4=",
            "dtype": "f8"
           },
           "yaxis": "y"
          },
          {
           "hovertemplate": "<b>%{hovertext}</b><br><br>Country Name=%{text}<br>Year=1977<br>Neerslag (mm/jaar)=%{x}<br>Uitstoot per ton geproduceerd (Mt/ton)=%{y}<extra></extra>",
           "hovertext": [
            "Japan"
           ],
           "legendgroup": "Japan",
           "marker": {
            "color": "#ab63fa",
            "symbol": "circle"
           },
           "mode": "markers+text",
           "name": "Japan",
           "orientation": "v",
           "showlegend": true,
           "text": [
            "Japan"
           ],
           "type": "scatter",
           "x": {
            "bdata": "AAAAAAAQmkA=",
            "dtype": "f8"
           },
           "xaxis": "x",
           "y": {
            "bdata": "nS9gqUEHZT4=",
            "dtype": "f8"
           },
           "yaxis": "y"
          },
          {
           "hovertemplate": "<b>%{hovertext}</b><br><br>Country Name=%{text}<br>Year=1977<br>Neerslag (mm/jaar)=%{x}<br>Uitstoot per ton geproduceerd (Mt/ton)=%{y}<extra></extra>",
           "hovertext": [
            "Nigeria"
           ],
           "legendgroup": "Nigeria",
           "marker": {
            "color": "#FFA15A",
            "symbol": "circle"
           },
           "mode": "markers+text",
           "name": "Nigeria",
           "orientation": "v",
           "showlegend": true,
           "text": [
            "Nigeria"
           ],
           "type": "scatter",
           "x": {
            "bdata": "AAAAAAD4kUA=",
            "dtype": "f8"
           },
           "xaxis": "x",
           "y": {
            "bdata": "jXZ79H4wPz4=",
            "dtype": "f8"
           },
           "yaxis": "y"
          },
          {
           "hovertemplate": "<b>%{hovertext}</b><br><br>Country Name=%{text}<br>Year=1977<br>Neerslag (mm/jaar)=%{x}<br>Uitstoot per ton geproduceerd (Mt/ton)=%{y}<extra></extra>",
           "hovertext": [
            "South Africa"
           ],
           "legendgroup": "South Africa",
           "marker": {
            "color": "#19d3f3",
            "symbol": "circle"
           },
           "mode": "markers+text",
           "name": "South Africa",
           "orientation": "v",
           "showlegend": true,
           "text": [
            "South Africa"
           ],
           "type": "scatter",
           "x": {
            "bdata": "AAAAAADwfkA=",
            "dtype": "f8"
           },
           "xaxis": "x",
           "y": {
            "bdata": "ABy4Gk7Ejz4=",
            "dtype": "f8"
           },
           "yaxis": "y"
          },
          {
           "hovertemplate": "<b>%{hovertext}</b><br><br>Country Name=%{text}<br>Year=1977<br>Neerslag (mm/jaar)=%{x}<br>Uitstoot per ton geproduceerd (Mt/ton)=%{y}<extra></extra>",
           "hovertext": [
            "United States of America"
           ],
           "legendgroup": "United States of America",
           "marker": {
            "color": "#FF6692",
            "symbol": "circle"
           },
           "mode": "markers+text",
           "name": "United States of America",
           "orientation": "v",
           "showlegend": true,
           "text": [
            "United States of America"
           ],
           "type": "scatter",
           "x": {
            "bdata": "AAAAAABYhkA=",
            "dtype": "f8"
           },
           "xaxis": "x",
           "y": {
            "bdata": "9IzqAQh2nz4=",
            "dtype": "f8"
           },
           "yaxis": "y"
          }
         ],
         "name": "1977"
        },
        {
         "data": [
          {
           "hovertemplate": "<b>%{hovertext}</b><br><br>Country Name=%{text}<br>Year=1978<br>Neerslag (mm/jaar)=%{x}<br>Uitstoot per ton geproduceerd (Mt/ton)=%{y}<extra></extra>",
           "hovertext": [
            "Brazil"
           ],
           "legendgroup": "Brazil",
           "marker": {
            "color": "#636efa",
            "symbol": "circle"
           },
           "mode": "markers+text",
           "name": "Brazil",
           "orientation": "v",
           "showlegend": true,
           "text": [
            "Brazil"
           ],
           "type": "scatter",
           "x": {
            "bdata": "AAAAAADYm0A=",
            "dtype": "f8"
           },
           "xaxis": "x",
           "y": {
            "bdata": "wC6Zrf31fD4=",
            "dtype": "f8"
           },
           "yaxis": "y"
          },
          {
           "hovertemplate": "<b>%{hovertext}</b><br><br>Country Name=%{text}<br>Year=1978<br>Neerslag (mm/jaar)=%{x}<br>Uitstoot per ton geproduceerd (Mt/ton)=%{y}<extra></extra>",
           "hovertext": [
            "India"
           ],
           "legendgroup": "India",
           "marker": {
            "color": "#EF553B",
            "symbol": "circle"
           },
           "mode": "markers+text",
           "name": "India",
           "orientation": "v",
           "showlegend": true,
           "text": [
            "India"
           ],
           "type": "scatter",
           "x": {
            "bdata": "AAAAAADskEA=",
            "dtype": "f8"
           },
           "xaxis": "x",
           "y": {
            "bdata": "w6/KbM3Ykz4=",
            "dtype": "f8"
           },
           "yaxis": "y"
          },
          {
           "hovertemplate": "<b>%{hovertext}</b><br><br>Country Name=%{text}<br>Year=1978<br>Neerslag (mm/jaar)=%{x}<br>Uitstoot per ton geproduceerd (Mt/ton)=%{y}<extra></extra>",
           "hovertext": [
            "Indonesia"
           ],
           "legendgroup": "Indonesia",
           "marker": {
            "color": "#00cc96",
            "symbol": "circle"
           },
           "mode": "markers+text",
           "name": "Indonesia",
           "orientation": "v",
           "showlegend": true,
           "text": [
            "Indonesia"
           ],
           "type": "scatter",
           "x": {
            "bdata": "AAAAAAAcpUA=",
            "dtype": "f8"
           },
           "xaxis": "x",
           "y": {
            "bdata": "fSsdpbFCWT4=",
            "dtype": "f8"
           },
           "yaxis": "y"
          },
          {
           "hovertemplate": "<b>%{hovertext}</b><br><br>Country Name=%{text}<br>Year=1978<br>Neerslag (mm/jaar)=%{x}<br>Uitstoot per ton geproduceerd (Mt/ton)=%{y}<extra></extra>",
           "hovertext": [
            "Japan"
           ],
           "legendgroup": "Japan",
           "marker": {
            "color": "#ab63fa",
            "symbol": "circle"
           },
           "mode": "markers+text",
           "name": "Japan",
           "orientation": "v",
           "showlegend": true,
           "text": [
            "Japan"
           ],
           "type": "scatter",
           "x": {
            "bdata": "AAAAAAAQmkA=",
            "dtype": "f8"
           },
           "xaxis": "x",
           "y": {
            "bdata": "crIUF7qmZz4=",
            "dtype": "f8"
           },
           "yaxis": "y"
          },
          {
           "hovertemplate": "<b>%{hovertext}</b><br><br>Country Name=%{text}<br>Year=1978<br>Neerslag (mm/jaar)=%{x}<br>Uitstoot per ton geproduceerd (Mt/ton)=%{y}<extra></extra>",
           "hovertext": [
            "Nigeria"
           ],
           "legendgroup": "Nigeria",
           "marker": {
            "color": "#FFA15A",
            "symbol": "circle"
           },
           "mode": "markers+text",
           "name": "Nigeria",
           "orientation": "v",
           "showlegend": true,
           "text": [
            "Nigeria"
           ],
           "type": "scatter",
           "x": {
            "bdata": "AAAAAAD4kUA=",
            "dtype": "f8"
           },
           "xaxis": "x",
           "y": {
            "bdata": "dJUNNHeVQT4=",
            "dtype": "f8"
           },
           "yaxis": "y"
          },
          {
           "hovertemplate": "<b>%{hovertext}</b><br><br>Country Name=%{text}<br>Year=1978<br>Neerslag (mm/jaar)=%{x}<br>Uitstoot per ton geproduceerd (Mt/ton)=%{y}<extra></extra>",
           "hovertext": [
            "South Africa"
           ],
           "legendgroup": "South Africa",
           "marker": {
            "color": "#19d3f3",
            "symbol": "circle"
           },
           "mode": "markers+text",
           "name": "South Africa",
           "orientation": "v",
           "showlegend": true,
           "text": [
            "South Africa"
           ],
           "type": "scatter",
           "x": {
            "bdata": "AAAAAADwfkA=",
            "dtype": "f8"
           },
           "xaxis": "x",
           "y": {
            "bdata": "13BuIXOojz4=",
            "dtype": "f8"
           },
           "yaxis": "y"
          },
          {
           "hovertemplate": "<b>%{hovertext}</b><br><br>Country Name=%{text}<br>Year=1978<br>Neerslag (mm/jaar)=%{x}<br>Uitstoot per ton geproduceerd (Mt/ton)=%{y}<extra></extra>",
           "hovertext": [
            "United States of America"
           ],
           "legendgroup": "United States of America",
           "marker": {
            "color": "#FF6692",
            "symbol": "circle"
           },
           "mode": "markers+text",
           "name": "United States of America",
           "orientation": "v",
           "showlegend": true,
           "text": [
            "United States of America"
           ],
           "type": "scatter",
           "x": {
            "bdata": "AAAAAABYhkA=",
            "dtype": "f8"
           },
           "xaxis": "x",
           "y": {
            "bdata": "ko114Xl8nD4=",
            "dtype": "f8"
           },
           "yaxis": "y"
          }
         ],
         "name": "1978"
        },
        {
         "data": [
          {
           "hovertemplate": "<b>%{hovertext}</b><br><br>Country Name=%{text}<br>Year=1979<br>Neerslag (mm/jaar)=%{x}<br>Uitstoot per ton geproduceerd (Mt/ton)=%{y}<extra></extra>",
           "hovertext": [
            "Brazil"
           ],
           "legendgroup": "Brazil",
           "marker": {
            "color": "#636efa",
            "symbol": "circle"
           },
           "mode": "markers+text",
           "name": "Brazil",
           "orientation": "v",
           "showlegend": true,
           "text": [
            "Brazil"
           ],
           "type": "scatter",
           "x": {
            "bdata": "AAAAAADYm0A=",
            "dtype": "f8"
           },
           "xaxis": "x",
           "y": {
            "bdata": "9dP6axEAgD4=",
            "dtype": "f8"
           },
           "yaxis": "y"
          },
          {
           "hovertemplate": "<b>%{hovertext}</b><br><br>Country Name=%{text}<br>Year=1979<br>Neerslag (mm/jaar)=%{x}<br>Uitstoot per ton geproduceerd (Mt/ton)=%{y}<extra></extra>",
           "hovertext": [
            "India"
           ],
           "legendgroup": "India",
           "marker": {
            "color": "#EF553B",
            "symbol": "circle"
           },
           "mode": "markers+text",
           "name": "India",
           "orientation": "v",
           "showlegend": true,
           "text": [
            "India"
           ],
           "type": "scatter",
           "x": {
            "bdata": "AAAAAADskEA=",
            "dtype": "f8"
           },
           "xaxis": "x",
           "y": {
            "bdata": "q0lt5zvwlj4=",
            "dtype": "f8"
           },
           "yaxis": "y"
          },
          {
           "hovertemplate": "<b>%{hovertext}</b><br><br>Country Name=%{text}<br>Year=1979<br>Neerslag (mm/jaar)=%{x}<br>Uitstoot per ton geproduceerd (Mt/ton)=%{y}<extra></extra>",
           "hovertext": [
            "Indonesia"
           ],
           "legendgroup": "Indonesia",
           "marker": {
            "color": "#00cc96",
            "symbol": "circle"
           },
           "mode": "markers+text",
           "name": "Indonesia",
           "orientation": "v",
           "showlegend": true,
           "text": [
            "Indonesia"
           ],
           "type": "scatter",
           "x": {
            "bdata": "AAAAAAAcpUA=",
            "dtype": "f8"
           },
           "xaxis": "x",
           "y": {
            "bdata": "dzWxaXTAXD4=",
            "dtype": "f8"
           },
           "yaxis": "y"
          },
          {
           "hovertemplate": "<b>%{hovertext}</b><br><br>Country Name=%{text}<br>Year=1979<br>Neerslag (mm/jaar)=%{x}<br>Uitstoot per ton geproduceerd (Mt/ton)=%{y}<extra></extra>",
           "hovertext": [
            "Japan"
           ],
           "legendgroup": "Japan",
           "marker": {
            "color": "#ab63fa",
            "symbol": "circle"
           },
           "mode": "markers+text",
           "name": "Japan",
           "orientation": "v",
           "showlegend": true,
           "text": [
            "Japan"
           ],
           "type": "scatter",
           "x": {
            "bdata": "AAAAAAAQmkA=",
            "dtype": "f8"
           },
           "xaxis": "x",
           "y": {
            "bdata": "t1/ShjPkaz4=",
            "dtype": "f8"
           },
           "yaxis": "y"
          },
          {
           "hovertemplate": "<b>%{hovertext}</b><br><br>Country Name=%{text}<br>Year=1979<br>Neerslag (mm/jaar)=%{x}<br>Uitstoot per ton geproduceerd (Mt/ton)=%{y}<extra></extra>",
           "hovertext": [
            "Nigeria"
           ],
           "legendgroup": "Nigeria",
           "marker": {
            "color": "#FFA15A",
            "symbol": "circle"
           },
           "mode": "markers+text",
           "name": "Nigeria",
           "orientation": "v",
           "showlegend": true,
           "text": [
            "Nigeria"
           ],
           "type": "scatter",
           "x": {
            "bdata": "AAAAAAD4kUA=",
            "dtype": "f8"
           },
           "xaxis": "x",
           "y": {
            "bdata": "A70pD/CNQj4=",
            "dtype": "f8"
           },
           "yaxis": "y"
          },
          {
           "hovertemplate": "<b>%{hovertext}</b><br><br>Country Name=%{text}<br>Year=1979<br>Neerslag (mm/jaar)=%{x}<br>Uitstoot per ton geproduceerd (Mt/ton)=%{y}<extra></extra>",
           "hovertext": [
            "South Africa"
           ],
           "legendgroup": "South Africa",
           "marker": {
            "color": "#19d3f3",
            "symbol": "circle"
           },
           "mode": "markers+text",
           "name": "South Africa",
           "orientation": "v",
           "showlegend": true,
           "text": [
            "South Africa"
           ],
           "type": "scatter",
           "x": {
            "bdata": "AAAAAADwfkA=",
            "dtype": "f8"
           },
           "xaxis": "x",
           "y": {
            "bdata": "hZKCHcCxkD4=",
            "dtype": "f8"
           },
           "yaxis": "y"
          },
          {
           "hovertemplate": "<b>%{hovertext}</b><br><br>Country Name=%{text}<br>Year=1979<br>Neerslag (mm/jaar)=%{x}<br>Uitstoot per ton geproduceerd (Mt/ton)=%{y}<extra></extra>",
           "hovertext": [
            "United States of America"
           ],
           "legendgroup": "United States of America",
           "marker": {
            "color": "#FF6692",
            "symbol": "circle"
           },
           "mode": "markers+text",
           "name": "United States of America",
           "orientation": "v",
           "showlegend": true,
           "text": [
            "United States of America"
           ],
           "type": "scatter",
           "x": {
            "bdata": "AAAAAABYhkA=",
            "dtype": "f8"
           },
           "xaxis": "x",
           "y": {
            "bdata": "LipCtqrTnj4=",
            "dtype": "f8"
           },
           "yaxis": "y"
          }
         ],
         "name": "1979"
        },
        {
         "data": [
          {
           "hovertemplate": "<b>%{hovertext}</b><br><br>Country Name=%{text}<br>Year=1980<br>Neerslag (mm/jaar)=%{x}<br>Uitstoot per ton geproduceerd (Mt/ton)=%{y}<extra></extra>",
           "hovertext": [
            "Brazil"
           ],
           "legendgroup": "Brazil",
           "marker": {
            "color": "#636efa",
            "symbol": "circle"
           },
           "mode": "markers+text",
           "name": "Brazil",
           "orientation": "v",
           "showlegend": true,
           "text": [
            "Brazil"
           ],
           "type": "scatter",
           "x": {
            "bdata": "AAAAAADYm0A=",
            "dtype": "f8"
           },
           "xaxis": "x",
           "y": {
            "bdata": "BhF4VSKWez4=",
            "dtype": "f8"
           },
           "yaxis": "y"
          },
          {
           "hovertemplate": "<b>%{hovertext}</b><br><br>Country Name=%{text}<br>Year=1980<br>Neerslag (mm/jaar)=%{x}<br>Uitstoot per ton geproduceerd (Mt/ton)=%{y}<extra></extra>",
           "hovertext": [
            "India"
           ],
           "legendgroup": "India",
           "marker": {
            "color": "#EF553B",
            "symbol": "circle"
           },
           "mode": "markers+text",
           "name": "India",
           "orientation": "v",
           "showlegend": true,
           "text": [
            "India"
           ],
           "type": "scatter",
           "x": {
            "bdata": "AAAAAADskEA=",
            "dtype": "f8"
           },
           "xaxis": "x",
           "y": {
            "bdata": "V9nhExR2mD4=",
            "dtype": "f8"
           },
           "yaxis": "y"
          },
          {
           "hovertemplate": "<b>%{hovertext}</b><br><br>Country Name=%{text}<br>Year=1980<br>Neerslag (mm/jaar)=%{x}<br>Uitstoot per ton geproduceerd (Mt/ton)=%{y}<extra></extra>",
           "hovertext": [
            "Indonesia"
           ],
           "legendgroup": "Indonesia",
           "marker": {
            "color": "#00cc96",
            "symbol": "circle"
           },
           "mode": "markers+text",
           "name": "Indonesia",
           "orientation": "v",
           "showlegend": true,
           "text": [
            "Indonesia"
           ],
           "type": "scatter",
           "x": {
            "bdata": "AAAAAAAcpUA=",
            "dtype": "f8"
           },
           "xaxis": "x",
           "y": {
            "bdata": "lKt7kyEwYD4=",
            "dtype": "f8"
           },
           "yaxis": "y"
          },
          {
           "hovertemplate": "<b>%{hovertext}</b><br><br>Country Name=%{text}<br>Year=1980<br>Neerslag (mm/jaar)=%{x}<br>Uitstoot per ton geproduceerd (Mt/ton)=%{y}<extra></extra>",
           "hovertext": [
            "Japan"
           ],
           "legendgroup": "Japan",
           "marker": {
            "color": "#ab63fa",
            "symbol": "circle"
           },
           "mode": "markers+text",
           "name": "Japan",
           "orientation": "v",
           "showlegend": true,
           "text": [
            "Japan"
           ],
           "type": "scatter",
           "x": {
            "bdata": "AAAAAAAQmkA=",
            "dtype": "f8"
           },
           "xaxis": "x",
           "y": {
            "bdata": "176+/OZobz4=",
            "dtype": "f8"
           },
           "yaxis": "y"
          },
          {
           "hovertemplate": "<b>%{hovertext}</b><br><br>Country Name=%{text}<br>Year=1980<br>Neerslag (mm/jaar)=%{x}<br>Uitstoot per ton geproduceerd (Mt/ton)=%{y}<extra></extra>",
           "hovertext": [
            "Nigeria"
           ],
           "legendgroup": "Nigeria",
           "marker": {
            "color": "#FFA15A",
            "symbol": "circle"
           },
           "mode": "markers+text",
           "name": "Nigeria",
           "orientation": "v",
           "showlegend": true,
           "text": [
            "Nigeria"
           ],
           "type": "scatter",
           "x": {
            "bdata": "AAAAAAD4kUA=",
            "dtype": "f8"
           },
           "xaxis": "x",
           "y": {
            "bdata": "ouVKrRj/QT4=",
            "dtype": "f8"
           },
           "yaxis": "y"
          },
          {
           "hovertemplate": "<b>%{hovertext}</b><br><br>Country Name=%{text}<br>Year=1980<br>Neerslag (mm/jaar)=%{x}<br>Uitstoot per ton geproduceerd (Mt/ton)=%{y}<extra></extra>",
           "hovertext": [
            "South Africa"
           ],
           "legendgroup": "South Africa",
           "marker": {
            "color": "#19d3f3",
            "symbol": "circle"
           },
           "mode": "markers+text",
           "name": "South Africa",
           "orientation": "v",
           "showlegend": true,
           "text": [
            "South Africa"
           ],
           "type": "scatter",
           "x": {
            "bdata": "AAAAAADwfkA=",
            "dtype": "f8"
           },
           "xaxis": "x",
           "y": {
            "bdata": "cVNDMx46kT4=",
            "dtype": "f8"
           },
           "yaxis": "y"
          },
          {
           "hovertemplate": "<b>%{hovertext}</b><br><br>Country Name=%{text}<br>Year=1980<br>Neerslag (mm/jaar)=%{x}<br>Uitstoot per ton geproduceerd (Mt/ton)=%{y}<extra></extra>",
           "hovertext": [
            "United States of America"
           ],
           "legendgroup": "United States of America",
           "marker": {
            "color": "#FF6692",
            "symbol": "circle"
           },
           "mode": "markers+text",
           "name": "United States of America",
           "orientation": "v",
           "showlegend": true,
           "text": [
            "United States of America"
           ],
           "type": "scatter",
           "x": {
            "bdata": "AAAAAABYhkA=",
            "dtype": "f8"
           },
           "xaxis": "x",
           "y": {
            "bdata": "ImDdpMVVoT4=",
            "dtype": "f8"
           },
           "yaxis": "y"
          }
         ],
         "name": "1980"
        },
        {
         "data": [
          {
           "hovertemplate": "<b>%{hovertext}</b><br><br>Country Name=%{text}<br>Year=1981<br>Neerslag (mm/jaar)=%{x}<br>Uitstoot per ton geproduceerd (Mt/ton)=%{y}<extra></extra>",
           "hovertext": [
            "Brazil"
           ],
           "legendgroup": "Brazil",
           "marker": {
            "color": "#636efa",
            "symbol": "circle"
           },
           "mode": "markers+text",
           "name": "Brazil",
           "orientation": "v",
           "showlegend": true,
           "text": [
            "Brazil"
           ],
           "type": "scatter",
           "x": {
            "bdata": "AAAAAADYm0A=",
            "dtype": "f8"
           },
           "xaxis": "x",
           "y": {
            "bdata": "zgPE2/D0dj4=",
            "dtype": "f8"
           },
           "yaxis": "y"
          },
          {
           "hovertemplate": "<b>%{hovertext}</b><br><br>Country Name=%{text}<br>Year=1981<br>Neerslag (mm/jaar)=%{x}<br>Uitstoot per ton geproduceerd (Mt/ton)=%{y}<extra></extra>",
           "hovertext": [
            "India"
           ],
           "legendgroup": "India",
           "marker": {
            "color": "#EF553B",
            "symbol": "circle"
           },
           "mode": "markers+text",
           "name": "India",
           "orientation": "v",
           "showlegend": true,
           "text": [
            "India"
           ],
           "type": "scatter",
           "x": {
            "bdata": "AAAAAADskEA=",
            "dtype": "f8"
           },
           "xaxis": "x",
           "y": {
            "bdata": "gNF5edSXlT4=",
            "dtype": "f8"
           },
           "yaxis": "y"
          },
          {
           "hovertemplate": "<b>%{hovertext}</b><br><br>Country Name=%{text}<br>Year=1981<br>Neerslag (mm/jaar)=%{x}<br>Uitstoot per ton geproduceerd (Mt/ton)=%{y}<extra></extra>",
           "hovertext": [
            "Indonesia"
           ],
           "legendgroup": "Indonesia",
           "marker": {
            "color": "#00cc96",
            "symbol": "circle"
           },
           "mode": "markers+text",
           "name": "Indonesia",
           "orientation": "v",
           "showlegend": true,
           "text": [
            "Indonesia"
           ],
           "type": "scatter",
           "x": {
            "bdata": "AAAAAAAcpUA=",
            "dtype": "f8"
           },
           "xaxis": "x",
           "y": {
            "bdata": "0BfQHiAAWz4=",
            "dtype": "f8"
           },
           "yaxis": "y"
          },
          {
           "hovertemplate": "<b>%{hovertext}</b><br><br>Country Name=%{text}<br>Year=1981<br>Neerslag (mm/jaar)=%{x}<br>Uitstoot per ton geproduceerd (Mt/ton)=%{y}<extra></extra>",
           "hovertext": [
            "Japan"
           ],
           "legendgroup": "Japan",
           "marker": {
            "color": "#ab63fa",
            "symbol": "circle"
           },
           "mode": "markers+text",
           "name": "Japan",
           "orientation": "v",
           "showlegend": true,
           "text": [
            "Japan"
           ],
           "type": "scatter",
           "x": {
            "bdata": "AAAAAAAQmkA=",
            "dtype": "f8"
           },
           "xaxis": "x",
           "y": {
            "bdata": "loJffOkscT4=",
            "dtype": "f8"
           },
           "yaxis": "y"
          },
          {
           "hovertemplate": "<b>%{hovertext}</b><br><br>Country Name=%{text}<br>Year=1981<br>Neerslag (mm/jaar)=%{x}<br>Uitstoot per ton geproduceerd (Mt/ton)=%{y}<extra></extra>",
           "hovertext": [
            "Nigeria"
           ],
           "legendgroup": "Nigeria",
           "marker": {
            "color": "#FFA15A",
            "symbol": "circle"
           },
           "mode": "markers+text",
           "name": "Nigeria",
           "orientation": "v",
           "showlegend": true,
           "text": [
            "Nigeria"
           ],
           "type": "scatter",
           "x": {
            "bdata": "AAAAAAD4kUA=",
            "dtype": "f8"
           },
           "xaxis": "x",
           "y": {
            "bdata": "EhYFToWSQj4=",
            "dtype": "f8"
           },
           "yaxis": "y"
          },
          {
           "hovertemplate": "<b>%{hovertext}</b><br><br>Country Name=%{text}<br>Year=1981<br>Neerslag (mm/jaar)=%{x}<br>Uitstoot per ton geproduceerd (Mt/ton)=%{y}<extra></extra>",
           "hovertext": [
            "South Africa"
           ],
           "legendgroup": "South Africa",
           "marker": {
            "color": "#19d3f3",
            "symbol": "circle"
           },
           "mode": "markers+text",
           "name": "South Africa",
           "orientation": "v",
           "showlegend": true,
           "text": [
            "South Africa"
           ],
           "type": "scatter",
           "x": {
            "bdata": "AAAAAADwfkA=",
            "dtype": "f8"
           },
           "xaxis": "x",
           "y": {
            "bdata": "Mvt0oacFjz4=",
            "dtype": "f8"
           },
           "yaxis": "y"
          },
          {
           "hovertemplate": "<b>%{hovertext}</b><br><br>Country Name=%{text}<br>Year=1981<br>Neerslag (mm/jaar)=%{x}<br>Uitstoot per ton geproduceerd (Mt/ton)=%{y}<extra></extra>",
           "hovertext": [
            "United States of America"
           ],
           "legendgroup": "United States of America",
           "marker": {
            "color": "#FF6692",
            "symbol": "circle"
           },
           "mode": "markers+text",
           "name": "United States of America",
           "orientation": "v",
           "showlegend": true,
           "text": [
            "United States of America"
           ],
           "type": "scatter",
           "x": {
            "bdata": "AAAAAABYhkA=",
            "dtype": "f8"
           },
           "xaxis": "x",
           "y": {
            "bdata": "KjKsl/N+oT4=",
            "dtype": "f8"
           },
           "yaxis": "y"
          }
         ],
         "name": "1981"
        },
        {
         "data": [
          {
           "hovertemplate": "<b>%{hovertext}</b><br><br>Country Name=%{text}<br>Year=1982<br>Neerslag (mm/jaar)=%{x}<br>Uitstoot per ton geproduceerd (Mt/ton)=%{y}<extra></extra>",
           "hovertext": [
            "Brazil"
           ],
           "legendgroup": "Brazil",
           "marker": {
            "color": "#636efa",
            "symbol": "circle"
           },
           "mode": "markers+text",
           "name": "Brazil",
           "orientation": "v",
           "showlegend": true,
           "text": [
            "Brazil"
           ],
           "type": "scatter",
           "x": {
            "bdata": "AAAAAACEm0A=",
            "dtype": "f8"
           },
           "xaxis": "x",
           "y": {
            "bdata": "Dw1bc5lQdz4=",
            "dtype": "f8"
           },
           "yaxis": "y"
          },
          {
           "hovertemplate": "<b>%{hovertext}</b><br><br>Country Name=%{text}<br>Year=1982<br>Neerslag (mm/jaar)=%{x}<br>Uitstoot per ton geproduceerd (Mt/ton)=%{y}<extra></extra>",
           "hovertext": [
            "India"
           ],
           "legendgroup": "India",
           "marker": {
            "color": "#EF553B",
            "symbol": "circle"
           },
           "mode": "markers+text",
           "name": "India",
           "orientation": "v",
           "showlegend": true,
           "text": [
            "India"
           ],
           "type": "scatter",
           "x": {
            "bdata": "AAAAAADskEA=",
            "dtype": "f8"
           },
           "xaxis": "x",
           "y": {
            "bdata": "KqkIVIW1kz4=",
            "dtype": "f8"
           },
           "yaxis": "y"
          },
          {
           "hovertemplate": "<b>%{hovertext}</b><br><br>Country Name=%{text}<br>Year=1982<br>Neerslag (mm/jaar)=%{x}<br>Uitstoot per ton geproduceerd (Mt/ton)=%{y}<extra></extra>",
           "hovertext": [
            "Indonesia"
           ],
           "legendgroup": "Indonesia",
           "marker": {
            "color": "#00cc96",
            "symbol": "circle"
           },
           "mode": "markers+text",
           "name": "Indonesia",
           "orientation": "v",
           "showlegend": true,
           "text": [
            "Indonesia"
           ],
           "type": "scatter",
           "x": {
            "bdata": "AAAAAAAcpUA=",
            "dtype": "f8"
           },
           "xaxis": "x",
           "y": {
            "bdata": "YM/L/ZgbYj4=",
            "dtype": "f8"
           },
           "yaxis": "y"
          },
          {
           "hovertemplate": "<b>%{hovertext}</b><br><br>Country Name=%{text}<br>Year=1982<br>Neerslag (mm/jaar)=%{x}<br>Uitstoot per ton geproduceerd (Mt/ton)=%{y}<extra></extra>",
           "hovertext": [
            "Japan"
           ],
           "legendgroup": "Japan",
           "marker": {
            "color": "#ab63fa",
            "symbol": "circle"
           },
           "mode": "markers+text",
           "name": "Japan",
           "orientation": "v",
           "showlegend": true,
           "text": [
            "Japan"
           ],
           "type": "scatter",
           "x": {
            "bdata": "AAAAAAAQmkA=",
            "dtype": "f8"
           },
           "xaxis": "x",
           "y": {
            "bdata": "Em3svnQNcT4=",
            "dtype": "f8"
           },
           "yaxis": "y"
          },
          {
           "hovertemplate": "<b>%{hovertext}</b><br><br>Country Name=%{text}<br>Year=1982<br>Neerslag (mm/jaar)=%{x}<br>Uitstoot per ton geproduceerd (Mt/ton)=%{y}<extra></extra>",
           "hovertext": [
            "Nigeria"
           ],
           "legendgroup": "Nigeria",
           "marker": {
            "color": "#FFA15A",
            "symbol": "circle"
           },
           "mode": "markers+text",
           "name": "Nigeria",
           "orientation": "v",
           "showlegend": true,
           "text": [
            "Nigeria"
           ],
           "type": "scatter",
           "x": {
            "bdata": "AAAAAAD4kUA=",
            "dtype": "f8"
           },
           "xaxis": "x",
           "y": {
            "bdata": "R0dbA326QT4=",
            "dtype": "f8"
           },
           "yaxis": "y"
          },
          {
           "hovertemplate": "<b>%{hovertext}</b><br><br>Country Name=%{text}<br>Year=1982<br>Neerslag (mm/jaar)=%{x}<br>Uitstoot per ton geproduceerd (Mt/ton)=%{y}<extra></extra>",
           "hovertext": [
            "South Africa"
           ],
           "legendgroup": "South Africa",
           "marker": {
            "color": "#19d3f3",
            "symbol": "circle"
           },
           "mode": "markers+text",
           "name": "South Africa",
           "orientation": "v",
           "showlegend": true,
           "text": [
            "South Africa"
           ],
           "type": "scatter",
           "x": {
            "bdata": "AAAAAADwfkA=",
            "dtype": "f8"
           },
           "xaxis": "x",
           "y": {
            "bdata": "VSgP6yQDkT4=",
            "dtype": "f8"
           },
           "yaxis": "y"
          },
          {
           "hovertemplate": "<b>%{hovertext}</b><br><br>Country Name=%{text}<br>Year=1982<br>Neerslag (mm/jaar)=%{x}<br>Uitstoot per ton geproduceerd (Mt/ton)=%{y}<extra></extra>",
           "hovertext": [
            "United States of America"
           ],
           "legendgroup": "United States of America",
           "marker": {
            "color": "#FF6692",
            "symbol": "circle"
           },
           "mode": "markers+text",
           "name": "United States of America",
           "orientation": "v",
           "showlegend": true,
           "text": [
            "United States of America"
           ],
           "type": "scatter",
           "x": {
            "bdata": "AAAAAABYhkA=",
            "dtype": "f8"
           },
           "xaxis": "x",
           "y": {
            "bdata": "332XPKYuoT4=",
            "dtype": "f8"
           },
           "yaxis": "y"
          }
         ],
         "name": "1982"
        },
        {
         "data": [
          {
           "hovertemplate": "<b>%{hovertext}</b><br><br>Country Name=%{text}<br>Year=1983<br>Neerslag (mm/jaar)=%{x}<br>Uitstoot per ton geproduceerd (Mt/ton)=%{y}<extra></extra>",
           "hovertext": [
            "Brazil"
           ],
           "legendgroup": "Brazil",
           "marker": {
            "color": "#636efa",
            "symbol": "circle"
           },
           "mode": "markers+text",
           "name": "Brazil",
           "orientation": "v",
           "showlegend": true,
           "text": [
            "Brazil"
           ],
           "type": "scatter",
           "x": {
            "bdata": "AAAAAADYm0A=",
            "dtype": "f8"
           },
           "xaxis": "x",
           "y": {
            "bdata": "1YShJoLecz4=",
            "dtype": "f8"
           },
           "yaxis": "y"
          },
          {
           "hovertemplate": "<b>%{hovertext}</b><br><br>Country Name=%{text}<br>Year=1983<br>Neerslag (mm/jaar)=%{x}<br>Uitstoot per ton geproduceerd (Mt/ton)=%{y}<extra></extra>",
           "hovertext": [
            "India"
           ],
           "legendgroup": "India",
           "marker": {
            "color": "#EF553B",
            "symbol": "circle"
           },
           "mode": "markers+text",
           "name": "India",
           "orientation": "v",
           "showlegend": true,
           "text": [
            "India"
           ],
           "type": "scatter",
           "x": {
            "bdata": "AAAAAADskEA=",
            "dtype": "f8"
           },
           "xaxis": "x",
           "y": {
            "bdata": "PwY2qeoolD4=",
            "dtype": "f8"
           },
           "yaxis": "y"
          },
          {
           "hovertemplate": "<b>%{hovertext}</b><br><br>Country Name=%{text}<br>Year=1983<br>Neerslag (mm/jaar)=%{x}<br>Uitstoot per ton geproduceerd (Mt/ton)=%{y}<extra></extra>",
           "hovertext": [
            "Indonesia"
           ],
           "legendgroup": "Indonesia",
           "marker": {
            "color": "#00cc96",
            "symbol": "circle"
           },
           "mode": "markers+text",
           "name": "Indonesia",
           "orientation": "v",
           "showlegend": true,
           "text": [
            "Indonesia"
           ],
           "type": "scatter",
           "x": {
            "bdata": "AAAAAAAcpUA=",
            "dtype": "f8"
           },
           "xaxis": "x",
           "y": {
            "bdata": "u/4KK5dLYD4=",
            "dtype": "f8"
           },
           "yaxis": "y"
          },
          {
           "hovertemplate": "<b>%{hovertext}</b><br><br>Country Name=%{text}<br>Year=1983<br>Neerslag (mm/jaar)=%{x}<br>Uitstoot per ton geproduceerd (Mt/ton)=%{y}<extra></extra>",
           "hovertext": [
            "Japan"
           ],
           "legendgroup": "Japan",
           "marker": {
            "color": "#ab63fa",
            "symbol": "circle"
           },
           "mode": "markers+text",
           "name": "Japan",
           "orientation": "v",
           "showlegend": true,
           "text": [
            "Japan"
           ],
           "type": "scatter",
           "x": {
            "bdata": "AAAAAAAQmkA=",
            "dtype": "f8"
           },
           "xaxis": "x",
           "y": {
            "bdata": "lvSK2YOMcT4=",
            "dtype": "f8"
           },
           "yaxis": "y"
          },
          {
           "hovertemplate": "<b>%{hovertext}</b><br><br>Country Name=%{text}<br>Year=1983<br>Neerslag (mm/jaar)=%{x}<br>Uitstoot per ton geproduceerd (Mt/ton)=%{y}<extra></extra>",
           "hovertext": [
            "Nigeria"
           ],
           "legendgroup": "Nigeria",
           "marker": {
            "color": "#FFA15A",
            "symbol": "circle"
           },
           "mode": "markers+text",
           "name": "Nigeria",
           "orientation": "v",
           "showlegend": true,
           "text": [
            "Nigeria"
           ],
           "type": "scatter",
           "x": {
            "bdata": "AAAAAAD4kUA=",
            "dtype": "f8"
           },
           "xaxis": "x",
           "y": {
            "bdata": "VtdwmSE8Qj4=",
            "dtype": "f8"
           },
           "yaxis": "y"
          },
          {
           "hovertemplate": "<b>%{hovertext}</b><br><br>Country Name=%{text}<br>Year=1983<br>Neerslag (mm/jaar)=%{x}<br>Uitstoot per ton geproduceerd (Mt/ton)=%{y}<extra></extra>",
           "hovertext": [
            "South Africa"
           ],
           "legendgroup": "South Africa",
           "marker": {
            "color": "#19d3f3",
            "symbol": "circle"
           },
           "mode": "markers+text",
           "name": "South Africa",
           "orientation": "v",
           "showlegend": true,
           "text": [
            "South Africa"
           ],
           "type": "scatter",
           "x": {
            "bdata": "AAAAAADwfkA=",
            "dtype": "f8"
           },
           "xaxis": "x",
           "y": {
            "bdata": "E8ZoGMoGlD4=",
            "dtype": "f8"
           },
           "yaxis": "y"
          },
          {
           "hovertemplate": "<b>%{hovertext}</b><br><br>Country Name=%{text}<br>Year=1983<br>Neerslag (mm/jaar)=%{x}<br>Uitstoot per ton geproduceerd (Mt/ton)=%{y}<extra></extra>",
           "hovertext": [
            "United States of America"
           ],
           "legendgroup": "United States of America",
           "marker": {
            "color": "#FF6692",
            "symbol": "circle"
           },
           "mode": "markers+text",
           "name": "United States of America",
           "orientation": "v",
           "showlegend": true,
           "text": [
            "United States of America"
           ],
           "type": "scatter",
           "x": {
            "bdata": "AAAAAABYhkA=",
            "dtype": "f8"
           },
           "xaxis": "x",
           "y": {
            "bdata": "7nPw7sCHnz4=",
            "dtype": "f8"
           },
           "yaxis": "y"
          }
         ],
         "name": "1983"
        },
        {
         "data": [
          {
           "hovertemplate": "<b>%{hovertext}</b><br><br>Country Name=%{text}<br>Year=1984<br>Neerslag (mm/jaar)=%{x}<br>Uitstoot per ton geproduceerd (Mt/ton)=%{y}<extra></extra>",
           "hovertext": [
            "Brazil"
           ],
           "legendgroup": "Brazil",
           "marker": {
            "color": "#636efa",
            "symbol": "circle"
           },
           "mode": "markers+text",
           "name": "Brazil",
           "orientation": "v",
           "showlegend": true,
           "text": [
            "Brazil"
           ],
           "type": "scatter",
           "x": {
            "bdata": "AAAAAADYm0A=",
            "dtype": "f8"
           },
           "xaxis": "x",
           "y": {
            "bdata": "ioxX8FFXcz4=",
            "dtype": "f8"
           },
           "yaxis": "y"
          },
          {
           "hovertemplate": "<b>%{hovertext}</b><br><br>Country Name=%{text}<br>Year=1984<br>Neerslag (mm/jaar)=%{x}<br>Uitstoot per ton geproduceerd (Mt/ton)=%{y}<extra></extra>",
           "hovertext": [
            "India"
           ],
           "legendgroup": "India",
           "marker": {
            "color": "#EF553B",
            "symbol": "circle"
           },
           "mode": "markers+text",
           "name": "India",
           "orientation": "v",
           "showlegend": true,
           "text": [
            "India"
           ],
           "type": "scatter",
           "x": {
            "bdata": "AAAAAADskEA=",
            "dtype": "f8"
           },
           "xaxis": "x",
           "y": {
            "bdata": "0n2KobbMlT4=",
            "dtype": "f8"
           },
           "yaxis": "y"
          },
          {
           "hovertemplate": "<b>%{hovertext}</b><br><br>Country Name=%{text}<br>Year=1984<br>Neerslag (mm/jaar)=%{x}<br>Uitstoot per ton geproduceerd (Mt/ton)=%{y}<extra></extra>",
           "hovertext": [
            "Indonesia"
           ],
           "legendgroup": "Indonesia",
           "marker": {
            "color": "#00cc96",
            "symbol": "circle"
           },
           "mode": "markers+text",
           "name": "Indonesia",
           "orientation": "v",
           "showlegend": true,
           "text": [
            "Indonesia"
           ],
           "type": "scatter",
           "x": {
            "bdata": "AAAAAAAcpUA=",
            "dtype": "f8"
           },
           "xaxis": "x",
           "y": {
            "bdata": "IY725Ta8Xj4=",
            "dtype": "f8"
           },
           "yaxis": "y"
          },
          {
           "hovertemplate": "<b>%{hovertext}</b><br><br>Country Name=%{text}<br>Year=1984<br>Neerslag (mm/jaar)=%{x}<br>Uitstoot per ton geproduceerd (Mt/ton)=%{y}<extra></extra>",
           "hovertext": [
            "Japan"
           ],
           "legendgroup": "Japan",
           "marker": {
            "color": "#ab63fa",
            "symbol": "circle"
           },
           "mode": "markers+text",
           "name": "Japan",
           "orientation": "v",
           "showlegend": true,
           "text": [
            "Japan"
           ],
           "type": "scatter",
           "x": {
            "bdata": "AAAAAAAQmkA=",
            "dtype": "f8"
           },
           "xaxis": "x",
           "y": {
            "bdata": "ofHb55UycT4=",
            "dtype": "f8"
           },
           "yaxis": "y"
          },
          {
           "hovertemplate": "<b>%{hovertext}</b><br><br>Country Name=%{text}<br>Year=1984<br>Neerslag (mm/jaar)=%{x}<br>Uitstoot per ton geproduceerd (Mt/ton)=%{y}<extra></extra>",
           "hovertext": [
            "Nigeria"
           ],
           "legendgroup": "Nigeria",
           "marker": {
            "color": "#FFA15A",
            "symbol": "circle"
           },
           "mode": "markers+text",
           "name": "Nigeria",
           "orientation": "v",
           "showlegend": true,
           "text": [
            "Nigeria"
           ],
           "type": "scatter",
           "x": {
            "bdata": "AAAAAAD4kUA=",
            "dtype": "f8"
           },
           "xaxis": "x",
           "y": {
            "bdata": "zbQVV+fxQT4=",
            "dtype": "f8"
           },
           "yaxis": "y"
          },
          {
           "hovertemplate": "<b>%{hovertext}</b><br><br>Country Name=%{text}<br>Year=1984<br>Neerslag (mm/jaar)=%{x}<br>Uitstoot per ton geproduceerd (Mt/ton)=%{y}<extra></extra>",
           "hovertext": [
            "South Africa"
           ],
           "legendgroup": "South Africa",
           "marker": {
            "color": "#19d3f3",
            "symbol": "circle"
           },
           "mode": "markers+text",
           "name": "South Africa",
           "orientation": "v",
           "showlegend": true,
           "text": [
            "South Africa"
           ],
           "type": "scatter",
           "x": {
            "bdata": "AAAAAADwfkA=",
            "dtype": "f8"
           },
           "xaxis": "x",
           "y": {
            "bdata": "zdWZ9ZjsjT4=",
            "dtype": "f8"
           },
           "yaxis": "y"
          },
          {
           "hovertemplate": "<b>%{hovertext}</b><br><br>Country Name=%{text}<br>Year=1984<br>Neerslag (mm/jaar)=%{x}<br>Uitstoot per ton geproduceerd (Mt/ton)=%{y}<extra></extra>",
           "hovertext": [
            "United States of America"
           ],
           "legendgroup": "United States of America",
           "marker": {
            "color": "#FF6692",
            "symbol": "circle"
           },
           "mode": "markers+text",
           "name": "United States of America",
           "orientation": "v",
           "showlegend": true,
           "text": [
            "United States of America"
           ],
           "type": "scatter",
           "x": {
            "bdata": "AAAAAABYhkA=",
            "dtype": "f8"
           },
           "xaxis": "x",
           "y": {
            "bdata": "ISh/7Exknz4=",
            "dtype": "f8"
           },
           "yaxis": "y"
          }
         ],
         "name": "1984"
        },
        {
         "data": [
          {
           "hovertemplate": "<b>%{hovertext}</b><br><br>Country Name=%{text}<br>Year=1985<br>Neerslag (mm/jaar)=%{x}<br>Uitstoot per ton geproduceerd (Mt/ton)=%{y}<extra></extra>",
           "hovertext": [
            "Brazil"
           ],
           "legendgroup": "Brazil",
           "marker": {
            "color": "#636efa",
            "symbol": "circle"
           },
           "mode": "markers+text",
           "name": "Brazil",
           "orientation": "v",
           "showlegend": true,
           "text": [
            "Brazil"
           ],
           "type": "scatter",
           "x": {
            "bdata": "AAAAAADYm0A=",
            "dtype": "f8"
           },
           "xaxis": "x",
           "y": {
            "bdata": "8Y+RnX5DdT4=",
            "dtype": "f8"
           },
           "yaxis": "y"
          },
          {
           "hovertemplate": "<b>%{hovertext}</b><br><br>Country Name=%{text}<br>Year=1985<br>Neerslag (mm/jaar)=%{x}<br>Uitstoot per ton geproduceerd (Mt/ton)=%{y}<extra></extra>",
           "hovertext": [
            "India"
           ],
           "legendgroup": "India",
           "marker": {
            "color": "#EF553B",
            "symbol": "circle"
           },
           "mode": "markers+text",
           "name": "India",
           "orientation": "v",
           "showlegend": true,
           "text": [
            "India"
           ],
           "type": "scatter",
           "x": {
            "bdata": "AAAAAADskEA=",
            "dtype": "f8"
           },
           "xaxis": "x",
           "y": {
            "bdata": "hogwW3CClT4=",
            "dtype": "f8"
           },
           "yaxis": "y"
          },
          {
           "hovertemplate": "<b>%{hovertext}</b><br><br>Country Name=%{text}<br>Year=1985<br>Neerslag (mm/jaar)=%{x}<br>Uitstoot per ton geproduceerd (Mt/ton)=%{y}<extra></extra>",
           "hovertext": [
            "Indonesia"
           ],
           "legendgroup": "Indonesia",
           "marker": {
            "color": "#00cc96",
            "symbol": "circle"
           },
           "mode": "markers+text",
           "name": "Indonesia",
           "orientation": "v",
           "showlegend": true,
           "text": [
            "Indonesia"
           ],
           "type": "scatter",
           "x": {
            "bdata": "AAAAAAAcpUA=",
            "dtype": "f8"
           },
           "xaxis": "x",
           "y": {
            "bdata": "scPQSlVBYj4=",
            "dtype": "f8"
           },
           "yaxis": "y"
          },
          {
           "hovertemplate": "<b>%{hovertext}</b><br><br>Country Name=%{text}<br>Year=1985<br>Neerslag (mm/jaar)=%{x}<br>Uitstoot per ton geproduceerd (Mt/ton)=%{y}<extra></extra>",
           "hovertext": [
            "Japan"
           ],
           "legendgroup": "Japan",
           "marker": {
            "color": "#ab63fa",
            "symbol": "circle"
           },
           "mode": "markers+text",
           "name": "Japan",
           "orientation": "v",
           "showlegend": true,
           "text": [
            "Japan"
           ],
           "type": "scatter",
           "x": {
            "bdata": "AAAAAAAQmkA=",
            "dtype": "f8"
           },
           "xaxis": "x",
           "y": {
            "bdata": "iGZJxEAHcj4=",
            "dtype": "f8"
           },
           "yaxis": "y"
          },
          {
           "hovertemplate": "<b>%{hovertext}</b><br><br>Country Name=%{text}<br>Year=1985<br>Neerslag (mm/jaar)=%{x}<br>Uitstoot per ton geproduceerd (Mt/ton)=%{y}<extra></extra>",
           "hovertext": [
            "Nigeria"
           ],
           "legendgroup": "Nigeria",
           "marker": {
            "color": "#FFA15A",
            "symbol": "circle"
           },
           "mode": "markers+text",
           "name": "Nigeria",
           "orientation": "v",
           "showlegend": true,
           "text": [
            "Nigeria"
           ],
           "type": "scatter",
           "x": {
            "bdata": "AAAAAAD4kUA=",
            "dtype": "f8"
           },
           "xaxis": "x",
           "y": {
            "bdata": "v3AAsiVEUT4=",
            "dtype": "f8"
           },
           "yaxis": "y"
          },
          {
           "hovertemplate": "<b>%{hovertext}</b><br><br>Country Name=%{text}<br>Year=1985<br>Neerslag (mm/jaar)=%{x}<br>Uitstoot per ton geproduceerd (Mt/ton)=%{y}<extra></extra>",
           "hovertext": [
            "South Africa"
           ],
           "legendgroup": "South Africa",
           "marker": {
            "color": "#19d3f3",
            "symbol": "circle"
           },
           "mode": "markers+text",
           "name": "South Africa",
           "orientation": "v",
           "showlegend": true,
           "text": [
            "South Africa"
           ],
           "type": "scatter",
           "x": {
            "bdata": "AAAAAADwfkA=",
            "dtype": "f8"
           },
           "xaxis": "x",
           "y": {
            "bdata": "4IwMgwuRkD4=",
            "dtype": "f8"
           },
           "yaxis": "y"
          },
          {
           "hovertemplate": "<b>%{hovertext}</b><br><br>Country Name=%{text}<br>Year=1985<br>Neerslag (mm/jaar)=%{x}<br>Uitstoot per ton geproduceerd (Mt/ton)=%{y}<extra></extra>",
           "hovertext": [
            "United States of America"
           ],
           "legendgroup": "United States of America",
           "marker": {
            "color": "#FF6692",
            "symbol": "circle"
           },
           "mode": "markers+text",
           "name": "United States of America",
           "orientation": "v",
           "showlegend": true,
           "text": [
            "United States of America"
           ],
           "type": "scatter",
           "x": {
            "bdata": "AAAAAABYhkA=",
            "dtype": "f8"
           },
           "xaxis": "x",
           "y": {
            "bdata": "Hu+BkSd9nT4=",
            "dtype": "f8"
           },
           "yaxis": "y"
          }
         ],
         "name": "1985"
        },
        {
         "data": [
          {
           "hovertemplate": "<b>%{hovertext}</b><br><br>Country Name=%{text}<br>Year=1986<br>Neerslag (mm/jaar)=%{x}<br>Uitstoot per ton geproduceerd (Mt/ton)=%{y}<extra></extra>",
           "hovertext": [
            "Brazil"
           ],
           "legendgroup": "Brazil",
           "marker": {
            "color": "#636efa",
            "symbol": "circle"
           },
           "mode": "markers+text",
           "name": "Brazil",
           "orientation": "v",
           "showlegend": true,
           "text": [
            "Brazil"
           ],
           "type": "scatter",
           "x": {
            "bdata": "AAAAAADYm0A=",
            "dtype": "f8"
           },
           "xaxis": "x",
           "y": {
            "bdata": "R7xqsdB5eT4=",
            "dtype": "f8"
           },
           "yaxis": "y"
          },
          {
           "hovertemplate": "<b>%{hovertext}</b><br><br>Country Name=%{text}<br>Year=1986<br>Neerslag (mm/jaar)=%{x}<br>Uitstoot per ton geproduceerd (Mt/ton)=%{y}<extra></extra>",
           "hovertext": [
            "India"
           ],
           "legendgroup": "India",
           "marker": {
            "color": "#EF553B",
            "symbol": "circle"
           },
           "mode": "markers+text",
           "name": "India",
           "orientation": "v",
           "showlegend": true,
           "text": [
            "India"
           ],
           "type": "scatter",
           "x": {
            "bdata": "AAAAAADskEA=",
            "dtype": "f8"
           },
           "xaxis": "x",
           "y": {
            "bdata": "dsfBruImlT4=",
            "dtype": "f8"
           },
           "yaxis": "y"
          },
          {
           "hovertemplate": "<b>%{hovertext}</b><br><br>Country Name=%{text}<br>Year=1986<br>Neerslag (mm/jaar)=%{x}<br>Uitstoot per ton geproduceerd (Mt/ton)=%{y}<extra></extra>",
           "hovertext": [
            "Indonesia"
           ],
           "legendgroup": "Indonesia",
           "marker": {
            "color": "#00cc96",
            "symbol": "circle"
           },
           "mode": "markers+text",
           "name": "Indonesia",
           "orientation": "v",
           "showlegend": true,
           "text": [
            "Indonesia"
           ],
           "type": "scatter",
           "x": {
            "bdata": "AAAAAAAcpUA=",
            "dtype": "f8"
           },
           "xaxis": "x",
           "y": {
            "bdata": "AsJCBax3Yj4=",
            "dtype": "f8"
           },
           "yaxis": "y"
          },
          {
           "hovertemplate": "<b>%{hovertext}</b><br><br>Country Name=%{text}<br>Year=1986<br>Neerslag (mm/jaar)=%{x}<br>Uitstoot per ton geproduceerd (Mt/ton)=%{y}<extra></extra>",
           "hovertext": [
            "Japan"
           ],
           "legendgroup": "Japan",
           "marker": {
            "color": "#ab63fa",
            "symbol": "circle"
           },
           "mode": "markers+text",
           "name": "Japan",
           "orientation": "v",
           "showlegend": true,
           "text": [
            "Japan"
           ],
           "type": "scatter",
           "x": {
            "bdata": "AAAAAAAQmkA=",
            "dtype": "f8"
           },
           "xaxis": "x",
           "y": {
            "bdata": "fW+wKoaNcj4=",
            "dtype": "f8"
           },
           "yaxis": "y"
          },
          {
           "hovertemplate": "<b>%{hovertext}</b><br><br>Country Name=%{text}<br>Year=1986<br>Neerslag (mm/jaar)=%{x}<br>Uitstoot per ton geproduceerd (Mt/ton)=%{y}<extra></extra>",
           "hovertext": [
            "Nigeria"
           ],
           "legendgroup": "Nigeria",
           "marker": {
            "color": "#FFA15A",
            "symbol": "circle"
           },
           "mode": "markers+text",
           "name": "Nigeria",
           "orientation": "v",
           "showlegend": true,
           "text": [
            "Nigeria"
           ],
           "type": "scatter",
           "x": {
            "bdata": "AAAAAAD4kUA=",
            "dtype": "f8"
           },
           "xaxis": "x",
           "y": {
            "bdata": "rZhHReg5Uj4=",
            "dtype": "f8"
           },
           "yaxis": "y"
          },
          {
           "hovertemplate": "<b>%{hovertext}</b><br><br>Country Name=%{text}<br>Year=1986<br>Neerslag (mm/jaar)=%{x}<br>Uitstoot per ton geproduceerd (Mt/ton)=%{y}<extra></extra>",
           "hovertext": [
            "South Africa"
           ],
           "legendgroup": "South Africa",
           "marker": {
            "color": "#19d3f3",
            "symbol": "circle"
           },
           "mode": "markers+text",
           "name": "South Africa",
           "orientation": "v",
           "showlegend": true,
           "text": [
            "South Africa"
           ],
           "type": "scatter",
           "x": {
            "bdata": "AAAAAADwfkA=",
            "dtype": "f8"
           },
           "xaxis": "x",
           "y": {
            "bdata": "xzJ8HlA2kT4=",
            "dtype": "f8"
           },
           "yaxis": "y"
          },
          {
           "hovertemplate": "<b>%{hovertext}</b><br><br>Country Name=%{text}<br>Year=1986<br>Neerslag (mm/jaar)=%{x}<br>Uitstoot per ton geproduceerd (Mt/ton)=%{y}<extra></extra>",
           "hovertext": [
            "United States of America"
           ],
           "legendgroup": "United States of America",
           "marker": {
            "color": "#FF6692",
            "symbol": "circle"
           },
           "mode": "markers+text",
           "name": "United States of America",
           "orientation": "v",
           "showlegend": true,
           "text": [
            "United States of America"
           ],
           "type": "scatter",
           "x": {
            "bdata": "AAAAAABYhkA=",
            "dtype": "f8"
           },
           "xaxis": "x",
           "y": {
            "bdata": "6dnNa96rnD4=",
            "dtype": "f8"
           },
           "yaxis": "y"
          }
         ],
         "name": "1986"
        },
        {
         "data": [
          {
           "hovertemplate": "<b>%{hovertext}</b><br><br>Country Name=%{text}<br>Year=1987<br>Neerslag (mm/jaar)=%{x}<br>Uitstoot per ton geproduceerd (Mt/ton)=%{y}<extra></extra>",
           "hovertext": [
            "Brazil"
           ],
           "legendgroup": "Brazil",
           "marker": {
            "color": "#636efa",
            "symbol": "circle"
           },
           "mode": "markers+text",
           "name": "Brazil",
           "orientation": "v",
           "showlegend": true,
           "text": [
            "Brazil"
           ],
           "type": "scatter",
           "x": {
            "bdata": "AAAAAACEm0A=",
            "dtype": "f8"
           },
           "xaxis": "x",
           "y": {
            "bdata": "7xDDymckdz4=",
            "dtype": "f8"
           },
           "yaxis": "y"
          },
          {
           "hovertemplate": "<b>%{hovertext}</b><br><br>Country Name=%{text}<br>Year=1987<br>Neerslag (mm/jaar)=%{x}<br>Uitstoot per ton geproduceerd (Mt/ton)=%{y}<extra></extra>",
           "hovertext": [
            "India"
           ],
           "legendgroup": "India",
           "marker": {
            "color": "#EF553B",
            "symbol": "circle"
           },
           "mode": "markers+text",
           "name": "India",
           "orientation": "v",
           "showlegend": true,
           "text": [
            "India"
           ],
           "type": "scatter",
           "x": {
            "bdata": "AAAAAADskEA=",
            "dtype": "f8"
           },
           "xaxis": "x",
           "y": {
            "bdata": "F2K9mob2kz4=",
            "dtype": "f8"
           },
           "yaxis": "y"
          },
          {
           "hovertemplate": "<b>%{hovertext}</b><br><br>Country Name=%{text}<br>Year=1987<br>Neerslag (mm/jaar)=%{x}<br>Uitstoot per ton geproduceerd (Mt/ton)=%{y}<extra></extra>",
           "hovertext": [
            "Indonesia"
           ],
           "legendgroup": "Indonesia",
           "marker": {
            "color": "#00cc96",
            "symbol": "circle"
           },
           "mode": "markers+text",
           "name": "Indonesia",
           "orientation": "v",
           "showlegend": true,
           "text": [
            "Indonesia"
           ],
           "type": "scatter",
           "x": {
            "bdata": "AAAAAAAcpUA=",
            "dtype": "f8"
           },
           "xaxis": "x",
           "y": {
            "bdata": "Z8SAy4coYj4=",
            "dtype": "f8"
           },
           "yaxis": "y"
          },
          {
           "hovertemplate": "<b>%{hovertext}</b><br><br>Country Name=%{text}<br>Year=1987<br>Neerslag (mm/jaar)=%{x}<br>Uitstoot per ton geproduceerd (Mt/ton)=%{y}<extra></extra>",
           "hovertext": [
            "Japan"
           ],
           "legendgroup": "Japan",
           "marker": {
            "color": "#ab63fa",
            "symbol": "circle"
           },
           "mode": "markers+text",
           "name": "Japan",
           "orientation": "v",
           "showlegend": true,
           "text": [
            "Japan"
           ],
           "type": "scatter",
           "x": {
            "bdata": "AAAAAAAQmkA=",
            "dtype": "f8"
           },
           "xaxis": "x",
           "y": {
            "bdata": "MH2uNSY9cz4=",
            "dtype": "f8"
           },
           "yaxis": "y"
          },
          {
           "hovertemplate": "<b>%{hovertext}</b><br><br>Country Name=%{text}<br>Year=1987<br>Neerslag (mm/jaar)=%{x}<br>Uitstoot per ton geproduceerd (Mt/ton)=%{y}<extra></extra>",
           "hovertext": [
            "Nigeria"
           ],
           "legendgroup": "Nigeria",
           "marker": {
            "color": "#FFA15A",
            "symbol": "circle"
           },
           "mode": "markers+text",
           "name": "Nigeria",
           "orientation": "v",
           "showlegend": true,
           "text": [
            "Nigeria"
           ],
           "type": "scatter",
           "x": {
            "bdata": "AAAAAAD4kUA=",
            "dtype": "f8"
           },
           "xaxis": "x",
           "y": {
            "bdata": "LcAjsf+aUz4=",
            "dtype": "f8"
           },
           "yaxis": "y"
          },
          {
           "hovertemplate": "<b>%{hovertext}</b><br><br>Country Name=%{text}<br>Year=1987<br>Neerslag (mm/jaar)=%{x}<br>Uitstoot per ton geproduceerd (Mt/ton)=%{y}<extra></extra>",
           "hovertext": [
            "South Africa"
           ],
           "legendgroup": "South Africa",
           "marker": {
            "color": "#19d3f3",
            "symbol": "circle"
           },
           "mode": "markers+text",
           "name": "South Africa",
           "orientation": "v",
           "showlegend": true,
           "text": [
            "South Africa"
           ],
           "type": "scatter",
           "x": {
            "bdata": "AAAAAADwfkA=",
            "dtype": "f8"
           },
           "xaxis": "x",
           "y": {
            "bdata": "Wf5pRjg3jT4=",
            "dtype": "f8"
           },
           "yaxis": "y"
          },
          {
           "hovertemplate": "<b>%{hovertext}</b><br><br>Country Name=%{text}<br>Year=1987<br>Neerslag (mm/jaar)=%{x}<br>Uitstoot per ton geproduceerd (Mt/ton)=%{y}<extra></extra>",
           "hovertext": [
            "United States of America"
           ],
           "legendgroup": "United States of America",
           "marker": {
            "color": "#FF6692",
            "symbol": "circle"
           },
           "mode": "markers+text",
           "name": "United States of America",
           "orientation": "v",
           "showlegend": true,
           "text": [
            "United States of America"
           ],
           "type": "scatter",
           "x": {
            "bdata": "AAAAAABYhkA=",
            "dtype": "f8"
           },
           "xaxis": "x",
           "y": {
            "bdata": "DkDnM2lsmz4=",
            "dtype": "f8"
           },
           "yaxis": "y"
          }
         ],
         "name": "1987"
        },
        {
         "data": [
          {
           "hovertemplate": "<b>%{hovertext}</b><br><br>Country Name=%{text}<br>Year=1988<br>Neerslag (mm/jaar)=%{x}<br>Uitstoot per ton geproduceerd (Mt/ton)=%{y}<extra></extra>",
           "hovertext": [
            "Brazil"
           ],
           "legendgroup": "Brazil",
           "marker": {
            "color": "#636efa",
            "symbol": "circle"
           },
           "mode": "markers+text",
           "name": "Brazil",
           "orientation": "v",
           "showlegend": true,
           "text": [
            "Brazil"
           ],
           "type": "scatter",
           "x": {
            "bdata": "AAAAAADYm0A=",
            "dtype": "f8"
           },
           "xaxis": "x",
           "y": {
            "bdata": "urzB0wUjdz4=",
            "dtype": "f8"
           },
           "yaxis": "y"
          },
          {
           "hovertemplate": "<b>%{hovertext}</b><br><br>Country Name=%{text}<br>Year=1988<br>Neerslag (mm/jaar)=%{x}<br>Uitstoot per ton geproduceerd (Mt/ton)=%{y}<extra></extra>",
           "hovertext": [
            "India"
           ],
           "legendgroup": "India",
           "marker": {
            "color": "#EF553B",
            "symbol": "circle"
           },
           "mode": "markers+text",
           "name": "India",
           "orientation": "v",
           "showlegend": true,
           "text": [
            "India"
           ],
           "type": "scatter",
           "x": {
            "bdata": "AAAAAADskEA=",
            "dtype": "f8"
           },
           "xaxis": "x",
           "y": {
            "bdata": "hLfpDt8dkz4=",
            "dtype": "f8"
           },
           "yaxis": "y"
          },
          {
           "hovertemplate": "<b>%{hovertext}</b><br><br>Country Name=%{text}<br>Year=1988<br>Neerslag (mm/jaar)=%{x}<br>Uitstoot per ton geproduceerd (Mt/ton)=%{y}<extra></extra>",
           "hovertext": [
            "Indonesia"
           ],
           "legendgroup": "Indonesia",
           "marker": {
            "color": "#00cc96",
            "symbol": "circle"
           },
           "mode": "markers+text",
           "name": "Indonesia",
           "orientation": "v",
           "showlegend": true,
           "text": [
            "Indonesia"
           ],
           "type": "scatter",
           "x": {
            "bdata": "AAAAAAAcpUA=",
            "dtype": "f8"
           },
           "xaxis": "x",
           "y": {
            "bdata": "WwfEDNG4Yj4=",
            "dtype": "f8"
           },
           "yaxis": "y"
          },
          {
           "hovertemplate": "<b>%{hovertext}</b><br><br>Country Name=%{text}<br>Year=1988<br>Neerslag (mm/jaar)=%{x}<br>Uitstoot per ton geproduceerd (Mt/ton)=%{y}<extra></extra>",
           "hovertext": [
            "Japan"
           ],
           "legendgroup": "Japan",
           "marker": {
            "color": "#ab63fa",
            "symbol": "circle"
           },
           "mode": "markers+text",
           "name": "Japan",
           "orientation": "v",
           "showlegend": true,
           "text": [
            "Japan"
           ],
           "type": "scatter",
           "x": {
            "bdata": "AAAAAAAQmkA=",
            "dtype": "f8"
           },
           "xaxis": "x",
           "y": {
            "bdata": "temL0sDbdD4=",
            "dtype": "f8"
           },
           "yaxis": "y"
          },
          {
           "hovertemplate": "<b>%{hovertext}</b><br><br>Country Name=%{text}<br>Year=1988<br>Neerslag (mm/jaar)=%{x}<br>Uitstoot per ton geproduceerd (Mt/ton)=%{y}<extra></extra>",
           "hovertext": [
            "Nigeria"
           ],
           "legendgroup": "Nigeria",
           "marker": {
            "color": "#FFA15A",
            "symbol": "circle"
           },
           "mode": "markers+text",
           "name": "Nigeria",
           "orientation": "v",
           "showlegend": true,
           "text": [
            "Nigeria"
           ],
           "type": "scatter",
           "x": {
            "bdata": "AAAAAAD4kUA=",
            "dtype": "f8"
           },
           "xaxis": "x",
           "y": {
            "bdata": "VBpHpJpPRD4=",
            "dtype": "f8"
           },
           "yaxis": "y"
          },
          {
           "hovertemplate": "<b>%{hovertext}</b><br><br>Country Name=%{text}<br>Year=1988<br>Neerslag (mm/jaar)=%{x}<br>Uitstoot per ton geproduceerd (Mt/ton)=%{y}<extra></extra>",
           "hovertext": [
            "South Africa"
           ],
           "legendgroup": "South Africa",
           "marker": {
            "color": "#19d3f3",
            "symbol": "circle"
           },
           "mode": "markers+text",
           "name": "South Africa",
           "orientation": "v",
           "showlegend": true,
           "text": [
            "South Africa"
           ],
           "type": "scatter",
           "x": {
            "bdata": "AAAAAADwfkA=",
            "dtype": "f8"
           },
           "xaxis": "x",
           "y": {
            "bdata": "STperf/HkD4=",
            "dtype": "f8"
           },
           "yaxis": "y"
          },
          {
           "hovertemplate": "<b>%{hovertext}</b><br><br>Country Name=%{text}<br>Year=1988<br>Neerslag (mm/jaar)=%{x}<br>Uitstoot per ton geproduceerd (Mt/ton)=%{y}<extra></extra>",
           "hovertext": [
            "United States of America"
           ],
           "legendgroup": "United States of America",
           "marker": {
            "color": "#FF6692",
            "symbol": "circle"
           },
           "mode": "markers+text",
           "name": "United States of America",
           "orientation": "v",
           "showlegend": true,
           "text": [
            "United States of America"
           ],
           "type": "scatter",
           "x": {
            "bdata": "AAAAAABYhkA=",
            "dtype": "f8"
           },
           "xaxis": "x",
           "y": {
            "bdata": "RSVRoxOpnD4=",
            "dtype": "f8"
           },
           "yaxis": "y"
          }
         ],
         "name": "1988"
        },
        {
         "data": [
          {
           "hovertemplate": "<b>%{hovertext}</b><br><br>Country Name=%{text}<br>Year=1989<br>Neerslag (mm/jaar)=%{x}<br>Uitstoot per ton geproduceerd (Mt/ton)=%{y}<extra></extra>",
           "hovertext": [
            "Brazil"
           ],
           "legendgroup": "Brazil",
           "marker": {
            "color": "#636efa",
            "symbol": "circle"
           },
           "mode": "markers+text",
           "name": "Brazil",
           "orientation": "v",
           "showlegend": true,
           "text": [
            "Brazil"
           ],
           "type": "scatter",
           "x": {
            "bdata": "AAAAAADYm0A=",
            "dtype": "f8"
           },
           "xaxis": "x",
           "y": {
            "bdata": "hlr6NpXOdj4=",
            "dtype": "f8"
           },
           "yaxis": "y"
          },
          {
           "hovertemplate": "<b>%{hovertext}</b><br><br>Country Name=%{text}<br>Year=1989<br>Neerslag (mm/jaar)=%{x}<br>Uitstoot per ton geproduceerd (Mt/ton)=%{y}<extra></extra>",
           "hovertext": [
            "India"
           ],
           "legendgroup": "India",
           "marker": {
            "color": "#EF553B",
            "symbol": "circle"
           },
           "mode": "markers+text",
           "name": "India",
           "orientation": "v",
           "showlegend": true,
           "text": [
            "India"
           ],
           "type": "scatter",
           "x": {
            "bdata": "AAAAAADskEA=",
            "dtype": "f8"
           },
           "xaxis": "x",
           "y": {
            "bdata": "9LYKYVE2kz4=",
            "dtype": "f8"
           },
           "yaxis": "y"
          },
          {
           "hovertemplate": "<b>%{hovertext}</b><br><br>Country Name=%{text}<br>Year=1989<br>Neerslag (mm/jaar)=%{x}<br>Uitstoot per ton geproduceerd (Mt/ton)=%{y}<extra></extra>",
           "hovertext": [
            "Indonesia"
           ],
           "legendgroup": "Indonesia",
           "marker": {
            "color": "#00cc96",
            "symbol": "circle"
           },
           "mode": "markers+text",
           "name": "Indonesia",
           "orientation": "v",
           "showlegend": true,
           "text": [
            "Indonesia"
           ],
           "type": "scatter",
           "x": {
            "bdata": "AAAAAAAcpUA=",
            "dtype": "f8"
           },
           "xaxis": "x",
           "y": {
            "bdata": "MlV3W4NWYz4=",
            "dtype": "f8"
           },
           "yaxis": "y"
          },
          {
           "hovertemplate": "<b>%{hovertext}</b><br><br>Country Name=%{text}<br>Year=1989<br>Neerslag (mm/jaar)=%{x}<br>Uitstoot per ton geproduceerd (Mt/ton)=%{y}<extra></extra>",
           "hovertext": [
            "Japan"
           ],
           "legendgroup": "Japan",
           "marker": {
            "color": "#ab63fa",
            "symbol": "circle"
           },
           "mode": "markers+text",
           "name": "Japan",
           "orientation": "v",
           "showlegend": true,
           "text": [
            "Japan"
           ],
           "type": "scatter",
           "x": {
            "bdata": "AAAAAAAQmkA=",
            "dtype": "f8"
           },
           "xaxis": "x",
           "y": {
            "bdata": "KWZ0RfNldD4=",
            "dtype": "f8"
           },
           "yaxis": "y"
          },
          {
           "hovertemplate": "<b>%{hovertext}</b><br><br>Country Name=%{text}<br>Year=1989<br>Neerslag (mm/jaar)=%{x}<br>Uitstoot per ton geproduceerd (Mt/ton)=%{y}<extra></extra>",
           "hovertext": [
            "Nigeria"
           ],
           "legendgroup": "Nigeria",
           "marker": {
            "color": "#FFA15A",
            "symbol": "circle"
           },
           "mode": "markers+text",
           "name": "Nigeria",
           "orientation": "v",
           "showlegend": true,
           "text": [
            "Nigeria"
           ],
           "type": "scatter",
           "x": {
            "bdata": "AAAAAAD4kUA=",
            "dtype": "f8"
           },
           "xaxis": "x",
           "y": {
            "bdata": "bnFCGs4hRj4=",
            "dtype": "f8"
           },
           "yaxis": "y"
          },
          {
           "hovertemplate": "<b>%{hovertext}</b><br><br>Country Name=%{text}<br>Year=1989<br>Neerslag (mm/jaar)=%{x}<br>Uitstoot per ton geproduceerd (Mt/ton)=%{y}<extra></extra>",
           "hovertext": [
            "South Africa"
           ],
           "legendgroup": "South Africa",
           "marker": {
            "color": "#19d3f3",
            "symbol": "circle"
           },
           "mode": "markers+text",
           "name": "South Africa",
           "orientation": "v",
           "showlegend": true,
           "text": [
            "South Africa"
           ],
           "type": "scatter",
           "x": {
            "bdata": "AAAAAADwfkA=",
            "dtype": "f8"
           },
           "xaxis": "x",
           "y": {
            "bdata": "c2Nv9W7kjj4=",
            "dtype": "f8"
           },
           "yaxis": "y"
          },
          {
           "hovertemplate": "<b>%{hovertext}</b><br><br>Country Name=%{text}<br>Year=1989<br>Neerslag (mm/jaar)=%{x}<br>Uitstoot per ton geproduceerd (Mt/ton)=%{y}<extra></extra>",
           "hovertext": [
            "United States of America"
           ],
           "legendgroup": "United States of America",
           "marker": {
            "color": "#FF6692",
            "symbol": "circle"
           },
           "mode": "markers+text",
           "name": "United States of America",
           "orientation": "v",
           "showlegend": true,
           "text": [
            "United States of America"
           ],
           "type": "scatter",
           "x": {
            "bdata": "AAAAAABYhkA=",
            "dtype": "f8"
           },
           "xaxis": "x",
           "y": {
            "bdata": "GkO+Umdenj4=",
            "dtype": "f8"
           },
           "yaxis": "y"
          }
         ],
         "name": "1989"
        },
        {
         "data": [
          {
           "hovertemplate": "<b>%{hovertext}</b><br><br>Country Name=%{text}<br>Year=1990<br>Neerslag (mm/jaar)=%{x}<br>Uitstoot per ton geproduceerd (Mt/ton)=%{y}<extra></extra>",
           "hovertext": [
            "Brazil"
           ],
           "legendgroup": "Brazil",
           "marker": {
            "color": "#636efa",
            "symbol": "circle"
           },
           "mode": "markers+text",
           "name": "Brazil",
           "orientation": "v",
           "showlegend": true,
           "text": [
            "Brazil"
           ],
           "type": "scatter",
           "x": {
            "bdata": "AAAAAADYm0A=",
            "dtype": "f8"
           },
           "xaxis": "x",
           "y": {
            "bdata": "zzsGVsOrdD4=",
            "dtype": "f8"
           },
           "yaxis": "y"
          },
          {
           "hovertemplate": "<b>%{hovertext}</b><br><br>Country Name=%{text}<br>Year=1990<br>Neerslag (mm/jaar)=%{x}<br>Uitstoot per ton geproduceerd (Mt/ton)=%{y}<extra></extra>",
           "hovertext": [
            "India"
           ],
           "legendgroup": "India",
           "marker": {
            "color": "#EF553B",
            "symbol": "circle"
           },
           "mode": "markers+text",
           "name": "India",
           "orientation": "v",
           "showlegend": true,
           "text": [
            "India"
           ],
           "type": "scatter",
           "x": {
            "bdata": "AAAAAADskEA=",
            "dtype": "f8"
           },
           "xaxis": "x",
           "y": {
            "bdata": "cgMHdVujkT4=",
            "dtype": "f8"
           },
           "yaxis": "y"
          },
          {
           "hovertemplate": "<b>%{hovertext}</b><br><br>Country Name=%{text}<br>Year=1990<br>Neerslag (mm/jaar)=%{x}<br>Uitstoot per ton geproduceerd (Mt/ton)=%{y}<extra></extra>",
           "hovertext": [
            "Indonesia"
           ],
           "legendgroup": "Indonesia",
           "marker": {
            "color": "#00cc96",
            "symbol": "circle"
           },
           "mode": "markers+text",
           "name": "Indonesia",
           "orientation": "v",
           "showlegend": true,
           "text": [
            "Indonesia"
           ],
           "type": "scatter",
           "x": {
            "bdata": "AAAAAAAcpUA=",
            "dtype": "f8"
           },
           "xaxis": "x",
           "y": {
            "bdata": "d+6EvY3hYj4=",
            "dtype": "f8"
           },
           "yaxis": "y"
          },
          {
           "hovertemplate": "<b>%{hovertext}</b><br><br>Country Name=%{text}<br>Year=1990<br>Neerslag (mm/jaar)=%{x}<br>Uitstoot per ton geproduceerd (Mt/ton)=%{y}<extra></extra>",
           "hovertext": [
            "Japan"
           ],
           "legendgroup": "Japan",
           "marker": {
            "color": "#ab63fa",
            "symbol": "circle"
           },
           "mode": "markers+text",
           "name": "Japan",
           "orientation": "v",
           "showlegend": true,
           "text": [
            "Japan"
           ],
           "type": "scatter",
           "x": {
            "bdata": "AAAAAAAQmkA=",
            "dtype": "f8"
           },
           "xaxis": "x",
           "y": {
            "bdata": "TMmugIZMhj4=",
            "dtype": "f8"
           },
           "yaxis": "y"
          },
          {
           "hovertemplate": "<b>%{hovertext}</b><br><br>Country Name=%{text}<br>Year=1990<br>Neerslag (mm/jaar)=%{x}<br>Uitstoot per ton geproduceerd (Mt/ton)=%{y}<extra></extra>",
           "hovertext": [
            "Nigeria"
           ],
           "legendgroup": "Nigeria",
           "marker": {
            "color": "#FFA15A",
            "symbol": "circle"
           },
           "mode": "markers+text",
           "name": "Nigeria",
           "orientation": "v",
           "showlegend": true,
           "text": [
            "Nigeria"
           ],
           "type": "scatter",
           "x": {
            "bdata": "AAAAAAD4kUA=",
            "dtype": "f8"
           },
           "xaxis": "x",
           "y": {
            "bdata": "vphRDwdwRD4=",
            "dtype": "f8"
           },
           "yaxis": "y"
          },
          {
           "hovertemplate": "<b>%{hovertext}</b><br><br>Country Name=%{text}<br>Year=1990<br>Neerslag (mm/jaar)=%{x}<br>Uitstoot per ton geproduceerd (Mt/ton)=%{y}<extra></extra>",
           "hovertext": [
            "South Africa"
           ],
           "legendgroup": "South Africa",
           "marker": {
            "color": "#19d3f3",
            "symbol": "circle"
           },
           "mode": "markers+text",
           "name": "South Africa",
           "orientation": "v",
           "showlegend": true,
           "text": [
            "South Africa"
           ],
           "type": "scatter",
           "x": {
            "bdata": "AAAAAADwfkA=",
            "dtype": "f8"
           },
           "xaxis": "x",
           "y": {
            "bdata": "Vo9z5STyiz4=",
            "dtype": "f8"
           },
           "yaxis": "y"
          },
          {
           "hovertemplate": "<b>%{hovertext}</b><br><br>Country Name=%{text}<br>Year=1990<br>Neerslag (mm/jaar)=%{x}<br>Uitstoot per ton geproduceerd (Mt/ton)=%{y}<extra></extra>",
           "hovertext": [
            "United States of America"
           ],
           "legendgroup": "United States of America",
           "marker": {
            "color": "#FF6692",
            "symbol": "circle"
           },
           "mode": "markers+text",
           "name": "United States of America",
           "orientation": "v",
           "showlegend": true,
           "text": [
            "United States of America"
           ],
           "type": "scatter",
           "x": {
            "bdata": "AAAAAABYhkA=",
            "dtype": "f8"
           },
           "xaxis": "x",
           "y": {
            "bdata": "EGP9hm7Toz4=",
            "dtype": "f8"
           },
           "yaxis": "y"
          }
         ],
         "name": "1990"
        },
        {
         "data": [
          {
           "hovertemplate": "<b>%{hovertext}</b><br><br>Country Name=%{text}<br>Year=1991<br>Neerslag (mm/jaar)=%{x}<br>Uitstoot per ton geproduceerd (Mt/ton)=%{y}<extra></extra>",
           "hovertext": [
            "Brazil"
           ],
           "legendgroup": "Brazil",
           "marker": {
            "color": "#636efa",
            "symbol": "circle"
           },
           "mode": "markers+text",
           "name": "Brazil",
           "orientation": "v",
           "showlegend": true,
           "text": [
            "Brazil"
           ],
           "type": "scatter",
           "x": {
            "bdata": "AAAAAADYm0A=",
            "dtype": "f8"
           },
           "xaxis": "x",
           "y": {
            "bdata": "P8ZJI+YPcz4=",
            "dtype": "f8"
           },
           "yaxis": "y"
          },
          {
           "hovertemplate": "<b>%{hovertext}</b><br><br>Country Name=%{text}<br>Year=1991<br>Neerslag (mm/jaar)=%{x}<br>Uitstoot per ton geproduceerd (Mt/ton)=%{y}<extra></extra>",
           "hovertext": [
            "India"
           ],
           "legendgroup": "India",
           "marker": {
            "color": "#EF553B",
            "symbol": "circle"
           },
           "mode": "markers+text",
           "name": "India",
           "orientation": "v",
           "showlegend": true,
           "text": [
            "India"
           ],
           "type": "scatter",
           "x": {
            "bdata": "AAAAAADskEA=",
            "dtype": "f8"
           },
           "xaxis": "x",
           "y": {
            "bdata": "xnpntGnFkT4=",
            "dtype": "f8"
           },
           "yaxis": "y"
          },
          {
           "hovertemplate": "<b>%{hovertext}</b><br><br>Country Name=%{text}<br>Year=1991<br>Neerslag (mm/jaar)=%{x}<br>Uitstoot per ton geproduceerd (Mt/ton)=%{y}<extra></extra>",
           "hovertext": [
            "Indonesia"
           ],
           "legendgroup": "Indonesia",
           "marker": {
            "color": "#00cc96",
            "symbol": "circle"
           },
           "mode": "markers+text",
           "name": "Indonesia",
           "orientation": "v",
           "showlegend": true,
           "text": [
            "Indonesia"
           ],
           "type": "scatter",
           "x": {
            "bdata": "AAAAAAAcpUA=",
            "dtype": "f8"
           },
           "xaxis": "x",
           "y": {
            "bdata": "DGOz11S0Yz4=",
            "dtype": "f8"
           },
           "yaxis": "y"
          },
          {
           "hovertemplate": "<b>%{hovertext}</b><br><br>Country Name=%{text}<br>Year=1991<br>Neerslag (mm/jaar)=%{x}<br>Uitstoot per ton geproduceerd (Mt/ton)=%{y}<extra></extra>",
           "hovertext": [
            "Japan"
           ],
           "legendgroup": "Japan",
           "marker": {
            "color": "#ab63fa",
            "symbol": "circle"
           },
           "mode": "markers+text",
           "name": "Japan",
           "orientation": "v",
           "showlegend": true,
           "text": [
            "Japan"
           ],
           "type": "scatter",
           "x": {
            "bdata": "AAAAAAAQmkA=",
            "dtype": "f8"
           },
           "xaxis": "x",
           "y": {
            "bdata": "kAm9RPA6hT4=",
            "dtype": "f8"
           },
           "yaxis": "y"
          },
          {
           "hovertemplate": "<b>%{hovertext}</b><br><br>Country Name=%{text}<br>Year=1991<br>Neerslag (mm/jaar)=%{x}<br>Uitstoot per ton geproduceerd (Mt/ton)=%{y}<extra></extra>",
           "hovertext": [
            "Nigeria"
           ],
           "legendgroup": "Nigeria",
           "marker": {
            "color": "#FFA15A",
            "symbol": "circle"
           },
           "mode": "markers+text",
           "name": "Nigeria",
           "orientation": "v",
           "showlegend": true,
           "text": [
            "Nigeria"
           ],
           "type": "scatter",
           "x": {
            "bdata": "AAAAAAD4kUA=",
            "dtype": "f8"
           },
           "xaxis": "x",
           "y": {
            "bdata": "vhduP466QD4=",
            "dtype": "f8"
           },
           "yaxis": "y"
          },
          {
           "hovertemplate": "<b>%{hovertext}</b><br><br>Country Name=%{text}<br>Year=1991<br>Neerslag (mm/jaar)=%{x}<br>Uitstoot per ton geproduceerd (Mt/ton)=%{y}<extra></extra>",
           "hovertext": [
            "South Africa"
           ],
           "legendgroup": "South Africa",
           "marker": {
            "color": "#19d3f3",
            "symbol": "circle"
           },
           "mode": "markers+text",
           "name": "South Africa",
           "orientation": "v",
           "showlegend": true,
           "text": [
            "South Africa"
           ],
           "type": "scatter",
           "x": {
            "bdata": "AAAAAADwfkA=",
            "dtype": "f8"
           },
           "xaxis": "x",
           "y": {
            "bdata": "YLRs4ZVaiT4=",
            "dtype": "f8"
           },
           "yaxis": "y"
          },
          {
           "hovertemplate": "<b>%{hovertext}</b><br><br>Country Name=%{text}<br>Year=1991<br>Neerslag (mm/jaar)=%{x}<br>Uitstoot per ton geproduceerd (Mt/ton)=%{y}<extra></extra>",
           "hovertext": [
            "United States of America"
           ],
           "legendgroup": "United States of America",
           "marker": {
            "color": "#FF6692",
            "symbol": "circle"
           },
           "mode": "markers+text",
           "name": "United States of America",
           "orientation": "v",
           "showlegend": true,
           "text": [
            "United States of America"
           ],
           "type": "scatter",
           "x": {
            "bdata": "AAAAAABYhkA=",
            "dtype": "f8"
           },
           "xaxis": "x",
           "y": {
            "bdata": "hayzm5ZjoT4=",
            "dtype": "f8"
           },
           "yaxis": "y"
          }
         ],
         "name": "1991"
        },
        {
         "data": [
          {
           "hovertemplate": "<b>%{hovertext}</b><br><br>Country Name=%{text}<br>Year=1992<br>Neerslag (mm/jaar)=%{x}<br>Uitstoot per ton geproduceerd (Mt/ton)=%{y}<extra></extra>",
           "hovertext": [
            "Brazil"
           ],
           "legendgroup": "Brazil",
           "marker": {
            "color": "#636efa",
            "symbol": "circle"
           },
           "mode": "markers+text",
           "name": "Brazil",
           "orientation": "v",
           "showlegend": true,
           "text": [
            "Brazil"
           ],
           "type": "scatter",
           "x": {
            "bdata": "AAAAAACEm0A=",
            "dtype": "f8"
           },
           "xaxis": "x",
           "y": {
            "bdata": "i+Ehuckdcj4=",
            "dtype": "f8"
           },
           "yaxis": "y"
          },
          {
           "hovertemplate": "<b>%{hovertext}</b><br><br>Country Name=%{text}<br>Year=1992<br>Neerslag (mm/jaar)=%{x}<br>Uitstoot per ton geproduceerd (Mt/ton)=%{y}<extra></extra>",
           "hovertext": [
            "India"
           ],
           "legendgroup": "India",
           "marker": {
            "color": "#EF553B",
            "symbol": "circle"
           },
           "mode": "markers+text",
           "name": "India",
           "orientation": "v",
           "showlegend": true,
           "text": [
            "India"
           ],
           "type": "scatter",
           "x": {
            "bdata": "AAAAAADskEA=",
            "dtype": "f8"
           },
           "xaxis": "x",
           "y": {
            "bdata": "ZdnbYlVZkD4=",
            "dtype": "f8"
           },
           "yaxis": "y"
          },
          {
           "hovertemplate": "<b>%{hovertext}</b><br><br>Country Name=%{text}<br>Year=1992<br>Neerslag (mm/jaar)=%{x}<br>Uitstoot per ton geproduceerd (Mt/ton)=%{y}<extra></extra>",
           "hovertext": [
            "Indonesia"
           ],
           "legendgroup": "Indonesia",
           "marker": {
            "color": "#00cc96",
            "symbol": "circle"
           },
           "mode": "markers+text",
           "name": "Indonesia",
           "orientation": "v",
           "showlegend": true,
           "text": [
            "Indonesia"
           ],
           "type": "scatter",
           "x": {
            "bdata": "AAAAAAAcpUA=",
            "dtype": "f8"
           },
           "xaxis": "x",
           "y": {
            "bdata": "s61T/43uYj4=",
            "dtype": "f8"
           },
           "yaxis": "y"
          },
          {
           "hovertemplate": "<b>%{hovertext}</b><br><br>Country Name=%{text}<br>Year=1992<br>Neerslag (mm/jaar)=%{x}<br>Uitstoot per ton geproduceerd (Mt/ton)=%{y}<extra></extra>",
           "hovertext": [
            "Japan"
           ],
           "legendgroup": "Japan",
           "marker": {
            "color": "#ab63fa",
            "symbol": "circle"
           },
           "mode": "markers+text",
           "name": "Japan",
           "orientation": "v",
           "showlegend": true,
           "text": [
            "Japan"
           ],
           "type": "scatter",
           "x": {
            "bdata": "AAAAAAAQmkA=",
            "dtype": "f8"
           },
           "xaxis": "x",
           "y": {
            "bdata": "GMFi3gPTgz4=",
            "dtype": "f8"
           },
           "yaxis": "y"
          },
          {
           "hovertemplate": "<b>%{hovertext}</b><br><br>Country Name=%{text}<br>Year=1992<br>Neerslag (mm/jaar)=%{x}<br>Uitstoot per ton geproduceerd (Mt/ton)=%{y}<extra></extra>",
           "hovertext": [
            "Nigeria"
           ],
           "legendgroup": "Nigeria",
           "marker": {
            "color": "#FFA15A",
            "symbol": "circle"
           },
           "mode": "markers+text",
           "name": "Nigeria",
           "orientation": "v",
           "showlegend": true,
           "text": [
            "Nigeria"
           ],
           "type": "scatter",
           "x": {
            "bdata": "AAAAAAD4kUA=",
            "dtype": "f8"
           },
           "xaxis": "x",
           "y": {
            "bdata": "4n5TbDrKNj4=",
            "dtype": "f8"
           },
           "yaxis": "y"
          },
          {
           "hovertemplate": "<b>%{hovertext}</b><br><br>Country Name=%{text}<br>Year=1992<br>Neerslag (mm/jaar)=%{x}<br>Uitstoot per ton geproduceerd (Mt/ton)=%{y}<extra></extra>",
           "hovertext": [
            "South Africa"
           ],
           "legendgroup": "South Africa",
           "marker": {
            "color": "#19d3f3",
            "symbol": "circle"
           },
           "mode": "markers+text",
           "name": "South Africa",
           "orientation": "v",
           "showlegend": true,
           "text": [
            "South Africa"
           ],
           "type": "scatter",
           "x": {
            "bdata": "AAAAAADwfkA=",
            "dtype": "f8"
           },
           "xaxis": "x",
           "y": {
            "bdata": "awIstcfLhj4=",
            "dtype": "f8"
           },
           "yaxis": "y"
          },
          {
           "hovertemplate": "<b>%{hovertext}</b><br><br>Country Name=%{text}<br>Year=1992<br>Neerslag (mm/jaar)=%{x}<br>Uitstoot per ton geproduceerd (Mt/ton)=%{y}<extra></extra>",
           "hovertext": [
            "United States of America"
           ],
           "legendgroup": "United States of America",
           "marker": {
            "color": "#FF6692",
            "symbol": "circle"
           },
           "mode": "markers+text",
           "name": "United States of America",
           "orientation": "v",
           "showlegend": true,
           "text": [
            "United States of America"
           ],
           "type": "scatter",
           "x": {
            "bdata": "AAAAAABYhkA=",
            "dtype": "f8"
           },
           "xaxis": "x",
           "y": {
            "bdata": "QO8TdobHoT4=",
            "dtype": "f8"
           },
           "yaxis": "y"
          }
         ],
         "name": "1992"
        },
        {
         "data": [
          {
           "hovertemplate": "<b>%{hovertext}</b><br><br>Country Name=%{text}<br>Year=1993<br>Neerslag (mm/jaar)=%{x}<br>Uitstoot per ton geproduceerd (Mt/ton)=%{y}<extra></extra>",
           "hovertext": [
            "Brazil"
           ],
           "legendgroup": "Brazil",
           "marker": {
            "color": "#636efa",
            "symbol": "circle"
           },
           "mode": "markers+text",
           "name": "Brazil",
           "orientation": "v",
           "showlegend": true,
           "text": [
            "Brazil"
           ],
           "type": "scatter",
           "x": {
            "bdata": "AAAAAADYm0A=",
            "dtype": "f8"
           },
           "xaxis": "x",
           "y": {
            "bdata": "svYd2BV1cT4=",
            "dtype": "f8"
           },
           "yaxis": "y"
          },
          {
           "hovertemplate": "<b>%{hovertext}</b><br><br>Country Name=%{text}<br>Year=1993<br>Neerslag (mm/jaar)=%{x}<br>Uitstoot per ton geproduceerd (Mt/ton)=%{y}<extra></extra>",
           "hovertext": [
            "India"
           ],
           "legendgroup": "India",
           "marker": {
            "color": "#EF553B",
            "symbol": "circle"
           },
           "mode": "markers+text",
           "name": "India",
           "orientation": "v",
           "showlegend": true,
           "text": [
            "India"
           ],
           "type": "scatter",
           "x": {
            "bdata": "AAAAAADskEA=",
            "dtype": "f8"
           },
           "xaxis": "x",
           "y": {
            "bdata": "b6Y0dGQMkj4=",
            "dtype": "f8"
           },
           "yaxis": "y"
          },
          {
           "hovertemplate": "<b>%{hovertext}</b><br><br>Country Name=%{text}<br>Year=1993<br>Neerslag (mm/jaar)=%{x}<br>Uitstoot per ton geproduceerd (Mt/ton)=%{y}<extra></extra>",
           "hovertext": [
            "Indonesia"
           ],
           "legendgroup": "Indonesia",
           "marker": {
            "color": "#00cc96",
            "symbol": "circle"
           },
           "mode": "markers+text",
           "name": "Indonesia",
           "orientation": "v",
           "showlegend": true,
           "text": [
            "Indonesia"
           ],
           "type": "scatter",
           "x": {
            "bdata": "AAAAAAAcpUA=",
            "dtype": "f8"
           },
           "xaxis": "x",
           "y": {
            "bdata": "6YckcvCVYz4=",
            "dtype": "f8"
           },
           "yaxis": "y"
          },
          {
           "hovertemplate": "<b>%{hovertext}</b><br><br>Country Name=%{text}<br>Year=1993<br>Neerslag (mm/jaar)=%{x}<br>Uitstoot per ton geproduceerd (Mt/ton)=%{y}<extra></extra>",
           "hovertext": [
            "Japan"
           ],
           "legendgroup": "Japan",
           "marker": {
            "color": "#ab63fa",
            "symbol": "circle"
           },
           "mode": "markers+text",
           "name": "Japan",
           "orientation": "v",
           "showlegend": true,
           "text": [
            "Japan"
           ],
           "type": "scatter",
           "x": {
            "bdata": "AAAAAAAQmkA=",
            "dtype": "f8"
           },
           "xaxis": "x",
           "y": {
            "bdata": "mXNpjyCrgj4=",
            "dtype": "f8"
           },
           "yaxis": "y"
          },
          {
           "hovertemplate": "<b>%{hovertext}</b><br><br>Country Name=%{text}<br>Year=1993<br>Neerslag (mm/jaar)=%{x}<br>Uitstoot per ton geproduceerd (Mt/ton)=%{y}<extra></extra>",
           "hovertext": [
            "Nigeria"
           ],
           "legendgroup": "Nigeria",
           "marker": {
            "color": "#FFA15A",
            "symbol": "circle"
           },
           "mode": "markers+text",
           "name": "Nigeria",
           "orientation": "v",
           "showlegend": true,
           "text": [
            "Nigeria"
           ],
           "type": "scatter",
           "x": {
            "bdata": "AAAAAAD4kUA=",
            "dtype": "f8"
           },
           "xaxis": "x",
           "y": {
            "bdata": "QqjSVkkkMT4=",
            "dtype": "f8"
           },
           "yaxis": "y"
          },
          {
           "hovertemplate": "<b>%{hovertext}</b><br><br>Country Name=%{text}<br>Year=1993<br>Neerslag (mm/jaar)=%{x}<br>Uitstoot per ton geproduceerd (Mt/ton)=%{y}<extra></extra>",
           "hovertext": [
            "South Africa"
           ],
           "legendgroup": "South Africa",
           "marker": {
            "color": "#19d3f3",
            "symbol": "circle"
           },
           "mode": "markers+text",
           "name": "South Africa",
           "orientation": "v",
           "showlegend": true,
           "text": [
            "South Africa"
           ],
           "type": "scatter",
           "x": {
            "bdata": "AAAAAADwfkA=",
            "dtype": "f8"
           },
           "xaxis": "x",
           "y": {
            "bdata": "klRC+D6Qjj4=",
            "dtype": "f8"
           },
           "yaxis": "y"
          },
          {
           "hovertemplate": "<b>%{hovertext}</b><br><br>Country Name=%{text}<br>Year=1993<br>Neerslag (mm/jaar)=%{x}<br>Uitstoot per ton geproduceerd (Mt/ton)=%{y}<extra></extra>",
           "hovertext": [
            "United States of America"
           ],
           "legendgroup": "United States of America",
           "marker": {
            "color": "#FF6692",
            "symbol": "circle"
           },
           "mode": "markers+text",
           "name": "United States of America",
           "orientation": "v",
           "showlegend": true,
           "text": [
            "United States of America"
           ],
           "type": "scatter",
           "x": {
            "bdata": "AAAAAABYhkA=",
            "dtype": "f8"
           },
           "xaxis": "x",
           "y": {
            "bdata": "uPmLWWH4oj4=",
            "dtype": "f8"
           },
           "yaxis": "y"
          }
         ],
         "name": "1993"
        },
        {
         "data": [
          {
           "hovertemplate": "<b>%{hovertext}</b><br><br>Country Name=%{text}<br>Year=1994<br>Neerslag (mm/jaar)=%{x}<br>Uitstoot per ton geproduceerd (Mt/ton)=%{y}<extra></extra>",
           "hovertext": [
            "Brazil"
           ],
           "legendgroup": "Brazil",
           "marker": {
            "color": "#636efa",
            "symbol": "circle"
           },
           "mode": "markers+text",
           "name": "Brazil",
           "orientation": "v",
           "showlegend": true,
           "text": [
            "Brazil"
           ],
           "type": "scatter",
           "x": {
            "bdata": "AAAAAADYm0A=",
            "dtype": "f8"
           },
           "xaxis": "x",
           "y": {
            "bdata": "ryVatVcQcD4=",
            "dtype": "f8"
           },
           "yaxis": "y"
          },
          {
           "hovertemplate": "<b>%{hovertext}</b><br><br>Country Name=%{text}<br>Year=1994<br>Neerslag (mm/jaar)=%{x}<br>Uitstoot per ton geproduceerd (Mt/ton)=%{y}<extra></extra>",
           "hovertext": [
            "India"
           ],
           "legendgroup": "India",
           "marker": {
            "color": "#EF553B",
            "symbol": "circle"
           },
           "mode": "markers+text",
           "name": "India",
           "orientation": "v",
           "showlegend": true,
           "text": [
            "India"
           ],
           "type": "scatter",
           "x": {
            "bdata": "AAAAAADskEA=",
            "dtype": "f8"
           },
           "xaxis": "x",
           "y": {
            "bdata": "hUvVWR80kj4=",
            "dtype": "f8"
           },
           "yaxis": "y"
          },
          {
           "hovertemplate": "<b>%{hovertext}</b><br><br>Country Name=%{text}<br>Year=1994<br>Neerslag (mm/jaar)=%{x}<br>Uitstoot per ton geproduceerd (Mt/ton)=%{y}<extra></extra>",
           "hovertext": [
            "Indonesia"
           ],
           "legendgroup": "Indonesia",
           "marker": {
            "color": "#00cc96",
            "symbol": "circle"
           },
           "mode": "markers+text",
           "name": "Indonesia",
           "orientation": "v",
           "showlegend": true,
           "text": [
            "Indonesia"
           ],
           "type": "scatter",
           "x": {
            "bdata": "AAAAAAAcpUA=",
            "dtype": "f8"
           },
           "xaxis": "x",
           "y": {
            "bdata": "AuA9M8GCYz4=",
            "dtype": "f8"
           },
           "yaxis": "y"
          },
          {
           "hovertemplate": "<b>%{hovertext}</b><br><br>Country Name=%{text}<br>Year=1994<br>Neerslag (mm/jaar)=%{x}<br>Uitstoot per ton geproduceerd (Mt/ton)=%{y}<extra></extra>",
           "hovertext": [
            "Japan"
           ],
           "legendgroup": "Japan",
           "marker": {
            "color": "#ab63fa",
            "symbol": "circle"
           },
           "mode": "markers+text",
           "name": "Japan",
           "orientation": "v",
           "showlegend": true,
           "text": [
            "Japan"
           ],
           "type": "scatter",
           "x": {
            "bdata": "AAAAAAAQmkA=",
            "dtype": "f8"
           },
           "xaxis": "x",
           "y": {
            "bdata": "ICO8ARX/fj4=",
            "dtype": "f8"
           },
           "yaxis": "y"
          },
          {
           "hovertemplate": "<b>%{hovertext}</b><br><br>Country Name=%{text}<br>Year=1994<br>Neerslag (mm/jaar)=%{x}<br>Uitstoot per ton geproduceerd (Mt/ton)=%{y}<extra></extra>",
           "hovertext": [
            "Nigeria"
           ],
           "legendgroup": "Nigeria",
           "marker": {
            "color": "#FFA15A",
            "symbol": "circle"
           },
           "mode": "markers+text",
           "name": "Nigeria",
           "orientation": "v",
           "showlegend": true,
           "text": [
            "Nigeria"
           ],
           "type": "scatter",
           "x": {
            "bdata": "AAAAAAD4kUA=",
            "dtype": "f8"
           },
           "xaxis": "x",
           "y": {
            "bdata": "CyymthffLT4=",
            "dtype": "f8"
           },
           "yaxis": "y"
          },
          {
           "hovertemplate": "<b>%{hovertext}</b><br><br>Country Name=%{text}<br>Year=1994<br>Neerslag (mm/jaar)=%{x}<br>Uitstoot per ton geproduceerd (Mt/ton)=%{y}<extra></extra>",
           "hovertext": [
            "South Africa"
           ],
           "legendgroup": "South Africa",
           "marker": {
            "color": "#19d3f3",
            "symbol": "circle"
           },
           "mode": "markers+text",
           "name": "South Africa",
           "orientation": "v",
           "showlegend": true,
           "text": [
            "South Africa"
           ],
           "type": "scatter",
           "x": {
            "bdata": "AAAAAADwfkA=",
            "dtype": "f8"
           },
           "xaxis": "x",
           "y": {
            "bdata": "K9g7eKuniD4=",
            "dtype": "f8"
           },
           "yaxis": "y"
          },
          {
           "hovertemplate": "<b>%{hovertext}</b><br><br>Country Name=%{text}<br>Year=1994<br>Neerslag (mm/jaar)=%{x}<br>Uitstoot per ton geproduceerd (Mt/ton)=%{y}<extra></extra>",
           "hovertext": [
            "United States of America"
           ],
           "legendgroup": "United States of America",
           "marker": {
            "color": "#FF6692",
            "symbol": "circle"
           },
           "mode": "markers+text",
           "name": "United States of America",
           "orientation": "v",
           "showlegend": true,
           "text": [
            "United States of America"
           ],
           "type": "scatter",
           "x": {
            "bdata": "AAAAAABYhkA=",
            "dtype": "f8"
           },
           "xaxis": "x",
           "y": {
            "bdata": "eoQ4z50PoT4=",
            "dtype": "f8"
           },
           "yaxis": "y"
          }
         ],
         "name": "1994"
        },
        {
         "data": [
          {
           "hovertemplate": "<b>%{hovertext}</b><br><br>Country Name=%{text}<br>Year=1995<br>Neerslag (mm/jaar)=%{x}<br>Uitstoot per ton geproduceerd (Mt/ton)=%{y}<extra></extra>",
           "hovertext": [
            "Brazil"
           ],
           "legendgroup": "Brazil",
           "marker": {
            "color": "#636efa",
            "symbol": "circle"
           },
           "mode": "markers+text",
           "name": "Brazil",
           "orientation": "v",
           "showlegend": true,
           "text": [
            "Brazil"
           ],
           "type": "scatter",
           "x": {
            "bdata": "AAAAAADYm0A=",
            "dtype": "f8"
           },
           "xaxis": "x",
           "y": {
            "bdata": "oQ2K17R3bj4=",
            "dtype": "f8"
           },
           "yaxis": "y"
          },
          {
           "hovertemplate": "<b>%{hovertext}</b><br><br>Country Name=%{text}<br>Year=1995<br>Neerslag (mm/jaar)=%{x}<br>Uitstoot per ton geproduceerd (Mt/ton)=%{y}<extra></extra>",
           "hovertext": [
            "India"
           ],
           "legendgroup": "India",
           "marker": {
            "color": "#EF553B",
            "symbol": "circle"
           },
           "mode": "markers+text",
           "name": "India",
           "orientation": "v",
           "showlegend": true,
           "text": [
            "India"
           ],
           "type": "scatter",
           "x": {
            "bdata": "AAAAAADskEA=",
            "dtype": "f8"
           },
           "xaxis": "x",
           "y": {
            "bdata": "odR073DWkD4=",
            "dtype": "f8"
           },
           "yaxis": "y"
          },
          {
           "hovertemplate": "<b>%{hovertext}</b><br><br>Country Name=%{text}<br>Year=1995<br>Neerslag (mm/jaar)=%{x}<br>Uitstoot per ton geproduceerd (Mt/ton)=%{y}<extra></extra>",
           "hovertext": [
            "Indonesia"
           ],
           "legendgroup": "Indonesia",
           "marker": {
            "color": "#00cc96",
            "symbol": "circle"
           },
           "mode": "markers+text",
           "name": "Indonesia",
           "orientation": "v",
           "showlegend": true,
           "text": [
            "Indonesia"
           ],
           "type": "scatter",
           "x": {
            "bdata": "AAAAAAAcpUA=",
            "dtype": "f8"
           },
           "xaxis": "x",
           "y": {
            "bdata": "5VgZxuUhZD4=",
            "dtype": "f8"
           },
           "yaxis": "y"
          },
          {
           "hovertemplate": "<b>%{hovertext}</b><br><br>Country Name=%{text}<br>Year=1995<br>Neerslag (mm/jaar)=%{x}<br>Uitstoot per ton geproduceerd (Mt/ton)=%{y}<extra></extra>",
           "hovertext": [
            "Japan"
           ],
           "legendgroup": "Japan",
           "marker": {
            "color": "#ab63fa",
            "symbol": "circle"
           },
           "mode": "markers+text",
           "name": "Japan",
           "orientation": "v",
           "showlegend": true,
           "text": [
            "Japan"
           ],
           "type": "scatter",
           "x": {
            "bdata": "AAAAAAAQmkA=",
            "dtype": "f8"
           },
           "xaxis": "x",
           "y": {
            "bdata": "TLKRX/l2fj4=",
            "dtype": "f8"
           },
           "yaxis": "y"
          },
          {
           "hovertemplate": "<b>%{hovertext}</b><br><br>Country Name=%{text}<br>Year=1995<br>Neerslag (mm/jaar)=%{x}<br>Uitstoot per ton geproduceerd (Mt/ton)=%{y}<extra></extra>",
           "hovertext": [
            "Nigeria"
           ],
           "legendgroup": "Nigeria",
           "marker": {
            "color": "#FFA15A",
            "symbol": "circle"
           },
           "mode": "markers+text",
           "name": "Nigeria",
           "orientation": "v",
           "showlegend": true,
           "text": [
            "Nigeria"
           ],
           "type": "scatter",
           "x": {
            "bdata": "AAAAAAD4kUA=",
            "dtype": "f8"
           },
           "xaxis": "x",
           "y": {
            "bdata": "M5V2qoUXMD4=",
            "dtype": "f8"
           },
           "yaxis": "y"
          },
          {
           "hovertemplate": "<b>%{hovertext}</b><br><br>Country Name=%{text}<br>Year=1995<br>Neerslag (mm/jaar)=%{x}<br>Uitstoot per ton geproduceerd (Mt/ton)=%{y}<extra></extra>",
           "hovertext": [
            "South Africa"
           ],
           "legendgroup": "South Africa",
           "marker": {
            "color": "#19d3f3",
            "symbol": "circle"
           },
           "mode": "markers+text",
           "name": "South Africa",
           "orientation": "v",
           "showlegend": true,
           "text": [
            "South Africa"
           ],
           "type": "scatter",
           "x": {
            "bdata": "AAAAAADwfkA=",
            "dtype": "f8"
           },
           "xaxis": "x",
           "y": {
            "bdata": "doIUZ/ptiz4=",
            "dtype": "f8"
           },
           "yaxis": "y"
          },
          {
           "hovertemplate": "<b>%{hovertext}</b><br><br>Country Name=%{text}<br>Year=1995<br>Neerslag (mm/jaar)=%{x}<br>Uitstoot per ton geproduceerd (Mt/ton)=%{y}<extra></extra>",
           "hovertext": [
            "United States of America"
           ],
           "legendgroup": "United States of America",
           "marker": {
            "color": "#FF6692",
            "symbol": "circle"
           },
           "mode": "markers+text",
           "name": "United States of America",
           "orientation": "v",
           "showlegend": true,
           "text": [
            "United States of America"
           ],
           "type": "scatter",
           "x": {
            "bdata": "AAAAAABYhkA=",
            "dtype": "f8"
           },
           "xaxis": "x",
           "y": {
            "bdata": "1NXcoR91oT4=",
            "dtype": "f8"
           },
           "yaxis": "y"
          }
         ],
         "name": "1995"
        },
        {
         "data": [
          {
           "hovertemplate": "<b>%{hovertext}</b><br><br>Country Name=%{text}<br>Year=1996<br>Neerslag (mm/jaar)=%{x}<br>Uitstoot per ton geproduceerd (Mt/ton)=%{y}<extra></extra>",
           "hovertext": [
            "Brazil"
           ],
           "legendgroup": "Brazil",
           "marker": {
            "color": "#636efa",
            "symbol": "circle"
           },
           "mode": "markers+text",
           "name": "Brazil",
           "orientation": "v",
           "showlegend": true,
           "text": [
            "Brazil"
           ],
           "type": "scatter",
           "x": {
            "bdata": "AAAAAADYm0A=",
            "dtype": "f8"
           },
           "xaxis": "x",
           "y": {
            "bdata": "hUcGGEIbcT4=",
            "dtype": "f8"
           },
           "yaxis": "y"
          },
          {
           "hovertemplate": "<b>%{hovertext}</b><br><br>Country Name=%{text}<br>Year=1996<br>Neerslag (mm/jaar)=%{x}<br>Uitstoot per ton geproduceerd (Mt/ton)=%{y}<extra></extra>",
           "hovertext": [
            "India"
           ],
           "legendgroup": "India",
           "marker": {
            "color": "#EF553B",
            "symbol": "circle"
           },
           "mode": "markers+text",
           "name": "India",
           "orientation": "v",
           "showlegend": true,
           "text": [
            "India"
           ],
           "type": "scatter",
           "x": {
            "bdata": "AAAAAADskEA=",
            "dtype": "f8"
           },
           "xaxis": "x",
           "y": {
            "bdata": "IlmD5jIhkD4=",
            "dtype": "f8"
           },
           "yaxis": "y"
          },
          {
           "hovertemplate": "<b>%{hovertext}</b><br><br>Country Name=%{text}<br>Year=1996<br>Neerslag (mm/jaar)=%{x}<br>Uitstoot per ton geproduceerd (Mt/ton)=%{y}<extra></extra>",
           "hovertext": [
            "Indonesia"
           ],
           "legendgroup": "Indonesia",
           "marker": {
            "color": "#00cc96",
            "symbol": "circle"
           },
           "mode": "markers+text",
           "name": "Indonesia",
           "orientation": "v",
           "showlegend": true,
           "text": [
            "Indonesia"
           ],
           "type": "scatter",
           "x": {
            "bdata": "AAAAAAAcpUA=",
            "dtype": "f8"
           },
           "xaxis": "x",
           "y": {
            "bdata": "tdfP93hBZT4=",
            "dtype": "f8"
           },
           "yaxis": "y"
          },
          {
           "hovertemplate": "<b>%{hovertext}</b><br><br>Country Name=%{text}<br>Year=1996<br>Neerslag (mm/jaar)=%{x}<br>Uitstoot per ton geproduceerd (Mt/ton)=%{y}<extra></extra>",
           "hovertext": [
            "Japan"
           ],
           "legendgroup": "Japan",
           "marker": {
            "color": "#ab63fa",
            "symbol": "circle"
           },
           "mode": "markers+text",
           "name": "Japan",
           "orientation": "v",
           "showlegend": true,
           "text": [
            "Japan"
           ],
           "type": "scatter",
           "x": {
            "bdata": "AAAAAAAQmkA=",
            "dtype": "f8"
           },
           "xaxis": "x",
           "y": {
            "bdata": "GZGBvWmVgD4=",
            "dtype": "f8"
           },
           "yaxis": "y"
          },
          {
           "hovertemplate": "<b>%{hovertext}</b><br><br>Country Name=%{text}<br>Year=1996<br>Neerslag (mm/jaar)=%{x}<br>Uitstoot per ton geproduceerd (Mt/ton)=%{y}<extra></extra>",
           "hovertext": [
            "Nigeria"
           ],
           "legendgroup": "Nigeria",
           "marker": {
            "color": "#FFA15A",
            "symbol": "circle"
           },
           "mode": "markers+text",
           "name": "Nigeria",
           "orientation": "v",
           "showlegend": true,
           "text": [
            "Nigeria"
           ],
           "type": "scatter",
           "x": {
            "bdata": "AAAAAAD4kUA=",
            "dtype": "f8"
           },
           "xaxis": "x",
           "y": {
            "bdata": "oqYh8nvDMT4=",
            "dtype": "f8"
           },
           "yaxis": "y"
          },
          {
           "hovertemplate": "<b>%{hovertext}</b><br><br>Country Name=%{text}<br>Year=1996<br>Neerslag (mm/jaar)=%{x}<br>Uitstoot per ton geproduceerd (Mt/ton)=%{y}<extra></extra>",
           "hovertext": [
            "South Africa"
           ],
           "legendgroup": "South Africa",
           "marker": {
            "color": "#19d3f3",
            "symbol": "circle"
           },
           "mode": "markers+text",
           "name": "South Africa",
           "orientation": "v",
           "showlegend": true,
           "text": [
            "South Africa"
           ],
           "type": "scatter",
           "x": {
            "bdata": "AAAAAADwfkA=",
            "dtype": "f8"
           },
           "xaxis": "x",
           "y": {
            "bdata": "3oqa/Q14hz4=",
            "dtype": "f8"
           },
           "yaxis": "y"
          },
          {
           "hovertemplate": "<b>%{hovertext}</b><br><br>Country Name=%{text}<br>Year=1996<br>Neerslag (mm/jaar)=%{x}<br>Uitstoot per ton geproduceerd (Mt/ton)=%{y}<extra></extra>",
           "hovertext": [
            "United States of America"
           ],
           "legendgroup": "United States of America",
           "marker": {
            "color": "#FF6692",
            "symbol": "circle"
           },
           "mode": "markers+text",
           "name": "United States of America",
           "orientation": "v",
           "showlegend": true,
           "text": [
            "United States of America"
           ],
           "type": "scatter",
           "x": {
            "bdata": "AAAAAABYhkA=",
            "dtype": "f8"
           },
           "xaxis": "x",
           "y": {
            "bdata": "yk+BctlQoT4=",
            "dtype": "f8"
           },
           "yaxis": "y"
          }
         ],
         "name": "1996"
        },
        {
         "data": [
          {
           "hovertemplate": "<b>%{hovertext}</b><br><br>Country Name=%{text}<br>Year=1997<br>Neerslag (mm/jaar)=%{x}<br>Uitstoot per ton geproduceerd (Mt/ton)=%{y}<extra></extra>",
           "hovertext": [
            "Brazil"
           ],
           "legendgroup": "Brazil",
           "marker": {
            "color": "#636efa",
            "symbol": "circle"
           },
           "mode": "markers+text",
           "name": "Brazil",
           "orientation": "v",
           "showlegend": true,
           "text": [
            "Brazil"
           ],
           "type": "scatter",
           "x": {
            "bdata": "AAAAAACEm0A=",
            "dtype": "f8"
           },
           "xaxis": "x",
           "y": {
            "bdata": "4eDWekGBbz4=",
            "dtype": "f8"
           },
           "yaxis": "y"
          },
          {
           "hovertemplate": "<b>%{hovertext}</b><br><br>Country Name=%{text}<br>Year=1997<br>Neerslag (mm/jaar)=%{x}<br>Uitstoot per ton geproduceerd (Mt/ton)=%{y}<extra></extra>",
           "hovertext": [
            "India"
           ],
           "legendgroup": "India",
           "marker": {
            "color": "#EF553B",
            "symbol": "circle"
           },
           "mode": "markers+text",
           "name": "India",
           "orientation": "v",
           "showlegend": true,
           "text": [
            "India"
           ],
           "type": "scatter",
           "x": {
            "bdata": "AAAAAADskEA=",
            "dtype": "f8"
           },
           "xaxis": "x",
           "y": {
            "bdata": "ZOZw0lGjkD4=",
            "dtype": "f8"
           },
           "yaxis": "y"
          },
          {
           "hovertemplate": "<b>%{hovertext}</b><br><br>Country Name=%{text}<br>Year=1997<br>Neerslag (mm/jaar)=%{x}<br>Uitstoot per ton geproduceerd (Mt/ton)=%{y}<extra></extra>",
           "hovertext": [
            "Indonesia"
           ],
           "legendgroup": "Indonesia",
           "marker": {
            "color": "#00cc96",
            "symbol": "circle"
           },
           "mode": "markers+text",
           "name": "Indonesia",
           "orientation": "v",
           "showlegend": true,
           "text": [
            "Indonesia"
           ],
           "type": "scatter",
           "x": {
            "bdata": "AAAAAAAcpUA=",
            "dtype": "f8"
           },
           "xaxis": "x",
           "y": {
            "bdata": "7FsdTHO6Yz4=",
            "dtype": "f8"
           },
           "yaxis": "y"
          },
          {
           "hovertemplate": "<b>%{hovertext}</b><br><br>Country Name=%{text}<br>Year=1997<br>Neerslag (mm/jaar)=%{x}<br>Uitstoot per ton geproduceerd (Mt/ton)=%{y}<extra></extra>",
           "hovertext": [
            "Japan"
           ],
           "legendgroup": "Japan",
           "marker": {
            "color": "#ab63fa",
            "symbol": "circle"
           },
           "mode": "markers+text",
           "name": "Japan",
           "orientation": "v",
           "showlegend": true,
           "text": [
            "Japan"
           ],
           "type": "scatter",
           "x": {
            "bdata": "AAAAAAAQmkA=",
            "dtype": "f8"
           },
           "xaxis": "x",
           "y": {
            "bdata": "eEV/iUxKgD4=",
            "dtype": "f8"
           },
           "yaxis": "y"
          },
          {
           "hovertemplate": "<b>%{hovertext}</b><br><br>Country Name=%{text}<br>Year=1997<br>Neerslag (mm/jaar)=%{x}<br>Uitstoot per ton geproduceerd (Mt/ton)=%{y}<extra></extra>",
           "hovertext": [
            "Nigeria"
           ],
           "legendgroup": "Nigeria",
           "marker": {
            "color": "#FFA15A",
            "symbol": "circle"
           },
           "mode": "markers+text",
           "name": "Nigeria",
           "orientation": "v",
           "showlegend": true,
           "text": [
            "Nigeria"
           ],
           "type": "scatter",
           "x": {
            "bdata": "AAAAAAD4kUA=",
            "dtype": "f8"
           },
           "xaxis": "x",
           "y": {
            "bdata": "+yogKTPvMj4=",
            "dtype": "f8"
           },
           "yaxis": "y"
          },
          {
           "hovertemplate": "<b>%{hovertext}</b><br><br>Country Name=%{text}<br>Year=1997<br>Neerslag (mm/jaar)=%{x}<br>Uitstoot per ton geproduceerd (Mt/ton)=%{y}<extra></extra>",
           "hovertext": [
            "South Africa"
           ],
           "legendgroup": "South Africa",
           "marker": {
            "color": "#19d3f3",
            "symbol": "circle"
           },
           "mode": "markers+text",
           "name": "South Africa",
           "orientation": "v",
           "showlegend": true,
           "text": [
            "South Africa"
           ],
           "type": "scatter",
           "x": {
            "bdata": "AAAAAADwfkA=",
            "dtype": "f8"
           },
           "xaxis": "x",
           "y": {
            "bdata": "iHnzUE5Vhz4=",
            "dtype": "f8"
           },
           "yaxis": "y"
          },
          {
           "hovertemplate": "<b>%{hovertext}</b><br><br>Country Name=%{text}<br>Year=1997<br>Neerslag (mm/jaar)=%{x}<br>Uitstoot per ton geproduceerd (Mt/ton)=%{y}<extra></extra>",
           "hovertext": [
            "United States of America"
           ],
           "legendgroup": "United States of America",
           "marker": {
            "color": "#FF6692",
            "symbol": "circle"
           },
           "mode": "markers+text",
           "name": "United States of America",
           "orientation": "v",
           "showlegend": true,
           "text": [
            "United States of America"
           ],
           "type": "scatter",
           "x": {
            "bdata": "AAAAAABYhkA=",
            "dtype": "f8"
           },
           "xaxis": "x",
           "y": {
            "bdata": "ETl9Z22yoT4=",
            "dtype": "f8"
           },
           "yaxis": "y"
          }
         ],
         "name": "1997"
        },
        {
         "data": [
          {
           "hovertemplate": "<b>%{hovertext}</b><br><br>Country Name=%{text}<br>Year=1998<br>Neerslag (mm/jaar)=%{x}<br>Uitstoot per ton geproduceerd (Mt/ton)=%{y}<extra></extra>",
           "hovertext": [
            "Brazil"
           ],
           "legendgroup": "Brazil",
           "marker": {
            "color": "#636efa",
            "symbol": "circle"
           },
           "mode": "markers+text",
           "name": "Brazil",
           "orientation": "v",
           "showlegend": true,
           "text": [
            "Brazil"
           ],
           "type": "scatter",
           "x": {
            "bdata": "AAAAAADYm0A=",
            "dtype": "f8"
           },
           "xaxis": "x",
           "y": {
            "bdata": "SwVk1Yj2bj4=",
            "dtype": "f8"
           },
           "yaxis": "y"
          },
          {
           "hovertemplate": "<b>%{hovertext}</b><br><br>Country Name=%{text}<br>Year=1998<br>Neerslag (mm/jaar)=%{x}<br>Uitstoot per ton geproduceerd (Mt/ton)=%{y}<extra></extra>",
           "hovertext": [
            "India"
           ],
           "legendgroup": "India",
           "marker": {
            "color": "#EF553B",
            "symbol": "circle"
           },
           "mode": "markers+text",
           "name": "India",
           "orientation": "v",
           "showlegend": true,
           "text": [
            "India"
           ],
           "type": "scatter",
           "x": {
            "bdata": "AAAAAADskEA=",
            "dtype": "f8"
           },
           "xaxis": "x",
           "y": {
            "bdata": "KsC740W/kD4=",
            "dtype": "f8"
           },
           "yaxis": "y"
          },
          {
           "hovertemplate": "<b>%{hovertext}</b><br><br>Country Name=%{text}<br>Year=1998<br>Neerslag (mm/jaar)=%{x}<br>Uitstoot per ton geproduceerd (Mt/ton)=%{y}<extra></extra>",
           "hovertext": [
            "Indonesia"
           ],
           "legendgroup": "Indonesia",
           "marker": {
            "color": "#00cc96",
            "symbol": "circle"
           },
           "mode": "markers+text",
           "name": "Indonesia",
           "orientation": "v",
           "showlegend": true,
           "text": [
            "Indonesia"
           ],
           "type": "scatter",
           "x": {
            "bdata": "AAAAAAAcpUA=",
            "dtype": "f8"
           },
           "xaxis": "x",
           "y": {
            "bdata": "MOuNWKe9ZD4=",
            "dtype": "f8"
           },
           "yaxis": "y"
          },
          {
           "hovertemplate": "<b>%{hovertext}</b><br><br>Country Name=%{text}<br>Year=1998<br>Neerslag (mm/jaar)=%{x}<br>Uitstoot per ton geproduceerd (Mt/ton)=%{y}<extra></extra>",
           "hovertext": [
            "Japan"
           ],
           "legendgroup": "Japan",
           "marker": {
            "color": "#ab63fa",
            "symbol": "circle"
           },
           "mode": "markers+text",
           "name": "Japan",
           "orientation": "v",
           "showlegend": true,
           "text": [
            "Japan"
           ],
           "type": "scatter",
           "x": {
            "bdata": "AAAAAAAQmkA=",
            "dtype": "f8"
           },
           "xaxis": "x",
           "y": {
            "bdata": "dTh70A9wgD4=",
            "dtype": "f8"
           },
           "yaxis": "y"
          },
          {
           "hovertemplate": "<b>%{hovertext}</b><br><br>Country Name=%{text}<br>Year=1998<br>Neerslag (mm/jaar)=%{x}<br>Uitstoot per ton geproduceerd (Mt/ton)=%{y}<extra></extra>",
           "hovertext": [
            "Nigeria"
           ],
           "legendgroup": "Nigeria",
           "marker": {
            "color": "#FFA15A",
            "symbol": "circle"
           },
           "mode": "markers+text",
           "name": "Nigeria",
           "orientation": "v",
           "showlegend": true,
           "text": [
            "Nigeria"
           ],
           "type": "scatter",
           "x": {
            "bdata": "AAAAAAD4kUA=",
            "dtype": "f8"
           },
           "xaxis": "x",
           "y": {
            "bdata": "mdEFvBvAOT4=",
            "dtype": "f8"
           },
           "yaxis": "y"
          },
          {
           "hovertemplate": "<b>%{hovertext}</b><br><br>Country Name=%{text}<br>Year=1998<br>Neerslag (mm/jaar)=%{x}<br>Uitstoot per ton geproduceerd (Mt/ton)=%{y}<extra></extra>",
           "hovertext": [
            "South Africa"
           ],
           "legendgroup": "South Africa",
           "marker": {
            "color": "#19d3f3",
            "symbol": "circle"
           },
           "mode": "markers+text",
           "name": "South Africa",
           "orientation": "v",
           "showlegend": true,
           "text": [
            "South Africa"
           ],
           "type": "scatter",
           "x": {
            "bdata": "AAAAAADwfkA=",
            "dtype": "f8"
           },
           "xaxis": "x",
           "y": {
            "bdata": "s4To2ocRgD4=",
            "dtype": "f8"
           },
           "yaxis": "y"
          },
          {
           "hovertemplate": "<b>%{hovertext}</b><br><br>Country Name=%{text}<br>Year=1998<br>Neerslag (mm/jaar)=%{x}<br>Uitstoot per ton geproduceerd (Mt/ton)=%{y}<extra></extra>",
           "hovertext": [
            "United States of America"
           ],
           "legendgroup": "United States of America",
           "marker": {
            "color": "#FF6692",
            "symbol": "circle"
           },
           "mode": "markers+text",
           "name": "United States of America",
           "orientation": "v",
           "showlegend": true,
           "text": [
            "United States of America"
           ],
           "type": "scatter",
           "x": {
            "bdata": "AAAAAABYhkA=",
            "dtype": "f8"
           },
           "xaxis": "x",
           "y": {
            "bdata": "/vwexN3poD4=",
            "dtype": "f8"
           },
           "yaxis": "y"
          }
         ],
         "name": "1998"
        },
        {
         "data": [
          {
           "hovertemplate": "<b>%{hovertext}</b><br><br>Country Name=%{text}<br>Year=1999<br>Neerslag (mm/jaar)=%{x}<br>Uitstoot per ton geproduceerd (Mt/ton)=%{y}<extra></extra>",
           "hovertext": [
            "Brazil"
           ],
           "legendgroup": "Brazil",
           "marker": {
            "color": "#636efa",
            "symbol": "circle"
           },
           "mode": "markers+text",
           "name": "Brazil",
           "orientation": "v",
           "showlegend": true,
           "text": [
            "Brazil"
           ],
           "type": "scatter",
           "x": {
            "bdata": "AAAAAADYm0A=",
            "dtype": "f8"
           },
           "xaxis": "x",
           "y": {
            "bdata": "LKBsCpyybj4=",
            "dtype": "f8"
           },
           "yaxis": "y"
          },
          {
           "hovertemplate": "<b>%{hovertext}</b><br><br>Country Name=%{text}<br>Year=1999<br>Neerslag (mm/jaar)=%{x}<br>Uitstoot per ton geproduceerd (Mt/ton)=%{y}<extra></extra>",
           "hovertext": [
            "India"
           ],
           "legendgroup": "India",
           "marker": {
            "color": "#EF553B",
            "symbol": "circle"
           },
           "mode": "markers+text",
           "name": "India",
           "orientation": "v",
           "showlegend": true,
           "text": [
            "India"
           ],
           "type": "scatter",
           "x": {
            "bdata": "AAAAAADskEA=",
            "dtype": "f8"
           },
           "xaxis": "x",
           "y": {
            "bdata": "wtCj+NbHjz4=",
            "dtype": "f8"
           },
           "yaxis": "y"
          },
          {
           "hovertemplate": "<b>%{hovertext}</b><br><br>Country Name=%{text}<br>Year=1999<br>Neerslag (mm/jaar)=%{x}<br>Uitstoot per ton geproduceerd (Mt/ton)=%{y}<extra></extra>",
           "hovertext": [
            "Indonesia"
           ],
           "legendgroup": "Indonesia",
           "marker": {
            "color": "#00cc96",
            "symbol": "circle"
           },
           "mode": "markers+text",
           "name": "Indonesia",
           "orientation": "v",
           "showlegend": true,
           "text": [
            "Indonesia"
           ],
           "type": "scatter",
           "x": {
            "bdata": "AAAAAAAcpUA=",
            "dtype": "f8"
           },
           "xaxis": "x",
           "y": {
            "bdata": "f3K5taGyZj4=",
            "dtype": "f8"
           },
           "yaxis": "y"
          },
          {
           "hovertemplate": "<b>%{hovertext}</b><br><br>Country Name=%{text}<br>Year=1999<br>Neerslag (mm/jaar)=%{x}<br>Uitstoot per ton geproduceerd (Mt/ton)=%{y}<extra></extra>",
           "hovertext": [
            "Japan"
           ],
           "legendgroup": "Japan",
           "marker": {
            "color": "#ab63fa",
            "symbol": "circle"
           },
           "mode": "markers+text",
           "name": "Japan",
           "orientation": "v",
           "showlegend": true,
           "text": [
            "Japan"
           ],
           "type": "scatter",
           "x": {
            "bdata": "AAAAAAAQmkA=",
            "dtype": "f8"
           },
           "xaxis": "x",
           "y": {
            "bdata": "VoNJHUVogT4=",
            "dtype": "f8"
           },
           "yaxis": "y"
          },
          {
           "hovertemplate": "<b>%{hovertext}</b><br><br>Country Name=%{text}<br>Year=1999<br>Neerslag (mm/jaar)=%{x}<br>Uitstoot per ton geproduceerd (Mt/ton)=%{y}<extra></extra>",
           "hovertext": [
            "Nigeria"
           ],
           "legendgroup": "Nigeria",
           "marker": {
            "color": "#FFA15A",
            "symbol": "circle"
           },
           "mode": "markers+text",
           "name": "Nigeria",
           "orientation": "v",
           "showlegend": true,
           "text": [
            "Nigeria"
           ],
           "type": "scatter",
           "x": {
            "bdata": "AAAAAAD4kUA=",
            "dtype": "f8"
           },
           "xaxis": "x",
           "y": {
            "bdata": "PAA5kG4eRD4=",
            "dtype": "f8"
           },
           "yaxis": "y"
          },
          {
           "hovertemplate": "<b>%{hovertext}</b><br><br>Country Name=%{text}<br>Year=1999<br>Neerslag (mm/jaar)=%{x}<br>Uitstoot per ton geproduceerd (Mt/ton)=%{y}<extra></extra>",
           "hovertext": [
            "South Africa"
           ],
           "legendgroup": "South Africa",
           "marker": {
            "color": "#19d3f3",
            "symbol": "circle"
           },
           "mode": "markers+text",
           "name": "South Africa",
           "orientation": "v",
           "showlegend": true,
           "text": [
            "South Africa"
           ],
           "type": "scatter",
           "x": {
            "bdata": "AAAAAADwfkA=",
            "dtype": "f8"
           },
           "xaxis": "x",
           "y": {
            "bdata": "fG/tMgC8fz4=",
            "dtype": "f8"
           },
           "yaxis": "y"
          },
          {
           "hovertemplate": "<b>%{hovertext}</b><br><br>Country Name=%{text}<br>Year=1999<br>Neerslag (mm/jaar)=%{x}<br>Uitstoot per ton geproduceerd (Mt/ton)=%{y}<extra></extra>",
           "hovertext": [
            "United States of America"
           ],
           "legendgroup": "United States of America",
           "marker": {
            "color": "#FF6692",
            "symbol": "circle"
           },
           "mode": "markers+text",
           "name": "United States of America",
           "orientation": "v",
           "showlegend": true,
           "text": [
            "United States of America"
           ],
           "type": "scatter",
           "x": {
            "bdata": "AAAAAABYhkA=",
            "dtype": "f8"
           },
           "xaxis": "x",
           "y": {
            "bdata": "2g0R3zHznz4=",
            "dtype": "f8"
           },
           "yaxis": "y"
          }
         ],
         "name": "1999"
        },
        {
         "data": [
          {
           "hovertemplate": "<b>%{hovertext}</b><br><br>Country Name=%{text}<br>Year=2000<br>Neerslag (mm/jaar)=%{x}<br>Uitstoot per ton geproduceerd (Mt/ton)=%{y}<extra></extra>",
           "hovertext": [
            "Brazil"
           ],
           "legendgroup": "Brazil",
           "marker": {
            "color": "#636efa",
            "symbol": "circle"
           },
           "mode": "markers+text",
           "name": "Brazil",
           "orientation": "v",
           "showlegend": true,
           "text": [
            "Brazil"
           ],
           "type": "scatter",
           "x": {
            "bdata": "AAAAAADYm0A=",
            "dtype": "f8"
           },
           "xaxis": "x",
           "y": {
            "bdata": "8l5l2pMSbj4=",
            "dtype": "f8"
           },
           "yaxis": "y"
          },
          {
           "hovertemplate": "<b>%{hovertext}</b><br><br>Country Name=%{text}<br>Year=2000<br>Neerslag (mm/jaar)=%{x}<br>Uitstoot per ton geproduceerd (Mt/ton)=%{y}<extra></extra>",
           "hovertext": [
            "India"
           ],
           "legendgroup": "India",
           "marker": {
            "color": "#EF553B",
            "symbol": "circle"
           },
           "mode": "markers+text",
           "name": "India",
           "orientation": "v",
           "showlegend": true,
           "text": [
            "India"
           ],
           "type": "scatter",
           "x": {
            "bdata": "AAAAAADskEA=",
            "dtype": "f8"
           },
           "xaxis": "x",
           "y": {
            "bdata": "nwRkeLmCkD4=",
            "dtype": "f8"
           },
           "yaxis": "y"
          },
          {
           "hovertemplate": "<b>%{hovertext}</b><br><br>Country Name=%{text}<br>Year=2000<br>Neerslag (mm/jaar)=%{x}<br>Uitstoot per ton geproduceerd (Mt/ton)=%{y}<extra></extra>",
           "hovertext": [
            "Indonesia"
           ],
           "legendgroup": "Indonesia",
           "marker": {
            "color": "#00cc96",
            "symbol": "circle"
           },
           "mode": "markers+text",
           "name": "Indonesia",
           "orientation": "v",
           "showlegend": true,
           "text": [
            "Indonesia"
           ],
           "type": "scatter",
           "x": {
            "bdata": "AAAAAAAcpUA=",
            "dtype": "f8"
           },
           "xaxis": "x",
           "y": {
            "bdata": "L9Us+/uGZD4=",
            "dtype": "f8"
           },
           "yaxis": "y"
          },
          {
           "hovertemplate": "<b>%{hovertext}</b><br><br>Country Name=%{text}<br>Year=2000<br>Neerslag (mm/jaar)=%{x}<br>Uitstoot per ton geproduceerd (Mt/ton)=%{y}<extra></extra>",
           "hovertext": [
            "Japan"
           ],
           "legendgroup": "Japan",
           "marker": {
            "color": "#ab63fa",
            "symbol": "circle"
           },
           "mode": "markers+text",
           "name": "Japan",
           "orientation": "v",
           "showlegend": true,
           "text": [
            "Japan"
           ],
           "type": "scatter",
           "x": {
            "bdata": "AAAAAAAQmkA=",
            "dtype": "f8"
           },
           "xaxis": "x",
           "y": {
            "bdata": "w9Qil8Qfgz4=",
            "dtype": "f8"
           },
           "yaxis": "y"
          },
          {
           "hovertemplate": "<b>%{hovertext}</b><br><br>Country Name=%{text}<br>Year=2000<br>Neerslag (mm/jaar)=%{x}<br>Uitstoot per ton geproduceerd (Mt/ton)=%{y}<extra></extra>",
           "hovertext": [
            "Nigeria"
           ],
           "legendgroup": "Nigeria",
           "marker": {
            "color": "#FFA15A",
            "symbol": "circle"
           },
           "mode": "markers+text",
           "name": "Nigeria",
           "orientation": "v",
           "showlegend": true,
           "text": [
            "Nigeria"
           ],
           "type": "scatter",
           "x": {
            "bdata": "AAAAAAD4kUA=",
            "dtype": "f8"
           },
           "xaxis": "x",
           "y": {
            "bdata": "/+7wUISiQz4=",
            "dtype": "f8"
           },
           "yaxis": "y"
          },
          {
           "hovertemplate": "<b>%{hovertext}</b><br><br>Country Name=%{text}<br>Year=2000<br>Neerslag (mm/jaar)=%{x}<br>Uitstoot per ton geproduceerd (Mt/ton)=%{y}<extra></extra>",
           "hovertext": [
            "South Africa"
           ],
           "legendgroup": "South Africa",
           "marker": {
            "color": "#19d3f3",
            "symbol": "circle"
           },
           "mode": "markers+text",
           "name": "South Africa",
           "orientation": "v",
           "showlegend": true,
           "text": [
            "South Africa"
           ],
           "type": "scatter",
           "x": {
            "bdata": "AAAAAADwfkA=",
            "dtype": "f8"
           },
           "xaxis": "x",
           "y": {
            "bdata": "XOTKWsDygT4=",
            "dtype": "f8"
           },
           "yaxis": "y"
          },
          {
           "hovertemplate": "<b>%{hovertext}</b><br><br>Country Name=%{text}<br>Year=2000<br>Neerslag (mm/jaar)=%{x}<br>Uitstoot per ton geproduceerd (Mt/ton)=%{y}<extra></extra>",
           "hovertext": [
            "United States of America"
           ],
           "legendgroup": "United States of America",
           "marker": {
            "color": "#FF6692",
            "symbol": "circle"
           },
           "mode": "markers+text",
           "name": "United States of America",
           "orientation": "v",
           "showlegend": true,
           "text": [
            "United States of America"
           ],
           "type": "scatter",
           "x": {
            "bdata": "AAAAAABYhkA=",
            "dtype": "f8"
           },
           "xaxis": "x",
           "y": {
            "bdata": "rIRD4GnrnT4=",
            "dtype": "f8"
           },
           "yaxis": "y"
          }
         ],
         "name": "2000"
        },
        {
         "data": [
          {
           "hovertemplate": "<b>%{hovertext}</b><br><br>Country Name=%{text}<br>Year=2001<br>Neerslag (mm/jaar)=%{x}<br>Uitstoot per ton geproduceerd (Mt/ton)=%{y}<extra></extra>",
           "hovertext": [
            "Brazil"
           ],
           "legendgroup": "Brazil",
           "marker": {
            "color": "#636efa",
            "symbol": "circle"
           },
           "mode": "markers+text",
           "name": "Brazil",
           "orientation": "v",
           "showlegend": true,
           "text": [
            "Brazil"
           ],
           "type": "scatter",
           "x": {
            "bdata": "AAAAAADYm0A=",
            "dtype": "f8"
           },
           "xaxis": "x",
           "y": {
            "bdata": "ZvaIO4I8cD4=",
            "dtype": "f8"
           },
           "yaxis": "y"
          },
          {
           "hovertemplate": "<b>%{hovertext}</b><br><br>Country Name=%{text}<br>Year=2001<br>Neerslag (mm/jaar)=%{x}<br>Uitstoot per ton geproduceerd (Mt/ton)=%{y}<extra></extra>",
           "hovertext": [
            "India"
           ],
           "legendgroup": "India",
           "marker": {
            "color": "#EF553B",
            "symbol": "circle"
           },
           "mode": "markers+text",
           "name": "India",
           "orientation": "v",
           "showlegend": true,
           "text": [
            "India"
           ],
           "type": "scatter",
           "x": {
            "bdata": "AAAAAADskEA=",
            "dtype": "f8"
           },
           "xaxis": "x",
           "y": {
            "bdata": "TvpftNXCjz4=",
            "dtype": "f8"
           },
           "yaxis": "y"
          },
          {
           "hovertemplate": "<b>%{hovertext}</b><br><br>Country Name=%{text}<br>Year=2001<br>Neerslag (mm/jaar)=%{x}<br>Uitstoot per ton geproduceerd (Mt/ton)=%{y}<extra></extra>",
           "hovertext": [
            "Indonesia"
           ],
           "legendgroup": "Indonesia",
           "marker": {
            "color": "#00cc96",
            "symbol": "circle"
           },
           "mode": "markers+text",
           "name": "Indonesia",
           "orientation": "v",
           "showlegend": true,
           "text": [
            "Indonesia"
           ],
           "type": "scatter",
           "x": {
            "bdata": "AAAAAAAcpUA=",
            "dtype": "f8"
           },
           "xaxis": "x",
           "y": {
            "bdata": "32yBYpkqZD4=",
            "dtype": "f8"
           },
           "yaxis": "y"
          },
          {
           "hovertemplate": "<b>%{hovertext}</b><br><br>Country Name=%{text}<br>Year=2001<br>Neerslag (mm/jaar)=%{x}<br>Uitstoot per ton geproduceerd (Mt/ton)=%{y}<extra></extra>",
           "hovertext": [
            "Japan"
           ],
           "legendgroup": "Japan",
           "marker": {
            "color": "#ab63fa",
            "symbol": "circle"
           },
           "mode": "markers+text",
           "name": "Japan",
           "orientation": "v",
           "showlegend": true,
           "text": [
            "Japan"
           ],
           "type": "scatter",
           "x": {
            "bdata": "AAAAAAAQmkA=",
            "dtype": "f8"
           },
           "xaxis": "x",
           "y": {
            "bdata": "ir2jHrDEgz4=",
            "dtype": "f8"
           },
           "yaxis": "y"
          },
          {
           "hovertemplate": "<b>%{hovertext}</b><br><br>Country Name=%{text}<br>Year=2001<br>Neerslag (mm/jaar)=%{x}<br>Uitstoot per ton geproduceerd (Mt/ton)=%{y}<extra></extra>",
           "hovertext": [
            "Nigeria"
           ],
           "legendgroup": "Nigeria",
           "marker": {
            "color": "#FFA15A",
            "symbol": "circle"
           },
           "mode": "markers+text",
           "name": "Nigeria",
           "orientation": "v",
           "showlegend": true,
           "text": [
            "Nigeria"
           ],
           "type": "scatter",
           "x": {
            "bdata": "AAAAAAD4kUA=",
            "dtype": "f8"
           },
           "xaxis": "x",
           "y": {
            "bdata": "t4D/VyKGQz4=",
            "dtype": "f8"
           },
           "yaxis": "y"
          },
          {
           "hovertemplate": "<b>%{hovertext}</b><br><br>Country Name=%{text}<br>Year=2001<br>Neerslag (mm/jaar)=%{x}<br>Uitstoot per ton geproduceerd (Mt/ton)=%{y}<extra></extra>",
           "hovertext": [
            "South Africa"
           ],
           "legendgroup": "South Africa",
           "marker": {
            "color": "#19d3f3",
            "symbol": "circle"
           },
           "mode": "markers+text",
           "name": "South Africa",
           "orientation": "v",
           "showlegend": true,
           "text": [
            "South Africa"
           ],
           "type": "scatter",
           "x": {
            "bdata": "AAAAAADwfkA=",
            "dtype": "f8"
           },
           "xaxis": "x",
           "y": {
            "bdata": "WRqojbIIhD4=",
            "dtype": "f8"
           },
           "yaxis": "y"
          },
          {
           "hovertemplate": "<b>%{hovertext}</b><br><br>Country Name=%{text}<br>Year=2001<br>Neerslag (mm/jaar)=%{x}<br>Uitstoot per ton geproduceerd (Mt/ton)=%{y}<extra></extra>",
           "hovertext": [
            "United States of America"
           ],
           "legendgroup": "United States of America",
           "marker": {
            "color": "#FF6692",
            "symbol": "circle"
           },
           "mode": "markers+text",
           "name": "United States of America",
           "orientation": "v",
           "showlegend": true,
           "text": [
            "United States of America"
           ],
           "type": "scatter",
           "x": {
            "bdata": "AAAAAABYhkA=",
            "dtype": "f8"
           },
           "xaxis": "x",
           "y": {
            "bdata": "qvoOUAqtnj4=",
            "dtype": "f8"
           },
           "yaxis": "y"
          }
         ],
         "name": "2001"
        },
        {
         "data": [
          {
           "hovertemplate": "<b>%{hovertext}</b><br><br>Country Name=%{text}<br>Year=2002<br>Neerslag (mm/jaar)=%{x}<br>Uitstoot per ton geproduceerd (Mt/ton)=%{y}<extra></extra>",
           "hovertext": [
            "Brazil"
           ],
           "legendgroup": "Brazil",
           "marker": {
            "color": "#636efa",
            "symbol": "circle"
           },
           "mode": "markers+text",
           "name": "Brazil",
           "orientation": "v",
           "showlegend": true,
           "text": [
            "Brazil"
           ],
           "type": "scatter",
           "x": {
            "bdata": "AAAAAACEm0A=",
            "dtype": "f8"
           },
           "xaxis": "x",
           "y": {
            "bdata": "bibnkxwhcD4=",
            "dtype": "f8"
           },
           "yaxis": "y"
          },
          {
           "hovertemplate": "<b>%{hovertext}</b><br><br>Country Name=%{text}<br>Year=2002<br>Neerslag (mm/jaar)=%{x}<br>Uitstoot per ton geproduceerd (Mt/ton)=%{y}<extra></extra>",
           "hovertext": [
            "India"
           ],
           "legendgroup": "India",
           "marker": {
            "color": "#EF553B",
            "symbol": "circle"
           },
           "mode": "markers+text",
           "name": "India",
           "orientation": "v",
           "showlegend": true,
           "text": [
            "India"
           ],
           "type": "scatter",
           "x": {
            "bdata": "AAAAAADskEA=",
            "dtype": "f8"
           },
           "xaxis": "x",
           "y": {
            "bdata": "Sa/yG61TkD4=",
            "dtype": "f8"
           },
           "yaxis": "y"
          },
          {
           "hovertemplate": "<b>%{hovertext}</b><br><br>Country Name=%{text}<br>Year=2002<br>Neerslag (mm/jaar)=%{x}<br>Uitstoot per ton geproduceerd (Mt/ton)=%{y}<extra></extra>",
           "hovertext": [
            "Indonesia"
           ],
           "legendgroup": "Indonesia",
           "marker": {
            "color": "#00cc96",
            "symbol": "circle"
           },
           "mode": "markers+text",
           "name": "Indonesia",
           "orientation": "v",
           "showlegend": true,
           "text": [
            "Indonesia"
           ],
           "type": "scatter",
           "x": {
            "bdata": "AAAAAAAcpUA=",
            "dtype": "f8"
           },
           "xaxis": "x",
           "y": {
            "bdata": "lItRXS2yYT4=",
            "dtype": "f8"
           },
           "yaxis": "y"
          },
          {
           "hovertemplate": "<b>%{hovertext}</b><br><br>Country Name=%{text}<br>Year=2002<br>Neerslag (mm/jaar)=%{x}<br>Uitstoot per ton geproduceerd (Mt/ton)=%{y}<extra></extra>",
           "hovertext": [
            "Japan"
           ],
           "legendgroup": "Japan",
           "marker": {
            "color": "#ab63fa",
            "symbol": "circle"
           },
           "mode": "markers+text",
           "name": "Japan",
           "orientation": "v",
           "showlegend": true,
           "text": [
            "Japan"
           ],
           "type": "scatter",
           "x": {
            "bdata": "AAAAAAAQmkA=",
            "dtype": "f8"
           },
           "xaxis": "x",
           "y": {
            "bdata": "5XEdvKDDhD4=",
            "dtype": "f8"
           },
           "yaxis": "y"
          },
          {
           "hovertemplate": "<b>%{hovertext}</b><br><br>Country Name=%{text}<br>Year=2002<br>Neerslag (mm/jaar)=%{x}<br>Uitstoot per ton geproduceerd (Mt/ton)=%{y}<extra></extra>",
           "hovertext": [
            "Nigeria"
           ],
           "legendgroup": "Nigeria",
           "marker": {
            "color": "#FFA15A",
            "symbol": "circle"
           },
           "mode": "markers+text",
           "name": "Nigeria",
           "orientation": "v",
           "showlegend": true,
           "text": [
            "Nigeria"
           ],
           "type": "scatter",
           "x": {
            "bdata": "AAAAAAD4kUA=",
            "dtype": "f8"
           },
           "xaxis": "x",
           "y": {
            "bdata": "Rx2Q3iHsRT4=",
            "dtype": "f8"
           },
           "yaxis": "y"
          },
          {
           "hovertemplate": "<b>%{hovertext}</b><br><br>Country Name=%{text}<br>Year=2002<br>Neerslag (mm/jaar)=%{x}<br>Uitstoot per ton geproduceerd (Mt/ton)=%{y}<extra></extra>",
           "hovertext": [
            "South Africa"
           ],
           "legendgroup": "South Africa",
           "marker": {
            "color": "#19d3f3",
            "symbol": "circle"
           },
           "mode": "markers+text",
           "name": "South Africa",
           "orientation": "v",
           "showlegend": true,
           "text": [
            "South Africa"
           ],
           "type": "scatter",
           "x": {
            "bdata": "AAAAAADwfkA=",
            "dtype": "f8"
           },
           "xaxis": "x",
           "y": {
            "bdata": "hSF+eNA1gj4=",
            "dtype": "f8"
           },
           "yaxis": "y"
          },
          {
           "hovertemplate": "<b>%{hovertext}</b><br><br>Country Name=%{text}<br>Year=2002<br>Neerslag (mm/jaar)=%{x}<br>Uitstoot per ton geproduceerd (Mt/ton)=%{y}<extra></extra>",
           "hovertext": [
            "United States of America"
           ],
           "legendgroup": "United States of America",
           "marker": {
            "color": "#FF6692",
            "symbol": "circle"
           },
           "mode": "markers+text",
           "name": "United States of America",
           "orientation": "v",
           "showlegend": true,
           "text": [
            "United States of America"
           ],
           "type": "scatter",
           "x": {
            "bdata": "AAAAAABYhkA=",
            "dtype": "f8"
           },
           "xaxis": "x",
           "y": {
            "bdata": "NxPrTQ/KnT4=",
            "dtype": "f8"
           },
           "yaxis": "y"
          }
         ],
         "name": "2002"
        },
        {
         "data": [
          {
           "hovertemplate": "<b>%{hovertext}</b><br><br>Country Name=%{text}<br>Year=2003<br>Neerslag (mm/jaar)=%{x}<br>Uitstoot per ton geproduceerd (Mt/ton)=%{y}<extra></extra>",
           "hovertext": [
            "Brazil"
           ],
           "legendgroup": "Brazil",
           "marker": {
            "color": "#636efa",
            "symbol": "circle"
           },
           "mode": "markers+text",
           "name": "Brazil",
           "orientation": "v",
           "showlegend": true,
           "text": [
            "Brazil"
           ],
           "type": "scatter",
           "x": {
            "bdata": "AAAAAADYm0A=",
            "dtype": "f8"
           },
           "xaxis": "x",
           "y": {
            "bdata": "PJGQkfftcD4=",
            "dtype": "f8"
           },
           "yaxis": "y"
          },
          {
           "hovertemplate": "<b>%{hovertext}</b><br><br>Country Name=%{text}<br>Year=2003<br>Neerslag (mm/jaar)=%{x}<br>Uitstoot per ton geproduceerd (Mt/ton)=%{y}<extra></extra>",
           "hovertext": [
            "India"
           ],
           "legendgroup": "India",
           "marker": {
            "color": "#EF553B",
            "symbol": "circle"
           },
           "mode": "markers+text",
           "name": "India",
           "orientation": "v",
           "showlegend": true,
           "text": [
            "India"
           ],
           "type": "scatter",
           "x": {
            "bdata": "AAAAAADskEA=",
            "dtype": "f8"
           },
           "xaxis": "x",
           "y": {
            "bdata": "8rMqn5Oqjz4=",
            "dtype": "f8"
           },
           "yaxis": "y"
          },
          {
           "hovertemplate": "<b>%{hovertext}</b><br><br>Country Name=%{text}<br>Year=2003<br>Neerslag (mm/jaar)=%{x}<br>Uitstoot per ton geproduceerd (Mt/ton)=%{y}<extra></extra>",
           "hovertext": [
            "Indonesia"
           ],
           "legendgroup": "Indonesia",
           "marker": {
            "color": "#00cc96",
            "symbol": "circle"
           },
           "mode": "markers+text",
           "name": "Indonesia",
           "orientation": "v",
           "showlegend": true,
           "text": [
            "Indonesia"
           ],
           "type": "scatter",
           "x": {
            "bdata": "AAAAAAAcpUA=",
            "dtype": "f8"
           },
           "xaxis": "x",
           "y": {
            "bdata": "zWPkxFjhYD4=",
            "dtype": "f8"
           },
           "yaxis": "y"
          },
          {
           "hovertemplate": "<b>%{hovertext}</b><br><br>Country Name=%{text}<br>Year=2003<br>Neerslag (mm/jaar)=%{x}<br>Uitstoot per ton geproduceerd (Mt/ton)=%{y}<extra></extra>",
           "hovertext": [
            "Japan"
           ],
           "legendgroup": "Japan",
           "marker": {
            "color": "#ab63fa",
            "symbol": "circle"
           },
           "mode": "markers+text",
           "name": "Japan",
           "orientation": "v",
           "showlegend": true,
           "text": [
            "Japan"
           ],
           "type": "scatter",
           "x": {
            "bdata": "AAAAAAAQmkA=",
            "dtype": "f8"
           },
           "xaxis": "x",
           "y": {
            "bdata": "oo1fXLpghT4=",
            "dtype": "f8"
           },
           "yaxis": "y"
          },
          {
           "hovertemplate": "<b>%{hovertext}</b><br><br>Country Name=%{text}<br>Year=2003<br>Neerslag (mm/jaar)=%{x}<br>Uitstoot per ton geproduceerd (Mt/ton)=%{y}<extra></extra>",
           "hovertext": [
            "Nigeria"
           ],
           "legendgroup": "Nigeria",
           "marker": {
            "color": "#FFA15A",
            "symbol": "circle"
           },
           "mode": "markers+text",
           "name": "Nigeria",
           "orientation": "v",
           "showlegend": true,
           "text": [
            "Nigeria"
           ],
           "type": "scatter",
           "x": {
            "bdata": "AAAAAAD4kUA=",
            "dtype": "f8"
           },
           "xaxis": "x",
           "y": {
            "bdata": "R9DLutqYRT4=",
            "dtype": "f8"
           },
           "yaxis": "y"
          },
          {
           "hovertemplate": "<b>%{hovertext}</b><br><br>Country Name=%{text}<br>Year=2003<br>Neerslag (mm/jaar)=%{x}<br>Uitstoot per ton geproduceerd (Mt/ton)=%{y}<extra></extra>",
           "hovertext": [
            "South Africa"
           ],
           "legendgroup": "South Africa",
           "marker": {
            "color": "#19d3f3",
            "symbol": "circle"
           },
           "mode": "markers+text",
           "name": "South Africa",
           "orientation": "v",
           "showlegend": true,
           "text": [
            "South Africa"
           ],
           "type": "scatter",
           "x": {
            "bdata": "AAAAAADwfkA=",
            "dtype": "f8"
           },
           "xaxis": "x",
           "y": {
            "bdata": "liZaZuJwgD4=",
            "dtype": "f8"
           },
           "yaxis": "y"
          },
          {
           "hovertemplate": "<b>%{hovertext}</b><br><br>Country Name=%{text}<br>Year=2003<br>Neerslag (mm/jaar)=%{x}<br>Uitstoot per ton geproduceerd (Mt/ton)=%{y}<extra></extra>",
           "hovertext": [
            "United States of America"
           ],
           "legendgroup": "United States of America",
           "marker": {
            "color": "#FF6692",
            "symbol": "circle"
           },
           "mode": "markers+text",
           "name": "United States of America",
           "orientation": "v",
           "showlegend": true,
           "text": [
            "United States of America"
           ],
           "type": "scatter",
           "x": {
            "bdata": "AAAAAABYhkA=",
            "dtype": "f8"
           },
           "xaxis": "x",
           "y": {
            "bdata": "qryaDXFUoD4=",
            "dtype": "f8"
           },
           "yaxis": "y"
          }
         ],
         "name": "2003"
        },
        {
         "data": [
          {
           "hovertemplate": "<b>%{hovertext}</b><br><br>Country Name=%{text}<br>Year=2004<br>Neerslag (mm/jaar)=%{x}<br>Uitstoot per ton geproduceerd (Mt/ton)=%{y}<extra></extra>",
           "hovertext": [
            "Brazil"
           ],
           "legendgroup": "Brazil",
           "marker": {
            "color": "#636efa",
            "symbol": "circle"
           },
           "mode": "markers+text",
           "name": "Brazil",
           "orientation": "v",
           "showlegend": true,
           "text": [
            "Brazil"
           ],
           "type": "scatter",
           "x": {
            "bdata": "AAAAAADYm0A=",
            "dtype": "f8"
           },
           "xaxis": "x",
           "y": {
            "bdata": "VH7br7/3cD4=",
            "dtype": "f8"
           },
           "yaxis": "y"
          },
          {
           "hovertemplate": "<b>%{hovertext}</b><br><br>Country Name=%{text}<br>Year=2004<br>Neerslag (mm/jaar)=%{x}<br>Uitstoot per ton geproduceerd (Mt/ton)=%{y}<extra></extra>",
           "hovertext": [
            "India"
           ],
           "legendgroup": "India",
           "marker": {
            "color": "#EF553B",
            "symbol": "circle"
           },
           "mode": "markers+text",
           "name": "India",
           "orientation": "v",
           "showlegend": true,
           "text": [
            "India"
           ],
           "type": "scatter",
           "x": {
            "bdata": "AAAAAADskEA=",
            "dtype": "f8"
           },
           "xaxis": "x",
           "y": {
            "bdata": "z8M7rcYakj4=",
            "dtype": "f8"
           },
           "yaxis": "y"
          },
          {
           "hovertemplate": "<b>%{hovertext}</b><br><br>Country Name=%{text}<br>Year=2004<br>Neerslag (mm/jaar)=%{x}<br>Uitstoot per ton geproduceerd (Mt/ton)=%{y}<extra></extra>",
           "hovertext": [
            "Indonesia"
           ],
           "legendgroup": "Indonesia",
           "marker": {
            "color": "#00cc96",
            "symbol": "circle"
           },
           "mode": "markers+text",
           "name": "Indonesia",
           "orientation": "v",
           "showlegend": true,
           "text": [
            "Indonesia"
           ],
           "type": "scatter",
           "x": {
            "bdata": "AAAAAAAcpUA=",
            "dtype": "f8"
           },
           "xaxis": "x",
           "y": {
            "bdata": "oMowhrqXXz4=",
            "dtype": "f8"
           },
           "yaxis": "y"
          },
          {
           "hovertemplate": "<b>%{hovertext}</b><br><br>Country Name=%{text}<br>Year=2004<br>Neerslag (mm/jaar)=%{x}<br>Uitstoot per ton geproduceerd (Mt/ton)=%{y}<extra></extra>",
           "hovertext": [
            "Japan"
           ],
           "legendgroup": "Japan",
           "marker": {
            "color": "#ab63fa",
            "symbol": "circle"
           },
           "mode": "markers+text",
           "name": "Japan",
           "orientation": "v",
           "showlegend": true,
           "text": [
            "Japan"
           ],
           "type": "scatter",
           "x": {
            "bdata": "AAAAAAAQmkA=",
            "dtype": "f8"
           },
           "xaxis": "x",
           "y": {
            "bdata": "NFtxXmI8hT4=",
            "dtype": "f8"
           },
           "yaxis": "y"
          },
          {
           "hovertemplate": "<b>%{hovertext}</b><br><br>Country Name=%{text}<br>Year=2004<br>Neerslag (mm/jaar)=%{x}<br>Uitstoot per ton geproduceerd (Mt/ton)=%{y}<extra></extra>",
           "hovertext": [
            "Nigeria"
           ],
           "legendgroup": "Nigeria",
           "marker": {
            "color": "#FFA15A",
            "symbol": "circle"
           },
           "mode": "markers+text",
           "name": "Nigeria",
           "orientation": "v",
           "showlegend": true,
           "text": [
            "Nigeria"
           ],
           "type": "scatter",
           "x": {
            "bdata": "AAAAAAD4kUA=",
            "dtype": "f8"
           },
           "xaxis": "x",
           "y": {
            "bdata": "9Wca/SDqRD4=",
            "dtype": "f8"
           },
           "yaxis": "y"
          },
          {
           "hovertemplate": "<b>%{hovertext}</b><br><br>Country Name=%{text}<br>Year=2004<br>Neerslag (mm/jaar)=%{x}<br>Uitstoot per ton geproduceerd (Mt/ton)=%{y}<extra></extra>",
           "hovertext": [
            "South Africa"
           ],
           "legendgroup": "South Africa",
           "marker": {
            "color": "#19d3f3",
            "symbol": "circle"
           },
           "mode": "markers+text",
           "name": "South Africa",
           "orientation": "v",
           "showlegend": true,
           "text": [
            "South Africa"
           ],
           "type": "scatter",
           "x": {
            "bdata": "AAAAAADwfkA=",
            "dtype": "f8"
           },
           "xaxis": "x",
           "y": {
            "bdata": "LEJ6ZNgngj4=",
            "dtype": "f8"
           },
           "yaxis": "y"
          },
          {
           "hovertemplate": "<b>%{hovertext}</b><br><br>Country Name=%{text}<br>Year=2004<br>Neerslag (mm/jaar)=%{x}<br>Uitstoot per ton geproduceerd (Mt/ton)=%{y}<extra></extra>",
           "hovertext": [
            "United States of America"
           ],
           "legendgroup": "United States of America",
           "marker": {
            "color": "#FF6692",
            "symbol": "circle"
           },
           "mode": "markers+text",
           "name": "United States of America",
           "orientation": "v",
           "showlegend": true,
           "text": [
            "United States of America"
           ],
           "type": "scatter",
           "x": {
            "bdata": "AAAAAABYhkA=",
            "dtype": "f8"
           },
           "xaxis": "x",
           "y": {
            "bdata": "3fVZXIgFnz4=",
            "dtype": "f8"
           },
           "yaxis": "y"
          }
         ],
         "name": "2004"
        },
        {
         "data": [
          {
           "hovertemplate": "<b>%{hovertext}</b><br><br>Country Name=%{text}<br>Year=2005<br>Neerslag (mm/jaar)=%{x}<br>Uitstoot per ton geproduceerd (Mt/ton)=%{y}<extra></extra>",
           "hovertext": [
            "Brazil"
           ],
           "legendgroup": "Brazil",
           "marker": {
            "color": "#636efa",
            "symbol": "circle"
           },
           "mode": "markers+text",
           "name": "Brazil",
           "orientation": "v",
           "showlegend": true,
           "text": [
            "Brazil"
           ],
           "type": "scatter",
           "x": {
            "bdata": "AAAAAADYm0A=",
            "dtype": "f8"
           },
           "xaxis": "x",
           "y": {
            "bdata": "UTnSk8Q8cD4=",
            "dtype": "f8"
           },
           "yaxis": "y"
          },
          {
           "hovertemplate": "<b>%{hovertext}</b><br><br>Country Name=%{text}<br>Year=2005<br>Neerslag (mm/jaar)=%{x}<br>Uitstoot per ton geproduceerd (Mt/ton)=%{y}<extra></extra>",
           "hovertext": [
            "India"
           ],
           "legendgroup": "India",
           "marker": {
            "color": "#EF553B",
            "symbol": "circle"
           },
           "mode": "markers+text",
           "name": "India",
           "orientation": "v",
           "showlegend": true,
           "text": [
            "India"
           ],
           "type": "scatter",
           "x": {
            "bdata": "AAAAAADskEA=",
            "dtype": "f8"
           },
           "xaxis": "x",
           "y": {
            "bdata": "2938YY19kT4=",
            "dtype": "f8"
           },
           "yaxis": "y"
          },
          {
           "hovertemplate": "<b>%{hovertext}</b><br><br>Country Name=%{text}<br>Year=2005<br>Neerslag (mm/jaar)=%{x}<br>Uitstoot per ton geproduceerd (Mt/ton)=%{y}<extra></extra>",
           "hovertext": [
            "Indonesia"
           ],
           "legendgroup": "Indonesia",
           "marker": {
            "color": "#00cc96",
            "symbol": "circle"
           },
           "mode": "markers+text",
           "name": "Indonesia",
           "orientation": "v",
           "showlegend": true,
           "text": [
            "Indonesia"
           ],
           "type": "scatter",
           "x": {
            "bdata": "AAAAAAAcpUA=",
            "dtype": "f8"
           },
           "xaxis": "x",
           "y": {
            "bdata": "dia2rRQPYD4=",
            "dtype": "f8"
           },
           "yaxis": "y"
          },
          {
           "hovertemplate": "<b>%{hovertext}</b><br><br>Country Name=%{text}<br>Year=2005<br>Neerslag (mm/jaar)=%{x}<br>Uitstoot per ton geproduceerd (Mt/ton)=%{y}<extra></extra>",
           "hovertext": [
            "Japan"
           ],
           "legendgroup": "Japan",
           "marker": {
            "color": "#ab63fa",
            "symbol": "circle"
           },
           "mode": "markers+text",
           "name": "Japan",
           "orientation": "v",
           "showlegend": true,
           "text": [
            "Japan"
           ],
           "type": "scatter",
           "x": {
            "bdata": "AAAAAAAQmkA=",
            "dtype": "f8"
           },
           "xaxis": "x",
           "y": {
            "bdata": "N1dpmxi0hT4=",
            "dtype": "f8"
           },
           "yaxis": "y"
          },
          {
           "hovertemplate": "<b>%{hovertext}</b><br><br>Country Name=%{text}<br>Year=2005<br>Neerslag (mm/jaar)=%{x}<br>Uitstoot per ton geproduceerd (Mt/ton)=%{y}<extra></extra>",
           "hovertext": [
            "Nigeria"
           ],
           "legendgroup": "Nigeria",
           "marker": {
            "color": "#FFA15A",
            "symbol": "circle"
           },
           "mode": "markers+text",
           "name": "Nigeria",
           "orientation": "v",
           "showlegend": true,
           "text": [
            "Nigeria"
           ],
           "type": "scatter",
           "x": {
            "bdata": "AAAAAAD4kUA=",
            "dtype": "f8"
           },
           "xaxis": "x",
           "y": {
            "bdata": "cEUtoIFmRD4=",
            "dtype": "f8"
           },
           "yaxis": "y"
          },
          {
           "hovertemplate": "<b>%{hovertext}</b><br><br>Country Name=%{text}<br>Year=2005<br>Neerslag (mm/jaar)=%{x}<br>Uitstoot per ton geproduceerd (Mt/ton)=%{y}<extra></extra>",
           "hovertext": [
            "South Africa"
           ],
           "legendgroup": "South Africa",
           "marker": {
            "color": "#19d3f3",
            "symbol": "circle"
           },
           "mode": "markers+text",
           "name": "South Africa",
           "orientation": "v",
           "showlegend": true,
           "text": [
            "South Africa"
           ],
           "type": "scatter",
           "x": {
            "bdata": "AAAAAADwfkA=",
            "dtype": "f8"
           },
           "xaxis": "x",
           "y": {
            "bdata": "oa1tN9okgT4=",
            "dtype": "f8"
           },
           "yaxis": "y"
          },
          {
           "hovertemplate": "<b>%{hovertext}</b><br><br>Country Name=%{text}<br>Year=2005<br>Neerslag (mm/jaar)=%{x}<br>Uitstoot per ton geproduceerd (Mt/ton)=%{y}<extra></extra>",
           "hovertext": [
            "United States of America"
           ],
           "legendgroup": "United States of America",
           "marker": {
            "color": "#FF6692",
            "symbol": "circle"
           },
           "mode": "markers+text",
           "name": "United States of America",
           "orientation": "v",
           "showlegend": true,
           "text": [
            "United States of America"
           ],
           "type": "scatter",
           "x": {
            "bdata": "AAAAAABYhkA=",
            "dtype": "f8"
           },
           "xaxis": "x",
           "y": {
            "bdata": "4dCFzbUKoT4=",
            "dtype": "f8"
           },
           "yaxis": "y"
          }
         ],
         "name": "2005"
        },
        {
         "data": [
          {
           "hovertemplate": "<b>%{hovertext}</b><br><br>Country Name=%{text}<br>Year=2006<br>Neerslag (mm/jaar)=%{x}<br>Uitstoot per ton geproduceerd (Mt/ton)=%{y}<extra></extra>",
           "hovertext": [
            "Brazil"
           ],
           "legendgroup": "Brazil",
           "marker": {
            "color": "#636efa",
            "symbol": "circle"
           },
           "mode": "markers+text",
           "name": "Brazil",
           "orientation": "v",
           "showlegend": true,
           "text": [
            "Brazil"
           ],
           "type": "scatter",
           "x": {
            "bdata": "AAAAAADYm0A=",
            "dtype": "f8"
           },
           "xaxis": "x",
           "y": {
            "bdata": "bIF/f8JAbD4=",
            "dtype": "f8"
           },
           "yaxis": "y"
          },
          {
           "hovertemplate": "<b>%{hovertext}</b><br><br>Country Name=%{text}<br>Year=2006<br>Neerslag (mm/jaar)=%{x}<br>Uitstoot per ton geproduceerd (Mt/ton)=%{y}<extra></extra>",
           "hovertext": [
            "India"
           ],
           "legendgroup": "India",
           "marker": {
            "color": "#EF553B",
            "symbol": "circle"
           },
           "mode": "markers+text",
           "name": "India",
           "orientation": "v",
           "showlegend": true,
           "text": [
            "India"
           ],
           "type": "scatter",
           "x": {
            "bdata": "AAAAAADskEA=",
            "dtype": "f8"
           },
           "xaxis": "x",
           "y": {
            "bdata": "mg94Q4LQjz4=",
            "dtype": "f8"
           },
           "yaxis": "y"
          },
          {
           "hovertemplate": "<b>%{hovertext}</b><br><br>Country Name=%{text}<br>Year=2006<br>Neerslag (mm/jaar)=%{x}<br>Uitstoot per ton geproduceerd (Mt/ton)=%{y}<extra></extra>",
           "hovertext": [
            "Indonesia"
           ],
           "legendgroup": "Indonesia",
           "marker": {
            "color": "#00cc96",
            "symbol": "circle"
           },
           "mode": "markers+text",
           "name": "Indonesia",
           "orientation": "v",
           "showlegend": true,
           "text": [
            "Indonesia"
           ],
           "type": "scatter",
           "x": {
            "bdata": "AAAAAAAcpUA=",
            "dtype": "f8"
           },
           "xaxis": "x",
           "y": {
            "bdata": "9F1hT2UsYD4=",
            "dtype": "f8"
           },
           "yaxis": "y"
          },
          {
           "hovertemplate": "<b>%{hovertext}</b><br><br>Country Name=%{text}<br>Year=2006<br>Neerslag (mm/jaar)=%{x}<br>Uitstoot per ton geproduceerd (Mt/ton)=%{y}<extra></extra>",
           "hovertext": [
            "Japan"
           ],
           "legendgroup": "Japan",
           "marker": {
            "color": "#ab63fa",
            "symbol": "circle"
           },
           "mode": "markers+text",
           "name": "Japan",
           "orientation": "v",
           "showlegend": true,
           "text": [
            "Japan"
           ],
           "type": "scatter",
           "x": {
            "bdata": "AAAAAAAQmkA=",
            "dtype": "f8"
           },
           "xaxis": "x",
           "y": {
            "bdata": "BnaCL0K2hj4=",
            "dtype": "f8"
           },
           "yaxis": "y"
          },
          {
           "hovertemplate": "<b>%{hovertext}</b><br><br>Country Name=%{text}<br>Year=2006<br>Neerslag (mm/jaar)=%{x}<br>Uitstoot per ton geproduceerd (Mt/ton)=%{y}<extra></extra>",
           "hovertext": [
            "Nigeria"
           ],
           "legendgroup": "Nigeria",
           "marker": {
            "color": "#FFA15A",
            "symbol": "circle"
           },
           "mode": "markers+text",
           "name": "Nigeria",
           "orientation": "v",
           "showlegend": true,
           "text": [
            "Nigeria"
           ],
           "type": "scatter",
           "x": {
            "bdata": "AAAAAAD4kUA=",
            "dtype": "f8"
           },
           "xaxis": "x",
           "y": {
            "bdata": "8pAV6sPoQz4=",
            "dtype": "f8"
           },
           "yaxis": "y"
          },
          {
           "hovertemplate": "<b>%{hovertext}</b><br><br>Country Name=%{text}<br>Year=2006<br>Neerslag (mm/jaar)=%{x}<br>Uitstoot per ton geproduceerd (Mt/ton)=%{y}<extra></extra>",
           "hovertext": [
            "South Africa"
           ],
           "legendgroup": "South Africa",
           "marker": {
            "color": "#19d3f3",
            "symbol": "circle"
           },
           "mode": "markers+text",
           "name": "South Africa",
           "orientation": "v",
           "showlegend": true,
           "text": [
            "South Africa"
           ],
           "type": "scatter",
           "x": {
            "bdata": "AAAAAADwfkA=",
            "dtype": "f8"
           },
           "xaxis": "x",
           "y": {
            "bdata": "VK6UYpRogT4=",
            "dtype": "f8"
           },
           "yaxis": "y"
          },
          {
           "hovertemplate": "<b>%{hovertext}</b><br><br>Country Name=%{text}<br>Year=2006<br>Neerslag (mm/jaar)=%{x}<br>Uitstoot per ton geproduceerd (Mt/ton)=%{y}<extra></extra>",
           "hovertext": [
            "United States of America"
           ],
           "legendgroup": "United States of America",
           "marker": {
            "color": "#FF6692",
            "symbol": "circle"
           },
           "mode": "markers+text",
           "name": "United States of America",
           "orientation": "v",
           "showlegend": true,
           "text": [
            "United States of America"
           ],
           "type": "scatter",
           "x": {
            "bdata": "AAAAAABYhkA=",
            "dtype": "f8"
           },
           "xaxis": "x",
           "y": {
            "bdata": "ifKseh2Xnj4=",
            "dtype": "f8"
           },
           "yaxis": "y"
          }
         ],
         "name": "2006"
        },
        {
         "data": [
          {
           "hovertemplate": "<b>%{hovertext}</b><br><br>Country Name=%{text}<br>Year=2007<br>Neerslag (mm/jaar)=%{x}<br>Uitstoot per ton geproduceerd (Mt/ton)=%{y}<extra></extra>",
           "hovertext": [
            "Brazil"
           ],
           "legendgroup": "Brazil",
           "marker": {
            "color": "#636efa",
            "symbol": "circle"
           },
           "mode": "markers+text",
           "name": "Brazil",
           "orientation": "v",
           "showlegend": true,
           "text": [
            "Brazil"
           ],
           "type": "scatter",
           "x": {
            "bdata": "AAAAAACEm0A=",
            "dtype": "f8"
           },
           "xaxis": "x",
           "y": {
            "bdata": "sRsE2ktdbD4=",
            "dtype": "f8"
           },
           "yaxis": "y"
          },
          {
           "hovertemplate": "<b>%{hovertext}</b><br><br>Country Name=%{text}<br>Year=2007<br>Neerslag (mm/jaar)=%{x}<br>Uitstoot per ton geproduceerd (Mt/ton)=%{y}<extra></extra>",
           "hovertext": [
            "India"
           ],
           "legendgroup": "India",
           "marker": {
            "color": "#EF553B",
            "symbol": "circle"
           },
           "mode": "markers+text",
           "name": "India",
           "orientation": "v",
           "showlegend": true,
           "text": [
            "India"
           ],
           "type": "scatter",
           "x": {
            "bdata": "AAAAAADskEA=",
            "dtype": "f8"
           },
           "xaxis": "x",
           "y": {
            "bdata": "fjHeIG01jT4=",
            "dtype": "f8"
           },
           "yaxis": "y"
          },
          {
           "hovertemplate": "<b>%{hovertext}</b><br><br>Country Name=%{text}<br>Year=2007<br>Neerslag (mm/jaar)=%{x}<br>Uitstoot per ton geproduceerd (Mt/ton)=%{y}<extra></extra>",
           "hovertext": [
            "Indonesia"
           ],
           "legendgroup": "Indonesia",
           "marker": {
            "color": "#00cc96",
            "symbol": "circle"
           },
           "mode": "markers+text",
           "name": "Indonesia",
           "orientation": "v",
           "showlegend": true,
           "text": [
            "Indonesia"
           ],
           "type": "scatter",
           "x": {
            "bdata": "AAAAAAAcpUA=",
            "dtype": "f8"
           },
           "xaxis": "x",
           "y": {
            "bdata": "lWv5zbOdYj4=",
            "dtype": "f8"
           },
           "yaxis": "y"
          },
          {
           "hovertemplate": "<b>%{hovertext}</b><br><br>Country Name=%{text}<br>Year=2007<br>Neerslag (mm/jaar)=%{x}<br>Uitstoot per ton geproduceerd (Mt/ton)=%{y}<extra></extra>",
           "hovertext": [
            "Japan"
           ],
           "legendgroup": "Japan",
           "marker": {
            "color": "#ab63fa",
            "symbol": "circle"
           },
           "mode": "markers+text",
           "name": "Japan",
           "orientation": "v",
           "showlegend": true,
           "text": [
            "Japan"
           ],
           "type": "scatter",
           "x": {
            "bdata": "AAAAAAAQmkA=",
            "dtype": "f8"
           },
           "xaxis": "x",
           "y": {
            "bdata": "1hMTHQJThT4=",
            "dtype": "f8"
           },
           "yaxis": "y"
          },
          {
           "hovertemplate": "<b>%{hovertext}</b><br><br>Country Name=%{text}<br>Year=2007<br>Neerslag (mm/jaar)=%{x}<br>Uitstoot per ton geproduceerd (Mt/ton)=%{y}<extra></extra>",
           "hovertext": [
            "Nigeria"
           ],
           "legendgroup": "Nigeria",
           "marker": {
            "color": "#FFA15A",
            "symbol": "circle"
           },
           "mode": "markers+text",
           "name": "Nigeria",
           "orientation": "v",
           "showlegend": true,
           "text": [
            "Nigeria"
           ],
           "type": "scatter",
           "x": {
            "bdata": "AAAAAAD4kUA=",
            "dtype": "f8"
           },
           "xaxis": "x",
           "y": {
            "bdata": "MTCrpQ6tRD4=",
            "dtype": "f8"
           },
           "yaxis": "y"
          },
          {
           "hovertemplate": "<b>%{hovertext}</b><br><br>Country Name=%{text}<br>Year=2007<br>Neerslag (mm/jaar)=%{x}<br>Uitstoot per ton geproduceerd (Mt/ton)=%{y}<extra></extra>",
           "hovertext": [
            "South Africa"
           ],
           "legendgroup": "South Africa",
           "marker": {
            "color": "#19d3f3",
            "symbol": "circle"
           },
           "mode": "markers+text",
           "name": "South Africa",
           "orientation": "v",
           "showlegend": true,
           "text": [
            "South Africa"
           ],
           "type": "scatter",
           "x": {
            "bdata": "AAAAAADwfkA=",
            "dtype": "f8"
           },
           "xaxis": "x",
           "y": {
            "bdata": "LAQDWOMNgD4=",
            "dtype": "f8"
           },
           "yaxis": "y"
          },
          {
           "hovertemplate": "<b>%{hovertext}</b><br><br>Country Name=%{text}<br>Year=2007<br>Neerslag (mm/jaar)=%{x}<br>Uitstoot per ton geproduceerd (Mt/ton)=%{y}<extra></extra>",
           "hovertext": [
            "United States of America"
           ],
           "legendgroup": "United States of America",
           "marker": {
            "color": "#FF6692",
            "symbol": "circle"
           },
           "mode": "markers+text",
           "name": "United States of America",
           "orientation": "v",
           "showlegend": true,
           "text": [
            "United States of America"
           ],
           "type": "scatter",
           "x": {
            "bdata": "AAAAAABYhkA=",
            "dtype": "f8"
           },
           "xaxis": "x",
           "y": {
            "bdata": "n/WF/IQ3oD4=",
            "dtype": "f8"
           },
           "yaxis": "y"
          }
         ],
         "name": "2007"
        },
        {
         "data": [
          {
           "hovertemplate": "<b>%{hovertext}</b><br><br>Country Name=%{text}<br>Year=2008<br>Neerslag (mm/jaar)=%{x}<br>Uitstoot per ton geproduceerd (Mt/ton)=%{y}<extra></extra>",
           "hovertext": [
            "Brazil"
           ],
           "legendgroup": "Brazil",
           "marker": {
            "color": "#636efa",
            "symbol": "circle"
           },
           "mode": "markers+text",
           "name": "Brazil",
           "orientation": "v",
           "showlegend": true,
           "text": [
            "Brazil"
           ],
           "type": "scatter",
           "x": {
            "bdata": "AAAAAACEm0A=",
            "dtype": "f8"
           },
           "xaxis": "x",
           "y": {
            "bdata": "jhdgIq7bbD4=",
            "dtype": "f8"
           },
           "yaxis": "y"
          },
          {
           "hovertemplate": "<b>%{hovertext}</b><br><br>Country Name=%{text}<br>Year=2008<br>Neerslag (mm/jaar)=%{x}<br>Uitstoot per ton geproduceerd (Mt/ton)=%{y}<extra></extra>",
           "hovertext": [
            "India"
           ],
           "legendgroup": "India",
           "marker": {
            "color": "#EF553B",
            "symbol": "circle"
           },
           "mode": "markers+text",
           "name": "India",
           "orientation": "v",
           "showlegend": true,
           "text": [
            "India"
           ],
           "type": "scatter",
           "x": {
            "bdata": "AAAAAADskEA=",
            "dtype": "f8"
           },
           "xaxis": "x",
           "y": {
            "bdata": "Ko9l8/BIjT4=",
            "dtype": "f8"
           },
           "yaxis": "y"
          },
          {
           "hovertemplate": "<b>%{hovertext}</b><br><br>Country Name=%{text}<br>Year=2008<br>Neerslag (mm/jaar)=%{x}<br>Uitstoot per ton geproduceerd (Mt/ton)=%{y}<extra></extra>",
           "hovertext": [
            "Indonesia"
           ],
           "legendgroup": "Indonesia",
           "marker": {
            "color": "#00cc96",
            "symbol": "circle"
           },
           "mode": "markers+text",
           "name": "Indonesia",
           "orientation": "v",
           "showlegend": true,
           "text": [
            "Indonesia"
           ],
           "type": "scatter",
           "x": {
            "bdata": "AAAAAAAcpUA=",
            "dtype": "f8"
           },
           "xaxis": "x",
           "y": {
            "bdata": "CNPO64pLYj4=",
            "dtype": "f8"
           },
           "yaxis": "y"
          },
          {
           "hovertemplate": "<b>%{hovertext}</b><br><br>Country Name=%{text}<br>Year=2008<br>Neerslag (mm/jaar)=%{x}<br>Uitstoot per ton geproduceerd (Mt/ton)=%{y}<extra></extra>",
           "hovertext": [
            "Japan"
           ],
           "legendgroup": "Japan",
           "marker": {
            "color": "#ab63fa",
            "symbol": "circle"
           },
           "mode": "markers+text",
           "name": "Japan",
           "orientation": "v",
           "showlegend": true,
           "text": [
            "Japan"
           ],
           "type": "scatter",
           "x": {
            "bdata": "AAAAAAAQmkA=",
            "dtype": "f8"
           },
           "xaxis": "x",
           "y": {
            "bdata": "v+bz7LBrhD4=",
            "dtype": "f8"
           },
           "yaxis": "y"
          },
          {
           "hovertemplate": "<b>%{hovertext}</b><br><br>Country Name=%{text}<br>Year=2008<br>Neerslag (mm/jaar)=%{x}<br>Uitstoot per ton geproduceerd (Mt/ton)=%{y}<extra></extra>",
           "hovertext": [
            "Nigeria"
           ],
           "legendgroup": "Nigeria",
           "marker": {
            "color": "#FFA15A",
            "symbol": "circle"
           },
           "mode": "markers+text",
           "name": "Nigeria",
           "orientation": "v",
           "showlegend": true,
           "text": [
            "Nigeria"
           ],
           "type": "scatter",
           "x": {
            "bdata": "AAAAAAD4kUA=",
            "dtype": "f8"
           },
           "xaxis": "x",
           "y": {
            "bdata": "8wM9f4DERD4=",
            "dtype": "f8"
           },
           "yaxis": "y"
          },
          {
           "hovertemplate": "<b>%{hovertext}</b><br><br>Country Name=%{text}<br>Year=2008<br>Neerslag (mm/jaar)=%{x}<br>Uitstoot per ton geproduceerd (Mt/ton)=%{y}<extra></extra>",
           "hovertext": [
            "South Africa"
           ],
           "legendgroup": "South Africa",
           "marker": {
            "color": "#19d3f3",
            "symbol": "circle"
           },
           "mode": "markers+text",
           "name": "South Africa",
           "orientation": "v",
           "showlegend": true,
           "text": [
            "South Africa"
           ],
           "type": "scatter",
           "x": {
            "bdata": "AAAAAADwfkA=",
            "dtype": "f8"
           },
           "xaxis": "x",
           "y": {
            "bdata": "/+uC/JfjgD4=",
            "dtype": "f8"
           },
           "yaxis": "y"
          },
          {
           "hovertemplate": "<b>%{hovertext}</b><br><br>Country Name=%{text}<br>Year=2008<br>Neerslag (mm/jaar)=%{x}<br>Uitstoot per ton geproduceerd (Mt/ton)=%{y}<extra></extra>",
           "hovertext": [
            "United States of America"
           ],
           "legendgroup": "United States of America",
           "marker": {
            "color": "#FF6692",
            "symbol": "circle"
           },
           "mode": "markers+text",
           "name": "United States of America",
           "orientation": "v",
           "showlegend": true,
           "text": [
            "United States of America"
           ],
           "type": "scatter",
           "x": {
            "bdata": "AAAAAABYhkA=",
            "dtype": "f8"
           },
           "xaxis": "x",
           "y": {
            "bdata": "x91hBPlPoj4=",
            "dtype": "f8"
           },
           "yaxis": "y"
          }
         ],
         "name": "2008"
        },
        {
         "data": [
          {
           "hovertemplate": "<b>%{hovertext}</b><br><br>Country Name=%{text}<br>Year=2009<br>Neerslag (mm/jaar)=%{x}<br>Uitstoot per ton geproduceerd (Mt/ton)=%{y}<extra></extra>",
           "hovertext": [
            "Brazil"
           ],
           "legendgroup": "Brazil",
           "marker": {
            "color": "#636efa",
            "symbol": "circle"
           },
           "mode": "markers+text",
           "name": "Brazil",
           "orientation": "v",
           "showlegend": true,
           "text": [
            "Brazil"
           ],
           "type": "scatter",
           "x": {
            "bdata": "AAAAAACEm0A=",
            "dtype": "f8"
           },
           "xaxis": "x",
           "y": {
            "bdata": "o9UM1Qs1bD4=",
            "dtype": "f8"
           },
           "yaxis": "y"
          },
          {
           "hovertemplate": "<b>%{hovertext}</b><br><br>Country Name=%{text}<br>Year=2009<br>Neerslag (mm/jaar)=%{x}<br>Uitstoot per ton geproduceerd (Mt/ton)=%{y}<extra></extra>",
           "hovertext": [
            "India"
           ],
           "legendgroup": "India",
           "marker": {
            "color": "#EF553B",
            "symbol": "circle"
           },
           "mode": "markers+text",
           "name": "India",
           "orientation": "v",
           "showlegend": true,
           "text": [
            "India"
           ],
           "type": "scatter",
           "x": {
            "bdata": "AAAAAADskEA=",
            "dtype": "f8"
           },
           "xaxis": "x",
           "y": {
            "bdata": "Ls8EZI4okD4=",
            "dtype": "f8"
           },
           "yaxis": "y"
          },
          {
           "hovertemplate": "<b>%{hovertext}</b><br><br>Country Name=%{text}<br>Year=2009<br>Neerslag (mm/jaar)=%{x}<br>Uitstoot per ton geproduceerd (Mt/ton)=%{y}<extra></extra>",
           "hovertext": [
            "Indonesia"
           ],
           "legendgroup": "Indonesia",
           "marker": {
            "color": "#00cc96",
            "symbol": "circle"
           },
           "mode": "markers+text",
           "name": "Indonesia",
           "orientation": "v",
           "showlegend": true,
           "text": [
            "Indonesia"
           ],
           "type": "scatter",
           "x": {
            "bdata": "AAAAAAAcpUA=",
            "dtype": "f8"
           },
           "xaxis": "x",
           "y": {
            "bdata": "pIp/UdblYT4=",
            "dtype": "f8"
           },
           "yaxis": "y"
          },
          {
           "hovertemplate": "<b>%{hovertext}</b><br><br>Country Name=%{text}<br>Year=2009<br>Neerslag (mm/jaar)=%{x}<br>Uitstoot per ton geproduceerd (Mt/ton)=%{y}<extra></extra>",
           "hovertext": [
            "Japan"
           ],
           "legendgroup": "Japan",
           "marker": {
            "color": "#ab63fa",
            "symbol": "circle"
           },
           "mode": "markers+text",
           "name": "Japan",
           "orientation": "v",
           "showlegend": true,
           "text": [
            "Japan"
           ],
           "type": "scatter",
           "x": {
            "bdata": "AAAAAAAQmkA=",
            "dtype": "f8"
           },
           "xaxis": "x",
           "y": {
            "bdata": "eLXiKqqehD4=",
            "dtype": "f8"
           },
           "yaxis": "y"
          },
          {
           "hovertemplate": "<b>%{hovertext}</b><br><br>Country Name=%{text}<br>Year=2009<br>Neerslag (mm/jaar)=%{x}<br>Uitstoot per ton geproduceerd (Mt/ton)=%{y}<extra></extra>",
           "hovertext": [
            "Nigeria"
           ],
           "legendgroup": "Nigeria",
           "marker": {
            "color": "#FFA15A",
            "symbol": "circle"
           },
           "mode": "markers+text",
           "name": "Nigeria",
           "orientation": "v",
           "showlegend": true,
           "text": [
            "Nigeria"
           ],
           "type": "scatter",
           "x": {
            "bdata": "AAAAAAD4kUA=",
            "dtype": "f8"
           },
           "xaxis": "x",
           "y": {
            "bdata": "sRHhOjNlTD4=",
            "dtype": "f8"
           },
           "yaxis": "y"
          },
          {
           "hovertemplate": "<b>%{hovertext}</b><br><br>Country Name=%{text}<br>Year=2009<br>Neerslag (mm/jaar)=%{x}<br>Uitstoot per ton geproduceerd (Mt/ton)=%{y}<extra></extra>",
           "hovertext": [
            "South Africa"
           ],
           "legendgroup": "South Africa",
           "marker": {
            "color": "#19d3f3",
            "symbol": "circle"
           },
           "mode": "markers+text",
           "name": "South Africa",
           "orientation": "v",
           "showlegend": true,
           "text": [
            "South Africa"
           ],
           "type": "scatter",
           "x": {
            "bdata": "AAAAAADwfkA=",
            "dtype": "f8"
           },
           "xaxis": "x",
           "y": {
            "bdata": "EymDIG7dfz4=",
            "dtype": "f8"
           },
           "yaxis": "y"
          },
          {
           "hovertemplate": "<b>%{hovertext}</b><br><br>Country Name=%{text}<br>Year=2009<br>Neerslag (mm/jaar)=%{x}<br>Uitstoot per ton geproduceerd (Mt/ton)=%{y}<extra></extra>",
           "hovertext": [
            "United States of America"
           ],
           "legendgroup": "United States of America",
           "marker": {
            "color": "#FF6692",
            "symbol": "circle"
           },
           "mode": "markers+text",
           "name": "United States of America",
           "orientation": "v",
           "showlegend": true,
           "text": [
            "United States of America"
           ],
           "type": "scatter",
           "x": {
            "bdata": "AAAAAABYhkA=",
            "dtype": "f8"
           },
           "xaxis": "x",
           "y": {
            "bdata": "zrQAFUFAoD4=",
            "dtype": "f8"
           },
           "yaxis": "y"
          }
         ],
         "name": "2009"
        },
        {
         "data": [
          {
           "hovertemplate": "<b>%{hovertext}</b><br><br>Country Name=%{text}<br>Year=2010<br>Neerslag (mm/jaar)=%{x}<br>Uitstoot per ton geproduceerd (Mt/ton)=%{y}<extra></extra>",
           "hovertext": [
            "Brazil"
           ],
           "legendgroup": "Brazil",
           "marker": {
            "color": "#636efa",
            "symbol": "circle"
           },
           "mode": "markers+text",
           "name": "Brazil",
           "orientation": "v",
           "showlegend": true,
           "text": [
            "Brazil"
           ],
           "type": "scatter",
           "x": {
            "bdata": "AAAAAACEm0A=",
            "dtype": "f8"
           },
           "xaxis": "x",
           "y": {
            "bdata": "9v8dKVBEbD4=",
            "dtype": "f8"
           },
           "yaxis": "y"
          },
          {
           "hovertemplate": "<b>%{hovertext}</b><br><br>Country Name=%{text}<br>Year=2010<br>Neerslag (mm/jaar)=%{x}<br>Uitstoot per ton geproduceerd (Mt/ton)=%{y}<extra></extra>",
           "hovertext": [
            "India"
           ],
           "legendgroup": "India",
           "marker": {
            "color": "#EF553B",
            "symbol": "circle"
           },
           "mode": "markers+text",
           "name": "India",
           "orientation": "v",
           "showlegend": true,
           "text": [
            "India"
           ],
           "type": "scatter",
           "x": {
            "bdata": "AAAAAADskEA=",
            "dtype": "f8"
           },
           "xaxis": "x",
           "y": {
            "bdata": "hPbSvOxGjz4=",
            "dtype": "f8"
           },
           "yaxis": "y"
          },
          {
           "hovertemplate": "<b>%{hovertext}</b><br><br>Country Name=%{text}<br>Year=2010<br>Neerslag (mm/jaar)=%{x}<br>Uitstoot per ton geproduceerd (Mt/ton)=%{y}<extra></extra>",
           "hovertext": [
            "Indonesia"
           ],
           "legendgroup": "Indonesia",
           "marker": {
            "color": "#00cc96",
            "symbol": "circle"
           },
           "mode": "markers+text",
           "name": "Indonesia",
           "orientation": "v",
           "showlegend": true,
           "text": [
            "Indonesia"
           ],
           "type": "scatter",
           "x": {
            "bdata": "AAAAAAAcpUA=",
            "dtype": "f8"
           },
           "xaxis": "x",
           "y": {
            "bdata": "Lt5ahAisYT4=",
            "dtype": "f8"
           },
           "yaxis": "y"
          },
          {
           "hovertemplate": "<b>%{hovertext}</b><br><br>Country Name=%{text}<br>Year=2010<br>Neerslag (mm/jaar)=%{x}<br>Uitstoot per ton geproduceerd (Mt/ton)=%{y}<extra></extra>",
           "hovertext": [
            "Japan"
           ],
           "legendgroup": "Japan",
           "marker": {
            "color": "#ab63fa",
            "symbol": "circle"
           },
           "mode": "markers+text",
           "name": "Japan",
           "orientation": "v",
           "showlegend": true,
           "text": [
            "Japan"
           ],
           "type": "scatter",
           "x": {
            "bdata": "AAAAAAAQmkA=",
            "dtype": "f8"
           },
           "xaxis": "x",
           "y": {
            "bdata": "lVN/zkkchT4=",
            "dtype": "f8"
           },
           "yaxis": "y"
          },
          {
           "hovertemplate": "<b>%{hovertext}</b><br><br>Country Name=%{text}<br>Year=2010<br>Neerslag (mm/jaar)=%{x}<br>Uitstoot per ton geproduceerd (Mt/ton)=%{y}<extra></extra>",
           "hovertext": [
            "Nigeria"
           ],
           "legendgroup": "Nigeria",
           "marker": {
            "color": "#FFA15A",
            "symbol": "circle"
           },
           "mode": "markers+text",
           "name": "Nigeria",
           "orientation": "v",
           "showlegend": true,
           "text": [
            "Nigeria"
           ],
           "type": "scatter",
           "x": {
            "bdata": "AAAAAAD4kUA=",
            "dtype": "f8"
           },
           "xaxis": "x",
           "y": {
            "bdata": "M60wVIcORz4=",
            "dtype": "f8"
           },
           "yaxis": "y"
          },
          {
           "hovertemplate": "<b>%{hovertext}</b><br><br>Country Name=%{text}<br>Year=2010<br>Neerslag (mm/jaar)=%{x}<br>Uitstoot per ton geproduceerd (Mt/ton)=%{y}<extra></extra>",
           "hovertext": [
            "South Africa"
           ],
           "legendgroup": "South Africa",
           "marker": {
            "color": "#19d3f3",
            "symbol": "circle"
           },
           "mode": "markers+text",
           "name": "South Africa",
           "orientation": "v",
           "showlegend": true,
           "text": [
            "South Africa"
           ],
           "type": "scatter",
           "x": {
            "bdata": "AAAAAADwfkA=",
            "dtype": "f8"
           },
           "xaxis": "x",
           "y": {
            "bdata": "OITpaho5fz4=",
            "dtype": "f8"
           },
           "yaxis": "y"
          },
          {
           "hovertemplate": "<b>%{hovertext}</b><br><br>Country Name=%{text}<br>Year=2010<br>Neerslag (mm/jaar)=%{x}<br>Uitstoot per ton geproduceerd (Mt/ton)=%{y}<extra></extra>",
           "hovertext": [
            "United States of America"
           ],
           "legendgroup": "United States of America",
           "marker": {
            "color": "#FF6692",
            "symbol": "circle"
           },
           "mode": "markers+text",
           "name": "United States of America",
           "orientation": "v",
           "showlegend": true,
           "text": [
            "United States of America"
           ],
           "type": "scatter",
           "x": {
            "bdata": "AAAAAABYhkA=",
            "dtype": "f8"
           },
           "xaxis": "x",
           "y": {
            "bdata": "/Urd7Zc/oD4=",
            "dtype": "f8"
           },
           "yaxis": "y"
          }
         ],
         "name": "2010"
        },
        {
         "data": [
          {
           "hovertemplate": "<b>%{hovertext}</b><br><br>Country Name=%{text}<br>Year=2011<br>Neerslag (mm/jaar)=%{x}<br>Uitstoot per ton geproduceerd (Mt/ton)=%{y}<extra></extra>",
           "hovertext": [
            "Brazil"
           ],
           "legendgroup": "Brazil",
           "marker": {
            "color": "#636efa",
            "symbol": "circle"
           },
           "mode": "markers+text",
           "name": "Brazil",
           "orientation": "v",
           "showlegend": true,
           "text": [
            "Brazil"
           ],
           "type": "scatter",
           "x": {
            "bdata": "AAAAAACEm0A=",
            "dtype": "f8"
           },
           "xaxis": "x",
           "y": {
            "bdata": "V1zYHHWmbD4=",
            "dtype": "f8"
           },
           "yaxis": "y"
          },
          {
           "hovertemplate": "<b>%{hovertext}</b><br><br>Country Name=%{text}<br>Year=2011<br>Neerslag (mm/jaar)=%{x}<br>Uitstoot per ton geproduceerd (Mt/ton)=%{y}<extra></extra>",
           "hovertext": [
            "India"
           ],
           "legendgroup": "India",
           "marker": {
            "color": "#EF553B",
            "symbol": "circle"
           },
           "mode": "markers+text",
           "name": "India",
           "orientation": "v",
           "showlegend": true,
           "text": [
            "India"
           ],
           "type": "scatter",
           "x": {
            "bdata": "AAAAAADskEA=",
            "dtype": "f8"
           },
           "xaxis": "x",
           "y": {
            "bdata": "m3EThfiOjT4=",
            "dtype": "f8"
           },
           "yaxis": "y"
          },
          {
           "hovertemplate": "<b>%{hovertext}</b><br><br>Country Name=%{text}<br>Year=2011<br>Neerslag (mm/jaar)=%{x}<br>Uitstoot per ton geproduceerd (Mt/ton)=%{y}<extra></extra>",
           "hovertext": [
            "Indonesia"
           ],
           "legendgroup": "Indonesia",
           "marker": {
            "color": "#00cc96",
            "symbol": "circle"
           },
           "mode": "markers+text",
           "name": "Indonesia",
           "orientation": "v",
           "showlegend": true,
           "text": [
            "Indonesia"
           ],
           "type": "scatter",
           "x": {
            "bdata": "AAAAAAAcpUA=",
            "dtype": "f8"
           },
           "xaxis": "x",
           "y": {
            "bdata": "K72o7SXcYT4=",
            "dtype": "f8"
           },
           "yaxis": "y"
          },
          {
           "hovertemplate": "<b>%{hovertext}</b><br><br>Country Name=%{text}<br>Year=2011<br>Neerslag (mm/jaar)=%{x}<br>Uitstoot per ton geproduceerd (Mt/ton)=%{y}<extra></extra>",
           "hovertext": [
            "Japan"
           ],
           "legendgroup": "Japan",
           "marker": {
            "color": "#ab63fa",
            "symbol": "circle"
           },
           "mode": "markers+text",
           "name": "Japan",
           "orientation": "v",
           "showlegend": true,
           "text": [
            "Japan"
           ],
           "type": "scatter",
           "x": {
            "bdata": "AAAAAAAQmkA=",
            "dtype": "f8"
           },
           "xaxis": "x",
           "y": {
            "bdata": "7nECCXTxhD4=",
            "dtype": "f8"
           },
           "yaxis": "y"
          },
          {
           "hovertemplate": "<b>%{hovertext}</b><br><br>Country Name=%{text}<br>Year=2011<br>Neerslag (mm/jaar)=%{x}<br>Uitstoot per ton geproduceerd (Mt/ton)=%{y}<extra></extra>",
           "hovertext": [
            "Nigeria"
           ],
           "legendgroup": "Nigeria",
           "marker": {
            "color": "#FFA15A",
            "symbol": "circle"
           },
           "mode": "markers+text",
           "name": "Nigeria",
           "orientation": "v",
           "showlegend": true,
           "text": [
            "Nigeria"
           ],
           "type": "scatter",
           "x": {
            "bdata": "AAAAAAD4kUA=",
            "dtype": "f8"
           },
           "xaxis": "x",
           "y": {
            "bdata": "NK7Mu80AUj4=",
            "dtype": "f8"
           },
           "yaxis": "y"
          },
          {
           "hovertemplate": "<b>%{hovertext}</b><br><br>Country Name=%{text}<br>Year=2011<br>Neerslag (mm/jaar)=%{x}<br>Uitstoot per ton geproduceerd (Mt/ton)=%{y}<extra></extra>",
           "hovertext": [
            "South Africa"
           ],
           "legendgroup": "South Africa",
           "marker": {
            "color": "#19d3f3",
            "symbol": "circle"
           },
           "mode": "markers+text",
           "name": "South Africa",
           "orientation": "v",
           "showlegend": true,
           "text": [
            "South Africa"
           ],
           "type": "scatter",
           "x": {
            "bdata": "AAAAAADwfkA=",
            "dtype": "f8"
           },
           "xaxis": "x",
           "y": {
            "bdata": "66vWLWYBgD4=",
            "dtype": "f8"
           },
           "yaxis": "y"
          },
          {
           "hovertemplate": "<b>%{hovertext}</b><br><br>Country Name=%{text}<br>Year=2011<br>Neerslag (mm/jaar)=%{x}<br>Uitstoot per ton geproduceerd (Mt/ton)=%{y}<extra></extra>",
           "hovertext": [
            "United States of America"
           ],
           "legendgroup": "United States of America",
           "marker": {
            "color": "#FF6692",
            "symbol": "circle"
           },
           "mode": "markers+text",
           "name": "United States of America",
           "orientation": "v",
           "showlegend": true,
           "text": [
            "United States of America"
           ],
           "type": "scatter",
           "x": {
            "bdata": "AAAAAABYhkA=",
            "dtype": "f8"
           },
           "xaxis": "x",
           "y": {
            "bdata": "nZ56SUN4oD4=",
            "dtype": "f8"
           },
           "yaxis": "y"
          }
         ],
         "name": "2011"
        },
        {
         "data": [
          {
           "hovertemplate": "<b>%{hovertext}</b><br><br>Country Name=%{text}<br>Year=2012<br>Neerslag (mm/jaar)=%{x}<br>Uitstoot per ton geproduceerd (Mt/ton)=%{y}<extra></extra>",
           "hovertext": [
            "Brazil"
           ],
           "legendgroup": "Brazil",
           "marker": {
            "color": "#636efa",
            "symbol": "circle"
           },
           "mode": "markers+text",
           "name": "Brazil",
           "orientation": "v",
           "showlegend": true,
           "text": [
            "Brazil"
           ],
           "type": "scatter",
           "x": {
            "bdata": "AAAAAACEm0A=",
            "dtype": "f8"
           },
           "xaxis": "x",
           "y": {
            "bdata": "XXKC8+LGbD4=",
            "dtype": "f8"
           },
           "yaxis": "y"
          },
          {
           "hovertemplate": "<b>%{hovertext}</b><br><br>Country Name=%{text}<br>Year=2012<br>Neerslag (mm/jaar)=%{x}<br>Uitstoot per ton geproduceerd (Mt/ton)=%{y}<extra></extra>",
           "hovertext": [
            "India"
           ],
           "legendgroup": "India",
           "marker": {
            "color": "#EF553B",
            "symbol": "circle"
           },
           "mode": "markers+text",
           "name": "India",
           "orientation": "v",
           "showlegend": true,
           "text": [
            "India"
           ],
           "type": "scatter",
           "x": {
            "bdata": "AAAAAADskEA=",
            "dtype": "f8"
           },
           "xaxis": "x",
           "y": {
            "bdata": "oRf7+pCYjT4=",
            "dtype": "f8"
           },
           "yaxis": "y"
          },
          {
           "hovertemplate": "<b>%{hovertext}</b><br><br>Country Name=%{text}<br>Year=2012<br>Neerslag (mm/jaar)=%{x}<br>Uitstoot per ton geproduceerd (Mt/ton)=%{y}<extra></extra>",
           "hovertext": [
            "Indonesia"
           ],
           "legendgroup": "Indonesia",
           "marker": {
            "color": "#00cc96",
            "symbol": "circle"
           },
           "mode": "markers+text",
           "name": "Indonesia",
           "orientation": "v",
           "showlegend": true,
           "text": [
            "Indonesia"
           ],
           "type": "scatter",
           "x": {
            "bdata": "AAAAAAAcpUA=",
            "dtype": "f8"
           },
           "xaxis": "x",
           "y": {
            "bdata": "DFo6xm9zYD4=",
            "dtype": "f8"
           },
           "yaxis": "y"
          },
          {
           "hovertemplate": "<b>%{hovertext}</b><br><br>Country Name=%{text}<br>Year=2012<br>Neerslag (mm/jaar)=%{x}<br>Uitstoot per ton geproduceerd (Mt/ton)=%{y}<extra></extra>",
           "hovertext": [
            "Japan"
           ],
           "legendgroup": "Japan",
           "marker": {
            "color": "#ab63fa",
            "symbol": "circle"
           },
           "mode": "markers+text",
           "name": "Japan",
           "orientation": "v",
           "showlegend": true,
           "text": [
            "Japan"
           ],
           "type": "scatter",
           "x": {
            "bdata": "AAAAAAAQmkA=",
            "dtype": "f8"
           },
           "xaxis": "x",
           "y": {
            "bdata": "JLdUeibkgz4=",
            "dtype": "f8"
           },
           "yaxis": "y"
          },
          {
           "hovertemplate": "<b>%{hovertext}</b><br><br>Country Name=%{text}<br>Year=2012<br>Neerslag (mm/jaar)=%{x}<br>Uitstoot per ton geproduceerd (Mt/ton)=%{y}<extra></extra>",
           "hovertext": [
            "Nigeria"
           ],
           "legendgroup": "Nigeria",
           "marker": {
            "color": "#FFA15A",
            "symbol": "circle"
           },
           "mode": "markers+text",
           "name": "Nigeria",
           "orientation": "v",
           "showlegend": true,
           "text": [
            "Nigeria"
           ],
           "type": "scatter",
           "x": {
            "bdata": "AAAAAAD4kUA=",
            "dtype": "f8"
           },
           "xaxis": "x",
           "y": {
            "bdata": "RAh0m9xqUD4=",
            "dtype": "f8"
           },
           "yaxis": "y"
          },
          {
           "hovertemplate": "<b>%{hovertext}</b><br><br>Country Name=%{text}<br>Year=2012<br>Neerslag (mm/jaar)=%{x}<br>Uitstoot per ton geproduceerd (Mt/ton)=%{y}<extra></extra>",
           "hovertext": [
            "South Africa"
           ],
           "legendgroup": "South Africa",
           "marker": {
            "color": "#19d3f3",
            "symbol": "circle"
           },
           "mode": "markers+text",
           "name": "South Africa",
           "orientation": "v",
           "showlegend": true,
           "text": [
            "South Africa"
           ],
           "type": "scatter",
           "x": {
            "bdata": "AAAAAADwfkA=",
            "dtype": "f8"
           },
           "xaxis": "x",
           "y": {
            "bdata": "nnQj4XY8fT4=",
            "dtype": "f8"
           },
           "yaxis": "y"
          },
          {
           "hovertemplate": "<b>%{hovertext}</b><br><br>Country Name=%{text}<br>Year=2012<br>Neerslag (mm/jaar)=%{x}<br>Uitstoot per ton geproduceerd (Mt/ton)=%{y}<extra></extra>",
           "hovertext": [
            "United States of America"
           ],
           "legendgroup": "United States of America",
           "marker": {
            "color": "#FF6692",
            "symbol": "circle"
           },
           "mode": "markers+text",
           "name": "United States of America",
           "orientation": "v",
           "showlegend": true,
           "text": [
            "United States of America"
           ],
           "type": "scatter",
           "x": {
            "bdata": "AAAAAABYhkA=",
            "dtype": "f8"
           },
           "xaxis": "x",
           "y": {
            "bdata": "+gPzxkUboD4=",
            "dtype": "f8"
           },
           "yaxis": "y"
          }
         ],
         "name": "2012"
        },
        {
         "data": [
          {
           "hovertemplate": "<b>%{hovertext}</b><br><br>Country Name=%{text}<br>Year=2013<br>Neerslag (mm/jaar)=%{x}<br>Uitstoot per ton geproduceerd (Mt/ton)=%{y}<extra></extra>",
           "hovertext": [
            "Brazil"
           ],
           "legendgroup": "Brazil",
           "marker": {
            "color": "#636efa",
            "symbol": "circle"
           },
           "mode": "markers+text",
           "name": "Brazil",
           "orientation": "v",
           "showlegend": true,
           "text": [
            "Brazil"
           ],
           "type": "scatter",
           "x": {
            "bdata": "AAAAAACEm0A=",
            "dtype": "f8"
           },
           "xaxis": "x",
           "y": {
            "bdata": "HW2BKYrkbD4=",
            "dtype": "f8"
           },
           "yaxis": "y"
          },
          {
           "hovertemplate": "<b>%{hovertext}</b><br><br>Country Name=%{text}<br>Year=2013<br>Neerslag (mm/jaar)=%{x}<br>Uitstoot per ton geproduceerd (Mt/ton)=%{y}<extra></extra>",
           "hovertext": [
            "India"
           ],
           "legendgroup": "India",
           "marker": {
            "color": "#EF553B",
            "symbol": "circle"
           },
           "mode": "markers+text",
           "name": "India",
           "orientation": "v",
           "showlegend": true,
           "text": [
            "India"
           ],
           "type": "scatter",
           "x": {
            "bdata": "AAAAAADskEA=",
            "dtype": "f8"
           },
           "xaxis": "x",
           "y": {
            "bdata": "AP3Gwyb7jT4=",
            "dtype": "f8"
           },
           "yaxis": "y"
          },
          {
           "hovertemplate": "<b>%{hovertext}</b><br><br>Country Name=%{text}<br>Year=2013<br>Neerslag (mm/jaar)=%{x}<br>Uitstoot per ton geproduceerd (Mt/ton)=%{y}<extra></extra>",
           "hovertext": [
            "Indonesia"
           ],
           "legendgroup": "Indonesia",
           "marker": {
            "color": "#00cc96",
            "symbol": "circle"
           },
           "mode": "markers+text",
           "name": "Indonesia",
           "orientation": "v",
           "showlegend": true,
           "text": [
            "Indonesia"
           ],
           "type": "scatter",
           "x": {
            "bdata": "AAAAAAAcpUA=",
            "dtype": "f8"
           },
           "xaxis": "x",
           "y": {
            "bdata": "yZxg+H9ZYT4=",
            "dtype": "f8"
           },
           "yaxis": "y"
          },
          {
           "hovertemplate": "<b>%{hovertext}</b><br><br>Country Name=%{text}<br>Year=2013<br>Neerslag (mm/jaar)=%{x}<br>Uitstoot per ton geproduceerd (Mt/ton)=%{y}<extra></extra>",
           "hovertext": [
            "Japan"
           ],
           "legendgroup": "Japan",
           "marker": {
            "color": "#ab63fa",
            "symbol": "circle"
           },
           "mode": "markers+text",
           "name": "Japan",
           "orientation": "v",
           "showlegend": true,
           "text": [
            "Japan"
           ],
           "type": "scatter",
           "x": {
            "bdata": "AAAAAAAQmkA=",
            "dtype": "f8"
           },
           "xaxis": "x",
           "y": {
            "bdata": "+OlT+2nMgz4=",
            "dtype": "f8"
           },
           "yaxis": "y"
          },
          {
           "hovertemplate": "<b>%{hovertext}</b><br><br>Country Name=%{text}<br>Year=2013<br>Neerslag (mm/jaar)=%{x}<br>Uitstoot per ton geproduceerd (Mt/ton)=%{y}<extra></extra>",
           "hovertext": [
            "Nigeria"
           ],
           "legendgroup": "Nigeria",
           "marker": {
            "color": "#FFA15A",
            "symbol": "circle"
           },
           "mode": "markers+text",
           "name": "Nigeria",
           "orientation": "v",
           "showlegend": true,
           "text": [
            "Nigeria"
           ],
           "type": "scatter",
           "x": {
            "bdata": "AAAAAAD4kUA=",
            "dtype": "f8"
           },
           "xaxis": "x",
           "y": {
            "bdata": "oyQJ2W4iTz4=",
            "dtype": "f8"
           },
           "yaxis": "y"
          },
          {
           "hovertemplate": "<b>%{hovertext}</b><br><br>Country Name=%{text}<br>Year=2013<br>Neerslag (mm/jaar)=%{x}<br>Uitstoot per ton geproduceerd (Mt/ton)=%{y}<extra></extra>",
           "hovertext": [
            "South Africa"
           ],
           "legendgroup": "South Africa",
           "marker": {
            "color": "#19d3f3",
            "symbol": "circle"
           },
           "mode": "markers+text",
           "name": "South Africa",
           "orientation": "v",
           "showlegend": true,
           "text": [
            "South Africa"
           ],
           "type": "scatter",
           "x": {
            "bdata": "AAAAAADwfkA=",
            "dtype": "f8"
           },
           "xaxis": "x",
           "y": {
            "bdata": "ZwcgSNpZej4=",
            "dtype": "f8"
           },
           "yaxis": "y"
          },
          {
           "hovertemplate": "<b>%{hovertext}</b><br><br>Country Name=%{text}<br>Year=2013<br>Neerslag (mm/jaar)=%{x}<br>Uitstoot per ton geproduceerd (Mt/ton)=%{y}<extra></extra>",
           "hovertext": [
            "United States of America"
           ],
           "legendgroup": "United States of America",
           "marker": {
            "color": "#FF6692",
            "symbol": "circle"
           },
           "mode": "markers+text",
           "name": "United States of America",
           "orientation": "v",
           "showlegend": true,
           "text": [
            "United States of America"
           ],
           "type": "scatter",
           "x": {
            "bdata": "AAAAAABYhkA=",
            "dtype": "f8"
           },
           "xaxis": "x",
           "y": {
            "bdata": "1U9G4zPunz4=",
            "dtype": "f8"
           },
           "yaxis": "y"
          }
         ],
         "name": "2013"
        },
        {
         "data": [
          {
           "hovertemplate": "<b>%{hovertext}</b><br><br>Country Name=%{text}<br>Year=2014<br>Neerslag (mm/jaar)=%{x}<br>Uitstoot per ton geproduceerd (Mt/ton)=%{y}<extra></extra>",
           "hovertext": [
            "Brazil"
           ],
           "legendgroup": "Brazil",
           "marker": {
            "color": "#636efa",
            "symbol": "circle"
           },
           "mode": "markers+text",
           "name": "Brazil",
           "orientation": "v",
           "showlegend": true,
           "text": [
            "Brazil"
           ],
           "type": "scatter",
           "x": {
            "bdata": "AAAAAACEm0A=",
            "dtype": "f8"
           },
           "xaxis": "x",
           "y": {
            "bdata": "C8s2fAPubz4=",
            "dtype": "f8"
           },
           "yaxis": "y"
          },
          {
           "hovertemplate": "<b>%{hovertext}</b><br><br>Country Name=%{text}<br>Year=2014<br>Neerslag (mm/jaar)=%{x}<br>Uitstoot per ton geproduceerd (Mt/ton)=%{y}<extra></extra>",
           "hovertext": [
            "India"
           ],
           "legendgroup": "India",
           "marker": {
            "color": "#EF553B",
            "symbol": "circle"
           },
           "mode": "markers+text",
           "name": "India",
           "orientation": "v",
           "showlegend": true,
           "text": [
            "India"
           ],
           "type": "scatter",
           "x": {
            "bdata": "AAAAAADskEA=",
            "dtype": "f8"
           },
           "xaxis": "x",
           "y": {
            "bdata": "Q/i4KFCijT4=",
            "dtype": "f8"
           },
           "yaxis": "y"
          },
          {
           "hovertemplate": "<b>%{hovertext}</b><br><br>Country Name=%{text}<br>Year=2014<br>Neerslag (mm/jaar)=%{x}<br>Uitstoot per ton geproduceerd (Mt/ton)=%{y}<extra></extra>",
           "hovertext": [
            "Indonesia"
           ],
           "legendgroup": "Indonesia",
           "marker": {
            "color": "#00cc96",
            "symbol": "circle"
           },
           "mode": "markers+text",
           "name": "Indonesia",
           "orientation": "v",
           "showlegend": true,
           "text": [
            "Indonesia"
           ],
           "type": "scatter",
           "x": {
            "bdata": "AAAAAAAcpUA=",
            "dtype": "f8"
           },
           "xaxis": "x",
           "y": {
            "bdata": "EJ/ZLfNwYT4=",
            "dtype": "f8"
           },
           "yaxis": "y"
          },
          {
           "hovertemplate": "<b>%{hovertext}</b><br><br>Country Name=%{text}<br>Year=2014<br>Neerslag (mm/jaar)=%{x}<br>Uitstoot per ton geproduceerd (Mt/ton)=%{y}<extra></extra>",
           "hovertext": [
            "Japan"
           ],
           "legendgroup": "Japan",
           "marker": {
            "color": "#ab63fa",
            "symbol": "circle"
           },
           "mode": "markers+text",
           "name": "Japan",
           "orientation": "v",
           "showlegend": true,
           "text": [
            "Japan"
           ],
           "type": "scatter",
           "x": {
            "bdata": "AAAAAAAQmkA=",
            "dtype": "f8"
           },
           "xaxis": "x",
           "y": {
            "bdata": "ydjXrm5/gz4=",
            "dtype": "f8"
           },
           "yaxis": "y"
          },
          {
           "hovertemplate": "<b>%{hovertext}</b><br><br>Country Name=%{text}<br>Year=2014<br>Neerslag (mm/jaar)=%{x}<br>Uitstoot per ton geproduceerd (Mt/ton)=%{y}<extra></extra>",
           "hovertext": [
            "Nigeria"
           ],
           "legendgroup": "Nigeria",
           "marker": {
            "color": "#FFA15A",
            "symbol": "circle"
           },
           "mode": "markers+text",
           "name": "Nigeria",
           "orientation": "v",
           "showlegend": true,
           "text": [
            "Nigeria"
           ],
           "type": "scatter",
           "x": {
            "bdata": "AAAAAAD4kUA=",
            "dtype": "f8"
           },
           "xaxis": "x",
           "y": {
            "bdata": "Q35Y+yQDSj4=",
            "dtype": "f8"
           },
           "yaxis": "y"
          },
          {
           "hovertemplate": "<b>%{hovertext}</b><br><br>Country Name=%{text}<br>Year=2014<br>Neerslag (mm/jaar)=%{x}<br>Uitstoot per ton geproduceerd (Mt/ton)=%{y}<extra></extra>",
           "hovertext": [
            "South Africa"
           ],
           "legendgroup": "South Africa",
           "marker": {
            "color": "#19d3f3",
            "symbol": "circle"
           },
           "mode": "markers+text",
           "name": "South Africa",
           "orientation": "v",
           "showlegend": true,
           "text": [
            "South Africa"
           ],
           "type": "scatter",
           "x": {
            "bdata": "AAAAAADwfkA=",
            "dtype": "f8"
           },
           "xaxis": "x",
           "y": {
            "bdata": "0vlHliEZez4=",
            "dtype": "f8"
           },
           "yaxis": "y"
          },
          {
           "hovertemplate": "<b>%{hovertext}</b><br><br>Country Name=%{text}<br>Year=2014<br>Neerslag (mm/jaar)=%{x}<br>Uitstoot per ton geproduceerd (Mt/ton)=%{y}<extra></extra>",
           "hovertext": [
            "United States of America"
           ],
           "legendgroup": "United States of America",
           "marker": {
            "color": "#FF6692",
            "symbol": "circle"
           },
           "mode": "markers+text",
           "name": "United States of America",
           "orientation": "v",
           "showlegend": true,
           "text": [
            "United States of America"
           ],
           "type": "scatter",
           "x": {
            "bdata": "AAAAAABYhkA=",
            "dtype": "f8"
           },
           "xaxis": "x",
           "y": {
            "bdata": "P+8Qa07Inj4=",
            "dtype": "f8"
           },
           "yaxis": "y"
          }
         ],
         "name": "2014"
        },
        {
         "data": [
          {
           "hovertemplate": "<b>%{hovertext}</b><br><br>Country Name=%{text}<br>Year=2015<br>Neerslag (mm/jaar)=%{x}<br>Uitstoot per ton geproduceerd (Mt/ton)=%{y}<extra></extra>",
           "hovertext": [
            "Brazil"
           ],
           "legendgroup": "Brazil",
           "marker": {
            "color": "#636efa",
            "symbol": "circle"
           },
           "mode": "markers+text",
           "name": "Brazil",
           "orientation": "v",
           "showlegend": true,
           "text": [
            "Brazil"
           ],
           "type": "scatter",
           "x": {
            "bdata": "AAAAAACEm0A=",
            "dtype": "f8"
           },
           "xaxis": "x",
           "y": {
            "bdata": "SlWrTqflbT4=",
            "dtype": "f8"
           },
           "yaxis": "y"
          },
          {
           "hovertemplate": "<b>%{hovertext}</b><br><br>Country Name=%{text}<br>Year=2015<br>Neerslag (mm/jaar)=%{x}<br>Uitstoot per ton geproduceerd (Mt/ton)=%{y}<extra></extra>",
           "hovertext": [
            "India"
           ],
           "legendgroup": "India",
           "marker": {
            "color": "#EF553B",
            "symbol": "circle"
           },
           "mode": "markers+text",
           "name": "India",
           "orientation": "v",
           "showlegend": true,
           "text": [
            "India"
           ],
           "type": "scatter",
           "x": {
            "bdata": "AAAAAADskEA=",
            "dtype": "f8"
           },
           "xaxis": "x",
           "y": {
            "bdata": "8vXNhEpnjT4=",
            "dtype": "f8"
           },
           "yaxis": "y"
          },
          {
           "hovertemplate": "<b>%{hovertext}</b><br><br>Country Name=%{text}<br>Year=2015<br>Neerslag (mm/jaar)=%{x}<br>Uitstoot per ton geproduceerd (Mt/ton)=%{y}<extra></extra>",
           "hovertext": [
            "Indonesia"
           ],
           "legendgroup": "Indonesia",
           "marker": {
            "color": "#00cc96",
            "symbol": "circle"
           },
           "mode": "markers+text",
           "name": "Indonesia",
           "orientation": "v",
           "showlegend": true,
           "text": [
            "Indonesia"
           ],
           "type": "scatter",
           "x": {
            "bdata": "AAAAAAAcpUA=",
            "dtype": "f8"
           },
           "xaxis": "x",
           "y": {
            "bdata": "4hjNt8VAYD4=",
            "dtype": "f8"
           },
           "yaxis": "y"
          },
          {
           "hovertemplate": "<b>%{hovertext}</b><br><br>Country Name=%{text}<br>Year=2015<br>Neerslag (mm/jaar)=%{x}<br>Uitstoot per ton geproduceerd (Mt/ton)=%{y}<extra></extra>",
           "hovertext": [
            "Japan"
           ],
           "legendgroup": "Japan",
           "marker": {
            "color": "#ab63fa",
            "symbol": "circle"
           },
           "mode": "markers+text",
           "name": "Japan",
           "orientation": "v",
           "showlegend": true,
           "text": [
            "Japan"
           ],
           "type": "scatter",
           "x": {
            "bdata": "AAAAAAAQmkA=",
            "dtype": "f8"
           },
           "xaxis": "x",
           "y": {
            "bdata": "zr0vNaxRgz4=",
            "dtype": "f8"
           },
           "yaxis": "y"
          },
          {
           "hovertemplate": "<b>%{hovertext}</b><br><br>Country Name=%{text}<br>Year=2015<br>Neerslag (mm/jaar)=%{x}<br>Uitstoot per ton geproduceerd (Mt/ton)=%{y}<extra></extra>",
           "hovertext": [
            "Nigeria"
           ],
           "legendgroup": "Nigeria",
           "marker": {
            "color": "#FFA15A",
            "symbol": "circle"
           },
           "mode": "markers+text",
           "name": "Nigeria",
           "orientation": "v",
           "showlegend": true,
           "text": [
            "Nigeria"
           ],
           "type": "scatter",
           "x": {
            "bdata": "AAAAAAD4kUA=",
            "dtype": "f8"
           },
           "xaxis": "x",
           "y": {
            "bdata": "6PNmiazySD4=",
            "dtype": "f8"
           },
           "yaxis": "y"
          },
          {
           "hovertemplate": "<b>%{hovertext}</b><br><br>Country Name=%{text}<br>Year=2015<br>Neerslag (mm/jaar)=%{x}<br>Uitstoot per ton geproduceerd (Mt/ton)=%{y}<extra></extra>",
           "hovertext": [
            "South Africa"
           ],
           "legendgroup": "South Africa",
           "marker": {
            "color": "#19d3f3",
            "symbol": "circle"
           },
           "mode": "markers+text",
           "name": "South Africa",
           "orientation": "v",
           "showlegend": true,
           "text": [
            "South Africa"
           ],
           "type": "scatter",
           "x": {
            "bdata": "AAAAAADwfkA=",
            "dtype": "f8"
           },
           "xaxis": "x",
           "y": {
            "bdata": "ZmXMhr1ofD4=",
            "dtype": "f8"
           },
           "yaxis": "y"
          },
          {
           "hovertemplate": "<b>%{hovertext}</b><br><br>Country Name=%{text}<br>Year=2015<br>Neerslag (mm/jaar)=%{x}<br>Uitstoot per ton geproduceerd (Mt/ton)=%{y}<extra></extra>",
           "hovertext": [
            "United States of America"
           ],
           "legendgroup": "United States of America",
           "marker": {
            "color": "#FF6692",
            "symbol": "circle"
           },
           "mode": "markers+text",
           "name": "United States of America",
           "orientation": "v",
           "showlegend": true,
           "text": [
            "United States of America"
           ],
           "type": "scatter",
           "x": {
            "bdata": "AAAAAABYhkA=",
            "dtype": "f8"
           },
           "xaxis": "x",
           "y": {
            "bdata": "orN5UMqunj4=",
            "dtype": "f8"
           },
           "yaxis": "y"
          }
         ],
         "name": "2015"
        },
        {
         "data": [
          {
           "hovertemplate": "<b>%{hovertext}</b><br><br>Country Name=%{text}<br>Year=2016<br>Neerslag (mm/jaar)=%{x}<br>Uitstoot per ton geproduceerd (Mt/ton)=%{y}<extra></extra>",
           "hovertext": [
            "Brazil"
           ],
           "legendgroup": "Brazil",
           "marker": {
            "color": "#636efa",
            "symbol": "circle"
           },
           "mode": "markers+text",
           "name": "Brazil",
           "orientation": "v",
           "showlegend": true,
           "text": [
            "Brazil"
           ],
           "type": "scatter",
           "x": {
            "bdata": "AAAAAACEm0A=",
            "dtype": "f8"
           },
           "xaxis": "x",
           "y": {
            "bdata": "EvCpKw5tbT4=",
            "dtype": "f8"
           },
           "yaxis": "y"
          },
          {
           "hovertemplate": "<b>%{hovertext}</b><br><br>Country Name=%{text}<br>Year=2016<br>Neerslag (mm/jaar)=%{x}<br>Uitstoot per ton geproduceerd (Mt/ton)=%{y}<extra></extra>",
           "hovertext": [
            "India"
           ],
           "legendgroup": "India",
           "marker": {
            "color": "#EF553B",
            "symbol": "circle"
           },
           "mode": "markers+text",
           "name": "India",
           "orientation": "v",
           "showlegend": true,
           "text": [
            "India"
           ],
           "type": "scatter",
           "x": {
            "bdata": "AAAAAADskEA=",
            "dtype": "f8"
           },
           "xaxis": "x",
           "y": {
            "bdata": "4N7VeePfjT4=",
            "dtype": "f8"
           },
           "yaxis": "y"
          },
          {
           "hovertemplate": "<b>%{hovertext}</b><br><br>Country Name=%{text}<br>Year=2016<br>Neerslag (mm/jaar)=%{x}<br>Uitstoot per ton geproduceerd (Mt/ton)=%{y}<extra></extra>",
           "hovertext": [
            "Indonesia"
           ],
           "legendgroup": "Indonesia",
           "marker": {
            "color": "#00cc96",
            "symbol": "circle"
           },
           "mode": "markers+text",
           "name": "Indonesia",
           "orientation": "v",
           "showlegend": true,
           "text": [
            "Indonesia"
           ],
           "type": "scatter",
           "x": {
            "bdata": "AAAAAAAcpUA=",
            "dtype": "f8"
           },
           "xaxis": "x",
           "y": {
            "bdata": "CA3WIrdhYD4=",
            "dtype": "f8"
           },
           "yaxis": "y"
          },
          {
           "hovertemplate": "<b>%{hovertext}</b><br><br>Country Name=%{text}<br>Year=2016<br>Neerslag (mm/jaar)=%{x}<br>Uitstoot per ton geproduceerd (Mt/ton)=%{y}<extra></extra>",
           "hovertext": [
            "Japan"
           ],
           "legendgroup": "Japan",
           "marker": {
            "color": "#ab63fa",
            "symbol": "circle"
           },
           "mode": "markers+text",
           "name": "Japan",
           "orientation": "v",
           "showlegend": true,
           "text": [
            "Japan"
           ],
           "type": "scatter",
           "x": {
            "bdata": "AAAAAAAQmkA=",
            "dtype": "f8"
           },
           "xaxis": "x",
           "y": {
            "bdata": "5dKnvgR7gz4=",
            "dtype": "f8"
           },
           "yaxis": "y"
          },
          {
           "hovertemplate": "<b>%{hovertext}</b><br><br>Country Name=%{text}<br>Year=2016<br>Neerslag (mm/jaar)=%{x}<br>Uitstoot per ton geproduceerd (Mt/ton)=%{y}<extra></extra>",
           "hovertext": [
            "Nigeria"
           ],
           "legendgroup": "Nigeria",
           "marker": {
            "color": "#FFA15A",
            "symbol": "circle"
           },
           "mode": "markers+text",
           "name": "Nigeria",
           "orientation": "v",
           "showlegend": true,
           "text": [
            "Nigeria"
           ],
           "type": "scatter",
           "x": {
            "bdata": "AAAAAAD4kUA=",
            "dtype": "f8"
           },
           "xaxis": "x",
           "y": {
            "bdata": "fC/bnUHDRz4=",
            "dtype": "f8"
           },
           "yaxis": "y"
          },
          {
           "hovertemplate": "<b>%{hovertext}</b><br><br>Country Name=%{text}<br>Year=2016<br>Neerslag (mm/jaar)=%{x}<br>Uitstoot per ton geproduceerd (Mt/ton)=%{y}<extra></extra>",
           "hovertext": [
            "South Africa"
           ],
           "legendgroup": "South Africa",
           "marker": {
            "color": "#19d3f3",
            "symbol": "circle"
           },
           "mode": "markers+text",
           "name": "South Africa",
           "orientation": "v",
           "showlegend": true,
           "text": [
            "South Africa"
           ],
           "type": "scatter",
           "x": {
            "bdata": "AAAAAADwfkA=",
            "dtype": "f8"
           },
           "xaxis": "x",
           "y": {
            "bdata": "wivGE6sAfz4=",
            "dtype": "f8"
           },
           "yaxis": "y"
          },
          {
           "hovertemplate": "<b>%{hovertext}</b><br><br>Country Name=%{text}<br>Year=2016<br>Neerslag (mm/jaar)=%{x}<br>Uitstoot per ton geproduceerd (Mt/ton)=%{y}<extra></extra>",
           "hovertext": [
            "United States of America"
           ],
           "legendgroup": "United States of America",
           "marker": {
            "color": "#FF6692",
            "symbol": "circle"
           },
           "mode": "markers+text",
           "name": "United States of America",
           "orientation": "v",
           "showlegend": true,
           "text": [
            "United States of America"
           ],
           "type": "scatter",
           "x": {
            "bdata": "AAAAAABYhkA=",
            "dtype": "f8"
           },
           "xaxis": "x",
           "y": {
            "bdata": "/q4QfNPGnT4=",
            "dtype": "f8"
           },
           "yaxis": "y"
          }
         ],
         "name": "2016"
        },
        {
         "data": [
          {
           "hovertemplate": "<b>%{hovertext}</b><br><br>Country Name=%{text}<br>Year=2017<br>Neerslag (mm/jaar)=%{x}<br>Uitstoot per ton geproduceerd (Mt/ton)=%{y}<extra></extra>",
           "hovertext": [
            "Brazil"
           ],
           "legendgroup": "Brazil",
           "marker": {
            "color": "#636efa",
            "symbol": "circle"
           },
           "mode": "markers+text",
           "name": "Brazil",
           "orientation": "v",
           "showlegend": true,
           "text": [
            "Brazil"
           ],
           "type": "scatter",
           "x": {
            "bdata": "AAAAAACEm0A=",
            "dtype": "f8"
           },
           "xaxis": "x",
           "y": {
            "bdata": "UpW1JgmQbD4=",
            "dtype": "f8"
           },
           "yaxis": "y"
          },
          {
           "hovertemplate": "<b>%{hovertext}</b><br><br>Country Name=%{text}<br>Year=2017<br>Neerslag (mm/jaar)=%{x}<br>Uitstoot per ton geproduceerd (Mt/ton)=%{y}<extra></extra>",
           "hovertext": [
            "India"
           ],
           "legendgroup": "India",
           "marker": {
            "color": "#EF553B",
            "symbol": "circle"
           },
           "mode": "markers+text",
           "name": "India",
           "orientation": "v",
           "showlegend": true,
           "text": [
            "India"
           ],
           "type": "scatter",
           "x": {
            "bdata": "AAAAAADskEA=",
            "dtype": "f8"
           },
           "xaxis": "x",
           "y": {
            "bdata": "izsko6+djz4=",
            "dtype": "f8"
           },
           "yaxis": "y"
          },
          {
           "hovertemplate": "<b>%{hovertext}</b><br><br>Country Name=%{text}<br>Year=2017<br>Neerslag (mm/jaar)=%{x}<br>Uitstoot per ton geproduceerd (Mt/ton)=%{y}<extra></extra>",
           "hovertext": [
            "Indonesia"
           ],
           "legendgroup": "Indonesia",
           "marker": {
            "color": "#00cc96",
            "symbol": "circle"
           },
           "mode": "markers+text",
           "name": "Indonesia",
           "orientation": "v",
           "showlegend": true,
           "text": [
            "Indonesia"
           ],
           "type": "scatter",
           "x": {
            "bdata": "AAAAAAAcpUA=",
            "dtype": "f8"
           },
           "xaxis": "x",
           "y": {
            "bdata": "bpafVWoOXj4=",
            "dtype": "f8"
           },
           "yaxis": "y"
          },
          {
           "hovertemplate": "<b>%{hovertext}</b><br><br>Country Name=%{text}<br>Year=2017<br>Neerslag (mm/jaar)=%{x}<br>Uitstoot per ton geproduceerd (Mt/ton)=%{y}<extra></extra>",
           "hovertext": [
            "Japan"
           ],
           "legendgroup": "Japan",
           "marker": {
            "color": "#ab63fa",
            "symbol": "circle"
           },
           "mode": "markers+text",
           "name": "Japan",
           "orientation": "v",
           "showlegend": true,
           "text": [
            "Japan"
           ],
           "type": "scatter",
           "x": {
            "bdata": "AAAAAAAQmkA=",
            "dtype": "f8"
           },
           "xaxis": "x",
           "y": {
            "bdata": "BCkhhWn2gj4=",
            "dtype": "f8"
           },
           "yaxis": "y"
          },
          {
           "hovertemplate": "<b>%{hovertext}</b><br><br>Country Name=%{text}<br>Year=2017<br>Neerslag (mm/jaar)=%{x}<br>Uitstoot per ton geproduceerd (Mt/ton)=%{y}<extra></extra>",
           "hovertext": [
            "Nigeria"
           ],
           "legendgroup": "Nigeria",
           "marker": {
            "color": "#FFA15A",
            "symbol": "circle"
           },
           "mode": "markers+text",
           "name": "Nigeria",
           "orientation": "v",
           "showlegend": true,
           "text": [
            "Nigeria"
           ],
           "type": "scatter",
           "x": {
            "bdata": "AAAAAAD4kUA=",
            "dtype": "f8"
           },
           "xaxis": "x",
           "y": {
            "bdata": "7pHVBocIRz4=",
            "dtype": "f8"
           },
           "yaxis": "y"
          },
          {
           "hovertemplate": "<b>%{hovertext}</b><br><br>Country Name=%{text}<br>Year=2017<br>Neerslag (mm/jaar)=%{x}<br>Uitstoot per ton geproduceerd (Mt/ton)=%{y}<extra></extra>",
           "hovertext": [
            "South Africa"
           ],
           "legendgroup": "South Africa",
           "marker": {
            "color": "#19d3f3",
            "symbol": "circle"
           },
           "mode": "markers+text",
           "name": "South Africa",
           "orientation": "v",
           "showlegend": true,
           "text": [
            "South Africa"
           ],
           "type": "scatter",
           "x": {
            "bdata": "AAAAAADwfkA=",
            "dtype": "f8"
           },
           "xaxis": "x",
           "y": {
            "bdata": "KOk9lpCBej4=",
            "dtype": "f8"
           },
           "yaxis": "y"
          },
          {
           "hovertemplate": "<b>%{hovertext}</b><br><br>Country Name=%{text}<br>Year=2017<br>Neerslag (mm/jaar)=%{x}<br>Uitstoot per ton geproduceerd (Mt/ton)=%{y}<extra></extra>",
           "hovertext": [
            "United States of America"
           ],
           "legendgroup": "United States of America",
           "marker": {
            "color": "#FF6692",
            "symbol": "circle"
           },
           "mode": "markers+text",
           "name": "United States of America",
           "orientation": "v",
           "showlegend": true,
           "text": [
            "United States of America"
           ],
           "type": "scatter",
           "x": {
            "bdata": "AAAAAABYhkA=",
            "dtype": "f8"
           },
           "xaxis": "x",
           "y": {
            "bdata": "qeVvYaLnnD4=",
            "dtype": "f8"
           },
           "yaxis": "y"
          }
         ],
         "name": "2017"
        },
        {
         "data": [
          {
           "hovertemplate": "<b>%{hovertext}</b><br><br>Country Name=%{text}<br>Year=2018<br>Neerslag (mm/jaar)=%{x}<br>Uitstoot per ton geproduceerd (Mt/ton)=%{y}<extra></extra>",
           "hovertext": [
            "Brazil"
           ],
           "legendgroup": "Brazil",
           "marker": {
            "color": "#636efa",
            "symbol": "circle"
           },
           "mode": "markers+text",
           "name": "Brazil",
           "orientation": "v",
           "showlegend": true,
           "text": [
            "Brazil"
           ],
           "type": "scatter",
           "x": {
            "bdata": "AAAAAACEm0A=",
            "dtype": "f8"
           },
           "xaxis": "x",
           "y": {
            "bdata": "l5icCMYabT4=",
            "dtype": "f8"
           },
           "yaxis": "y"
          },
          {
           "hovertemplate": "<b>%{hovertext}</b><br><br>Country Name=%{text}<br>Year=2018<br>Neerslag (mm/jaar)=%{x}<br>Uitstoot per ton geproduceerd (Mt/ton)=%{y}<extra></extra>",
           "hovertext": [
            "India"
           ],
           "legendgroup": "India",
           "marker": {
            "color": "#EF553B",
            "symbol": "circle"
           },
           "mode": "markers+text",
           "name": "India",
           "orientation": "v",
           "showlegend": true,
           "text": [
            "India"
           ],
           "type": "scatter",
           "x": {
            "bdata": "AAAAAADskEA=",
            "dtype": "f8"
           },
           "xaxis": "x",
           "y": {
            "bdata": "b+KVmZ3jiz4=",
            "dtype": "f8"
           },
           "yaxis": "y"
          },
          {
           "hovertemplate": "<b>%{hovertext}</b><br><br>Country Name=%{text}<br>Year=2018<br>Neerslag (mm/jaar)=%{x}<br>Uitstoot per ton geproduceerd (Mt/ton)=%{y}<extra></extra>",
           "hovertext": [
            "Indonesia"
           ],
           "legendgroup": "Indonesia",
           "marker": {
            "color": "#00cc96",
            "symbol": "circle"
           },
           "mode": "markers+text",
           "name": "Indonesia",
           "orientation": "v",
           "showlegend": true,
           "text": [
            "Indonesia"
           ],
           "type": "scatter",
           "x": {
            "bdata": "AAAAAAAcpUA=",
            "dtype": "f8"
           },
           "xaxis": "x",
           "y": {
            "bdata": "XbQidl8rXD4=",
            "dtype": "f8"
           },
           "yaxis": "y"
          },
          {
           "hovertemplate": "<b>%{hovertext}</b><br><br>Country Name=%{text}<br>Year=2018<br>Neerslag (mm/jaar)=%{x}<br>Uitstoot per ton geproduceerd (Mt/ton)=%{y}<extra></extra>",
           "hovertext": [
            "Japan"
           ],
           "legendgroup": "Japan",
           "marker": {
            "color": "#ab63fa",
            "symbol": "circle"
           },
           "mode": "markers+text",
           "name": "Japan",
           "orientation": "v",
           "showlegend": true,
           "text": [
            "Japan"
           ],
           "type": "scatter",
           "x": {
            "bdata": "AAAAAAAQmkA=",
            "dtype": "f8"
           },
           "xaxis": "x",
           "y": {
            "bdata": "4SG5lXGBgj4=",
            "dtype": "f8"
           },
           "yaxis": "y"
          },
          {
           "hovertemplate": "<b>%{hovertext}</b><br><br>Country Name=%{text}<br>Year=2018<br>Neerslag (mm/jaar)=%{x}<br>Uitstoot per ton geproduceerd (Mt/ton)=%{y}<extra></extra>",
           "hovertext": [
            "Nigeria"
           ],
           "legendgroup": "Nigeria",
           "marker": {
            "color": "#FFA15A",
            "symbol": "circle"
           },
           "mode": "markers+text",
           "name": "Nigeria",
           "orientation": "v",
           "showlegend": true,
           "text": [
            "Nigeria"
           ],
           "type": "scatter",
           "x": {
            "bdata": "AAAAAAD4kUA=",
            "dtype": "f8"
           },
           "xaxis": "x",
           "y": {
            "bdata": "XonpIVv2RT4=",
            "dtype": "f8"
           },
           "yaxis": "y"
          },
          {
           "hovertemplate": "<b>%{hovertext}</b><br><br>Country Name=%{text}<br>Year=2018<br>Neerslag (mm/jaar)=%{x}<br>Uitstoot per ton geproduceerd (Mt/ton)=%{y}<extra></extra>",
           "hovertext": [
            "South Africa"
           ],
           "legendgroup": "South Africa",
           "marker": {
            "color": "#19d3f3",
            "symbol": "circle"
           },
           "mode": "markers+text",
           "name": "South Africa",
           "orientation": "v",
           "showlegend": true,
           "text": [
            "South Africa"
           ],
           "type": "scatter",
           "x": {
            "bdata": "AAAAAADwfkA=",
            "dtype": "f8"
           },
           "xaxis": "x",
           "y": {
            "bdata": "jH++jcKgej4=",
            "dtype": "f8"
           },
           "yaxis": "y"
          },
          {
           "hovertemplate": "<b>%{hovertext}</b><br><br>Country Name=%{text}<br>Year=2018<br>Neerslag (mm/jaar)=%{x}<br>Uitstoot per ton geproduceerd (Mt/ton)=%{y}<extra></extra>",
           "hovertext": [
            "United States of America"
           ],
           "legendgroup": "United States of America",
           "marker": {
            "color": "#FF6692",
            "symbol": "circle"
           },
           "mode": "markers+text",
           "name": "United States of America",
           "orientation": "v",
           "showlegend": true,
           "text": [
            "United States of America"
           ],
           "type": "scatter",
           "x": {
            "bdata": "AAAAAABYhkA=",
            "dtype": "f8"
           },
           "xaxis": "x",
           "y": {
            "bdata": "lOtN2BDsnT4=",
            "dtype": "f8"
           },
           "yaxis": "y"
          }
         ],
         "name": "2018"
        },
        {
         "data": [
          {
           "hovertemplate": "<b>%{hovertext}</b><br><br>Country Name=%{text}<br>Year=2019<br>Neerslag (mm/jaar)=%{x}<br>Uitstoot per ton geproduceerd (Mt/ton)=%{y}<extra></extra>",
           "hovertext": [
            "Brazil"
           ],
           "legendgroup": "Brazil",
           "marker": {
            "color": "#636efa",
            "symbol": "circle"
           },
           "mode": "markers+text",
           "name": "Brazil",
           "orientation": "v",
           "showlegend": true,
           "text": [
            "Brazil"
           ],
           "type": "scatter",
           "x": {
            "bdata": "AAAAAACEm0A=",
            "dtype": "f8"
           },
           "xaxis": "x",
           "y": {
            "bdata": "Wf1RZ+EebT4=",
            "dtype": "f8"
           },
           "yaxis": "y"
          },
          {
           "hovertemplate": "<b>%{hovertext}</b><br><br>Country Name=%{text}<br>Year=2019<br>Neerslag (mm/jaar)=%{x}<br>Uitstoot per ton geproduceerd (Mt/ton)=%{y}<extra></extra>",
           "hovertext": [
            "India"
           ],
           "legendgroup": "India",
           "marker": {
            "color": "#EF553B",
            "symbol": "circle"
           },
           "mode": "markers+text",
           "name": "India",
           "orientation": "v",
           "showlegend": true,
           "text": [
            "India"
           ],
           "type": "scatter",
           "x": {
            "bdata": "AAAAAADskEA=",
            "dtype": "f8"
           },
           "xaxis": "x",
           "y": {
            "bdata": "aJRZtShViz4=",
            "dtype": "f8"
           },
           "yaxis": "y"
          },
          {
           "hovertemplate": "<b>%{hovertext}</b><br><br>Country Name=%{text}<br>Year=2019<br>Neerslag (mm/jaar)=%{x}<br>Uitstoot per ton geproduceerd (Mt/ton)=%{y}<extra></extra>",
           "hovertext": [
            "Indonesia"
           ],
           "legendgroup": "Indonesia",
           "marker": {
            "color": "#00cc96",
            "symbol": "circle"
           },
           "mode": "markers+text",
           "name": "Indonesia",
           "orientation": "v",
           "showlegend": true,
           "text": [
            "Indonesia"
           ],
           "type": "scatter",
           "x": {
            "bdata": "AAAAAAAcpUA=",
            "dtype": "f8"
           },
           "xaxis": "x",
           "y": {
            "bdata": "qB2k/cHWWz4=",
            "dtype": "f8"
           },
           "yaxis": "y"
          },
          {
           "hovertemplate": "<b>%{hovertext}</b><br><br>Country Name=%{text}<br>Year=2019<br>Neerslag (mm/jaar)=%{x}<br>Uitstoot per ton geproduceerd (Mt/ton)=%{y}<extra></extra>",
           "hovertext": [
            "Japan"
           ],
           "legendgroup": "Japan",
           "marker": {
            "color": "#ab63fa",
            "symbol": "circle"
           },
           "mode": "markers+text",
           "name": "Japan",
           "orientation": "v",
           "showlegend": true,
           "text": [
            "Japan"
           ],
           "type": "scatter",
           "x": {
            "bdata": "AAAAAAAQmkA=",
            "dtype": "f8"
           },
           "xaxis": "x",
           "y": {
            "bdata": "tXY8owYKgz4=",
            "dtype": "f8"
           },
           "yaxis": "y"
          },
          {
           "hovertemplate": "<b>%{hovertext}</b><br><br>Country Name=%{text}<br>Year=2019<br>Neerslag (mm/jaar)=%{x}<br>Uitstoot per ton geproduceerd (Mt/ton)=%{y}<extra></extra>",
           "hovertext": [
            "Nigeria"
           ],
           "legendgroup": "Nigeria",
           "marker": {
            "color": "#FFA15A",
            "symbol": "circle"
           },
           "mode": "markers+text",
           "name": "Nigeria",
           "orientation": "v",
           "showlegend": true,
           "text": [
            "Nigeria"
           ],
           "type": "scatter",
           "x": {
            "bdata": "AAAAAAD4kUA=",
            "dtype": "f8"
           },
           "xaxis": "x",
           "y": {
            "bdata": "0C+6M+lKRj4=",
            "dtype": "f8"
           },
           "yaxis": "y"
          },
          {
           "hovertemplate": "<b>%{hovertext}</b><br><br>Country Name=%{text}<br>Year=2019<br>Neerslag (mm/jaar)=%{x}<br>Uitstoot per ton geproduceerd (Mt/ton)=%{y}<extra></extra>",
           "hovertext": [
            "South Africa"
           ],
           "legendgroup": "South Africa",
           "marker": {
            "color": "#19d3f3",
            "symbol": "circle"
           },
           "mode": "markers+text",
           "name": "South Africa",
           "orientation": "v",
           "showlegend": true,
           "text": [
            "South Africa"
           ],
           "type": "scatter",
           "x": {
            "bdata": "AAAAAADwfkA=",
            "dtype": "f8"
           },
           "xaxis": "x",
           "y": {
            "bdata": "/bGgHLlwej4=",
            "dtype": "f8"
           },
           "yaxis": "y"
          },
          {
           "hovertemplate": "<b>%{hovertext}</b><br><br>Country Name=%{text}<br>Year=2019<br>Neerslag (mm/jaar)=%{x}<br>Uitstoot per ton geproduceerd (Mt/ton)=%{y}<extra></extra>",
           "hovertext": [
            "United States of America"
           ],
           "legendgroup": "United States of America",
           "marker": {
            "color": "#FF6692",
            "symbol": "circle"
           },
           "mode": "markers+text",
           "name": "United States of America",
           "orientation": "v",
           "showlegend": true,
           "text": [
            "United States of America"
           ],
           "type": "scatter",
           "x": {
            "bdata": "AAAAAABYhkA=",
            "dtype": "f8"
           },
           "xaxis": "x",
           "y": {
            "bdata": "VXB3zqJqnj4=",
            "dtype": "f8"
           },
           "yaxis": "y"
          }
         ],
         "name": "2019"
        },
        {
         "data": [
          {
           "hovertemplate": "<b>%{hovertext}</b><br><br>Country Name=%{text}<br>Year=2020<br>Neerslag (mm/jaar)=%{x}<br>Uitstoot per ton geproduceerd (Mt/ton)=%{y}<extra></extra>",
           "hovertext": [
            "Brazil"
           ],
           "legendgroup": "Brazil",
           "marker": {
            "color": "#636efa",
            "symbol": "circle"
           },
           "mode": "markers+text",
           "name": "Brazil",
           "orientation": "v",
           "showlegend": true,
           "text": [
            "Brazil"
           ],
           "type": "scatter",
           "x": {
            "bdata": "AAAAAACEm0A=",
            "dtype": "f8"
           },
           "xaxis": "x",
           "y": {
            "bdata": "XIBg2zqDbT4=",
            "dtype": "f8"
           },
           "yaxis": "y"
          },
          {
           "hovertemplate": "<b>%{hovertext}</b><br><br>Country Name=%{text}<br>Year=2020<br>Neerslag (mm/jaar)=%{x}<br>Uitstoot per ton geproduceerd (Mt/ton)=%{y}<extra></extra>",
           "hovertext": [
            "India"
           ],
           "legendgroup": "India",
           "marker": {
            "color": "#EF553B",
            "symbol": "circle"
           },
           "mode": "markers+text",
           "name": "India",
           "orientation": "v",
           "showlegend": true,
           "text": [
            "India"
           ],
           "type": "scatter",
           "x": {
            "bdata": "AAAAAADskEA=",
            "dtype": "f8"
           },
           "xaxis": "x",
           "y": {
            "bdata": "J/6tY9BUjT4=",
            "dtype": "f8"
           },
           "yaxis": "y"
          },
          {
           "hovertemplate": "<b>%{hovertext}</b><br><br>Country Name=%{text}<br>Year=2020<br>Neerslag (mm/jaar)=%{x}<br>Uitstoot per ton geproduceerd (Mt/ton)=%{y}<extra></extra>",
           "hovertext": [
            "Indonesia"
           ],
           "legendgroup": "Indonesia",
           "marker": {
            "color": "#00cc96",
            "symbol": "circle"
           },
           "mode": "markers+text",
           "name": "Indonesia",
           "orientation": "v",
           "showlegend": true,
           "text": [
            "Indonesia"
           ],
           "type": "scatter",
           "x": {
            "bdata": "AAAAAAAcpUA=",
            "dtype": "f8"
           },
           "xaxis": "x",
           "y": {
            "bdata": "vknOHZ9qWz4=",
            "dtype": "f8"
           },
           "yaxis": "y"
          },
          {
           "hovertemplate": "<b>%{hovertext}</b><br><br>Country Name=%{text}<br>Year=2020<br>Neerslag (mm/jaar)=%{x}<br>Uitstoot per ton geproduceerd (Mt/ton)=%{y}<extra></extra>",
           "hovertext": [
            "Japan"
           ],
           "legendgroup": "Japan",
           "marker": {
            "color": "#ab63fa",
            "symbol": "circle"
           },
           "mode": "markers+text",
           "name": "Japan",
           "orientation": "v",
           "showlegend": true,
           "text": [
            "Japan"
           ],
           "type": "scatter",
           "x": {
            "bdata": "AAAAAAAQmkA=",
            "dtype": "f8"
           },
           "xaxis": "x",
           "y": {
            "bdata": "bRA7nrgvgz4=",
            "dtype": "f8"
           },
           "yaxis": "y"
          },
          {
           "hovertemplate": "<b>%{hovertext}</b><br><br>Country Name=%{text}<br>Year=2020<br>Neerslag (mm/jaar)=%{x}<br>Uitstoot per ton geproduceerd (Mt/ton)=%{y}<extra></extra>",
           "hovertext": [
            "Nigeria"
           ],
           "legendgroup": "Nigeria",
           "marker": {
            "color": "#FFA15A",
            "symbol": "circle"
           },
           "mode": "markers+text",
           "name": "Nigeria",
           "orientation": "v",
           "showlegend": true,
           "text": [
            "Nigeria"
           ],
           "type": "scatter",
           "x": {
            "bdata": "AAAAAAD4kUA=",
            "dtype": "f8"
           },
           "xaxis": "x",
           "y": {
            "bdata": "lzsd+C55Qz4=",
            "dtype": "f8"
           },
           "yaxis": "y"
          },
          {
           "hovertemplate": "<b>%{hovertext}</b><br><br>Country Name=%{text}<br>Year=2020<br>Neerslag (mm/jaar)=%{x}<br>Uitstoot per ton geproduceerd (Mt/ton)=%{y}<extra></extra>",
           "hovertext": [
            "South Africa"
           ],
           "legendgroup": "South Africa",
           "marker": {
            "color": "#19d3f3",
            "symbol": "circle"
           },
           "mode": "markers+text",
           "name": "South Africa",
           "orientation": "v",
           "showlegend": true,
           "text": [
            "South Africa"
           ],
           "type": "scatter",
           "x": {
            "bdata": "AAAAAADwfkA=",
            "dtype": "f8"
           },
           "xaxis": "x",
           "y": {
            "bdata": "aClYm01Qez4=",
            "dtype": "f8"
           },
           "yaxis": "y"
          },
          {
           "hovertemplate": "<b>%{hovertext}</b><br><br>Country Name=%{text}<br>Year=2020<br>Neerslag (mm/jaar)=%{x}<br>Uitstoot per ton geproduceerd (Mt/ton)=%{y}<extra></extra>",
           "hovertext": [
            "United States of America"
           ],
           "legendgroup": "United States of America",
           "marker": {
            "color": "#FF6692",
            "symbol": "circle"
           },
           "mode": "markers+text",
           "name": "United States of America",
           "orientation": "v",
           "showlegend": true,
           "text": [
            "United States of America"
           ],
           "type": "scatter",
           "x": {
            "bdata": "AAAAAABYhkA=",
            "dtype": "f8"
           },
           "xaxis": "x",
           "y": {
            "bdata": "UnptaxTgnD4=",
            "dtype": "f8"
           },
           "yaxis": "y"
          }
         ],
         "name": "2020"
        },
        {
         "data": [
          {
           "hovertemplate": "<b>%{hovertext}</b><br><br>Country Name=%{text}<br>Year=2021<br>Neerslag (mm/jaar)=%{x}<br>Uitstoot per ton geproduceerd (Mt/ton)=%{y}<extra></extra>",
           "hovertext": [
            "Brazil"
           ],
           "legendgroup": "Brazil",
           "marker": {
            "color": "#636efa",
            "symbol": "circle"
           },
           "mode": "markers+text",
           "name": "Brazil",
           "orientation": "v",
           "showlegend": true,
           "text": [
            "Brazil"
           ],
           "type": "scatter",
           "x": {
            "bdata": "AAAAAACEm0A=",
            "dtype": "f8"
           },
           "xaxis": "x",
           "y": {
            "bdata": "R+QmU7T0bz4=",
            "dtype": "f8"
           },
           "yaxis": "y"
          },
          {
           "hovertemplate": "<b>%{hovertext}</b><br><br>Country Name=%{text}<br>Year=2021<br>Neerslag (mm/jaar)=%{x}<br>Uitstoot per ton geproduceerd (Mt/ton)=%{y}<extra></extra>",
           "hovertext": [
            "India"
           ],
           "legendgroup": "India",
           "marker": {
            "color": "#EF553B",
            "symbol": "circle"
           },
           "mode": "markers+text",
           "name": "India",
           "orientation": "v",
           "showlegend": true,
           "text": [
            "India"
           ],
           "type": "scatter",
           "x": {
            "bdata": "AAAAAADskEA=",
            "dtype": "f8"
           },
           "xaxis": "x",
           "y": {
            "bdata": "HEU3zW69iz4=",
            "dtype": "f8"
           },
           "yaxis": "y"
          },
          {
           "hovertemplate": "<b>%{hovertext}</b><br><br>Country Name=%{text}<br>Year=2021<br>Neerslag (mm/jaar)=%{x}<br>Uitstoot per ton geproduceerd (Mt/ton)=%{y}<extra></extra>",
           "hovertext": [
            "Indonesia"
           ],
           "legendgroup": "Indonesia",
           "marker": {
            "color": "#00cc96",
            "symbol": "circle"
           },
           "mode": "markers+text",
           "name": "Indonesia",
           "orientation": "v",
           "showlegend": true,
           "text": [
            "Indonesia"
           ],
           "type": "scatter",
           "x": {
            "bdata": "AAAAAAAcpUA=",
            "dtype": "f8"
           },
           "xaxis": "x",
           "y": {
            "bdata": "zgOCEfKIWz4=",
            "dtype": "f8"
           },
           "yaxis": "y"
          },
          {
           "hovertemplate": "<b>%{hovertext}</b><br><br>Country Name=%{text}<br>Year=2021<br>Neerslag (mm/jaar)=%{x}<br>Uitstoot per ton geproduceerd (Mt/ton)=%{y}<extra></extra>",
           "hovertext": [
            "Japan"
           ],
           "legendgroup": "Japan",
           "marker": {
            "color": "#ab63fa",
            "symbol": "circle"
           },
           "mode": "markers+text",
           "name": "Japan",
           "orientation": "v",
           "showlegend": true,
           "text": [
            "Japan"
           ],
           "type": "scatter",
           "x": {
            "bdata": "AAAAAAAQmkA=",
            "dtype": "f8"
           },
           "xaxis": "x",
           "y": {
            "bdata": "4Ji/y0mCdz4=",
            "dtype": "f8"
           },
           "yaxis": "y"
          },
          {
           "hovertemplate": "<b>%{hovertext}</b><br><br>Country Name=%{text}<br>Year=2021<br>Neerslag (mm/jaar)=%{x}<br>Uitstoot per ton geproduceerd (Mt/ton)=%{y}<extra></extra>",
           "hovertext": [
            "Nigeria"
           ],
           "legendgroup": "Nigeria",
           "marker": {
            "color": "#FFA15A",
            "symbol": "circle"
           },
           "mode": "markers+text",
           "name": "Nigeria",
           "orientation": "v",
           "showlegend": true,
           "text": [
            "Nigeria"
           ],
           "type": "scatter",
           "x": {
            "bdata": "AAAAAAD4kUA=",
            "dtype": "f8"
           },
           "xaxis": "x",
           "y": {
            "bdata": "k2KKS9dgRD4=",
            "dtype": "f8"
           },
           "yaxis": "y"
          },
          {
           "hovertemplate": "<b>%{hovertext}</b><br><br>Country Name=%{text}<br>Year=2021<br>Neerslag (mm/jaar)=%{x}<br>Uitstoot per ton geproduceerd (Mt/ton)=%{y}<extra></extra>",
           "hovertext": [
            "South Africa"
           ],
           "legendgroup": "South Africa",
           "marker": {
            "color": "#19d3f3",
            "symbol": "circle"
           },
           "mode": "markers+text",
           "name": "South Africa",
           "orientation": "v",
           "showlegend": true,
           "text": [
            "South Africa"
           ],
           "type": "scatter",
           "x": {
            "bdata": "AAAAAADwfkA=",
            "dtype": "f8"
           },
           "xaxis": "x",
           "y": {
            "bdata": "/8hLJoW/fD4=",
            "dtype": "f8"
           },
           "yaxis": "y"
          },
          {
           "hovertemplate": "<b>%{hovertext}</b><br><br>Country Name=%{text}<br>Year=2021<br>Neerslag (mm/jaar)=%{x}<br>Uitstoot per ton geproduceerd (Mt/ton)=%{y}<extra></extra>",
           "hovertext": [
            "United States of America"
           ],
           "legendgroup": "United States of America",
           "marker": {
            "color": "#FF6692",
            "symbol": "circle"
           },
           "mode": "markers+text",
           "name": "United States of America",
           "orientation": "v",
           "showlegend": true,
           "text": [
            "United States of America"
           ],
           "type": "scatter",
           "x": {
            "bdata": "AAAAAABYhkA=",
            "dtype": "f8"
           },
           "xaxis": "x",
           "y": {
            "bdata": "MvsLAreDlT4=",
            "dtype": "f8"
           },
           "yaxis": "y"
          }
         ],
         "name": "2021"
        }
       ],
       "layout": {
        "legend": {
         "title": {
          "text": "Country Name"
         },
         "tracegroupgap": 0
        },
        "sliders": [
         {
          "active": 0,
          "currentvalue": {
           "prefix": "Year="
          },
          "len": 0.9,
          "pad": {
           "b": 10,
           "t": 60
          },
          "steps": [
           {
            "args": [
             [
              "1961"
             ],
             {
              "frame": {
               "duration": 0,
               "redraw": false
              },
              "fromcurrent": true,
              "mode": "immediate",
              "transition": {
               "duration": 0,
               "easing": "linear"
              }
             }
            ],
            "label": "1961",
            "method": "animate"
           },
           {
            "args": [
             [
              "1962"
             ],
             {
              "frame": {
               "duration": 0,
               "redraw": false
              },
              "fromcurrent": true,
              "mode": "immediate",
              "transition": {
               "duration": 0,
               "easing": "linear"
              }
             }
            ],
            "label": "1962",
            "method": "animate"
           },
           {
            "args": [
             [
              "1963"
             ],
             {
              "frame": {
               "duration": 0,
               "redraw": false
              },
              "fromcurrent": true,
              "mode": "immediate",
              "transition": {
               "duration": 0,
               "easing": "linear"
              }
             }
            ],
            "label": "1963",
            "method": "animate"
           },
           {
            "args": [
             [
              "1964"
             ],
             {
              "frame": {
               "duration": 0,
               "redraw": false
              },
              "fromcurrent": true,
              "mode": "immediate",
              "transition": {
               "duration": 0,
               "easing": "linear"
              }
             }
            ],
            "label": "1964",
            "method": "animate"
           },
           {
            "args": [
             [
              "1965"
             ],
             {
              "frame": {
               "duration": 0,
               "redraw": false
              },
              "fromcurrent": true,
              "mode": "immediate",
              "transition": {
               "duration": 0,
               "easing": "linear"
              }
             }
            ],
            "label": "1965",
            "method": "animate"
           },
           {
            "args": [
             [
              "1966"
             ],
             {
              "frame": {
               "duration": 0,
               "redraw": false
              },
              "fromcurrent": true,
              "mode": "immediate",
              "transition": {
               "duration": 0,
               "easing": "linear"
              }
             }
            ],
            "label": "1966",
            "method": "animate"
           },
           {
            "args": [
             [
              "1967"
             ],
             {
              "frame": {
               "duration": 0,
               "redraw": false
              },
              "fromcurrent": true,
              "mode": "immediate",
              "transition": {
               "duration": 0,
               "easing": "linear"
              }
             }
            ],
            "label": "1967",
            "method": "animate"
           },
           {
            "args": [
             [
              "1968"
             ],
             {
              "frame": {
               "duration": 0,
               "redraw": false
              },
              "fromcurrent": true,
              "mode": "immediate",
              "transition": {
               "duration": 0,
               "easing": "linear"
              }
             }
            ],
            "label": "1968",
            "method": "animate"
           },
           {
            "args": [
             [
              "1969"
             ],
             {
              "frame": {
               "duration": 0,
               "redraw": false
              },
              "fromcurrent": true,
              "mode": "immediate",
              "transition": {
               "duration": 0,
               "easing": "linear"
              }
             }
            ],
            "label": "1969",
            "method": "animate"
           },
           {
            "args": [
             [
              "1970"
             ],
             {
              "frame": {
               "duration": 0,
               "redraw": false
              },
              "fromcurrent": true,
              "mode": "immediate",
              "transition": {
               "duration": 0,
               "easing": "linear"
              }
             }
            ],
            "label": "1970",
            "method": "animate"
           },
           {
            "args": [
             [
              "1971"
             ],
             {
              "frame": {
               "duration": 0,
               "redraw": false
              },
              "fromcurrent": true,
              "mode": "immediate",
              "transition": {
               "duration": 0,
               "easing": "linear"
              }
             }
            ],
            "label": "1971",
            "method": "animate"
           },
           {
            "args": [
             [
              "1972"
             ],
             {
              "frame": {
               "duration": 0,
               "redraw": false
              },
              "fromcurrent": true,
              "mode": "immediate",
              "transition": {
               "duration": 0,
               "easing": "linear"
              }
             }
            ],
            "label": "1972",
            "method": "animate"
           },
           {
            "args": [
             [
              "1973"
             ],
             {
              "frame": {
               "duration": 0,
               "redraw": false
              },
              "fromcurrent": true,
              "mode": "immediate",
              "transition": {
               "duration": 0,
               "easing": "linear"
              }
             }
            ],
            "label": "1973",
            "method": "animate"
           },
           {
            "args": [
             [
              "1974"
             ],
             {
              "frame": {
               "duration": 0,
               "redraw": false
              },
              "fromcurrent": true,
              "mode": "immediate",
              "transition": {
               "duration": 0,
               "easing": "linear"
              }
             }
            ],
            "label": "1974",
            "method": "animate"
           },
           {
            "args": [
             [
              "1975"
             ],
             {
              "frame": {
               "duration": 0,
               "redraw": false
              },
              "fromcurrent": true,
              "mode": "immediate",
              "transition": {
               "duration": 0,
               "easing": "linear"
              }
             }
            ],
            "label": "1975",
            "method": "animate"
           },
           {
            "args": [
             [
              "1976"
             ],
             {
              "frame": {
               "duration": 0,
               "redraw": false
              },
              "fromcurrent": true,
              "mode": "immediate",
              "transition": {
               "duration": 0,
               "easing": "linear"
              }
             }
            ],
            "label": "1976",
            "method": "animate"
           },
           {
            "args": [
             [
              "1977"
             ],
             {
              "frame": {
               "duration": 0,
               "redraw": false
              },
              "fromcurrent": true,
              "mode": "immediate",
              "transition": {
               "duration": 0,
               "easing": "linear"
              }
             }
            ],
            "label": "1977",
            "method": "animate"
           },
           {
            "args": [
             [
              "1978"
             ],
             {
              "frame": {
               "duration": 0,
               "redraw": false
              },
              "fromcurrent": true,
              "mode": "immediate",
              "transition": {
               "duration": 0,
               "easing": "linear"
              }
             }
            ],
            "label": "1978",
            "method": "animate"
           },
           {
            "args": [
             [
              "1979"
             ],
             {
              "frame": {
               "duration": 0,
               "redraw": false
              },
              "fromcurrent": true,
              "mode": "immediate",
              "transition": {
               "duration": 0,
               "easing": "linear"
              }
             }
            ],
            "label": "1979",
            "method": "animate"
           },
           {
            "args": [
             [
              "1980"
             ],
             {
              "frame": {
               "duration": 0,
               "redraw": false
              },
              "fromcurrent": true,
              "mode": "immediate",
              "transition": {
               "duration": 0,
               "easing": "linear"
              }
             }
            ],
            "label": "1980",
            "method": "animate"
           },
           {
            "args": [
             [
              "1981"
             ],
             {
              "frame": {
               "duration": 0,
               "redraw": false
              },
              "fromcurrent": true,
              "mode": "immediate",
              "transition": {
               "duration": 0,
               "easing": "linear"
              }
             }
            ],
            "label": "1981",
            "method": "animate"
           },
           {
            "args": [
             [
              "1982"
             ],
             {
              "frame": {
               "duration": 0,
               "redraw": false
              },
              "fromcurrent": true,
              "mode": "immediate",
              "transition": {
               "duration": 0,
               "easing": "linear"
              }
             }
            ],
            "label": "1982",
            "method": "animate"
           },
           {
            "args": [
             [
              "1983"
             ],
             {
              "frame": {
               "duration": 0,
               "redraw": false
              },
              "fromcurrent": true,
              "mode": "immediate",
              "transition": {
               "duration": 0,
               "easing": "linear"
              }
             }
            ],
            "label": "1983",
            "method": "animate"
           },
           {
            "args": [
             [
              "1984"
             ],
             {
              "frame": {
               "duration": 0,
               "redraw": false
              },
              "fromcurrent": true,
              "mode": "immediate",
              "transition": {
               "duration": 0,
               "easing": "linear"
              }
             }
            ],
            "label": "1984",
            "method": "animate"
           },
           {
            "args": [
             [
              "1985"
             ],
             {
              "frame": {
               "duration": 0,
               "redraw": false
              },
              "fromcurrent": true,
              "mode": "immediate",
              "transition": {
               "duration": 0,
               "easing": "linear"
              }
             }
            ],
            "label": "1985",
            "method": "animate"
           },
           {
            "args": [
             [
              "1986"
             ],
             {
              "frame": {
               "duration": 0,
               "redraw": false
              },
              "fromcurrent": true,
              "mode": "immediate",
              "transition": {
               "duration": 0,
               "easing": "linear"
              }
             }
            ],
            "label": "1986",
            "method": "animate"
           },
           {
            "args": [
             [
              "1987"
             ],
             {
              "frame": {
               "duration": 0,
               "redraw": false
              },
              "fromcurrent": true,
              "mode": "immediate",
              "transition": {
               "duration": 0,
               "easing": "linear"
              }
             }
            ],
            "label": "1987",
            "method": "animate"
           },
           {
            "args": [
             [
              "1988"
             ],
             {
              "frame": {
               "duration": 0,
               "redraw": false
              },
              "fromcurrent": true,
              "mode": "immediate",
              "transition": {
               "duration": 0,
               "easing": "linear"
              }
             }
            ],
            "label": "1988",
            "method": "animate"
           },
           {
            "args": [
             [
              "1989"
             ],
             {
              "frame": {
               "duration": 0,
               "redraw": false
              },
              "fromcurrent": true,
              "mode": "immediate",
              "transition": {
               "duration": 0,
               "easing": "linear"
              }
             }
            ],
            "label": "1989",
            "method": "animate"
           },
           {
            "args": [
             [
              "1990"
             ],
             {
              "frame": {
               "duration": 0,
               "redraw": false
              },
              "fromcurrent": true,
              "mode": "immediate",
              "transition": {
               "duration": 0,
               "easing": "linear"
              }
             }
            ],
            "label": "1990",
            "method": "animate"
           },
           {
            "args": [
             [
              "1991"
             ],
             {
              "frame": {
               "duration": 0,
               "redraw": false
              },
              "fromcurrent": true,
              "mode": "immediate",
              "transition": {
               "duration": 0,
               "easing": "linear"
              }
             }
            ],
            "label": "1991",
            "method": "animate"
           },
           {
            "args": [
             [
              "1992"
             ],
             {
              "frame": {
               "duration": 0,
               "redraw": false
              },
              "fromcurrent": true,
              "mode": "immediate",
              "transition": {
               "duration": 0,
               "easing": "linear"
              }
             }
            ],
            "label": "1992",
            "method": "animate"
           },
           {
            "args": [
             [
              "1993"
             ],
             {
              "frame": {
               "duration": 0,
               "redraw": false
              },
              "fromcurrent": true,
              "mode": "immediate",
              "transition": {
               "duration": 0,
               "easing": "linear"
              }
             }
            ],
            "label": "1993",
            "method": "animate"
           },
           {
            "args": [
             [
              "1994"
             ],
             {
              "frame": {
               "duration": 0,
               "redraw": false
              },
              "fromcurrent": true,
              "mode": "immediate",
              "transition": {
               "duration": 0,
               "easing": "linear"
              }
             }
            ],
            "label": "1994",
            "method": "animate"
           },
           {
            "args": [
             [
              "1995"
             ],
             {
              "frame": {
               "duration": 0,
               "redraw": false
              },
              "fromcurrent": true,
              "mode": "immediate",
              "transition": {
               "duration": 0,
               "easing": "linear"
              }
             }
            ],
            "label": "1995",
            "method": "animate"
           },
           {
            "args": [
             [
              "1996"
             ],
             {
              "frame": {
               "duration": 0,
               "redraw": false
              },
              "fromcurrent": true,
              "mode": "immediate",
              "transition": {
               "duration": 0,
               "easing": "linear"
              }
             }
            ],
            "label": "1996",
            "method": "animate"
           },
           {
            "args": [
             [
              "1997"
             ],
             {
              "frame": {
               "duration": 0,
               "redraw": false
              },
              "fromcurrent": true,
              "mode": "immediate",
              "transition": {
               "duration": 0,
               "easing": "linear"
              }
             }
            ],
            "label": "1997",
            "method": "animate"
           },
           {
            "args": [
             [
              "1998"
             ],
             {
              "frame": {
               "duration": 0,
               "redraw": false
              },
              "fromcurrent": true,
              "mode": "immediate",
              "transition": {
               "duration": 0,
               "easing": "linear"
              }
             }
            ],
            "label": "1998",
            "method": "animate"
           },
           {
            "args": [
             [
              "1999"
             ],
             {
              "frame": {
               "duration": 0,
               "redraw": false
              },
              "fromcurrent": true,
              "mode": "immediate",
              "transition": {
               "duration": 0,
               "easing": "linear"
              }
             }
            ],
            "label": "1999",
            "method": "animate"
           },
           {
            "args": [
             [
              "2000"
             ],
             {
              "frame": {
               "duration": 0,
               "redraw": false
              },
              "fromcurrent": true,
              "mode": "immediate",
              "transition": {
               "duration": 0,
               "easing": "linear"
              }
             }
            ],
            "label": "2000",
            "method": "animate"
           },
           {
            "args": [
             [
              "2001"
             ],
             {
              "frame": {
               "duration": 0,
               "redraw": false
              },
              "fromcurrent": true,
              "mode": "immediate",
              "transition": {
               "duration": 0,
               "easing": "linear"
              }
             }
            ],
            "label": "2001",
            "method": "animate"
           },
           {
            "args": [
             [
              "2002"
             ],
             {
              "frame": {
               "duration": 0,
               "redraw": false
              },
              "fromcurrent": true,
              "mode": "immediate",
              "transition": {
               "duration": 0,
               "easing": "linear"
              }
             }
            ],
            "label": "2002",
            "method": "animate"
           },
           {
            "args": [
             [
              "2003"
             ],
             {
              "frame": {
               "duration": 0,
               "redraw": false
              },
              "fromcurrent": true,
              "mode": "immediate",
              "transition": {
               "duration": 0,
               "easing": "linear"
              }
             }
            ],
            "label": "2003",
            "method": "animate"
           },
           {
            "args": [
             [
              "2004"
             ],
             {
              "frame": {
               "duration": 0,
               "redraw": false
              },
              "fromcurrent": true,
              "mode": "immediate",
              "transition": {
               "duration": 0,
               "easing": "linear"
              }
             }
            ],
            "label": "2004",
            "method": "animate"
           },
           {
            "args": [
             [
              "2005"
             ],
             {
              "frame": {
               "duration": 0,
               "redraw": false
              },
              "fromcurrent": true,
              "mode": "immediate",
              "transition": {
               "duration": 0,
               "easing": "linear"
              }
             }
            ],
            "label": "2005",
            "method": "animate"
           },
           {
            "args": [
             [
              "2006"
             ],
             {
              "frame": {
               "duration": 0,
               "redraw": false
              },
              "fromcurrent": true,
              "mode": "immediate",
              "transition": {
               "duration": 0,
               "easing": "linear"
              }
             }
            ],
            "label": "2006",
            "method": "animate"
           },
           {
            "args": [
             [
              "2007"
             ],
             {
              "frame": {
               "duration": 0,
               "redraw": false
              },
              "fromcurrent": true,
              "mode": "immediate",
              "transition": {
               "duration": 0,
               "easing": "linear"
              }
             }
            ],
            "label": "2007",
            "method": "animate"
           },
           {
            "args": [
             [
              "2008"
             ],
             {
              "frame": {
               "duration": 0,
               "redraw": false
              },
              "fromcurrent": true,
              "mode": "immediate",
              "transition": {
               "duration": 0,
               "easing": "linear"
              }
             }
            ],
            "label": "2008",
            "method": "animate"
           },
           {
            "args": [
             [
              "2009"
             ],
             {
              "frame": {
               "duration": 0,
               "redraw": false
              },
              "fromcurrent": true,
              "mode": "immediate",
              "transition": {
               "duration": 0,
               "easing": "linear"
              }
             }
            ],
            "label": "2009",
            "method": "animate"
           },
           {
            "args": [
             [
              "2010"
             ],
             {
              "frame": {
               "duration": 0,
               "redraw": false
              },
              "fromcurrent": true,
              "mode": "immediate",
              "transition": {
               "duration": 0,
               "easing": "linear"
              }
             }
            ],
            "label": "2010",
            "method": "animate"
           },
           {
            "args": [
             [
              "2011"
             ],
             {
              "frame": {
               "duration": 0,
               "redraw": false
              },
              "fromcurrent": true,
              "mode": "immediate",
              "transition": {
               "duration": 0,
               "easing": "linear"
              }
             }
            ],
            "label": "2011",
            "method": "animate"
           },
           {
            "args": [
             [
              "2012"
             ],
             {
              "frame": {
               "duration": 0,
               "redraw": false
              },
              "fromcurrent": true,
              "mode": "immediate",
              "transition": {
               "duration": 0,
               "easing": "linear"
              }
             }
            ],
            "label": "2012",
            "method": "animate"
           },
           {
            "args": [
             [
              "2013"
             ],
             {
              "frame": {
               "duration": 0,
               "redraw": false
              },
              "fromcurrent": true,
              "mode": "immediate",
              "transition": {
               "duration": 0,
               "easing": "linear"
              }
             }
            ],
            "label": "2013",
            "method": "animate"
           },
           {
            "args": [
             [
              "2014"
             ],
             {
              "frame": {
               "duration": 0,
               "redraw": false
              },
              "fromcurrent": true,
              "mode": "immediate",
              "transition": {
               "duration": 0,
               "easing": "linear"
              }
             }
            ],
            "label": "2014",
            "method": "animate"
           },
           {
            "args": [
             [
              "2015"
             ],
             {
              "frame": {
               "duration": 0,
               "redraw": false
              },
              "fromcurrent": true,
              "mode": "immediate",
              "transition": {
               "duration": 0,
               "easing": "linear"
              }
             }
            ],
            "label": "2015",
            "method": "animate"
           },
           {
            "args": [
             [
              "2016"
             ],
             {
              "frame": {
               "duration": 0,
               "redraw": false
              },
              "fromcurrent": true,
              "mode": "immediate",
              "transition": {
               "duration": 0,
               "easing": "linear"
              }
             }
            ],
            "label": "2016",
            "method": "animate"
           },
           {
            "args": [
             [
              "2017"
             ],
             {
              "frame": {
               "duration": 0,
               "redraw": false
              },
              "fromcurrent": true,
              "mode": "immediate",
              "transition": {
               "duration": 0,
               "easing": "linear"
              }
             }
            ],
            "label": "2017",
            "method": "animate"
           },
           {
            "args": [
             [
              "2018"
             ],
             {
              "frame": {
               "duration": 0,
               "redraw": false
              },
              "fromcurrent": true,
              "mode": "immediate",
              "transition": {
               "duration": 0,
               "easing": "linear"
              }
             }
            ],
            "label": "2018",
            "method": "animate"
           },
           {
            "args": [
             [
              "2019"
             ],
             {
              "frame": {
               "duration": 0,
               "redraw": false
              },
              "fromcurrent": true,
              "mode": "immediate",
              "transition": {
               "duration": 0,
               "easing": "linear"
              }
             }
            ],
            "label": "2019",
            "method": "animate"
           },
           {
            "args": [
             [
              "2020"
             ],
             {
              "frame": {
               "duration": 0,
               "redraw": false
              },
              "fromcurrent": true,
              "mode": "immediate",
              "transition": {
               "duration": 0,
               "easing": "linear"
              }
             }
            ],
            "label": "2020",
            "method": "animate"
           },
           {
            "args": [
             [
              "2021"
             ],
             {
              "frame": {
               "duration": 0,
               "redraw": false
              },
              "fromcurrent": true,
              "mode": "immediate",
              "transition": {
               "duration": 0,
               "easing": "linear"
              }
             }
            ],
            "label": "2021",
            "method": "animate"
           }
          ],
          "x": 0.1,
          "xanchor": "left",
          "y": 0,
          "yanchor": "top"
         }
        ],
        "template": {
         "data": {
          "bar": [
           {
            "error_x": {
             "color": "#2a3f5f"
            },
            "error_y": {
             "color": "#2a3f5f"
            },
            "marker": {
             "line": {
              "color": "#E5ECF6",
              "width": 0.5
             },
             "pattern": {
              "fillmode": "overlay",
              "size": 10,
              "solidity": 0.2
             }
            },
            "type": "bar"
           }
          ],
          "barpolar": [
           {
            "marker": {
             "line": {
              "color": "#E5ECF6",
              "width": 0.5
             },
             "pattern": {
              "fillmode": "overlay",
              "size": 10,
              "solidity": 0.2
             }
            },
            "type": "barpolar"
           }
          ],
          "carpet": [
           {
            "aaxis": {
             "endlinecolor": "#2a3f5f",
             "gridcolor": "white",
             "linecolor": "white",
             "minorgridcolor": "white",
             "startlinecolor": "#2a3f5f"
            },
            "baxis": {
             "endlinecolor": "#2a3f5f",
             "gridcolor": "white",
             "linecolor": "white",
             "minorgridcolor": "white",
             "startlinecolor": "#2a3f5f"
            },
            "type": "carpet"
           }
          ],
          "choropleth": [
           {
            "colorbar": {
             "outlinewidth": 0,
             "ticks": ""
            },
            "type": "choropleth"
           }
          ],
          "contour": [
           {
            "colorbar": {
             "outlinewidth": 0,
             "ticks": ""
            },
            "colorscale": [
             [
              0,
              "#0d0887"
             ],
             [
              0.1111111111111111,
              "#46039f"
             ],
             [
              0.2222222222222222,
              "#7201a8"
             ],
             [
              0.3333333333333333,
              "#9c179e"
             ],
             [
              0.4444444444444444,
              "#bd3786"
             ],
             [
              0.5555555555555556,
              "#d8576b"
             ],
             [
              0.6666666666666666,
              "#ed7953"
             ],
             [
              0.7777777777777778,
              "#fb9f3a"
             ],
             [
              0.8888888888888888,
              "#fdca26"
             ],
             [
              1,
              "#f0f921"
             ]
            ],
            "type": "contour"
           }
          ],
          "contourcarpet": [
           {
            "colorbar": {
             "outlinewidth": 0,
             "ticks": ""
            },
            "type": "contourcarpet"
           }
          ],
          "heatmap": [
           {
            "colorbar": {
             "outlinewidth": 0,
             "ticks": ""
            },
            "colorscale": [
             [
              0,
              "#0d0887"
             ],
             [
              0.1111111111111111,
              "#46039f"
             ],
             [
              0.2222222222222222,
              "#7201a8"
             ],
             [
              0.3333333333333333,
              "#9c179e"
             ],
             [
              0.4444444444444444,
              "#bd3786"
             ],
             [
              0.5555555555555556,
              "#d8576b"
             ],
             [
              0.6666666666666666,
              "#ed7953"
             ],
             [
              0.7777777777777778,
              "#fb9f3a"
             ],
             [
              0.8888888888888888,
              "#fdca26"
             ],
             [
              1,
              "#f0f921"
             ]
            ],
            "type": "heatmap"
           }
          ],
          "histogram": [
           {
            "marker": {
             "pattern": {
              "fillmode": "overlay",
              "size": 10,
              "solidity": 0.2
             }
            },
            "type": "histogram"
           }
          ],
          "histogram2d": [
           {
            "colorbar": {
             "outlinewidth": 0,
             "ticks": ""
            },
            "colorscale": [
             [
              0,
              "#0d0887"
             ],
             [
              0.1111111111111111,
              "#46039f"
             ],
             [
              0.2222222222222222,
              "#7201a8"
             ],
             [
              0.3333333333333333,
              "#9c179e"
             ],
             [
              0.4444444444444444,
              "#bd3786"
             ],
             [
              0.5555555555555556,
              "#d8576b"
             ],
             [
              0.6666666666666666,
              "#ed7953"
             ],
             [
              0.7777777777777778,
              "#fb9f3a"
             ],
             [
              0.8888888888888888,
              "#fdca26"
             ],
             [
              1,
              "#f0f921"
             ]
            ],
            "type": "histogram2d"
           }
          ],
          "histogram2dcontour": [
           {
            "colorbar": {
             "outlinewidth": 0,
             "ticks": ""
            },
            "colorscale": [
             [
              0,
              "#0d0887"
             ],
             [
              0.1111111111111111,
              "#46039f"
             ],
             [
              0.2222222222222222,
              "#7201a8"
             ],
             [
              0.3333333333333333,
              "#9c179e"
             ],
             [
              0.4444444444444444,
              "#bd3786"
             ],
             [
              0.5555555555555556,
              "#d8576b"
             ],
             [
              0.6666666666666666,
              "#ed7953"
             ],
             [
              0.7777777777777778,
              "#fb9f3a"
             ],
             [
              0.8888888888888888,
              "#fdca26"
             ],
             [
              1,
              "#f0f921"
             ]
            ],
            "type": "histogram2dcontour"
           }
          ],
          "mesh3d": [
           {
            "colorbar": {
             "outlinewidth": 0,
             "ticks": ""
            },
            "type": "mesh3d"
           }
          ],
          "parcoords": [
           {
            "line": {
             "colorbar": {
              "outlinewidth": 0,
              "ticks": ""
             }
            },
            "type": "parcoords"
           }
          ],
          "pie": [
           {
            "automargin": true,
            "type": "pie"
           }
          ],
          "scatter": [
           {
            "fillpattern": {
             "fillmode": "overlay",
             "size": 10,
             "solidity": 0.2
            },
            "type": "scatter"
           }
          ],
          "scatter3d": [
           {
            "line": {
             "colorbar": {
              "outlinewidth": 0,
              "ticks": ""
             }
            },
            "marker": {
             "colorbar": {
              "outlinewidth": 0,
              "ticks": ""
             }
            },
            "type": "scatter3d"
           }
          ],
          "scattercarpet": [
           {
            "marker": {
             "colorbar": {
              "outlinewidth": 0,
              "ticks": ""
             }
            },
            "type": "scattercarpet"
           }
          ],
          "scattergeo": [
           {
            "marker": {
             "colorbar": {
              "outlinewidth": 0,
              "ticks": ""
             }
            },
            "type": "scattergeo"
           }
          ],
          "scattergl": [
           {
            "marker": {
             "colorbar": {
              "outlinewidth": 0,
              "ticks": ""
             }
            },
            "type": "scattergl"
           }
          ],
          "scattermap": [
           {
            "marker": {
             "colorbar": {
              "outlinewidth": 0,
              "ticks": ""
             }
            },
            "type": "scattermap"
           }
          ],
          "scattermapbox": [
           {
            "marker": {
             "colorbar": {
              "outlinewidth": 0,
              "ticks": ""
             }
            },
            "type": "scattermapbox"
           }
          ],
          "scatterpolar": [
           {
            "marker": {
             "colorbar": {
              "outlinewidth": 0,
              "ticks": ""
             }
            },
            "type": "scatterpolar"
           }
          ],
          "scatterpolargl": [
           {
            "marker": {
             "colorbar": {
              "outlinewidth": 0,
              "ticks": ""
             }
            },
            "type": "scatterpolargl"
           }
          ],
          "scatterternary": [
           {
            "marker": {
             "colorbar": {
              "outlinewidth": 0,
              "ticks": ""
             }
            },
            "type": "scatterternary"
           }
          ],
          "surface": [
           {
            "colorbar": {
             "outlinewidth": 0,
             "ticks": ""
            },
            "colorscale": [
             [
              0,
              "#0d0887"
             ],
             [
              0.1111111111111111,
              "#46039f"
             ],
             [
              0.2222222222222222,
              "#7201a8"
             ],
             [
              0.3333333333333333,
              "#9c179e"
             ],
             [
              0.4444444444444444,
              "#bd3786"
             ],
             [
              0.5555555555555556,
              "#d8576b"
             ],
             [
              0.6666666666666666,
              "#ed7953"
             ],
             [
              0.7777777777777778,
              "#fb9f3a"
             ],
             [
              0.8888888888888888,
              "#fdca26"
             ],
             [
              1,
              "#f0f921"
             ]
            ],
            "type": "surface"
           }
          ],
          "table": [
           {
            "cells": {
             "fill": {
              "color": "#EBF0F8"
             },
             "line": {
              "color": "white"
             }
            },
            "header": {
             "fill": {
              "color": "#C8D4E3"
             },
             "line": {
              "color": "white"
             }
            },
            "type": "table"
           }
          ]
         },
         "layout": {
          "annotationdefaults": {
           "arrowcolor": "#2a3f5f",
           "arrowhead": 0,
           "arrowwidth": 1
          },
          "autotypenumbers": "strict",
          "coloraxis": {
           "colorbar": {
            "outlinewidth": 0,
            "ticks": ""
           }
          },
          "colorscale": {
           "diverging": [
            [
             0,
             "#8e0152"
            ],
            [
             0.1,
             "#c51b7d"
            ],
            [
             0.2,
             "#de77ae"
            ],
            [
             0.3,
             "#f1b6da"
            ],
            [
             0.4,
             "#fde0ef"
            ],
            [
             0.5,
             "#f7f7f7"
            ],
            [
             0.6,
             "#e6f5d0"
            ],
            [
             0.7,
             "#b8e186"
            ],
            [
             0.8,
             "#7fbc41"
            ],
            [
             0.9,
             "#4d9221"
            ],
            [
             1,
             "#276419"
            ]
           ],
           "sequential": [
            [
             0,
             "#0d0887"
            ],
            [
             0.1111111111111111,
             "#46039f"
            ],
            [
             0.2222222222222222,
             "#7201a8"
            ],
            [
             0.3333333333333333,
             "#9c179e"
            ],
            [
             0.4444444444444444,
             "#bd3786"
            ],
            [
             0.5555555555555556,
             "#d8576b"
            ],
            [
             0.6666666666666666,
             "#ed7953"
            ],
            [
             0.7777777777777778,
             "#fb9f3a"
            ],
            [
             0.8888888888888888,
             "#fdca26"
            ],
            [
             1,
             "#f0f921"
            ]
           ],
           "sequentialminus": [
            [
             0,
             "#0d0887"
            ],
            [
             0.1111111111111111,
             "#46039f"
            ],
            [
             0.2222222222222222,
             "#7201a8"
            ],
            [
             0.3333333333333333,
             "#9c179e"
            ],
            [
             0.4444444444444444,
             "#bd3786"
            ],
            [
             0.5555555555555556,
             "#d8576b"
            ],
            [
             0.6666666666666666,
             "#ed7953"
            ],
            [
             0.7777777777777778,
             "#fb9f3a"
            ],
            [
             0.8888888888888888,
             "#fdca26"
            ],
            [
             1,
             "#f0f921"
            ]
           ]
          },
          "colorway": [
           "#636efa",
           "#EF553B",
           "#00cc96",
           "#ab63fa",
           "#FFA15A",
           "#19d3f3",
           "#FF6692",
           "#B6E880",
           "#FF97FF",
           "#FECB52"
          ],
          "font": {
           "color": "#2a3f5f"
          },
          "geo": {
           "bgcolor": "white",
           "lakecolor": "white",
           "landcolor": "#E5ECF6",
           "showlakes": true,
           "showland": true,
           "subunitcolor": "white"
          },
          "hoverlabel": {
           "align": "left"
          },
          "hovermode": "closest",
          "mapbox": {
           "style": "light"
          },
          "paper_bgcolor": "white",
          "plot_bgcolor": "#E5ECF6",
          "polar": {
           "angularaxis": {
            "gridcolor": "white",
            "linecolor": "white",
            "ticks": ""
           },
           "bgcolor": "#E5ECF6",
           "radialaxis": {
            "gridcolor": "white",
            "linecolor": "white",
            "ticks": ""
           }
          },
          "scene": {
           "xaxis": {
            "backgroundcolor": "#E5ECF6",
            "gridcolor": "white",
            "gridwidth": 2,
            "linecolor": "white",
            "showbackground": true,
            "ticks": "",
            "zerolinecolor": "white"
           },
           "yaxis": {
            "backgroundcolor": "#E5ECF6",
            "gridcolor": "white",
            "gridwidth": 2,
            "linecolor": "white",
            "showbackground": true,
            "ticks": "",
            "zerolinecolor": "white"
           },
           "zaxis": {
            "backgroundcolor": "#E5ECF6",
            "gridcolor": "white",
            "gridwidth": 2,
            "linecolor": "white",
            "showbackground": true,
            "ticks": "",
            "zerolinecolor": "white"
           }
          },
          "shapedefaults": {
           "line": {
            "color": "#2a3f5f"
           }
          },
          "ternary": {
           "aaxis": {
            "gridcolor": "white",
            "linecolor": "white",
            "ticks": ""
           },
           "baxis": {
            "gridcolor": "white",
            "linecolor": "white",
            "ticks": ""
           },
           "bgcolor": "#E5ECF6",
           "caxis": {
            "gridcolor": "white",
            "linecolor": "white",
            "ticks": ""
           }
          },
          "title": {
           "x": 0.05
          },
          "xaxis": {
           "automargin": true,
           "gridcolor": "white",
           "linecolor": "white",
           "ticks": "",
           "title": {
            "standoff": 15
           },
           "zerolinecolor": "white",
           "zerolinewidth": 2
          },
          "yaxis": {
           "automargin": true,
           "gridcolor": "white",
           "linecolor": "white",
           "ticks": "",
           "title": {
            "standoff": 15
           },
           "zerolinecolor": "white",
           "zerolinewidth": 2
          }
         }
        },
        "title": {
         "text": "Uitstoot per ton geproduceerd vs Neerslag (per jaar)"
        },
        "updatemenus": [
         {
          "buttons": [
           {
            "args": [
             null,
             {
              "frame": {
               "duration": 500,
               "redraw": false
              },
              "fromcurrent": true,
              "mode": "immediate",
              "transition": {
               "duration": 500,
               "easing": "linear"
              }
             }
            ],
            "label": "&#9654;",
            "method": "animate"
           },
           {
            "args": [
             [
              null
             ],
             {
              "frame": {
               "duration": 0,
               "redraw": false
              },
              "fromcurrent": true,
              "mode": "immediate",
              "transition": {
               "duration": 0,
               "easing": "linear"
              }
             }
            ],
            "label": "&#9724;",
            "method": "animate"
           }
          ],
          "direction": "left",
          "pad": {
           "r": 10,
           "t": 70
          },
          "showactive": false,
          "type": "buttons",
          "x": 0.1,
          "xanchor": "right",
          "y": 0,
          "yanchor": "top"
         }
        ],
        "xaxis": {
         "anchor": "y",
         "domain": [
          0,
          1
         ],
         "range": [
          0,
          3000
         ],
         "title": {
          "text": "Neerslag (mm/jaar)"
         }
        },
        "yaxis": {
         "anchor": "x",
         "domain": [
          0,
          1
         ],
         "range": [
          0,
          6e-7
         ],
         "title": {
          "text": "Uitstoot per ton geproduceerd (Mt/ton)"
         }
        }
       }
      }
     },
     "metadata": {},
     "output_type": "display_data"
    }
   ],
   "source": [
    "import pandas as pd\n",
    "import plotly.express as px\n",
    "\n",
    "# 📁 Laad de datasets\n",
    "neerslag_df = pd.read_csv(\"datasets/API_AG.LND.PRCP.MM_DS2_en_csv_v2_4487.csv\", skiprows=4)\n",
    "productie_df = pd.read_csv(\"datasets/Production_Crops_Livestock_filtered.csv\")\n",
    "emissies_crops_df = pd.read_csv(\"datasets/Emissions_crops_filtered.csv\")\n",
    "emissies_livestock_df = pd.read_csv(\"datasets/Emissions_livestock_filtered.csv\")\n",
    "\n",
    "# 🌧️ Verwerk neerslagdata\n",
    "neerslag_long = neerslag_df.melt(\n",
    "    id_vars=[\"Country Name\", \"Country Code\", \"Indicator Name\", \"Indicator Code\"],\n",
    "    var_name=\"Year\",\n",
    "    value_name=\"Precipitation_mm\"\n",
    ")\n",
    "neerslag_long = neerslag_long[[\"Country Name\", \"Year\", \"Precipitation_mm\"]]\n",
    "neerslag_long[\"Year\"] = pd.to_numeric(neerslag_long[\"Year\"], errors=\"coerce\")\n",
    "neerslag_long = neerslag_long.dropna(subset=[\"Year\", \"Precipitation_mm\"])\n",
    "neerslag_long[\"Country Name\"] = neerslag_long[\"Country Name\"].replace({\n",
    "    \"United States\": \"United States of America\"\n",
    "})\n",
    "\n",
    "# 🚜 Verwerk productiegegevens\n",
    "productie_filtered = productie_df[productie_df[\"Element\"] == \"Production\"]\n",
    "productie_aggregated = productie_filtered.groupby([\"Area\", \"Year\"])[\"Value\"].sum().reset_index()\n",
    "productie_aggregated.rename(columns={\"Area\": \"Country Name\", \"Value\": \"Production_tonnes\"}, inplace=True)\n",
    "productie_aggregated[\"Year\"] = pd.to_numeric(productie_aggregated[\"Year\"], errors=\"coerce\")\n",
    "productie_aggregated[\"Country Name\"] = productie_aggregated[\"Country Name\"].replace({\n",
    "    \"Netherlands (Kingdom of the)\": \"Netherlands\"\n",
    "})\n",
    "\n",
    "# 🌱🐄 Combineer gewas- en veeteeltuitstoot\n",
    "emissies_crops_total = emissies_crops_df.groupby([\"Area\", \"Year\"])[\"Value\"].sum().reset_index()\n",
    "emissies_livestock_total = emissies_livestock_df.groupby([\"Area\", \"Year\"])[\"Value\"].sum().reset_index()\n",
    "\n",
    "emissies_total = pd.merge(\n",
    "    emissies_crops_total, emissies_livestock_total,\n",
    "    on=[\"Area\", \"Year\"], how=\"outer\", suffixes=(\"_crops\", \"_livestock\")\n",
    ")\n",
    "emissies_total[\"Emissions_total\"] = (\n",
    "    emissies_total[\"Value_crops\"].fillna(0) + emissies_total[\"Value_livestock\"].fillna(0)\n",
    ")\n",
    "emissies_total = emissies_total[[\"Area\", \"Year\", \"Emissions_total\"]]\n",
    "emissies_total.rename(columns={\"Area\": \"Country Name\"}, inplace=True)\n",
    "emissies_total[\"Year\"] = pd.to_numeric(emissies_total[\"Year\"], errors=\"coerce\")\n",
    "\n",
    "# 🔁 Merge alles samen op land + jaar\n",
    "emissie_productie_df = pd.merge(emissies_total, productie_aggregated, on=[\"Country Name\", \"Year\"])\n",
    "emissie_productie_df = pd.merge(emissie_productie_df, neerslag_long, on=[\"Country Name\", \"Year\"])\n",
    "\n",
    "# 🔎 Filter op de 7 landen\n",
    "landen_selectie = [\n",
    "    \"Nigeria\", \"South Africa\", \"India\", \"Japan\",\n",
    "    \"United States of America\", \"Brazil\", \"Indonesia\"\n",
    "]\n",
    "emissie_productie_df = emissie_productie_df[emissie_productie_df[\"Country Name\"].isin(landen_selectie)]\n",
    "\n",
    "# ➗ Bereken uitstoot per ton\n",
    "emissie_productie_df[\"Emissions_per_ton\"] = (\n",
    "    emissie_productie_df[\"Emissions_total\"] / emissie_productie_df[\"Production_tonnes\"]\n",
    ")\n",
    "\n",
    "# 📈 Maak scatterplot\n",
    "fig = px.scatter(\n",
    "    emissie_productie_df,\n",
    "    x=\"Precipitation_mm\",\n",
    "    y=\"Emissions_per_ton\",\n",
    "    animation_frame=\"Year\",\n",
    "    color=\"Country Name\",\n",
    "    text=\"Country Name\",\n",
    "    hover_name=\"Country Name\",\n",
    "    title=\"Uitstoot per ton geproduceerd vs Neerslag (per jaar)\",\n",
    "    labels={\n",
    "        \"Precipitation_mm\": \"Neerslag (mm/jaar)\",\n",
    "        \"Emissions_per_ton\": \"Uitstoot per ton geproduceerd (Mt/ton)\"\n",
    "    }\n",
    ")\n",
    "\n",
    "fig.update_traces(\n",
    "    textposition='top center',\n",
    "    marker=dict(size=14)\n",
    ")\n",
    "\n",
    "fig.update_layout(\n",
    "    xaxis=dict(range=[0, 3000]),\n",
    "    yaxis=dict(range=[0, 6e-7])\n",
    ")\n",
    "\n",
    "fig.show()\n",
    "\n"
   ]
  },
  {
   "cell_type": "markdown",
   "id": "b89f90b9",
   "metadata": {},
   "source": [
    "#### Analyse: Uitstoot per ton geproduceerd vs Neerslag\n",
    "\n",
    "Deze visualisatie toont hoe efficiënt landen voedsel produceren in termen van uitstoot. Op de x-as staat de jaarlijkse neerslag (in mm), en op de y-as de uitstoot uit landbouw omgerekend naar **uitstoot per geproduceerde ton voedsel** (Mt CO₂e/ton). Elk punt vertegenwoordigt één land in een bepaald jaar. We volgen Brazilië, India, Indonesië, Japan, Nigeria, Zuid-Afrika en \n",
    "de Verenigde Staten.\n",
    "\n",
    "##### Waarom deze landen?\n",
    "\n",
    "In deze analyse beperken we ons tot zeven landen: Brazilië, India, Indonesië, Japan, Nigeria, Zuid-Afrika en de Verenigde Staten. Deze selectie is bewust gemaakt om drie redenen:\n",
    "\n",
    "1. **Contrasterende landbouwsystemen**  \n",
    "   Elk van deze landen vertegenwoordigt een fundamenteel ander landbouwmodel: van grootschalige industriële productie (VS), tot extensieve plantaardige landbouw (India), tot tropisch kleinschalig boerenbedrijf (Nigeria, Indonesië). Door juist deze contrasten te vergelijken, ontstaat inzicht in hoe verschillende strategieën leiden tot uiteenlopende emissiepatronen, los van natuurlijke omstandigheden.\n",
    "\n",
    "2. **Relevantie voor mondiale voedselvoorziening én uitstoot**  \n",
    "   De gekozen landen behoren tot de grootste producenten van voedsel in de wereld (India, VS, Brazilië), of zijn door hun bevolkingsomvang of economische groei belangrijk voor de toekomst van landbouwtransitie (zoals Indonesië, Nigeria). Ze dragen significant bij aan zowel de wereldwijde voedselproductie als de landbouwgerelateerde uitstoot, wat hen tot relevante cases maakt.\n",
    "\n",
    "3. **Beheersbare maar representatieve vergelijking**  \n",
    "   Door te focussen op zeven landen kunnen we trends in detail analyseren, zonder dat de vergelijking verwatert. Een analyse van alle landen zou leiden tot visuele ruis en afleiding van het doel: het blootleggen van fundamentele verschillen in landbouw-efficiëntie. De gekozen landen bestrijken vijf continenten, meerdere klimaatzones, en uiteenlopende sociaaleconomische structuren, waardoor ze samen een krachtig representatief beeld geven van mondiale landbouwdynamiek.\n",
    "\n",
    "Kortom: deze landen zijn niet willekeurig gekozen, maar geselecteerd om de kernvraag van deze analyse – **hoe efficiënt produceren landen voedsel in termen van uitstoot?** – zo scherp en inzichtelijk mogelijk te beantwoorden.\n",
    "\n",
    "\n",
    "##### Wat valt op?\n",
    "\n",
    "- **De Verenigde Staten heeft structureel een hoge uitstoot per ton geproduceerd.**  \n",
    "  Hoewel de VS een grote landbouwsector heeft, is de uitstoot per ton voedsel aanzienlijk hoger dan in bijvoorbeeld India of Brazilië. Dit wijst waarschijnlijk op een uitstootintensieve landbouwpraktijk, zoals intensieve veeteelt (runderen, varkens), gebruik van grote hoeveelheden kunstmest, en een hoge mate van mechanisatie en energieverbruik.\n",
    "\n",
    "- **India en Brazilië combineren hoge productie met relatief lage uitstoot.**  \n",
    "  India produceert in veel jaren zelfs meer dan de VS, maar doet dit met een aanzienlijk lagere uitstoot per ton. Dit suggereert een meer plantaardige en extensieve landbouw, of efficiënter gebruik van middelen. Ook Brazilië scoort opvallend goed qua uitstoot-efficiëntie, ondanks hoge neerslag.\n",
    "\n",
    "- **Japan en Zuid-Afrika zitten qua efficiëntie in de middenmoot.**  \n",
    "  Japan is technologisch geavanceerd maar kleinschalig, wat leidt tot stabiele maar gematigde uitstoot per ton. Zuid-Afrika toont sterke fluctuaties, wat kan wijzen op klimaatinvloeden (zoals droogte), economische instabiliteit of structurele verschillen in landbouwtypes per jaar.\n",
    "\n",
    "- **Indonesië en Nigeria produceren weinig, en stoten relatief weinig uit.**  \n",
    "  In beide landen is de landbouw kleinschaliger en minder geïndustrialiseerd. Dat leidt tot lage totale productie, maar ook tot lage uitstoot per ton. Wellicht is er beperkte toegang tot landbouwtechnologie of infrastructuur.\n",
    "\n",
    "##### Waarom stoten sommige landen meer uit per ton dan andere?\n",
    "\n",
    "Een hoge uitstoot per ton geproduceerd voedsel kan verschillende oorzaken hebben:\n",
    "- Dominantie van veeteelt (vooral rundvlees en zuivel -> hoge methaanuitstoot)\n",
    "- Inefficiënt gebruik van landbouwgrond of input (bijv. overmatig gebruik van kunstmest)\n",
    "- Mechanisatie die veel fossiele energie verbruikt\n",
    "- Verspilling in de keten of lage opbrengst per hectare\n",
    "\n",
    "##### Conclusie\n",
    "\n",
    "De visualisatie laat overtuigend zien dat **meer neerslag niet automatisch leidt tot efficiëntere of duurzamere landbouw.** India toont aan dat een droog(achtig) klimaat niet hoeft te betekenen dat productie inefficiënt is. Tegelijkertijd laat de VS zien dat landbouwkeuzes een grotere impact hebben dan klimaat: ondanks goede omstandigheden is de uitstoot per ton daar hoog.\n",
    "\n",
    "Efficiëntie in landbouw wordt dus grotendeels bepaald door **productiestrategie**, niet door geografie. Wie wat produceert – en hóé – bepaalt uiteindelijk de ecologische voetafdruk.\n",
    "\n"
   ]
  },
  {
   "cell_type": "markdown",
   "id": "760ec173",
   "metadata": {},
   "source": [
    "### Internationale handelsstromen beïnvloeden nationale uitstoot\n",
    "\n",
    "De uitstoot van een nationaal voedselsysteem zegt niet alleen iets over wat er binnen dat land geconsumeerd wordt, maar ook over wat er geproduceerd wordt voor de wereldmarkt. Sommige landen produceren voedsel voornamelijk voor export. In die gevallen wordt de uitstoot lokaal geregistreerd, terwijl de consumptie elders plaatsvindt. \n",
    "\n",
    "Omdat deze landen produceren voor internationale markten, ligt hun landbouwuitstoot vaak hoger dan landen met vergelijkbare bevolkingsaantallen of eetgewoonten. Dit betekent dat de uitstoot van een land niet per se iets zegt over het lokale dieet of de binnenlandse voedselvoorziening. Het weerspiegelt eerder hun positie in het mondiale voedselsysteem. \n",
    "\n",
    "Dus landbouwuitstoot weerspiegelt niet enkel lokale consumptie, maar wordt sterk beïnvloed door de internationale vraag – landen met hoge export produceren meer en stoten daardoor meer uit, vaak voor andermans bord.\n"
   ]
  },
  {
   "cell_type": "code",
   "execution_count": null,
   "id": "b86b0fe7",
   "metadata": {},
   "outputs": [
    {
     "ename": "SyntaxError",
     "evalue": "closing parenthesis ']' does not match opening parenthesis '{' (1557279461.py, line 82)",
     "output_type": "error",
     "traceback": [
      "\u001b[0;36m  Cell \u001b[0;32mIn[60], line 82\u001b[0;36m\u001b[0m\n\u001b[0;31m    args=[{\"visible\": [False]*(2*n) + [True]*n + [False]*n],\u001b[0m\n\u001b[0m                                                          ^\u001b[0m\n\u001b[0;31mSyntaxError\u001b[0m\u001b[0;31m:\u001b[0m closing parenthesis ']' does not match opening parenthesis '{'\n"
     ]
    }
   ],
   "source": [
    "import pandas as pd\n",
    "import plotly.graph_objects as go\n",
    "\n",
    "# === STEP 1: LOAD ALL DATA ===\n",
    "df_export = pd.read_csv(\"datasets/filtered_export_data.csv\", encoding='latin1')\n",
    "df_crops = pd.read_csv(\"datasets/Emissions_crops_filtered.csv\")\n",
    "df_livestock = pd.read_csv(\"datasets/Emissions_livestock_filtered.csv\")\n",
    "df_pop = pd.read_csv(\"datasets/Population_E_All_Data_(Normalized).csv\")\n",
    "\n",
    "# === STEP 2: CLEAN EXPORT DATA ===\n",
    "df_export = df_export[df_export[\"Element\"] == \"Export quantity\"]\n",
    "df_export = df_export[df_export[\"Value\"] > 0]\n",
    "df_export[\"Item\"] = df_export[\"Item\"].str.strip()\n",
    "df_export = df_export[[\"Reporter Countries\", \"Item\", \"Year\", \"Value\"]]\n",
    "df_export.columns = [\"Country\", \"Item\", \"Year\", \"Tonnes\"]\n",
    "\n",
    "# === STEP 3: CLEAN + MERGE EMISSIONS DATA ===\n",
    "df_emissions = pd.concat([df_crops, df_livestock])\n",
    "df_emissions = df_emissions[df_emissions[\"Value\"].notna()]\n",
    "df_emissions = df_emissions[df_emissions[\"Value\"] > 0]\n",
    "df_emissions = df_emissions[[\"Area\", \"Item\", \"Year\", \"Value\"]]\n",
    "df_emissions.columns = [\"Country\", \"Item\", \"Year\", \"Emissions_Gg\"]\n",
    "df_emissions[\"Emissions_kg\"] = df_emissions[\"Emissions_Gg\"] * 1e6\n",
    "\n",
    "# === STEP 4: CALCULATE EMISSION FACTORS (kg CO₂ per tonne) ===\n",
    "df_merged = pd.merge(df_export, df_emissions, on=[\"Country\", \"Item\", \"Year\"], how=\"left\")\n",
    "df_merged[\"Emission_Factor\"] = df_merged[\"Emissions_kg\"] / df_merged[\"Tonnes\"]\n",
    "df_merged = df_merged[df_merged[\"Emission_Factor\"].notna()]\n",
    "\n",
    "# === STEP 5: ESTIMATE EMISSIONS FROM EXPORT ===\n",
    "df_merged[\"Estimated_Emissions_kg\"] = df_merged[\"Tonnes\"] * df_merged[\"Emission_Factor\"]\n",
    "\n",
    "# === STEP 6: LOAD + MERGE POPULATION DATA ===\n",
    "df_pop = df_pop[df_pop[\"Element\"] == \"Total Population - Both sexes\"]\n",
    "df_pop = df_pop[[\"Area\", \"Year\", \"Value\"]]\n",
    "df_pop.columns = [\"Country\", \"Year\", \"Population_1000s\"]\n",
    "df_pop[\"Population\"] = df_pop[\"Population_1000s\"] * 1000\n",
    "\n",
    "df_final = pd.merge(df_merged, df_pop, on=[\"Country\", \"Year\"], how=\"left\")\n",
    "df_final = df_final[df_final[\"Population\"].notna()]\n",
    "\n",
    "# === STEP 7: CALCULATE PER CAPITA METRICS ===\n",
    "df_final[\"Tonnes_per_capita\"] = df_final[\"Tonnes\"] / df_final[\"Population\"]\n",
    "df_final[\"Emissions_per_capita\"] = df_final[\"Estimated_Emissions_kg\"] / df_final[\"Population\"]\n",
    "\n",
    "# === STEP 8: AGGREGATE FOR VISUALISATION ===\n",
    "def group_for_plot(value_column):\n",
    "    return df_final.groupby([\"Country\", \"Item\"])[value_column].sum().unstack().fillna(0)\n",
    "\n",
    "volume_df = group_for_plot(\"Tonnes\")\n",
    "emissions_df = group_for_plot(\"Estimated_Emissions_kg\")\n",
    "volume_pc_df = group_for_plot(\"Tonnes_per_capita\")\n",
    "emissions_pc_df = group_for_plot(\"Emissions_per_capita\")\n",
    "\n",
    "# === STEP 9: BUILD INTERACTIVE VISUALISATION ===\n",
    "fig = go.Figure()\n",
    "\n",
    "# Add default view (volume)\n",
    "for item in volume_df.columns:\n",
    "    fig.add_trace(go.Bar(name=item, x=volume_df.index, y=volume_df[item], visible=True))\n",
    "\n",
    "# Add other 3 datasets as hidden\n",
    "for df_data in [emissions_df, volume_pc_df, emissions_pc_df]:\n",
    "    for item in df_data.columns:\n",
    "        fig.add_trace(go.Bar(name=item, x=df_data.index, y=df_data[item], visible=False))\n",
    "\n",
    "# Dropdown logic\n",
    "n = len(volume_df.columns)\n",
    "dropdown_buttons = [\n",
    "    dict(label=\"Export Volume (tonnes)\",\n",
    "         method=\"update\",\n",
    "         args=[{\"visible\": [True]*n + [False]*(3*n)},\n",
    "               {\"title\": \"Export Volume by Country (tonnes)\",\n",
    "                \"yaxis\": {\"title\": \"Tonnes\"}}]),\n",
    "    dict(label=\"Estimated CO₂ Emissions (kg)\",\n",
    "         method=\"update\",\n",
    "         args=[{\"visible\": [False]*n + [True]*n + [False]*(2*n)},\n",
    "               {\"title\": \"Estimated CO₂ Emissions by Country\",\n",
    "                \"yaxis\": {\"title\": \"kg CO₂\"}}]),\n",
    "    dict(label=\"Export Volume per Capita (tonnes/person)\",\n",
    "     method=\"update\",\n",
    "     args=[{\"visible\": [False]*(2*n) + [True]*n + [False]*n},\n",
    "           {\"title\": \"Export Volume per Capita by Country\",\n",
    "            \"yaxis\": {\"title\": \"Tonnes per person\"}}]),\n",
    "    dict(label=\"CO₂ Emissions per Capita (kg/person)\",\n",
    "        method=\"update\",\n",
    "        args=[{\"visible\": [False]*(3*n) + [True]*n},\n",
    "           {\"title\": \"Export-Linked CO₂ Emissions per Capita by Country\",\n",
    "            \"yaxis\": {\"title\": \"kg CO₂ per person\"}}])\n",
    "\n",
    "]\n",
    "\n",
    "# Final layout\n",
    "fig.update_layout(\n",
    "    updatemenus=[dict(active=0, buttons=dropdown_buttons, x=1.05)],\n",
    "    barmode=\"stack\",\n",
    "    title=\"Export Volume by Country (tonnes)\",\n",
    "    xaxis_title=\"Country\",\n",
    "    yaxis_title=\"Tonnes\",\n",
    "    legend_title=\"Product\",\n",
    "    height=650,\n",
    "    margin=dict(l=50, r=50, t=80, b=50)\n",
    ")\n",
    "\n",
    "fig.show()\n",
    "\n"
   ]
  }
 ],
 "metadata": {
  "kernelspec": {
   "display_name": "jupyterbook",
   "language": "python",
   "name": "python3"
  },
  "language_info": {
   "codemirror_mode": {
    "name": "ipython",
    "version": 3
   },
   "file_extension": ".py",
   "mimetype": "text/x-python",
   "name": "python",
   "nbconvert_exporter": "python",
   "pygments_lexer": "ipython3",
   "version": "3.10.16"
  }
 },
 "nbformat": 4,
 "nbformat_minor": 5
}
