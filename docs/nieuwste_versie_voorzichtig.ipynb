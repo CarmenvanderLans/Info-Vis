{
 "cells": [
  {
   "cell_type": "code",
   "execution_count": null,
   "id": "c54ef5e0",
   "metadata": {
    "vscode": {
     "languageId": "plaintext"
    }
   },
   "outputs": [],
   "source": [
    "Introductie"
   ]
  },
  {
   "cell_type": "code",
   "execution_count": null,
   "id": "9199e144",
   "metadata": {
    "vscode": {
     "languageId": "plaintext"
    }
   },
   "outputs": [],
   "source": [
    "Perspectief 1"
   ]
  },
  {
   "cell_type": "code",
   "execution_count": null,
   "id": "b673cdf3",
   "metadata": {
    "vscode": {
     "languageId": "plaintext"
    }
   },
   "outputs": [],
   "source": [
    "Perspectief 2"
   ]
  },
  {
   "cell_type": "code",
   "execution_count": null,
   "id": "02bab4d2",
   "metadata": {
    "vscode": {
     "languageId": "plaintext"
    }
   },
   "outputs": [],
   "source": [
    "Perspectief 3"
   ]
  },
  {
   "cell_type": "code",
   "execution_count": null,
   "id": "bc3ba8ee",
   "metadata": {
    "vscode": {
     "languageId": "plaintext"
    }
   },
   "outputs": [],
   "source": [
    "Perspectief 4"
   ]
  },
  {
   "cell_type": "code",
   "execution_count": null,
   "id": "abd62396",
   "metadata": {
    "vscode": {
     "languageId": "plaintext"
    }
   },
   "outputs": [],
   "source": [
    "import pandas as pd\n",
    "\n",
    "# Pad naar de datasets\n",
    "base_path = \"datasets/\"\n",
    "\n",
    "# Inladen van de datasets\n",
    "owid = pd.read_csv(base_path + \"greenhouse-gas-emissions-per-kilogram-of-food-product.csv\")\n",
    "faostat = pd.read_csv(base_path + \"Production_Crops_Livestock_E_All_Data_(Normalized).csv\")\n",
    "emissions_fao = pd.read_csv(base_path + \"Environment_Emissions_intensities_E_All_Data_(Normalized).csv\")\n",
    "worldbank = pd.read_csv(base_path + \"cc276fac-b612-4225-a0f8-b7009bcade39_Data.csv\")\n",
    "rainfall = pd.read_csv(base_path + \"API_AG.LND.PRCP.MM_DS2_en_csv_v2_4487.csv\")  # Neerslag per land\n"
   ]
  }
 ],
 "metadata": {
  "language_info": {
   "name": "python"
  }
 },
 "nbformat": 4,
 "nbformat_minor": 5
}
