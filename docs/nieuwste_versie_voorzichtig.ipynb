{
 "cells": [
  {
   "cell_type": "markdown",
   "id": "f14e6fb5",
   "metadata": {},
   "source": []
  },
  {
   "cell_type": "markdown",
   "id": "f286dbd8",
   "metadata": {},
   "source": [
    "Introductie"
   ]
  },
  {
   "cell_type": "markdown",
   "id": "25a8c57b",
   "metadata": {},
   "source": [
    "P1"
   ]
  },
  {
   "cell_type": "markdown",
   "id": "9d2bf51e",
   "metadata": {},
   "source": [
    "P2"
   ]
  },
  {
   "cell_type": "markdown",
   "id": "f7cbbbc9",
   "metadata": {},
   "source": [
    "P3"
   ]
  },
  {
   "cell_type": "markdown",
   "id": "ad64c063",
   "metadata": {},
   "source": [
    "P4"
   ]
  },
  {
   "cell_type": "markdown",
   "id": "ba2fda4a",
   "metadata": {},
   "source": [
    "## De invloed van klimaat en geografie op voedselproductie\n",
    "\n",
    "Niet elk land beschikt over dezelfde natuurlijke omstandigheden om voedsel te produceren. Factoren zoals neerslag, temperatuur en klimaatzones bepalen welke gewassen efficiënt kunnen groeien. In landen met een ongunstig klimaat moeten gewassen onder intensievere en vaak minder duurzame omstandigheden worden verbouwd.\n",
    "Daarnaast speelt de geografische ligging een rol in hoe voedsel wordt verhandeld: landen die ver van exportmarkten liggen, hebben hogere transportkosten en extra uitstoot, wat hun voedselsysteem minder duurzaam maakt.\n",
    "In dit perspectief onderzoeken we hoe deze geografische factoren — natuurlijke omstandigheden en ligging ten opzichte van wereldmarkten — bijdragen aan verschillen in de duurzaamheid van nationale voedselsystemen."
   ]
  },
  {
   "cell_type": "markdown",
   "id": "efacbb89",
   "metadata": {},
   "source": [
    "#### Klimaatzones en natuurlijke omstandigheden beïnvloeden duurzaamheid\n",
    "Landen verschillen sterk in klimaat. Tropische regio’s kennen bijvoorbeeld hoge temperaturen en regelmatige regenval, terwijl droge of koude gebieden kampen met beperkte groeiseizoenen en lagere landbouwopbrengsten per hectare.\n",
    "In warmere, vruchtbare klimaatzones kunnen gewassen natuurlijk groeien, met weinig extra input. In koudere of drogere gebieden zijn irrigatie, verwarming, kunstmest of import van hulpbronnen nodig om dezelfde opbrengst te halen. Deze extra inputs verhogen de uitstoot per kilogram geproduceerd voedsel.\n",
    "Daarom is het voedselsysteem in sommige landen per definitie minder duurzaam, simpelweg door hun ligging in een ongunstige klimaatzone."
   ]
  },
  {
   "cell_type": "code",
   "execution_count": 39,
   "id": "4a632f1e",
   "metadata": {},
   "outputs": [
    {
     "data": {
      "application/vnd.plotly.v1+json": {
       "config": {
        "plotlyServerURL": "https://plot.ly"
       },
       "data": [
        {
         "hovertemplate": "<b>%{hovertext}</b><br><br>Country Name=%{text}<br>Year=1961.0<br>Neerslag (mm/jaar)=%{x}<br>Totale landbouwuitstoot (Mt CO₂e)=%{y}<extra></extra>",
         "hovertext": [
          "Brazil"
         ],
         "legendgroup": "Brazil",
         "marker": {
          "color": "#636efa",
          "size": 14,
          "symbol": "circle"
         },
         "mode": "markers+text",
         "name": "Brazil",
         "orientation": "v",
         "showlegend": true,
         "text": [
          "Brazil"
         ],
         "textposition": "top center",
         "type": "scatter",
         "x": {
          "bdata": "AAAAAADYm0A=",
          "dtype": "f8"
         },
         "xaxis": "x",
         "y": {
          "bdata": "bhKDwMohH0A=",
          "dtype": "f8"
         },
         "yaxis": "y"
        },
        {
         "hovertemplate": "<b>%{hovertext}</b><br><br>Country Name=%{text}<br>Year=1961.0<br>Neerslag (mm/jaar)=%{x}<br>Totale landbouwuitstoot (Mt CO₂e)=%{y}<extra></extra>",
         "hovertext": [
          "Indonesia"
         ],
         "legendgroup": "Indonesia",
         "marker": {
          "color": "#EF553B",
          "size": 14,
          "symbol": "circle"
         },
         "mode": "markers+text",
         "name": "Indonesia",
         "orientation": "v",
         "showlegend": true,
         "text": [
          "Indonesia"
         ],
         "textposition": "top center",
         "type": "scatter",
         "x": {
          "bdata": "AAAAAAAcpUA=",
          "dtype": "f8"
         },
         "xaxis": "x",
         "y": {
          "bdata": "eHqlLEMc0z8=",
          "dtype": "f8"
         },
         "yaxis": "y"
        },
        {
         "hovertemplate": "<b>%{hovertext}</b><br><br>Country Name=%{text}<br>Year=1961.0<br>Neerslag (mm/jaar)=%{x}<br>Totale landbouwuitstoot (Mt CO₂e)=%{y}<extra></extra>",
         "hovertext": [
          "India"
         ],
         "legendgroup": "India",
         "marker": {
          "color": "#00cc96",
          "size": 14,
          "symbol": "circle"
         },
         "mode": "markers+text",
         "name": "India",
         "orientation": "v",
         "showlegend": true,
         "text": [
          "India"
         ],
         "textposition": "top center",
         "type": "scatter",
         "x": {
          "bdata": "AAAAAADskEA=",
          "dtype": "f8"
         },
         "xaxis": "x",
         "y": {
          "bdata": "cPCFyVRRRkA=",
          "dtype": "f8"
         },
         "yaxis": "y"
        },
        {
         "hovertemplate": "<b>%{hovertext}</b><br><br>Country Name=%{text}<br>Year=1961.0<br>Neerslag (mm/jaar)=%{x}<br>Totale landbouwuitstoot (Mt CO₂e)=%{y}<extra></extra>",
         "hovertext": [
          "Japan"
         ],
         "legendgroup": "Japan",
         "marker": {
          "color": "#ab63fa",
          "size": 14,
          "symbol": "circle"
         },
         "mode": "markers+text",
         "name": "Japan",
         "orientation": "v",
         "showlegend": true,
         "text": [
          "Japan"
         ],
         "textposition": "top center",
         "type": "scatter",
         "x": {
          "bdata": "AAAAAAAQmkA=",
          "dtype": "f8"
         },
         "xaxis": "x",
         "y": {
          "bdata": "OGdEaW/wBUA=",
          "dtype": "f8"
         },
         "yaxis": "y"
        },
        {
         "hovertemplate": "<b>%{hovertext}</b><br><br>Country Name=%{text}<br>Year=1961.0<br>Neerslag (mm/jaar)=%{x}<br>Totale landbouwuitstoot (Mt CO₂e)=%{y}<extra></extra>",
         "hovertext": [
          "Nigeria"
         ],
         "legendgroup": "Nigeria",
         "marker": {
          "color": "#FFA15A",
          "size": 14,
          "symbol": "circle"
         },
         "mode": "markers+text",
         "name": "Nigeria",
         "orientation": "v",
         "showlegend": true,
         "text": [
          "Nigeria"
         ],
         "textposition": "top center",
         "type": "scatter",
         "x": {
          "bdata": "AAAAAAD4kUA=",
          "dtype": "f8"
         },
         "xaxis": "x",
         "y": {
          "bdata": "vAUSFD/GrD8=",
          "dtype": "f8"
         },
         "yaxis": "y"
        },
        {
         "hovertemplate": "<b>%{hovertext}</b><br><br>Country Name=%{text}<br>Year=1961.0<br>Neerslag (mm/jaar)=%{x}<br>Totale landbouwuitstoot (Mt CO₂e)=%{y}<extra></extra>",
         "hovertext": [
          "United States of America"
         ],
         "legendgroup": "United States of America",
         "marker": {
          "color": "#19d3f3",
          "size": 14,
          "symbol": "circle"
         },
         "mode": "markers+text",
         "name": "United States of America",
         "orientation": "v",
         "showlegend": true,
         "text": [
          "United States of America"
         ],
         "textposition": "top center",
         "type": "scatter",
         "x": {
          "bdata": "AAAAAABYhkA=",
          "dtype": "f8"
         },
         "xaxis": "x",
         "y": {
          "bdata": "001iEFiJUEA=",
          "dtype": "f8"
         },
         "yaxis": "y"
        },
        {
         "hovertemplate": "<b>%{hovertext}</b><br><br>Country Name=%{text}<br>Year=1961.0<br>Neerslag (mm/jaar)=%{x}<br>Totale landbouwuitstoot (Mt CO₂e)=%{y}<extra></extra>",
         "hovertext": [
          "South Africa"
         ],
         "legendgroup": "South Africa",
         "marker": {
          "color": "#FF6692",
          "size": 14,
          "symbol": "circle"
         },
         "mode": "markers+text",
         "name": "South Africa",
         "orientation": "v",
         "showlegend": true,
         "text": [
          "South Africa"
         ],
         "textposition": "top center",
         "type": "scatter",
         "x": {
          "bdata": "AAAAAADwfkA=",
          "dtype": "f8"
         },
         "xaxis": "x",
         "y": {
          "bdata": "vlKWIY51EEA=",
          "dtype": "f8"
         },
         "yaxis": "y"
        }
       ],
       "frames": [
        {
         "data": [
          {
           "hovertemplate": "<b>%{hovertext}</b><br><br>Country Name=%{text}<br>Year=1961.0<br>Neerslag (mm/jaar)=%{x}<br>Totale landbouwuitstoot (Mt CO₂e)=%{y}<extra></extra>",
           "hovertext": [
            "Brazil"
           ],
           "legendgroup": "Brazil",
           "marker": {
            "color": "#636efa",
            "symbol": "circle"
           },
           "mode": "markers+text",
           "name": "Brazil",
           "orientation": "v",
           "showlegend": true,
           "text": [
            "Brazil"
           ],
           "type": "scatter",
           "x": {
            "bdata": "AAAAAADYm0A=",
            "dtype": "f8"
           },
           "xaxis": "x",
           "y": {
            "bdata": "bhKDwMohH0A=",
            "dtype": "f8"
           },
           "yaxis": "y"
          },
          {
           "hovertemplate": "<b>%{hovertext}</b><br><br>Country Name=%{text}<br>Year=1961.0<br>Neerslag (mm/jaar)=%{x}<br>Totale landbouwuitstoot (Mt CO₂e)=%{y}<extra></extra>",
           "hovertext": [
            "Indonesia"
           ],
           "legendgroup": "Indonesia",
           "marker": {
            "color": "#EF553B",
            "symbol": "circle"
           },
           "mode": "markers+text",
           "name": "Indonesia",
           "orientation": "v",
           "showlegend": true,
           "text": [
            "Indonesia"
           ],
           "type": "scatter",
           "x": {
            "bdata": "AAAAAAAcpUA=",
            "dtype": "f8"
           },
           "xaxis": "x",
           "y": {
            "bdata": "eHqlLEMc0z8=",
            "dtype": "f8"
           },
           "yaxis": "y"
          },
          {
           "hovertemplate": "<b>%{hovertext}</b><br><br>Country Name=%{text}<br>Year=1961.0<br>Neerslag (mm/jaar)=%{x}<br>Totale landbouwuitstoot (Mt CO₂e)=%{y}<extra></extra>",
           "hovertext": [
            "India"
           ],
           "legendgroup": "India",
           "marker": {
            "color": "#00cc96",
            "symbol": "circle"
           },
           "mode": "markers+text",
           "name": "India",
           "orientation": "v",
           "showlegend": true,
           "text": [
            "India"
           ],
           "type": "scatter",
           "x": {
            "bdata": "AAAAAADskEA=",
            "dtype": "f8"
           },
           "xaxis": "x",
           "y": {
            "bdata": "cPCFyVRRRkA=",
            "dtype": "f8"
           },
           "yaxis": "y"
          },
          {
           "hovertemplate": "<b>%{hovertext}</b><br><br>Country Name=%{text}<br>Year=1961.0<br>Neerslag (mm/jaar)=%{x}<br>Totale landbouwuitstoot (Mt CO₂e)=%{y}<extra></extra>",
           "hovertext": [
            "Japan"
           ],
           "legendgroup": "Japan",
           "marker": {
            "color": "#ab63fa",
            "symbol": "circle"
           },
           "mode": "markers+text",
           "name": "Japan",
           "orientation": "v",
           "showlegend": true,
           "text": [
            "Japan"
           ],
           "type": "scatter",
           "x": {
            "bdata": "AAAAAAAQmkA=",
            "dtype": "f8"
           },
           "xaxis": "x",
           "y": {
            "bdata": "OGdEaW/wBUA=",
            "dtype": "f8"
           },
           "yaxis": "y"
          },
          {
           "hovertemplate": "<b>%{hovertext}</b><br><br>Country Name=%{text}<br>Year=1961.0<br>Neerslag (mm/jaar)=%{x}<br>Totale landbouwuitstoot (Mt CO₂e)=%{y}<extra></extra>",
           "hovertext": [
            "Nigeria"
           ],
           "legendgroup": "Nigeria",
           "marker": {
            "color": "#FFA15A",
            "symbol": "circle"
           },
           "mode": "markers+text",
           "name": "Nigeria",
           "orientation": "v",
           "showlegend": true,
           "text": [
            "Nigeria"
           ],
           "type": "scatter",
           "x": {
            "bdata": "AAAAAAD4kUA=",
            "dtype": "f8"
           },
           "xaxis": "x",
           "y": {
            "bdata": "vAUSFD/GrD8=",
            "dtype": "f8"
           },
           "yaxis": "y"
          },
          {
           "hovertemplate": "<b>%{hovertext}</b><br><br>Country Name=%{text}<br>Year=1961.0<br>Neerslag (mm/jaar)=%{x}<br>Totale landbouwuitstoot (Mt CO₂e)=%{y}<extra></extra>",
           "hovertext": [
            "United States of America"
           ],
           "legendgroup": "United States of America",
           "marker": {
            "color": "#19d3f3",
            "symbol": "circle"
           },
           "mode": "markers+text",
           "name": "United States of America",
           "orientation": "v",
           "showlegend": true,
           "text": [
            "United States of America"
           ],
           "type": "scatter",
           "x": {
            "bdata": "AAAAAABYhkA=",
            "dtype": "f8"
           },
           "xaxis": "x",
           "y": {
            "bdata": "001iEFiJUEA=",
            "dtype": "f8"
           },
           "yaxis": "y"
          },
          {
           "hovertemplate": "<b>%{hovertext}</b><br><br>Country Name=%{text}<br>Year=1961.0<br>Neerslag (mm/jaar)=%{x}<br>Totale landbouwuitstoot (Mt CO₂e)=%{y}<extra></extra>",
           "hovertext": [
            "South Africa"
           ],
           "legendgroup": "South Africa",
           "marker": {
            "color": "#FF6692",
            "symbol": "circle"
           },
           "mode": "markers+text",
           "name": "South Africa",
           "orientation": "v",
           "showlegend": true,
           "text": [
            "South Africa"
           ],
           "type": "scatter",
           "x": {
            "bdata": "AAAAAADwfkA=",
            "dtype": "f8"
           },
           "xaxis": "x",
           "y": {
            "bdata": "vlKWIY51EEA=",
            "dtype": "f8"
           },
           "yaxis": "y"
          }
         ],
         "name": "1961.0"
        },
        {
         "data": [
          {
           "hovertemplate": "<b>%{hovertext}</b><br><br>Country Name=%{text}<br>Year=1962.0<br>Neerslag (mm/jaar)=%{x}<br>Totale landbouwuitstoot (Mt CO₂e)=%{y}<extra></extra>",
           "hovertext": [
            "Brazil"
           ],
           "legendgroup": "Brazil",
           "marker": {
            "color": "#636efa",
            "symbol": "circle"
           },
           "mode": "markers+text",
           "name": "Brazil",
           "orientation": "v",
           "showlegend": true,
           "text": [
            "Brazil"
           ],
           "type": "scatter",
           "x": {
            "bdata": "AAAAAACEm0A=",
            "dtype": "f8"
           },
           "xaxis": "x",
           "y": {
            "bdata": "5BQdyeU/HkA=",
            "dtype": "f8"
           },
           "yaxis": "y"
          },
          {
           "hovertemplate": "<b>%{hovertext}</b><br><br>Country Name=%{text}<br>Year=1962.0<br>Neerslag (mm/jaar)=%{x}<br>Totale landbouwuitstoot (Mt CO₂e)=%{y}<extra></extra>",
           "hovertext": [
            "Indonesia"
           ],
           "legendgroup": "Indonesia",
           "marker": {
            "color": "#EF553B",
            "symbol": "circle"
           },
           "mode": "markers+text",
           "name": "Indonesia",
           "orientation": "v",
           "showlegend": true,
           "text": [
            "Indonesia"
           ],
           "type": "scatter",
           "x": {
            "bdata": "AAAAAAAcpUA=",
            "dtype": "f8"
           },
           "xaxis": "x",
           "y": {
            "bdata": "hHzQs1n10T8=",
            "dtype": "f8"
           },
           "yaxis": "y"
          },
          {
           "hovertemplate": "<b>%{hovertext}</b><br><br>Country Name=%{text}<br>Year=1962.0<br>Neerslag (mm/jaar)=%{x}<br>Totale landbouwuitstoot (Mt CO₂e)=%{y}<extra></extra>",
           "hovertext": [
            "India"
           ],
           "legendgroup": "India",
           "marker": {
            "color": "#00cc96",
            "symbol": "circle"
           },
           "mode": "markers+text",
           "name": "India",
           "orientation": "v",
           "showlegend": true,
           "text": [
            "India"
           ],
           "type": "scatter",
           "x": {
            "bdata": "AAAAAADskEA=",
            "dtype": "f8"
           },
           "xaxis": "x",
           "y": {
            "bdata": "iPTb14FjR0A=",
            "dtype": "f8"
           },
           "yaxis": "y"
          },
          {
           "hovertemplate": "<b>%{hovertext}</b><br><br>Country Name=%{text}<br>Year=1962.0<br>Neerslag (mm/jaar)=%{x}<br>Totale landbouwuitstoot (Mt CO₂e)=%{y}<extra></extra>",
           "hovertext": [
            "Japan"
           ],
           "legendgroup": "Japan",
           "marker": {
            "color": "#ab63fa",
            "symbol": "circle"
           },
           "mode": "markers+text",
           "name": "Japan",
           "orientation": "v",
           "showlegend": true,
           "text": [
            "Japan"
           ],
           "type": "scatter",
           "x": {
            "bdata": "AAAAAAAQmkA=",
            "dtype": "f8"
           },
           "xaxis": "x",
           "y": {
            "bdata": "zTtO0ZFcBUA=",
            "dtype": "f8"
           },
           "yaxis": "y"
          },
          {
           "hovertemplate": "<b>%{hovertext}</b><br><br>Country Name=%{text}<br>Year=1962.0<br>Neerslag (mm/jaar)=%{x}<br>Totale landbouwuitstoot (Mt CO₂e)=%{y}<extra></extra>",
           "hovertext": [
            "Nigeria"
           ],
           "legendgroup": "Nigeria",
           "marker": {
            "color": "#FFA15A",
            "symbol": "circle"
           },
           "mode": "markers+text",
           "name": "Nigeria",
           "orientation": "v",
           "showlegend": true,
           "text": [
            "Nigeria"
           ],
           "type": "scatter",
           "x": {
            "bdata": "AAAAAAD4kUA=",
            "dtype": "f8"
           },
           "xaxis": "x",
           "y": {
            "bdata": "GARWDi2yrT8=",
            "dtype": "f8"
           },
           "yaxis": "y"
          },
          {
           "hovertemplate": "<b>%{hovertext}</b><br><br>Country Name=%{text}<br>Year=1962.0<br>Neerslag (mm/jaar)=%{x}<br>Totale landbouwuitstoot (Mt CO₂e)=%{y}<extra></extra>",
           "hovertext": [
            "United States of America"
           ],
           "legendgroup": "United States of America",
           "marker": {
            "color": "#19d3f3",
            "symbol": "circle"
           },
           "mode": "markers+text",
           "name": "United States of America",
           "orientation": "v",
           "showlegend": true,
           "text": [
            "United States of America"
           ],
           "type": "scatter",
           "x": {
            "bdata": "AAAAAABYhkA=",
            "dtype": "f8"
           },
           "xaxis": "x",
           "y": {
            "bdata": "JuSDns1qTEA=",
            "dtype": "f8"
           },
           "yaxis": "y"
          },
          {
           "hovertemplate": "<b>%{hovertext}</b><br><br>Country Name=%{text}<br>Year=1962.0<br>Neerslag (mm/jaar)=%{x}<br>Totale landbouwuitstoot (Mt CO₂e)=%{y}<extra></extra>",
           "hovertext": [
            "South Africa"
           ],
           "legendgroup": "South Africa",
           "marker": {
            "color": "#FF6692",
            "symbol": "circle"
           },
           "mode": "markers+text",
           "name": "South Africa",
           "orientation": "v",
           "showlegend": true,
           "text": [
            "South Africa"
           ],
           "type": "scatter",
           "x": {
            "bdata": "AAAAAADwfkA=",
            "dtype": "f8"
           },
           "xaxis": "x",
           "y": {
            "bdata": "FvvL7snDD0A=",
            "dtype": "f8"
           },
           "yaxis": "y"
          }
         ],
         "name": "1962.0"
        },
        {
         "data": [
          {
           "hovertemplate": "<b>%{hovertext}</b><br><br>Country Name=%{text}<br>Year=1963.0<br>Neerslag (mm/jaar)=%{x}<br>Totale landbouwuitstoot (Mt CO₂e)=%{y}<extra></extra>",
           "hovertext": [
            "Brazil"
           ],
           "legendgroup": "Brazil",
           "marker": {
            "color": "#636efa",
            "symbol": "circle"
           },
           "mode": "markers+text",
           "name": "Brazil",
           "orientation": "v",
           "showlegend": true,
           "text": [
            "Brazil"
           ],
           "type": "scatter",
           "x": {
            "bdata": "AAAAAADYm0A=",
            "dtype": "f8"
           },
           "xaxis": "x",
           "y": {
            "bdata": "1LzjFB3JHkA=",
            "dtype": "f8"
           },
           "yaxis": "y"
          },
          {
           "hovertemplate": "<b>%{hovertext}</b><br><br>Country Name=%{text}<br>Year=1963.0<br>Neerslag (mm/jaar)=%{x}<br>Totale landbouwuitstoot (Mt CO₂e)=%{y}<extra></extra>",
           "hovertext": [
            "Indonesia"
           ],
           "legendgroup": "Indonesia",
           "marker": {
            "color": "#EF553B",
            "symbol": "circle"
           },
           "mode": "markers+text",
           "name": "Indonesia",
           "orientation": "v",
           "showlegend": true,
           "text": [
            "Indonesia"
           ],
           "type": "scatter",
           "x": {
            "bdata": "AAAAAAAcpUA=",
            "dtype": "f8"
           },
           "xaxis": "x",
           "y": {
            "bdata": "veMUHcnlzz8=",
            "dtype": "f8"
           },
           "yaxis": "y"
          },
          {
           "hovertemplate": "<b>%{hovertext}</b><br><br>Country Name=%{text}<br>Year=1963.0<br>Neerslag (mm/jaar)=%{x}<br>Totale landbouwuitstoot (Mt CO₂e)=%{y}<extra></extra>",
           "hovertext": [
            "India"
           ],
           "legendgroup": "India",
           "marker": {
            "color": "#00cc96",
            "symbol": "circle"
           },
           "mode": "markers+text",
           "name": "India",
           "orientation": "v",
           "showlegend": true,
           "text": [
            "India"
           ],
           "type": "scatter",
           "x": {
            "bdata": "AAAAAADskEA=",
            "dtype": "f8"
           },
           "xaxis": "x",
           "y": {
            "bdata": "vVKWIY7FRkA=",
            "dtype": "f8"
           },
           "yaxis": "y"
          },
          {
           "hovertemplate": "<b>%{hovertext}</b><br><br>Country Name=%{text}<br>Year=1963.0<br>Neerslag (mm/jaar)=%{x}<br>Totale landbouwuitstoot (Mt CO₂e)=%{y}<extra></extra>",
           "hovertext": [
            "Japan"
           ],
           "legendgroup": "Japan",
           "marker": {
            "color": "#ab63fa",
            "symbol": "circle"
           },
           "mode": "markers+text",
           "name": "Japan",
           "orientation": "v",
           "showlegend": true,
           "text": [
            "Japan"
           ],
           "type": "scatter",
           "x": {
            "bdata": "AAAAAAAQmkA=",
            "dtype": "f8"
           },
           "xaxis": "x",
           "y": {
            "bdata": "dLUV+8vuAEA=",
            "dtype": "f8"
           },
           "yaxis": "y"
          },
          {
           "hovertemplate": "<b>%{hovertext}</b><br><br>Country Name=%{text}<br>Year=1963.0<br>Neerslag (mm/jaar)=%{x}<br>Totale landbouwuitstoot (Mt CO₂e)=%{y}<extra></extra>",
           "hovertext": [
            "Nigeria"
           ],
           "legendgroup": "Nigeria",
           "marker": {
            "color": "#FFA15A",
            "symbol": "circle"
           },
           "mode": "markers+text",
           "name": "Nigeria",
           "orientation": "v",
           "showlegend": true,
           "text": [
            "Nigeria"
           ],
           "type": "scatter",
           "x": {
            "bdata": "AAAAAAD4kUA=",
            "dtype": "f8"
           },
           "xaxis": "x",
           "y": {
            "bdata": "xv6ye/KwsD8=",
            "dtype": "f8"
           },
           "yaxis": "y"
          },
          {
           "hovertemplate": "<b>%{hovertext}</b><br><br>Country Name=%{text}<br>Year=1963.0<br>Neerslag (mm/jaar)=%{x}<br>Totale landbouwuitstoot (Mt CO₂e)=%{y}<extra></extra>",
           "hovertext": [
            "United States of America"
           ],
           "legendgroup": "United States of America",
           "marker": {
            "color": "#19d3f3",
            "symbol": "circle"
           },
           "mode": "markers+text",
           "name": "United States of America",
           "orientation": "v",
           "showlegend": true,
           "text": [
            "United States of America"
           ],
           "type": "scatter",
           "x": {
            "bdata": "AAAAAABYhkA=",
            "dtype": "f8"
           },
           "xaxis": "x",
           "y": {
            "bdata": "wvUoXI+yTUA=",
            "dtype": "f8"
           },
           "yaxis": "y"
          },
          {
           "hovertemplate": "<b>%{hovertext}</b><br><br>Country Name=%{text}<br>Year=1963.0<br>Neerslag (mm/jaar)=%{x}<br>Totale landbouwuitstoot (Mt CO₂e)=%{y}<extra></extra>",
           "hovertext": [
            "South Africa"
           ],
           "legendgroup": "South Africa",
           "marker": {
            "color": "#FF6692",
            "symbol": "circle"
           },
           "mode": "markers+text",
           "name": "South Africa",
           "orientation": "v",
           "showlegend": true,
           "text": [
            "South Africa"
           ],
           "type": "scatter",
           "x": {
            "bdata": "AAAAAADwfkA=",
            "dtype": "f8"
           },
           "xaxis": "x",
           "y": {
            "bdata": "yjLEsS7uEUA=",
            "dtype": "f8"
           },
           "yaxis": "y"
          }
         ],
         "name": "1963.0"
        },
        {
         "data": [
          {
           "hovertemplate": "<b>%{hovertext}</b><br><br>Country Name=%{text}<br>Year=1964.0<br>Neerslag (mm/jaar)=%{x}<br>Totale landbouwuitstoot (Mt CO₂e)=%{y}<extra></extra>",
           "hovertext": [
            "Brazil"
           ],
           "legendgroup": "Brazil",
           "marker": {
            "color": "#636efa",
            "symbol": "circle"
           },
           "mode": "markers+text",
           "name": "Brazil",
           "orientation": "v",
           "showlegend": true,
           "text": [
            "Brazil"
           ],
           "type": "scatter",
           "x": {
            "bdata": "AAAAAADYm0A=",
            "dtype": "f8"
           },
           "xaxis": "x",
           "y": {
            "bdata": "6Gor9pfdHkA=",
            "dtype": "f8"
           },
           "yaxis": "y"
          },
          {
           "hovertemplate": "<b>%{hovertext}</b><br><br>Country Name=%{text}<br>Year=1964.0<br>Neerslag (mm/jaar)=%{x}<br>Totale landbouwuitstoot (Mt CO₂e)=%{y}<extra></extra>",
           "hovertext": [
            "Indonesia"
           ],
           "legendgroup": "Indonesia",
           "marker": {
            "color": "#EF553B",
            "symbol": "circle"
           },
           "mode": "markers+text",
           "name": "Indonesia",
           "orientation": "v",
           "showlegend": true,
           "text": [
            "Indonesia"
           ],
           "type": "scatter",
           "x": {
            "bdata": "AAAAAAAcpUA=",
            "dtype": "f8"
           },
           "xaxis": "x",
           "y": {
            "bdata": "ofgx5q4l1D8=",
            "dtype": "f8"
           },
           "yaxis": "y"
          },
          {
           "hovertemplate": "<b>%{hovertext}</b><br><br>Country Name=%{text}<br>Year=1964.0<br>Neerslag (mm/jaar)=%{x}<br>Totale landbouwuitstoot (Mt CO₂e)=%{y}<extra></extra>",
           "hovertext": [
            "India"
           ],
           "legendgroup": "India",
           "marker": {
            "color": "#00cc96",
            "symbol": "circle"
           },
           "mode": "markers+text",
           "name": "India",
           "orientation": "v",
           "showlegend": true,
           "text": [
            "India"
           ],
           "type": "scatter",
           "x": {
            "bdata": "AAAAAADskEA=",
            "dtype": "f8"
           },
           "xaxis": "x",
           "y": {
            "bdata": "3NeBc0Z0RkA=",
            "dtype": "f8"
           },
           "yaxis": "y"
          },
          {
           "hovertemplate": "<b>%{hovertext}</b><br><br>Country Name=%{text}<br>Year=1964.0<br>Neerslag (mm/jaar)=%{x}<br>Totale landbouwuitstoot (Mt CO₂e)=%{y}<extra></extra>",
           "hovertext": [
            "Japan"
           ],
           "legendgroup": "Japan",
           "marker": {
            "color": "#ab63fa",
            "symbol": "circle"
           },
           "mode": "markers+text",
           "name": "Japan",
           "orientation": "v",
           "showlegend": true,
           "text": [
            "Japan"
           ],
           "type": "scatter",
           "x": {
            "bdata": "AAAAAAAQmkA=",
            "dtype": "f8"
           },
           "xaxis": "x",
           "y": {
            "bdata": "8kHPZtXnAUA=",
            "dtype": "f8"
           },
           "yaxis": "y"
          },
          {
           "hovertemplate": "<b>%{hovertext}</b><br><br>Country Name=%{text}<br>Year=1964.0<br>Neerslag (mm/jaar)=%{x}<br>Totale landbouwuitstoot (Mt CO₂e)=%{y}<extra></extra>",
           "hovertext": [
            "Nigeria"
           ],
           "legendgroup": "Nigeria",
           "marker": {
            "color": "#FFA15A",
            "symbol": "circle"
           },
           "mode": "markers+text",
           "name": "Nigeria",
           "orientation": "v",
           "showlegend": true,
           "text": [
            "Nigeria"
           ],
           "type": "scatter",
           "x": {
            "bdata": "AAAAAAD4kUA=",
            "dtype": "f8"
           },
           "xaxis": "x",
           "y": {
            "bdata": "sr/snjwstD8=",
            "dtype": "f8"
           },
           "yaxis": "y"
          },
          {
           "hovertemplate": "<b>%{hovertext}</b><br><br>Country Name=%{text}<br>Year=1964.0<br>Neerslag (mm/jaar)=%{x}<br>Totale landbouwuitstoot (Mt CO₂e)=%{y}<extra></extra>",
           "hovertext": [
            "United States of America"
           ],
           "legendgroup": "United States of America",
           "marker": {
            "color": "#19d3f3",
            "symbol": "circle"
           },
           "mode": "markers+text",
           "name": "United States of America",
           "orientation": "v",
           "showlegend": true,
           "text": [
            "United States of America"
           ],
           "type": "scatter",
           "x": {
            "bdata": "AAAAAABYhkA=",
            "dtype": "f8"
           },
           "xaxis": "x",
           "y": {
            "bdata": "u7iNBvBOUEA=",
            "dtype": "f8"
           },
           "yaxis": "y"
          },
          {
           "hovertemplate": "<b>%{hovertext}</b><br><br>Country Name=%{text}<br>Year=1964.0<br>Neerslag (mm/jaar)=%{x}<br>Totale landbouwuitstoot (Mt CO₂e)=%{y}<extra></extra>",
           "hovertext": [
            "South Africa"
           ],
           "legendgroup": "South Africa",
           "marker": {
            "color": "#FF6692",
            "symbol": "circle"
           },
           "mode": "markers+text",
           "name": "South Africa",
           "orientation": "v",
           "showlegend": true,
           "text": [
            "South Africa"
           ],
           "type": "scatter",
           "x": {
            "bdata": "AAAAAADwfkA=",
            "dtype": "f8"
           },
           "xaxis": "x",
           "y": {
            "bdata": "aERpb/CFEEA=",
            "dtype": "f8"
           },
           "yaxis": "y"
          }
         ],
         "name": "1964.0"
        },
        {
         "data": [
          {
           "hovertemplate": "<b>%{hovertext}</b><br><br>Country Name=%{text}<br>Year=1965.0<br>Neerslag (mm/jaar)=%{x}<br>Totale landbouwuitstoot (Mt CO₂e)=%{y}<extra></extra>",
           "hovertext": [
            "Brazil"
           ],
           "legendgroup": "Brazil",
           "marker": {
            "color": "#636efa",
            "symbol": "circle"
           },
           "mode": "markers+text",
           "name": "Brazil",
           "orientation": "v",
           "showlegend": true,
           "text": [
            "Brazil"
           ],
           "type": "scatter",
           "x": {
            "bdata": "AAAAAADYm0A=",
            "dtype": "f8"
           },
           "xaxis": "x",
           "y": {
            "bdata": "BhIUP8bcIEA=",
            "dtype": "f8"
           },
           "yaxis": "y"
          },
          {
           "hovertemplate": "<b>%{hovertext}</b><br><br>Country Name=%{text}<br>Year=1965.0<br>Neerslag (mm/jaar)=%{x}<br>Totale landbouwuitstoot (Mt CO₂e)=%{y}<extra></extra>",
           "hovertext": [
            "Indonesia"
           ],
           "legendgroup": "Indonesia",
           "marker": {
            "color": "#EF553B",
            "symbol": "circle"
           },
           "mode": "markers+text",
           "name": "Indonesia",
           "orientation": "v",
           "showlegend": true,
           "text": [
            "Indonesia"
           ],
           "type": "scatter",
           "x": {
            "bdata": "AAAAAAAcpUA=",
            "dtype": "f8"
           },
           "xaxis": "x",
           "y": {
            "bdata": "z/dT46Wb1D8=",
            "dtype": "f8"
           },
           "yaxis": "y"
          },
          {
           "hovertemplate": "<b>%{hovertext}</b><br><br>Country Name=%{text}<br>Year=1965.0<br>Neerslag (mm/jaar)=%{x}<br>Totale landbouwuitstoot (Mt CO₂e)=%{y}<extra></extra>",
           "hovertext": [
            "India"
           ],
           "legendgroup": "India",
           "marker": {
            "color": "#00cc96",
            "symbol": "circle"
           },
           "mode": "markers+text",
           "name": "India",
           "orientation": "v",
           "showlegend": true,
           "text": [
            "India"
           ],
           "type": "scatter",
           "x": {
            "bdata": "AAAAAADskEA=",
            "dtype": "f8"
           },
           "xaxis": "x",
           "y": {
            "bdata": "b4EExY+RR0A=",
            "dtype": "f8"
           },
           "yaxis": "y"
          },
          {
           "hovertemplate": "<b>%{hovertext}</b><br><br>Country Name=%{text}<br>Year=1965.0<br>Neerslag (mm/jaar)=%{x}<br>Totale landbouwuitstoot (Mt CO₂e)=%{y}<extra></extra>",
           "hovertext": [
            "Japan"
           ],
           "legendgroup": "Japan",
           "marker": {
            "color": "#ab63fa",
            "symbol": "circle"
           },
           "mode": "markers+text",
           "name": "Japan",
           "orientation": "v",
           "showlegend": true,
           "text": [
            "Japan"
           ],
           "type": "scatter",
           "x": {
            "bdata": "AAAAAAAQmkA=",
            "dtype": "f8"
           },
           "xaxis": "x",
           "y": {
            "bdata": "4seYu5aQAUA=",
            "dtype": "f8"
           },
           "yaxis": "y"
          },
          {
           "hovertemplate": "<b>%{hovertext}</b><br><br>Country Name=%{text}<br>Year=1965.0<br>Neerslag (mm/jaar)=%{x}<br>Totale landbouwuitstoot (Mt CO₂e)=%{y}<extra></extra>",
           "hovertext": [
            "Nigeria"
           ],
           "legendgroup": "Nigeria",
           "marker": {
            "color": "#FFA15A",
            "symbol": "circle"
           },
           "mode": "markers+text",
           "name": "Nigeria",
           "orientation": "v",
           "showlegend": true,
           "text": [
            "Nigeria"
           ],
           "type": "scatter",
           "x": {
            "bdata": "AAAAAAD4kUA=",
            "dtype": "f8"
           },
           "xaxis": "x",
           "y": {
            "bdata": "arx0kxgEtj8=",
            "dtype": "f8"
           },
           "yaxis": "y"
          },
          {
           "hovertemplate": "<b>%{hovertext}</b><br><br>Country Name=%{text}<br>Year=1965.0<br>Neerslag (mm/jaar)=%{x}<br>Totale landbouwuitstoot (Mt CO₂e)=%{y}<extra></extra>",
           "hovertext": [
            "United States of America"
           ],
           "legendgroup": "United States of America",
           "marker": {
            "color": "#19d3f3",
            "symbol": "circle"
           },
           "mode": "markers+text",
           "name": "United States of America",
           "orientation": "v",
           "showlegend": true,
           "text": [
            "United States of America"
           ],
           "type": "scatter",
           "x": {
            "bdata": "AAAAAABYhkA=",
            "dtype": "f8"
           },
           "xaxis": "x",
           "y": {
            "bdata": "aLPqc7VdUEA=",
            "dtype": "f8"
           },
           "yaxis": "y"
          },
          {
           "hovertemplate": "<b>%{hovertext}</b><br><br>Country Name=%{text}<br>Year=1965.0<br>Neerslag (mm/jaar)=%{x}<br>Totale landbouwuitstoot (Mt CO₂e)=%{y}<extra></extra>",
           "hovertext": [
            "South Africa"
           ],
           "legendgroup": "South Africa",
           "marker": {
            "color": "#FF6692",
            "symbol": "circle"
           },
           "mode": "markers+text",
           "name": "South Africa",
           "orientation": "v",
           "showlegend": true,
           "text": [
            "South Africa"
           ],
           "type": "scatter",
           "x": {
            "bdata": "AAAAAADwfkA=",
            "dtype": "f8"
           },
           "xaxis": "x",
           "y": {
            "bdata": "SS7/If12EEA=",
            "dtype": "f8"
           },
           "yaxis": "y"
          }
         ],
         "name": "1965.0"
        },
        {
         "data": [
          {
           "hovertemplate": "<b>%{hovertext}</b><br><br>Country Name=%{text}<br>Year=1966.0<br>Neerslag (mm/jaar)=%{x}<br>Totale landbouwuitstoot (Mt CO₂e)=%{y}<extra></extra>",
           "hovertext": [
            "Brazil"
           ],
           "legendgroup": "Brazil",
           "marker": {
            "color": "#636efa",
            "symbol": "circle"
           },
           "mode": "markers+text",
           "name": "Brazil",
           "orientation": "v",
           "showlegend": true,
           "text": [
            "Brazil"
           ],
           "type": "scatter",
           "x": {
            "bdata": "AAAAAADYm0A=",
            "dtype": "f8"
           },
           "xaxis": "x",
           "y": {
            "bdata": "gZVDi2wnIEA=",
            "dtype": "f8"
           },
           "yaxis": "y"
          },
          {
           "hovertemplate": "<b>%{hovertext}</b><br><br>Country Name=%{text}<br>Year=1966.0<br>Neerslag (mm/jaar)=%{x}<br>Totale landbouwuitstoot (Mt CO₂e)=%{y}<extra></extra>",
           "hovertext": [
            "Indonesia"
           ],
           "legendgroup": "Indonesia",
           "marker": {
            "color": "#EF553B",
            "symbol": "circle"
           },
           "mode": "markers+text",
           "name": "Indonesia",
           "orientation": "v",
           "showlegend": true,
           "text": [
            "Indonesia"
           ],
           "type": "scatter",
           "x": {
            "bdata": "AAAAAAAcpUA=",
            "dtype": "f8"
           },
           "xaxis": "x",
           "y": {
            "bdata": "6+I2GsBb0D8=",
            "dtype": "f8"
           },
           "yaxis": "y"
          },
          {
           "hovertemplate": "<b>%{hovertext}</b><br><br>Country Name=%{text}<br>Year=1966.0<br>Neerslag (mm/jaar)=%{x}<br>Totale landbouwuitstoot (Mt CO₂e)=%{y}<extra></extra>",
           "hovertext": [
            "India"
           ],
           "legendgroup": "India",
           "marker": {
            "color": "#00cc96",
            "symbol": "circle"
           },
           "mode": "markers+text",
           "name": "India",
           "orientation": "v",
           "showlegend": true,
           "text": [
            "India"
           ],
           "type": "scatter",
           "x": {
            "bdata": "AAAAAADskEA=",
            "dtype": "f8"
           },
           "xaxis": "x",
           "y": {
            "bdata": "gCbChqeXRkA=",
            "dtype": "f8"
           },
           "yaxis": "y"
          },
          {
           "hovertemplate": "<b>%{hovertext}</b><br><br>Country Name=%{text}<br>Year=1966.0<br>Neerslag (mm/jaar)=%{x}<br>Totale landbouwuitstoot (Mt CO₂e)=%{y}<extra></extra>",
           "hovertext": [
            "Japan"
           ],
           "legendgroup": "Japan",
           "marker": {
            "color": "#ab63fa",
            "symbol": "circle"
           },
           "mode": "markers+text",
           "name": "Japan",
           "orientation": "v",
           "showlegend": true,
           "text": [
            "Japan"
           ],
           "type": "scatter",
           "x": {
            "bdata": "AAAAAAAQmkA=",
            "dtype": "f8"
           },
           "xaxis": "x",
           "y": {
            "bdata": "Lv8h/fZ1/j8=",
            "dtype": "f8"
           },
           "yaxis": "y"
          },
          {
           "hovertemplate": "<b>%{hovertext}</b><br><br>Country Name=%{text}<br>Year=1966.0<br>Neerslag (mm/jaar)=%{x}<br>Totale landbouwuitstoot (Mt CO₂e)=%{y}<extra></extra>",
           "hovertext": [
            "Nigeria"
           ],
           "legendgroup": "Nigeria",
           "marker": {
            "color": "#FFA15A",
            "symbol": "circle"
           },
           "mode": "markers+text",
           "name": "Nigeria",
           "orientation": "v",
           "showlegend": true,
           "text": [
            "Nigeria"
           ],
           "type": "scatter",
           "x": {
            "bdata": "AAAAAAD4kUA=",
            "dtype": "f8"
           },
           "xaxis": "x",
           "y": {
            "bdata": "jErqBDQRtj8=",
            "dtype": "f8"
           },
           "yaxis": "y"
          },
          {
           "hovertemplate": "<b>%{hovertext}</b><br><br>Country Name=%{text}<br>Year=1966.0<br>Neerslag (mm/jaar)=%{x}<br>Totale landbouwuitstoot (Mt CO₂e)=%{y}<extra></extra>",
           "hovertext": [
            "United States of America"
           ],
           "legendgroup": "United States of America",
           "marker": {
            "color": "#19d3f3",
            "symbol": "circle"
           },
           "mode": "markers+text",
           "name": "United States of America",
           "orientation": "v",
           "showlegend": true,
           "text": [
            "United States of America"
           ],
           "type": "scatter",
           "x": {
            "bdata": "AAAAAABYhkA=",
            "dtype": "f8"
           },
           "xaxis": "x",
           "y": {
            "bdata": "eJyiI7lcUEA=",
            "dtype": "f8"
           },
           "yaxis": "y"
          },
          {
           "hovertemplate": "<b>%{hovertext}</b><br><br>Country Name=%{text}<br>Year=1966.0<br>Neerslag (mm/jaar)=%{x}<br>Totale landbouwuitstoot (Mt CO₂e)=%{y}<extra></extra>",
           "hovertext": [
            "South Africa"
           ],
           "legendgroup": "South Africa",
           "marker": {
            "color": "#FF6692",
            "symbol": "circle"
           },
           "mode": "markers+text",
           "name": "South Africa",
           "orientation": "v",
           "showlegend": true,
           "text": [
            "South Africa"
           ],
           "type": "scatter",
           "x": {
            "bdata": "AAAAAADwfkA=",
            "dtype": "f8"
           },
           "xaxis": "x",
           "y": {
            "bdata": "qDXNO07RDEA=",
            "dtype": "f8"
           },
           "yaxis": "y"
          }
         ],
         "name": "1966.0"
        },
        {
         "data": [
          {
           "hovertemplate": "<b>%{hovertext}</b><br><br>Country Name=%{text}<br>Year=1967.0<br>Neerslag (mm/jaar)=%{x}<br>Totale landbouwuitstoot (Mt CO₂e)=%{y}<extra></extra>",
           "hovertext": [
            "Brazil"
           ],
           "legendgroup": "Brazil",
           "marker": {
            "color": "#636efa",
            "symbol": "circle"
           },
           "mode": "markers+text",
           "name": "Brazil",
           "orientation": "v",
           "showlegend": true,
           "text": [
            "Brazil"
           ],
           "type": "scatter",
           "x": {
            "bdata": "AAAAAACEm0A=",
            "dtype": "f8"
           },
           "xaxis": "x",
           "y": {
            "bdata": "30+Nl24SIUA=",
            "dtype": "f8"
           },
           "yaxis": "y"
          },
          {
           "hovertemplate": "<b>%{hovertext}</b><br><br>Country Name=%{text}<br>Year=1967.0<br>Neerslag (mm/jaar)=%{x}<br>Totale landbouwuitstoot (Mt CO₂e)=%{y}<extra></extra>",
           "hovertext": [
            "Indonesia"
           ],
           "legendgroup": "Indonesia",
           "marker": {
            "color": "#EF553B",
            "symbol": "circle"
           },
           "mode": "markers+text",
           "name": "Indonesia",
           "orientation": "v",
           "showlegend": true,
           "text": [
            "Indonesia"
           ],
           "type": "scatter",
           "x": {
            "bdata": "AAAAAAAcpUA=",
            "dtype": "f8"
           },
           "xaxis": "x",
           "y": {
            "bdata": "O99PjZdu0j8=",
            "dtype": "f8"
           },
           "yaxis": "y"
          },
          {
           "hovertemplate": "<b>%{hovertext}</b><br><br>Country Name=%{text}<br>Year=1967.0<br>Neerslag (mm/jaar)=%{x}<br>Totale landbouwuitstoot (Mt CO₂e)=%{y}<extra></extra>",
           "hovertext": [
            "India"
           ],
           "legendgroup": "India",
           "marker": {
            "color": "#00cc96",
            "symbol": "circle"
           },
           "mode": "markers+text",
           "name": "India",
           "orientation": "v",
           "showlegend": true,
           "text": [
            "India"
           ],
           "type": "scatter",
           "x": {
            "bdata": "AAAAAADskEA=",
            "dtype": "f8"
           },
           "xaxis": "x",
           "y": {
            "bdata": "SHL5D+knRkA=",
            "dtype": "f8"
           },
           "yaxis": "y"
          },
          {
           "hovertemplate": "<b>%{hovertext}</b><br><br>Country Name=%{text}<br>Year=1967.0<br>Neerslag (mm/jaar)=%{x}<br>Totale landbouwuitstoot (Mt CO₂e)=%{y}<extra></extra>",
           "hovertext": [
            "Japan"
           ],
           "legendgroup": "Japan",
           "marker": {
            "color": "#ab63fa",
            "symbol": "circle"
           },
           "mode": "markers+text",
           "name": "Japan",
           "orientation": "v",
           "showlegend": true,
           "text": [
            "Japan"
           ],
           "type": "scatter",
           "x": {
            "bdata": "AAAAAAAQmkA=",
            "dtype": "f8"
           },
           "xaxis": "x",
           "y": {
            "bdata": "nBGlvcEX/D8=",
            "dtype": "f8"
           },
           "yaxis": "y"
          },
          {
           "hovertemplate": "<b>%{hovertext}</b><br><br>Country Name=%{text}<br>Year=1967.0<br>Neerslag (mm/jaar)=%{x}<br>Totale landbouwuitstoot (Mt CO₂e)=%{y}<extra></extra>",
           "hovertext": [
            "Nigeria"
           ],
           "legendgroup": "Nigeria",
           "marker": {
            "color": "#FFA15A",
            "symbol": "circle"
           },
           "mode": "markers+text",
           "name": "Nigeria",
           "orientation": "v",
           "showlegend": true,
           "text": [
            "Nigeria"
           ],
           "type": "scatter",
           "x": {
            "bdata": "AAAAAAD4kUA=",
            "dtype": "f8"
           },
           "xaxis": "x",
           "y": {
            "bdata": "fPKwUGuatz8=",
            "dtype": "f8"
           },
           "yaxis": "y"
          },
          {
           "hovertemplate": "<b>%{hovertext}</b><br><br>Country Name=%{text}<br>Year=1967.0<br>Neerslag (mm/jaar)=%{x}<br>Totale landbouwuitstoot (Mt CO₂e)=%{y}<extra></extra>",
           "hovertext": [
            "United States of America"
           ],
           "legendgroup": "United States of America",
           "marker": {
            "color": "#19d3f3",
            "symbol": "circle"
           },
           "mode": "markers+text",
           "name": "United States of America",
           "orientation": "v",
           "showlegend": true,
           "text": [
            "United States of America"
           ],
           "type": "scatter",
           "x": {
            "bdata": "AAAAAABYhkA=",
            "dtype": "f8"
           },
           "xaxis": "x",
           "y": {
            "bdata": "z2bV52oTU0A=",
            "dtype": "f8"
           },
           "yaxis": "y"
          },
          {
           "hovertemplate": "<b>%{hovertext}</b><br><br>Country Name=%{text}<br>Year=1967.0<br>Neerslag (mm/jaar)=%{x}<br>Totale landbouwuitstoot (Mt CO₂e)=%{y}<extra></extra>",
           "hovertext": [
            "South Africa"
           ],
           "legendgroup": "South Africa",
           "marker": {
            "color": "#FF6692",
            "symbol": "circle"
           },
           "mode": "markers+text",
           "name": "South Africa",
           "orientation": "v",
           "showlegend": true,
           "text": [
            "South Africa"
           ],
           "type": "scatter",
           "x": {
            "bdata": "AAAAAADwfkA=",
            "dtype": "f8"
           },
           "xaxis": "x",
           "y": {
            "bdata": "jgbwFkhQEUA=",
            "dtype": "f8"
           },
           "yaxis": "y"
          }
         ],
         "name": "1967.0"
        },
        {
         "data": [
          {
           "hovertemplate": "<b>%{hovertext}</b><br><br>Country Name=%{text}<br>Year=1968.0<br>Neerslag (mm/jaar)=%{x}<br>Totale landbouwuitstoot (Mt CO₂e)=%{y}<extra></extra>",
           "hovertext": [
            "Brazil"
           ],
           "legendgroup": "Brazil",
           "marker": {
            "color": "#636efa",
            "symbol": "circle"
           },
           "mode": "markers+text",
           "name": "Brazil",
           "orientation": "v",
           "showlegend": true,
           "text": [
            "Brazil"
           ],
           "type": "scatter",
           "x": {
            "bdata": "AAAAAADYm0A=",
            "dtype": "f8"
           },
           "xaxis": "x",
           "y": {
            "bdata": "VAWjkjoBIkA=",
            "dtype": "f8"
           },
           "yaxis": "y"
          },
          {
           "hovertemplate": "<b>%{hovertext}</b><br><br>Country Name=%{text}<br>Year=1968.0<br>Neerslag (mm/jaar)=%{x}<br>Totale landbouwuitstoot (Mt CO₂e)=%{y}<extra></extra>",
           "hovertext": [
            "Indonesia"
           ],
           "legendgroup": "Indonesia",
           "marker": {
            "color": "#EF553B",
            "symbol": "circle"
           },
           "mode": "markers+text",
           "name": "Indonesia",
           "orientation": "v",
           "showlegend": true,
           "text": [
            "Indonesia"
           ],
           "type": "scatter",
           "x": {
            "bdata": "AAAAAAAcpUA=",
            "dtype": "f8"
           },
           "xaxis": "x",
           "y": {
            "bdata": "ylTBqKRO0D8=",
            "dtype": "f8"
           },
           "yaxis": "y"
          },
          {
           "hovertemplate": "<b>%{hovertext}</b><br><br>Country Name=%{text}<br>Year=1968.0<br>Neerslag (mm/jaar)=%{x}<br>Totale landbouwuitstoot (Mt CO₂e)=%{y}<extra></extra>",
           "hovertext": [
            "India"
           ],
           "legendgroup": "India",
           "marker": {
            "color": "#00cc96",
            "symbol": "circle"
           },
           "mode": "markers+text",
           "name": "India",
           "orientation": "v",
           "showlegend": true,
           "text": [
            "India"
           ],
           "type": "scatter",
           "x": {
            "bdata": "AAAAAADskEA=",
            "dtype": "f8"
           },
           "xaxis": "x",
           "y": {
            "bdata": "OPjCZKpwSUA=",
            "dtype": "f8"
           },
           "yaxis": "y"
          },
          {
           "hovertemplate": "<b>%{hovertext}</b><br><br>Country Name=%{text}<br>Year=1968.0<br>Neerslag (mm/jaar)=%{x}<br>Totale landbouwuitstoot (Mt CO₂e)=%{y}<extra></extra>",
           "hovertext": [
            "Japan"
           ],
           "legendgroup": "Japan",
           "marker": {
            "color": "#ab63fa",
            "symbol": "circle"
           },
           "mode": "markers+text",
           "name": "Japan",
           "orientation": "v",
           "showlegend": true,
           "text": [
            "Japan"
           ],
           "type": "scatter",
           "x": {
            "bdata": "AAAAAAAQmkA=",
            "dtype": "f8"
           },
           "xaxis": "x",
           "y": {
            "bdata": "d76fGi/d+j8=",
            "dtype": "f8"
           },
           "yaxis": "y"
          },
          {
           "hovertemplate": "<b>%{hovertext}</b><br><br>Country Name=%{text}<br>Year=1968.0<br>Neerslag (mm/jaar)=%{x}<br>Totale landbouwuitstoot (Mt CO₂e)=%{y}<extra></extra>",
           "hovertext": [
            "Nigeria"
           ],
           "legendgroup": "Nigeria",
           "marker": {
            "color": "#FFA15A",
            "symbol": "circle"
           },
           "mode": "markers+text",
           "name": "Nigeria",
           "orientation": "v",
           "showlegend": true,
           "text": [
            "Nigeria"
           ],
           "type": "scatter",
           "x": {
            "bdata": "AAAAAAD4kUA=",
            "dtype": "f8"
           },
           "xaxis": "x",
           "y": {
            "bdata": "F0hQ/Bhztz8=",
            "dtype": "f8"
           },
           "yaxis": "y"
          },
          {
           "hovertemplate": "<b>%{hovertext}</b><br><br>Country Name=%{text}<br>Year=1968.0<br>Neerslag (mm/jaar)=%{x}<br>Totale landbouwuitstoot (Mt CO₂e)=%{y}<extra></extra>",
           "hovertext": [
            "United States of America"
           ],
           "legendgroup": "United States of America",
           "marker": {
            "color": "#19d3f3",
            "symbol": "circle"
           },
           "mode": "markers+text",
           "name": "United States of America",
           "orientation": "v",
           "showlegend": true,
           "text": [
            "United States of America"
           ],
           "type": "scatter",
           "x": {
            "bdata": "AAAAAABYhkA=",
            "dtype": "f8"
           },
           "xaxis": "x",
           "y": {
            "bdata": "U5YhjnVZUkA=",
            "dtype": "f8"
           },
           "yaxis": "y"
          },
          {
           "hovertemplate": "<b>%{hovertext}</b><br><br>Country Name=%{text}<br>Year=1968.0<br>Neerslag (mm/jaar)=%{x}<br>Totale landbouwuitstoot (Mt CO₂e)=%{y}<extra></extra>",
           "hovertext": [
            "South Africa"
           ],
           "legendgroup": "South Africa",
           "marker": {
            "color": "#FF6692",
            "symbol": "circle"
           },
           "mode": "markers+text",
           "name": "South Africa",
           "orientation": "v",
           "showlegend": true,
           "text": [
            "South Africa"
           ],
           "type": "scatter",
           "x": {
            "bdata": "AAAAAADwfkA=",
            "dtype": "f8"
           },
           "xaxis": "x",
           "y": {
            "bdata": "UiegibDhFEA=",
            "dtype": "f8"
           },
           "yaxis": "y"
          }
         ],
         "name": "1968.0"
        },
        {
         "data": [
          {
           "hovertemplate": "<b>%{hovertext}</b><br><br>Country Name=%{text}<br>Year=1969.0<br>Neerslag (mm/jaar)=%{x}<br>Totale landbouwuitstoot (Mt CO₂e)=%{y}<extra></extra>",
           "hovertext": [
            "Brazil"
           ],
           "legendgroup": "Brazil",
           "marker": {
            "color": "#636efa",
            "symbol": "circle"
           },
           "mode": "markers+text",
           "name": "Brazil",
           "orientation": "v",
           "showlegend": true,
           "text": [
            "Brazil"
           ],
           "type": "scatter",
           "x": {
            "bdata": "AAAAAADYm0A=",
            "dtype": "f8"
           },
           "xaxis": "x",
           "y": {
            "bdata": "7Q2+MJlqJEA=",
            "dtype": "f8"
           },
           "yaxis": "y"
          },
          {
           "hovertemplate": "<b>%{hovertext}</b><br><br>Country Name=%{text}<br>Year=1969.0<br>Neerslag (mm/jaar)=%{x}<br>Totale landbouwuitstoot (Mt CO₂e)=%{y}<extra></extra>",
           "hovertext": [
            "Indonesia"
           ],
           "legendgroup": "Indonesia",
           "marker": {
            "color": "#EF553B",
            "symbol": "circle"
           },
           "mode": "markers+text",
           "name": "Indonesia",
           "orientation": "v",
           "showlegend": true,
           "text": [
            "Indonesia"
           ],
           "type": "scatter",
           "x": {
            "bdata": "AAAAAAAcpUA=",
            "dtype": "f8"
           },
           "xaxis": "x",
           "y": {
            "bdata": "GuJYF7fR0D8=",
            "dtype": "f8"
           },
           "yaxis": "y"
          },
          {
           "hovertemplate": "<b>%{hovertext}</b><br><br>Country Name=%{text}<br>Year=1969.0<br>Neerslag (mm/jaar)=%{x}<br>Totale landbouwuitstoot (Mt CO₂e)=%{y}<extra></extra>",
           "hovertext": [
            "India"
           ],
           "legendgroup": "India",
           "marker": {
            "color": "#00cc96",
            "symbol": "circle"
           },
           "mode": "markers+text",
           "name": "India",
           "orientation": "v",
           "showlegend": true,
           "text": [
            "India"
           ],
           "type": "scatter",
           "x": {
            "bdata": "AAAAAADskEA=",
            "dtype": "f8"
           },
           "xaxis": "x",
           "y": {
            "bdata": "4JwRpb3xS0A=",
            "dtype": "f8"
           },
           "yaxis": "y"
          },
          {
           "hovertemplate": "<b>%{hovertext}</b><br><br>Country Name=%{text}<br>Year=1969.0<br>Neerslag (mm/jaar)=%{x}<br>Totale landbouwuitstoot (Mt CO₂e)=%{y}<extra></extra>",
           "hovertext": [
            "Japan"
           ],
           "legendgroup": "Japan",
           "marker": {
            "color": "#ab63fa",
            "symbol": "circle"
           },
           "mode": "markers+text",
           "name": "Japan",
           "orientation": "v",
           "showlegend": true,
           "text": [
            "Japan"
           ],
           "type": "scatter",
           "x": {
            "bdata": "AAAAAAAQmkA=",
            "dtype": "f8"
           },
           "xaxis": "x",
           "y": {
            "bdata": "otY07zhF9z8=",
            "dtype": "f8"
           },
           "yaxis": "y"
          },
          {
           "hovertemplate": "<b>%{hovertext}</b><br><br>Country Name=%{text}<br>Year=1969.0<br>Neerslag (mm/jaar)=%{x}<br>Totale landbouwuitstoot (Mt CO₂e)=%{y}<extra></extra>",
           "hovertext": [
            "Nigeria"
           ],
           "legendgroup": "Nigeria",
           "marker": {
            "color": "#FFA15A",
            "symbol": "circle"
           },
           "mode": "markers+text",
           "name": "Nigeria",
           "orientation": "v",
           "showlegend": true,
           "text": [
            "Nigeria"
           ],
           "type": "scatter",
           "x": {
            "bdata": "AAAAAAD4kUA=",
            "dtype": "f8"
           },
           "xaxis": "x",
           "y": {
            "bdata": "RUdy+Q/ptz8=",
            "dtype": "f8"
           },
           "yaxis": "y"
          },
          {
           "hovertemplate": "<b>%{hovertext}</b><br><br>Country Name=%{text}<br>Year=1969.0<br>Neerslag (mm/jaar)=%{x}<br>Totale landbouwuitstoot (Mt CO₂e)=%{y}<extra></extra>",
           "hovertext": [
            "United States of America"
           ],
           "legendgroup": "United States of America",
           "marker": {
            "color": "#19d3f3",
            "symbol": "circle"
           },
           "mode": "markers+text",
           "name": "United States of America",
           "orientation": "v",
           "showlegend": true,
           "text": [
            "United States of America"
           ],
           "type": "scatter",
           "x": {
            "bdata": "AAAAAABYhkA=",
            "dtype": "f8"
           },
           "xaxis": "x",
           "y": {
            "bdata": "DJOpglEpUEA=",
            "dtype": "f8"
           },
           "yaxis": "y"
          },
          {
           "hovertemplate": "<b>%{hovertext}</b><br><br>Country Name=%{text}<br>Year=1969.0<br>Neerslag (mm/jaar)=%{x}<br>Totale landbouwuitstoot (Mt CO₂e)=%{y}<extra></extra>",
           "hovertext": [
            "South Africa"
           ],
           "legendgroup": "South Africa",
           "marker": {
            "color": "#FF6692",
            "symbol": "circle"
           },
           "mode": "markers+text",
           "name": "South Africa",
           "orientation": "v",
           "showlegend": true,
           "text": [
            "South Africa"
           ],
           "type": "scatter",
           "x": {
            "bdata": "AAAAAADwfkA=",
            "dtype": "f8"
           },
           "xaxis": "x",
           "y": {
            "bdata": "XCBB8WPMFkA=",
            "dtype": "f8"
           },
           "yaxis": "y"
          }
         ],
         "name": "1969.0"
        },
        {
         "data": [
          {
           "hovertemplate": "<b>%{hovertext}</b><br><br>Country Name=%{text}<br>Year=1970.0<br>Neerslag (mm/jaar)=%{x}<br>Totale landbouwuitstoot (Mt CO₂e)=%{y}<extra></extra>",
           "hovertext": [
            "Brazil"
           ],
           "legendgroup": "Brazil",
           "marker": {
            "color": "#636efa",
            "symbol": "circle"
           },
           "mode": "markers+text",
           "name": "Brazil",
           "orientation": "v",
           "showlegend": true,
           "text": [
            "Brazil"
           ],
           "type": "scatter",
           "x": {
            "bdata": "AAAAAADYm0A=",
            "dtype": "f8"
           },
           "xaxis": "x",
           "y": {
            "bdata": "gnNGlPaGJ0A=",
            "dtype": "f8"
           },
           "yaxis": "y"
          },
          {
           "hovertemplate": "<b>%{hovertext}</b><br><br>Country Name=%{text}<br>Year=1970.0<br>Neerslag (mm/jaar)=%{x}<br>Totale landbouwuitstoot (Mt CO₂e)=%{y}<extra></extra>",
           "hovertext": [
            "Indonesia"
           ],
           "legendgroup": "Indonesia",
           "marker": {
            "color": "#EF553B",
            "symbol": "circle"
           },
           "mode": "markers+text",
           "name": "Indonesia",
           "orientation": "v",
           "showlegend": true,
           "text": [
            "Indonesia"
           ],
           "type": "scatter",
           "x": {
            "bdata": "AAAAAAAcpUA=",
            "dtype": "f8"
           },
           "xaxis": "x",
           "y": {
            "bdata": "TDeJQWDl0D8=",
            "dtype": "f8"
           },
           "yaxis": "y"
          },
          {
           "hovertemplate": "<b>%{hovertext}</b><br><br>Country Name=%{text}<br>Year=1970.0<br>Neerslag (mm/jaar)=%{x}<br>Totale landbouwuitstoot (Mt CO₂e)=%{y}<extra></extra>",
           "hovertext": [
            "India"
           ],
           "legendgroup": "India",
           "marker": {
            "color": "#00cc96",
            "symbol": "circle"
           },
           "mode": "markers+text",
           "name": "India",
           "orientation": "v",
           "showlegend": true,
           "text": [
            "India"
           ],
           "type": "scatter",
           "x": {
            "bdata": "AAAAAADskEA=",
            "dtype": "f8"
           },
           "xaxis": "x",
           "y": {
            "bdata": "7FG4HoVrTUA=",
            "dtype": "f8"
           },
           "yaxis": "y"
          },
          {
           "hovertemplate": "<b>%{hovertext}</b><br><br>Country Name=%{text}<br>Year=1970.0<br>Neerslag (mm/jaar)=%{x}<br>Totale landbouwuitstoot (Mt CO₂e)=%{y}<extra></extra>",
           "hovertext": [
            "Japan"
           ],
           "legendgroup": "Japan",
           "marker": {
            "color": "#ab63fa",
            "symbol": "circle"
           },
           "mode": "markers+text",
           "name": "Japan",
           "orientation": "v",
           "showlegend": true,
           "text": [
            "Japan"
           ],
           "type": "scatter",
           "x": {
            "bdata": "AAAAAAAQmkA=",
            "dtype": "f8"
           },
           "xaxis": "x",
           "y": {
            "bdata": "mnecoiO58j8=",
            "dtype": "f8"
           },
           "yaxis": "y"
          },
          {
           "hovertemplate": "<b>%{hovertext}</b><br><br>Country Name=%{text}<br>Year=1970.0<br>Neerslag (mm/jaar)=%{x}<br>Totale landbouwuitstoot (Mt CO₂e)=%{y}<extra></extra>",
           "hovertext": [
            "Nigeria"
           ],
           "legendgroup": "Nigeria",
           "marker": {
            "color": "#FFA15A",
            "symbol": "circle"
           },
           "mode": "markers+text",
           "name": "Nigeria",
           "orientation": "v",
           "showlegend": true,
           "text": [
            "Nigeria"
           ],
           "type": "scatter",
           "x": {
            "bdata": "AAAAAAD4kUA=",
            "dtype": "f8"
           },
           "xaxis": "x",
           "y": {
            "bdata": "MCqpE9BEuD8=",
            "dtype": "f8"
           },
           "yaxis": "y"
          },
          {
           "hovertemplate": "<b>%{hovertext}</b><br><br>Country Name=%{text}<br>Year=1970.0<br>Neerslag (mm/jaar)=%{x}<br>Totale landbouwuitstoot (Mt CO₂e)=%{y}<extra></extra>",
           "hovertext": [
            "United States of America"
           ],
           "legendgroup": "United States of America",
           "marker": {
            "color": "#19d3f3",
            "symbol": "circle"
           },
           "mode": "markers+text",
           "name": "United States of America",
           "orientation": "v",
           "showlegend": true,
           "text": [
            "United States of America"
           ],
           "type": "scatter",
           "x": {
            "bdata": "AAAAAABYhkA=",
            "dtype": "f8"
           },
           "xaxis": "x",
           "y": {
            "bdata": "YqHWNO8YTkA=",
            "dtype": "f8"
           },
           "yaxis": "y"
          },
          {
           "hovertemplate": "<b>%{hovertext}</b><br><br>Country Name=%{text}<br>Year=1970.0<br>Neerslag (mm/jaar)=%{x}<br>Totale landbouwuitstoot (Mt CO₂e)=%{y}<extra></extra>",
           "hovertext": [
            "South Africa"
           ],
           "legendgroup": "South Africa",
           "marker": {
            "color": "#FF6692",
            "symbol": "circle"
           },
           "mode": "markers+text",
           "name": "South Africa",
           "orientation": "v",
           "showlegend": true,
           "text": [
            "South Africa"
           ],
           "type": "scatter",
           "x": {
            "bdata": "AAAAAADwfkA=",
            "dtype": "f8"
           },
           "xaxis": "x",
           "y": {
            "bdata": "8kHPZtVnF0A=",
            "dtype": "f8"
           },
           "yaxis": "y"
          }
         ],
         "name": "1970.0"
        },
        {
         "data": [
          {
           "hovertemplate": "<b>%{hovertext}</b><br><br>Country Name=%{text}<br>Year=1971.0<br>Neerslag (mm/jaar)=%{x}<br>Totale landbouwuitstoot (Mt CO₂e)=%{y}<extra></extra>",
           "hovertext": [
            "Brazil"
           ],
           "legendgroup": "Brazil",
           "marker": {
            "color": "#636efa",
            "symbol": "circle"
           },
           "mode": "markers+text",
           "name": "Brazil",
           "orientation": "v",
           "showlegend": true,
           "text": [
            "Brazil"
           ],
           "type": "scatter",
           "x": {
            "bdata": "AAAAAADYm0A=",
            "dtype": "f8"
           },
           "xaxis": "x",
           "y": {
            "bdata": "hjjWxW10KUA=",
            "dtype": "f8"
           },
           "yaxis": "y"
          },
          {
           "hovertemplate": "<b>%{hovertext}</b><br><br>Country Name=%{text}<br>Year=1971.0<br>Neerslag (mm/jaar)=%{x}<br>Totale landbouwuitstoot (Mt CO₂e)=%{y}<extra></extra>",
           "hovertext": [
            "Indonesia"
           ],
           "legendgroup": "Indonesia",
           "marker": {
            "color": "#EF553B",
            "symbol": "circle"
           },
           "mode": "markers+text",
           "name": "Indonesia",
           "orientation": "v",
           "showlegend": true,
           "text": [
            "Indonesia"
           ],
           "type": "scatter",
           "x": {
            "bdata": "AAAAAAAcpUA=",
            "dtype": "f8"
           },
           "xaxis": "x",
           "y": {
            "bdata": "Iv32deCc0T8=",
            "dtype": "f8"
           },
           "yaxis": "y"
          },
          {
           "hovertemplate": "<b>%{hovertext}</b><br><br>Country Name=%{text}<br>Year=1971.0<br>Neerslag (mm/jaar)=%{x}<br>Totale landbouwuitstoot (Mt CO₂e)=%{y}<extra></extra>",
           "hovertext": [
            "India"
           ],
           "legendgroup": "India",
           "marker": {
            "color": "#00cc96",
            "symbol": "circle"
           },
           "mode": "markers+text",
           "name": "India",
           "orientation": "v",
           "showlegend": true,
           "text": [
            "India"
           ],
           "type": "scatter",
           "x": {
            "bdata": "AAAAAADskEA=",
            "dtype": "f8"
           },
           "xaxis": "x",
           "y": {
            "bdata": "GARWDi3yT0A=",
            "dtype": "f8"
           },
           "yaxis": "y"
          },
          {
           "hovertemplate": "<b>%{hovertext}</b><br><br>Country Name=%{text}<br>Year=1971.0<br>Neerslag (mm/jaar)=%{x}<br>Totale landbouwuitstoot (Mt CO₂e)=%{y}<extra></extra>",
           "hovertext": [
            "Japan"
           ],
           "legendgroup": "Japan",
           "marker": {
            "color": "#ab63fa",
            "symbol": "circle"
           },
           "mode": "markers+text",
           "name": "Japan",
           "orientation": "v",
           "showlegend": true,
           "text": [
            "Japan"
           ],
           "type": "scatter",
           "x": {
            "bdata": "AAAAAAAQmkA=",
            "dtype": "f8"
           },
           "xaxis": "x",
           "y": {
            "bdata": "gnNGlPYG7z8=",
            "dtype": "f8"
           },
           "yaxis": "y"
          },
          {
           "hovertemplate": "<b>%{hovertext}</b><br><br>Country Name=%{text}<br>Year=1971.0<br>Neerslag (mm/jaar)=%{x}<br>Totale landbouwuitstoot (Mt CO₂e)=%{y}<extra></extra>",
           "hovertext": [
            "Nigeria"
           ],
           "legendgroup": "Nigeria",
           "marker": {
            "color": "#FFA15A",
            "symbol": "circle"
           },
           "mode": "markers+text",
           "name": "Nigeria",
           "orientation": "v",
           "showlegend": true,
           "text": [
            "Nigeria"
           ],
           "type": "scatter",
           "x": {
            "bdata": "AAAAAAD4kUA=",
            "dtype": "f8"
           },
           "xaxis": "x",
           "y": {
            "bdata": "3LWEfNCzuT8=",
            "dtype": "f8"
           },
           "yaxis": "y"
          },
          {
           "hovertemplate": "<b>%{hovertext}</b><br><br>Country Name=%{text}<br>Year=1971.0<br>Neerslag (mm/jaar)=%{x}<br>Totale landbouwuitstoot (Mt CO₂e)=%{y}<extra></extra>",
           "hovertext": [
            "United States of America"
           ],
           "legendgroup": "United States of America",
           "marker": {
            "color": "#19d3f3",
            "symbol": "circle"
           },
           "mode": "markers+text",
           "name": "United States of America",
           "orientation": "v",
           "showlegend": true,
           "text": [
            "United States of America"
           ],
           "type": "scatter",
           "x": {
            "bdata": "AAAAAABYhkA=",
            "dtype": "f8"
           },
           "xaxis": "x",
           "y": {
            "bdata": "yJi7lpDfUEA=",
            "dtype": "f8"
           },
           "yaxis": "y"
          },
          {
           "hovertemplate": "<b>%{hovertext}</b><br><br>Country Name=%{text}<br>Year=1971.0<br>Neerslag (mm/jaar)=%{x}<br>Totale landbouwuitstoot (Mt CO₂e)=%{y}<extra></extra>",
           "hovertext": [
            "South Africa"
           ],
           "legendgroup": "South Africa",
           "marker": {
            "color": "#FF6692",
            "symbol": "circle"
           },
           "mode": "markers+text",
           "name": "South Africa",
           "orientation": "v",
           "showlegend": true,
           "text": [
            "South Africa"
           ],
           "type": "scatter",
           "x": {
            "bdata": "AAAAAADwfkA=",
            "dtype": "f8"
           },
           "xaxis": "x",
           "y": {
            "bdata": "4emVsgzxGEA=",
            "dtype": "f8"
           },
           "yaxis": "y"
          }
         ],
         "name": "1971.0"
        },
        {
         "data": [
          {
           "hovertemplate": "<b>%{hovertext}</b><br><br>Country Name=%{text}<br>Year=1972.0<br>Neerslag (mm/jaar)=%{x}<br>Totale landbouwuitstoot (Mt CO₂e)=%{y}<extra></extra>",
           "hovertext": [
            "Brazil"
           ],
           "legendgroup": "Brazil",
           "marker": {
            "color": "#636efa",
            "symbol": "circle"
           },
           "mode": "markers+text",
           "name": "Brazil",
           "orientation": "v",
           "showlegend": true,
           "text": [
            "Brazil"
           ],
           "type": "scatter",
           "x": {
            "bdata": "AAAAAACEm0A=",
            "dtype": "f8"
           },
           "xaxis": "x",
           "y": {
            "bdata": "B1+YTBVMKUA=",
            "dtype": "f8"
           },
           "yaxis": "y"
          },
          {
           "hovertemplate": "<b>%{hovertext}</b><br><br>Country Name=%{text}<br>Year=1972.0<br>Neerslag (mm/jaar)=%{x}<br>Totale landbouwuitstoot (Mt CO₂e)=%{y}<extra></extra>",
           "hovertext": [
            "Indonesia"
           ],
           "legendgroup": "Indonesia",
           "marker": {
            "color": "#EF553B",
            "symbol": "circle"
           },
           "mode": "markers+text",
           "name": "Indonesia",
           "orientation": "v",
           "showlegend": true,
           "text": [
            "Indonesia"
           ],
           "type": "scatter",
           "x": {
            "bdata": "AAAAAAAcpUA=",
            "dtype": "f8"
           },
           "xaxis": "x",
           "y": {
            "bdata": "w0Ktad5x0j8=",
            "dtype": "f8"
           },
           "yaxis": "y"
          },
          {
           "hovertemplate": "<b>%{hovertext}</b><br><br>Country Name=%{text}<br>Year=1972.0<br>Neerslag (mm/jaar)=%{x}<br>Totale landbouwuitstoot (Mt CO₂e)=%{y}<extra></extra>",
           "hovertext": [
            "India"
           ],
           "legendgroup": "India",
           "marker": {
            "color": "#00cc96",
            "symbol": "circle"
           },
           "mode": "markers+text",
           "name": "India",
           "orientation": "v",
           "showlegend": true,
           "text": [
            "India"
           ],
           "type": "scatter",
           "x": {
            "bdata": "AAAAAADskEA=",
            "dtype": "f8"
           },
           "xaxis": "x",
           "y": {
            "bdata": "HHxhMlWYUEA=",
            "dtype": "f8"
           },
           "yaxis": "y"
          },
          {
           "hovertemplate": "<b>%{hovertext}</b><br><br>Country Name=%{text}<br>Year=1972.0<br>Neerslag (mm/jaar)=%{x}<br>Totale landbouwuitstoot (Mt CO₂e)=%{y}<extra></extra>",
           "hovertext": [
            "Japan"
           ],
           "legendgroup": "Japan",
           "marker": {
            "color": "#ab63fa",
            "symbol": "circle"
           },
           "mode": "markers+text",
           "name": "Japan",
           "orientation": "v",
           "showlegend": true,
           "text": [
            "Japan"
           ],
           "type": "scatter",
           "x": {
            "bdata": "AAAAAAAQmkA=",
            "dtype": "f8"
           },
           "xaxis": "x",
           "y": {
            "bdata": "foy5awn56D8=",
            "dtype": "f8"
           },
           "yaxis": "y"
          },
          {
           "hovertemplate": "<b>%{hovertext}</b><br><br>Country Name=%{text}<br>Year=1972.0<br>Neerslag (mm/jaar)=%{x}<br>Totale landbouwuitstoot (Mt CO₂e)=%{y}<extra></extra>",
           "hovertext": [
            "Nigeria"
           ],
           "legendgroup": "Nigeria",
           "marker": {
            "color": "#FFA15A",
            "symbol": "circle"
           },
           "mode": "markers+text",
           "name": "Nigeria",
           "orientation": "v",
           "showlegend": true,
           "text": [
            "Nigeria"
           ],
           "type": "scatter",
           "x": {
            "bdata": "AAAAAAD4kUA=",
            "dtype": "f8"
           },
           "xaxis": "x",
           "y": {
            "bdata": "TtGRXP5Duj8=",
            "dtype": "f8"
           },
           "yaxis": "y"
          },
          {
           "hovertemplate": "<b>%{hovertext}</b><br><br>Country Name=%{text}<br>Year=1972.0<br>Neerslag (mm/jaar)=%{x}<br>Totale landbouwuitstoot (Mt CO₂e)=%{y}<extra></extra>",
           "hovertext": [
            "United States of America"
           ],
           "legendgroup": "United States of America",
           "marker": {
            "color": "#19d3f3",
            "symbol": "circle"
           },
           "mode": "markers+text",
           "name": "United States of America",
           "orientation": "v",
           "showlegend": true,
           "text": [
            "United States of America"
           ],
           "type": "scatter",
           "x": {
            "bdata": "AAAAAABYhkA=",
            "dtype": "f8"
           },
           "xaxis": "x",
           "y": {
            "bdata": "HoXrUbiOUEA=",
            "dtype": "f8"
           },
           "yaxis": "y"
          },
          {
           "hovertemplate": "<b>%{hovertext}</b><br><br>Country Name=%{text}<br>Year=1972.0<br>Neerslag (mm/jaar)=%{x}<br>Totale landbouwuitstoot (Mt CO₂e)=%{y}<extra></extra>",
           "hovertext": [
            "South Africa"
           ],
           "legendgroup": "South Africa",
           "marker": {
            "color": "#FF6692",
            "symbol": "circle"
           },
           "mode": "markers+text",
           "name": "South Africa",
           "orientation": "v",
           "showlegend": true,
           "text": [
            "South Africa"
           ],
           "type": "scatter",
           "x": {
            "bdata": "AAAAAADwfkA=",
            "dtype": "f8"
           },
           "xaxis": "x",
           "y": {
            "bdata": "dJMYBFYOGUA=",
            "dtype": "f8"
           },
           "yaxis": "y"
          }
         ],
         "name": "1972.0"
        },
        {
         "data": [
          {
           "hovertemplate": "<b>%{hovertext}</b><br><br>Country Name=%{text}<br>Year=1973.0<br>Neerslag (mm/jaar)=%{x}<br>Totale landbouwuitstoot (Mt CO₂e)=%{y}<extra></extra>",
           "hovertext": [
            "Brazil"
           ],
           "legendgroup": "Brazil",
           "marker": {
            "color": "#636efa",
            "symbol": "circle"
           },
           "mode": "markers+text",
           "name": "Brazil",
           "orientation": "v",
           "showlegend": true,
           "text": [
            "Brazil"
           ],
           "type": "scatter",
           "x": {
            "bdata": "AAAAAADYm0A=",
            "dtype": "f8"
           },
           "xaxis": "x",
           "y": {
            "bdata": "ryXkg54NKUA=",
            "dtype": "f8"
           },
           "yaxis": "y"
          },
          {
           "hovertemplate": "<b>%{hovertext}</b><br><br>Country Name=%{text}<br>Year=1973.0<br>Neerslag (mm/jaar)=%{x}<br>Totale landbouwuitstoot (Mt CO₂e)=%{y}<extra></extra>",
           "hovertext": [
            "Indonesia"
           ],
           "legendgroup": "Indonesia",
           "marker": {
            "color": "#EF553B",
            "symbol": "circle"
           },
           "mode": "markers+text",
           "name": "Indonesia",
           "orientation": "v",
           "showlegend": true,
           "text": [
            "Indonesia"
           ],
           "type": "scatter",
           "x": {
            "bdata": "AAAAAAAcpUA=",
            "dtype": "f8"
           },
           "xaxis": "x",
           "y": {
            "bdata": "DJOpglFJ1T8=",
            "dtype": "f8"
           },
           "yaxis": "y"
          },
          {
           "hovertemplate": "<b>%{hovertext}</b><br><br>Country Name=%{text}<br>Year=1973.0<br>Neerslag (mm/jaar)=%{x}<br>Totale landbouwuitstoot (Mt CO₂e)=%{y}<extra></extra>",
           "hovertext": [
            "India"
           ],
           "legendgroup": "India",
           "marker": {
            "color": "#00cc96",
            "symbol": "circle"
           },
           "mode": "markers+text",
           "name": "India",
           "orientation": "v",
           "showlegend": true,
           "text": [
            "India"
           ],
           "type": "scatter",
           "x": {
            "bdata": "AAAAAADskEA=",
            "dtype": "f8"
           },
           "xaxis": "x",
           "y": {
            "bdata": "kKD4MeamUEA=",
            "dtype": "f8"
           },
           "yaxis": "y"
          },
          {
           "hovertemplate": "<b>%{hovertext}</b><br><br>Country Name=%{text}<br>Year=1973.0<br>Neerslag (mm/jaar)=%{x}<br>Totale landbouwuitstoot (Mt CO₂e)=%{y}<extra></extra>",
           "hovertext": [
            "Japan"
           ],
           "legendgroup": "Japan",
           "marker": {
            "color": "#ab63fa",
            "symbol": "circle"
           },
           "mode": "markers+text",
           "name": "Japan",
           "orientation": "v",
           "showlegend": true,
           "text": [
            "Japan"
           ],
           "type": "scatter",
           "x": {
            "bdata": "AAAAAAAQmkA=",
            "dtype": "f8"
           },
           "xaxis": "x",
           "y": {
            "bdata": "VOOlm8Qg5D8=",
            "dtype": "f8"
           },
           "yaxis": "y"
          },
          {
           "hovertemplate": "<b>%{hovertext}</b><br><br>Country Name=%{text}<br>Year=1973.0<br>Neerslag (mm/jaar)=%{x}<br>Totale landbouwuitstoot (Mt CO₂e)=%{y}<extra></extra>",
           "hovertext": [
            "Nigeria"
           ],
           "legendgroup": "Nigeria",
           "marker": {
            "color": "#FFA15A",
            "symbol": "circle"
           },
           "mode": "markers+text",
           "name": "Nigeria",
           "orientation": "v",
           "showlegend": true,
           "text": [
            "Nigeria"
           ],
           "type": "scatter",
           "x": {
            "bdata": "AAAAAAD4kUA=",
            "dtype": "f8"
           },
           "xaxis": "x",
           "y": {
            "bdata": "MCqpE9BEuD8=",
            "dtype": "f8"
           },
           "yaxis": "y"
          },
          {
           "hovertemplate": "<b>%{hovertext}</b><br><br>Country Name=%{text}<br>Year=1973.0<br>Neerslag (mm/jaar)=%{x}<br>Totale landbouwuitstoot (Mt CO₂e)=%{y}<extra></extra>",
           "hovertext": [
            "United States of America"
           ],
           "legendgroup": "United States of America",
           "marker": {
            "color": "#19d3f3",
            "symbol": "circle"
           },
           "mode": "markers+text",
           "name": "United States of America",
           "orientation": "v",
           "showlegend": true,
           "text": [
            "United States of America"
           ],
           "type": "scatter",
           "x": {
            "bdata": "AAAAAABYhkA=",
            "dtype": "f8"
           },
           "xaxis": "x",
           "y": {
            "bdata": "8fRKWYa4UkA=",
            "dtype": "f8"
           },
           "yaxis": "y"
          },
          {
           "hovertemplate": "<b>%{hovertext}</b><br><br>Country Name=%{text}<br>Year=1973.0<br>Neerslag (mm/jaar)=%{x}<br>Totale landbouwuitstoot (Mt CO₂e)=%{y}<extra></extra>",
           "hovertext": [
            "South Africa"
           ],
           "legendgroup": "South Africa",
           "marker": {
            "color": "#FF6692",
            "symbol": "circle"
           },
           "mode": "markers+text",
           "name": "South Africa",
           "orientation": "v",
           "showlegend": true,
           "text": [
            "South Africa"
           ],
           "type": "scatter",
           "x": {
            "bdata": "AAAAAADwfkA=",
            "dtype": "f8"
           },
           "xaxis": "x",
           "y": {
            "bdata": "mN2Th4VaGUA=",
            "dtype": "f8"
           },
           "yaxis": "y"
          }
         ],
         "name": "1973.0"
        },
        {
         "data": [
          {
           "hovertemplate": "<b>%{hovertext}</b><br><br>Country Name=%{text}<br>Year=1974.0<br>Neerslag (mm/jaar)=%{x}<br>Totale landbouwuitstoot (Mt CO₂e)=%{y}<extra></extra>",
           "hovertext": [
            "Brazil"
           ],
           "legendgroup": "Brazil",
           "marker": {
            "color": "#636efa",
            "symbol": "circle"
           },
           "mode": "markers+text",
           "name": "Brazil",
           "orientation": "v",
           "showlegend": true,
           "text": [
            "Brazil"
           ],
           "type": "scatter",
           "x": {
            "bdata": "AAAAAADYm0A=",
            "dtype": "f8"
           },
           "xaxis": "x",
           "y": {
            "bdata": "Ece6uI2GLUA=",
            "dtype": "f8"
           },
           "yaxis": "y"
          },
          {
           "hovertemplate": "<b>%{hovertext}</b><br><br>Country Name=%{text}<br>Year=1974.0<br>Neerslag (mm/jaar)=%{x}<br>Totale landbouwuitstoot (Mt CO₂e)=%{y}<extra></extra>",
           "hovertext": [
            "Indonesia"
           ],
           "legendgroup": "Indonesia",
           "marker": {
            "color": "#EF553B",
            "symbol": "circle"
           },
           "mode": "markers+text",
           "name": "Indonesia",
           "orientation": "v",
           "showlegend": true,
           "text": [
            "Indonesia"
           ],
           "type": "scatter",
           "x": {
            "bdata": "AAAAAAAcpUA=",
            "dtype": "f8"
           },
           "xaxis": "x",
           "y": {
            "bdata": "0ZFc/kP61T8=",
            "dtype": "f8"
           },
           "yaxis": "y"
          },
          {
           "hovertemplate": "<b>%{hovertext}</b><br><br>Country Name=%{text}<br>Year=1974.0<br>Neerslag (mm/jaar)=%{x}<br>Totale landbouwuitstoot (Mt CO₂e)=%{y}<extra></extra>",
           "hovertext": [
            "India"
           ],
           "legendgroup": "India",
           "marker": {
            "color": "#00cc96",
            "symbol": "circle"
           },
           "mode": "markers+text",
           "name": "India",
           "orientation": "v",
           "showlegend": true,
           "text": [
            "India"
           ],
           "type": "scatter",
           "x": {
            "bdata": "AAAAAADskEA=",
            "dtype": "f8"
           },
           "xaxis": "x",
           "y": {
            "bdata": "TvOOU3QUUEA=",
            "dtype": "f8"
           },
           "yaxis": "y"
          },
          {
           "hovertemplate": "<b>%{hovertext}</b><br><br>Country Name=%{text}<br>Year=1974.0<br>Neerslag (mm/jaar)=%{x}<br>Totale landbouwuitstoot (Mt CO₂e)=%{y}<extra></extra>",
           "hovertext": [
            "Japan"
           ],
           "legendgroup": "Japan",
           "marker": {
            "color": "#ab63fa",
            "symbol": "circle"
           },
           "mode": "markers+text",
           "name": "Japan",
           "orientation": "v",
           "showlegend": true,
           "text": [
            "Japan"
           ],
           "type": "scatter",
           "x": {
            "bdata": "AAAAAAAQmkA=",
            "dtype": "f8"
           },
           "xaxis": "x",
           "y": {
            "bdata": "6+I2GsBb5D8=",
            "dtype": "f8"
           },
           "yaxis": "y"
          },
          {
           "hovertemplate": "<b>%{hovertext}</b><br><br>Country Name=%{text}<br>Year=1974.0<br>Neerslag (mm/jaar)=%{x}<br>Totale landbouwuitstoot (Mt CO₂e)=%{y}<extra></extra>",
           "hovertext": [
            "Nigeria"
           ],
           "legendgroup": "Nigeria",
           "marker": {
            "color": "#FFA15A",
            "symbol": "circle"
           },
           "mode": "markers+text",
           "name": "Nigeria",
           "orientation": "v",
           "showlegend": true,
           "text": [
            "Nigeria"
           ],
           "type": "scatter",
           "x": {
            "bdata": "AAAAAAD4kUA=",
            "dtype": "f8"
           },
           "xaxis": "x",
           "y": {
            "bdata": "1AloImx4uj8=",
            "dtype": "f8"
           },
           "yaxis": "y"
          },
          {
           "hovertemplate": "<b>%{hovertext}</b><br><br>Country Name=%{text}<br>Year=1974.0<br>Neerslag (mm/jaar)=%{x}<br>Totale landbouwuitstoot (Mt CO₂e)=%{y}<extra></extra>",
           "hovertext": [
            "United States of America"
           ],
           "legendgroup": "United States of America",
           "marker": {
            "color": "#19d3f3",
            "symbol": "circle"
           },
           "mode": "markers+text",
           "name": "United States of America",
           "orientation": "v",
           "showlegend": true,
           "text": [
            "United States of America"
           ],
           "type": "scatter",
           "x": {
            "bdata": "AAAAAABYhkA=",
            "dtype": "f8"
           },
           "xaxis": "x",
           "y": {
            "bdata": "hA1Pr5SlVUA=",
            "dtype": "f8"
           },
           "yaxis": "y"
          },
          {
           "hovertemplate": "<b>%{hovertext}</b><br><br>Country Name=%{text}<br>Year=1974.0<br>Neerslag (mm/jaar)=%{x}<br>Totale landbouwuitstoot (Mt CO₂e)=%{y}<extra></extra>",
           "hovertext": [
            "South Africa"
           ],
           "legendgroup": "South Africa",
           "marker": {
            "color": "#FF6692",
            "symbol": "circle"
           },
           "mode": "markers+text",
           "name": "South Africa",
           "orientation": "v",
           "showlegend": true,
           "text": [
            "South Africa"
           ],
           "type": "scatter",
           "x": {
            "bdata": "AAAAAADwfkA=",
            "dtype": "f8"
           },
           "xaxis": "x",
           "y": {
            "bdata": "nDOitDd4F0A=",
            "dtype": "f8"
           },
           "yaxis": "y"
          }
         ],
         "name": "1974.0"
        },
        {
         "data": [
          {
           "hovertemplate": "<b>%{hovertext}</b><br><br>Country Name=%{text}<br>Year=1975.0<br>Neerslag (mm/jaar)=%{x}<br>Totale landbouwuitstoot (Mt CO₂e)=%{y}<extra></extra>",
           "hovertext": [
            "Brazil"
           ],
           "legendgroup": "Brazil",
           "marker": {
            "color": "#636efa",
            "symbol": "circle"
           },
           "mode": "markers+text",
           "name": "Brazil",
           "orientation": "v",
           "showlegend": true,
           "text": [
            "Brazil"
           ],
           "type": "scatter",
           "x": {
            "bdata": "AAAAAADYm0A=",
            "dtype": "f8"
           },
           "xaxis": "x",
           "y": {
            "bdata": "XwfOGVEaLkA=",
            "dtype": "f8"
           },
           "yaxis": "y"
          },
          {
           "hovertemplate": "<b>%{hovertext}</b><br><br>Country Name=%{text}<br>Year=1975.0<br>Neerslag (mm/jaar)=%{x}<br>Totale landbouwuitstoot (Mt CO₂e)=%{y}<extra></extra>",
           "hovertext": [
            "Indonesia"
           ],
           "legendgroup": "Indonesia",
           "marker": {
            "color": "#EF553B",
            "symbol": "circle"
           },
           "mode": "markers+text",
           "name": "Indonesia",
           "orientation": "v",
           "showlegend": true,
           "text": [
            "Indonesia"
           ],
           "type": "scatter",
           "x": {
            "bdata": "AAAAAAAcpUA=",
            "dtype": "f8"
           },
           "xaxis": "x",
           "y": {
            "bdata": "m8QgsHJo2T8=",
            "dtype": "f8"
           },
           "yaxis": "y"
          },
          {
           "hovertemplate": "<b>%{hovertext}</b><br><br>Country Name=%{text}<br>Year=1975.0<br>Neerslag (mm/jaar)=%{x}<br>Totale landbouwuitstoot (Mt CO₂e)=%{y}<extra></extra>",
           "hovertext": [
            "India"
           ],
           "legendgroup": "India",
           "marker": {
            "color": "#00cc96",
            "symbol": "circle"
           },
           "mode": "markers+text",
           "name": "India",
           "orientation": "v",
           "showlegend": true,
           "text": [
            "India"
           ],
           "type": "scatter",
           "x": {
            "bdata": "AAAAAADskEA=",
            "dtype": "f8"
           },
           "xaxis": "x",
           "y": {
            "bdata": "OiNKe4MnUEA=",
            "dtype": "f8"
           },
           "yaxis": "y"
          },
          {
           "hovertemplate": "<b>%{hovertext}</b><br><br>Country Name=%{text}<br>Year=1975.0<br>Neerslag (mm/jaar)=%{x}<br>Totale landbouwuitstoot (Mt CO₂e)=%{y}<extra></extra>",
           "hovertext": [
            "Japan"
           ],
           "legendgroup": "Japan",
           "marker": {
            "color": "#ab63fa",
            "symbol": "circle"
           },
           "mode": "markers+text",
           "name": "Japan",
           "orientation": "v",
           "showlegend": true,
           "text": [
            "Japan"
           ],
           "type": "scatter",
           "x": {
            "bdata": "AAAAAAAQmkA=",
            "dtype": "f8"
           },
           "xaxis": "x",
           "y": {
            "bdata": "zhlR2ht85T8=",
            "dtype": "f8"
           },
           "yaxis": "y"
          },
          {
           "hovertemplate": "<b>%{hovertext}</b><br><br>Country Name=%{text}<br>Year=1975.0<br>Neerslag (mm/jaar)=%{x}<br>Totale landbouwuitstoot (Mt CO₂e)=%{y}<extra></extra>",
           "hovertext": [
            "Nigeria"
           ],
           "legendgroup": "Nigeria",
           "marker": {
            "color": "#FFA15A",
            "symbol": "circle"
           },
           "mode": "markers+text",
           "name": "Nigeria",
           "orientation": "v",
           "showlegend": true,
           "text": [
            "Nigeria"
           ],
           "type": "scatter",
           "x": {
            "bdata": "AAAAAAD4kUA=",
            "dtype": "f8"
           },
           "xaxis": "x",
           "y": {
            "bdata": "tHvysFBruj8=",
            "dtype": "f8"
           },
           "yaxis": "y"
          },
          {
           "hovertemplate": "<b>%{hovertext}</b><br><br>Country Name=%{text}<br>Year=1975.0<br>Neerslag (mm/jaar)=%{x}<br>Totale landbouwuitstoot (Mt CO₂e)=%{y}<extra></extra>",
           "hovertext": [
            "United States of America"
           ],
           "legendgroup": "United States of America",
           "marker": {
            "color": "#19d3f3",
            "symbol": "circle"
           },
           "mode": "markers+text",
           "name": "United States of America",
           "orientation": "v",
           "showlegend": true,
           "text": [
            "United States of America"
           ],
           "type": "scatter",
           "x": {
            "bdata": "AAAAAABYhkA=",
            "dtype": "f8"
           },
           "xaxis": "x",
           "y": {
            "bdata": "HA3gLZCwV0A=",
            "dtype": "f8"
           },
           "yaxis": "y"
          },
          {
           "hovertemplate": "<b>%{hovertext}</b><br><br>Country Name=%{text}<br>Year=1975.0<br>Neerslag (mm/jaar)=%{x}<br>Totale landbouwuitstoot (Mt CO₂e)=%{y}<extra></extra>",
           "hovertext": [
            "South Africa"
           ],
           "legendgroup": "South Africa",
           "marker": {
            "color": "#FF6692",
            "symbol": "circle"
           },
           "mode": "markers+text",
           "name": "South Africa",
           "orientation": "v",
           "showlegend": true,
           "text": [
            "South Africa"
           ],
           "type": "scatter",
           "x": {
            "bdata": "AAAAAADwfkA=",
            "dtype": "f8"
           },
           "xaxis": "x",
           "y": {
            "bdata": "2V92Tx6WF0A=",
            "dtype": "f8"
           },
           "yaxis": "y"
          }
         ],
         "name": "1975.0"
        },
        {
         "data": [
          {
           "hovertemplate": "<b>%{hovertext}</b><br><br>Country Name=%{text}<br>Year=1976.0<br>Neerslag (mm/jaar)=%{x}<br>Totale landbouwuitstoot (Mt CO₂e)=%{y}<extra></extra>",
           "hovertext": [
            "Brazil"
           ],
           "legendgroup": "Brazil",
           "marker": {
            "color": "#636efa",
            "symbol": "circle"
           },
           "mode": "markers+text",
           "name": "Brazil",
           "orientation": "v",
           "showlegend": true,
           "text": [
            "Brazil"
           ],
           "type": "scatter",
           "x": {
            "bdata": "AAAAAADYm0A=",
            "dtype": "f8"
           },
           "xaxis": "x",
           "y": {
            "bdata": "Ke0NvjCZMUA=",
            "dtype": "f8"
           },
           "yaxis": "y"
          },
          {
           "hovertemplate": "<b>%{hovertext}</b><br><br>Country Name=%{text}<br>Year=1976.0<br>Neerslag (mm/jaar)=%{x}<br>Totale landbouwuitstoot (Mt CO₂e)=%{y}<extra></extra>",
           "hovertext": [
            "Indonesia"
           ],
           "legendgroup": "Indonesia",
           "marker": {
            "color": "#EF553B",
            "symbol": "circle"
           },
           "mode": "markers+text",
           "name": "Indonesia",
           "orientation": "v",
           "showlegend": true,
           "text": [
            "Indonesia"
           ],
           "type": "scatter",
           "x": {
            "bdata": "AAAAAAAcpUA=",
            "dtype": "f8"
           },
           "xaxis": "x",
           "y": {
            "bdata": "sb/snjws3D8=",
            "dtype": "f8"
           },
           "yaxis": "y"
          },
          {
           "hovertemplate": "<b>%{hovertext}</b><br><br>Country Name=%{text}<br>Year=1976.0<br>Neerslag (mm/jaar)=%{x}<br>Totale landbouwuitstoot (Mt CO₂e)=%{y}<extra></extra>",
           "hovertext": [
            "India"
           ],
           "legendgroup": "India",
           "marker": {
            "color": "#00cc96",
            "symbol": "circle"
           },
           "mode": "markers+text",
           "name": "India",
           "orientation": "v",
           "showlegend": true,
           "text": [
            "India"
           ],
           "type": "scatter",
           "x": {
            "bdata": "AAAAAADskEA=",
            "dtype": "f8"
           },
           "xaxis": "x",
           "y": {
            "bdata": "1AloImwIUkA=",
            "dtype": "f8"
           },
           "yaxis": "y"
          },
          {
           "hovertemplate": "<b>%{hovertext}</b><br><br>Country Name=%{text}<br>Year=1976.0<br>Neerslag (mm/jaar)=%{x}<br>Totale landbouwuitstoot (Mt CO₂e)=%{y}<extra></extra>",
           "hovertext": [
            "Japan"
           ],
           "legendgroup": "Japan",
           "marker": {
            "color": "#ab63fa",
            "symbol": "circle"
           },
           "mode": "markers+text",
           "name": "Japan",
           "orientation": "v",
           "showlegend": true,
           "text": [
            "Japan"
           ],
           "type": "scatter",
           "x": {
            "bdata": "AAAAAAAQmkA=",
            "dtype": "f8"
           },
           "xaxis": "x",
           "y": {
            "bdata": "UiegibDh5T8=",
            "dtype": "f8"
           },
           "yaxis": "y"
          },
          {
           "hovertemplate": "<b>%{hovertext}</b><br><br>Country Name=%{text}<br>Year=1976.0<br>Neerslag (mm/jaar)=%{x}<br>Totale landbouwuitstoot (Mt CO₂e)=%{y}<extra></extra>",
           "hovertext": [
            "Nigeria"
           ],
           "legendgroup": "Nigeria",
           "marker": {
            "color": "#FFA15A",
            "symbol": "circle"
           },
           "mode": "markers+text",
           "name": "Nigeria",
           "orientation": "v",
           "showlegend": true,
           "text": [
            "Nigeria"
           ],
           "type": "scatter",
           "x": {
            "bdata": "AAAAAAD4kUA=",
            "dtype": "f8"
           },
           "xaxis": "x",
           "y": {
            "bdata": "wOyePCzUuj8=",
            "dtype": "f8"
           },
           "yaxis": "y"
          },
          {
           "hovertemplate": "<b>%{hovertext}</b><br><br>Country Name=%{text}<br>Year=1976.0<br>Neerslag (mm/jaar)=%{x}<br>Totale landbouwuitstoot (Mt CO₂e)=%{y}<extra></extra>",
           "hovertext": [
            "United States of America"
           ],
           "legendgroup": "United States of America",
           "marker": {
            "color": "#19d3f3",
            "symbol": "circle"
           },
           "mode": "markers+text",
           "name": "United States of America",
           "orientation": "v",
           "showlegend": true,
           "text": [
            "United States of America"
           ],
           "type": "scatter",
           "x": {
            "bdata": "AAAAAABYhkA=",
            "dtype": "f8"
           },
           "xaxis": "x",
           "y": {
            "bdata": "Io51cRsdWEA=",
            "dtype": "f8"
           },
           "yaxis": "y"
          },
          {
           "hovertemplate": "<b>%{hovertext}</b><br><br>Country Name=%{text}<br>Year=1976.0<br>Neerslag (mm/jaar)=%{x}<br>Totale landbouwuitstoot (Mt CO₂e)=%{y}<extra></extra>",
           "hovertext": [
            "South Africa"
           ],
           "legendgroup": "South Africa",
           "marker": {
            "color": "#FF6692",
            "symbol": "circle"
           },
           "mode": "markers+text",
           "name": "South Africa",
           "orientation": "v",
           "showlegend": true,
           "text": [
            "South Africa"
           ],
           "type": "scatter",
           "x": {
            "bdata": "AAAAAADwfkA=",
            "dtype": "f8"
           },
           "xaxis": "x",
           "y": {
            "bdata": "NhrAWyDBGUA=",
            "dtype": "f8"
           },
           "yaxis": "y"
          }
         ],
         "name": "1976.0"
        },
        {
         "data": [
          {
           "hovertemplate": "<b>%{hovertext}</b><br><br>Country Name=%{text}<br>Year=1977.0<br>Neerslag (mm/jaar)=%{x}<br>Totale landbouwuitstoot (Mt CO₂e)=%{y}<extra></extra>",
           "hovertext": [
            "Brazil"
           ],
           "legendgroup": "Brazil",
           "marker": {
            "color": "#636efa",
            "symbol": "circle"
           },
           "mode": "markers+text",
           "name": "Brazil",
           "orientation": "v",
           "showlegend": true,
           "text": [
            "Brazil"
           ],
           "type": "scatter",
           "x": {
            "bdata": "AAAAAACEm0A=",
            "dtype": "f8"
           },
           "xaxis": "x",
           "y": {
            "bdata": "sr/snjzMMEA=",
            "dtype": "f8"
           },
           "yaxis": "y"
          },
          {
           "hovertemplate": "<b>%{hovertext}</b><br><br>Country Name=%{text}<br>Year=1977.0<br>Neerslag (mm/jaar)=%{x}<br>Totale landbouwuitstoot (Mt CO₂e)=%{y}<extra></extra>",
           "hovertext": [
            "Indonesia"
           ],
           "legendgroup": "Indonesia",
           "marker": {
            "color": "#EF553B",
            "symbol": "circle"
           },
           "mode": "markers+text",
           "name": "Indonesia",
           "orientation": "v",
           "showlegend": true,
           "text": [
            "Indonesia"
           ],
           "type": "scatter",
           "x": {
            "bdata": "AAAAAAAcpUA=",
            "dtype": "f8"
           },
           "xaxis": "x",
           "y": {
            "bdata": "3deBc0aU3j8=",
            "dtype": "f8"
           },
           "yaxis": "y"
          },
          {
           "hovertemplate": "<b>%{hovertext}</b><br><br>Country Name=%{text}<br>Year=1977.0<br>Neerslag (mm/jaar)=%{x}<br>Totale landbouwuitstoot (Mt CO₂e)=%{y}<extra></extra>",
           "hovertext": [
            "India"
           ],
           "legendgroup": "India",
           "marker": {
            "color": "#00cc96",
            "symbol": "circle"
           },
           "mode": "markers+text",
           "name": "India",
           "orientation": "v",
           "showlegend": true,
           "text": [
            "India"
           ],
           "type": "scatter",
           "x": {
            "bdata": "AAAAAADskEA=",
            "dtype": "f8"
           },
           "xaxis": "x",
           "y": {
            "bdata": "bAn5oGdrUkA=",
            "dtype": "f8"
           },
           "yaxis": "y"
          },
          {
           "hovertemplate": "<b>%{hovertext}</b><br><br>Country Name=%{text}<br>Year=1977.0<br>Neerslag (mm/jaar)=%{x}<br>Totale landbouwuitstoot (Mt CO₂e)=%{y}<extra></extra>",
           "hovertext": [
            "Japan"
           ],
           "legendgroup": "Japan",
           "marker": {
            "color": "#ab63fa",
            "symbol": "circle"
           },
           "mode": "markers+text",
           "name": "Japan",
           "orientation": "v",
           "showlegend": true,
           "text": [
            "Japan"
           ],
           "type": "scatter",
           "x": {
            "bdata": "AAAAAAAQmkA=",
            "dtype": "f8"
           },
           "xaxis": "x",
           "y": {
            "bdata": "Vn2utmJ/5T8=",
            "dtype": "f8"
           },
           "yaxis": "y"
          },
          {
           "hovertemplate": "<b>%{hovertext}</b><br><br>Country Name=%{text}<br>Year=1977.0<br>Neerslag (mm/jaar)=%{x}<br>Totale landbouwuitstoot (Mt CO₂e)=%{y}<extra></extra>",
           "hovertext": [
            "Nigeria"
           ],
           "legendgroup": "Nigeria",
           "marker": {
            "color": "#FFA15A",
            "symbol": "circle"
           },
           "mode": "markers+text",
           "name": "Nigeria",
           "orientation": "v",
           "showlegend": true,
           "text": [
            "Nigeria"
           ],
           "type": "scatter",
           "x": {
            "bdata": "AAAAAAD4kUA=",
            "dtype": "f8"
           },
           "xaxis": "x",
           "y": {
            "bdata": "B84ZUdobvD8=",
            "dtype": "f8"
           },
           "yaxis": "y"
          },
          {
           "hovertemplate": "<b>%{hovertext}</b><br><br>Country Name=%{text}<br>Year=1977.0<br>Neerslag (mm/jaar)=%{x}<br>Totale landbouwuitstoot (Mt CO₂e)=%{y}<extra></extra>",
           "hovertext": [
            "United States of America"
           ],
           "legendgroup": "United States of America",
           "marker": {
            "color": "#19d3f3",
            "symbol": "circle"
           },
           "mode": "markers+text",
           "name": "United States of America",
           "orientation": "v",
           "showlegend": true,
           "text": [
            "United States of America"
           ],
           "type": "scatter",
           "x": {
            "bdata": "AAAAAABYhkA=",
            "dtype": "f8"
           },
           "xaxis": "x",
           "y": {
            "bdata": "VOOlm8TIVkA=",
            "dtype": "f8"
           },
           "yaxis": "y"
          },
          {
           "hovertemplate": "<b>%{hovertext}</b><br><br>Country Name=%{text}<br>Year=1977.0<br>Neerslag (mm/jaar)=%{x}<br>Totale landbouwuitstoot (Mt CO₂e)=%{y}<extra></extra>",
           "hovertext": [
            "South Africa"
           ],
           "legendgroup": "South Africa",
           "marker": {
            "color": "#FF6692",
            "symbol": "circle"
           },
           "mode": "markers+text",
           "name": "South Africa",
           "orientation": "v",
           "showlegend": true,
           "text": [
            "South Africa"
           ],
           "type": "scatter",
           "x": {
            "bdata": "AAAAAADwfkA=",
            "dtype": "f8"
           },
           "xaxis": "x",
           "y": {
            "bdata": "nRGlvcEXGEA=",
            "dtype": "f8"
           },
           "yaxis": "y"
          }
         ],
         "name": "1977.0"
        },
        {
         "data": [
          {
           "hovertemplate": "<b>%{hovertext}</b><br><br>Country Name=%{text}<br>Year=1978.0<br>Neerslag (mm/jaar)=%{x}<br>Totale landbouwuitstoot (Mt CO₂e)=%{y}<extra></extra>",
           "hovertext": [
            "Brazil"
           ],
           "legendgroup": "Brazil",
           "marker": {
            "color": "#636efa",
            "symbol": "circle"
           },
           "mode": "markers+text",
           "name": "Brazil",
           "orientation": "v",
           "showlegend": true,
           "text": [
            "Brazil"
           ],
           "type": "scatter",
           "x": {
            "bdata": "AAAAAADYm0A=",
            "dtype": "f8"
           },
           "xaxis": "x",
           "y": {
            "bdata": "toR80LO5MEA=",
            "dtype": "f8"
           },
           "yaxis": "y"
          },
          {
           "hovertemplate": "<b>%{hovertext}</b><br><br>Country Name=%{text}<br>Year=1978.0<br>Neerslag (mm/jaar)=%{x}<br>Totale landbouwuitstoot (Mt CO₂e)=%{y}<extra></extra>",
           "hovertext": [
            "Indonesia"
           ],
           "legendgroup": "Indonesia",
           "marker": {
            "color": "#EF553B",
            "symbol": "circle"
           },
           "mode": "markers+text",
           "name": "Indonesia",
           "orientation": "v",
           "showlegend": true,
           "text": [
            "Indonesia"
           ],
           "type": "scatter",
           "x": {
            "bdata": "AAAAAAAcpUA=",
            "dtype": "f8"
           },
           "xaxis": "x",
           "y": {
            "bdata": "dgKaCBue4j8=",
            "dtype": "f8"
           },
           "yaxis": "y"
          },
          {
           "hovertemplate": "<b>%{hovertext}</b><br><br>Country Name=%{text}<br>Year=1978.0<br>Neerslag (mm/jaar)=%{x}<br>Totale landbouwuitstoot (Mt CO₂e)=%{y}<extra></extra>",
           "hovertext": [
            "India"
           ],
           "legendgroup": "India",
           "marker": {
            "color": "#00cc96",
            "symbol": "circle"
           },
           "mode": "markers+text",
           "name": "India",
           "orientation": "v",
           "showlegend": true,
           "text": [
            "India"
           ],
           "type": "scatter",
           "x": {
            "bdata": "AAAAAADskEA=",
            "dtype": "f8"
           },
           "xaxis": "x",
           "y": {
            "bdata": "7lpCPuhRU0A=",
            "dtype": "f8"
           },
           "yaxis": "y"
          },
          {
           "hovertemplate": "<b>%{hovertext}</b><br><br>Country Name=%{text}<br>Year=1978.0<br>Neerslag (mm/jaar)=%{x}<br>Totale landbouwuitstoot (Mt CO₂e)=%{y}<extra></extra>",
           "hovertext": [
            "Japan"
           ],
           "legendgroup": "Japan",
           "marker": {
            "color": "#ab63fa",
            "symbol": "circle"
           },
           "mode": "markers+text",
           "name": "Japan",
           "orientation": "v",
           "showlegend": true,
           "text": [
            "Japan"
           ],
           "type": "scatter",
           "x": {
            "bdata": "AAAAAAAQmkA=",
            "dtype": "f8"
           },
           "xaxis": "x",
           "y": {
            "bdata": "BMWPMXct6T8=",
            "dtype": "f8"
           },
           "yaxis": "y"
          },
          {
           "hovertemplate": "<b>%{hovertext}</b><br><br>Country Name=%{text}<br>Year=1978.0<br>Neerslag (mm/jaar)=%{x}<br>Totale landbouwuitstoot (Mt CO₂e)=%{y}<extra></extra>",
           "hovertext": [
            "Nigeria"
           ],
           "legendgroup": "Nigeria",
           "marker": {
            "color": "#FFA15A",
            "symbol": "circle"
           },
           "mode": "markers+text",
           "name": "Nigeria",
           "orientation": "v",
           "showlegend": true,
           "text": [
            "Nigeria"
           ],
           "type": "scatter",
           "x": {
            "bdata": "AAAAAAD4kUA=",
            "dtype": "f8"
           },
           "xaxis": "x",
           "y": {
            "bdata": "KVyPwvUovD8=",
            "dtype": "f8"
           },
           "yaxis": "y"
          },
          {
           "hovertemplate": "<b>%{hovertext}</b><br><br>Country Name=%{text}<br>Year=1978.0<br>Neerslag (mm/jaar)=%{x}<br>Totale landbouwuitstoot (Mt CO₂e)=%{y}<extra></extra>",
           "hovertext": [
            "United States of America"
           ],
           "legendgroup": "United States of America",
           "marker": {
            "color": "#19d3f3",
            "symbol": "circle"
           },
           "mode": "markers+text",
           "name": "United States of America",
           "orientation": "v",
           "showlegend": true,
           "text": [
            "United States of America"
           ],
           "type": "scatter",
           "x": {
            "bdata": "AAAAAABYhkA=",
            "dtype": "f8"
           },
           "xaxis": "x",
           "y": {
            "bdata": "sVBrmneEU0A=",
            "dtype": "f8"
           },
           "yaxis": "y"
          },
          {
           "hovertemplate": "<b>%{hovertext}</b><br><br>Country Name=%{text}<br>Year=1978.0<br>Neerslag (mm/jaar)=%{x}<br>Totale landbouwuitstoot (Mt CO₂e)=%{y}<extra></extra>",
           "hovertext": [
            "South Africa"
           ],
           "legendgroup": "South Africa",
           "marker": {
            "color": "#FF6692",
            "symbol": "circle"
           },
           "mode": "markers+text",
           "name": "South Africa",
           "orientation": "v",
           "showlegend": true,
           "text": [
            "South Africa"
           ],
           "type": "scatter",
           "x": {
            "bdata": "AAAAAADwfkA=",
            "dtype": "f8"
           },
           "xaxis": "x",
           "y": {
            "bdata": "dNcS8kFPGEA=",
            "dtype": "f8"
           },
           "yaxis": "y"
          }
         ],
         "name": "1978.0"
        },
        {
         "data": [
          {
           "hovertemplate": "<b>%{hovertext}</b><br><br>Country Name=%{text}<br>Year=1979.0<br>Neerslag (mm/jaar)=%{x}<br>Totale landbouwuitstoot (Mt CO₂e)=%{y}<extra></extra>",
           "hovertext": [
            "Brazil"
           ],
           "legendgroup": "Brazil",
           "marker": {
            "color": "#636efa",
            "symbol": "circle"
           },
           "mode": "markers+text",
           "name": "Brazil",
           "orientation": "v",
           "showlegend": true,
           "text": [
            "Brazil"
           ],
           "type": "scatter",
           "x": {
            "bdata": "AAAAAADYm0A=",
            "dtype": "f8"
           },
           "xaxis": "x",
           "y": {
            "bdata": "arx0kxjEM0A=",
            "dtype": "f8"
           },
           "yaxis": "y"
          },
          {
           "hovertemplate": "<b>%{hovertext}</b><br><br>Country Name=%{text}<br>Year=1979.0<br>Neerslag (mm/jaar)=%{x}<br>Totale landbouwuitstoot (Mt CO₂e)=%{y}<extra></extra>",
           "hovertext": [
            "Indonesia"
           ],
           "legendgroup": "Indonesia",
           "marker": {
            "color": "#EF553B",
            "symbol": "circle"
           },
           "mode": "markers+text",
           "name": "Indonesia",
           "orientation": "v",
           "showlegend": true,
           "text": [
            "Indonesia"
           ],
           "type": "scatter",
           "x": {
            "bdata": "AAAAAAAcpUA=",
            "dtype": "f8"
           },
           "xaxis": "x",
           "y": {
            "bdata": "cD0K16Nw5T8=",
            "dtype": "f8"
           },
           "yaxis": "y"
          },
          {
           "hovertemplate": "<b>%{hovertext}</b><br><br>Country Name=%{text}<br>Year=1979.0<br>Neerslag (mm/jaar)=%{x}<br>Totale landbouwuitstoot (Mt CO₂e)=%{y}<extra></extra>",
           "hovertext": [
            "India"
           ],
           "legendgroup": "India",
           "marker": {
            "color": "#00cc96",
            "symbol": "circle"
           },
           "mode": "markers+text",
           "name": "India",
           "orientation": "v",
           "showlegend": true,
           "text": [
            "India"
           ],
           "type": "scatter",
           "x": {
            "bdata": "AAAAAADskEA=",
            "dtype": "f8"
           },
           "xaxis": "x",
           "y": {
            "bdata": "cvkP6bdvVEA=",
            "dtype": "f8"
           },
           "yaxis": "y"
          },
          {
           "hovertemplate": "<b>%{hovertext}</b><br><br>Country Name=%{text}<br>Year=1979.0<br>Neerslag (mm/jaar)=%{x}<br>Totale landbouwuitstoot (Mt CO₂e)=%{y}<extra></extra>",
           "hovertext": [
            "Japan"
           ],
           "legendgroup": "Japan",
           "marker": {
            "color": "#ab63fa",
            "symbol": "circle"
           },
           "mode": "markers+text",
           "name": "Japan",
           "orientation": "v",
           "showlegend": true,
           "text": [
            "Japan"
           ],
           "type": "scatter",
           "x": {
            "bdata": "AAAAAAAQmkA=",
            "dtype": "f8"
           },
           "xaxis": "x",
           "y": {
            "bdata": "/mX35GGh7j8=",
            "dtype": "f8"
           },
           "yaxis": "y"
          },
          {
           "hovertemplate": "<b>%{hovertext}</b><br><br>Country Name=%{text}<br>Year=1979.0<br>Neerslag (mm/jaar)=%{x}<br>Totale landbouwuitstoot (Mt CO₂e)=%{y}<extra></extra>",
           "hovertext": [
            "Nigeria"
           ],
           "legendgroup": "Nigeria",
           "marker": {
            "color": "#FFA15A",
            "symbol": "circle"
           },
           "mode": "markers+text",
           "name": "Nigeria",
           "orientation": "v",
           "showlegend": true,
           "text": [
            "Nigeria"
           ],
           "type": "scatter",
           "x": {
            "bdata": "AAAAAAD4kUA=",
            "dtype": "f8"
           },
           "xaxis": "x",
           "y": {
            "bdata": "k8t/SL99vT8=",
            "dtype": "f8"
           },
           "yaxis": "y"
          },
          {
           "hovertemplate": "<b>%{hovertext}</b><br><br>Country Name=%{text}<br>Year=1979.0<br>Neerslag (mm/jaar)=%{x}<br>Totale landbouwuitstoot (Mt CO₂e)=%{y}<extra></extra>",
           "hovertext": [
            "United States of America"
           ],
           "legendgroup": "United States of America",
           "marker": {
            "color": "#19d3f3",
            "symbol": "circle"
           },
           "mode": "markers+text",
           "name": "United States of America",
           "orientation": "v",
           "showlegend": true,
           "text": [
            "United States of America"
           ],
           "type": "scatter",
           "x": {
            "bdata": "AAAAAABYhkA=",
            "dtype": "f8"
           },
           "xaxis": "x",
           "y": {
            "bdata": "BTQRNjwFVkA=",
            "dtype": "f8"
           },
           "yaxis": "y"
          },
          {
           "hovertemplate": "<b>%{hovertext}</b><br><br>Country Name=%{text}<br>Year=1979.0<br>Neerslag (mm/jaar)=%{x}<br>Totale landbouwuitstoot (Mt CO₂e)=%{y}<extra></extra>",
           "hovertext": [
            "South Africa"
           ],
           "legendgroup": "South Africa",
           "marker": {
            "color": "#FF6692",
            "symbol": "circle"
           },
           "mode": "markers+text",
           "name": "South Africa",
           "orientation": "v",
           "showlegend": true,
           "text": [
            "South Africa"
           ],
           "type": "scatter",
           "x": {
            "bdata": "AAAAAADwfkA=",
            "dtype": "f8"
           },
           "xaxis": "x",
           "y": {
            "bdata": "rkfhehQuGUA=",
            "dtype": "f8"
           },
           "yaxis": "y"
          }
         ],
         "name": "1979.0"
        },
        {
         "data": [
          {
           "hovertemplate": "<b>%{hovertext}</b><br><br>Country Name=%{text}<br>Year=1980.0<br>Neerslag (mm/jaar)=%{x}<br>Totale landbouwuitstoot (Mt CO₂e)=%{y}<extra></extra>",
           "hovertext": [
            "Brazil"
           ],
           "legendgroup": "Brazil",
           "marker": {
            "color": "#636efa",
            "symbol": "circle"
           },
           "mode": "markers+text",
           "name": "Brazil",
           "orientation": "v",
           "showlegend": true,
           "text": [
            "Brazil"
           ],
           "type": "scatter",
           "x": {
            "bdata": "AAAAAADYm0A=",
            "dtype": "f8"
           },
           "xaxis": "x",
           "y": {
            "bdata": "nu+nxks3MkA=",
            "dtype": "f8"
           },
           "yaxis": "y"
          },
          {
           "hovertemplate": "<b>%{hovertext}</b><br><br>Country Name=%{text}<br>Year=1980.0<br>Neerslag (mm/jaar)=%{x}<br>Totale landbouwuitstoot (Mt CO₂e)=%{y}<extra></extra>",
           "hovertext": [
            "Indonesia"
           ],
           "legendgroup": "Indonesia",
           "marker": {
            "color": "#EF553B",
            "symbol": "circle"
           },
           "mode": "markers+text",
           "name": "Indonesia",
           "orientation": "v",
           "showlegend": true,
           "text": [
            "Indonesia"
           ],
           "type": "scatter",
           "x": {
            "bdata": "AAAAAAAcpUA=",
            "dtype": "f8"
           },
           "xaxis": "x",
           "y": {
            "bdata": "MLsnDwu15j8=",
            "dtype": "f8"
           },
           "yaxis": "y"
          },
          {
           "hovertemplate": "<b>%{hovertext}</b><br><br>Country Name=%{text}<br>Year=1980.0<br>Neerslag (mm/jaar)=%{x}<br>Totale landbouwuitstoot (Mt CO₂e)=%{y}<extra></extra>",
           "hovertext": [
            "India"
           ],
           "legendgroup": "India",
           "marker": {
            "color": "#00cc96",
            "symbol": "circle"
           },
           "mode": "markers+text",
           "name": "India",
           "orientation": "v",
           "showlegend": true,
           "text": [
            "India"
           ],
           "type": "scatter",
           "x": {
            "bdata": "AAAAAADskEA=",
            "dtype": "f8"
           },
           "xaxis": "x",
           "y": {
            "bdata": "dk8eFmpFU0A=",
            "dtype": "f8"
           },
           "yaxis": "y"
          },
          {
           "hovertemplate": "<b>%{hovertext}</b><br><br>Country Name=%{text}<br>Year=1980.0<br>Neerslag (mm/jaar)=%{x}<br>Totale landbouwuitstoot (Mt CO₂e)=%{y}<extra></extra>",
           "hovertext": [
            "Japan"
           ],
           "legendgroup": "Japan",
           "marker": {
            "color": "#ab63fa",
            "symbol": "circle"
           },
           "mode": "markers+text",
           "name": "Japan",
           "orientation": "v",
           "showlegend": true,
           "text": [
            "Japan"
           ],
           "type": "scatter",
           "x": {
            "bdata": "AAAAAAAQmkA=",
            "dtype": "f8"
           },
           "xaxis": "x",
           "y": {
            "bdata": "xY8xdy0h8T8=",
            "dtype": "f8"
           },
           "yaxis": "y"
          },
          {
           "hovertemplate": "<b>%{hovertext}</b><br><br>Country Name=%{text}<br>Year=1980.0<br>Neerslag (mm/jaar)=%{x}<br>Totale landbouwuitstoot (Mt CO₂e)=%{y}<extra></extra>",
           "hovertext": [
            "Nigeria"
           ],
           "legendgroup": "Nigeria",
           "marker": {
            "color": "#FFA15A",
            "symbol": "circle"
           },
           "mode": "markers+text",
           "name": "Nigeria",
           "orientation": "v",
           "showlegend": true,
           "text": [
            "Nigeria"
           ],
           "type": "scatter",
           "x": {
            "bdata": "AAAAAAD4kUA=",
            "dtype": "f8"
           },
           "xaxis": "x",
           "y": {
            "bdata": "l5APejarvj8=",
            "dtype": "f8"
           },
           "yaxis": "y"
          },
          {
           "hovertemplate": "<b>%{hovertext}</b><br><br>Country Name=%{text}<br>Year=1980.0<br>Neerslag (mm/jaar)=%{x}<br>Totale landbouwuitstoot (Mt CO₂e)=%{y}<extra></extra>",
           "hovertext": [
            "United States of America"
           ],
           "legendgroup": "United States of America",
           "marker": {
            "color": "#19d3f3",
            "symbol": "circle"
           },
           "mode": "markers+text",
           "name": "United States of America",
           "orientation": "v",
           "showlegend": true,
           "text": [
            "United States of America"
           ],
           "type": "scatter",
           "x": {
            "bdata": "AAAAAABYhkA=",
            "dtype": "f8"
           },
           "xaxis": "x",
           "y": {
            "bdata": "sp3vp8bTWEA=",
            "dtype": "f8"
           },
           "yaxis": "y"
          },
          {
           "hovertemplate": "<b>%{hovertext}</b><br><br>Country Name=%{text}<br>Year=1980.0<br>Neerslag (mm/jaar)=%{x}<br>Totale landbouwuitstoot (Mt CO₂e)=%{y}<extra></extra>",
           "hovertext": [
            "South Africa"
           ],
           "legendgroup": "South Africa",
           "marker": {
            "color": "#FF6692",
            "symbol": "circle"
           },
           "mode": "markers+text",
           "name": "South Africa",
           "orientation": "v",
           "showlegend": true,
           "text": [
            "South Africa"
           ],
           "type": "scatter",
           "x": {
            "bdata": "AAAAAADwfkA=",
            "dtype": "f8"
           },
           "xaxis": "x",
           "y": {
            "bdata": "qaROQBNhFUA=",
            "dtype": "f8"
           },
           "yaxis": "y"
          }
         ],
         "name": "1980.0"
        },
        {
         "data": [
          {
           "hovertemplate": "<b>%{hovertext}</b><br><br>Country Name=%{text}<br>Year=1981.0<br>Neerslag (mm/jaar)=%{x}<br>Totale landbouwuitstoot (Mt CO₂e)=%{y}<extra></extra>",
           "hovertext": [
            "Brazil"
           ],
           "legendgroup": "Brazil",
           "marker": {
            "color": "#636efa",
            "symbol": "circle"
           },
           "mode": "markers+text",
           "name": "Brazil",
           "orientation": "v",
           "showlegend": true,
           "text": [
            "Brazil"
           ],
           "type": "scatter",
           "x": {
            "bdata": "AAAAAADYm0A=",
            "dtype": "f8"
           },
           "xaxis": "x",
           "y": {
            "bdata": "lSGOdXHbL0A=",
            "dtype": "f8"
           },
           "yaxis": "y"
          },
          {
           "hovertemplate": "<b>%{hovertext}</b><br><br>Country Name=%{text}<br>Year=1981.0<br>Neerslag (mm/jaar)=%{x}<br>Totale landbouwuitstoot (Mt CO₂e)=%{y}<extra></extra>",
           "hovertext": [
            "Indonesia"
           ],
           "legendgroup": "Indonesia",
           "marker": {
            "color": "#EF553B",
            "symbol": "circle"
           },
           "mode": "markers+text",
           "name": "Indonesia",
           "orientation": "v",
           "showlegend": true,
           "text": [
            "Indonesia"
           ],
           "type": "scatter",
           "x": {
            "bdata": "AAAAAAAcpUA=",
            "dtype": "f8"
           },
           "xaxis": "x",
           "y": {
            "bdata": "/rJ78rBQ5z8=",
            "dtype": "f8"
           },
           "yaxis": "y"
          },
          {
           "hovertemplate": "<b>%{hovertext}</b><br><br>Country Name=%{text}<br>Year=1981.0<br>Neerslag (mm/jaar)=%{x}<br>Totale landbouwuitstoot (Mt CO₂e)=%{y}<extra></extra>",
           "hovertext": [
            "India"
           ],
           "legendgroup": "India",
           "marker": {
            "color": "#00cc96",
            "symbol": "circle"
           },
           "mode": "markers+text",
           "name": "India",
           "orientation": "v",
           "showlegend": true,
           "text": [
            "India"
           ],
           "type": "scatter",
           "x": {
            "bdata": "AAAAAADskEA=",
            "dtype": "f8"
           },
           "xaxis": "x",
           "y": {
            "bdata": "GXPXEvLpU0A=",
            "dtype": "f8"
           },
           "yaxis": "y"
          },
          {
           "hovertemplate": "<b>%{hovertext}</b><br><br>Country Name=%{text}<br>Year=1981.0<br>Neerslag (mm/jaar)=%{x}<br>Totale landbouwuitstoot (Mt CO₂e)=%{y}<extra></extra>",
           "hovertext": [
            "Japan"
           ],
           "legendgroup": "Japan",
           "marker": {
            "color": "#ab63fa",
            "symbol": "circle"
           },
           "mode": "markers+text",
           "name": "Japan",
           "orientation": "v",
           "showlegend": true,
           "text": [
            "Japan"
           ],
           "type": "scatter",
           "x": {
            "bdata": "AAAAAAAQmkA=",
            "dtype": "f8"
           },
           "xaxis": "x",
           "y": {
            "bdata": "UrgehetR8j8=",
            "dtype": "f8"
           },
           "yaxis": "y"
          },
          {
           "hovertemplate": "<b>%{hovertext}</b><br><br>Country Name=%{text}<br>Year=1981.0<br>Neerslag (mm/jaar)=%{x}<br>Totale landbouwuitstoot (Mt CO₂e)=%{y}<extra></extra>",
           "hovertext": [
            "Nigeria"
           ],
           "legendgroup": "Nigeria",
           "marker": {
            "color": "#FFA15A",
            "symbol": "circle"
           },
           "mode": "markers+text",
           "name": "Nigeria",
           "orientation": "v",
           "showlegend": true,
           "text": [
            "Nigeria"
           ],
           "type": "scatter",
           "x": {
            "bdata": "AAAAAAD4kUA=",
            "dtype": "f8"
           },
           "xaxis": "x",
           "y": {
            "bdata": "escpOpLLvz8=",
            "dtype": "f8"
           },
           "yaxis": "y"
          },
          {
           "hovertemplate": "<b>%{hovertext}</b><br><br>Country Name=%{text}<br>Year=1981.0<br>Neerslag (mm/jaar)=%{x}<br>Totale landbouwuitstoot (Mt CO₂e)=%{y}<extra></extra>",
           "hovertext": [
            "United States of America"
           ],
           "legendgroup": "United States of America",
           "marker": {
            "color": "#19d3f3",
            "symbol": "circle"
           },
           "mode": "markers+text",
           "name": "United States of America",
           "orientation": "v",
           "showlegend": true,
           "text": [
            "United States of America"
           ],
           "type": "scatter",
           "x": {
            "bdata": "AAAAAABYhkA=",
            "dtype": "f8"
           },
           "xaxis": "x",
           "y": {
            "bdata": "fvs6cM5gXEA=",
            "dtype": "f8"
           },
           "yaxis": "y"
          },
          {
           "hovertemplate": "<b>%{hovertext}</b><br><br>Country Name=%{text}<br>Year=1981.0<br>Neerslag (mm/jaar)=%{x}<br>Totale landbouwuitstoot (Mt CO₂e)=%{y}<extra></extra>",
           "hovertext": [
            "South Africa"
           ],
           "legendgroup": "South Africa",
           "marker": {
            "color": "#FF6692",
            "symbol": "circle"
           },
           "mode": "markers+text",
           "name": "South Africa",
           "orientation": "v",
           "showlegend": true,
           "text": [
            "South Africa"
           ],
           "type": "scatter",
           "x": {
            "bdata": "AAAAAADwfkA=",
            "dtype": "f8"
           },
           "xaxis": "x",
           "y": {
            "bdata": "juTyH9JvGUA=",
            "dtype": "f8"
           },
           "yaxis": "y"
          }
         ],
         "name": "1981.0"
        },
        {
         "data": [
          {
           "hovertemplate": "<b>%{hovertext}</b><br><br>Country Name=%{text}<br>Year=1982.0<br>Neerslag (mm/jaar)=%{x}<br>Totale landbouwuitstoot (Mt CO₂e)=%{y}<extra></extra>",
           "hovertext": [
            "Brazil"
           ],
           "legendgroup": "Brazil",
           "marker": {
            "color": "#636efa",
            "symbol": "circle"
           },
           "mode": "markers+text",
           "name": "Brazil",
           "orientation": "v",
           "showlegend": true,
           "text": [
            "Brazil"
           ],
           "type": "scatter",
           "x": {
            "bdata": "AAAAAACEm0A=",
            "dtype": "f8"
           },
           "xaxis": "x",
           "y": {
            "bdata": "CkYldQLaMkA=",
            "dtype": "f8"
           },
           "yaxis": "y"
          },
          {
           "hovertemplate": "<b>%{hovertext}</b><br><br>Country Name=%{text}<br>Year=1982.0<br>Neerslag (mm/jaar)=%{x}<br>Totale landbouwuitstoot (Mt CO₂e)=%{y}<extra></extra>",
           "hovertext": [
            "Indonesia"
           ],
           "legendgroup": "Indonesia",
           "marker": {
            "color": "#EF553B",
            "symbol": "circle"
           },
           "mode": "markers+text",
           "name": "Indonesia",
           "orientation": "v",
           "showlegend": true,
           "text": [
            "Indonesia"
           ],
           "type": "scatter",
           "x": {
            "bdata": "AAAAAAAcpUA=",
            "dtype": "f8"
           },
           "xaxis": "x",
           "y": {
            "bdata": "rthfdk8e7j8=",
            "dtype": "f8"
           },
           "yaxis": "y"
          },
          {
           "hovertemplate": "<b>%{hovertext}</b><br><br>Country Name=%{text}<br>Year=1982.0<br>Neerslag (mm/jaar)=%{x}<br>Totale landbouwuitstoot (Mt CO₂e)=%{y}<extra></extra>",
           "hovertext": [
            "India"
           ],
           "legendgroup": "India",
           "marker": {
            "color": "#00cc96",
            "symbol": "circle"
           },
           "mode": "markers+text",
           "name": "India",
           "orientation": "v",
           "showlegend": true,
           "text": [
            "India"
           ],
           "type": "scatter",
           "x": {
            "bdata": "AAAAAADskEA=",
            "dtype": "f8"
           },
           "xaxis": "x",
           "y": {
            "bdata": "taZ5xylyVEA=",
            "dtype": "f8"
           },
           "yaxis": "y"
          },
          {
           "hovertemplate": "<b>%{hovertext}</b><br><br>Country Name=%{text}<br>Year=1982.0<br>Neerslag (mm/jaar)=%{x}<br>Totale landbouwuitstoot (Mt CO₂e)=%{y}<extra></extra>",
           "hovertext": [
            "Japan"
           ],
           "legendgroup": "Japan",
           "marker": {
            "color": "#ab63fa",
            "symbol": "circle"
           },
           "mode": "markers+text",
           "name": "Japan",
           "orientation": "v",
           "showlegend": true,
           "text": [
            "Japan"
           ],
           "type": "scatter",
           "x": {
            "bdata": "AAAAAAAQmkA=",
            "dtype": "f8"
           },
           "xaxis": "x",
           "y": {
            "bdata": "OGdEaW/w8z8=",
            "dtype": "f8"
           },
           "yaxis": "y"
          },
          {
           "hovertemplate": "<b>%{hovertext}</b><br><br>Country Name=%{text}<br>Year=1982.0<br>Neerslag (mm/jaar)=%{x}<br>Totale landbouwuitstoot (Mt CO₂e)=%{y}<extra></extra>",
           "hovertext": [
            "Nigeria"
           ],
           "legendgroup": "Nigeria",
           "marker": {
            "color": "#FFA15A",
            "symbol": "circle"
           },
           "mode": "markers+text",
           "name": "Nigeria",
           "orientation": "v",
           "showlegend": true,
           "text": [
            "Nigeria"
           ],
           "type": "scatter",
           "x": {
            "bdata": "AAAAAAD4kUA=",
            "dtype": "f8"
           },
           "xaxis": "x",
           "y": {
            "bdata": "j+TyH9Jvvz8=",
            "dtype": "f8"
           },
           "yaxis": "y"
          },
          {
           "hovertemplate": "<b>%{hovertext}</b><br><br>Country Name=%{text}<br>Year=1982.0<br>Neerslag (mm/jaar)=%{x}<br>Totale landbouwuitstoot (Mt CO₂e)=%{y}<extra></extra>",
           "hovertext": [
            "United States of America"
           ],
           "legendgroup": "United States of America",
           "marker": {
            "color": "#19d3f3",
            "symbol": "circle"
           },
           "mode": "markers+text",
           "name": "United States of America",
           "orientation": "v",
           "showlegend": true,
           "text": [
            "United States of America"
           ],
           "type": "scatter",
           "x": {
            "bdata": "AAAAAABYhkA=",
            "dtype": "f8"
           },
           "xaxis": "x",
           "y": {
            "bdata": "v+yePCysW0A=",
            "dtype": "f8"
           },
           "yaxis": "y"
          },
          {
           "hovertemplate": "<b>%{hovertext}</b><br><br>Country Name=%{text}<br>Year=1982.0<br>Neerslag (mm/jaar)=%{x}<br>Totale landbouwuitstoot (Mt CO₂e)=%{y}<extra></extra>",
           "hovertext": [
            "South Africa"
           ],
           "legendgroup": "South Africa",
           "marker": {
            "color": "#FF6692",
            "symbol": "circle"
           },
           "mode": "markers+text",
           "name": "South Africa",
           "orientation": "v",
           "showlegend": true,
           "text": [
            "South Africa"
           ],
           "type": "scatter",
           "x": {
            "bdata": "AAAAAADwfkA=",
            "dtype": "f8"
           },
           "xaxis": "x",
           "y": {
            "bdata": "Gw3gLZCgG0A=",
            "dtype": "f8"
           },
           "yaxis": "y"
          }
         ],
         "name": "1982.0"
        },
        {
         "data": [
          {
           "hovertemplate": "<b>%{hovertext}</b><br><br>Country Name=%{text}<br>Year=1983.0<br>Neerslag (mm/jaar)=%{x}<br>Totale landbouwuitstoot (Mt CO₂e)=%{y}<extra></extra>",
           "hovertext": [
            "Brazil"
           ],
           "legendgroup": "Brazil",
           "marker": {
            "color": "#636efa",
            "symbol": "circle"
           },
           "mode": "markers+text",
           "name": "Brazil",
           "orientation": "v",
           "showlegend": true,
           "text": [
            "Brazil"
           ],
           "type": "scatter",
           "x": {
            "bdata": "AAAAAADYm0A=",
            "dtype": "f8"
           },
           "xaxis": "x",
           "y": {
            "bdata": "4seYu5YwMkA=",
            "dtype": "f8"
           },
           "yaxis": "y"
          },
          {
           "hovertemplate": "<b>%{hovertext}</b><br><br>Country Name=%{text}<br>Year=1983.0<br>Neerslag (mm/jaar)=%{x}<br>Totale landbouwuitstoot (Mt CO₂e)=%{y}<extra></extra>",
           "hovertext": [
            "Indonesia"
           ],
           "legendgroup": "Indonesia",
           "marker": {
            "color": "#EF553B",
            "symbol": "circle"
           },
           "mode": "markers+text",
           "name": "Indonesia",
           "orientation": "v",
           "showlegend": true,
           "text": [
            "Indonesia"
           ],
           "type": "scatter",
           "x": {
            "bdata": "AAAAAAAcpUA=",
            "dtype": "f8"
           },
           "xaxis": "x",
           "y": {
            "bdata": "9pfdk4eF7j8=",
            "dtype": "f8"
           },
           "yaxis": "y"
          },
          {
           "hovertemplate": "<b>%{hovertext}</b><br><br>Country Name=%{text}<br>Year=1983.0<br>Neerslag (mm/jaar)=%{x}<br>Totale landbouwuitstoot (Mt CO₂e)=%{y}<extra></extra>",
           "hovertext": [
            "India"
           ],
           "legendgroup": "India",
           "marker": {
            "color": "#00cc96",
            "symbol": "circle"
           },
           "mode": "markers+text",
           "name": "India",
           "orientation": "v",
           "showlegend": true,
           "text": [
            "India"
           ],
           "type": "scatter",
           "x": {
            "bdata": "AAAAAADskEA=",
            "dtype": "f8"
           },
           "xaxis": "x",
           "y": {
            "bdata": "cayL22gIVkA=",
            "dtype": "f8"
           },
           "yaxis": "y"
          },
          {
           "hovertemplate": "<b>%{hovertext}</b><br><br>Country Name=%{text}<br>Year=1983.0<br>Neerslag (mm/jaar)=%{x}<br>Totale landbouwuitstoot (Mt CO₂e)=%{y}<extra></extra>",
           "hovertext": [
            "Japan"
           ],
           "legendgroup": "Japan",
           "marker": {
            "color": "#ab63fa",
            "symbol": "circle"
           },
           "mode": "markers+text",
           "name": "Japan",
           "orientation": "v",
           "showlegend": true,
           "text": [
            "Japan"
           ],
           "type": "scatter",
           "x": {
            "bdata": "AAAAAAAQmkA=",
            "dtype": "f8"
           },
           "xaxis": "x",
           "y": {
            "bdata": "5q4l5IOe8z8=",
            "dtype": "f8"
           },
           "yaxis": "y"
          },
          {
           "hovertemplate": "<b>%{hovertext}</b><br><br>Country Name=%{text}<br>Year=1983.0<br>Neerslag (mm/jaar)=%{x}<br>Totale landbouwuitstoot (Mt CO₂e)=%{y}<extra></extra>",
           "hovertext": [
            "Nigeria"
           ],
           "legendgroup": "Nigeria",
           "marker": {
            "color": "#FFA15A",
            "symbol": "circle"
           },
           "mode": "markers+text",
           "name": "Nigeria",
           "orientation": "v",
           "showlegend": true,
           "text": [
            "Nigeria"
           ],
           "type": "scatter",
           "x": {
            "bdata": "AAAAAAD4kUA=",
            "dtype": "f8"
           },
           "xaxis": "x",
           "y": {
            "bdata": "0QDeAgmKvz8=",
            "dtype": "f8"
           },
           "yaxis": "y"
          },
          {
           "hovertemplate": "<b>%{hovertext}</b><br><br>Country Name=%{text}<br>Year=1983.0<br>Neerslag (mm/jaar)=%{x}<br>Totale landbouwuitstoot (Mt CO₂e)=%{y}<extra></extra>",
           "hovertext": [
            "United States of America"
           ],
           "legendgroup": "United States of America",
           "marker": {
            "color": "#19d3f3",
            "symbol": "circle"
           },
           "mode": "markers+text",
           "name": "United States of America",
           "orientation": "v",
           "showlegend": true,
           "text": [
            "United States of America"
           ],
           "type": "scatter",
           "x": {
            "bdata": "AAAAAABYhkA=",
            "dtype": "f8"
           },
           "xaxis": "x",
           "y": {
            "bdata": "ApoIG56mVkA=",
            "dtype": "f8"
           },
           "yaxis": "y"
          },
          {
           "hovertemplate": "<b>%{hovertext}</b><br><br>Country Name=%{text}<br>Year=1983.0<br>Neerslag (mm/jaar)=%{x}<br>Totale landbouwuitstoot (Mt CO₂e)=%{y}<extra></extra>",
           "hovertext": [
            "South Africa"
           ],
           "legendgroup": "South Africa",
           "marker": {
            "color": "#FF6692",
            "symbol": "circle"
           },
           "mode": "markers+text",
           "name": "South Africa",
           "orientation": "v",
           "showlegend": true,
           "text": [
            "South Africa"
           ],
           "type": "scatter",
           "x": {
            "bdata": "AAAAAADwfkA=",
            "dtype": "f8"
           },
           "xaxis": "x",
           "y": {
            "bdata": "KO0NvjAZGEA=",
            "dtype": "f8"
           },
           "yaxis": "y"
          }
         ],
         "name": "1983.0"
        },
        {
         "data": [
          {
           "hovertemplate": "<b>%{hovertext}</b><br><br>Country Name=%{text}<br>Year=1984.0<br>Neerslag (mm/jaar)=%{x}<br>Totale landbouwuitstoot (Mt CO₂e)=%{y}<extra></extra>",
           "hovertext": [
            "Brazil"
           ],
           "legendgroup": "Brazil",
           "marker": {
            "color": "#636efa",
            "symbol": "circle"
           },
           "mode": "markers+text",
           "name": "Brazil",
           "orientation": "v",
           "showlegend": true,
           "text": [
            "Brazil"
           ],
           "type": "scatter",
           "x": {
            "bdata": "AAAAAADYm0A=",
            "dtype": "f8"
           },
           "xaxis": "x",
           "y": {
            "bdata": "gZVDi2xnMkA=",
            "dtype": "f8"
           },
           "yaxis": "y"
          },
          {
           "hovertemplate": "<b>%{hovertext}</b><br><br>Country Name=%{text}<br>Year=1984.0<br>Neerslag (mm/jaar)=%{x}<br>Totale landbouwuitstoot (Mt CO₂e)=%{y}<extra></extra>",
           "hovertext": [
            "Indonesia"
           ],
           "legendgroup": "Indonesia",
           "marker": {
            "color": "#EF553B",
            "symbol": "circle"
           },
           "mode": "markers+text",
           "name": "Indonesia",
           "orientation": "v",
           "showlegend": true,
           "text": [
            "Indonesia"
           ],
           "type": "scatter",
           "x": {
            "bdata": "AAAAAAAcpUA=",
            "dtype": "f8"
           },
           "xaxis": "x",
           "y": {
            "bdata": "eJyiI7n86z8=",
            "dtype": "f8"
           },
           "yaxis": "y"
          },
          {
           "hovertemplate": "<b>%{hovertext}</b><br><br>Country Name=%{text}<br>Year=1984.0<br>Neerslag (mm/jaar)=%{x}<br>Totale landbouwuitstoot (Mt CO₂e)=%{y}<extra></extra>",
           "hovertext": [
            "India"
           ],
           "legendgroup": "India",
           "marker": {
            "color": "#00cc96",
            "symbol": "circle"
           },
           "mode": "markers+text",
           "name": "India",
           "orientation": "v",
           "showlegend": true,
           "text": [
            "India"
           ],
           "type": "scatter",
           "x": {
            "bdata": "AAAAAADskEA=",
            "dtype": "f8"
           },
           "xaxis": "x",
           "y": {
            "bdata": "eAskKH7MVkA=",
            "dtype": "f8"
           },
           "yaxis": "y"
          },
          {
           "hovertemplate": "<b>%{hovertext}</b><br><br>Country Name=%{text}<br>Year=1984.0<br>Neerslag (mm/jaar)=%{x}<br>Totale landbouwuitstoot (Mt CO₂e)=%{y}<extra></extra>",
           "hovertext": [
            "Japan"
           ],
           "legendgroup": "Japan",
           "marker": {
            "color": "#ab63fa",
            "symbol": "circle"
           },
           "mode": "markers+text",
           "name": "Japan",
           "orientation": "v",
           "showlegend": true,
           "text": [
            "Japan"
           ],
           "type": "scatter",
           "x": {
            "bdata": "AAAAAAAQmkA=",
            "dtype": "f8"
           },
           "xaxis": "x",
           "y": {
            "bdata": "C7Wmeccp9D8=",
            "dtype": "f8"
           },
           "yaxis": "y"
          },
          {
           "hovertemplate": "<b>%{hovertext}</b><br><br>Country Name=%{text}<br>Year=1984.0<br>Neerslag (mm/jaar)=%{x}<br>Totale landbouwuitstoot (Mt CO₂e)=%{y}<extra></extra>",
           "hovertext": [
            "Nigeria"
           ],
           "legendgroup": "Nigeria",
           "marker": {
            "color": "#FFA15A",
            "symbol": "circle"
           },
           "mode": "markers+text",
           "name": "Nigeria",
           "orientation": "v",
           "showlegend": true,
           "text": [
            "Nigeria"
           ],
           "type": "scatter",
           "x": {
            "bdata": "AAAAAAD4kUA=",
            "dtype": "f8"
           },
           "xaxis": "x",
           "y": {
            "bdata": "CBueXinLwD8=",
            "dtype": "f8"
           },
           "yaxis": "y"
          },
          {
           "hovertemplate": "<b>%{hovertext}</b><br><br>Country Name=%{text}<br>Year=1984.0<br>Neerslag (mm/jaar)=%{x}<br>Totale landbouwuitstoot (Mt CO₂e)=%{y}<extra></extra>",
           "hovertext": [
            "United States of America"
           ],
           "legendgroup": "United States of America",
           "marker": {
            "color": "#19d3f3",
            "symbol": "circle"
           },
           "mode": "markers+text",
           "name": "United States of America",
           "orientation": "v",
           "showlegend": true,
           "text": [
            "United States of America"
           ],
           "type": "scatter",
           "x": {
            "bdata": "AAAAAABYhkA=",
            "dtype": "f8"
           },
           "xaxis": "x",
           "y": {
            "bdata": "klz+Q/qFWEA=",
            "dtype": "f8"
           },
           "yaxis": "y"
          },
          {
           "hovertemplate": "<b>%{hovertext}</b><br><br>Country Name=%{text}<br>Year=1984.0<br>Neerslag (mm/jaar)=%{x}<br>Totale landbouwuitstoot (Mt CO₂e)=%{y}<extra></extra>",
           "hovertext": [
            "South Africa"
           ],
           "legendgroup": "South Africa",
           "marker": {
            "color": "#FF6692",
            "symbol": "circle"
           },
           "mode": "markers+text",
           "name": "South Africa",
           "orientation": "v",
           "showlegend": true,
           "text": [
            "South Africa"
           ],
           "type": "scatter",
           "x": {
            "bdata": "AAAAAADwfkA=",
            "dtype": "f8"
           },
           "xaxis": "x",
           "y": {
            "bdata": "DHGsi9voGkA=",
            "dtype": "f8"
           },
           "yaxis": "y"
          }
         ],
         "name": "1984.0"
        },
        {
         "data": [
          {
           "hovertemplate": "<b>%{hovertext}</b><br><br>Country Name=%{text}<br>Year=1985.0<br>Neerslag (mm/jaar)=%{x}<br>Totale landbouwuitstoot (Mt CO₂e)=%{y}<extra></extra>",
           "hovertext": [
            "Brazil"
           ],
           "legendgroup": "Brazil",
           "marker": {
            "color": "#636efa",
            "symbol": "circle"
           },
           "mode": "markers+text",
           "name": "Brazil",
           "orientation": "v",
           "showlegend": true,
           "text": [
            "Brazil"
           ],
           "type": "scatter",
           "x": {
            "bdata": "AAAAAADYm0A=",
            "dtype": "f8"
           },
           "xaxis": "x",
           "y": {
            "bdata": "4C2QoPiRNkA=",
            "dtype": "f8"
           },
           "yaxis": "y"
          },
          {
           "hovertemplate": "<b>%{hovertext}</b><br><br>Country Name=%{text}<br>Year=1985.0<br>Neerslag (mm/jaar)=%{x}<br>Totale landbouwuitstoot (Mt CO₂e)=%{y}<extra></extra>",
           "hovertext": [
            "Indonesia"
           ],
           "legendgroup": "Indonesia",
           "marker": {
            "color": "#EF553B",
            "symbol": "circle"
           },
           "mode": "markers+text",
           "name": "Indonesia",
           "orientation": "v",
           "showlegend": true,
           "text": [
            "Indonesia"
           ],
           "type": "scatter",
           "x": {
            "bdata": "AAAAAAAcpUA=",
            "dtype": "f8"
           },
           "xaxis": "x",
           "y": {
            "bdata": "Z2ZmZmZm8D8=",
            "dtype": "f8"
           },
           "yaxis": "y"
          },
          {
           "hovertemplate": "<b>%{hovertext}</b><br><br>Country Name=%{text}<br>Year=1985.0<br>Neerslag (mm/jaar)=%{x}<br>Totale landbouwuitstoot (Mt CO₂e)=%{y}<extra></extra>",
           "hovertext": [
            "India"
           ],
           "legendgroup": "India",
           "marker": {
            "color": "#00cc96",
            "symbol": "circle"
           },
           "mode": "markers+text",
           "name": "India",
           "orientation": "v",
           "showlegend": true,
           "text": [
            "India"
           ],
           "type": "scatter",
           "x": {
            "bdata": "AAAAAADskEA=",
            "dtype": "f8"
           },
           "xaxis": "x",
           "y": {
            "bdata": "+DHmriXcVUA=",
            "dtype": "f8"
           },
           "yaxis": "y"
          },
          {
           "hovertemplate": "<b>%{hovertext}</b><br><br>Country Name=%{text}<br>Year=1985.0<br>Neerslag (mm/jaar)=%{x}<br>Totale landbouwuitstoot (Mt CO₂e)=%{y}<extra></extra>",
           "hovertext": [
            "Japan"
           ],
           "legendgroup": "Japan",
           "marker": {
            "color": "#ab63fa",
            "symbol": "circle"
           },
           "mode": "markers+text",
           "name": "Japan",
           "orientation": "v",
           "showlegend": true,
           "text": [
            "Japan"
           ],
           "type": "scatter",
           "x": {
            "bdata": "AAAAAAAQmkA=",
            "dtype": "f8"
           },
           "xaxis": "x",
           "y": {
            "bdata": "cmiR7Xw/9T8=",
            "dtype": "f8"
           },
           "yaxis": "y"
          },
          {
           "hovertemplate": "<b>%{hovertext}</b><br><br>Country Name=%{text}<br>Year=1985.0<br>Neerslag (mm/jaar)=%{x}<br>Totale landbouwuitstoot (Mt CO₂e)=%{y}<extra></extra>",
           "hovertext": [
            "Nigeria"
           ],
           "legendgroup": "Nigeria",
           "marker": {
            "color": "#FFA15A",
            "symbol": "circle"
           },
           "mode": "markers+text",
           "name": "Nigeria",
           "orientation": "v",
           "showlegend": true,
           "text": [
            "Nigeria"
           ],
           "type": "scatter",
           "x": {
            "bdata": "AAAAAAD4kUA=",
            "dtype": "f8"
           },
           "xaxis": "x",
           "y": {
            "bdata": "j1N0JJf/0D8=",
            "dtype": "f8"
           },
           "yaxis": "y"
          },
          {
           "hovertemplate": "<b>%{hovertext}</b><br><br>Country Name=%{text}<br>Year=1985.0<br>Neerslag (mm/jaar)=%{x}<br>Totale landbouwuitstoot (Mt CO₂e)=%{y}<extra></extra>",
           "hovertext": [
            "United States of America"
           ],
           "legendgroup": "United States of America",
           "marker": {
            "color": "#19d3f3",
            "symbol": "circle"
           },
           "mode": "markers+text",
           "name": "United States of America",
           "orientation": "v",
           "showlegend": true,
           "text": [
            "United States of America"
           ],
           "type": "scatter",
           "x": {
            "bdata": "AAAAAABYhkA=",
            "dtype": "f8"
           },
           "xaxis": "x",
           "y": {
            "bdata": "gLdAguJ/V0A=",
            "dtype": "f8"
           },
           "yaxis": "y"
          },
          {
           "hovertemplate": "<b>%{hovertext}</b><br><br>Country Name=%{text}<br>Year=1985.0<br>Neerslag (mm/jaar)=%{x}<br>Totale landbouwuitstoot (Mt CO₂e)=%{y}<extra></extra>",
           "hovertext": [
            "South Africa"
           ],
           "legendgroup": "South Africa",
           "marker": {
            "color": "#FF6692",
            "symbol": "circle"
           },
           "mode": "markers+text",
           "name": "South Africa",
           "orientation": "v",
           "showlegend": true,
           "text": [
            "South Africa"
           ],
           "type": "scatter",
           "x": {
            "bdata": "AAAAAADwfkA=",
            "dtype": "f8"
           },
           "xaxis": "x",
           "y": {
            "bdata": "nKIjufwHGkA=",
            "dtype": "f8"
           },
           "yaxis": "y"
          }
         ],
         "name": "1985.0"
        },
        {
         "data": [
          {
           "hovertemplate": "<b>%{hovertext}</b><br><br>Country Name=%{text}<br>Year=1986.0<br>Neerslag (mm/jaar)=%{x}<br>Totale landbouwuitstoot (Mt CO₂e)=%{y}<extra></extra>",
           "hovertext": [
            "Brazil"
           ],
           "legendgroup": "Brazil",
           "marker": {
            "color": "#636efa",
            "symbol": "circle"
           },
           "mode": "markers+text",
           "name": "Brazil",
           "orientation": "v",
           "showlegend": true,
           "text": [
            "Brazil"
           ],
           "type": "scatter",
           "x": {
            "bdata": "AAAAAADYm0A=",
            "dtype": "f8"
           },
           "xaxis": "x",
           "y": {
            "bdata": "7FG4HoUrOkA=",
            "dtype": "f8"
           },
           "yaxis": "y"
          },
          {
           "hovertemplate": "<b>%{hovertext}</b><br><br>Country Name=%{text}<br>Year=1986.0<br>Neerslag (mm/jaar)=%{x}<br>Totale landbouwuitstoot (Mt CO₂e)=%{y}<extra></extra>",
           "hovertext": [
            "Indonesia"
           ],
           "legendgroup": "Indonesia",
           "marker": {
            "color": "#EF553B",
            "symbol": "circle"
           },
           "mode": "markers+text",
           "name": "Indonesia",
           "orientation": "v",
           "showlegend": true,
           "text": [
            "Indonesia"
           ],
           "type": "scatter",
           "x": {
            "bdata": "AAAAAAAcpUA=",
            "dtype": "f8"
           },
           "xaxis": "x",
           "y": {
            "bdata": "8fRKWYY48j8=",
            "dtype": "f8"
           },
           "yaxis": "y"
          },
          {
           "hovertemplate": "<b>%{hovertext}</b><br><br>Country Name=%{text}<br>Year=1986.0<br>Neerslag (mm/jaar)=%{x}<br>Totale landbouwuitstoot (Mt CO₂e)=%{y}<extra></extra>",
           "hovertext": [
            "India"
           ],
           "legendgroup": "India",
           "marker": {
            "color": "#00cc96",
            "symbol": "circle"
           },
           "mode": "markers+text",
           "name": "India",
           "orientation": "v",
           "showlegend": true,
           "text": [
            "India"
           ],
           "type": "scatter",
           "x": {
            "bdata": "AAAAAADskEA=",
            "dtype": "f8"
           },
           "xaxis": "x",
           "y": {
            "bdata": "0m9fB87BVUA=",
            "dtype": "f8"
           },
           "yaxis": "y"
          },
          {
           "hovertemplate": "<b>%{hovertext}</b><br><br>Country Name=%{text}<br>Year=1986.0<br>Neerslag (mm/jaar)=%{x}<br>Totale landbouwuitstoot (Mt CO₂e)=%{y}<extra></extra>",
           "hovertext": [
            "Japan"
           ],
           "legendgroup": "Japan",
           "marker": {
            "color": "#ab63fa",
            "symbol": "circle"
           },
           "mode": "markers+text",
           "name": "Japan",
           "orientation": "v",
           "showlegend": true,
           "text": [
            "Japan"
           ],
           "type": "scatter",
           "x": {
            "bdata": "AAAAAAAQmkA=",
            "dtype": "f8"
           },
           "xaxis": "x",
           "y": {
            "bdata": "QmDl0CLb9T8=",
            "dtype": "f8"
           },
           "yaxis": "y"
          },
          {
           "hovertemplate": "<b>%{hovertext}</b><br><br>Country Name=%{text}<br>Year=1986.0<br>Neerslag (mm/jaar)=%{x}<br>Totale landbouwuitstoot (Mt CO₂e)=%{y}<extra></extra>",
           "hovertext": [
            "Nigeria"
           ],
           "legendgroup": "Nigeria",
           "marker": {
            "color": "#FFA15A",
            "symbol": "circle"
           },
           "mode": "markers+text",
           "name": "Nigeria",
           "orientation": "v",
           "showlegend": true,
           "text": [
            "Nigeria"
           ],
           "type": "scatter",
           "x": {
            "bdata": "AAAAAAD4kUA=",
            "dtype": "f8"
           },
           "xaxis": "x",
           "y": {
            "bdata": "UWuad5yi0z8=",
            "dtype": "f8"
           },
           "yaxis": "y"
          },
          {
           "hovertemplate": "<b>%{hovertext}</b><br><br>Country Name=%{text}<br>Year=1986.0<br>Neerslag (mm/jaar)=%{x}<br>Totale landbouwuitstoot (Mt CO₂e)=%{y}<extra></extra>",
           "hovertext": [
            "United States of America"
           ],
           "legendgroup": "United States of America",
           "marker": {
            "color": "#19d3f3",
            "symbol": "circle"
           },
           "mode": "markers+text",
           "name": "United States of America",
           "orientation": "v",
           "showlegend": true,
           "text": [
            "United States of America"
           ],
           "type": "scatter",
           "x": {
            "bdata": "AAAAAABYhkA=",
            "dtype": "f8"
           },
           "xaxis": "x",
           "y": {
            "bdata": "9rnaiv19VUA=",
            "dtype": "f8"
           },
           "yaxis": "y"
          },
          {
           "hovertemplate": "<b>%{hovertext}</b><br><br>Country Name=%{text}<br>Year=1986.0<br>Neerslag (mm/jaar)=%{x}<br>Totale landbouwuitstoot (Mt CO₂e)=%{y}<extra></extra>",
           "hovertext": [
            "South Africa"
           ],
           "legendgroup": "South Africa",
           "marker": {
            "color": "#FF6692",
            "symbol": "circle"
           },
           "mode": "markers+text",
           "name": "South Africa",
           "orientation": "v",
           "showlegend": true,
           "text": [
            "South Africa"
           ],
           "type": "scatter",
           "x": {
            "bdata": "AAAAAADwfkA=",
            "dtype": "f8"
           },
           "xaxis": "x",
           "y": {
            "bdata": "AJF++zrwGkA=",
            "dtype": "f8"
           },
           "yaxis": "y"
          }
         ],
         "name": "1986.0"
        },
        {
         "data": [
          {
           "hovertemplate": "<b>%{hovertext}</b><br><br>Country Name=%{text}<br>Year=1987.0<br>Neerslag (mm/jaar)=%{x}<br>Totale landbouwuitstoot (Mt CO₂e)=%{y}<extra></extra>",
           "hovertext": [
            "Brazil"
           ],
           "legendgroup": "Brazil",
           "marker": {
            "color": "#636efa",
            "symbol": "circle"
           },
           "mode": "markers+text",
           "name": "Brazil",
           "orientation": "v",
           "showlegend": true,
           "text": [
            "Brazil"
           ],
           "type": "scatter",
           "x": {
            "bdata": "AAAAAACEm0A=",
            "dtype": "f8"
           },
           "xaxis": "x",
           "y": {
            "bdata": "Pldbsb+sOkA=",
            "dtype": "f8"
           },
           "yaxis": "y"
          },
          {
           "hovertemplate": "<b>%{hovertext}</b><br><br>Country Name=%{text}<br>Year=1987.0<br>Neerslag (mm/jaar)=%{x}<br>Totale landbouwuitstoot (Mt CO₂e)=%{y}<extra></extra>",
           "hovertext": [
            "Indonesia"
           ],
           "legendgroup": "Indonesia",
           "marker": {
            "color": "#EF553B",
            "symbol": "circle"
           },
           "mode": "markers+text",
           "name": "Indonesia",
           "orientation": "v",
           "showlegend": true,
           "text": [
            "Indonesia"
           ],
           "type": "scatter",
           "x": {
            "bdata": "AAAAAAAcpUA=",
            "dtype": "f8"
           },
           "xaxis": "x",
           "y": {
            "bdata": "UI2XbhKD8j8=",
            "dtype": "f8"
           },
           "yaxis": "y"
          },
          {
           "hovertemplate": "<b>%{hovertext}</b><br><br>Country Name=%{text}<br>Year=1987.0<br>Neerslag (mm/jaar)=%{x}<br>Totale landbouwuitstoot (Mt CO₂e)=%{y}<extra></extra>",
           "hovertext": [
            "India"
           ],
           "legendgroup": "India",
           "marker": {
            "color": "#00cc96",
            "symbol": "circle"
           },
           "mode": "markers+text",
           "name": "India",
           "orientation": "v",
           "showlegend": true,
           "text": [
            "India"
           ],
           "type": "scatter",
           "x": {
            "bdata": "AAAAAADskEA=",
            "dtype": "f8"
           },
           "xaxis": "x",
           "y": {
            "bdata": "rthfdk++VUA=",
            "dtype": "f8"
           },
           "yaxis": "y"
          },
          {
           "hovertemplate": "<b>%{hovertext}</b><br><br>Country Name=%{text}<br>Year=1987.0<br>Neerslag (mm/jaar)=%{x}<br>Totale landbouwuitstoot (Mt CO₂e)=%{y}<extra></extra>",
           "hovertext": [
            "Japan"
           ],
           "legendgroup": "Japan",
           "marker": {
            "color": "#ab63fa",
            "symbol": "circle"
           },
           "mode": "markers+text",
           "name": "Japan",
           "orientation": "v",
           "showlegend": true,
           "text": [
            "Japan"
           ],
           "type": "scatter",
           "x": {
            "bdata": "AAAAAAAQmkA=",
            "dtype": "f8"
           },
           "xaxis": "x",
           "y": {
            "bdata": "4L4OnDOi9j8=",
            "dtype": "f8"
           },
           "yaxis": "y"
          },
          {
           "hovertemplate": "<b>%{hovertext}</b><br><br>Country Name=%{text}<br>Year=1987.0<br>Neerslag (mm/jaar)=%{x}<br>Totale landbouwuitstoot (Mt CO₂e)=%{y}<extra></extra>",
           "hovertext": [
            "Nigeria"
           ],
           "legendgroup": "Nigeria",
           "marker": {
            "color": "#FFA15A",
            "symbol": "circle"
           },
           "mode": "markers+text",
           "name": "Nigeria",
           "orientation": "v",
           "showlegend": true,
           "text": [
            "Nigeria"
           ],
           "type": "scatter",
           "x": {
            "bdata": "AAAAAAD4kUA=",
            "dtype": "f8"
           },
           "xaxis": "x",
           "y": {
            "bdata": "jNtoAG+B1D8=",
            "dtype": "f8"
           },
           "yaxis": "y"
          },
          {
           "hovertemplate": "<b>%{hovertext}</b><br><br>Country Name=%{text}<br>Year=1987.0<br>Neerslag (mm/jaar)=%{x}<br>Totale landbouwuitstoot (Mt CO₂e)=%{y}<extra></extra>",
           "hovertext": [
            "United States of America"
           ],
           "legendgroup": "United States of America",
           "marker": {
            "color": "#19d3f3",
            "symbol": "circle"
           },
           "mode": "markers+text",
           "name": "United States of America",
           "orientation": "v",
           "showlegend": true,
           "text": [
            "United States of America"
           ],
           "type": "scatter",
           "x": {
            "bdata": "AAAAAABYhkA=",
            "dtype": "f8"
           },
           "xaxis": "x",
           "y": {
            "bdata": "Gi/dJAZxVEA=",
            "dtype": "f8"
           },
           "yaxis": "y"
          },
          {
           "hovertemplate": "<b>%{hovertext}</b><br><br>Country Name=%{text}<br>Year=1987.0<br>Neerslag (mm/jaar)=%{x}<br>Totale landbouwuitstoot (Mt CO₂e)=%{y}<extra></extra>",
           "hovertext": [
            "South Africa"
           ],
           "legendgroup": "South Africa",
           "marker": {
            "color": "#FF6692",
            "symbol": "circle"
           },
           "mode": "markers+text",
           "name": "South Africa",
           "orientation": "v",
           "showlegend": true,
           "text": [
            "South Africa"
           ],
           "type": "scatter",
           "x": {
            "bdata": "AAAAAADwfkA=",
            "dtype": "f8"
           },
           "xaxis": "x",
           "y": {
            "bdata": "fvs6cM6IGkA=",
            "dtype": "f8"
           },
           "yaxis": "y"
          }
         ],
         "name": "1987.0"
        },
        {
         "data": [
          {
           "hovertemplate": "<b>%{hovertext}</b><br><br>Country Name=%{text}<br>Year=1988.0<br>Neerslag (mm/jaar)=%{x}<br>Totale landbouwuitstoot (Mt CO₂e)=%{y}<extra></extra>",
           "hovertext": [
            "Brazil"
           ],
           "legendgroup": "Brazil",
           "marker": {
            "color": "#636efa",
            "symbol": "circle"
           },
           "mode": "markers+text",
           "name": "Brazil",
           "orientation": "v",
           "showlegend": true,
           "text": [
            "Brazil"
           ],
           "type": "scatter",
           "x": {
            "bdata": "AAAAAADYm0A=",
            "dtype": "f8"
           },
           "xaxis": "x",
           "y": {
            "bdata": "CKwcWmTbOUA=",
            "dtype": "f8"
           },
           "yaxis": "y"
          },
          {
           "hovertemplate": "<b>%{hovertext}</b><br><br>Country Name=%{text}<br>Year=1988.0<br>Neerslag (mm/jaar)=%{x}<br>Totale landbouwuitstoot (Mt CO₂e)=%{y}<extra></extra>",
           "hovertext": [
            "Indonesia"
           ],
           "legendgroup": "Indonesia",
           "marker": {
            "color": "#EF553B",
            "symbol": "circle"
           },
           "mode": "markers+text",
           "name": "Indonesia",
           "orientation": "v",
           "showlegend": true,
           "text": [
            "Indonesia"
           ],
           "type": "scatter",
           "x": {
            "bdata": "AAAAAAAcpUA=",
            "dtype": "f8"
           },
           "xaxis": "x",
           "y": {
            "bdata": "zTtO0ZFc9D8=",
            "dtype": "f8"
           },
           "yaxis": "y"
          },
          {
           "hovertemplate": "<b>%{hovertext}</b><br><br>Country Name=%{text}<br>Year=1988.0<br>Neerslag (mm/jaar)=%{x}<br>Totale landbouwuitstoot (Mt CO₂e)=%{y}<extra></extra>",
           "hovertext": [
            "India"
           ],
           "legendgroup": "India",
           "marker": {
            "color": "#00cc96",
            "symbol": "circle"
           },
           "mode": "markers+text",
           "name": "India",
           "orientation": "v",
           "showlegend": true,
           "text": [
            "India"
           ],
           "type": "scatter",
           "x": {
            "bdata": "AAAAAADskEA=",
            "dtype": "f8"
           },
           "xaxis": "x",
           "y": {
            "bdata": "r5RliGMdVkA=",
            "dtype": "f8"
           },
           "yaxis": "y"
          },
          {
           "hovertemplate": "<b>%{hovertext}</b><br><br>Country Name=%{text}<br>Year=1988.0<br>Neerslag (mm/jaar)=%{x}<br>Totale landbouwuitstoot (Mt CO₂e)=%{y}<extra></extra>",
           "hovertext": [
            "Japan"
           ],
           "legendgroup": "Japan",
           "marker": {
            "color": "#ab63fa",
            "symbol": "circle"
           },
           "mode": "markers+text",
           "name": "Japan",
           "orientation": "v",
           "showlegend": true,
           "text": [
            "Japan"
           ],
           "type": "scatter",
           "x": {
            "bdata": "AAAAAAAQmkA=",
            "dtype": "f8"
           },
           "xaxis": "x",
           "y": {
            "bdata": "DeAtkKD49z8=",
            "dtype": "f8"
           },
           "yaxis": "y"
          },
          {
           "hovertemplate": "<b>%{hovertext}</b><br><br>Country Name=%{text}<br>Year=1988.0<br>Neerslag (mm/jaar)=%{x}<br>Totale landbouwuitstoot (Mt CO₂e)=%{y}<extra></extra>",
           "hovertext": [
            "Nigeria"
           ],
           "legendgroup": "Nigeria",
           "marker": {
            "color": "#FFA15A",
            "symbol": "circle"
           },
           "mode": "markers+text",
           "name": "Nigeria",
           "orientation": "v",
           "showlegend": true,
           "text": [
            "Nigeria"
           ],
           "type": "scatter",
           "x": {
            "bdata": "AAAAAAD4kUA=",
            "dtype": "f8"
           },
           "xaxis": "x",
           "y": {
            "bdata": "LUMc6+I2yj8=",
            "dtype": "f8"
           },
           "yaxis": "y"
          },
          {
           "hovertemplate": "<b>%{hovertext}</b><br><br>Country Name=%{text}<br>Year=1988.0<br>Neerslag (mm/jaar)=%{x}<br>Totale landbouwuitstoot (Mt CO₂e)=%{y}<extra></extra>",
           "hovertext": [
            "United States of America"
           ],
           "legendgroup": "United States of America",
           "marker": {
            "color": "#19d3f3",
            "symbol": "circle"
           },
           "mode": "markers+text",
           "name": "United States of America",
           "orientation": "v",
           "showlegend": true,
           "text": [
            "United States of America"
           ],
           "type": "scatter",
           "x": {
            "bdata": "AAAAAABYhkA=",
            "dtype": "f8"
           },
           "xaxis": "x",
           "y": {
            "bdata": "MZkqGJXcUkA=",
            "dtype": "f8"
           },
           "yaxis": "y"
          },
          {
           "hovertemplate": "<b>%{hovertext}</b><br><br>Country Name=%{text}<br>Year=1988.0<br>Neerslag (mm/jaar)=%{x}<br>Totale landbouwuitstoot (Mt CO₂e)=%{y}<extra></extra>",
           "hovertext": [
            "South Africa"
           ],
           "legendgroup": "South Africa",
           "marker": {
            "color": "#FF6692",
            "symbol": "circle"
           },
           "mode": "markers+text",
           "name": "South Africa",
           "orientation": "v",
           "showlegend": true,
           "text": [
            "South Africa"
           ],
           "type": "scatter",
           "x": {
            "bdata": "AAAAAADwfkA=",
            "dtype": "f8"
           },
           "xaxis": "x",
           "y": {
            "bdata": "nzws1JrmHUA=",
            "dtype": "f8"
           },
           "yaxis": "y"
          }
         ],
         "name": "1988.0"
        },
        {
         "data": [
          {
           "hovertemplate": "<b>%{hovertext}</b><br><br>Country Name=%{text}<br>Year=1989.0<br>Neerslag (mm/jaar)=%{x}<br>Totale landbouwuitstoot (Mt CO₂e)=%{y}<extra></extra>",
           "hovertext": [
            "Brazil"
           ],
           "legendgroup": "Brazil",
           "marker": {
            "color": "#636efa",
            "symbol": "circle"
           },
           "mode": "markers+text",
           "name": "Brazil",
           "orientation": "v",
           "showlegend": true,
           "text": [
            "Brazil"
           ],
           "type": "scatter",
           "x": {
            "bdata": "AAAAAADYm0A=",
            "dtype": "f8"
           },
           "xaxis": "x",
           "y": {
            "bdata": "jLlrCfkgOUA=",
            "dtype": "f8"
           },
           "yaxis": "y"
          },
          {
           "hovertemplate": "<b>%{hovertext}</b><br><br>Country Name=%{text}<br>Year=1989.0<br>Neerslag (mm/jaar)=%{x}<br>Totale landbouwuitstoot (Mt CO₂e)=%{y}<extra></extra>",
           "hovertext": [
            "Indonesia"
           ],
           "legendgroup": "Indonesia",
           "marker": {
            "color": "#EF553B",
            "symbol": "circle"
           },
           "mode": "markers+text",
           "name": "Indonesia",
           "orientation": "v",
           "showlegend": true,
           "text": [
            "Indonesia"
           ],
           "type": "scatter",
           "x": {
            "bdata": "AAAAAAAcpUA=",
            "dtype": "f8"
           },
           "xaxis": "x",
           "y": {
            "bdata": "ppvEILBy9D8=",
            "dtype": "f8"
           },
           "yaxis": "y"
          },
          {
           "hovertemplate": "<b>%{hovertext}</b><br><br>Country Name=%{text}<br>Year=1989.0<br>Neerslag (mm/jaar)=%{x}<br>Totale landbouwuitstoot (Mt CO₂e)=%{y}<extra></extra>",
           "hovertext": [
            "India"
           ],
           "legendgroup": "India",
           "marker": {
            "color": "#00cc96",
            "symbol": "circle"
           },
           "mode": "markers+text",
           "name": "India",
           "orientation": "v",
           "showlegend": true,
           "text": [
            "India"
           ],
           "type": "scatter",
           "x": {
            "bdata": "AAAAAADskEA=",
            "dtype": "f8"
           },
           "xaxis": "x",
           "y": {
            "bdata": "001iEFixV0A=",
            "dtype": "f8"
           },
           "yaxis": "y"
          },
          {
           "hovertemplate": "<b>%{hovertext}</b><br><br>Country Name=%{text}<br>Year=1989.0<br>Neerslag (mm/jaar)=%{x}<br>Totale landbouwuitstoot (Mt CO₂e)=%{y}<extra></extra>",
           "hovertext": [
            "Japan"
           ],
           "legendgroup": "Japan",
           "marker": {
            "color": "#ab63fa",
            "symbol": "circle"
           },
           "mode": "markers+text",
           "name": "Japan",
           "orientation": "v",
           "showlegend": true,
           "text": [
            "Japan"
           ],
           "type": "scatter",
           "x": {
            "bdata": "AAAAAAAQmkA=",
            "dtype": "f8"
           },
           "xaxis": "x",
           "y": {
            "bdata": "TYQNT6+U9z8=",
            "dtype": "f8"
           },
           "yaxis": "y"
          },
          {
           "hovertemplate": "<b>%{hovertext}</b><br><br>Country Name=%{text}<br>Year=1989.0<br>Neerslag (mm/jaar)=%{x}<br>Totale landbouwuitstoot (Mt CO₂e)=%{y}<extra></extra>",
           "hovertext": [
            "Nigeria"
           ],
           "legendgroup": "Nigeria",
           "marker": {
            "color": "#FFA15A",
            "symbol": "circle"
           },
           "mode": "markers+text",
           "name": "Nigeria",
           "orientation": "v",
           "showlegend": true,
           "text": [
            "Nigeria"
           ],
           "type": "scatter",
           "x": {
            "bdata": "AAAAAAD4kUA=",
            "dtype": "f8"
           },
           "xaxis": "x",
           "y": {
            "bdata": "JnUCmggbzj8=",
            "dtype": "f8"
           },
           "yaxis": "y"
          },
          {
           "hovertemplate": "<b>%{hovertext}</b><br><br>Country Name=%{text}<br>Year=1989.0<br>Neerslag (mm/jaar)=%{x}<br>Totale landbouwuitstoot (Mt CO₂e)=%{y}<extra></extra>",
           "hovertext": [
            "United States of America"
           ],
           "legendgroup": "United States of America",
           "marker": {
            "color": "#19d3f3",
            "symbol": "circle"
           },
           "mode": "markers+text",
           "name": "United States of America",
           "orientation": "v",
           "showlegend": true,
           "text": [
            "United States of America"
           ],
           "type": "scatter",
           "x": {
            "bdata": "AAAAAABYhkA=",
            "dtype": "f8"
           },
           "xaxis": "x",
           "y": {
            "bdata": "uriNBvC2VUA=",
            "dtype": "f8"
           },
           "yaxis": "y"
          },
          {
           "hovertemplate": "<b>%{hovertext}</b><br><br>Country Name=%{text}<br>Year=1989.0<br>Neerslag (mm/jaar)=%{x}<br>Totale landbouwuitstoot (Mt CO₂e)=%{y}<extra></extra>",
           "hovertext": [
            "South Africa"
           ],
           "legendgroup": "South Africa",
           "marker": {
            "color": "#FF6692",
            "symbol": "circle"
           },
           "mode": "markers+text",
           "name": "South Africa",
           "orientation": "v",
           "showlegend": true,
           "text": [
            "South Africa"
           ],
           "type": "scatter",
           "x": {
            "bdata": "AAAAAADwfkA=",
            "dtype": "f8"
           },
           "xaxis": "x",
           "y": {
            "bdata": "nu+nxks3GUA=",
            "dtype": "f8"
           },
           "yaxis": "y"
          }
         ],
         "name": "1989.0"
        },
        {
         "data": [
          {
           "hovertemplate": "<b>%{hovertext}</b><br><br>Country Name=%{text}<br>Year=1990.0<br>Neerslag (mm/jaar)=%{x}<br>Totale landbouwuitstoot (Mt CO₂e)=%{y}<extra></extra>",
           "hovertext": [
            "Brazil"
           ],
           "legendgroup": "Brazil",
           "marker": {
            "color": "#636efa",
            "symbol": "circle"
           },
           "mode": "markers+text",
           "name": "Brazil",
           "orientation": "v",
           "showlegend": true,
           "text": [
            "Brazil"
           ],
           "type": "scatter",
           "x": {
            "bdata": "AAAAAADYm0A=",
            "dtype": "f8"
           },
           "xaxis": "x",
           "y": {
            "bdata": "9GxWfa5WN0A=",
            "dtype": "f8"
           },
           "yaxis": "y"
          },
          {
           "hovertemplate": "<b>%{hovertext}</b><br><br>Country Name=%{text}<br>Year=1990.0<br>Neerslag (mm/jaar)=%{x}<br>Totale landbouwuitstoot (Mt CO₂e)=%{y}<extra></extra>",
           "hovertext": [
            "Indonesia"
           ],
           "legendgroup": "Indonesia",
           "marker": {
            "color": "#EF553B",
            "symbol": "circle"
           },
           "mode": "markers+text",
           "name": "Indonesia",
           "orientation": "v",
           "showlegend": true,
           "text": [
            "Indonesia"
           ],
           "type": "scatter",
           "x": {
            "bdata": "AAAAAAAcpUA=",
            "dtype": "f8"
           },
           "xaxis": "x",
           "y": {
            "bdata": "71pCPujZ9D8=",
            "dtype": "f8"
           },
           "yaxis": "y"
          },
          {
           "hovertemplate": "<b>%{hovertext}</b><br><br>Country Name=%{text}<br>Year=1990.0<br>Neerslag (mm/jaar)=%{x}<br>Totale landbouwuitstoot (Mt CO₂e)=%{y}<extra></extra>",
           "hovertext": [
            "India"
           ],
           "legendgroup": "India",
           "marker": {
            "color": "#00cc96",
            "symbol": "circle"
           },
           "mode": "markers+text",
           "name": "India",
           "orientation": "v",
           "showlegend": true,
           "text": [
            "India"
           ],
           "type": "scatter",
           "x": {
            "bdata": "AAAAAADskEA=",
            "dtype": "f8"
           },
           "xaxis": "x",
           "y": {
            "bdata": "ayv2l93zVkA=",
            "dtype": "f8"
           },
           "yaxis": "y"
          },
          {
           "hovertemplate": "<b>%{hovertext}</b><br><br>Country Name=%{text}<br>Year=1990.0<br>Neerslag (mm/jaar)=%{x}<br>Totale landbouwuitstoot (Mt CO₂e)=%{y}<extra></extra>",
           "hovertext": [
            "Japan"
           ],
           "legendgroup": "Japan",
           "marker": {
            "color": "#ab63fa",
            "symbol": "circle"
           },
           "mode": "markers+text",
           "name": "Japan",
           "orientation": "v",
           "showlegend": true,
           "text": [
            "Japan"
           ],
           "type": "scatter",
           "x": {
            "bdata": "AAAAAAAQmkA=",
            "dtype": "f8"
           },
           "xaxis": "x",
           "y": {
            "bdata": "7zhFR3L5CEA=",
            "dtype": "f8"
           },
           "yaxis": "y"
          },
          {
           "hovertemplate": "<b>%{hovertext}</b><br><br>Country Name=%{text}<br>Year=1990.0<br>Neerslag (mm/jaar)=%{x}<br>Totale landbouwuitstoot (Mt CO₂e)=%{y}<extra></extra>",
           "hovertext": [
            "Nigeria"
           ],
           "legendgroup": "Nigeria",
           "marker": {
            "color": "#FFA15A",
            "symbol": "circle"
           },
           "mode": "markers+text",
           "name": "Nigeria",
           "orientation": "v",
           "showlegend": true,
           "text": [
            "Nigeria"
           ],
           "type": "scatter",
           "x": {
            "bdata": "AAAAAAD4kUA=",
            "dtype": "f8"
           },
           "xaxis": "x",
           "y": {
            "bdata": "DpwzorQ30D8=",
            "dtype": "f8"
           },
           "yaxis": "y"
          },
          {
           "hovertemplate": "<b>%{hovertext}</b><br><br>Country Name=%{text}<br>Year=1990.0<br>Neerslag (mm/jaar)=%{x}<br>Totale landbouwuitstoot (Mt CO₂e)=%{y}<extra></extra>",
           "hovertext": [
            "United States of America"
           ],
           "legendgroup": "United States of America",
           "marker": {
            "color": "#19d3f3",
            "symbol": "circle"
           },
           "mode": "markers+text",
           "name": "United States of America",
           "orientation": "v",
           "showlegend": true,
           "text": [
            "United States of America"
           ],
           "type": "scatter",
           "x": {
            "bdata": "AAAAAABYhkA=",
            "dtype": "f8"
           },
           "xaxis": "x",
           "y": {
            "bdata": "cayL22hQX0A=",
            "dtype": "f8"
           },
           "yaxis": "y"
          },
          {
           "hovertemplate": "<b>%{hovertext}</b><br><br>Country Name=%{text}<br>Year=1990.0<br>Neerslag (mm/jaar)=%{x}<br>Totale landbouwuitstoot (Mt CO₂e)=%{y}<extra></extra>",
           "hovertext": [
            "South Africa"
           ],
           "legendgroup": "South Africa",
           "marker": {
            "color": "#FF6692",
            "symbol": "circle"
           },
           "mode": "markers+text",
           "name": "South Africa",
           "orientation": "v",
           "showlegend": true,
           "text": [
            "South Africa"
           ],
           "type": "scatter",
           "x": {
            "bdata": "AAAAAADwfkA=",
            "dtype": "f8"
           },
           "xaxis": "x",
           "y": {
            "bdata": "L90kBoEVFkA=",
            "dtype": "f8"
           },
           "yaxis": "y"
          }
         ],
         "name": "1990.0"
        },
        {
         "data": [
          {
           "hovertemplate": "<b>%{hovertext}</b><br><br>Country Name=%{text}<br>Year=1991.0<br>Neerslag (mm/jaar)=%{x}<br>Totale landbouwuitstoot (Mt CO₂e)=%{y}<extra></extra>",
           "hovertext": [
            "Brazil"
           ],
           "legendgroup": "Brazil",
           "marker": {
            "color": "#636efa",
            "symbol": "circle"
           },
           "mode": "markers+text",
           "name": "Brazil",
           "orientation": "v",
           "showlegend": true,
           "text": [
            "Brazil"
           ],
           "type": "scatter",
           "x": {
            "bdata": "AAAAAADYm0A=",
            "dtype": "f8"
           },
           "xaxis": "x",
           "y": {
            "bdata": "B1+YTBWMNUA=",
            "dtype": "f8"
           },
           "yaxis": "y"
          },
          {
           "hovertemplate": "<b>%{hovertext}</b><br><br>Country Name=%{text}<br>Year=1991.0<br>Neerslag (mm/jaar)=%{x}<br>Totale landbouwuitstoot (Mt CO₂e)=%{y}<extra></extra>",
           "hovertext": [
            "Indonesia"
           ],
           "legendgroup": "Indonesia",
           "marker": {
            "color": "#EF553B",
            "symbol": "circle"
           },
           "mode": "markers+text",
           "name": "Indonesia",
           "orientation": "v",
           "showlegend": true,
           "text": [
            "Indonesia"
           ],
           "type": "scatter",
           "x": {
            "bdata": "AAAAAAAcpUA=",
            "dtype": "f8"
           },
           "xaxis": "x",
           "y": {
            "bdata": "jXVxGw3g9T8=",
            "dtype": "f8"
           },
           "yaxis": "y"
          },
          {
           "hovertemplate": "<b>%{hovertext}</b><br><br>Country Name=%{text}<br>Year=1991.0<br>Neerslag (mm/jaar)=%{x}<br>Totale landbouwuitstoot (Mt CO₂e)=%{y}<extra></extra>",
           "hovertext": [
            "India"
           ],
           "legendgroup": "India",
           "marker": {
            "color": "#00cc96",
            "symbol": "circle"
           },
           "mode": "markers+text",
           "name": "India",
           "orientation": "v",
           "showlegend": true,
           "text": [
            "India"
           ],
           "type": "scatter",
           "x": {
            "bdata": "AAAAAADskEA=",
            "dtype": "f8"
           },
           "xaxis": "x",
           "y": {
            "bdata": "JXUCmggrWEA=",
            "dtype": "f8"
           },
           "yaxis": "y"
          },
          {
           "hovertemplate": "<b>%{hovertext}</b><br><br>Country Name=%{text}<br>Year=1991.0<br>Neerslag (mm/jaar)=%{x}<br>Totale landbouwuitstoot (Mt CO₂e)=%{y}<extra></extra>",
           "hovertext": [
            "Japan"
           ],
           "legendgroup": "Japan",
           "marker": {
            "color": "#ab63fa",
            "symbol": "circle"
           },
           "mode": "markers+text",
           "name": "Japan",
           "orientation": "v",
           "showlegend": true,
           "text": [
            "Japan"
           ],
           "type": "scatter",
           "x": {
            "bdata": "AAAAAAAQmkA=",
            "dtype": "f8"
           },
           "xaxis": "x",
           "y": {
            "bdata": "4L4OnDOiBkA=",
            "dtype": "f8"
           },
           "yaxis": "y"
          },
          {
           "hovertemplate": "<b>%{hovertext}</b><br><br>Country Name=%{text}<br>Year=1991.0<br>Neerslag (mm/jaar)=%{x}<br>Totale landbouwuitstoot (Mt CO₂e)=%{y}<extra></extra>",
           "hovertext": [
            "Nigeria"
           ],
           "legendgroup": "Nigeria",
           "marker": {
            "color": "#FFA15A",
            "symbol": "circle"
           },
           "mode": "markers+text",
           "name": "Nigeria",
           "orientation": "v",
           "showlegend": true,
           "text": [
            "Nigeria"
           ],
           "type": "scatter",
           "x": {
            "bdata": "AAAAAAD4kUA=",
            "dtype": "f8"
           },
           "xaxis": "x",
           "y": {
            "bdata": "RwN4CyQozj8=",
            "dtype": "f8"
           },
           "yaxis": "y"
          },
          {
           "hovertemplate": "<b>%{hovertext}</b><br><br>Country Name=%{text}<br>Year=1991.0<br>Neerslag (mm/jaar)=%{x}<br>Totale landbouwuitstoot (Mt CO₂e)=%{y}<extra></extra>",
           "hovertext": [
            "United States of America"
           ],
           "legendgroup": "United States of America",
           "marker": {
            "color": "#19d3f3",
            "symbol": "circle"
           },
           "mode": "markers+text",
           "name": "United States of America",
           "orientation": "v",
           "showlegend": true,
           "text": [
            "United States of America"
           ],
           "type": "scatter",
           "x": {
            "bdata": "AAAAAABYhkA=",
            "dtype": "f8"
           },
           "xaxis": "x",
           "y": {
            "bdata": "Y3/ZPXlgWUA=",
            "dtype": "f8"
           },
           "yaxis": "y"
          },
          {
           "hovertemplate": "<b>%{hovertext}</b><br><br>Country Name=%{text}<br>Year=1991.0<br>Neerslag (mm/jaar)=%{x}<br>Totale landbouwuitstoot (Mt CO₂e)=%{y}<extra></extra>",
           "hovertext": [
            "South Africa"
           ],
           "legendgroup": "South Africa",
           "marker": {
            "color": "#FF6692",
            "symbol": "circle"
           },
           "mode": "markers+text",
           "name": "South Africa",
           "orientation": "v",
           "showlegend": true,
           "text": [
            "South Africa"
           ],
           "type": "scatter",
           "x": {
            "bdata": "AAAAAADwfkA=",
            "dtype": "f8"
           },
           "xaxis": "x",
           "y": {
            "bdata": "RNjw9ErZFUA=",
            "dtype": "f8"
           },
           "yaxis": "y"
          }
         ],
         "name": "1991.0"
        },
        {
         "data": [
          {
           "hovertemplate": "<b>%{hovertext}</b><br><br>Country Name=%{text}<br>Year=1992.0<br>Neerslag (mm/jaar)=%{x}<br>Totale landbouwuitstoot (Mt CO₂e)=%{y}<extra></extra>",
           "hovertext": [
            "Brazil"
           ],
           "legendgroup": "Brazil",
           "marker": {
            "color": "#636efa",
            "symbol": "circle"
           },
           "mode": "markers+text",
           "name": "Brazil",
           "orientation": "v",
           "showlegend": true,
           "text": [
            "Brazil"
           ],
           "type": "scatter",
           "x": {
            "bdata": "AAAAAACEm0A=",
            "dtype": "f8"
           },
           "xaxis": "x",
           "y": {
            "bdata": "UiegibBBNUA=",
            "dtype": "f8"
           },
           "yaxis": "y"
          },
          {
           "hovertemplate": "<b>%{hovertext}</b><br><br>Country Name=%{text}<br>Year=1992.0<br>Neerslag (mm/jaar)=%{x}<br>Totale landbouwuitstoot (Mt CO₂e)=%{y}<extra></extra>",
           "hovertext": [
            "Indonesia"
           ],
           "legendgroup": "Indonesia",
           "marker": {
            "color": "#EF553B",
            "symbol": "circle"
           },
           "mode": "markers+text",
           "name": "Indonesia",
           "orientation": "v",
           "showlegend": true,
           "text": [
            "Indonesia"
           ],
           "type": "scatter",
           "x": {
            "bdata": "AAAAAAAcpUA=",
            "dtype": "f8"
           },
           "xaxis": "x",
           "y": {
            "bdata": "AiuHFtnO9z8=",
            "dtype": "f8"
           },
           "yaxis": "y"
          },
          {
           "hovertemplate": "<b>%{hovertext}</b><br><br>Country Name=%{text}<br>Year=1992.0<br>Neerslag (mm/jaar)=%{x}<br>Totale landbouwuitstoot (Mt CO₂e)=%{y}<extra></extra>",
           "hovertext": [
            "India"
           ],
           "legendgroup": "India",
           "marker": {
            "color": "#00cc96",
            "symbol": "circle"
           },
           "mode": "markers+text",
           "name": "India",
           "orientation": "v",
           "showlegend": true,
           "text": [
            "India"
           ],
           "type": "scatter",
           "x": {
            "bdata": "AAAAAADskEA=",
            "dtype": "f8"
           },
           "xaxis": "x",
           "y": {
            "bdata": "gpVDi2znV0A=",
            "dtype": "f8"
           },
           "yaxis": "y"
          },
          {
           "hovertemplate": "<b>%{hovertext}</b><br><br>Country Name=%{text}<br>Year=1992.0<br>Neerslag (mm/jaar)=%{x}<br>Totale landbouwuitstoot (Mt CO₂e)=%{y}<extra></extra>",
           "hovertext": [
            "Japan"
           ],
           "legendgroup": "Japan",
           "marker": {
            "color": "#ab63fa",
            "symbol": "circle"
           },
           "mode": "markers+text",
           "name": "Japan",
           "orientation": "v",
           "showlegend": true,
           "text": [
            "Japan"
           ],
           "type": "scatter",
           "x": {
            "bdata": "AAAAAAAQmkA=",
            "dtype": "f8"
           },
           "xaxis": "x",
           "y": {
            "bdata": "c9cS8kHPBEA=",
            "dtype": "f8"
           },
           "yaxis": "y"
          },
          {
           "hovertemplate": "<b>%{hovertext}</b><br><br>Country Name=%{text}<br>Year=1992.0<br>Neerslag (mm/jaar)=%{x}<br>Totale landbouwuitstoot (Mt CO₂e)=%{y}<extra></extra>",
           "hovertext": [
            "Nigeria"
           ],
           "legendgroup": "Nigeria",
           "marker": {
            "color": "#FFA15A",
            "symbol": "circle"
           },
           "mode": "markers+text",
           "name": "Nigeria",
           "orientation": "v",
           "showlegend": true,
           "text": [
            "Nigeria"
           ],
           "type": "scatter",
           "x": {
            "bdata": "AAAAAAD4kUA=",
            "dtype": "f8"
           },
           "xaxis": "x",
           "y": {
            "bdata": "XrpJDAIrxz8=",
            "dtype": "f8"
           },
           "yaxis": "y"
          },
          {
           "hovertemplate": "<b>%{hovertext}</b><br><br>Country Name=%{text}<br>Year=1992.0<br>Neerslag (mm/jaar)=%{x}<br>Totale landbouwuitstoot (Mt CO₂e)=%{y}<extra></extra>",
           "hovertext": [
            "United States of America"
           ],
           "legendgroup": "United States of America",
           "marker": {
            "color": "#19d3f3",
            "symbol": "circle"
           },
           "mode": "markers+text",
           "name": "United States of America",
           "orientation": "v",
           "showlegend": true,
           "text": [
            "United States of America"
           ],
           "type": "scatter",
           "x": {
            "bdata": "AAAAAABYhkA=",
            "dtype": "f8"
           },
           "xaxis": "x",
           "y": {
            "bdata": "klz+Q/r9XEA=",
            "dtype": "f8"
           },
           "yaxis": "y"
          },
          {
           "hovertemplate": "<b>%{hovertext}</b><br><br>Country Name=%{text}<br>Year=1992.0<br>Neerslag (mm/jaar)=%{x}<br>Totale landbouwuitstoot (Mt CO₂e)=%{y}<extra></extra>",
           "hovertext": [
            "South Africa"
           ],
           "legendgroup": "South Africa",
           "marker": {
            "color": "#FF6692",
            "symbol": "circle"
           },
           "mode": "markers+text",
           "name": "South Africa",
           "orientation": "v",
           "showlegend": true,
           "text": [
            "South Africa"
           ],
           "type": "scatter",
           "x": {
            "bdata": "AAAAAADwfkA=",
            "dtype": "f8"
           },
           "xaxis": "x",
           "y": {
            "bdata": "BoGVQ4tsC0A=",
            "dtype": "f8"
           },
           "yaxis": "y"
          }
         ],
         "name": "1992.0"
        },
        {
         "data": [
          {
           "hovertemplate": "<b>%{hovertext}</b><br><br>Country Name=%{text}<br>Year=1993.0<br>Neerslag (mm/jaar)=%{x}<br>Totale landbouwuitstoot (Mt CO₂e)=%{y}<extra></extra>",
           "hovertext": [
            "Brazil"
           ],
           "legendgroup": "Brazil",
           "marker": {
            "color": "#636efa",
            "symbol": "circle"
           },
           "mode": "markers+text",
           "name": "Brazil",
           "orientation": "v",
           "showlegend": true,
           "text": [
            "Brazil"
           ],
           "type": "scatter",
           "x": {
            "bdata": "AAAAAADYm0A=",
            "dtype": "f8"
           },
           "xaxis": "x",
           "y": {
            "bdata": "wvUoXI+iMkA=",
            "dtype": "f8"
           },
           "yaxis": "y"
          },
          {
           "hovertemplate": "<b>%{hovertext}</b><br><br>Country Name=%{text}<br>Year=1993.0<br>Neerslag (mm/jaar)=%{x}<br>Totale landbouwuitstoot (Mt CO₂e)=%{y}<extra></extra>",
           "hovertext": [
            "Indonesia"
           ],
           "legendgroup": "Indonesia",
           "marker": {
            "color": "#EF553B",
            "symbol": "circle"
           },
           "mode": "markers+text",
           "name": "Indonesia",
           "orientation": "v",
           "showlegend": true,
           "text": [
            "Indonesia"
           ],
           "type": "scatter",
           "x": {
            "bdata": "AAAAAAAcpUA=",
            "dtype": "f8"
           },
           "xaxis": "x",
           "y": {
            "bdata": "CKwcWmQ7+T8=",
            "dtype": "f8"
           },
           "yaxis": "y"
          },
          {
           "hovertemplate": "<b>%{hovertext}</b><br><br>Country Name=%{text}<br>Year=1993.0<br>Neerslag (mm/jaar)=%{x}<br>Totale landbouwuitstoot (Mt CO₂e)=%{y}<extra></extra>",
           "hovertext": [
            "India"
           ],
           "legendgroup": "India",
           "marker": {
            "color": "#00cc96",
            "symbol": "circle"
           },
           "mode": "markers+text",
           "name": "India",
           "orientation": "v",
           "showlegend": true,
           "text": [
            "India"
           ],
           "type": "scatter",
           "x": {
            "bdata": "AAAAAADskEA=",
            "dtype": "f8"
           },
           "xaxis": "x",
           "y": {
            "bdata": "h6dXyjKkWEA=",
            "dtype": "f8"
           },
           "yaxis": "y"
          },
          {
           "hovertemplate": "<b>%{hovertext}</b><br><br>Country Name=%{text}<br>Year=1993.0<br>Neerslag (mm/jaar)=%{x}<br>Totale landbouwuitstoot (Mt CO₂e)=%{y}<extra></extra>",
           "hovertext": [
            "Japan"
           ],
           "legendgroup": "Japan",
           "marker": {
            "color": "#ab63fa",
            "symbol": "circle"
           },
           "mode": "markers+text",
           "name": "Japan",
           "orientation": "v",
           "showlegend": true,
           "text": [
            "Japan"
           ],
           "type": "scatter",
           "x": {
            "bdata": "AAAAAAAQmkA=",
            "dtype": "f8"
           },
           "xaxis": "x",
           "y": {
            "bdata": "ZapgVFInAkA=",
            "dtype": "f8"
           },
           "yaxis": "y"
          },
          {
           "hovertemplate": "<b>%{hovertext}</b><br><br>Country Name=%{text}<br>Year=1993.0<br>Neerslag (mm/jaar)=%{x}<br>Totale landbouwuitstoot (Mt CO₂e)=%{y}<extra></extra>",
           "hovertext": [
            "Nigeria"
           ],
           "legendgroup": "Nigeria",
           "marker": {
            "color": "#FFA15A",
            "symbol": "circle"
           },
           "mode": "markers+text",
           "name": "Nigeria",
           "orientation": "v",
           "showlegend": true,
           "text": [
            "Nigeria"
           ],
           "type": "scatter",
           "x": {
            "bdata": "AAAAAAD4kUA=",
            "dtype": "f8"
           },
           "xaxis": "x",
           "y": {
            "bdata": "46WbxCCwwj8=",
            "dtype": "f8"
           },
           "yaxis": "y"
          },
          {
           "hovertemplate": "<b>%{hovertext}</b><br><br>Country Name=%{text}<br>Year=1993.0<br>Neerslag (mm/jaar)=%{x}<br>Totale landbouwuitstoot (Mt CO₂e)=%{y}<extra></extra>",
           "hovertext": [
            "United States of America"
           ],
           "legendgroup": "United States of America",
           "marker": {
            "color": "#19d3f3",
            "symbol": "circle"
           },
           "mode": "markers+text",
           "name": "United States of America",
           "orientation": "v",
           "showlegend": true,
           "text": [
            "United States of America"
           ],
           "type": "scatter",
           "x": {
            "bdata": "AAAAAABYhkA=",
            "dtype": "f8"
           },
           "xaxis": "x",
           "y": {
            "bdata": "kH77OnA2XUA=",
            "dtype": "f8"
           },
           "yaxis": "y"
          },
          {
           "hovertemplate": "<b>%{hovertext}</b><br><br>Country Name=%{text}<br>Year=1993.0<br>Neerslag (mm/jaar)=%{x}<br>Totale landbouwuitstoot (Mt CO₂e)=%{y}<extra></extra>",
           "hovertext": [
            "South Africa"
           ],
           "legendgroup": "South Africa",
           "marker": {
            "color": "#FF6692",
            "symbol": "circle"
           },
           "mode": "markers+text",
           "name": "South Africa",
           "orientation": "v",
           "showlegend": true,
           "text": [
            "South Africa"
           ],
           "type": "scatter",
           "x": {
            "bdata": "AAAAAADwfkA=",
            "dtype": "f8"
           },
           "xaxis": "x",
           "y": {
            "bdata": "3GgAb4EEEkA=",
            "dtype": "f8"
           },
           "yaxis": "y"
          }
         ],
         "name": "1993.0"
        },
        {
         "data": [
          {
           "hovertemplate": "<b>%{hovertext}</b><br><br>Country Name=%{text}<br>Year=1994.0<br>Neerslag (mm/jaar)=%{x}<br>Totale landbouwuitstoot (Mt CO₂e)=%{y}<extra></extra>",
           "hovertext": [
            "Brazil"
           ],
           "legendgroup": "Brazil",
           "marker": {
            "color": "#636efa",
            "symbol": "circle"
           },
           "mode": "markers+text",
           "name": "Brazil",
           "orientation": "v",
           "showlegend": true,
           "text": [
            "Brazil"
           ],
           "type": "scatter",
           "x": {
            "bdata": "AAAAAADYm0A=",
            "dtype": "f8"
           },
           "xaxis": "x",
           "y": {
            "bdata": "MEymCkYFNEA=",
            "dtype": "f8"
           },
           "yaxis": "y"
          },
          {
           "hovertemplate": "<b>%{hovertext}</b><br><br>Country Name=%{text}<br>Year=1994.0<br>Neerslag (mm/jaar)=%{x}<br>Totale landbouwuitstoot (Mt CO₂e)=%{y}<extra></extra>",
           "hovertext": [
            "Indonesia"
           ],
           "legendgroup": "Indonesia",
           "marker": {
            "color": "#EF553B",
            "symbol": "circle"
           },
           "mode": "markers+text",
           "name": "Indonesia",
           "orientation": "v",
           "showlegend": true,
           "text": [
            "Indonesia"
           ],
           "type": "scatter",
           "x": {
            "bdata": "AAAAAAAcpUA=",
            "dtype": "f8"
           },
           "xaxis": "x",
           "y": {
            "bdata": "5fIf0m9f+T8=",
            "dtype": "f8"
           },
           "yaxis": "y"
          },
          {
           "hovertemplate": "<b>%{hovertext}</b><br><br>Country Name=%{text}<br>Year=1994.0<br>Neerslag (mm/jaar)=%{x}<br>Totale landbouwuitstoot (Mt CO₂e)=%{y}<extra></extra>",
           "hovertext": [
            "India"
           ],
           "legendgroup": "India",
           "marker": {
            "color": "#00cc96",
            "symbol": "circle"
           },
           "mode": "markers+text",
           "name": "India",
           "orientation": "v",
           "showlegend": true,
           "text": [
            "India"
           ],
           "type": "scatter",
           "x": {
            "bdata": "AAAAAADskEA=",
            "dtype": "f8"
           },
           "xaxis": "x",
           "y": {
            "bdata": "IR/0bFYVWUA=",
            "dtype": "f8"
           },
           "yaxis": "y"
          },
          {
           "hovertemplate": "<b>%{hovertext}</b><br><br>Country Name=%{text}<br>Year=1994.0<br>Neerslag (mm/jaar)=%{x}<br>Totale landbouwuitstoot (Mt CO₂e)=%{y}<extra></extra>",
           "hovertext": [
            "Japan"
           ],
           "legendgroup": "Japan",
           "marker": {
            "color": "#ab63fa",
            "symbol": "circle"
           },
           "mode": "markers+text",
           "name": "Japan",
           "orientation": "v",
           "showlegend": true,
           "text": [
            "Japan"
           ],
           "type": "scatter",
           "x": {
            "bdata": "AAAAAAAQmkA=",
            "dtype": "f8"
           },
           "xaxis": "x",
           "y": {
            "bdata": "1CtlGeJY/z8=",
            "dtype": "f8"
           },
           "yaxis": "y"
          },
          {
           "hovertemplate": "<b>%{hovertext}</b><br><br>Country Name=%{text}<br>Year=1994.0<br>Neerslag (mm/jaar)=%{x}<br>Totale landbouwuitstoot (Mt CO₂e)=%{y}<extra></extra>",
           "hovertext": [
            "Nigeria"
           ],
           "legendgroup": "Nigeria",
           "marker": {
            "color": "#FFA15A",
            "symbol": "circle"
           },
           "mode": "markers+text",
           "name": "Nigeria",
           "orientation": "v",
           "showlegend": true,
           "text": [
            "Nigeria"
           ],
           "type": "scatter",
           "x": {
            "bdata": "AAAAAAD4kUA=",
            "dtype": "f8"
           },
           "xaxis": "x",
           "y": {
            "bdata": "oBov3SQGwT8=",
            "dtype": "f8"
           },
           "yaxis": "y"
          },
          {
           "hovertemplate": "<b>%{hovertext}</b><br><br>Country Name=%{text}<br>Year=1994.0<br>Neerslag (mm/jaar)=%{x}<br>Totale landbouwuitstoot (Mt CO₂e)=%{y}<extra></extra>",
           "hovertext": [
            "United States of America"
           ],
           "legendgroup": "United States of America",
           "marker": {
            "color": "#19d3f3",
            "symbol": "circle"
           },
           "mode": "markers+text",
           "name": "United States of America",
           "orientation": "v",
           "showlegend": true,
           "text": [
            "United States of America"
           ],
           "type": "scatter",
           "x": {
            "bdata": "AAAAAABYhkA=",
            "dtype": "f8"
           },
           "xaxis": "x",
           "y": {
            "bdata": "dEaU9ganW0A=",
            "dtype": "f8"
           },
           "yaxis": "y"
          },
          {
           "hovertemplate": "<b>%{hovertext}</b><br><br>Country Name=%{text}<br>Year=1994.0<br>Neerslag (mm/jaar)=%{x}<br>Totale landbouwuitstoot (Mt CO₂e)=%{y}<extra></extra>",
           "hovertext": [
            "South Africa"
           ],
           "legendgroup": "South Africa",
           "marker": {
            "color": "#FF6692",
            "symbol": "circle"
           },
           "mode": "markers+text",
           "name": "South Africa",
           "orientation": "v",
           "showlegend": true,
           "text": [
            "South Africa"
           ],
           "type": "scatter",
           "x": {
            "bdata": "AAAAAADwfkA=",
            "dtype": "f8"
           },
           "xaxis": "x",
           "y": {
            "bdata": "2j15WKi1EUA=",
            "dtype": "f8"
           },
           "yaxis": "y"
          }
         ],
         "name": "1994.0"
        },
        {
         "data": [
          {
           "hovertemplate": "<b>%{hovertext}</b><br><br>Country Name=%{text}<br>Year=1995.0<br>Neerslag (mm/jaar)=%{x}<br>Totale landbouwuitstoot (Mt CO₂e)=%{y}<extra></extra>",
           "hovertext": [
            "Brazil"
           ],
           "legendgroup": "Brazil",
           "marker": {
            "color": "#636efa",
            "symbol": "circle"
           },
           "mode": "markers+text",
           "name": "Brazil",
           "orientation": "v",
           "showlegend": true,
           "text": [
            "Brazil"
           ],
           "type": "scatter",
           "x": {
            "bdata": "AAAAAADYm0A=",
            "dtype": "f8"
           },
           "xaxis": "x",
           "y": {
            "bdata": "2V92Tx62M0A=",
            "dtype": "f8"
           },
           "yaxis": "y"
          },
          {
           "hovertemplate": "<b>%{hovertext}</b><br><br>Country Name=%{text}<br>Year=1995.0<br>Neerslag (mm/jaar)=%{x}<br>Totale landbouwuitstoot (Mt CO₂e)=%{y}<extra></extra>",
           "hovertext": [
            "Indonesia"
           ],
           "legendgroup": "Indonesia",
           "marker": {
            "color": "#EF553B",
            "symbol": "circle"
           },
           "mode": "markers+text",
           "name": "Indonesia",
           "orientation": "v",
           "showlegend": true,
           "text": [
            "Indonesia"
           ],
           "type": "scatter",
           "x": {
            "bdata": "AAAAAAAcpUA=",
            "dtype": "f8"
           },
           "xaxis": "x",
           "y": {
            "bdata": "b4EExY8x+T8=",
            "dtype": "f8"
           },
           "yaxis": "y"
          },
          {
           "hovertemplate": "<b>%{hovertext}</b><br><br>Country Name=%{text}<br>Year=1995.0<br>Neerslag (mm/jaar)=%{x}<br>Totale landbouwuitstoot (Mt CO₂e)=%{y}<extra></extra>",
           "hovertext": [
            "India"
           ],
           "legendgroup": "India",
           "marker": {
            "color": "#00cc96",
            "symbol": "circle"
           },
           "mode": "markers+text",
           "name": "India",
           "orientation": "v",
           "showlegend": true,
           "text": [
            "India"
           ],
           "type": "scatter",
           "x": {
            "bdata": "AAAAAADskEA=",
            "dtype": "f8"
           },
           "xaxis": "x",
           "y": {
            "bdata": "TKYKRiV9WkA=",
            "dtype": "f8"
           },
           "yaxis": "y"
          },
          {
           "hovertemplate": "<b>%{hovertext}</b><br><br>Country Name=%{text}<br>Year=1995.0<br>Neerslag (mm/jaar)=%{x}<br>Totale landbouwuitstoot (Mt CO₂e)=%{y}<extra></extra>",
           "hovertext": [
            "Japan"
           ],
           "legendgroup": "Japan",
           "marker": {
            "color": "#ab63fa",
            "symbol": "circle"
           },
           "mode": "markers+text",
           "name": "Japan",
           "orientation": "v",
           "showlegend": true,
           "text": [
            "Japan"
           ],
           "type": "scatter",
           "x": {
            "bdata": "AAAAAAAQmkA=",
            "dtype": "f8"
           },
           "xaxis": "x",
           "y": {
            "bdata": "l/+Qfvs6/j8=",
            "dtype": "f8"
           },
           "yaxis": "y"
          },
          {
           "hovertemplate": "<b>%{hovertext}</b><br><br>Country Name=%{text}<br>Year=1995.0<br>Neerslag (mm/jaar)=%{x}<br>Totale landbouwuitstoot (Mt CO₂e)=%{y}<extra></extra>",
           "hovertext": [
            "Nigeria"
           ],
           "legendgroup": "Nigeria",
           "marker": {
            "color": "#FFA15A",
            "symbol": "circle"
           },
           "mode": "markers+text",
           "name": "Nigeria",
           "orientation": "v",
           "showlegend": true,
           "text": [
            "Nigeria"
           ],
           "type": "scatter",
           "x": {
            "bdata": "AAAAAAD4kUA=",
            "dtype": "f8"
           },
           "xaxis": "x",
           "y": {
            "bdata": "mN2Th4Vawz8=",
            "dtype": "f8"
           },
           "yaxis": "y"
          },
          {
           "hovertemplate": "<b>%{hovertext}</b><br><br>Country Name=%{text}<br>Year=1995.0<br>Neerslag (mm/jaar)=%{x}<br>Totale landbouwuitstoot (Mt CO₂e)=%{y}<extra></extra>",
           "hovertext": [
            "United States of America"
           ],
           "legendgroup": "United States of America",
           "marker": {
            "color": "#19d3f3",
            "symbol": "circle"
           },
           "mode": "markers+text",
           "name": "United States of America",
           "orientation": "v",
           "showlegend": true,
           "text": [
            "United States of America"
           ],
           "type": "scatter",
           "x": {
            "bdata": "AAAAAABYhkA=",
            "dtype": "f8"
           },
           "xaxis": "x",
           "y": {
            "bdata": "oBov3SRWWkA=",
            "dtype": "f8"
           },
           "yaxis": "y"
          },
          {
           "hovertemplate": "<b>%{hovertext}</b><br><br>Country Name=%{text}<br>Year=1995.0<br>Neerslag (mm/jaar)=%{x}<br>Totale landbouwuitstoot (Mt CO₂e)=%{y}<extra></extra>",
           "hovertext": [
            "South Africa"
           ],
           "legendgroup": "South Africa",
           "marker": {
            "color": "#FF6692",
            "symbol": "circle"
           },
           "mode": "markers+text",
           "name": "South Africa",
           "orientation": "v",
           "showlegend": true,
           "text": [
            "South Africa"
           ],
           "type": "scatter",
           "x": {
            "bdata": "AAAAAADwfkA=",
            "dtype": "f8"
           },
           "xaxis": "x",
           "y": {
            "bdata": "XCBB8WPMFEA=",
            "dtype": "f8"
           },
           "yaxis": "y"
          }
         ],
         "name": "1995.0"
        },
        {
         "data": [
          {
           "hovertemplate": "<b>%{hovertext}</b><br><br>Country Name=%{text}<br>Year=1996.0<br>Neerslag (mm/jaar)=%{x}<br>Totale landbouwuitstoot (Mt CO₂e)=%{y}<extra></extra>",
           "hovertext": [
            "Brazil"
           ],
           "legendgroup": "Brazil",
           "marker": {
            "color": "#636efa",
            "symbol": "circle"
           },
           "mode": "markers+text",
           "name": "Brazil",
           "orientation": "v",
           "showlegend": true,
           "text": [
            "Brazil"
           ],
           "type": "scatter",
           "x": {
            "bdata": "AAAAAADYm0A=",
            "dtype": "f8"
           },
           "xaxis": "x",
           "y": {
            "bdata": "xSCwcmgRN0A=",
            "dtype": "f8"
           },
           "yaxis": "y"
          },
          {
           "hovertemplate": "<b>%{hovertext}</b><br><br>Country Name=%{text}<br>Year=1996.0<br>Neerslag (mm/jaar)=%{x}<br>Totale landbouwuitstoot (Mt CO₂e)=%{y}<extra></extra>",
           "hovertext": [
            "Indonesia"
           ],
           "legendgroup": "Indonesia",
           "marker": {
            "color": "#EF553B",
            "symbol": "circle"
           },
           "mode": "markers+text",
           "name": "Indonesia",
           "orientation": "v",
           "showlegend": true,
           "text": [
            "Indonesia"
           ],
           "type": "scatter",
           "x": {
            "bdata": "AAAAAAAcpUA=",
            "dtype": "f8"
           },
           "xaxis": "x",
           "y": {
            "bdata": "SL99HThn+j8=",
            "dtype": "f8"
           },
           "yaxis": "y"
          },
          {
           "hovertemplate": "<b>%{hovertext}</b><br><br>Country Name=%{text}<br>Year=1996.0<br>Neerslag (mm/jaar)=%{x}<br>Totale landbouwuitstoot (Mt CO₂e)=%{y}<extra></extra>",
           "hovertext": [
            "India"
           ],
           "legendgroup": "India",
           "marker": {
            "color": "#00cc96",
            "symbol": "circle"
           },
           "mode": "markers+text",
           "name": "India",
           "orientation": "v",
           "showlegend": true,
           "text": [
            "India"
           ],
           "type": "scatter",
           "x": {
            "bdata": "AAAAAADskEA=",
            "dtype": "f8"
           },
           "xaxis": "x",
           "y": {
            "bdata": "t9EA3gLxWUA=",
            "dtype": "f8"
           },
           "yaxis": "y"
          },
          {
           "hovertemplate": "<b>%{hovertext}</b><br><br>Country Name=%{text}<br>Year=1996.0<br>Neerslag (mm/jaar)=%{x}<br>Totale landbouwuitstoot (Mt CO₂e)=%{y}<extra></extra>",
           "hovertext": [
            "Japan"
           ],
           "legendgroup": "Japan",
           "marker": {
            "color": "#ab63fa",
            "symbol": "circle"
           },
           "mode": "markers+text",
           "name": "Japan",
           "orientation": "v",
           "showlegend": true,
           "text": [
            "Japan"
           ],
           "type": "scatter",
           "x": {
            "bdata": "AAAAAAAQmkA=",
            "dtype": "f8"
           },
           "xaxis": "x",
           "y": {
            "bdata": "u5aQD3o2/z8=",
            "dtype": "f8"
           },
           "yaxis": "y"
          },
          {
           "hovertemplate": "<b>%{hovertext}</b><br><br>Country Name=%{text}<br>Year=1996.0<br>Neerslag (mm/jaar)=%{x}<br>Totale landbouwuitstoot (Mt CO₂e)=%{y}<extra></extra>",
           "hovertext": [
            "Nigeria"
           ],
           "legendgroup": "Nigeria",
           "marker": {
            "color": "#FFA15A",
            "symbol": "circle"
           },
           "mode": "markers+text",
           "name": "Nigeria",
           "orientation": "v",
           "showlegend": true,
           "text": [
            "Nigeria"
           ],
           "type": "scatter",
           "x": {
            "bdata": "AAAAAAD4kUA=",
            "dtype": "f8"
           },
           "xaxis": "x",
           "y": {
            "bdata": "OGdEaW/wxT8=",
            "dtype": "f8"
           },
           "yaxis": "y"
          },
          {
           "hovertemplate": "<b>%{hovertext}</b><br><br>Country Name=%{text}<br>Year=1996.0<br>Neerslag (mm/jaar)=%{x}<br>Totale landbouwuitstoot (Mt CO₂e)=%{y}<extra></extra>",
           "hovertext": [
            "United States of America"
           ],
           "legendgroup": "United States of America",
           "marker": {
            "color": "#19d3f3",
            "symbol": "circle"
           },
           "mode": "markers+text",
           "name": "United States of America",
           "orientation": "v",
           "showlegend": true,
           "text": [
            "United States of America"
           ],
           "type": "scatter",
           "x": {
            "bdata": "AAAAAABYhkA=",
            "dtype": "f8"
           },
           "xaxis": "x",
           "y": {
            "bdata": "lGWIY12UW0A=",
            "dtype": "f8"
           },
           "yaxis": "y"
          },
          {
           "hovertemplate": "<b>%{hovertext}</b><br><br>Country Name=%{text}<br>Year=1996.0<br>Neerslag (mm/jaar)=%{x}<br>Totale landbouwuitstoot (Mt CO₂e)=%{y}<extra></extra>",
           "hovertext": [
            "South Africa"
           ],
           "legendgroup": "South Africa",
           "marker": {
            "color": "#FF6692",
            "symbol": "circle"
           },
           "mode": "markers+text",
           "name": "South Africa",
           "orientation": "v",
           "showlegend": true,
           "text": [
            "South Africa"
           ],
           "type": "scatter",
           "x": {
            "bdata": "AAAAAADwfkA=",
            "dtype": "f8"
           },
           "xaxis": "x",
           "y": {
            "bdata": "LpCg+DHmFUA=",
            "dtype": "f8"
           },
           "yaxis": "y"
          }
         ],
         "name": "1996.0"
        },
        {
         "data": [
          {
           "hovertemplate": "<b>%{hovertext}</b><br><br>Country Name=%{text}<br>Year=1997.0<br>Neerslag (mm/jaar)=%{x}<br>Totale landbouwuitstoot (Mt CO₂e)=%{y}<extra></extra>",
           "hovertext": [
            "Brazil"
           ],
           "legendgroup": "Brazil",
           "marker": {
            "color": "#636efa",
            "symbol": "circle"
           },
           "mode": "markers+text",
           "name": "Brazil",
           "orientation": "v",
           "showlegend": true,
           "text": [
            "Brazil"
           ],
           "type": "scatter",
           "x": {
            "bdata": "AAAAAACEm0A=",
            "dtype": "f8"
           },
           "xaxis": "x",
           "y": {
            "bdata": "dnEbDeBNNkA=",
            "dtype": "f8"
           },
           "yaxis": "y"
          },
          {
           "hovertemplate": "<b>%{hovertext}</b><br><br>Country Name=%{text}<br>Year=1997.0<br>Neerslag (mm/jaar)=%{x}<br>Totale landbouwuitstoot (Mt CO₂e)=%{y}<extra></extra>",
           "hovertext": [
            "Indonesia"
           ],
           "legendgroup": "Indonesia",
           "marker": {
            "color": "#EF553B",
            "symbol": "circle"
           },
           "mode": "markers+text",
           "name": "Indonesia",
           "orientation": "v",
           "showlegend": true,
           "text": [
            "Indonesia"
           ],
           "type": "scatter",
           "x": {
            "bdata": "AAAAAAAcpUA=",
            "dtype": "f8"
           },
           "xaxis": "x",
           "y": {
            "bdata": "bcX+snvy9j8=",
            "dtype": "f8"
           },
           "yaxis": "y"
          },
          {
           "hovertemplate": "<b>%{hovertext}</b><br><br>Country Name=%{text}<br>Year=1997.0<br>Neerslag (mm/jaar)=%{x}<br>Totale landbouwuitstoot (Mt CO₂e)=%{y}<extra></extra>",
           "hovertext": [
            "India"
           ],
           "legendgroup": "India",
           "marker": {
            "color": "#00cc96",
            "symbol": "circle"
           },
           "mode": "markers+text",
           "name": "India",
           "orientation": "v",
           "showlegend": true,
           "text": [
            "India"
           ],
           "type": "scatter",
           "x": {
            "bdata": "AAAAAADskEA=",
            "dtype": "f8"
           },
           "xaxis": "x",
           "y": {
            "bdata": "/mX35GFhW0A=",
            "dtype": "f8"
           },
           "yaxis": "y"
          },
          {
           "hovertemplate": "<b>%{hovertext}</b><br><br>Country Name=%{text}<br>Year=1997.0<br>Neerslag (mm/jaar)=%{x}<br>Totale landbouwuitstoot (Mt CO₂e)=%{y}<extra></extra>",
           "hovertext": [
            "Japan"
           ],
           "legendgroup": "Japan",
           "marker": {
            "color": "#ab63fa",
            "symbol": "circle"
           },
           "mode": "markers+text",
           "name": "Japan",
           "orientation": "v",
           "showlegend": true,
           "text": [
            "Japan"
           ],
           "type": "scatter",
           "x": {
            "bdata": "AAAAAAAQmkA=",
            "dtype": "f8"
           },
           "xaxis": "x",
           "y": {
            "bdata": "QmDl0CLb/z8=",
            "dtype": "f8"
           },
           "yaxis": "y"
          },
          {
           "hovertemplate": "<b>%{hovertext}</b><br><br>Country Name=%{text}<br>Year=1997.0<br>Neerslag (mm/jaar)=%{x}<br>Totale landbouwuitstoot (Mt CO₂e)=%{y}<extra></extra>",
           "hovertext": [
            "Nigeria"
           ],
           "legendgroup": "Nigeria",
           "marker": {
            "color": "#FFA15A",
            "symbol": "circle"
           },
           "mode": "markers+text",
           "name": "Nigeria",
           "orientation": "v",
           "showlegend": true,
           "text": [
            "Nigeria"
           ],
           "type": "scatter",
           "x": {
            "bdata": "AAAAAAD4kUA=",
            "dtype": "f8"
           },
           "xaxis": "x",
           "y": {
            "bdata": "/tR46SYxyD8=",
            "dtype": "f8"
           },
           "yaxis": "y"
          },
          {
           "hovertemplate": "<b>%{hovertext}</b><br><br>Country Name=%{text}<br>Year=1997.0<br>Neerslag (mm/jaar)=%{x}<br>Totale landbouwuitstoot (Mt CO₂e)=%{y}<extra></extra>",
           "hovertext": [
            "United States of America"
           ],
           "legendgroup": "United States of America",
           "marker": {
            "color": "#19d3f3",
            "symbol": "circle"
           },
           "mode": "markers+text",
           "name": "United States of America",
           "orientation": "v",
           "showlegend": true,
           "text": [
            "United States of America"
           ],
           "type": "scatter",
           "x": {
            "bdata": "AAAAAABYhkA=",
            "dtype": "f8"
           },
           "xaxis": "x",
           "y": {
            "bdata": "tKZ5xykaXUA=",
            "dtype": "f8"
           },
           "yaxis": "y"
          },
          {
           "hovertemplate": "<b>%{hovertext}</b><br><br>Country Name=%{text}<br>Year=1997.0<br>Neerslag (mm/jaar)=%{x}<br>Totale landbouwuitstoot (Mt CO₂e)=%{y}<extra></extra>",
           "hovertext": [
            "South Africa"
           ],
           "legendgroup": "South Africa",
           "marker": {
            "color": "#FF6692",
            "symbol": "circle"
           },
           "mode": "markers+text",
           "name": "South Africa",
           "orientation": "v",
           "showlegend": true,
           "text": [
            "South Africa"
           ],
           "type": "scatter",
           "x": {
            "bdata": "AAAAAADwfkA=",
            "dtype": "f8"
           },
           "xaxis": "x",
           "y": {
            "bdata": "8IXJVMEoFkA=",
            "dtype": "f8"
           },
           "yaxis": "y"
          }
         ],
         "name": "1997.0"
        },
        {
         "data": [
          {
           "hovertemplate": "<b>%{hovertext}</b><br><br>Country Name=%{text}<br>Year=1998.0<br>Neerslag (mm/jaar)=%{x}<br>Totale landbouwuitstoot (Mt CO₂e)=%{y}<extra></extra>",
           "hovertext": [
            "Brazil"
           ],
           "legendgroup": "Brazil",
           "marker": {
            "color": "#636efa",
            "symbol": "circle"
           },
           "mode": "markers+text",
           "name": "Brazil",
           "orientation": "v",
           "showlegend": true,
           "text": [
            "Brazil"
           ],
           "type": "scatter",
           "x": {
            "bdata": "AAAAAADYm0A=",
            "dtype": "f8"
           },
           "xaxis": "x",
           "y": {
            "bdata": "OGdEaW+QNkA=",
            "dtype": "f8"
           },
           "yaxis": "y"
          },
          {
           "hovertemplate": "<b>%{hovertext}</b><br><br>Country Name=%{text}<br>Year=1998.0<br>Neerslag (mm/jaar)=%{x}<br>Totale landbouwuitstoot (Mt CO₂e)=%{y}<extra></extra>",
           "hovertext": [
            "Indonesia"
           ],
           "legendgroup": "Indonesia",
           "marker": {
            "color": "#EF553B",
            "symbol": "circle"
           },
           "mode": "markers+text",
           "name": "Indonesia",
           "orientation": "v",
           "showlegend": true,
           "text": [
            "Indonesia"
           ],
           "type": "scatter",
           "x": {
            "bdata": "AAAAAAAcpUA=",
            "dtype": "f8"
           },
           "xaxis": "x",
           "y": {
            "bdata": "wOyePCzU+D8=",
            "dtype": "f8"
           },
           "yaxis": "y"
          },
          {
           "hovertemplate": "<b>%{hovertext}</b><br><br>Country Name=%{text}<br>Year=1998.0<br>Neerslag (mm/jaar)=%{x}<br>Totale landbouwuitstoot (Mt CO₂e)=%{y}<extra></extra>",
           "hovertext": [
            "India"
           ],
           "legendgroup": "India",
           "marker": {
            "color": "#00cc96",
            "symbol": "circle"
           },
           "mode": "markers+text",
           "name": "India",
           "orientation": "v",
           "showlegend": true,
           "text": [
            "India"
           ],
           "type": "scatter",
           "x": {
            "bdata": "AAAAAADskEA=",
            "dtype": "f8"
           },
           "xaxis": "x",
           "y": {
            "bdata": "YAfOGVE6W0A=",
            "dtype": "f8"
           },
           "yaxis": "y"
          },
          {
           "hovertemplate": "<b>%{hovertext}</b><br><br>Country Name=%{text}<br>Year=1998.0<br>Neerslag (mm/jaar)=%{x}<br>Totale landbouwuitstoot (Mt CO₂e)=%{y}<extra></extra>",
           "hovertext": [
            "Japan"
           ],
           "legendgroup": "Japan",
           "marker": {
            "color": "#ab63fa",
            "symbol": "circle"
           },
           "mode": "markers+text",
           "name": "Japan",
           "orientation": "v",
           "showlegend": true,
           "text": [
            "Japan"
           ],
           "type": "scatter",
           "x": {
            "bdata": "AAAAAAAQmkA=",
            "dtype": "f8"
           },
           "xaxis": "x",
           "y": {
            "bdata": "V+wvuycPAEA=",
            "dtype": "f8"
           },
           "yaxis": "y"
          },
          {
           "hovertemplate": "<b>%{hovertext}</b><br><br>Country Name=%{text}<br>Year=1998.0<br>Neerslag (mm/jaar)=%{x}<br>Totale landbouwuitstoot (Mt CO₂e)=%{y}<extra></extra>",
           "hovertext": [
            "Nigeria"
           ],
           "legendgroup": "Nigeria",
           "marker": {
            "color": "#FFA15A",
            "symbol": "circle"
           },
           "mode": "markers+text",
           "name": "Nigeria",
           "orientation": "v",
           "showlegend": true,
           "text": [
            "Nigeria"
           ],
           "type": "scatter",
           "x": {
            "bdata": "AAAAAAD4kUA=",
            "dtype": "f8"
           },
           "xaxis": "x",
           "y": {
            "bdata": "oBov3SQG0T8=",
            "dtype": "f8"
           },
           "yaxis": "y"
          },
          {
           "hovertemplate": "<b>%{hovertext}</b><br><br>Country Name=%{text}<br>Year=1998.0<br>Neerslag (mm/jaar)=%{x}<br>Totale landbouwuitstoot (Mt CO₂e)=%{y}<extra></extra>",
           "hovertext": [
            "United States of America"
           ],
           "legendgroup": "United States of America",
           "marker": {
            "color": "#19d3f3",
            "symbol": "circle"
           },
           "mode": "markers+text",
           "name": "United States of America",
           "orientation": "v",
           "showlegend": true,
           "text": [
            "United States of America"
           ],
           "type": "scatter",
           "x": {
            "bdata": "AAAAAABYhkA=",
            "dtype": "f8"
           },
           "xaxis": "x",
           "y": {
            "bdata": "F7fRAN5KXEA=",
            "dtype": "f8"
           },
           "yaxis": "y"
          },
          {
           "hovertemplate": "<b>%{hovertext}</b><br><br>Country Name=%{text}<br>Year=1998.0<br>Neerslag (mm/jaar)=%{x}<br>Totale landbouwuitstoot (Mt CO₂e)=%{y}<extra></extra>",
           "hovertext": [
            "South Africa"
           ],
           "legendgroup": "South Africa",
           "marker": {
            "color": "#FF6692",
            "symbol": "circle"
           },
           "mode": "markers+text",
           "name": "South Africa",
           "orientation": "v",
           "showlegend": true,
           "text": [
            "South Africa"
           ],
           "type": "scatter",
           "x": {
            "bdata": "AAAAAADwfkA=",
            "dtype": "f8"
           },
           "xaxis": "x",
           "y": {
            "bdata": "SS7/If32DkA=",
            "dtype": "f8"
           },
           "yaxis": "y"
          }
         ],
         "name": "1998.0"
        },
        {
         "data": [
          {
           "hovertemplate": "<b>%{hovertext}</b><br><br>Country Name=%{text}<br>Year=1999.0<br>Neerslag (mm/jaar)=%{x}<br>Totale landbouwuitstoot (Mt CO₂e)=%{y}<extra></extra>",
           "hovertext": [
            "Brazil"
           ],
           "legendgroup": "Brazil",
           "marker": {
            "color": "#636efa",
            "symbol": "circle"
           },
           "mode": "markers+text",
           "name": "Brazil",
           "orientation": "v",
           "showlegend": true,
           "text": [
            "Brazil"
           ],
           "type": "scatter",
           "x": {
            "bdata": "AAAAAADYm0A=",
            "dtype": "f8"
           },
           "xaxis": "x",
           "y": {
            "bdata": "SC7/If32NUA=",
            "dtype": "f8"
           },
           "yaxis": "y"
          },
          {
           "hovertemplate": "<b>%{hovertext}</b><br><br>Country Name=%{text}<br>Year=1999.0<br>Neerslag (mm/jaar)=%{x}<br>Totale landbouwuitstoot (Mt CO₂e)=%{y}<extra></extra>",
           "hovertext": [
            "Indonesia"
           ],
           "legendgroup": "Indonesia",
           "marker": {
            "color": "#EF553B",
            "symbol": "circle"
           },
           "mode": "markers+text",
           "name": "Indonesia",
           "orientation": "v",
           "showlegend": true,
           "text": [
            "Indonesia"
           ],
           "type": "scatter",
           "x": {
            "bdata": "AAAAAAAcpUA=",
            "dtype": "f8"
           },
           "xaxis": "x",
           "y": {
            "bdata": "klz+Q/rt9z8=",
            "dtype": "f8"
           },
           "yaxis": "y"
          },
          {
           "hovertemplate": "<b>%{hovertext}</b><br><br>Country Name=%{text}<br>Year=1999.0<br>Neerslag (mm/jaar)=%{x}<br>Totale landbouwuitstoot (Mt CO₂e)=%{y}<extra></extra>",
           "hovertext": [
            "India"
           ],
           "legendgroup": "India",
           "marker": {
            "color": "#00cc96",
            "symbol": "circle"
           },
           "mode": "markers+text",
           "name": "India",
           "orientation": "v",
           "showlegend": true,
           "text": [
            "India"
           ],
           "type": "scatter",
           "x": {
            "bdata": "AAAAAADskEA=",
            "dtype": "f8"
           },
           "xaxis": "x",
           "y": {
            "bdata": "0ETY8PRyXEA=",
            "dtype": "f8"
           },
           "yaxis": "y"
          },
          {
           "hovertemplate": "<b>%{hovertext}</b><br><br>Country Name=%{text}<br>Year=1999.0<br>Neerslag (mm/jaar)=%{x}<br>Totale landbouwuitstoot (Mt CO₂e)=%{y}<extra></extra>",
           "hovertext": [
            "Japan"
           ],
           "legendgroup": "Japan",
           "marker": {
            "color": "#ab63fa",
            "symbol": "circle"
           },
           "mode": "markers+text",
           "name": "Japan",
           "orientation": "v",
           "showlegend": true,
           "text": [
            "Japan"
           ],
           "type": "scatter",
           "x": {
            "bdata": "AAAAAAAQmkA=",
            "dtype": "f8"
           },
           "xaxis": "x",
           "y": {
            "bdata": "Dk+vlGWIAEA=",
            "dtype": "f8"
           },
           "yaxis": "y"
          },
          {
           "hovertemplate": "<b>%{hovertext}</b><br><br>Country Name=%{text}<br>Year=1999.0<br>Neerslag (mm/jaar)=%{x}<br>Totale landbouwuitstoot (Mt CO₂e)=%{y}<extra></extra>",
           "hovertext": [
            "Nigeria"
           ],
           "legendgroup": "Nigeria",
           "marker": {
            "color": "#FFA15A",
            "symbol": "circle"
           },
           "mode": "markers+text",
           "name": "Nigeria",
           "orientation": "v",
           "showlegend": true,
           "text": [
            "Nigeria"
           ],
           "type": "scatter",
           "x": {
            "bdata": "AAAAAAD4kUA=",
            "dtype": "f8"
           },
           "xaxis": "x",
           "y": {
            "bdata": "woanV8oy3D8=",
            "dtype": "f8"
           },
           "yaxis": "y"
          },
          {
           "hovertemplate": "<b>%{hovertext}</b><br><br>Country Name=%{text}<br>Year=1999.0<br>Neerslag (mm/jaar)=%{x}<br>Totale landbouwuitstoot (Mt CO₂e)=%{y}<extra></extra>",
           "hovertext": [
            "United States of America"
           ],
           "legendgroup": "United States of America",
           "marker": {
            "color": "#19d3f3",
            "symbol": "circle"
           },
           "mode": "markers+text",
           "name": "United States of America",
           "orientation": "v",
           "showlegend": true,
           "text": [
            "United States of America"
           ],
           "type": "scatter",
           "x": {
            "bdata": "AAAAAABYhkA=",
            "dtype": "f8"
           },
           "xaxis": "x",
           "y": {
            "bdata": "coqO5PIXWkA=",
            "dtype": "f8"
           },
           "yaxis": "y"
          },
          {
           "hovertemplate": "<b>%{hovertext}</b><br><br>Country Name=%{text}<br>Year=1999.0<br>Neerslag (mm/jaar)=%{x}<br>Totale landbouwuitstoot (Mt CO₂e)=%{y}<extra></extra>",
           "hovertext": [
            "South Africa"
           ],
           "legendgroup": "South Africa",
           "marker": {
            "color": "#FF6692",
            "symbol": "circle"
           },
           "mode": "markers+text",
           "name": "South Africa",
           "orientation": "v",
           "showlegend": true,
           "text": [
            "South Africa"
           ],
           "type": "scatter",
           "x": {
            "bdata": "AAAAAADwfkA=",
            "dtype": "f8"
           },
           "xaxis": "x",
           "y": {
            "bdata": "CBueXinLDUA=",
            "dtype": "f8"
           },
           "yaxis": "y"
          }
         ],
         "name": "1999.0"
        },
        {
         "data": [
          {
           "hovertemplate": "<b>%{hovertext}</b><br><br>Country Name=%{text}<br>Year=2000.0<br>Neerslag (mm/jaar)=%{x}<br>Totale landbouwuitstoot (Mt CO₂e)=%{y}<extra></extra>",
           "hovertext": [
            "Brazil"
           ],
           "legendgroup": "Brazil",
           "marker": {
            "color": "#636efa",
            "symbol": "circle"
           },
           "mode": "markers+text",
           "name": "Brazil",
           "orientation": "v",
           "showlegend": true,
           "text": [
            "Brazil"
           ],
           "type": "scatter",
           "x": {
            "bdata": "AAAAAADYm0A=",
            "dtype": "f8"
           },
           "xaxis": "x",
           "y": {
            "bdata": "kFN0JJf/NEA=",
            "dtype": "f8"
           },
           "yaxis": "y"
          },
          {
           "hovertemplate": "<b>%{hovertext}</b><br><br>Country Name=%{text}<br>Year=2000.0<br>Neerslag (mm/jaar)=%{x}<br>Totale landbouwuitstoot (Mt CO₂e)=%{y}<extra></extra>",
           "hovertext": [
            "Indonesia"
           ],
           "legendgroup": "Indonesia",
           "marker": {
            "color": "#EF553B",
            "symbol": "circle"
           },
           "mode": "markers+text",
           "name": "Indonesia",
           "orientation": "v",
           "showlegend": true,
           "text": [
            "Indonesia"
           ],
           "type": "scatter",
           "x": {
            "bdata": "AAAAAAAcpUA=",
            "dtype": "f8"
           },
           "xaxis": "x",
           "y": {
            "bdata": "LNSa5h2n9j8=",
            "dtype": "f8"
           },
           "yaxis": "y"
          },
          {
           "hovertemplate": "<b>%{hovertext}</b><br><br>Country Name=%{text}<br>Year=2000.0<br>Neerslag (mm/jaar)=%{x}<br>Totale landbouwuitstoot (Mt CO₂e)=%{y}<extra></extra>",
           "hovertext": [
            "India"
           ],
           "legendgroup": "India",
           "marker": {
            "color": "#00cc96",
            "symbol": "circle"
           },
           "mode": "markers+text",
           "name": "India",
           "orientation": "v",
           "showlegend": true,
           "text": [
            "India"
           ],
           "type": "scatter",
           "x": {
            "bdata": "AAAAAADskEA=",
            "dtype": "f8"
           },
           "xaxis": "x",
           "y": {
            "bdata": "ZDvfT40vXUA=",
            "dtype": "f8"
           },
           "yaxis": "y"
          },
          {
           "hovertemplate": "<b>%{hovertext}</b><br><br>Country Name=%{text}<br>Year=2000.0<br>Neerslag (mm/jaar)=%{x}<br>Totale landbouwuitstoot (Mt CO₂e)=%{y}<extra></extra>",
           "hovertext": [
            "Japan"
           ],
           "legendgroup": "Japan",
           "marker": {
            "color": "#ab63fa",
            "symbol": "circle"
           },
           "mode": "markers+text",
           "name": "Japan",
           "orientation": "v",
           "showlegend": true,
           "text": [
            "Japan"
           ],
           "type": "scatter",
           "x": {
            "bdata": "AAAAAAAQmkA=",
            "dtype": "f8"
           },
           "xaxis": "x",
           "y": {
            "bdata": "9UpZhjjWAUA=",
            "dtype": "f8"
           },
           "yaxis": "y"
          },
          {
           "hovertemplate": "<b>%{hovertext}</b><br><br>Country Name=%{text}<br>Year=2000.0<br>Neerslag (mm/jaar)=%{x}<br>Totale landbouwuitstoot (Mt CO₂e)=%{y}<extra></extra>",
           "hovertext": [
            "Nigeria"
           ],
           "legendgroup": "Nigeria",
           "marker": {
            "color": "#FFA15A",
            "symbol": "circle"
           },
           "mode": "markers+text",
           "name": "Nigeria",
           "orientation": "v",
           "showlegend": true,
           "text": [
            "Nigeria"
           ],
           "type": "scatter",
           "x": {
            "bdata": "AAAAAAD4kUA=",
            "dtype": "f8"
           },
           "xaxis": "x",
           "y": {
            "bdata": "B84ZUdob3D8=",
            "dtype": "f8"
           },
           "yaxis": "y"
          },
          {
           "hovertemplate": "<b>%{hovertext}</b><br><br>Country Name=%{text}<br>Year=2000.0<br>Neerslag (mm/jaar)=%{x}<br>Totale landbouwuitstoot (Mt CO₂e)=%{y}<extra></extra>",
           "hovertext": [
            "United States of America"
           ],
           "legendgroup": "United States of America",
           "marker": {
            "color": "#19d3f3",
            "symbol": "circle"
           },
           "mode": "markers+text",
           "name": "United States of America",
           "orientation": "v",
           "showlegend": true,
           "text": [
            "United States of America"
           ],
           "type": "scatter",
           "x": {
            "bdata": "AAAAAABYhkA=",
            "dtype": "f8"
           },
           "xaxis": "x",
           "y": {
            "bdata": "jnVxGw04WUA=",
            "dtype": "f8"
           },
           "yaxis": "y"
          },
          {
           "hovertemplate": "<b>%{hovertext}</b><br><br>Country Name=%{text}<br>Year=2000.0<br>Neerslag (mm/jaar)=%{x}<br>Totale landbouwuitstoot (Mt CO₂e)=%{y}<extra></extra>",
           "hovertext": [
            "South Africa"
           ],
           "legendgroup": "South Africa",
           "marker": {
            "color": "#FF6692",
            "symbol": "circle"
           },
           "mode": "markers+text",
           "name": "South Africa",
           "orientation": "v",
           "showlegend": true,
           "text": [
            "South Africa"
           ],
           "type": "scatter",
           "x": {
            "bdata": "AAAAAADwfkA=",
            "dtype": "f8"
           },
           "xaxis": "x",
           "y": {
            "bdata": "c9cS8kFPEkA=",
            "dtype": "f8"
           },
           "yaxis": "y"
          }
         ],
         "name": "2000.0"
        },
        {
         "data": [
          {
           "hovertemplate": "<b>%{hovertext}</b><br><br>Country Name=%{text}<br>Year=2001.0<br>Neerslag (mm/jaar)=%{x}<br>Totale landbouwuitstoot (Mt CO₂e)=%{y}<extra></extra>",
           "hovertext": [
            "Brazil"
           ],
           "legendgroup": "Brazil",
           "marker": {
            "color": "#636efa",
            "symbol": "circle"
           },
           "mode": "markers+text",
           "name": "Brazil",
           "orientation": "v",
           "showlegend": true,
           "text": [
            "Brazil"
           ],
           "type": "scatter",
           "x": {
            "bdata": "AAAAAADYm0A=",
            "dtype": "f8"
           },
           "xaxis": "x",
           "y": {
            "bdata": "4C2QoPixN0A=",
            "dtype": "f8"
           },
           "yaxis": "y"
          },
          {
           "hovertemplate": "<b>%{hovertext}</b><br><br>Country Name=%{text}<br>Year=2001.0<br>Neerslag (mm/jaar)=%{x}<br>Totale landbouwuitstoot (Mt CO₂e)=%{y}<extra></extra>",
           "hovertext": [
            "Indonesia"
           ],
           "legendgroup": "Indonesia",
           "marker": {
            "color": "#EF553B",
            "symbol": "circle"
           },
           "mode": "markers+text",
           "name": "Indonesia",
           "orientation": "v",
           "showlegend": true,
           "text": [
            "Indonesia"
           ],
           "type": "scatter",
           "x": {
            "bdata": "AAAAAAAcpUA=",
            "dtype": "f8"
           },
           "xaxis": "x",
           "y": {
            "bdata": "dCSX/5B+9z8=",
            "dtype": "f8"
           },
           "yaxis": "y"
          },
          {
           "hovertemplate": "<b>%{hovertext}</b><br><br>Country Name=%{text}<br>Year=2001.0<br>Neerslag (mm/jaar)=%{x}<br>Totale landbouwuitstoot (Mt CO₂e)=%{y}<extra></extra>",
           "hovertext": [
            "India"
           ],
           "legendgroup": "India",
           "marker": {
            "color": "#00cc96",
            "symbol": "circle"
           },
           "mode": "markers+text",
           "name": "India",
           "orientation": "v",
           "showlegend": true,
           "text": [
            "India"
           ],
           "type": "scatter",
           "x": {
            "bdata": "AAAAAADskEA=",
            "dtype": "f8"
           },
           "xaxis": "x",
           "y": {
            "bdata": "W9O84xRtW0A=",
            "dtype": "f8"
           },
           "yaxis": "y"
          },
          {
           "hovertemplate": "<b>%{hovertext}</b><br><br>Country Name=%{text}<br>Year=2001.0<br>Neerslag (mm/jaar)=%{x}<br>Totale landbouwuitstoot (Mt CO₂e)=%{y}<extra></extra>",
           "hovertext": [
            "Japan"
           ],
           "legendgroup": "Japan",
           "marker": {
            "color": "#ab63fa",
            "symbol": "circle"
           },
           "mode": "markers+text",
           "name": "Japan",
           "orientation": "v",
           "showlegend": true,
           "text": [
            "Japan"
           ],
           "type": "scatter",
           "x": {
            "bdata": "AAAAAAAQmkA=",
            "dtype": "f8"
           },
           "xaxis": "x",
           "y": {
            "bdata": "CBueXinLAkA=",
            "dtype": "f8"
           },
           "yaxis": "y"
          },
          {
           "hovertemplate": "<b>%{hovertext}</b><br><br>Country Name=%{text}<br>Year=2001.0<br>Neerslag (mm/jaar)=%{x}<br>Totale landbouwuitstoot (Mt CO₂e)=%{y}<extra></extra>",
           "hovertext": [
            "Nigeria"
           ],
           "legendgroup": "Nigeria",
           "marker": {
            "color": "#FFA15A",
            "symbol": "circle"
           },
           "mode": "markers+text",
           "name": "Nigeria",
           "orientation": "v",
           "showlegend": true,
           "text": [
            "Nigeria"
           ],
           "type": "scatter",
           "x": {
            "bdata": "AAAAAAD4kUA=",
            "dtype": "f8"
           },
           "xaxis": "x",
           "y": {
            "bdata": "VMGopE5A2z8=",
            "dtype": "f8"
           },
           "yaxis": "y"
          },
          {
           "hovertemplate": "<b>%{hovertext}</b><br><br>Country Name=%{text}<br>Year=2001.0<br>Neerslag (mm/jaar)=%{x}<br>Totale landbouwuitstoot (Mt CO₂e)=%{y}<extra></extra>",
           "hovertext": [
            "United States of America"
           ],
           "legendgroup": "United States of America",
           "marker": {
            "color": "#19d3f3",
            "symbol": "circle"
           },
           "mode": "markers+text",
           "name": "United States of America",
           "orientation": "v",
           "showlegend": true,
           "text": [
            "United States of America"
           ],
           "type": "scatter",
           "x": {
            "bdata": "AAAAAABYhkA=",
            "dtype": "f8"
           },
           "xaxis": "x",
           "y": {
            "bdata": "YAfOGVESV0A=",
            "dtype": "f8"
           },
           "yaxis": "y"
          },
          {
           "hovertemplate": "<b>%{hovertext}</b><br><br>Country Name=%{text}<br>Year=2001.0<br>Neerslag (mm/jaar)=%{x}<br>Totale landbouwuitstoot (Mt CO₂e)=%{y}<extra></extra>",
           "hovertext": [
            "South Africa"
           ],
           "legendgroup": "South Africa",
           "marker": {
            "color": "#FF6692",
            "symbol": "circle"
           },
           "mode": "markers+text",
           "name": "South Africa",
           "orientation": "v",
           "showlegend": true,
           "text": [
            "South Africa"
           ],
           "type": "scatter",
           "x": {
            "bdata": "AAAAAADwfkA=",
            "dtype": "f8"
           },
           "xaxis": "x",
           "y": {
            "bdata": "GlHaG3zhEkA=",
            "dtype": "f8"
           },
           "yaxis": "y"
          }
         ],
         "name": "2001.0"
        },
        {
         "data": [
          {
           "hovertemplate": "<b>%{hovertext}</b><br><br>Country Name=%{text}<br>Year=2002.0<br>Neerslag (mm/jaar)=%{x}<br>Totale landbouwuitstoot (Mt CO₂e)=%{y}<extra></extra>",
           "hovertext": [
            "Brazil"
           ],
           "legendgroup": "Brazil",
           "marker": {
            "color": "#636efa",
            "symbol": "circle"
           },
           "mode": "markers+text",
           "name": "Brazil",
           "orientation": "v",
           "showlegend": true,
           "text": [
            "Brazil"
           ],
           "type": "scatter",
           "x": {
            "bdata": "AAAAAACEm0A=",
            "dtype": "f8"
           },
           "xaxis": "x",
           "y": {
            "bdata": "Vp+rrdj/OEA=",
            "dtype": "f8"
           },
           "yaxis": "y"
          },
          {
           "hovertemplate": "<b>%{hovertext}</b><br><br>Country Name=%{text}<br>Year=2002.0<br>Neerslag (mm/jaar)=%{x}<br>Totale landbouwuitstoot (Mt CO₂e)=%{y}<extra></extra>",
           "hovertext": [
            "Indonesia"
           ],
           "legendgroup": "Indonesia",
           "marker": {
            "color": "#EF553B",
            "symbol": "circle"
           },
           "mode": "markers+text",
           "name": "Indonesia",
           "orientation": "v",
           "showlegend": true,
           "text": [
            "Indonesia"
           ],
           "type": "scatter",
           "x": {
            "bdata": "AAAAAAAcpUA=",
            "dtype": "f8"
           },
           "xaxis": "x",
           "y": {
            "bdata": "wjkjSnuD9T8=",
            "dtype": "f8"
           },
           "yaxis": "y"
          },
          {
           "hovertemplate": "<b>%{hovertext}</b><br><br>Country Name=%{text}<br>Year=2002.0<br>Neerslag (mm/jaar)=%{x}<br>Totale landbouwuitstoot (Mt CO₂e)=%{y}<extra></extra>",
           "hovertext": [
            "India"
           ],
           "legendgroup": "India",
           "marker": {
            "color": "#00cc96",
            "symbol": "circle"
           },
           "mode": "markers+text",
           "name": "India",
           "orientation": "v",
           "showlegend": true,
           "text": [
            "India"
           ],
           "type": "scatter",
           "x": {
            "bdata": "AAAAAADskEA=",
            "dtype": "f8"
           },
           "xaxis": "x",
           "y": {
            "bdata": "DJOpglFBXEA=",
            "dtype": "f8"
           },
           "yaxis": "y"
          },
          {
           "hovertemplate": "<b>%{hovertext}</b><br><br>Country Name=%{text}<br>Year=2002.0<br>Neerslag (mm/jaar)=%{x}<br>Totale landbouwuitstoot (Mt CO₂e)=%{y}<extra></extra>",
           "hovertext": [
            "Japan"
           ],
           "legendgroup": "Japan",
           "marker": {
            "color": "#ab63fa",
            "symbol": "circle"
           },
           "mode": "markers+text",
           "name": "Japan",
           "orientation": "v",
           "showlegend": true,
           "text": [
            "Japan"
           ],
           "type": "scatter",
           "x": {
            "bdata": "AAAAAAAQmkA=",
            "dtype": "f8"
           },
           "xaxis": "x",
           "y": {
            "bdata": "Lm6jAbwFBEA=",
            "dtype": "f8"
           },
           "yaxis": "y"
          },
          {
           "hovertemplate": "<b>%{hovertext}</b><br><br>Country Name=%{text}<br>Year=2002.0<br>Neerslag (mm/jaar)=%{x}<br>Totale landbouwuitstoot (Mt CO₂e)=%{y}<extra></extra>",
           "hovertext": [
            "Nigeria"
           ],
           "legendgroup": "Nigeria",
           "marker": {
            "color": "#FFA15A",
            "symbol": "circle"
           },
           "mode": "markers+text",
           "name": "Nigeria",
           "orientation": "v",
           "showlegend": true,
           "text": [
            "Nigeria"
           ],
           "type": "scatter",
           "x": {
            "bdata": "AAAAAAD4kUA=",
            "dtype": "f8"
           },
           "xaxis": "x",
           "y": {
            "bdata": "hjjWxW004D8=",
            "dtype": "f8"
           },
           "yaxis": "y"
          },
          {
           "hovertemplate": "<b>%{hovertext}</b><br><br>Country Name=%{text}<br>Year=2002.0<br>Neerslag (mm/jaar)=%{x}<br>Totale landbouwuitstoot (Mt CO₂e)=%{y}<extra></extra>",
           "hovertext": [
            "United States of America"
           ],
           "legendgroup": "United States of America",
           "marker": {
            "color": "#19d3f3",
            "symbol": "circle"
           },
           "mode": "markers+text",
           "name": "United States of America",
           "orientation": "v",
           "showlegend": true,
           "text": [
            "United States of America"
           ],
           "type": "scatter",
           "x": {
            "bdata": "AAAAAABYhkA=",
            "dtype": "f8"
           },
           "xaxis": "x",
           "y": {
            "bdata": "YTJVMCqZVUA=",
            "dtype": "f8"
           },
           "yaxis": "y"
          },
          {
           "hovertemplate": "<b>%{hovertext}</b><br><br>Country Name=%{text}<br>Year=2002.0<br>Neerslag (mm/jaar)=%{x}<br>Totale landbouwuitstoot (Mt CO₂e)=%{y}<extra></extra>",
           "hovertext": [
            "South Africa"
           ],
           "legendgroup": "South Africa",
           "marker": {
            "color": "#FF6692",
            "symbol": "circle"
           },
           "mode": "markers+text",
           "name": "South Africa",
           "orientation": "v",
           "showlegend": true,
           "text": [
            "South Africa"
           ],
           "type": "scatter",
           "x": {
            "bdata": "AAAAAADwfkA=",
            "dtype": "f8"
           },
           "xaxis": "x",
           "y": {
            "bdata": "wOyePCxUEkA=",
            "dtype": "f8"
           },
           "yaxis": "y"
          }
         ],
         "name": "2002.0"
        },
        {
         "data": [
          {
           "hovertemplate": "<b>%{hovertext}</b><br><br>Country Name=%{text}<br>Year=2003.0<br>Neerslag (mm/jaar)=%{x}<br>Totale landbouwuitstoot (Mt CO₂e)=%{y}<extra></extra>",
           "hovertext": [
            "Brazil"
           ],
           "legendgroup": "Brazil",
           "marker": {
            "color": "#636efa",
            "symbol": "circle"
           },
           "mode": "markers+text",
           "name": "Brazil",
           "orientation": "v",
           "showlegend": true,
           "text": [
            "Brazil"
           ],
           "type": "scatter",
           "x": {
            "bdata": "AAAAAADYm0A=",
            "dtype": "f8"
           },
           "xaxis": "x",
           "y": {
            "bdata": "0ETY8PRqPEA=",
            "dtype": "f8"
           },
           "yaxis": "y"
          },
          {
           "hovertemplate": "<b>%{hovertext}</b><br><br>Country Name=%{text}<br>Year=2003.0<br>Neerslag (mm/jaar)=%{x}<br>Totale landbouwuitstoot (Mt CO₂e)=%{y}<extra></extra>",
           "hovertext": [
            "Indonesia"
           ],
           "legendgroup": "Indonesia",
           "marker": {
            "color": "#EF553B",
            "symbol": "circle"
           },
           "mode": "markers+text",
           "name": "Indonesia",
           "orientation": "v",
           "showlegend": true,
           "text": [
            "Indonesia"
           ],
           "type": "scatter",
           "x": {
            "bdata": "AAAAAAAcpUA=",
            "dtype": "f8"
           },
           "xaxis": "x",
           "y": {
            "bdata": "g57Nqs/V9D8=",
            "dtype": "f8"
           },
           "yaxis": "y"
          },
          {
           "hovertemplate": "<b>%{hovertext}</b><br><br>Country Name=%{text}<br>Year=2003.0<br>Neerslag (mm/jaar)=%{x}<br>Totale landbouwuitstoot (Mt CO₂e)=%{y}<extra></extra>",
           "hovertext": [
            "India"
           ],
           "legendgroup": "India",
           "marker": {
            "color": "#00cc96",
            "symbol": "circle"
           },
           "mode": "markers+text",
           "name": "India",
           "orientation": "v",
           "showlegend": true,
           "text": [
            "India"
           ],
           "type": "scatter",
           "x": {
            "bdata": "AAAAAADskEA=",
            "dtype": "f8"
           },
           "xaxis": "x",
           "y": {
            "bdata": "tFn1udriWkA=",
            "dtype": "f8"
           },
           "yaxis": "y"
          },
          {
           "hovertemplate": "<b>%{hovertext}</b><br><br>Country Name=%{text}<br>Year=2003.0<br>Neerslag (mm/jaar)=%{x}<br>Totale landbouwuitstoot (Mt CO₂e)=%{y}<extra></extra>",
           "hovertext": [
            "Japan"
           ],
           "legendgroup": "Japan",
           "marker": {
            "color": "#ab63fa",
            "symbol": "circle"
           },
           "mode": "markers+text",
           "name": "Japan",
           "orientation": "v",
           "showlegend": true,
           "text": [
            "Japan"
           ],
           "type": "scatter",
           "x": {
            "bdata": "AAAAAAAQmkA=",
            "dtype": "f8"
           },
           "xaxis": "x",
           "y": {
            "bdata": "JCh+jLlrBEA=",
            "dtype": "f8"
           },
           "yaxis": "y"
          },
          {
           "hovertemplate": "<b>%{hovertext}</b><br><br>Country Name=%{text}<br>Year=2003.0<br>Neerslag (mm/jaar)=%{x}<br>Totale landbouwuitstoot (Mt CO₂e)=%{y}<extra></extra>",
           "hovertext": [
            "Nigeria"
           ],
           "legendgroup": "Nigeria",
           "marker": {
            "color": "#FFA15A",
            "symbol": "circle"
           },
           "mode": "markers+text",
           "name": "Nigeria",
           "orientation": "v",
           "showlegend": true,
           "text": [
            "Nigeria"
           ],
           "type": "scatter",
           "x": {
            "bdata": "AAAAAAD4kUA=",
            "dtype": "f8"
           },
           "xaxis": "x",
           "y": {
            "bdata": "mEwVjErq4D8=",
            "dtype": "f8"
           },
           "yaxis": "y"
          },
          {
           "hovertemplate": "<b>%{hovertext}</b><br><br>Country Name=%{text}<br>Year=2003.0<br>Neerslag (mm/jaar)=%{x}<br>Totale landbouwuitstoot (Mt CO₂e)=%{y}<extra></extra>",
           "hovertext": [
            "United States of America"
           ],
           "legendgroup": "United States of America",
           "marker": {
            "color": "#19d3f3",
            "symbol": "circle"
           },
           "mode": "markers+text",
           "name": "United States of America",
           "orientation": "v",
           "showlegend": true,
           "text": [
            "United States of America"
           ],
           "type": "scatter",
           "x": {
            "bdata": "AAAAAABYhkA=",
            "dtype": "f8"
           },
           "xaxis": "x",
           "y": {
            "bdata": "pHA9CtdDWkA=",
            "dtype": "f8"
           },
           "yaxis": "y"
          },
          {
           "hovertemplate": "<b>%{hovertext}</b><br><br>Country Name=%{text}<br>Year=2003.0<br>Neerslag (mm/jaar)=%{x}<br>Totale landbouwuitstoot (Mt CO₂e)=%{y}<extra></extra>",
           "hovertext": [
            "South Africa"
           ],
           "legendgroup": "South Africa",
           "marker": {
            "color": "#FF6692",
            "symbol": "circle"
           },
           "mode": "markers+text",
           "name": "South Africa",
           "orientation": "v",
           "showlegend": true,
           "text": [
            "South Africa"
           ],
           "type": "scatter",
           "x": {
            "bdata": "AAAAAADwfkA=",
            "dtype": "f8"
           },
           "xaxis": "x",
           "y": {
            "bdata": "utqK/WX3DUA=",
            "dtype": "f8"
           },
           "yaxis": "y"
          }
         ],
         "name": "2003.0"
        },
        {
         "data": [
          {
           "hovertemplate": "<b>%{hovertext}</b><br><br>Country Name=%{text}<br>Year=2004.0<br>Neerslag (mm/jaar)=%{x}<br>Totale landbouwuitstoot (Mt CO₂e)=%{y}<extra></extra>",
           "hovertext": [
            "Brazil"
           ],
           "legendgroup": "Brazil",
           "marker": {
            "color": "#636efa",
            "symbol": "circle"
           },
           "mode": "markers+text",
           "name": "Brazil",
           "orientation": "v",
           "showlegend": true,
           "text": [
            "Brazil"
           ],
           "type": "scatter",
           "x": {
            "bdata": "AAAAAADYm0A=",
            "dtype": "f8"
           },
           "xaxis": "x",
           "y": {
            "bdata": "ZMxdS8jHPUA=",
            "dtype": "f8"
           },
           "yaxis": "y"
          },
          {
           "hovertemplate": "<b>%{hovertext}</b><br><br>Country Name=%{text}<br>Year=2004.0<br>Neerslag (mm/jaar)=%{x}<br>Totale landbouwuitstoot (Mt CO₂e)=%{y}<extra></extra>",
           "hovertext": [
            "Indonesia"
           ],
           "legendgroup": "Indonesia",
           "marker": {
            "color": "#EF553B",
            "symbol": "circle"
           },
           "mode": "markers+text",
           "name": "Indonesia",
           "orientation": "v",
           "showlegend": true,
           "text": [
            "Indonesia"
           ],
           "type": "scatter",
           "x": {
            "bdata": "AAAAAAAcpUA=",
            "dtype": "f8"
           },
           "xaxis": "x",
           "y": {
            "bdata": "T6+UZYhj9T8=",
            "dtype": "f8"
           },
           "yaxis": "y"
          },
          {
           "hovertemplate": "<b>%{hovertext}</b><br><br>Country Name=%{text}<br>Year=2004.0<br>Neerslag (mm/jaar)=%{x}<br>Totale landbouwuitstoot (Mt CO₂e)=%{y}<extra></extra>",
           "hovertext": [
            "India"
           ],
           "legendgroup": "India",
           "marker": {
            "color": "#00cc96",
            "symbol": "circle"
           },
           "mode": "markers+text",
           "name": "India",
           "orientation": "v",
           "showlegend": true,
           "text": [
            "India"
           ],
           "type": "scatter",
           "x": {
            "bdata": "AAAAAADskEA=",
            "dtype": "f8"
           },
           "xaxis": "x",
           "y": {
            "bdata": "hlrTvOP8W0A=",
            "dtype": "f8"
           },
           "yaxis": "y"
          },
          {
           "hovertemplate": "<b>%{hovertext}</b><br><br>Country Name=%{text}<br>Year=2004.0<br>Neerslag (mm/jaar)=%{x}<br>Totale landbouwuitstoot (Mt CO₂e)=%{y}<extra></extra>",
           "hovertext": [
            "Japan"
           ],
           "legendgroup": "Japan",
           "marker": {
            "color": "#ab63fa",
            "symbol": "circle"
           },
           "mode": "markers+text",
           "name": "Japan",
           "orientation": "v",
           "showlegend": true,
           "text": [
            "Japan"
           ],
           "type": "scatter",
           "x": {
            "bdata": "AAAAAAAQmkA=",
            "dtype": "f8"
           },
           "xaxis": "x",
           "y": {
            "bdata": "3gIJih9jBEA=",
            "dtype": "f8"
           },
           "yaxis": "y"
          },
          {
           "hovertemplate": "<b>%{hovertext}</b><br><br>Country Name=%{text}<br>Year=2004.0<br>Neerslag (mm/jaar)=%{x}<br>Totale landbouwuitstoot (Mt CO₂e)=%{y}<extra></extra>",
           "hovertext": [
            "Nigeria"
           ],
           "legendgroup": "Nigeria",
           "marker": {
            "color": "#FFA15A",
            "symbol": "circle"
           },
           "mode": "markers+text",
           "name": "Nigeria",
           "orientation": "v",
           "showlegend": true,
           "text": [
            "Nigeria"
           ],
           "type": "scatter",
           "x": {
            "bdata": "AAAAAAD4kUA=",
            "dtype": "f8"
           },
           "xaxis": "x",
           "y": {
            "bdata": "ETY8vVKW4T8=",
            "dtype": "f8"
           },
           "yaxis": "y"
          },
          {
           "hovertemplate": "<b>%{hovertext}</b><br><br>Country Name=%{text}<br>Year=2004.0<br>Neerslag (mm/jaar)=%{x}<br>Totale landbouwuitstoot (Mt CO₂e)=%{y}<extra></extra>",
           "hovertext": [
            "United States of America"
           ],
           "legendgroup": "United States of America",
           "marker": {
            "color": "#19d3f3",
            "symbol": "circle"
           },
           "mode": "markers+text",
           "name": "United States of America",
           "orientation": "v",
           "showlegend": true,
           "text": [
            "United States of America"
           ],
           "type": "scatter",
           "x": {
            "bdata": "AAAAAABYhkA=",
            "dtype": "f8"
           },
           "xaxis": "x",
           "y": {
            "bdata": "UdobfGE6WEA=",
            "dtype": "f8"
           },
           "yaxis": "y"
          },
          {
           "hovertemplate": "<b>%{hovertext}</b><br><br>Country Name=%{text}<br>Year=2004.0<br>Neerslag (mm/jaar)=%{x}<br>Totale landbouwuitstoot (Mt CO₂e)=%{y}<extra></extra>",
           "hovertext": [
            "South Africa"
           ],
           "legendgroup": "South Africa",
           "marker": {
            "color": "#FF6692",
            "symbol": "circle"
           },
           "mode": "markers+text",
           "name": "South Africa",
           "orientation": "v",
           "showlegend": true,
           "text": [
            "South Africa"
           ],
           "type": "scatter",
           "x": {
            "bdata": "AAAAAADwfkA=",
            "dtype": "f8"
           },
           "xaxis": "x",
           "y": {
            "bdata": "XCBB8WPMD0A=",
            "dtype": "f8"
           },
           "yaxis": "y"
          }
         ],
         "name": "2004.0"
        },
        {
         "data": [
          {
           "hovertemplate": "<b>%{hovertext}</b><br><br>Country Name=%{text}<br>Year=2005.0<br>Neerslag (mm/jaar)=%{x}<br>Totale landbouwuitstoot (Mt CO₂e)=%{y}<extra></extra>",
           "hovertext": [
            "Brazil"
           ],
           "legendgroup": "Brazil",
           "marker": {
            "color": "#636efa",
            "symbol": "circle"
           },
           "mode": "markers+text",
           "name": "Brazil",
           "orientation": "v",
           "showlegend": true,
           "text": [
            "Brazil"
           ],
           "type": "scatter",
           "x": {
            "bdata": "AAAAAADYm0A=",
            "dtype": "f8"
           },
           "xaxis": "x",
           "y": {
            "bdata": "+cJkqmDUPEA=",
            "dtype": "f8"
           },
           "yaxis": "y"
          },
          {
           "hovertemplate": "<b>%{hovertext}</b><br><br>Country Name=%{text}<br>Year=2005.0<br>Neerslag (mm/jaar)=%{x}<br>Totale landbouwuitstoot (Mt CO₂e)=%{y}<extra></extra>",
           "hovertext": [
            "Indonesia"
           ],
           "legendgroup": "Indonesia",
           "marker": {
            "color": "#EF553B",
            "symbol": "circle"
           },
           "mode": "markers+text",
           "name": "Indonesia",
           "orientation": "v",
           "showlegend": true,
           "text": [
            "Indonesia"
           ],
           "type": "scatter",
           "x": {
            "bdata": "AAAAAAAcpUA=",
            "dtype": "f8"
           },
           "xaxis": "x",
           "y": {
            "bdata": "FkhQ/Bhz9z8=",
            "dtype": "f8"
           },
           "yaxis": "y"
          },
          {
           "hovertemplate": "<b>%{hovertext}</b><br><br>Country Name=%{text}<br>Year=2005.0<br>Neerslag (mm/jaar)=%{x}<br>Totale landbouwuitstoot (Mt CO₂e)=%{y}<extra></extra>",
           "hovertext": [
            "India"
           ],
           "legendgroup": "India",
           "marker": {
            "color": "#00cc96",
            "symbol": "circle"
           },
           "mode": "markers+text",
           "name": "India",
           "orientation": "v",
           "showlegend": true,
           "text": [
            "India"
           ],
           "type": "scatter",
           "x": {
            "bdata": "AAAAAADskEA=",
            "dtype": "f8"
           },
           "xaxis": "x",
           "y": {
            "bdata": "wTkjSns7W0A=",
            "dtype": "f8"
           },
           "yaxis": "y"
          },
          {
           "hovertemplate": "<b>%{hovertext}</b><br><br>Country Name=%{text}<br>Year=2005.0<br>Neerslag (mm/jaar)=%{x}<br>Totale landbouwuitstoot (Mt CO₂e)=%{y}<extra></extra>",
           "hovertext": [
            "Japan"
           ],
           "legendgroup": "Japan",
           "marker": {
            "color": "#ab63fa",
            "symbol": "circle"
           },
           "mode": "markers+text",
           "name": "Japan",
           "orientation": "v",
           "showlegend": true,
           "text": [
            "Japan"
           ],
           "type": "scatter",
           "x": {
            "bdata": "AAAAAAAQmkA=",
            "dtype": "f8"
           },
           "xaxis": "x",
           "y": {
            "bdata": "pb3BFyZTBEA=",
            "dtype": "f8"
           },
           "yaxis": "y"
          },
          {
           "hovertemplate": "<b>%{hovertext}</b><br><br>Country Name=%{text}<br>Year=2005.0<br>Neerslag (mm/jaar)=%{x}<br>Totale landbouwuitstoot (Mt CO₂e)=%{y}<extra></extra>",
           "hovertext": [
            "Nigeria"
           ],
           "legendgroup": "Nigeria",
           "marker": {
            "color": "#FFA15A",
            "symbol": "circle"
           },
           "mode": "markers+text",
           "name": "Nigeria",
           "orientation": "v",
           "showlegend": true,
           "text": [
            "Nigeria"
           ],
           "type": "scatter",
           "x": {
            "bdata": "AAAAAAD4kUA=",
            "dtype": "f8"
           },
           "xaxis": "x",
           "y": {
            "bdata": "gCbChqdX4j8=",
            "dtype": "f8"
           },
           "yaxis": "y"
          },
          {
           "hovertemplate": "<b>%{hovertext}</b><br><br>Country Name=%{text}<br>Year=2005.0<br>Neerslag (mm/jaar)=%{x}<br>Totale landbouwuitstoot (Mt CO₂e)=%{y}<extra></extra>",
           "hovertext": [
            "United States of America"
           ],
           "legendgroup": "United States of America",
           "marker": {
            "color": "#19d3f3",
            "symbol": "circle"
           },
           "mode": "markers+text",
           "name": "United States of America",
           "orientation": "v",
           "showlegend": true,
           "text": [
            "United States of America"
           ],
           "type": "scatter",
           "x": {
            "bdata": "AAAAAABYhkA=",
            "dtype": "f8"
           },
           "xaxis": "x",
           "y": {
            "bdata": "4XoUrkfZWEA=",
            "dtype": "f8"
           },
           "yaxis": "y"
          },
          {
           "hovertemplate": "<b>%{hovertext}</b><br><br>Country Name=%{text}<br>Year=2005.0<br>Neerslag (mm/jaar)=%{x}<br>Totale landbouwuitstoot (Mt CO₂e)=%{y}<extra></extra>",
           "hovertext": [
            "South Africa"
           ],
           "legendgroup": "South Africa",
           "marker": {
            "color": "#FF6692",
            "symbol": "circle"
           },
           "mode": "markers+text",
           "name": "South Africa",
           "orientation": "v",
           "showlegend": true,
           "text": [
            "South Africa"
           ],
           "type": "scatter",
           "x": {
            "bdata": "AAAAAADwfkA=",
            "dtype": "f8"
           },
           "xaxis": "x",
           "y": {
            "bdata": "RpT2Bl8YEEA=",
            "dtype": "f8"
           },
           "yaxis": "y"
          }
         ],
         "name": "2005.0"
        },
        {
         "data": [
          {
           "hovertemplate": "<b>%{hovertext}</b><br><br>Country Name=%{text}<br>Year=2006.0<br>Neerslag (mm/jaar)=%{x}<br>Totale landbouwuitstoot (Mt CO₂e)=%{y}<extra></extra>",
           "hovertext": [
            "Brazil"
           ],
           "legendgroup": "Brazil",
           "marker": {
            "color": "#636efa",
            "symbol": "circle"
           },
           "mode": "markers+text",
           "name": "Brazil",
           "orientation": "v",
           "showlegend": true,
           "text": [
            "Brazil"
           ],
           "type": "scatter",
           "x": {
            "bdata": "AAAAAADYm0A=",
            "dtype": "f8"
           },
           "xaxis": "x",
           "y": {
            "bdata": "HThnRGnvO0A=",
            "dtype": "f8"
           },
           "yaxis": "y"
          },
          {
           "hovertemplate": "<b>%{hovertext}</b><br><br>Country Name=%{text}<br>Year=2006.0<br>Neerslag (mm/jaar)=%{x}<br>Totale landbouwuitstoot (Mt CO₂e)=%{y}<extra></extra>",
           "hovertext": [
            "Indonesia"
           ],
           "legendgroup": "Indonesia",
           "marker": {
            "color": "#EF553B",
            "symbol": "circle"
           },
           "mode": "markers+text",
           "name": "Indonesia",
           "orientation": "v",
           "showlegend": true,
           "text": [
            "Indonesia"
           ],
           "type": "scatter",
           "x": {
            "bdata": "AAAAAAAcpUA=",
            "dtype": "f8"
           },
           "xaxis": "x",
           "y": {
            "bdata": "xm00gLdA+D8=",
            "dtype": "f8"
           },
           "yaxis": "y"
          },
          {
           "hovertemplate": "<b>%{hovertext}</b><br><br>Country Name=%{text}<br>Year=2006.0<br>Neerslag (mm/jaar)=%{x}<br>Totale landbouwuitstoot (Mt CO₂e)=%{y}<extra></extra>",
           "hovertext": [
            "India"
           ],
           "legendgroup": "India",
           "marker": {
            "color": "#00cc96",
            "symbol": "circle"
           },
           "mode": "markers+text",
           "name": "India",
           "orientation": "v",
           "showlegend": true,
           "text": [
            "India"
           ],
           "type": "scatter",
           "x": {
            "bdata": "AAAAAADskEA=",
            "dtype": "f8"
           },
           "xaxis": "x",
           "y": {
            "bdata": "ukkMAivfW0A=",
            "dtype": "f8"
           },
           "yaxis": "y"
          },
          {
           "hovertemplate": "<b>%{hovertext}</b><br><br>Country Name=%{text}<br>Year=2006.0<br>Neerslag (mm/jaar)=%{x}<br>Totale landbouwuitstoot (Mt CO₂e)=%{y}<extra></extra>",
           "hovertext": [
            "Japan"
           ],
           "legendgroup": "Japan",
           "marker": {
            "color": "#ab63fa",
            "symbol": "circle"
           },
           "mode": "markers+text",
           "name": "Japan",
           "orientation": "v",
           "showlegend": true,
           "text": [
            "Japan"
           ],
           "type": "scatter",
           "x": {
            "bdata": "AAAAAAAQmkA=",
            "dtype": "f8"
           },
           "xaxis": "x",
           "y": {
            "bdata": "5tAi2/l+BEA=",
            "dtype": "f8"
           },
           "yaxis": "y"
          },
          {
           "hovertemplate": "<b>%{hovertext}</b><br><br>Country Name=%{text}<br>Year=2006.0<br>Neerslag (mm/jaar)=%{x}<br>Totale landbouwuitstoot (Mt CO₂e)=%{y}<extra></extra>",
           "hovertext": [
            "Nigeria"
           ],
           "legendgroup": "Nigeria",
           "marker": {
            "color": "#FFA15A",
            "symbol": "circle"
           },
           "mode": "markers+text",
           "name": "Nigeria",
           "orientation": "v",
           "showlegend": true,
           "text": [
            "Nigeria"
           ],
           "type": "scatter",
           "x": {
            "bdata": "AAAAAAD4kUA=",
            "dtype": "f8"
           },
           "xaxis": "x",
           "y": {
            "bdata": "vJaQD3o24z8=",
            "dtype": "f8"
           },
           "yaxis": "y"
          },
          {
           "hovertemplate": "<b>%{hovertext}</b><br><br>Country Name=%{text}<br>Year=2006.0<br>Neerslag (mm/jaar)=%{x}<br>Totale landbouwuitstoot (Mt CO₂e)=%{y}<extra></extra>",
           "hovertext": [
            "United States of America"
           ],
           "legendgroup": "United States of America",
           "marker": {
            "color": "#19d3f3",
            "symbol": "circle"
           },
           "mode": "markers+text",
           "name": "United States of America",
           "orientation": "v",
           "showlegend": true,
           "text": [
            "United States of America"
           ],
           "type": "scatter",
           "x": {
            "bdata": "AAAAAABYhkA=",
            "dtype": "f8"
           },
           "xaxis": "x",
           "y": {
            "bdata": "0SLb+X7iVUA=",
            "dtype": "f8"
           },
           "yaxis": "y"
          },
          {
           "hovertemplate": "<b>%{hovertext}</b><br><br>Country Name=%{text}<br>Year=2006.0<br>Neerslag (mm/jaar)=%{x}<br>Totale landbouwuitstoot (Mt CO₂e)=%{y}<extra></extra>",
           "hovertext": [
            "South Africa"
           ],
           "legendgroup": "South Africa",
           "marker": {
            "color": "#FF6692",
            "symbol": "circle"
           },
           "mode": "markers+text",
           "name": "South Africa",
           "orientation": "v",
           "showlegend": true,
           "text": [
            "South Africa"
           ],
           "type": "scatter",
           "x": {
            "bdata": "AAAAAADwfkA=",
            "dtype": "f8"
           },
           "xaxis": "x",
           "y": {
            "bdata": "/DpwzojSD0A=",
            "dtype": "f8"
           },
           "yaxis": "y"
          }
         ],
         "name": "2006.0"
        },
        {
         "data": [
          {
           "hovertemplate": "<b>%{hovertext}</b><br><br>Country Name=%{text}<br>Year=2007.0<br>Neerslag (mm/jaar)=%{x}<br>Totale landbouwuitstoot (Mt CO₂e)=%{y}<extra></extra>",
           "hovertext": [
            "Brazil"
           ],
           "legendgroup": "Brazil",
           "marker": {
            "color": "#636efa",
            "symbol": "circle"
           },
           "mode": "markers+text",
           "name": "Brazil",
           "orientation": "v",
           "showlegend": true,
           "text": [
            "Brazil"
           ],
           "type": "scatter",
           "x": {
            "bdata": "AAAAAACEm0A=",
            "dtype": "f8"
           },
           "xaxis": "x",
           "y": {
            "bdata": "rBxaZDv/P0A=",
            "dtype": "f8"
           },
           "yaxis": "y"
          },
          {
           "hovertemplate": "<b>%{hovertext}</b><br><br>Country Name=%{text}<br>Year=2007.0<br>Neerslag (mm/jaar)=%{x}<br>Totale landbouwuitstoot (Mt CO₂e)=%{y}<extra></extra>",
           "hovertext": [
            "Indonesia"
           ],
           "legendgroup": "Indonesia",
           "marker": {
            "color": "#EF553B",
            "symbol": "circle"
           },
           "mode": "markers+text",
           "name": "Indonesia",
           "orientation": "v",
           "showlegend": true,
           "text": [
            "Indonesia"
           ],
           "type": "scatter",
           "x": {
            "bdata": "AAAAAAAcpUA=",
            "dtype": "f8"
           },
           "xaxis": "x",
           "y": {
            "bdata": "u7iNBvAW+j8=",
            "dtype": "f8"
           },
           "yaxis": "y"
          },
          {
           "hovertemplate": "<b>%{hovertext}</b><br><br>Country Name=%{text}<br>Year=2007.0<br>Neerslag (mm/jaar)=%{x}<br>Totale landbouwuitstoot (Mt CO₂e)=%{y}<extra></extra>",
           "hovertext": [
            "India"
           ],
           "legendgroup": "India",
           "marker": {
            "color": "#00cc96",
            "symbol": "circle"
           },
           "mode": "markers+text",
           "name": "India",
           "orientation": "v",
           "showlegend": true,
           "text": [
            "India"
           ],
           "type": "scatter",
           "x": {
            "bdata": "AAAAAADskEA=",
            "dtype": "f8"
           },
           "xaxis": "x",
           "y": {
            "bdata": "4seYu5ZgXkA=",
            "dtype": "f8"
           },
           "yaxis": "y"
          },
          {
           "hovertemplate": "<b>%{hovertext}</b><br><br>Country Name=%{text}<br>Year=2007.0<br>Neerslag (mm/jaar)=%{x}<br>Totale landbouwuitstoot (Mt CO₂e)=%{y}<extra></extra>",
           "hovertext": [
            "Japan"
           ],
           "legendgroup": "Japan",
           "marker": {
            "color": "#ab63fa",
            "symbol": "circle"
           },
           "mode": "markers+text",
           "name": "Japan",
           "orientation": "v",
           "showlegend": true,
           "text": [
            "Japan"
           ],
           "type": "scatter",
           "x": {
            "bdata": "AAAAAAAQmkA=",
            "dtype": "f8"
           },
           "xaxis": "x",
           "y": {
            "bdata": "9NvXgXNGBEA=",
            "dtype": "f8"
           },
           "yaxis": "y"
          },
          {
           "hovertemplate": "<b>%{hovertext}</b><br><br>Country Name=%{text}<br>Year=2007.0<br>Neerslag (mm/jaar)=%{x}<br>Totale landbouwuitstoot (Mt CO₂e)=%{y}<extra></extra>",
           "hovertext": [
            "Nigeria"
           ],
           "legendgroup": "Nigeria",
           "marker": {
            "color": "#FFA15A",
            "symbol": "circle"
           },
           "mode": "markers+text",
           "name": "Nigeria",
           "orientation": "v",
           "showlegend": true,
           "text": [
            "Nigeria"
           ],
           "type": "scatter",
           "x": {
            "bdata": "AAAAAAD4kUA=",
            "dtype": "f8"
           },
           "xaxis": "x",
           "y": {
            "bdata": "si5uowG84T8=",
            "dtype": "f8"
           },
           "yaxis": "y"
          },
          {
           "hovertemplate": "<b>%{hovertext}</b><br><br>Country Name=%{text}<br>Year=2007.0<br>Neerslag (mm/jaar)=%{x}<br>Totale landbouwuitstoot (Mt CO₂e)=%{y}<extra></extra>",
           "hovertext": [
            "United States of America"
           ],
           "legendgroup": "United States of America",
           "marker": {
            "color": "#19d3f3",
            "symbol": "circle"
           },
           "mode": "markers+text",
           "name": "United States of America",
           "orientation": "v",
           "showlegend": true,
           "text": [
            "United States of America"
           ],
           "type": "scatter",
           "x": {
            "bdata": "AAAAAABYhkA=",
            "dtype": "f8"
           },
           "xaxis": "x",
           "y": {
            "bdata": "tTf4wmRqWEA=",
            "dtype": "f8"
           },
           "yaxis": "y"
          },
          {
           "hovertemplate": "<b>%{hovertext}</b><br><br>Country Name=%{text}<br>Year=2007.0<br>Neerslag (mm/jaar)=%{x}<br>Totale landbouwuitstoot (Mt CO₂e)=%{y}<extra></extra>",
           "hovertext": [
            "South Africa"
           ],
           "legendgroup": "South Africa",
           "marker": {
            "color": "#FF6692",
            "symbol": "circle"
           },
           "mode": "markers+text",
           "name": "South Africa",
           "orientation": "v",
           "showlegend": true,
           "text": [
            "South Africa"
           ],
           "type": "scatter",
           "x": {
            "bdata": "AAAAAADwfkA=",
            "dtype": "f8"
           },
           "xaxis": "x",
           "y": {
            "bdata": "l5APejarDEA=",
            "dtype": "f8"
           },
           "yaxis": "y"
          }
         ],
         "name": "2007.0"
        },
        {
         "data": [
          {
           "hovertemplate": "<b>%{hovertext}</b><br><br>Country Name=%{text}<br>Year=2008.0<br>Neerslag (mm/jaar)=%{x}<br>Totale landbouwuitstoot (Mt CO₂e)=%{y}<extra></extra>",
           "hovertext": [
            "Brazil"
           ],
           "legendgroup": "Brazil",
           "marker": {
            "color": "#636efa",
            "symbol": "circle"
           },
           "mode": "markers+text",
           "name": "Brazil",
           "orientation": "v",
           "showlegend": true,
           "text": [
            "Brazil"
           ],
           "type": "scatter",
           "x": {
            "bdata": "AAAAAACEm0A=",
            "dtype": "f8"
           },
           "xaxis": "x",
           "y": {
            "bdata": "qDXNO07xQkA=",
            "dtype": "f8"
           },
           "yaxis": "y"
          },
          {
           "hovertemplate": "<b>%{hovertext}</b><br><br>Country Name=%{text}<br>Year=2008.0<br>Neerslag (mm/jaar)=%{x}<br>Totale landbouwuitstoot (Mt CO₂e)=%{y}<extra></extra>",
           "hovertext": [
            "Indonesia"
           ],
           "legendgroup": "Indonesia",
           "marker": {
            "color": "#EF553B",
            "symbol": "circle"
           },
           "mode": "markers+text",
           "name": "Indonesia",
           "orientation": "v",
           "showlegend": true,
           "text": [
            "Indonesia"
           ],
           "type": "scatter",
           "x": {
            "bdata": "AAAAAAAcpUA=",
            "dtype": "f8"
           },
           "xaxis": "x",
           "y": {
            "bdata": "WFuxv+ye+j8=",
            "dtype": "f8"
           },
           "yaxis": "y"
          },
          {
           "hovertemplate": "<b>%{hovertext}</b><br><br>Country Name=%{text}<br>Year=2008.0<br>Neerslag (mm/jaar)=%{x}<br>Totale landbouwuitstoot (Mt CO₂e)=%{y}<extra></extra>",
           "hovertext": [
            "India"
           ],
           "legendgroup": "India",
           "marker": {
            "color": "#00cc96",
            "symbol": "circle"
           },
           "mode": "markers+text",
           "name": "India",
           "orientation": "v",
           "showlegend": true,
           "text": [
            "India"
           ],
           "type": "scatter",
           "x": {
            "bdata": "AAAAAADskEA=",
            "dtype": "f8"
           },
           "xaxis": "x",
           "y": {
            "bdata": "QmDl0CKzXkA=",
            "dtype": "f8"
           },
           "yaxis": "y"
          },
          {
           "hovertemplate": "<b>%{hovertext}</b><br><br>Country Name=%{text}<br>Year=2008.0<br>Neerslag (mm/jaar)=%{x}<br>Totale landbouwuitstoot (Mt CO₂e)=%{y}<extra></extra>",
           "hovertext": [
            "Japan"
           ],
           "legendgroup": "Japan",
           "marker": {
            "color": "#ab63fa",
            "symbol": "circle"
           },
           "mode": "markers+text",
           "name": "Japan",
           "orientation": "v",
           "showlegend": true,
           "text": [
            "Japan"
           ],
           "type": "scatter",
           "x": {
            "bdata": "AAAAAAAQmkA=",
            "dtype": "f8"
           },
           "xaxis": "x",
           "y": {
            "bdata": "qKROQBNhA0A=",
            "dtype": "f8"
           },
           "yaxis": "y"
          },
          {
           "hovertemplate": "<b>%{hovertext}</b><br><br>Country Name=%{text}<br>Year=2008.0<br>Neerslag (mm/jaar)=%{x}<br>Totale landbouwuitstoot (Mt CO₂e)=%{y}<extra></extra>",
           "hovertext": [
            "Nigeria"
           ],
           "legendgroup": "Nigeria",
           "marker": {
            "color": "#FFA15A",
            "symbol": "circle"
           },
           "mode": "markers+text",
           "name": "Nigeria",
           "orientation": "v",
           "showlegend": true,
           "text": [
            "Nigeria"
           ],
           "type": "scatter",
           "x": {
            "bdata": "AAAAAAD4kUA=",
            "dtype": "f8"
           },
           "xaxis": "x",
           "y": {
            "bdata": "lIeFWtO84z8=",
            "dtype": "f8"
           },
           "yaxis": "y"
          },
          {
           "hovertemplate": "<b>%{hovertext}</b><br><br>Country Name=%{text}<br>Year=2008.0<br>Neerslag (mm/jaar)=%{x}<br>Totale landbouwuitstoot (Mt CO₂e)=%{y}<extra></extra>",
           "hovertext": [
            "United States of America"
           ],
           "legendgroup": "United States of America",
           "marker": {
            "color": "#19d3f3",
            "symbol": "circle"
           },
           "mode": "markers+text",
           "name": "United States of America",
           "orientation": "v",
           "showlegend": true,
           "text": [
            "United States of America"
           ],
           "type": "scatter",
           "x": {
            "bdata": "AAAAAABYhkA=",
            "dtype": "f8"
           },
           "xaxis": "x",
           "y": {
            "bdata": "+aBns+rrW0A=",
            "dtype": "f8"
           },
           "yaxis": "y"
          },
          {
           "hovertemplate": "<b>%{hovertext}</b><br><br>Country Name=%{text}<br>Year=2008.0<br>Neerslag (mm/jaar)=%{x}<br>Totale landbouwuitstoot (Mt CO₂e)=%{y}<extra></extra>",
           "hovertext": [
            "South Africa"
           ],
           "legendgroup": "South Africa",
           "marker": {
            "color": "#FF6692",
            "symbol": "circle"
           },
           "mode": "markers+text",
           "name": "South Africa",
           "orientation": "v",
           "showlegend": true,
           "text": [
            "South Africa"
           ],
           "type": "scatter",
           "x": {
            "bdata": "AAAAAADwfkA=",
            "dtype": "f8"
           },
           "xaxis": "x",
           "y": {
            "bdata": "EqW9wRcmD0A=",
            "dtype": "f8"
           },
           "yaxis": "y"
          }
         ],
         "name": "2008.0"
        },
        {
         "data": [
          {
           "hovertemplate": "<b>%{hovertext}</b><br><br>Country Name=%{text}<br>Year=2009.0<br>Neerslag (mm/jaar)=%{x}<br>Totale landbouwuitstoot (Mt CO₂e)=%{y}<extra></extra>",
           "hovertext": [
            "Brazil"
           ],
           "legendgroup": "Brazil",
           "marker": {
            "color": "#636efa",
            "symbol": "circle"
           },
           "mode": "markers+text",
           "name": "Brazil",
           "orientation": "v",
           "showlegend": true,
           "text": [
            "Brazil"
           ],
           "type": "scatter",
           "x": {
            "bdata": "AAAAAACEm0A=",
            "dtype": "f8"
           },
           "xaxis": "x",
           "y": {
            "bdata": "Dwu1pnmnQ0A=",
            "dtype": "f8"
           },
           "yaxis": "y"
          },
          {
           "hovertemplate": "<b>%{hovertext}</b><br><br>Country Name=%{text}<br>Year=2009.0<br>Neerslag (mm/jaar)=%{x}<br>Totale landbouwuitstoot (Mt CO₂e)=%{y}<extra></extra>",
           "hovertext": [
            "Indonesia"
           ],
           "legendgroup": "Indonesia",
           "marker": {
            "color": "#EF553B",
            "symbol": "circle"
           },
           "mode": "markers+text",
           "name": "Indonesia",
           "orientation": "v",
           "showlegend": true,
           "text": [
            "Indonesia"
           ],
           "type": "scatter",
           "x": {
            "bdata": "AAAAAAAcpUA=",
            "dtype": "f8"
           },
           "xaxis": "x",
           "y": {
            "bdata": "8RZIUPwY+z8=",
            "dtype": "f8"
           },
           "yaxis": "y"
          },
          {
           "hovertemplate": "<b>%{hovertext}</b><br><br>Country Name=%{text}<br>Year=2009.0<br>Neerslag (mm/jaar)=%{x}<br>Totale landbouwuitstoot (Mt CO₂e)=%{y}<extra></extra>",
           "hovertext": [
            "India"
           ],
           "legendgroup": "India",
           "marker": {
            "color": "#00cc96",
            "symbol": "circle"
           },
           "mode": "markers+text",
           "name": "India",
           "orientation": "v",
           "showlegend": true,
           "text": [
            "India"
           ],
           "type": "scatter",
           "x": {
            "bdata": "AAAAAADskEA=",
            "dtype": "f8"
           },
           "xaxis": "x",
           "y": {
            "bdata": "ih9j7loyXkA=",
            "dtype": "f8"
           },
           "yaxis": "y"
          },
          {
           "hovertemplate": "<b>%{hovertext}</b><br><br>Country Name=%{text}<br>Year=2009.0<br>Neerslag (mm/jaar)=%{x}<br>Totale landbouwuitstoot (Mt CO₂e)=%{y}<extra></extra>",
           "hovertext": [
            "Japan"
           ],
           "legendgroup": "Japan",
           "marker": {
            "color": "#ab63fa",
            "symbol": "circle"
           },
           "mode": "markers+text",
           "name": "Japan",
           "orientation": "v",
           "showlegend": true,
           "text": [
            "Japan"
           ],
           "type": "scatter",
           "x": {
            "bdata": "AAAAAAAQmkA=",
            "dtype": "f8"
           },
           "xaxis": "x",
           "y": {
            "bdata": "6Gor9pfdAUA=",
            "dtype": "f8"
           },
           "yaxis": "y"
          },
          {
           "hovertemplate": "<b>%{hovertext}</b><br><br>Country Name=%{text}<br>Year=2009.0<br>Neerslag (mm/jaar)=%{x}<br>Totale landbouwuitstoot (Mt CO₂e)=%{y}<extra></extra>",
           "hovertext": [
            "Nigeria"
           ],
           "legendgroup": "Nigeria",
           "marker": {
            "color": "#FFA15A",
            "symbol": "circle"
           },
           "mode": "markers+text",
           "name": "Nigeria",
           "orientation": "v",
           "showlegend": true,
           "text": [
            "Nigeria"
           ],
           "type": "scatter",
           "x": {
            "bdata": "AAAAAAD4kUA=",
            "dtype": "f8"
           },
           "xaxis": "x",
           "y": {
            "bdata": "B/AWSFD85D8=",
            "dtype": "f8"
           },
           "yaxis": "y"
          },
          {
           "hovertemplate": "<b>%{hovertext}</b><br><br>Country Name=%{text}<br>Year=2009.0<br>Neerslag (mm/jaar)=%{x}<br>Totale landbouwuitstoot (Mt CO₂e)=%{y}<extra></extra>",
           "hovertext": [
            "United States of America"
           ],
           "legendgroup": "United States of America",
           "marker": {
            "color": "#19d3f3",
            "symbol": "circle"
           },
           "mode": "markers+text",
           "name": "United States of America",
           "orientation": "v",
           "showlegend": true,
           "text": [
            "United States of America"
           ],
           "type": "scatter",
           "x": {
            "bdata": "AAAAAABYhkA=",
            "dtype": "f8"
           },
           "xaxis": "x",
           "y": {
            "bdata": "vjCZKhhdWEA=",
            "dtype": "f8"
           },
           "yaxis": "y"
          },
          {
           "hovertemplate": "<b>%{hovertext}</b><br><br>Country Name=%{text}<br>Year=2009.0<br>Neerslag (mm/jaar)=%{x}<br>Totale landbouwuitstoot (Mt CO₂e)=%{y}<extra></extra>",
           "hovertext": [
            "South Africa"
           ],
           "legendgroup": "South Africa",
           "marker": {
            "color": "#FF6692",
            "symbol": "circle"
           },
           "mode": "markers+text",
           "name": "South Africa",
           "orientation": "v",
           "showlegend": true,
           "text": [
            "South Africa"
           ],
           "type": "scatter",
           "x": {
            "bdata": "AAAAAADwfkA=",
            "dtype": "f8"
           },
           "xaxis": "x",
           "y": {
            "bdata": "dnEbDeAtDEA=",
            "dtype": "f8"
           },
           "yaxis": "y"
          }
         ],
         "name": "2009.0"
        },
        {
         "data": [
          {
           "hovertemplate": "<b>%{hovertext}</b><br><br>Country Name=%{text}<br>Year=2010.0<br>Neerslag (mm/jaar)=%{x}<br>Totale landbouwuitstoot (Mt CO₂e)=%{y}<extra></extra>",
           "hovertext": [
            "Brazil"
           ],
           "legendgroup": "Brazil",
           "marker": {
            "color": "#636efa",
            "symbol": "circle"
           },
           "mode": "markers+text",
           "name": "Brazil",
           "orientation": "v",
           "showlegend": true,
           "text": [
            "Brazil"
           ],
           "type": "scatter",
           "x": {
            "bdata": "AAAAAACEm0A=",
            "dtype": "f8"
           },
           "xaxis": "x",
           "y": {
            "bdata": "/7J78rBwREA=",
            "dtype": "f8"
           },
           "yaxis": "y"
          },
          {
           "hovertemplate": "<b>%{hovertext}</b><br><br>Country Name=%{text}<br>Year=2010.0<br>Neerslag (mm/jaar)=%{x}<br>Totale landbouwuitstoot (Mt CO₂e)=%{y}<extra></extra>",
           "hovertext": [
            "Indonesia"
           ],
           "legendgroup": "Indonesia",
           "marker": {
            "color": "#EF553B",
            "symbol": "circle"
           },
           "mode": "markers+text",
           "name": "Indonesia",
           "orientation": "v",
           "showlegend": true,
           "text": [
            "Indonesia"
           ],
           "type": "scatter",
           "x": {
            "bdata": "AAAAAAAcpUA=",
            "dtype": "f8"
           },
           "xaxis": "x",
           "y": {
            "bdata": "AU2EDU+v+j8=",
            "dtype": "f8"
           },
           "yaxis": "y"
          },
          {
           "hovertemplate": "<b>%{hovertext}</b><br><br>Country Name=%{text}<br>Year=2010.0<br>Neerslag (mm/jaar)=%{x}<br>Totale landbouwuitstoot (Mt CO₂e)=%{y}<extra></extra>",
           "hovertext": [
            "India"
           ],
           "legendgroup": "India",
           "marker": {
            "color": "#00cc96",
            "symbol": "circle"
           },
           "mode": "markers+text",
           "name": "India",
           "orientation": "v",
           "showlegend": true,
           "text": [
            "India"
           ],
           "type": "scatter",
           "x": {
            "bdata": "AAAAAADskEA=",
            "dtype": "f8"
           },
           "xaxis": "x",
           "y": {
            "bdata": "5tAi2/luXkA=",
            "dtype": "f8"
           },
           "yaxis": "y"
          },
          {
           "hovertemplate": "<b>%{hovertext}</b><br><br>Country Name=%{text}<br>Year=2010.0<br>Neerslag (mm/jaar)=%{x}<br>Totale landbouwuitstoot (Mt CO₂e)=%{y}<extra></extra>",
           "hovertext": [
            "Japan"
           ],
           "legendgroup": "Japan",
           "marker": {
            "color": "#ab63fa",
            "symbol": "circle"
           },
           "mode": "markers+text",
           "name": "Japan",
           "orientation": "v",
           "showlegend": true,
           "text": [
            "Japan"
           ],
           "type": "scatter",
           "x": {
            "bdata": "AAAAAAAQmkA=",
            "dtype": "f8"
           },
           "xaxis": "x",
           "y": {
            "bdata": "rkfhehSuAEA=",
            "dtype": "f8"
           },
           "yaxis": "y"
          },
          {
           "hovertemplate": "<b>%{hovertext}</b><br><br>Country Name=%{text}<br>Year=2010.0<br>Neerslag (mm/jaar)=%{x}<br>Totale landbouwuitstoot (Mt CO₂e)=%{y}<extra></extra>",
           "hovertext": [
            "Nigeria"
           ],
           "legendgroup": "Nigeria",
           "marker": {
            "color": "#FFA15A",
            "symbol": "circle"
           },
           "mode": "markers+text",
           "name": "Nigeria",
           "orientation": "v",
           "showlegend": true,
           "text": [
            "Nigeria"
           ],
           "type": "scatter",
           "x": {
            "bdata": "AAAAAAD4kUA=",
            "dtype": "f8"
           },
           "xaxis": "x",
           "y": {
            "bdata": "54wo7Q2+5D8=",
            "dtype": "f8"
           },
           "yaxis": "y"
          },
          {
           "hovertemplate": "<b>%{hovertext}</b><br><br>Country Name=%{text}<br>Year=2010.0<br>Neerslag (mm/jaar)=%{x}<br>Totale landbouwuitstoot (Mt CO₂e)=%{y}<extra></extra>",
           "hovertext": [
            "United States of America"
           ],
           "legendgroup": "United States of America",
           "marker": {
            "color": "#19d3f3",
            "symbol": "circle"
           },
           "mode": "markers+text",
           "name": "United States of America",
           "orientation": "v",
           "showlegend": true,
           "text": [
            "United States of America"
           ],
           "type": "scatter",
           "x": {
            "bdata": "AAAAAABYhkA=",
            "dtype": "f8"
           },
           "xaxis": "x",
           "y": {
            "bdata": "V+wvuyefV0A=",
            "dtype": "f8"
           },
           "yaxis": "y"
          },
          {
           "hovertemplate": "<b>%{hovertext}</b><br><br>Country Name=%{text}<br>Year=2010.0<br>Neerslag (mm/jaar)=%{x}<br>Totale landbouwuitstoot (Mt CO₂e)=%{y}<extra></extra>",
           "hovertext": [
            "South Africa"
           ],
           "legendgroup": "South Africa",
           "marker": {
            "color": "#FF6692",
            "symbol": "circle"
           },
           "mode": "markers+text",
           "name": "South Africa",
           "orientation": "v",
           "showlegend": true,
           "text": [
            "South Africa"
           ],
           "type": "scatter",
           "x": {
            "bdata": "AAAAAADwfkA=",
            "dtype": "f8"
           },
           "xaxis": "x",
           "y": {
            "bdata": "3NeBc0aUCEA=",
            "dtype": "f8"
           },
           "yaxis": "y"
          }
         ],
         "name": "2010.0"
        },
        {
         "data": [
          {
           "hovertemplate": "<b>%{hovertext}</b><br><br>Country Name=%{text}<br>Year=2011.0<br>Neerslag (mm/jaar)=%{x}<br>Totale landbouwuitstoot (Mt CO₂e)=%{y}<extra></extra>",
           "hovertext": [
            "Brazil"
           ],
           "legendgroup": "Brazil",
           "marker": {
            "color": "#636efa",
            "symbol": "circle"
           },
           "mode": "markers+text",
           "name": "Brazil",
           "orientation": "v",
           "showlegend": true,
           "text": [
            "Brazil"
           ],
           "type": "scatter",
           "x": {
            "bdata": "AAAAAACEm0A=",
            "dtype": "f8"
           },
           "xaxis": "x",
           "y": {
            "bdata": "I/32deA8RUA=",
            "dtype": "f8"
           },
           "yaxis": "y"
          },
          {
           "hovertemplate": "<b>%{hovertext}</b><br><br>Country Name=%{text}<br>Year=2011.0<br>Neerslag (mm/jaar)=%{x}<br>Totale landbouwuitstoot (Mt CO₂e)=%{y}<extra></extra>",
           "hovertext": [
            "Indonesia"
           ],
           "legendgroup": "Indonesia",
           "marker": {
            "color": "#EF553B",
            "symbol": "circle"
           },
           "mode": "markers+text",
           "name": "Indonesia",
           "orientation": "v",
           "showlegend": true,
           "text": [
            "Indonesia"
           ],
           "type": "scatter",
           "x": {
            "bdata": "AAAAAAAcpUA=",
            "dtype": "f8"
           },
           "xaxis": "x",
           "y": {
            "bdata": "AJF++zpw+j8=",
            "dtype": "f8"
           },
           "yaxis": "y"
          },
          {
           "hovertemplate": "<b>%{hovertext}</b><br><br>Country Name=%{text}<br>Year=2011.0<br>Neerslag (mm/jaar)=%{x}<br>Totale landbouwuitstoot (Mt CO₂e)=%{y}<extra></extra>",
           "hovertext": [
            "India"
           ],
           "legendgroup": "India",
           "marker": {
            "color": "#00cc96",
            "symbol": "circle"
           },
           "mode": "markers+text",
           "name": "India",
           "orientation": "v",
           "showlegend": true,
           "text": [
            "India"
           ],
           "type": "scatter",
           "x": {
            "bdata": "AAAAAADskEA=",
            "dtype": "f8"
           },
           "xaxis": "x",
           "y": {
            "bdata": "0gDeAgkeYEA=",
            "dtype": "f8"
           },
           "yaxis": "y"
          },
          {
           "hovertemplate": "<b>%{hovertext}</b><br><br>Country Name=%{text}<br>Year=2011.0<br>Neerslag (mm/jaar)=%{x}<br>Totale landbouwuitstoot (Mt CO₂e)=%{y}<extra></extra>",
           "hovertext": [
            "Japan"
           ],
           "legendgroup": "Japan",
           "marker": {
            "color": "#ab63fa",
            "symbol": "circle"
           },
           "mode": "markers+text",
           "name": "Japan",
           "orientation": "v",
           "showlegend": true,
           "text": [
            "Japan"
           ],
           "type": "scatter",
           "x": {
            "bdata": "AAAAAAAQmkA=",
            "dtype": "f8"
           },
           "xaxis": "x",
           "y": {
            "bdata": "ZRniWBe3AEA=",
            "dtype": "f8"
           },
           "yaxis": "y"
          },
          {
           "hovertemplate": "<b>%{hovertext}</b><br><br>Country Name=%{text}<br>Year=2011.0<br>Neerslag (mm/jaar)=%{x}<br>Totale landbouwuitstoot (Mt CO₂e)=%{y}<extra></extra>",
           "hovertext": [
            "Nigeria"
           ],
           "legendgroup": "Nigeria",
           "marker": {
            "color": "#FFA15A",
            "symbol": "circle"
           },
           "mode": "markers+text",
           "name": "Nigeria",
           "orientation": "v",
           "showlegend": true,
           "text": [
            "Nigeria"
           ],
           "type": "scatter",
           "x": {
            "bdata": "AAAAAAD4kUA=",
            "dtype": "f8"
           },
           "xaxis": "x",
           "y": {
            "bdata": "+ORhodY06z8=",
            "dtype": "f8"
           },
           "yaxis": "y"
          },
          {
           "hovertemplate": "<b>%{hovertext}</b><br><br>Country Name=%{text}<br>Year=2011.0<br>Neerslag (mm/jaar)=%{x}<br>Totale landbouwuitstoot (Mt CO₂e)=%{y}<extra></extra>",
           "hovertext": [
            "United States of America"
           ],
           "legendgroup": "United States of America",
           "marker": {
            "color": "#19d3f3",
            "symbol": "circle"
           },
           "mode": "markers+text",
           "name": "United States of America",
           "orientation": "v",
           "showlegend": true,
           "text": [
            "United States of America"
           ],
           "type": "scatter",
           "x": {
            "bdata": "AAAAAABYhkA=",
            "dtype": "f8"
           },
           "xaxis": "x",
           "y": {
            "bdata": "rIvbaACPVkA=",
            "dtype": "f8"
           },
           "yaxis": "y"
          },
          {
           "hovertemplate": "<b>%{hovertext}</b><br><br>Country Name=%{text}<br>Year=2011.0<br>Neerslag (mm/jaar)=%{x}<br>Totale landbouwuitstoot (Mt CO₂e)=%{y}<extra></extra>",
           "hovertext": [
            "South Africa"
           ],
           "legendgroup": "South Africa",
           "marker": {
            "color": "#FF6692",
            "symbol": "circle"
           },
           "mode": "markers+text",
           "name": "South Africa",
           "orientation": "v",
           "showlegend": true,
           "text": [
            "South Africa"
           ],
           "type": "scatter",
           "x": {
            "bdata": "AAAAAADwfkA=",
            "dtype": "f8"
           },
           "xaxis": "x",
           "y": {
            "bdata": "V+wvuycPC0A=",
            "dtype": "f8"
           },
           "yaxis": "y"
          }
         ],
         "name": "2011.0"
        },
        {
         "data": [
          {
           "hovertemplate": "<b>%{hovertext}</b><br><br>Country Name=%{text}<br>Year=2012.0<br>Neerslag (mm/jaar)=%{x}<br>Totale landbouwuitstoot (Mt CO₂e)=%{y}<extra></extra>",
           "hovertext": [
            "Brazil"
           ],
           "legendgroup": "Brazil",
           "marker": {
            "color": "#636efa",
            "symbol": "circle"
           },
           "mode": "markers+text",
           "name": "Brazil",
           "orientation": "v",
           "showlegend": true,
           "text": [
            "Brazil"
           ],
           "type": "scatter",
           "x": {
            "bdata": "AAAAAACEm0A=",
            "dtype": "f8"
           },
           "xaxis": "x",
           "y": {
            "bdata": "lfYGX5jcREA=",
            "dtype": "f8"
           },
           "yaxis": "y"
          },
          {
           "hovertemplate": "<b>%{hovertext}</b><br><br>Country Name=%{text}<br>Year=2012.0<br>Neerslag (mm/jaar)=%{x}<br>Totale landbouwuitstoot (Mt CO₂e)=%{y}<extra></extra>",
           "hovertext": [
            "Indonesia"
           ],
           "legendgroup": "Indonesia",
           "marker": {
            "color": "#EF553B",
            "symbol": "circle"
           },
           "mode": "markers+text",
           "name": "Indonesia",
           "orientation": "v",
           "showlegend": true,
           "text": [
            "Indonesia"
           ],
           "type": "scatter",
           "x": {
            "bdata": "AAAAAAAcpUA=",
            "dtype": "f8"
           },
           "xaxis": "x",
           "y": {
            "bdata": "z4jS3uAL+z8=",
            "dtype": "f8"
           },
           "yaxis": "y"
          },
          {
           "hovertemplate": "<b>%{hovertext}</b><br><br>Country Name=%{text}<br>Year=2012.0<br>Neerslag (mm/jaar)=%{x}<br>Totale landbouwuitstoot (Mt CO₂e)=%{y}<extra></extra>",
           "hovertext": [
            "India"
           ],
           "legendgroup": "India",
           "marker": {
            "color": "#00cc96",
            "symbol": "circle"
           },
           "mode": "markers+text",
           "name": "India",
           "orientation": "v",
           "showlegend": true,
           "text": [
            "India"
           ],
           "type": "scatter",
           "x": {
            "bdata": "AAAAAADskEA=",
            "dtype": "f8"
           },
           "xaxis": "x",
           "y": {
            "bdata": "seHplbLYYEA=",
            "dtype": "f8"
           },
           "yaxis": "y"
          },
          {
           "hovertemplate": "<b>%{hovertext}</b><br><br>Country Name=%{text}<br>Year=2012.0<br>Neerslag (mm/jaar)=%{x}<br>Totale landbouwuitstoot (Mt CO₂e)=%{y}<extra></extra>",
           "hovertext": [
            "Japan"
           ],
           "legendgroup": "Japan",
           "marker": {
            "color": "#ab63fa",
            "symbol": "circle"
           },
           "mode": "markers+text",
           "name": "Japan",
           "orientation": "v",
           "showlegend": true,
           "text": [
            "Japan"
           ],
           "type": "scatter",
           "x": {
            "bdata": "AAAAAAAQmkA=",
            "dtype": "f8"
           },
           "xaxis": "x",
           "y": {
            "bdata": "io7k8h/SAEA=",
            "dtype": "f8"
           },
           "yaxis": "y"
          },
          {
           "hovertemplate": "<b>%{hovertext}</b><br><br>Country Name=%{text}<br>Year=2012.0<br>Neerslag (mm/jaar)=%{x}<br>Totale landbouwuitstoot (Mt CO₂e)=%{y}<extra></extra>",
           "hovertext": [
            "Nigeria"
           ],
           "legendgroup": "Nigeria",
           "marker": {
            "color": "#FFA15A",
            "symbol": "circle"
           },
           "mode": "markers+text",
           "name": "Nigeria",
           "orientation": "v",
           "showlegend": true,
           "text": [
            "Nigeria"
           ],
           "type": "scatter",
           "x": {
            "bdata": "AAAAAAD4kUA=",
            "dtype": "f8"
           },
           "xaxis": "x",
           "y": {
            "bdata": "6gQ0ETY86T8=",
            "dtype": "f8"
           },
           "yaxis": "y"
          },
          {
           "hovertemplate": "<b>%{hovertext}</b><br><br>Country Name=%{text}<br>Year=2012.0<br>Neerslag (mm/jaar)=%{x}<br>Totale landbouwuitstoot (Mt CO₂e)=%{y}<extra></extra>",
           "hovertext": [
            "United States of America"
           ],
           "legendgroup": "United States of America",
           "marker": {
            "color": "#19d3f3",
            "symbol": "circle"
           },
           "mode": "markers+text",
           "name": "United States of America",
           "orientation": "v",
           "showlegend": true,
           "text": [
            "United States of America"
           ],
           "type": "scatter",
           "x": {
            "bdata": "AAAAAABYhkA=",
            "dtype": "f8"
           },
           "xaxis": "x",
           "y": {
            "bdata": "a5p3nKKzWEA=",
            "dtype": "f8"
           },
           "yaxis": "y"
          },
          {
           "hovertemplate": "<b>%{hovertext}</b><br><br>Country Name=%{text}<br>Year=2012.0<br>Neerslag (mm/jaar)=%{x}<br>Totale landbouwuitstoot (Mt CO₂e)=%{y}<extra></extra>",
           "hovertext": [
            "South Africa"
           ],
           "legendgroup": "South Africa",
           "marker": {
            "color": "#FF6692",
            "symbol": "circle"
           },
           "mode": "markers+text",
           "name": "South Africa",
           "orientation": "v",
           "showlegend": true,
           "text": [
            "South Africa"
           ],
           "type": "scatter",
           "x": {
            "bdata": "AAAAAADwfkA=",
            "dtype": "f8"
           },
           "xaxis": "x",
           "y": {
            "bdata": "0m9fB84ZCUA=",
            "dtype": "f8"
           },
           "yaxis": "y"
          }
         ],
         "name": "2012.0"
        },
        {
         "data": [
          {
           "hovertemplate": "<b>%{hovertext}</b><br><br>Country Name=%{text}<br>Year=2013.0<br>Neerslag (mm/jaar)=%{x}<br>Totale landbouwuitstoot (Mt CO₂e)=%{y}<extra></extra>",
           "hovertext": [
            "Brazil"
           ],
           "legendgroup": "Brazil",
           "marker": {
            "color": "#636efa",
            "symbol": "circle"
           },
           "mode": "markers+text",
           "name": "Brazil",
           "orientation": "v",
           "showlegend": true,
           "text": [
            "Brazil"
           ],
           "type": "scatter",
           "x": {
            "bdata": "AAAAAACEm0A=",
            "dtype": "f8"
           },
           "xaxis": "x",
           "y": {
            "bdata": "IEHxY8w9RkA=",
            "dtype": "f8"
           },
           "yaxis": "y"
          },
          {
           "hovertemplate": "<b>%{hovertext}</b><br><br>Country Name=%{text}<br>Year=2013.0<br>Neerslag (mm/jaar)=%{x}<br>Totale landbouwuitstoot (Mt CO₂e)=%{y}<extra></extra>",
           "hovertext": [
            "Indonesia"
           ],
           "legendgroup": "Indonesia",
           "marker": {
            "color": "#EF553B",
            "symbol": "circle"
           },
           "mode": "markers+text",
           "name": "Indonesia",
           "orientation": "v",
           "showlegend": true,
           "text": [
            "Indonesia"
           ],
           "type": "scatter",
           "x": {
            "bdata": "AAAAAAAcpUA=",
            "dtype": "f8"
           },
           "xaxis": "x",
           "y": {
            "bdata": "qz5XW7G//D8=",
            "dtype": "f8"
           },
           "yaxis": "y"
          },
          {
           "hovertemplate": "<b>%{hovertext}</b><br><br>Country Name=%{text}<br>Year=2013.0<br>Neerslag (mm/jaar)=%{x}<br>Totale landbouwuitstoot (Mt CO₂e)=%{y}<extra></extra>",
           "hovertext": [
            "India"
           ],
           "legendgroup": "India",
           "marker": {
            "color": "#00cc96",
            "symbol": "circle"
           },
           "mode": "markers+text",
           "name": "India",
           "orientation": "v",
           "showlegend": true,
           "text": [
            "India"
           ],
           "type": "scatter",
           "x": {
            "bdata": "AAAAAADskEA=",
            "dtype": "f8"
           },
           "xaxis": "x",
           "y": {
            "bdata": "MsSxLm63YEA=",
            "dtype": "f8"
           },
           "yaxis": "y"
          },
          {
           "hovertemplate": "<b>%{hovertext}</b><br><br>Country Name=%{text}<br>Year=2013.0<br>Neerslag (mm/jaar)=%{x}<br>Totale landbouwuitstoot (Mt CO₂e)=%{y}<extra></extra>",
           "hovertext": [
            "Japan"
           ],
           "legendgroup": "Japan",
           "marker": {
            "color": "#ab63fa",
            "symbol": "circle"
           },
           "mode": "markers+text",
           "name": "Japan",
           "orientation": "v",
           "showlegend": true,
           "text": [
            "Japan"
           ],
           "type": "scatter",
           "x": {
            "bdata": "AAAAAAAQmkA=",
            "dtype": "f8"
           },
           "xaxis": "x",
           "y": {
            "bdata": "+8vuycNCAEA=",
            "dtype": "f8"
           },
           "yaxis": "y"
          },
          {
           "hovertemplate": "<b>%{hovertext}</b><br><br>Country Name=%{text}<br>Year=2013.0<br>Neerslag (mm/jaar)=%{x}<br>Totale landbouwuitstoot (Mt CO₂e)=%{y}<extra></extra>",
           "hovertext": [
            "Nigeria"
           ],
           "legendgroup": "Nigeria",
           "marker": {
            "color": "#FFA15A",
            "symbol": "circle"
           },
           "mode": "markers+text",
           "name": "Nigeria",
           "orientation": "v",
           "showlegend": true,
           "text": [
            "Nigeria"
           ],
           "type": "scatter",
           "x": {
            "bdata": "AAAAAAD4kUA=",
            "dtype": "f8"
           },
           "xaxis": "x",
           "y": {
            "bdata": "EOm3rwPn6D8=",
            "dtype": "f8"
           },
           "yaxis": "y"
          },
          {
           "hovertemplate": "<b>%{hovertext}</b><br><br>Country Name=%{text}<br>Year=2013.0<br>Neerslag (mm/jaar)=%{x}<br>Totale landbouwuitstoot (Mt CO₂e)=%{y}<extra></extra>",
           "hovertext": [
            "United States of America"
           ],
           "legendgroup": "United States of America",
           "marker": {
            "color": "#19d3f3",
            "symbol": "circle"
           },
           "mode": "markers+text",
           "name": "United States of America",
           "orientation": "v",
           "showlegend": true,
           "text": [
            "United States of America"
           ],
           "type": "scatter",
           "x": {
            "bdata": "AAAAAABYhkA=",
            "dtype": "f8"
           },
           "xaxis": "x",
           "y": {
            "bdata": "wqikTkDbV0A=",
            "dtype": "f8"
           },
           "yaxis": "y"
          },
          {
           "hovertemplate": "<b>%{hovertext}</b><br><br>Country Name=%{text}<br>Year=2013.0<br>Neerslag (mm/jaar)=%{x}<br>Totale landbouwuitstoot (Mt CO₂e)=%{y}<extra></extra>",
           "hovertext": [
            "South Africa"
           ],
           "legendgroup": "South Africa",
           "marker": {
            "color": "#FF6692",
            "symbol": "circle"
           },
           "mode": "markers+text",
           "name": "South Africa",
           "orientation": "v",
           "showlegend": true,
           "text": [
            "South Africa"
           ],
           "type": "scatter",
           "x": {
            "bdata": "AAAAAADwfkA=",
            "dtype": "f8"
           },
           "xaxis": "x",
           "y": {
            "bdata": "5j+k374OCUA=",
            "dtype": "f8"
           },
           "yaxis": "y"
          }
         ],
         "name": "2013.0"
        },
        {
         "data": [
          {
           "hovertemplate": "<b>%{hovertext}</b><br><br>Country Name=%{text}<br>Year=2014.0<br>Neerslag (mm/jaar)=%{x}<br>Totale landbouwuitstoot (Mt CO₂e)=%{y}<extra></extra>",
           "hovertext": [
            "Brazil"
           ],
           "legendgroup": "Brazil",
           "marker": {
            "color": "#636efa",
            "symbol": "circle"
           },
           "mode": "markers+text",
           "name": "Brazil",
           "orientation": "v",
           "showlegend": true,
           "text": [
            "Brazil"
           ],
           "type": "scatter",
           "x": {
            "bdata": "AAAAAACEm0A=",
            "dtype": "f8"
           },
           "xaxis": "x",
           "y": {
            "bdata": "ZohjXdymR0A=",
            "dtype": "f8"
           },
           "yaxis": "y"
          },
          {
           "hovertemplate": "<b>%{hovertext}</b><br><br>Country Name=%{text}<br>Year=2014.0<br>Neerslag (mm/jaar)=%{x}<br>Totale landbouwuitstoot (Mt CO₂e)=%{y}<extra></extra>",
           "hovertext": [
            "Indonesia"
           ],
           "legendgroup": "Indonesia",
           "marker": {
            "color": "#EF553B",
            "symbol": "circle"
           },
           "mode": "markers+text",
           "name": "Indonesia",
           "orientation": "v",
           "showlegend": true,
           "text": [
            "Indonesia"
           ],
           "type": "scatter",
           "x": {
            "bdata": "AAAAAAAcpUA=",
            "dtype": "f8"
           },
           "xaxis": "x",
           "y": {
            "bdata": "/fZ14JwR/T8=",
            "dtype": "f8"
           },
           "yaxis": "y"
          },
          {
           "hovertemplate": "<b>%{hovertext}</b><br><br>Country Name=%{text}<br>Year=2014.0<br>Neerslag (mm/jaar)=%{x}<br>Totale landbouwuitstoot (Mt CO₂e)=%{y}<extra></extra>",
           "hovertext": [
            "India"
           ],
           "legendgroup": "India",
           "marker": {
            "color": "#00cc96",
            "symbol": "circle"
           },
           "mode": "markers+text",
           "name": "India",
           "orientation": "v",
           "showlegend": true,
           "text": [
            "India"
           ],
           "type": "scatter",
           "x": {
            "bdata": "AAAAAADskEA=",
            "dtype": "f8"
           },
           "xaxis": "x",
           "y": {
            "bdata": "KqkT0EQYYUA=",
            "dtype": "f8"
           },
           "yaxis": "y"
          },
          {
           "hovertemplate": "<b>%{hovertext}</b><br><br>Country Name=%{text}<br>Year=2014.0<br>Neerslag (mm/jaar)=%{x}<br>Totale landbouwuitstoot (Mt CO₂e)=%{y}<extra></extra>",
           "hovertext": [
            "Japan"
           ],
           "legendgroup": "Japan",
           "marker": {
            "color": "#ab63fa",
            "symbol": "circle"
           },
           "mode": "markers+text",
           "name": "Japan",
           "orientation": "v",
           "showlegend": true,
           "text": [
            "Japan"
           ],
           "type": "scatter",
           "x": {
            "bdata": "AAAAAAAQmkA=",
            "dtype": "f8"
           },
           "xaxis": "x",
           "y": {
            "bdata": "5BQdyeU/AEA=",
            "dtype": "f8"
           },
           "yaxis": "y"
          },
          {
           "hovertemplate": "<b>%{hovertext}</b><br><br>Country Name=%{text}<br>Year=2014.0<br>Neerslag (mm/jaar)=%{x}<br>Totale landbouwuitstoot (Mt CO₂e)=%{y}<extra></extra>",
           "hovertext": [
            "Nigeria"
           ],
           "legendgroup": "Nigeria",
           "marker": {
            "color": "#FFA15A",
            "symbol": "circle"
           },
           "mode": "markers+text",
           "name": "Nigeria",
           "orientation": "v",
           "showlegend": true,
           "text": [
            "Nigeria"
           ],
           "type": "scatter",
           "x": {
            "bdata": "AAAAAAD4kUA=",
            "dtype": "f8"
           },
           "xaxis": "x",
           "y": {
            "bdata": "INJvXwfO6T8=",
            "dtype": "f8"
           },
           "yaxis": "y"
          },
          {
           "hovertemplate": "<b>%{hovertext}</b><br><br>Country Name=%{text}<br>Year=2014.0<br>Neerslag (mm/jaar)=%{x}<br>Totale landbouwuitstoot (Mt CO₂e)=%{y}<extra></extra>",
           "hovertext": [
            "United States of America"
           ],
           "legendgroup": "United States of America",
           "marker": {
            "color": "#19d3f3",
            "symbol": "circle"
           },
           "mode": "markers+text",
           "name": "United States of America",
           "orientation": "v",
           "showlegend": true,
           "text": [
            "United States of America"
           ],
           "type": "scatter",
           "x": {
            "bdata": "AAAAAABYhkA=",
            "dtype": "f8"
           },
           "xaxis": "x",
           "y": {
            "bdata": "yXa+nxqnVkA=",
            "dtype": "f8"
           },
           "yaxis": "y"
          },
          {
           "hovertemplate": "<b>%{hovertext}</b><br><br>Country Name=%{text}<br>Year=2014.0<br>Neerslag (mm/jaar)=%{x}<br>Totale landbouwuitstoot (Mt CO₂e)=%{y}<extra></extra>",
           "hovertext": [
            "South Africa"
           ],
           "legendgroup": "South Africa",
           "marker": {
            "color": "#FF6692",
            "symbol": "circle"
           },
           "mode": "markers+text",
           "name": "South Africa",
           "orientation": "v",
           "showlegend": true,
           "text": [
            "South Africa"
           ],
           "type": "scatter",
           "x": {
            "bdata": "AAAAAADwfkA=",
            "dtype": "f8"
           },
           "xaxis": "x",
           "y": {
            "bdata": "jgbwFkhQCEA=",
            "dtype": "f8"
           },
           "yaxis": "y"
          }
         ],
         "name": "2014.0"
        },
        {
         "data": [
          {
           "hovertemplate": "<b>%{hovertext}</b><br><br>Country Name=%{text}<br>Year=2015.0<br>Neerslag (mm/jaar)=%{x}<br>Totale landbouwuitstoot (Mt CO₂e)=%{y}<extra></extra>",
           "hovertext": [
            "Brazil"
           ],
           "legendgroup": "Brazil",
           "marker": {
            "color": "#636efa",
            "symbol": "circle"
           },
           "mode": "markers+text",
           "name": "Brazil",
           "orientation": "v",
           "showlegend": true,
           "text": [
            "Brazil"
           ],
           "type": "scatter",
           "x": {
            "bdata": "AAAAAACEm0A=",
            "dtype": "f8"
           },
           "xaxis": "x",
           "y": {
            "bdata": "OGdEaW+ARkA=",
            "dtype": "f8"
           },
           "yaxis": "y"
          },
          {
           "hovertemplate": "<b>%{hovertext}</b><br><br>Country Name=%{text}<br>Year=2015.0<br>Neerslag (mm/jaar)=%{x}<br>Totale landbouwuitstoot (Mt CO₂e)=%{y}<extra></extra>",
           "hovertext": [
            "Indonesia"
           ],
           "legendgroup": "Indonesia",
           "marker": {
            "color": "#EF553B",
            "symbol": "circle"
           },
           "mode": "markers+text",
           "name": "Indonesia",
           "orientation": "v",
           "showlegend": true,
           "text": [
            "Indonesia"
           ],
           "type": "scatter",
           "x": {
            "bdata": "AAAAAAAcpUA=",
            "dtype": "f8"
           },
           "xaxis": "x",
           "y": {
            "bdata": "vuMUHcnl+z8=",
            "dtype": "f8"
           },
           "yaxis": "y"
          },
          {
           "hovertemplate": "<b>%{hovertext}</b><br><br>Country Name=%{text}<br>Year=2015.0<br>Neerslag (mm/jaar)=%{x}<br>Totale landbouwuitstoot (Mt CO₂e)=%{y}<extra></extra>",
           "hovertext": [
            "India"
           ],
           "legendgroup": "India",
           "marker": {
            "color": "#00cc96",
            "symbol": "circle"
           },
           "mode": "markers+text",
           "name": "India",
           "orientation": "v",
           "showlegend": true,
           "text": [
            "India"
           ],
           "type": "scatter",
           "x": {
            "bdata": "AAAAAADskEA=",
            "dtype": "f8"
           },
           "xaxis": "x",
           "y": {
            "bdata": "EhQ/xtzpYEA=",
            "dtype": "f8"
           },
           "yaxis": "y"
          },
          {
           "hovertemplate": "<b>%{hovertext}</b><br><br>Country Name=%{text}<br>Year=2015.0<br>Neerslag (mm/jaar)=%{x}<br>Totale landbouwuitstoot (Mt CO₂e)=%{y}<extra></extra>",
           "hovertext": [
            "Japan"
           ],
           "legendgroup": "Japan",
           "marker": {
            "color": "#ab63fa",
            "symbol": "circle"
           },
           "mode": "markers+text",
           "name": "Japan",
           "orientation": "v",
           "showlegend": true,
           "text": [
            "Japan"
           ],
           "type": "scatter",
           "x": {
            "bdata": "AAAAAAAQmkA=",
            "dtype": "f8"
           },
           "xaxis": "x",
           "y": {
            "bdata": "YVRSJ6CJAEA=",
            "dtype": "f8"
           },
           "yaxis": "y"
          },
          {
           "hovertemplate": "<b>%{hovertext}</b><br><br>Country Name=%{text}<br>Year=2015.0<br>Neerslag (mm/jaar)=%{x}<br>Totale landbouwuitstoot (Mt CO₂e)=%{y}<extra></extra>",
           "hovertext": [
            "Nigeria"
           ],
           "legendgroup": "Nigeria",
           "marker": {
            "color": "#FFA15A",
            "symbol": "circle"
           },
           "mode": "markers+text",
           "name": "Nigeria",
           "orientation": "v",
           "showlegend": true,
           "text": [
            "Nigeria"
           ],
           "type": "scatter",
           "x": {
            "bdata": "AAAAAAD4kUA=",
            "dtype": "f8"
           },
           "xaxis": "x",
           "y": {
            "bdata": "Dr4wmSoY6T8=",
            "dtype": "f8"
           },
           "yaxis": "y"
          },
          {
           "hovertemplate": "<b>%{hovertext}</b><br><br>Country Name=%{text}<br>Year=2015.0<br>Neerslag (mm/jaar)=%{x}<br>Totale landbouwuitstoot (Mt CO₂e)=%{y}<extra></extra>",
           "hovertext": [
            "United States of America"
           ],
           "legendgroup": "United States of America",
           "marker": {
            "color": "#19d3f3",
            "symbol": "circle"
           },
           "mode": "markers+text",
           "name": "United States of America",
           "orientation": "v",
           "showlegend": true,
           "text": [
            "United States of America"
           ],
           "type": "scatter",
           "x": {
            "bdata": "AAAAAABYhkA=",
            "dtype": "f8"
           },
           "xaxis": "x",
           "y": {
            "bdata": "hxbZzvebV0A=",
            "dtype": "f8"
           },
           "yaxis": "y"
          },
          {
           "hovertemplate": "<b>%{hovertext}</b><br><br>Country Name=%{text}<br>Year=2015.0<br>Neerslag (mm/jaar)=%{x}<br>Totale landbouwuitstoot (Mt CO₂e)=%{y}<extra></extra>",
           "hovertext": [
            "South Africa"
           ],
           "legendgroup": "South Africa",
           "marker": {
            "color": "#FF6692",
            "symbol": "circle"
           },
           "mode": "markers+text",
           "name": "South Africa",
           "orientation": "v",
           "showlegend": true,
           "text": [
            "South Africa"
           ],
           "type": "scatter",
           "x": {
            "bdata": "AAAAAADwfkA=",
            "dtype": "f8"
           },
           "xaxis": "x",
           "y": {
            "bdata": "HqfoSC7/BkA=",
            "dtype": "f8"
           },
           "yaxis": "y"
          }
         ],
         "name": "2015.0"
        },
        {
         "data": [
          {
           "hovertemplate": "<b>%{hovertext}</b><br><br>Country Name=%{text}<br>Year=2016.0<br>Neerslag (mm/jaar)=%{x}<br>Totale landbouwuitstoot (Mt CO₂e)=%{y}<extra></extra>",
           "hovertext": [
            "Brazil"
           ],
           "legendgroup": "Brazil",
           "marker": {
            "color": "#636efa",
            "symbol": "circle"
           },
           "mode": "markers+text",
           "name": "Brazil",
           "orientation": "v",
           "showlegend": true,
           "text": [
            "Brazil"
           ],
           "type": "scatter",
           "x": {
            "bdata": "AAAAAACEm0A=",
            "dtype": "f8"
           },
           "xaxis": "x",
           "y": {
            "bdata": "+aBns+qjRkA=",
            "dtype": "f8"
           },
           "yaxis": "y"
          },
          {
           "hovertemplate": "<b>%{hovertext}</b><br><br>Country Name=%{text}<br>Year=2016.0<br>Neerslag (mm/jaar)=%{x}<br>Totale landbouwuitstoot (Mt CO₂e)=%{y}<extra></extra>",
           "hovertext": [
            "Indonesia"
           ],
           "legendgroup": "Indonesia",
           "marker": {
            "color": "#EF553B",
            "symbol": "circle"
           },
           "mode": "markers+text",
           "name": "Indonesia",
           "orientation": "v",
           "showlegend": true,
           "text": [
            "Indonesia"
           ],
           "type": "scatter",
           "x": {
            "bdata": "AAAAAAAcpUA=",
            "dtype": "f8"
           },
           "xaxis": "x",
           "y": {
            "bdata": "9bnaiv1l+z8=",
            "dtype": "f8"
           },
           "yaxis": "y"
          },
          {
           "hovertemplate": "<b>%{hovertext}</b><br><br>Country Name=%{text}<br>Year=2016.0<br>Neerslag (mm/jaar)=%{x}<br>Totale landbouwuitstoot (Mt CO₂e)=%{y}<extra></extra>",
           "hovertext": [
            "India"
           ],
           "legendgroup": "India",
           "marker": {
            "color": "#00cc96",
            "symbol": "circle"
           },
           "mode": "markers+text",
           "name": "India",
           "orientation": "v",
           "showlegend": true,
           "text": [
            "India"
           ],
           "type": "scatter",
           "x": {
            "bdata": "AAAAAADskEA=",
            "dtype": "f8"
           },
           "xaxis": "x",
           "y": {
            "bdata": "MzMzMzPbYEA=",
            "dtype": "f8"
           },
           "yaxis": "y"
          },
          {
           "hovertemplate": "<b>%{hovertext}</b><br><br>Country Name=%{text}<br>Year=2016.0<br>Neerslag (mm/jaar)=%{x}<br>Totale landbouwuitstoot (Mt CO₂e)=%{y}<extra></extra>",
           "hovertext": [
            "Japan"
           ],
           "legendgroup": "Japan",
           "marker": {
            "color": "#ab63fa",
            "symbol": "circle"
           },
           "mode": "markers+text",
           "name": "Japan",
           "orientation": "v",
           "showlegend": true,
           "text": [
            "Japan"
           ],
           "type": "scatter",
           "x": {
            "bdata": "AAAAAAAQmkA=",
            "dtype": "f8"
           },
           "xaxis": "x",
           "y": {
            "bdata": "q8/VVuwv/z8=",
            "dtype": "f8"
           },
           "yaxis": "y"
          },
          {
           "hovertemplate": "<b>%{hovertext}</b><br><br>Country Name=%{text}<br>Year=2016.0<br>Neerslag (mm/jaar)=%{x}<br>Totale landbouwuitstoot (Mt CO₂e)=%{y}<extra></extra>",
           "hovertext": [
            "Nigeria"
           ],
           "legendgroup": "Nigeria",
           "marker": {
            "color": "#FFA15A",
            "symbol": "circle"
           },
           "mode": "markers+text",
           "name": "Nigeria",
           "orientation": "v",
           "showlegend": true,
           "text": [
            "Nigeria"
           ],
           "type": "scatter",
           "x": {
            "bdata": "AAAAAAD4kUA=",
            "dtype": "f8"
           },
           "xaxis": "x",
           "y": {
            "bdata": "nu+nxks36T8=",
            "dtype": "f8"
           },
           "yaxis": "y"
          },
          {
           "hovertemplate": "<b>%{hovertext}</b><br><br>Country Name=%{text}<br>Year=2016.0<br>Neerslag (mm/jaar)=%{x}<br>Totale landbouwuitstoot (Mt CO₂e)=%{y}<extra></extra>",
           "hovertext": [
            "United States of America"
           ],
           "legendgroup": "United States of America",
           "marker": {
            "color": "#19d3f3",
            "symbol": "circle"
           },
           "mode": "markers+text",
           "name": "United States of America",
           "orientation": "v",
           "showlegend": true,
           "text": [
            "United States of America"
           ],
           "type": "scatter",
           "x": {
            "bdata": "AAAAAABYhkA=",
            "dtype": "f8"
           },
           "xaxis": "x",
           "y": {
            "bdata": "FR3J5T+EV0A=",
            "dtype": "f8"
           },
           "yaxis": "y"
          },
          {
           "hovertemplate": "<b>%{hovertext}</b><br><br>Country Name=%{text}<br>Year=2016.0<br>Neerslag (mm/jaar)=%{x}<br>Totale landbouwuitstoot (Mt CO₂e)=%{y}<extra></extra>",
           "hovertext": [
            "South Africa"
           ],
           "legendgroup": "South Africa",
           "marker": {
            "color": "#FF6692",
            "symbol": "circle"
           },
           "mode": "markers+text",
           "name": "South Africa",
           "orientation": "v",
           "showlegend": true,
           "text": [
            "South Africa"
           ],
           "type": "scatter",
           "x": {
            "bdata": "AAAAAADwfkA=",
            "dtype": "f8"
           },
           "xaxis": "x",
           "y": {
            "bdata": "vAUSFD/GCEA=",
            "dtype": "f8"
           },
           "yaxis": "y"
          }
         ],
         "name": "2016.0"
        },
        {
         "data": [
          {
           "hovertemplate": "<b>%{hovertext}</b><br><br>Country Name=%{text}<br>Year=2017.0<br>Neerslag (mm/jaar)=%{x}<br>Totale landbouwuitstoot (Mt CO₂e)=%{y}<extra></extra>",
           "hovertext": [
            "Brazil"
           ],
           "legendgroup": "Brazil",
           "marker": {
            "color": "#636efa",
            "symbol": "circle"
           },
           "mode": "markers+text",
           "name": "Brazil",
           "orientation": "v",
           "showlegend": true,
           "text": [
            "Brazil"
           ],
           "type": "scatter",
           "x": {
            "bdata": "AAAAAACEm0A=",
            "dtype": "f8"
           },
           "xaxis": "x",
           "y": {
            "bdata": "GLfRAN6yRUA=",
            "dtype": "f8"
           },
           "yaxis": "y"
          },
          {
           "hovertemplate": "<b>%{hovertext}</b><br><br>Country Name=%{text}<br>Year=2017.0<br>Neerslag (mm/jaar)=%{x}<br>Totale landbouwuitstoot (Mt CO₂e)=%{y}<extra></extra>",
           "hovertext": [
            "Indonesia"
           ],
           "legendgroup": "Indonesia",
           "marker": {
            "color": "#EF553B",
            "symbol": "circle"
           },
           "mode": "markers+text",
           "name": "Indonesia",
           "orientation": "v",
           "showlegend": true,
           "text": [
            "Indonesia"
           ],
           "type": "scatter",
           "x": {
            "bdata": "AAAAAAAcpUA=",
            "dtype": "f8"
           },
           "xaxis": "x",
           "y": {
            "bdata": "7FG4HoXr+T8=",
            "dtype": "f8"
           },
           "yaxis": "y"
          },
          {
           "hovertemplate": "<b>%{hovertext}</b><br><br>Country Name=%{text}<br>Year=2017.0<br>Neerslag (mm/jaar)=%{x}<br>Totale landbouwuitstoot (Mt CO₂e)=%{y}<extra></extra>",
           "hovertext": [
            "India"
           ],
           "legendgroup": "India",
           "marker": {
            "color": "#00cc96",
            "symbol": "circle"
           },
           "mode": "markers+text",
           "name": "India",
           "orientation": "v",
           "showlegend": true,
           "text": [
            "India"
           ],
           "type": "scatter",
           "x": {
            "bdata": "AAAAAADskEA=",
            "dtype": "f8"
           },
           "xaxis": "x",
           "y": {
            "bdata": "aCJseHodYUA=",
            "dtype": "f8"
           },
           "yaxis": "y"
          },
          {
           "hovertemplate": "<b>%{hovertext}</b><br><br>Country Name=%{text}<br>Year=2017.0<br>Neerslag (mm/jaar)=%{x}<br>Totale landbouwuitstoot (Mt CO₂e)=%{y}<extra></extra>",
           "hovertext": [
            "Japan"
           ],
           "legendgroup": "Japan",
           "marker": {
            "color": "#ab63fa",
            "symbol": "circle"
           },
           "mode": "markers+text",
           "name": "Japan",
           "orientation": "v",
           "showlegend": true,
           "text": [
            "Japan"
           ],
           "type": "scatter",
           "x": {
            "bdata": "AAAAAAAQmkA=",
            "dtype": "f8"
           },
           "xaxis": "x",
           "y": {
            "bdata": "7C+7Jw8LAEA=",
            "dtype": "f8"
           },
           "yaxis": "y"
          },
          {
           "hovertemplate": "<b>%{hovertext}</b><br><br>Country Name=%{text}<br>Year=2017.0<br>Neerslag (mm/jaar)=%{x}<br>Totale landbouwuitstoot (Mt CO₂e)=%{y}<extra></extra>",
           "hovertext": [
            "Nigeria"
           ],
           "legendgroup": "Nigeria",
           "marker": {
            "color": "#FFA15A",
            "symbol": "circle"
           },
           "mode": "markers+text",
           "name": "Nigeria",
           "orientation": "v",
           "showlegend": true,
           "text": [
            "Nigeria"
           ],
           "type": "scatter",
           "x": {
            "bdata": "AAAAAAD4kUA=",
            "dtype": "f8"
           },
           "xaxis": "x",
           "y": {
            "bdata": "YFRSJ6CJ6D8=",
            "dtype": "f8"
           },
           "yaxis": "y"
          },
          {
           "hovertemplate": "<b>%{hovertext}</b><br><br>Country Name=%{text}<br>Year=2017.0<br>Neerslag (mm/jaar)=%{x}<br>Totale landbouwuitstoot (Mt CO₂e)=%{y}<extra></extra>",
           "hovertext": [
            "United States of America"
           ],
           "legendgroup": "United States of America",
           "marker": {
            "color": "#19d3f3",
            "symbol": "circle"
           },
           "mode": "markers+text",
           "name": "United States of America",
           "orientation": "v",
           "showlegend": true,
           "text": [
            "United States of America"
           ],
           "type": "scatter",
           "x": {
            "bdata": "AAAAAABYhkA=",
            "dtype": "f8"
           },
           "xaxis": "x",
           "y": {
            "bdata": "QBNhw9M7VEA=",
            "dtype": "f8"
           },
           "yaxis": "y"
          },
          {
           "hovertemplate": "<b>%{hovertext}</b><br><br>Country Name=%{text}<br>Year=2017.0<br>Neerslag (mm/jaar)=%{x}<br>Totale landbouwuitstoot (Mt CO₂e)=%{y}<extra></extra>",
           "hovertext": [
            "South Africa"
           ],
           "legendgroup": "South Africa",
           "marker": {
            "color": "#FF6692",
            "symbol": "circle"
           },
           "mode": "markers+text",
           "name": "South Africa",
           "orientation": "v",
           "showlegend": true,
           "text": [
            "South Africa"
           ],
           "type": "scatter",
           "x": {
            "bdata": "AAAAAADwfkA=",
            "dtype": "f8"
           },
           "xaxis": "x",
           "y": {
            "bdata": "ku18PzVeB0A=",
            "dtype": "f8"
           },
           "yaxis": "y"
          }
         ],
         "name": "2017.0"
        },
        {
         "data": [
          {
           "hovertemplate": "<b>%{hovertext}</b><br><br>Country Name=%{text}<br>Year=2018.0<br>Neerslag (mm/jaar)=%{x}<br>Totale landbouwuitstoot (Mt CO₂e)=%{y}<extra></extra>",
           "hovertext": [
            "Brazil"
           ],
           "legendgroup": "Brazil",
           "marker": {
            "color": "#636efa",
            "symbol": "circle"
           },
           "mode": "markers+text",
           "name": "Brazil",
           "orientation": "v",
           "showlegend": true,
           "text": [
            "Brazil"
           ],
           "type": "scatter",
           "x": {
            "bdata": "AAAAAACEm0A=",
            "dtype": "f8"
           },
           "xaxis": "x",
           "y": {
            "bdata": "d76fGi/dRUA=",
            "dtype": "f8"
           },
           "yaxis": "y"
          },
          {
           "hovertemplate": "<b>%{hovertext}</b><br><br>Country Name=%{text}<br>Year=2018.0<br>Neerslag (mm/jaar)=%{x}<br>Totale landbouwuitstoot (Mt CO₂e)=%{y}<extra></extra>",
           "hovertext": [
            "Indonesia"
           ],
           "legendgroup": "Indonesia",
           "marker": {
            "color": "#EF553B",
            "symbol": "circle"
           },
           "mode": "markers+text",
           "name": "Indonesia",
           "orientation": "v",
           "showlegend": true,
           "text": [
            "Indonesia"
           ],
           "type": "scatter",
           "x": {
            "bdata": "AAAAAAAcpUA=",
            "dtype": "f8"
           },
           "xaxis": "x",
           "y": {
            "bdata": "+HXgnBGl+T8=",
            "dtype": "f8"
           },
           "yaxis": "y"
          },
          {
           "hovertemplate": "<b>%{hovertext}</b><br><br>Country Name=%{text}<br>Year=2018.0<br>Neerslag (mm/jaar)=%{x}<br>Totale landbouwuitstoot (Mt CO₂e)=%{y}<extra></extra>",
           "hovertext": [
            "India"
           ],
           "legendgroup": "India",
           "marker": {
            "color": "#00cc96",
            "symbol": "circle"
           },
           "mode": "markers+text",
           "name": "India",
           "orientation": "v",
           "showlegend": true,
           "text": [
            "India"
           ],
           "type": "scatter",
           "x": {
            "bdata": "AAAAAADskEA=",
            "dtype": "f8"
           },
           "xaxis": "x",
           "y": {
            "bdata": "qvHSTWIAYUA=",
            "dtype": "f8"
           },
           "yaxis": "y"
          },
          {
           "hovertemplate": "<b>%{hovertext}</b><br><br>Country Name=%{text}<br>Year=2018.0<br>Neerslag (mm/jaar)=%{x}<br>Totale landbouwuitstoot (Mt CO₂e)=%{y}<extra></extra>",
           "hovertext": [
            "Japan"
           ],
           "legendgroup": "Japan",
           "marker": {
            "color": "#ab63fa",
            "symbol": "circle"
           },
           "mode": "markers+text",
           "name": "Japan",
           "orientation": "v",
           "showlegend": true,
           "text": [
            "Japan"
           ],
           "type": "scatter",
           "x": {
            "bdata": "AAAAAAAQmkA=",
            "dtype": "f8"
           },
           "xaxis": "x",
           "y": {
            "bdata": "p3nHKTqS/T8=",
            "dtype": "f8"
           },
           "yaxis": "y"
          },
          {
           "hovertemplate": "<b>%{hovertext}</b><br><br>Country Name=%{text}<br>Year=2018.0<br>Neerslag (mm/jaar)=%{x}<br>Totale landbouwuitstoot (Mt CO₂e)=%{y}<extra></extra>",
           "hovertext": [
            "Nigeria"
           ],
           "legendgroup": "Nigeria",
           "marker": {
            "color": "#FFA15A",
            "symbol": "circle"
           },
           "mode": "markers+text",
           "name": "Nigeria",
           "orientation": "v",
           "showlegend": true,
           "text": [
            "Nigeria"
           ],
           "type": "scatter",
           "x": {
            "bdata": "AAAAAAD4kUA=",
            "dtype": "f8"
           },
           "xaxis": "x",
           "y": {
            "bdata": "6Nms+lxt6T8=",
            "dtype": "f8"
           },
           "yaxis": "y"
          },
          {
           "hovertemplate": "<b>%{hovertext}</b><br><br>Country Name=%{text}<br>Year=2018.0<br>Neerslag (mm/jaar)=%{x}<br>Totale landbouwuitstoot (Mt CO₂e)=%{y}<extra></extra>",
           "hovertext": [
            "United States of America"
           ],
           "legendgroup": "United States of America",
           "marker": {
            "color": "#19d3f3",
            "symbol": "circle"
           },
           "mode": "markers+text",
           "name": "United States of America",
           "orientation": "v",
           "showlegend": true,
           "text": [
            "United States of America"
           ],
           "type": "scatter",
           "x": {
            "bdata": "AAAAAABYhkA=",
            "dtype": "f8"
           },
           "xaxis": "x",
           "y": {
            "bdata": "1sVtNIAnVUA=",
            "dtype": "f8"
           },
           "yaxis": "y"
          },
          {
           "hovertemplate": "<b>%{hovertext}</b><br><br>Country Name=%{text}<br>Year=2018.0<br>Neerslag (mm/jaar)=%{x}<br>Totale landbouwuitstoot (Mt CO₂e)=%{y}<extra></extra>",
           "hovertext": [
            "South Africa"
           ],
           "legendgroup": "South Africa",
           "marker": {
            "color": "#FF6692",
            "symbol": "circle"
           },
           "mode": "markers+text",
           "name": "South Africa",
           "orientation": "v",
           "showlegend": true,
           "text": [
            "South Africa"
           ],
           "type": "scatter",
           "x": {
            "bdata": "AAAAAADwfkA=",
            "dtype": "f8"
           },
           "xaxis": "x",
           "y": {
            "bdata": "2/l+arx0CUA=",
            "dtype": "f8"
           },
           "yaxis": "y"
          }
         ],
         "name": "2018.0"
        },
        {
         "data": [
          {
           "hovertemplate": "<b>%{hovertext}</b><br><br>Country Name=%{text}<br>Year=2019.0<br>Neerslag (mm/jaar)=%{x}<br>Totale landbouwuitstoot (Mt CO₂e)=%{y}<extra></extra>",
           "hovertext": [
            "Brazil"
           ],
           "legendgroup": "Brazil",
           "marker": {
            "color": "#636efa",
            "symbol": "circle"
           },
           "mode": "markers+text",
           "name": "Brazil",
           "orientation": "v",
           "showlegend": true,
           "text": [
            "Brazil"
           ],
           "type": "scatter",
           "x": {
            "bdata": "AAAAAACEm0A=",
            "dtype": "f8"
           },
           "xaxis": "x",
           "y": {
            "bdata": "e/KwUGsKRkA=",
            "dtype": "f8"
           },
           "yaxis": "y"
          },
          {
           "hovertemplate": "<b>%{hovertext}</b><br><br>Country Name=%{text}<br>Year=2019.0<br>Neerslag (mm/jaar)=%{x}<br>Totale landbouwuitstoot (Mt CO₂e)=%{y}<extra></extra>",
           "hovertext": [
            "Indonesia"
           ],
           "legendgroup": "Indonesia",
           "marker": {
            "color": "#EF553B",
            "symbol": "circle"
           },
           "mode": "markers+text",
           "name": "Indonesia",
           "orientation": "v",
           "showlegend": true,
           "text": [
            "Indonesia"
           ],
           "type": "scatter",
           "x": {
            "bdata": "AAAAAAAcpUA=",
            "dtype": "f8"
           },
           "xaxis": "x",
           "y": {
            "bdata": "/Yf029eB+T8=",
            "dtype": "f8"
           },
           "yaxis": "y"
          },
          {
           "hovertemplate": "<b>%{hovertext}</b><br><br>Country Name=%{text}<br>Year=2019.0<br>Neerslag (mm/jaar)=%{x}<br>Totale landbouwuitstoot (Mt CO₂e)=%{y}<extra></extra>",
           "hovertext": [
            "India"
           ],
           "legendgroup": "India",
           "marker": {
            "color": "#00cc96",
            "symbol": "circle"
           },
           "mode": "markers+text",
           "name": "India",
           "orientation": "v",
           "showlegend": true,
           "text": [
            "India"
           ],
           "type": "scatter",
           "x": {
            "bdata": "AAAAAADskEA=",
            "dtype": "f8"
           },
           "xaxis": "x",
           "y": {
            "bdata": "KKCJsOFBYUA=",
            "dtype": "f8"
           },
           "yaxis": "y"
          },
          {
           "hovertemplate": "<b>%{hovertext}</b><br><br>Country Name=%{text}<br>Year=2019.0<br>Neerslag (mm/jaar)=%{x}<br>Totale landbouwuitstoot (Mt CO₂e)=%{y}<extra></extra>",
           "hovertext": [
            "Japan"
           ],
           "legendgroup": "Japan",
           "marker": {
            "color": "#ab63fa",
            "symbol": "circle"
           },
           "mode": "markers+text",
           "name": "Japan",
           "orientation": "v",
           "showlegend": true,
           "text": [
            "Japan"
           ],
           "type": "scatter",
           "x": {
            "bdata": "AAAAAAAQmkA=",
            "dtype": "f8"
           },
           "xaxis": "x",
           "y": {
            "bdata": "iUFg5dAiAEA=",
            "dtype": "f8"
           },
           "yaxis": "y"
          },
          {
           "hovertemplate": "<b>%{hovertext}</b><br><br>Country Name=%{text}<br>Year=2019.0<br>Neerslag (mm/jaar)=%{x}<br>Totale landbouwuitstoot (Mt CO₂e)=%{y}<extra></extra>",
           "hovertext": [
            "Nigeria"
           ],
           "legendgroup": "Nigeria",
           "marker": {
            "color": "#FFA15A",
            "symbol": "circle"
           },
           "mode": "markers+text",
           "name": "Nigeria",
           "orientation": "v",
           "showlegend": true,
           "text": [
            "Nigeria"
           ],
           "type": "scatter",
           "x": {
            "bdata": "AAAAAAD4kUA=",
            "dtype": "f8"
           },
           "xaxis": "x",
           "y": {
            "bdata": "seHplbIM6T8=",
            "dtype": "f8"
           },
           "yaxis": "y"
          },
          {
           "hovertemplate": "<b>%{hovertext}</b><br><br>Country Name=%{text}<br>Year=2019.0<br>Neerslag (mm/jaar)=%{x}<br>Totale landbouwuitstoot (Mt CO₂e)=%{y}<extra></extra>",
           "hovertext": [
            "United States of America"
           ],
           "legendgroup": "United States of America",
           "marker": {
            "color": "#19d3f3",
            "symbol": "circle"
           },
           "mode": "markers+text",
           "name": "United States of America",
           "orientation": "v",
           "showlegend": true,
           "text": [
            "United States of America"
           ],
           "type": "scatter",
           "x": {
            "bdata": "AAAAAABYhkA=",
            "dtype": "f8"
           },
           "xaxis": "x",
           "y": {
            "bdata": "1AloImzAVEA=",
            "dtype": "f8"
           },
           "yaxis": "y"
          },
          {
           "hovertemplate": "<b>%{hovertext}</b><br><br>Country Name=%{text}<br>Year=2019.0<br>Neerslag (mm/jaar)=%{x}<br>Totale landbouwuitstoot (Mt CO₂e)=%{y}<extra></extra>",
           "hovertext": [
            "South Africa"
           ],
           "legendgroup": "South Africa",
           "marker": {
            "color": "#FF6692",
            "symbol": "circle"
           },
           "mode": "markers+text",
           "name": "South Africa",
           "orientation": "v",
           "showlegend": true,
           "text": [
            "South Africa"
           ],
           "type": "scatter",
           "x": {
            "bdata": "AAAAAADwfkA=",
            "dtype": "f8"
           },
           "xaxis": "x",
           "y": {
            "bdata": "P1dbsb/sCEA=",
            "dtype": "f8"
           },
           "yaxis": "y"
          }
         ],
         "name": "2019.0"
        },
        {
         "data": [
          {
           "hovertemplate": "<b>%{hovertext}</b><br><br>Country Name=%{text}<br>Year=2020.0<br>Neerslag (mm/jaar)=%{x}<br>Totale landbouwuitstoot (Mt CO₂e)=%{y}<extra></extra>",
           "hovertext": [
            "Brazil"
           ],
           "legendgroup": "Brazil",
           "marker": {
            "color": "#636efa",
            "symbol": "circle"
           },
           "mode": "markers+text",
           "name": "Brazil",
           "orientation": "v",
           "showlegend": true,
           "text": [
            "Brazil"
           ],
           "type": "scatter",
           "x": {
            "bdata": "AAAAAACEm0A=",
            "dtype": "f8"
           },
           "xaxis": "x",
           "y": {
            "bdata": "6Nms+lxtRkA=",
            "dtype": "f8"
           },
           "yaxis": "y"
          },
          {
           "hovertemplate": "<b>%{hovertext}</b><br><br>Country Name=%{text}<br>Year=2020.0<br>Neerslag (mm/jaar)=%{x}<br>Totale landbouwuitstoot (Mt CO₂e)=%{y}<extra></extra>",
           "hovertext": [
            "Indonesia"
           ],
           "legendgroup": "Indonesia",
           "marker": {
            "color": "#EF553B",
            "symbol": "circle"
           },
           "mode": "markers+text",
           "name": "Indonesia",
           "orientation": "v",
           "showlegend": true,
           "text": [
            "Indonesia"
           ],
           "type": "scatter",
           "x": {
            "bdata": "AAAAAAAcpUA=",
            "dtype": "f8"
           },
           "xaxis": "x",
           "y": {
            "bdata": "eccpOpLL+T8=",
            "dtype": "f8"
           },
           "yaxis": "y"
          },
          {
           "hovertemplate": "<b>%{hovertext}</b><br><br>Country Name=%{text}<br>Year=2020.0<br>Neerslag (mm/jaar)=%{x}<br>Totale landbouwuitstoot (Mt CO₂e)=%{y}<extra></extra>",
           "hovertext": [
            "India"
           ],
           "legendgroup": "India",
           "marker": {
            "color": "#00cc96",
            "symbol": "circle"
           },
           "mode": "markers+text",
           "name": "India",
           "orientation": "v",
           "showlegend": true,
           "text": [
            "India"
           ],
           "type": "scatter",
           "x": {
            "bdata": "AAAAAADskEA=",
            "dtype": "f8"
           },
           "xaxis": "x",
           "y": {
            "bdata": "JCh+jLnfYUA=",
            "dtype": "f8"
           },
           "yaxis": "y"
          },
          {
           "hovertemplate": "<b>%{hovertext}</b><br><br>Country Name=%{text}<br>Year=2020.0<br>Neerslag (mm/jaar)=%{x}<br>Totale landbouwuitstoot (Mt CO₂e)=%{y}<extra></extra>",
           "hovertext": [
            "Japan"
           ],
           "legendgroup": "Japan",
           "marker": {
            "color": "#ab63fa",
            "symbol": "circle"
           },
           "mode": "markers+text",
           "name": "Japan",
           "orientation": "v",
           "showlegend": true,
           "text": [
            "Japan"
           ],
           "type": "scatter",
           "x": {
            "bdata": "AAAAAAAQmkA=",
            "dtype": "f8"
           },
           "xaxis": "x",
           "y": {
            "bdata": "NIC3QILi/z8=",
            "dtype": "f8"
           },
           "yaxis": "y"
          },
          {
           "hovertemplate": "<b>%{hovertext}</b><br><br>Country Name=%{text}<br>Year=2020.0<br>Neerslag (mm/jaar)=%{x}<br>Totale landbouwuitstoot (Mt CO₂e)=%{y}<extra></extra>",
           "hovertext": [
            "Nigeria"
           ],
           "legendgroup": "Nigeria",
           "marker": {
            "color": "#FFA15A",
            "symbol": "circle"
           },
           "mode": "markers+text",
           "name": "Nigeria",
           "orientation": "v",
           "showlegend": true,
           "text": [
            "Nigeria"
           ],
           "type": "scatter",
           "x": {
            "bdata": "AAAAAAD4kUA=",
            "dtype": "f8"
           },
           "xaxis": "x",
           "y": {
            "bdata": "A3gLJCh+6D8=",
            "dtype": "f8"
           },
           "yaxis": "y"
          },
          {
           "hovertemplate": "<b>%{hovertext}</b><br><br>Country Name=%{text}<br>Year=2020.0<br>Neerslag (mm/jaar)=%{x}<br>Totale landbouwuitstoot (Mt CO₂e)=%{y}<extra></extra>",
           "hovertext": [
            "United States of America"
           ],
           "legendgroup": "United States of America",
           "marker": {
            "color": "#19d3f3",
            "symbol": "circle"
           },
           "mode": "markers+text",
           "name": "United States of America",
           "orientation": "v",
           "showlegend": true,
           "text": [
            "United States of America"
           ],
           "type": "scatter",
           "x": {
            "bdata": "AAAAAABYhkA=",
            "dtype": "f8"
           },
           "xaxis": "x",
           "y": {
            "bdata": "sgxxrItLVEA=",
            "dtype": "f8"
           },
           "yaxis": "y"
          },
          {
           "hovertemplate": "<b>%{hovertext}</b><br><br>Country Name=%{text}<br>Year=2020.0<br>Neerslag (mm/jaar)=%{x}<br>Totale landbouwuitstoot (Mt CO₂e)=%{y}<extra></extra>",
           "hovertext": [
            "South Africa"
           ],
           "legendgroup": "South Africa",
           "marker": {
            "color": "#FF6692",
            "symbol": "circle"
           },
           "mode": "markers+text",
           "name": "South Africa",
           "orientation": "v",
           "showlegend": true,
           "text": [
            "South Africa"
           ],
           "type": "scatter",
           "x": {
            "bdata": "AAAAAADwfkA=",
            "dtype": "f8"
           },
           "xaxis": "x",
           "y": {
            "bdata": "Dwu1pnnHCUA=",
            "dtype": "f8"
           },
           "yaxis": "y"
          }
         ],
         "name": "2020.0"
        },
        {
         "data": [
          {
           "hovertemplate": "<b>%{hovertext}</b><br><br>Country Name=%{text}<br>Year=2021.0<br>Neerslag (mm/jaar)=%{x}<br>Totale landbouwuitstoot (Mt CO₂e)=%{y}<extra></extra>",
           "hovertext": [
            "Brazil"
           ],
           "legendgroup": "Brazil",
           "marker": {
            "color": "#636efa",
            "symbol": "circle"
           },
           "mode": "markers+text",
           "name": "Brazil",
           "orientation": "v",
           "showlegend": true,
           "text": [
            "Brazil"
           ],
           "type": "scatter",
           "x": {
            "bdata": "AAAAAACEm0A=",
            "dtype": "f8"
           },
           "xaxis": "x",
           "y": {
            "bdata": "63O1FfsbR0A=",
            "dtype": "f8"
           },
           "yaxis": "y"
          },
          {
           "hovertemplate": "<b>%{hovertext}</b><br><br>Country Name=%{text}<br>Year=2021.0<br>Neerslag (mm/jaar)=%{x}<br>Totale landbouwuitstoot (Mt CO₂e)=%{y}<extra></extra>",
           "hovertext": [
            "Indonesia"
           ],
           "legendgroup": "Indonesia",
           "marker": {
            "color": "#EF553B",
            "symbol": "circle"
           },
           "mode": "markers+text",
           "name": "Indonesia",
           "orientation": "v",
           "showlegend": true,
           "text": [
            "Indonesia"
           ],
           "type": "scatter",
           "x": {
            "bdata": "AAAAAAAcpUA=",
            "dtype": "f8"
           },
           "xaxis": "x",
           "y": {
            "bdata": "nYAmwoan+z8=",
            "dtype": "f8"
           },
           "yaxis": "y"
          },
          {
           "hovertemplate": "<b>%{hovertext}</b><br><br>Country Name=%{text}<br>Year=2021.0<br>Neerslag (mm/jaar)=%{x}<br>Totale landbouwuitstoot (Mt CO₂e)=%{y}<extra></extra>",
           "hovertext": [
            "India"
           ],
           "legendgroup": "India",
           "marker": {
            "color": "#00cc96",
            "symbol": "circle"
           },
           "mode": "markers+text",
           "name": "India",
           "orientation": "v",
           "showlegend": true,
           "text": [
            "India"
           ],
           "type": "scatter",
           "x": {
            "bdata": "AAAAAADskEA=",
            "dtype": "f8"
           },
           "xaxis": "x",
           "y": {
            "bdata": "XP5D+u0PYkA=",
            "dtype": "f8"
           },
           "yaxis": "y"
          },
          {
           "hovertemplate": "<b>%{hovertext}</b><br><br>Country Name=%{text}<br>Year=2021.0<br>Neerslag (mm/jaar)=%{x}<br>Totale landbouwuitstoot (Mt CO₂e)=%{y}<extra></extra>",
           "hovertext": [
            "Japan"
           ],
           "legendgroup": "Japan",
           "marker": {
            "color": "#ab63fa",
            "symbol": "circle"
           },
           "mode": "markers+text",
           "name": "Japan",
           "orientation": "v",
           "showlegend": true,
           "text": [
            "Japan"
           ],
           "type": "scatter",
           "x": {
            "bdata": "AAAAAAAQmkA=",
            "dtype": "f8"
           },
           "xaxis": "x",
           "y": {
            "bdata": "rBxaZDvf8z8=",
            "dtype": "f8"
           },
           "yaxis": "y"
          },
          {
           "hovertemplate": "<b>%{hovertext}</b><br><br>Country Name=%{text}<br>Year=2021.0<br>Neerslag (mm/jaar)=%{x}<br>Totale landbouwuitstoot (Mt CO₂e)=%{y}<extra></extra>",
           "hovertext": [
            "Nigeria"
           ],
           "legendgroup": "Nigeria",
           "marker": {
            "color": "#FFA15A",
            "symbol": "circle"
           },
           "mode": "markers+text",
           "name": "Nigeria",
           "orientation": "v",
           "showlegend": true,
           "text": [
            "Nigeria"
           ],
           "type": "scatter",
           "x": {
            "bdata": "AAAAAAD4kUA=",
            "dtype": "f8"
           },
           "xaxis": "x",
           "y": {
            "bdata": "5PIf0m9f6z8=",
            "dtype": "f8"
           },
           "yaxis": "y"
          },
          {
           "hovertemplate": "<b>%{hovertext}</b><br><br>Country Name=%{text}<br>Year=2021.0<br>Neerslag (mm/jaar)=%{x}<br>Totale landbouwuitstoot (Mt CO₂e)=%{y}<extra></extra>",
           "hovertext": [
            "United States of America"
           ],
           "legendgroup": "United States of America",
           "marker": {
            "color": "#19d3f3",
            "symbol": "circle"
           },
           "mode": "markers+text",
           "name": "United States of America",
           "orientation": "v",
           "showlegend": true,
           "text": [
            "United States of America"
           ],
           "type": "scatter",
           "x": {
            "bdata": "AAAAAABYhkA=",
            "dtype": "f8"
           },
           "xaxis": "x",
           "y": {
            "bdata": "2qz6XG0VTUA=",
            "dtype": "f8"
           },
           "yaxis": "y"
          },
          {
           "hovertemplate": "<b>%{hovertext}</b><br><br>Country Name=%{text}<br>Year=2021.0<br>Neerslag (mm/jaar)=%{x}<br>Totale landbouwuitstoot (Mt CO₂e)=%{y}<extra></extra>",
           "hovertext": [
            "South Africa"
           ],
           "legendgroup": "South Africa",
           "marker": {
            "color": "#FF6692",
            "symbol": "circle"
           },
           "mode": "markers+text",
           "name": "South Africa",
           "orientation": "v",
           "showlegend": true,
           "text": [
            "South Africa"
           ],
           "type": "scatter",
           "x": {
            "bdata": "AAAAAADwfkA=",
            "dtype": "f8"
           },
           "xaxis": "x",
           "y": {
            "bdata": "ylTBqKROCkA=",
            "dtype": "f8"
           },
           "yaxis": "y"
          }
         ],
         "name": "2021.0"
        }
       ],
       "layout": {
        "legend": {
         "title": {
          "text": "Country Name"
         },
         "tracegroupgap": 0
        },
        "sliders": [
         {
          "active": 0,
          "currentvalue": {
           "prefix": "Year="
          },
          "len": 0.9,
          "pad": {
           "b": 10,
           "t": 60
          },
          "steps": [
           {
            "args": [
             [
              "1961.0"
             ],
             {
              "frame": {
               "duration": 0,
               "redraw": false
              },
              "fromcurrent": true,
              "mode": "immediate",
              "transition": {
               "duration": 0,
               "easing": "linear"
              }
             }
            ],
            "label": "1961.0",
            "method": "animate"
           },
           {
            "args": [
             [
              "1962.0"
             ],
             {
              "frame": {
               "duration": 0,
               "redraw": false
              },
              "fromcurrent": true,
              "mode": "immediate",
              "transition": {
               "duration": 0,
               "easing": "linear"
              }
             }
            ],
            "label": "1962.0",
            "method": "animate"
           },
           {
            "args": [
             [
              "1963.0"
             ],
             {
              "frame": {
               "duration": 0,
               "redraw": false
              },
              "fromcurrent": true,
              "mode": "immediate",
              "transition": {
               "duration": 0,
               "easing": "linear"
              }
             }
            ],
            "label": "1963.0",
            "method": "animate"
           },
           {
            "args": [
             [
              "1964.0"
             ],
             {
              "frame": {
               "duration": 0,
               "redraw": false
              },
              "fromcurrent": true,
              "mode": "immediate",
              "transition": {
               "duration": 0,
               "easing": "linear"
              }
             }
            ],
            "label": "1964.0",
            "method": "animate"
           },
           {
            "args": [
             [
              "1965.0"
             ],
             {
              "frame": {
               "duration": 0,
               "redraw": false
              },
              "fromcurrent": true,
              "mode": "immediate",
              "transition": {
               "duration": 0,
               "easing": "linear"
              }
             }
            ],
            "label": "1965.0",
            "method": "animate"
           },
           {
            "args": [
             [
              "1966.0"
             ],
             {
              "frame": {
               "duration": 0,
               "redraw": false
              },
              "fromcurrent": true,
              "mode": "immediate",
              "transition": {
               "duration": 0,
               "easing": "linear"
              }
             }
            ],
            "label": "1966.0",
            "method": "animate"
           },
           {
            "args": [
             [
              "1967.0"
             ],
             {
              "frame": {
               "duration": 0,
               "redraw": false
              },
              "fromcurrent": true,
              "mode": "immediate",
              "transition": {
               "duration": 0,
               "easing": "linear"
              }
             }
            ],
            "label": "1967.0",
            "method": "animate"
           },
           {
            "args": [
             [
              "1968.0"
             ],
             {
              "frame": {
               "duration": 0,
               "redraw": false
              },
              "fromcurrent": true,
              "mode": "immediate",
              "transition": {
               "duration": 0,
               "easing": "linear"
              }
             }
            ],
            "label": "1968.0",
            "method": "animate"
           },
           {
            "args": [
             [
              "1969.0"
             ],
             {
              "frame": {
               "duration": 0,
               "redraw": false
              },
              "fromcurrent": true,
              "mode": "immediate",
              "transition": {
               "duration": 0,
               "easing": "linear"
              }
             }
            ],
            "label": "1969.0",
            "method": "animate"
           },
           {
            "args": [
             [
              "1970.0"
             ],
             {
              "frame": {
               "duration": 0,
               "redraw": false
              },
              "fromcurrent": true,
              "mode": "immediate",
              "transition": {
               "duration": 0,
               "easing": "linear"
              }
             }
            ],
            "label": "1970.0",
            "method": "animate"
           },
           {
            "args": [
             [
              "1971.0"
             ],
             {
              "frame": {
               "duration": 0,
               "redraw": false
              },
              "fromcurrent": true,
              "mode": "immediate",
              "transition": {
               "duration": 0,
               "easing": "linear"
              }
             }
            ],
            "label": "1971.0",
            "method": "animate"
           },
           {
            "args": [
             [
              "1972.0"
             ],
             {
              "frame": {
               "duration": 0,
               "redraw": false
              },
              "fromcurrent": true,
              "mode": "immediate",
              "transition": {
               "duration": 0,
               "easing": "linear"
              }
             }
            ],
            "label": "1972.0",
            "method": "animate"
           },
           {
            "args": [
             [
              "1973.0"
             ],
             {
              "frame": {
               "duration": 0,
               "redraw": false
              },
              "fromcurrent": true,
              "mode": "immediate",
              "transition": {
               "duration": 0,
               "easing": "linear"
              }
             }
            ],
            "label": "1973.0",
            "method": "animate"
           },
           {
            "args": [
             [
              "1974.0"
             ],
             {
              "frame": {
               "duration": 0,
               "redraw": false
              },
              "fromcurrent": true,
              "mode": "immediate",
              "transition": {
               "duration": 0,
               "easing": "linear"
              }
             }
            ],
            "label": "1974.0",
            "method": "animate"
           },
           {
            "args": [
             [
              "1975.0"
             ],
             {
              "frame": {
               "duration": 0,
               "redraw": false
              },
              "fromcurrent": true,
              "mode": "immediate",
              "transition": {
               "duration": 0,
               "easing": "linear"
              }
             }
            ],
            "label": "1975.0",
            "method": "animate"
           },
           {
            "args": [
             [
              "1976.0"
             ],
             {
              "frame": {
               "duration": 0,
               "redraw": false
              },
              "fromcurrent": true,
              "mode": "immediate",
              "transition": {
               "duration": 0,
               "easing": "linear"
              }
             }
            ],
            "label": "1976.0",
            "method": "animate"
           },
           {
            "args": [
             [
              "1977.0"
             ],
             {
              "frame": {
               "duration": 0,
               "redraw": false
              },
              "fromcurrent": true,
              "mode": "immediate",
              "transition": {
               "duration": 0,
               "easing": "linear"
              }
             }
            ],
            "label": "1977.0",
            "method": "animate"
           },
           {
            "args": [
             [
              "1978.0"
             ],
             {
              "frame": {
               "duration": 0,
               "redraw": false
              },
              "fromcurrent": true,
              "mode": "immediate",
              "transition": {
               "duration": 0,
               "easing": "linear"
              }
             }
            ],
            "label": "1978.0",
            "method": "animate"
           },
           {
            "args": [
             [
              "1979.0"
             ],
             {
              "frame": {
               "duration": 0,
               "redraw": false
              },
              "fromcurrent": true,
              "mode": "immediate",
              "transition": {
               "duration": 0,
               "easing": "linear"
              }
             }
            ],
            "label": "1979.0",
            "method": "animate"
           },
           {
            "args": [
             [
              "1980.0"
             ],
             {
              "frame": {
               "duration": 0,
               "redraw": false
              },
              "fromcurrent": true,
              "mode": "immediate",
              "transition": {
               "duration": 0,
               "easing": "linear"
              }
             }
            ],
            "label": "1980.0",
            "method": "animate"
           },
           {
            "args": [
             [
              "1981.0"
             ],
             {
              "frame": {
               "duration": 0,
               "redraw": false
              },
              "fromcurrent": true,
              "mode": "immediate",
              "transition": {
               "duration": 0,
               "easing": "linear"
              }
             }
            ],
            "label": "1981.0",
            "method": "animate"
           },
           {
            "args": [
             [
              "1982.0"
             ],
             {
              "frame": {
               "duration": 0,
               "redraw": false
              },
              "fromcurrent": true,
              "mode": "immediate",
              "transition": {
               "duration": 0,
               "easing": "linear"
              }
             }
            ],
            "label": "1982.0",
            "method": "animate"
           },
           {
            "args": [
             [
              "1983.0"
             ],
             {
              "frame": {
               "duration": 0,
               "redraw": false
              },
              "fromcurrent": true,
              "mode": "immediate",
              "transition": {
               "duration": 0,
               "easing": "linear"
              }
             }
            ],
            "label": "1983.0",
            "method": "animate"
           },
           {
            "args": [
             [
              "1984.0"
             ],
             {
              "frame": {
               "duration": 0,
               "redraw": false
              },
              "fromcurrent": true,
              "mode": "immediate",
              "transition": {
               "duration": 0,
               "easing": "linear"
              }
             }
            ],
            "label": "1984.0",
            "method": "animate"
           },
           {
            "args": [
             [
              "1985.0"
             ],
             {
              "frame": {
               "duration": 0,
               "redraw": false
              },
              "fromcurrent": true,
              "mode": "immediate",
              "transition": {
               "duration": 0,
               "easing": "linear"
              }
             }
            ],
            "label": "1985.0",
            "method": "animate"
           },
           {
            "args": [
             [
              "1986.0"
             ],
             {
              "frame": {
               "duration": 0,
               "redraw": false
              },
              "fromcurrent": true,
              "mode": "immediate",
              "transition": {
               "duration": 0,
               "easing": "linear"
              }
             }
            ],
            "label": "1986.0",
            "method": "animate"
           },
           {
            "args": [
             [
              "1987.0"
             ],
             {
              "frame": {
               "duration": 0,
               "redraw": false
              },
              "fromcurrent": true,
              "mode": "immediate",
              "transition": {
               "duration": 0,
               "easing": "linear"
              }
             }
            ],
            "label": "1987.0",
            "method": "animate"
           },
           {
            "args": [
             [
              "1988.0"
             ],
             {
              "frame": {
               "duration": 0,
               "redraw": false
              },
              "fromcurrent": true,
              "mode": "immediate",
              "transition": {
               "duration": 0,
               "easing": "linear"
              }
             }
            ],
            "label": "1988.0",
            "method": "animate"
           },
           {
            "args": [
             [
              "1989.0"
             ],
             {
              "frame": {
               "duration": 0,
               "redraw": false
              },
              "fromcurrent": true,
              "mode": "immediate",
              "transition": {
               "duration": 0,
               "easing": "linear"
              }
             }
            ],
            "label": "1989.0",
            "method": "animate"
           },
           {
            "args": [
             [
              "1990.0"
             ],
             {
              "frame": {
               "duration": 0,
               "redraw": false
              },
              "fromcurrent": true,
              "mode": "immediate",
              "transition": {
               "duration": 0,
               "easing": "linear"
              }
             }
            ],
            "label": "1990.0",
            "method": "animate"
           },
           {
            "args": [
             [
              "1991.0"
             ],
             {
              "frame": {
               "duration": 0,
               "redraw": false
              },
              "fromcurrent": true,
              "mode": "immediate",
              "transition": {
               "duration": 0,
               "easing": "linear"
              }
             }
            ],
            "label": "1991.0",
            "method": "animate"
           },
           {
            "args": [
             [
              "1992.0"
             ],
             {
              "frame": {
               "duration": 0,
               "redraw": false
              },
              "fromcurrent": true,
              "mode": "immediate",
              "transition": {
               "duration": 0,
               "easing": "linear"
              }
             }
            ],
            "label": "1992.0",
            "method": "animate"
           },
           {
            "args": [
             [
              "1993.0"
             ],
             {
              "frame": {
               "duration": 0,
               "redraw": false
              },
              "fromcurrent": true,
              "mode": "immediate",
              "transition": {
               "duration": 0,
               "easing": "linear"
              }
             }
            ],
            "label": "1993.0",
            "method": "animate"
           },
           {
            "args": [
             [
              "1994.0"
             ],
             {
              "frame": {
               "duration": 0,
               "redraw": false
              },
              "fromcurrent": true,
              "mode": "immediate",
              "transition": {
               "duration": 0,
               "easing": "linear"
              }
             }
            ],
            "label": "1994.0",
            "method": "animate"
           },
           {
            "args": [
             [
              "1995.0"
             ],
             {
              "frame": {
               "duration": 0,
               "redraw": false
              },
              "fromcurrent": true,
              "mode": "immediate",
              "transition": {
               "duration": 0,
               "easing": "linear"
              }
             }
            ],
            "label": "1995.0",
            "method": "animate"
           },
           {
            "args": [
             [
              "1996.0"
             ],
             {
              "frame": {
               "duration": 0,
               "redraw": false
              },
              "fromcurrent": true,
              "mode": "immediate",
              "transition": {
               "duration": 0,
               "easing": "linear"
              }
             }
            ],
            "label": "1996.0",
            "method": "animate"
           },
           {
            "args": [
             [
              "1997.0"
             ],
             {
              "frame": {
               "duration": 0,
               "redraw": false
              },
              "fromcurrent": true,
              "mode": "immediate",
              "transition": {
               "duration": 0,
               "easing": "linear"
              }
             }
            ],
            "label": "1997.0",
            "method": "animate"
           },
           {
            "args": [
             [
              "1998.0"
             ],
             {
              "frame": {
               "duration": 0,
               "redraw": false
              },
              "fromcurrent": true,
              "mode": "immediate",
              "transition": {
               "duration": 0,
               "easing": "linear"
              }
             }
            ],
            "label": "1998.0",
            "method": "animate"
           },
           {
            "args": [
             [
              "1999.0"
             ],
             {
              "frame": {
               "duration": 0,
               "redraw": false
              },
              "fromcurrent": true,
              "mode": "immediate",
              "transition": {
               "duration": 0,
               "easing": "linear"
              }
             }
            ],
            "label": "1999.0",
            "method": "animate"
           },
           {
            "args": [
             [
              "2000.0"
             ],
             {
              "frame": {
               "duration": 0,
               "redraw": false
              },
              "fromcurrent": true,
              "mode": "immediate",
              "transition": {
               "duration": 0,
               "easing": "linear"
              }
             }
            ],
            "label": "2000.0",
            "method": "animate"
           },
           {
            "args": [
             [
              "2001.0"
             ],
             {
              "frame": {
               "duration": 0,
               "redraw": false
              },
              "fromcurrent": true,
              "mode": "immediate",
              "transition": {
               "duration": 0,
               "easing": "linear"
              }
             }
            ],
            "label": "2001.0",
            "method": "animate"
           },
           {
            "args": [
             [
              "2002.0"
             ],
             {
              "frame": {
               "duration": 0,
               "redraw": false
              },
              "fromcurrent": true,
              "mode": "immediate",
              "transition": {
               "duration": 0,
               "easing": "linear"
              }
             }
            ],
            "label": "2002.0",
            "method": "animate"
           },
           {
            "args": [
             [
              "2003.0"
             ],
             {
              "frame": {
               "duration": 0,
               "redraw": false
              },
              "fromcurrent": true,
              "mode": "immediate",
              "transition": {
               "duration": 0,
               "easing": "linear"
              }
             }
            ],
            "label": "2003.0",
            "method": "animate"
           },
           {
            "args": [
             [
              "2004.0"
             ],
             {
              "frame": {
               "duration": 0,
               "redraw": false
              },
              "fromcurrent": true,
              "mode": "immediate",
              "transition": {
               "duration": 0,
               "easing": "linear"
              }
             }
            ],
            "label": "2004.0",
            "method": "animate"
           },
           {
            "args": [
             [
              "2005.0"
             ],
             {
              "frame": {
               "duration": 0,
               "redraw": false
              },
              "fromcurrent": true,
              "mode": "immediate",
              "transition": {
               "duration": 0,
               "easing": "linear"
              }
             }
            ],
            "label": "2005.0",
            "method": "animate"
           },
           {
            "args": [
             [
              "2006.0"
             ],
             {
              "frame": {
               "duration": 0,
               "redraw": false
              },
              "fromcurrent": true,
              "mode": "immediate",
              "transition": {
               "duration": 0,
               "easing": "linear"
              }
             }
            ],
            "label": "2006.0",
            "method": "animate"
           },
           {
            "args": [
             [
              "2007.0"
             ],
             {
              "frame": {
               "duration": 0,
               "redraw": false
              },
              "fromcurrent": true,
              "mode": "immediate",
              "transition": {
               "duration": 0,
               "easing": "linear"
              }
             }
            ],
            "label": "2007.0",
            "method": "animate"
           },
           {
            "args": [
             [
              "2008.0"
             ],
             {
              "frame": {
               "duration": 0,
               "redraw": false
              },
              "fromcurrent": true,
              "mode": "immediate",
              "transition": {
               "duration": 0,
               "easing": "linear"
              }
             }
            ],
            "label": "2008.0",
            "method": "animate"
           },
           {
            "args": [
             [
              "2009.0"
             ],
             {
              "frame": {
               "duration": 0,
               "redraw": false
              },
              "fromcurrent": true,
              "mode": "immediate",
              "transition": {
               "duration": 0,
               "easing": "linear"
              }
             }
            ],
            "label": "2009.0",
            "method": "animate"
           },
           {
            "args": [
             [
              "2010.0"
             ],
             {
              "frame": {
               "duration": 0,
               "redraw": false
              },
              "fromcurrent": true,
              "mode": "immediate",
              "transition": {
               "duration": 0,
               "easing": "linear"
              }
             }
            ],
            "label": "2010.0",
            "method": "animate"
           },
           {
            "args": [
             [
              "2011.0"
             ],
             {
              "frame": {
               "duration": 0,
               "redraw": false
              },
              "fromcurrent": true,
              "mode": "immediate",
              "transition": {
               "duration": 0,
               "easing": "linear"
              }
             }
            ],
            "label": "2011.0",
            "method": "animate"
           },
           {
            "args": [
             [
              "2012.0"
             ],
             {
              "frame": {
               "duration": 0,
               "redraw": false
              },
              "fromcurrent": true,
              "mode": "immediate",
              "transition": {
               "duration": 0,
               "easing": "linear"
              }
             }
            ],
            "label": "2012.0",
            "method": "animate"
           },
           {
            "args": [
             [
              "2013.0"
             ],
             {
              "frame": {
               "duration": 0,
               "redraw": false
              },
              "fromcurrent": true,
              "mode": "immediate",
              "transition": {
               "duration": 0,
               "easing": "linear"
              }
             }
            ],
            "label": "2013.0",
            "method": "animate"
           },
           {
            "args": [
             [
              "2014.0"
             ],
             {
              "frame": {
               "duration": 0,
               "redraw": false
              },
              "fromcurrent": true,
              "mode": "immediate",
              "transition": {
               "duration": 0,
               "easing": "linear"
              }
             }
            ],
            "label": "2014.0",
            "method": "animate"
           },
           {
            "args": [
             [
              "2015.0"
             ],
             {
              "frame": {
               "duration": 0,
               "redraw": false
              },
              "fromcurrent": true,
              "mode": "immediate",
              "transition": {
               "duration": 0,
               "easing": "linear"
              }
             }
            ],
            "label": "2015.0",
            "method": "animate"
           },
           {
            "args": [
             [
              "2016.0"
             ],
             {
              "frame": {
               "duration": 0,
               "redraw": false
              },
              "fromcurrent": true,
              "mode": "immediate",
              "transition": {
               "duration": 0,
               "easing": "linear"
              }
             }
            ],
            "label": "2016.0",
            "method": "animate"
           },
           {
            "args": [
             [
              "2017.0"
             ],
             {
              "frame": {
               "duration": 0,
               "redraw": false
              },
              "fromcurrent": true,
              "mode": "immediate",
              "transition": {
               "duration": 0,
               "easing": "linear"
              }
             }
            ],
            "label": "2017.0",
            "method": "animate"
           },
           {
            "args": [
             [
              "2018.0"
             ],
             {
              "frame": {
               "duration": 0,
               "redraw": false
              },
              "fromcurrent": true,
              "mode": "immediate",
              "transition": {
               "duration": 0,
               "easing": "linear"
              }
             }
            ],
            "label": "2018.0",
            "method": "animate"
           },
           {
            "args": [
             [
              "2019.0"
             ],
             {
              "frame": {
               "duration": 0,
               "redraw": false
              },
              "fromcurrent": true,
              "mode": "immediate",
              "transition": {
               "duration": 0,
               "easing": "linear"
              }
             }
            ],
            "label": "2019.0",
            "method": "animate"
           },
           {
            "args": [
             [
              "2020.0"
             ],
             {
              "frame": {
               "duration": 0,
               "redraw": false
              },
              "fromcurrent": true,
              "mode": "immediate",
              "transition": {
               "duration": 0,
               "easing": "linear"
              }
             }
            ],
            "label": "2020.0",
            "method": "animate"
           },
           {
            "args": [
             [
              "2021.0"
             ],
             {
              "frame": {
               "duration": 0,
               "redraw": false
              },
              "fromcurrent": true,
              "mode": "immediate",
              "transition": {
               "duration": 0,
               "easing": "linear"
              }
             }
            ],
            "label": "2021.0",
            "method": "animate"
           }
          ],
          "x": 0.1,
          "xanchor": "left",
          "y": 0,
          "yanchor": "top"
         }
        ],
        "template": {
         "data": {
          "bar": [
           {
            "error_x": {
             "color": "#2a3f5f"
            },
            "error_y": {
             "color": "#2a3f5f"
            },
            "marker": {
             "line": {
              "color": "#E5ECF6",
              "width": 0.5
             },
             "pattern": {
              "fillmode": "overlay",
              "size": 10,
              "solidity": 0.2
             }
            },
            "type": "bar"
           }
          ],
          "barpolar": [
           {
            "marker": {
             "line": {
              "color": "#E5ECF6",
              "width": 0.5
             },
             "pattern": {
              "fillmode": "overlay",
              "size": 10,
              "solidity": 0.2
             }
            },
            "type": "barpolar"
           }
          ],
          "carpet": [
           {
            "aaxis": {
             "endlinecolor": "#2a3f5f",
             "gridcolor": "white",
             "linecolor": "white",
             "minorgridcolor": "white",
             "startlinecolor": "#2a3f5f"
            },
            "baxis": {
             "endlinecolor": "#2a3f5f",
             "gridcolor": "white",
             "linecolor": "white",
             "minorgridcolor": "white",
             "startlinecolor": "#2a3f5f"
            },
            "type": "carpet"
           }
          ],
          "choropleth": [
           {
            "colorbar": {
             "outlinewidth": 0,
             "ticks": ""
            },
            "type": "choropleth"
           }
          ],
          "contour": [
           {
            "colorbar": {
             "outlinewidth": 0,
             "ticks": ""
            },
            "colorscale": [
             [
              0,
              "#0d0887"
             ],
             [
              0.1111111111111111,
              "#46039f"
             ],
             [
              0.2222222222222222,
              "#7201a8"
             ],
             [
              0.3333333333333333,
              "#9c179e"
             ],
             [
              0.4444444444444444,
              "#bd3786"
             ],
             [
              0.5555555555555556,
              "#d8576b"
             ],
             [
              0.6666666666666666,
              "#ed7953"
             ],
             [
              0.7777777777777778,
              "#fb9f3a"
             ],
             [
              0.8888888888888888,
              "#fdca26"
             ],
             [
              1,
              "#f0f921"
             ]
            ],
            "type": "contour"
           }
          ],
          "contourcarpet": [
           {
            "colorbar": {
             "outlinewidth": 0,
             "ticks": ""
            },
            "type": "contourcarpet"
           }
          ],
          "heatmap": [
           {
            "colorbar": {
             "outlinewidth": 0,
             "ticks": ""
            },
            "colorscale": [
             [
              0,
              "#0d0887"
             ],
             [
              0.1111111111111111,
              "#46039f"
             ],
             [
              0.2222222222222222,
              "#7201a8"
             ],
             [
              0.3333333333333333,
              "#9c179e"
             ],
             [
              0.4444444444444444,
              "#bd3786"
             ],
             [
              0.5555555555555556,
              "#d8576b"
             ],
             [
              0.6666666666666666,
              "#ed7953"
             ],
             [
              0.7777777777777778,
              "#fb9f3a"
             ],
             [
              0.8888888888888888,
              "#fdca26"
             ],
             [
              1,
              "#f0f921"
             ]
            ],
            "type": "heatmap"
           }
          ],
          "histogram": [
           {
            "marker": {
             "pattern": {
              "fillmode": "overlay",
              "size": 10,
              "solidity": 0.2
             }
            },
            "type": "histogram"
           }
          ],
          "histogram2d": [
           {
            "colorbar": {
             "outlinewidth": 0,
             "ticks": ""
            },
            "colorscale": [
             [
              0,
              "#0d0887"
             ],
             [
              0.1111111111111111,
              "#46039f"
             ],
             [
              0.2222222222222222,
              "#7201a8"
             ],
             [
              0.3333333333333333,
              "#9c179e"
             ],
             [
              0.4444444444444444,
              "#bd3786"
             ],
             [
              0.5555555555555556,
              "#d8576b"
             ],
             [
              0.6666666666666666,
              "#ed7953"
             ],
             [
              0.7777777777777778,
              "#fb9f3a"
             ],
             [
              0.8888888888888888,
              "#fdca26"
             ],
             [
              1,
              "#f0f921"
             ]
            ],
            "type": "histogram2d"
           }
          ],
          "histogram2dcontour": [
           {
            "colorbar": {
             "outlinewidth": 0,
             "ticks": ""
            },
            "colorscale": [
             [
              0,
              "#0d0887"
             ],
             [
              0.1111111111111111,
              "#46039f"
             ],
             [
              0.2222222222222222,
              "#7201a8"
             ],
             [
              0.3333333333333333,
              "#9c179e"
             ],
             [
              0.4444444444444444,
              "#bd3786"
             ],
             [
              0.5555555555555556,
              "#d8576b"
             ],
             [
              0.6666666666666666,
              "#ed7953"
             ],
             [
              0.7777777777777778,
              "#fb9f3a"
             ],
             [
              0.8888888888888888,
              "#fdca26"
             ],
             [
              1,
              "#f0f921"
             ]
            ],
            "type": "histogram2dcontour"
           }
          ],
          "mesh3d": [
           {
            "colorbar": {
             "outlinewidth": 0,
             "ticks": ""
            },
            "type": "mesh3d"
           }
          ],
          "parcoords": [
           {
            "line": {
             "colorbar": {
              "outlinewidth": 0,
              "ticks": ""
             }
            },
            "type": "parcoords"
           }
          ],
          "pie": [
           {
            "automargin": true,
            "type": "pie"
           }
          ],
          "scatter": [
           {
            "fillpattern": {
             "fillmode": "overlay",
             "size": 10,
             "solidity": 0.2
            },
            "type": "scatter"
           }
          ],
          "scatter3d": [
           {
            "line": {
             "colorbar": {
              "outlinewidth": 0,
              "ticks": ""
             }
            },
            "marker": {
             "colorbar": {
              "outlinewidth": 0,
              "ticks": ""
             }
            },
            "type": "scatter3d"
           }
          ],
          "scattercarpet": [
           {
            "marker": {
             "colorbar": {
              "outlinewidth": 0,
              "ticks": ""
             }
            },
            "type": "scattercarpet"
           }
          ],
          "scattergeo": [
           {
            "marker": {
             "colorbar": {
              "outlinewidth": 0,
              "ticks": ""
             }
            },
            "type": "scattergeo"
           }
          ],
          "scattergl": [
           {
            "marker": {
             "colorbar": {
              "outlinewidth": 0,
              "ticks": ""
             }
            },
            "type": "scattergl"
           }
          ],
          "scattermap": [
           {
            "marker": {
             "colorbar": {
              "outlinewidth": 0,
              "ticks": ""
             }
            },
            "type": "scattermap"
           }
          ],
          "scattermapbox": [
           {
            "marker": {
             "colorbar": {
              "outlinewidth": 0,
              "ticks": ""
             }
            },
            "type": "scattermapbox"
           }
          ],
          "scatterpolar": [
           {
            "marker": {
             "colorbar": {
              "outlinewidth": 0,
              "ticks": ""
             }
            },
            "type": "scatterpolar"
           }
          ],
          "scatterpolargl": [
           {
            "marker": {
             "colorbar": {
              "outlinewidth": 0,
              "ticks": ""
             }
            },
            "type": "scatterpolargl"
           }
          ],
          "scatterternary": [
           {
            "marker": {
             "colorbar": {
              "outlinewidth": 0,
              "ticks": ""
             }
            },
            "type": "scatterternary"
           }
          ],
          "surface": [
           {
            "colorbar": {
             "outlinewidth": 0,
             "ticks": ""
            },
            "colorscale": [
             [
              0,
              "#0d0887"
             ],
             [
              0.1111111111111111,
              "#46039f"
             ],
             [
              0.2222222222222222,
              "#7201a8"
             ],
             [
              0.3333333333333333,
              "#9c179e"
             ],
             [
              0.4444444444444444,
              "#bd3786"
             ],
             [
              0.5555555555555556,
              "#d8576b"
             ],
             [
              0.6666666666666666,
              "#ed7953"
             ],
             [
              0.7777777777777778,
              "#fb9f3a"
             ],
             [
              0.8888888888888888,
              "#fdca26"
             ],
             [
              1,
              "#f0f921"
             ]
            ],
            "type": "surface"
           }
          ],
          "table": [
           {
            "cells": {
             "fill": {
              "color": "#EBF0F8"
             },
             "line": {
              "color": "white"
             }
            },
            "header": {
             "fill": {
              "color": "#C8D4E3"
             },
             "line": {
              "color": "white"
             }
            },
            "type": "table"
           }
          ]
         },
         "layout": {
          "annotationdefaults": {
           "arrowcolor": "#2a3f5f",
           "arrowhead": 0,
           "arrowwidth": 1
          },
          "autotypenumbers": "strict",
          "coloraxis": {
           "colorbar": {
            "outlinewidth": 0,
            "ticks": ""
           }
          },
          "colorscale": {
           "diverging": [
            [
             0,
             "#8e0152"
            ],
            [
             0.1,
             "#c51b7d"
            ],
            [
             0.2,
             "#de77ae"
            ],
            [
             0.3,
             "#f1b6da"
            ],
            [
             0.4,
             "#fde0ef"
            ],
            [
             0.5,
             "#f7f7f7"
            ],
            [
             0.6,
             "#e6f5d0"
            ],
            [
             0.7,
             "#b8e186"
            ],
            [
             0.8,
             "#7fbc41"
            ],
            [
             0.9,
             "#4d9221"
            ],
            [
             1,
             "#276419"
            ]
           ],
           "sequential": [
            [
             0,
             "#0d0887"
            ],
            [
             0.1111111111111111,
             "#46039f"
            ],
            [
             0.2222222222222222,
             "#7201a8"
            ],
            [
             0.3333333333333333,
             "#9c179e"
            ],
            [
             0.4444444444444444,
             "#bd3786"
            ],
            [
             0.5555555555555556,
             "#d8576b"
            ],
            [
             0.6666666666666666,
             "#ed7953"
            ],
            [
             0.7777777777777778,
             "#fb9f3a"
            ],
            [
             0.8888888888888888,
             "#fdca26"
            ],
            [
             1,
             "#f0f921"
            ]
           ],
           "sequentialminus": [
            [
             0,
             "#0d0887"
            ],
            [
             0.1111111111111111,
             "#46039f"
            ],
            [
             0.2222222222222222,
             "#7201a8"
            ],
            [
             0.3333333333333333,
             "#9c179e"
            ],
            [
             0.4444444444444444,
             "#bd3786"
            ],
            [
             0.5555555555555556,
             "#d8576b"
            ],
            [
             0.6666666666666666,
             "#ed7953"
            ],
            [
             0.7777777777777778,
             "#fb9f3a"
            ],
            [
             0.8888888888888888,
             "#fdca26"
            ],
            [
             1,
             "#f0f921"
            ]
           ]
          },
          "colorway": [
           "#636efa",
           "#EF553B",
           "#00cc96",
           "#ab63fa",
           "#FFA15A",
           "#19d3f3",
           "#FF6692",
           "#B6E880",
           "#FF97FF",
           "#FECB52"
          ],
          "font": {
           "color": "#2a3f5f"
          },
          "geo": {
           "bgcolor": "white",
           "lakecolor": "white",
           "landcolor": "#E5ECF6",
           "showlakes": true,
           "showland": true,
           "subunitcolor": "white"
          },
          "hoverlabel": {
           "align": "left"
          },
          "hovermode": "closest",
          "mapbox": {
           "style": "light"
          },
          "paper_bgcolor": "white",
          "plot_bgcolor": "#E5ECF6",
          "polar": {
           "angularaxis": {
            "gridcolor": "white",
            "linecolor": "white",
            "ticks": ""
           },
           "bgcolor": "#E5ECF6",
           "radialaxis": {
            "gridcolor": "white",
            "linecolor": "white",
            "ticks": ""
           }
          },
          "scene": {
           "xaxis": {
            "backgroundcolor": "#E5ECF6",
            "gridcolor": "white",
            "gridwidth": 2,
            "linecolor": "white",
            "showbackground": true,
            "ticks": "",
            "zerolinecolor": "white"
           },
           "yaxis": {
            "backgroundcolor": "#E5ECF6",
            "gridcolor": "white",
            "gridwidth": 2,
            "linecolor": "white",
            "showbackground": true,
            "ticks": "",
            "zerolinecolor": "white"
           },
           "zaxis": {
            "backgroundcolor": "#E5ECF6",
            "gridcolor": "white",
            "gridwidth": 2,
            "linecolor": "white",
            "showbackground": true,
            "ticks": "",
            "zerolinecolor": "white"
           }
          },
          "shapedefaults": {
           "line": {
            "color": "#2a3f5f"
           }
          },
          "ternary": {
           "aaxis": {
            "gridcolor": "white",
            "linecolor": "white",
            "ticks": ""
           },
           "baxis": {
            "gridcolor": "white",
            "linecolor": "white",
            "ticks": ""
           },
           "bgcolor": "#E5ECF6",
           "caxis": {
            "gridcolor": "white",
            "linecolor": "white",
            "ticks": ""
           }
          },
          "title": {
           "x": 0.05
          },
          "xaxis": {
           "automargin": true,
           "gridcolor": "white",
           "linecolor": "white",
           "ticks": "",
           "title": {
            "standoff": 15
           },
           "zerolinecolor": "white",
           "zerolinewidth": 2
          },
          "yaxis": {
           "automargin": true,
           "gridcolor": "white",
           "linecolor": "white",
           "ticks": "",
           "title": {
            "standoff": 15
           },
           "zerolinecolor": "white",
           "zerolinewidth": 2
          }
         }
        },
        "title": {
         "text": "Neerslag vs Landbouwuitstoot per Jaar (8 landen)"
        },
        "updatemenus": [
         {
          "buttons": [
           {
            "args": [
             null,
             {
              "frame": {
               "duration": 500,
               "redraw": false
              },
              "fromcurrent": true,
              "mode": "immediate",
              "transition": {
               "duration": 500,
               "easing": "linear"
              }
             }
            ],
            "label": "&#9654;",
            "method": "animate"
           },
           {
            "args": [
             [
              null
             ],
             {
              "frame": {
               "duration": 0,
               "redraw": false
              },
              "fromcurrent": true,
              "mode": "immediate",
              "transition": {
               "duration": 0,
               "easing": "linear"
              }
             }
            ],
            "label": "&#9724;",
            "method": "animate"
           }
          ],
          "direction": "left",
          "pad": {
           "r": 10,
           "t": 70
          },
          "showactive": false,
          "type": "buttons",
          "x": 0.1,
          "xanchor": "right",
          "y": 0,
          "yanchor": "top"
         }
        ],
        "xaxis": {
         "anchor": "y",
         "domain": [
          0,
          1
         ],
         "title": {
          "text": "Neerslag (mm/jaar)"
         }
        },
        "yaxis": {
         "anchor": "x",
         "domain": [
          0,
          1
         ],
         "title": {
          "text": "Totale landbouwuitstoot (Mt CO₂e)"
         }
        }
       }
      }
     },
     "metadata": {},
     "output_type": "display_data"
    }
   ],
   "source": [
    "import pandas as pd\n",
    "import plotly.express as px\n",
    "\n",
    "neerslag_df = pd.read_csv(\"datasets/API_AG.LND.PRCP.MM_DS2_en_csv_v2_4487.csv\", skiprows=4)\n",
    "emissies_crops_df = pd.read_csv(\"datasets/Emissions_crops_filtered.csv\")\n",
    "emissies_livestock_df = pd.read_csv(\"datasets/Emissions_livestock_filtered.csv\")\n",
    "\n",
    "neerslag_long = neerslag_df.melt(\n",
    "    id_vars=[\"Country Name\", \"Country Code\", \"Indicator Name\", \"Indicator Code\"],\n",
    "    var_name=\"Year\",\n",
    "    value_name=\"Precipitation_mm\"\n",
    ")\n",
    "neerslag_long = neerslag_long[[\"Country Name\", \"Year\", \"Precipitation_mm\"]]\n",
    "neerslag_long[\"Year\"] = pd.to_numeric(neerslag_long[\"Year\"], errors=\"coerce\")\n",
    "neerslag_long = neerslag_long.dropna(subset=[\"Year\", \"Precipitation_mm\"])\n",
    "neerslag_long[\"Country Name\"] = neerslag_long[\"Country Name\"].replace({\n",
    "    \"United States\": \"United States of America\"\n",
    "})\n",
    "\n",
    "# ⬇️ Bereken totale uitstoot per land en jaar (gewassen + vee)\n",
    "emissies_crops_total = emissies_crops_df.groupby([\"Area\", \"Year\"])[\"Value\"].sum().reset_index()\n",
    "emissies_livestock_total = emissies_livestock_df.groupby([\"Area\", \"Year\"])[\"Value\"].sum().reset_index()\n",
    "\n",
    "emissies_total = pd.merge(\n",
    "    emissies_crops_total, emissies_livestock_total,\n",
    "    on=[\"Area\", \"Year\"], how=\"outer\", suffixes=(\"_crops\", \"_livestock\")\n",
    ")\n",
    "emissies_total[\"Emissions_total\"] = (\n",
    "    emissies_total[\"Value_crops\"].fillna(0) + emissies_total[\"Value_livestock\"].fillna(0)\n",
    ")\n",
    "emissies_total = emissies_total[[\"Area\", \"Year\", \"Emissions_total\"]]\n",
    "emissies_total.rename(columns={\"Area\": \"Country Name\"}, inplace=True)\n",
    "\n",
    "# ⬇️ Merge emissies met neerslag\n",
    "combined_df = pd.merge(neerslag_long, emissies_total, on=[\"Country Name\", \"Year\"])\n",
    "\n",
    "# ⬇️ Filter op jouw 8 landen\n",
    "landen_selectie = [\n",
    "    \"Nigeria\", \"South Africa\", \"India\", \"Japan\",\n",
    "    \"United States of America\", \"Brazil\", \"Indonesia\"\n",
    "]\n",
    "combined_df = combined_df[combined_df[\"Country Name\"].isin(landen_selectie)]\n",
    "\n",
    "# ⬇️ Maak scatterplot met animatie\n",
    "fig = px.scatter(\n",
    "    combined_df,\n",
    "    x=\"Precipitation_mm\",\n",
    "    y=\"Emissions_total\",\n",
    "    animation_frame=\"Year\",\n",
    "    color=\"Country Name\",\n",
    "    text=\"Country Name\",\n",
    "    hover_name=\"Country Name\",\n",
    "    title=\"Neerslag vs Landbouwuitstoot per Jaar (8 landen)\",\n",
    "    labels={\n",
    "        \"Precipitation_mm\": \"Neerslag (mm/jaar)\",\n",
    "        \"Emissions_total\": \"Totale landbouwuitstoot (Mt CO₂e)\"\n",
    "    },\n",
    "    log_y=False\n",
    ")\n",
    "\n",
    "fig.update_traces(\n",
    "    textposition='top center',\n",
    "    marker=dict(size=14)\n",
    ")\n",
    "\n",
    "fig.show()\n"
   ]
  },
  {
   "cell_type": "code",
   "execution_count": null,
   "id": "8a9b349b",
   "metadata": {},
   "outputs": [
    {
     "ename": "FileNotFoundError",
     "evalue": "[Errno 2] No such file or directory: 'API_AG.LND.PRCP.MM_DS2_en_csv_v2_4487.csv'",
     "output_type": "error",
     "traceback": [
      "\u001b[0;31m---------------------------------------------------------------------------\u001b[0m",
      "\u001b[0;31mFileNotFoundError\u001b[0m                         Traceback (most recent call last)",
      "Cell \u001b[0;32mIn[40], line 5\u001b[0m\n\u001b[1;32m      2\u001b[0m \u001b[38;5;28;01mimport\u001b[39;00m\u001b[38;5;250m \u001b[39m\u001b[38;5;21;01mplotly\u001b[39;00m\u001b[38;5;21;01m.\u001b[39;00m\u001b[38;5;21;01mexpress\u001b[39;00m\u001b[38;5;250m \u001b[39m\u001b[38;5;28;01mas\u001b[39;00m\u001b[38;5;250m \u001b[39m\u001b[38;5;21;01mpx\u001b[39;00m\n\u001b[1;32m      4\u001b[0m \u001b[38;5;66;03m# Laad de datasets\u001b[39;00m\n\u001b[0;32m----> 5\u001b[0m neerslag_df \u001b[38;5;241m=\u001b[39m \u001b[43mpd\u001b[49m\u001b[38;5;241;43m.\u001b[39;49m\u001b[43mread_csv\u001b[49m\u001b[43m(\u001b[49m\u001b[38;5;124;43m\"\u001b[39;49m\u001b[38;5;124;43mAPI_AG.LND.PRCP.MM_DS2_en_csv_v2_4487.csv\u001b[39;49m\u001b[38;5;124;43m\"\u001b[39;49m\u001b[43m,\u001b[49m\u001b[43m \u001b[49m\u001b[43mskiprows\u001b[49m\u001b[38;5;241;43m=\u001b[39;49m\u001b[38;5;241;43m4\u001b[39;49m\u001b[43m)\u001b[49m\n\u001b[1;32m      6\u001b[0m productie_df \u001b[38;5;241m=\u001b[39m pd\u001b[38;5;241m.\u001b[39mread_csv(\u001b[38;5;124m\"\u001b[39m\u001b[38;5;124mProduction_Crops_Livestock_filtered.csv\u001b[39m\u001b[38;5;124m\"\u001b[39m)\n\u001b[1;32m      8\u001b[0m \u001b[38;5;66;03m# Zet neerslagdata om naar lange vorm\u001b[39;00m\n",
      "File \u001b[0;32m/opt/anaconda3/envs/jupyterbook/lib/python3.10/site-packages/pandas/io/parsers/readers.py:1026\u001b[0m, in \u001b[0;36mread_csv\u001b[0;34m(filepath_or_buffer, sep, delimiter, header, names, index_col, usecols, dtype, engine, converters, true_values, false_values, skipinitialspace, skiprows, skipfooter, nrows, na_values, keep_default_na, na_filter, verbose, skip_blank_lines, parse_dates, infer_datetime_format, keep_date_col, date_parser, date_format, dayfirst, cache_dates, iterator, chunksize, compression, thousands, decimal, lineterminator, quotechar, quoting, doublequote, escapechar, comment, encoding, encoding_errors, dialect, on_bad_lines, delim_whitespace, low_memory, memory_map, float_precision, storage_options, dtype_backend)\u001b[0m\n\u001b[1;32m   1013\u001b[0m kwds_defaults \u001b[38;5;241m=\u001b[39m _refine_defaults_read(\n\u001b[1;32m   1014\u001b[0m     dialect,\n\u001b[1;32m   1015\u001b[0m     delimiter,\n\u001b[0;32m   (...)\u001b[0m\n\u001b[1;32m   1022\u001b[0m     dtype_backend\u001b[38;5;241m=\u001b[39mdtype_backend,\n\u001b[1;32m   1023\u001b[0m )\n\u001b[1;32m   1024\u001b[0m kwds\u001b[38;5;241m.\u001b[39mupdate(kwds_defaults)\n\u001b[0;32m-> 1026\u001b[0m \u001b[38;5;28;01mreturn\u001b[39;00m \u001b[43m_read\u001b[49m\u001b[43m(\u001b[49m\u001b[43mfilepath_or_buffer\u001b[49m\u001b[43m,\u001b[49m\u001b[43m \u001b[49m\u001b[43mkwds\u001b[49m\u001b[43m)\u001b[49m\n",
      "File \u001b[0;32m/opt/anaconda3/envs/jupyterbook/lib/python3.10/site-packages/pandas/io/parsers/readers.py:620\u001b[0m, in \u001b[0;36m_read\u001b[0;34m(filepath_or_buffer, kwds)\u001b[0m\n\u001b[1;32m    617\u001b[0m _validate_names(kwds\u001b[38;5;241m.\u001b[39mget(\u001b[38;5;124m\"\u001b[39m\u001b[38;5;124mnames\u001b[39m\u001b[38;5;124m\"\u001b[39m, \u001b[38;5;28;01mNone\u001b[39;00m))\n\u001b[1;32m    619\u001b[0m \u001b[38;5;66;03m# Create the parser.\u001b[39;00m\n\u001b[0;32m--> 620\u001b[0m parser \u001b[38;5;241m=\u001b[39m \u001b[43mTextFileReader\u001b[49m\u001b[43m(\u001b[49m\u001b[43mfilepath_or_buffer\u001b[49m\u001b[43m,\u001b[49m\u001b[43m \u001b[49m\u001b[38;5;241;43m*\u001b[39;49m\u001b[38;5;241;43m*\u001b[39;49m\u001b[43mkwds\u001b[49m\u001b[43m)\u001b[49m\n\u001b[1;32m    622\u001b[0m \u001b[38;5;28;01mif\u001b[39;00m chunksize \u001b[38;5;129;01mor\u001b[39;00m iterator:\n\u001b[1;32m    623\u001b[0m     \u001b[38;5;28;01mreturn\u001b[39;00m parser\n",
      "File \u001b[0;32m/opt/anaconda3/envs/jupyterbook/lib/python3.10/site-packages/pandas/io/parsers/readers.py:1620\u001b[0m, in \u001b[0;36mTextFileReader.__init__\u001b[0;34m(self, f, engine, **kwds)\u001b[0m\n\u001b[1;32m   1617\u001b[0m     \u001b[38;5;28mself\u001b[39m\u001b[38;5;241m.\u001b[39moptions[\u001b[38;5;124m\"\u001b[39m\u001b[38;5;124mhas_index_names\u001b[39m\u001b[38;5;124m\"\u001b[39m] \u001b[38;5;241m=\u001b[39m kwds[\u001b[38;5;124m\"\u001b[39m\u001b[38;5;124mhas_index_names\u001b[39m\u001b[38;5;124m\"\u001b[39m]\n\u001b[1;32m   1619\u001b[0m \u001b[38;5;28mself\u001b[39m\u001b[38;5;241m.\u001b[39mhandles: IOHandles \u001b[38;5;241m|\u001b[39m \u001b[38;5;28;01mNone\u001b[39;00m \u001b[38;5;241m=\u001b[39m \u001b[38;5;28;01mNone\u001b[39;00m\n\u001b[0;32m-> 1620\u001b[0m \u001b[38;5;28mself\u001b[39m\u001b[38;5;241m.\u001b[39m_engine \u001b[38;5;241m=\u001b[39m \u001b[38;5;28;43mself\u001b[39;49m\u001b[38;5;241;43m.\u001b[39;49m\u001b[43m_make_engine\u001b[49m\u001b[43m(\u001b[49m\u001b[43mf\u001b[49m\u001b[43m,\u001b[49m\u001b[43m \u001b[49m\u001b[38;5;28;43mself\u001b[39;49m\u001b[38;5;241;43m.\u001b[39;49m\u001b[43mengine\u001b[49m\u001b[43m)\u001b[49m\n",
      "File \u001b[0;32m/opt/anaconda3/envs/jupyterbook/lib/python3.10/site-packages/pandas/io/parsers/readers.py:1880\u001b[0m, in \u001b[0;36mTextFileReader._make_engine\u001b[0;34m(self, f, engine)\u001b[0m\n\u001b[1;32m   1878\u001b[0m     \u001b[38;5;28;01mif\u001b[39;00m \u001b[38;5;124m\"\u001b[39m\u001b[38;5;124mb\u001b[39m\u001b[38;5;124m\"\u001b[39m \u001b[38;5;129;01mnot\u001b[39;00m \u001b[38;5;129;01min\u001b[39;00m mode:\n\u001b[1;32m   1879\u001b[0m         mode \u001b[38;5;241m+\u001b[39m\u001b[38;5;241m=\u001b[39m \u001b[38;5;124m\"\u001b[39m\u001b[38;5;124mb\u001b[39m\u001b[38;5;124m\"\u001b[39m\n\u001b[0;32m-> 1880\u001b[0m \u001b[38;5;28mself\u001b[39m\u001b[38;5;241m.\u001b[39mhandles \u001b[38;5;241m=\u001b[39m \u001b[43mget_handle\u001b[49m\u001b[43m(\u001b[49m\n\u001b[1;32m   1881\u001b[0m \u001b[43m    \u001b[49m\u001b[43mf\u001b[49m\u001b[43m,\u001b[49m\n\u001b[1;32m   1882\u001b[0m \u001b[43m    \u001b[49m\u001b[43mmode\u001b[49m\u001b[43m,\u001b[49m\n\u001b[1;32m   1883\u001b[0m \u001b[43m    \u001b[49m\u001b[43mencoding\u001b[49m\u001b[38;5;241;43m=\u001b[39;49m\u001b[38;5;28;43mself\u001b[39;49m\u001b[38;5;241;43m.\u001b[39;49m\u001b[43moptions\u001b[49m\u001b[38;5;241;43m.\u001b[39;49m\u001b[43mget\u001b[49m\u001b[43m(\u001b[49m\u001b[38;5;124;43m\"\u001b[39;49m\u001b[38;5;124;43mencoding\u001b[39;49m\u001b[38;5;124;43m\"\u001b[39;49m\u001b[43m,\u001b[49m\u001b[43m \u001b[49m\u001b[38;5;28;43;01mNone\u001b[39;49;00m\u001b[43m)\u001b[49m\u001b[43m,\u001b[49m\n\u001b[1;32m   1884\u001b[0m \u001b[43m    \u001b[49m\u001b[43mcompression\u001b[49m\u001b[38;5;241;43m=\u001b[39;49m\u001b[38;5;28;43mself\u001b[39;49m\u001b[38;5;241;43m.\u001b[39;49m\u001b[43moptions\u001b[49m\u001b[38;5;241;43m.\u001b[39;49m\u001b[43mget\u001b[49m\u001b[43m(\u001b[49m\u001b[38;5;124;43m\"\u001b[39;49m\u001b[38;5;124;43mcompression\u001b[39;49m\u001b[38;5;124;43m\"\u001b[39;49m\u001b[43m,\u001b[49m\u001b[43m \u001b[49m\u001b[38;5;28;43;01mNone\u001b[39;49;00m\u001b[43m)\u001b[49m\u001b[43m,\u001b[49m\n\u001b[1;32m   1885\u001b[0m \u001b[43m    \u001b[49m\u001b[43mmemory_map\u001b[49m\u001b[38;5;241;43m=\u001b[39;49m\u001b[38;5;28;43mself\u001b[39;49m\u001b[38;5;241;43m.\u001b[39;49m\u001b[43moptions\u001b[49m\u001b[38;5;241;43m.\u001b[39;49m\u001b[43mget\u001b[49m\u001b[43m(\u001b[49m\u001b[38;5;124;43m\"\u001b[39;49m\u001b[38;5;124;43mmemory_map\u001b[39;49m\u001b[38;5;124;43m\"\u001b[39;49m\u001b[43m,\u001b[49m\u001b[43m \u001b[49m\u001b[38;5;28;43;01mFalse\u001b[39;49;00m\u001b[43m)\u001b[49m\u001b[43m,\u001b[49m\n\u001b[1;32m   1886\u001b[0m \u001b[43m    \u001b[49m\u001b[43mis_text\u001b[49m\u001b[38;5;241;43m=\u001b[39;49m\u001b[43mis_text\u001b[49m\u001b[43m,\u001b[49m\n\u001b[1;32m   1887\u001b[0m \u001b[43m    \u001b[49m\u001b[43merrors\u001b[49m\u001b[38;5;241;43m=\u001b[39;49m\u001b[38;5;28;43mself\u001b[39;49m\u001b[38;5;241;43m.\u001b[39;49m\u001b[43moptions\u001b[49m\u001b[38;5;241;43m.\u001b[39;49m\u001b[43mget\u001b[49m\u001b[43m(\u001b[49m\u001b[38;5;124;43m\"\u001b[39;49m\u001b[38;5;124;43mencoding_errors\u001b[39;49m\u001b[38;5;124;43m\"\u001b[39;49m\u001b[43m,\u001b[49m\u001b[43m \u001b[49m\u001b[38;5;124;43m\"\u001b[39;49m\u001b[38;5;124;43mstrict\u001b[39;49m\u001b[38;5;124;43m\"\u001b[39;49m\u001b[43m)\u001b[49m\u001b[43m,\u001b[49m\n\u001b[1;32m   1888\u001b[0m \u001b[43m    \u001b[49m\u001b[43mstorage_options\u001b[49m\u001b[38;5;241;43m=\u001b[39;49m\u001b[38;5;28;43mself\u001b[39;49m\u001b[38;5;241;43m.\u001b[39;49m\u001b[43moptions\u001b[49m\u001b[38;5;241;43m.\u001b[39;49m\u001b[43mget\u001b[49m\u001b[43m(\u001b[49m\u001b[38;5;124;43m\"\u001b[39;49m\u001b[38;5;124;43mstorage_options\u001b[39;49m\u001b[38;5;124;43m\"\u001b[39;49m\u001b[43m,\u001b[49m\u001b[43m \u001b[49m\u001b[38;5;28;43;01mNone\u001b[39;49;00m\u001b[43m)\u001b[49m\u001b[43m,\u001b[49m\n\u001b[1;32m   1889\u001b[0m \u001b[43m\u001b[49m\u001b[43m)\u001b[49m\n\u001b[1;32m   1890\u001b[0m \u001b[38;5;28;01massert\u001b[39;00m \u001b[38;5;28mself\u001b[39m\u001b[38;5;241m.\u001b[39mhandles \u001b[38;5;129;01mis\u001b[39;00m \u001b[38;5;129;01mnot\u001b[39;00m \u001b[38;5;28;01mNone\u001b[39;00m\n\u001b[1;32m   1891\u001b[0m f \u001b[38;5;241m=\u001b[39m \u001b[38;5;28mself\u001b[39m\u001b[38;5;241m.\u001b[39mhandles\u001b[38;5;241m.\u001b[39mhandle\n",
      "File \u001b[0;32m/opt/anaconda3/envs/jupyterbook/lib/python3.10/site-packages/pandas/io/common.py:873\u001b[0m, in \u001b[0;36mget_handle\u001b[0;34m(path_or_buf, mode, encoding, compression, memory_map, is_text, errors, storage_options)\u001b[0m\n\u001b[1;32m    868\u001b[0m \u001b[38;5;28;01melif\u001b[39;00m \u001b[38;5;28misinstance\u001b[39m(handle, \u001b[38;5;28mstr\u001b[39m):\n\u001b[1;32m    869\u001b[0m     \u001b[38;5;66;03m# Check whether the filename is to be opened in binary mode.\u001b[39;00m\n\u001b[1;32m    870\u001b[0m     \u001b[38;5;66;03m# Binary mode does not support 'encoding' and 'newline'.\u001b[39;00m\n\u001b[1;32m    871\u001b[0m     \u001b[38;5;28;01mif\u001b[39;00m ioargs\u001b[38;5;241m.\u001b[39mencoding \u001b[38;5;129;01mand\u001b[39;00m \u001b[38;5;124m\"\u001b[39m\u001b[38;5;124mb\u001b[39m\u001b[38;5;124m\"\u001b[39m \u001b[38;5;129;01mnot\u001b[39;00m \u001b[38;5;129;01min\u001b[39;00m ioargs\u001b[38;5;241m.\u001b[39mmode:\n\u001b[1;32m    872\u001b[0m         \u001b[38;5;66;03m# Encoding\u001b[39;00m\n\u001b[0;32m--> 873\u001b[0m         handle \u001b[38;5;241m=\u001b[39m \u001b[38;5;28;43mopen\u001b[39;49m\u001b[43m(\u001b[49m\n\u001b[1;32m    874\u001b[0m \u001b[43m            \u001b[49m\u001b[43mhandle\u001b[49m\u001b[43m,\u001b[49m\n\u001b[1;32m    875\u001b[0m \u001b[43m            \u001b[49m\u001b[43mioargs\u001b[49m\u001b[38;5;241;43m.\u001b[39;49m\u001b[43mmode\u001b[49m\u001b[43m,\u001b[49m\n\u001b[1;32m    876\u001b[0m \u001b[43m            \u001b[49m\u001b[43mencoding\u001b[49m\u001b[38;5;241;43m=\u001b[39;49m\u001b[43mioargs\u001b[49m\u001b[38;5;241;43m.\u001b[39;49m\u001b[43mencoding\u001b[49m\u001b[43m,\u001b[49m\n\u001b[1;32m    877\u001b[0m \u001b[43m            \u001b[49m\u001b[43merrors\u001b[49m\u001b[38;5;241;43m=\u001b[39;49m\u001b[43merrors\u001b[49m\u001b[43m,\u001b[49m\n\u001b[1;32m    878\u001b[0m \u001b[43m            \u001b[49m\u001b[43mnewline\u001b[49m\u001b[38;5;241;43m=\u001b[39;49m\u001b[38;5;124;43m\"\u001b[39;49m\u001b[38;5;124;43m\"\u001b[39;49m\u001b[43m,\u001b[49m\n\u001b[1;32m    879\u001b[0m \u001b[43m        \u001b[49m\u001b[43m)\u001b[49m\n\u001b[1;32m    880\u001b[0m     \u001b[38;5;28;01melse\u001b[39;00m:\n\u001b[1;32m    881\u001b[0m         \u001b[38;5;66;03m# Binary mode\u001b[39;00m\n\u001b[1;32m    882\u001b[0m         handle \u001b[38;5;241m=\u001b[39m \u001b[38;5;28mopen\u001b[39m(handle, ioargs\u001b[38;5;241m.\u001b[39mmode)\n",
      "\u001b[0;31mFileNotFoundError\u001b[0m: [Errno 2] No such file or directory: 'API_AG.LND.PRCP.MM_DS2_en_csv_v2_4487.csv'"
     ]
    }
   ],
   "source": [
    "import pandas as pd\n",
    "import plotly.express as px\n",
    "\n",
    "# Laad de datasets\n",
    "neerslag_df = pd.read_csv(\"datasets/API_AG.LND.PRCP.MM_DS2_en_csv_v2_4487.csv\", skiprows=4)\n",
    "productie_df = pd.read_csv(\"datasets/Production_Crops_Livestock_filtered.csv\")\n",
    "\n",
    "# Zet neerslagdata om naar lange vorm\n",
    "neerslag_long = neerslag_df.melt(\n",
    "    id_vars=[\"Country Name\", \"Country Code\", \"Indicator Name\", \"Indicator Code\"],\n",
    "    var_name=\"Year\",\n",
    "    value_name=\"Precipitation_mm\"\n",
    ")\n",
    "neerslag_long = neerslag_long[[\"Country Name\", \"Year\", \"Precipitation_mm\"]]\n",
    "neerslag_long[\"Year\"] = pd.to_numeric(neerslag_long[\"Year\"], errors=\"coerce\")\n",
    "neerslag_long = neerslag_long.dropna(subset=[\"Year\", \"Precipitation_mm\"])\n",
    "neerslag_long[\"Country Name\"] = neerslag_long[\"Country Name\"].replace({\n",
    "    \"United States\": \"United States of America\"\n",
    "})\n",
    "\n",
    "# Verwerk productiedata\n",
    "productie_filtered = productie_df[productie_df[\"Element\"] == \"Production\"]\n",
    "productie_aggregated = productie_filtered.groupby([\"Area\", \"Year\"])[\"Value\"].sum().reset_index()\n",
    "productie_aggregated.rename(columns={\"Area\": \"Country Name\", \"Value\": \"Production_tonnes\"}, inplace=True)\n",
    "productie_aggregated[\"Year\"] = pd.to_numeric(productie_aggregated[\"Year\"], errors=\"coerce\")\n",
    "productie_aggregated[\"Country Name\"] = productie_aggregated[\"Country Name\"].replace({\n",
    "    \"Netherlands (Kingdom of the)\": \"Netherlands\"\n",
    "})\n",
    "\n",
    "# Merge datasets\n",
    "productie_neerslag_df = pd.merge(neerslag_long, productie_aggregated, on=[\"Country Name\", \"Year\"])\n",
    "\n",
    "# Filter op de 7 landen\n",
    "landen_selectie = [\n",
    "    \"Nigeria\", \"South Africa\", \"India\", \"Japan\",\n",
    "    \"United States of America\", \"Brazil\", \"Indonesia\"\n",
    "]\n",
    "productie_neerslag_df = productie_neerslag_df[productie_neerslag_df[\"Country Name\"].isin(landen_selectie)]\n",
    "\n",
    "# Maak scatterplot met animatie\n",
    "fig = px.scatter(\n",
    "    productie_neerslag_df,\n",
    "    x=\"Precipitation_mm\",\n",
    "    y=\"Production_tonnes\",\n",
    "    animation_frame=\"Year\",\n",
    "    color=\"Country Name\",\n",
    "    text=\"Country Name\",\n",
    "    hover_name=\"Country Name\",\n",
    "    title=\"Voedselproductie vs Neerslag per Jaar (7 landen)\",\n",
    "    labels={\n",
    "        \"Precipitation_mm\": \"Neerslag (mm/jaar)\",\n",
    "        \"Production_tonnes\": \"Totale voedselproductie (ton)\"\n",
    "    }\n",
    ")\n",
    "\n",
    "fig.update_traces(\n",
    "    textposition='top center',\n",
    "    marker=dict(size=14)\n",
    ")\n",
    "\n",
    "fig.show()\n"
   ]
  }
 ],
 "metadata": {
  "kernelspec": {
   "display_name": "jupyterbook",
   "language": "python",
   "name": "python3"
  },
  "language_info": {
   "codemirror_mode": {
    "name": "ipython",
    "version": 3
   },
   "file_extension": ".py",
   "mimetype": "text/x-python",
   "name": "python",
   "nbconvert_exporter": "python",
   "pygments_lexer": "ipython3",
   "version": "3.10.16"
  }
 },
 "nbformat": 4,
 "nbformat_minor": 5
}
