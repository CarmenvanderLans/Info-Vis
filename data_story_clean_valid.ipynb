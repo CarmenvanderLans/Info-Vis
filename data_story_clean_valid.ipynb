{
 "cells": [
  {
   "cell_type": "markdown",
   "id": "4d5c5de0",
   "metadata": {},
   "source": [
    "\n",
    "# De Dubbele Last: Klimaatverandering, CO2-uitstoot en de Impact op Wereldwijde Voedselzekerheid\n",
    "\n",
    "Klimaatverandering laat zich op veel manieren zien. De stijging van de wereldwijde temperatuur en het toenemende aantal extreme weersomstandigheden zijn daar de bekendste voorbeelden van. Deze veranderingen worden grotendeels veroorzaakt door menselijke CO2-uitstoot.  \n",
    "Maar de gevolgen raken niet alleen het klimaat. Ze hebben ook directe en vaak oneerlijke impact op mensen, vooral op het gebied van voedselzekerheid. In dit project onderzoeken we het verband tussen de oorzaak (uitstoot) en het gevolg (voedselproductie), en hoe deze geografisch en sociaal verdeeld zijn.  \n",
    "\n",
    "We gebruiken hiervoor twee datasets:  \n",
    "- een uitgebreide dataset van Our World in Data over CO2-uitstoot per land, per jaar en per sector;  \n",
    "- en een dataset van de FAO over wereldwijde gewasopbrengsten, uitgesplitst per gewas, land en jaar.  \n",
    "\n",
    "Om dit grotere verhaal te onderzoeken, bekijken we de data vanuit twee afzonderlijke perspectieven: eerst de wereldwijde uitstoot, vervolgens de ontwikkeling van landbouwopbrengsten.\n",
    "\n",
    "## Perspectief 1 – Wie is verantwoordelijk voor de wereldwijde CO2-uitstoot?\n",
    "\n",
    "In dit perspectief richten we ons op de oorzaakkant van klimaatverandering: de uitstoot van CO2. De centrale vraag is: hoe is de wereldwijde uitstoot verdeeld, en wat valt daarin op als je kijkt naar tijd, landen, bevolkingsgrootte en economische activiteit?  \n",
    "We gebruiken hiervoor de CO2-dataset van Our World in Data, die data bevat vanaf 1750 tot nu. Deze dataset geeft ons per land en per jaar informatie over:  \n",
    "- totale CO2-uitstoot  \n",
    "- uitstoot per hoofd van de bevolking  \n",
    "- uitstoot uitgesplitst naar bron (bijv. kolen, olie, gas, cement, flaring)  \n",
    "- bevolkingscijfers  \n",
    "- enkele sociaaleconomische indicatoren\n",
    "\n",
    "**Wat we willen laten zien (onze argumenten):**\n",
    "- Absolute uitstootverschillen tussen landen  \n",
    "- Uiteenlopende uitstoot per hoofd van de bevolking  \n",
    "- Ontwikkeling van wereldwijde uitstoot over de tijd  \n",
    "- Belangrijkste economische bronnen van uitstoot  \n",
    "\n",
    "**Visualisaties die we hierbij inzetten:**  \n",
    "- Staafdiagrammen voor ranglijsten van landen (absoluut en per hoofd)  \n",
    "- Tijdreeksen van uitstootontwikkeling per land en wereldwijd  \n",
    "- Geografische kaarten van uitstoot per land  \n",
    "- Stacked bar charts voor uitstoot per sector of bron\n",
    "\n",
    "> We doen in dit perspectief géén uitspraken over gevolgen of ethische vragen. We onderzoeken hier puur: wie, wanneer en hoe veel uitstoot produceert — en wat daarvan zichtbaar wordt in de data.\n",
    "\n",
    "## Perspectief 2 – Hoe ontwikkelt de voedselproductie zich wereldwijd over tijd en per regio?\n",
    "\n",
    "In dit perspectief kijken we niet naar oorzaken, maar puur naar de productie van voedsel. Meer specifiek: hoe ontwikkelen de opbrengsten van belangrijke gewassen zich over tijd en per regio?  \n",
    "We gebruiken hiervoor de gewasopbrengst-dataset van de FAO (Food and Agriculture Organization). Deze dataset bevat per land, gewas en jaar:\n",
    "- totale productie  \n",
    "- opbrengst per hectare  \n",
    "- totaal geoogst areaal\n",
    "\n",
    "**We focussen op gewassen als rijst, maïs, tarwe en soja.**\n",
    "\n",
    "**Wat we willen laten zien – onze argumenten:**\n",
    "- Trends in opbrengst over tijd  \n",
    "- Verschillen tussen regio’s of landen  \n",
    "- Onderscheid tussen gewassen  \n",
    "- Structurele instabiliteit in opbrengsten  \n",
    "\n",
    "**Visualisaties die we hierbij inzetten:**\n",
    "- Tijdreeksen van opbrengst per gewas en per land  \n",
    "- Vergelijkende staafdiagrammen per gewas/regio  \n",
    "- Geografische kaarten van gemiddelde opbrengst per gewas  \n",
    "- Boxplots of spreidingsdiagrammen voor fluctuaties in opbrengst  \n",
    "\n",
    "> In dit perspectief blijven we bij wat de data zelf laat zien: we doen bewust géén uitspraken over oorzaken.\n"
   ]
  },
  {
   "cell_type": "code",
   "execution_count": null,
   "id": "e17c52ed",
   "metadata": {},
   "outputs": [],
   "source": [
    "# TODO: Voeg hier visualisatie toe van landen met hoogste CO2-uitstoot"
   ]
  },
  {
   "cell_type": "code",
   "execution_count": null,
   "id": "2c995c42",
   "metadata": {},
   "outputs": [],
   "source": [
    "# TODO: Voeg hier visualisatie toe van uitstoot per hoofd van de bevolking"
   ]
  },
  {
   "cell_type": "code",
   "execution_count": null,
   "id": "fc99e130",
   "metadata": {},
   "outputs": [],
   "source": [
    "# TODO: Voeg hier visualisatie toe van China's uitstoot door de tijd"
   ]
  }
 ],
 "metadata": {},
 "nbformat": 4,
 "nbformat_minor": 5
}
